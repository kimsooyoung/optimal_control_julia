{
 "cells": [
  {
   "cell_type": "code",
   "execution_count": 1,
   "metadata": {},
   "outputs": [
    {
     "name": "stderr",
     "output_type": "stream",
     "text": [
      "\u001b[32m\u001b[1m  Activating\u001b[22m\u001b[39m environment at `~/Documents/optimal_control_julia/lec_5/Project.toml`\n"
     ]
    }
   ],
   "source": [
    "import Pkg; Pkg.activate(@__DIR__); Pkg.instantiate()"
   ]
  },
  {
   "cell_type": "code",
   "execution_count": 2,
   "metadata": {},
   "outputs": [
    {
     "ename": "LoadError",
     "evalue": "InitError: Failed to import required Python module matplotlib.\n\nFor automated matplotlib installation, try configuring PyCall to use the Conda.jl package's Python \"Miniconda\" distribution within Julia. Relaunch Julia and run:\n    ENV[\"PYTHON\"]=\"\"\n    Pkg.build(\"PyCall\")\nbefore trying again.\n\nNote that Conda.jl can use custom conda environment. Read more about `CONDA_JL_HOME` configuration in Conda.jl documentation:\n    https://github.com/JuliaPy/Conda.jl\n\nTo install matplotlib using /home/kimsooyoung/.julia/conda/3/x86_64/bin/conda, you can run the following command from your system shell:\n    /home/kimsooyoung/.julia/conda/3/x86_64/bin/conda install matplotlib\n\nThe pyimport exception was: PyError (PyImport_ImportModule\n\nThe Python package matplotlib could not be imported by pyimport. Usually this means\nthat you did not install matplotlib in the Python version being used by PyCall.\n\nPyCall is currently configured to use the Python version at:\n\n/home/kimsooyoung/.julia/conda/3/x86_64/bin/python3\n\nand you should use whatever mechanism you usually use (apt-get, pip, conda,\netcetera) to install the Python package containing the matplotlib module.\n\nOne alternative is to re-configure PyCall to use a different Python\nversion on your system: set ENV[\"PYTHON\"] to the path/name of the python\nexecutable you want to use, run Pkg.build(\"PyCall\"), and re-launch Julia.\n\nAnother alternative is to configure PyCall to use a Julia-specific Python\ndistribution via the Conda.jl package (which installs a private Anaconda\nPython distribution), which has the advantage that packages can be installed\nand kept up-to-date via Julia.  As explained in the PyCall documentation,\nset ENV[\"PYTHON\"]=\"\", run Pkg.build(\"PyCall\"), and re-launch Julia. Then,\nTo install the matplotlib module, you can use `pyimport_conda(\"matplotlib\", PKG)`,\nwhere PKG is the Anaconda package that contains the module matplotlib,\nor alternatively you can use the Conda package directly (via\n`using Conda` followed by `Conda.add` etcetera).\n\n) <class 'ModuleNotFoundError'>\nModuleNotFoundError(\"No module named 'matplotlib'\")\n\n\nduring initialization of module PyPlot",
     "output_type": "error",
     "traceback": [
      "InitError: Failed to import required Python module matplotlib.\n\nFor automated matplotlib installation, try configuring PyCall to use the Conda.jl package's Python \"Miniconda\" distribution within Julia. Relaunch Julia and run:\n    ENV[\"PYTHON\"]=\"\"\n    Pkg.build(\"PyCall\")\nbefore trying again.\n\nNote that Conda.jl can use custom conda environment. Read more about `CONDA_JL_HOME` configuration in Conda.jl documentation:\n    https://github.com/JuliaPy/Conda.jl\n\nTo install matplotlib using /home/kimsooyoung/.julia/conda/3/x86_64/bin/conda, you can run the following command from your system shell:\n    /home/kimsooyoung/.julia/conda/3/x86_64/bin/conda install matplotlib\n\nThe pyimport exception was: PyError (PyImport_ImportModule\n\nThe Python package matplotlib could not be imported by pyimport. Usually this means\nthat you did not install matplotlib in the Python version being used by PyCall.\n\nPyCall is currently configured to use the Python version at:\n\n/home/kimsooyoung/.julia/conda/3/x86_64/bin/python3\n\nand you should use whatever mechanism you usually use (apt-get, pip, conda,\netcetera) to install the Python package containing the matplotlib module.\n\nOne alternative is to re-configure PyCall to use a different Python\nversion on your system: set ENV[\"PYTHON\"] to the path/name of the python\nexecutable you want to use, run Pkg.build(\"PyCall\"), and re-launch Julia.\n\nAnother alternative is to configure PyCall to use a Julia-specific Python\ndistribution via the Conda.jl package (which installs a private Anaconda\nPython distribution), which has the advantage that packages can be installed\nand kept up-to-date via Julia.  As explained in the PyCall documentation,\nset ENV[\"PYTHON\"]=\"\", run Pkg.build(\"PyCall\"), and re-launch Julia. Then,\nTo install the matplotlib module, you can use `pyimport_conda(\"matplotlib\", PKG)`,\nwhere PKG is the Anaconda package that contains the module matplotlib,\nor alternatively you can use the Conda package directly (via\n`using Conda` followed by `Conda.add` etcetera).\n\n) <class 'ModuleNotFoundError'>\nModuleNotFoundError(\"No module named 'matplotlib'\")\n\n\nduring initialization of module PyPlot",
      "",
      "Stacktrace:",
      " [1] error(s::String)",
      "   @ Base ./error.jl:33",
      " [2] pyimport_conda(modulename::String, condapkg::String, channel::String)",
      "   @ PyCall ~/.julia/packages/PyCall/1gn3u/src/PyCall.jl:735",
      " [3] pyimport_conda",
      "   @ ~/.julia/packages/PyCall/1gn3u/src/PyCall.jl:715 [inlined]",
      " [4] __init__()",
      "   @ PyPlot ~/.julia/packages/PyPlot/2MlrT/src/init.jl:174",
      " [5] _include_from_serialized(path::String, depmods::Vector{Any})",
      "   @ Base ./loading.jl:696",
      " [6] _require_search_from_serialized(pkg::Base.PkgId, sourcepath::String)",
      "   @ Base ./loading.jl:782",
      " [7] _require(pkg::Base.PkgId)",
      "   @ Base ./loading.jl:1020",
      " [8] require(uuidkey::Base.PkgId)",
      "   @ Base ./loading.jl:936",
      " [9] require(into::Module, mod::Symbol)",
      "   @ Base ./loading.jl:923"
     ]
    }
   ],
   "source": [
    "using LinearAlgebra\n",
    "using ForwardDiff\n",
    "using PyPlot"
   ]
  },
  {
   "cell_type": "code",
   "execution_count": 3,
   "metadata": {},
   "outputs": [
    {
     "data": {
      "text/plain": [
       "∇2f (generic function with 1 method)"
      ]
     },
     "execution_count": 3,
     "metadata": {},
     "output_type": "execute_result"
    }
   ],
   "source": [
    "Q = Diagonal([0.5; 1])\n",
    "function f(x)\n",
    "    return 0.5*(x-[1; 0])'*Q*(x-[1; 0])\n",
    "end\n",
    "function ∇f(x)\n",
    "    return Q*(x-[1; 0])\n",
    "end\n",
    "function ∇2f(x)\n",
    "    return Q\n",
    "end"
   ]
  },
  {
   "cell_type": "code",
   "execution_count": 4,
   "metadata": {},
   "outputs": [
    {
     "data": {
      "text/plain": [
       "∂c (generic function with 1 method)"
      ]
     },
     "execution_count": 4,
     "metadata": {},
     "output_type": "execute_result"
    }
   ],
   "source": [
    "function c(x)\n",
    "    return x[1]^2 + 2*x[1] - x[2]\n",
    "end\n",
    "function ∂c(x)\n",
    "    return [2*x[1]+2 -1]\n",
    "end"
   ]
  },
  {
   "cell_type": "code",
   "execution_count": 5,
   "metadata": {},
   "outputs": [
    {
     "ename": "LoadError",
     "evalue": "UndefVarError: contour not defined",
     "output_type": "error",
     "traceback": [
      "UndefVarError: contour not defined",
      "",
      "Stacktrace:",
      " [1] plot_landscape()",
      "   @ Main ./In[5]:11",
      " [2] top-level scope",
      "   @ In[5]:16"
     ]
    }
   ],
   "source": [
    "function plot_landscape()\n",
    "    Nsamp = 20\n",
    "    Xsamp = kron(ones(Nsamp),LinRange(-4,4,Nsamp)')\n",
    "    Ysamp = kron(ones(Nsamp)',LinRange(-4,4,Nsamp))\n",
    "    Zsamp = zeros(Nsamp,Nsamp)\n",
    "    for j = 1:Nsamp\n",
    "        for k = 1:Nsamp\n",
    "            Zsamp[j,k] = f([Xsamp[j,k]; Ysamp[j,k]])\n",
    "        end\n",
    "    end\n",
    "    contour(Xsamp,Ysamp,Zsamp)\n",
    "\n",
    "    xc = LinRange(-3.2,1.2,Nsamp)\n",
    "    plot(xc,xc.^2+2.0.*xc,\"y\")\n",
    "end\n",
    "plot_landscape()"
   ]
  },
  {
   "cell_type": "code",
   "execution_count": null,
   "metadata": {},
   "outputs": [],
   "source": [
    "function gauss_newton_step(x,λ)\n",
    "    H = ∇2f(x)\n",
    "    C = ∂c(x)\n",
    "    Δz = [H C'; C 0]\\[-∇f(x)-C'*λ; -c(x)]\n",
    "    Δx = Δz[1:2]\n",
    "    Δλ = Δz[3]\n",
    "    return Δx, Δλ\n",
    "end"
   ]
  },
  {
   "cell_type": "code",
   "execution_count": null,
   "metadata": {},
   "outputs": [],
   "source": [
    "xguess = [-1; -1]\n",
    "λguess = [0.0]\n",
    "plot_landscape()\n",
    "plot(xguess[1], xguess[2], \"rx\")"
   ]
  },
  {
   "cell_type": "code",
   "execution_count": null,
   "metadata": {},
   "outputs": [],
   "source": [
    "Δx, Δλ = gauss_newton_step(xguess[:,end],λguess[end])\n",
    "xguess = [xguess xguess[:,end]+Δx]\n",
    "λguess = [λguess λguess[end]+Δλ]\n",
    "plot_landscape()\n",
    "plot(xguess[1,:], xguess[2,:], \"rx\")"
   ]
  },
  {
   "cell_type": "code",
   "execution_count": null,
   "metadata": {},
   "outputs": [],
   "source": [
    "function P(x,λ)\n",
    "    ∇L = [-∇f(x)-∂c(x)'*λ; -c(x)]\n",
    "    return 0.5*dot(∇L,∇L)\n",
    "end\n",
    "function ∇P(x,λ)\n",
    "    H = ∇2f(x) + ForwardDiff.jacobian(xn -> ∂c(xn)'*λ, x)\n",
    "    C = ∂c(x)\n",
    "    return [H C'; C 0]*[-∇f(x)-C'*λ; -c(x)]\n",
    "end"
   ]
  },
  {
   "cell_type": "code",
   "execution_count": null,
   "metadata": {},
   "outputs": [],
   "source": [
    "ρ = 1.0\n",
    "function P(x,λ)\n",
    "    f(x) + ρ*norm(c(x),1)\n",
    "end\n",
    "function ∇P(x,λ)\n",
    "    [∇f(x) + ρ*∂c(x)'*sign.(c(x)); zeros(length(λ))]\n",
    "end"
   ]
  },
  {
   "cell_type": "code",
   "execution_count": null,
   "metadata": {},
   "outputs": [],
   "source": [
    "ρ = 1.0\n",
    "function P(x,λ)\n",
    "    f(x) + λ'*c(x) + 0.5*ρ*dot(c(x),c(x))\n",
    "end\n",
    "function ∇P(x,λ)\n",
    "    [∇f(x) + ∂c(x)'*(λ + ρ*c(x)); c(x)]\n",
    "end"
   ]
  },
  {
   "cell_type": "code",
   "execution_count": null,
   "metadata": {},
   "outputs": [],
   "source": [
    "Δx, Δλ = gauss_newton_step(xguess[:,end],λguess[end])\n",
    "α = 1\n",
    "while P(xguess[:,end]+α*Δx, λguess[end]+α*Δλ) > P(xguess[:,end], λguess[end]) + 0.01*α*dot(∇P(xguess[:,end], λguess[end]),[Δx; Δλ])\n",
    "    α = 0.5*α\n",
    "end\n",
    "xguess = [xguess xguess[:,end]+α*Δx]\n",
    "λguess = [λguess λguess[end]+α*Δλ]\n",
    "plot_landscape()\n",
    "plot(xguess[1,:], xguess[2,:], \"rx\")\n",
    "α"
   ]
  },
  {
   "cell_type": "code",
   "execution_count": null,
   "metadata": {},
   "outputs": [],
   "source": []
  }
 ],
 "metadata": {
  "kernelspec": {
   "display_name": "Julia 1.6.7",
   "language": "julia",
   "name": "julia-1.6"
  },
  "language_info": {
   "file_extension": ".jl",
   "mimetype": "application/julia",
   "name": "julia",
   "version": "1.6.7"
  }
 },
 "nbformat": 4,
 "nbformat_minor": 4
}
