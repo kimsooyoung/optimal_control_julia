{
 "cells": [
  {
   "cell_type": "code",
   "execution_count": 1,
   "id": "659f2f78-0a8c-4e7b-8aea-487f28f94e1c",
   "metadata": {},
   "outputs": [
    {
     "name": "stderr",
     "output_type": "stream",
     "text": [
      "\u001b[32m\u001b[1m  Activating\u001b[22m\u001b[39m environment at `~/Documents/optimal_control_julia/lec_16/Project.toml`\n"
     ]
    }
   ],
   "source": [
    "import Pkg; Pkg.activate(@__DIR__); Pkg.instantiate()"
   ]
  },
  {
   "cell_type": "code",
   "execution_count": 2,
   "id": "0c43095f-17fc-4c39-b556-fd9b6092045d",
   "metadata": {},
   "outputs": [],
   "source": [
    "using LinearAlgebra\n",
    "using Plots\n",
    "using ForwardDiff\n",
    "using Ipopt\n",
    "using MathOptInterface\n",
    "const MOI = MathOptInterface;"
   ]
  },
  {
   "cell_type": "code",
   "execution_count": 3,
   "id": "78a5dc16-4de1-4ed8-b622-7377df425c32",
   "metadata": {},
   "outputs": [
    {
     "data": {
      "text/plain": [
       "9"
      ]
     },
     "execution_count": 3,
     "metadata": {},
     "output_type": "execute_result"
    }
   ],
   "source": [
    "Nx = 8     # number of state\n",
    "Nu = 2     # number of controls\n",
    "Tfinal = 4.4 # final time\n",
    "h = 0.1 #10 hz\n",
    "Nm = 5 #number of steps in each mode\n",
    "Nt = Int(ceil(Tfinal/h)+1)   # number of time steps\n",
    "Nmodes = Int(ceil(Nt/Nm))"
   ]
  },
  {
   "cell_type": "code",
   "execution_count": 4,
   "id": "19863d6e-9679-4493-b74d-1e38d6913be5",
   "metadata": {},
   "outputs": [
    {
     "data": {
      "text/plain": [
       "438"
      ]
     },
     "execution_count": 4,
     "metadata": {},
     "output_type": "execute_result"
    }
   ],
   "source": [
    "thist = Array(range(0,h*(Nt-1), step=h));\n",
    "\n",
    "n_nlp = Nx*Nt + Nu*(Nt-1) # number of decision variables\n",
    "# initial state constraint\n",
    "c_init_inds = 1:Nx\n",
    "# terminal state constraint\n",
    "c_term_inds = (c_init_inds[end]+1):(c_init_inds[end]+Nx)\n",
    "# dynamics state constraint\n",
    "c_dyn_inds = (c_term_inds[end]+1):(c_term_inds[end]+Nx*(Nt-1))\n",
    "# stance state constraint - only applied for stance phase therefore Nmodes/2\n",
    "c_stance_inds = (c_dyn_inds[end]+1):(c_dyn_inds[end]+Int(Nm*ceil(Nmodes/2)))\n",
    "# length state constraint - for all steps\n",
    "c_length_inds = (c_stance_inds[end]+1):(c_stance_inds[end]+Nt)\n",
    "m_nlp = c_length_inds[end]"
   ]
  },
  {
   "cell_type": "code",
   "execution_count": 5,
   "id": "a523ded5",
   "metadata": {},
   "outputs": [
    {
     "data": {
      "text/plain": [
       "438"
      ]
     },
     "execution_count": 5,
     "metadata": {},
     "output_type": "execute_result"
    }
   ],
   "source": [
    "thist = Array(range(0,h*(Nt-1), step=h));\n",
    "\n",
    "n_nlp = Nx*Nt + Nu*(Nt-1) # number of decision variables\n",
    "c_init_inds = 1:Nx\n",
    "c_term_inds = (c_init_inds[end]+1):(c_init_inds[end]+Nx)\n",
    "c_dyn_inds = (c_term_inds[end]+1):(c_term_inds[end]+Nx*(Nt-1))\n",
    "c_stance_inds = (c_dyn_inds[end]+1):(c_dyn_inds[end]+Int(ceil(Nmodes/2)*Nm))\n",
    "c_length_inds = (c_stance_inds[end]+1):(c_stance_inds[end]+Nt)\n",
    "m_nlp = c_length_inds[end]"
   ]
  },
  {
   "cell_type": "markdown",
   "id": "5ca91757",
   "metadata": {},
   "source": [
    "## Hopper Dynamics"
   ]
  },
  {
   "cell_type": "code",
   "execution_count": 6,
   "id": "749ccd4a",
   "metadata": {},
   "outputs": [
    {
     "data": {
      "text/plain": [
       "stance_dynamics (generic function with 1 method)"
      ]
     },
     "execution_count": 6,
     "metadata": {},
     "output_type": "execute_result"
    }
   ],
   "source": [
    "g = 9.81\n",
    "m1 = 5.0 #body mass\n",
    "m2 = 1.0 #foot mass\n",
    "ℓ_min = 0.5 #minimum length\n",
    "ℓ_max = 1.5 #maximum length\n",
    "\n",
    "function flight_dynamics(x,u)\n",
    "    M = Diagonal([m1 m1 m2 m2])\n",
    "    \n",
    "    r1 = x[1:2]\n",
    "    r2 = x[3:4]\n",
    "    v = x[5:8]\n",
    "    \n",
    "    ℓ1 = (r1[1]-r2[1])/norm(r1-r2)\n",
    "    ℓ2 = (r1[2]-r2[2])/norm(r1-r2)\n",
    "    B = [ℓ1  ℓ2;\n",
    "         ℓ2 -ℓ1;\n",
    "        -ℓ1 -ℓ2;\n",
    "        -ℓ2  ℓ1]\n",
    "    \n",
    "    v̇ = [0; -g; 0; -g] + M\\(B*u)\n",
    "    \n",
    "    ẋ = [v; v̇]\n",
    "end\n",
    "\n",
    "function stance_dynamics(x,u)\n",
    "    m1 = 5.0 #body mass\n",
    "    m2 = 1.0 #foot mass\n",
    "    M = Diagonal([m1 m1 m2 m2])\n",
    "    g = 9.81\n",
    "    \n",
    "    r1 = x[1:2]\n",
    "    r2 = x[3:4]\n",
    "    v = x[5:8]\n",
    "    \n",
    "    ℓ1 = (r1[1]-r2[1])/norm(r1-r2)\n",
    "    ℓ2 = (r1[2]-r2[2])/norm(r1-r2)\n",
    "    B = [ℓ1  ℓ2;\n",
    "         ℓ2 -ℓ1;\n",
    "         0   0;\n",
    "         0   0]\n",
    "    \n",
    "    v̇ = [0; -g; 0; 0] + M\\(B*u)\n",
    "    \n",
    "    ẋ = [v; v̇]\n",
    "end"
   ]
  },
  {
   "cell_type": "markdown",
   "id": "68ef1828",
   "metadata": {},
   "source": [
    "## RK4 Integration for stance and swing"
   ]
  },
  {
   "cell_type": "code",
   "execution_count": 7,
   "id": "22025d8a",
   "metadata": {},
   "outputs": [
    {
     "data": {
      "text/plain": [
       "stance_dynamics_rk4 (generic function with 1 method)"
      ]
     },
     "execution_count": 7,
     "metadata": {},
     "output_type": "execute_result"
    }
   ],
   "source": [
    "function flight_dynamics_rk4(x,u)\n",
    "    #RK4 integration with zero-order hold on u\n",
    "    f1 = flight_dynamics(x, u)\n",
    "    f2 = flight_dynamics(x + 0.5*h*f1, u)\n",
    "    f3 = flight_dynamics(x + 0.5*h*f2, u)\n",
    "    f4 = flight_dynamics(x + h*f3, u)\n",
    "    return x + (h/6.0)*(f1 + 2*f2 + 2*f3 + f4)\n",
    "end\n",
    "\n",
    "function stance_dynamics_rk4(x,u)\n",
    "    #RK4 integration with zero-order hold on u\n",
    "    f1 = stance_dynamics(x, u)\n",
    "    f2 = stance_dynamics(x + 0.5*h*f1, u)\n",
    "    f3 = stance_dynamics(x + 0.5*h*f2, u)\n",
    "    f4 = stance_dynamics(x + h*f3, u)\n",
    "    return x + (h/6.0)*(f1 + 2*f2 + 2*f3 + f4)\n",
    "end"
   ]
  },
  {
   "cell_type": "markdown",
   "id": "626a4402",
   "metadata": {},
   "source": [
    "## Jump Map"
   ]
  },
  {
   "cell_type": "code",
   "execution_count": 8,
   "id": "41325cda",
   "metadata": {},
   "outputs": [
    {
     "data": {
      "text/plain": [
       "jump_map (generic function with 1 method)"
      ]
     },
     "execution_count": 8,
     "metadata": {},
     "output_type": "execute_result"
    }
   ],
   "source": [
    "function jump_map(x)\n",
    "    #Assume the foot experiences inelastic collisions\n",
    "    return [ x[1:6]; 0.0; 0.0 ]\n",
    "end"
   ]
  },
  {
   "cell_type": "markdown",
   "id": "7ab3b6e3",
   "metadata": {},
   "source": [
    "## Quadratic Cost weights"
   ]
  },
  {
   "cell_type": "code",
   "execution_count": 9,
   "id": "ab0df4ee",
   "metadata": {},
   "outputs": [
    {
     "data": {
      "text/plain": [
       "8×8 Diagonal{Float64, Vector{Float64}}:\n",
       " 1.0   ⋅    ⋅    ⋅    ⋅    ⋅    ⋅    ⋅ \n",
       "  ⋅   1.0   ⋅    ⋅    ⋅    ⋅    ⋅    ⋅ \n",
       "  ⋅    ⋅   1.0   ⋅    ⋅    ⋅    ⋅    ⋅ \n",
       "  ⋅    ⋅    ⋅   1.0   ⋅    ⋅    ⋅    ⋅ \n",
       "  ⋅    ⋅    ⋅    ⋅   1.0   ⋅    ⋅    ⋅ \n",
       "  ⋅    ⋅    ⋅    ⋅    ⋅   1.0   ⋅    ⋅ \n",
       "  ⋅    ⋅    ⋅    ⋅    ⋅    ⋅   1.0   ⋅ \n",
       "  ⋅    ⋅    ⋅    ⋅    ⋅    ⋅    ⋅   1.0"
      ]
     },
     "execution_count": 9,
     "metadata": {},
     "output_type": "execute_result"
    }
   ],
   "source": [
    "# Cost weights\n",
    "Q = Diagonal([1.0*ones(4); 1.0*ones(4)]);\n",
    "R = 0.001;\n",
    "Qn = Q"
   ]
  },
  {
   "cell_type": "markdown",
   "id": "e5c61b2c",
   "metadata": {},
   "source": [
    "## Define cost"
   ]
  },
  {
   "cell_type": "code",
   "execution_count": 10,
   "id": "08ad230e",
   "metadata": {},
   "outputs": [
    {
     "data": {
      "text/plain": [
       "cost (generic function with 1 method)"
      ]
     },
     "execution_count": 10,
     "metadata": {},
     "output_type": "execute_result"
    }
   ],
   "source": [
    "function cost(ztraj)\n",
    "    \n",
    "    z = reshape(ztraj[1:(end-Nx)],Nx+Nu,Nt-1)\n",
    "    xtraj = [z[1:Nx,:] ztraj[end-(Nx-1):end]]\n",
    "    utraj = z[(Nx+1):end,:]\n",
    "    \n",
    "    J = 0.0\n",
    "    for k in 1:(Nt-1)\n",
    "        J += 0.5*(xtraj[:,k] - xref[:,k])'*Q*(xtraj[:,k] - xref[:,k]) + 0.5*(utraj[:,k] - uref)'*R*(utraj[:,k] - uref)\n",
    "    end\n",
    "    J += 0.5*(xtraj[:,end] - xref[:,end])'*Qn*(xtraj[:,end] - xref[:,end])\n",
    "end"
   ]
  },
  {
   "cell_type": "markdown",
   "id": "bc744e73",
   "metadata": {},
   "source": [
    "## Heuristic Reference Trajectory"
   ]
  },
  {
   "cell_type": "code",
   "execution_count": 11,
   "id": "aa80316e",
   "metadata": {},
   "outputs": [],
   "source": [
    "uref = [m1*g; 0.0]\n",
    "xref = zeros(Nx,Nt)\n",
    "# body x pos\n",
    "xref[1,:] .= LinRange(-1.0,1.0,Nt)\n",
    "# body y pos\n",
    "xref[2,:] .= 1.0 .+ 0.5.*sin.(2*pi/10.0*(0:(Nt-1)));\n",
    "# foot x pos\n",
    "xref[3,:] .= LinRange(-1.0,1.0,Nt)\n",
    "# body x vel\n",
    "xref[5,2:end-1] .= (2.0/Tfinal)*ones(Nt-2)\n",
    "# foot x vel\n",
    "xref[7,2:end-1] .= (2.0/Tfinal)*ones(Nt-2);"
   ]
  },
  {
   "cell_type": "code",
   "execution_count": 12,
   "id": "e8151c3b",
   "metadata": {
    "scrolled": false
   },
   "outputs": [
    {
     "data": {
      "image/svg+xml": [
       "<?xml version=\"1.0\" encoding=\"utf-8\"?>\n",
       "<svg xmlns=\"http://www.w3.org/2000/svg\" xmlns:xlink=\"http://www.w3.org/1999/xlink\" width=\"600\" height=\"400\" viewBox=\"0 0 2400 1600\">\n",
       "<defs>\n",
       "  <clipPath id=\"clip310\">\n",
       "    <rect x=\"0\" y=\"0\" width=\"2400\" height=\"1600\"/>\n",
       "  </clipPath>\n",
       "</defs>\n",
       "<path clip-path=\"url(#clip310)\" d=\"M0 1600 L2400 1600 L2400 0 L0 0  Z\" fill=\"#ffffff\" fill-rule=\"evenodd\" fill-opacity=\"1\"/>\n",
       "<defs>\n",
       "  <clipPath id=\"clip311\">\n",
       "    <rect x=\"480\" y=\"0\" width=\"1681\" height=\"1600\"/>\n",
       "  </clipPath>\n",
       "</defs>\n",
       "<path clip-path=\"url(#clip310)\" d=\"M156.274 1486.45 L2352.76 1486.45 L2352.76 47.2441 L156.274 47.2441  Z\" fill=\"#ffffff\" fill-rule=\"evenodd\" fill-opacity=\"1\"/>\n",
       "<defs>\n",
       "  <clipPath id=\"clip312\">\n",
       "    <rect x=\"156\" y=\"47\" width=\"2197\" height=\"1440\"/>\n",
       "  </clipPath>\n",
       "</defs>\n",
       "<polyline clip-path=\"url(#clip312)\" style=\"stroke:#000000; stroke-linecap:round; stroke-linejoin:round; stroke-width:2; stroke-opacity:0.1; fill:none\" points=\"171.344,1486.45 171.344,47.2441 \"/>\n",
       "<polyline clip-path=\"url(#clip312)\" style=\"stroke:#000000; stroke-linecap:round; stroke-linejoin:round; stroke-width:2; stroke-opacity:0.1; fill:none\" points=\"642.288,1486.45 642.288,47.2441 \"/>\n",
       "<polyline clip-path=\"url(#clip312)\" style=\"stroke:#000000; stroke-linecap:round; stroke-linejoin:round; stroke-width:2; stroke-opacity:0.1; fill:none\" points=\"1113.23,1486.45 1113.23,47.2441 \"/>\n",
       "<polyline clip-path=\"url(#clip312)\" style=\"stroke:#000000; stroke-linecap:round; stroke-linejoin:round; stroke-width:2; stroke-opacity:0.1; fill:none\" points=\"1584.18,1486.45 1584.18,47.2441 \"/>\n",
       "<polyline clip-path=\"url(#clip312)\" style=\"stroke:#000000; stroke-linecap:round; stroke-linejoin:round; stroke-width:2; stroke-opacity:0.1; fill:none\" points=\"2055.12,1486.45 2055.12,47.2441 \"/>\n",
       "<polyline clip-path=\"url(#clip310)\" style=\"stroke:#000000; stroke-linecap:round; stroke-linejoin:round; stroke-width:4; stroke-opacity:1; fill:none\" points=\"156.274,1486.45 2352.76,1486.45 \"/>\n",
       "<polyline clip-path=\"url(#clip310)\" style=\"stroke:#000000; stroke-linecap:round; stroke-linejoin:round; stroke-width:4; stroke-opacity:1; fill:none\" points=\"171.344,1486.45 171.344,1467.55 \"/>\n",
       "<polyline clip-path=\"url(#clip310)\" style=\"stroke:#000000; stroke-linecap:round; stroke-linejoin:round; stroke-width:4; stroke-opacity:1; fill:none\" points=\"642.288,1486.45 642.288,1467.55 \"/>\n",
       "<polyline clip-path=\"url(#clip310)\" style=\"stroke:#000000; stroke-linecap:round; stroke-linejoin:round; stroke-width:4; stroke-opacity:1; fill:none\" points=\"1113.23,1486.45 1113.23,1467.55 \"/>\n",
       "<polyline clip-path=\"url(#clip310)\" style=\"stroke:#000000; stroke-linecap:round; stroke-linejoin:round; stroke-width:4; stroke-opacity:1; fill:none\" points=\"1584.18,1486.45 1584.18,1467.55 \"/>\n",
       "<polyline clip-path=\"url(#clip310)\" style=\"stroke:#000000; stroke-linecap:round; stroke-linejoin:round; stroke-width:4; stroke-opacity:1; fill:none\" points=\"2055.12,1486.45 2055.12,1467.55 \"/>\n",
       "<path clip-path=\"url(#clip310)\" d=\"M171.344 1517.37 Q167.733 1517.37 165.905 1520.93 Q164.099 1524.47 164.099 1531.6 Q164.099 1538.71 165.905 1542.27 Q167.733 1545.82 171.344 1545.82 Q174.979 1545.82 176.784 1542.27 Q178.613 1538.71 178.613 1531.6 Q178.613 1524.47 176.784 1520.93 Q174.979 1517.37 171.344 1517.37 M171.344 1513.66 Q177.155 1513.66 180.21 1518.27 Q183.289 1522.85 183.289 1531.6 Q183.289 1540.33 180.21 1544.94 Q177.155 1549.52 171.344 1549.52 Q165.534 1549.52 162.456 1544.94 Q159.4 1540.33 159.4 1531.6 Q159.4 1522.85 162.456 1518.27 Q165.534 1513.66 171.344 1513.66 Z\" fill=\"#000000\" fill-rule=\"nonzero\" fill-opacity=\"1\" /><path clip-path=\"url(#clip310)\" d=\"M616.976 1544.91 L624.615 1544.91 L624.615 1518.55 L616.304 1520.21 L616.304 1515.95 L624.568 1514.29 L629.244 1514.29 L629.244 1544.91 L636.883 1544.91 L636.883 1548.85 L616.976 1548.85 L616.976 1544.91 Z\" fill=\"#000000\" fill-rule=\"nonzero\" fill-opacity=\"1\" /><path clip-path=\"url(#clip310)\" d=\"M656.327 1517.37 Q652.716 1517.37 650.888 1520.93 Q649.082 1524.47 649.082 1531.6 Q649.082 1538.71 650.888 1542.27 Q652.716 1545.82 656.327 1545.82 Q659.962 1545.82 661.767 1542.27 Q663.596 1538.71 663.596 1531.6 Q663.596 1524.47 661.767 1520.93 Q659.962 1517.37 656.327 1517.37 M656.327 1513.66 Q662.138 1513.66 665.193 1518.27 Q668.272 1522.85 668.272 1531.6 Q668.272 1540.33 665.193 1544.94 Q662.138 1549.52 656.327 1549.52 Q650.517 1549.52 647.439 1544.94 Q644.383 1540.33 644.383 1531.6 Q644.383 1522.85 647.439 1518.27 Q650.517 1513.66 656.327 1513.66 Z\" fill=\"#000000\" fill-rule=\"nonzero\" fill-opacity=\"1\" /><path clip-path=\"url(#clip310)\" d=\"M1092.01 1544.91 L1108.32 1544.91 L1108.32 1548.85 L1086.38 1548.85 L1086.38 1544.91 Q1089.04 1542.16 1093.63 1537.53 Q1098.23 1532.88 1099.41 1531.53 Q1101.66 1529.01 1102.54 1527.27 Q1103.44 1525.51 1103.44 1523.82 Q1103.44 1521.07 1101.5 1519.33 Q1099.57 1517.6 1096.47 1517.6 Q1094.27 1517.6 1091.82 1518.36 Q1089.39 1519.13 1086.61 1520.68 L1086.61 1515.95 Q1089.44 1514.82 1091.89 1514.24 Q1094.34 1513.66 1096.38 1513.66 Q1101.75 1513.66 1104.94 1516.35 Q1108.14 1519.03 1108.14 1523.52 Q1108.14 1525.65 1107.33 1527.57 Q1106.54 1529.47 1104.44 1532.07 Q1103.86 1532.74 1100.76 1535.95 Q1097.65 1539.15 1092.01 1544.91 Z\" fill=\"#000000\" fill-rule=\"nonzero\" fill-opacity=\"1\" /><path clip-path=\"url(#clip310)\" d=\"M1128.14 1517.37 Q1124.53 1517.37 1122.7 1520.93 Q1120.89 1524.47 1120.89 1531.6 Q1120.89 1538.71 1122.7 1542.27 Q1124.53 1545.82 1128.14 1545.82 Q1131.77 1545.82 1133.58 1542.27 Q1135.41 1538.71 1135.41 1531.6 Q1135.41 1524.47 1133.58 1520.93 Q1131.77 1517.37 1128.14 1517.37 M1128.14 1513.66 Q1133.95 1513.66 1137 1518.27 Q1140.08 1522.85 1140.08 1531.6 Q1140.08 1540.33 1137 1544.94 Q1133.95 1549.52 1128.14 1549.52 Q1122.33 1549.52 1119.25 1544.94 Q1116.19 1540.33 1116.19 1531.6 Q1116.19 1522.85 1119.25 1518.27 Q1122.33 1513.66 1128.14 1513.66 Z\" fill=\"#000000\" fill-rule=\"nonzero\" fill-opacity=\"1\" /><path clip-path=\"url(#clip310)\" d=\"M1573.02 1530.21 Q1576.37 1530.93 1578.25 1533.2 Q1580.15 1535.47 1580.15 1538.8 Q1580.15 1543.92 1576.63 1546.72 Q1573.11 1549.52 1566.63 1549.52 Q1564.45 1549.52 1562.14 1549.08 Q1559.85 1548.66 1557.39 1547.81 L1557.39 1543.29 Q1559.34 1544.43 1561.65 1545.01 Q1563.97 1545.58 1566.49 1545.58 Q1570.89 1545.58 1573.18 1543.85 Q1575.5 1542.11 1575.5 1538.8 Q1575.5 1535.75 1573.34 1534.03 Q1571.21 1532.3 1567.39 1532.3 L1563.37 1532.3 L1563.37 1528.45 L1567.58 1528.45 Q1571.03 1528.45 1572.86 1527.09 Q1574.68 1525.7 1574.68 1523.11 Q1574.68 1520.45 1572.79 1519.03 Q1570.91 1517.6 1567.39 1517.6 Q1565.47 1517.6 1563.27 1518.01 Q1561.07 1518.43 1558.44 1519.31 L1558.44 1515.14 Q1561.1 1514.4 1563.41 1514.03 Q1565.75 1513.66 1567.81 1513.66 Q1573.13 1513.66 1576.24 1516.09 Q1579.34 1518.5 1579.34 1522.62 Q1579.34 1525.49 1577.69 1527.48 Q1576.05 1529.45 1573.02 1530.21 Z\" fill=\"#000000\" fill-rule=\"nonzero\" fill-opacity=\"1\" /><path clip-path=\"url(#clip310)\" d=\"M1599.01 1517.37 Q1595.4 1517.37 1593.57 1520.93 Q1591.77 1524.47 1591.77 1531.6 Q1591.77 1538.71 1593.57 1542.27 Q1595.4 1545.82 1599.01 1545.82 Q1602.65 1545.82 1604.45 1542.27 Q1606.28 1538.71 1606.28 1531.6 Q1606.28 1524.47 1604.45 1520.93 Q1602.65 1517.37 1599.01 1517.37 M1599.01 1513.66 Q1604.82 1513.66 1607.88 1518.27 Q1610.96 1522.85 1610.96 1531.6 Q1610.96 1540.33 1607.88 1544.94 Q1604.82 1549.52 1599.01 1549.52 Q1593.2 1549.52 1590.12 1544.94 Q1587.07 1540.33 1587.07 1531.6 Q1587.07 1522.85 1590.12 1518.27 Q1593.2 1513.66 1599.01 1513.66 Z\" fill=\"#000000\" fill-rule=\"nonzero\" fill-opacity=\"1\" /><path clip-path=\"url(#clip310)\" d=\"M2043.29 1518.36 L2031.49 1536.81 L2043.29 1536.81 L2043.29 1518.36 M2042.06 1514.29 L2047.94 1514.29 L2047.94 1536.81 L2052.87 1536.81 L2052.87 1540.7 L2047.94 1540.7 L2047.94 1548.85 L2043.29 1548.85 L2043.29 1540.7 L2027.69 1540.7 L2027.69 1536.19 L2042.06 1514.29 Z\" fill=\"#000000\" fill-rule=\"nonzero\" fill-opacity=\"1\" /><path clip-path=\"url(#clip310)\" d=\"M2070.61 1517.37 Q2066.99 1517.37 2065.17 1520.93 Q2063.36 1524.47 2063.36 1531.6 Q2063.36 1538.71 2065.17 1542.27 Q2066.99 1545.82 2070.61 1545.82 Q2074.24 1545.82 2076.05 1542.27 Q2077.87 1538.71 2077.87 1531.6 Q2077.87 1524.47 2076.05 1520.93 Q2074.24 1517.37 2070.61 1517.37 M2070.61 1513.66 Q2076.42 1513.66 2079.47 1518.27 Q2082.55 1522.85 2082.55 1531.6 Q2082.55 1540.33 2079.47 1544.94 Q2076.42 1549.52 2070.61 1549.52 Q2064.8 1549.52 2061.72 1544.94 Q2058.66 1540.33 2058.66 1531.6 Q2058.66 1522.85 2061.72 1518.27 Q2064.8 1513.66 2070.61 1513.66 Z\" fill=\"#000000\" fill-rule=\"nonzero\" fill-opacity=\"1\" /><polyline clip-path=\"url(#clip312)\" style=\"stroke:#000000; stroke-linecap:round; stroke-linejoin:round; stroke-width:2; stroke-opacity:0.1; fill:none\" points=\"156.274,1337.89 2352.76,1337.89 \"/>\n",
       "<polyline clip-path=\"url(#clip312)\" style=\"stroke:#000000; stroke-linecap:round; stroke-linejoin:round; stroke-width:2; stroke-opacity:0.1; fill:none\" points=\"156.274,1052.37 2352.76,1052.37 \"/>\n",
       "<polyline clip-path=\"url(#clip312)\" style=\"stroke:#000000; stroke-linecap:round; stroke-linejoin:round; stroke-width:2; stroke-opacity:0.1; fill:none\" points=\"156.274,766.846 2352.76,766.846 \"/>\n",
       "<polyline clip-path=\"url(#clip312)\" style=\"stroke:#000000; stroke-linecap:round; stroke-linejoin:round; stroke-width:2; stroke-opacity:0.1; fill:none\" points=\"156.274,481.324 2352.76,481.324 \"/>\n",
       "<polyline clip-path=\"url(#clip312)\" style=\"stroke:#000000; stroke-linecap:round; stroke-linejoin:round; stroke-width:2; stroke-opacity:0.1; fill:none\" points=\"156.274,195.801 2352.76,195.801 \"/>\n",
       "<polyline clip-path=\"url(#clip310)\" style=\"stroke:#000000; stroke-linecap:round; stroke-linejoin:round; stroke-width:4; stroke-opacity:1; fill:none\" points=\"156.274,1486.45 156.274,47.2441 \"/>\n",
       "<polyline clip-path=\"url(#clip310)\" style=\"stroke:#000000; stroke-linecap:round; stroke-linejoin:round; stroke-width:4; stroke-opacity:1; fill:none\" points=\"156.274,1337.89 175.172,1337.89 \"/>\n",
       "<polyline clip-path=\"url(#clip310)\" style=\"stroke:#000000; stroke-linecap:round; stroke-linejoin:round; stroke-width:4; stroke-opacity:1; fill:none\" points=\"156.274,1052.37 175.172,1052.37 \"/>\n",
       "<polyline clip-path=\"url(#clip310)\" style=\"stroke:#000000; stroke-linecap:round; stroke-linejoin:round; stroke-width:4; stroke-opacity:1; fill:none\" points=\"156.274,766.846 175.172,766.846 \"/>\n",
       "<polyline clip-path=\"url(#clip310)\" style=\"stroke:#000000; stroke-linecap:round; stroke-linejoin:round; stroke-width:4; stroke-opacity:1; fill:none\" points=\"156.274,481.324 175.172,481.324 \"/>\n",
       "<polyline clip-path=\"url(#clip310)\" style=\"stroke:#000000; stroke-linecap:round; stroke-linejoin:round; stroke-width:4; stroke-opacity:1; fill:none\" points=\"156.274,195.801 175.172,195.801 \"/>\n",
       "<path clip-path=\"url(#clip310)\" d=\"M62.9365 1323.69 Q59.3254 1323.69 57.4967 1327.25 Q55.6912 1330.8 55.6912 1337.93 Q55.6912 1345.03 57.4967 1348.6 Q59.3254 1352.14 62.9365 1352.14 Q66.5707 1352.14 68.3763 1348.6 Q70.205 1345.03 70.205 1337.93 Q70.205 1330.8 68.3763 1327.25 Q66.5707 1323.69 62.9365 1323.69 M62.9365 1319.99 Q68.7467 1319.99 71.8022 1324.59 Q74.8809 1329.18 74.8809 1337.93 Q74.8809 1346.65 71.8022 1351.26 Q68.7467 1355.84 62.9365 1355.84 Q57.1264 1355.84 54.0477 1351.26 Q50.9921 1346.65 50.9921 1337.93 Q50.9921 1329.18 54.0477 1324.59 Q57.1264 1319.99 62.9365 1319.99 Z\" fill=\"#000000\" fill-rule=\"nonzero\" fill-opacity=\"1\" /><path clip-path=\"url(#clip310)\" d=\"M83.0984 1349.29 L87.9827 1349.29 L87.9827 1355.17 L83.0984 1355.17 L83.0984 1349.29 Z\" fill=\"#000000\" fill-rule=\"nonzero\" fill-opacity=\"1\" /><path clip-path=\"url(#clip310)\" d=\"M108.746 1336.03 Q105.598 1336.03 103.746 1338.18 Q101.918 1340.33 101.918 1344.08 Q101.918 1347.81 103.746 1349.99 Q105.598 1352.14 108.746 1352.14 Q111.895 1352.14 113.723 1349.99 Q115.575 1347.81 115.575 1344.08 Q115.575 1340.33 113.723 1338.18 Q111.895 1336.03 108.746 1336.03 M118.029 1321.37 L118.029 1325.63 Q116.27 1324.8 114.464 1324.36 Q112.682 1323.92 110.922 1323.92 Q106.293 1323.92 103.839 1327.05 Q101.409 1330.17 101.061 1336.49 Q102.427 1334.48 104.487 1333.41 Q106.547 1332.32 109.024 1332.32 Q114.233 1332.32 117.242 1335.49 Q120.274 1338.64 120.274 1344.08 Q120.274 1349.41 117.126 1352.62 Q113.978 1355.84 108.746 1355.84 Q102.751 1355.84 99.5798 1351.26 Q96.4085 1346.65 96.4085 1337.93 Q96.4085 1329.73 100.297 1324.87 Q104.186 1319.99 110.737 1319.99 Q112.496 1319.99 114.279 1320.33 Q116.084 1320.68 118.029 1321.37 Z\" fill=\"#000000\" fill-rule=\"nonzero\" fill-opacity=\"1\" /><path clip-path=\"url(#clip310)\" d=\"M63.1911 1038.17 Q59.58 1038.17 57.7513 1041.73 Q55.9458 1045.27 55.9458 1052.4 Q55.9458 1059.51 57.7513 1063.07 Q59.58 1066.62 63.1911 1066.62 Q66.8254 1066.62 68.6309 1063.07 Q70.4596 1059.51 70.4596 1052.4 Q70.4596 1045.27 68.6309 1041.73 Q66.8254 1038.17 63.1911 1038.17 M63.1911 1034.46 Q69.0013 1034.46 72.0568 1039.07 Q75.1355 1043.65 75.1355 1052.4 Q75.1355 1061.13 72.0568 1065.74 Q69.0013 1070.32 63.1911 1070.32 Q57.381 1070.32 54.3023 1065.74 Q51.2468 1061.13 51.2468 1052.4 Q51.2468 1043.65 54.3023 1039.07 Q57.381 1034.46 63.1911 1034.46 Z\" fill=\"#000000\" fill-rule=\"nonzero\" fill-opacity=\"1\" /><path clip-path=\"url(#clip310)\" d=\"M83.3531 1063.77 L88.2373 1063.77 L88.2373 1069.65 L83.3531 1069.65 L83.3531 1063.77 Z\" fill=\"#000000\" fill-rule=\"nonzero\" fill-opacity=\"1\" /><path clip-path=\"url(#clip310)\" d=\"M108.422 1053.24 Q105.089 1053.24 103.168 1055.02 Q101.27 1056.8 101.27 1059.93 Q101.27 1063.05 103.168 1064.83 Q105.089 1066.62 108.422 1066.62 Q111.756 1066.62 113.677 1064.83 Q115.598 1063.03 115.598 1059.93 Q115.598 1056.8 113.677 1055.02 Q111.779 1053.24 108.422 1053.24 M103.746 1051.25 Q100.737 1050.5 99.0474 1048.44 Q97.3808 1046.38 97.3808 1043.42 Q97.3808 1039.28 100.321 1036.87 Q103.284 1034.46 108.422 1034.46 Q113.584 1034.46 116.524 1036.87 Q119.464 1039.28 119.464 1043.42 Q119.464 1046.38 117.774 1048.44 Q116.108 1050.5 113.121 1051.25 Q116.501 1052.03 118.376 1054.32 Q120.274 1056.62 120.274 1059.93 Q120.274 1064.95 117.195 1067.63 Q114.14 1070.32 108.422 1070.32 Q102.705 1070.32 99.6261 1067.63 Q96.5706 1064.95 96.5706 1059.93 Q96.5706 1056.62 98.4687 1054.32 Q100.367 1052.03 103.746 1051.25 M102.034 1043.86 Q102.034 1046.55 103.7 1048.05 Q105.39 1049.56 108.422 1049.56 Q111.432 1049.56 113.121 1048.05 Q114.834 1046.55 114.834 1043.86 Q114.834 1041.18 113.121 1039.67 Q111.432 1038.17 108.422 1038.17 Q105.39 1038.17 103.7 1039.67 Q102.034 1041.18 102.034 1043.86 Z\" fill=\"#000000\" fill-rule=\"nonzero\" fill-opacity=\"1\" /><path clip-path=\"url(#clip310)\" d=\"M53.9088 780.191 L61.5476 780.191 L61.5476 753.825 L53.2375 755.492 L53.2375 751.233 L61.5013 749.566 L66.1772 749.566 L66.1772 780.191 L73.8161 780.191 L73.8161 784.126 L53.9088 784.126 L53.9088 780.191 Z\" fill=\"#000000\" fill-rule=\"nonzero\" fill-opacity=\"1\" /><path clip-path=\"url(#clip310)\" d=\"M83.2605 778.246 L88.1447 778.246 L88.1447 784.126 L83.2605 784.126 L83.2605 778.246 Z\" fill=\"#000000\" fill-rule=\"nonzero\" fill-opacity=\"1\" /><path clip-path=\"url(#clip310)\" d=\"M108.33 752.645 Q104.719 752.645 102.89 756.209 Q101.084 759.751 101.084 766.881 Q101.084 773.987 102.89 777.552 Q104.719 781.094 108.33 781.094 Q111.964 781.094 113.77 777.552 Q115.598 773.987 115.598 766.881 Q115.598 759.751 113.77 756.209 Q111.964 752.645 108.33 752.645 M108.33 748.941 Q114.14 748.941 117.195 753.547 Q120.274 758.131 120.274 766.881 Q120.274 775.608 117.195 780.214 Q114.14 784.797 108.33 784.797 Q102.52 784.797 99.4409 780.214 Q96.3854 775.608 96.3854 766.881 Q96.3854 758.131 99.4409 753.547 Q102.52 748.941 108.33 748.941 Z\" fill=\"#000000\" fill-rule=\"nonzero\" fill-opacity=\"1\" /><path clip-path=\"url(#clip310)\" d=\"M55.506 494.668 L63.1448 494.668 L63.1448 468.303 L54.8347 469.97 L54.8347 465.71 L63.0985 464.044 L67.7744 464.044 L67.7744 494.668 L75.4133 494.668 L75.4133 498.604 L55.506 498.604 L55.506 494.668 Z\" fill=\"#000000\" fill-rule=\"nonzero\" fill-opacity=\"1\" /><path clip-path=\"url(#clip310)\" d=\"M84.8577 492.724 L89.7419 492.724 L89.7419 498.604 L84.8577 498.604 L84.8577 492.724 Z\" fill=\"#000000\" fill-rule=\"nonzero\" fill-opacity=\"1\" /><path clip-path=\"url(#clip310)\" d=\"M103.955 494.668 L120.274 494.668 L120.274 498.604 L98.3298 498.604 L98.3298 494.668 Q100.992 491.914 105.575 487.284 Q110.182 482.632 111.362 481.289 Q113.608 478.766 114.487 477.03 Q115.39 475.27 115.39 473.581 Q115.39 470.826 113.445 469.09 Q111.524 467.354 108.422 467.354 Q106.223 467.354 103.77 468.118 Q101.339 468.882 98.5613 470.432 L98.5613 465.71 Q101.385 464.576 103.839 463.997 Q106.293 463.419 108.33 463.419 Q113.7 463.419 116.895 466.104 Q120.089 468.789 120.089 473.28 Q120.089 475.409 119.279 477.331 Q118.492 479.229 116.385 481.821 Q115.807 482.493 112.705 485.71 Q109.603 488.905 103.955 494.668 Z\" fill=\"#000000\" fill-rule=\"nonzero\" fill-opacity=\"1\" /><path clip-path=\"url(#clip310)\" d=\"M53.4227 209.146 L61.0615 209.146 L61.0615 182.781 L52.7514 184.447 L52.7514 180.188 L61.0152 178.521 L65.6911 178.521 L65.6911 209.146 L73.33 209.146 L73.33 213.081 L53.4227 213.081 L53.4227 209.146 Z\" fill=\"#000000\" fill-rule=\"nonzero\" fill-opacity=\"1\" /><path clip-path=\"url(#clip310)\" d=\"M82.7744 207.202 L87.6586 207.202 L87.6586 213.081 L82.7744 213.081 L82.7744 207.202 Z\" fill=\"#000000\" fill-rule=\"nonzero\" fill-opacity=\"1\" /><path clip-path=\"url(#clip310)\" d=\"M110.691 182.595 L98.8854 201.044 L110.691 201.044 L110.691 182.595 M109.464 178.521 L115.344 178.521 L115.344 201.044 L120.274 201.044 L120.274 204.933 L115.344 204.933 L115.344 213.081 L110.691 213.081 L110.691 204.933 L95.0891 204.933 L95.0891 200.419 L109.464 178.521 Z\" fill=\"#000000\" fill-rule=\"nonzero\" fill-opacity=\"1\" /><polyline clip-path=\"url(#clip312)\" style=\"stroke:#009af9; stroke-linecap:round; stroke-linejoin:round; stroke-width:4; stroke-opacity:1; fill:none\" points=\"218.439,766.846 265.533,347.281 312.627,87.9763 359.722,87.9763 406.816,347.281 453.911,766.846 501.005,1186.41 548.099,1445.72 595.194,1445.72 642.288,1186.41 689.383,766.846 736.477,347.281 783.571,87.9763 830.666,87.9763 877.76,347.281 924.854,766.846 971.949,1186.41 1019.04,1445.72 1066.14,1445.72 1113.23,1186.41 1160.33,766.846 1207.42,347.281 1254.52,87.9763 1301.61,87.9763 1348.7,347.281 1395.8,766.846 1442.89,1186.41 1489.99,1445.72 1537.08,1445.72 1584.18,1186.41 1631.27,766.846 1678.36,347.281 1725.46,87.9763 1772.55,87.9763 1819.65,347.281 1866.74,766.846 1913.84,1186.41 1960.93,1445.72 2008.03,1445.72 2055.12,1186.41 2102.21,766.846 2149.31,347.281 2196.4,87.9763 2243.5,87.9763 2290.59,347.281 \"/>\n",
       "<path clip-path=\"url(#clip310)\" d=\"M229.49 1438.47 L615.318 1438.47 L615.318 1334.79 L229.49 1334.79  Z\" fill=\"#ffffff\" fill-rule=\"evenodd\" fill-opacity=\"1\"/>\n",
       "<polyline clip-path=\"url(#clip310)\" style=\"stroke:#000000; stroke-linecap:round; stroke-linejoin:round; stroke-width:4; stroke-opacity:1; fill:none\" points=\"229.49,1438.47 615.318,1438.47 615.318,1334.79 229.49,1334.79 229.49,1438.47 \"/>\n",
       "<polyline clip-path=\"url(#clip310)\" style=\"stroke:#009af9; stroke-linecap:round; stroke-linejoin:round; stroke-width:4; stroke-opacity:1; fill:none\" points=\"253.896,1386.63 400.328,1386.63 \"/>\n",
       "<path clip-path=\"url(#clip310)\" d=\"M438.576 1406.32 Q436.77 1410.95 435.057 1412.36 Q433.344 1413.78 430.474 1413.78 L427.071 1413.78 L427.071 1410.21 L429.571 1410.21 Q431.33 1410.21 432.302 1409.38 Q433.275 1408.54 434.455 1405.44 L435.219 1403.5 L424.733 1377.99 L429.247 1377.99 L437.349 1398.27 L445.451 1377.99 L449.964 1377.99 L438.576 1406.32 Z\" fill=\"#000000\" fill-rule=\"nonzero\" fill-opacity=\"1\" /><path clip-path=\"url(#clip310)\" d=\"M475.543 1411.78 L475.543 1415.09 L450.913 1415.09 L450.913 1411.78 L475.543 1411.78 Z\" fill=\"#000000\" fill-rule=\"nonzero\" fill-opacity=\"1\" /><path clip-path=\"url(#clip310)\" d=\"M498.159 1390.97 Q498.159 1386.28 496.214 1383.61 Q494.293 1380.93 490.913 1380.93 Q487.534 1380.93 485.589 1383.61 Q483.668 1386.28 483.668 1390.97 Q483.668 1395.67 485.589 1398.36 Q487.534 1401.02 490.913 1401.02 Q494.293 1401.02 496.214 1398.36 Q498.159 1395.67 498.159 1390.97 M483.668 1381.92 Q485.01 1379.61 487.048 1378.5 Q489.108 1377.36 491.955 1377.36 Q496.677 1377.36 499.617 1381.11 Q502.58 1384.86 502.58 1390.97 Q502.58 1397.09 499.617 1400.84 Q496.677 1404.59 491.955 1404.59 Q489.108 1404.59 487.048 1403.47 Q485.01 1402.34 483.668 1400.03 L483.668 1403.91 L479.386 1403.91 L479.386 1367.9 L483.668 1367.9 L483.668 1381.92 Z\" fill=\"#000000\" fill-rule=\"nonzero\" fill-opacity=\"1\" /><path clip-path=\"url(#clip310)\" d=\"M519.686 1380.97 Q516.26 1380.97 514.27 1383.66 Q512.279 1386.32 512.279 1390.97 Q512.279 1395.63 514.246 1398.31 Q516.237 1400.97 519.686 1400.97 Q523.089 1400.97 525.08 1398.29 Q527.07 1395.6 527.07 1390.97 Q527.07 1386.37 525.08 1383.68 Q523.089 1380.97 519.686 1380.97 M519.686 1377.36 Q525.242 1377.36 528.413 1380.97 Q531.584 1384.59 531.584 1390.97 Q531.584 1397.34 528.413 1400.97 Q525.242 1404.59 519.686 1404.59 Q514.108 1404.59 510.936 1400.97 Q507.788 1397.34 507.788 1390.97 Q507.788 1384.59 510.936 1380.97 Q514.108 1377.36 519.686 1377.36 Z\" fill=\"#000000\" fill-rule=\"nonzero\" fill-opacity=\"1\" /><path clip-path=\"url(#clip310)\" d=\"M555.705 1381.92 L555.705 1367.9 L559.964 1367.9 L559.964 1403.91 L555.705 1403.91 L555.705 1400.03 Q554.362 1402.34 552.302 1403.47 Q550.265 1404.59 547.394 1404.59 Q542.695 1404.59 539.732 1400.84 Q536.793 1397.09 536.793 1390.97 Q536.793 1384.86 539.732 1381.11 Q542.695 1377.36 547.394 1377.36 Q550.265 1377.36 552.302 1378.5 Q554.362 1379.61 555.705 1381.92 M541.191 1390.97 Q541.191 1395.67 543.112 1398.36 Q545.056 1401.02 548.436 1401.02 Q551.816 1401.02 553.76 1398.36 Q555.705 1395.67 555.705 1390.97 Q555.705 1386.28 553.76 1383.61 Q551.816 1380.93 548.436 1380.93 Q545.056 1380.93 543.112 1383.61 Q541.191 1386.28 541.191 1390.97 Z\" fill=\"#000000\" fill-rule=\"nonzero\" fill-opacity=\"1\" /><path clip-path=\"url(#clip310)\" d=\"M579.524 1406.32 Q577.718 1410.95 576.005 1412.36 Q574.292 1413.78 571.422 1413.78 L568.019 1413.78 L568.019 1410.21 L570.519 1410.21 Q572.279 1410.21 573.251 1409.38 Q574.223 1408.54 575.404 1405.44 L576.167 1403.5 L565.681 1377.99 L570.195 1377.99 L578.297 1398.27 L586.399 1377.99 L590.913 1377.99 L579.524 1406.32 Z\" fill=\"#000000\" fill-rule=\"nonzero\" fill-opacity=\"1\" /></svg>\n"
      ]
     },
     "execution_count": 12,
     "metadata": {},
     "output_type": "execute_result"
    }
   ],
   "source": [
    "plot(xref[2,:], label=\"y_body\")"
   ]
  },
  {
   "cell_type": "markdown",
   "id": "86d234f2",
   "metadata": {},
   "source": [
    "## Define 3 kinda constraints - 1) dynamics 2) stance 3) lenght"
   ]
  },
  {
   "cell_type": "code",
   "execution_count": 13,
   "id": "8b7cad0c",
   "metadata": {},
   "outputs": [
    {
     "data": {
      "text/plain": [
       "dynamics_constraint! (generic function with 1 method)"
      ]
     },
     "execution_count": 13,
     "metadata": {},
     "output_type": "execute_result"
    }
   ],
   "source": [
    "function dynamics_constraint!(c,ztraj)\n",
    "    d = reshape(view(c,c_dyn_inds),Nx,Nt-1)\n",
    "    z = reshape(ztraj[1:(end-Nx)], Nx+Nu, Nt-1)\n",
    "    xtraj = [z[1:Nx,:] ztraj[(end-Nx+1):end]]    \n",
    "    utraj = z[(Nx+1):end,:]\n",
    "    \n",
    "    for k in 1:(Nmodes-1)\n",
    "        if mod(k, 2) == 1\n",
    "            # stance phase\n",
    "            for j in 1:Nm\n",
    "                s = Nm*(k-1) + j\n",
    "                d[:,s] = (stance_dynamics_rk4(xtraj[:,s], utraj[:,s]) - xtraj[:,s+1])\n",
    "            end\n",
    "        else\n",
    "            # swing phase\n",
    "            for j in 1:(Nm-1)\n",
    "                s = Nm*(k-1) + j\n",
    "                d[:,s] = (flight_dynamics_rk4(xtraj[:,s], utraj[:,s]) - xtraj[:,s+1])\n",
    "            end\n",
    "            s = Nm*(k-1) + Nm # Nm*k\n",
    "            d[:,s] = (jump_map(flight_dynamics_rk4(xtraj[:,s], utraj[:,s])) - xtraj[:,s+1])\n",
    "        end\n",
    "    end\n",
    " \n",
    "    if mod(Nmodes, 2) == 1\n",
    "        # last stance phase\n",
    "        for j in 1:(Nm-1)\n",
    "            s = Nm*(Nmodes-1) + j\n",
    "            d[:,s] = (stance_dynamics_rk4(xtraj[:,s], utraj[:,s]) - xtraj[:,s+1])\n",
    "        end\n",
    "    else\n",
    "        # last swing phase\n",
    "        for j in 1:(Nm-1)\n",
    "            s = Nm*(Nmodes-1) + j\n",
    "            d[:,s] = (flight_dynamics_rk4(xtraj[:,s], utraj[:,s]) - xtraj[:,s+1])\n",
    "        end\n",
    "    end\n",
    "    \n",
    "    return nothing\n",
    "end"
   ]
  },
  {
   "cell_type": "code",
   "execution_count": 14,
   "id": "31d95f06",
   "metadata": {},
   "outputs": [
    {
     "data": {
      "text/plain": [
       "stance_constraint! (generic function with 1 method)"
      ]
     },
     "execution_count": 14,
     "metadata": {},
     "output_type": "execute_result"
    }
   ],
   "source": [
    "function stance_constraint!(c,ztraj)\n",
    "    d = view(c,c_stance_inds)\n",
    "    z = reshape(ztraj[1:(end-Nx)], Nx+Nu, Nt-1)\n",
    "    xtraj = [z[1:Nx,:] ztraj[(end-Nx+1):end]]    \n",
    "\n",
    "    t = 1\n",
    "    for k in 1:Nmodes\n",
    "        if mod(k, 2) == 1\n",
    "            for j in 1:Nm\n",
    "                s = Nm*(k-1) + j\n",
    "                d[t] = (xtraj[4,s])\n",
    "                t += 1\n",
    "            end\n",
    "        end\n",
    "    end\n",
    "    \n",
    "    return nothing\n",
    "end"
   ]
  },
  {
   "cell_type": "code",
   "execution_count": 15,
   "id": "7567fd59",
   "metadata": {},
   "outputs": [
    {
     "data": {
      "text/plain": [
       "length_constraint! (generic function with 1 method)"
      ]
     },
     "execution_count": 15,
     "metadata": {},
     "output_type": "execute_result"
    }
   ],
   "source": [
    "function length_constraint!(c,ztraj)\n",
    "    d = view(c,c_length_inds)\n",
    "    z = reshape(ztraj[1:(end-Nx)], Nx+Nu, Nt-1)\n",
    "    xtraj = [z[1:Nx,:] ztraj[(end-Nx+1):end]]    \n",
    "\n",
    "    for k in 1:Nt\n",
    "        d[k] = norm(xtraj[1:2,k] - xtraj[3:4,k])\n",
    "    end\n",
    "end"
   ]
  },
  {
   "cell_type": "markdown",
   "id": "6f6695de",
   "metadata": {},
   "source": [
    "## Collect all constraints!"
   ]
  },
  {
   "cell_type": "code",
   "execution_count": 16,
   "id": "12a90ed3",
   "metadata": {},
   "outputs": [
    {
     "data": {
      "text/plain": [
       "con! (generic function with 1 method)"
      ]
     },
     "execution_count": 16,
     "metadata": {},
     "output_type": "execute_result"
    }
   ],
   "source": [
    "function con!(c,ztraj)\n",
    "    c[c_init_inds] .= (ztraj[1:Nx] - xref[:,1])\n",
    "    c[c_term_inds] .= (ztraj[(end-Nx+1):end] - xref[:,end])\n",
    "    @views dynamics_constraint!(c,ztraj)\n",
    "    @views stance_constraint!(c,ztraj)\n",
    "    @views length_constraint!(c,ztraj)\n",
    "end"
   ]
  },
  {
   "cell_type": "code",
   "execution_count": 17,
   "id": "cfffe927",
   "metadata": {},
   "outputs": [
    {
     "data": {
      "text/plain": [
       "solve (generic function with 1 method)"
      ]
     },
     "execution_count": 17,
     "metadata": {},
     "output_type": "execute_result"
    }
   ],
   "source": [
    "struct ProblemMOI <: MOI.AbstractNLPEvaluator\n",
    "    n_nlp::Int\n",
    "    m_nlp::Int\n",
    "    idx_ineq\n",
    "    obj_grad::Bool\n",
    "    con_jac::Bool\n",
    "    sparsity_jac\n",
    "    sparsity_hess\n",
    "    primal_bounds\n",
    "    constraint_bounds\n",
    "    hessian_lagrangian::Bool\n",
    "end\n",
    "\n",
    "function ProblemMOI(n_nlp,m_nlp;\n",
    "        idx_ineq=c_length_inds,\n",
    "        obj_grad=true,\n",
    "        con_jac=true,\n",
    "        sparsity_jac=sparsity_jacobian(n_nlp,m_nlp),\n",
    "        sparsity_hess=sparsity_hessian(n_nlp,m_nlp),\n",
    "        primal_bounds=primal_bounds(n_nlp),\n",
    "        constraint_bounds=constraint_bounds(m_nlp,idx_ineq=idx_ineq),\n",
    "        hessian_lagrangian=false)\n",
    "\n",
    "    ProblemMOI(n_nlp,m_nlp,\n",
    "        idx_ineq,\n",
    "        obj_grad,\n",
    "        con_jac,\n",
    "        sparsity_jac,\n",
    "        sparsity_hess,\n",
    "        primal_bounds,\n",
    "        constraint_bounds,\n",
    "        hessian_lagrangian)\n",
    "end\n",
    "\n",
    "function primal_bounds(n)\n",
    "    x_l = -Inf*ones(n)\n",
    "    x_u = Inf*ones(n)\n",
    "    return x_l, x_u\n",
    "end\n",
    "\n",
    "function constraint_bounds(m; idx_ineq=(1:0))\n",
    "    c_l = zeros(m)\n",
    "    c_l[idx_ineq] .= ℓ_min\n",
    "\n",
    "    c_u = zeros(m)\n",
    "    c_u[idx_ineq] .= ℓ_max\n",
    "    return c_l, c_u\n",
    "end\n",
    "\n",
    "function row_col!(row,col,r,c)\n",
    "    for cc in c\n",
    "        for rr in r\n",
    "            push!(row,convert(Int,rr))\n",
    "            push!(col,convert(Int,cc))\n",
    "        end\n",
    "    end\n",
    "    return row, col\n",
    "end\n",
    "\n",
    "function sparsity_jacobian(n,m)\n",
    "\n",
    "    row = []\n",
    "    col = []\n",
    "\n",
    "    r = 1:m\n",
    "    c = 1:n\n",
    "\n",
    "    row_col!(row,col,r,c)\n",
    "\n",
    "    return collect(zip(row,col))\n",
    "end\n",
    "\n",
    "function sparsity_hessian(n,m)\n",
    "\n",
    "    row = []\n",
    "    col = []\n",
    "\n",
    "    r = 1:m\n",
    "    c = 1:n\n",
    "\n",
    "    row_col!(row,col,r,c)\n",
    "\n",
    "    return collect(zip(row,col))\n",
    "end\n",
    "\n",
    "function MOI.eval_objective(prob::MOI.AbstractNLPEvaluator, x)\n",
    "    cost(x)\n",
    "end\n",
    "\n",
    "function MOI.eval_objective_gradient(prob::MOI.AbstractNLPEvaluator, grad_f, x)\n",
    "    ForwardDiff.gradient!(grad_f,cost,x)\n",
    "    return nothing\n",
    "end\n",
    "\n",
    "function MOI.eval_constraint(prob::MOI.AbstractNLPEvaluator,g,x)\n",
    "    con!(g,x)\n",
    "    return nothing\n",
    "end\n",
    "\n",
    "function MOI.eval_constraint_jacobian(prob::MOI.AbstractNLPEvaluator, jac, x)\n",
    "    ForwardDiff.jacobian!(reshape(jac,prob.m_nlp,prob.n_nlp), con!, zeros(prob.m_nlp), x)\n",
    "    return nothing\n",
    "end\n",
    "\n",
    "function MOI.features_available(prob::MOI.AbstractNLPEvaluator)\n",
    "    return [:Grad, :Jac]\n",
    "end\n",
    "\n",
    "MOI.initialize(prob::MOI.AbstractNLPEvaluator, features) = nothing\n",
    "MOI.jacobian_structure(prob::MOI.AbstractNLPEvaluator) = prob.sparsity_jac\n",
    "\n",
    "function solve(x0,prob::MOI.AbstractNLPEvaluator;\n",
    "        tol=1.0e-6,c_tol=1.0e-6,max_iter=10000)\n",
    "    x_l, x_u = prob.primal_bounds\n",
    "    c_l, c_u = prob.constraint_bounds\n",
    "\n",
    "    nlp_bounds = MOI.NLPBoundsPair.(c_l,c_u)\n",
    "    block_data = MOI.NLPBlockData(nlp_bounds,prob,true)\n",
    "\n",
    "    solver = Ipopt.Optimizer()\n",
    "    solver.options[\"max_iter\"] = max_iter\n",
    "    solver.options[\"tol\"] = tol\n",
    "    solver.options[\"constr_viol_tol\"] = c_tol\n",
    "\n",
    "    x = MOI.add_variables(solver,prob.n_nlp)\n",
    "\n",
    "    for i = 1:prob.n_nlp\n",
    "        MOI.add_constraint(solver, x[i], MOI.LessThan(x_u[i]))\n",
    "        MOI.add_constraint(solver, x[i], MOI.GreaterThan(x_l[i]))\n",
    "        MOI.set(solver, MOI.VariablePrimalStart(), x[i], x0[i])\n",
    "    end\n",
    "\n",
    "    # Solve the problem\n",
    "    MOI.set(solver, MOI.NLPBlock(), block_data)\n",
    "    MOI.set(solver, MOI.ObjectiveSense(), MOI.MIN_SENSE)\n",
    "    MOI.optimize!(solver)\n",
    "\n",
    "    # Get the solution\n",
    "    res = MOI.get(solver, MOI.VariablePrimal(), x)\n",
    "\n",
    "    return res\n",
    "end"
   ]
  },
  {
   "cell_type": "code",
   "execution_count": 18,
   "id": "28310fac",
   "metadata": {},
   "outputs": [],
   "source": [
    "# Initial Guess - naive reference + random noise\n",
    "xguess = xref + 0.1*randn(Nx,Nt)\n",
    "uguess = kron(ones(Nt-1)', uref) + 0.1*randn(Nu,Nt-1)\n",
    "z0 = [reshape([xguess[:,1:(Nt-1)]; uguess],(Nx+Nu)*(Nt-1),1); xguess[:,end]];"
   ]
  },
  {
   "cell_type": "code",
   "execution_count": 19,
   "id": "c235b597",
   "metadata": {},
   "outputs": [
    {
     "name": "stdout",
     "output_type": "stream",
     "text": [
      "\n",
      "******************************************************************************\n",
      "This program contains Ipopt, a library for large-scale nonlinear optimization.\n",
      " Ipopt is released as open source code under the Eclipse Public License (EPL).\n",
      "         For more information visit https://github.com/coin-or/Ipopt\n",
      "******************************************************************************\n",
      "\n",
      "This is Ipopt version 3.14.4, running with linear solver MUMPS 5.4.1.\n",
      "\n",
      "Number of nonzeros in equality constraint Jacobian...:   176064\n",
      "Number of nonzeros in inequality constraint Jacobian.:    20160\n",
      "Number of nonzeros in Lagrangian Hessian.............:        0\n",
      "\n",
      "Total number of variables............................:      448\n",
      "                     variables with only lower bounds:        0\n",
      "                variables with lower and upper bounds:        0\n",
      "                     variables with only upper bounds:        0\n",
      "Total number of equality constraints.................:      393\n",
      "Total number of inequality constraints...............:       45\n",
      "        inequality constraints with only lower bounds:        0\n",
      "   inequality constraints with lower and upper bounds:       45\n",
      "        inequality constraints with only upper bounds:        0\n",
      "\n",
      "iter    objective    inf_pr   inf_du lg(mu)  ||d||  lg(rg) alpha_du alpha_pr  ls\n",
      "   0  1.8713504e+00 2.13e+00 2.87e-01   0.0 0.00e+00    -  0.00e+00 0.00e+00   0\n",
      "   1  1.8749952e+00 2.09e+00 8.18e+00  -6.3 1.69e+02    -  5.46e-03 2.16e-02h  1\n",
      "   2  2.6451397e+00 1.99e+00 3.55e+01  -0.3 1.59e+02    -  6.79e-02 4.53e-02f  1\n",
      "   3  4.7268925e+00 1.90e+00 5.51e+02   1.7 1.48e+02    -  7.18e-03 4.88e-02f  1\n",
      "   4  1.7937001e+01 1.59e+00 4.42e+02   0.8 1.52e+02    -  1.00e+00 1.63e-01f  1\n",
      "   5  1.8557245e+01 1.58e+00 4.22e+02  -5.1 1.22e+02    -  4.52e-02 6.48e-03h  1\n",
      "   6  6.9802149e+01 1.03e+00 2.47e+03  -0.2 1.22e+02    -  4.19e-02 3.49e-01h  1\n",
      "   7  7.0907714e+01 1.02e+00 2.96e+03   0.9 8.15e+01    -  3.76e-01 8.95e-03h  1\n",
      "   8  8.0350085e+01 9.44e-01 2.51e+03  -5.2 9.96e+01    -  3.85e-02 7.82e-02h  1\n",
      "   9  1.2468791e+02 6.26e-01 1.66e+03  -0.8 1.23e+02    -  2.44e-01 3.37e-01h  1\n",
      "iter    objective    inf_pr   inf_du lg(mu)  ||d||  lg(rg) alpha_du alpha_pr  ls\n",
      "  10  3.2145718e+02 1.21e+00 9.50e+02   0.5 1.37e+02    -  4.52e-01 1.00e+00h  1\n",
      "  11  2.7178074e+02 9.46e-01 2.54e+02   0.9 8.20e+01    -  7.53e-01 1.00e+00f  1\n",
      "  12  2.5272588e+02 3.58e-01 2.01e+01   0.7 3.89e+01    -  9.40e-01 1.00e+00f  1\n",
      "  13  2.4872818e+02 1.47e-01 1.16e+01   0.0 4.14e+01    -  8.89e-01 1.00e+00h  1\n",
      "  14  2.4388255e+02 7.87e-02 2.44e+00  -0.8 1.86e+01    -  9.84e-01 1.00e+00f  1\n",
      "  15  2.4475797e+02 1.72e-02 2.06e+00  -1.1 5.73e+00    -  8.77e-01 1.00e+00h  1\n",
      "  16  2.4411640e+02 4.56e-03 5.30e-01  -1.8 2.24e+00    -  9.91e-01 1.00e+00f  1\n",
      "  17  2.4403881e+02 4.12e-04 8.95e-02  -2.7 1.34e+00    -  9.97e-01 9.42e-01h  1\n",
      "  18  2.4330030e+02 6.22e-03 5.38e-01  -3.5 7.87e+00    -  9.99e-01 1.00e+00f  1\n",
      "  19  2.4323092e+02 6.67e-03 1.42e+00  -3.0 2.06e+01    -  1.00e+00 1.60e-01f  3\n",
      "iter    objective    inf_pr   inf_du lg(mu)  ||d||  lg(rg) alpha_du alpha_pr  ls\n",
      "  20  2.4285411e+02 5.27e-03 3.26e-01  -3.8 4.66e+00    -  1.00e+00 1.00e+00f  1\n",
      "  21  2.4280640e+02 7.79e-03 4.02e-01  -3.5 4.82e+00    -  1.00e+00 1.00e+00f  1\n",
      "  22  2.4265269e+02 3.48e-03 2.61e-01  -4.0 3.25e+00    -  1.00e+00 1.00e+00h  1\n",
      "  23  2.4440747e+02 1.04e-03 1.68e+00  -4.4 6.32e+00    -  1.00e+00 1.00e+00H  1\n",
      "  24  2.4224163e+02 1.39e-02 1.85e-01  -4.0 5.47e+00    -  1.00e+00 1.00e+00f  1\n",
      "  25  2.4258036e+02 9.71e-05 1.34e-01  -5.0 4.38e-01    -  1.00e+00 1.00e+00h  1\n",
      "  26  2.4257089e+02 4.01e-05 3.43e-02  -6.7 6.47e-01    -  1.00e+00 1.00e+00h  1\n",
      "  27  2.4256509e+02 9.05e-05 3.67e-01  -7.9 2.76e+00    -  1.00e+00 2.50e-01h  3\n",
      "  28  2.4255283e+02 1.66e-05 1.75e-01  -8.9 2.91e+00    -  1.00e+00 1.00e+00F  1\n",
      "  29  2.4254990e+02 7.66e-05 1.62e-01  -9.1 1.22e+00    -  1.00e+00 2.50e-01h  3\n",
      "iter    objective    inf_pr   inf_du lg(mu)  ||d||  lg(rg) alpha_du alpha_pr  ls\n",
      "  30  2.4254499e+02 3.10e-04 1.82e-02 -10.0 1.15e+00    -  1.00e+00 1.00e+00h  1\n",
      "  31  2.4254207e+02 3.62e-05 2.77e-02 -11.0 5.11e-01    -  1.00e+00 1.00e+00h  1\n",
      "  32  2.4259565e+02 2.10e-05 3.22e-01 -11.0 1.60e+00    -  1.00e+00 1.00e+00H  1\n",
      "  33  2.4253563e+02 9.14e-04 3.88e-02 -11.0 1.57e+00    -  1.00e+00 1.00e+00f  1\n",
      "  34  2.4258572e+02 4.97e-04 3.14e-01 -11.0 1.25e+00    -  1.00e+00 1.00e+00h  1\n",
      "  35  2.4253425e+02 3.97e-04 4.62e-03 -11.0 1.15e+00    -  1.00e+00 1.00e+00f  1\n",
      "  36  2.4254079e+02 3.89e-07 5.07e-03 -11.0 1.77e-02    -  1.00e+00 1.00e+00h  1\n",
      "  37  2.4254077e+02 2.00e-07 1.99e-03 -11.0 1.79e-02    -  1.00e+00 1.00e+00h  1\n",
      "  38  2.4254077e+02 3.52e-08 1.05e-03 -11.0 2.19e-02    -  1.00e+00 1.00e+00h  1\n",
      "  39  2.4254090e+02 2.26e-09 1.72e-02 -11.0 2.12e-01    -  1.00e+00 1.00e+00H  1\n",
      "iter    objective    inf_pr   inf_du lg(mu)  ||d||  lg(rg) alpha_du alpha_pr  ls\n",
      "  40  2.4254076e+02 1.78e-06 7.17e-03 -11.0 1.01e-01    -  1.00e+00 1.00e+00f  1\n",
      "  41  2.4254086e+02 3.75e-09 1.73e-02 -11.0 9.82e-02    -  1.00e+00 1.00e+00H  1\n",
      "  42  2.4254075e+02 1.69e-06 4.94e-04 -11.0 8.38e-02    -  1.00e+00 1.00e+00h  1\n",
      "  43  2.4254076e+02 5.83e-09 1.10e-03 -11.0 9.20e-03    -  1.00e+00 1.00e+00h  1\n",
      "  44  2.4254076e+02 2.09e-08 1.61e-03 -11.0 2.16e-02    -  1.00e+00 1.00e+00h  1\n",
      "  45  2.4254077e+02 6.26e-11 3.65e-03 -11.0 1.84e-02    -  1.00e+00 1.00e+00H  1\n",
      "  46  2.4254076e+02 1.58e-07 2.95e-04 -11.0 1.71e-02    -  1.00e+00 1.00e+00h  1\n",
      "  47  2.4254076e+02 6.01e-10 1.79e-04 -11.0 3.50e-03    -  1.00e+00 1.00e+00h  1\n",
      "  48  2.4254076e+02 6.99e-12 2.38e-03 -11.0 3.46e-02    -  1.00e+00 1.00e+00H  1\n",
      "  49  2.4254076e+02 4.29e-08 3.20e-04 -11.0 3.35e-02    -  1.00e+00 1.00e+00h  1\n",
      "iter    objective    inf_pr   inf_du lg(mu)  ||d||  lg(rg) alpha_du alpha_pr  ls\n",
      "  50  2.4254076e+02 3.10e-09 4.79e-04 -11.0 4.90e-03    -  1.00e+00 1.00e+00h  1\n",
      "  51  2.4254076e+02 3.19e-09 2.44e-04 -11.0 2.41e-03    -  1.00e+00 1.00e+00h  1\n",
      "  52  2.4254076e+02 2.29e-10 1.99e-04 -11.0 2.14e-03    -  1.00e+00 1.00e+00h  1\n",
      "  53  2.4254076e+02 2.48e-13 9.60e-04 -11.0 6.23e-03    -  1.00e+00 1.00e+00H  1\n",
      "  54  2.4254076e+02 5.86e-09 2.26e-05 -11.0 6.71e-03    -  1.00e+00 1.00e+00h  1\n",
      "  55  2.4254076e+02 1.17e-10 7.44e-05 -11.0 3.71e-04    -  1.00e+00 1.00e+00h  1\n",
      "  56  2.4254076e+02 8.86e-11 5.75e-06 -11.0 2.71e-04    -  1.00e+00 1.00e+00h  1\n",
      "  57  2.4254076e+02 1.44e-12 1.82e-05 -11.0 1.23e-04    -  1.00e+00 1.00e+00h  1\n",
      "  58  2.4254076e+02 1.33e-15 7.55e-05 -11.0 1.06e-03    -  1.00e+00 1.00e+00H  1\n",
      "  59  2.4254076e+02 8.88e-16 8.80e-05 -11.0 1.42e-03    -  1.00e+00 1.00e+00H  1\n",
      "iter    objective    inf_pr   inf_du lg(mu)  ||d||  lg(rg) alpha_du alpha_pr  ls\n",
      "  60  2.4254076e+02 1.39e-14 3.72e-05 -11.0 1.71e-03    -  1.00e+00 1.00e+00H  1\n",
      "  61  2.4254076e+02 4.22e-15 1.66e-04 -11.0 6.34e-04    -  1.00e+00 1.00e+00H  1\n",
      "  62  2.4254076e+02 1.73e-10 1.09e-05 -11.0 5.62e-04    -  1.00e+00 1.00e+00h  1\n",
      "  63  2.4254076e+02 2.69e-13 4.28e-06 -11.0 3.02e-05    -  1.00e+00 1.00e+00h  1\n",
      "  64  2.4254076e+02 2.32e-13 1.69e-06 -11.0 4.18e-05    -  1.00e+00 1.00e+00h  1\n",
      "  65  2.4254076e+02 1.78e-15 2.51e-05 -11.0 8.45e-05    -  1.00e+00 1.00e+00H  1\n",
      "  66  2.4254076e+02 3.96e-12 2.09e-06 -11.0 6.00e-05    -  1.00e+00 1.00e+00h  1\n",
      "  67  2.4254076e+02 1.87e-14 1.30e-06 -11.0 7.28e-06    -  1.00e+00 1.00e+00h  1\n",
      "  68  2.4254076e+02 1.66e-13 2.20e-06 -11.0 3.60e-05    -  1.00e+00 1.00e+00h  1\n",
      "  69  2.4254076e+02 2.59e-13 1.55e-06 -11.0 3.35e-05    -  1.00e+00 1.00e+00h  1\n",
      "iter    objective    inf_pr   inf_du lg(mu)  ||d||  lg(rg) alpha_du alpha_pr  ls\n",
      "  70  2.4254076e+02 8.88e-16 5.27e-06 -11.0 2.25e-05    -  1.00e+00 1.00e+00H  1\n",
      "  71  2.4254076e+02 1.28e-13 7.39e-07 -11.0 2.40e-05    -  1.00e+00 1.00e+00h  1\n",
      "\n",
      "Number of Iterations....: 71\n",
      "\n",
      "                                   (scaled)                 (unscaled)\n",
      "Objective...............:   2.4254076083751568e+02    2.4254076083751568e+02\n",
      "Dual infeasibility......:   7.3869604221010743e-07    7.3869604221010743e-07\n",
      "Constraint violation....:   1.2773115898312426e-13    1.2773115898312426e-13\n",
      "Variable bound violation:   0.0000000000000000e+00    0.0000000000000000e+00\n",
      "Complementarity.........:   1.0001353818793486e-11    1.0001353818793486e-11\n",
      "Overall NLP error.......:   7.3869604221010743e-07    7.3869604221010743e-07\n",
      "\n",
      "\n",
      "Number of objective function evaluations             = 105\n",
      "Number of objective gradient evaluations             = 72\n",
      "Number of equality constraint evaluations            = 105\n",
      "Number of inequality constraint evaluations          = 105\n",
      "Number of equality constraint Jacobian evaluations   = 72\n",
      "Number of inequality constraint Jacobian evaluations = 72\n",
      "Number of Lagrangian Hessian evaluations             = 0\n",
      "Total seconds in IPOPT                               = 16.270\n",
      "\n",
      "EXIT: Optimal Solution Found.\n"
     ]
    },
    {
     "data": {
      "text/plain": [
       "448-element Vector{Float64}:\n",
       "  -1.0000000000000002\n",
       "   1.0\n",
       "  -0.9999999999999998\n",
       "   2.536695009439744e-18\n",
       "  -8.807463464595922e-17\n",
       "   1.5569602755738306e-17\n",
       "   2.9919211500130696e-19\n",
       "  -8.473247152309801e-17\n",
       "  36.54385651620015\n",
       "   9.528383197334264\n",
       "  -0.9904132548211596\n",
       "   0.9874784898099381\n",
       "  -0.9999999999999996\n",
       "   ⋮\n",
       "   7.937926948729248e-18\n",
       "   2.5345794527825414e-18\n",
       "  27.715469875311477\n",
       " -11.611806996198823\n",
       "   1.0\n",
       "   1.2938926261462371\n",
       "   1.0\n",
       "  -8.248969646604838e-19\n",
       "   5.343519788251374e-18\n",
       "   1.1309431792329332e-17\n",
       "   3.96896294834357e-18\n",
       "   1.2672903413471734e-18"
      ]
     },
     "execution_count": 19,
     "metadata": {},
     "output_type": "execute_result"
    }
   ],
   "source": [
    "prob = ProblemMOI(n_nlp,m_nlp)\n",
    "z_sol = solve(z0,prob) # solve"
   ]
  },
  {
   "cell_type": "code",
   "execution_count": 20,
   "id": "8f802dea",
   "metadata": {},
   "outputs": [],
   "source": [
    "z = reshape(z_sol[1:(end-Nx)],Nx+Nu,Nt-1)\n",
    "xtraj = [z[1:Nx,:] z_sol[end-(Nx-1):end]]\n",
    "utraj = z[(Nx+1):(Nx+Nu),:];"
   ]
  },
  {
   "cell_type": "code",
   "execution_count": 21,
   "id": "2a6ffd97",
   "metadata": {},
   "outputs": [
    {
     "data": {
      "image/svg+xml": [
       "<?xml version=\"1.0\" encoding=\"utf-8\"?>\n",
       "<svg xmlns=\"http://www.w3.org/2000/svg\" xmlns:xlink=\"http://www.w3.org/1999/xlink\" width=\"600\" height=\"400\" viewBox=\"0 0 2400 1600\">\n",
       "<defs>\n",
       "  <clipPath id=\"clip350\">\n",
       "    <rect x=\"0\" y=\"0\" width=\"2400\" height=\"1600\"/>\n",
       "  </clipPath>\n",
       "</defs>\n",
       "<path clip-path=\"url(#clip350)\" d=\"M0 1600 L2400 1600 L2400 0 L0 0  Z\" fill=\"#ffffff\" fill-rule=\"evenodd\" fill-opacity=\"1\"/>\n",
       "<defs>\n",
       "  <clipPath id=\"clip351\">\n",
       "    <rect x=\"480\" y=\"0\" width=\"1681\" height=\"1600\"/>\n",
       "  </clipPath>\n",
       "</defs>\n",
       "<path clip-path=\"url(#clip350)\" d=\"M156.112 1486.45 L2352.76 1486.45 L2352.76 47.2441 L156.112 47.2441  Z\" fill=\"#ffffff\" fill-rule=\"evenodd\" fill-opacity=\"1\"/>\n",
       "<defs>\n",
       "  <clipPath id=\"clip352\">\n",
       "    <rect x=\"156\" y=\"47\" width=\"2198\" height=\"1440\"/>\n",
       "  </clipPath>\n",
       "</defs>\n",
       "<polyline clip-path=\"url(#clip352)\" style=\"stroke:#000000; stroke-linecap:round; stroke-linejoin:round; stroke-width:2; stroke-opacity:0.1; fill:none\" points=\"218.281,1486.45 218.281,47.2441 \"/>\n",
       "<polyline clip-path=\"url(#clip352)\" style=\"stroke:#000000; stroke-linecap:round; stroke-linejoin:round; stroke-width:2; stroke-opacity:0.1; fill:none\" points=\"689.26,1486.45 689.26,47.2441 \"/>\n",
       "<polyline clip-path=\"url(#clip352)\" style=\"stroke:#000000; stroke-linecap:round; stroke-linejoin:round; stroke-width:2; stroke-opacity:0.1; fill:none\" points=\"1160.24,1486.45 1160.24,47.2441 \"/>\n",
       "<polyline clip-path=\"url(#clip352)\" style=\"stroke:#000000; stroke-linecap:round; stroke-linejoin:round; stroke-width:2; stroke-opacity:0.1; fill:none\" points=\"1631.22,1486.45 1631.22,47.2441 \"/>\n",
       "<polyline clip-path=\"url(#clip352)\" style=\"stroke:#000000; stroke-linecap:round; stroke-linejoin:round; stroke-width:2; stroke-opacity:0.1; fill:none\" points=\"2102.2,1486.45 2102.2,47.2441 \"/>\n",
       "<polyline clip-path=\"url(#clip350)\" style=\"stroke:#000000; stroke-linecap:round; stroke-linejoin:round; stroke-width:4; stroke-opacity:1; fill:none\" points=\"156.112,1486.45 2352.76,1486.45 \"/>\n",
       "<polyline clip-path=\"url(#clip350)\" style=\"stroke:#000000; stroke-linecap:round; stroke-linejoin:round; stroke-width:4; stroke-opacity:1; fill:none\" points=\"218.281,1486.45 218.281,1467.55 \"/>\n",
       "<polyline clip-path=\"url(#clip350)\" style=\"stroke:#000000; stroke-linecap:round; stroke-linejoin:round; stroke-width:4; stroke-opacity:1; fill:none\" points=\"689.26,1486.45 689.26,1467.55 \"/>\n",
       "<polyline clip-path=\"url(#clip350)\" style=\"stroke:#000000; stroke-linecap:round; stroke-linejoin:round; stroke-width:4; stroke-opacity:1; fill:none\" points=\"1160.24,1486.45 1160.24,1467.55 \"/>\n",
       "<polyline clip-path=\"url(#clip350)\" style=\"stroke:#000000; stroke-linecap:round; stroke-linejoin:round; stroke-width:4; stroke-opacity:1; fill:none\" points=\"1631.22,1486.45 1631.22,1467.55 \"/>\n",
       "<polyline clip-path=\"url(#clip350)\" style=\"stroke:#000000; stroke-linecap:round; stroke-linejoin:round; stroke-width:4; stroke-opacity:1; fill:none\" points=\"2102.2,1486.45 2102.2,1467.55 \"/>\n",
       "<path clip-path=\"url(#clip350)\" d=\"M218.281 1517.37 Q214.67 1517.37 212.842 1520.93 Q211.036 1524.47 211.036 1531.6 Q211.036 1538.71 212.842 1542.27 Q214.67 1545.82 218.281 1545.82 Q221.916 1545.82 223.721 1542.27 Q225.55 1538.71 225.55 1531.6 Q225.55 1524.47 223.721 1520.93 Q221.916 1517.37 218.281 1517.37 M218.281 1513.66 Q224.091 1513.66 227.147 1518.27 Q230.226 1522.85 230.226 1531.6 Q230.226 1540.33 227.147 1544.94 Q224.091 1549.52 218.281 1549.52 Q212.471 1549.52 209.392 1544.94 Q206.337 1540.33 206.337 1531.6 Q206.337 1522.85 209.392 1518.27 Q212.471 1513.66 218.281 1513.66 Z\" fill=\"#000000\" fill-rule=\"nonzero\" fill-opacity=\"1\" /><path clip-path=\"url(#clip350)\" d=\"M679.642 1544.91 L687.281 1544.91 L687.281 1518.55 L678.971 1520.21 L678.971 1515.95 L687.234 1514.29 L691.91 1514.29 L691.91 1544.91 L699.549 1544.91 L699.549 1548.85 L679.642 1548.85 L679.642 1544.91 Z\" fill=\"#000000\" fill-rule=\"nonzero\" fill-opacity=\"1\" /><path clip-path=\"url(#clip350)\" d=\"M1154.89 1544.91 L1171.21 1544.91 L1171.21 1548.85 L1149.27 1548.85 L1149.27 1544.91 Q1151.93 1542.16 1156.51 1537.53 Q1161.12 1532.88 1162.3 1531.53 Q1164.54 1529.01 1165.42 1527.27 Q1166.33 1525.51 1166.33 1523.82 Q1166.33 1521.07 1164.38 1519.33 Q1162.46 1517.6 1159.36 1517.6 Q1157.16 1517.6 1154.71 1518.36 Q1152.28 1519.13 1149.5 1520.68 L1149.5 1515.95 Q1152.32 1514.82 1154.78 1514.24 Q1157.23 1513.66 1159.27 1513.66 Q1164.64 1513.66 1167.83 1516.35 Q1171.03 1519.03 1171.03 1523.52 Q1171.03 1525.65 1170.22 1527.57 Q1169.43 1529.47 1167.32 1532.07 Q1166.74 1532.74 1163.64 1535.95 Q1160.54 1539.15 1154.89 1544.91 Z\" fill=\"#000000\" fill-rule=\"nonzero\" fill-opacity=\"1\" /><path clip-path=\"url(#clip350)\" d=\"M1635.46 1530.21 Q1638.82 1530.93 1640.7 1533.2 Q1642.59 1535.47 1642.59 1538.8 Q1642.59 1543.92 1639.08 1546.72 Q1635.56 1549.52 1629.08 1549.52 Q1626.9 1549.52 1624.58 1549.08 Q1622.29 1548.66 1619.84 1547.81 L1619.84 1543.29 Q1621.78 1544.43 1624.1 1545.01 Q1626.41 1545.58 1628.94 1545.58 Q1633.33 1545.58 1635.63 1543.85 Q1637.94 1542.11 1637.94 1538.8 Q1637.94 1535.75 1635.79 1534.03 Q1633.66 1532.3 1629.84 1532.3 L1625.81 1532.3 L1625.81 1528.45 L1630.02 1528.45 Q1633.47 1528.45 1635.3 1527.09 Q1637.13 1525.7 1637.13 1523.11 Q1637.13 1520.45 1635.23 1519.03 Q1633.36 1517.6 1629.84 1517.6 Q1627.92 1517.6 1625.72 1518.01 Q1623.52 1518.43 1620.88 1519.31 L1620.88 1515.14 Q1623.54 1514.4 1625.86 1514.03 Q1628.2 1513.66 1630.26 1513.66 Q1635.58 1513.66 1638.68 1516.09 Q1641.78 1518.5 1641.78 1522.62 Q1641.78 1525.49 1640.14 1527.48 Q1638.5 1529.45 1635.46 1530.21 Z\" fill=\"#000000\" fill-rule=\"nonzero\" fill-opacity=\"1\" /><path clip-path=\"url(#clip350)\" d=\"M2105.2 1518.36 L2093.4 1536.81 L2105.2 1536.81 L2105.2 1518.36 M2103.98 1514.29 L2109.86 1514.29 L2109.86 1536.81 L2114.79 1536.81 L2114.79 1540.7 L2109.86 1540.7 L2109.86 1548.85 L2105.2 1548.85 L2105.2 1540.7 L2089.6 1540.7 L2089.6 1536.19 L2103.98 1514.29 Z\" fill=\"#000000\" fill-rule=\"nonzero\" fill-opacity=\"1\" /><polyline clip-path=\"url(#clip352)\" style=\"stroke:#000000; stroke-linecap:round; stroke-linejoin:round; stroke-width:2; stroke-opacity:0.1; fill:none\" points=\"156.112,1445.72 2352.76,1445.72 \"/>\n",
       "<polyline clip-path=\"url(#clip352)\" style=\"stroke:#000000; stroke-linecap:round; stroke-linejoin:round; stroke-width:2; stroke-opacity:0.1; fill:none\" points=\"156.112,1022.8 2352.76,1022.8 \"/>\n",
       "<polyline clip-path=\"url(#clip352)\" style=\"stroke:#000000; stroke-linecap:round; stroke-linejoin:round; stroke-width:2; stroke-opacity:0.1; fill:none\" points=\"156.112,599.886 2352.76,599.886 \"/>\n",
       "<polyline clip-path=\"url(#clip352)\" style=\"stroke:#000000; stroke-linecap:round; stroke-linejoin:round; stroke-width:2; stroke-opacity:0.1; fill:none\" points=\"156.112,176.971 2352.76,176.971 \"/>\n",
       "<polyline clip-path=\"url(#clip350)\" style=\"stroke:#000000; stroke-linecap:round; stroke-linejoin:round; stroke-width:4; stroke-opacity:1; fill:none\" points=\"156.112,1486.45 156.112,47.2441 \"/>\n",
       "<polyline clip-path=\"url(#clip350)\" style=\"stroke:#000000; stroke-linecap:round; stroke-linejoin:round; stroke-width:4; stroke-opacity:1; fill:none\" points=\"156.112,1445.72 175.01,1445.72 \"/>\n",
       "<polyline clip-path=\"url(#clip350)\" style=\"stroke:#000000; stroke-linecap:round; stroke-linejoin:round; stroke-width:4; stroke-opacity:1; fill:none\" points=\"156.112,1022.8 175.01,1022.8 \"/>\n",
       "<polyline clip-path=\"url(#clip350)\" style=\"stroke:#000000; stroke-linecap:round; stroke-linejoin:round; stroke-width:4; stroke-opacity:1; fill:none\" points=\"156.112,599.886 175.01,599.886 \"/>\n",
       "<polyline clip-path=\"url(#clip350)\" style=\"stroke:#000000; stroke-linecap:round; stroke-linejoin:round; stroke-width:4; stroke-opacity:1; fill:none\" points=\"156.112,176.971 175.01,176.971 \"/>\n",
       "<path clip-path=\"url(#clip350)\" d=\"M62.9365 1431.51 Q59.3254 1431.51 57.4967 1435.08 Q55.6912 1438.62 55.6912 1445.75 Q55.6912 1452.86 57.4967 1456.42 Q59.3254 1459.96 62.9365 1459.96 Q66.5707 1459.96 68.3763 1456.42 Q70.205 1452.86 70.205 1445.75 Q70.205 1438.62 68.3763 1435.08 Q66.5707 1431.51 62.9365 1431.51 M62.9365 1427.81 Q68.7467 1427.81 71.8022 1432.42 Q74.8809 1437 74.8809 1445.75 Q74.8809 1454.48 71.8022 1459.08 Q68.7467 1463.67 62.9365 1463.67 Q57.1264 1463.67 54.0477 1459.08 Q50.9921 1454.48 50.9921 1445.75 Q50.9921 1437 54.0477 1432.42 Q57.1264 1427.81 62.9365 1427.81 Z\" fill=\"#000000\" fill-rule=\"nonzero\" fill-opacity=\"1\" /><path clip-path=\"url(#clip350)\" d=\"M83.0984 1457.12 L87.9827 1457.12 L87.9827 1463 L83.0984 1463 L83.0984 1457.12 Z\" fill=\"#000000\" fill-rule=\"nonzero\" fill-opacity=\"1\" /><path clip-path=\"url(#clip350)\" d=\"M108.168 1431.51 Q104.557 1431.51 102.728 1435.08 Q100.922 1438.62 100.922 1445.75 Q100.922 1452.86 102.728 1456.42 Q104.557 1459.96 108.168 1459.96 Q111.802 1459.96 113.608 1456.42 Q115.436 1452.86 115.436 1445.75 Q115.436 1438.62 113.608 1435.08 Q111.802 1431.51 108.168 1431.51 M108.168 1427.81 Q113.978 1427.81 117.033 1432.42 Q120.112 1437 120.112 1445.75 Q120.112 1454.48 117.033 1459.08 Q113.978 1463.67 108.168 1463.67 Q102.358 1463.67 99.2789 1459.08 Q96.2234 1454.48 96.2234 1445.75 Q96.2234 1437 99.2789 1432.42 Q102.358 1427.81 108.168 1427.81 Z\" fill=\"#000000\" fill-rule=\"nonzero\" fill-opacity=\"1\" /><path clip-path=\"url(#clip350)\" d=\"M63.9319 1008.6 Q60.3208 1008.6 58.4921 1012.16 Q56.6865 1015.71 56.6865 1022.84 Q56.6865 1029.94 58.4921 1033.51 Q60.3208 1037.05 63.9319 1037.05 Q67.5661 1037.05 69.3717 1033.51 Q71.2004 1029.94 71.2004 1022.84 Q71.2004 1015.71 69.3717 1012.16 Q67.5661 1008.6 63.9319 1008.6 M63.9319 1004.9 Q69.742 1004.9 72.7976 1009.5 Q75.8763 1014.09 75.8763 1022.84 Q75.8763 1031.56 72.7976 1036.17 Q69.742 1040.75 63.9319 1040.75 Q58.1217 1040.75 55.043 1036.17 Q51.9875 1031.56 51.9875 1022.84 Q51.9875 1014.09 55.043 1009.5 Q58.1217 1004.9 63.9319 1004.9 Z\" fill=\"#000000\" fill-rule=\"nonzero\" fill-opacity=\"1\" /><path clip-path=\"url(#clip350)\" d=\"M84.0938 1034.2 L88.978 1034.2 L88.978 1040.08 L84.0938 1040.08 L84.0938 1034.2 Z\" fill=\"#000000\" fill-rule=\"nonzero\" fill-opacity=\"1\" /><path clip-path=\"url(#clip350)\" d=\"M99.2095 1005.52 L117.566 1005.52 L117.566 1009.46 L103.492 1009.46 L103.492 1017.93 Q104.51 1017.58 105.529 1017.42 Q106.547 1017.23 107.566 1017.23 Q113.353 1017.23 116.733 1020.4 Q120.112 1023.58 120.112 1028.99 Q120.112 1034.57 116.64 1037.67 Q113.168 1040.75 106.848 1040.75 Q104.672 1040.75 102.404 1040.38 Q100.159 1040.01 97.7511 1039.27 L97.7511 1034.57 Q99.8345 1035.71 102.057 1036.26 Q104.279 1036.82 106.756 1036.82 Q110.76 1036.82 113.098 1034.71 Q115.436 1032.6 115.436 1028.99 Q115.436 1025.38 113.098 1023.28 Q110.76 1021.17 106.756 1021.17 Q104.881 1021.17 103.006 1021.59 Q101.154 1022 99.2095 1022.88 L99.2095 1005.52 Z\" fill=\"#000000\" fill-rule=\"nonzero\" fill-opacity=\"1\" /><path clip-path=\"url(#clip350)\" d=\"M53.7467 613.231 L61.3856 613.231 L61.3856 586.865 L53.0754 588.532 L53.0754 584.272 L61.3393 582.606 L66.0152 582.606 L66.0152 613.231 L73.654 613.231 L73.654 617.166 L53.7467 617.166 L53.7467 613.231 Z\" fill=\"#000000\" fill-rule=\"nonzero\" fill-opacity=\"1\" /><path clip-path=\"url(#clip350)\" d=\"M83.0984 611.286 L87.9827 611.286 L87.9827 617.166 L83.0984 617.166 L83.0984 611.286 Z\" fill=\"#000000\" fill-rule=\"nonzero\" fill-opacity=\"1\" /><path clip-path=\"url(#clip350)\" d=\"M108.168 585.684 Q104.557 585.684 102.728 589.249 Q100.922 592.791 100.922 599.92 Q100.922 607.027 102.728 610.592 Q104.557 614.133 108.168 614.133 Q111.802 614.133 113.608 610.592 Q115.436 607.027 115.436 599.92 Q115.436 592.791 113.608 589.249 Q111.802 585.684 108.168 585.684 M108.168 581.981 Q113.978 581.981 117.033 586.587 Q120.112 591.171 120.112 599.92 Q120.112 608.647 117.033 613.254 Q113.978 617.837 108.168 617.837 Q102.358 617.837 99.2789 613.254 Q96.2234 608.647 96.2234 599.92 Q96.2234 591.171 99.2789 586.587 Q102.358 581.981 108.168 581.981 Z\" fill=\"#000000\" fill-rule=\"nonzero\" fill-opacity=\"1\" /><path clip-path=\"url(#clip350)\" d=\"M54.7421 190.316 L62.381 190.316 L62.381 163.95 L54.0708 165.617 L54.0708 161.357 L62.3347 159.691 L67.0106 159.691 L67.0106 190.316 L74.6494 190.316 L74.6494 194.251 L54.7421 194.251 L54.7421 190.316 Z\" fill=\"#000000\" fill-rule=\"nonzero\" fill-opacity=\"1\" /><path clip-path=\"url(#clip350)\" d=\"M84.0938 188.371 L88.978 188.371 L88.978 194.251 L84.0938 194.251 L84.0938 188.371 Z\" fill=\"#000000\" fill-rule=\"nonzero\" fill-opacity=\"1\" /><path clip-path=\"url(#clip350)\" d=\"M99.2095 159.691 L117.566 159.691 L117.566 163.626 L103.492 163.626 L103.492 172.098 Q104.51 171.751 105.529 171.589 Q106.547 171.404 107.566 171.404 Q113.353 171.404 116.733 174.575 Q120.112 177.746 120.112 183.163 Q120.112 188.742 116.64 191.843 Q113.168 194.922 106.848 194.922 Q104.672 194.922 102.404 194.552 Q100.159 194.181 97.7511 193.441 L97.7511 188.742 Q99.8345 189.876 102.057 190.431 Q104.279 190.987 106.756 190.987 Q110.76 190.987 113.098 188.88 Q115.436 186.774 115.436 183.163 Q115.436 179.552 113.098 177.445 Q110.76 175.339 106.756 175.339 Q104.881 175.339 103.006 175.756 Q101.154 176.172 99.2095 177.052 L99.2095 159.691 Z\" fill=\"#000000\" fill-rule=\"nonzero\" fill-opacity=\"1\" /><polyline clip-path=\"url(#clip352)\" style=\"stroke:#009af9; stroke-linecap:round; stroke-linejoin:round; stroke-width:4; stroke-opacity:1; fill:none\" points=\"218.281,599.886 265.379,610.477 312.477,627.126 359.575,617.108 406.673,535.667 453.771,308.349 500.868,135.109 547.966,185.376 595.064,351.183 642.162,571.649 689.26,764.549 736.358,870.173 783.456,895.063 830.553,851.952 877.651,724.127 924.749,459.029 971.847,250.282 1018.94,263.316 1066.04,400.319 1113.14,597.503 1160.24,773.986 1207.34,871.127 1254.43,893.122 1301.53,850.088 1348.63,723.868 1395.73,461.093 1442.83,255.059 1489.92,271 1537.02,410.875 1584.12,610.597 1631.22,788.808 1678.31,886.01 1725.41,904.645 1772.51,851.438 1819.61,701.915 1866.71,391.142 1913.8,128.212 1960.9,87.9763 2008,162.221 2055.1,291.973 2102.2,398.561 2149.29,429.764 2196.39,406.711 2243.49,369.363 2290.59,351.303 \"/>\n",
       "<polyline clip-path=\"url(#clip352)\" style=\"stroke:#e26f46; stroke-linecap:round; stroke-linejoin:round; stroke-width:4; stroke-opacity:1; fill:none\" points=\"218.281,1445.72 265.379,1445.72 312.477,1445.72 359.575,1445.72 406.673,1445.72 453.771,1445.72 500.868,1378.29 547.966,1253.31 595.064,1178.75 642.162,1215.47 689.26,1445.72 736.358,1445.72 783.456,1445.72 830.553,1445.72 877.651,1445.72 924.749,1445.72 971.847,1385.55 1018.94,1269.56 1066.04,1195.54 1113.14,1227.3 1160.24,1445.72 1207.34,1445.72 1254.43,1445.72 1301.53,1445.72 1348.63,1445.72 1395.73,1445.72 1442.83,1385.39 1489.92,1269.04 1537.02,1194.71 1584.12,1226.48 1631.22,1445.72 1678.31,1445.72 1725.41,1445.72 1772.51,1445.72 1819.61,1445.72 1866.71,1445.72 1913.8,1378.23 1960.9,1253.99 2008,1181.23 2055.1,1218.92 2102.2,1445.72 2149.29,1445.72 2196.39,1445.72 2243.49,1445.72 2290.59,1445.72 \"/>\n",
       "<path clip-path=\"url(#clip350)\" d=\"M229.334 250.738 L615.178 250.738 L615.178 95.2176 L229.334 95.2176  Z\" fill=\"#ffffff\" fill-rule=\"evenodd\" fill-opacity=\"1\"/>\n",
       "<polyline clip-path=\"url(#clip350)\" style=\"stroke:#000000; stroke-linecap:round; stroke-linejoin:round; stroke-width:4; stroke-opacity:1; fill:none\" points=\"229.334,250.738 615.178,250.738 615.178,95.2176 229.334,95.2176 229.334,250.738 \"/>\n",
       "<polyline clip-path=\"url(#clip350)\" style=\"stroke:#009af9; stroke-linecap:round; stroke-linejoin:round; stroke-width:4; stroke-opacity:1; fill:none\" points=\"253.741,147.058 400.184,147.058 \"/>\n",
       "<path clip-path=\"url(#clip350)\" d=\"M438.433 166.745 Q436.628 171.375 434.915 172.787 Q433.202 174.199 430.332 174.199 L426.929 174.199 L426.929 170.634 L429.429 170.634 Q431.188 170.634 432.16 169.8 Q433.132 168.967 434.313 165.865 L435.077 163.921 L424.591 138.412 L429.105 138.412 L437.206 158.689 L445.308 138.412 L449.822 138.412 L438.433 166.745 Z\" fill=\"#000000\" fill-rule=\"nonzero\" fill-opacity=\"1\" /><path clip-path=\"url(#clip350)\" d=\"M475.401 172.208 L475.401 175.518 L450.771 175.518 L450.771 172.208 L475.401 172.208 Z\" fill=\"#000000\" fill-rule=\"nonzero\" fill-opacity=\"1\" /><path clip-path=\"url(#clip350)\" d=\"M498.016 151.398 Q498.016 146.699 496.072 144.037 Q494.151 141.352 490.771 141.352 Q487.391 141.352 485.447 144.037 Q483.526 146.699 483.526 151.398 Q483.526 156.097 485.447 158.782 Q487.391 161.444 490.771 161.444 Q494.151 161.444 496.072 158.782 Q498.016 156.097 498.016 151.398 M483.526 142.347 Q484.868 140.032 486.905 138.921 Q488.965 137.787 491.813 137.787 Q496.535 137.787 499.475 141.537 Q502.438 145.287 502.438 151.398 Q502.438 157.509 499.475 161.259 Q496.535 165.009 491.813 165.009 Q488.965 165.009 486.905 163.898 Q484.868 162.763 483.526 160.449 L483.526 164.338 L479.243 164.338 L479.243 128.319 L483.526 128.319 L483.526 142.347 Z\" fill=\"#000000\" fill-rule=\"nonzero\" fill-opacity=\"1\" /><path clip-path=\"url(#clip350)\" d=\"M519.544 141.398 Q516.118 141.398 514.127 144.083 Q512.137 146.745 512.137 151.398 Q512.137 156.051 514.104 158.736 Q516.095 161.398 519.544 161.398 Q522.947 161.398 524.937 158.713 Q526.928 156.027 526.928 151.398 Q526.928 146.791 524.937 144.106 Q522.947 141.398 519.544 141.398 M519.544 137.787 Q525.1 137.787 528.271 141.398 Q531.442 145.009 531.442 151.398 Q531.442 157.764 528.271 161.398 Q525.1 165.009 519.544 165.009 Q513.965 165.009 510.794 161.398 Q507.646 157.764 507.646 151.398 Q507.646 145.009 510.794 141.398 Q513.965 137.787 519.544 137.787 Z\" fill=\"#000000\" fill-rule=\"nonzero\" fill-opacity=\"1\" /><path clip-path=\"url(#clip350)\" d=\"M555.562 142.347 L555.562 128.319 L559.822 128.319 L559.822 164.338 L555.562 164.338 L555.562 160.449 Q554.22 162.763 552.16 163.898 Q550.123 165.009 547.252 165.009 Q542.553 165.009 539.59 161.259 Q536.65 157.509 536.65 151.398 Q536.65 145.287 539.59 141.537 Q542.553 137.787 547.252 137.787 Q550.123 137.787 552.16 138.921 Q554.22 140.032 555.562 142.347 M541.049 151.398 Q541.049 156.097 542.97 158.782 Q544.914 161.444 548.294 161.444 Q551.673 161.444 553.618 158.782 Q555.562 156.097 555.562 151.398 Q555.562 146.699 553.618 144.037 Q551.673 141.352 548.294 141.352 Q544.914 141.352 542.97 144.037 Q541.049 146.699 541.049 151.398 Z\" fill=\"#000000\" fill-rule=\"nonzero\" fill-opacity=\"1\" /><path clip-path=\"url(#clip350)\" d=\"M579.382 166.745 Q577.576 171.375 575.863 172.787 Q574.15 174.199 571.28 174.199 L567.877 174.199 L567.877 170.634 L570.377 170.634 Q572.136 170.634 573.109 169.8 Q574.081 168.967 575.261 165.865 L576.025 163.921 L565.539 138.412 L570.053 138.412 L578.155 158.689 L586.257 138.412 L590.77 138.412 L579.382 166.745 Z\" fill=\"#000000\" fill-rule=\"nonzero\" fill-opacity=\"1\" /><polyline clip-path=\"url(#clip350)\" style=\"stroke:#e26f46; stroke-linecap:round; stroke-linejoin:round; stroke-width:4; stroke-opacity:1; fill:none\" points=\"253.741,198.898 400.184,198.898 \"/>\n",
       "<path clip-path=\"url(#clip350)\" d=\"M438.433 218.585 Q436.628 223.215 434.915 224.627 Q433.202 226.039 430.332 226.039 L426.929 226.039 L426.929 222.474 L429.429 222.474 Q431.188 222.474 432.16 221.64 Q433.132 220.807 434.313 217.705 L435.077 215.761 L424.591 190.252 L429.105 190.252 L437.206 210.529 L445.308 190.252 L449.822 190.252 L438.433 218.585 Z\" fill=\"#000000\" fill-rule=\"nonzero\" fill-opacity=\"1\" /><path clip-path=\"url(#clip350)\" d=\"M475.401 224.048 L475.401 227.358 L450.771 227.358 L450.771 224.048 L475.401 224.048 Z\" fill=\"#000000\" fill-rule=\"nonzero\" fill-opacity=\"1\" /><path clip-path=\"url(#clip350)\" d=\"M492.53 180.159 L492.53 183.701 L488.456 183.701 Q486.165 183.701 485.262 184.627 Q484.382 185.553 484.382 187.96 L484.382 190.252 L491.396 190.252 L491.396 193.562 L484.382 193.562 L484.382 216.178 L480.1 216.178 L480.1 193.562 L476.026 193.562 L476.026 190.252 L480.1 190.252 L480.1 188.446 Q480.1 184.118 482.114 182.15 Q484.128 180.159 488.503 180.159 L492.53 180.159 Z\" fill=\"#000000\" fill-rule=\"nonzero\" fill-opacity=\"1\" /><path clip-path=\"url(#clip350)\" d=\"M506.141 193.238 Q502.715 193.238 500.725 195.923 Q498.734 198.585 498.734 203.238 Q498.734 207.891 500.702 210.576 Q502.692 213.238 506.141 213.238 Q509.544 213.238 511.535 210.553 Q513.526 207.867 513.526 203.238 Q513.526 198.631 511.535 195.946 Q509.544 193.238 506.141 193.238 M506.141 189.627 Q511.697 189.627 514.868 193.238 Q518.039 196.849 518.039 203.238 Q518.039 209.604 514.868 213.238 Q511.697 216.849 506.141 216.849 Q500.563 216.849 497.391 213.238 Q494.243 209.604 494.243 203.238 Q494.243 196.849 497.391 193.238 Q500.563 189.627 506.141 189.627 Z\" fill=\"#000000\" fill-rule=\"nonzero\" fill-opacity=\"1\" /><path clip-path=\"url(#clip350)\" d=\"M535.146 193.238 Q531.72 193.238 529.729 195.923 Q527.738 198.585 527.738 203.238 Q527.738 207.891 529.706 210.576 Q531.697 213.238 535.146 213.238 Q538.549 213.238 540.539 210.553 Q542.53 207.867 542.53 203.238 Q542.53 198.631 540.539 195.946 Q538.549 193.238 535.146 193.238 M535.146 189.627 Q540.701 189.627 543.873 193.238 Q547.044 196.849 547.044 203.238 Q547.044 209.604 543.873 213.238 Q540.701 216.849 535.146 216.849 Q529.567 216.849 526.396 213.238 Q523.248 209.604 523.248 203.238 Q523.248 196.849 526.396 193.238 Q529.567 189.627 535.146 189.627 Z\" fill=\"#000000\" fill-rule=\"nonzero\" fill-opacity=\"1\" /><path clip-path=\"url(#clip350)\" d=\"M558.317 182.891 L558.317 190.252 L567.09 190.252 L567.09 193.562 L558.317 193.562 L558.317 207.636 Q558.317 210.807 559.173 211.71 Q560.053 212.613 562.715 212.613 L567.09 212.613 L567.09 216.178 L562.715 216.178 Q557.785 216.178 555.91 214.349 Q554.035 212.497 554.035 207.636 L554.035 193.562 L550.91 193.562 L550.91 190.252 L554.035 190.252 L554.035 182.891 L558.317 182.891 Z\" fill=\"#000000\" fill-rule=\"nonzero\" fill-opacity=\"1\" /></svg>\n"
      ]
     },
     "execution_count": 21,
     "metadata": {},
     "output_type": "execute_result"
    }
   ],
   "source": [
    "plot(thist,xtraj[2,:], label=\"y_body\")\n",
    "plot!(thist,xtraj[4,:], label=\"y_foot\")"
   ]
  },
  {
   "cell_type": "code",
   "execution_count": 22,
   "id": "b8e79119",
   "metadata": {},
   "outputs": [
    {
     "data": {
      "image/svg+xml": [
       "<?xml version=\"1.0\" encoding=\"utf-8\"?>\n",
       "<svg xmlns=\"http://www.w3.org/2000/svg\" xmlns:xlink=\"http://www.w3.org/1999/xlink\" width=\"600\" height=\"400\" viewBox=\"0 0 2400 1600\">\n",
       "<defs>\n",
       "  <clipPath id=\"clip390\">\n",
       "    <rect x=\"0\" y=\"0\" width=\"2400\" height=\"1600\"/>\n",
       "  </clipPath>\n",
       "</defs>\n",
       "<path clip-path=\"url(#clip390)\" d=\"M0 1600 L2400 1600 L2400 0 L0 0  Z\" fill=\"#ffffff\" fill-rule=\"evenodd\" fill-opacity=\"1\"/>\n",
       "<defs>\n",
       "  <clipPath id=\"clip391\">\n",
       "    <rect x=\"480\" y=\"0\" width=\"1681\" height=\"1600\"/>\n",
       "  </clipPath>\n",
       "</defs>\n",
       "<path clip-path=\"url(#clip390)\" d=\"M193.936 1486.45 L2352.76 1486.45 L2352.76 47.2441 L193.936 47.2441  Z\" fill=\"#ffffff\" fill-rule=\"evenodd\" fill-opacity=\"1\"/>\n",
       "<defs>\n",
       "  <clipPath id=\"clip392\">\n",
       "    <rect x=\"193\" y=\"47\" width=\"2160\" height=\"1440\"/>\n",
       "  </clipPath>\n",
       "</defs>\n",
       "<polyline clip-path=\"url(#clip392)\" style=\"stroke:#000000; stroke-linecap:round; stroke-linejoin:round; stroke-width:2; stroke-opacity:0.1; fill:none\" points=\"255.035,1486.45 255.035,47.2441 \"/>\n",
       "<polyline clip-path=\"url(#clip392)\" style=\"stroke:#000000; stroke-linecap:round; stroke-linejoin:round; stroke-width:2; stroke-opacity:0.1; fill:none\" points=\"717.903,1486.45 717.903,47.2441 \"/>\n",
       "<polyline clip-path=\"url(#clip392)\" style=\"stroke:#000000; stroke-linecap:round; stroke-linejoin:round; stroke-width:2; stroke-opacity:0.1; fill:none\" points=\"1180.77,1486.45 1180.77,47.2441 \"/>\n",
       "<polyline clip-path=\"url(#clip392)\" style=\"stroke:#000000; stroke-linecap:round; stroke-linejoin:round; stroke-width:2; stroke-opacity:0.1; fill:none\" points=\"1643.64,1486.45 1643.64,47.2441 \"/>\n",
       "<polyline clip-path=\"url(#clip392)\" style=\"stroke:#000000; stroke-linecap:round; stroke-linejoin:round; stroke-width:2; stroke-opacity:0.1; fill:none\" points=\"2106.51,1486.45 2106.51,47.2441 \"/>\n",
       "<polyline clip-path=\"url(#clip390)\" style=\"stroke:#000000; stroke-linecap:round; stroke-linejoin:round; stroke-width:4; stroke-opacity:1; fill:none\" points=\"193.936,1486.45 2352.76,1486.45 \"/>\n",
       "<polyline clip-path=\"url(#clip390)\" style=\"stroke:#000000; stroke-linecap:round; stroke-linejoin:round; stroke-width:4; stroke-opacity:1; fill:none\" points=\"255.035,1486.45 255.035,1467.55 \"/>\n",
       "<polyline clip-path=\"url(#clip390)\" style=\"stroke:#000000; stroke-linecap:round; stroke-linejoin:round; stroke-width:4; stroke-opacity:1; fill:none\" points=\"717.903,1486.45 717.903,1467.55 \"/>\n",
       "<polyline clip-path=\"url(#clip390)\" style=\"stroke:#000000; stroke-linecap:round; stroke-linejoin:round; stroke-width:4; stroke-opacity:1; fill:none\" points=\"1180.77,1486.45 1180.77,1467.55 \"/>\n",
       "<polyline clip-path=\"url(#clip390)\" style=\"stroke:#000000; stroke-linecap:round; stroke-linejoin:round; stroke-width:4; stroke-opacity:1; fill:none\" points=\"1643.64,1486.45 1643.64,1467.55 \"/>\n",
       "<polyline clip-path=\"url(#clip390)\" style=\"stroke:#000000; stroke-linecap:round; stroke-linejoin:round; stroke-width:4; stroke-opacity:1; fill:none\" points=\"2106.51,1486.45 2106.51,1467.55 \"/>\n",
       "<path clip-path=\"url(#clip390)\" d=\"M255.035 1517.37 Q251.424 1517.37 249.595 1520.93 Q247.789 1524.47 247.789 1531.6 Q247.789 1538.71 249.595 1542.27 Q251.424 1545.82 255.035 1545.82 Q258.669 1545.82 260.474 1542.27 Q262.303 1538.71 262.303 1531.6 Q262.303 1524.47 260.474 1520.93 Q258.669 1517.37 255.035 1517.37 M255.035 1513.66 Q260.845 1513.66 263.9 1518.27 Q266.979 1522.85 266.979 1531.6 Q266.979 1540.33 263.9 1544.94 Q260.845 1549.52 255.035 1549.52 Q249.225 1549.52 246.146 1544.94 Q243.09 1540.33 243.09 1531.6 Q243.09 1522.85 246.146 1518.27 Q249.225 1513.66 255.035 1513.66 Z\" fill=\"#000000\" fill-rule=\"nonzero\" fill-opacity=\"1\" /><path clip-path=\"url(#clip390)\" d=\"M708.285 1544.91 L715.924 1544.91 L715.924 1518.55 L707.614 1520.21 L707.614 1515.95 L715.878 1514.29 L720.554 1514.29 L720.554 1544.91 L728.193 1544.91 L728.193 1548.85 L708.285 1548.85 L708.285 1544.91 Z\" fill=\"#000000\" fill-rule=\"nonzero\" fill-opacity=\"1\" /><path clip-path=\"url(#clip390)\" d=\"M1175.43 1544.91 L1191.74 1544.91 L1191.74 1548.85 L1169.8 1548.85 L1169.8 1544.91 Q1172.46 1542.16 1177.05 1537.53 Q1181.65 1532.88 1182.83 1531.53 Q1185.08 1529.01 1185.96 1527.27 Q1186.86 1525.51 1186.86 1523.82 Q1186.86 1521.07 1184.92 1519.33 Q1182.99 1517.6 1179.89 1517.6 Q1177.69 1517.6 1175.24 1518.36 Q1172.81 1519.13 1170.03 1520.68 L1170.03 1515.95 Q1172.86 1514.82 1175.31 1514.24 Q1177.76 1513.66 1179.8 1513.66 Q1185.17 1513.66 1188.36 1516.35 Q1191.56 1519.03 1191.56 1523.52 Q1191.56 1525.65 1190.75 1527.57 Q1189.96 1529.47 1187.86 1532.07 Q1187.28 1532.74 1184.17 1535.95 Q1181.07 1539.15 1175.43 1544.91 Z\" fill=\"#000000\" fill-rule=\"nonzero\" fill-opacity=\"1\" /><path clip-path=\"url(#clip390)\" d=\"M1647.89 1530.21 Q1651.25 1530.93 1653.12 1533.2 Q1655.02 1535.47 1655.02 1538.8 Q1655.02 1543.92 1651.5 1546.72 Q1647.98 1549.52 1641.5 1549.52 Q1639.32 1549.52 1637.01 1549.08 Q1634.72 1548.66 1632.26 1547.81 L1632.26 1543.29 Q1634.21 1544.43 1636.52 1545.01 Q1638.84 1545.58 1641.36 1545.58 Q1645.76 1545.58 1648.05 1543.85 Q1650.37 1542.11 1650.37 1538.8 Q1650.37 1535.75 1648.21 1534.03 Q1646.08 1532.3 1642.26 1532.3 L1638.24 1532.3 L1638.24 1528.45 L1642.45 1528.45 Q1645.9 1528.45 1647.73 1527.09 Q1649.56 1525.7 1649.56 1523.11 Q1649.56 1520.45 1647.66 1519.03 Q1645.78 1517.6 1642.26 1517.6 Q1640.34 1517.6 1638.14 1518.01 Q1635.94 1518.43 1633.31 1519.31 L1633.31 1515.14 Q1635.97 1514.4 1638.28 1514.03 Q1640.62 1513.66 1642.68 1513.66 Q1648 1513.66 1651.11 1516.09 Q1654.21 1518.5 1654.21 1522.62 Q1654.21 1525.49 1652.56 1527.48 Q1650.92 1529.45 1647.89 1530.21 Z\" fill=\"#000000\" fill-rule=\"nonzero\" fill-opacity=\"1\" /><path clip-path=\"url(#clip390)\" d=\"M2109.52 1518.36 L2097.71 1536.81 L2109.52 1536.81 L2109.52 1518.36 M2108.29 1514.29 L2114.17 1514.29 L2114.17 1536.81 L2119.1 1536.81 L2119.1 1540.7 L2114.17 1540.7 L2114.17 1548.85 L2109.52 1548.85 L2109.52 1540.7 L2093.92 1540.7 L2093.92 1536.19 L2108.29 1514.29 Z\" fill=\"#000000\" fill-rule=\"nonzero\" fill-opacity=\"1\" /><polyline clip-path=\"url(#clip392)\" style=\"stroke:#000000; stroke-linecap:round; stroke-linejoin:round; stroke-width:2; stroke-opacity:0.1; fill:none\" points=\"193.936,1445.72 2352.76,1445.72 \"/>\n",
       "<polyline clip-path=\"url(#clip392)\" style=\"stroke:#000000; stroke-linecap:round; stroke-linejoin:round; stroke-width:2; stroke-opacity:0.1; fill:none\" points=\"193.936,1106.28 2352.76,1106.28 \"/>\n",
       "<polyline clip-path=\"url(#clip392)\" style=\"stroke:#000000; stroke-linecap:round; stroke-linejoin:round; stroke-width:2; stroke-opacity:0.1; fill:none\" points=\"193.936,766.846 2352.76,766.846 \"/>\n",
       "<polyline clip-path=\"url(#clip392)\" style=\"stroke:#000000; stroke-linecap:round; stroke-linejoin:round; stroke-width:2; stroke-opacity:0.1; fill:none\" points=\"193.936,427.411 2352.76,427.411 \"/>\n",
       "<polyline clip-path=\"url(#clip392)\" style=\"stroke:#000000; stroke-linecap:round; stroke-linejoin:round; stroke-width:2; stroke-opacity:0.1; fill:none\" points=\"193.936,87.9763 2352.76,87.9763 \"/>\n",
       "<polyline clip-path=\"url(#clip390)\" style=\"stroke:#000000; stroke-linecap:round; stroke-linejoin:round; stroke-width:4; stroke-opacity:1; fill:none\" points=\"193.936,1486.45 193.936,47.2441 \"/>\n",
       "<polyline clip-path=\"url(#clip390)\" style=\"stroke:#000000; stroke-linecap:round; stroke-linejoin:round; stroke-width:4; stroke-opacity:1; fill:none\" points=\"193.936,1445.72 212.834,1445.72 \"/>\n",
       "<polyline clip-path=\"url(#clip390)\" style=\"stroke:#000000; stroke-linecap:round; stroke-linejoin:round; stroke-width:4; stroke-opacity:1; fill:none\" points=\"193.936,1106.28 212.834,1106.28 \"/>\n",
       "<polyline clip-path=\"url(#clip390)\" style=\"stroke:#000000; stroke-linecap:round; stroke-linejoin:round; stroke-width:4; stroke-opacity:1; fill:none\" points=\"193.936,766.846 212.834,766.846 \"/>\n",
       "<polyline clip-path=\"url(#clip390)\" style=\"stroke:#000000; stroke-linecap:round; stroke-linejoin:round; stroke-width:4; stroke-opacity:1; fill:none\" points=\"193.936,427.411 212.834,427.411 \"/>\n",
       "<polyline clip-path=\"url(#clip390)\" style=\"stroke:#000000; stroke-linecap:round; stroke-linejoin:round; stroke-width:4; stroke-opacity:1; fill:none\" points=\"193.936,87.9763 212.834,87.9763 \"/>\n",
       "<path clip-path=\"url(#clip390)\" d=\"M50.9921 1446.17 L80.6679 1446.17 L80.6679 1450.1 L50.9921 1450.1 L50.9921 1446.17 Z\" fill=\"#000000\" fill-rule=\"nonzero\" fill-opacity=\"1\" /><path clip-path=\"url(#clip390)\" d=\"M91.5706 1459.06 L99.2095 1459.06 L99.2095 1432.69 L90.8993 1434.36 L90.8993 1430.1 L99.1632 1428.44 L103.839 1428.44 L103.839 1459.06 L111.478 1459.06 L111.478 1463 L91.5706 1463 L91.5706 1459.06 Z\" fill=\"#000000\" fill-rule=\"nonzero\" fill-opacity=\"1\" /><path clip-path=\"url(#clip390)\" d=\"M120.922 1457.12 L125.807 1457.12 L125.807 1463 L120.922 1463 L120.922 1457.12 Z\" fill=\"#000000\" fill-rule=\"nonzero\" fill-opacity=\"1\" /><path clip-path=\"url(#clip390)\" d=\"M145.992 1431.51 Q142.381 1431.51 140.552 1435.08 Q138.746 1438.62 138.746 1445.75 Q138.746 1452.86 140.552 1456.42 Q142.381 1459.96 145.992 1459.96 Q149.626 1459.96 151.431 1456.42 Q153.26 1452.86 153.26 1445.75 Q153.26 1438.62 151.431 1435.08 Q149.626 1431.51 145.992 1431.51 M145.992 1427.81 Q151.802 1427.81 154.857 1432.42 Q157.936 1437 157.936 1445.75 Q157.936 1454.48 154.857 1459.08 Q151.802 1463.67 145.992 1463.67 Q140.181 1463.67 137.103 1459.08 Q134.047 1454.48 134.047 1445.75 Q134.047 1437 137.103 1432.42 Q140.181 1427.81 145.992 1427.81 Z\" fill=\"#000000\" fill-rule=\"nonzero\" fill-opacity=\"1\" /><path clip-path=\"url(#clip390)\" d=\"M51.9875 1106.73 L81.6633 1106.73 L81.6633 1110.67 L51.9875 1110.67 L51.9875 1106.73 Z\" fill=\"#000000\" fill-rule=\"nonzero\" fill-opacity=\"1\" /><path clip-path=\"url(#clip390)\" d=\"M101.756 1092.08 Q98.1447 1092.08 96.316 1095.64 Q94.5104 1099.19 94.5104 1106.32 Q94.5104 1113.42 96.316 1116.99 Q98.1447 1120.53 101.756 1120.53 Q105.39 1120.53 107.196 1116.99 Q109.024 1113.42 109.024 1106.32 Q109.024 1099.19 107.196 1095.64 Q105.39 1092.08 101.756 1092.08 M101.756 1088.38 Q107.566 1088.38 110.621 1092.98 Q113.7 1097.57 113.7 1106.32 Q113.7 1115.04 110.621 1119.65 Q107.566 1124.23 101.756 1124.23 Q95.9456 1124.23 92.8669 1119.65 Q89.8114 1115.04 89.8114 1106.32 Q89.8114 1097.57 92.8669 1092.98 Q95.9456 1088.38 101.756 1088.38 Z\" fill=\"#000000\" fill-rule=\"nonzero\" fill-opacity=\"1\" /><path clip-path=\"url(#clip390)\" d=\"M121.918 1117.68 L126.802 1117.68 L126.802 1123.56 L121.918 1123.56 L121.918 1117.68 Z\" fill=\"#000000\" fill-rule=\"nonzero\" fill-opacity=\"1\" /><path clip-path=\"url(#clip390)\" d=\"M137.033 1089 L155.39 1089 L155.39 1092.94 L141.316 1092.94 L141.316 1101.41 Q142.334 1101.06 143.353 1100.9 Q144.371 1100.71 145.39 1100.71 Q151.177 1100.71 154.556 1103.89 Q157.936 1107.06 157.936 1112.47 Q157.936 1118.05 154.464 1121.15 Q150.992 1124.23 144.672 1124.23 Q142.496 1124.23 140.228 1123.86 Q137.982 1123.49 135.575 1122.75 L135.575 1118.05 Q137.658 1119.19 139.881 1119.74 Q142.103 1120.3 144.58 1120.3 Q148.584 1120.3 150.922 1118.19 Q153.26 1116.08 153.26 1112.47 Q153.26 1108.86 150.922 1106.76 Q148.584 1104.65 144.58 1104.65 Q142.705 1104.65 140.83 1105.07 Q138.978 1105.48 137.033 1106.36 L137.033 1089 Z\" fill=\"#000000\" fill-rule=\"nonzero\" fill-opacity=\"1\" /><path clip-path=\"url(#clip390)\" d=\"M100.76 752.645 Q97.1493 752.645 95.3206 756.209 Q93.515 759.751 93.515 766.881 Q93.515 773.987 95.3206 777.552 Q97.1493 781.094 100.76 781.094 Q104.395 781.094 106.2 777.552 Q108.029 773.987 108.029 766.881 Q108.029 759.751 106.2 756.209 Q104.395 752.645 100.76 752.645 M100.76 748.941 Q106.571 748.941 109.626 753.547 Q112.705 758.131 112.705 766.881 Q112.705 775.608 109.626 780.214 Q106.571 784.797 100.76 784.797 Q94.9502 784.797 91.8715 780.214 Q88.816 775.608 88.816 766.881 Q88.816 758.131 91.8715 753.547 Q94.9502 748.941 100.76 748.941 Z\" fill=\"#000000\" fill-rule=\"nonzero\" fill-opacity=\"1\" /><path clip-path=\"url(#clip390)\" d=\"M120.922 778.246 L125.807 778.246 L125.807 784.126 L120.922 784.126 L120.922 778.246 Z\" fill=\"#000000\" fill-rule=\"nonzero\" fill-opacity=\"1\" /><path clip-path=\"url(#clip390)\" d=\"M145.992 752.645 Q142.381 752.645 140.552 756.209 Q138.746 759.751 138.746 766.881 Q138.746 773.987 140.552 777.552 Q142.381 781.094 145.992 781.094 Q149.626 781.094 151.431 777.552 Q153.26 773.987 153.26 766.881 Q153.26 759.751 151.431 756.209 Q149.626 752.645 145.992 752.645 M145.992 748.941 Q151.802 748.941 154.857 753.547 Q157.936 758.131 157.936 766.881 Q157.936 775.608 154.857 780.214 Q151.802 784.797 145.992 784.797 Q140.181 784.797 137.103 780.214 Q134.047 775.608 134.047 766.881 Q134.047 758.131 137.103 753.547 Q140.181 748.941 145.992 748.941 Z\" fill=\"#000000\" fill-rule=\"nonzero\" fill-opacity=\"1\" /><path clip-path=\"url(#clip390)\" d=\"M101.756 413.21 Q98.1447 413.21 96.316 416.775 Q94.5104 420.316 94.5104 427.446 Q94.5104 434.552 96.316 438.117 Q98.1447 441.659 101.756 441.659 Q105.39 441.659 107.196 438.117 Q109.024 434.552 109.024 427.446 Q109.024 420.316 107.196 416.775 Q105.39 413.21 101.756 413.21 M101.756 409.506 Q107.566 409.506 110.621 414.113 Q113.7 418.696 113.7 427.446 Q113.7 436.173 110.621 440.779 Q107.566 445.362 101.756 445.362 Q95.9456 445.362 92.8669 440.779 Q89.8114 436.173 89.8114 427.446 Q89.8114 418.696 92.8669 414.113 Q95.9456 409.506 101.756 409.506 Z\" fill=\"#000000\" fill-rule=\"nonzero\" fill-opacity=\"1\" /><path clip-path=\"url(#clip390)\" d=\"M121.918 438.812 L126.802 438.812 L126.802 444.691 L121.918 444.691 L121.918 438.812 Z\" fill=\"#000000\" fill-rule=\"nonzero\" fill-opacity=\"1\" /><path clip-path=\"url(#clip390)\" d=\"M137.033 410.131 L155.39 410.131 L155.39 414.066 L141.316 414.066 L141.316 422.538 Q142.334 422.191 143.353 422.029 Q144.371 421.844 145.39 421.844 Q151.177 421.844 154.556 425.015 Q157.936 428.187 157.936 433.603 Q157.936 439.182 154.464 442.284 Q150.992 445.362 144.672 445.362 Q142.496 445.362 140.228 444.992 Q137.982 444.622 135.575 443.881 L135.575 439.182 Q137.658 440.316 139.881 440.872 Q142.103 441.427 144.58 441.427 Q148.584 441.427 150.922 439.321 Q153.26 437.214 153.26 433.603 Q153.26 429.992 150.922 427.886 Q148.584 425.779 144.58 425.779 Q142.705 425.779 140.83 426.196 Q138.978 426.613 137.033 427.492 L137.033 410.131 Z\" fill=\"#000000\" fill-rule=\"nonzero\" fill-opacity=\"1\" /><path clip-path=\"url(#clip390)\" d=\"M91.5706 101.321 L99.2095 101.321 L99.2095 74.9555 L90.8993 76.6222 L90.8993 72.3629 L99.1632 70.6963 L103.839 70.6963 L103.839 101.321 L111.478 101.321 L111.478 105.256 L91.5706 105.256 L91.5706 101.321 Z\" fill=\"#000000\" fill-rule=\"nonzero\" fill-opacity=\"1\" /><path clip-path=\"url(#clip390)\" d=\"M120.922 99.3767 L125.807 99.3767 L125.807 105.256 L120.922 105.256 L120.922 99.3767 Z\" fill=\"#000000\" fill-rule=\"nonzero\" fill-opacity=\"1\" /><path clip-path=\"url(#clip390)\" d=\"M145.992 73.775 Q142.381 73.775 140.552 77.3398 Q138.746 80.8814 138.746 88.011 Q138.746 95.1174 140.552 98.6822 Q142.381 102.224 145.992 102.224 Q149.626 102.224 151.431 98.6822 Q153.26 95.1174 153.26 88.011 Q153.26 80.8814 151.431 77.3398 Q149.626 73.775 145.992 73.775 M145.992 70.0713 Q151.802 70.0713 154.857 74.6777 Q157.936 79.261 157.936 88.011 Q157.936 96.7378 154.857 101.344 Q151.802 105.928 145.992 105.928 Q140.181 105.928 137.103 101.344 Q134.047 96.7378 134.047 88.011 Q134.047 79.261 137.103 74.6777 Q140.181 70.0713 145.992 70.0713 Z\" fill=\"#000000\" fill-rule=\"nonzero\" fill-opacity=\"1\" /><polyline clip-path=\"url(#clip392)\" style=\"stroke:#009af9; stroke-linecap:round; stroke-linejoin:round; stroke-width:4; stroke-opacity:1; fill:none\" points=\"255.035,1445.72 301.322,1439.21 347.608,1421.53 393.895,1393.46 440.182,1349.72 486.469,1277.22 532.756,1213.56 579.043,1188.62 625.33,1175.5 671.617,1163.99 717.903,1149.53 764.19,1130.94 810.477,1104.86 856.764,1070.39 903.051,1021.21 949.338,944.647 995.625,877.614 1041.91,849.795 1088.2,835.343 1134.49,823.209 1180.77,808.775 1227.06,790.86 1273.35,765.738 1319.63,732.269 1365.92,683.982 1412.21,607.859 1458.49,541.266 1504.78,514.39 1551.07,500.992 1597.35,489.962 1643.64,476.868 1689.93,460.714 1736.21,437.955 1782.5,407.476 1828.79,362.303 1875.08,288.154 1921.36,222.253 1967.65,194.679 2013.94,179.227 2060.22,166.643 2106.51,153.045 2152.8,135.886 2199.08,114.599 2245.37,95.8871 2291.66,87.9763 \"/>\n",
       "<polyline clip-path=\"url(#clip392)\" style=\"stroke:#e26f46; stroke-linecap:round; stroke-linejoin:round; stroke-width:4; stroke-opacity:1; fill:none\" points=\"255.035,1445.72 301.322,1445.72 347.608,1445.72 393.895,1445.72 440.182,1445.72 486.469,1445.72 532.756,1416.93 579.043,1349.42 625.33,1270.09 671.617,1189.16 717.903,1111.17 764.19,1111.17 810.477,1111.17 856.764,1111.17 903.051,1111.17 949.338,1111.17 995.625,1082.89 1041.91,1015.39 1088.2,934.521 1134.49,851.336 1180.77,770.45 1227.06,770.45 1273.35,770.45 1319.63,770.45 1365.92,770.45 1412.21,770.45 1458.49,741.782 1504.78,673.398 1551.07,591.536 1597.35,507.306 1643.64,425.14 1689.93,425.14 1736.21,425.14 1782.5,425.14 1828.79,425.14 1875.08,425.14 1921.36,396.586 1967.65,329.706 2013.94,250.703 2060.22,168.832 2106.51,87.9763 2152.8,87.9763 2199.08,87.9763 2245.37,87.9763 2291.66,87.9763 \"/>\n",
       "<path clip-path=\"url(#clip390)\" d=\"M265.897 250.738 L648.005 250.738 L648.005 95.2176 L265.897 95.2176  Z\" fill=\"#ffffff\" fill-rule=\"evenodd\" fill-opacity=\"1\"/>\n",
       "<polyline clip-path=\"url(#clip390)\" style=\"stroke:#000000; stroke-linecap:round; stroke-linejoin:round; stroke-width:4; stroke-opacity:1; fill:none\" points=\"265.897,250.738 648.005,250.738 648.005,95.2176 265.897,95.2176 265.897,250.738 \"/>\n",
       "<polyline clip-path=\"url(#clip390)\" style=\"stroke:#009af9; stroke-linecap:round; stroke-linejoin:round; stroke-width:4; stroke-opacity:1; fill:none\" points=\"289.884,147.058 433.805,147.058 \"/>\n",
       "<path clip-path=\"url(#clip390)\" d=\"M482.444 138.412 L473.069 151.027 L482.931 164.338 L477.907 164.338 L470.361 154.152 L462.815 164.338 L457.792 164.338 L467.861 150.773 L458.648 138.412 L463.671 138.412 L470.546 147.648 L477.421 138.412 L482.444 138.412 Z\" fill=\"#000000\" fill-rule=\"nonzero\" fill-opacity=\"1\" /><path clip-path=\"url(#clip390)\" d=\"M508.648 172.208 L508.648 175.518 L484.018 175.518 L484.018 172.208 L508.648 172.208 Z\" fill=\"#000000\" fill-rule=\"nonzero\" fill-opacity=\"1\" /><path clip-path=\"url(#clip390)\" d=\"M531.264 151.398 Q531.264 146.699 529.319 144.037 Q527.398 141.352 524.018 141.352 Q520.639 141.352 518.694 144.037 Q516.773 146.699 516.773 151.398 Q516.773 156.097 518.694 158.782 Q520.639 161.444 524.018 161.444 Q527.398 161.444 529.319 158.782 Q531.264 156.097 531.264 151.398 M516.773 142.347 Q518.116 140.032 520.153 138.921 Q522.213 137.787 525.06 137.787 Q529.782 137.787 532.722 141.537 Q535.685 145.287 535.685 151.398 Q535.685 157.509 532.722 161.259 Q529.782 165.009 525.06 165.009 Q522.213 165.009 520.153 163.898 Q518.116 162.763 516.773 160.449 L516.773 164.338 L512.491 164.338 L512.491 128.319 L516.773 128.319 L516.773 142.347 Z\" fill=\"#000000\" fill-rule=\"nonzero\" fill-opacity=\"1\" /><path clip-path=\"url(#clip390)\" d=\"M552.791 141.398 Q549.365 141.398 547.375 144.083 Q545.384 146.745 545.384 151.398 Q545.384 156.051 547.351 158.736 Q549.342 161.398 552.791 161.398 Q556.194 161.398 558.185 158.713 Q560.175 156.027 560.175 151.398 Q560.175 146.791 558.185 144.106 Q556.194 141.398 552.791 141.398 M552.791 137.787 Q558.347 137.787 561.518 141.398 Q564.689 145.009 564.689 151.398 Q564.689 157.764 561.518 161.398 Q558.347 165.009 552.791 165.009 Q547.213 165.009 544.041 161.398 Q540.893 157.764 540.893 151.398 Q540.893 145.009 544.041 141.398 Q547.213 137.787 552.791 137.787 Z\" fill=\"#000000\" fill-rule=\"nonzero\" fill-opacity=\"1\" /><path clip-path=\"url(#clip390)\" d=\"M588.81 142.347 L588.81 128.319 L593.069 128.319 L593.069 164.338 L588.81 164.338 L588.81 160.449 Q587.467 162.763 585.407 163.898 Q583.37 165.009 580.499 165.009 Q575.8 165.009 572.837 161.259 Q569.898 157.509 569.898 151.398 Q569.898 145.287 572.837 141.537 Q575.8 137.787 580.499 137.787 Q583.37 137.787 585.407 138.921 Q587.467 140.032 588.81 142.347 M574.296 151.398 Q574.296 156.097 576.217 158.782 Q578.161 161.444 581.541 161.444 Q584.921 161.444 586.865 158.782 Q588.81 156.097 588.81 151.398 Q588.81 146.699 586.865 144.037 Q584.921 141.352 581.541 141.352 Q578.161 141.352 576.217 144.037 Q574.296 146.699 574.296 151.398 Z\" fill=\"#000000\" fill-rule=\"nonzero\" fill-opacity=\"1\" /><path clip-path=\"url(#clip390)\" d=\"M612.629 166.745 Q610.823 171.375 609.11 172.787 Q607.397 174.199 604.527 174.199 L601.124 174.199 L601.124 170.634 L603.624 170.634 Q605.384 170.634 606.356 169.8 Q607.328 168.967 608.509 165.865 L609.272 163.921 L598.786 138.412 L603.3 138.412 L611.402 158.689 L619.504 138.412 L624.018 138.412 L612.629 166.745 Z\" fill=\"#000000\" fill-rule=\"nonzero\" fill-opacity=\"1\" /><polyline clip-path=\"url(#clip390)\" style=\"stroke:#e26f46; stroke-linecap:round; stroke-linejoin:round; stroke-width:4; stroke-opacity:1; fill:none\" points=\"289.884,198.898 433.805,198.898 \"/>\n",
       "<path clip-path=\"url(#clip390)\" d=\"M482.444 190.252 L473.069 202.867 L482.931 216.178 L477.907 216.178 L470.361 205.992 L462.815 216.178 L457.792 216.178 L467.861 202.613 L458.648 190.252 L463.671 190.252 L470.546 199.488 L477.421 190.252 L482.444 190.252 Z\" fill=\"#000000\" fill-rule=\"nonzero\" fill-opacity=\"1\" /><path clip-path=\"url(#clip390)\" d=\"M508.648 224.048 L508.648 227.358 L484.018 227.358 L484.018 224.048 L508.648 224.048 Z\" fill=\"#000000\" fill-rule=\"nonzero\" fill-opacity=\"1\" /><path clip-path=\"url(#clip390)\" d=\"M525.778 180.159 L525.778 183.701 L521.703 183.701 Q519.412 183.701 518.509 184.627 Q517.629 185.553 517.629 187.96 L517.629 190.252 L524.643 190.252 L524.643 193.562 L517.629 193.562 L517.629 216.178 L513.347 216.178 L513.347 193.562 L509.273 193.562 L509.273 190.252 L513.347 190.252 L513.347 188.446 Q513.347 184.118 515.361 182.15 Q517.375 180.159 521.75 180.159 L525.778 180.159 Z\" fill=\"#000000\" fill-rule=\"nonzero\" fill-opacity=\"1\" /><path clip-path=\"url(#clip390)\" d=\"M539.389 193.238 Q535.963 193.238 533.972 195.923 Q531.981 198.585 531.981 203.238 Q531.981 207.891 533.949 210.576 Q535.939 213.238 539.389 213.238 Q542.791 213.238 544.782 210.553 Q546.773 207.867 546.773 203.238 Q546.773 198.631 544.782 195.946 Q542.791 193.238 539.389 193.238 M539.389 189.627 Q544.944 189.627 548.115 193.238 Q551.287 196.849 551.287 203.238 Q551.287 209.604 548.115 213.238 Q544.944 216.849 539.389 216.849 Q533.81 216.849 530.639 213.238 Q527.49 209.604 527.49 203.238 Q527.49 196.849 530.639 193.238 Q533.81 189.627 539.389 189.627 Z\" fill=\"#000000\" fill-rule=\"nonzero\" fill-opacity=\"1\" /><path clip-path=\"url(#clip390)\" d=\"M568.393 193.238 Q564.967 193.238 562.976 195.923 Q560.986 198.585 560.986 203.238 Q560.986 207.891 562.953 210.576 Q564.944 213.238 568.393 213.238 Q571.796 213.238 573.787 210.553 Q575.777 207.867 575.777 203.238 Q575.777 198.631 573.787 195.946 Q571.796 193.238 568.393 193.238 M568.393 189.627 Q573.949 189.627 577.12 193.238 Q580.291 196.849 580.291 203.238 Q580.291 209.604 577.12 213.238 Q573.949 216.849 568.393 216.849 Q562.814 216.849 559.643 213.238 Q556.495 209.604 556.495 203.238 Q556.495 196.849 559.643 193.238 Q562.814 189.627 568.393 189.627 Z\" fill=\"#000000\" fill-rule=\"nonzero\" fill-opacity=\"1\" /><path clip-path=\"url(#clip390)\" d=\"M591.564 182.891 L591.564 190.252 L600.337 190.252 L600.337 193.562 L591.564 193.562 L591.564 207.636 Q591.564 210.807 592.421 211.71 Q593.3 212.613 595.962 212.613 L600.337 212.613 L600.337 216.178 L595.962 216.178 Q591.032 216.178 589.157 214.349 Q587.282 212.497 587.282 207.636 L587.282 193.562 L584.157 193.562 L584.157 190.252 L587.282 190.252 L587.282 182.891 L591.564 182.891 Z\" fill=\"#000000\" fill-rule=\"nonzero\" fill-opacity=\"1\" /></svg>\n"
      ]
     },
     "execution_count": 22,
     "metadata": {},
     "output_type": "execute_result"
    }
   ],
   "source": [
    "plot(thist,xtraj[1,:], label=\"x_body\")\n",
    "plot!(thist,xtraj[3,:], label=\"x_foot\")"
   ]
  },
  {
   "cell_type": "code",
   "execution_count": 23,
   "id": "a9c55566",
   "metadata": {},
   "outputs": [
    {
     "data": {
      "image/svg+xml": [
       "<?xml version=\"1.0\" encoding=\"utf-8\"?>\n",
       "<svg xmlns=\"http://www.w3.org/2000/svg\" xmlns:xlink=\"http://www.w3.org/1999/xlink\" width=\"600\" height=\"400\" viewBox=\"0 0 2400 1600\">\n",
       "<defs>\n",
       "  <clipPath id=\"clip430\">\n",
       "    <rect x=\"0\" y=\"0\" width=\"2400\" height=\"1600\"/>\n",
       "  </clipPath>\n",
       "</defs>\n",
       "<path clip-path=\"url(#clip430)\" d=\"M0 1600 L2400 1600 L2400 0 L0 0  Z\" fill=\"#ffffff\" fill-rule=\"evenodd\" fill-opacity=\"1\"/>\n",
       "<defs>\n",
       "  <clipPath id=\"clip431\">\n",
       "    <rect x=\"480\" y=\"0\" width=\"1681\" height=\"1600\"/>\n",
       "  </clipPath>\n",
       "</defs>\n",
       "<path clip-path=\"url(#clip430)\" d=\"M209.029 1486.45 L2352.76 1486.45 L2352.76 47.2441 L209.029 47.2441  Z\" fill=\"#ffffff\" fill-rule=\"evenodd\" fill-opacity=\"1\"/>\n",
       "<defs>\n",
       "  <clipPath id=\"clip432\">\n",
       "    <rect x=\"209\" y=\"47\" width=\"2145\" height=\"1440\"/>\n",
       "  </clipPath>\n",
       "</defs>\n",
       "<polyline clip-path=\"url(#clip432)\" style=\"stroke:#000000; stroke-linecap:round; stroke-linejoin:round; stroke-width:2; stroke-opacity:0.1; fill:none\" points=\"269.7,1486.45 269.7,47.2441 \"/>\n",
       "<polyline clip-path=\"url(#clip432)\" style=\"stroke:#000000; stroke-linecap:round; stroke-linejoin:round; stroke-width:2; stroke-opacity:0.1; fill:none\" points=\"740.022,1486.45 740.022,47.2441 \"/>\n",
       "<polyline clip-path=\"url(#clip432)\" style=\"stroke:#000000; stroke-linecap:round; stroke-linejoin:round; stroke-width:2; stroke-opacity:0.1; fill:none\" points=\"1210.34,1486.45 1210.34,47.2441 \"/>\n",
       "<polyline clip-path=\"url(#clip432)\" style=\"stroke:#000000; stroke-linecap:round; stroke-linejoin:round; stroke-width:2; stroke-opacity:0.1; fill:none\" points=\"1680.67,1486.45 1680.67,47.2441 \"/>\n",
       "<polyline clip-path=\"url(#clip432)\" style=\"stroke:#000000; stroke-linecap:round; stroke-linejoin:round; stroke-width:2; stroke-opacity:0.1; fill:none\" points=\"2150.99,1486.45 2150.99,47.2441 \"/>\n",
       "<polyline clip-path=\"url(#clip430)\" style=\"stroke:#000000; stroke-linecap:round; stroke-linejoin:round; stroke-width:4; stroke-opacity:1; fill:none\" points=\"209.029,1486.45 2352.76,1486.45 \"/>\n",
       "<polyline clip-path=\"url(#clip430)\" style=\"stroke:#000000; stroke-linecap:round; stroke-linejoin:round; stroke-width:4; stroke-opacity:1; fill:none\" points=\"269.7,1486.45 269.7,1467.55 \"/>\n",
       "<polyline clip-path=\"url(#clip430)\" style=\"stroke:#000000; stroke-linecap:round; stroke-linejoin:round; stroke-width:4; stroke-opacity:1; fill:none\" points=\"740.022,1486.45 740.022,1467.55 \"/>\n",
       "<polyline clip-path=\"url(#clip430)\" style=\"stroke:#000000; stroke-linecap:round; stroke-linejoin:round; stroke-width:4; stroke-opacity:1; fill:none\" points=\"1210.34,1486.45 1210.34,1467.55 \"/>\n",
       "<polyline clip-path=\"url(#clip430)\" style=\"stroke:#000000; stroke-linecap:round; stroke-linejoin:round; stroke-width:4; stroke-opacity:1; fill:none\" points=\"1680.67,1486.45 1680.67,1467.55 \"/>\n",
       "<polyline clip-path=\"url(#clip430)\" style=\"stroke:#000000; stroke-linecap:round; stroke-linejoin:round; stroke-width:4; stroke-opacity:1; fill:none\" points=\"2150.99,1486.45 2150.99,1467.55 \"/>\n",
       "<path clip-path=\"url(#clip430)\" d=\"M269.7 1517.37 Q266.089 1517.37 264.26 1520.93 Q262.455 1524.47 262.455 1531.6 Q262.455 1538.71 264.26 1542.27 Q266.089 1545.82 269.7 1545.82 Q273.334 1545.82 275.14 1542.27 Q276.969 1538.71 276.969 1531.6 Q276.969 1524.47 275.14 1520.93 Q273.334 1517.37 269.7 1517.37 M269.7 1513.66 Q275.51 1513.66 278.566 1518.27 Q281.644 1522.85 281.644 1531.6 Q281.644 1540.33 278.566 1544.94 Q275.51 1549.52 269.7 1549.52 Q263.89 1549.52 260.811 1544.94 Q257.756 1540.33 257.756 1531.6 Q257.756 1522.85 260.811 1518.27 Q263.89 1513.66 269.7 1513.66 Z\" fill=\"#000000\" fill-rule=\"nonzero\" fill-opacity=\"1\" /><path clip-path=\"url(#clip430)\" d=\"M730.404 1544.91 L738.043 1544.91 L738.043 1518.55 L729.733 1520.21 L729.733 1515.95 L737.997 1514.29 L742.672 1514.29 L742.672 1544.91 L750.311 1544.91 L750.311 1548.85 L730.404 1548.85 L730.404 1544.91 Z\" fill=\"#000000\" fill-rule=\"nonzero\" fill-opacity=\"1\" /><path clip-path=\"url(#clip430)\" d=\"M1205 1544.91 L1221.32 1544.91 L1221.32 1548.85 L1199.37 1548.85 L1199.37 1544.91 Q1202.03 1542.16 1206.62 1537.53 Q1211.22 1532.88 1212.4 1531.53 Q1214.65 1529.01 1215.53 1527.27 Q1216.43 1525.51 1216.43 1523.82 Q1216.43 1521.07 1214.49 1519.33 Q1212.57 1517.6 1209.46 1517.6 Q1207.27 1517.6 1204.81 1518.36 Q1202.38 1519.13 1199.6 1520.68 L1199.6 1515.95 Q1202.43 1514.82 1204.88 1514.24 Q1207.33 1513.66 1209.37 1513.66 Q1214.74 1513.66 1217.94 1516.35 Q1221.13 1519.03 1221.13 1523.52 Q1221.13 1525.65 1220.32 1527.57 Q1219.53 1529.47 1217.43 1532.07 Q1216.85 1532.74 1213.75 1535.95 Q1210.64 1539.15 1205 1544.91 Z\" fill=\"#000000\" fill-rule=\"nonzero\" fill-opacity=\"1\" /><path clip-path=\"url(#clip430)\" d=\"M1684.91 1530.21 Q1688.27 1530.93 1690.14 1533.2 Q1692.04 1535.47 1692.04 1538.8 Q1692.04 1543.92 1688.52 1546.72 Q1685.01 1549.52 1678.52 1549.52 Q1676.35 1549.52 1674.03 1549.08 Q1671.74 1548.66 1669.29 1547.81 L1669.29 1543.29 Q1671.23 1544.43 1673.55 1545.01 Q1675.86 1545.58 1678.39 1545.58 Q1682.78 1545.58 1685.08 1543.85 Q1687.39 1542.11 1687.39 1538.8 Q1687.39 1535.75 1685.24 1534.03 Q1683.11 1532.3 1679.29 1532.3 L1675.26 1532.3 L1675.26 1528.45 L1679.47 1528.45 Q1682.92 1528.45 1684.75 1527.09 Q1686.58 1525.7 1686.58 1523.11 Q1686.58 1520.45 1684.68 1519.03 Q1682.81 1517.6 1679.29 1517.6 Q1677.37 1517.6 1675.17 1518.01 Q1672.97 1518.43 1670.33 1519.31 L1670.33 1515.14 Q1672.99 1514.4 1675.31 1514.03 Q1677.65 1513.66 1679.71 1513.66 Q1685.03 1513.66 1688.13 1516.09 Q1691.23 1518.5 1691.23 1522.62 Q1691.23 1525.49 1689.59 1527.48 Q1687.95 1529.45 1684.91 1530.21 Z\" fill=\"#000000\" fill-rule=\"nonzero\" fill-opacity=\"1\" /><path clip-path=\"url(#clip430)\" d=\"M2154 1518.36 L2142.19 1536.81 L2154 1536.81 L2154 1518.36 M2152.77 1514.29 L2158.65 1514.29 L2158.65 1536.81 L2163.58 1536.81 L2163.58 1540.7 L2158.65 1540.7 L2158.65 1548.85 L2154 1548.85 L2154 1540.7 L2138.4 1540.7 L2138.4 1536.19 L2152.77 1514.29 Z\" fill=\"#000000\" fill-rule=\"nonzero\" fill-opacity=\"1\" /><polyline clip-path=\"url(#clip432)\" style=\"stroke:#000000; stroke-linecap:round; stroke-linejoin:round; stroke-width:2; stroke-opacity:0.1; fill:none\" points=\"209.029,1293.31 2352.76,1293.31 \"/>\n",
       "<polyline clip-path=\"url(#clip432)\" style=\"stroke:#000000; stroke-linecap:round; stroke-linejoin:round; stroke-width:2; stroke-opacity:0.1; fill:none\" points=\"209.029,1072.49 2352.76,1072.49 \"/>\n",
       "<polyline clip-path=\"url(#clip432)\" style=\"stroke:#000000; stroke-linecap:round; stroke-linejoin:round; stroke-width:2; stroke-opacity:0.1; fill:none\" points=\"209.029,851.664 2352.76,851.664 \"/>\n",
       "<polyline clip-path=\"url(#clip432)\" style=\"stroke:#000000; stroke-linecap:round; stroke-linejoin:round; stroke-width:2; stroke-opacity:0.1; fill:none\" points=\"209.029,630.84 2352.76,630.84 \"/>\n",
       "<polyline clip-path=\"url(#clip432)\" style=\"stroke:#000000; stroke-linecap:round; stroke-linejoin:round; stroke-width:2; stroke-opacity:0.1; fill:none\" points=\"209.029,410.016 2352.76,410.016 \"/>\n",
       "<polyline clip-path=\"url(#clip432)\" style=\"stroke:#000000; stroke-linecap:round; stroke-linejoin:round; stroke-width:2; stroke-opacity:0.1; fill:none\" points=\"209.029,189.192 2352.76,189.192 \"/>\n",
       "<polyline clip-path=\"url(#clip430)\" style=\"stroke:#000000; stroke-linecap:round; stroke-linejoin:round; stroke-width:4; stroke-opacity:1; fill:none\" points=\"209.029,1486.45 209.029,47.2441 \"/>\n",
       "<polyline clip-path=\"url(#clip430)\" style=\"stroke:#000000; stroke-linecap:round; stroke-linejoin:round; stroke-width:4; stroke-opacity:1; fill:none\" points=\"209.029,1293.31 227.926,1293.31 \"/>\n",
       "<polyline clip-path=\"url(#clip430)\" style=\"stroke:#000000; stroke-linecap:round; stroke-linejoin:round; stroke-width:4; stroke-opacity:1; fill:none\" points=\"209.029,1072.49 227.926,1072.49 \"/>\n",
       "<polyline clip-path=\"url(#clip430)\" style=\"stroke:#000000; stroke-linecap:round; stroke-linejoin:round; stroke-width:4; stroke-opacity:1; fill:none\" points=\"209.029,851.664 227.926,851.664 \"/>\n",
       "<polyline clip-path=\"url(#clip430)\" style=\"stroke:#000000; stroke-linecap:round; stroke-linejoin:round; stroke-width:4; stroke-opacity:1; fill:none\" points=\"209.029,630.84 227.926,630.84 \"/>\n",
       "<polyline clip-path=\"url(#clip430)\" style=\"stroke:#000000; stroke-linecap:round; stroke-linejoin:round; stroke-width:4; stroke-opacity:1; fill:none\" points=\"209.029,410.016 227.926,410.016 \"/>\n",
       "<polyline clip-path=\"url(#clip430)\" style=\"stroke:#000000; stroke-linecap:round; stroke-linejoin:round; stroke-width:4; stroke-opacity:1; fill:none\" points=\"209.029,189.192 227.926,189.192 \"/>\n",
       "<path clip-path=\"url(#clip430)\" d=\"M50.9921 1293.76 L80.6679 1293.76 L80.6679 1297.7 L50.9921 1297.7 L50.9921 1293.76 Z\" fill=\"#000000\" fill-rule=\"nonzero\" fill-opacity=\"1\" /><path clip-path=\"url(#clip430)\" d=\"M91.5706 1306.66 L99.2095 1306.66 L99.2095 1280.29 L90.8993 1281.96 L90.8993 1277.7 L99.1632 1276.03 L103.839 1276.03 L103.839 1306.66 L111.478 1306.66 L111.478 1310.59 L91.5706 1310.59 L91.5706 1306.66 Z\" fill=\"#000000\" fill-rule=\"nonzero\" fill-opacity=\"1\" /><path clip-path=\"url(#clip430)\" d=\"M130.922 1279.11 Q127.311 1279.11 125.482 1282.67 Q123.677 1286.22 123.677 1293.35 Q123.677 1300.45 125.482 1304.02 Q127.311 1307.56 130.922 1307.56 Q134.556 1307.56 136.362 1304.02 Q138.191 1300.45 138.191 1293.35 Q138.191 1286.22 136.362 1282.67 Q134.556 1279.11 130.922 1279.11 M130.922 1275.41 Q136.732 1275.41 139.788 1280.01 Q142.867 1284.6 142.867 1293.35 Q142.867 1302.07 139.788 1306.68 Q136.732 1311.26 130.922 1311.26 Q125.112 1311.26 122.033 1306.68 Q118.978 1302.07 118.978 1293.35 Q118.978 1284.6 122.033 1280.01 Q125.112 1275.41 130.922 1275.41 Z\" fill=\"#000000\" fill-rule=\"nonzero\" fill-opacity=\"1\" /><path clip-path=\"url(#clip430)\" d=\"M161.084 1279.11 Q157.473 1279.11 155.644 1282.67 Q153.839 1286.22 153.839 1293.35 Q153.839 1300.45 155.644 1304.02 Q157.473 1307.56 161.084 1307.56 Q164.718 1307.56 166.524 1304.02 Q168.353 1300.45 168.353 1293.35 Q168.353 1286.22 166.524 1282.67 Q164.718 1279.11 161.084 1279.11 M161.084 1275.41 Q166.894 1275.41 169.95 1280.01 Q173.029 1284.6 173.029 1293.35 Q173.029 1302.07 169.95 1306.68 Q166.894 1311.26 161.084 1311.26 Q155.274 1311.26 152.195 1306.68 Q149.14 1302.07 149.14 1293.35 Q149.14 1284.6 152.195 1280.01 Q155.274 1275.41 161.084 1275.41 Z\" fill=\"#000000\" fill-rule=\"nonzero\" fill-opacity=\"1\" /><path clip-path=\"url(#clip430)\" d=\"M81.154 1072.94 L110.83 1072.94 L110.83 1076.87 L81.154 1076.87 L81.154 1072.94 Z\" fill=\"#000000\" fill-rule=\"nonzero\" fill-opacity=\"1\" /><path clip-path=\"url(#clip430)\" d=\"M120.969 1055.21 L139.325 1055.21 L139.325 1059.14 L125.251 1059.14 L125.251 1067.61 Q126.27 1067.27 127.288 1067.11 Q128.307 1066.92 129.325 1066.92 Q135.112 1066.92 138.492 1070.09 Q141.871 1073.26 141.871 1078.68 Q141.871 1084.26 138.399 1087.36 Q134.927 1090.44 128.607 1090.44 Q126.432 1090.44 124.163 1090.07 Q121.918 1089.7 119.51 1088.96 L119.51 1084.26 Q121.594 1085.39 123.816 1085.95 Q126.038 1086.5 128.515 1086.5 Q132.519 1086.5 134.857 1084.4 Q137.195 1082.29 137.195 1078.68 Q137.195 1075.07 134.857 1072.96 Q132.519 1070.86 128.515 1070.86 Q126.64 1070.86 124.765 1071.27 Q122.913 1071.69 120.969 1072.57 L120.969 1055.21 Z\" fill=\"#000000\" fill-rule=\"nonzero\" fill-opacity=\"1\" /><path clip-path=\"url(#clip430)\" d=\"M161.084 1058.29 Q157.473 1058.29 155.644 1061.85 Q153.839 1065.39 153.839 1072.52 Q153.839 1079.63 155.644 1083.19 Q157.473 1086.74 161.084 1086.74 Q164.718 1086.74 166.524 1083.19 Q168.353 1079.63 168.353 1072.52 Q168.353 1065.39 166.524 1061.85 Q164.718 1058.29 161.084 1058.29 M161.084 1054.58 Q166.894 1054.58 169.95 1059.19 Q173.029 1063.77 173.029 1072.52 Q173.029 1081.25 169.95 1085.86 Q166.894 1090.44 161.084 1090.44 Q155.274 1090.44 152.195 1085.86 Q149.14 1081.25 149.14 1072.52 Q149.14 1063.77 152.195 1059.19 Q155.274 1054.58 161.084 1054.58 Z\" fill=\"#000000\" fill-rule=\"nonzero\" fill-opacity=\"1\" /><path clip-path=\"url(#clip430)\" d=\"M161.084 837.462 Q157.473 837.462 155.644 841.027 Q153.839 844.569 153.839 851.698 Q153.839 858.805 155.644 862.369 Q157.473 865.911 161.084 865.911 Q164.718 865.911 166.524 862.369 Q168.353 858.805 168.353 851.698 Q168.353 844.569 166.524 841.027 Q164.718 837.462 161.084 837.462 M161.084 833.759 Q166.894 833.759 169.95 838.365 Q173.029 842.948 173.029 851.698 Q173.029 860.425 169.95 865.031 Q166.894 869.615 161.084 869.615 Q155.274 869.615 152.195 865.031 Q149.14 860.425 149.14 851.698 Q149.14 842.948 152.195 838.365 Q155.274 833.759 161.084 833.759 Z\" fill=\"#000000\" fill-rule=\"nonzero\" fill-opacity=\"1\" /><path clip-path=\"url(#clip430)\" d=\"M120.969 613.56 L139.325 613.56 L139.325 617.495 L125.251 617.495 L125.251 625.967 Q126.27 625.62 127.288 625.458 Q128.307 625.272 129.325 625.272 Q135.112 625.272 138.492 628.444 Q141.871 631.615 141.871 637.032 Q141.871 642.61 138.399 645.712 Q134.927 648.791 128.607 648.791 Q126.432 648.791 124.163 648.421 Q121.918 648.05 119.51 647.309 L119.51 642.61 Q121.594 643.745 123.816 644.3 Q126.038 644.856 128.515 644.856 Q132.519 644.856 134.857 642.749 Q137.195 640.643 137.195 637.032 Q137.195 633.421 134.857 631.314 Q132.519 629.208 128.515 629.208 Q126.64 629.208 124.765 629.624 Q122.913 630.041 120.969 630.921 L120.969 613.56 Z\" fill=\"#000000\" fill-rule=\"nonzero\" fill-opacity=\"1\" /><path clip-path=\"url(#clip430)\" d=\"M161.084 616.638 Q157.473 616.638 155.644 620.203 Q153.839 623.745 153.839 630.874 Q153.839 637.981 155.644 641.546 Q157.473 645.087 161.084 645.087 Q164.718 645.087 166.524 641.546 Q168.353 637.981 168.353 630.874 Q168.353 623.745 166.524 620.203 Q164.718 616.638 161.084 616.638 M161.084 612.935 Q166.894 612.935 169.95 617.541 Q173.029 622.124 173.029 630.874 Q173.029 639.601 169.95 644.208 Q166.894 648.791 161.084 648.791 Q155.274 648.791 152.195 644.208 Q149.14 639.601 149.14 630.874 Q149.14 622.124 152.195 617.541 Q155.274 612.935 161.084 612.935 Z\" fill=\"#000000\" fill-rule=\"nonzero\" fill-opacity=\"1\" /><path clip-path=\"url(#clip430)\" d=\"M91.5706 423.361 L99.2095 423.361 L99.2095 396.995 L90.8993 398.662 L90.8993 394.402 L99.1632 392.736 L103.839 392.736 L103.839 423.361 L111.478 423.361 L111.478 427.296 L91.5706 427.296 L91.5706 423.361 Z\" fill=\"#000000\" fill-rule=\"nonzero\" fill-opacity=\"1\" /><path clip-path=\"url(#clip430)\" d=\"M130.922 395.814 Q127.311 395.814 125.482 399.379 Q123.677 402.921 123.677 410.05 Q123.677 417.157 125.482 420.722 Q127.311 424.263 130.922 424.263 Q134.556 424.263 136.362 420.722 Q138.191 417.157 138.191 410.05 Q138.191 402.921 136.362 399.379 Q134.556 395.814 130.922 395.814 M130.922 392.111 Q136.732 392.111 139.788 396.717 Q142.867 401.3 142.867 410.05 Q142.867 418.777 139.788 423.384 Q136.732 427.967 130.922 427.967 Q125.112 427.967 122.033 423.384 Q118.978 418.777 118.978 410.05 Q118.978 401.3 122.033 396.717 Q125.112 392.111 130.922 392.111 Z\" fill=\"#000000\" fill-rule=\"nonzero\" fill-opacity=\"1\" /><path clip-path=\"url(#clip430)\" d=\"M161.084 395.814 Q157.473 395.814 155.644 399.379 Q153.839 402.921 153.839 410.05 Q153.839 417.157 155.644 420.722 Q157.473 424.263 161.084 424.263 Q164.718 424.263 166.524 420.722 Q168.353 417.157 168.353 410.05 Q168.353 402.921 166.524 399.379 Q164.718 395.814 161.084 395.814 M161.084 392.111 Q166.894 392.111 169.95 396.717 Q173.029 401.3 173.029 410.05 Q173.029 418.777 169.95 423.384 Q166.894 427.967 161.084 427.967 Q155.274 427.967 152.195 423.384 Q149.14 418.777 149.14 410.05 Q149.14 401.3 152.195 396.717 Q155.274 392.111 161.084 392.111 Z\" fill=\"#000000\" fill-rule=\"nonzero\" fill-opacity=\"1\" /><path clip-path=\"url(#clip430)\" d=\"M91.5706 202.537 L99.2095 202.537 L99.2095 176.171 L90.8993 177.838 L90.8993 173.578 L99.1632 171.912 L103.839 171.912 L103.839 202.537 L111.478 202.537 L111.478 206.472 L91.5706 206.472 L91.5706 202.537 Z\" fill=\"#000000\" fill-rule=\"nonzero\" fill-opacity=\"1\" /><path clip-path=\"url(#clip430)\" d=\"M120.969 171.912 L139.325 171.912 L139.325 175.847 L125.251 175.847 L125.251 184.319 Q126.27 183.972 127.288 183.81 Q128.307 183.625 129.325 183.625 Q135.112 183.625 138.492 186.796 Q141.871 189.967 141.871 195.384 Q141.871 200.963 138.399 204.064 Q134.927 207.143 128.607 207.143 Q126.432 207.143 124.163 206.773 Q121.918 206.402 119.51 205.662 L119.51 200.963 Q121.594 202.097 123.816 202.652 Q126.038 203.208 128.515 203.208 Q132.519 203.208 134.857 201.101 Q137.195 198.995 137.195 195.384 Q137.195 191.773 134.857 189.666 Q132.519 187.56 128.515 187.56 Q126.64 187.56 124.765 187.977 Q122.913 188.393 120.969 189.273 L120.969 171.912 Z\" fill=\"#000000\" fill-rule=\"nonzero\" fill-opacity=\"1\" /><path clip-path=\"url(#clip430)\" d=\"M161.084 174.99 Q157.473 174.99 155.644 178.555 Q153.839 182.097 153.839 189.227 Q153.839 196.333 155.644 199.898 Q157.473 203.439 161.084 203.439 Q164.718 203.439 166.524 199.898 Q168.353 196.333 168.353 189.227 Q168.353 182.097 166.524 178.555 Q164.718 174.99 161.084 174.99 M161.084 171.287 Q166.894 171.287 169.95 175.893 Q173.029 180.477 173.029 189.227 Q173.029 197.953 169.95 202.56 Q166.894 207.143 161.084 207.143 Q155.274 207.143 152.195 202.56 Q149.14 197.953 149.14 189.227 Q149.14 180.477 152.195 175.893 Q155.274 171.287 161.084 171.287 Z\" fill=\"#000000\" fill-rule=\"nonzero\" fill-opacity=\"1\" /><polyline clip-path=\"url(#clip432)\" style=\"stroke:#009af9; stroke-linecap:round; stroke-linejoin:round; stroke-width:4; stroke-opacity:1; fill:none\" points=\"269.7,690.268 316.732,610.742 363.764,517.945 410.797,373.542 457.829,120.486 504.861,1445.72 551.893,1026.65 598.925,857.998 645.958,700.314 692.99,425.916 740.022,391.16 787.054,460.278 834.086,454.003 881.119,368.62 928.151,170.837 975.183,1409.58 1022.22,1056.69 1069.25,873.81 1116.28,714.069 1163.31,448.171 1210.34,410.102 1257.38,470.514 1304.41,459.417 1351.44,371.204 1398.47,171.514 1445.5,1410.66 1492.54,1056.9 1539.57,873.298 1586.6,712.579 1633.63,445.588 1680.67,406.009 1727.7,459.791 1774.73,436.852 1821.76,327.125 1868.79,87.9763 1915.83,1443.88 1962.86,1020.71 2009.89,856.825 2056.92,705.322 2103.96,444.317 2150.99,435.443 2198.02,554.374 2245.05,641.016 2292.08,729.259 \"/>\n",
       "<polyline clip-path=\"url(#clip432)\" style=\"stroke:#e26f46; stroke-linecap:round; stroke-linejoin:round; stroke-width:4; stroke-opacity:1; fill:none\" points=\"269.7,809.582 316.732,826.075 363.764,832.45 410.797,835.405 457.829,842.568 504.861,926.401 551.893,879.35 598.925,867.041 645.958,863.494 692.99,836.4 740.022,795.773 787.054,823.416 834.086,837.552 881.119,846.932 928.151,859.278 975.183,917.516 1022.22,876.995 1069.25,867.117 1116.28,865.202 1163.31,840.728 1210.34,797.99 1257.38,823.021 1304.41,835.323 1351.44,842.954 1398.47,853.179 1445.5,921.987 1492.54,878.628 1539.57,867.5 1586.6,863.633 1633.63,832.015 1680.67,785.138 1727.7,810.205 1774.73,820.614 1821.76,824.35 1868.79,828.483 1915.83,938.861 1962.86,886.177 2009.89,869.828 2056.92,860.67 2103.96,830.039 2150.99,797.758 2198.02,836.218 2245.05,866.723 2292.08,902.947 \"/>\n",
       "<path clip-path=\"url(#clip430)\" d=\"M2015.12 1438.47 L2281.3 1438.47 L2281.3 1282.95 L2015.12 1282.95  Z\" fill=\"#ffffff\" fill-rule=\"evenodd\" fill-opacity=\"1\"/>\n",
       "<polyline clip-path=\"url(#clip430)\" style=\"stroke:#000000; stroke-linecap:round; stroke-linejoin:round; stroke-width:4; stroke-opacity:1; fill:none\" points=\"2015.12,1438.47 2281.3,1438.47 2281.3,1282.95 2015.12,1282.95 2015.12,1438.47 \"/>\n",
       "<polyline clip-path=\"url(#clip430)\" style=\"stroke:#009af9; stroke-linecap:round; stroke-linejoin:round; stroke-width:4; stroke-opacity:1; fill:none\" points=\"2038.94,1334.79 2181.85,1334.79 \"/>\n",
       "<path clip-path=\"url(#clip430)\" d=\"M2205.67 1341.84 L2205.67 1326.15 L2209.93 1326.15 L2209.93 1341.68 Q2209.93 1345.36 2211.37 1347.21 Q2212.8 1349.04 2215.67 1349.04 Q2219.12 1349.04 2221.11 1346.84 Q2223.13 1344.64 2223.13 1340.85 L2223.13 1326.15 L2227.39 1326.15 L2227.39 1352.07 L2223.13 1352.07 L2223.13 1348.09 Q2221.58 1350.45 2219.52 1351.61 Q2217.48 1352.75 2214.77 1352.75 Q2210.3 1352.75 2207.99 1349.97 Q2205.67 1347.19 2205.67 1341.84 M2216.39 1325.52 L2216.39 1325.52 Z\" fill=\"#000000\" fill-rule=\"nonzero\" fill-opacity=\"1\" /><path clip-path=\"url(#clip430)\" d=\"M2237.57 1348.14 L2245.21 1348.14 L2245.21 1321.77 L2236.9 1323.44 L2236.9 1319.18 L2245.16 1317.51 L2249.84 1317.51 L2249.84 1348.14 L2257.48 1348.14 L2257.48 1352.07 L2237.57 1352.07 L2237.57 1348.14 Z\" fill=\"#000000\" fill-rule=\"nonzero\" fill-opacity=\"1\" /><polyline clip-path=\"url(#clip430)\" style=\"stroke:#e26f46; stroke-linecap:round; stroke-linejoin:round; stroke-width:4; stroke-opacity:1; fill:none\" points=\"2038.94,1386.63 2181.85,1386.63 \"/>\n",
       "<path clip-path=\"url(#clip430)\" d=\"M2205.67 1393.68 L2205.67 1377.99 L2209.93 1377.99 L2209.93 1393.52 Q2209.93 1397.2 2211.37 1399.05 Q2212.8 1400.88 2215.67 1400.88 Q2219.12 1400.88 2221.11 1398.68 Q2223.13 1396.48 2223.13 1392.69 L2223.13 1377.99 L2227.39 1377.99 L2227.39 1403.91 L2223.13 1403.91 L2223.13 1399.93 Q2221.58 1402.29 2219.52 1403.45 Q2217.48 1404.59 2214.77 1404.59 Q2210.3 1404.59 2207.99 1401.81 Q2205.67 1399.03 2205.67 1393.68 M2216.39 1377.36 L2216.39 1377.36 Z\" fill=\"#000000\" fill-rule=\"nonzero\" fill-opacity=\"1\" /><path clip-path=\"url(#clip430)\" d=\"M2240.79 1399.98 L2257.11 1399.98 L2257.11 1403.91 L2235.16 1403.91 L2235.16 1399.98 Q2237.83 1397.22 2242.41 1392.6 Q2247.02 1387.94 2248.2 1386.6 Q2250.44 1384.08 2251.32 1382.34 Q2252.22 1380.58 2252.22 1378.89 Q2252.22 1376.14 2250.28 1374.4 Q2248.36 1372.66 2245.26 1372.66 Q2243.06 1372.66 2240.6 1373.43 Q2238.17 1374.19 2235.4 1375.74 L2235.4 1371.02 Q2238.22 1369.89 2240.67 1369.31 Q2243.13 1368.73 2245.16 1368.73 Q2250.53 1368.73 2253.73 1371.41 Q2256.92 1374.1 2256.92 1378.59 Q2256.92 1380.72 2256.11 1382.64 Q2255.33 1384.54 2253.22 1387.13 Q2252.64 1387.8 2249.54 1391.02 Q2246.44 1394.22 2240.79 1399.98 Z\" fill=\"#000000\" fill-rule=\"nonzero\" fill-opacity=\"1\" /></svg>\n"
      ]
     },
     "execution_count": 23,
     "metadata": {},
     "output_type": "execute_result"
    }
   ],
   "source": [
    "plot(thist[1:end-1],utraj[1,:], label=\"u1\")\n",
    "plot!(thist[1:end-1],utraj[2,:], label=\"u2\")"
   ]
  },
  {
   "cell_type": "code",
   "execution_count": 24,
   "id": "e21a47d3",
   "metadata": {},
   "outputs": [
    {
     "name": "stderr",
     "output_type": "stream",
     "text": [
      "\u001b[36m\u001b[1m[ \u001b[22m\u001b[39m\u001b[36m\u001b[1mInfo: \u001b[22m\u001b[39mListening on: 127.0.0.1:8700, thread id: 1\n",
      "\u001b[36m\u001b[1m┌ \u001b[22m\u001b[39m\u001b[36m\u001b[1mInfo: \u001b[22m\u001b[39mMeshCat server started. You can open the visualizer by visiting the following URL in your browser:\n",
      "\u001b[36m\u001b[1m└ \u001b[22m\u001b[39mhttp://127.0.0.1:8700\n"
     ]
    },
    {
     "data": {
      "text/html": [
       "    <div style=\"height: 500px; width: 100%; overflow-x: auto; overflow-y: hidden; resize: both\">\n",
       "    <iframe src=\"http://127.0.0.1:8700\" style=\"width: 100%; height: 100%; border: none\"></iframe>\n",
       "    </div>\n"
      ],
      "text/plain": [
       "MeshCat.DisplayedVisualizer(MeshCat.CoreVisualizer(MeshCat.SceneTrees.SceneNode(nothing, nothing, Dict{String, Vector{UInt8}}(), nothing, Dict{String, MeshCat.SceneTrees.SceneNode}()), Set{HTTP.WebSockets.WebSocket}(), ip\"127.0.0.1\", 8700, HTTP.Servers.Server{HTTP.Servers.Listener{Nothing, Sockets.TCPServer}}(HTTP.Servers.Listener{Nothing, Sockets.TCPServer}(Sockets.InetAddr{Sockets.IPv4}(ip\"127.0.0.1\", 8700), \"127.0.0.1\", \"8700\", nothing, Sockets.TCPServer(RawFD(43) active)), nothing, Set{HTTP.Connections.Connection}(), Task (runnable) @0x00007f9877e7e230, ReentrantLock(nothing, Base.GenericCondition{Base.Threads.SpinLock}(Base.InvasiveLinkedList{Task}(nothing, nothing), Base.Threads.SpinLock(0)), 0))))"
      ]
     },
     "execution_count": 24,
     "metadata": {},
     "output_type": "execute_result"
    }
   ],
   "source": [
    "#Set up visualizer\n",
    "using Colors\n",
    "using CoordinateTransformations\n",
    "using GeometryBasics\n",
    "using MeshCat\n",
    "using Rotations\n",
    "using StaticArrays\n",
    "\n",
    "# Kinematics\n",
    "kinematics(q) = [q[3], q[4]]\n",
    "\n",
    "# Visualization\n",
    "function visualize!(vis, q, Δt)\n",
    "\n",
    "    # body radius\n",
    "    r_body = 0.2\n",
    "\t# foot radius\n",
    "    r_foot = 0.1\n",
    "\n",
    "\t# leg width\n",
    "    r_leg = 0.5 * r_foot\n",
    "\n",
    "\t# set background to white\n",
    "\tsetvisible!(vis[\"/Background\"], true)\n",
    "    setprop!(vis[\"/Background\"], \"top_color\", RGBA(1.0, 1.0, 1.0, 1.0))\n",
    "    setprop!(vis[\"/Background\"], \"bottom_color\", RGBA(1.0, 1.0, 1.0, 1.0))\n",
    "    setvisible!(vis[\"/Axes\"], false)\n",
    "\n",
    "\t# create body\n",
    "    setobject!(vis[\"body\"], Sphere(Point3f0(0),\n",
    "        convert(Float32, r_body)),\n",
    "        MeshPhongMaterial(color = RGBA(0, 1, 0, 1.0)))\n",
    "\n",
    "\t# create foot\n",
    "    setobject!(vis[\"foot\"], Sphere(Point3f0(0),\n",
    "        convert(Float32, r_foot)),\n",
    "        MeshPhongMaterial(color = RGBA(1.0, 165.0 / 255.0, 0, 1.0)))\n",
    "\n",
    "# \t# create leg\n",
    "    n_leg = 100\n",
    "    for i = 1:n_leg\n",
    "        setobject!(vis[\"leg$i\"], Sphere(Point3f0(0),\n",
    "            convert(Float32, r_leg)),\n",
    "            MeshPhongMaterial(color = RGBA(0, 0, 0, 1.0)))\n",
    "    end\n",
    "\n",
    "    p_leg = [zeros(3) for i = 1:n_leg]\n",
    "\n",
    "\t# animation\n",
    "    anim = MeshCat.Animation(convert(Int, floor(1.0 / Δt)))\n",
    "\n",
    "    for t = 1:length(q)\n",
    "        p_body = [q[t][1], 0.0, q[t][2]]\n",
    "        p_foot = [kinematics(q[t])[1], 0.0, kinematics(q[t])[2]]\n",
    "\n",
    "        dir = [q[t][3] - q[t][1]; q[t][4] - q[t][2]]\n",
    "        dir = dir ./ norm(dir)\n",
    "        r_range = range(0, stop = sqrt((q[t][1] - q[t][3])^2.0 + (q[t][2] - q[t][4])^2.0), length = n_leg)\n",
    "        for i = 1:n_leg\n",
    "            p_leg[i] = [q[t][1] + r_range[i] * dir[1], 0.0, q[t][2] + r_range[i] * dir[2]]\n",
    "        end\n",
    "        \n",
    "        z_shift = [0.0; 0.0; r_foot]\n",
    "\n",
    "        MeshCat.atframe(anim, t) do\n",
    "            settransform!(vis[\"body\"], Translation(p_body + z_shift))\n",
    "            settransform!(vis[\"foot\"], Translation(p_foot + z_shift))\n",
    "\n",
    "            for i = 1:n_leg\n",
    "                settransform!(vis[\"leg$i\"], Translation(p_leg[i] + z_shift))\n",
    "            end\n",
    "        end\n",
    "    end\n",
    "\n",
    "    MeshCat.setanimation!(vis, anim)\n",
    "end\n",
    "\n",
    "vis = Visualizer()\n",
    "render(vis)"
   ]
  },
  {
   "cell_type": "code",
   "execution_count": 25,
   "id": "b69bdc1b",
   "metadata": {},
   "outputs": [],
   "source": [
    "q = [SVector{4}(x[1:4]) for x in eachcol(xtraj)];\n",
    "visualize!(vis, q, h)"
   ]
  },
  {
   "cell_type": "code",
   "execution_count": null,
   "id": "18c55f78",
   "metadata": {},
   "outputs": [],
   "source": []
  }
 ],
 "metadata": {
  "kernelspec": {
   "display_name": "Julia 1.6.7",
   "language": "julia",
   "name": "julia-1.6"
  },
  "language_info": {
   "file_extension": ".jl",
   "mimetype": "application/julia",
   "name": "julia",
   "version": "1.6.7"
  }
 },
 "nbformat": 4,
 "nbformat_minor": 5
}
