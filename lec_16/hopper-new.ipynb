{
 "cells": [
  {
   "cell_type": "code",
   "execution_count": 1,
   "id": "659f2f78-0a8c-4e7b-8aea-487f28f94e1c",
   "metadata": {},
   "outputs": [
    {
     "name": "stderr",
     "output_type": "stream",
     "text": [
      "\u001b[32m\u001b[1m  Activating\u001b[22m\u001b[39m environment at `~/Documents/optimal_control_julia/lec_16/Project.toml`\n"
     ]
    }
   ],
   "source": [
    "import Pkg; Pkg.activate(@__DIR__); Pkg.instantiate()"
   ]
  },
  {
   "cell_type": "code",
   "execution_count": 2,
   "id": "0c43095f-17fc-4c39-b556-fd9b6092045d",
   "metadata": {},
   "outputs": [],
   "source": [
    "using LinearAlgebra\n",
    "using Plots\n",
    "using ForwardDiff\n",
    "using Ipopt\n",
    "using MathOptInterface\n",
    "const MOI = MathOptInterface;"
   ]
  },
  {
   "cell_type": "code",
   "execution_count": 3,
   "id": "78a5dc16-4de1-4ed8-b622-7377df425c32",
   "metadata": {},
   "outputs": [
    {
     "data": {
      "text/plain": [
       "9"
      ]
     },
     "execution_count": 3,
     "metadata": {},
     "output_type": "execute_result"
    }
   ],
   "source": [
    "Nx = 8     # number of state\n",
    "Nu = 2     # number of controls\n",
    "Tfinal = 4.4 # final time\n",
    "h = 0.1 #10 hz\n",
    "Nm = 5 #number of steps in each mode\n",
    "Nt = Int(ceil(Tfinal/h)+1)   # number of time steps\n",
    "Nmodes = Int(ceil(Nt/Nm))"
   ]
  },
  {
   "cell_type": "code",
   "execution_count": 4,
   "id": "19863d6e-9679-4493-b74d-1e38d6913be5",
   "metadata": {},
   "outputs": [
    {
     "data": {
      "text/plain": [
       "438"
      ]
     },
     "execution_count": 4,
     "metadata": {},
     "output_type": "execute_result"
    }
   ],
   "source": [
    "thist = Array(range(0,h*(Nt-1), step=h));\n",
    "\n",
    "n_nlp = Nx*Nt + Nu*(Nt-1) # number of decision variables\n",
    "# initial state constraint\n",
    "c_init_inds = 1:Nx\n",
    "# terminal state constraint\n",
    "c_term_inds = (c_init_inds[end]+1):(c_init_inds[end]+Nx)\n",
    "# dynamics state constraint\n",
    "c_dyn_inds = (c_term_inds[end]+1):(c_term_inds[end]+Nx*(Nt-1))\n",
    "# stance state constraint - only applied for stance phase therefore Nmodes/2\n",
    "c_stance_inds = (c_dyn_inds[end]+1):(c_dyn_inds[end]+Int(Nm*ceil(Nmodes/2)))\n",
    "# length state constraint - for all steps\n",
    "c_length_inds = (c_stance_inds[end]+1):(c_stance_inds[end]+Nt)\n",
    "m_nlp = c_length_inds[end]"
   ]
  },
  {
   "cell_type": "markdown",
   "id": "5ca91757",
   "metadata": {},
   "source": [
    "## Hopper Dynamics"
   ]
  },
  {
   "cell_type": "code",
   "execution_count": 5,
   "id": "749ccd4a",
   "metadata": {},
   "outputs": [
    {
     "data": {
      "text/plain": [
       "stance_dynamics (generic function with 1 method)"
      ]
     },
     "execution_count": 5,
     "metadata": {},
     "output_type": "execute_result"
    }
   ],
   "source": [
    "g = 9.81\n",
    "m1 = 5.0 #body mass\n",
    "m2 = 1.0 #foot mass\n",
    "ℓ_min = 0.5 #minimum length\n",
    "ℓ_max = 1.5 #maximum length\n",
    "\n",
    "function flight_dynamics(x,u)\n",
    "    M = Diagonal([m1 m1 m2 m2])\n",
    "    \n",
    "    r1 = x[1:2]\n",
    "    r2 = x[3:4]\n",
    "    v = x[5:8]\n",
    "    \n",
    "    ℓ1 = (r1[1]-r2[1])/norm(r1-r2)\n",
    "    ℓ2 = (r1[2]-r2[2])/norm(r1-r2)\n",
    "    B = [ℓ1  ℓ2;\n",
    "         ℓ2 -ℓ1;\n",
    "        -ℓ1 -ℓ2;\n",
    "        -ℓ2  ℓ1]\n",
    "    \n",
    "    v̇ = [0; -g; 0; -g] + M\\(B*u)\n",
    "    \n",
    "    ẋ = [v; v̇]\n",
    "end\n",
    "\n",
    "function stance_dynamics(x,u)\n",
    "    m1 = 5.0 #body mass\n",
    "    m2 = 1.0 #foot mass\n",
    "    M = Diagonal([m1 m1 m2 m2])\n",
    "    g = 9.81\n",
    "    \n",
    "    r1 = x[1:2]\n",
    "    r2 = x[3:4]\n",
    "    v = x[5:8]\n",
    "    \n",
    "    ℓ1 = (r1[1]-r2[1])/norm(r1-r2)\n",
    "    ℓ2 = (r1[2]-r2[2])/norm(r1-r2)\n",
    "    B = [ℓ1  ℓ2;\n",
    "         ℓ2 -ℓ1;\n",
    "         0   0;\n",
    "         0   0]\n",
    "    \n",
    "    v̇ = [0; -g; 0; 0] + M\\(B*u)\n",
    "    \n",
    "    ẋ = [v; v̇]\n",
    "end"
   ]
  },
  {
   "cell_type": "markdown",
   "id": "68ef1828",
   "metadata": {},
   "source": [
    "## RK4 Integration for stance and swing"
   ]
  },
  {
   "cell_type": "code",
   "execution_count": 6,
   "id": "22025d8a",
   "metadata": {},
   "outputs": [
    {
     "data": {
      "text/plain": [
       "stance_dynamics_rk4 (generic function with 1 method)"
      ]
     },
     "execution_count": 6,
     "metadata": {},
     "output_type": "execute_result"
    }
   ],
   "source": [
    "function flight_dynamics_rk4(x,u)\n",
    "    #RK4 integration with zero-order hold on u\n",
    "    f1 = flight_dynamics(x, u)\n",
    "    f2 = flight_dynamics(x + 0.5*h*f1, u)\n",
    "    f3 = flight_dynamics(x + 0.5*h*f2, u)\n",
    "    f4 = flight_dynamics(x + h*f3, u)\n",
    "    return x + (h/6.0)*(f1 + 2*f2 + 2*f3 + f4)\n",
    "end\n",
    "\n",
    "function stance_dynamics_rk4(x,u)\n",
    "    #RK4 integration with zero-order hold on u\n",
    "    f1 = stance_dynamics(x, u)\n",
    "    f2 = stance_dynamics(x + 0.5*h*f1, u)\n",
    "    f3 = stance_dynamics(x + 0.5*h*f2, u)\n",
    "    f4 = stance_dynamics(x + h*f3, u)\n",
    "    return x + (h/6.0)*(f1 + 2*f2 + 2*f3 + f4)\n",
    "end"
   ]
  },
  {
   "cell_type": "markdown",
   "id": "626a4402",
   "metadata": {},
   "source": [
    "## Jump Map"
   ]
  },
  {
   "cell_type": "code",
   "execution_count": 7,
   "id": "41325cda",
   "metadata": {},
   "outputs": [
    {
     "data": {
      "text/plain": [
       "jump_map (generic function with 1 method)"
      ]
     },
     "execution_count": 7,
     "metadata": {},
     "output_type": "execute_result"
    }
   ],
   "source": [
    "function jump_map(x)\n",
    "    #Assume the foot experiences inelastic collisions\n",
    "    return [ x[1:6], 0, 0 ]\n",
    "end"
   ]
  },
  {
   "cell_type": "markdown",
   "id": "7ab3b6e3",
   "metadata": {},
   "source": [
    "## Quadratic Cost weights"
   ]
  },
  {
   "cell_type": "code",
   "execution_count": 8,
   "id": "ab0df4ee",
   "metadata": {},
   "outputs": [
    {
     "data": {
      "text/plain": [
       "8×8 Diagonal{Float64, Vector{Float64}}:\n",
       " 1.0   ⋅    ⋅    ⋅    ⋅    ⋅    ⋅    ⋅ \n",
       "  ⋅   1.0   ⋅    ⋅    ⋅    ⋅    ⋅    ⋅ \n",
       "  ⋅    ⋅   1.0   ⋅    ⋅    ⋅    ⋅    ⋅ \n",
       "  ⋅    ⋅    ⋅   1.0   ⋅    ⋅    ⋅    ⋅ \n",
       "  ⋅    ⋅    ⋅    ⋅   1.0   ⋅    ⋅    ⋅ \n",
       "  ⋅    ⋅    ⋅    ⋅    ⋅   1.0   ⋅    ⋅ \n",
       "  ⋅    ⋅    ⋅    ⋅    ⋅    ⋅   1.0   ⋅ \n",
       "  ⋅    ⋅    ⋅    ⋅    ⋅    ⋅    ⋅   1.0"
      ]
     },
     "execution_count": 8,
     "metadata": {},
     "output_type": "execute_result"
    }
   ],
   "source": [
    "# Cost weights\n",
    "Q = Diagonal([1.0*ones(4); 1.0*ones(4)]);\n",
    "R = 0.001;\n",
    "Qn = Q"
   ]
  },
  {
   "cell_type": "markdown",
   "id": "e5c61b2c",
   "metadata": {},
   "source": [
    "## Define cost"
   ]
  },
  {
   "cell_type": "code",
   "execution_count": 9,
   "id": "08ad230e",
   "metadata": {},
   "outputs": [
    {
     "data": {
      "text/plain": [
       "cost (generic function with 1 method)"
      ]
     },
     "execution_count": 9,
     "metadata": {},
     "output_type": "execute_result"
    }
   ],
   "source": [
    "function cost(ztraj)\n",
    "    \n",
    "    z = reshape(ztraj[1:(end-Nx)],Nx+Nu,Nt-1)\n",
    "    xtraj = [z[1:Nx,:] ztraj[end-(Nx-1):end]]\n",
    "    utraj = z[(Nx+1):(Nx+Nu),:]\n",
    "    \n",
    "    J = 0.0\n",
    "    for k in 1:(Nt-1)\n",
    "        J += 0.5*(xtraj[:,k] - xref[:,k])'*Q*(xtraj[:,k] - xref[:,k]) + 0.5*(utraj[:,k] - uref[:,k])'*R*(utraj[:,k] - uref[:,k])\n",
    "    end\n",
    "    J += 0.5*(xtraj[:,end] - xref[:,end])'*Q*(xtraj[:,end] - xref[:,end])\n",
    "end\n",
    "\n",
    "# function stage_cost(x,u,k)\n",
    "#     return 0.5*((x-xref[:,k])'*Q*(x-xref[:,k])) + 0.5*(u-uref)'*R*(u-uref)\n",
    "# end\n",
    "# function terminal_cost(x)\n",
    "#     return 0.5*((x-xref[:,end])'*Qn*(x-xref[:,end]))\n",
    "# end\n",
    "# function cost(ztraj)\n",
    "#     z = reshape(ztraj[1:(end-Nx)],Nx+Nu,Nt-1)\n",
    "#     xtraj = [z[1:Nx,:] ztraj[end-(Nx-1):end]]\n",
    "#     utraj = z[(Nx+1):(Nx+Nu),:]\n",
    "#     J = 0.0\n",
    "#     for k = 1:(Nt-1)\n",
    "#         J += stage_cost(xtraj[:,k],utraj[:,k],k)\n",
    "#     end\n",
    "#     J += terminal_cost(xtraj[:,end])\n",
    "#     return J\n",
    "# end"
   ]
  },
  {
   "cell_type": "markdown",
   "id": "bc744e73",
   "metadata": {},
   "source": [
    "## Heuristic Reference Trajectory"
   ]
  },
  {
   "cell_type": "code",
   "execution_count": 10,
   "id": "aa80316e",
   "metadata": {},
   "outputs": [],
   "source": [
    "uref = [m1*g; 0.0]\n",
    "xref = zeros(Nx,Nt)\n",
    "# body x pos\n",
    "xref[1,:] .= LinRange(-1.0,1.0,Nt)\n",
    "# body y pos\n",
    "xref[2,:] .= 1.0 .+ 0.5.*sin.(2*pi/10.0*(0:(Nt-1)));\n",
    "# foot x pos\n",
    "xref[3,:] .= LinRange(-1.0,1.0,Nt)\n",
    "# body x vel\n",
    "xref[5,2:end-1] .= (2.0/Tfinal)*ones(Nt-2)\n",
    "# foot x vel\n",
    "xref[7,2:end-1] .= (2.0/Tfinal)*ones(Nt-2);"
   ]
  },
  {
   "cell_type": "code",
   "execution_count": 11,
   "id": "e8151c3b",
   "metadata": {
    "scrolled": false
   },
   "outputs": [
    {
     "data": {
      "image/svg+xml": [
       "<?xml version=\"1.0\" encoding=\"utf-8\"?>\n",
       "<svg xmlns=\"http://www.w3.org/2000/svg\" xmlns:xlink=\"http://www.w3.org/1999/xlink\" width=\"600\" height=\"400\" viewBox=\"0 0 2400 1600\">\n",
       "<defs>\n",
       "  <clipPath id=\"clip800\">\n",
       "    <rect x=\"0\" y=\"0\" width=\"2400\" height=\"1600\"/>\n",
       "  </clipPath>\n",
       "</defs>\n",
       "<path clip-path=\"url(#clip800)\" d=\"M0 1600 L2400 1600 L2400 0 L0 0  Z\" fill=\"#ffffff\" fill-rule=\"evenodd\" fill-opacity=\"1\"/>\n",
       "<defs>\n",
       "  <clipPath id=\"clip801\">\n",
       "    <rect x=\"480\" y=\"0\" width=\"1681\" height=\"1600\"/>\n",
       "  </clipPath>\n",
       "</defs>\n",
       "<path clip-path=\"url(#clip800)\" d=\"M156.274 1486.45 L2352.76 1486.45 L2352.76 47.2441 L156.274 47.2441  Z\" fill=\"#ffffff\" fill-rule=\"evenodd\" fill-opacity=\"1\"/>\n",
       "<defs>\n",
       "  <clipPath id=\"clip802\">\n",
       "    <rect x=\"156\" y=\"47\" width=\"2197\" height=\"1440\"/>\n",
       "  </clipPath>\n",
       "</defs>\n",
       "<polyline clip-path=\"url(#clip802)\" style=\"stroke:#000000; stroke-linecap:round; stroke-linejoin:round; stroke-width:2; stroke-opacity:0.1; fill:none\" points=\"171.344,1486.45 171.344,47.2441 \"/>\n",
       "<polyline clip-path=\"url(#clip802)\" style=\"stroke:#000000; stroke-linecap:round; stroke-linejoin:round; stroke-width:2; stroke-opacity:0.1; fill:none\" points=\"642.288,1486.45 642.288,47.2441 \"/>\n",
       "<polyline clip-path=\"url(#clip802)\" style=\"stroke:#000000; stroke-linecap:round; stroke-linejoin:round; stroke-width:2; stroke-opacity:0.1; fill:none\" points=\"1113.23,1486.45 1113.23,47.2441 \"/>\n",
       "<polyline clip-path=\"url(#clip802)\" style=\"stroke:#000000; stroke-linecap:round; stroke-linejoin:round; stroke-width:2; stroke-opacity:0.1; fill:none\" points=\"1584.18,1486.45 1584.18,47.2441 \"/>\n",
       "<polyline clip-path=\"url(#clip802)\" style=\"stroke:#000000; stroke-linecap:round; stroke-linejoin:round; stroke-width:2; stroke-opacity:0.1; fill:none\" points=\"2055.12,1486.45 2055.12,47.2441 \"/>\n",
       "<polyline clip-path=\"url(#clip800)\" style=\"stroke:#000000; stroke-linecap:round; stroke-linejoin:round; stroke-width:4; stroke-opacity:1; fill:none\" points=\"156.274,1486.45 2352.76,1486.45 \"/>\n",
       "<polyline clip-path=\"url(#clip800)\" style=\"stroke:#000000; stroke-linecap:round; stroke-linejoin:round; stroke-width:4; stroke-opacity:1; fill:none\" points=\"171.344,1486.45 171.344,1467.55 \"/>\n",
       "<polyline clip-path=\"url(#clip800)\" style=\"stroke:#000000; stroke-linecap:round; stroke-linejoin:round; stroke-width:4; stroke-opacity:1; fill:none\" points=\"642.288,1486.45 642.288,1467.55 \"/>\n",
       "<polyline clip-path=\"url(#clip800)\" style=\"stroke:#000000; stroke-linecap:round; stroke-linejoin:round; stroke-width:4; stroke-opacity:1; fill:none\" points=\"1113.23,1486.45 1113.23,1467.55 \"/>\n",
       "<polyline clip-path=\"url(#clip800)\" style=\"stroke:#000000; stroke-linecap:round; stroke-linejoin:round; stroke-width:4; stroke-opacity:1; fill:none\" points=\"1584.18,1486.45 1584.18,1467.55 \"/>\n",
       "<polyline clip-path=\"url(#clip800)\" style=\"stroke:#000000; stroke-linecap:round; stroke-linejoin:round; stroke-width:4; stroke-opacity:1; fill:none\" points=\"2055.12,1486.45 2055.12,1467.55 \"/>\n",
       "<path clip-path=\"url(#clip800)\" d=\"M171.344 1517.37 Q167.733 1517.37 165.905 1520.93 Q164.099 1524.47 164.099 1531.6 Q164.099 1538.71 165.905 1542.27 Q167.733 1545.82 171.344 1545.82 Q174.979 1545.82 176.784 1542.27 Q178.613 1538.71 178.613 1531.6 Q178.613 1524.47 176.784 1520.93 Q174.979 1517.37 171.344 1517.37 M171.344 1513.66 Q177.155 1513.66 180.21 1518.27 Q183.289 1522.85 183.289 1531.6 Q183.289 1540.33 180.21 1544.94 Q177.155 1549.52 171.344 1549.52 Q165.534 1549.52 162.456 1544.94 Q159.4 1540.33 159.4 1531.6 Q159.4 1522.85 162.456 1518.27 Q165.534 1513.66 171.344 1513.66 Z\" fill=\"#000000\" fill-rule=\"nonzero\" fill-opacity=\"1\" /><path clip-path=\"url(#clip800)\" d=\"M616.976 1544.91 L624.615 1544.91 L624.615 1518.55 L616.304 1520.21 L616.304 1515.95 L624.568 1514.29 L629.244 1514.29 L629.244 1544.91 L636.883 1544.91 L636.883 1548.85 L616.976 1548.85 L616.976 1544.91 Z\" fill=\"#000000\" fill-rule=\"nonzero\" fill-opacity=\"1\" /><path clip-path=\"url(#clip800)\" d=\"M656.327 1517.37 Q652.716 1517.37 650.888 1520.93 Q649.082 1524.47 649.082 1531.6 Q649.082 1538.71 650.888 1542.27 Q652.716 1545.82 656.327 1545.82 Q659.962 1545.82 661.767 1542.27 Q663.596 1538.71 663.596 1531.6 Q663.596 1524.47 661.767 1520.93 Q659.962 1517.37 656.327 1517.37 M656.327 1513.66 Q662.138 1513.66 665.193 1518.27 Q668.272 1522.85 668.272 1531.6 Q668.272 1540.33 665.193 1544.94 Q662.138 1549.52 656.327 1549.52 Q650.517 1549.52 647.439 1544.94 Q644.383 1540.33 644.383 1531.6 Q644.383 1522.85 647.439 1518.27 Q650.517 1513.66 656.327 1513.66 Z\" fill=\"#000000\" fill-rule=\"nonzero\" fill-opacity=\"1\" /><path clip-path=\"url(#clip800)\" d=\"M1092.01 1544.91 L1108.32 1544.91 L1108.32 1548.85 L1086.38 1548.85 L1086.38 1544.91 Q1089.04 1542.16 1093.63 1537.53 Q1098.23 1532.88 1099.41 1531.53 Q1101.66 1529.01 1102.54 1527.27 Q1103.44 1525.51 1103.44 1523.82 Q1103.44 1521.07 1101.5 1519.33 Q1099.57 1517.6 1096.47 1517.6 Q1094.27 1517.6 1091.82 1518.36 Q1089.39 1519.13 1086.61 1520.68 L1086.61 1515.95 Q1089.44 1514.82 1091.89 1514.24 Q1094.34 1513.66 1096.38 1513.66 Q1101.75 1513.66 1104.94 1516.35 Q1108.14 1519.03 1108.14 1523.52 Q1108.14 1525.65 1107.33 1527.57 Q1106.54 1529.47 1104.44 1532.07 Q1103.86 1532.74 1100.76 1535.95 Q1097.65 1539.15 1092.01 1544.91 Z\" fill=\"#000000\" fill-rule=\"nonzero\" fill-opacity=\"1\" /><path clip-path=\"url(#clip800)\" d=\"M1128.14 1517.37 Q1124.53 1517.37 1122.7 1520.93 Q1120.89 1524.47 1120.89 1531.6 Q1120.89 1538.71 1122.7 1542.27 Q1124.53 1545.82 1128.14 1545.82 Q1131.77 1545.82 1133.58 1542.27 Q1135.41 1538.71 1135.41 1531.6 Q1135.41 1524.47 1133.58 1520.93 Q1131.77 1517.37 1128.14 1517.37 M1128.14 1513.66 Q1133.95 1513.66 1137 1518.27 Q1140.08 1522.85 1140.08 1531.6 Q1140.08 1540.33 1137 1544.94 Q1133.95 1549.52 1128.14 1549.52 Q1122.33 1549.52 1119.25 1544.94 Q1116.19 1540.33 1116.19 1531.6 Q1116.19 1522.85 1119.25 1518.27 Q1122.33 1513.66 1128.14 1513.66 Z\" fill=\"#000000\" fill-rule=\"nonzero\" fill-opacity=\"1\" /><path clip-path=\"url(#clip800)\" d=\"M1573.02 1530.21 Q1576.37 1530.93 1578.25 1533.2 Q1580.15 1535.47 1580.15 1538.8 Q1580.15 1543.92 1576.63 1546.72 Q1573.11 1549.52 1566.63 1549.52 Q1564.45 1549.52 1562.14 1549.08 Q1559.85 1548.66 1557.39 1547.81 L1557.39 1543.29 Q1559.34 1544.43 1561.65 1545.01 Q1563.97 1545.58 1566.49 1545.58 Q1570.89 1545.58 1573.18 1543.85 Q1575.5 1542.11 1575.5 1538.8 Q1575.5 1535.75 1573.34 1534.03 Q1571.21 1532.3 1567.39 1532.3 L1563.37 1532.3 L1563.37 1528.45 L1567.58 1528.45 Q1571.03 1528.45 1572.86 1527.09 Q1574.68 1525.7 1574.68 1523.11 Q1574.68 1520.45 1572.79 1519.03 Q1570.91 1517.6 1567.39 1517.6 Q1565.47 1517.6 1563.27 1518.01 Q1561.07 1518.43 1558.44 1519.31 L1558.44 1515.14 Q1561.1 1514.4 1563.41 1514.03 Q1565.75 1513.66 1567.81 1513.66 Q1573.13 1513.66 1576.24 1516.09 Q1579.34 1518.5 1579.34 1522.62 Q1579.34 1525.49 1577.69 1527.48 Q1576.05 1529.45 1573.02 1530.21 Z\" fill=\"#000000\" fill-rule=\"nonzero\" fill-opacity=\"1\" /><path clip-path=\"url(#clip800)\" d=\"M1599.01 1517.37 Q1595.4 1517.37 1593.57 1520.93 Q1591.77 1524.47 1591.77 1531.6 Q1591.77 1538.71 1593.57 1542.27 Q1595.4 1545.82 1599.01 1545.82 Q1602.65 1545.82 1604.45 1542.27 Q1606.28 1538.71 1606.28 1531.6 Q1606.28 1524.47 1604.45 1520.93 Q1602.65 1517.37 1599.01 1517.37 M1599.01 1513.66 Q1604.82 1513.66 1607.88 1518.27 Q1610.96 1522.85 1610.96 1531.6 Q1610.96 1540.33 1607.88 1544.94 Q1604.82 1549.52 1599.01 1549.52 Q1593.2 1549.52 1590.12 1544.94 Q1587.07 1540.33 1587.07 1531.6 Q1587.07 1522.85 1590.12 1518.27 Q1593.2 1513.66 1599.01 1513.66 Z\" fill=\"#000000\" fill-rule=\"nonzero\" fill-opacity=\"1\" /><path clip-path=\"url(#clip800)\" d=\"M2043.29 1518.36 L2031.49 1536.81 L2043.29 1536.81 L2043.29 1518.36 M2042.06 1514.29 L2047.94 1514.29 L2047.94 1536.81 L2052.87 1536.81 L2052.87 1540.7 L2047.94 1540.7 L2047.94 1548.85 L2043.29 1548.85 L2043.29 1540.7 L2027.69 1540.7 L2027.69 1536.19 L2042.06 1514.29 Z\" fill=\"#000000\" fill-rule=\"nonzero\" fill-opacity=\"1\" /><path clip-path=\"url(#clip800)\" d=\"M2070.61 1517.37 Q2066.99 1517.37 2065.17 1520.93 Q2063.36 1524.47 2063.36 1531.6 Q2063.36 1538.71 2065.17 1542.27 Q2066.99 1545.82 2070.61 1545.82 Q2074.24 1545.82 2076.05 1542.27 Q2077.87 1538.71 2077.87 1531.6 Q2077.87 1524.47 2076.05 1520.93 Q2074.24 1517.37 2070.61 1517.37 M2070.61 1513.66 Q2076.42 1513.66 2079.47 1518.27 Q2082.55 1522.85 2082.55 1531.6 Q2082.55 1540.33 2079.47 1544.94 Q2076.42 1549.52 2070.61 1549.52 Q2064.8 1549.52 2061.72 1544.94 Q2058.66 1540.33 2058.66 1531.6 Q2058.66 1522.85 2061.72 1518.27 Q2064.8 1513.66 2070.61 1513.66 Z\" fill=\"#000000\" fill-rule=\"nonzero\" fill-opacity=\"1\" /><polyline clip-path=\"url(#clip802)\" style=\"stroke:#000000; stroke-linecap:round; stroke-linejoin:round; stroke-width:2; stroke-opacity:0.1; fill:none\" points=\"156.274,1337.89 2352.76,1337.89 \"/>\n",
       "<polyline clip-path=\"url(#clip802)\" style=\"stroke:#000000; stroke-linecap:round; stroke-linejoin:round; stroke-width:2; stroke-opacity:0.1; fill:none\" points=\"156.274,1052.37 2352.76,1052.37 \"/>\n",
       "<polyline clip-path=\"url(#clip802)\" style=\"stroke:#000000; stroke-linecap:round; stroke-linejoin:round; stroke-width:2; stroke-opacity:0.1; fill:none\" points=\"156.274,766.846 2352.76,766.846 \"/>\n",
       "<polyline clip-path=\"url(#clip802)\" style=\"stroke:#000000; stroke-linecap:round; stroke-linejoin:round; stroke-width:2; stroke-opacity:0.1; fill:none\" points=\"156.274,481.324 2352.76,481.324 \"/>\n",
       "<polyline clip-path=\"url(#clip802)\" style=\"stroke:#000000; stroke-linecap:round; stroke-linejoin:round; stroke-width:2; stroke-opacity:0.1; fill:none\" points=\"156.274,195.801 2352.76,195.801 \"/>\n",
       "<polyline clip-path=\"url(#clip800)\" style=\"stroke:#000000; stroke-linecap:round; stroke-linejoin:round; stroke-width:4; stroke-opacity:1; fill:none\" points=\"156.274,1486.45 156.274,47.2441 \"/>\n",
       "<polyline clip-path=\"url(#clip800)\" style=\"stroke:#000000; stroke-linecap:round; stroke-linejoin:round; stroke-width:4; stroke-opacity:1; fill:none\" points=\"156.274,1337.89 175.172,1337.89 \"/>\n",
       "<polyline clip-path=\"url(#clip800)\" style=\"stroke:#000000; stroke-linecap:round; stroke-linejoin:round; stroke-width:4; stroke-opacity:1; fill:none\" points=\"156.274,1052.37 175.172,1052.37 \"/>\n",
       "<polyline clip-path=\"url(#clip800)\" style=\"stroke:#000000; stroke-linecap:round; stroke-linejoin:round; stroke-width:4; stroke-opacity:1; fill:none\" points=\"156.274,766.846 175.172,766.846 \"/>\n",
       "<polyline clip-path=\"url(#clip800)\" style=\"stroke:#000000; stroke-linecap:round; stroke-linejoin:round; stroke-width:4; stroke-opacity:1; fill:none\" points=\"156.274,481.324 175.172,481.324 \"/>\n",
       "<polyline clip-path=\"url(#clip800)\" style=\"stroke:#000000; stroke-linecap:round; stroke-linejoin:round; stroke-width:4; stroke-opacity:1; fill:none\" points=\"156.274,195.801 175.172,195.801 \"/>\n",
       "<path clip-path=\"url(#clip800)\" d=\"M62.9365 1323.69 Q59.3254 1323.69 57.4967 1327.25 Q55.6912 1330.8 55.6912 1337.93 Q55.6912 1345.03 57.4967 1348.6 Q59.3254 1352.14 62.9365 1352.14 Q66.5707 1352.14 68.3763 1348.6 Q70.205 1345.03 70.205 1337.93 Q70.205 1330.8 68.3763 1327.25 Q66.5707 1323.69 62.9365 1323.69 M62.9365 1319.99 Q68.7467 1319.99 71.8022 1324.59 Q74.8809 1329.18 74.8809 1337.93 Q74.8809 1346.65 71.8022 1351.26 Q68.7467 1355.84 62.9365 1355.84 Q57.1264 1355.84 54.0477 1351.26 Q50.9921 1346.65 50.9921 1337.93 Q50.9921 1329.18 54.0477 1324.59 Q57.1264 1319.99 62.9365 1319.99 Z\" fill=\"#000000\" fill-rule=\"nonzero\" fill-opacity=\"1\" /><path clip-path=\"url(#clip800)\" d=\"M83.0984 1349.29 L87.9827 1349.29 L87.9827 1355.17 L83.0984 1355.17 L83.0984 1349.29 Z\" fill=\"#000000\" fill-rule=\"nonzero\" fill-opacity=\"1\" /><path clip-path=\"url(#clip800)\" d=\"M108.746 1336.03 Q105.598 1336.03 103.746 1338.18 Q101.918 1340.33 101.918 1344.08 Q101.918 1347.81 103.746 1349.99 Q105.598 1352.14 108.746 1352.14 Q111.895 1352.14 113.723 1349.99 Q115.575 1347.81 115.575 1344.08 Q115.575 1340.33 113.723 1338.18 Q111.895 1336.03 108.746 1336.03 M118.029 1321.37 L118.029 1325.63 Q116.27 1324.8 114.464 1324.36 Q112.682 1323.92 110.922 1323.92 Q106.293 1323.92 103.839 1327.05 Q101.409 1330.17 101.061 1336.49 Q102.427 1334.48 104.487 1333.41 Q106.547 1332.32 109.024 1332.32 Q114.233 1332.32 117.242 1335.49 Q120.274 1338.64 120.274 1344.08 Q120.274 1349.41 117.126 1352.62 Q113.978 1355.84 108.746 1355.84 Q102.751 1355.84 99.5798 1351.26 Q96.4085 1346.65 96.4085 1337.93 Q96.4085 1329.73 100.297 1324.87 Q104.186 1319.99 110.737 1319.99 Q112.496 1319.99 114.279 1320.33 Q116.084 1320.68 118.029 1321.37 Z\" fill=\"#000000\" fill-rule=\"nonzero\" fill-opacity=\"1\" /><path clip-path=\"url(#clip800)\" d=\"M63.1911 1038.17 Q59.58 1038.17 57.7513 1041.73 Q55.9458 1045.27 55.9458 1052.4 Q55.9458 1059.51 57.7513 1063.07 Q59.58 1066.62 63.1911 1066.62 Q66.8254 1066.62 68.6309 1063.07 Q70.4596 1059.51 70.4596 1052.4 Q70.4596 1045.27 68.6309 1041.73 Q66.8254 1038.17 63.1911 1038.17 M63.1911 1034.46 Q69.0013 1034.46 72.0568 1039.07 Q75.1355 1043.65 75.1355 1052.4 Q75.1355 1061.13 72.0568 1065.74 Q69.0013 1070.32 63.1911 1070.32 Q57.381 1070.32 54.3023 1065.74 Q51.2468 1061.13 51.2468 1052.4 Q51.2468 1043.65 54.3023 1039.07 Q57.381 1034.46 63.1911 1034.46 Z\" fill=\"#000000\" fill-rule=\"nonzero\" fill-opacity=\"1\" /><path clip-path=\"url(#clip800)\" d=\"M83.3531 1063.77 L88.2373 1063.77 L88.2373 1069.65 L83.3531 1069.65 L83.3531 1063.77 Z\" fill=\"#000000\" fill-rule=\"nonzero\" fill-opacity=\"1\" /><path clip-path=\"url(#clip800)\" d=\"M108.422 1053.24 Q105.089 1053.24 103.168 1055.02 Q101.27 1056.8 101.27 1059.93 Q101.27 1063.05 103.168 1064.83 Q105.089 1066.62 108.422 1066.62 Q111.756 1066.62 113.677 1064.83 Q115.598 1063.03 115.598 1059.93 Q115.598 1056.8 113.677 1055.02 Q111.779 1053.24 108.422 1053.24 M103.746 1051.25 Q100.737 1050.5 99.0474 1048.44 Q97.3808 1046.38 97.3808 1043.42 Q97.3808 1039.28 100.321 1036.87 Q103.284 1034.46 108.422 1034.46 Q113.584 1034.46 116.524 1036.87 Q119.464 1039.28 119.464 1043.42 Q119.464 1046.38 117.774 1048.44 Q116.108 1050.5 113.121 1051.25 Q116.501 1052.03 118.376 1054.32 Q120.274 1056.62 120.274 1059.93 Q120.274 1064.95 117.195 1067.63 Q114.14 1070.32 108.422 1070.32 Q102.705 1070.32 99.6261 1067.63 Q96.5706 1064.95 96.5706 1059.93 Q96.5706 1056.62 98.4687 1054.32 Q100.367 1052.03 103.746 1051.25 M102.034 1043.86 Q102.034 1046.55 103.7 1048.05 Q105.39 1049.56 108.422 1049.56 Q111.432 1049.56 113.121 1048.05 Q114.834 1046.55 114.834 1043.86 Q114.834 1041.18 113.121 1039.67 Q111.432 1038.17 108.422 1038.17 Q105.39 1038.17 103.7 1039.67 Q102.034 1041.18 102.034 1043.86 Z\" fill=\"#000000\" fill-rule=\"nonzero\" fill-opacity=\"1\" /><path clip-path=\"url(#clip800)\" d=\"M53.9088 780.191 L61.5476 780.191 L61.5476 753.825 L53.2375 755.492 L53.2375 751.233 L61.5013 749.566 L66.1772 749.566 L66.1772 780.191 L73.8161 780.191 L73.8161 784.126 L53.9088 784.126 L53.9088 780.191 Z\" fill=\"#000000\" fill-rule=\"nonzero\" fill-opacity=\"1\" /><path clip-path=\"url(#clip800)\" d=\"M83.2605 778.246 L88.1447 778.246 L88.1447 784.126 L83.2605 784.126 L83.2605 778.246 Z\" fill=\"#000000\" fill-rule=\"nonzero\" fill-opacity=\"1\" /><path clip-path=\"url(#clip800)\" d=\"M108.33 752.645 Q104.719 752.645 102.89 756.209 Q101.084 759.751 101.084 766.881 Q101.084 773.987 102.89 777.552 Q104.719 781.094 108.33 781.094 Q111.964 781.094 113.77 777.552 Q115.598 773.987 115.598 766.881 Q115.598 759.751 113.77 756.209 Q111.964 752.645 108.33 752.645 M108.33 748.941 Q114.14 748.941 117.195 753.547 Q120.274 758.131 120.274 766.881 Q120.274 775.608 117.195 780.214 Q114.14 784.797 108.33 784.797 Q102.52 784.797 99.4409 780.214 Q96.3854 775.608 96.3854 766.881 Q96.3854 758.131 99.4409 753.547 Q102.52 748.941 108.33 748.941 Z\" fill=\"#000000\" fill-rule=\"nonzero\" fill-opacity=\"1\" /><path clip-path=\"url(#clip800)\" d=\"M55.506 494.668 L63.1448 494.668 L63.1448 468.303 L54.8347 469.97 L54.8347 465.71 L63.0985 464.044 L67.7744 464.044 L67.7744 494.668 L75.4133 494.668 L75.4133 498.604 L55.506 498.604 L55.506 494.668 Z\" fill=\"#000000\" fill-rule=\"nonzero\" fill-opacity=\"1\" /><path clip-path=\"url(#clip800)\" d=\"M84.8577 492.724 L89.7419 492.724 L89.7419 498.604 L84.8577 498.604 L84.8577 492.724 Z\" fill=\"#000000\" fill-rule=\"nonzero\" fill-opacity=\"1\" /><path clip-path=\"url(#clip800)\" d=\"M103.955 494.668 L120.274 494.668 L120.274 498.604 L98.3298 498.604 L98.3298 494.668 Q100.992 491.914 105.575 487.284 Q110.182 482.632 111.362 481.289 Q113.608 478.766 114.487 477.03 Q115.39 475.27 115.39 473.581 Q115.39 470.826 113.445 469.09 Q111.524 467.354 108.422 467.354 Q106.223 467.354 103.77 468.118 Q101.339 468.882 98.5613 470.432 L98.5613 465.71 Q101.385 464.576 103.839 463.997 Q106.293 463.419 108.33 463.419 Q113.7 463.419 116.895 466.104 Q120.089 468.789 120.089 473.28 Q120.089 475.409 119.279 477.331 Q118.492 479.229 116.385 481.821 Q115.807 482.493 112.705 485.71 Q109.603 488.905 103.955 494.668 Z\" fill=\"#000000\" fill-rule=\"nonzero\" fill-opacity=\"1\" /><path clip-path=\"url(#clip800)\" d=\"M53.4227 209.146 L61.0615 209.146 L61.0615 182.781 L52.7514 184.447 L52.7514 180.188 L61.0152 178.521 L65.6911 178.521 L65.6911 209.146 L73.33 209.146 L73.33 213.081 L53.4227 213.081 L53.4227 209.146 Z\" fill=\"#000000\" fill-rule=\"nonzero\" fill-opacity=\"1\" /><path clip-path=\"url(#clip800)\" d=\"M82.7744 207.202 L87.6586 207.202 L87.6586 213.081 L82.7744 213.081 L82.7744 207.202 Z\" fill=\"#000000\" fill-rule=\"nonzero\" fill-opacity=\"1\" /><path clip-path=\"url(#clip800)\" d=\"M110.691 182.595 L98.8854 201.044 L110.691 201.044 L110.691 182.595 M109.464 178.521 L115.344 178.521 L115.344 201.044 L120.274 201.044 L120.274 204.933 L115.344 204.933 L115.344 213.081 L110.691 213.081 L110.691 204.933 L95.0891 204.933 L95.0891 200.419 L109.464 178.521 Z\" fill=\"#000000\" fill-rule=\"nonzero\" fill-opacity=\"1\" /><polyline clip-path=\"url(#clip802)\" style=\"stroke:#009af9; stroke-linecap:round; stroke-linejoin:round; stroke-width:4; stroke-opacity:1; fill:none\" points=\"218.439,766.846 265.533,347.281 312.627,87.9763 359.722,87.9763 406.816,347.281 453.911,766.846 501.005,1186.41 548.099,1445.72 595.194,1445.72 642.288,1186.41 689.383,766.846 736.477,347.281 783.571,87.9763 830.666,87.9763 877.76,347.281 924.854,766.846 971.949,1186.41 1019.04,1445.72 1066.14,1445.72 1113.23,1186.41 1160.33,766.846 1207.42,347.281 1254.52,87.9763 1301.61,87.9763 1348.7,347.281 1395.8,766.846 1442.89,1186.41 1489.99,1445.72 1537.08,1445.72 1584.18,1186.41 1631.27,766.846 1678.36,347.281 1725.46,87.9763 1772.55,87.9763 1819.65,347.281 1866.74,766.846 1913.84,1186.41 1960.93,1445.72 2008.03,1445.72 2055.12,1186.41 2102.21,766.846 2149.31,347.281 2196.4,87.9763 2243.5,87.9763 2290.59,347.281 \"/>\n",
       "<path clip-path=\"url(#clip800)\" d=\"M229.49 1438.47 L615.318 1438.47 L615.318 1334.79 L229.49 1334.79  Z\" fill=\"#ffffff\" fill-rule=\"evenodd\" fill-opacity=\"1\"/>\n",
       "<polyline clip-path=\"url(#clip800)\" style=\"stroke:#000000; stroke-linecap:round; stroke-linejoin:round; stroke-width:4; stroke-opacity:1; fill:none\" points=\"229.49,1438.47 615.318,1438.47 615.318,1334.79 229.49,1334.79 229.49,1438.47 \"/>\n",
       "<polyline clip-path=\"url(#clip800)\" style=\"stroke:#009af9; stroke-linecap:round; stroke-linejoin:round; stroke-width:4; stroke-opacity:1; fill:none\" points=\"253.896,1386.63 400.328,1386.63 \"/>\n",
       "<path clip-path=\"url(#clip800)\" d=\"M438.576 1406.32 Q436.77 1410.95 435.057 1412.36 Q433.344 1413.78 430.474 1413.78 L427.071 1413.78 L427.071 1410.21 L429.571 1410.21 Q431.33 1410.21 432.302 1409.38 Q433.275 1408.54 434.455 1405.44 L435.219 1403.5 L424.733 1377.99 L429.247 1377.99 L437.349 1398.27 L445.451 1377.99 L449.964 1377.99 L438.576 1406.32 Z\" fill=\"#000000\" fill-rule=\"nonzero\" fill-opacity=\"1\" /><path clip-path=\"url(#clip800)\" d=\"M475.543 1411.78 L475.543 1415.09 L450.913 1415.09 L450.913 1411.78 L475.543 1411.78 Z\" fill=\"#000000\" fill-rule=\"nonzero\" fill-opacity=\"1\" /><path clip-path=\"url(#clip800)\" d=\"M498.159 1390.97 Q498.159 1386.28 496.214 1383.61 Q494.293 1380.93 490.913 1380.93 Q487.534 1380.93 485.589 1383.61 Q483.668 1386.28 483.668 1390.97 Q483.668 1395.67 485.589 1398.36 Q487.534 1401.02 490.913 1401.02 Q494.293 1401.02 496.214 1398.36 Q498.159 1395.67 498.159 1390.97 M483.668 1381.92 Q485.01 1379.61 487.048 1378.5 Q489.108 1377.36 491.955 1377.36 Q496.677 1377.36 499.617 1381.11 Q502.58 1384.86 502.58 1390.97 Q502.58 1397.09 499.617 1400.84 Q496.677 1404.59 491.955 1404.59 Q489.108 1404.59 487.048 1403.47 Q485.01 1402.34 483.668 1400.03 L483.668 1403.91 L479.386 1403.91 L479.386 1367.9 L483.668 1367.9 L483.668 1381.92 Z\" fill=\"#000000\" fill-rule=\"nonzero\" fill-opacity=\"1\" /><path clip-path=\"url(#clip800)\" d=\"M519.686 1380.97 Q516.26 1380.97 514.27 1383.66 Q512.279 1386.32 512.279 1390.97 Q512.279 1395.63 514.246 1398.31 Q516.237 1400.97 519.686 1400.97 Q523.089 1400.97 525.08 1398.29 Q527.07 1395.6 527.07 1390.97 Q527.07 1386.37 525.08 1383.68 Q523.089 1380.97 519.686 1380.97 M519.686 1377.36 Q525.242 1377.36 528.413 1380.97 Q531.584 1384.59 531.584 1390.97 Q531.584 1397.34 528.413 1400.97 Q525.242 1404.59 519.686 1404.59 Q514.108 1404.59 510.936 1400.97 Q507.788 1397.34 507.788 1390.97 Q507.788 1384.59 510.936 1380.97 Q514.108 1377.36 519.686 1377.36 Z\" fill=\"#000000\" fill-rule=\"nonzero\" fill-opacity=\"1\" /><path clip-path=\"url(#clip800)\" d=\"M555.705 1381.92 L555.705 1367.9 L559.964 1367.9 L559.964 1403.91 L555.705 1403.91 L555.705 1400.03 Q554.362 1402.34 552.302 1403.47 Q550.265 1404.59 547.394 1404.59 Q542.695 1404.59 539.732 1400.84 Q536.793 1397.09 536.793 1390.97 Q536.793 1384.86 539.732 1381.11 Q542.695 1377.36 547.394 1377.36 Q550.265 1377.36 552.302 1378.5 Q554.362 1379.61 555.705 1381.92 M541.191 1390.97 Q541.191 1395.67 543.112 1398.36 Q545.056 1401.02 548.436 1401.02 Q551.816 1401.02 553.76 1398.36 Q555.705 1395.67 555.705 1390.97 Q555.705 1386.28 553.76 1383.61 Q551.816 1380.93 548.436 1380.93 Q545.056 1380.93 543.112 1383.61 Q541.191 1386.28 541.191 1390.97 Z\" fill=\"#000000\" fill-rule=\"nonzero\" fill-opacity=\"1\" /><path clip-path=\"url(#clip800)\" d=\"M579.524 1406.32 Q577.718 1410.95 576.005 1412.36 Q574.292 1413.78 571.422 1413.78 L568.019 1413.78 L568.019 1410.21 L570.519 1410.21 Q572.279 1410.21 573.251 1409.38 Q574.223 1408.54 575.404 1405.44 L576.167 1403.5 L565.681 1377.99 L570.195 1377.99 L578.297 1398.27 L586.399 1377.99 L590.913 1377.99 L579.524 1406.32 Z\" fill=\"#000000\" fill-rule=\"nonzero\" fill-opacity=\"1\" /></svg>\n"
      ]
     },
     "execution_count": 11,
     "metadata": {},
     "output_type": "execute_result"
    }
   ],
   "source": [
    "plot(xref[2,:], label=\"y_body\")"
   ]
  },
  {
   "cell_type": "markdown",
   "id": "86d234f2",
   "metadata": {},
   "source": [
    "## Define 3 kinda constraints - 1) dynamics 2) stance 3) lenght"
   ]
  },
  {
   "cell_type": "code",
   "execution_count": 12,
   "id": "8b7cad0c",
   "metadata": {},
   "outputs": [
    {
     "data": {
      "text/plain": [
       "dynamics_constraint! (generic function with 1 method)"
      ]
     },
     "execution_count": 12,
     "metadata": {},
     "output_type": "execute_result"
    }
   ],
   "source": [
    "function dynamics_constraint!(c,ztraj)\n",
    "    d = reshape(view(c,c_dyn_inds),Nx,Nt-1)\n",
    "    z = reshape(ztraj[1:(end-Nx)], Nx+Nu, Nt-1)\n",
    "    xtraj = [z[1:Nx,:] ztraj[(end-Nx+1):end]]    \n",
    "    utraj = z[(Nx+1):end,:]\n",
    "    \n",
    "    for k in 1:(Nmodes-1)\n",
    "        if mod(k, 2) == 1\n",
    "            # stance phase\n",
    "            for j in 1:Nm\n",
    "                s = Nm*(k-1) + j\n",
    "                d[:,s] = (stance_dynamics_rk4(xtraj[:,s], utraj[:,s]) - xtraj[:,s+1])\n",
    "            end\n",
    "        else\n",
    "            # swing phase\n",
    "            for j in 1:(Nm-1)\n",
    "                s = Nm*(k-1) + j\n",
    "                d[:,s] = (flight_dynamics_rk4(xtraj[:,s], utraj[:,s]) - xtraj[:,s+1])\n",
    "            end\n",
    "            s = Nm*(k-1) + Nm # Nm*k\n",
    "            d[:,s] = (jump_map(flight_dynamics_rk4(xtraj[:,s], utraj[:,s])) - xtraj[:,s+1])\n",
    "        end\n",
    "    end\n",
    " \n",
    "    if mod(Nmodes, 2) == 1\n",
    "        # last stance phase\n",
    "        for j in 1:(Nm-1)\n",
    "            s = Nm*(Nmodes-1) + j\n",
    "            d[:,s] = (stance_dynamics_rk4(xtraj[:,s], utraj[:,s]) - xtraj[:,s+1])\n",
    "        end\n",
    "    else\n",
    "        # last swing phase\n",
    "        for j in 1:(Nm-1)\n",
    "            s = Nm*(Nmodes-1) + j\n",
    "            d[:,s] = (flight_dynamics_rk4(xtraj[:,s], utraj[:,s]) - xtraj[:,s+1])\n",
    "        end\n",
    "    end\n",
    "    \n",
    "    return nothing\n",
    "end"
   ]
  },
  {
   "cell_type": "code",
   "execution_count": 13,
   "id": "31d95f06",
   "metadata": {},
   "outputs": [
    {
     "data": {
      "text/plain": [
       "stance_constraint! (generic function with 1 method)"
      ]
     },
     "execution_count": 13,
     "metadata": {},
     "output_type": "execute_result"
    }
   ],
   "source": [
    "function stance_constraint!(c,ztraj)\n",
    "    d = view(c,c_stance_inds)\n",
    "    z = reshape(ztraj[1:(end-Nx)], Nx+Nu, Nt-1)\n",
    "    xtraj = [z[1:Nx,:] ztraj[(end-Nx+1):end]]    \n",
    "\n",
    "    t = 1\n",
    "    for k in 1:Nmodes\n",
    "        if mod(k, 2) == 1\n",
    "            for j in 1:Nm\n",
    "                s = Nm*(k-1) + j\n",
    "                d[t] = (xtraj[4,s])\n",
    "                t += 1\n",
    "            end\n",
    "        end\n",
    "    end\n",
    "    \n",
    "    return nothing\n",
    "end"
   ]
  },
  {
   "cell_type": "code",
   "execution_count": 14,
   "id": "7567fd59",
   "metadata": {},
   "outputs": [
    {
     "data": {
      "text/plain": [
       "length_constraint! (generic function with 1 method)"
      ]
     },
     "execution_count": 14,
     "metadata": {},
     "output_type": "execute_result"
    }
   ],
   "source": [
    "function length_constraint!(c,ztraj)\n",
    "    d = view(c,c_length_inds)\n",
    "    z = reshape(ztraj[1:(end-Nx)], Nx+Nu, Nt-1)\n",
    "    xtraj = [z[1:Nx,:] ztraj[(end-Nx+1):end]]    \n",
    "\n",
    "    for k in 1:Nt\n",
    "        d[k] = norm(xtraj[1:2,k] - xtraj[3:4,k])\n",
    "    end\n",
    "end"
   ]
  },
  {
   "cell_type": "markdown",
   "id": "6f6695de",
   "metadata": {},
   "source": [
    "## Collect all constraints!"
   ]
  },
  {
   "cell_type": "code",
   "execution_count": 15,
   "id": "12a90ed3",
   "metadata": {},
   "outputs": [
    {
     "data": {
      "text/plain": [
       "con! (generic function with 1 method)"
      ]
     },
     "execution_count": 15,
     "metadata": {},
     "output_type": "execute_result"
    }
   ],
   "source": [
    "function con!(c,ztraj)\n",
    "    c[c_init_inds] .= (ztraj[1:Nx] - xref[:,1])\n",
    "    c[c_term_inds] .= (ztraj[(end-Nx+1):end] - xref[:,end])\n",
    "    @views dynamics_constraint!(c,ztraj)\n",
    "    @views stance_constraint!(c,ztraj)\n",
    "    @views length_constraint!(c,ztraj)\n",
    "end"
   ]
  },
  {
   "cell_type": "code",
   "execution_count": 16,
   "id": "cfffe927",
   "metadata": {},
   "outputs": [
    {
     "data": {
      "text/plain": [
       "solve (generic function with 1 method)"
      ]
     },
     "execution_count": 16,
     "metadata": {},
     "output_type": "execute_result"
    }
   ],
   "source": [
    "struct ProblemMOI <: MOI.AbstractNLPEvaluator\n",
    "    n_nlp::Int\n",
    "    m_nlp::Int\n",
    "    idx_ineq\n",
    "    obj_grad::Bool\n",
    "    con_jac::Bool\n",
    "    sparsity_jac\n",
    "    sparsity_hess\n",
    "    primal_bounds\n",
    "    constraint_bounds\n",
    "    hessian_lagrangian::Bool\n",
    "end\n",
    "\n",
    "function ProblemMOI(n_nlp,m_nlp;\n",
    "        idx_ineq=c_length_inds,\n",
    "        obj_grad=true,\n",
    "        con_jac=true,\n",
    "        sparsity_jac=sparsity_jacobian(n_nlp,m_nlp),\n",
    "        sparsity_hess=sparsity_hessian(n_nlp,m_nlp),\n",
    "        primal_bounds=primal_bounds(n_nlp),\n",
    "        constraint_bounds=constraint_bounds(m_nlp,idx_ineq=idx_ineq),\n",
    "        hessian_lagrangian=false)\n",
    "\n",
    "    ProblemMOI(n_nlp,m_nlp,\n",
    "        idx_ineq,\n",
    "        obj_grad,\n",
    "        con_jac,\n",
    "        sparsity_jac,\n",
    "        sparsity_hess,\n",
    "        primal_bounds,\n",
    "        constraint_bounds,\n",
    "        hessian_lagrangian)\n",
    "end\n",
    "\n",
    "function primal_bounds(n)\n",
    "    x_l = -Inf*ones(n)\n",
    "    x_u = Inf*ones(n)\n",
    "    return x_l, x_u\n",
    "end\n",
    "\n",
    "function constraint_bounds(m; idx_ineq=(1:0))\n",
    "    c_l = zeros(m)\n",
    "    c_l[idx_ineq] .= ℓ_min\n",
    "\n",
    "    c_u = zeros(m)\n",
    "    c_u[idx_ineq] .= ℓ_max\n",
    "    return c_l, c_u\n",
    "end\n",
    "\n",
    "function row_col!(row,col,r,c)\n",
    "    for cc in c\n",
    "        for rr in r\n",
    "            push!(row,convert(Int,rr))\n",
    "            push!(col,convert(Int,cc))\n",
    "        end\n",
    "    end\n",
    "    return row, col\n",
    "end\n",
    "\n",
    "function sparsity_jacobian(n,m)\n",
    "\n",
    "    row = []\n",
    "    col = []\n",
    "\n",
    "    r = 1:m\n",
    "    c = 1:n\n",
    "\n",
    "    row_col!(row,col,r,c)\n",
    "\n",
    "    return collect(zip(row,col))\n",
    "end\n",
    "\n",
    "function sparsity_hessian(n,m)\n",
    "\n",
    "    row = []\n",
    "    col = []\n",
    "\n",
    "    r = 1:m\n",
    "    c = 1:n\n",
    "\n",
    "    row_col!(row,col,r,c)\n",
    "\n",
    "    return collect(zip(row,col))\n",
    "end\n",
    "\n",
    "function MOI.eval_objective(prob::MOI.AbstractNLPEvaluator, x)\n",
    "    cost(x)\n",
    "end\n",
    "\n",
    "function MOI.eval_objective_gradient(prob::MOI.AbstractNLPEvaluator, grad_f, x)\n",
    "    ForwardDiff.gradient!(grad_f,cost,x)\n",
    "    return nothing\n",
    "end\n",
    "\n",
    "function MOI.eval_constraint(prob::MOI.AbstractNLPEvaluator,g,x)\n",
    "    con!(g,x)\n",
    "    return nothing\n",
    "end\n",
    "\n",
    "function MOI.eval_constraint_jacobian(prob::MOI.AbstractNLPEvaluator, jac, x)\n",
    "    ForwardDiff.jacobian!(reshape(jac,prob.m_nlp,prob.n_nlp), con!, zeros(prob.m_nlp), x)\n",
    "    return nothing\n",
    "end\n",
    "\n",
    "function MOI.features_available(prob::MOI.AbstractNLPEvaluator)\n",
    "    return [:Grad, :Jac]\n",
    "end\n",
    "\n",
    "MOI.initialize(prob::MOI.AbstractNLPEvaluator, features) = nothing\n",
    "MOI.jacobian_structure(prob::MOI.AbstractNLPEvaluator) = prob.sparsity_jac\n",
    "\n",
    "function solve(x0,prob::MOI.AbstractNLPEvaluator;\n",
    "        tol=1.0e-6,c_tol=1.0e-6,max_iter=10000)\n",
    "    x_l, x_u = prob.primal_bounds\n",
    "    c_l, c_u = prob.constraint_bounds\n",
    "\n",
    "    nlp_bounds = MOI.NLPBoundsPair.(c_l,c_u)\n",
    "    block_data = MOI.NLPBlockData(nlp_bounds,prob,true)\n",
    "\n",
    "    solver = Ipopt.Optimizer()\n",
    "    solver.options[\"max_iter\"] = max_iter\n",
    "    solver.options[\"tol\"] = tol\n",
    "    solver.options[\"constr_viol_tol\"] = c_tol\n",
    "\n",
    "    x = MOI.add_variables(solver,prob.n_nlp)\n",
    "\n",
    "    for i = 1:prob.n_nlp\n",
    "        MOI.add_constraint(solver, x[i], MOI.LessThan(x_u[i]))\n",
    "        MOI.add_constraint(solver, x[i], MOI.GreaterThan(x_l[i]))\n",
    "        MOI.set(solver, MOI.VariablePrimalStart(), x[i], x0[i])\n",
    "    end\n",
    "\n",
    "    # Solve the problem\n",
    "    MOI.set(solver, MOI.NLPBlock(), block_data)\n",
    "    MOI.set(solver, MOI.ObjectiveSense(), MOI.MIN_SENSE)\n",
    "    MOI.optimize!(solver)\n",
    "\n",
    "    # Get the solution\n",
    "    res = MOI.get(solver, MOI.VariablePrimal(), x)\n",
    "\n",
    "    return res\n",
    "end"
   ]
  },
  {
   "cell_type": "code",
   "execution_count": 17,
   "id": "28310fac",
   "metadata": {},
   "outputs": [],
   "source": [
    "# Initial Guess - naive reference + random noise\n",
    "xguess = xref + 0.1*randn(Nx,Nt)\n",
    "uguess = kron(ones(Nt-1)', uref) + 0.1*randn(Nu,Nt-1)\n",
    "z0 = [reshape([xguess[:,1:(Nt-1)]; uguess],(Nx+Nu)*(Nt-1),1); xguess[:,end]];"
   ]
  },
  {
   "cell_type": "code",
   "execution_count": 18,
   "id": "c235b597",
   "metadata": {},
   "outputs": [
    {
     "name": "stdout",
     "output_type": "stream",
     "text": [
      "\n",
      "******************************************************************************\n",
      "This program contains Ipopt, a library for large-scale nonlinear optimization.\n",
      " Ipopt is released as open source code under the Eclipse Public License (EPL).\n",
      "         For more information visit https://github.com/coin-or/Ipopt\n",
      "******************************************************************************\n",
      "\n",
      "This is Ipopt version 3.14.4, running with linear solver MUMPS 5.4.1.\n",
      "\n",
      "Number of nonzeros in equality constraint Jacobian...:   176064\n",
      "Number of nonzeros in inequality constraint Jacobian.:    20160\n",
      "Number of nonzeros in Lagrangian Hessian.............:        0\n",
      "\n"
     ]
    },
    {
     "ename": "LoadError",
     "evalue": "BoundsError: attempt to access 2-element Vector{Float64} at index [1:2, 2]",
     "output_type": "error",
     "traceback": [
      "BoundsError: attempt to access 2-element Vector{Float64} at index [1:2, 2]",
      "",
      "Stacktrace:",
      "  [1] throw_boundserror(A::Vector{Float64}, I::Tuple{Base.Slice{Base.OneTo{Int64}}, Int64})",
      "    @ Base ./abstractarray.jl:651",
      "  [2] checkbounds",
      "    @ ./abstractarray.jl:616 [inlined]",
      "  [3] _getindex",
      "    @ ./multidimensional.jl:837 [inlined]",
      "  [4] getindex(::Vector{Float64}, ::Function, ::Int64)",
      "    @ Base ./abstractarray.jl:1170",
      "  [5] cost(ztraj::Vector{ForwardDiff.Dual{ForwardDiff.Tag{typeof(cost), Float64}, Float64, 12}})",
      "    @ Main ./In[9]:9",
      "  [6] chunk_mode_gradient!(result::Vector{Float64}, f::typeof(cost), x::Vector{Float64}, cfg::ForwardDiff.GradientConfig{ForwardDiff.Tag{typeof(cost), Float64}, Float64, 12, Vector{ForwardDiff.Dual{ForwardDiff.Tag{typeof(cost), Float64}, Float64, 12}}})",
      "    @ ForwardDiff ~/.julia/packages/ForwardDiff/PcZ48/src/gradient.jl:123",
      "  [7] gradient!",
      "    @ ~/.julia/packages/ForwardDiff/PcZ48/src/gradient.jl:39 [inlined]",
      "  [8] gradient!(result::Vector{Float64}, f::typeof(cost), x::Vector{Float64}, cfg::ForwardDiff.GradientConfig{ForwardDiff.Tag{typeof(cost), Float64}, Float64, 12, Vector{ForwardDiff.Dual{ForwardDiff.Tag{typeof(cost), Float64}, Float64, 12}}}) (repeats 2 times)",
      "    @ ForwardDiff ~/.julia/packages/ForwardDiff/PcZ48/src/gradient.jl:35",
      "  [9] eval_objective_gradient(prob::ProblemMOI, grad_f::Vector{Float64}, x::Vector{Float64})",
      "    @ Main ./In[16]:91",
      " [10] eval_objective_gradient(model::Ipopt.Optimizer, grad::Vector{Float64}, x::Vector{Float64})",
      "    @ Ipopt ~/.julia/packages/Ipopt/YDBAD/src/MOI_wrapper.jl:710",
      " [11] (::Ipopt.var\"#eval_grad_f_cb#4\"{Ipopt.Optimizer})(x::Vector{Float64}, grad_f::Vector{Float64})",
      "    @ Ipopt ~/.julia/packages/Ipopt/YDBAD/src/MOI_wrapper.jl:812",
      " [12] _Eval_Grad_F_CB(n::Int32, x_ptr::Ptr{Float64}, #unused#::Int32, grad_f::Ptr{Float64}, user_data::Ptr{Nothing})",
      "    @ Ipopt ~/.julia/packages/Ipopt/YDBAD/src/C_wrapper.jl:54",
      " [13] IpoptSolve(prob::IpoptProblem)",
      "    @ Ipopt ~/.julia/packages/Ipopt/YDBAD/src/C_wrapper.jl:442",
      " [14] optimize!(model::Ipopt.Optimizer)",
      "    @ Ipopt ~/.julia/packages/Ipopt/YDBAD/src/MOI_wrapper.jl:954",
      " [15] solve(x0::Matrix{Float64}, prob::ProblemMOI; tol::Float64, c_tol::Float64, max_iter::Int64)",
      "    @ Main ./In[16]:136",
      " [16] solve(x0::Matrix{Float64}, prob::ProblemMOI)",
      "    @ Main ./In[16]:114",
      " [17] top-level scope",
      "    @ In[18]:2"
     ]
    }
   ],
   "source": [
    "prob = ProblemMOI(n_nlp,m_nlp)\n",
    "z_sol = solve(z0,prob) # solve"
   ]
  },
  {
   "cell_type": "code",
   "execution_count": null,
   "id": "fa7b85d3",
   "metadata": {},
   "outputs": [],
   "source": []
  }
 ],
 "metadata": {
  "kernelspec": {
   "display_name": "Julia 1.6.7",
   "language": "julia",
   "name": "julia-1.6"
  },
  "language_info": {
   "file_extension": ".jl",
   "mimetype": "application/julia",
   "name": "julia",
   "version": "1.6.7"
  }
 },
 "nbformat": 4,
 "nbformat_minor": 5
}
