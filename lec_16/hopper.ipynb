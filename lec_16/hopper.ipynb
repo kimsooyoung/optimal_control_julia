{
 "cells": [
  {
   "cell_type": "code",
   "execution_count": 1,
   "metadata": {},
   "outputs": [
    {
     "name": "stderr",
     "output_type": "stream",
     "text": [
      "\u001b[32m\u001b[1m  Activating\u001b[22m\u001b[39m environment at `~/Documents/optimal_control_julia/lec_16/Project.toml`\n",
      "\u001b[32m\u001b[1m    Updating\u001b[22m\u001b[39m registry at `~/.julia/registries/General`\n",
      "\u001b[32m\u001b[1m    Updating\u001b[22m\u001b[39m `~/Documents/optimal_control_julia/lec_16/Project.toml`\n",
      " \u001b[90m [5ae59095] \u001b[39m\u001b[92m+ Colors v0.12.10\u001b[39m\n",
      " \u001b[90m [150eb455] \u001b[39m\u001b[92m+ CoordinateTransformations v0.6.3\u001b[39m\n",
      " \u001b[90m [f6369f11] \u001b[39m\u001b[92m+ ForwardDiff v0.10.36\u001b[39m\n",
      " \u001b[90m [5c1252a2] \u001b[39m\u001b[92m+ GeometryBasics v0.4.10\u001b[39m\n",
      " \u001b[90m [b6b21f68] \u001b[39m\u001b[92m+ Ipopt v1.6.2\u001b[39m\n",
      " \u001b[90m [b8f27783] \u001b[39m\u001b[92m+ MathOptInterface v1.27.1\u001b[39m\n",
      " \u001b[90m [283c5d60] \u001b[39m\u001b[92m+ MeshCat v0.16.1\u001b[39m\n",
      " \u001b[90m [91a5bcdd] \u001b[39m\u001b[92m+ Plots v1.40.3\u001b[39m\n",
      " \u001b[90m [d330b81b] \u001b[39m\u001b[92m+ PyPlot v2.11.2\u001b[39m\n",
      " \u001b[90m [6038ab10] \u001b[39m\u001b[92m+ Rotations v1.7.0\u001b[39m\n",
      " \u001b[90m [90137ffa] \u001b[39m\u001b[92m+ StaticArrays v1.9.3\u001b[39m\n",
      "\u001b[32m\u001b[1m    Updating\u001b[22m\u001b[39m `~/Documents/optimal_control_julia/lec_16/Manifest.toml`\n",
      " \u001b[90m [79e6a3ab] \u001b[39m\u001b[92m+ Adapt v4.0.4\u001b[39m\n",
      " \u001b[90m [6e4b80f9] \u001b[39m\u001b[92m+ BenchmarkTools v1.5.0\u001b[39m\n",
      " \u001b[90m [d1d4a3ce] \u001b[39m\u001b[92m+ BitFlags v0.1.8\u001b[39m\n",
      " \u001b[90m [7057c7e9] \u001b[39m\u001b[92m+ Cassette v0.3.13\u001b[39m\n",
      " \u001b[90m [d360d2e6] \u001b[39m\u001b[92m+ ChainRulesCore v1.23.0\u001b[39m\n",
      " \u001b[90m [9e997f8a] \u001b[39m\u001b[92m+ ChangesOfVariables v0.1.8\u001b[39m\n",
      " \u001b[90m [523fee87] \u001b[39m\u001b[92m+ CodecBzip2 v0.8.2\u001b[39m\n",
      " \u001b[90m [944b1d66] \u001b[39m\u001b[92m+ CodecZlib v0.7.4\u001b[39m\n",
      " \u001b[90m [35d6a980] \u001b[39m\u001b[92m+ ColorSchemes v3.24.0\u001b[39m\n",
      " \u001b[90m [3da002f7] \u001b[39m\u001b[92m+ ColorTypes v0.11.5\u001b[39m\n",
      " \u001b[90m [c3611d14] \u001b[39m\u001b[92m+ ColorVectorSpace v0.10.0\u001b[39m\n",
      " \u001b[90m [5ae59095] \u001b[39m\u001b[92m+ Colors v0.12.10\u001b[39m\n",
      " \u001b[90m [bbf7d656] \u001b[39m\u001b[92m+ CommonSubexpressions v0.3.0\u001b[39m\n",
      " \u001b[90m [34da2185] \u001b[39m\u001b[92m+ Compat v4.14.0\u001b[39m\n",
      " \u001b[90m [f0e56b4a] \u001b[39m\u001b[92m+ ConcurrentUtilities v2.4.1\u001b[39m\n",
      " \u001b[90m [8f4d0f93] \u001b[39m\u001b[92m+ Conda v1.10.0\u001b[39m\n",
      " \u001b[90m [187b0558] \u001b[39m\u001b[92m+ ConstructionBase v1.5.5\u001b[39m\n",
      " \u001b[90m [d38c429a] \u001b[39m\u001b[92m+ Contour v0.6.3\u001b[39m\n",
      " \u001b[90m [150eb455] \u001b[39m\u001b[92m+ CoordinateTransformations v0.6.3\u001b[39m\n",
      " \u001b[90m [9a962f9c] \u001b[39m\u001b[92m+ DataAPI v1.16.0\u001b[39m\n",
      " \u001b[90m [864edb3b] \u001b[39m\u001b[92m+ DataStructures v0.18.18\u001b[39m\n",
      " \u001b[90m [e2d170a0] \u001b[39m\u001b[92m+ DataValueInterfaces v1.0.0\u001b[39m\n",
      " \u001b[90m [163ba53b] \u001b[39m\u001b[92m+ DiffResults v1.1.0\u001b[39m\n",
      " \u001b[90m [b552c78f] \u001b[39m\u001b[92m+ DiffRules v1.15.1\u001b[39m\n",
      " \u001b[90m [ffbed154] \u001b[39m\u001b[92m+ DocStringExtensions v0.9.3\u001b[39m\n",
      " \u001b[90m [460bff9d] \u001b[39m\u001b[92m+ ExceptionUnwrapping v0.1.10\u001b[39m\n",
      " \u001b[90m [411431e0] \u001b[39m\u001b[92m+ Extents v0.1.2\u001b[39m\n",
      " \u001b[90m [c87230d0] \u001b[39m\u001b[92m+ FFMPEG v0.4.1\u001b[39m\n",
      " \u001b[90m [53c48c17] \u001b[39m\u001b[92m+ FixedPointNumbers v0.8.4\u001b[39m\n",
      " \u001b[90m [1fa38f19] \u001b[39m\u001b[92m+ Format v1.3.7\u001b[39m\n",
      " \u001b[90m [f6369f11] \u001b[39m\u001b[92m+ ForwardDiff v0.10.36\u001b[39m\n",
      " \u001b[90m [46192b85] \u001b[39m\u001b[92m+ GPUArraysCore v0.1.6\u001b[39m\n",
      " \u001b[90m [28b8d3ca] \u001b[39m\u001b[92m+ GR v0.73.3\u001b[39m\n",
      " \u001b[90m [cf35fbd7] \u001b[39m\u001b[92m+ GeoInterface v1.3.3\u001b[39m\n",
      " \u001b[90m [5c1252a2] \u001b[39m\u001b[92m+ GeometryBasics v0.4.10\u001b[39m\n",
      " \u001b[90m [42e2da0e] \u001b[39m\u001b[92m+ Grisu v1.0.2\u001b[39m\n",
      " \u001b[90m [cd3eb016] \u001b[39m\u001b[92m+ HTTP v1.10.5\u001b[39m\n",
      " \u001b[90m [3587e190] \u001b[39m\u001b[92m+ InverseFunctions v0.1.13\u001b[39m\n",
      " \u001b[90m [b6b21f68] \u001b[39m\u001b[92m+ Ipopt v1.6.2\u001b[39m\n",
      " \u001b[90m [92d709cd] \u001b[39m\u001b[92m+ IrrationalConstants v0.2.2\u001b[39m\n",
      " \u001b[90m [c8e1da08] \u001b[39m\u001b[92m+ IterTools v1.4.0\u001b[39m\n",
      " \u001b[90m [82899510] \u001b[39m\u001b[92m+ IteratorInterfaceExtensions v1.0.0\u001b[39m\n",
      " \u001b[90m [1019f520] \u001b[39m\u001b[92m+ JLFzf v0.1.7\u001b[39m\n",
      " \u001b[90m [692b3bcd] \u001b[39m\u001b[92m+ JLLWrappers v1.5.0\u001b[39m\n",
      " \u001b[90m [682c06a0] \u001b[39m\u001b[92m+ JSON v0.21.4\u001b[39m\n",
      " \u001b[90m [b964fa9f] \u001b[39m\u001b[92m+ LaTeXStrings v1.3.1\u001b[39m\n",
      " \u001b[90m [23fbe1c1] \u001b[39m\u001b[92m+ Latexify v0.16.2\u001b[39m\n",
      " \u001b[90m [2ab3a3ac] \u001b[39m\u001b[92m+ LogExpFunctions v0.3.27\u001b[39m\n",
      " \u001b[90m [e6f89c97] \u001b[39m\u001b[92m+ LoggingExtras v1.0.3\u001b[39m\n",
      " \u001b[90m [1914dd2f] \u001b[39m\u001b[92m+ MacroTools v0.5.13\u001b[39m\n",
      " \u001b[90m [b8f27783] \u001b[39m\u001b[92m+ MathOptInterface v1.27.1\u001b[39m\n",
      " \u001b[90m [739be429] \u001b[39m\u001b[92m+ MbedTLS v1.1.9\u001b[39m\n",
      " \u001b[90m [442fdcdd] \u001b[39m\u001b[92m+ Measures v0.3.2\u001b[39m\n",
      " \u001b[90m [283c5d60] \u001b[39m\u001b[92m+ MeshCat v0.16.1\u001b[39m\n",
      " \u001b[90m [e1d29d7a] \u001b[39m\u001b[92m+ Missings v1.2.0\u001b[39m\n",
      " \u001b[90m [99f44e22] \u001b[39m\u001b[92m+ MsgPack v1.2.1\u001b[39m\n",
      " \u001b[90m [d8a4904e] \u001b[39m\u001b[92m+ MutableArithmetics v1.4.2\u001b[39m\n",
      " \u001b[90m [77ba4419] \u001b[39m\u001b[92m+ NaNMath v1.0.2\u001b[39m\n",
      " \u001b[90m [4d8831e6] \u001b[39m\u001b[92m+ OpenSSL v1.4.2\u001b[39m\n",
      " \u001b[90m [bac558e1] \u001b[39m\u001b[92m+ OrderedCollections v1.6.3\u001b[39m\n",
      " \u001b[90m [d96e819e] \u001b[39m\u001b[92m+ Parameters v0.12.3\u001b[39m\n",
      " \u001b[90m [69de0a69] \u001b[39m\u001b[92m+ Parsers v2.8.1\u001b[39m\n",
      " \u001b[90m [b98c9c47] \u001b[39m\u001b[92m+ Pipe v1.3.0\u001b[39m\n",
      " \u001b[90m [ccf2f8ad] \u001b[39m\u001b[92m+ PlotThemes v3.1.0\u001b[39m\n",
      " \u001b[90m [995b91a9] \u001b[39m\u001b[92m+ PlotUtils v1.4.1\u001b[39m\n",
      " \u001b[90m [91a5bcdd] \u001b[39m\u001b[92m+ Plots v1.40.3\u001b[39m\n",
      " \u001b[90m [aea7be01] \u001b[39m\u001b[92m+ PrecompileTools v1.2.1\u001b[39m\n",
      " \u001b[90m [21216c6a] \u001b[39m\u001b[92m+ Preferences v1.4.3\u001b[39m\n",
      " \u001b[90m [438e738f] \u001b[39m\u001b[92m+ PyCall v1.96.4\u001b[39m\n",
      " \u001b[90m [d330b81b] \u001b[39m\u001b[92m+ PyPlot v2.11.2\u001b[39m\n",
      " \u001b[90m [94ee1d12] \u001b[39m\u001b[92m+ Quaternions v0.7.6\u001b[39m\n",
      " \u001b[90m [c1ae055f] \u001b[39m\u001b[92m+ RealDot v0.1.0\u001b[39m\n",
      " \u001b[90m [3cdcf5f2] \u001b[39m\u001b[92m+ RecipesBase v1.3.4\u001b[39m\n",
      " \u001b[90m [01d81517] \u001b[39m\u001b[92m+ RecipesPipeline v0.6.12\u001b[39m\n",
      " \u001b[90m [189a3867] \u001b[39m\u001b[92m+ Reexport v1.2.2\u001b[39m\n",
      " \u001b[90m [05181044] \u001b[39m\u001b[92m+ RelocatableFolders v1.0.1\u001b[39m\n",
      " \u001b[90m [ae029012] \u001b[39m\u001b[92m+ Requires v1.3.0\u001b[39m\n",
      " \u001b[90m [6038ab10] \u001b[39m\u001b[92m+ Rotations v1.7.0\u001b[39m\n",
      " \u001b[90m [6c6a2e73] \u001b[39m\u001b[92m+ Scratch v1.2.1\u001b[39m\n",
      " \u001b[90m [992d4aef] \u001b[39m\u001b[92m+ Showoff v1.0.3\u001b[39m\n",
      " \u001b[90m [777ac1f9] \u001b[39m\u001b[92m+ SimpleBufferStream v1.1.0\u001b[39m\n",
      " \u001b[90m [a2af1166] \u001b[39m\u001b[92m+ SortingAlgorithms v1.2.1\u001b[39m\n",
      " \u001b[90m [276daf66] \u001b[39m\u001b[92m+ SpecialFunctions v2.3.1\u001b[39m\n",
      " \u001b[90m [90137ffa] \u001b[39m\u001b[92m+ StaticArrays v1.9.3\u001b[39m\n",
      " \u001b[90m [1e83bf80] \u001b[39m\u001b[92m+ StaticArraysCore v1.4.2\u001b[39m\n",
      " \u001b[90m [82ae8749] \u001b[39m\u001b[92m+ StatsAPI v1.7.0\u001b[39m\n",
      " \u001b[90m [2913bbd2] \u001b[39m\u001b[92m+ StatsBase v0.34.3\u001b[39m\n",
      " \u001b[90m [09ab397b] \u001b[39m\u001b[92m+ StructArrays v0.6.18\u001b[39m\n",
      " \u001b[90m [3783bdb8] \u001b[39m\u001b[92m+ TableTraits v1.0.1\u001b[39m\n",
      " \u001b[90m [bd369af6] \u001b[39m\u001b[92m+ Tables v1.11.1\u001b[39m\n",
      " \u001b[90m [62fd8b95] \u001b[39m\u001b[92m+ TensorCore v0.1.1\u001b[39m\n",
      " \u001b[90m [3bb67fe8] \u001b[39m\u001b[92m+ TranscodingStreams v0.10.7\u001b[39m\n",
      " \u001b[90m [5c2747f8] \u001b[39m\u001b[92m+ URIs v1.5.1\u001b[39m\n",
      " \u001b[90m [3a884ed6] \u001b[39m\u001b[92m+ UnPack v1.0.2\u001b[39m\n",
      " \u001b[90m [1cfade01] \u001b[39m\u001b[92m+ UnicodeFun v0.4.1\u001b[39m\n",
      " \u001b[90m [1986cc42] \u001b[39m\u001b[92m+ Unitful v1.19.0\u001b[39m\n",
      " \u001b[90m [45397f5d] \u001b[39m\u001b[92m+ UnitfulLatexify v1.6.3\u001b[39m\n",
      " \u001b[90m [41fe7b60] \u001b[39m\u001b[92m+ Unzip v0.1.2\u001b[39m\n",
      " \u001b[90m [81def892] \u001b[39m\u001b[92m+ VersionParsing v1.3.0\u001b[39m\n",
      " \u001b[90m [ae81ac8f] \u001b[39m\u001b[92m+ ASL_jll v0.1.3+0\u001b[39m\n",
      " \u001b[90m [6e34b625] \u001b[39m\u001b[92m+ Bzip2_jll v1.0.8+1\u001b[39m\n",
      " \u001b[90m [83423d85] \u001b[39m\u001b[92m+ Cairo_jll v1.18.0+1\u001b[39m\n",
      " \u001b[90m [5ae413db] \u001b[39m\u001b[92m+ EarCut_jll v2.2.4+0\u001b[39m\n",
      " \u001b[90m [2702e6a9] \u001b[39m\u001b[92m+ EpollShim_jll v0.0.20230411+0\u001b[39m\n",
      " \u001b[90m [2e619515] \u001b[39m\u001b[92m+ Expat_jll v2.5.0+0\u001b[39m\n",
      " \u001b[90m [b22a6f82] \u001b[39m\u001b[92m+ FFMPEG_jll v4.4.4+1\u001b[39m\n",
      " \u001b[90m [a3f928ae] \u001b[39m\u001b[92m+ Fontconfig_jll v2.13.93+0\u001b[39m\n",
      " \u001b[90m [d7e528f0] \u001b[39m\u001b[92m+ FreeType2_jll v2.13.1+0\u001b[39m\n",
      " \u001b[90m [559328eb] \u001b[39m\u001b[92m+ FriBidi_jll v1.0.10+0\u001b[39m\n",
      " \u001b[90m [0656b61e] \u001b[39m\u001b[92m+ GLFW_jll v3.3.9+0\u001b[39m\n",
      " \u001b[90m [d2c73de3] \u001b[39m\u001b[92m+ GR_jll v0.73.3+0\u001b[39m\n",
      " \u001b[90m [78b55507] \u001b[39m\u001b[92m+ Gettext_jll v0.21.0+0\u001b[39m\n",
      " \u001b[90m [7746bdde] \u001b[39m\u001b[92m+ Glib_jll v2.80.0+0\u001b[39m\n",
      " \u001b[90m [3b182d85] \u001b[39m\u001b[92m+ Graphite2_jll v1.3.14+0\u001b[39m\n",
      " \u001b[90m [2e76f6c2] \u001b[39m\u001b[92m+ HarfBuzz_jll v2.8.1+1\u001b[39m\n",
      " \u001b[90m [9cc047cb] \u001b[39m\u001b[92m+ Ipopt_jll v300.1400.400+0\u001b[39m\n",
      " \u001b[90m [aacddb02] \u001b[39m\u001b[92m+ JpegTurbo_jll v3.0.2+0\u001b[39m\n",
      " \u001b[90m [c1c5ebd0] \u001b[39m\u001b[92m+ LAME_jll v3.100.1+0\u001b[39m\n",
      " \u001b[90m [88015f11] \u001b[39m\u001b[92m+ LERC_jll v3.0.0+1\u001b[39m\n",
      " \u001b[90m [1d63c593] \u001b[39m\u001b[92m+ LLVMOpenMP_jll v15.0.7+0\u001b[39m\n",
      " \u001b[90m [dd4b983a] \u001b[39m\u001b[92m+ LZO_jll v2.10.1+0\u001b[39m\n",
      " \u001b[90m [e9f186c6] \u001b[39m\u001b[92m+ Libffi_jll v3.2.2+1\u001b[39m\n",
      " \u001b[90m [d4300ac3] \u001b[39m\u001b[92m+ Libgcrypt_jll v1.8.7+0\u001b[39m\n",
      " \u001b[90m [7e76a0d4] \u001b[39m\u001b[92m+ Libglvnd_jll v1.6.0+0\u001b[39m\n",
      " \u001b[90m [7add5ba3] \u001b[39m\u001b[92m+ Libgpg_error_jll v1.42.0+0\u001b[39m\n",
      " \u001b[90m [94ce4f54] \u001b[39m\u001b[92m+ Libiconv_jll v1.17.0+0\u001b[39m\n",
      " \u001b[90m [4b2f31a3] \u001b[39m\u001b[92m+ Libmount_jll v2.39.3+0\u001b[39m\n",
      " \u001b[90m [89763e89] \u001b[39m\u001b[92m+ Libtiff_jll v4.5.1+1\u001b[39m\n",
      " \u001b[90m [38a345b3] \u001b[39m\u001b[92m+ Libuuid_jll v2.39.3+1\u001b[39m\n",
      " \u001b[90m [d00139f3] \u001b[39m\u001b[92m+ METIS_jll v5.1.2+0\u001b[39m\n",
      " \u001b[90m [d7ed1dd3] \u001b[39m\u001b[92m+ MUMPS_seq_jll v5.4.1+0\u001b[39m\n",
      " \u001b[90m [e7412a2a] \u001b[39m\u001b[92m+ Ogg_jll v1.3.5+1\u001b[39m\n",
      " \u001b[90m [656ef2d0] \u001b[39m\u001b[92m+ OpenBLAS32_jll v0.3.12+1\u001b[39m\n",
      " \u001b[90m [458c3c95] \u001b[39m\u001b[92m+ OpenSSL_jll v3.0.13+1\u001b[39m\n",
      " \u001b[90m [efe28fd5] \u001b[39m\u001b[92m+ OpenSpecFun_jll v0.5.5+0\u001b[39m\n",
      " \u001b[90m [91d4177d] \u001b[39m\u001b[92m+ Opus_jll v1.3.2+0\u001b[39m\n",
      " \u001b[90m [30392449] \u001b[39m\u001b[92m+ Pixman_jll v0.42.2+0\u001b[39m\n",
      " \u001b[90m [c0090381] \u001b[39m\u001b[92m+ Qt6Base_jll v6.5.3+1\u001b[39m\n",
      " \u001b[90m [a44049a8] \u001b[39m\u001b[92m+ Vulkan_Loader_jll v1.3.243+0\u001b[39m\n",
      " \u001b[90m [a2964d1f] \u001b[39m\u001b[92m+ Wayland_jll v1.21.0+1\u001b[39m\n",
      " \u001b[90m [2381bf8a] \u001b[39m\u001b[92m+ Wayland_protocols_jll v1.31.0+0\u001b[39m\n",
      " \u001b[90m [02c8fc9c] \u001b[39m\u001b[92m+ XML2_jll v2.12.6+0\u001b[39m\n",
      " \u001b[90m [aed1982a] \u001b[39m\u001b[92m+ XSLT_jll v1.1.34+0\u001b[39m\n",
      " \u001b[90m [ffd25f8a] \u001b[39m\u001b[92m+ XZ_jll v5.4.6+0\u001b[39m\n",
      " \u001b[90m [f67eecfb] \u001b[39m\u001b[92m+ Xorg_libICE_jll v1.0.10+1\u001b[39m\n",
      " \u001b[90m [c834827a] \u001b[39m\u001b[92m+ Xorg_libSM_jll v1.2.3+0\u001b[39m\n",
      " \u001b[90m [4f6342f7] \u001b[39m\u001b[92m+ Xorg_libX11_jll v1.8.6+0\u001b[39m\n",
      " \u001b[90m [0c0b7dd1] \u001b[39m\u001b[92m+ Xorg_libXau_jll v1.0.11+0\u001b[39m\n",
      " \u001b[90m [935fb764] \u001b[39m\u001b[92m+ Xorg_libXcursor_jll v1.2.0+4\u001b[39m\n",
      " \u001b[90m [a3789734] \u001b[39m\u001b[92m+ Xorg_libXdmcp_jll v1.1.4+0\u001b[39m\n",
      " \u001b[90m [1082639a] \u001b[39m\u001b[92m+ Xorg_libXext_jll v1.3.4+4\u001b[39m\n",
      " \u001b[90m [d091e8ba] \u001b[39m\u001b[92m+ Xorg_libXfixes_jll v5.0.3+4\u001b[39m\n",
      " \u001b[90m [a51aa0fd] \u001b[39m\u001b[92m+ Xorg_libXi_jll v1.7.10+4\u001b[39m\n",
      " \u001b[90m [d1454406] \u001b[39m\u001b[92m+ Xorg_libXinerama_jll v1.1.4+4\u001b[39m\n",
      " \u001b[90m [ec84b674] \u001b[39m\u001b[92m+ Xorg_libXrandr_jll v1.5.2+4\u001b[39m\n",
      " \u001b[90m [ea2f1a96] \u001b[39m\u001b[92m+ Xorg_libXrender_jll v0.9.10+4\u001b[39m\n",
      " \u001b[90m [14d82f49] \u001b[39m\u001b[92m+ Xorg_libpthread_stubs_jll v0.1.1+0\u001b[39m\n",
      " \u001b[90m [c7cfdc94] \u001b[39m\u001b[92m+ Xorg_libxcb_jll v1.15.0+0\u001b[39m\n",
      " \u001b[90m [cc61e674] \u001b[39m\u001b[92m+ Xorg_libxkbfile_jll v1.1.2+0\u001b[39m\n",
      " \u001b[90m [e920d4aa] \u001b[39m\u001b[92m+ Xorg_xcb_util_cursor_jll v0.1.4+0\u001b[39m\n",
      " \u001b[90m [12413925] \u001b[39m\u001b[92m+ Xorg_xcb_util_image_jll v0.4.0+1\u001b[39m\n",
      " \u001b[90m [2def613f] \u001b[39m\u001b[92m+ Xorg_xcb_util_jll v0.4.0+1\u001b[39m\n",
      " \u001b[90m [975044d2] \u001b[39m\u001b[92m+ Xorg_xcb_util_keysyms_jll v0.4.0+1\u001b[39m\n",
      " \u001b[90m [0d47668e] \u001b[39m\u001b[92m+ Xorg_xcb_util_renderutil_jll v0.3.9+1\u001b[39m\n",
      " \u001b[90m [c22f9ab0] \u001b[39m\u001b[92m+ Xorg_xcb_util_wm_jll v0.4.1+1\u001b[39m\n",
      " \u001b[90m [35661453] \u001b[39m\u001b[92m+ Xorg_xkbcomp_jll v1.4.6+0\u001b[39m\n",
      " \u001b[90m [33bec58e] \u001b[39m\u001b[92m+ Xorg_xkeyboard_config_jll v2.39.0+0\u001b[39m\n",
      " \u001b[90m [c5fb5394] \u001b[39m\u001b[92m+ Xorg_xtrans_jll v1.5.0+0\u001b[39m\n",
      " \u001b[90m [3161d3a3] \u001b[39m\u001b[92m+ Zstd_jll v1.5.6+0\u001b[39m\n",
      " \u001b[90m [35ca27e7] \u001b[39m\u001b[92m+ eudev_jll v3.2.9+0\u001b[39m\n"
     ]
    },
    {
     "name": "stderr",
     "output_type": "stream",
     "text": [
      " \u001b[90m [214eeab7] \u001b[39m\u001b[92m+ fzf_jll v0.43.0+0\u001b[39m\n",
      " \u001b[90m [1a1c6b14] \u001b[39m\u001b[92m+ gperf_jll v3.1.1+0\u001b[39m\n",
      " \u001b[90m [a4ae2306] \u001b[39m\u001b[92m+ libaom_jll v3.4.0+0\u001b[39m\n",
      " \u001b[90m [0ac62f75] \u001b[39m\u001b[92m+ libass_jll v0.15.1+0\u001b[39m\n",
      " \u001b[90m [2db6ffa8] \u001b[39m\u001b[92m+ libevdev_jll v1.11.0+0\u001b[39m\n",
      " \u001b[90m [f638f0a6] \u001b[39m\u001b[92m+ libfdk_aac_jll v2.0.2+0\u001b[39m\n",
      " \u001b[90m [36db933b] \u001b[39m\u001b[92m+ libinput_jll v1.18.0+0\u001b[39m\n",
      " \u001b[90m [b53b4c65] \u001b[39m\u001b[92m+ libpng_jll v1.6.43+1\u001b[39m\n",
      " \u001b[90m [f27f6e37] \u001b[39m\u001b[92m+ libvorbis_jll v1.3.7+1\u001b[39m\n",
      " \u001b[90m [009596ad] \u001b[39m\u001b[92m+ mtdev_jll v1.1.6+0\u001b[39m\n",
      " \u001b[90m [1270edf5] \u001b[39m\u001b[92m+ x264_jll v2021.5.5+0\u001b[39m\n",
      " \u001b[90m [dfaa095f] \u001b[39m\u001b[92m+ x265_jll v3.5.0+0\u001b[39m\n",
      " \u001b[90m [d8fb68d0] \u001b[39m\u001b[92m+ xkbcommon_jll v1.4.1+1\u001b[39m\n",
      " \u001b[90m [0dad84c5] \u001b[39m\u001b[92m+ ArgTools\u001b[39m\n",
      " \u001b[90m [56f22d72] \u001b[39m\u001b[92m+ Artifacts\u001b[39m\n",
      " \u001b[90m [2a0f44e3] \u001b[39m\u001b[92m+ Base64\u001b[39m\n",
      " \u001b[90m [ade2ca70] \u001b[39m\u001b[92m+ Dates\u001b[39m\n",
      " \u001b[90m [8bb1440f] \u001b[39m\u001b[92m+ DelimitedFiles\u001b[39m\n",
      " \u001b[90m [f43a241f] \u001b[39m\u001b[92m+ Downloads\u001b[39m\n",
      " \u001b[90m [b77e0a4c] \u001b[39m\u001b[92m+ InteractiveUtils\u001b[39m\n",
      " \u001b[90m [b27032c2] \u001b[39m\u001b[92m+ LibCURL\u001b[39m\n",
      " \u001b[90m [76f85450] \u001b[39m\u001b[92m+ LibGit2\u001b[39m\n",
      " \u001b[90m [8f399da3] \u001b[39m\u001b[92m+ Libdl\u001b[39m\n",
      " \u001b[90m [37e2e46d] \u001b[39m\u001b[92m+ LinearAlgebra\u001b[39m\n",
      " \u001b[90m [56ddb016] \u001b[39m\u001b[92m+ Logging\u001b[39m\n",
      " \u001b[90m [d6f4376e] \u001b[39m\u001b[92m+ Markdown\u001b[39m\n",
      " \u001b[90m [a63ad114] \u001b[39m\u001b[92m+ Mmap\u001b[39m\n",
      " \u001b[90m [ca575930] \u001b[39m\u001b[92m+ NetworkOptions\u001b[39m\n",
      " \u001b[90m [44cfe95a] \u001b[39m\u001b[92m+ Pkg\u001b[39m\n",
      " \u001b[90m [de0858da] \u001b[39m\u001b[92m+ Printf\u001b[39m\n",
      " \u001b[90m [9abbd945] \u001b[39m\u001b[92m+ Profile\u001b[39m\n",
      " \u001b[90m [3fa0cd96] \u001b[39m\u001b[92m+ REPL\u001b[39m\n",
      " \u001b[90m [9a3f8284] \u001b[39m\u001b[92m+ Random\u001b[39m\n",
      " \u001b[90m [ea8e919c] \u001b[39m\u001b[92m+ SHA\u001b[39m\n",
      " \u001b[90m [9e88b42a] \u001b[39m\u001b[92m+ Serialization\u001b[39m\n",
      " \u001b[90m [6462fe0b] \u001b[39m\u001b[92m+ Sockets\u001b[39m\n",
      " \u001b[90m [2f01184e] \u001b[39m\u001b[92m+ SparseArrays\u001b[39m\n",
      " \u001b[90m [10745b16] \u001b[39m\u001b[92m+ Statistics\u001b[39m\n",
      " \u001b[90m [fa267f1f] \u001b[39m\u001b[92m+ TOML\u001b[39m\n",
      " \u001b[90m [a4e569a6] \u001b[39m\u001b[92m+ Tar\u001b[39m\n",
      " \u001b[90m [8dfed614] \u001b[39m\u001b[92m+ Test\u001b[39m\n",
      " \u001b[90m [cf7118a7] \u001b[39m\u001b[92m+ UUIDs\u001b[39m\n",
      " \u001b[90m [4ec0a83e] \u001b[39m\u001b[92m+ Unicode\u001b[39m\n",
      " \u001b[90m [e66e0078] \u001b[39m\u001b[92m+ CompilerSupportLibraries_jll\u001b[39m\n",
      " \u001b[90m [deac9b47] \u001b[39m\u001b[92m+ LibCURL_jll\u001b[39m\n",
      " \u001b[90m [29816b5a] \u001b[39m\u001b[92m+ LibSSH2_jll\u001b[39m\n",
      " \u001b[90m [c8ffd9c3] \u001b[39m\u001b[92m+ MbedTLS_jll\u001b[39m\n",
      " \u001b[90m [14a3606d] \u001b[39m\u001b[92m+ MozillaCACerts_jll\u001b[39m\n",
      " \u001b[90m [05823500] \u001b[39m\u001b[92m+ OpenLibm_jll\u001b[39m\n",
      " \u001b[90m [efcefdf7] \u001b[39m\u001b[92m+ PCRE2_jll\u001b[39m\n",
      " \u001b[90m [83775a58] \u001b[39m\u001b[92m+ Zlib_jll\u001b[39m\n",
      " \u001b[90m [8e850ede] \u001b[39m\u001b[92m+ nghttp2_jll\u001b[39m\n",
      " \u001b[90m [3f19e933] \u001b[39m\u001b[92m+ p7zip_jll\u001b[39m\n"
     ]
    }
   ],
   "source": [
    "import Pkg; Pkg.activate(@__DIR__); Pkg.instantiate()"
   ]
  },
  {
   "cell_type": "code",
   "execution_count": 2,
   "metadata": {},
   "outputs": [
    {
     "name": "stderr",
     "output_type": "stream",
     "text": [
      "\u001b[36m\u001b[1m[ \u001b[22m\u001b[39m\u001b[36m\u001b[1mInfo: \u001b[22m\u001b[39mPrecompiling PyPlot [d330b81b-6aea-500a-939a-2ce795aea3ee]\n",
      "\u001b[36m\u001b[1m[ \u001b[22m\u001b[39m\u001b[36m\u001b[1mInfo: \u001b[22m\u001b[39mPrecompiling ForwardDiff [f6369f11-7733-5829-9624-2563aa707210]\n",
      "\u001b[36m\u001b[1m[ \u001b[22m\u001b[39m\u001b[36m\u001b[1mInfo: \u001b[22m\u001b[39mPrecompiling Ipopt [b6b21f68-93f8-5de0-b562-5493be1d77c9]\n"
     ]
    }
   ],
   "source": [
    "using LinearAlgebra\n",
    "using PyPlot\n",
    "using ForwardDiff\n",
    "using Ipopt\n",
    "using MathOptInterface\n",
    "const MOI = MathOptInterface;"
   ]
  },
  {
   "cell_type": "code",
   "execution_count": 3,
   "metadata": {},
   "outputs": [
    {
     "data": {
      "text/plain": [
       "9"
      ]
     },
     "execution_count": 3,
     "metadata": {},
     "output_type": "execute_result"
    }
   ],
   "source": [
    "Nx = 8     # number of state\n",
    "Nu = 2     # number of controls\n",
    "Tfinal = 4.4 # final time\n",
    "h = 0.1 #10 hz\n",
    "Nm = 5 #number of steps in each mode\n",
    "Nt = Int(ceil(Tfinal/h)+1)   # number of time steps\n",
    "Nmodes = Int(ceil(Nt/Nm))"
   ]
  },
  {
   "cell_type": "code",
   "execution_count": 4,
   "metadata": {},
   "outputs": [
    {
     "data": {
      "text/plain": [
       "438"
      ]
     },
     "execution_count": 4,
     "metadata": {},
     "output_type": "execute_result"
    }
   ],
   "source": [
    "thist = Array(range(0,h*(Nt-1), step=h));\n",
    "\n",
    "n_nlp = Nx*Nt + Nu*(Nt-1) # number of decision variables\n",
    "c_init_inds = 1:Nx\n",
    "c_term_inds = (c_init_inds[end]+1):(c_init_inds[end]+Nx)\n",
    "c_dyn_inds = (c_term_inds[end]+1):(c_term_inds[end]+Nx*(Nt-1))\n",
    "c_stance_inds = (c_dyn_inds[end]+1):(c_dyn_inds[end]+Int(ceil(Nmodes/2)*Nm))\n",
    "c_length_inds = (c_stance_inds[end]+1):(c_stance_inds[end]+Nt)\n",
    "m_nlp = c_length_inds[end]"
   ]
  },
  {
   "cell_type": "code",
   "execution_count": 5,
   "metadata": {},
   "outputs": [
    {
     "data": {
      "text/plain": [
       "jump_map (generic function with 1 method)"
      ]
     },
     "execution_count": 5,
     "metadata": {},
     "output_type": "execute_result"
    }
   ],
   "source": [
    "#Hopper Dynamics\n",
    "g = 9.81\n",
    "m1 = 5.0 #body mass\n",
    "m2 = 1.0 #foot mass\n",
    "ℓ_min = 0.5 #minimum length\n",
    "ℓ_max = 1.5 #maximum length\n",
    "\n",
    "function flight_dynamics(x,u)\n",
    "    M = Diagonal([m1 m1 m2 m2])\n",
    "    \n",
    "    r1 = x[1:2]\n",
    "    r2 = x[3:4]\n",
    "    v = x[5:8]\n",
    "    \n",
    "    ℓ1 = (r1[1]-r2[1])/norm(r1-r2)\n",
    "    ℓ2 = (r1[2]-r2[2])/norm(r1-r2)\n",
    "    B = [ℓ1  ℓ2;\n",
    "         ℓ2 -ℓ1;\n",
    "        -ℓ1 -ℓ2;\n",
    "        -ℓ2  ℓ1]\n",
    "    \n",
    "    v̇ = [0; -g; 0; -g] + M\\(B*u)\n",
    "    \n",
    "    ẋ = [v; v̇]\n",
    "end\n",
    "\n",
    "function stance_dynamics(x,u)\n",
    "    m1 = 5.0 #body mass\n",
    "    m2 = 1.0 #foot mass\n",
    "    M = Diagonal([m1 m1 m2 m2])\n",
    "    g = 9.81\n",
    "    \n",
    "    r1 = x[1:2]\n",
    "    r2 = x[3:4]\n",
    "    v = x[5:8]\n",
    "    \n",
    "    ℓ1 = (r1[1]-r2[1])/norm(r1-r2)\n",
    "    ℓ2 = (r1[2]-r2[2])/norm(r1-r2)\n",
    "    B = [ℓ1  ℓ2;\n",
    "         ℓ2 -ℓ1;\n",
    "         0   0;\n",
    "         0   0]\n",
    "    \n",
    "    v̇ = [0; -g; 0; 0] + M\\(B*u)\n",
    "    \n",
    "    ẋ = [v; v̇]\n",
    "end\n",
    "\n",
    "function flight_dynamics_rk4(x,u)\n",
    "    #RK4 integration with zero-order hold on u\n",
    "    f1 = flight_dynamics(x, u)\n",
    "    f2 = flight_dynamics(x + 0.5*h*f1, u)\n",
    "    f3 = flight_dynamics(x + 0.5*h*f2, u)\n",
    "    f4 = flight_dynamics(x + h*f3, u)\n",
    "    return x + (h/6.0)*(f1 + 2*f2 + 2*f3 + f4)\n",
    "end\n",
    "\n",
    "function stance_dynamics_rk4(x,u)\n",
    "    #RK4 integration with zero-order hold on u\n",
    "    f1 = stance_dynamics(x, u)\n",
    "    f2 = stance_dynamics(x + 0.5*h*f1, u)\n",
    "    f3 = stance_dynamics(x + 0.5*h*f2, u)\n",
    "    f4 = stance_dynamics(x + h*f3, u)\n",
    "    return x + (h/6.0)*(f1 + 2*f2 + 2*f3 + f4)\n",
    "end\n",
    "\n",
    "function jump_map(x)\n",
    "    #Assume the foot experiences inelastic collisions\n",
    "    xn = [x[1:6]; 0.0; 0.0]\n",
    "    return xn\n",
    "end"
   ]
  },
  {
   "cell_type": "code",
   "execution_count": 6,
   "metadata": {},
   "outputs": [
    {
     "data": {
      "text/plain": [
       "8×8 Diagonal{Float64, Vector{Float64}}:\n",
       " 1.0   ⋅    ⋅    ⋅    ⋅    ⋅    ⋅    ⋅ \n",
       "  ⋅   1.0   ⋅    ⋅    ⋅    ⋅    ⋅    ⋅ \n",
       "  ⋅    ⋅   1.0   ⋅    ⋅    ⋅    ⋅    ⋅ \n",
       "  ⋅    ⋅    ⋅   1.0   ⋅    ⋅    ⋅    ⋅ \n",
       "  ⋅    ⋅    ⋅    ⋅   1.0   ⋅    ⋅    ⋅ \n",
       "  ⋅    ⋅    ⋅    ⋅    ⋅   1.0   ⋅    ⋅ \n",
       "  ⋅    ⋅    ⋅    ⋅    ⋅    ⋅   1.0   ⋅ \n",
       "  ⋅    ⋅    ⋅    ⋅    ⋅    ⋅    ⋅   1.0"
      ]
     },
     "execution_count": 6,
     "metadata": {},
     "output_type": "execute_result"
    }
   ],
   "source": [
    "# Cost weights\n",
    "Q = Diagonal([1.0*ones(4); 1.0*ones(4)]);\n",
    "R = 0.001;\n",
    "Qn = Q"
   ]
  },
  {
   "cell_type": "code",
   "execution_count": 7,
   "metadata": {},
   "outputs": [
    {
     "data": {
      "text/plain": [
       "terminal_cost (generic function with 1 method)"
      ]
     },
     "execution_count": 7,
     "metadata": {},
     "output_type": "execute_result"
    }
   ],
   "source": [
    "function stage_cost(x,u,k)\n",
    "    return 0.5*((x-xref[:,k])'*Q*(x-xref[:,k])) + 0.5*(u-uref)'*R*(u-uref)\n",
    "end\n",
    "function terminal_cost(x)\n",
    "    return 0.5*((x-xref[:,end])'*Qn*(x-xref[:,end]))\n",
    "end"
   ]
  },
  {
   "cell_type": "code",
   "execution_count": 8,
   "metadata": {},
   "outputs": [
    {
     "data": {
      "text/plain": [
       "cost (generic function with 1 method)"
      ]
     },
     "execution_count": 8,
     "metadata": {},
     "output_type": "execute_result"
    }
   ],
   "source": [
    "function cost(ztraj)\n",
    "    z = reshape(ztraj[1:(end-Nx)],Nx+Nu,Nt-1)\n",
    "    xtraj = [z[1:Nx,:] ztraj[end-(Nx-1):end]]\n",
    "    utraj = z[(Nx+1):(Nx+Nu),:]\n",
    "    J = 0.0\n",
    "    for k = 1:(Nt-1)\n",
    "        J += stage_cost(xtraj[:,k],utraj[:,k],k)\n",
    "    end\n",
    "    J += terminal_cost(xtraj[:,end])\n",
    "    return J\n",
    "end"
   ]
  },
  {
   "cell_type": "code",
   "execution_count": 9,
   "metadata": {},
   "outputs": [],
   "source": [
    "#Reference Trajectory\n",
    "uref = [m1*g; 0.0]\n",
    "xref = zeros(Nx,Nt)\n",
    "xref[1,:] .= LinRange(-1.0,1.0,Nt)\n",
    "xref[2,:] .= 1.0 .+ 0.5.*sin.(2*pi/10.0*(0:(Nt-1)));\n",
    "xref[3,:] .= LinRange(-1.0,1.0,Nt)\n",
    "xref[5,2:end-1] .= (2.0/Tfinal)*ones(Nt-2)\n",
    "xref[7,2:end-1] .= (2.0/Tfinal)*ones(Nt-2);"
   ]
  },
  {
   "cell_type": "code",
   "execution_count": 10,
   "metadata": {},
   "outputs": [
    {
     "data": {
      "image/png": "[encoded data removed]",
      "text/plain": [
       "Figure(PyObject <Figure size 640x480 with 1 Axes>)"
      ]
     },
     "metadata": {},
     "output_type": "display_data"
    },
    {
     "data": {
      "text/plain": [
       "1-element Vector{PyCall.PyObject}:\n",
       " PyObject <matplotlib.lines.Line2D object at 0x0000000068E2BA90>"
      ]
     },
     "execution_count": 10,
     "metadata": {},
     "output_type": "execute_result"
    }
   ],
   "source": [
    "plot(xref[2,:])"
   ]
  },
  {
   "cell_type": "code",
   "execution_count": 11,
   "metadata": {},
   "outputs": [
    {
     "data": {
      "text/plain": [
       "dynamics_constraint! (generic function with 1 method)"
      ]
     },
     "execution_count": 11,
     "metadata": {},
     "output_type": "execute_result"
    }
   ],
   "source": [
    "function dynamics_constraint!(c,ztraj)\n",
    "    d = reshape(view(c,c_dyn_inds),Nx,Nt-1)\n",
    "    z = reshape(ztraj[1:(end-Nx)],Nx+Nu,Nt-1)\n",
    "    xtraj = [z[1:Nx,:] ztraj[end-(Nx-1):end]]\n",
    "    utraj = z[(Nx+1):(Nx+Nu),:]\n",
    "    for k = 1:(Nmodes-1)\n",
    "        if mod(k,2) == 1\n",
    "            for j = 1:Nm\n",
    "                s = (k-1)*Nm + j\n",
    "                d[:,s] = stance_dynamics_rk4(xtraj[:,s],utraj[:,s]) - xtraj[:,s+1]\n",
    "            end\n",
    "        else\n",
    "            for j = 1:(Nm-1)\n",
    "                s = (k-1)*Nm + j\n",
    "                d[:,s] = flight_dynamics_rk4(xtraj[:,s],utraj[:,s]) - xtraj[:,s+1]\n",
    "            end\n",
    "            s = k*Nm\n",
    "            d[:,s] = jump_map(flight_dynamics_rk4(xtraj[:,s],utraj[:,s])) - xtraj[:,s+1]\n",
    "        end\n",
    "    end\n",
    "\n",
    "    \n",
    "    if mod(Nmodes,2) == 1\n",
    "        for j = 1:(Nm-1)\n",
    "            s = (Nmodes-1)*Nm + j\n",
    "            d[:,s] = stance_dynamics_rk4(xtraj[:,s],utraj[:,s]) - xtraj[:,s+1]\n",
    "        end\n",
    "    else\n",
    "        for j = 1:(Nm-1)\n",
    "            s = (Nmodes-1)*Nm + j\n",
    "            d[:,s] = flight_dynamics_rk4(xtraj[:,s],utraj[:,s]) - xtraj[:,s+1]\n",
    "        end\n",
    "    end\n",
    "    \n",
    "    return nothing\n",
    "end"
   ]
  },
  {
   "cell_type": "code",
   "execution_count": 12,
   "metadata": {},
   "outputs": [
    {
     "data": {
      "text/plain": [
       "stance_constraint! (generic function with 1 method)"
      ]
     },
     "execution_count": 12,
     "metadata": {},
     "output_type": "execute_result"
    }
   ],
   "source": [
    "function stance_constraint!(c,ztraj)\n",
    "    d = view(c,c_stance_inds)\n",
    "    z = reshape(ztraj[1:(end-Nx)],Nx+Nu,Nt-1)\n",
    "    xtraj = [z[1:Nx,:] ztraj[(end-(Nx-1)):end]]\n",
    "    t = 1\n",
    "    for k = 1:Nmodes\n",
    "        if mod(k,2) == 1\n",
    "            for j = 1:Nm\n",
    "                s = (k-1)*Nm + j\n",
    "                # y foot = 0\n",
    "                d[t] = xtraj[4,s]\n",
    "                t += 1\n",
    "            end\n",
    "        end\n",
    "            \n",
    "    end\n",
    "    return nothing\n",
    "end"
   ]
  },
  {
   "cell_type": "code",
   "execution_count": 13,
   "metadata": {},
   "outputs": [
    {
     "data": {
      "text/plain": [
       "length_constraint! (generic function with 1 method)"
      ]
     },
     "execution_count": 13,
     "metadata": {},
     "output_type": "execute_result"
    }
   ],
   "source": [
    "function length_constraint!(c,ztraj)\n",
    "    d = view(c,c_length_inds)\n",
    "    z = reshape(ztraj[1:(end-Nx)],Nx+Nu,Nt-1)\n",
    "    xtraj = [z[1:Nx,:] ztraj[(end-(Nx-1)):end]]\n",
    "    for k = 1:Nt\n",
    "        d[k] = norm(xtraj[1:2,k] - xtraj[3:4,k])\n",
    "    end\n",
    "end"
   ]
  },
  {
   "cell_type": "code",
   "execution_count": 14,
   "metadata": {},
   "outputs": [
    {
     "data": {
      "text/plain": [
       "con! (generic function with 1 method)"
      ]
     },
     "execution_count": 14,
     "metadata": {},
     "output_type": "execute_result"
    }
   ],
   "source": [
    "function con!(c,ztraj)\n",
    "    c[c_init_inds] .= ztraj[1:Nx] - xref[:,1] #initial state constraint\n",
    "    c[c_term_inds] .= ztraj[(end-(Nx-1)):end] - xref[:,end] #terminal state constraint\n",
    "    @views dynamics_constraint!(c,ztraj)\n",
    "    @views stance_constraint!(c,ztraj)\n",
    "    @views length_constraint!(c,ztraj)\n",
    "end"
   ]
  },
  {
   "cell_type": "code",
   "execution_count": 15,
   "metadata": {},
   "outputs": [
    {
     "data": {
      "text/plain": [
       "solve (generic function with 1 method)"
      ]
     },
     "execution_count": 15,
     "metadata": {},
     "output_type": "execute_result"
    }
   ],
   "source": [
    "struct ProblemMOI <: MOI.AbstractNLPEvaluator\n",
    "    n_nlp::Int\n",
    "    m_nlp::Int\n",
    "    idx_ineq\n",
    "    obj_grad::Bool\n",
    "    con_jac::Bool\n",
    "    sparsity_jac\n",
    "    sparsity_hess\n",
    "    primal_bounds\n",
    "    constraint_bounds\n",
    "    hessian_lagrangian::Bool\n",
    "end\n",
    "\n",
    "function ProblemMOI(n_nlp,m_nlp;\n",
    "        idx_ineq=c_length_inds,\n",
    "        obj_grad=true,\n",
    "        con_jac=true,\n",
    "        sparsity_jac=sparsity_jacobian(n_nlp,m_nlp),\n",
    "        sparsity_hess=sparsity_hessian(n_nlp,m_nlp),\n",
    "        primal_bounds=primal_bounds(n_nlp),\n",
    "        constraint_bounds=constraint_bounds(m_nlp,idx_ineq=idx_ineq),\n",
    "        hessian_lagrangian=false)\n",
    "\n",
    "    ProblemMOI(n_nlp,m_nlp,\n",
    "        idx_ineq,\n",
    "        obj_grad,\n",
    "        con_jac,\n",
    "        sparsity_jac,\n",
    "        sparsity_hess,\n",
    "        primal_bounds,\n",
    "        constraint_bounds,\n",
    "        hessian_lagrangian)\n",
    "end\n",
    "\n",
    "function primal_bounds(n)\n",
    "    x_l = -Inf*ones(n)\n",
    "    x_u = Inf*ones(n)\n",
    "    return x_l, x_u\n",
    "end\n",
    "\n",
    "function constraint_bounds(m; idx_ineq=(1:0))\n",
    "    c_l = zeros(m)\n",
    "    c_l[idx_ineq] .= ℓ_min\n",
    "\n",
    "    c_u = zeros(m)\n",
    "    c_u[idx_ineq] .= ℓ_max\n",
    "    return c_l, c_u\n",
    "end\n",
    "\n",
    "function row_col!(row,col,r,c)\n",
    "    for cc in c\n",
    "        for rr in r\n",
    "            push!(row,convert(Int,rr))\n",
    "            push!(col,convert(Int,cc))\n",
    "        end\n",
    "    end\n",
    "    return row, col\n",
    "end\n",
    "\n",
    "function sparsity_jacobian(n,m)\n",
    "\n",
    "    row = []\n",
    "    col = []\n",
    "\n",
    "    r = 1:m\n",
    "    c = 1:n\n",
    "\n",
    "    row_col!(row,col,r,c)\n",
    "\n",
    "    return collect(zip(row,col))\n",
    "end\n",
    "\n",
    "function sparsity_hessian(n,m)\n",
    "\n",
    "    row = []\n",
    "    col = []\n",
    "\n",
    "    r = 1:m\n",
    "    c = 1:n\n",
    "\n",
    "    row_col!(row,col,r,c)\n",
    "\n",
    "    return collect(zip(row,col))\n",
    "end\n",
    "\n",
    "function MOI.eval_objective(prob::MOI.AbstractNLPEvaluator, x)\n",
    "    cost(x)\n",
    "end\n",
    "\n",
    "function MOI.eval_objective_gradient(prob::MOI.AbstractNLPEvaluator, grad_f, x)\n",
    "    ForwardDiff.gradient!(grad_f,cost,x)\n",
    "    return nothing\n",
    "end\n",
    "\n",
    "function MOI.eval_constraint(prob::MOI.AbstractNLPEvaluator,g,x)\n",
    "    con!(g,x)\n",
    "    return nothing\n",
    "end\n",
    "\n",
    "function MOI.eval_constraint_jacobian(prob::MOI.AbstractNLPEvaluator, jac, x)\n",
    "    ForwardDiff.jacobian!(reshape(jac,prob.m_nlp,prob.n_nlp), con!, zeros(prob.m_nlp), x)\n",
    "    return nothing\n",
    "end\n",
    "\n",
    "function MOI.features_available(prob::MOI.AbstractNLPEvaluator)\n",
    "    return [:Grad, :Jac]\n",
    "end\n",
    "\n",
    "MOI.initialize(prob::MOI.AbstractNLPEvaluator, features) = nothing\n",
    "MOI.jacobian_structure(prob::MOI.AbstractNLPEvaluator) = prob.sparsity_jac\n",
    "\n",
    "function solve(x0,prob::MOI.AbstractNLPEvaluator;\n",
    "        tol=1.0e-6,c_tol=1.0e-6,max_iter=10000)\n",
    "    x_l, x_u = prob.primal_bounds\n",
    "    c_l, c_u = prob.constraint_bounds\n",
    "\n",
    "    nlp_bounds = MOI.NLPBoundsPair.(c_l,c_u)\n",
    "    block_data = MOI.NLPBlockData(nlp_bounds,prob,true)\n",
    "\n",
    "    solver = Ipopt.Optimizer()\n",
    "    solver.options[\"max_iter\"] = max_iter\n",
    "    solver.options[\"tol\"] = tol\n",
    "    solver.options[\"constr_viol_tol\"] = c_tol\n",
    "\n",
    "    x = MOI.add_variables(solver,prob.n_nlp)\n",
    "\n",
    "    for i = 1:prob.n_nlp\n",
    "        MOI.add_constraint(solver, x[i], MOI.LessThan(x_u[i]))\n",
    "        MOI.add_constraint(solver, x[i], MOI.GreaterThan(x_l[i]))\n",
    "        MOI.set(solver, MOI.VariablePrimalStart(), x[i], x0[i])\n",
    "    end\n",
    "\n",
    "    # Solve the problem\n",
    "    MOI.set(solver, MOI.NLPBlock(), block_data)\n",
    "    MOI.set(solver, MOI.ObjectiveSense(), MOI.MIN_SENSE)\n",
    "    MOI.optimize!(solver)\n",
    "\n",
    "    # Get the solution\n",
    "    res = MOI.get(solver, MOI.VariablePrimal(), x)\n",
    "\n",
    "    return res\n",
    "end"
   ]
  },
  {
   "cell_type": "code",
   "execution_count": 16,
   "metadata": {},
   "outputs": [],
   "source": [
    "#Guess\n",
    "xguess = xref + 0.1*randn(Nx,Nt)\n",
    "uguess = kron(ones(Nt-1)', uref) + 0.1*randn(Nu,Nt-1)\n",
    "z0 = [reshape([xguess[:,1:(Nt-1)]; uguess],(Nx+Nu)*(Nt-1),1); xguess[:,end]];"
   ]
  },
  {
   "cell_type": "code",
   "execution_count": 17,
   "metadata": {},
   "outputs": [
    {
     "name": "stdout",
     "output_type": "stream",
     "text": [
      "\n",
      "******************************************************************************\n",
      "This program contains Ipopt, a library for large-scale nonlinear optimization.\n",
      " Ipopt is released as open source code under the Eclipse Public License (EPL).\n",
      "         For more information visit https://github.com/coin-or/Ipopt\n",
      "******************************************************************************\n",
      "\n",
      "This is Ipopt version 3.14.4, running with linear solver MUMPS 5.4.1.\n",
      "\n",
      "Number of nonzeros in equality constraint Jacobian...:   176064\n",
      "Number of nonzeros in inequality constraint Jacobian.:    20160\n",
      "Number of nonzeros in Lagrangian Hessian.............:        0\n",
      "\n",
      "Total number of variables............................:      448\n",
      "                     variables with only lower bounds:        0\n",
      "                variables with lower and upper bounds:        0\n",
      "                     variables with only upper bounds:        0\n",
      "Total number of equality constraints.................:      393\n",
      "Total number of inequality constraints...............:       45\n",
      "        inequality constraints with only lower bounds:        0\n",
      "   inequality constraints with lower and upper bounds:       45\n",
      "        inequality constraints with only upper bounds:        0\n",
      "\n",
      "iter    objective    inf_pr   inf_du lg(mu)  ||d||  lg(rg) alpha_du alpha_pr  ls\n",
      "   0  1.6909036e+00 2.32e+00 2.51e-01   0.0 0.00e+00    -  0.00e+00 0.00e+00   0\n",
      "   1  1.7168061e+00 2.28e+00 3.51e+00  -6.3 1.67e+02    -  6.57e-03 1.80e-02h  1\n",
      "   2  1.1762192e+02 7.77e-01 1.19e+01  -0.3 1.86e+02    -  7.40e-02 6.68e-01h  1\n",
      "   3  2.2360456e+02 4.28e-01 1.50e+01  -0.3 1.19e+02    -  3.33e-01 7.19e-01h  1\n",
      "   4  2.3929333e+02 3.08e-01 6.34e+00  -0.6 2.44e+01    -  9.39e-01 1.00e+00h  1\n",
      "   5  2.4568437e+02 9.19e-02 5.17e+00  -0.6 1.39e+01    -  9.88e-01 1.00e+00h  1\n",
      "   6  2.4348559e+02 3.90e-02 2.37e+00  -1.0 6.38e+00    -  9.76e-01 6.16e-01f  1\n",
      "   7  2.4361166e+02 1.47e-02 1.09e+00  -1.3 4.61e+00    -  9.84e-01 1.00e+00h  1\n",
      "   8  2.4360327e+02 1.63e-03 2.09e-01  -2.5 1.20e+00    -  9.98e-01 8.86e-01h  1\n",
      "   9  2.4332026e+02 5.61e-03 1.04e+00  -1.8 2.41e+01    -  5.87e-01 2.96e-01f  2\n",
      "iter    objective    inf_pr   inf_du lg(mu)  ||d||  lg(rg) alpha_du alpha_pr  ls\n",
      "  10  2.4346684e+02 4.37e-03 9.45e-01  -2.0 9.71e+00    -  1.00e+00 1.00e+00H  1\n",
      "  11  2.4866018e+02 1.19e-03 3.31e+00  -2.3 5.95e+00    -  1.00e+00 1.00e+00H  1\n",
      "  12  2.4177049e+02 3.79e-02 5.47e-01  -2.8 8.75e+00    -  1.00e+00 1.00e+00f  1\n",
      "  13  2.4272202e+02 1.84e-03 1.39e-01  -3.4 1.95e+00    -  1.00e+00 1.00e+00h  1\n",
      "  14  2.4267026e+02 3.44e-04 1.88e-01  -4.3 1.60e+00    -  1.00e+00 1.00e+00h  1\n",
      "  15  2.4262929e+02 1.10e-03 1.20e+00  -4.6 2.14e+01    -  1.00e+00 1.09e-01f  4\n",
      "  16  2.4260377e+02 8.64e-04 1.31e-01  -5.5 4.10e+00    -  1.00e+00 1.00e+00h  1\n",
      "  17  2.4262835e+02 1.93e-04 3.79e-01  -6.2 5.55e+00    -  1.00e+00 1.00e+00H  1\n",
      "  18  2.4260147e+02 5.15e-04 3.59e-01  -6.0 4.03e+00    -  1.00e+00 2.50e-01f  3\n",
      "  19  2.4255084e+02 1.39e-03 5.35e-02  -6.6 4.09e+00    -  1.00e+00 1.00e+00f  1\n",
      "iter    objective    inf_pr   inf_du lg(mu)  ||d||  lg(rg) alpha_du alpha_pr  ls\n",
      "  20  2.4270004e+02 3.25e-05 5.31e-01  -7.6 1.21e+00    -  1.00e+00 1.00e+00H  1\n",
      "  21  2.4251438e+02 1.01e-03 8.77e-03  -7.9 1.16e+00    -  1.00e+00 1.00e+00f  1\n",
      "  22  2.4254213e+02 1.77e-06 7.46e-03  -9.8 1.25e-01    -  1.00e+00 1.00e+00h  1\n",
      "  23  2.4257138e+02 1.36e-07 2.52e-01 -10.8 2.63e+00    -  1.00e+00 1.00e+00H  1\n",
      "  24  2.4254691e+02 4.95e-04 4.76e-02 -11.0 2.25e+00    -  1.00e+00 1.00e+00f  1\n",
      "  25  2.4256193e+02 5.22e-04 2.62e-01 -11.0 1.11e+00    -  1.00e+00 1.00e+00h  1\n",
      "  26  2.4253640e+02 2.63e-04 3.48e-02 -11.0 7.71e-01    -  1.00e+00 1.00e+00h  1\n",
      "  27  2.4254258e+02 1.73e-04 5.48e-02 -11.0 3.59e-01    -  1.00e+00 1.00e+00h  1\n",
      "  28  2.4254063e+02 6.67e-05 5.56e-03 -11.0 1.88e-01    -  1.00e+00 1.00e+00h  1\n",
      "  29  2.4254089e+02 1.45e-06 1.93e-02 -11.0 5.13e-02    -  1.00e+00 1.00e+00h  1\n",
      "iter    objective    inf_pr   inf_du lg(mu)  ||d||  lg(rg) alpha_du alpha_pr  ls\n",
      "  30  2.4254076e+02 8.47e-07 4.03e-04 -11.0 3.93e-02    -  1.00e+00 1.00e+00h  1\n",
      "  31  2.4254078e+02 3.71e-09 3.09e-04 -11.0 5.59e-03    -  1.00e+00 1.00e+00h  1\n",
      "  32  2.4254077e+02 8.42e-10 3.55e-03 -11.0 9.60e-02    -  1.00e+00 1.00e+00H  1\n",
      "  33  2.4254128e+02 3.73e-11 2.87e-02 -11.0 1.59e-01    -  1.00e+00 1.00e+00H  1\n",
      "  34  2.4254068e+02 6.66e-06 1.56e-03 -11.0 1.75e-01    -  1.00e+00 1.00e+00f  1\n",
      "  35  2.4254076e+02 2.84e-09 7.14e-04 -11.0 5.68e-03    -  1.00e+00 1.00e+00h  1\n",
      "  36  2.4254076e+02 8.24e-09 6.40e-04 -11.0 1.10e-02    -  1.00e+00 1.00e+00h  1\n",
      "  37  2.4254077e+02 4.33e-11 2.72e-03 -11.0 2.71e-02    -  1.00e+00 1.00e+00H  1\n",
      "  38  2.4254076e+02 3.50e-08 1.42e-03 -11.0 1.80e-02    -  1.00e+00 1.00e+00h  1\n",
      "  39  2.4254077e+02 2.24e-10 1.76e-03 -11.0 2.03e-02    -  1.00e+00 1.00e+00H  1\n",
      "iter    objective    inf_pr   inf_du lg(mu)  ||d||  lg(rg) alpha_du alpha_pr  ls\n",
      "  40  2.4254076e+02 1.63e-07 1.19e-04 -11.0 1.95e-02    -  1.00e+00 1.00e+00h  1\n",
      "  41  2.4254076e+02 1.58e-10 1.53e-04 -11.0 1.40e-03    -  1.00e+00 1.00e+00h  1\n",
      "  42  2.4254076e+02 2.19e-13 6.95e-04 -11.0 8.40e-03    -  1.00e+00 1.00e+00H  1\n",
      "  43  2.4254076e+02 1.35e-09 2.87e-04 -11.0 3.90e-03    -  1.00e+00 1.00e+00h  1\n",
      "  44  2.4254076e+02 4.77e-13 9.15e-04 -11.0 3.62e-03    -  1.00e+00 1.00e+00H  1\n",
      "  45  2.4254076e+02 6.21e-09 6.75e-05 -11.0 4.35e-03    -  1.00e+00 1.00e+00h  1\n",
      "  46  2.4254076e+02 4.06e-11 1.07e-04 -11.0 1.24e-03    -  1.00e+00 1.00e+00h  1\n",
      "  47  2.4254076e+02 1.24e-10 3.99e-05 -11.0 1.56e-03    -  1.00e+00 1.00e+00h  1\n",
      "  48  2.4254076e+02 7.01e-14 1.63e-04 -11.0 1.95e-03    -  1.00e+00 1.00e+00H  1\n",
      "  49  2.4254076e+02 8.17e-10 5.42e-05 -11.0 1.80e-03    -  1.00e+00 1.00e+00h  1\n",
      "iter    objective    inf_pr   inf_du lg(mu)  ||d||  lg(rg) alpha_du alpha_pr  ls\n",
      "  50  2.4254076e+02 2.71e-14 3.83e-04 -11.0 1.17e-03    -  1.00e+00 1.00e+00H  1\n",
      "  51  2.4254076e+02 1.19e-09 1.94e-05 -11.0 9.27e-04    -  1.00e+00 1.00e+00h  1\n",
      "  52  2.4254076e+02 5.72e-12 2.81e-05 -11.0 1.77e-04    -  1.00e+00 1.00e+00h  1\n",
      "  53  2.4254076e+02 5.83e-12 1.15e-05 -11.0 2.31e-04    -  1.00e+00 1.00e+00h  1\n",
      "  54  2.4254076e+02 9.44e-16 1.97e-05 -11.0 3.28e-04    -  1.00e+00 1.00e+00H  1\n",
      "  55  2.4254076e+02 2.88e-11 3.60e-05 -11.0 7.30e-04    -  1.00e+00 1.00e+00h  1\n",
      "  56  2.4254076e+02 1.33e-15 1.97e-04 -11.0 2.28e-03    -  1.00e+00 1.00e+00H  1\n",
      "  57  2.4254076e+02 1.55e-15 1.03e-05 -11.0 2.43e-03    -  1.00e+00 1.00e+00H  1\n",
      "  58  2.4254076e+02 1.44e-15 2.12e-05 -11.0 1.97e-04    -  1.00e+00 1.00e+00H  1\n",
      "  59  2.4254076e+02 8.88e-12 1.38e-05 -11.0 1.16e-04    -  1.00e+00 1.00e+00h  1\n",
      "iter    objective    inf_pr   inf_du lg(mu)  ||d||  lg(rg) alpha_du alpha_pr  ls\n",
      "  60  2.4254076e+02 1.33e-15 3.01e-05 -11.0 1.38e-04    -  1.00e+00 1.00e+00H  1\n",
      "  61  2.4254076e+02 9.71e-12 3.28e-06 -11.0 1.37e-04    -  1.00e+00 1.00e+00h  1\n",
      "  62  2.4254076e+02 5.41e-13 9.61e-06 -11.0 2.48e-05    -  1.00e+00 1.00e+00h  1\n",
      "  63  2.4254076e+02 3.43e-13 2.40e-07 -11.0 1.94e-05    -  1.00e+00 1.00e+00h  1\n",
      "\n",
      "Number of Iterations....: 63\n",
      "\n",
      "                                   (scaled)                 (unscaled)\n",
      "Objective...............:   2.4254076083751247e+02    2.4254076083751247e+02\n",
      "Dual infeasibility......:   2.3987617148168994e-07    2.3987617148168994e-07\n",
      "Constraint violation....:   3.4283687000424834e-13    3.4283687000424834e-13\n",
      "Variable bound violation:   0.0000000000000000e+00    0.0000000000000000e+00\n",
      "Complementarity.........:   1.0001354596696650e-11    1.0001354596696650e-11\n",
      "Overall NLP error.......:   2.3987617148168994e-07    2.3987617148168994e-07\n",
      "\n",
      "\n",
      "Number of objective function evaluations             = 100\n",
      "Number of objective gradient evaluations             = 64\n",
      "Number of equality constraint evaluations            = 100\n",
      "Number of inequality constraint evaluations          = 100\n",
      "Number of equality constraint Jacobian evaluations   = 64\n",
      "Number of inequality constraint Jacobian evaluations = 64\n",
      "Number of Lagrangian Hessian evaluations             = 0\n",
      "Total seconds in IPOPT                               = 37.752\n",
      "\n",
      "EXIT: Optimal Solution Found.\n"
     ]
    },
    {
     "data": {
      "text/plain": [
       "448-element Vector{Float64}:\n",
       "  -0.9999999999999999\n",
       "   1.0000000000000002\n",
       "  -1.0000000000000002\n",
       "   3.0714368933261586e-18\n",
       "   3.0508191005451203e-17\n",
       "   1.803906150012275e-17\n",
       "  -5.541529597236809e-17\n",
       "  -1.0032665829844905e-16\n",
       "  36.54384991981438\n",
       "   9.528389959427082\n",
       "  -0.9904132480280481\n",
       "   0.9874784831917157\n",
       "  -1.0000000000000002\n",
       "   ⋮\n",
       "   1.5141306774593405e-17\n",
       "   9.09170014134357e-18\n",
       "  27.715466503342284\n",
       " -11.611804943835923\n",
       "   0.9999999999999999\n",
       "   1.2938926261462371\n",
       "   1.0\n",
       "  -2.922442113516841e-18\n",
       "   3.3852721579240153e-17\n",
       "   2.5659372172792535e-17\n",
       "   7.570653407842819e-18\n",
       "   4.545851120501481e-18"
      ]
     },
     "execution_count": 17,
     "metadata": {},
     "output_type": "execute_result"
    }
   ],
   "source": [
    "prob = ProblemMOI(n_nlp,m_nlp)\n",
    "z_sol = solve(z0,prob) # solve"
   ]
  },
  {
   "cell_type": "code",
   "execution_count": 18,
   "metadata": {},
   "outputs": [],
   "source": [
    "z = reshape(z_sol[1:(end-Nx)],Nx+Nu,Nt-1)\n",
    "xtraj = [z[1:Nx,:] z_sol[end-(Nx-1):end]]\n",
    "utraj = z[(Nx+1):(Nx+Nu),:];"
   ]
  },
  {
   "cell_type": "code",
   "execution_count": 19,
   "metadata": {},
   "outputs": [
    {
     "data": {
      "image/png": "[encoded data removed]",
      "text/plain": [
       "Figure(PyObject <Figure size 640x480 with 1 Axes>)"
      ]
     },
     "metadata": {},
     "output_type": "display_data"
    },
    {
     "data": {
      "text/plain": [
       "1-element Vector{PyCall.PyObject}:\n",
       " PyObject <matplotlib.lines.Line2D object at 0x00000000CC631E70>"
      ]
     },
     "execution_count": 19,
     "metadata": {},
     "output_type": "execute_result"
    }
   ],
   "source": [
    "plot(thist,xtraj[2,:])\n",
    "plot(thist,xtraj[4,:])"
   ]
  },
  {
   "cell_type": "code",
   "execution_count": 20,
   "metadata": {},
   "outputs": [
    {
     "data": {
      "image/png": "[encoded data removed]",
      "text/plain": [
       "Figure(PyObject <Figure size 640x480 with 1 Axes>)"
      ]
     },
     "metadata": {},
     "output_type": "display_data"
    },
    {
     "data": {
      "text/plain": [
       "1-element Vector{PyCall.PyObject}:\n",
       " PyObject <matplotlib.lines.Line2D object at 0x00000000012A13F0>"
      ]
     },
     "execution_count": 20,
     "metadata": {},
     "output_type": "execute_result"
    }
   ],
   "source": [
    "plot(thist,xtraj[1,:])\n",
    "plot(thist,xtraj[3,:])"
   ]
  },
  {
   "cell_type": "code",
   "execution_count": 21,
   "metadata": {},
   "outputs": [
    {
     "data": {
      "image/png": "[encoded data removed]",
      "text/plain": [
       "Figure(PyObject <Figure size 640x480 with 1 Axes>)"
      ]
     },
     "metadata": {},
     "output_type": "display_data"
    },
    {
     "data": {
      "text/plain": [
       "1-element Vector{PyCall.PyObject}:\n",
       " PyObject <matplotlib.lines.Line2D object at 0x0000000001307DC0>"
      ]
     },
     "execution_count": 21,
     "metadata": {},
     "output_type": "execute_result"
    }
   ],
   "source": [
    "plot(thist[1:end-1],utraj[1,:])"
   ]
  },
  {
   "cell_type": "code",
   "execution_count": 22,
   "metadata": {},
   "outputs": [
    {
     "data": {
      "image/png": "[encoded data removed]",
      "text/plain": [
       "Figure(PyObject <Figure size 640x480 with 1 Axes>)"
      ]
     },
     "metadata": {},
     "output_type": "display_data"
    },
    {
     "data": {
      "text/plain": [
       "1-element Vector{PyCall.PyObject}:\n",
       " PyObject <matplotlib.lines.Line2D object at 0x000000000139D0F0>"
      ]
     },
     "execution_count": 22,
     "metadata": {},
     "output_type": "execute_result"
    }
   ],
   "source": [
    "plot(thist[1:end-1],utraj[2,:])"
   ]
  },
  {
   "cell_type": "code",
   "execution_count": 23,
   "metadata": {},
   "outputs": [
    {
     "name": "stderr",
     "output_type": "stream",
     "text": [
      "\u001b[36m\u001b[1m[ \u001b[22m\u001b[39m\u001b[36m\u001b[1mInfo: \u001b[22m\u001b[39mPrecompiling MeshCat [283c5d60-a78f-5afe-a0af-af636b173e11]\n",
      "\u001b[36m\u001b[1m[ \u001b[22m\u001b[39m\u001b[36m\u001b[1mInfo: \u001b[22m\u001b[39mListening on: 127.0.0.1:8700, thread id: 1\n",
      "\u001b[36m\u001b[1m┌ \u001b[22m\u001b[39m\u001b[36m\u001b[1mInfo: \u001b[22m\u001b[39mMeshCat server started. You can open the visualizer by visiting the following URL in your browser:\n",
      "\u001b[36m\u001b[1m└ \u001b[22m\u001b[39mhttp://127.0.0.1:8700\n",
      "\u001b[36m\u001b[1m[ \u001b[22m\u001b[39m\u001b[36m\u001b[1mInfo: \u001b[22m\u001b[39mServer on 127.0.0.1:8700 closing\n",
      "\u001b[36m\u001b[1m[ \u001b[22m\u001b[39m\u001b[36m\u001b[1mInfo: \u001b[22m\u001b[39mMeshCat server closed.\n",
      "\u001b[36m\u001b[1m[ \u001b[22m\u001b[39m\u001b[36m\u001b[1mInfo: \u001b[22m\u001b[39mListening on: 127.0.0.1:8700, thread id: 1\n",
      "\u001b[36m\u001b[1m┌ \u001b[22m\u001b[39m\u001b[36m\u001b[1mInfo: \u001b[22m\u001b[39mMeshCat server started. You can open the visualizer by visiting the following URL in your browser:\n",
      "\u001b[36m\u001b[1m└ \u001b[22m\u001b[39mhttp://127.0.0.1:8700\n"
     ]
    },
    {
     "data": {
      "text/html": [
       "    <div style=\"height: 500px; width: 100%; overflow-x: auto; overflow-y: hidden; resize: both\">\n",
       "    <iframe src=\"http://127.0.0.1:8700\" style=\"width: 100%; height: 100%; border: none\"></iframe>\n",
       "    </div>\n"
      ],
      "text/plain": [
       "MeshCat.DisplayedVisualizer(MeshCat.CoreVisualizer(MeshCat.SceneTrees.SceneNode(nothing, nothing, Dict{String, Vector{UInt8}}(), nothing, Dict{String, MeshCat.SceneTrees.SceneNode}()), Set{HTTP.WebSockets.WebSocket}(), ip\"127.0.0.1\", 8700, HTTP.Servers.Server{HTTP.Servers.Listener{Nothing, Sockets.TCPServer}}(HTTP.Servers.Listener{Nothing, Sockets.TCPServer}(Sockets.InetAddr{Sockets.IPv4}(ip\"127.0.0.1\", 8700), \"127.0.0.1\", \"8700\", nothing, Sockets.TCPServer(Base.Libc.WindowsRawSocket(0x0000000000001514) active)), nothing, Set{HTTP.Connections.Connection}(), Task (runnable) @0x000000007d893530, ReentrantLock(nothing, Base.GenericCondition{Base.Threads.SpinLock}(Base.InvasiveLinkedList{Task}(nothing, nothing), Base.Threads.SpinLock(0)), 0))))"
      ]
     },
     "execution_count": 23,
     "metadata": {},
     "output_type": "execute_result"
    }
   ],
   "source": [
    "#Set up visualizer\n",
    "using Colors\n",
    "using CoordinateTransformations\n",
    "using GeometryBasics\n",
    "using MeshCat\n",
    "using Rotations\n",
    "using StaticArrays\n",
    "\n",
    "# Kinematics\n",
    "kinematics(q) = [q[3], q[4]]\n",
    "\n",
    "# Visualization\n",
    "function visualize!(vis, q, Δt)\n",
    "\n",
    "    # body radius\n",
    "    r_body = 0.2\n",
    "\t# foot radius\n",
    "    r_foot = 0.1\n",
    "\n",
    "\t# leg width\n",
    "    r_leg = 0.5 * r_foot\n",
    "\n",
    "\t# set background to white\n",
    "\tsetvisible!(vis[\"/Background\"], true)\n",
    "    setprop!(vis[\"/Background\"], \"top_color\", RGBA(1.0, 1.0, 1.0, 1.0))\n",
    "    setprop!(vis[\"/Background\"], \"bottom_color\", RGBA(1.0, 1.0, 1.0, 1.0))\n",
    "    setvisible!(vis[\"/Axes\"], false)\n",
    "\n",
    "\t# create body\n",
    "    setobject!(vis[\"body\"], Sphere(Point3f0(0),\n",
    "        convert(Float32, r_body)),\n",
    "        MeshPhongMaterial(color = RGBA(0, 1, 0, 1.0)))\n",
    "\n",
    "\t# create foot\n",
    "    setobject!(vis[\"foot\"], Sphere(Point3f0(0),\n",
    "        convert(Float32, r_foot)),\n",
    "        MeshPhongMaterial(color = RGBA(1.0, 165.0 / 255.0, 0, 1.0)))\n",
    "\n",
    "# \t# create leg\n",
    "    n_leg = 100\n",
    "    for i = 1:n_leg\n",
    "        setobject!(vis[\"leg$i\"], Sphere(Point3f0(0),\n",
    "            convert(Float32, r_leg)),\n",
    "            MeshPhongMaterial(color = RGBA(0, 0, 0, 1.0)))\n",
    "    end\n",
    "\n",
    "    p_leg = [zeros(3) for i = 1:n_leg]\n",
    "\n",
    "\t# animation\n",
    "    anim = MeshCat.Animation(convert(Int, floor(1.0 / Δt)))\n",
    "\n",
    "    for t = 1:length(q)\n",
    "        p_body = [q[t][1], 0.0, q[t][2]]\n",
    "        p_foot = [kinematics(q[t])[1], 0.0, kinematics(q[t])[2]]\n",
    "\n",
    "        dir = [q[t][3] - q[t][1]; q[t][4] - q[t][2]]\n",
    "        dir = dir ./ norm(dir)\n",
    "        r_range = range(0, stop = sqrt((q[t][1] - q[t][3])^2.0 + (q[t][2] - q[t][4])^2.0), length = n_leg)\n",
    "        for i = 1:n_leg\n",
    "            p_leg[i] = [q[t][1] + r_range[i] * dir[1], 0.0, q[t][2] + r_range[i] * dir[2]]\n",
    "        end\n",
    "        \n",
    "        z_shift = [0.0; 0.0; r_foot]\n",
    "\n",
    "        MeshCat.atframe(anim, t) do\n",
    "            settransform!(vis[\"body\"], Translation(p_body + z_shift))\n",
    "            settransform!(vis[\"foot\"], Translation(p_foot + z_shift))\n",
    "\n",
    "            for i = 1:n_leg\n",
    "                settransform!(vis[\"leg$i\"], Translation(p_leg[i] + z_shift))\n",
    "            end\n",
    "        end\n",
    "    end\n",
    "\n",
    "    MeshCat.setanimation!(vis, anim)\n",
    "end\n",
    "\n",
    "vis = Visualizer()\n",
    "render(vis)"
   ]
  },
  {
   "cell_type": "code",
   "execution_count": 24,
   "metadata": {},
   "outputs": [],
   "source": [
    "q = [SVector{4}(x[1:4]) for x in eachcol(xtraj)];\n",
    "visualize!(vis, q, h)"
   ]
  },
  {
   "cell_type": "code",
   "execution_count": null,
   "metadata": {},
   "outputs": [],
   "source": []
  }
 ],
 "metadata": {
  "kernelspec": {
   "display_name": "Julia 1.6.7",
   "language": "julia",
   "name": "julia-1.6"
  },
  "language_info": {
   "file_extension": ".jl",
   "mimetype": "application/julia",
   "name": "julia",
   "version": "1.6.7"
  }
 },
 "nbformat": 4,
 "nbformat_minor": 4
}
