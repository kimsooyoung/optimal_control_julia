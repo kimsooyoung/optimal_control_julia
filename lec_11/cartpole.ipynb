{
 "cells": [
  {
   "cell_type": "code",
   "execution_count": 1,
   "metadata": {},
   "outputs": [
    {
     "name": "stderr",
     "output_type": "stream",
     "text": [
      "\u001b[32m\u001b[1m  Activating\u001b[22m\u001b[39m environment at `C:\\Users\\tge13\\Documents\\optimal_control_julia\\lec_11\\Project.toml`\n"
     ]
    }
   ],
   "source": [
    "import Pkg; Pkg.activate(@__DIR__); Pkg.instantiate()"
   ]
  },
  {
   "cell_type": "code",
   "execution_count": 2,
   "metadata": {},
   "outputs": [],
   "source": [
    "using LinearAlgebra\n",
    "using PyPlot\n",
    "using ForwardDiff\n",
    "using RobotZoo\n",
    "using RobotDynamics\n",
    "# using MatrixCalculus"
   ]
  },
  {
   "cell_type": "code",
   "execution_count": 3,
   "metadata": {},
   "outputs": [
    {
     "data": {
      "text/plain": [
       "0.05"
      ]
     },
     "execution_count": 3,
     "metadata": {},
     "output_type": "execute_result"
    }
   ],
   "source": [
    "#Cartpole Dynamics\n",
    "a = RobotZoo.Cartpole()\n",
    "h = 0.05"
   ]
  },
  {
   "cell_type": "code",
   "execution_count": 4,
   "metadata": {},
   "outputs": [
    {
     "data": {
      "text/plain": [
       "dynamics_rk4 (generic function with 1 method)"
      ]
     },
     "execution_count": 4,
     "metadata": {},
     "output_type": "execute_result"
    }
   ],
   "source": [
    "function dynamics_rk4(x,u)\n",
    "    #RK4 integration with zero-order hold on u\n",
    "    f1 = dynamics(a, x, u)\n",
    "    f2 = dynamics(a, x + 0.5*h*f1, u)\n",
    "    f3 = dynamics(a, x + 0.5*h*f2, u)\n",
    "    f4 = dynamics(a, x + h*f3, u)\n",
    "    return x + (h/6.0)*(f1 + 2*f2 + 2*f3 + f4)\n",
    "end"
   ]
  },
  {
   "cell_type": "code",
   "execution_count": 5,
   "metadata": {},
   "outputs": [
    {
     "data": {
      "text/plain": [
       "dfdu (generic function with 1 method)"
      ]
     },
     "execution_count": 5,
     "metadata": {},
     "output_type": "execute_result"
    }
   ],
   "source": [
    "function dfdx(x,u)\n",
    "    ForwardDiff.jacobian(dx->dynamics_rk4(dx,u),x)\n",
    "end\n",
    "\n",
    "function dfdu(x,u)\n",
    "    ForwardDiff.derivative(du->dynamics_rk4(x,du),u)\n",
    "end"
   ]
  },
  {
   "cell_type": "code",
   "execution_count": 6,
   "metadata": {},
   "outputs": [
    {
     "data": {
      "text/plain": [
       "dBdu (generic function with 1 method)"
      ]
     },
     "execution_count": 6,
     "metadata": {},
     "output_type": "execute_result"
    }
   ],
   "source": [
    "function dAdx(x,u)\n",
    "    ForwardDiff.jacobian(dx->vec(dfdx(dx,u)),x)\n",
    "end\n",
    "\n",
    "function dBdx(x,u)\n",
    "    ForwardDiff.jacobian(dx->dfdu(dx,u),x)\n",
    "end\n",
    "\n",
    "function dAdu(x,u)\n",
    "    ForwardDiff.derivative(du->vec(dfdx(x,du)),u)\n",
    "end\n",
    "\n",
    "function dBdu(x,u)\n",
    "    ForwardDiff.derivative(du->dfdu(x,du),u)\n",
    "end"
   ]
  },
  {
   "cell_type": "code",
   "execution_count": 7,
   "metadata": {},
   "outputs": [],
   "source": [
    "Nx = 4     # number of state\n",
    "Nu = 1     # number of controls\n",
    "Tfinal = 5.0 # final time\n",
    "Nt = Int(Tfinal/h)+1    # number of time steps\n",
    "thist = Array(range(0,h*(Nt-1), step=h));"
   ]
  },
  {
   "cell_type": "code",
   "execution_count": 8,
   "metadata": {},
   "outputs": [],
   "source": [
    "# Cost weights\n",
    "Q = Diagonal([1.0*ones(2); 1.0*ones(2)]);\n",
    "R = 0.1;\n",
    "Qn = Array(100.0*I(Nx));"
   ]
  },
  {
   "cell_type": "code",
   "execution_count": 9,
   "metadata": {},
   "outputs": [
    {
     "data": {
      "text/plain": [
       "stage_cost (generic function with 1 method)"
      ]
     },
     "execution_count": 9,
     "metadata": {},
     "output_type": "execute_result"
    }
   ],
   "source": [
    "function stage_cost(x,u)\n",
    "    return 0.5*((x-xgoal)'*Q*(x-xgoal)) + 0.5*R*u*u\n",
    "end"
   ]
  },
  {
   "cell_type": "code",
   "execution_count": 10,
   "metadata": {},
   "outputs": [
    {
     "data": {
      "text/plain": [
       "terminal_cost (generic function with 1 method)"
      ]
     },
     "execution_count": 10,
     "metadata": {},
     "output_type": "execute_result"
    }
   ],
   "source": [
    "function terminal_cost(x)\n",
    "    return 0.5*(x-xgoal)'*Qn*(x-xgoal)\n",
    "end"
   ]
  },
  {
   "cell_type": "code",
   "execution_count": 11,
   "metadata": {},
   "outputs": [
    {
     "data": {
      "text/plain": [
       "cost (generic function with 1 method)"
      ]
     },
     "execution_count": 11,
     "metadata": {},
     "output_type": "execute_result"
    }
   ],
   "source": [
    "function cost(xtraj,utraj)\n",
    "    J = 0.0\n",
    "    for k = 1:(Nt-1)\n",
    "        J += stage_cost(xtraj[:,k],utraj[k])\n",
    "    end\n",
    "    J += terminal_cost(xtraj[:,Nt])\n",
    "    return J\n",
    "end"
   ]
  },
  {
   "cell_type": "code",
   "execution_count": 12,
   "metadata": {},
   "outputs": [
    {
     "data": {
      "text/plain": [
       "backward_pass! (generic function with 1 method)"
      ]
     },
     "execution_count": 12,
     "metadata": {},
     "output_type": "execute_result"
    }
   ],
   "source": [
    "function backward_pass!(p,P,d,K)\n",
    "    \n",
    "    ΔJ = 0.0\n",
    "    p[:,Nt] .= Qn*(xtraj[:,Nt]-xgoal)\n",
    "    P[:,:,Nt] .= Qn\n",
    "    \n",
    "    for k = (Nt-1):-1:1\n",
    "        #Calculate derivatives\n",
    "        q = Q*(xtraj[:,k]-xgoal)\n",
    "        r = R*utraj[k]\n",
    "    \n",
    "        A = dfdx(xtraj[:,k], utraj[k]) #ForwardDiff.jacobian(dx->dynamics_rk4(dx,utraj[k]),xtraj[:,k])\n",
    "        B = dfdu(xtraj[:,k], utraj[k]) #ForwardDiff.derivative(du->dynamics_rk4(xtraj[:,k],du),utraj[k])\n",
    "        \n",
    "        #Ax = dAdx(xtraj[:,k], utraj[k])\n",
    "        #Bx = dBdx(xtraj[:,k], utraj[k])\n",
    "        #Au = dAdu(xtraj[:,k], utraj[k])\n",
    "        #Bu = dBdu(xtraj[:,k], utraj[k])\n",
    "    \n",
    "        gx = q + A'*p[:,k+1]\n",
    "        gu = r + B'*p[:,k+1]\n",
    "        \n",
    "        #iLQR (Gauss-Newton) version\n",
    "        Gxx = Q + A'*P[:,:,k+1]*A\n",
    "        Guu = R + B'*P[:,:,k+1]*B\n",
    "        Gxu = A'*P[:,:,k+1]*B\n",
    "        Gux = B'*P[:,:,k+1]*A\n",
    "        \n",
    "        #DDP (full Newton) version\n",
    "        #Gxx = Q + A'*P[:,:,k+1]*A + kron(p[:,k+1]',I(Nx))*comm(Nx,Nx)*Ax\n",
    "        #Guu = R + B'*P[:,:,k+1]*B + (kron(p[:,k+1]',I(Nu))*comm(Nx,Nu)*Bu)[1]\n",
    "        #Gxu = A'*P[:,:,k+1]*B + kron(p[:,k+1]',I(Nx))*comm(Nx,Nx)*Au\n",
    "        #Gux = B'*P[:,:,k+1]*A + kron(p[:,k+1]',I(Nu))*comm(Nx,Nu)*Bx\n",
    "        \n",
    "        β = 0.1\n",
    "        while !isposdef(Symmetric([Gxx Gxu; Gux Guu]))\n",
    "            Gxx += A'*β*I*A\n",
    "            Guu += B'*β*I*B\n",
    "            Gxu += A'*β*I*B\n",
    "            Gux += B'*β*I*A\n",
    "            β = 2*β\n",
    "            display(\"regularizing G\")\n",
    "            #display(β)\n",
    "        end\n",
    "        \n",
    "        d[k] = Guu\\gu\n",
    "        K[:,:,k] .= Guu\\Gux\n",
    "    \n",
    "        p[:,k] .= dropdims(gx - K[:,:,k]'*gu + K[:,:,k]'*Guu*d[k] - Gxu*d[k], dims=2)\n",
    "        P[:,:,k] .= Gxx + K[:,:,k]'*Guu*K[:,:,k] - Gxu*K[:,:,k] - K[:,:,k]'*Gux\n",
    "    \n",
    "        ΔJ += gu'*d[k]\n",
    "    end\n",
    "    \n",
    "    return ΔJ\n",
    "end"
   ]
  },
  {
   "cell_type": "code",
   "execution_count": 13,
   "metadata": {},
   "outputs": [],
   "source": [
    "#Initial guess\n",
    "x0 = [0; 0; 0; 0]\n",
    "xgoal = [0, pi, 0, 0]\n",
    "xtraj = kron(ones(1,Nt), x0)\n",
    "utraj = 0.001*ones(Nt-1);"
   ]
  },
  {
   "cell_type": "code",
   "execution_count": 14,
   "metadata": {},
   "outputs": [
    {
     "data": {
      "text/plain": [
       "987.0050919930895"
      ]
     },
     "execution_count": 14,
     "metadata": {},
     "output_type": "execute_result"
    }
   ],
   "source": [
    "#Initial Rollout\n",
    "for k = 1:(Nt-1)\n",
    "    xtraj[:,k+1] .= dynamics_rk4(xtraj[:,k],utraj[k])\n",
    "end\n",
    "J = cost(xtraj,utraj)"
   ]
  },
  {
   "cell_type": "code",
   "execution_count": 15,
   "metadata": {},
   "outputs": [],
   "source": [
    "#DDP Algorithm\n",
    "p = ones(Nx,Nt)\n",
    "P = zeros(Nx,Nx,Nt)\n",
    "d = ones(Nt-1)\n",
    "K = zeros(Nu,Nx,Nt-1)\n",
    "ΔJ = 1.0\n",
    "\n",
    "xn = zeros(Nx,Nt)\n",
    "un = zeros(Nt-1)\n",
    "\n",
    "gx = zeros(Nx)\n",
    "gu = 0.0\n",
    "Gxx = zeros(Nx,Nx)\n",
    "Guu = 0.0\n",
    "Gxu = zeros(Nx)\n",
    "Gux = zeros(Nx)\n",
    "\n",
    "iter = 0\n",
    "while maximum(abs.(d[:])) > 1e-3\n",
    "    iter += 1    \n",
    "    \n",
    "    #Backward Pass\n",
    "    ΔJ = backward_pass!(p,P,d,K)\n",
    "\n",
    "    #Forward rollout with line search\n",
    "    xn[:,1] = xtraj[:,1]\n",
    "    α = 1.0\n",
    "\n",
    "    for k = 1:(Nt-1)\n",
    "        un[k] = utraj[k] - α*d[k] - dot(K[:,:,k],xn[:,k]-xtraj[:,k])\n",
    "        xn[:,k+1] .= dynamics_rk4(xn[:,k],un[k])\n",
    "    end\n",
    "    Jn = cost(xn,un)\n",
    "    \n",
    "    while isnan(Jn) || Jn > (J - 1e-2*α*ΔJ)\n",
    "        α = 0.5*α\n",
    "        for k = 1:(Nt-1)\n",
    "            un[k] = utraj[k] - α*d[k] - dot(K[:,:,k],xn[:,k]-xtraj[:,k])\n",
    "            xn[:,k+1] .= dynamics_rk4(xn[:,k],un[k])\n",
    "        end\n",
    "        Jn = cost(xn,un)\n",
    "    end\n",
    "    \n",
    "    J = Jn\n",
    "    xtraj .= xn\n",
    "    utraj .= un\n",
    "end"
   ]
  },
  {
   "cell_type": "code",
   "execution_count": 16,
   "metadata": {},
   "outputs": [
    {
     "data": {
      "text/plain": [
       "691"
      ]
     },
     "execution_count": 16,
     "metadata": {},
     "output_type": "execute_result"
    }
   ],
   "source": [
    "iter"
   ]
  },
  {
   "cell_type": "code",
   "execution_count": 17,
   "metadata": {},
   "outputs": [
    {
     "data": {
      "text/plain": [
       "363.8368210515426"
      ]
     },
     "execution_count": 17,
     "metadata": {},
     "output_type": "execute_result"
    }
   ],
   "source": [
    "J"
   ]
  },
  {
   "cell_type": "code",
   "execution_count": 18,
   "metadata": {},
   "outputs": [
    {
     "data": {
      "image/png": "[encoded data removed]",
      "text/plain": [
       "Figure(PyObject <Figure size 640x480 with 1 Axes>)"
      ]
     },
     "metadata": {},
     "output_type": "display_data"
    },
    {
     "data": {
      "text/plain": [
       "1-element Vector{PyCall.PyObject}:\n",
       " PyObject <matplotlib.lines.Line2D object at 0x0000000075877280>"
      ]
     },
     "execution_count": 18,
     "metadata": {},
     "output_type": "execute_result"
    }
   ],
   "source": [
    "plot(thist,xtraj[1,:])\n",
    "plot(thist,xtraj[2,:])"
   ]
  },
  {
   "cell_type": "code",
   "execution_count": 19,
   "metadata": {},
   "outputs": [
    {
     "data": {
      "image/png": "[encoded data removed]",
      "text/plain": [
       "Figure(PyObject <Figure size 640x480 with 1 Axes>)"
      ]
     },
     "metadata": {},
     "output_type": "display_data"
    },
    {
     "data": {
      "text/plain": [
       "1-element Vector{PyCall.PyObject}:\n",
       " PyObject <matplotlib.lines.Line2D object at 0x0000000001057A90>"
      ]
     },
     "execution_count": 19,
     "metadata": {},
     "output_type": "execute_result"
    }
   ],
   "source": [
    "plot(thist[1:Nt-1],utraj)"
   ]
  },
  {
   "cell_type": "code",
   "execution_count": 20,
   "metadata": {},
   "outputs": [
    {
     "name": "stderr",
     "output_type": "stream",
     "text": [
      "\u001b[36m\u001b[1m┌ \u001b[22m\u001b[39m\u001b[36m\u001b[1mInfo: \u001b[22m\u001b[39mMeshCat server started. You can open the visualizer by visiting the following URL in your browser:\n",
      "\u001b[36m\u001b[1m└ \u001b[22m\u001b[39mhttp://127.0.0.1:8700\n"
     ]
    },
    {
     "data": {
      "text/html": [
       "    <div style=\"height: 500px; width: 100%; overflow-x: auto; overflow-y: hidden; resize: both\">\n",
       "    <iframe src=\"http://127.0.0.1:8700\" style=\"width: 100%; height: 100%; border: none\"></iframe>\n",
       "    </div>\n"
      ],
      "text/plain": [
       "MeshCat.DisplayedVisualizer(MeshCat.CoreVisualizer(MeshCat.SceneTrees.SceneNode(nothing, nothing, Dict{String, Vector{UInt8}}(), nothing, Dict{String, MeshCat.SceneTrees.SceneNode}()), Set{Any}(), ip\"127.0.0.1\", 8700))"
      ]
     },
     "execution_count": 20,
     "metadata": {},
     "output_type": "execute_result"
    }
   ],
   "source": [
    "using TrajOptPlots\n",
    "using MeshCat\n",
    "using StaticArrays\n",
    "\n",
    "vis = Visualizer()\n",
    "render(vis)"
   ]
  },
  {
   "cell_type": "code",
   "execution_count": 21,
   "metadata": {},
   "outputs": [
    {
     "data": {
      "text/plain": [
       "MeshCat Visualizer with path /meshcat/robot/cart/pole at http://127.0.0.1:8700"
      ]
     },
     "execution_count": 21,
     "metadata": {},
     "output_type": "execute_result"
    }
   ],
   "source": [
    "TrajOptPlots.set_mesh!(vis, a)"
   ]
  },
  {
   "cell_type": "code",
   "execution_count": 22,
   "metadata": {},
   "outputs": [],
   "source": [
    "X1 = [SVector{4}(x) for x in eachcol(xtraj)];\n",
    "visualize!(vis, a, thist[end], X1)"
   ]
  },
  {
   "cell_type": "code",
   "execution_count": null,
   "metadata": {},
   "outputs": [],
   "source": []
  }
 ],
 "metadata": {
  "kernelspec": {
   "display_name": "Julia 1.6.7",
   "language": "julia",
   "name": "julia-1.6"
  },
  "language_info": {
   "file_extension": ".jl",
   "mimetype": "application/julia",
   "name": "julia",
   "version": "1.6.7"
  }
 },
 "nbformat": 4,
 "nbformat_minor": 4
}
