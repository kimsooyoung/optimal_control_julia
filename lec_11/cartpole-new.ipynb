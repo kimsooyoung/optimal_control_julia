{
 "cells": [
  {
   "cell_type": "code",
   "execution_count": 1,
   "id": "010ff799-1592-4554-b8a7-ebb6d6e68808",
   "metadata": {},
   "outputs": [
    {
     "name": "stderr",
     "output_type": "stream",
     "text": [
      "\u001b[32m\u001b[1m  Activating\u001b[22m\u001b[39m environment at `C:\\Users\\tge13\\Documents\\optimal_control_julia\\lec_11\\Project.toml`\n"
     ]
    }
   ],
   "source": [
    "import Pkg; Pkg.activate(@__DIR__); Pkg.instantiate()"
   ]
  },
  {
   "cell_type": "code",
   "execution_count": 2,
   "id": "afc55f6e-2833-405e-b875-5c6b64cd8ae9",
   "metadata": {},
   "outputs": [],
   "source": [
    "using LinearAlgebra\n",
    "using Plots\n",
    "using ForwardDiff\n",
    "using RobotZoo\n",
    "using RobotDynamics\n",
    "# using MatrixCalculus\n",
    "using JLD2"
   ]
  },
  {
   "cell_type": "code",
   "execution_count": 7,
   "id": "9a74deac-e10d-4ea8-83e9-ad1e1a10bfef",
   "metadata": {},
   "outputs": [
    {
     "data": {
      "text/plain": [
       "0.05"
      ]
     },
     "execution_count": 7,
     "metadata": {},
     "output_type": "execute_result"
    }
   ],
   "source": [
    "#Cartpole Dynamics\n",
    "a = RobotZoo.Cartpole()\n",
    "h = 0.05"
   ]
  },
  {
   "cell_type": "code",
   "execution_count": 8,
   "id": "52461bd9-8d10-4654-9803-60ae63900b85",
   "metadata": {},
   "outputs": [
    {
     "data": {
      "text/plain": [
       "dynamics_rk4 (generic function with 1 method)"
      ]
     },
     "execution_count": 8,
     "metadata": {},
     "output_type": "execute_result"
    }
   ],
   "source": [
    "function dynamics_rk4(x,u)\n",
    "    #RK4 integration with zero-order hold on u\n",
    "    f1 = dynamics(a, x, u)\n",
    "    f2 = dynamics(a, x + 0.5*h*f1, u)\n",
    "    f3 = dynamics(a, x + 0.5*h*f2, u)\n",
    "    f4 = dynamics(a, x + h*f3, u)\n",
    "    return x + (h/6.0)*(f1 + 2*f2 + 2*f3 + f4)\n",
    "end"
   ]
  },
  {
   "cell_type": "code",
   "execution_count": 9,
   "id": "a4a8895d-446c-4355-98e1-119d1697aa3a",
   "metadata": {},
   "outputs": [
    {
     "data": {
      "text/plain": [
       "dfdu (generic function with 1 method)"
      ]
     },
     "execution_count": 9,
     "metadata": {},
     "output_type": "execute_result"
    }
   ],
   "source": [
    "function dfdx(x,u)\n",
    "    ForwardDiff.jacobian(dx->dynamics_rk4(dx,u),x)\n",
    "end\n",
    "\n",
    "function dfdu(x,u)\n",
    "    ForwardDiff.derivative(du->dynamics_rk4(x,du),u)\n",
    "end"
   ]
  },
  {
   "cell_type": "code",
   "execution_count": 10,
   "id": "d226f149-0918-4730-84df-56a8c3200bfe",
   "metadata": {},
   "outputs": [
    {
     "data": {
      "text/plain": [
       "dBdu (generic function with 1 method)"
      ]
     },
     "execution_count": 10,
     "metadata": {},
     "output_type": "execute_result"
    }
   ],
   "source": [
    "function dAdx(x,u)\n",
    "    ForwardDiff.jacobian(dx->vec(dfdx(dx,u)),x)\n",
    "end\n",
    "\n",
    "function dBdx(x,u)\n",
    "    ForwardDiff.jacobian(dx->dfdu(dx,u),x)\n",
    "end\n",
    "\n",
    "function dAdu(x,u)\n",
    "    ForwardDiff.derivative(du->vec(dfdx(x,du)),u)\n",
    "end\n",
    "\n",
    "function dBdu(x,u)\n",
    "    ForwardDiff.derivative(du->dfdu(x,du),u)\n",
    "end"
   ]
  },
  {
   "cell_type": "code",
   "execution_count": 11,
   "id": "44884336-0ca4-4ee1-9f29-eea13871c872",
   "metadata": {},
   "outputs": [
    {
     "data": {
      "text/plain": [
       "cost (generic function with 1 method)"
      ]
     },
     "execution_count": 11,
     "metadata": {},
     "output_type": "execute_result"
    }
   ],
   "source": [
    "function cost(xtraj,utraj)\n",
    "    J = 0\n",
    "    for k in 1:(Nt-1)\n",
    "        J = J + 0.5*(xtraj[:,k] - xgoal)'*Q*(xtraj[:,k] - xgoal) + 0.5*R*utraj[k]*utraj[k]\n",
    "    end\n",
    "    J = J + 0.5*(xtraj[:,end] - xgoal)'*Qn*(xtraj[:,end] - xgoal)\n",
    "end"
   ]
  },
  {
   "cell_type": "code",
   "execution_count": 12,
   "id": "fcfaa276-793a-48ff-b117-d5b3c9e6025a",
   "metadata": {},
   "outputs": [],
   "source": [
    "Nx = 4     # number of state\n",
    "Nu = 1     # number of controls\n",
    "Tfinal = 5.0 # final time\n",
    "Nt = Int(Tfinal/h)+1    # number of time steps\n",
    "thist = Array(range(0,h*(Nt-1), step=h));"
   ]
  },
  {
   "cell_type": "code",
   "execution_count": 13,
   "id": "ae21e9ea-f256-48b1-af4b-a6b1be5b5d01",
   "metadata": {},
   "outputs": [],
   "source": [
    "# Cost weights\n",
    "Q = Diagonal([1.0*ones(2); 1.0*ones(2)]);\n",
    "R = 0.1;\n",
    "Qn = Array(100.0*I(Nx));"
   ]
  },
  {
   "cell_type": "markdown",
   "id": "ed984347-6861-4655-afe3-383939b5d6c4",
   "metadata": {},
   "source": [
    "## iLQR and DPP"
   ]
  },
  {
   "cell_type": "code",
   "execution_count": 16,
   "id": "982403e4-54f5-447d-a3e5-ce507576fdd7",
   "metadata": {},
   "outputs": [
    {
     "data": {
      "text/plain": [
       "16-element Vector{Float64}:\n",
       " 0.0\n",
       " 0.0\n",
       " 0.0\n",
       " 0.0\n",
       " 0.0\n",
       " 0.0\n",
       " 0.0\n",
       " 0.0\n",
       " 0.0\n",
       " 0.0\n",
       " 0.0\n",
       " 0.0\n",
       " 0.0\n",
       " 0.0\n",
       " 0.0\n",
       " 0.0"
      ]
     },
     "execution_count": 16,
     "metadata": {},
     "output_type": "execute_result"
    }
   ],
   "source": [
    "comm_41 = I(4)\n",
    "\n",
    "comm_44 = [\n",
    "    1 0 0 0 0 0 0 0 0 0 0 0 0 0 0 0;\n",
    "    0 0 0 0 1 0 0 0 0 0 0 0 0 0 0 0;\n",
    "    0 0 0 0 0 0 0 0 1 0 0 0 0 0 0 0;\n",
    "    0 0 0 0 0 0 0 0 0 0 0 0 1 0 0 0;\n",
    "    0 1 0 0 0 0 0 0 0 0 0 0 0 0 0 0;\n",
    "    0 0 0 0 0 1 0 0 0 0 0 0 0 0 0 0;\n",
    "    0 0 0 0 0 0 0 0 0 1 0 0 0 0 0 0;\n",
    "    0 0 0 0 0 0 0 0 0 0 0 0 0 1 0 0;\n",
    "    0 0 1 0 0 0 0 0 0 0 0 0 0 0 0 0;\n",
    "    0 0 0 0 0 0 1 0 0 0 0 0 0 0 0 0;\n",
    "    0 0 0 0 0 0 0 0 0 0 1 0 0 0 0 0;\n",
    "    0 0 0 0 0 0 0 0 0 0 0 0 0 0 1 0;\n",
    "    0 0 0 1 0 0 0 0 0 0 0 0 0 0 0 0;\n",
    "    0 0 0 0 0 0 0 1 0 0 0 0 0 0 0 0;\n",
    "    0 0 0 0 0 0 0 0 0 0 0 1 0 0 0 0;\n",
    "    0 0 0 0 0 0 0 0 0 0 0 0 0 0 0 1;\n",
    "]\n",
    "A = randn(4,4)\n",
    "vec(A) .- comm_44*vec(A')"
   ]
  },
  {
   "cell_type": "code",
   "execution_count": 17,
   "id": "b5e8283d-dea9-4a51-8904-679b249ed222",
   "metadata": {},
   "outputs": [
    {
     "data": {
      "text/plain": [
       "backward_pass_ilqr! (generic function with 1 method)"
      ]
     },
     "execution_count": 17,
     "metadata": {},
     "output_type": "execute_result"
    }
   ],
   "source": [
    "function backward_pass_ilqr!(p,P,d,K)\n",
    "\n",
    "    ΔJ = 0.0\n",
    "    p[:,end] .= Qn*(xtraj[:,end] - xgoal)\n",
    "    P[:,:,end] .= Qn\n",
    "\n",
    "    for k in (Nt-1):-1:1\n",
    "        ∇ₓl = Q*(xtraj[:,k] - xgoal)\n",
    "        ∇ᵤl = R*(utraj[k])\n",
    "\n",
    "        A = dfdx(xtraj[:,k], utraj[k])\n",
    "        B = dfdu(xtraj[:,k], utraj[k])\n",
    "        \n",
    "        gₓ = ∇ₓl + A'*p[:,k+1]\n",
    "        gᵤ = ∇ᵤl + B'*p[:,k+1]\n",
    "\n",
    "        # Gauss-Newton (iLQR)\n",
    "        Gxx = Q + A'*P[:,:,k+1]*A\n",
    "        Guu = R + B'*P[:,:,k+1]*B\n",
    "        Gxu = A'*P[:,:,k+1]*B\n",
    "        Gux = B'*P[:,:,k+1]*A\n",
    "\n",
    "        d[k] = Guu\\gᵤ\n",
    "        K[:,:,k] .= Guu\\Gux\n",
    "    \n",
    "        P[:,:,k] .= Gxx + K[:,:,k]'*Guu*K[:,:,k] - Gxu*K[:,:,k] - K[:,:,k]'*Gux\n",
    "        p[:,k] .= dropdims(gₓ - K[:,:,k]'*gᵤ + K[:,:,k]'*Guu*d[k] - Gxu*d[k], dims=2)\n",
    "    \n",
    "        ΔJ += gᵤ'*d[k]\n",
    "        \n",
    "    end\n",
    "\n",
    "    return ΔJ\n",
    "end"
   ]
  },
  {
   "cell_type": "code",
   "execution_count": 18,
   "id": "04cd9bde-1aab-4fd1-975a-de91bfad1897",
   "metadata": {},
   "outputs": [
    {
     "data": {
      "text/plain": [
       "backward_pass_ddp! (generic function with 1 method)"
      ]
     },
     "execution_count": 18,
     "metadata": {},
     "output_type": "execute_result"
    }
   ],
   "source": [
    "function backward_pass_ddp!(p,P,d,K)\n",
    "\n",
    "    ΔJ = 0.0\n",
    "    p[:,end] .= Qn*(xtraj[:,end] - xgoal)\n",
    "    P[:,:,end] .= Qn\n",
    "\n",
    "    for k in (Nt-1):-1:1\n",
    "        ∇ₓl = Q*(xtraj[:,k] - xgoal)\n",
    "        ∇ᵤl = R*(utraj[k])\n",
    "\n",
    "        A = dfdx(xtraj[:,k], utraj[k])\n",
    "        B = dfdu(xtraj[:,k], utraj[k])\n",
    "        \n",
    "        gₓ = ∇ₓl + A'*p[:,k+1]\n",
    "        gᵤ = ∇ᵤl + B'*p[:,k+1]\n",
    "\n",
    "        # Full-Newton (DDP)\n",
    "        Ax = dAdx(xtraj[:,k], utraj[k])\n",
    "        Bx = dBdx(xtraj[:,k], utraj[k])\n",
    "        Au = dAdu(xtraj[:,k], utraj[k])\n",
    "        Bu = dBdu(xtraj[:,k], utraj[k])\n",
    "\n",
    "        Gxx = Q + A'*P[:,:,k+1]*A + kron(p[:,k+1]', I(Nx))*comm_44*Ax\n",
    "        Guu = R + B'*P[:,:,k+1]*B + (kron(p[:,k+1]', I(Nu))*comm_41*Bu)[1]\n",
    "        Gxu = A'*P[:,:,k+1]*B + kron(p[:,k+1]', I(Nx))*comm_44*Au\n",
    "        Gux = B'*P[:,:,k+1]*A + kron(p[:,k+1]', I(Nu))*comm_41*Bx\n",
    "\n",
    "        # Regularization\n",
    "        β = 0.1\n",
    "        while !isposdef(Symmetric([Gxx Gxu; Gux Guu]))\n",
    "            Gxx += β*A'*I*A\n",
    "            Guu += β*B'*I*B\n",
    "            Gux += β*B'*I*A\n",
    "            Gxu += β*A'*I*B\n",
    "            β *= 2\n",
    "        end\n",
    "\n",
    "        d[k] = Guu\\gᵤ\n",
    "        K[:,:,k] .= Guu\\Gux\n",
    "    \n",
    "        P[:,:,k] .= Gxx + K[:,:,k]'*Guu*K[:,:,k] - Gxu*K[:,:,k] - K[:,:,k]'*Gux\n",
    "        p[:,k] .= dropdims(gₓ - K[:,:,k]'*gᵤ + K[:,:,k]'*Guu*d[k] - Gxu*d[k], dims=2)\n",
    "    \n",
    "        ΔJ += gᵤ'*d[k]\n",
    "        \n",
    "    end\n",
    "\n",
    "    return ΔJ\n",
    "end"
   ]
  },
  {
   "cell_type": "code",
   "execution_count": 19,
   "id": "dff084a1-9aee-4e32-8d00-82c8bf75b774",
   "metadata": {},
   "outputs": [
    {
     "data": {
      "text/plain": [
       "987.0050919930886"
      ]
     },
     "execution_count": 19,
     "metadata": {},
     "output_type": "execute_result"
    }
   ],
   "source": [
    "#Initial guess\n",
    "x0 = [0; 0; 0; 0]\n",
    "xgoal = [0, pi, 0, 0]\n",
    "xtraj = kron(ones(1,Nt), x0)\n",
    "utraj = 0.001*ones(Nt-1);\n",
    "\n",
    "#Initial Rollout\n",
    "for k = 1:(Nt-1)\n",
    "    xtraj[:,k+1] .= dynamics_rk4(xtraj[:,k],utraj[k])\n",
    "end\n",
    "J = cost(xtraj,utraj)"
   ]
  },
  {
   "cell_type": "markdown",
   "id": "aabdc779-940e-4f61-ad68-a7b6a9cb1e67",
   "metadata": {},
   "source": [
    "## iLQR"
   ]
  },
  {
   "cell_type": "code",
   "execution_count": 20,
   "id": "41cee23e-b4b2-4e0e-a84e-fe8449146bf5",
   "metadata": {},
   "outputs": [],
   "source": [
    "p = ones(Nx,Nt)\n",
    "P = zeros(Nx,Nx,Nt)\n",
    "d = ones(Nt-1)\n",
    "K = zeros(Nu,Nx,Nt-1)\n",
    "ΔJ = 1.0\n",
    "\n",
    "xn = zeros(Nx,Nt)\n",
    "un = zeros(Nt-1)\n",
    "\n",
    "gx = zeros(Nx)\n",
    "gu = 0.0\n",
    "Gxx = zeros(Nx,Nx)\n",
    "Guu = 0.0\n",
    "Gxu = zeros(Nx)\n",
    "Gux = zeros(Nx)\n",
    "\n",
    "iter = 0\n",
    "while maximum(abs.(d[:])) > 1e-3\n",
    "    iter += 1    \n",
    "    \n",
    "    #Backward Pass\n",
    "    ΔJ = backward_pass_ilqr!(p,P,d,K)\n",
    "\n",
    "    #Forward rollout with line search\n",
    "    xn[:,1] = xtraj[:,1]\n",
    "    α = 1.0\n",
    "\n",
    "    for k = 1:(Nt-1)\n",
    "        un[k] = utraj[k] - α*d[k] - dot(K[:,:,k],xn[:,k]-xtraj[:,k])\n",
    "        xn[:,k+1] .= dynamics_rk4(xn[:,k],un[k])\n",
    "    end\n",
    "    Jn = cost(xn,un)\n",
    "    \n",
    "    while isnan(Jn) || Jn > (J - 1e-2*α*ΔJ)\n",
    "        α = 0.5*α\n",
    "        for k = 1:(Nt-1)\n",
    "            un[k] = utraj[k] - α*d[k] - dot(K[:,:,k],xn[:,k]-xtraj[:,k])\n",
    "            xn[:,k+1] .= dynamics_rk4(xn[:,k],un[k])\n",
    "        end\n",
    "        Jn = cost(xn,un)\n",
    "    end\n",
    "    \n",
    "    J = Jn\n",
    "    xtraj .= xn\n",
    "    utraj .= un\n",
    "end"
   ]
  },
  {
   "cell_type": "code",
   "execution_count": 21,
   "id": "5f233df8-2e76-4616-926f-e5e82db89211",
   "metadata": {},
   "outputs": [
    {
     "data": {
      "text/plain": [
       "(691, 363.8368210515429)"
      ]
     },
     "execution_count": 21,
     "metadata": {},
     "output_type": "execute_result"
    }
   ],
   "source": [
    "iter, J"
   ]
  },
  {
   "cell_type": "code",
   "execution_count": 22,
   "id": "9b0e318a-6d46-46ec-9d22-ca384f1d405d",
   "metadata": {},
   "outputs": [
    {
     "data": {
      "image/svg+xml": [
       "<?xml version=\"1.0\" encoding=\"utf-8\"?>\n",
       "<svg xmlns=\"http://www.w3.org/2000/svg\" xmlns:xlink=\"http://www.w3.org/1999/xlink\" width=\"600\" height=\"400\" viewBox=\"0 0 2400 1600\">\n",
       "<defs>\n",
       "  <clipPath id=\"clip810\">\n",
       "    <rect x=\"0\" y=\"0\" width=\"2400\" height=\"1600\"/>\n",
       "  </clipPath>\n",
       "</defs>\n",
       "<path clip-path=\"url(#clip810)\" d=\"M0 1600 L2400 1600 L2400 0 L0 0  Z\" fill=\"#ffffff\" fill-rule=\"evenodd\" fill-opacity=\"1\"/>\n",
       "<defs>\n",
       "  <clipPath id=\"clip811\">\n",
       "    <rect x=\"480\" y=\"0\" width=\"1681\" height=\"1600\"/>\n",
       "  </clipPath>\n",
       "</defs>\n",
       "<path clip-path=\"url(#clip810)\" d=\"M110.881 1486.45 L2352.76 1486.45 L2352.76 47.2441 L110.881 47.2441  Z\" fill=\"#ffffff\" fill-rule=\"evenodd\" fill-opacity=\"1\"/>\n",
       "<defs>\n",
       "  <clipPath id=\"clip812\">\n",
       "    <rect x=\"110\" y=\"47\" width=\"2243\" height=\"1440\"/>\n",
       "  </clipPath>\n",
       "</defs>\n",
       "<polyline clip-path=\"url(#clip812)\" style=\"stroke:#000000; stroke-linecap:round; stroke-linejoin:round; stroke-width:2; stroke-opacity:0.1; fill:none\" points=\"174.33,1486.45 174.33,47.2441 \"/>\n",
       "<polyline clip-path=\"url(#clip812)\" style=\"stroke:#000000; stroke-linecap:round; stroke-linejoin:round; stroke-width:2; stroke-opacity:0.1; fill:none\" points=\"597.325,1486.45 597.325,47.2441 \"/>\n",
       "<polyline clip-path=\"url(#clip812)\" style=\"stroke:#000000; stroke-linecap:round; stroke-linejoin:round; stroke-width:2; stroke-opacity:0.1; fill:none\" points=\"1020.32,1486.45 1020.32,47.2441 \"/>\n",
       "<polyline clip-path=\"url(#clip812)\" style=\"stroke:#000000; stroke-linecap:round; stroke-linejoin:round; stroke-width:2; stroke-opacity:0.1; fill:none\" points=\"1443.32,1486.45 1443.32,47.2441 \"/>\n",
       "<polyline clip-path=\"url(#clip812)\" style=\"stroke:#000000; stroke-linecap:round; stroke-linejoin:round; stroke-width:2; stroke-opacity:0.1; fill:none\" points=\"1866.31,1486.45 1866.31,47.2441 \"/>\n",
       "<polyline clip-path=\"url(#clip812)\" style=\"stroke:#000000; stroke-linecap:round; stroke-linejoin:round; stroke-width:2; stroke-opacity:0.1; fill:none\" points=\"2289.31,1486.45 2289.31,47.2441 \"/>\n",
       "<polyline clip-path=\"url(#clip810)\" style=\"stroke:#000000; stroke-linecap:round; stroke-linejoin:round; stroke-width:4; stroke-opacity:1; fill:none\" points=\"110.881,1486.45 2352.76,1486.45 \"/>\n",
       "<polyline clip-path=\"url(#clip810)\" style=\"stroke:#000000; stroke-linecap:round; stroke-linejoin:round; stroke-width:4; stroke-opacity:1; fill:none\" points=\"174.33,1486.45 174.33,1467.55 \"/>\n",
       "<polyline clip-path=\"url(#clip810)\" style=\"stroke:#000000; stroke-linecap:round; stroke-linejoin:round; stroke-width:4; stroke-opacity:1; fill:none\" points=\"597.325,1486.45 597.325,1467.55 \"/>\n",
       "<polyline clip-path=\"url(#clip810)\" style=\"stroke:#000000; stroke-linecap:round; stroke-linejoin:round; stroke-width:4; stroke-opacity:1; fill:none\" points=\"1020.32,1486.45 1020.32,1467.55 \"/>\n",
       "<polyline clip-path=\"url(#clip810)\" style=\"stroke:#000000; stroke-linecap:round; stroke-linejoin:round; stroke-width:4; stroke-opacity:1; fill:none\" points=\"1443.32,1486.45 1443.32,1467.55 \"/>\n",
       "<polyline clip-path=\"url(#clip810)\" style=\"stroke:#000000; stroke-linecap:round; stroke-linejoin:round; stroke-width:4; stroke-opacity:1; fill:none\" points=\"1866.31,1486.45 1866.31,1467.55 \"/>\n",
       "<polyline clip-path=\"url(#clip810)\" style=\"stroke:#000000; stroke-linecap:round; stroke-linejoin:round; stroke-width:4; stroke-opacity:1; fill:none\" points=\"2289.31,1486.45 2289.31,1467.55 \"/>\n",
       "<path clip-path=\"url(#clip810)\" d=\"M174.33 1517.37 Q170.719 1517.37 168.89 1520.93 Q167.085 1524.47 167.085 1531.6 Q167.085 1538.71 168.89 1542.27 Q170.719 1545.82 174.33 1545.82 Q177.964 1545.82 179.77 1542.27 Q181.599 1538.71 181.599 1531.6 Q181.599 1524.47 179.77 1520.93 Q177.964 1517.37 174.33 1517.37 M174.33 1513.66 Q180.14 1513.66 183.196 1518.27 Q186.275 1522.85 186.275 1531.6 Q186.275 1540.33 183.196 1544.94 Q180.14 1549.52 174.33 1549.52 Q168.52 1549.52 165.441 1544.94 Q162.386 1540.33 162.386 1531.6 Q162.386 1522.85 165.441 1518.27 Q168.52 1513.66 174.33 1513.66 Z\" fill=\"#000000\" fill-rule=\"nonzero\" fill-opacity=\"1\" /><path clip-path=\"url(#clip810)\" d=\"M587.707 1544.91 L595.346 1544.91 L595.346 1518.55 L587.036 1520.21 L587.036 1515.95 L595.3 1514.29 L599.976 1514.29 L599.976 1544.91 L607.615 1544.91 L607.615 1548.85 L587.707 1548.85 L587.707 1544.91 Z\" fill=\"#000000\" fill-rule=\"nonzero\" fill-opacity=\"1\" /><path clip-path=\"url(#clip810)\" d=\"M1014.97 1544.91 L1031.29 1544.91 L1031.29 1548.85 L1009.35 1548.85 L1009.35 1544.91 Q1012.01 1542.16 1016.59 1537.53 Q1021.2 1532.88 1022.38 1531.53 Q1024.63 1529.01 1025.51 1527.27 Q1026.41 1525.51 1026.41 1523.82 Q1026.41 1521.07 1024.46 1519.33 Q1022.54 1517.6 1019.44 1517.6 Q1017.24 1517.6 1014.79 1518.36 Q1012.36 1519.13 1009.58 1520.68 L1009.58 1515.95 Q1012.4 1514.82 1014.86 1514.24 Q1017.31 1513.66 1019.35 1513.66 Q1024.72 1513.66 1027.91 1516.35 Q1031.11 1519.03 1031.11 1523.52 Q1031.11 1525.65 1030.3 1527.57 Q1029.51 1529.47 1027.4 1532.07 Q1026.83 1532.74 1023.72 1535.95 Q1020.62 1539.15 1014.97 1544.91 Z\" fill=\"#000000\" fill-rule=\"nonzero\" fill-opacity=\"1\" /><path clip-path=\"url(#clip810)\" d=\"M1447.56 1530.21 Q1450.92 1530.93 1452.8 1533.2 Q1454.69 1535.47 1454.69 1538.8 Q1454.69 1543.92 1451.17 1546.72 Q1447.66 1549.52 1441.17 1549.52 Q1439 1549.52 1436.68 1549.08 Q1434.39 1548.66 1431.94 1547.81 L1431.94 1543.29 Q1433.88 1544.43 1436.2 1545.01 Q1438.51 1545.58 1441.04 1545.58 Q1445.43 1545.58 1447.73 1543.85 Q1450.04 1542.11 1450.04 1538.8 Q1450.04 1535.75 1447.89 1534.03 Q1445.76 1532.3 1441.94 1532.3 L1437.91 1532.3 L1437.91 1528.45 L1442.12 1528.45 Q1445.57 1528.45 1447.4 1527.09 Q1449.23 1525.7 1449.23 1523.11 Q1449.23 1520.45 1447.33 1519.03 Q1445.46 1517.6 1441.94 1517.6 Q1440.02 1517.6 1437.82 1518.01 Q1435.62 1518.43 1432.98 1519.31 L1432.98 1515.14 Q1435.64 1514.4 1437.96 1514.03 Q1440.3 1513.66 1442.36 1513.66 Q1447.68 1513.66 1450.78 1516.09 Q1453.88 1518.5 1453.88 1522.62 Q1453.88 1525.49 1452.24 1527.48 Q1450.6 1529.45 1447.56 1530.21 Z\" fill=\"#000000\" fill-rule=\"nonzero\" fill-opacity=\"1\" /><path clip-path=\"url(#clip810)\" d=\"M1869.32 1518.36 L1857.52 1536.81 L1869.32 1536.81 L1869.32 1518.36 M1868.09 1514.29 L1873.97 1514.29 L1873.97 1536.81 L1878.9 1536.81 L1878.9 1540.7 L1873.97 1540.7 L1873.97 1548.85 L1869.32 1548.85 L1869.32 1540.7 L1853.72 1540.7 L1853.72 1536.19 L1868.09 1514.29 Z\" fill=\"#000000\" fill-rule=\"nonzero\" fill-opacity=\"1\" /><path clip-path=\"url(#clip810)\" d=\"M2279.58 1514.29 L2297.94 1514.29 L2297.94 1518.22 L2283.87 1518.22 L2283.87 1526.7 Q2284.89 1526.35 2285.9 1526.19 Q2286.92 1526 2287.94 1526 Q2293.73 1526 2297.11 1529.17 Q2300.49 1532.34 2300.49 1537.76 Q2300.49 1543.34 2297.01 1546.44 Q2293.54 1549.52 2287.22 1549.52 Q2285.05 1549.52 2282.78 1549.15 Q2280.53 1548.78 2278.13 1548.04 L2278.13 1543.34 Q2280.21 1544.47 2282.43 1545.03 Q2284.65 1545.58 2287.13 1545.58 Q2291.14 1545.58 2293.47 1543.48 Q2295.81 1541.37 2295.81 1537.76 Q2295.81 1534.15 2293.47 1532.04 Q2291.14 1529.94 2287.13 1529.94 Q2285.26 1529.94 2283.38 1530.35 Q2281.53 1530.77 2279.58 1531.65 L2279.58 1514.29 Z\" fill=\"#000000\" fill-rule=\"nonzero\" fill-opacity=\"1\" /><polyline clip-path=\"url(#clip812)\" style=\"stroke:#000000; stroke-linecap:round; stroke-linejoin:round; stroke-width:2; stroke-opacity:0.1; fill:none\" points=\"110.881,1263.31 2352.76,1263.31 \"/>\n",
       "<polyline clip-path=\"url(#clip812)\" style=\"stroke:#000000; stroke-linecap:round; stroke-linejoin:round; stroke-width:2; stroke-opacity:0.1; fill:none\" points=\"110.881,892.056 2352.76,892.056 \"/>\n",
       "<polyline clip-path=\"url(#clip812)\" style=\"stroke:#000000; stroke-linecap:round; stroke-linejoin:round; stroke-width:2; stroke-opacity:0.1; fill:none\" points=\"110.881,520.804 2352.76,520.804 \"/>\n",
       "<polyline clip-path=\"url(#clip812)\" style=\"stroke:#000000; stroke-linecap:round; stroke-linejoin:round; stroke-width:2; stroke-opacity:0.1; fill:none\" points=\"110.881,149.553 2352.76,149.553 \"/>\n",
       "<polyline clip-path=\"url(#clip810)\" style=\"stroke:#000000; stroke-linecap:round; stroke-linejoin:round; stroke-width:4; stroke-opacity:1; fill:none\" points=\"110.881,1486.45 110.881,47.2441 \"/>\n",
       "<polyline clip-path=\"url(#clip810)\" style=\"stroke:#000000; stroke-linecap:round; stroke-linejoin:round; stroke-width:4; stroke-opacity:1; fill:none\" points=\"110.881,1263.31 129.779,1263.31 \"/>\n",
       "<polyline clip-path=\"url(#clip810)\" style=\"stroke:#000000; stroke-linecap:round; stroke-linejoin:round; stroke-width:4; stroke-opacity:1; fill:none\" points=\"110.881,892.056 129.779,892.056 \"/>\n",
       "<polyline clip-path=\"url(#clip810)\" style=\"stroke:#000000; stroke-linecap:round; stroke-linejoin:round; stroke-width:4; stroke-opacity:1; fill:none\" points=\"110.881,520.804 129.779,520.804 \"/>\n",
       "<polyline clip-path=\"url(#clip810)\" style=\"stroke:#000000; stroke-linecap:round; stroke-linejoin:round; stroke-width:4; stroke-opacity:1; fill:none\" points=\"110.881,149.553 129.779,149.553 \"/>\n",
       "<path clip-path=\"url(#clip810)\" d=\"M62.9365 1249.11 Q59.3254 1249.11 57.4967 1252.67 Q55.6912 1256.21 55.6912 1263.34 Q55.6912 1270.45 57.4967 1274.01 Q59.3254 1277.56 62.9365 1277.56 Q66.5707 1277.56 68.3763 1274.01 Q70.205 1270.45 70.205 1263.34 Q70.205 1256.21 68.3763 1252.67 Q66.5707 1249.11 62.9365 1249.11 M62.9365 1245.4 Q68.7467 1245.4 71.8022 1250.01 Q74.8809 1254.59 74.8809 1263.34 Q74.8809 1272.07 71.8022 1276.68 Q68.7467 1281.26 62.9365 1281.26 Q57.1264 1281.26 54.0477 1276.68 Q50.9921 1272.07 50.9921 1263.34 Q50.9921 1254.59 54.0477 1250.01 Q57.1264 1245.4 62.9365 1245.4 Z\" fill=\"#000000\" fill-rule=\"nonzero\" fill-opacity=\"1\" /><path clip-path=\"url(#clip810)\" d=\"M54.9736 905.401 L62.6124 905.401 L62.6124 879.036 L54.3023 880.702 L54.3023 876.443 L62.5661 874.776 L67.242 874.776 L67.242 905.401 L74.8809 905.401 L74.8809 909.336 L54.9736 909.336 L54.9736 905.401 Z\" fill=\"#000000\" fill-rule=\"nonzero\" fill-opacity=\"1\" /><path clip-path=\"url(#clip810)\" d=\"M58.5615 534.149 L74.8809 534.149 L74.8809 538.084 L52.9366 538.084 L52.9366 534.149 Q55.5986 531.395 60.1819 526.765 Q64.7883 522.112 65.9689 520.77 Q68.2143 518.247 69.0939 516.511 Q69.9967 514.751 69.9967 513.061 Q69.9967 510.307 68.0522 508.571 Q66.1309 506.835 63.0291 506.835 Q60.83 506.835 58.3763 507.599 Q55.9458 508.362 53.168 509.913 L53.168 505.191 Q55.9921 504.057 58.4458 503.478 Q60.8995 502.899 62.9365 502.899 Q68.3068 502.899 71.5013 505.585 Q74.6957 508.27 74.6957 512.761 Q74.6957 514.89 73.8855 516.811 Q73.0985 518.71 70.992 521.302 Q70.4133 521.973 67.3115 525.191 Q64.2096 528.385 58.5615 534.149 Z\" fill=\"#000000\" fill-rule=\"nonzero\" fill-opacity=\"1\" /><path clip-path=\"url(#clip810)\" d=\"M67.7513 148.198 Q71.1078 148.916 72.9827 151.184 Q74.8809 153.453 74.8809 156.786 Q74.8809 161.902 71.3624 164.703 Q67.8439 167.504 61.3624 167.504 Q59.1865 167.504 56.8717 167.064 Q54.5801 166.647 52.1264 165.791 L52.1264 161.277 Q54.0708 162.411 56.3856 162.99 Q58.7004 163.569 61.2236 163.569 Q65.6217 163.569 67.9133 161.833 Q70.2281 160.096 70.2281 156.786 Q70.2281 153.731 68.0754 152.018 Q65.9457 150.282 62.1263 150.282 L58.0986 150.282 L58.0986 146.439 L62.3115 146.439 Q65.7606 146.439 67.5893 145.073 Q69.418 143.685 69.418 141.092 Q69.418 138.43 67.5198 137.018 Q65.6448 135.583 62.1263 135.583 Q60.205 135.583 58.006 135.999 Q55.8069 136.416 53.168 137.296 L53.168 133.129 Q55.8301 132.388 58.1449 132.018 Q60.4828 131.648 62.543 131.648 Q67.867 131.648 70.9689 134.078 Q74.0707 136.486 74.0707 140.606 Q74.0707 143.476 72.4272 145.467 Q70.7837 147.435 67.7513 148.198 Z\" fill=\"#000000\" fill-rule=\"nonzero\" fill-opacity=\"1\" /><polyline clip-path=\"url(#clip812)\" style=\"stroke:#009af9; stroke-linecap:round; stroke-linejoin:round; stroke-width:4; stroke-opacity:1; fill:none\" points=\"174.33,1263.31 195.48,1259.42 216.63,1248.95 237.779,1233.96 258.929,1216.06 280.079,1196.42 301.229,1175.93 322.379,1155.28 343.528,1135.11 364.678,1116.19 385.828,1099.57 406.978,1086.81 428.127,1080.12 449.277,1082.49 470.427,1097.15 491.577,1125.88 512.726,1166.61 533.876,1213.87 555.026,1261.8 576.176,1306.2 597.325,1344.72 618.475,1376.4 639.625,1401.21 660.775,1419.66 681.925,1432.5 703.074,1440.58 724.224,1444.73 745.374,1445.72 766.524,1444.2 787.673,1440.74 808.823,1435.81 829.973,1429.79 851.123,1423.01 872.272,1415.72 893.422,1408.12 914.572,1400.37 935.722,1392.61 956.871,1384.92 978.021,1377.4 999.171,1370.1 1020.32,1363.06 1041.47,1356.32 1062.62,1349.89 1083.77,1343.78 1104.92,1338.01 1126.07,1332.58 1147.22,1327.47 1168.37,1322.69 1189.52,1318.21 1210.67,1314.04 1231.82,1310.16 1252.97,1306.55 1274.12,1303.2 1295.27,1300.1 1316.42,1297.22 1337.57,1294.57 1358.72,1292.11 1379.87,1289.85 1401.02,1287.76 1422.17,1285.83 1443.32,1284.06 1464.47,1282.43 1485.62,1280.92 1506.77,1279.53 1527.92,1278.26 1549.06,1277.08 1570.21,1276 1591.36,1275 1612.51,1274.08 1633.66,1273.23 1654.81,1272.45 1675.96,1271.73 1697.11,1271.06 1718.26,1270.45 1739.41,1269.88 1760.56,1269.35 1781.71,1268.86 1802.86,1268.41 1824.01,1267.98 1845.16,1267.59 1866.31,1267.23 1887.46,1266.9 1908.61,1266.58 1929.76,1266.29 1950.91,1266.02 1972.06,1265.77 1993.21,1265.54 2014.36,1265.33 2035.51,1265.13 2056.66,1264.95 2077.81,1264.78 2098.96,1264.63 2120.11,1264.49 2141.26,1264.37 2162.41,1264.27 2183.56,1264.18 2204.71,1264.1 2225.86,1264.04 2247.01,1263.99 2268.16,1263.96 2289.31,1263.93 \"/>\n",
       "<polyline clip-path=\"url(#clip812)\" style=\"stroke:#e26f46; stroke-linecap:round; stroke-linejoin:round; stroke-width:4; stroke-opacity:1; fill:none\" points=\"174.33,1263.31 195.48,1271.05 216.63,1291.53 237.779,1319.59 258.929,1350.66 280.079,1380.87 301.229,1407.05 322.379,1426.69 343.528,1437.74 364.678,1438.35 385.828,1426.61 406.978,1400.19 428.127,1355.91 449.277,1289.65 470.427,1197.74 491.577,1081.66 512.726,952.902 533.876,828.283 555.026,719.239 576.176,628.667 597.325,554.376 618.475,492.713 639.625,440.381 660.775,394.973 681.925,354.915 703.074,319.24 724.224,287.367 745.374,258.927 766.524,233.658 787.673,211.336 808.823,191.747 829.973,174.671 851.123,159.886 872.272,147.168 893.422,136.301 914.572,127.074 935.722,119.292 956.871,112.775 978.021,107.358 999.171,102.892 1020.32,99.2461 1041.47,96.3014 1062.62,93.9551 1083.77,92.1163 1104.92,90.706 1126.07,89.6553 1147.22,88.9048 1168.37,88.4031 1189.52,88.1062 1210.67,87.9763 1231.82,87.9811 1252.97,88.0933 1274.12,88.2898 1295.27,88.5509 1316.42,88.8603 1337.57,89.2045 1358.72,89.572 1379.87,89.9536 1401.02,90.3417 1422.17,90.7301 1443.32,91.1141 1464.47,91.4896 1485.62,91.8539 1506.77,92.2046 1527.92,92.5401 1549.06,92.8595 1570.21,93.1619 1591.36,93.447 1612.51,93.7148 1633.66,93.9654 1654.81,94.1991 1675.96,94.4165 1697.11,94.6179 1718.26,94.8041 1739.41,94.9757 1760.56,95.1334 1781.71,95.2778 1802.86,95.4098 1824.01,95.53 1845.16,95.639 1866.31,95.7376 1887.46,95.8263 1908.61,95.906 1929.76,95.977 1950.91,96.0401 1972.06,96.0959 1993.21,96.1448 2014.36,96.1875 2035.51,96.2246 2056.66,96.2567 2077.81,96.2843 2098.96,96.3081 2120.11,96.3287 2141.26,96.3468 2162.41,96.3631 2183.56,96.3783 2204.71,96.3927 2225.86,96.4068 2247.01,96.4204 2268.16,96.4327 2289.31,96.4415 \"/>\n",
       "<path clip-path=\"url(#clip810)\" d=\"M185.61 250.738 L462.228 250.738 L462.228 95.2176 L185.61 95.2176  Z\" fill=\"#ffffff\" fill-rule=\"evenodd\" fill-opacity=\"1\"/>\n",
       "<polyline clip-path=\"url(#clip810)\" style=\"stroke:#000000; stroke-linecap:round; stroke-linejoin:round; stroke-width:4; stroke-opacity:1; fill:none\" points=\"185.61,250.738 462.228,250.738 462.228,95.2176 185.61,95.2176 185.61,250.738 \"/>\n",
       "<polyline clip-path=\"url(#clip810)\" style=\"stroke:#009af9; stroke-linecap:round; stroke-linejoin:round; stroke-width:4; stroke-opacity:1; fill:none\" points=\"210.52,147.058 359.978,147.058 \"/>\n",
       "<path clip-path=\"url(#clip810)\" d=\"M398.73 166.745 Q396.925 171.375 395.212 172.787 Q393.499 174.199 390.629 174.199 L387.226 174.199 L387.226 170.634 L389.726 170.634 Q391.485 170.634 392.457 169.8 Q393.429 168.967 394.61 165.865 L395.374 163.921 L384.888 138.412 L389.402 138.412 L397.504 158.689 L405.605 138.412 L410.119 138.412 L398.73 166.745 Z\" fill=\"#000000\" fill-rule=\"nonzero\" fill-opacity=\"1\" /><path clip-path=\"url(#clip810)\" d=\"M417.411 160.402 L425.05 160.402 L425.05 134.037 L416.74 135.703 L416.74 131.444 L425.003 129.778 L429.679 129.778 L429.679 160.402 L437.318 160.402 L437.318 164.338 L417.411 164.338 L417.411 160.402 Z\" fill=\"#000000\" fill-rule=\"nonzero\" fill-opacity=\"1\" /><polyline clip-path=\"url(#clip810)\" style=\"stroke:#e26f46; stroke-linecap:round; stroke-linejoin:round; stroke-width:4; stroke-opacity:1; fill:none\" points=\"210.52,198.898 359.978,198.898 \"/>\n",
       "<path clip-path=\"url(#clip810)\" d=\"M398.73 218.585 Q396.925 223.215 395.212 224.627 Q393.499 226.039 390.629 226.039 L387.226 226.039 L387.226 222.474 L389.726 222.474 Q391.485 222.474 392.457 221.64 Q393.429 220.807 394.61 217.705 L395.374 215.761 L384.888 190.252 L389.402 190.252 L397.504 210.529 L405.605 190.252 L410.119 190.252 L398.73 218.585 Z\" fill=\"#000000\" fill-rule=\"nonzero\" fill-opacity=\"1\" /><path clip-path=\"url(#clip810)\" d=\"M420.628 212.242 L436.948 212.242 L436.948 216.178 L415.003 216.178 L415.003 212.242 Q417.665 209.488 422.249 204.858 Q426.855 200.205 428.036 198.863 Q430.281 196.34 431.161 194.604 Q432.064 192.844 432.064 191.155 Q432.064 188.4 430.119 186.664 Q428.198 184.928 425.096 184.928 Q422.897 184.928 420.443 185.692 Q418.013 186.455 415.235 188.006 L415.235 183.284 Q418.059 182.15 420.513 181.571 Q422.966 180.993 425.003 180.993 Q430.374 180.993 433.568 183.678 Q436.763 186.363 436.763 190.854 Q436.763 192.983 435.952 194.905 Q435.165 196.803 433.059 199.395 Q432.48 200.067 429.378 203.284 Q426.277 206.479 420.628 212.242 Z\" fill=\"#000000\" fill-rule=\"nonzero\" fill-opacity=\"1\" /></svg>\n"
      ]
     },
     "execution_count": 22,
     "metadata": {},
     "output_type": "execute_result"
    }
   ],
   "source": [
    "plot(thist,xtraj[1,:])\n",
    "plot!(thist,xtraj[2,:])"
   ]
  },
  {
   "cell_type": "code",
   "execution_count": 23,
   "id": "bdbbb5b1-74ce-4871-90b5-bbb26bc0563a",
   "metadata": {},
   "outputs": [
    {
     "data": {
      "image/svg+xml": [
       "<?xml version=\"1.0\" encoding=\"utf-8\"?>\n",
       "<svg xmlns=\"http://www.w3.org/2000/svg\" xmlns:xlink=\"http://www.w3.org/1999/xlink\" width=\"600\" height=\"400\" viewBox=\"0 0 2400 1600\">\n",
       "<defs>\n",
       "  <clipPath id=\"clip850\">\n",
       "    <rect x=\"0\" y=\"0\" width=\"2400\" height=\"1600\"/>\n",
       "  </clipPath>\n",
       "</defs>\n",
       "<path clip-path=\"url(#clip850)\" d=\"M0 1600 L2400 1600 L2400 0 L0 0  Z\" fill=\"#ffffff\" fill-rule=\"evenodd\" fill-opacity=\"1\"/>\n",
       "<defs>\n",
       "  <clipPath id=\"clip851\">\n",
       "    <rect x=\"480\" y=\"0\" width=\"1681\" height=\"1600\"/>\n",
       "  </clipPath>\n",
       "</defs>\n",
       "<path clip-path=\"url(#clip850)\" d=\"M178.867 1486.45 L2352.76 1486.45 L2352.76 47.2441 L178.867 47.2441  Z\" fill=\"#ffffff\" fill-rule=\"evenodd\" fill-opacity=\"1\"/>\n",
       "<defs>\n",
       "  <clipPath id=\"clip852\">\n",
       "    <rect x=\"178\" y=\"47\" width=\"2175\" height=\"1440\"/>\n",
       "  </clipPath>\n",
       "</defs>\n",
       "<polyline clip-path=\"url(#clip852)\" style=\"stroke:#000000; stroke-linecap:round; stroke-linejoin:round; stroke-width:2; stroke-opacity:0.1; fill:none\" points=\"240.392,1486.45 240.392,47.2441 \"/>\n",
       "<polyline clip-path=\"url(#clip852)\" style=\"stroke:#000000; stroke-linecap:round; stroke-linejoin:round; stroke-width:2; stroke-opacity:0.1; fill:none\" points=\"654.703,1486.45 654.703,47.2441 \"/>\n",
       "<polyline clip-path=\"url(#clip852)\" style=\"stroke:#000000; stroke-linecap:round; stroke-linejoin:round; stroke-width:2; stroke-opacity:0.1; fill:none\" points=\"1069.01,1486.45 1069.01,47.2441 \"/>\n",
       "<polyline clip-path=\"url(#clip852)\" style=\"stroke:#000000; stroke-linecap:round; stroke-linejoin:round; stroke-width:2; stroke-opacity:0.1; fill:none\" points=\"1483.32,1486.45 1483.32,47.2441 \"/>\n",
       "<polyline clip-path=\"url(#clip852)\" style=\"stroke:#000000; stroke-linecap:round; stroke-linejoin:round; stroke-width:2; stroke-opacity:0.1; fill:none\" points=\"1897.64,1486.45 1897.64,47.2441 \"/>\n",
       "<polyline clip-path=\"url(#clip852)\" style=\"stroke:#000000; stroke-linecap:round; stroke-linejoin:round; stroke-width:2; stroke-opacity:0.1; fill:none\" points=\"2311.95,1486.45 2311.95,47.2441 \"/>\n",
       "<polyline clip-path=\"url(#clip850)\" style=\"stroke:#000000; stroke-linecap:round; stroke-linejoin:round; stroke-width:4; stroke-opacity:1; fill:none\" points=\"178.867,1486.45 2352.76,1486.45 \"/>\n",
       "<polyline clip-path=\"url(#clip850)\" style=\"stroke:#000000; stroke-linecap:round; stroke-linejoin:round; stroke-width:4; stroke-opacity:1; fill:none\" points=\"240.392,1486.45 240.392,1467.55 \"/>\n",
       "<polyline clip-path=\"url(#clip850)\" style=\"stroke:#000000; stroke-linecap:round; stroke-linejoin:round; stroke-width:4; stroke-opacity:1; fill:none\" points=\"654.703,1486.45 654.703,1467.55 \"/>\n",
       "<polyline clip-path=\"url(#clip850)\" style=\"stroke:#000000; stroke-linecap:round; stroke-linejoin:round; stroke-width:4; stroke-opacity:1; fill:none\" points=\"1069.01,1486.45 1069.01,1467.55 \"/>\n",
       "<polyline clip-path=\"url(#clip850)\" style=\"stroke:#000000; stroke-linecap:round; stroke-linejoin:round; stroke-width:4; stroke-opacity:1; fill:none\" points=\"1483.32,1486.45 1483.32,1467.55 \"/>\n",
       "<polyline clip-path=\"url(#clip850)\" style=\"stroke:#000000; stroke-linecap:round; stroke-linejoin:round; stroke-width:4; stroke-opacity:1; fill:none\" points=\"1897.64,1486.45 1897.64,1467.55 \"/>\n",
       "<polyline clip-path=\"url(#clip850)\" style=\"stroke:#000000; stroke-linecap:round; stroke-linejoin:round; stroke-width:4; stroke-opacity:1; fill:none\" points=\"2311.95,1486.45 2311.95,1467.55 \"/>\n",
       "<path clip-path=\"url(#clip850)\" d=\"M240.392 1517.37 Q236.781 1517.37 234.952 1520.93 Q233.146 1524.47 233.146 1531.6 Q233.146 1538.71 234.952 1542.27 Q236.781 1545.82 240.392 1545.82 Q244.026 1545.82 245.832 1542.27 Q247.66 1538.71 247.66 1531.6 Q247.66 1524.47 245.832 1520.93 Q244.026 1517.37 240.392 1517.37 M240.392 1513.66 Q246.202 1513.66 249.257 1518.27 Q252.336 1522.85 252.336 1531.6 Q252.336 1540.33 249.257 1544.94 Q246.202 1549.52 240.392 1549.52 Q234.582 1549.52 231.503 1544.94 Q228.447 1540.33 228.447 1531.6 Q228.447 1522.85 231.503 1518.27 Q234.582 1513.66 240.392 1513.66 Z\" fill=\"#000000\" fill-rule=\"nonzero\" fill-opacity=\"1\" /><path clip-path=\"url(#clip850)\" d=\"M645.085 1544.91 L652.724 1544.91 L652.724 1518.55 L644.413 1520.21 L644.413 1515.95 L652.677 1514.29 L657.353 1514.29 L657.353 1544.91 L664.992 1544.91 L664.992 1548.85 L645.085 1548.85 L645.085 1544.91 Z\" fill=\"#000000\" fill-rule=\"nonzero\" fill-opacity=\"1\" /><path clip-path=\"url(#clip850)\" d=\"M1063.67 1544.91 L1079.99 1544.91 L1079.99 1548.85 L1058.04 1548.85 L1058.04 1544.91 Q1060.7 1542.16 1065.29 1537.53 Q1069.89 1532.88 1071.07 1531.53 Q1073.32 1529.01 1074.2 1527.27 Q1075.1 1525.51 1075.1 1523.82 Q1075.1 1521.07 1073.16 1519.33 Q1071.24 1517.6 1068.13 1517.6 Q1065.93 1517.6 1063.48 1518.36 Q1061.05 1519.13 1058.27 1520.68 L1058.27 1515.95 Q1061.1 1514.82 1063.55 1514.24 Q1066 1513.66 1068.04 1513.66 Q1073.41 1513.66 1076.61 1516.35 Q1079.8 1519.03 1079.8 1523.52 Q1079.8 1525.65 1078.99 1527.57 Q1078.2 1529.47 1076.1 1532.07 Q1075.52 1532.74 1072.42 1535.95 Q1069.31 1539.15 1063.67 1544.91 Z\" fill=\"#000000\" fill-rule=\"nonzero\" fill-opacity=\"1\" /><path clip-path=\"url(#clip850)\" d=\"M1487.57 1530.21 Q1490.93 1530.93 1492.8 1533.2 Q1494.7 1535.47 1494.7 1538.8 Q1494.7 1543.92 1491.18 1546.72 Q1487.66 1549.52 1481.18 1549.52 Q1479.01 1549.52 1476.69 1549.08 Q1474.4 1548.66 1471.95 1547.81 L1471.95 1543.29 Q1473.89 1544.43 1476.21 1545.01 Q1478.52 1545.58 1481.04 1545.58 Q1485.44 1545.58 1487.73 1543.85 Q1490.05 1542.11 1490.05 1538.8 Q1490.05 1535.75 1487.9 1534.03 Q1485.77 1532.3 1481.95 1532.3 L1477.92 1532.3 L1477.92 1528.45 L1482.13 1528.45 Q1485.58 1528.45 1487.41 1527.09 Q1489.24 1525.7 1489.24 1523.11 Q1489.24 1520.45 1487.34 1519.03 Q1485.47 1517.6 1481.95 1517.6 Q1480.03 1517.6 1477.83 1518.01 Q1475.63 1518.43 1472.99 1519.31 L1472.99 1515.14 Q1475.65 1514.4 1477.97 1514.03 Q1480.3 1513.66 1482.36 1513.66 Q1487.69 1513.66 1490.79 1516.09 Q1493.89 1518.5 1493.89 1522.62 Q1493.89 1525.49 1492.25 1527.48 Q1490.6 1529.45 1487.57 1530.21 Z\" fill=\"#000000\" fill-rule=\"nonzero\" fill-opacity=\"1\" /><path clip-path=\"url(#clip850)\" d=\"M1900.64 1518.36 L1888.84 1536.81 L1900.64 1536.81 L1900.64 1518.36 M1899.42 1514.29 L1905.3 1514.29 L1905.3 1536.81 L1910.23 1536.81 L1910.23 1540.7 L1905.3 1540.7 L1905.3 1548.85 L1900.64 1548.85 L1900.64 1540.7 L1885.04 1540.7 L1885.04 1536.19 L1899.42 1514.29 Z\" fill=\"#000000\" fill-rule=\"nonzero\" fill-opacity=\"1\" /><path clip-path=\"url(#clip850)\" d=\"M2302.22 1514.29 L2320.58 1514.29 L2320.58 1518.22 L2306.51 1518.22 L2306.51 1526.7 Q2307.53 1526.35 2308.54 1526.19 Q2309.56 1526 2310.58 1526 Q2316.37 1526 2319.75 1529.17 Q2323.13 1532.34 2323.13 1537.76 Q2323.13 1543.34 2319.65 1546.44 Q2316.18 1549.52 2309.86 1549.52 Q2307.69 1549.52 2305.42 1549.15 Q2303.17 1548.78 2300.77 1548.04 L2300.77 1543.34 Q2302.85 1544.47 2305.07 1545.03 Q2307.29 1545.58 2309.77 1545.58 Q2313.77 1545.58 2316.11 1543.48 Q2318.45 1541.37 2318.45 1537.76 Q2318.45 1534.15 2316.11 1532.04 Q2313.77 1529.94 2309.77 1529.94 Q2307.9 1529.94 2306.02 1530.35 Q2304.17 1530.77 2302.22 1531.65 L2302.22 1514.29 Z\" fill=\"#000000\" fill-rule=\"nonzero\" fill-opacity=\"1\" /><polyline clip-path=\"url(#clip852)\" style=\"stroke:#000000; stroke-linecap:round; stroke-linejoin:round; stroke-width:2; stroke-opacity:0.1; fill:none\" points=\"178.867,1318.23 2352.76,1318.23 \"/>\n",
       "<polyline clip-path=\"url(#clip852)\" style=\"stroke:#000000; stroke-linecap:round; stroke-linejoin:round; stroke-width:2; stroke-opacity:0.1; fill:none\" points=\"178.867,1057.37 2352.76,1057.37 \"/>\n",
       "<polyline clip-path=\"url(#clip852)\" style=\"stroke:#000000; stroke-linecap:round; stroke-linejoin:round; stroke-width:2; stroke-opacity:0.1; fill:none\" points=\"178.867,796.524 2352.76,796.524 \"/>\n",
       "<polyline clip-path=\"url(#clip852)\" style=\"stroke:#000000; stroke-linecap:round; stroke-linejoin:round; stroke-width:2; stroke-opacity:0.1; fill:none\" points=\"178.867,535.673 2352.76,535.673 \"/>\n",
       "<polyline clip-path=\"url(#clip852)\" style=\"stroke:#000000; stroke-linecap:round; stroke-linejoin:round; stroke-width:2; stroke-opacity:0.1; fill:none\" points=\"178.867,274.821 2352.76,274.821 \"/>\n",
       "<polyline clip-path=\"url(#clip850)\" style=\"stroke:#000000; stroke-linecap:round; stroke-linejoin:round; stroke-width:4; stroke-opacity:1; fill:none\" points=\"178.867,1486.45 178.867,47.2441 \"/>\n",
       "<polyline clip-path=\"url(#clip850)\" style=\"stroke:#000000; stroke-linecap:round; stroke-linejoin:round; stroke-width:4; stroke-opacity:1; fill:none\" points=\"178.867,1318.23 197.764,1318.23 \"/>\n",
       "<polyline clip-path=\"url(#clip850)\" style=\"stroke:#000000; stroke-linecap:round; stroke-linejoin:round; stroke-width:4; stroke-opacity:1; fill:none\" points=\"178.867,1057.37 197.764,1057.37 \"/>\n",
       "<polyline clip-path=\"url(#clip850)\" style=\"stroke:#000000; stroke-linecap:round; stroke-linejoin:round; stroke-width:4; stroke-opacity:1; fill:none\" points=\"178.867,796.524 197.764,796.524 \"/>\n",
       "<polyline clip-path=\"url(#clip850)\" style=\"stroke:#000000; stroke-linecap:round; stroke-linejoin:round; stroke-width:4; stroke-opacity:1; fill:none\" points=\"178.867,535.673 197.764,535.673 \"/>\n",
       "<polyline clip-path=\"url(#clip850)\" style=\"stroke:#000000; stroke-linecap:round; stroke-linejoin:round; stroke-width:4; stroke-opacity:1; fill:none\" points=\"178.867,274.821 197.764,274.821 \"/>\n",
       "<path clip-path=\"url(#clip850)\" d=\"M51.9875 1318.68 L81.6633 1318.68 L81.6633 1322.61 L51.9875 1322.61 L51.9875 1318.68 Z\" fill=\"#000000\" fill-rule=\"nonzero\" fill-opacity=\"1\" /><path clip-path=\"url(#clip850)\" d=\"M92.566 1331.57 L100.205 1331.57 L100.205 1305.2 L91.8947 1306.87 L91.8947 1302.61 L100.159 1300.95 L104.834 1300.95 L104.834 1331.57 L112.473 1331.57 L112.473 1335.51 L92.566 1335.51 L92.566 1331.57 Z\" fill=\"#000000\" fill-rule=\"nonzero\" fill-opacity=\"1\" /><path clip-path=\"url(#clip850)\" d=\"M121.964 1300.95 L140.32 1300.95 L140.32 1304.88 L126.246 1304.88 L126.246 1313.35 Q127.265 1313.01 128.283 1312.84 Q129.302 1312.66 130.32 1312.66 Q136.107 1312.66 139.487 1315.83 Q142.867 1319 142.867 1324.42 Q142.867 1330 139.394 1333.1 Q135.922 1336.18 129.603 1336.18 Q127.427 1336.18 125.158 1335.81 Q122.913 1335.44 120.506 1334.7 L120.506 1330 Q122.589 1331.13 124.811 1331.69 Q127.033 1332.24 129.51 1332.24 Q133.515 1332.24 135.853 1330.14 Q138.191 1328.03 138.191 1324.42 Q138.191 1320.81 135.853 1318.7 Q133.515 1316.59 129.51 1316.59 Q127.635 1316.59 125.76 1317.01 Q123.908 1317.43 121.964 1318.31 L121.964 1300.95 Z\" fill=\"#000000\" fill-rule=\"nonzero\" fill-opacity=\"1\" /><path clip-path=\"url(#clip850)\" d=\"M50.9921 1057.83 L80.6679 1057.83 L80.6679 1061.76 L50.9921 1061.76 L50.9921 1057.83 Z\" fill=\"#000000\" fill-rule=\"nonzero\" fill-opacity=\"1\" /><path clip-path=\"url(#clip850)\" d=\"M91.5706 1070.72 L99.2095 1070.72 L99.2095 1044.35 L90.8993 1046.02 L90.8993 1041.76 L99.1632 1040.09 L103.839 1040.09 L103.839 1070.72 L111.478 1070.72 L111.478 1074.65 L91.5706 1074.65 L91.5706 1070.72 Z\" fill=\"#000000\" fill-rule=\"nonzero\" fill-opacity=\"1\" /><path clip-path=\"url(#clip850)\" d=\"M130.922 1043.17 Q127.311 1043.17 125.482 1046.74 Q123.677 1050.28 123.677 1057.41 Q123.677 1064.52 125.482 1068.08 Q127.311 1071.62 130.922 1071.62 Q134.556 1071.62 136.362 1068.08 Q138.191 1064.52 138.191 1057.41 Q138.191 1050.28 136.362 1046.74 Q134.556 1043.17 130.922 1043.17 M130.922 1039.47 Q136.732 1039.47 139.788 1044.08 Q142.867 1048.66 142.867 1057.41 Q142.867 1066.14 139.788 1070.74 Q136.732 1075.33 130.922 1075.33 Q125.112 1075.33 122.033 1070.74 Q118.978 1066.14 118.978 1057.41 Q118.978 1048.66 122.033 1044.08 Q125.112 1039.47 130.922 1039.47 Z\" fill=\"#000000\" fill-rule=\"nonzero\" fill-opacity=\"1\" /><path clip-path=\"url(#clip850)\" d=\"M82.1494 796.975 L111.825 796.975 L111.825 800.91 L82.1494 800.91 L82.1494 796.975 Z\" fill=\"#000000\" fill-rule=\"nonzero\" fill-opacity=\"1\" /><path clip-path=\"url(#clip850)\" d=\"M121.964 779.244 L140.32 779.244 L140.32 783.179 L126.246 783.179 L126.246 791.651 Q127.265 791.304 128.283 791.142 Q129.302 790.956 130.32 790.956 Q136.107 790.956 139.487 794.128 Q142.867 797.299 142.867 802.716 Q142.867 808.294 139.394 811.396 Q135.922 814.475 129.603 814.475 Q127.427 814.475 125.158 814.104 Q122.913 813.734 120.506 812.993 L120.506 808.294 Q122.589 809.429 124.811 809.984 Q127.033 810.54 129.51 810.54 Q133.515 810.54 135.853 808.433 Q138.191 806.327 138.191 802.716 Q138.191 799.105 135.853 796.998 Q133.515 794.892 129.51 794.892 Q127.635 794.892 125.76 795.308 Q123.908 795.725 121.964 796.605 L121.964 779.244 Z\" fill=\"#000000\" fill-rule=\"nonzero\" fill-opacity=\"1\" /><path clip-path=\"url(#clip850)\" d=\"M130.922 521.471 Q127.311 521.471 125.482 525.036 Q123.677 528.578 123.677 535.707 Q123.677 542.814 125.482 546.378 Q127.311 549.92 130.922 549.92 Q134.556 549.92 136.362 546.378 Q138.191 542.814 138.191 535.707 Q138.191 528.578 136.362 525.036 Q134.556 521.471 130.922 521.471 M130.922 517.768 Q136.732 517.768 139.788 522.374 Q142.867 526.957 142.867 535.707 Q142.867 544.434 139.788 549.04 Q136.732 553.624 130.922 553.624 Q125.112 553.624 122.033 549.04 Q118.978 544.434 118.978 535.707 Q118.978 526.957 122.033 522.374 Q125.112 517.768 130.922 517.768 Z\" fill=\"#000000\" fill-rule=\"nonzero\" fill-opacity=\"1\" /><path clip-path=\"url(#clip850)\" d=\"M121.964 257.541 L140.32 257.541 L140.32 261.477 L126.246 261.477 L126.246 269.949 Q127.265 269.602 128.283 269.44 Q129.302 269.254 130.32 269.254 Q136.107 269.254 139.487 272.426 Q142.867 275.597 142.867 281.014 Q142.867 286.592 139.394 289.694 Q135.922 292.773 129.603 292.773 Q127.427 292.773 125.158 292.402 Q122.913 292.032 120.506 291.291 L120.506 286.592 Q122.589 287.727 124.811 288.282 Q127.033 288.838 129.51 288.838 Q133.515 288.838 135.853 286.731 Q138.191 284.625 138.191 281.014 Q138.191 277.402 135.853 275.296 Q133.515 273.19 129.51 273.19 Q127.635 273.19 125.76 273.606 Q123.908 274.023 121.964 274.903 L121.964 257.541 Z\" fill=\"#000000\" fill-rule=\"nonzero\" fill-opacity=\"1\" /><polyline clip-path=\"url(#clip852)\" style=\"stroke:#009af9; stroke-linecap:round; stroke-linejoin:round; stroke-width:4; stroke-opacity:1; fill:none\" points=\"240.392,98.4878 261.107,226.576 281.823,320.061 302.538,386.891 323.254,434.625 343.97,471.066 364.685,504.165 385.401,541.907 406.116,592.591 426.832,665.402 447.547,770.783 468.263,919.143 488.978,1113.15 509.694,1322.9 530.409,1445.72 551.125,1338.42 571.841,999.763 592.556,606.703 613.272,310.47 633.987,147.124 654.703,87.9763 675.418,92.9019 696.134,130.952 716.849,182.675 737.565,237.145 758.28,288.781 778.996,335.104 799.712,375.334 820.427,409.572 841.143,438.323 861.858,462.242 882.574,482 903.289,498.22 924.005,511.454 944.72,522.178 965.436,530.801 986.151,537.666 1006.87,543.064 1027.58,547.241 1048.3,550.402 1069.01,552.724 1089.73,554.353 1110.44,555.414 1131.16,556.012 1151.88,556.236 1172.59,556.161 1193.31,555.85 1214.02,555.354 1234.74,554.72 1255.45,553.982 1276.17,553.172 1296.88,552.314 1317.6,551.429 1338.32,550.533 1359.03,549.641 1379.75,548.761 1400.46,547.904 1421.18,547.074 1441.89,546.277 1462.61,545.515 1483.32,544.791 1504.04,544.107 1524.76,543.462 1545.47,542.856 1566.19,542.29 1586.9,541.762 1607.62,541.27 1628.33,540.814 1649.05,540.392 1669.76,540.003 1690.48,539.644 1711.2,539.314 1731.91,539.012 1752.63,538.735 1773.34,538.483 1794.06,538.253 1814.77,538.044 1835.49,537.855 1856.2,537.685 1876.92,537.532 1897.64,537.395 1918.35,537.274 1939.07,537.166 1959.78,537.072 1980.5,536.99 2001.21,536.92 2021.93,536.86 2042.64,536.811 2063.36,536.771 2084.08,536.739 2104.79,536.715 2125.51,536.697 2146.22,536.684 2166.94,536.674 2187.65,536.665 2208.37,536.654 2229.08,536.635 2249.8,536.601 2270.52,536.541 2291.23,536.439 \"/>\n",
       "<path clip-path=\"url(#clip850)\" d=\"M2010.47 198.898 L2280.29 198.898 L2280.29 95.2176 L2010.47 95.2176  Z\" fill=\"#ffffff\" fill-rule=\"evenodd\" fill-opacity=\"1\"/>\n",
       "<polyline clip-path=\"url(#clip850)\" style=\"stroke:#000000; stroke-linecap:round; stroke-linejoin:round; stroke-width:4; stroke-opacity:1; fill:none\" points=\"2010.47,198.898 2280.29,198.898 2280.29,95.2176 2010.47,95.2176 2010.47,198.898 \"/>\n",
       "<polyline clip-path=\"url(#clip850)\" style=\"stroke:#009af9; stroke-linecap:round; stroke-linejoin:round; stroke-width:4; stroke-opacity:1; fill:none\" points=\"2034.63,147.058 2179.55,147.058 \"/>\n",
       "<path clip-path=\"url(#clip850)\" d=\"M2217.55 166.745 Q2215.75 171.375 2214.03 172.787 Q2212.32 174.199 2209.45 174.199 L2206.05 174.199 L2206.05 170.634 L2208.55 170.634 Q2210.31 170.634 2211.28 169.8 Q2212.25 168.967 2213.43 165.865 L2214.19 163.921 L2203.71 138.412 L2208.22 138.412 L2216.32 158.689 L2224.43 138.412 L2228.94 138.412 L2217.55 166.745 Z\" fill=\"#000000\" fill-rule=\"nonzero\" fill-opacity=\"1\" /><path clip-path=\"url(#clip850)\" d=\"M2236.23 160.402 L2243.87 160.402 L2243.87 134.037 L2235.56 135.703 L2235.56 131.444 L2243.82 129.778 L2248.5 129.778 L2248.5 160.402 L2256.14 160.402 L2256.14 164.338 L2236.23 164.338 L2236.23 160.402 Z\" fill=\"#000000\" fill-rule=\"nonzero\" fill-opacity=\"1\" /></svg>\n"
      ]
     },
     "execution_count": 23,
     "metadata": {},
     "output_type": "execute_result"
    }
   ],
   "source": [
    "plot(thist[1:Nt-1],utraj)"
   ]
  },
  {
   "cell_type": "code",
   "execution_count": 24,
   "id": "b3b01a32-134c-4e78-b069-a28a3ffe6761",
   "metadata": {},
   "outputs": [
    {
     "name": "stderr",
     "output_type": "stream",
     "text": [
      "\u001b[36m\u001b[1m┌ \u001b[22m\u001b[39m\u001b[36m\u001b[1mInfo: \u001b[22m\u001b[39mMeshCat server started. You can open the visualizer by visiting the following URL in your browser:\n",
      "\u001b[36m\u001b[1m└ \u001b[22m\u001b[39mhttp://127.0.0.1:8703\n"
     ]
    },
    {
     "data": {
      "text/html": [
       "    <div style=\"height: 500px; width: 100%; overflow-x: auto; overflow-y: hidden; resize: both\">\n",
       "    <iframe src=\"http://127.0.0.1:8703\" style=\"width: 100%; height: 100%; border: none\"></iframe>\n",
       "    </div>\n"
      ],
      "text/plain": [
       "MeshCat.DisplayedVisualizer(MeshCat.CoreVisualizer(MeshCat.SceneTrees.SceneNode(nothing, nothing, Dict{String, Vector{UInt8}}(), nothing, Dict{String, MeshCat.SceneTrees.SceneNode}()), Set{Any}(), ip\"127.0.0.1\", 8703))"
      ]
     },
     "execution_count": 24,
     "metadata": {},
     "output_type": "execute_result"
    }
   ],
   "source": [
    "using TrajOptPlots\n",
    "using MeshCat\n",
    "using StaticArrays\n",
    "\n",
    "vis = Visualizer()\n",
    "render(vis)"
   ]
  },
  {
   "cell_type": "code",
   "execution_count": 25,
   "id": "31e347dc-9350-4cff-a5c7-16508c18e713",
   "metadata": {},
   "outputs": [
    {
     "data": {
      "text/plain": [
       "MeshCat Visualizer with path /meshcat/robot/cart/pole at http://127.0.0.1:8703"
      ]
     },
     "execution_count": 25,
     "metadata": {},
     "output_type": "execute_result"
    }
   ],
   "source": [
    "TrajOptPlots.set_mesh!(vis, a)"
   ]
  },
  {
   "cell_type": "code",
   "execution_count": 26,
   "id": "2a5e2e1b-b5e0-4476-af92-6103d791b5b9",
   "metadata": {},
   "outputs": [],
   "source": [
    "X1 = [SVector{4}(x) for x in eachcol(xtraj)];\n",
    "visualize!(vis, a, thist[end], X1)"
   ]
  },
  {
   "cell_type": "markdown",
   "id": "5642ed90-8c5a-4cfe-bbf2-d43fe09e89b5",
   "metadata": {},
   "source": [
    "## DDP"
   ]
  },
  {
   "cell_type": "code",
   "execution_count": 29,
   "id": "c4f980d6-760a-4425-a7fe-82db9896d04e",
   "metadata": {},
   "outputs": [
    {
     "data": {
      "text/plain": [
       "987.0050919930886"
      ]
     },
     "execution_count": 29,
     "metadata": {},
     "output_type": "execute_result"
    }
   ],
   "source": [
    "#Initial guess\n",
    "x0 = [0; 0; 0; 0]\n",
    "xgoal = [0, pi, 0, 0]\n",
    "xtraj = kron(ones(1,Nt), x0)\n",
    "utraj = 0.001*ones(Nt-1);\n",
    "\n",
    "#Initial Rollout\n",
    "for k = 1:(Nt-1)\n",
    "    xtraj[:,k+1] .= dynamics_rk4(xtraj[:,k],utraj[k])\n",
    "end\n",
    "J = cost(xtraj,utraj)"
   ]
  },
  {
   "cell_type": "code",
   "execution_count": 30,
   "id": "1cc9eabf-0096-40fe-8c11-d3dc5f820e9f",
   "metadata": {},
   "outputs": [],
   "source": [
    "p = ones(Nx,Nt)\n",
    "P = zeros(Nx,Nx,Nt)\n",
    "d = ones(Nt-1)\n",
    "K = zeros(Nu,Nx,Nt-1)\n",
    "ΔJ = 1.0\n",
    "\n",
    "xn = zeros(Nx,Nt)\n",
    "un = zeros(Nt-1)\n",
    "\n",
    "gx = zeros(Nx)\n",
    "gu = 0.0\n",
    "Gxx = zeros(Nx,Nx)\n",
    "Guu = 0.0\n",
    "Gxu = zeros(Nx)\n",
    "Gux = zeros(Nx)\n",
    "\n",
    "iter = 0\n",
    "while maximum(abs.(d[:])) > 1e-3\n",
    "    iter += 1    \n",
    "    \n",
    "    #Backward Pass\n",
    "    ΔJ = backward_pass_ddp!(p,P,d,K)\n",
    "\n",
    "    #Forward rollout with line search\n",
    "    xn[:,1] = xtraj[:,1]\n",
    "    α = 1.0\n",
    "\n",
    "    for k = 1:(Nt-1)\n",
    "        un[k] = utraj[k] - α*d[k] - dot(K[:,:,k],xn[:,k]-xtraj[:,k])\n",
    "        xn[:,k+1] .= dynamics_rk4(xn[:,k],un[k])\n",
    "    end\n",
    "    Jn = cost(xn,un)\n",
    "    \n",
    "    while isnan(Jn) || Jn > (J - 1e-2*α*ΔJ)\n",
    "        α = 0.5*α\n",
    "        for k = 1:(Nt-1)\n",
    "            un[k] = utraj[k] - α*d[k] - dot(K[:,:,k],xn[:,k]-xtraj[:,k])\n",
    "            xn[:,k+1] .= dynamics_rk4(xn[:,k],un[k])\n",
    "        end\n",
    "        Jn = cost(xn,un)\n",
    "    end\n",
    "    \n",
    "    J = Jn\n",
    "    xtraj .= xn\n",
    "    utraj .= un\n",
    "end"
   ]
  },
  {
   "cell_type": "code",
   "execution_count": 31,
   "id": "aba92a80-e083-47d4-b41a-ff1281eedc6f",
   "metadata": {},
   "outputs": [
    {
     "data": {
      "text/plain": [
       "(552, 363.8368176989669)"
      ]
     },
     "execution_count": 31,
     "metadata": {},
     "output_type": "execute_result"
    }
   ],
   "source": [
    "iter, J"
   ]
  },
  {
   "cell_type": "code",
   "execution_count": 32,
   "id": "24a7bdfb-feec-49ea-b946-9d4745f922a2",
   "metadata": {},
   "outputs": [
    {
     "data": {
      "image/svg+xml": [
       "<?xml version=\"1.0\" encoding=\"utf-8\"?>\n",
       "<svg xmlns=\"http://www.w3.org/2000/svg\" xmlns:xlink=\"http://www.w3.org/1999/xlink\" width=\"600\" height=\"400\" viewBox=\"0 0 2400 1600\">\n",
       "<defs>\n",
       "  <clipPath id=\"clip890\">\n",
       "    <rect x=\"0\" y=\"0\" width=\"2400\" height=\"1600\"/>\n",
       "  </clipPath>\n",
       "</defs>\n",
       "<path clip-path=\"url(#clip890)\" d=\"M0 1600 L2400 1600 L2400 0 L0 0  Z\" fill=\"#ffffff\" fill-rule=\"evenodd\" fill-opacity=\"1\"/>\n",
       "<defs>\n",
       "  <clipPath id=\"clip891\">\n",
       "    <rect x=\"480\" y=\"0\" width=\"1681\" height=\"1600\"/>\n",
       "  </clipPath>\n",
       "</defs>\n",
       "<path clip-path=\"url(#clip890)\" d=\"M110.881 1486.45 L2352.76 1486.45 L2352.76 47.2441 L110.881 47.2441  Z\" fill=\"#ffffff\" fill-rule=\"evenodd\" fill-opacity=\"1\"/>\n",
       "<defs>\n",
       "  <clipPath id=\"clip892\">\n",
       "    <rect x=\"110\" y=\"47\" width=\"2243\" height=\"1440\"/>\n",
       "  </clipPath>\n",
       "</defs>\n",
       "<polyline clip-path=\"url(#clip892)\" style=\"stroke:#000000; stroke-linecap:round; stroke-linejoin:round; stroke-width:2; stroke-opacity:0.1; fill:none\" points=\"174.33,1486.45 174.33,47.2441 \"/>\n",
       "<polyline clip-path=\"url(#clip892)\" style=\"stroke:#000000; stroke-linecap:round; stroke-linejoin:round; stroke-width:2; stroke-opacity:0.1; fill:none\" points=\"597.325,1486.45 597.325,47.2441 \"/>\n",
       "<polyline clip-path=\"url(#clip892)\" style=\"stroke:#000000; stroke-linecap:round; stroke-linejoin:round; stroke-width:2; stroke-opacity:0.1; fill:none\" points=\"1020.32,1486.45 1020.32,47.2441 \"/>\n",
       "<polyline clip-path=\"url(#clip892)\" style=\"stroke:#000000; stroke-linecap:round; stroke-linejoin:round; stroke-width:2; stroke-opacity:0.1; fill:none\" points=\"1443.32,1486.45 1443.32,47.2441 \"/>\n",
       "<polyline clip-path=\"url(#clip892)\" style=\"stroke:#000000; stroke-linecap:round; stroke-linejoin:round; stroke-width:2; stroke-opacity:0.1; fill:none\" points=\"1866.31,1486.45 1866.31,47.2441 \"/>\n",
       "<polyline clip-path=\"url(#clip892)\" style=\"stroke:#000000; stroke-linecap:round; stroke-linejoin:round; stroke-width:2; stroke-opacity:0.1; fill:none\" points=\"2289.31,1486.45 2289.31,47.2441 \"/>\n",
       "<polyline clip-path=\"url(#clip890)\" style=\"stroke:#000000; stroke-linecap:round; stroke-linejoin:round; stroke-width:4; stroke-opacity:1; fill:none\" points=\"110.881,1486.45 2352.76,1486.45 \"/>\n",
       "<polyline clip-path=\"url(#clip890)\" style=\"stroke:#000000; stroke-linecap:round; stroke-linejoin:round; stroke-width:4; stroke-opacity:1; fill:none\" points=\"174.33,1486.45 174.33,1467.55 \"/>\n",
       "<polyline clip-path=\"url(#clip890)\" style=\"stroke:#000000; stroke-linecap:round; stroke-linejoin:round; stroke-width:4; stroke-opacity:1; fill:none\" points=\"597.325,1486.45 597.325,1467.55 \"/>\n",
       "<polyline clip-path=\"url(#clip890)\" style=\"stroke:#000000; stroke-linecap:round; stroke-linejoin:round; stroke-width:4; stroke-opacity:1; fill:none\" points=\"1020.32,1486.45 1020.32,1467.55 \"/>\n",
       "<polyline clip-path=\"url(#clip890)\" style=\"stroke:#000000; stroke-linecap:round; stroke-linejoin:round; stroke-width:4; stroke-opacity:1; fill:none\" points=\"1443.32,1486.45 1443.32,1467.55 \"/>\n",
       "<polyline clip-path=\"url(#clip890)\" style=\"stroke:#000000; stroke-linecap:round; stroke-linejoin:round; stroke-width:4; stroke-opacity:1; fill:none\" points=\"1866.31,1486.45 1866.31,1467.55 \"/>\n",
       "<polyline clip-path=\"url(#clip890)\" style=\"stroke:#000000; stroke-linecap:round; stroke-linejoin:round; stroke-width:4; stroke-opacity:1; fill:none\" points=\"2289.31,1486.45 2289.31,1467.55 \"/>\n",
       "<path clip-path=\"url(#clip890)\" d=\"M174.33 1517.37 Q170.719 1517.37 168.89 1520.93 Q167.085 1524.47 167.085 1531.6 Q167.085 1538.71 168.89 1542.27 Q170.719 1545.82 174.33 1545.82 Q177.964 1545.82 179.77 1542.27 Q181.599 1538.71 181.599 1531.6 Q181.599 1524.47 179.77 1520.93 Q177.964 1517.37 174.33 1517.37 M174.33 1513.66 Q180.14 1513.66 183.196 1518.27 Q186.275 1522.85 186.275 1531.6 Q186.275 1540.33 183.196 1544.94 Q180.14 1549.52 174.33 1549.52 Q168.52 1549.52 165.441 1544.94 Q162.386 1540.33 162.386 1531.6 Q162.386 1522.85 165.441 1518.27 Q168.52 1513.66 174.33 1513.66 Z\" fill=\"#000000\" fill-rule=\"nonzero\" fill-opacity=\"1\" /><path clip-path=\"url(#clip890)\" d=\"M587.707 1544.91 L595.346 1544.91 L595.346 1518.55 L587.036 1520.21 L587.036 1515.95 L595.3 1514.29 L599.976 1514.29 L599.976 1544.91 L607.615 1544.91 L607.615 1548.85 L587.707 1548.85 L587.707 1544.91 Z\" fill=\"#000000\" fill-rule=\"nonzero\" fill-opacity=\"1\" /><path clip-path=\"url(#clip890)\" d=\"M1014.97 1544.91 L1031.29 1544.91 L1031.29 1548.85 L1009.35 1548.85 L1009.35 1544.91 Q1012.01 1542.16 1016.59 1537.53 Q1021.2 1532.88 1022.38 1531.53 Q1024.63 1529.01 1025.51 1527.27 Q1026.41 1525.51 1026.41 1523.82 Q1026.41 1521.07 1024.46 1519.33 Q1022.54 1517.6 1019.44 1517.6 Q1017.24 1517.6 1014.79 1518.36 Q1012.36 1519.13 1009.58 1520.68 L1009.58 1515.95 Q1012.4 1514.82 1014.86 1514.24 Q1017.31 1513.66 1019.35 1513.66 Q1024.72 1513.66 1027.91 1516.35 Q1031.11 1519.03 1031.11 1523.52 Q1031.11 1525.65 1030.3 1527.57 Q1029.51 1529.47 1027.4 1532.07 Q1026.83 1532.74 1023.72 1535.95 Q1020.62 1539.15 1014.97 1544.91 Z\" fill=\"#000000\" fill-rule=\"nonzero\" fill-opacity=\"1\" /><path clip-path=\"url(#clip890)\" d=\"M1447.56 1530.21 Q1450.92 1530.93 1452.8 1533.2 Q1454.69 1535.47 1454.69 1538.8 Q1454.69 1543.92 1451.17 1546.72 Q1447.66 1549.52 1441.17 1549.52 Q1439 1549.52 1436.68 1549.08 Q1434.39 1548.66 1431.94 1547.81 L1431.94 1543.29 Q1433.88 1544.43 1436.2 1545.01 Q1438.51 1545.58 1441.04 1545.58 Q1445.43 1545.58 1447.73 1543.85 Q1450.04 1542.11 1450.04 1538.8 Q1450.04 1535.75 1447.89 1534.03 Q1445.76 1532.3 1441.94 1532.3 L1437.91 1532.3 L1437.91 1528.45 L1442.12 1528.45 Q1445.57 1528.45 1447.4 1527.09 Q1449.23 1525.7 1449.23 1523.11 Q1449.23 1520.45 1447.33 1519.03 Q1445.46 1517.6 1441.94 1517.6 Q1440.02 1517.6 1437.82 1518.01 Q1435.62 1518.43 1432.98 1519.31 L1432.98 1515.14 Q1435.64 1514.4 1437.96 1514.03 Q1440.3 1513.66 1442.36 1513.66 Q1447.68 1513.66 1450.78 1516.09 Q1453.88 1518.5 1453.88 1522.62 Q1453.88 1525.49 1452.24 1527.48 Q1450.6 1529.45 1447.56 1530.21 Z\" fill=\"#000000\" fill-rule=\"nonzero\" fill-opacity=\"1\" /><path clip-path=\"url(#clip890)\" d=\"M1869.32 1518.36 L1857.52 1536.81 L1869.32 1536.81 L1869.32 1518.36 M1868.09 1514.29 L1873.97 1514.29 L1873.97 1536.81 L1878.9 1536.81 L1878.9 1540.7 L1873.97 1540.7 L1873.97 1548.85 L1869.32 1548.85 L1869.32 1540.7 L1853.72 1540.7 L1853.72 1536.19 L1868.09 1514.29 Z\" fill=\"#000000\" fill-rule=\"nonzero\" fill-opacity=\"1\" /><path clip-path=\"url(#clip890)\" d=\"M2279.58 1514.29 L2297.94 1514.29 L2297.94 1518.22 L2283.87 1518.22 L2283.87 1526.7 Q2284.89 1526.35 2285.9 1526.19 Q2286.92 1526 2287.94 1526 Q2293.73 1526 2297.11 1529.17 Q2300.49 1532.34 2300.49 1537.76 Q2300.49 1543.34 2297.01 1546.44 Q2293.54 1549.52 2287.22 1549.52 Q2285.05 1549.52 2282.78 1549.15 Q2280.53 1548.78 2278.13 1548.04 L2278.13 1543.34 Q2280.21 1544.47 2282.43 1545.03 Q2284.65 1545.58 2287.13 1545.58 Q2291.14 1545.58 2293.47 1543.48 Q2295.81 1541.37 2295.81 1537.76 Q2295.81 1534.15 2293.47 1532.04 Q2291.14 1529.94 2287.13 1529.94 Q2285.26 1529.94 2283.38 1530.35 Q2281.53 1530.77 2279.58 1531.65 L2279.58 1514.29 Z\" fill=\"#000000\" fill-rule=\"nonzero\" fill-opacity=\"1\" /><polyline clip-path=\"url(#clip892)\" style=\"stroke:#000000; stroke-linecap:round; stroke-linejoin:round; stroke-width:2; stroke-opacity:0.1; fill:none\" points=\"110.881,1263.3 2352.76,1263.3 \"/>\n",
       "<polyline clip-path=\"url(#clip892)\" style=\"stroke:#000000; stroke-linecap:round; stroke-linejoin:round; stroke-width:2; stroke-opacity:0.1; fill:none\" points=\"110.881,892.05 2352.76,892.05 \"/>\n",
       "<polyline clip-path=\"url(#clip892)\" style=\"stroke:#000000; stroke-linecap:round; stroke-linejoin:round; stroke-width:2; stroke-opacity:0.1; fill:none\" points=\"110.881,520.801 2352.76,520.801 \"/>\n",
       "<polyline clip-path=\"url(#clip892)\" style=\"stroke:#000000; stroke-linecap:round; stroke-linejoin:round; stroke-width:2; stroke-opacity:0.1; fill:none\" points=\"110.881,149.552 2352.76,149.552 \"/>\n",
       "<polyline clip-path=\"url(#clip890)\" style=\"stroke:#000000; stroke-linecap:round; stroke-linejoin:round; stroke-width:4; stroke-opacity:1; fill:none\" points=\"110.881,1486.45 110.881,47.2441 \"/>\n",
       "<polyline clip-path=\"url(#clip890)\" style=\"stroke:#000000; stroke-linecap:round; stroke-linejoin:round; stroke-width:4; stroke-opacity:1; fill:none\" points=\"110.881,1263.3 129.779,1263.3 \"/>\n",
       "<polyline clip-path=\"url(#clip890)\" style=\"stroke:#000000; stroke-linecap:round; stroke-linejoin:round; stroke-width:4; stroke-opacity:1; fill:none\" points=\"110.881,892.05 129.779,892.05 \"/>\n",
       "<polyline clip-path=\"url(#clip890)\" style=\"stroke:#000000; stroke-linecap:round; stroke-linejoin:round; stroke-width:4; stroke-opacity:1; fill:none\" points=\"110.881,520.801 129.779,520.801 \"/>\n",
       "<polyline clip-path=\"url(#clip890)\" style=\"stroke:#000000; stroke-linecap:round; stroke-linejoin:round; stroke-width:4; stroke-opacity:1; fill:none\" points=\"110.881,149.552 129.779,149.552 \"/>\n",
       "<path clip-path=\"url(#clip890)\" d=\"M62.9365 1249.1 Q59.3254 1249.1 57.4967 1252.66 Q55.6912 1256.2 55.6912 1263.33 Q55.6912 1270.44 57.4967 1274 Q59.3254 1277.55 62.9365 1277.55 Q66.5707 1277.55 68.3763 1274 Q70.205 1270.44 70.205 1263.33 Q70.205 1256.2 68.3763 1252.66 Q66.5707 1249.1 62.9365 1249.1 M62.9365 1245.39 Q68.7467 1245.39 71.8022 1250 Q74.8809 1254.58 74.8809 1263.33 Q74.8809 1272.06 71.8022 1276.67 Q68.7467 1281.25 62.9365 1281.25 Q57.1264 1281.25 54.0477 1276.67 Q50.9921 1272.06 50.9921 1263.33 Q50.9921 1254.58 54.0477 1250 Q57.1264 1245.39 62.9365 1245.39 Z\" fill=\"#000000\" fill-rule=\"nonzero\" fill-opacity=\"1\" /><path clip-path=\"url(#clip890)\" d=\"M54.9736 905.395 L62.6124 905.395 L62.6124 879.029 L54.3023 880.696 L54.3023 876.437 L62.5661 874.77 L67.242 874.77 L67.242 905.395 L74.8809 905.395 L74.8809 909.33 L54.9736 909.33 L54.9736 905.395 Z\" fill=\"#000000\" fill-rule=\"nonzero\" fill-opacity=\"1\" /><path clip-path=\"url(#clip890)\" d=\"M58.5615 534.146 L74.8809 534.146 L74.8809 538.081 L52.9366 538.081 L52.9366 534.146 Q55.5986 531.391 60.1819 526.762 Q64.7883 522.109 65.9689 520.766 Q68.2143 518.243 69.0939 516.507 Q69.9967 514.748 69.9967 513.058 Q69.9967 510.303 68.0522 508.567 Q66.1309 506.831 63.0291 506.831 Q60.83 506.831 58.3763 507.595 Q55.9458 508.359 53.168 509.91 L53.168 505.188 Q55.9921 504.053 58.4458 503.475 Q60.8995 502.896 62.9365 502.896 Q68.3068 502.896 71.5013 505.581 Q74.6957 508.266 74.6957 512.757 Q74.6957 514.887 73.8855 516.808 Q73.0985 518.706 70.992 521.299 Q70.4133 521.97 67.3115 525.188 Q64.2096 528.382 58.5615 534.146 Z\" fill=\"#000000\" fill-rule=\"nonzero\" fill-opacity=\"1\" /><path clip-path=\"url(#clip890)\" d=\"M67.7513 148.198 Q71.1078 148.916 72.9827 151.184 Q74.8809 153.453 74.8809 156.786 Q74.8809 161.902 71.3624 164.703 Q67.8439 167.504 61.3624 167.504 Q59.1865 167.504 56.8717 167.064 Q54.5801 166.647 52.1264 165.791 L52.1264 161.277 Q54.0708 162.411 56.3856 162.99 Q58.7004 163.568 61.2236 163.568 Q65.6217 163.568 67.9133 161.832 Q70.2281 160.096 70.2281 156.786 Q70.2281 153.731 68.0754 152.018 Q65.9457 150.281 62.1263 150.281 L58.0986 150.281 L58.0986 146.439 L62.3115 146.439 Q65.7606 146.439 67.5893 145.073 Q69.418 143.684 69.418 141.092 Q69.418 138.43 67.5198 137.018 Q65.6448 135.582 62.1263 135.582 Q60.205 135.582 58.006 135.999 Q55.8069 136.416 53.168 137.295 L53.168 133.129 Q55.8301 132.388 58.1449 132.018 Q60.4828 131.647 62.543 131.647 Q67.867 131.647 70.9689 134.078 Q74.0707 136.485 74.0707 140.606 Q74.0707 143.476 72.4272 145.467 Q70.7837 147.434 67.7513 148.198 Z\" fill=\"#000000\" fill-rule=\"nonzero\" fill-opacity=\"1\" /><polyline clip-path=\"url(#clip892)\" style=\"stroke:#009af9; stroke-linecap:round; stroke-linejoin:round; stroke-width:4; stroke-opacity:1; fill:none\" points=\"174.33,1263.3 195.48,1259.41 216.63,1248.93 237.779,1233.95 258.929,1216.04 280.079,1196.41 301.229,1175.91 322.379,1155.26 343.528,1135.09 364.678,1116.17 385.828,1099.56 406.978,1086.8 428.127,1080.12 449.277,1082.5 470.427,1097.18 491.577,1125.91 512.726,1166.65 533.876,1213.91 555.026,1261.84 576.176,1306.24 597.325,1344.76 618.475,1376.43 639.625,1401.23 660.775,1419.67 681.925,1432.5 703.074,1440.58 724.224,1444.73 745.374,1445.72 766.524,1444.19 787.673,1440.73 808.823,1435.8 829.973,1429.79 851.123,1423.01 872.272,1415.71 893.422,1408.11 914.572,1400.36 935.722,1392.6 956.871,1384.92 978.021,1377.39 999.171,1370.09 1020.32,1363.05 1041.47,1356.31 1062.62,1349.88 1083.77,1343.78 1104.92,1338.01 1126.07,1332.57 1147.22,1327.46 1168.37,1322.68 1189.52,1318.2 1210.67,1314.03 1231.82,1310.15 1252.97,1306.54 1274.12,1303.19 1295.27,1300.09 1316.42,1297.22 1337.57,1294.56 1358.72,1292.11 1379.87,1289.84 1401.02,1287.75 1422.17,1285.83 1443.32,1284.05 1464.47,1282.42 1485.62,1280.91 1506.77,1279.53 1527.92,1278.25 1549.06,1277.07 1570.21,1275.99 1591.36,1274.99 1612.51,1274.07 1633.66,1273.22 1654.81,1272.44 1675.96,1271.72 1697.11,1271.05 1718.26,1270.44 1739.41,1269.87 1760.56,1269.34 1781.71,1268.85 1802.86,1268.4 1824.01,1267.98 1845.16,1267.59 1866.31,1267.22 1887.46,1266.89 1908.61,1266.57 1929.76,1266.28 1950.91,1266.01 1972.06,1265.76 1993.21,1265.53 2014.36,1265.32 2035.51,1265.12 2056.66,1264.94 2077.81,1264.77 2098.96,1264.62 2120.11,1264.48 2141.26,1264.36 2162.41,1264.26 2183.56,1264.17 2204.71,1264.09 2225.86,1264.03 2247.01,1263.98 2268.16,1263.95 2289.31,1263.92 \"/>\n",
       "<polyline clip-path=\"url(#clip892)\" style=\"stroke:#e26f46; stroke-linecap:round; stroke-linejoin:round; stroke-width:4; stroke-opacity:1; fill:none\" points=\"174.33,1263.3 195.48,1271.04 216.63,1291.53 237.779,1319.59 258.929,1350.66 280.079,1380.87 301.229,1407.05 322.379,1426.69 343.528,1437.73 364.678,1438.34 385.828,1426.6 406.978,1400.16 428.127,1355.87 449.277,1289.59 470.427,1197.67 491.577,1081.56 512.726,952.805 533.876,828.195 555.026,719.163 576.176,628.604 597.325,554.325 618.475,492.669 639.625,440.343 660.775,394.939 681.925,354.884 703.074,319.213 724.224,287.342 745.374,258.905 766.524,233.639 787.673,211.319 808.823,191.732 829.973,174.658 851.123,159.875 872.272,147.159 893.422,136.293 914.572,127.067 935.722,119.287 956.871,112.771 978.021,107.354 999.171,102.889 1020.32,99.2436 1041.47,96.2995 1062.62,93.9536 1083.77,92.1152 1104.92,90.7051 1126.07,89.6547 1147.22,88.9044 1168.37,88.4029 1189.52,88.1061 1210.67,87.9763 1231.82,87.9812 1252.97,88.0935 1274.12,88.29 1295.27,88.5511 1316.42,88.8606 1337.57,89.2048 1358.72,89.5723 1379.87,89.9539 1401.02,90.342 1422.17,90.7304 1443.32,91.1143 1464.47,91.4899 1485.62,91.8541 1506.77,92.2048 1527.92,92.5404 1549.06,92.8597 1570.21,93.1621 1591.36,93.4472 1612.51,93.715 1633.66,93.9656 1654.81,94.1994 1675.96,94.4167 1697.11,94.6181 1718.26,94.8043 1739.41,94.9759 1760.56,95.1336 1781.71,95.278 1802.86,95.41 1824.01,95.5301 1845.16,95.6391 1866.31,95.7377 1887.46,95.8265 1908.61,95.9061 1929.76,95.9772 1950.91,96.0403 1972.06,96.096 1993.21,96.1449 2014.36,96.1877 2035.51,96.2248 2056.66,96.2568 2077.81,96.2844 2098.96,96.3082 2120.11,96.3288 2141.26,96.347 2162.41,96.3633 2183.56,96.3784 2204.71,96.3928 2225.86,96.4069 2247.01,96.4206 2268.16,96.4329 2289.31,96.4417 \"/>\n",
       "<path clip-path=\"url(#clip890)\" d=\"M185.61 250.738 L462.228 250.738 L462.228 95.2176 L185.61 95.2176  Z\" fill=\"#ffffff\" fill-rule=\"evenodd\" fill-opacity=\"1\"/>\n",
       "<polyline clip-path=\"url(#clip890)\" style=\"stroke:#000000; stroke-linecap:round; stroke-linejoin:round; stroke-width:4; stroke-opacity:1; fill:none\" points=\"185.61,250.738 462.228,250.738 462.228,95.2176 185.61,95.2176 185.61,250.738 \"/>\n",
       "<polyline clip-path=\"url(#clip890)\" style=\"stroke:#009af9; stroke-linecap:round; stroke-linejoin:round; stroke-width:4; stroke-opacity:1; fill:none\" points=\"210.52,147.058 359.978,147.058 \"/>\n",
       "<path clip-path=\"url(#clip890)\" d=\"M398.73 166.745 Q396.925 171.375 395.212 172.787 Q393.499 174.199 390.629 174.199 L387.226 174.199 L387.226 170.634 L389.726 170.634 Q391.485 170.634 392.457 169.8 Q393.429 168.967 394.61 165.865 L395.374 163.921 L384.888 138.412 L389.402 138.412 L397.504 158.689 L405.605 138.412 L410.119 138.412 L398.73 166.745 Z\" fill=\"#000000\" fill-rule=\"nonzero\" fill-opacity=\"1\" /><path clip-path=\"url(#clip890)\" d=\"M417.411 160.402 L425.05 160.402 L425.05 134.037 L416.74 135.703 L416.74 131.444 L425.003 129.778 L429.679 129.778 L429.679 160.402 L437.318 160.402 L437.318 164.338 L417.411 164.338 L417.411 160.402 Z\" fill=\"#000000\" fill-rule=\"nonzero\" fill-opacity=\"1\" /><polyline clip-path=\"url(#clip890)\" style=\"stroke:#e26f46; stroke-linecap:round; stroke-linejoin:round; stroke-width:4; stroke-opacity:1; fill:none\" points=\"210.52,198.898 359.978,198.898 \"/>\n",
       "<path clip-path=\"url(#clip890)\" d=\"M398.73 218.585 Q396.925 223.215 395.212 224.627 Q393.499 226.039 390.629 226.039 L387.226 226.039 L387.226 222.474 L389.726 222.474 Q391.485 222.474 392.457 221.64 Q393.429 220.807 394.61 217.705 L395.374 215.761 L384.888 190.252 L389.402 190.252 L397.504 210.529 L405.605 190.252 L410.119 190.252 L398.73 218.585 Z\" fill=\"#000000\" fill-rule=\"nonzero\" fill-opacity=\"1\" /><path clip-path=\"url(#clip890)\" d=\"M420.628 212.242 L436.948 212.242 L436.948 216.178 L415.003 216.178 L415.003 212.242 Q417.665 209.488 422.249 204.858 Q426.855 200.205 428.036 198.863 Q430.281 196.34 431.161 194.604 Q432.064 192.844 432.064 191.155 Q432.064 188.4 430.119 186.664 Q428.198 184.928 425.096 184.928 Q422.897 184.928 420.443 185.692 Q418.013 186.455 415.235 188.006 L415.235 183.284 Q418.059 182.15 420.513 181.571 Q422.966 180.993 425.003 180.993 Q430.374 180.993 433.568 183.678 Q436.763 186.363 436.763 190.854 Q436.763 192.983 435.952 194.905 Q435.165 196.803 433.059 199.395 Q432.48 200.067 429.378 203.284 Q426.277 206.479 420.628 212.242 Z\" fill=\"#000000\" fill-rule=\"nonzero\" fill-opacity=\"1\" /></svg>\n"
      ]
     },
     "execution_count": 32,
     "metadata": {},
     "output_type": "execute_result"
    }
   ],
   "source": [
    "plot(thist,xtraj[1,:])\n",
    "plot!(thist,xtraj[2,:])"
   ]
  },
  {
   "cell_type": "code",
   "execution_count": 33,
   "id": "43db89b8-79ca-4f94-8883-f4c1dc11e8e3",
   "metadata": {},
   "outputs": [
    {
     "data": {
      "image/svg+xml": [
       "<?xml version=\"1.0\" encoding=\"utf-8\"?>\n",
       "<svg xmlns=\"http://www.w3.org/2000/svg\" xmlns:xlink=\"http://www.w3.org/1999/xlink\" width=\"600\" height=\"400\" viewBox=\"0 0 2400 1600\">\n",
       "<defs>\n",
       "  <clipPath id=\"clip930\">\n",
       "    <rect x=\"0\" y=\"0\" width=\"2400\" height=\"1600\"/>\n",
       "  </clipPath>\n",
       "</defs>\n",
       "<path clip-path=\"url(#clip930)\" d=\"M0 1600 L2400 1600 L2400 0 L0 0  Z\" fill=\"#ffffff\" fill-rule=\"evenodd\" fill-opacity=\"1\"/>\n",
       "<defs>\n",
       "  <clipPath id=\"clip931\">\n",
       "    <rect x=\"480\" y=\"0\" width=\"1681\" height=\"1600\"/>\n",
       "  </clipPath>\n",
       "</defs>\n",
       "<path clip-path=\"url(#clip930)\" d=\"M178.867 1486.45 L2352.76 1486.45 L2352.76 47.2441 L178.867 47.2441  Z\" fill=\"#ffffff\" fill-rule=\"evenodd\" fill-opacity=\"1\"/>\n",
       "<defs>\n",
       "  <clipPath id=\"clip932\">\n",
       "    <rect x=\"178\" y=\"47\" width=\"2175\" height=\"1440\"/>\n",
       "  </clipPath>\n",
       "</defs>\n",
       "<polyline clip-path=\"url(#clip932)\" style=\"stroke:#000000; stroke-linecap:round; stroke-linejoin:round; stroke-width:2; stroke-opacity:0.1; fill:none\" points=\"240.392,1486.45 240.392,47.2441 \"/>\n",
       "<polyline clip-path=\"url(#clip932)\" style=\"stroke:#000000; stroke-linecap:round; stroke-linejoin:round; stroke-width:2; stroke-opacity:0.1; fill:none\" points=\"654.703,1486.45 654.703,47.2441 \"/>\n",
       "<polyline clip-path=\"url(#clip932)\" style=\"stroke:#000000; stroke-linecap:round; stroke-linejoin:round; stroke-width:2; stroke-opacity:0.1; fill:none\" points=\"1069.01,1486.45 1069.01,47.2441 \"/>\n",
       "<polyline clip-path=\"url(#clip932)\" style=\"stroke:#000000; stroke-linecap:round; stroke-linejoin:round; stroke-width:2; stroke-opacity:0.1; fill:none\" points=\"1483.32,1486.45 1483.32,47.2441 \"/>\n",
       "<polyline clip-path=\"url(#clip932)\" style=\"stroke:#000000; stroke-linecap:round; stroke-linejoin:round; stroke-width:2; stroke-opacity:0.1; fill:none\" points=\"1897.64,1486.45 1897.64,47.2441 \"/>\n",
       "<polyline clip-path=\"url(#clip932)\" style=\"stroke:#000000; stroke-linecap:round; stroke-linejoin:round; stroke-width:2; stroke-opacity:0.1; fill:none\" points=\"2311.95,1486.45 2311.95,47.2441 \"/>\n",
       "<polyline clip-path=\"url(#clip930)\" style=\"stroke:#000000; stroke-linecap:round; stroke-linejoin:round; stroke-width:4; stroke-opacity:1; fill:none\" points=\"178.867,1486.45 2352.76,1486.45 \"/>\n",
       "<polyline clip-path=\"url(#clip930)\" style=\"stroke:#000000; stroke-linecap:round; stroke-linejoin:round; stroke-width:4; stroke-opacity:1; fill:none\" points=\"240.392,1486.45 240.392,1467.55 \"/>\n",
       "<polyline clip-path=\"url(#clip930)\" style=\"stroke:#000000; stroke-linecap:round; stroke-linejoin:round; stroke-width:4; stroke-opacity:1; fill:none\" points=\"654.703,1486.45 654.703,1467.55 \"/>\n",
       "<polyline clip-path=\"url(#clip930)\" style=\"stroke:#000000; stroke-linecap:round; stroke-linejoin:round; stroke-width:4; stroke-opacity:1; fill:none\" points=\"1069.01,1486.45 1069.01,1467.55 \"/>\n",
       "<polyline clip-path=\"url(#clip930)\" style=\"stroke:#000000; stroke-linecap:round; stroke-linejoin:round; stroke-width:4; stroke-opacity:1; fill:none\" points=\"1483.32,1486.45 1483.32,1467.55 \"/>\n",
       "<polyline clip-path=\"url(#clip930)\" style=\"stroke:#000000; stroke-linecap:round; stroke-linejoin:round; stroke-width:4; stroke-opacity:1; fill:none\" points=\"1897.64,1486.45 1897.64,1467.55 \"/>\n",
       "<polyline clip-path=\"url(#clip930)\" style=\"stroke:#000000; stroke-linecap:round; stroke-linejoin:round; stroke-width:4; stroke-opacity:1; fill:none\" points=\"2311.95,1486.45 2311.95,1467.55 \"/>\n",
       "<path clip-path=\"url(#clip930)\" d=\"M240.392 1517.37 Q236.781 1517.37 234.952 1520.93 Q233.146 1524.47 233.146 1531.6 Q233.146 1538.71 234.952 1542.27 Q236.781 1545.82 240.392 1545.82 Q244.026 1545.82 245.832 1542.27 Q247.66 1538.71 247.66 1531.6 Q247.66 1524.47 245.832 1520.93 Q244.026 1517.37 240.392 1517.37 M240.392 1513.66 Q246.202 1513.66 249.257 1518.27 Q252.336 1522.85 252.336 1531.6 Q252.336 1540.33 249.257 1544.94 Q246.202 1549.52 240.392 1549.52 Q234.582 1549.52 231.503 1544.94 Q228.447 1540.33 228.447 1531.6 Q228.447 1522.85 231.503 1518.27 Q234.582 1513.66 240.392 1513.66 Z\" fill=\"#000000\" fill-rule=\"nonzero\" fill-opacity=\"1\" /><path clip-path=\"url(#clip930)\" d=\"M645.085 1544.91 L652.724 1544.91 L652.724 1518.55 L644.413 1520.21 L644.413 1515.95 L652.677 1514.29 L657.353 1514.29 L657.353 1544.91 L664.992 1544.91 L664.992 1548.85 L645.085 1548.85 L645.085 1544.91 Z\" fill=\"#000000\" fill-rule=\"nonzero\" fill-opacity=\"1\" /><path clip-path=\"url(#clip930)\" d=\"M1063.67 1544.91 L1079.99 1544.91 L1079.99 1548.85 L1058.04 1548.85 L1058.04 1544.91 Q1060.7 1542.16 1065.29 1537.53 Q1069.89 1532.88 1071.07 1531.53 Q1073.32 1529.01 1074.2 1527.27 Q1075.1 1525.51 1075.1 1523.82 Q1075.1 1521.07 1073.16 1519.33 Q1071.24 1517.6 1068.13 1517.6 Q1065.93 1517.6 1063.48 1518.36 Q1061.05 1519.13 1058.27 1520.68 L1058.27 1515.95 Q1061.1 1514.82 1063.55 1514.24 Q1066 1513.66 1068.04 1513.66 Q1073.41 1513.66 1076.61 1516.35 Q1079.8 1519.03 1079.8 1523.52 Q1079.8 1525.65 1078.99 1527.57 Q1078.2 1529.47 1076.1 1532.07 Q1075.52 1532.74 1072.42 1535.95 Q1069.31 1539.15 1063.67 1544.91 Z\" fill=\"#000000\" fill-rule=\"nonzero\" fill-opacity=\"1\" /><path clip-path=\"url(#clip930)\" d=\"M1487.57 1530.21 Q1490.93 1530.93 1492.8 1533.2 Q1494.7 1535.47 1494.7 1538.8 Q1494.7 1543.92 1491.18 1546.72 Q1487.66 1549.52 1481.18 1549.52 Q1479.01 1549.52 1476.69 1549.08 Q1474.4 1548.66 1471.95 1547.81 L1471.95 1543.29 Q1473.89 1544.43 1476.21 1545.01 Q1478.52 1545.58 1481.04 1545.58 Q1485.44 1545.58 1487.73 1543.85 Q1490.05 1542.11 1490.05 1538.8 Q1490.05 1535.75 1487.9 1534.03 Q1485.77 1532.3 1481.95 1532.3 L1477.92 1532.3 L1477.92 1528.45 L1482.13 1528.45 Q1485.58 1528.45 1487.41 1527.09 Q1489.24 1525.7 1489.24 1523.11 Q1489.24 1520.45 1487.34 1519.03 Q1485.47 1517.6 1481.95 1517.6 Q1480.03 1517.6 1477.83 1518.01 Q1475.63 1518.43 1472.99 1519.31 L1472.99 1515.14 Q1475.65 1514.4 1477.97 1514.03 Q1480.3 1513.66 1482.36 1513.66 Q1487.69 1513.66 1490.79 1516.09 Q1493.89 1518.5 1493.89 1522.62 Q1493.89 1525.49 1492.25 1527.48 Q1490.6 1529.45 1487.57 1530.21 Z\" fill=\"#000000\" fill-rule=\"nonzero\" fill-opacity=\"1\" /><path clip-path=\"url(#clip930)\" d=\"M1900.64 1518.36 L1888.84 1536.81 L1900.64 1536.81 L1900.64 1518.36 M1899.42 1514.29 L1905.3 1514.29 L1905.3 1536.81 L1910.23 1536.81 L1910.23 1540.7 L1905.3 1540.7 L1905.3 1548.85 L1900.64 1548.85 L1900.64 1540.7 L1885.04 1540.7 L1885.04 1536.19 L1899.42 1514.29 Z\" fill=\"#000000\" fill-rule=\"nonzero\" fill-opacity=\"1\" /><path clip-path=\"url(#clip930)\" d=\"M2302.22 1514.29 L2320.58 1514.29 L2320.58 1518.22 L2306.51 1518.22 L2306.51 1526.7 Q2307.53 1526.35 2308.54 1526.19 Q2309.56 1526 2310.58 1526 Q2316.37 1526 2319.75 1529.17 Q2323.13 1532.34 2323.13 1537.76 Q2323.13 1543.34 2319.65 1546.44 Q2316.18 1549.52 2309.86 1549.52 Q2307.69 1549.52 2305.42 1549.15 Q2303.17 1548.78 2300.77 1548.04 L2300.77 1543.34 Q2302.85 1544.47 2305.07 1545.03 Q2307.29 1545.58 2309.77 1545.58 Q2313.77 1545.58 2316.11 1543.48 Q2318.45 1541.37 2318.45 1537.76 Q2318.45 1534.15 2316.11 1532.04 Q2313.77 1529.94 2309.77 1529.94 Q2307.9 1529.94 2306.02 1530.35 Q2304.17 1530.77 2302.22 1531.65 L2302.22 1514.29 Z\" fill=\"#000000\" fill-rule=\"nonzero\" fill-opacity=\"1\" /><polyline clip-path=\"url(#clip932)\" style=\"stroke:#000000; stroke-linecap:round; stroke-linejoin:round; stroke-width:2; stroke-opacity:0.1; fill:none\" points=\"178.867,1318.21 2352.76,1318.21 \"/>\n",
       "<polyline clip-path=\"url(#clip932)\" style=\"stroke:#000000; stroke-linecap:round; stroke-linejoin:round; stroke-width:2; stroke-opacity:0.1; fill:none\" points=\"178.867,1057.36 2352.76,1057.36 \"/>\n",
       "<polyline clip-path=\"url(#clip932)\" style=\"stroke:#000000; stroke-linecap:round; stroke-linejoin:round; stroke-width:2; stroke-opacity:0.1; fill:none\" points=\"178.867,796.519 2352.76,796.519 \"/>\n",
       "<polyline clip-path=\"url(#clip932)\" style=\"stroke:#000000; stroke-linecap:round; stroke-linejoin:round; stroke-width:2; stroke-opacity:0.1; fill:none\" points=\"178.867,535.675 2352.76,535.675 \"/>\n",
       "<polyline clip-path=\"url(#clip932)\" style=\"stroke:#000000; stroke-linecap:round; stroke-linejoin:round; stroke-width:2; stroke-opacity:0.1; fill:none\" points=\"178.867,274.83 2352.76,274.83 \"/>\n",
       "<polyline clip-path=\"url(#clip930)\" style=\"stroke:#000000; stroke-linecap:round; stroke-linejoin:round; stroke-width:4; stroke-opacity:1; fill:none\" points=\"178.867,1486.45 178.867,47.2441 \"/>\n",
       "<polyline clip-path=\"url(#clip930)\" style=\"stroke:#000000; stroke-linecap:round; stroke-linejoin:round; stroke-width:4; stroke-opacity:1; fill:none\" points=\"178.867,1318.21 197.764,1318.21 \"/>\n",
       "<polyline clip-path=\"url(#clip930)\" style=\"stroke:#000000; stroke-linecap:round; stroke-linejoin:round; stroke-width:4; stroke-opacity:1; fill:none\" points=\"178.867,1057.36 197.764,1057.36 \"/>\n",
       "<polyline clip-path=\"url(#clip930)\" style=\"stroke:#000000; stroke-linecap:round; stroke-linejoin:round; stroke-width:4; stroke-opacity:1; fill:none\" points=\"178.867,796.519 197.764,796.519 \"/>\n",
       "<polyline clip-path=\"url(#clip930)\" style=\"stroke:#000000; stroke-linecap:round; stroke-linejoin:round; stroke-width:4; stroke-opacity:1; fill:none\" points=\"178.867,535.675 197.764,535.675 \"/>\n",
       "<polyline clip-path=\"url(#clip930)\" style=\"stroke:#000000; stroke-linecap:round; stroke-linejoin:round; stroke-width:4; stroke-opacity:1; fill:none\" points=\"178.867,274.83 197.764,274.83 \"/>\n",
       "<path clip-path=\"url(#clip930)\" d=\"M51.9875 1318.66 L81.6633 1318.66 L81.6633 1322.59 L51.9875 1322.59 L51.9875 1318.66 Z\" fill=\"#000000\" fill-rule=\"nonzero\" fill-opacity=\"1\" /><path clip-path=\"url(#clip930)\" d=\"M92.566 1331.55 L100.205 1331.55 L100.205 1305.19 L91.8947 1306.85 L91.8947 1302.6 L100.159 1300.93 L104.834 1300.93 L104.834 1331.55 L112.473 1331.55 L112.473 1335.49 L92.566 1335.49 L92.566 1331.55 Z\" fill=\"#000000\" fill-rule=\"nonzero\" fill-opacity=\"1\" /><path clip-path=\"url(#clip930)\" d=\"M121.964 1300.93 L140.32 1300.93 L140.32 1304.86 L126.246 1304.86 L126.246 1313.34 Q127.265 1312.99 128.283 1312.83 Q129.302 1312.64 130.32 1312.64 Q136.107 1312.64 139.487 1315.81 Q142.867 1318.98 142.867 1324.4 Q142.867 1329.98 139.394 1333.08 Q135.922 1336.16 129.603 1336.16 Q127.427 1336.16 125.158 1335.79 Q122.913 1335.42 120.506 1334.68 L120.506 1329.98 Q122.589 1331.11 124.811 1331.67 Q127.033 1332.22 129.51 1332.22 Q133.515 1332.22 135.853 1330.12 Q138.191 1328.01 138.191 1324.4 Q138.191 1320.79 135.853 1318.68 Q133.515 1316.58 129.51 1316.58 Q127.635 1316.58 125.76 1316.99 Q123.908 1317.41 121.964 1318.29 L121.964 1300.93 Z\" fill=\"#000000\" fill-rule=\"nonzero\" fill-opacity=\"1\" /><path clip-path=\"url(#clip930)\" d=\"M50.9921 1057.82 L80.6679 1057.82 L80.6679 1061.75 L50.9921 1061.75 L50.9921 1057.82 Z\" fill=\"#000000\" fill-rule=\"nonzero\" fill-opacity=\"1\" /><path clip-path=\"url(#clip930)\" d=\"M91.5706 1070.71 L99.2095 1070.71 L99.2095 1044.34 L90.8993 1046.01 L90.8993 1041.75 L99.1632 1040.08 L103.839 1040.08 L103.839 1070.71 L111.478 1070.71 L111.478 1074.64 L91.5706 1074.64 L91.5706 1070.71 Z\" fill=\"#000000\" fill-rule=\"nonzero\" fill-opacity=\"1\" /><path clip-path=\"url(#clip930)\" d=\"M130.922 1043.16 Q127.311 1043.16 125.482 1046.73 Q123.677 1050.27 123.677 1057.4 Q123.677 1064.51 125.482 1068.07 Q127.311 1071.61 130.922 1071.61 Q134.556 1071.61 136.362 1068.07 Q138.191 1064.51 138.191 1057.4 Q138.191 1050.27 136.362 1046.73 Q134.556 1043.16 130.922 1043.16 M130.922 1039.46 Q136.732 1039.46 139.788 1044.07 Q142.867 1048.65 142.867 1057.4 Q142.867 1066.13 139.788 1070.73 Q136.732 1075.32 130.922 1075.32 Q125.112 1075.32 122.033 1070.73 Q118.978 1066.13 118.978 1057.4 Q118.978 1048.65 122.033 1044.07 Q125.112 1039.46 130.922 1039.46 Z\" fill=\"#000000\" fill-rule=\"nonzero\" fill-opacity=\"1\" /><path clip-path=\"url(#clip930)\" d=\"M82.1494 796.971 L111.825 796.971 L111.825 800.906 L82.1494 800.906 L82.1494 796.971 Z\" fill=\"#000000\" fill-rule=\"nonzero\" fill-opacity=\"1\" /><path clip-path=\"url(#clip930)\" d=\"M121.964 779.239 L140.32 779.239 L140.32 783.174 L126.246 783.174 L126.246 791.647 Q127.265 791.299 128.283 791.137 Q129.302 790.952 130.32 790.952 Q136.107 790.952 139.487 794.123 Q142.867 797.295 142.867 802.711 Q142.867 808.29 139.394 811.392 Q135.922 814.471 129.603 814.471 Q127.427 814.471 125.158 814.1 Q122.913 813.73 120.506 812.989 L120.506 808.29 Q122.589 809.424 124.811 809.98 Q127.033 810.535 129.51 810.535 Q133.515 810.535 135.853 808.429 Q138.191 806.322 138.191 802.711 Q138.191 799.1 135.853 796.994 Q133.515 794.887 129.51 794.887 Q127.635 794.887 125.76 795.304 Q123.908 795.721 121.964 796.6 L121.964 779.239 Z\" fill=\"#000000\" fill-rule=\"nonzero\" fill-opacity=\"1\" /><path clip-path=\"url(#clip930)\" d=\"M130.922 521.473 Q127.311 521.473 125.482 525.038 Q123.677 528.58 123.677 535.709 Q123.677 542.816 125.482 546.381 Q127.311 549.922 130.922 549.922 Q134.556 549.922 136.362 546.381 Q138.191 542.816 138.191 535.709 Q138.191 528.58 136.362 525.038 Q134.556 521.473 130.922 521.473 M130.922 517.77 Q136.732 517.77 139.788 522.376 Q142.867 526.959 142.867 535.709 Q142.867 544.436 139.788 549.043 Q136.732 553.626 130.922 553.626 Q125.112 553.626 122.033 549.043 Q118.978 544.436 118.978 535.709 Q118.978 526.959 122.033 522.376 Q125.112 517.77 130.922 517.77 Z\" fill=\"#000000\" fill-rule=\"nonzero\" fill-opacity=\"1\" /><path clip-path=\"url(#clip930)\" d=\"M121.964 257.55 L140.32 257.55 L140.32 261.485 L126.246 261.485 L126.246 269.957 Q127.265 269.61 128.283 269.448 Q129.302 269.263 130.32 269.263 Q136.107 269.263 139.487 272.434 Q142.867 275.606 142.867 281.022 Q142.867 286.601 139.394 289.703 Q135.922 292.781 129.603 292.781 Q127.427 292.781 125.158 292.411 Q122.913 292.041 120.506 291.3 L120.506 286.601 Q122.589 287.735 124.811 288.291 Q127.033 288.846 129.51 288.846 Q133.515 288.846 135.853 286.74 Q138.191 284.633 138.191 281.022 Q138.191 277.411 135.853 275.305 Q133.515 273.198 129.51 273.198 Q127.635 273.198 125.76 273.615 Q123.908 274.031 121.964 274.911 L121.964 257.55 Z\" fill=\"#000000\" fill-rule=\"nonzero\" fill-opacity=\"1\" /><polyline clip-path=\"url(#clip932)\" style=\"stroke:#009af9; stroke-linecap:round; stroke-linejoin:round; stroke-width:4; stroke-opacity:1; fill:none\" points=\"240.392,98.4372 261.107,226.556 281.823,320.064 302.538,386.91 323.254,434.653 343.97,471.101 364.685,504.205 385.401,541.954 406.116,592.648 426.832,665.476 447.547,770.882 468.263,919.275 488.978,1113.31 509.694,1323.04 530.409,1445.72 551.125,1338.19 571.841,999.415 592.556,606.385 613.272,310.279 633.987,147.05 654.703,87.9763 675.418,92.9406 696.134,131.006 716.849,182.733 737.565,237.2 758.28,288.83 778.996,335.146 799.712,375.37 820.427,409.602 841.143,438.348 861.858,462.263 882.574,482.017 903.289,498.234 924.005,511.465 944.72,522.188 965.436,530.809 986.151,537.673 1006.87,543.07 1027.58,547.245 1048.3,550.406 1069.01,552.727 1089.73,554.356 1110.44,555.416 1131.16,556.014 1151.88,556.238 1172.59,556.163 1193.31,555.851 1214.02,555.356 1234.74,554.721 1255.45,553.983 1276.17,553.173 1296.88,552.315 1317.6,551.43 1338.32,550.535 1359.03,549.642 1379.75,548.763 1400.46,547.905 1421.18,547.076 1441.89,546.278 1462.61,545.517 1483.32,544.793 1504.04,544.109 1524.76,543.464 1545.47,542.858 1566.19,542.292 1586.9,541.764 1607.62,541.272 1628.33,540.816 1649.05,540.395 1669.76,540.005 1690.48,539.646 1711.2,539.316 1731.91,539.014 1752.63,538.737 1773.34,538.485 1794.06,538.255 1814.77,538.046 1835.49,537.858 1856.2,537.687 1876.92,537.534 1897.64,537.398 1918.35,537.276 1939.07,537.168 1959.78,537.074 1980.5,536.992 2001.21,536.922 2021.93,536.863 2042.64,536.813 2063.36,536.773 2084.08,536.741 2104.79,536.717 2125.51,536.699 2146.22,536.686 2166.94,536.676 2187.65,536.667 2208.37,536.656 2229.08,536.637 2249.8,536.603 2270.52,536.543 2291.23,536.441 \"/>\n",
       "<path clip-path=\"url(#clip930)\" d=\"M2010.47 198.898 L2280.29 198.898 L2280.29 95.2176 L2010.47 95.2176  Z\" fill=\"#ffffff\" fill-rule=\"evenodd\" fill-opacity=\"1\"/>\n",
       "<polyline clip-path=\"url(#clip930)\" style=\"stroke:#000000; stroke-linecap:round; stroke-linejoin:round; stroke-width:4; stroke-opacity:1; fill:none\" points=\"2010.47,198.898 2280.29,198.898 2280.29,95.2176 2010.47,95.2176 2010.47,198.898 \"/>\n",
       "<polyline clip-path=\"url(#clip930)\" style=\"stroke:#009af9; stroke-linecap:round; stroke-linejoin:round; stroke-width:4; stroke-opacity:1; fill:none\" points=\"2034.63,147.058 2179.55,147.058 \"/>\n",
       "<path clip-path=\"url(#clip930)\" d=\"M2217.55 166.745 Q2215.75 171.375 2214.03 172.787 Q2212.32 174.199 2209.45 174.199 L2206.05 174.199 L2206.05 170.634 L2208.55 170.634 Q2210.31 170.634 2211.28 169.8 Q2212.25 168.967 2213.43 165.865 L2214.19 163.921 L2203.71 138.412 L2208.22 138.412 L2216.32 158.689 L2224.43 138.412 L2228.94 138.412 L2217.55 166.745 Z\" fill=\"#000000\" fill-rule=\"nonzero\" fill-opacity=\"1\" /><path clip-path=\"url(#clip930)\" d=\"M2236.23 160.402 L2243.87 160.402 L2243.87 134.037 L2235.56 135.703 L2235.56 131.444 L2243.82 129.778 L2248.5 129.778 L2248.5 160.402 L2256.14 160.402 L2256.14 164.338 L2236.23 164.338 L2236.23 160.402 Z\" fill=\"#000000\" fill-rule=\"nonzero\" fill-opacity=\"1\" /></svg>\n"
      ]
     },
     "execution_count": 33,
     "metadata": {},
     "output_type": "execute_result"
    }
   ],
   "source": [
    "plot(thist[1:Nt-1],utraj)"
   ]
  },
  {
   "cell_type": "code",
   "execution_count": 73,
   "id": "eb580a60-031d-43c1-bbb6-81b42b7d8ffd",
   "metadata": {},
   "outputs": [
    {
     "name": "stderr",
     "output_type": "stream",
     "text": [
      "\u001b[36m\u001b[1m┌ \u001b[22m\u001b[39m\u001b[36m\u001b[1mInfo: \u001b[22m\u001b[39mMeshCat server started. You can open the visualizer by visiting the following URL in your browser:\n",
      "\u001b[36m\u001b[1m└ \u001b[22m\u001b[39mhttp://127.0.0.1:8704\n"
     ]
    },
    {
     "data": {
      "text/html": [
       "    <div style=\"height: 500px; width: 100%; overflow-x: auto; overflow-y: hidden; resize: both\">\n",
       "    <iframe src=\"http://127.0.0.1:8704\" style=\"width: 100%; height: 100%; border: none\"></iframe>\n",
       "    </div>\n"
      ],
      "text/plain": [
       "MeshCat.DisplayedVisualizer(MeshCat.CoreVisualizer(MeshCat.SceneTrees.SceneNode(nothing, nothing, Dict{String, Vector{UInt8}}(), nothing, Dict{String, MeshCat.SceneTrees.SceneNode}()), Set{Any}(), ip\"127.0.0.1\", 8704))"
      ]
     },
     "execution_count": 73,
     "metadata": {},
     "output_type": "execute_result"
    }
   ],
   "source": [
    "using TrajOptPlots\n",
    "using MeshCat\n",
    "using StaticArrays\n",
    "\n",
    "vis = Visualizer()\n",
    "render(vis)"
   ]
  },
  {
   "cell_type": "code",
   "execution_count": 74,
   "id": "edd28fc3-e4bf-4a02-8d09-1cf23b7d022c",
   "metadata": {},
   "outputs": [
    {
     "data": {
      "text/plain": [
       "MeshCat Visualizer with path /meshcat/robot/cart/pole at http://127.0.0.1:8704"
      ]
     },
     "execution_count": 74,
     "metadata": {},
     "output_type": "execute_result"
    }
   ],
   "source": [
    "TrajOptPlots.set_mesh!(vis, a)"
   ]
  },
  {
   "cell_type": "code",
   "execution_count": 75,
   "id": "b4753b71-98ed-473a-b821-d3bf43053749",
   "metadata": {},
   "outputs": [],
   "source": [
    "X1 = [SVector{4}(x) for x in eachcol(xtraj)];\n",
    "visualize!(vis, a, thist[end], X1)"
   ]
  },
  {
   "cell_type": "markdown",
   "id": "d0faeec6-d401-493b-9901-1b5806cf8f36",
   "metadata": {},
   "source": [
    "## Different Cost weights"
   ]
  },
  {
   "cell_type": "code",
   "execution_count": 67,
   "id": "64cdacc6-3b55-4da7-8be5-8f9865fda4ef",
   "metadata": {},
   "outputs": [],
   "source": [
    "Nx = 4     # number of state\n",
    "Nu = 1     # number of controls\n",
    "Tfinal = 10.0 # final time\n",
    "Nt = Int(Tfinal/h)+1    # number of time steps\n",
    "thist = Array(range(0,h*(Nt-1), step=h));"
   ]
  },
  {
   "cell_type": "code",
   "execution_count": 68,
   "id": "2ddfee01-4bd8-474a-ba18-f7bae7774ceb",
   "metadata": {},
   "outputs": [],
   "source": [
    "Q = Diagonal([1.0*ones(2); 1.0*ones(2)]);\n",
    "R = 0.2;\n",
    "Qn = Array(100.0*I(Nx));"
   ]
  },
  {
   "cell_type": "code",
   "execution_count": 69,
   "id": "494e8225-b5db-4a22-837d-2415f9aa4dfd",
   "metadata": {},
   "outputs": [
    {
     "data": {
      "text/plain": [
       "1480.6531892968019"
      ]
     },
     "execution_count": 69,
     "metadata": {},
     "output_type": "execute_result"
    }
   ],
   "source": [
    "#Initial guess\n",
    "x0 = [0; 0; 0; 0]\n",
    "xgoal = [0, pi, 0, 0]\n",
    "xtraj = kron(ones(1,Nt), x0)\n",
    "utraj = 0.001*ones(Nt-1);\n",
    "\n",
    "#Initial Rollout\n",
    "for k = 1:(Nt-1)\n",
    "    xtraj[:,k+1] .= dynamics_rk4(xtraj[:,k],utraj[k])\n",
    "end\n",
    "J = cost(xtraj,utraj)"
   ]
  },
  {
   "cell_type": "code",
   "execution_count": 70,
   "id": "717dd545-8c23-427e-ace9-d1b5452b5857",
   "metadata": {},
   "outputs": [],
   "source": [
    "p = ones(Nx,Nt)\n",
    "P = zeros(Nx,Nx,Nt)\n",
    "d = ones(Nt-1)\n",
    "K = zeros(Nu,Nx,Nt-1)\n",
    "ΔJ = 1.0\n",
    "\n",
    "xn = zeros(Nx,Nt)\n",
    "un = zeros(Nt-1)\n",
    "\n",
    "gx = zeros(Nx)\n",
    "gu = 0.0\n",
    "Gxx = zeros(Nx,Nx)\n",
    "Guu = 0.0\n",
    "Gxu = zeros(Nx)\n",
    "Gux = zeros(Nx)\n",
    "\n",
    "iter = 0\n",
    "while maximum(abs.(d[:])) > 1e-3\n",
    "    iter += 1    \n",
    "    \n",
    "    #Backward Pass\n",
    "    ΔJ = backward_pass_ilqr!(p,P,d,K)\n",
    "\n",
    "    #Forward rollout with line search\n",
    "    xn[:,1] = xtraj[:,1]\n",
    "    α = 1.0\n",
    "\n",
    "    for k = 1:(Nt-1)\n",
    "        un[k] = utraj[k] - α*d[k] - dot(K[:,:,k],xn[:,k]-xtraj[:,k])\n",
    "        xn[:,k+1] .= dynamics_rk4(xn[:,k],un[k])\n",
    "    end\n",
    "    Jn = cost(xn,un)\n",
    "    \n",
    "    while isnan(Jn) || Jn > (J - 1e-2*α*ΔJ)\n",
    "        α = 0.5*α\n",
    "        for k = 1:(Nt-1)\n",
    "            un[k] = utraj[k] - α*d[k] - dot(K[:,:,k],xn[:,k]-xtraj[:,k])\n",
    "            xn[:,k+1] .= dynamics_rk4(xn[:,k],un[k])\n",
    "        end\n",
    "        Jn = cost(xn,un)\n",
    "    end\n",
    "    \n",
    "    J = Jn\n",
    "    xtraj .= xn\n",
    "    utraj .= un\n",
    "end"
   ]
  },
  {
   "cell_type": "code",
   "execution_count": 71,
   "id": "d04b6929-4018-4afb-91b5-b81ce8047009",
   "metadata": {},
   "outputs": [
    {
     "data": {
      "image/svg+xml": [
       "<?xml version=\"1.0\" encoding=\"utf-8\"?>\n",
       "<svg xmlns=\"http://www.w3.org/2000/svg\" xmlns:xlink=\"http://www.w3.org/1999/xlink\" width=\"600\" height=\"400\" viewBox=\"0 0 2400 1600\">\n",
       "<defs>\n",
       "  <clipPath id=\"clip450\">\n",
       "    <rect x=\"0\" y=\"0\" width=\"2400\" height=\"1600\"/>\n",
       "  </clipPath>\n",
       "</defs>\n",
       "<path clip-path=\"url(#clip450)\" d=\"M0 1600 L2400 1600 L2400 0 L0 0  Z\" fill=\"#ffffff\" fill-rule=\"evenodd\" fill-opacity=\"1\"/>\n",
       "<defs>\n",
       "  <clipPath id=\"clip451\">\n",
       "    <rect x=\"480\" y=\"0\" width=\"1681\" height=\"1600\"/>\n",
       "  </clipPath>\n",
       "</defs>\n",
       "<path clip-path=\"url(#clip450)\" d=\"M192.941 1486.45 L2352.76 1486.45 L2352.76 47.2441 L192.941 47.2441  Z\" fill=\"#ffffff\" fill-rule=\"evenodd\" fill-opacity=\"1\"/>\n",
       "<defs>\n",
       "  <clipPath id=\"clip452\">\n",
       "    <rect x=\"192\" y=\"47\" width=\"2161\" height=\"1440\"/>\n",
       "  </clipPath>\n",
       "</defs>\n",
       "<polyline clip-path=\"url(#clip452)\" style=\"stroke:#000000; stroke-linecap:round; stroke-linejoin:round; stroke-width:2; stroke-opacity:0.1; fill:none\" points=\"254.067,1486.45 254.067,47.2441 \"/>\n",
       "<polyline clip-path=\"url(#clip452)\" style=\"stroke:#000000; stroke-linecap:round; stroke-linejoin:round; stroke-width:2; stroke-opacity:0.1; fill:none\" points=\"763.458,1486.45 763.458,47.2441 \"/>\n",
       "<polyline clip-path=\"url(#clip452)\" style=\"stroke:#000000; stroke-linecap:round; stroke-linejoin:round; stroke-width:2; stroke-opacity:0.1; fill:none\" points=\"1272.85,1486.45 1272.85,47.2441 \"/>\n",
       "<polyline clip-path=\"url(#clip452)\" style=\"stroke:#000000; stroke-linecap:round; stroke-linejoin:round; stroke-width:2; stroke-opacity:0.1; fill:none\" points=\"1782.24,1486.45 1782.24,47.2441 \"/>\n",
       "<polyline clip-path=\"url(#clip452)\" style=\"stroke:#000000; stroke-linecap:round; stroke-linejoin:round; stroke-width:2; stroke-opacity:0.1; fill:none\" points=\"2291.63,1486.45 2291.63,47.2441 \"/>\n",
       "<polyline clip-path=\"url(#clip450)\" style=\"stroke:#000000; stroke-linecap:round; stroke-linejoin:round; stroke-width:4; stroke-opacity:1; fill:none\" points=\"192.941,1486.45 2352.76,1486.45 \"/>\n",
       "<polyline clip-path=\"url(#clip450)\" style=\"stroke:#000000; stroke-linecap:round; stroke-linejoin:round; stroke-width:4; stroke-opacity:1; fill:none\" points=\"254.067,1486.45 254.067,1467.55 \"/>\n",
       "<polyline clip-path=\"url(#clip450)\" style=\"stroke:#000000; stroke-linecap:round; stroke-linejoin:round; stroke-width:4; stroke-opacity:1; fill:none\" points=\"763.458,1486.45 763.458,1467.55 \"/>\n",
       "<polyline clip-path=\"url(#clip450)\" style=\"stroke:#000000; stroke-linecap:round; stroke-linejoin:round; stroke-width:4; stroke-opacity:1; fill:none\" points=\"1272.85,1486.45 1272.85,1467.55 \"/>\n",
       "<polyline clip-path=\"url(#clip450)\" style=\"stroke:#000000; stroke-linecap:round; stroke-linejoin:round; stroke-width:4; stroke-opacity:1; fill:none\" points=\"1782.24,1486.45 1782.24,1467.55 \"/>\n",
       "<polyline clip-path=\"url(#clip450)\" style=\"stroke:#000000; stroke-linecap:round; stroke-linejoin:round; stroke-width:4; stroke-opacity:1; fill:none\" points=\"2291.63,1486.45 2291.63,1467.55 \"/>\n",
       "<path clip-path=\"url(#clip450)\" d=\"M231.452 1517.37 Q227.841 1517.37 226.012 1520.93 Q224.207 1524.47 224.207 1531.6 Q224.207 1538.71 226.012 1542.27 Q227.841 1545.82 231.452 1545.82 Q235.086 1545.82 236.892 1542.27 Q238.72 1538.71 238.72 1531.6 Q238.72 1524.47 236.892 1520.93 Q235.086 1517.37 231.452 1517.37 M231.452 1513.66 Q237.262 1513.66 240.318 1518.27 Q243.396 1522.85 243.396 1531.6 Q243.396 1540.33 240.318 1544.94 Q237.262 1549.52 231.452 1549.52 Q225.642 1549.52 222.563 1544.94 Q219.507 1540.33 219.507 1531.6 Q219.507 1522.85 222.563 1518.27 Q225.642 1513.66 231.452 1513.66 Z\" fill=\"#000000\" fill-rule=\"nonzero\" fill-opacity=\"1\" /><path clip-path=\"url(#clip450)\" d=\"M251.614 1542.97 L256.498 1542.97 L256.498 1548.85 L251.614 1548.85 L251.614 1542.97 Z\" fill=\"#000000\" fill-rule=\"nonzero\" fill-opacity=\"1\" /><path clip-path=\"url(#clip450)\" d=\"M276.683 1517.37 Q273.072 1517.37 271.243 1520.93 Q269.438 1524.47 269.438 1531.6 Q269.438 1538.71 271.243 1542.27 Q273.072 1545.82 276.683 1545.82 Q280.317 1545.82 282.123 1542.27 Q283.952 1538.71 283.952 1531.6 Q283.952 1524.47 282.123 1520.93 Q280.317 1517.37 276.683 1517.37 M276.683 1513.66 Q282.493 1513.66 285.549 1518.27 Q288.627 1522.85 288.627 1531.6 Q288.627 1540.33 285.549 1544.94 Q282.493 1549.52 276.683 1549.52 Q270.873 1549.52 267.794 1544.94 Q264.739 1540.33 264.739 1531.6 Q264.739 1522.85 267.794 1518.27 Q270.873 1513.66 276.683 1513.66 Z\" fill=\"#000000\" fill-rule=\"nonzero\" fill-opacity=\"1\" /><path clip-path=\"url(#clip450)\" d=\"M735.194 1544.91 L751.513 1544.91 L751.513 1548.85 L729.569 1548.85 L729.569 1544.91 Q732.231 1542.16 736.814 1537.53 Q741.421 1532.88 742.602 1531.53 Q744.847 1529.01 745.726 1527.27 Q746.629 1525.51 746.629 1523.82 Q746.629 1521.07 744.685 1519.33 Q742.764 1517.6 739.662 1517.6 Q737.463 1517.6 735.009 1518.36 Q732.578 1519.13 729.801 1520.68 L729.801 1515.95 Q732.625 1514.82 735.078 1514.24 Q737.532 1513.66 739.569 1513.66 Q744.939 1513.66 748.134 1516.35 Q751.328 1519.03 751.328 1523.52 Q751.328 1525.65 750.518 1527.57 Q749.731 1529.47 747.625 1532.07 Q747.046 1532.74 743.944 1535.95 Q740.842 1539.15 735.194 1544.91 Z\" fill=\"#000000\" fill-rule=\"nonzero\" fill-opacity=\"1\" /><path clip-path=\"url(#clip450)\" d=\"M761.328 1542.97 L766.212 1542.97 L766.212 1548.85 L761.328 1548.85 L761.328 1542.97 Z\" fill=\"#000000\" fill-rule=\"nonzero\" fill-opacity=\"1\" /><path clip-path=\"url(#clip450)\" d=\"M776.444 1514.29 L794.8 1514.29 L794.8 1518.22 L780.726 1518.22 L780.726 1526.7 Q781.745 1526.35 782.763 1526.19 Q783.782 1526 784.8 1526 Q790.587 1526 793.967 1529.17 Q797.347 1532.34 797.347 1537.76 Q797.347 1543.34 793.874 1546.44 Q790.402 1549.52 784.083 1549.52 Q781.907 1549.52 779.638 1549.15 Q777.393 1548.78 774.986 1548.04 L774.986 1543.34 Q777.069 1544.47 779.291 1545.03 Q781.513 1545.58 783.99 1545.58 Q787.995 1545.58 790.333 1543.48 Q792.671 1541.37 792.671 1537.76 Q792.671 1534.15 790.333 1532.04 Q787.995 1529.94 783.99 1529.94 Q782.115 1529.94 780.24 1530.35 Q778.388 1530.77 776.444 1531.65 L776.444 1514.29 Z\" fill=\"#000000\" fill-rule=\"nonzero\" fill-opacity=\"1\" /><path clip-path=\"url(#clip450)\" d=\"M1240.01 1514.29 L1258.37 1514.29 L1258.37 1518.22 L1244.3 1518.22 L1244.3 1526.7 Q1245.31 1526.35 1246.33 1526.19 Q1247.35 1526 1248.37 1526 Q1254.16 1526 1257.54 1529.17 Q1260.92 1532.34 1260.92 1537.76 Q1260.92 1543.34 1257.44 1546.44 Q1253.97 1549.52 1247.65 1549.52 Q1245.48 1549.52 1243.21 1549.15 Q1240.96 1548.78 1238.55 1548.04 L1238.55 1543.34 Q1240.64 1544.47 1242.86 1545.03 Q1245.08 1545.58 1247.56 1545.58 Q1251.56 1545.58 1253.9 1543.48 Q1256.24 1541.37 1256.24 1537.76 Q1256.24 1534.15 1253.9 1532.04 Q1251.56 1529.94 1247.56 1529.94 Q1245.68 1529.94 1243.81 1530.35 Q1241.96 1530.77 1240.01 1531.65 L1240.01 1514.29 Z\" fill=\"#000000\" fill-rule=\"nonzero\" fill-opacity=\"1\" /><path clip-path=\"url(#clip450)\" d=\"M1270.13 1542.97 L1275.01 1542.97 L1275.01 1548.85 L1270.13 1548.85 L1270.13 1542.97 Z\" fill=\"#000000\" fill-rule=\"nonzero\" fill-opacity=\"1\" /><path clip-path=\"url(#clip450)\" d=\"M1295.2 1517.37 Q1291.59 1517.37 1289.76 1520.93 Q1287.95 1524.47 1287.95 1531.6 Q1287.95 1538.71 1289.76 1542.27 Q1291.59 1545.82 1295.2 1545.82 Q1298.83 1545.82 1300.64 1542.27 Q1302.47 1538.71 1302.47 1531.6 Q1302.47 1524.47 1300.64 1520.93 Q1298.83 1517.37 1295.2 1517.37 M1295.2 1513.66 Q1301.01 1513.66 1304.06 1518.27 Q1307.14 1522.85 1307.14 1531.6 Q1307.14 1540.33 1304.06 1544.94 Q1301.01 1549.52 1295.2 1549.52 Q1289.39 1549.52 1286.31 1544.94 Q1283.25 1540.33 1283.25 1531.6 Q1283.25 1522.85 1286.31 1518.27 Q1289.39 1513.66 1295.2 1513.66 Z\" fill=\"#000000\" fill-rule=\"nonzero\" fill-opacity=\"1\" /><path clip-path=\"url(#clip450)\" d=\"M1748.56 1514.29 L1770.78 1514.29 L1770.78 1516.28 L1758.23 1548.85 L1753.35 1548.85 L1765.16 1518.22 L1748.56 1518.22 L1748.56 1514.29 Z\" fill=\"#000000\" fill-rule=\"nonzero\" fill-opacity=\"1\" /><path clip-path=\"url(#clip450)\" d=\"M1779.9 1542.97 L1784.78 1542.97 L1784.78 1548.85 L1779.9 1548.85 L1779.9 1542.97 Z\" fill=\"#000000\" fill-rule=\"nonzero\" fill-opacity=\"1\" /><path clip-path=\"url(#clip450)\" d=\"M1795.02 1514.29 L1813.37 1514.29 L1813.37 1518.22 L1799.3 1518.22 L1799.3 1526.7 Q1800.32 1526.35 1801.34 1526.19 Q1802.35 1526 1803.37 1526 Q1809.16 1526 1812.54 1529.17 Q1815.92 1532.34 1815.92 1537.76 Q1815.92 1543.34 1812.45 1546.44 Q1808.97 1549.52 1802.66 1549.52 Q1800.48 1549.52 1798.21 1549.15 Q1795.97 1548.78 1793.56 1548.04 L1793.56 1543.34 Q1795.64 1544.47 1797.86 1545.03 Q1800.09 1545.58 1802.56 1545.58 Q1806.57 1545.58 1808.91 1543.48 Q1811.24 1541.37 1811.24 1537.76 Q1811.24 1534.15 1808.91 1532.04 Q1806.57 1529.94 1802.56 1529.94 Q1800.69 1529.94 1798.81 1530.35 Q1796.96 1530.77 1795.02 1531.65 L1795.02 1514.29 Z\" fill=\"#000000\" fill-rule=\"nonzero\" fill-opacity=\"1\" /><path clip-path=\"url(#clip450)\" d=\"M2243.7 1544.91 L2251.34 1544.91 L2251.34 1518.55 L2243.03 1520.21 L2243.03 1515.95 L2251.29 1514.29 L2255.97 1514.29 L2255.97 1544.91 L2263.61 1544.91 L2263.61 1548.85 L2243.7 1548.85 L2243.7 1544.91 Z\" fill=\"#000000\" fill-rule=\"nonzero\" fill-opacity=\"1\" /><path clip-path=\"url(#clip450)\" d=\"M2283.05 1517.37 Q2279.44 1517.37 2277.61 1520.93 Q2275.81 1524.47 2275.81 1531.6 Q2275.81 1538.71 2277.61 1542.27 Q2279.44 1545.82 2283.05 1545.82 Q2286.69 1545.82 2288.49 1542.27 Q2290.32 1538.71 2290.32 1531.6 Q2290.32 1524.47 2288.49 1520.93 Q2286.69 1517.37 2283.05 1517.37 M2283.05 1513.66 Q2288.86 1513.66 2291.92 1518.27 Q2295 1522.85 2295 1531.6 Q2295 1540.33 2291.92 1544.94 Q2288.86 1549.52 2283.05 1549.52 Q2277.24 1549.52 2274.16 1544.94 Q2271.11 1540.33 2271.11 1531.6 Q2271.11 1522.85 2274.16 1518.27 Q2277.24 1513.66 2283.05 1513.66 Z\" fill=\"#000000\" fill-rule=\"nonzero\" fill-opacity=\"1\" /><path clip-path=\"url(#clip450)\" d=\"M2303.21 1542.97 L2308.1 1542.97 L2308.1 1548.85 L2303.21 1548.85 L2303.21 1542.97 Z\" fill=\"#000000\" fill-rule=\"nonzero\" fill-opacity=\"1\" /><path clip-path=\"url(#clip450)\" d=\"M2328.28 1517.37 Q2324.67 1517.37 2322.84 1520.93 Q2321.04 1524.47 2321.04 1531.6 Q2321.04 1538.71 2322.84 1542.27 Q2324.67 1545.82 2328.28 1545.82 Q2331.92 1545.82 2333.72 1542.27 Q2335.55 1538.71 2335.55 1531.6 Q2335.55 1524.47 2333.72 1520.93 Q2331.92 1517.37 2328.28 1517.37 M2328.28 1513.66 Q2334.09 1513.66 2337.15 1518.27 Q2340.23 1522.85 2340.23 1531.6 Q2340.23 1540.33 2337.15 1544.94 Q2334.09 1549.52 2328.28 1549.52 Q2322.47 1549.52 2319.4 1544.94 Q2316.34 1540.33 2316.34 1531.6 Q2316.34 1522.85 2319.4 1518.27 Q2322.47 1513.66 2328.28 1513.66 Z\" fill=\"#000000\" fill-rule=\"nonzero\" fill-opacity=\"1\" /><polyline clip-path=\"url(#clip452)\" style=\"stroke:#000000; stroke-linecap:round; stroke-linejoin:round; stroke-width:2; stroke-opacity:0.1; fill:none\" points=\"192.941,1385.76 2352.76,1385.76 \"/>\n",
       "<polyline clip-path=\"url(#clip452)\" style=\"stroke:#000000; stroke-linecap:round; stroke-linejoin:round; stroke-width:2; stroke-opacity:0.1; fill:none\" points=\"192.941,1068.61 2352.76,1068.61 \"/>\n",
       "<polyline clip-path=\"url(#clip452)\" style=\"stroke:#000000; stroke-linecap:round; stroke-linejoin:round; stroke-width:2; stroke-opacity:0.1; fill:none\" points=\"192.941,751.45 2352.76,751.45 \"/>\n",
       "<polyline clip-path=\"url(#clip452)\" style=\"stroke:#000000; stroke-linecap:round; stroke-linejoin:round; stroke-width:2; stroke-opacity:0.1; fill:none\" points=\"192.941,434.293 2352.76,434.293 \"/>\n",
       "<polyline clip-path=\"url(#clip452)\" style=\"stroke:#000000; stroke-linecap:round; stroke-linejoin:round; stroke-width:2; stroke-opacity:0.1; fill:none\" points=\"192.941,117.136 2352.76,117.136 \"/>\n",
       "<polyline clip-path=\"url(#clip450)\" style=\"stroke:#000000; stroke-linecap:round; stroke-linejoin:round; stroke-width:4; stroke-opacity:1; fill:none\" points=\"192.941,1486.45 192.941,47.2441 \"/>\n",
       "<polyline clip-path=\"url(#clip450)\" style=\"stroke:#000000; stroke-linecap:round; stroke-linejoin:round; stroke-width:4; stroke-opacity:1; fill:none\" points=\"192.941,1385.76 211.838,1385.76 \"/>\n",
       "<polyline clip-path=\"url(#clip450)\" style=\"stroke:#000000; stroke-linecap:round; stroke-linejoin:round; stroke-width:4; stroke-opacity:1; fill:none\" points=\"192.941,1068.61 211.838,1068.61 \"/>\n",
       "<polyline clip-path=\"url(#clip450)\" style=\"stroke:#000000; stroke-linecap:round; stroke-linejoin:round; stroke-width:4; stroke-opacity:1; fill:none\" points=\"192.941,751.45 211.838,751.45 \"/>\n",
       "<polyline clip-path=\"url(#clip450)\" style=\"stroke:#000000; stroke-linecap:round; stroke-linejoin:round; stroke-width:4; stroke-opacity:1; fill:none\" points=\"192.941,434.293 211.838,434.293 \"/>\n",
       "<polyline clip-path=\"url(#clip450)\" style=\"stroke:#000000; stroke-linecap:round; stroke-linejoin:round; stroke-width:4; stroke-opacity:1; fill:none\" points=\"192.941,117.136 211.838,117.136 \"/>\n",
       "<path clip-path=\"url(#clip450)\" d=\"M50.9921 1386.22 L80.6679 1386.22 L80.6679 1390.15 L50.9921 1390.15 L50.9921 1386.22 Z\" fill=\"#000000\" fill-rule=\"nonzero\" fill-opacity=\"1\" /><path clip-path=\"url(#clip450)\" d=\"M100.76 1371.56 Q97.1493 1371.56 95.3206 1375.13 Q93.515 1378.67 93.515 1385.8 Q93.515 1392.9 95.3206 1396.47 Q97.1493 1400.01 100.76 1400.01 Q104.395 1400.01 106.2 1396.47 Q108.029 1392.9 108.029 1385.8 Q108.029 1378.67 106.2 1375.13 Q104.395 1371.56 100.76 1371.56 M100.76 1367.86 Q106.571 1367.86 109.626 1372.47 Q112.705 1377.05 112.705 1385.8 Q112.705 1394.53 109.626 1399.13 Q106.571 1403.71 100.76 1403.71 Q94.9502 1403.71 91.8715 1399.13 Q88.816 1394.53 88.816 1385.8 Q88.816 1377.05 91.8715 1372.47 Q94.9502 1367.86 100.76 1367.86 Z\" fill=\"#000000\" fill-rule=\"nonzero\" fill-opacity=\"1\" /><path clip-path=\"url(#clip450)\" d=\"M120.922 1397.16 L125.807 1397.16 L125.807 1403.04 L120.922 1403.04 L120.922 1397.16 Z\" fill=\"#000000\" fill-rule=\"nonzero\" fill-opacity=\"1\" /><path clip-path=\"url(#clip450)\" d=\"M136.038 1368.48 L154.394 1368.48 L154.394 1372.42 L140.32 1372.42 L140.32 1380.89 Q141.339 1380.54 142.357 1380.38 Q143.376 1380.2 144.394 1380.2 Q150.181 1380.2 153.561 1383.37 Q156.941 1386.54 156.941 1391.96 Q156.941 1397.53 153.468 1400.64 Q149.996 1403.71 143.677 1403.71 Q141.501 1403.71 139.232 1403.34 Q136.987 1402.97 134.58 1402.23 L134.58 1397.53 Q136.663 1398.67 138.885 1399.22 Q141.107 1399.78 143.584 1399.78 Q147.589 1399.78 149.927 1397.67 Q152.265 1395.57 152.265 1391.96 Q152.265 1388.34 149.927 1386.24 Q147.589 1384.13 143.584 1384.13 Q141.709 1384.13 139.834 1384.55 Q137.982 1384.97 136.038 1385.84 L136.038 1368.48 Z\" fill=\"#000000\" fill-rule=\"nonzero\" fill-opacity=\"1\" /><path clip-path=\"url(#clip450)\" d=\"M99.765 1054.41 Q96.1539 1054.41 94.3252 1057.97 Q92.5197 1061.51 92.5197 1068.64 Q92.5197 1075.75 94.3252 1079.31 Q96.1539 1082.85 99.765 1082.85 Q103.399 1082.85 105.205 1079.31 Q107.033 1075.75 107.033 1068.64 Q107.033 1061.51 105.205 1057.97 Q103.399 1054.41 99.765 1054.41 M99.765 1050.7 Q105.575 1050.7 108.631 1055.31 Q111.709 1059.89 111.709 1068.64 Q111.709 1077.37 108.631 1081.97 Q105.575 1086.56 99.765 1086.56 Q93.9549 1086.56 90.8762 1081.97 Q87.8206 1077.37 87.8206 1068.64 Q87.8206 1059.89 90.8762 1055.31 Q93.9549 1050.7 99.765 1050.7 Z\" fill=\"#000000\" fill-rule=\"nonzero\" fill-opacity=\"1\" /><path clip-path=\"url(#clip450)\" d=\"M119.927 1080.01 L124.811 1080.01 L124.811 1085.89 L119.927 1085.89 L119.927 1080.01 Z\" fill=\"#000000\" fill-rule=\"nonzero\" fill-opacity=\"1\" /><path clip-path=\"url(#clip450)\" d=\"M144.996 1054.41 Q141.385 1054.41 139.556 1057.97 Q137.751 1061.51 137.751 1068.64 Q137.751 1075.75 139.556 1079.31 Q141.385 1082.85 144.996 1082.85 Q148.63 1082.85 150.436 1079.31 Q152.265 1075.75 152.265 1068.64 Q152.265 1061.51 150.436 1057.97 Q148.63 1054.41 144.996 1054.41 M144.996 1050.7 Q150.806 1050.7 153.862 1055.31 Q156.941 1059.89 156.941 1068.64 Q156.941 1077.37 153.862 1081.97 Q150.806 1086.56 144.996 1086.56 Q139.186 1086.56 136.107 1081.97 Q133.052 1077.37 133.052 1068.64 Q133.052 1059.89 136.107 1055.31 Q139.186 1050.7 144.996 1050.7 Z\" fill=\"#000000\" fill-rule=\"nonzero\" fill-opacity=\"1\" /><path clip-path=\"url(#clip450)\" d=\"M100.76 737.248 Q97.1493 737.248 95.3206 740.813 Q93.515 744.355 93.515 751.485 Q93.515 758.591 95.3206 762.156 Q97.1493 765.697 100.76 765.697 Q104.395 765.697 106.2 762.156 Q108.029 758.591 108.029 751.485 Q108.029 744.355 106.2 740.813 Q104.395 737.248 100.76 737.248 M100.76 733.545 Q106.571 733.545 109.626 738.151 Q112.705 742.735 112.705 751.485 Q112.705 760.211 109.626 764.818 Q106.571 769.401 100.76 769.401 Q94.9502 769.401 91.8715 764.818 Q88.816 760.211 88.816 751.485 Q88.816 742.735 91.8715 738.151 Q94.9502 733.545 100.76 733.545 Z\" fill=\"#000000\" fill-rule=\"nonzero\" fill-opacity=\"1\" /><path clip-path=\"url(#clip450)\" d=\"M120.922 762.85 L125.807 762.85 L125.807 768.73 L120.922 768.73 L120.922 762.85 Z\" fill=\"#000000\" fill-rule=\"nonzero\" fill-opacity=\"1\" /><path clip-path=\"url(#clip450)\" d=\"M136.038 734.17 L154.394 734.17 L154.394 738.105 L140.32 738.105 L140.32 746.577 Q141.339 746.23 142.357 746.068 Q143.376 745.883 144.394 745.883 Q150.181 745.883 153.561 749.054 Q156.941 752.225 156.941 757.642 Q156.941 763.221 153.468 766.322 Q149.996 769.401 143.677 769.401 Q141.501 769.401 139.232 769.031 Q136.987 768.66 134.58 767.92 L134.58 763.221 Q136.663 764.355 138.885 764.91 Q141.107 765.466 143.584 765.466 Q147.589 765.466 149.927 763.359 Q152.265 761.253 152.265 757.642 Q152.265 754.031 149.927 751.924 Q147.589 749.818 143.584 749.818 Q141.709 749.818 139.834 750.235 Q137.982 750.651 136.038 751.531 L136.038 734.17 Z\" fill=\"#000000\" fill-rule=\"nonzero\" fill-opacity=\"1\" /><path clip-path=\"url(#clip450)\" d=\"M90.5752 447.638 L98.2141 447.638 L98.2141 421.272 L89.904 422.939 L89.904 418.679 L98.1678 417.013 L102.844 417.013 L102.844 447.638 L110.483 447.638 L110.483 451.573 L90.5752 451.573 L90.5752 447.638 Z\" fill=\"#000000\" fill-rule=\"nonzero\" fill-opacity=\"1\" /><path clip-path=\"url(#clip450)\" d=\"M119.927 445.693 L124.811 445.693 L124.811 451.573 L119.927 451.573 L119.927 445.693 Z\" fill=\"#000000\" fill-rule=\"nonzero\" fill-opacity=\"1\" /><path clip-path=\"url(#clip450)\" d=\"M144.996 420.092 Q141.385 420.092 139.556 423.656 Q137.751 427.198 137.751 434.328 Q137.751 441.434 139.556 444.999 Q141.385 448.54 144.996 448.54 Q148.63 448.54 150.436 444.999 Q152.265 441.434 152.265 434.328 Q152.265 427.198 150.436 423.656 Q148.63 420.092 144.996 420.092 M144.996 416.388 Q150.806 416.388 153.862 420.994 Q156.941 425.578 156.941 434.328 Q156.941 443.054 153.862 447.661 Q150.806 452.244 144.996 452.244 Q139.186 452.244 136.107 447.661 Q133.052 443.054 133.052 434.328 Q133.052 425.578 136.107 420.994 Q139.186 416.388 144.996 416.388 Z\" fill=\"#000000\" fill-rule=\"nonzero\" fill-opacity=\"1\" /><path clip-path=\"url(#clip450)\" d=\"M91.5706 130.481 L99.2095 130.481 L99.2095 104.115 L90.8993 105.782 L90.8993 101.523 L99.1632 99.8559 L103.839 99.8559 L103.839 130.481 L111.478 130.481 L111.478 134.416 L91.5706 134.416 L91.5706 130.481 Z\" fill=\"#000000\" fill-rule=\"nonzero\" fill-opacity=\"1\" /><path clip-path=\"url(#clip450)\" d=\"M120.922 128.536 L125.807 128.536 L125.807 134.416 L120.922 134.416 L120.922 128.536 Z\" fill=\"#000000\" fill-rule=\"nonzero\" fill-opacity=\"1\" /><path clip-path=\"url(#clip450)\" d=\"M136.038 99.8559 L154.394 99.8559 L154.394 103.791 L140.32 103.791 L140.32 112.263 Q141.339 111.916 142.357 111.754 Q143.376 111.569 144.394 111.569 Q150.181 111.569 153.561 114.74 Q156.941 117.911 156.941 123.328 Q156.941 128.907 153.468 132.008 Q149.996 135.087 143.677 135.087 Q141.501 135.087 139.232 134.717 Q136.987 134.346 134.58 133.606 L134.58 128.907 Q136.663 130.041 138.885 130.596 Q141.107 131.152 143.584 131.152 Q147.589 131.152 149.927 129.046 Q152.265 126.939 152.265 123.328 Q152.265 119.717 149.927 117.61 Q147.589 115.504 143.584 115.504 Q141.709 115.504 139.834 115.921 Q137.982 116.337 136.038 117.217 L136.038 99.8559 Z\" fill=\"#000000\" fill-rule=\"nonzero\" fill-opacity=\"1\" /><polyline clip-path=\"url(#clip452)\" style=\"stroke:#009af9; stroke-linecap:round; stroke-linejoin:round; stroke-width:4; stroke-opacity:1; fill:none\" points=\"254.067,1068.61 264.255,1068.61 274.443,1068.61 284.631,1068.61 294.819,1068.61 305.007,1068.61 315.194,1068.61 325.382,1068.61 335.57,1068.61 345.758,1068.61 355.946,1068.61 366.133,1068.61 376.321,1068.61 386.509,1068.61 396.697,1068.61 406.885,1068.61 417.072,1068.61 427.26,1068.61 437.448,1068.62 447.636,1068.62 457.824,1068.62 468.011,1068.62 478.199,1068.62 488.387,1068.62 498.575,1068.62 508.763,1068.63 518.95,1068.63 529.138,1068.63 539.326,1068.63 549.514,1068.63 559.702,1068.64 569.89,1068.64 580.077,1068.64 590.265,1068.64 600.453,1068.65 610.641,1068.65 620.829,1068.65 631.016,1068.66 641.204,1068.66 651.392,1068.67 661.58,1068.67 671.768,1068.68 681.955,1068.68 692.143,1068.69 702.331,1068.69 712.519,1068.7 722.707,1068.71 732.894,1068.71 743.082,1068.72 753.27,1068.73 763.458,1068.74 773.646,1068.75 783.833,1068.76 794.021,1068.77 804.209,1068.78 814.397,1068.79 824.585,1068.81 834.773,1068.82 844.96,1068.84 855.148,1068.85 865.336,1068.87 875.524,1068.89 885.712,1068.91 895.899,1068.93 906.087,1068.96 916.275,1068.98 926.463,1069.01 936.651,1069.03 946.838,1069.06 957.026,1069.1 967.214,1069.13 977.402,1069.17 987.59,1069.2 997.777,1069.25 1007.97,1069.29 1018.15,1069.34 1028.34,1069.39 1038.53,1069.44 1048.72,1069.5 1058.9,1069.56 1069.09,1069.63 1079.28,1069.7 1089.47,1069.77 1099.66,1069.85 1109.84,1069.93 1120.03,1070.02 1130.22,1070.12 1140.41,1070.22 1150.59,1070.33 1160.78,1070.44 1170.97,1070.56 1181.16,1070.69 1191.35,1070.82 1201.53,1070.97 1211.72,1071.12 1221.91,1071.29 1232.1,1071.46 1242.28,1071.65 1252.47,1071.84 1262.66,1072.06 1272.85,1072.28 1283.04,1072.52 1293.22,1072.78 1303.41,1073.05 1313.6,1073.34 1323.79,1073.65 1333.98,1073.99 1344.16,1074.34 1354.35,1074.71 1364.54,1075.11 1374.73,1075.53 1384.91,1075.97 1395.1,1076.44 1405.29,1076.93 1415.48,1077.45 1425.67,1077.99 1435.85,1078.56 1446.04,1079.15 1456.23,1079.78 1466.42,1080.43 1476.6,1081.12 1486.79,1081.83 1496.98,1082.59 1507.17,1083.38 1517.36,1084.21 1527.54,1085.1 1537.73,1086.04 1547.92,1087.03 1558.11,1088.1 1568.29,1089.24 1578.48,1090.46 1588.67,1091.77 1598.86,1093.18 1609.05,1094.69 1619.23,1096.31 1629.42,1098.05 1639.61,1099.9 1649.8,1101.86 1659.98,1103.93 1670.17,1106.1 1680.36,1108.37 1690.55,1110.71 1700.74,1113.12 1710.92,1115.57 1721.11,1118.05 1731.3,1120.53 1741.49,1122.98 1751.68,1125.39 1761.86,1127.75 1772.05,1130.03 1782.24,1132.24 1792.43,1134.37 1802.61,1136.45 1812.8,1138.51 1822.99,1140.58 1833.18,1142.73 1843.37,1145.03 1853.55,1147.56 1863.74,1150.43 1873.93,1153.74 1884.12,1157.61 1894.3,1162.12 1904.49,1167.39 1914.68,1173.49 1924.87,1180.46 1935.06,1188.3 1945.24,1196.96 1955.43,1206.35 1965.62,1216.27 1975.81,1226.48 1985.99,1236.64 1996.18,1246.34 2006.37,1255.1 2016.56,1262.36 2026.75,1267.51 2036.93,1269.91 2047.12,1268.93 2057.31,1263.98 2067.5,1254.59 2077.69,1240.43 2087.87,1221.4 2098.06,1197.59 2108.25,1169.35 2118.44,1137.18 2128.62,1101.76 2138.81,1063.94 2149,1024.8 2159.19,985.677 2169.38,948.334 2179.56,915.039 2189.75,888.609 2199.94,872.194 2210.13,868.493 2220.31,878.288 2230.5,899.282 2240.69,926.802 2250.88,955.887 2261.07,982.75 2271.25,1005.06 2281.44,1021.64 2291.63,1032.08 \"/>\n",
       "<polyline clip-path=\"url(#clip452)\" style=\"stroke:#e26f46; stroke-linecap:round; stroke-linejoin:round; stroke-width:4; stroke-opacity:1; fill:none\" points=\"254.067,1068.61 264.255,1068.61 274.443,1068.61 284.631,1068.61 294.819,1068.61 305.007,1068.61 315.194,1068.6 325.382,1068.6 335.57,1068.6 345.758,1068.6 355.946,1068.6 366.133,1068.6 376.321,1068.6 386.509,1068.6 396.697,1068.6 406.885,1068.6 417.072,1068.6 427.26,1068.6 437.448,1068.6 447.636,1068.6 457.824,1068.6 468.011,1068.6 478.199,1068.6 488.387,1068.6 498.575,1068.6 508.763,1068.6 518.95,1068.6 529.138,1068.6 539.326,1068.6 549.514,1068.6 559.702,1068.6 569.89,1068.6 580.077,1068.6 590.265,1068.6 600.453,1068.6 610.641,1068.6 620.829,1068.6 631.016,1068.6 641.204,1068.6 651.392,1068.6 661.58,1068.59 671.768,1068.59 681.955,1068.59 692.143,1068.59 702.331,1068.59 712.519,1068.59 722.707,1068.59 732.894,1068.59 743.082,1068.59 753.27,1068.58 763.458,1068.58 773.646,1068.58 783.833,1068.58 794.021,1068.58 804.209,1068.58 814.397,1068.57 824.585,1068.57 834.773,1068.57 844.96,1068.57 855.148,1068.56 865.336,1068.56 875.524,1068.56 885.712,1068.56 895.899,1068.55 906.087,1068.55 916.275,1068.54 926.463,1068.54 936.651,1068.54 946.838,1068.53 957.026,1068.53 967.214,1068.52 977.402,1068.51 987.59,1068.51 997.777,1068.5 1007.97,1068.49 1018.15,1068.48 1028.34,1068.48 1038.53,1068.47 1048.72,1068.46 1058.9,1068.45 1069.09,1068.44 1079.28,1068.43 1089.47,1068.42 1099.66,1068.41 1109.84,1068.4 1120.03,1068.39 1130.22,1068.37 1140.41,1068.36 1150.59,1068.35 1160.78,1068.34 1170.97,1068.32 1181.16,1068.31 1191.35,1068.29 1201.53,1068.27 1211.72,1068.25 1221.91,1068.23 1232.1,1068.21 1242.28,1068.18 1252.47,1068.14 1262.66,1068.11 1272.85,1068.07 1283.04,1068.03 1293.22,1067.98 1303.41,1067.93 1313.6,1067.87 1323.79,1067.82 1333.98,1067.76 1344.16,1067.7 1354.35,1067.65 1364.54,1067.59 1374.73,1067.54 1384.91,1067.49 1395.1,1067.45 1405.29,1067.42 1415.48,1067.39 1425.67,1067.38 1435.85,1067.37 1446.04,1067.36 1456.23,1067.37 1466.42,1067.37 1476.6,1067.38 1486.79,1067.37 1496.98,1067.36 1507.17,1067.33 1517.36,1067.28 1527.54,1067.19 1537.73,1067.07 1547.92,1066.9 1558.11,1066.68 1568.29,1066.4 1578.48,1066.08 1588.67,1065.69 1598.86,1065.26 1609.05,1064.78 1619.23,1064.27 1629.42,1063.75 1639.61,1063.24 1649.8,1062.77 1659.98,1062.36 1670.17,1062.06 1680.36,1061.89 1690.55,1061.88 1700.74,1062.08 1710.92,1062.52 1721.11,1063.2 1731.3,1064.15 1741.49,1065.35 1751.68,1066.8 1761.86,1068.46 1772.05,1070.27 1782.24,1072.14 1792.43,1073.98 1802.61,1075.67 1812.8,1077.07 1822.99,1078.02 1833.18,1078.35 1843.37,1077.91 1853.55,1076.55 1863.74,1074.13 1873.93,1070.57 1884.12,1065.81 1894.3,1059.88 1904.49,1052.88 1914.68,1045 1924.87,1036.54 1935.06,1027.91 1945.24,1019.63 1955.43,1012.31 1965.62,1006.66 1975.81,1003.48 1985.99,1003.56 1996.18,1007.72 2006.37,1016.73 2016.56,1031.24 2026.75,1051.77 2036.93,1078.6 2047.12,1111.66 2057.31,1150.51 2067.5,1194.14 2077.69,1240.98 2087.87,1288.87 2098.06,1335.15 2108.25,1376.86 2118.44,1411.04 2128.62,1434.83 2138.81,1445.72 2149,1441.43 2159.19,1419.92 2169.38,1379.06 2179.56,1316.48 2189.75,1229.41 2199.94,1115.25 2210.13,973.647 2220.31,810.192 2230.5,638.453 2240.69,475.674 2250.88,335.593 2261.07,225.457 2271.25,147.577 2281.44,101.932 2291.63,87.9763 \"/>\n",
       "<path clip-path=\"url(#clip450)\" d=\"M264.934 250.738 L533.346 250.738 L533.346 95.2176 L264.934 95.2176  Z\" fill=\"#ffffff\" fill-rule=\"evenodd\" fill-opacity=\"1\"/>\n",
       "<polyline clip-path=\"url(#clip450)\" style=\"stroke:#000000; stroke-linecap:round; stroke-linejoin:round; stroke-width:4; stroke-opacity:1; fill:none\" points=\"264.934,250.738 533.346,250.738 533.346,95.2176 264.934,95.2176 264.934,250.738 \"/>\n",
       "<polyline clip-path=\"url(#clip450)\" style=\"stroke:#009af9; stroke-linecap:round; stroke-linejoin:round; stroke-width:4; stroke-opacity:1; fill:none\" points=\"288.932,147.058 432.92,147.058 \"/>\n",
       "<path clip-path=\"url(#clip450)\" d=\"M470.761 166.745 Q468.955 171.375 467.242 172.787 Q465.529 174.199 462.659 174.199 L459.256 174.199 L459.256 170.634 L461.756 170.634 Q463.515 170.634 464.487 169.8 Q465.46 168.967 466.64 165.865 L467.404 163.921 L456.918 138.412 L461.432 138.412 L469.534 158.689 L477.636 138.412 L482.149 138.412 L470.761 166.745 Z\" fill=\"#000000\" fill-rule=\"nonzero\" fill-opacity=\"1\" /><path clip-path=\"url(#clip450)\" d=\"M489.441 160.402 L497.08 160.402 L497.08 134.037 L488.77 135.703 L488.77 131.444 L497.034 129.778 L501.709 129.778 L501.709 160.402 L509.348 160.402 L509.348 164.338 L489.441 164.338 L489.441 160.402 Z\" fill=\"#000000\" fill-rule=\"nonzero\" fill-opacity=\"1\" /><polyline clip-path=\"url(#clip450)\" style=\"stroke:#e26f46; stroke-linecap:round; stroke-linejoin:round; stroke-width:4; stroke-opacity:1; fill:none\" points=\"288.932,198.898 432.92,198.898 \"/>\n",
       "<path clip-path=\"url(#clip450)\" d=\"M470.761 218.585 Q468.955 223.215 467.242 224.627 Q465.529 226.039 462.659 226.039 L459.256 226.039 L459.256 222.474 L461.756 222.474 Q463.515 222.474 464.487 221.64 Q465.46 220.807 466.64 217.705 L467.404 215.761 L456.918 190.252 L461.432 190.252 L469.534 210.529 L477.636 190.252 L482.149 190.252 L470.761 218.585 Z\" fill=\"#000000\" fill-rule=\"nonzero\" fill-opacity=\"1\" /><path clip-path=\"url(#clip450)\" d=\"M492.659 212.242 L508.978 212.242 L508.978 216.178 L487.034 216.178 L487.034 212.242 Q489.696 209.488 494.279 204.858 Q498.885 200.205 500.066 198.863 Q502.311 196.34 503.191 194.604 Q504.094 192.844 504.094 191.155 Q504.094 188.4 502.149 186.664 Q500.228 184.928 497.126 184.928 Q494.927 184.928 492.473 185.692 Q490.043 186.455 487.265 188.006 L487.265 183.284 Q490.089 182.15 492.543 181.571 Q494.997 180.993 497.034 180.993 Q502.404 180.993 505.598 183.678 Q508.793 186.363 508.793 190.854 Q508.793 192.983 507.983 194.905 Q507.196 196.803 505.089 199.395 Q504.51 200.067 501.409 203.284 Q498.307 206.479 492.659 212.242 Z\" fill=\"#000000\" fill-rule=\"nonzero\" fill-opacity=\"1\" /></svg>\n"
      ]
     },
     "execution_count": 71,
     "metadata": {},
     "output_type": "execute_result"
    }
   ],
   "source": [
    "plot(thist,xtraj[1,:])\n",
    "plot!(thist,xtraj[2,:])"
   ]
  },
  {
   "cell_type": "code",
   "execution_count": 72,
   "id": "6af500a5-f1b3-4d60-9ff7-e480d1eaba71",
   "metadata": {},
   "outputs": [
    {
     "data": {
      "image/svg+xml": [
       "<?xml version=\"1.0\" encoding=\"utf-8\"?>\n",
       "<svg xmlns=\"http://www.w3.org/2000/svg\" xmlns:xlink=\"http://www.w3.org/1999/xlink\" width=\"600\" height=\"400\" viewBox=\"0 0 2400 1600\">\n",
       "<defs>\n",
       "  <clipPath id=\"clip490\">\n",
       "    <rect x=\"0\" y=\"0\" width=\"2400\" height=\"1600\"/>\n",
       "  </clipPath>\n",
       "</defs>\n",
       "<path clip-path=\"url(#clip490)\" d=\"M0 1600 L2400 1600 L2400 0 L0 0  Z\" fill=\"#ffffff\" fill-rule=\"evenodd\" fill-opacity=\"1\"/>\n",
       "<defs>\n",
       "  <clipPath id=\"clip491\">\n",
       "    <rect x=\"480\" y=\"0\" width=\"1681\" height=\"1600\"/>\n",
       "  </clipPath>\n",
       "</defs>\n",
       "<path clip-path=\"url(#clip490)\" d=\"M148.867 1486.45 L2352.76 1486.45 L2352.76 47.2441 L148.867 47.2441  Z\" fill=\"#ffffff\" fill-rule=\"evenodd\" fill-opacity=\"1\"/>\n",
       "<defs>\n",
       "  <clipPath id=\"clip492\">\n",
       "    <rect x=\"148\" y=\"47\" width=\"2205\" height=\"1440\"/>\n",
       "  </clipPath>\n",
       "</defs>\n",
       "<polyline clip-path=\"url(#clip492)\" style=\"stroke:#000000; stroke-linecap:round; stroke-linejoin:round; stroke-width:2; stroke-opacity:0.1; fill:none\" points=\"211.241,1486.45 211.241,47.2441 \"/>\n",
       "<polyline clip-path=\"url(#clip492)\" style=\"stroke:#000000; stroke-linecap:round; stroke-linejoin:round; stroke-width:2; stroke-opacity:0.1; fill:none\" points=\"733.638,1486.45 733.638,47.2441 \"/>\n",
       "<polyline clip-path=\"url(#clip492)\" style=\"stroke:#000000; stroke-linecap:round; stroke-linejoin:round; stroke-width:2; stroke-opacity:0.1; fill:none\" points=\"1256.04,1486.45 1256.04,47.2441 \"/>\n",
       "<polyline clip-path=\"url(#clip492)\" style=\"stroke:#000000; stroke-linecap:round; stroke-linejoin:round; stroke-width:2; stroke-opacity:0.1; fill:none\" points=\"1778.43,1486.45 1778.43,47.2441 \"/>\n",
       "<polyline clip-path=\"url(#clip492)\" style=\"stroke:#000000; stroke-linecap:round; stroke-linejoin:round; stroke-width:2; stroke-opacity:0.1; fill:none\" points=\"2300.83,1486.45 2300.83,47.2441 \"/>\n",
       "<polyline clip-path=\"url(#clip490)\" style=\"stroke:#000000; stroke-linecap:round; stroke-linejoin:round; stroke-width:4; stroke-opacity:1; fill:none\" points=\"148.867,1486.45 2352.76,1486.45 \"/>\n",
       "<polyline clip-path=\"url(#clip490)\" style=\"stroke:#000000; stroke-linecap:round; stroke-linejoin:round; stroke-width:4; stroke-opacity:1; fill:none\" points=\"211.241,1486.45 211.241,1467.55 \"/>\n",
       "<polyline clip-path=\"url(#clip490)\" style=\"stroke:#000000; stroke-linecap:round; stroke-linejoin:round; stroke-width:4; stroke-opacity:1; fill:none\" points=\"733.638,1486.45 733.638,1467.55 \"/>\n",
       "<polyline clip-path=\"url(#clip490)\" style=\"stroke:#000000; stroke-linecap:round; stroke-linejoin:round; stroke-width:4; stroke-opacity:1; fill:none\" points=\"1256.04,1486.45 1256.04,1467.55 \"/>\n",
       "<polyline clip-path=\"url(#clip490)\" style=\"stroke:#000000; stroke-linecap:round; stroke-linejoin:round; stroke-width:4; stroke-opacity:1; fill:none\" points=\"1778.43,1486.45 1778.43,1467.55 \"/>\n",
       "<polyline clip-path=\"url(#clip490)\" style=\"stroke:#000000; stroke-linecap:round; stroke-linejoin:round; stroke-width:4; stroke-opacity:1; fill:none\" points=\"2300.83,1486.45 2300.83,1467.55 \"/>\n",
       "<path clip-path=\"url(#clip490)\" d=\"M188.625 1517.37 Q185.014 1517.37 183.186 1520.93 Q181.38 1524.47 181.38 1531.6 Q181.38 1538.71 183.186 1542.27 Q185.014 1545.82 188.625 1545.82 Q192.26 1545.82 194.065 1542.27 Q195.894 1538.71 195.894 1531.6 Q195.894 1524.47 194.065 1520.93 Q192.26 1517.37 188.625 1517.37 M188.625 1513.66 Q194.436 1513.66 197.491 1518.27 Q200.57 1522.85 200.57 1531.6 Q200.57 1540.33 197.491 1544.94 Q194.436 1549.52 188.625 1549.52 Q182.815 1549.52 179.737 1544.94 Q176.681 1540.33 176.681 1531.6 Q176.681 1522.85 179.737 1518.27 Q182.815 1513.66 188.625 1513.66 Z\" fill=\"#000000\" fill-rule=\"nonzero\" fill-opacity=\"1\" /><path clip-path=\"url(#clip490)\" d=\"M208.787 1542.97 L213.672 1542.97 L213.672 1548.85 L208.787 1548.85 L208.787 1542.97 Z\" fill=\"#000000\" fill-rule=\"nonzero\" fill-opacity=\"1\" /><path clip-path=\"url(#clip490)\" d=\"M233.857 1517.37 Q230.246 1517.37 228.417 1520.93 Q226.611 1524.47 226.611 1531.6 Q226.611 1538.71 228.417 1542.27 Q230.246 1545.82 233.857 1545.82 Q237.491 1545.82 239.296 1542.27 Q241.125 1538.71 241.125 1531.6 Q241.125 1524.47 239.296 1520.93 Q237.491 1517.37 233.857 1517.37 M233.857 1513.66 Q239.667 1513.66 242.722 1518.27 Q245.801 1522.85 245.801 1531.6 Q245.801 1540.33 242.722 1544.94 Q239.667 1549.52 233.857 1549.52 Q228.046 1549.52 224.968 1544.94 Q221.912 1540.33 221.912 1531.6 Q221.912 1522.85 224.968 1518.27 Q228.046 1513.66 233.857 1513.66 Z\" fill=\"#000000\" fill-rule=\"nonzero\" fill-opacity=\"1\" /><path clip-path=\"url(#clip490)\" d=\"M705.374 1544.91 L721.694 1544.91 L721.694 1548.85 L699.749 1548.85 L699.749 1544.91 Q702.411 1542.16 706.995 1537.53 Q711.601 1532.88 712.782 1531.53 Q715.027 1529.01 715.907 1527.27 Q716.81 1525.51 716.81 1523.82 Q716.81 1521.07 714.865 1519.33 Q712.944 1517.6 709.842 1517.6 Q707.643 1517.6 705.189 1518.36 Q702.759 1519.13 699.981 1520.68 L699.981 1515.95 Q702.805 1514.82 705.259 1514.24 Q707.712 1513.66 709.749 1513.66 Q715.12 1513.66 718.314 1516.35 Q721.509 1519.03 721.509 1523.52 Q721.509 1525.65 720.698 1527.57 Q719.911 1529.47 717.805 1532.07 Q717.226 1532.74 714.124 1535.95 Q711.023 1539.15 705.374 1544.91 Z\" fill=\"#000000\" fill-rule=\"nonzero\" fill-opacity=\"1\" /><path clip-path=\"url(#clip490)\" d=\"M731.509 1542.97 L736.393 1542.97 L736.393 1548.85 L731.509 1548.85 L731.509 1542.97 Z\" fill=\"#000000\" fill-rule=\"nonzero\" fill-opacity=\"1\" /><path clip-path=\"url(#clip490)\" d=\"M746.624 1514.29 L764.981 1514.29 L764.981 1518.22 L750.907 1518.22 L750.907 1526.7 Q751.925 1526.35 752.944 1526.19 Q753.962 1526 754.981 1526 Q760.768 1526 764.147 1529.17 Q767.527 1532.34 767.527 1537.76 Q767.527 1543.34 764.055 1546.44 Q760.582 1549.52 754.263 1549.52 Q752.087 1549.52 749.819 1549.15 Q747.573 1548.78 745.166 1548.04 L745.166 1543.34 Q747.249 1544.47 749.471 1545.03 Q751.694 1545.58 754.17 1545.58 Q758.175 1545.58 760.513 1543.48 Q762.851 1541.37 762.851 1537.76 Q762.851 1534.15 760.513 1532.04 Q758.175 1529.94 754.17 1529.94 Q752.295 1529.94 750.42 1530.35 Q748.569 1530.77 746.624 1531.65 L746.624 1514.29 Z\" fill=\"#000000\" fill-rule=\"nonzero\" fill-opacity=\"1\" /><path clip-path=\"url(#clip490)\" d=\"M1223.2 1514.29 L1241.56 1514.29 L1241.56 1518.22 L1227.48 1518.22 L1227.48 1526.7 Q1228.5 1526.35 1229.52 1526.19 Q1230.54 1526 1231.56 1526 Q1237.34 1526 1240.72 1529.17 Q1244.1 1532.34 1244.1 1537.76 Q1244.1 1543.34 1240.63 1546.44 Q1237.16 1549.52 1230.84 1549.52 Q1228.66 1549.52 1226.39 1549.15 Q1224.15 1548.78 1221.74 1548.04 L1221.74 1543.34 Q1223.82 1544.47 1226.05 1545.03 Q1228.27 1545.58 1230.75 1545.58 Q1234.75 1545.58 1237.09 1543.48 Q1239.43 1541.37 1239.43 1537.76 Q1239.43 1534.15 1237.09 1532.04 Q1234.75 1529.94 1230.75 1529.94 Q1228.87 1529.94 1227 1530.35 Q1225.14 1530.77 1223.2 1531.65 L1223.2 1514.29 Z\" fill=\"#000000\" fill-rule=\"nonzero\" fill-opacity=\"1\" /><path clip-path=\"url(#clip490)\" d=\"M1253.32 1542.97 L1258.2 1542.97 L1258.2 1548.85 L1253.32 1548.85 L1253.32 1542.97 Z\" fill=\"#000000\" fill-rule=\"nonzero\" fill-opacity=\"1\" /><path clip-path=\"url(#clip490)\" d=\"M1278.38 1517.37 Q1274.77 1517.37 1272.94 1520.93 Q1271.14 1524.47 1271.14 1531.6 Q1271.14 1538.71 1272.94 1542.27 Q1274.77 1545.82 1278.38 1545.82 Q1282.02 1545.82 1283.82 1542.27 Q1285.65 1538.71 1285.65 1531.6 Q1285.65 1524.47 1283.82 1520.93 Q1282.02 1517.37 1278.38 1517.37 M1278.38 1513.66 Q1284.19 1513.66 1287.25 1518.27 Q1290.33 1522.85 1290.33 1531.6 Q1290.33 1540.33 1287.25 1544.94 Q1284.19 1549.52 1278.38 1549.52 Q1272.57 1549.52 1269.5 1544.94 Q1266.44 1540.33 1266.44 1531.6 Q1266.44 1522.85 1269.5 1518.27 Q1272.57 1513.66 1278.38 1513.66 Z\" fill=\"#000000\" fill-rule=\"nonzero\" fill-opacity=\"1\" /><path clip-path=\"url(#clip490)\" d=\"M1744.75 1514.29 L1766.97 1514.29 L1766.97 1516.28 L1754.43 1548.85 L1749.54 1548.85 L1761.35 1518.22 L1744.75 1518.22 L1744.75 1514.29 Z\" fill=\"#000000\" fill-rule=\"nonzero\" fill-opacity=\"1\" /><path clip-path=\"url(#clip490)\" d=\"M1776.09 1542.97 L1780.98 1542.97 L1780.98 1548.85 L1776.09 1548.85 L1776.09 1542.97 Z\" fill=\"#000000\" fill-rule=\"nonzero\" fill-opacity=\"1\" /><path clip-path=\"url(#clip490)\" d=\"M1791.21 1514.29 L1809.57 1514.29 L1809.57 1518.22 L1795.49 1518.22 L1795.49 1526.7 Q1796.51 1526.35 1797.53 1526.19 Q1798.55 1526 1799.57 1526 Q1805.35 1526 1808.73 1529.17 Q1812.11 1532.34 1812.11 1537.76 Q1812.11 1543.34 1808.64 1546.44 Q1805.17 1549.52 1798.85 1549.52 Q1796.67 1549.52 1794.4 1549.15 Q1792.16 1548.78 1789.75 1548.04 L1789.75 1543.34 Q1791.84 1544.47 1794.06 1545.03 Q1796.28 1545.58 1798.76 1545.58 Q1802.76 1545.58 1805.1 1543.48 Q1807.44 1541.37 1807.44 1537.76 Q1807.44 1534.15 1805.1 1532.04 Q1802.76 1529.94 1798.76 1529.94 Q1796.88 1529.94 1795.01 1530.35 Q1793.15 1530.77 1791.21 1531.65 L1791.21 1514.29 Z\" fill=\"#000000\" fill-rule=\"nonzero\" fill-opacity=\"1\" /><path clip-path=\"url(#clip490)\" d=\"M2252.9 1544.91 L2260.54 1544.91 L2260.54 1518.55 L2252.23 1520.21 L2252.23 1515.95 L2260.49 1514.29 L2265.17 1514.29 L2265.17 1544.91 L2272.81 1544.91 L2272.81 1548.85 L2252.9 1548.85 L2252.9 1544.91 Z\" fill=\"#000000\" fill-rule=\"nonzero\" fill-opacity=\"1\" /><path clip-path=\"url(#clip490)\" d=\"M2292.25 1517.37 Q2288.64 1517.37 2286.81 1520.93 Q2285.01 1524.47 2285.01 1531.6 Q2285.01 1538.71 2286.81 1542.27 Q2288.64 1545.82 2292.25 1545.82 Q2295.89 1545.82 2297.69 1542.27 Q2299.52 1538.71 2299.52 1531.6 Q2299.52 1524.47 2297.69 1520.93 Q2295.89 1517.37 2292.25 1517.37 M2292.25 1513.66 Q2298.06 1513.66 2301.12 1518.27 Q2304.2 1522.85 2304.2 1531.6 Q2304.2 1540.33 2301.12 1544.94 Q2298.06 1549.52 2292.25 1549.52 Q2286.44 1549.52 2283.36 1544.94 Q2280.31 1540.33 2280.31 1531.6 Q2280.31 1522.85 2283.36 1518.27 Q2286.44 1513.66 2292.25 1513.66 Z\" fill=\"#000000\" fill-rule=\"nonzero\" fill-opacity=\"1\" /><path clip-path=\"url(#clip490)\" d=\"M2312.42 1542.97 L2317.3 1542.97 L2317.3 1548.85 L2312.42 1548.85 L2312.42 1542.97 Z\" fill=\"#000000\" fill-rule=\"nonzero\" fill-opacity=\"1\" /><path clip-path=\"url(#clip490)\" d=\"M2337.48 1517.37 Q2333.87 1517.37 2332.04 1520.93 Q2330.24 1524.47 2330.24 1531.6 Q2330.24 1538.71 2332.04 1542.27 Q2333.87 1545.82 2337.48 1545.82 Q2341.12 1545.82 2342.92 1542.27 Q2344.75 1538.71 2344.75 1531.6 Q2344.75 1524.47 2342.92 1520.93 Q2341.12 1517.37 2337.48 1517.37 M2337.48 1513.66 Q2343.29 1513.66 2346.35 1518.27 Q2349.43 1522.85 2349.43 1531.6 Q2349.43 1540.33 2346.35 1544.94 Q2343.29 1549.52 2337.48 1549.52 Q2331.67 1549.52 2328.6 1544.94 Q2325.54 1540.33 2325.54 1531.6 Q2325.54 1522.85 2328.6 1518.27 Q2331.67 1513.66 2337.48 1513.66 Z\" fill=\"#000000\" fill-rule=\"nonzero\" fill-opacity=\"1\" /><polyline clip-path=\"url(#clip492)\" style=\"stroke:#000000; stroke-linecap:round; stroke-linejoin:round; stroke-width:2; stroke-opacity:0.1; fill:none\" points=\"148.867,1382.59 2352.76,1382.59 \"/>\n",
       "<polyline clip-path=\"url(#clip492)\" style=\"stroke:#000000; stroke-linecap:round; stroke-linejoin:round; stroke-width:2; stroke-opacity:0.1; fill:none\" points=\"148.867,1098.03 2352.76,1098.03 \"/>\n",
       "<polyline clip-path=\"url(#clip492)\" style=\"stroke:#000000; stroke-linecap:round; stroke-linejoin:round; stroke-width:2; stroke-opacity:0.1; fill:none\" points=\"148.867,813.466 2352.76,813.466 \"/>\n",
       "<polyline clip-path=\"url(#clip492)\" style=\"stroke:#000000; stroke-linecap:round; stroke-linejoin:round; stroke-width:2; stroke-opacity:0.1; fill:none\" points=\"148.867,528.905 2352.76,528.905 \"/>\n",
       "<polyline clip-path=\"url(#clip492)\" style=\"stroke:#000000; stroke-linecap:round; stroke-linejoin:round; stroke-width:2; stroke-opacity:0.1; fill:none\" points=\"148.867,244.344 2352.76,244.344 \"/>\n",
       "<polyline clip-path=\"url(#clip490)\" style=\"stroke:#000000; stroke-linecap:round; stroke-linejoin:round; stroke-width:4; stroke-opacity:1; fill:none\" points=\"148.867,1486.45 148.867,47.2441 \"/>\n",
       "<polyline clip-path=\"url(#clip490)\" style=\"stroke:#000000; stroke-linecap:round; stroke-linejoin:round; stroke-width:4; stroke-opacity:1; fill:none\" points=\"148.867,1382.59 167.764,1382.59 \"/>\n",
       "<polyline clip-path=\"url(#clip490)\" style=\"stroke:#000000; stroke-linecap:round; stroke-linejoin:round; stroke-width:4; stroke-opacity:1; fill:none\" points=\"148.867,1098.03 167.764,1098.03 \"/>\n",
       "<polyline clip-path=\"url(#clip490)\" style=\"stroke:#000000; stroke-linecap:round; stroke-linejoin:round; stroke-width:4; stroke-opacity:1; fill:none\" points=\"148.867,813.466 167.764,813.466 \"/>\n",
       "<polyline clip-path=\"url(#clip490)\" style=\"stroke:#000000; stroke-linecap:round; stroke-linejoin:round; stroke-width:4; stroke-opacity:1; fill:none\" points=\"148.867,528.905 167.764,528.905 \"/>\n",
       "<polyline clip-path=\"url(#clip490)\" style=\"stroke:#000000; stroke-linecap:round; stroke-linejoin:round; stroke-width:4; stroke-opacity:1; fill:none\" points=\"148.867,244.344 167.764,244.344 \"/>\n",
       "<path clip-path=\"url(#clip490)\" d=\"M51.3393 1383.04 L81.0151 1383.04 L81.0151 1386.97 L51.3393 1386.97 L51.3393 1383.04 Z\" fill=\"#000000\" fill-rule=\"nonzero\" fill-opacity=\"1\" /><path clip-path=\"url(#clip490)\" d=\"M91.2465 1399.15 L91.2465 1394.89 Q93.0058 1395.72 94.8113 1396.16 Q96.6169 1396.6 98.353 1396.6 Q102.983 1396.6 105.413 1393.5 Q107.867 1390.38 108.214 1384.03 Q106.871 1386.02 104.811 1387.09 Q102.751 1388.15 100.251 1388.15 Q95.066 1388.15 92.0336 1385.03 Q89.0243 1381.88 89.0243 1376.44 Q89.0243 1371.12 92.1725 1367.9 Q95.3206 1364.68 100.552 1364.68 Q106.547 1364.68 109.696 1369.29 Q112.867 1373.87 112.867 1382.62 Q112.867 1390.79 108.978 1395.68 Q105.112 1400.54 98.5613 1400.54 Q96.8021 1400.54 94.9965 1400.19 Q93.191 1399.84 91.2465 1399.15 M100.552 1384.5 Q103.7 1384.5 105.529 1382.34 Q107.381 1380.19 107.381 1376.44 Q107.381 1372.71 105.529 1370.56 Q103.7 1368.39 100.552 1368.39 Q97.4039 1368.39 95.5521 1370.56 Q93.7234 1372.71 93.7234 1376.44 Q93.7234 1380.19 95.5521 1382.34 Q97.4039 1384.5 100.552 1384.5 Z\" fill=\"#000000\" fill-rule=\"nonzero\" fill-opacity=\"1\" /><path clip-path=\"url(#clip490)\" d=\"M50.9921 1098.48 L80.6679 1098.48 L80.6679 1102.41 L50.9921 1102.41 L50.9921 1098.48 Z\" fill=\"#000000\" fill-rule=\"nonzero\" fill-opacity=\"1\" /><path clip-path=\"url(#clip490)\" d=\"M101.339 1096.16 Q98.1909 1096.16 96.3391 1098.32 Q94.5104 1100.47 94.5104 1104.22 Q94.5104 1107.95 96.3391 1110.12 Q98.1909 1112.27 101.339 1112.27 Q104.487 1112.27 106.316 1110.12 Q108.168 1107.95 108.168 1104.22 Q108.168 1100.47 106.316 1098.32 Q104.487 1096.16 101.339 1096.16 M110.621 1081.51 L110.621 1085.77 Q108.862 1084.94 107.057 1084.5 Q105.274 1084.06 103.515 1084.06 Q98.8854 1084.06 96.4317 1087.18 Q94.0012 1090.31 93.6539 1096.63 Q95.0197 1094.61 97.0798 1093.55 Q99.14 1092.46 101.617 1092.46 Q106.825 1092.46 109.834 1095.63 Q112.867 1098.78 112.867 1104.22 Q112.867 1109.54 109.719 1112.76 Q106.571 1115.98 101.339 1115.98 Q95.3437 1115.98 92.1725 1111.39 Q89.0012 1106.79 89.0012 1098.06 Q89.0012 1089.87 92.89 1085.01 Q96.7789 1080.12 103.33 1080.12 Q105.089 1080.12 106.871 1080.47 Q108.677 1080.82 110.621 1081.51 Z\" fill=\"#000000\" fill-rule=\"nonzero\" fill-opacity=\"1\" /><path clip-path=\"url(#clip490)\" d=\"M51.8023 813.917 L81.4781 813.917 L81.4781 817.852 L51.8023 817.852 L51.8023 813.917 Z\" fill=\"#000000\" fill-rule=\"nonzero\" fill-opacity=\"1\" /><path clip-path=\"url(#clip490)\" d=\"M105.737 812.112 Q109.094 812.829 110.969 815.098 Q112.867 817.366 112.867 820.699 Q112.867 825.815 109.348 828.616 Q105.83 831.417 99.3483 831.417 Q97.1724 831.417 94.8576 830.977 Q92.566 830.561 90.1123 829.704 L90.1123 825.19 Q92.0567 826.324 94.3715 826.903 Q96.6863 827.482 99.2095 827.482 Q103.608 827.482 105.899 825.746 Q108.214 824.01 108.214 820.699 Q108.214 817.644 106.061 815.931 Q103.932 814.195 100.112 814.195 L96.0845 814.195 L96.0845 810.352 L100.297 810.352 Q103.746 810.352 105.575 808.987 Q107.404 807.598 107.404 805.005 Q107.404 802.343 105.506 800.931 Q103.631 799.496 100.112 799.496 Q98.1909 799.496 95.9919 799.913 Q93.7928 800.329 91.1539 801.209 L91.1539 797.042 Q93.816 796.301 96.1308 795.931 Q98.4687 795.561 100.529 795.561 Q105.853 795.561 108.955 797.991 Q112.057 800.399 112.057 804.519 Q112.057 807.389 110.413 809.38 Q108.77 811.348 105.737 812.112 Z\" fill=\"#000000\" fill-rule=\"nonzero\" fill-opacity=\"1\" /><path clip-path=\"url(#clip490)\" d=\"M100.922 514.704 Q97.3113 514.704 95.4826 518.269 Q93.6771 521.81 93.6771 528.94 Q93.6771 536.046 95.4826 539.611 Q97.3113 543.153 100.922 543.153 Q104.557 543.153 106.362 539.611 Q108.191 536.046 108.191 528.94 Q108.191 521.81 106.362 518.269 Q104.557 514.704 100.922 514.704 M100.922 511 Q106.733 511 109.788 515.607 Q112.867 520.19 112.867 528.94 Q112.867 537.667 109.788 542.273 Q106.733 546.856 100.922 546.856 Q95.1123 546.856 92.0336 542.273 Q88.978 537.667 88.978 528.94 Q88.978 520.19 92.0336 515.607 Q95.1123 511 100.922 511 Z\" fill=\"#000000\" fill-rule=\"nonzero\" fill-opacity=\"1\" /><path clip-path=\"url(#clip490)\" d=\"M105.737 242.99 Q109.094 243.708 110.969 245.976 Q112.867 248.245 112.867 251.578 Q112.867 256.694 109.348 259.495 Q105.83 262.296 99.3483 262.296 Q97.1724 262.296 94.8576 261.856 Q92.566 261.439 90.1123 260.583 L90.1123 256.069 Q92.0567 257.203 94.3715 257.782 Q96.6863 258.361 99.2095 258.361 Q103.608 258.361 105.899 256.624 Q108.214 254.888 108.214 251.578 Q108.214 248.523 106.061 246.81 Q103.932 245.074 100.112 245.074 L96.0845 245.074 L96.0845 241.231 L100.297 241.231 Q103.746 241.231 105.575 239.865 Q107.404 238.476 107.404 235.884 Q107.404 233.222 105.506 231.81 Q103.631 230.375 100.112 230.375 Q98.1909 230.375 95.9919 230.791 Q93.7928 231.208 91.1539 232.088 L91.1539 227.921 Q93.816 227.18 96.1308 226.81 Q98.4687 226.439 100.529 226.439 Q105.853 226.439 108.955 228.87 Q112.057 231.277 112.057 235.398 Q112.057 238.268 110.413 240.259 Q108.77 242.226 105.737 242.99 Z\" fill=\"#000000\" fill-rule=\"nonzero\" fill-opacity=\"1\" /><polyline clip-path=\"url(#clip492)\" style=\"stroke:#009af9; stroke-linecap:round; stroke-linejoin:round; stroke-width:4; stroke-opacity:1; fill:none\" points=\"211.241,528.911 221.689,528.909 232.137,528.908 242.585,528.908 253.033,528.907 263.481,528.907 273.929,528.908 284.377,528.908 294.825,528.908 305.273,528.909 315.72,528.909 326.168,528.91 336.616,528.91 347.064,528.91 357.512,528.911 367.96,528.911 378.408,528.911 388.856,528.912 399.304,528.912 409.752,528.912 420.2,528.912 430.648,528.912 441.096,528.913 451.544,528.913 461.992,528.913 472.44,528.914 482.888,528.914 493.335,528.915 503.783,528.915 514.231,528.916 524.679,528.917 535.127,528.918 545.575,528.918 556.023,528.919 566.471,528.92 576.919,528.922 587.367,528.923 597.815,528.924 608.263,528.925 618.711,528.927 629.159,528.929 639.607,528.93 650.055,528.932 660.503,528.934 670.951,528.936 681.398,528.938 691.846,528.94 702.294,528.943 712.742,528.945 723.19,528.948 733.638,528.951 744.086,528.954 754.534,528.957 764.982,528.961 775.43,528.964 785.878,528.968 796.326,528.972 806.774,528.977 817.222,528.982 827.67,528.987 838.118,528.992 848.566,528.998 859.013,529.005 869.461,529.012 879.909,529.019 890.357,529.027 900.805,529.036 911.253,529.045 921.701,529.055 932.149,529.065 942.597,529.076 953.045,529.088 963.493,529.1 973.941,529.112 984.389,529.126 994.837,529.139 1005.28,529.154 1015.73,529.169 1026.18,529.184 1036.63,529.2 1047.08,529.217 1057.52,529.234 1067.97,529.252 1078.42,529.272 1088.87,529.292 1099.32,529.314 1109.76,529.337 1120.21,529.363 1130.66,529.39 1141.11,529.421 1151.56,529.454 1162,529.491 1172.45,529.531 1182.9,529.576 1193.35,529.624 1203.8,529.677 1214.24,529.735 1224.69,529.796 1235.14,529.862 1245.59,529.931 1256.04,530.003 1266.48,530.076 1276.93,530.151 1287.38,530.227 1297.83,530.3 1308.28,530.372 1318.72,530.44 1329.17,530.504 1339.62,530.562 1350.07,530.614 1360.51,530.661 1370.96,530.703 1381.41,530.741 1391.86,530.776 1402.31,530.813 1412.75,530.855 1423.2,530.906 1433.65,530.971 1444.1,531.058 1454.55,531.171 1464.99,531.317 1475.44,531.504 1485.89,531.736 1496.34,532.018 1506.79,532.354 1517.23,532.743 1527.68,533.183 1538.13,533.669 1548.58,534.193 1559.03,534.739 1569.47,535.291 1579.92,535.827 1590.37,536.321 1600.82,536.743 1611.27,537.063 1621.71,537.249 1632.16,537.268 1642.61,537.092 1653.06,536.697 1663.51,536.068 1673.95,535.199 1684.4,534.097 1694.85,532.787 1705.3,531.308 1715.74,529.721 1726.19,528.105 1736.64,526.562 1747.09,525.208 1757.54,524.176 1767.98,523.611 1778.43,523.659 1788.88,524.465 1799.33,526.158 1809.78,528.842 1820.22,532.585 1830.67,537.402 1841.12,543.243 1851.57,549.981 1862.02,557.399 1872.46,565.179 1882.91,572.9 1893.36,580.034 1903.81,585.958 1914.26,589.972 1924.7,591.326 1935.15,589.265 1945.6,583.072 1956.05,572.115 1966.5,555.893 1976.94,534.076 1987.39,506.532 1997.84,473.376 2008.29,435.027 2018.74,392.317 2029.18,346.63 2039.63,300.057 2050.08,255.496 2060.53,216.562 2070.97,187.191 2081.42,170.929 2091.87,170.115 2102.32,185.413 2112.77,216.087 2123.21,261.037 2133.66,320.17 2144.11,395.493 2154.56,491.499 2165.01,614.566 2175.45,770.964 2185.9,962.208 2196.35,1174.96 2206.8,1364.23 2217.25,1445.72 2227.69,1340.73 2238.14,1063.6 2248.59,723.664 2259.04,429.824 2269.49,231.505 2279.93,126.83 2290.38,87.9763 \"/>\n",
       "<path clip-path=\"url(#clip490)\" d=\"M222.33 198.898 L495.149 198.898 L495.149 95.2176 L222.33 95.2176  Z\" fill=\"#ffffff\" fill-rule=\"evenodd\" fill-opacity=\"1\"/>\n",
       "<polyline clip-path=\"url(#clip490)\" style=\"stroke:#000000; stroke-linecap:round; stroke-linejoin:round; stroke-width:4; stroke-opacity:1; fill:none\" points=\"222.33,198.898 495.149,198.898 495.149,95.2176 222.33,95.2176 222.33,198.898 \"/>\n",
       "<polyline clip-path=\"url(#clip490)\" style=\"stroke:#009af9; stroke-linecap:round; stroke-linejoin:round; stroke-width:4; stroke-opacity:1; fill:none\" points=\"246.817,147.058 393.743,147.058 \"/>\n",
       "<path clip-path=\"url(#clip490)\" d=\"M432.074 166.745 Q430.268 171.375 428.555 172.787 Q426.842 174.199 423.972 174.199 L420.569 174.199 L420.569 170.634 L423.069 170.634 Q424.828 170.634 425.8 169.8 Q426.773 168.967 427.953 165.865 L428.717 163.921 L418.231 138.412 L422.745 138.412 L430.847 158.689 L438.949 138.412 L443.462 138.412 L432.074 166.745 Z\" fill=\"#000000\" fill-rule=\"nonzero\" fill-opacity=\"1\" /><path clip-path=\"url(#clip490)\" d=\"M450.754 160.402 L458.393 160.402 L458.393 134.037 L450.083 135.703 L450.083 131.444 L458.347 129.778 L463.022 129.778 L463.022 160.402 L470.661 160.402 L470.661 164.338 L450.754 164.338 L450.754 160.402 Z\" fill=\"#000000\" fill-rule=\"nonzero\" fill-opacity=\"1\" /></svg>\n"
      ]
     },
     "execution_count": 72,
     "metadata": {},
     "output_type": "execute_result"
    }
   ],
   "source": [
    "plot(thist[1:Nt-1],utraj)"
   ]
  },
  {
   "cell_type": "code",
   "execution_count": null,
   "id": "a2ee1d45-2637-4433-9b8b-58910013f9b8",
   "metadata": {},
   "outputs": [],
   "source": []
  }
 ],
 "metadata": {
  "kernelspec": {
   "display_name": "Julia 1.6.7",
   "language": "julia",
   "name": "julia-1.6"
  },
  "language_info": {
   "file_extension": ".jl",
   "mimetype": "application/julia",
   "name": "julia",
   "version": "1.6.7"
  }
 },
 "nbformat": 4,
 "nbformat_minor": 5
}
