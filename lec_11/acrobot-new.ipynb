{
 "cells": [
  {
   "cell_type": "code",
   "execution_count": 1,
   "id": "1c757101-3736-4405-b5cf-1a81a99dae08",
   "metadata": {},
   "outputs": [
    {
     "name": "stderr",
     "output_type": "stream",
     "text": [
      "\u001b[32m\u001b[1m  Activating\u001b[22m\u001b[39m environment at `C:\\Users\\tge13\\Documents\\optimal_control_julia\\lec_11\\Project.toml`\n"
     ]
    }
   ],
   "source": [
    "import Pkg; Pkg.activate(@__DIR__); Pkg.instantiate()"
   ]
  },
  {
   "cell_type": "code",
   "execution_count": 2,
   "id": "5af66c6a-bc25-486e-bb3d-b059f49ec0db",
   "metadata": {},
   "outputs": [],
   "source": [
    "using LinearAlgebra\n",
    "using Plots\n",
    "using ForwardDiff\n",
    "using RobotZoo\n",
    "using RobotDynamics\n",
    "# using MatrixCalculus\n",
    "using JLD2"
   ]
  },
  {
   "cell_type": "code",
   "execution_count": 3,
   "id": "2eca2d18-ace9-493c-912f-898bf721094d",
   "metadata": {},
   "outputs": [
    {
     "data": {
      "text/plain": [
       "0.05"
      ]
     },
     "execution_count": 3,
     "metadata": {},
     "output_type": "execute_result"
    }
   ],
   "source": [
    "#Acrobot Dynamics\n",
    "a = RobotZoo.Acrobot()\n",
    "h = 0.05"
   ]
  },
  {
   "cell_type": "code",
   "execution_count": 4,
   "id": "23091436-d14c-419d-a770-4035879fe4d0",
   "metadata": {},
   "outputs": [
    {
     "data": {
      "text/plain": [
       "dynamics_rk4 (generic function with 1 method)"
      ]
     },
     "execution_count": 4,
     "metadata": {},
     "output_type": "execute_result"
    }
   ],
   "source": [
    "function dynamics_rk4(x,u)\n",
    "    #RK4 integration with zero-order hold on u\n",
    "    f1 = dynamics(a, x, u)\n",
    "    f2 = dynamics(a, x + 0.5*h*f1, u)\n",
    "    f3 = dynamics(a, x + 0.5*h*f2, u)\n",
    "    f4 = dynamics(a, x + h*f3, u)\n",
    "\n",
    "    return x + (h/6.0)*(f1 + 2*f2 + 2*f3 + f4)\n",
    "end"
   ]
  },
  {
   "cell_type": "code",
   "execution_count": 5,
   "id": "9c9bd55b-6027-43a6-8f5b-cda92b0055ac",
   "metadata": {},
   "outputs": [
    {
     "data": {
      "text/plain": [
       "dBdu (generic function with 1 method)"
      ]
     },
     "execution_count": 5,
     "metadata": {},
     "output_type": "execute_result"
    }
   ],
   "source": [
    "function dfdx(x,u)\n",
    "    return ForwardDiff.jacobian(_x -> dynamics_rk4(_x, u), x)\n",
    "end\n",
    "\n",
    "function dfdu(x,u)\n",
    "    return ForwardDiff.derivative(_u -> dynamics_rk4(x, _u), u)\n",
    "end\n",
    "\n",
    "function dAdx(x,u)\n",
    "    return ForwardDiff.jacobian(_x -> vec(dfdx(_x, u)), x)\n",
    "end\n",
    "\n",
    "function dBdx(x,u)\n",
    "    return ForwardDiff.jacobian(_x -> dfdu(_x, u), x)\n",
    "end\n",
    "\n",
    "function dAdu(x,u)\n",
    "    return ForwardDiff.derivative(_u -> vec(dfdx(x, _u)), u)\n",
    "end\n",
    "\n",
    "function dBdu(x,u)\n",
    "    return ForwardDiff.derivative(_u -> dfdu(x, _u), u)\n",
    "end"
   ]
  },
  {
   "cell_type": "code",
   "execution_count": 6,
   "id": "b33512b5-2e88-467d-a38d-9e5117b66f18",
   "metadata": {},
   "outputs": [
    {
     "data": {
      "text/plain": [
       "cost (generic function with 1 method)"
      ]
     },
     "execution_count": 6,
     "metadata": {},
     "output_type": "execute_result"
    }
   ],
   "source": [
    "function cost(xtraj,utraj)\n",
    "    J = 0\n",
    "    for k in 1:(Nt-1)\n",
    "        J = J + 0.5*(xtraj[:,k] - xgoal)'*Q*(xtraj[:,k] - xgoal) + 0.5*R*utraj[k]*utraj[k]\n",
    "    end\n",
    "    J = J + 0.5*(xtraj[:,end] - xgoal)'*Qn*(xtraj[:,end] - xgoal)\n",
    "end"
   ]
  },
  {
   "cell_type": "code",
   "execution_count": 7,
   "id": "69fbdf11-8ff2-4dfb-9557-a096bda58ab1",
   "metadata": {},
   "outputs": [],
   "source": [
    "Nx = 4     # number of state\n",
    "Nu = 1     # number of controls\n",
    "Tfinal = 10.0 # final time\n",
    "Nt = Int(Tfinal/h)+1    # number of time steps\n",
    "thist = Array(range(0,h*(Nt-1), step=h));"
   ]
  },
  {
   "cell_type": "code",
   "execution_count": 8,
   "id": "a6c0d9a8-f715-4673-aad3-0780ad1147be",
   "metadata": {},
   "outputs": [],
   "source": [
    "# Cost weights\n",
    "Q = Diagonal([1.0*ones(2); 0.1*ones(2)]);\n",
    "R = 0.01;\n",
    "Qn = Array(100.0*I(Nx));"
   ]
  },
  {
   "cell_type": "markdown",
   "id": "463c71e9-f71b-4e10-abed-6bf2a3b0a6af",
   "metadata": {},
   "source": [
    "## iLQR Algorithm"
   ]
  },
  {
   "cell_type": "code",
   "execution_count": 9,
   "id": "dbb0ab37-d9bd-4166-a675-2c3d672d3031",
   "metadata": {},
   "outputs": [
    {
     "data": {
      "text/plain": [
       "backward_pass_ilqr! (generic function with 1 method)"
      ]
     },
     "execution_count": 9,
     "metadata": {},
     "output_type": "execute_result"
    }
   ],
   "source": [
    "function backward_pass_ilqr!(p,P,d,K)\n",
    "\n",
    "    ΔJ = 0.0\n",
    "    p[:,end] .= Qn*(xtraj[:,end] - xgoal)\n",
    "    P[:,:,end] .= Qn\n",
    "\n",
    "    for k in (Nt-1):-1:1\n",
    "        ∇ₓl = Q*(xtraj[:,k] - xgoal)\n",
    "        ∇ᵤl = R*(utraj[k])\n",
    "\n",
    "        A = dfdx(xtraj[:,k], utraj[k])\n",
    "        B = dfdu(xtraj[:,k], utraj[k])\n",
    "        \n",
    "        gₓ = ∇ₓl + A'*p[:,k+1]\n",
    "        gᵤ = ∇ᵤl + B'*p[:,k+1]\n",
    "\n",
    "        # Gauss-Newton (iLQR)\n",
    "        Gxx = Q + A'*P[:,:,k+1]*A\n",
    "        Guu = R + B'*P[:,:,k+1]*B\n",
    "        Gxu = A'*P[:,:,k+1]*B\n",
    "        Gux = B'*P[:,:,k+1]*A\n",
    "\n",
    "        d[k] = Guu\\gᵤ\n",
    "        K[:,:,k] .= Guu\\Gux\n",
    "    \n",
    "        P[:,:,k] .= Gxx + K[:,:,k]'*Guu*K[:,:,k] - Gxu*K[:,:,k] - K[:,:,k]'*Gux\n",
    "        p[:,k] .= dropdims(gₓ - K[:,:,k]'*gᵤ + K[:,:,k]'*Guu*d[k] - Gxu*d[k], dims=2)\n",
    "    \n",
    "        ΔJ += gᵤ'*d[k]\n",
    "        \n",
    "    end\n",
    "\n",
    "    return ΔJ\n",
    "end"
   ]
  },
  {
   "cell_type": "code",
   "execution_count": 11,
   "id": "52f3be39-3bc1-4e2c-ac4d-78ad00892e0d",
   "metadata": {},
   "outputs": [],
   "source": [
    "#Initial guess\n",
    "x0 = [-pi/2; 0; 0; 0]\n",
    "xgoal = [pi/2; 0; 0; 0]\n",
    "xtraj = kron(ones(1,Nt), x0)\n",
    "utraj = randn(Nt-1);\n",
    "#f = jldopen(\"guess.jld2\", \"r\")\n",
    "#utraj = f[\"utraj\"];"
   ]
  },
  {
   "cell_type": "code",
   "execution_count": 12,
   "id": "a7c88f1c-c3db-4837-8dde-fd5b1d5b5d83",
   "metadata": {},
   "outputs": [
    {
     "data": {
      "text/plain": [
       "1492.6385416774542"
      ]
     },
     "execution_count": 12,
     "metadata": {},
     "output_type": "execute_result"
    }
   ],
   "source": [
    "#Initial Rollout\n",
    "for k = 1:(Nt-1)\n",
    "    xtraj[:,k+1] .= dynamics_rk4(xtraj[:,k],utraj[k])\n",
    "end\n",
    "J = cost(xtraj,utraj)"
   ]
  },
  {
   "cell_type": "code",
   "execution_count": 13,
   "id": "ed0dc54a-fe3e-4196-804b-c398d5184c61",
   "metadata": {},
   "outputs": [],
   "source": [
    "d = ones(Nt-1)\n",
    "xn = zeros(size(xtraj))\n",
    "un = zeros(size(utraj))\n",
    "iter = 0\n",
    "\n",
    "while maximum(abs.(d[:])) > 1e-3\n",
    "    p = zeros(Nx, Nt)\n",
    "    P = zeros(Nx, Nx, Nt)\n",
    "    d = ones(Nt-1)\n",
    "    K = zeros(Nu,Nx,Nt-1)\n",
    "\n",
    "    ΔJ = backward_pass_ilqr!(p,P,d,K)\n",
    "\n",
    "    # Line Search\n",
    "    xn[:,1] = x0\n",
    "    α = 1.0\n",
    "\n",
    "    for k in 1:(Nt-1)\n",
    "        un[k] = utraj[k] - α*d[k] - dot(K[:,:,k],xn[:,k]-xtraj[:,k])\n",
    "        xn[:,k+1] .= dynamics_rk4(xn[:,k], un[k])\n",
    "    end\n",
    "    Jn = cost(xn, un)\n",
    "    \n",
    "    while isnan(Jn) || Jn > (J - 1e-2*α*ΔJ)\n",
    "        α *= 0.5\n",
    "        for k in 1:(Nt-1)\n",
    "            un[k] = utraj[k] - α*d[k] - dot(K[:,:,k],xn[:,k]-xtraj[:,k])\n",
    "            xn[:,k+1] .= dynamics_rk4(xn[:,k], un[k])\n",
    "        end\n",
    "        Jn = cost(xn, un)\n",
    "    end\n",
    "\n",
    "    iter += 1\n",
    "    J = Jn\n",
    "    xtraj .= xn\n",
    "    utraj .= un\n",
    "end"
   ]
  },
  {
   "cell_type": "code",
   "execution_count": 14,
   "id": "40b2467d-c86e-43db-b443-072222a67cf3",
   "metadata": {},
   "outputs": [
    {
     "data": {
      "text/plain": [
       "(330, 562.1228878155395)"
      ]
     },
     "execution_count": 14,
     "metadata": {},
     "output_type": "execute_result"
    }
   ],
   "source": [
    "iter, J"
   ]
  },
  {
   "cell_type": "code",
   "execution_count": 15,
   "id": "8915d76c-8c60-4b94-8af9-703984e0022c",
   "metadata": {},
   "outputs": [
    {
     "data": {
      "image/svg+xml": [
       "<?xml version=\"1.0\" encoding=\"utf-8\"?>\n",
       "<svg xmlns=\"http://www.w3.org/2000/svg\" xmlns:xlink=\"http://www.w3.org/1999/xlink\" width=\"600\" height=\"400\" viewBox=\"0 0 2400 1600\">\n",
       "<defs>\n",
       "  <clipPath id=\"clip130\">\n",
       "    <rect x=\"0\" y=\"0\" width=\"2400\" height=\"1600\"/>\n",
       "  </clipPath>\n",
       "</defs>\n",
       "<path clip-path=\"url(#clip130)\" d=\"M0 1600 L2400 1600 L2400 0 L0 0  Z\" fill=\"#ffffff\" fill-rule=\"evenodd\" fill-opacity=\"1\"/>\n",
       "<defs>\n",
       "  <clipPath id=\"clip131\">\n",
       "    <rect x=\"480\" y=\"0\" width=\"1681\" height=\"1600\"/>\n",
       "  </clipPath>\n",
       "</defs>\n",
       "<path clip-path=\"url(#clip130)\" d=\"M148.057 1486.45 L2352.76 1486.45 L2352.76 47.2441 L148.057 47.2441  Z\" fill=\"#ffffff\" fill-rule=\"evenodd\" fill-opacity=\"1\"/>\n",
       "<defs>\n",
       "  <clipPath id=\"clip132\">\n",
       "    <rect x=\"148\" y=\"47\" width=\"2206\" height=\"1440\"/>\n",
       "  </clipPath>\n",
       "</defs>\n",
       "<polyline clip-path=\"url(#clip132)\" style=\"stroke:#000000; stroke-linecap:round; stroke-linejoin:round; stroke-width:2; stroke-opacity:0.1; fill:none\" points=\"210.454,1486.45 210.454,47.2441 \"/>\n",
       "<polyline clip-path=\"url(#clip132)\" style=\"stroke:#000000; stroke-linecap:round; stroke-linejoin:round; stroke-width:2; stroke-opacity:0.1; fill:none\" points=\"730.43,1486.45 730.43,47.2441 \"/>\n",
       "<polyline clip-path=\"url(#clip132)\" style=\"stroke:#000000; stroke-linecap:round; stroke-linejoin:round; stroke-width:2; stroke-opacity:0.1; fill:none\" points=\"1250.41,1486.45 1250.41,47.2441 \"/>\n",
       "<polyline clip-path=\"url(#clip132)\" style=\"stroke:#000000; stroke-linecap:round; stroke-linejoin:round; stroke-width:2; stroke-opacity:0.1; fill:none\" points=\"1770.38,1486.45 1770.38,47.2441 \"/>\n",
       "<polyline clip-path=\"url(#clip132)\" style=\"stroke:#000000; stroke-linecap:round; stroke-linejoin:round; stroke-width:2; stroke-opacity:0.1; fill:none\" points=\"2290.36,1486.45 2290.36,47.2441 \"/>\n",
       "<polyline clip-path=\"url(#clip130)\" style=\"stroke:#000000; stroke-linecap:round; stroke-linejoin:round; stroke-width:4; stroke-opacity:1; fill:none\" points=\"148.057,1486.45 2352.76,1486.45 \"/>\n",
       "<polyline clip-path=\"url(#clip130)\" style=\"stroke:#000000; stroke-linecap:round; stroke-linejoin:round; stroke-width:4; stroke-opacity:1; fill:none\" points=\"210.454,1486.45 210.454,1467.55 \"/>\n",
       "<polyline clip-path=\"url(#clip130)\" style=\"stroke:#000000; stroke-linecap:round; stroke-linejoin:round; stroke-width:4; stroke-opacity:1; fill:none\" points=\"730.43,1486.45 730.43,1467.55 \"/>\n",
       "<polyline clip-path=\"url(#clip130)\" style=\"stroke:#000000; stroke-linecap:round; stroke-linejoin:round; stroke-width:4; stroke-opacity:1; fill:none\" points=\"1250.41,1486.45 1250.41,1467.55 \"/>\n",
       "<polyline clip-path=\"url(#clip130)\" style=\"stroke:#000000; stroke-linecap:round; stroke-linejoin:round; stroke-width:4; stroke-opacity:1; fill:none\" points=\"1770.38,1486.45 1770.38,1467.55 \"/>\n",
       "<polyline clip-path=\"url(#clip130)\" style=\"stroke:#000000; stroke-linecap:round; stroke-linejoin:round; stroke-width:4; stroke-opacity:1; fill:none\" points=\"2290.36,1486.45 2290.36,1467.55 \"/>\n",
       "<path clip-path=\"url(#clip130)\" d=\"M187.838 1517.37 Q184.227 1517.37 182.398 1520.93 Q180.593 1524.47 180.593 1531.6 Q180.593 1538.71 182.398 1542.27 Q184.227 1545.82 187.838 1545.82 Q191.472 1545.82 193.278 1542.27 Q195.107 1538.71 195.107 1531.6 Q195.107 1524.47 193.278 1520.93 Q191.472 1517.37 187.838 1517.37 M187.838 1513.66 Q193.648 1513.66 196.704 1518.27 Q199.783 1522.85 199.783 1531.6 Q199.783 1540.33 196.704 1544.94 Q193.648 1549.52 187.838 1549.52 Q182.028 1549.52 178.949 1544.94 Q175.894 1540.33 175.894 1531.6 Q175.894 1522.85 178.949 1518.27 Q182.028 1513.66 187.838 1513.66 Z\" fill=\"#000000\" fill-rule=\"nonzero\" fill-opacity=\"1\" /><path clip-path=\"url(#clip130)\" d=\"M208 1542.97 L212.884 1542.97 L212.884 1548.85 L208 1548.85 L208 1542.97 Z\" fill=\"#000000\" fill-rule=\"nonzero\" fill-opacity=\"1\" /><path clip-path=\"url(#clip130)\" d=\"M233.069 1517.37 Q229.458 1517.37 227.63 1520.93 Q225.824 1524.47 225.824 1531.6 Q225.824 1538.71 227.63 1542.27 Q229.458 1545.82 233.069 1545.82 Q236.704 1545.82 238.509 1542.27 Q240.338 1538.71 240.338 1531.6 Q240.338 1524.47 238.509 1520.93 Q236.704 1517.37 233.069 1517.37 M233.069 1513.66 Q238.88 1513.66 241.935 1518.27 Q245.014 1522.85 245.014 1531.6 Q245.014 1540.33 241.935 1544.94 Q238.88 1549.52 233.069 1549.52 Q227.259 1549.52 224.181 1544.94 Q221.125 1540.33 221.125 1531.6 Q221.125 1522.85 224.181 1518.27 Q227.259 1513.66 233.069 1513.66 Z\" fill=\"#000000\" fill-rule=\"nonzero\" fill-opacity=\"1\" /><path clip-path=\"url(#clip130)\" d=\"M702.166 1544.91 L718.486 1544.91 L718.486 1548.85 L696.541 1548.85 L696.541 1544.91 Q699.203 1542.16 703.787 1537.53 Q708.393 1532.88 709.574 1531.53 Q711.819 1529.01 712.699 1527.27 Q713.601 1525.51 713.601 1523.82 Q713.601 1521.07 711.657 1519.33 Q709.736 1517.6 706.634 1517.6 Q704.435 1517.6 701.981 1518.36 Q699.551 1519.13 696.773 1520.68 L696.773 1515.95 Q699.597 1514.82 702.051 1514.24 Q704.504 1513.66 706.541 1513.66 Q711.912 1513.66 715.106 1516.35 Q718.3 1519.03 718.3 1523.52 Q718.3 1525.65 717.49 1527.57 Q716.703 1529.47 714.597 1532.07 Q714.018 1532.74 710.916 1535.95 Q707.814 1539.15 702.166 1544.91 Z\" fill=\"#000000\" fill-rule=\"nonzero\" fill-opacity=\"1\" /><path clip-path=\"url(#clip130)\" d=\"M728.3 1542.97 L733.185 1542.97 L733.185 1548.85 L728.3 1548.85 L728.3 1542.97 Z\" fill=\"#000000\" fill-rule=\"nonzero\" fill-opacity=\"1\" /><path clip-path=\"url(#clip130)\" d=\"M743.416 1514.29 L761.772 1514.29 L761.772 1518.22 L747.698 1518.22 L747.698 1526.7 Q748.717 1526.35 749.735 1526.19 Q750.754 1526 751.772 1526 Q757.559 1526 760.939 1529.17 Q764.319 1532.34 764.319 1537.76 Q764.319 1543.34 760.847 1546.44 Q757.374 1549.52 751.055 1549.52 Q748.879 1549.52 746.61 1549.15 Q744.365 1548.78 741.958 1548.04 L741.958 1543.34 Q744.041 1544.47 746.263 1545.03 Q748.485 1545.58 750.962 1545.58 Q754.967 1545.58 757.305 1543.48 Q759.643 1541.37 759.643 1537.76 Q759.643 1534.15 757.305 1532.04 Q754.967 1529.94 750.962 1529.94 Q749.087 1529.94 747.212 1530.35 Q745.36 1530.77 743.416 1531.65 L743.416 1514.29 Z\" fill=\"#000000\" fill-rule=\"nonzero\" fill-opacity=\"1\" /><path clip-path=\"url(#clip130)\" d=\"M1217.57 1514.29 L1235.93 1514.29 L1235.93 1518.22 L1221.85 1518.22 L1221.85 1526.7 Q1222.87 1526.35 1223.89 1526.19 Q1224.91 1526 1225.93 1526 Q1231.71 1526 1235.09 1529.17 Q1238.47 1532.34 1238.47 1537.76 Q1238.47 1543.34 1235 1546.44 Q1231.53 1549.52 1225.21 1549.52 Q1223.03 1549.52 1220.77 1549.15 Q1218.52 1548.78 1216.11 1548.04 L1216.11 1543.34 Q1218.2 1544.47 1220.42 1545.03 Q1222.64 1545.58 1225.12 1545.58 Q1229.12 1545.58 1231.46 1543.48 Q1233.8 1541.37 1233.8 1537.76 Q1233.8 1534.15 1231.46 1532.04 Q1229.12 1529.94 1225.12 1529.94 Q1223.24 1529.94 1221.37 1530.35 Q1219.52 1530.77 1217.57 1531.65 L1217.57 1514.29 Z\" fill=\"#000000\" fill-rule=\"nonzero\" fill-opacity=\"1\" /><path clip-path=\"url(#clip130)\" d=\"M1247.69 1542.97 L1252.57 1542.97 L1252.57 1548.85 L1247.69 1548.85 L1247.69 1542.97 Z\" fill=\"#000000\" fill-rule=\"nonzero\" fill-opacity=\"1\" /><path clip-path=\"url(#clip130)\" d=\"M1272.76 1517.37 Q1269.14 1517.37 1267.32 1520.93 Q1265.51 1524.47 1265.51 1531.6 Q1265.51 1538.71 1267.32 1542.27 Q1269.14 1545.82 1272.76 1545.82 Q1276.39 1545.82 1278.2 1542.27 Q1280.02 1538.71 1280.02 1531.6 Q1280.02 1524.47 1278.2 1520.93 Q1276.39 1517.37 1272.76 1517.37 M1272.76 1513.66 Q1278.57 1513.66 1281.62 1518.27 Q1284.7 1522.85 1284.7 1531.6 Q1284.7 1540.33 1281.62 1544.94 Q1278.57 1549.52 1272.76 1549.52 Q1266.95 1549.52 1263.87 1544.94 Q1260.81 1540.33 1260.81 1531.6 Q1260.81 1522.85 1263.87 1518.27 Q1266.95 1513.66 1272.76 1513.66 Z\" fill=\"#000000\" fill-rule=\"nonzero\" fill-opacity=\"1\" /><path clip-path=\"url(#clip130)\" d=\"M1736.7 1514.29 L1758.92 1514.29 L1758.92 1516.28 L1746.38 1548.85 L1741.49 1548.85 L1753.3 1518.22 L1736.7 1518.22 L1736.7 1514.29 Z\" fill=\"#000000\" fill-rule=\"nonzero\" fill-opacity=\"1\" /><path clip-path=\"url(#clip130)\" d=\"M1768.04 1542.97 L1772.93 1542.97 L1772.93 1548.85 L1768.04 1548.85 L1768.04 1542.97 Z\" fill=\"#000000\" fill-rule=\"nonzero\" fill-opacity=\"1\" /><path clip-path=\"url(#clip130)\" d=\"M1783.16 1514.29 L1801.52 1514.29 L1801.52 1518.22 L1787.44 1518.22 L1787.44 1526.7 Q1788.46 1526.35 1789.48 1526.19 Q1790.5 1526 1791.52 1526 Q1797.3 1526 1800.68 1529.17 Q1804.06 1532.34 1804.06 1537.76 Q1804.06 1543.34 1800.59 1546.44 Q1797.12 1549.52 1790.8 1549.52 Q1788.62 1549.52 1786.35 1549.15 Q1784.11 1548.78 1781.7 1548.04 L1781.7 1543.34 Q1783.79 1544.47 1786.01 1545.03 Q1788.23 1545.58 1790.71 1545.58 Q1794.71 1545.58 1797.05 1543.48 Q1799.39 1541.37 1799.39 1537.76 Q1799.39 1534.15 1797.05 1532.04 Q1794.71 1529.94 1790.71 1529.94 Q1788.83 1529.94 1786.96 1530.35 Q1785.1 1530.77 1783.16 1531.65 L1783.16 1514.29 Z\" fill=\"#000000\" fill-rule=\"nonzero\" fill-opacity=\"1\" /><path clip-path=\"url(#clip130)\" d=\"M2242.43 1544.91 L2250.07 1544.91 L2250.07 1518.55 L2241.76 1520.21 L2241.76 1515.95 L2250.02 1514.29 L2254.7 1514.29 L2254.7 1544.91 L2262.34 1544.91 L2262.34 1548.85 L2242.43 1548.85 L2242.43 1544.91 Z\" fill=\"#000000\" fill-rule=\"nonzero\" fill-opacity=\"1\" /><path clip-path=\"url(#clip130)\" d=\"M2281.78 1517.37 Q2278.17 1517.37 2276.34 1520.93 Q2274.54 1524.47 2274.54 1531.6 Q2274.54 1538.71 2276.34 1542.27 Q2278.17 1545.82 2281.78 1545.82 Q2285.42 1545.82 2287.22 1542.27 Q2289.05 1538.71 2289.05 1531.6 Q2289.05 1524.47 2287.22 1520.93 Q2285.42 1517.37 2281.78 1517.37 M2281.78 1513.66 Q2287.59 1513.66 2290.65 1518.27 Q2293.73 1522.85 2293.73 1531.6 Q2293.73 1540.33 2290.65 1544.94 Q2287.59 1549.52 2281.78 1549.52 Q2275.97 1549.52 2272.89 1544.94 Q2269.84 1540.33 2269.84 1531.6 Q2269.84 1522.85 2272.89 1518.27 Q2275.97 1513.66 2281.78 1513.66 Z\" fill=\"#000000\" fill-rule=\"nonzero\" fill-opacity=\"1\" /><path clip-path=\"url(#clip130)\" d=\"M2301.94 1542.97 L2306.83 1542.97 L2306.83 1548.85 L2301.94 1548.85 L2301.94 1542.97 Z\" fill=\"#000000\" fill-rule=\"nonzero\" fill-opacity=\"1\" /><path clip-path=\"url(#clip130)\" d=\"M2327.01 1517.37 Q2323.4 1517.37 2321.57 1520.93 Q2319.77 1524.47 2319.77 1531.6 Q2319.77 1538.71 2321.57 1542.27 Q2323.4 1545.82 2327.01 1545.82 Q2330.65 1545.82 2332.45 1542.27 Q2334.28 1538.71 2334.28 1531.6 Q2334.28 1524.47 2332.45 1520.93 Q2330.65 1517.37 2327.01 1517.37 M2327.01 1513.66 Q2332.82 1513.66 2335.88 1518.27 Q2338.96 1522.85 2338.96 1531.6 Q2338.96 1540.33 2335.88 1544.94 Q2332.82 1549.52 2327.01 1549.52 Q2321.2 1549.52 2318.12 1544.94 Q2315.07 1540.33 2315.07 1531.6 Q2315.07 1522.85 2318.12 1518.27 Q2321.2 1513.66 2327.01 1513.66 Z\" fill=\"#000000\" fill-rule=\"nonzero\" fill-opacity=\"1\" /><polyline clip-path=\"url(#clip132)\" style=\"stroke:#000000; stroke-linecap:round; stroke-linejoin:round; stroke-width:2; stroke-opacity:0.1; fill:none\" points=\"148.057,1453.69 2352.76,1453.69 \"/>\n",
       "<polyline clip-path=\"url(#clip132)\" style=\"stroke:#000000; stroke-linecap:round; stroke-linejoin:round; stroke-width:2; stroke-opacity:0.1; fill:none\" points=\"148.057,1217.27 2352.76,1217.27 \"/>\n",
       "<polyline clip-path=\"url(#clip132)\" style=\"stroke:#000000; stroke-linecap:round; stroke-linejoin:round; stroke-width:2; stroke-opacity:0.1; fill:none\" points=\"148.057,980.85 2352.76,980.85 \"/>\n",
       "<polyline clip-path=\"url(#clip132)\" style=\"stroke:#000000; stroke-linecap:round; stroke-linejoin:round; stroke-width:2; stroke-opacity:0.1; fill:none\" points=\"148.057,744.43 2352.76,744.43 \"/>\n",
       "<polyline clip-path=\"url(#clip132)\" style=\"stroke:#000000; stroke-linecap:round; stroke-linejoin:round; stroke-width:2; stroke-opacity:0.1; fill:none\" points=\"148.057,508.011 2352.76,508.011 \"/>\n",
       "<polyline clip-path=\"url(#clip132)\" style=\"stroke:#000000; stroke-linecap:round; stroke-linejoin:round; stroke-width:2; stroke-opacity:0.1; fill:none\" points=\"148.057,271.591 2352.76,271.591 \"/>\n",
       "<polyline clip-path=\"url(#clip130)\" style=\"stroke:#000000; stroke-linecap:round; stroke-linejoin:round; stroke-width:4; stroke-opacity:1; fill:none\" points=\"148.057,1486.45 148.057,47.2441 \"/>\n",
       "<polyline clip-path=\"url(#clip130)\" style=\"stroke:#000000; stroke-linecap:round; stroke-linejoin:round; stroke-width:4; stroke-opacity:1; fill:none\" points=\"148.057,1453.69 166.954,1453.69 \"/>\n",
       "<polyline clip-path=\"url(#clip130)\" style=\"stroke:#000000; stroke-linecap:round; stroke-linejoin:round; stroke-width:4; stroke-opacity:1; fill:none\" points=\"148.057,1217.27 166.954,1217.27 \"/>\n",
       "<polyline clip-path=\"url(#clip130)\" style=\"stroke:#000000; stroke-linecap:round; stroke-linejoin:round; stroke-width:4; stroke-opacity:1; fill:none\" points=\"148.057,980.85 166.954,980.85 \"/>\n",
       "<polyline clip-path=\"url(#clip130)\" style=\"stroke:#000000; stroke-linecap:round; stroke-linejoin:round; stroke-width:4; stroke-opacity:1; fill:none\" points=\"148.057,744.43 166.954,744.43 \"/>\n",
       "<polyline clip-path=\"url(#clip130)\" style=\"stroke:#000000; stroke-linecap:round; stroke-linejoin:round; stroke-width:4; stroke-opacity:1; fill:none\" points=\"148.057,508.011 166.954,508.011 \"/>\n",
       "<polyline clip-path=\"url(#clip130)\" style=\"stroke:#000000; stroke-linecap:round; stroke-linejoin:round; stroke-width:4; stroke-opacity:1; fill:none\" points=\"148.057,271.591 166.954,271.591 \"/>\n",
       "<path clip-path=\"url(#clip130)\" d=\"M50.9921 1454.14 L80.6679 1454.14 L80.6679 1458.08 L50.9921 1458.08 L50.9921 1454.14 Z\" fill=\"#000000\" fill-rule=\"nonzero\" fill-opacity=\"1\" /><path clip-path=\"url(#clip130)\" d=\"M104.927 1452.33 Q108.283 1453.05 110.158 1455.32 Q112.057 1457.59 112.057 1460.92 Q112.057 1466.04 108.538 1468.84 Q105.02 1471.64 98.5382 1471.64 Q96.3623 1471.64 94.0475 1471.2 Q91.7558 1470.78 89.3021 1469.93 L89.3021 1465.41 Q91.2465 1466.55 93.5613 1467.13 Q95.8761 1467.71 98.3993 1467.71 Q102.797 1467.71 105.089 1465.97 Q107.404 1464.23 107.404 1460.92 Q107.404 1457.87 105.251 1456.15 Q103.121 1454.42 99.3021 1454.42 L95.2743 1454.42 L95.2743 1450.58 L99.4872 1450.58 Q102.936 1450.58 104.765 1449.21 Q106.594 1447.82 106.594 1445.23 Q106.594 1442.57 104.696 1441.15 Q102.821 1439.72 99.3021 1439.72 Q97.3808 1439.72 95.1817 1440.14 Q92.9826 1440.55 90.3438 1441.43 L90.3438 1437.27 Q93.0058 1436.52 95.3206 1436.15 Q97.6585 1435.78 99.7187 1435.78 Q105.043 1435.78 108.145 1438.21 Q111.246 1440.62 111.246 1444.74 Q111.246 1447.61 109.603 1449.6 Q107.959 1451.57 104.927 1452.33 Z\" fill=\"#000000\" fill-rule=\"nonzero\" fill-opacity=\"1\" /><path clip-path=\"url(#clip130)\" d=\"M51.9412 1217.72 L81.617 1217.72 L81.617 1221.66 L51.9412 1221.66 L51.9412 1217.72 Z\" fill=\"#000000\" fill-rule=\"nonzero\" fill-opacity=\"1\" /><path clip-path=\"url(#clip130)\" d=\"M95.7373 1230.61 L112.057 1230.61 L112.057 1234.55 L90.1123 1234.55 L90.1123 1230.61 Q92.7743 1227.86 97.3576 1223.23 Q101.964 1218.58 103.145 1217.23 Q105.39 1214.71 106.27 1212.98 Q107.172 1211.22 107.172 1209.53 Q107.172 1206.77 105.228 1205.04 Q103.307 1203.3 100.205 1203.3 Q98.0058 1203.3 95.5521 1204.06 Q93.1215 1204.83 90.3438 1206.38 L90.3438 1201.66 Q93.1678 1200.52 95.6215 1199.94 Q98.0752 1199.36 100.112 1199.36 Q105.483 1199.36 108.677 1202.05 Q111.871 1204.73 111.871 1209.23 Q111.871 1211.36 111.061 1213.28 Q110.274 1215.17 108.168 1217.77 Q107.589 1218.44 104.487 1221.66 Q101.385 1224.85 95.7373 1230.61 Z\" fill=\"#000000\" fill-rule=\"nonzero\" fill-opacity=\"1\" /><path clip-path=\"url(#clip130)\" d=\"M51.5708 981.301 L81.2466 981.301 L81.2466 985.236 L51.5708 985.236 L51.5708 981.301 Z\" fill=\"#000000\" fill-rule=\"nonzero\" fill-opacity=\"1\" /><path clip-path=\"url(#clip130)\" d=\"M92.1493 994.195 L99.7882 994.195 L99.7882 967.829 L91.478 969.496 L91.478 965.236 L99.7419 963.57 L104.418 963.57 L104.418 994.195 L112.057 994.195 L112.057 998.13 L92.1493 998.13 L92.1493 994.195 Z\" fill=\"#000000\" fill-rule=\"nonzero\" fill-opacity=\"1\" /><path clip-path=\"url(#clip130)\" d=\"M100.112 730.229 Q96.5011 730.229 94.6724 733.794 Q92.8669 737.335 92.8669 744.465 Q92.8669 751.571 94.6724 755.136 Q96.5011 758.678 100.112 758.678 Q103.746 758.678 105.552 755.136 Q107.381 751.571 107.381 744.465 Q107.381 737.335 105.552 733.794 Q103.746 730.229 100.112 730.229 M100.112 726.525 Q105.922 726.525 108.978 731.132 Q112.057 735.715 112.057 744.465 Q112.057 753.192 108.978 757.798 Q105.922 762.381 100.112 762.381 Q94.3021 762.381 91.2234 757.798 Q88.1679 753.192 88.1679 744.465 Q88.1679 735.715 91.2234 731.132 Q94.3021 726.525 100.112 726.525 Z\" fill=\"#000000\" fill-rule=\"nonzero\" fill-opacity=\"1\" /><path clip-path=\"url(#clip130)\" d=\"M92.1493 521.355 L99.7882 521.355 L99.7882 494.99 L91.478 496.656 L91.478 492.397 L99.7419 490.731 L104.418 490.731 L104.418 521.355 L112.057 521.355 L112.057 525.291 L92.1493 525.291 L92.1493 521.355 Z\" fill=\"#000000\" fill-rule=\"nonzero\" fill-opacity=\"1\" /><path clip-path=\"url(#clip130)\" d=\"M95.7373 284.936 L112.057 284.936 L112.057 288.871 L90.1123 288.871 L90.1123 284.936 Q92.7743 282.181 97.3576 277.552 Q101.964 272.899 103.145 271.556 Q105.39 269.033 106.27 267.297 Q107.172 265.538 107.172 263.848 Q107.172 261.093 105.228 259.357 Q103.307 257.621 100.205 257.621 Q98.0058 257.621 95.5521 258.385 Q93.1215 259.149 90.3438 260.7 L90.3438 255.978 Q93.1678 254.843 95.6215 254.265 Q98.0752 253.686 100.112 253.686 Q105.483 253.686 108.677 256.371 Q111.871 259.056 111.871 263.547 Q111.871 265.677 111.061 267.598 Q110.274 269.496 108.168 272.089 Q107.589 272.76 104.487 275.977 Q101.385 279.172 95.7373 284.936 Z\" fill=\"#000000\" fill-rule=\"nonzero\" fill-opacity=\"1\" /><polyline clip-path=\"url(#clip132)\" style=\"stroke:#009af9; stroke-linecap:round; stroke-linejoin:round; stroke-width:4; stroke-opacity:1; fill:none\" points=\"210.454,1115.8 220.853,1110.76 231.253,1096.95 241.652,1076.73 252.052,1052.59 262.451,1027.03 272.851,1002.06 283.25,979.047 293.65,958.789 304.049,941.742 314.449,928.151 324.849,918.132 335.248,911.708 345.648,908.829 356.047,909.402 366.447,913.316 376.846,920.453 387.246,930.695 397.645,943.902 408.045,959.897 418.444,978.438 428.844,999.204 439.243,1021.78 449.643,1045.69 460.042,1070.38 470.442,1095.32 480.841,1119.98 491.241,1143.95 501.64,1166.89 512.04,1188.54 522.44,1208.68 532.839,1227.1 543.239,1243.57 553.638,1257.85 564.038,1269.78 574.437,1279.32 584.837,1286.67 595.236,1292.35 605.636,1297.15 616.035,1302.03 626.435,1307.84 636.834,1314.81 647.234,1322.13 657.633,1327.97 668.033,1329.96 678.432,1325.96 688.832,1314.43 699.231,1294.71 709.631,1267.04 720.03,1232.43 730.43,1192.32 740.83,1148.19 751.229,1101.42 761.629,1053.15 772.028,1004.38 782.428,955.952 792.827,908.625 803.227,863.034 813.626,819.68 824.026,778.909 834.425,740.898 844.825,705.669 855.224,673.123 865.624,643.084 876.023,615.347 886.423,589.718 896.822,566.037 907.222,544.183 917.621,524.078 928.021,505.672 938.421,488.93 948.82,473.814 959.22,460.277 969.619,448.251 980.019,437.649 990.418,428.364 1000.82,420.282 1011.22,413.282 1021.62,407.245 1032.02,402.055 1042.42,397.607 1052.82,393.804 1063.21,390.559 1073.61,387.795 1084.01,385.444 1094.41,383.448 1104.81,381.756 1115.21,380.324 1125.61,379.112 1136.01,378.089 1146.41,377.227 1156.81,376.502 1167.21,375.892 1177.61,375.38 1188.01,374.952 1198.41,374.595 1208.81,374.297 1219.21,374.049 1229.61,373.844 1240.01,373.674 1250.41,373.534 1260.81,373.42 1271.21,373.326 1281.6,373.251 1292,373.19 1302.4,373.141 1312.8,373.102 1323.2,373.071 1333.6,373.048 1344,373.03 1354.4,373.017 1364.8,373.007 1375.2,373.001 1385.6,372.997 1396,372.995 1406.4,372.994 1416.8,372.995 1427.2,372.996 1437.6,372.998 1448,373.001 1458.4,373.004 1468.8,373.007 1479.2,373.01 1489.6,373.013 1499.99,373.017 1510.39,373.02 1520.79,373.023 1531.19,373.026 1541.59,373.029 1551.99,373.032 1562.39,373.034 1572.79,373.037 1583.19,373.039 1593.59,373.041 1603.99,373.043 1614.39,373.045 1624.79,373.046 1635.19,373.048 1645.59,373.049 1655.99,373.051 1666.39,373.052 1676.79,373.053 1687.19,373.054 1697.59,373.055 1707.99,373.056 1718.38,373.056 1728.78,373.057 1739.18,373.058 1749.58,373.058 1759.98,373.059 1770.38,373.059 1780.78,373.06 1791.18,373.06 1801.58,373.06 1811.98,373.061 1822.38,373.061 1832.78,373.061 1843.18,373.061 1853.58,373.061 1863.98,373.062 1874.38,373.062 1884.78,373.062 1895.18,373.062 1905.58,373.062 1915.98,373.062 1926.38,373.062 1936.77,373.062 1947.17,373.063 1957.57,373.063 1967.97,373.063 1978.37,373.063 1988.77,373.063 1999.17,373.063 2009.57,373.063 2019.97,373.063 2030.37,373.063 2040.77,373.063 2051.17,373.063 2061.57,373.063 2071.97,373.063 2082.37,373.063 2092.77,373.063 2103.17,373.063 2113.57,373.063 2123.97,373.063 2134.37,373.063 2144.77,373.063 2155.16,373.063 2165.56,373.063 2175.96,373.063 2186.36,373.063 2196.76,373.063 2207.16,373.063 2217.56,373.063 2227.96,373.063 2238.36,373.063 2248.76,373.063 2259.16,373.063 2269.56,373.063 2279.96,373.063 2290.36,373.063 \"/>\n",
       "<polyline clip-path=\"url(#clip132)\" style=\"stroke:#e26f46; stroke-linecap:round; stroke-linejoin:round; stroke-width:4; stroke-opacity:1; fill:none\" points=\"210.454,744.43 220.853,756.213 231.253,788.662 241.652,836.581 252.052,894.515 262.451,957.19 272.851,1020.44 283.25,1081.62 293.65,1139.3 304.049,1192.78 314.449,1241.71 324.849,1285.88 335.248,1325.1 345.648,1359.16 356.047,1387.87 366.447,1411.02 376.846,1428.45 387.246,1440.03 397.645,1445.72 408.045,1445.52 418.444,1439.55 428.844,1427.98 439.243,1411.04 449.643,1389.03 460.042,1362.29 470.442,1331.24 480.841,1296.34 491.241,1258.12 501.64,1217.17 512.04,1174.17 522.44,1129.84 532.839,1084.96 543.239,1040.33 553.638,996.667 564.038,954.513 574.437,913.992 584.837,874.639 595.236,835.277 605.636,794.041 616.035,748.628 626.435,696.862 636.834,637.617 647.234,571.681 657.633,501.739 668.033,431.296 678.432,363.559 688.832,300.996 699.231,245.366 709.631,197.822 720.03,158.966 730.43,128.917 740.83,107.419 751.229,93.9773 761.629,87.9763 772.028,88.7601 782.428,95.6812 792.827,108.119 803.227,125.477 813.626,147.166 824.026,172.593 834.425,201.148 844.825,232.213 855.224,265.168 865.624,299.411 876.023,334.363 886.423,369.475 896.822,404.23 907.222,438.145 917.621,470.778 928.021,501.738 938.421,530.704 948.82,557.438 959.22,581.794 969.619,603.723 980.019,623.258 990.418,640.502 1000.82,655.608 1011.22,668.756 1021.62,680.141 1032.02,689.956 1042.42,698.389 1052.82,705.613 1063.21,711.786 1073.61,717.049 1084.01,721.528 1094.41,725.332 1104.81,728.557 1115.21,731.287 1125.61,733.592 1136.01,735.536 1146.41,737.172 1156.81,738.545 1167.21,739.696 1177.61,740.657 1188.01,741.457 1198.41,742.122 1208.81,742.671 1219.21,743.124 1229.61,743.495 1240.01,743.798 1250.41,744.042 1260.81,744.239 1271.21,744.395 1281.6,744.518 1292,744.613 1302.4,744.686 1312.8,744.739 1323.2,744.777 1333.6,744.802 1344,744.817 1354.4,744.824 1364.8,744.824 1375.2,744.82 1385.6,744.811 1396,744.8 1406.4,744.786 1416.8,744.771 1427.2,744.754 1437.6,744.738 1448,744.721 1458.4,744.703 1468.8,744.687 1479.2,744.67 1489.6,744.654 1499.99,744.639 1510.39,744.625 1520.79,744.611 1531.19,744.597 1541.59,744.585 1551.99,744.573 1562.39,744.562 1572.79,744.552 1583.19,744.543 1593.59,744.534 1603.99,744.525 1614.39,744.518 1624.79,744.511 1635.19,744.504 1645.59,744.498 1655.99,744.492 1666.39,744.487 1676.79,744.482 1687.19,744.478 1697.59,744.474 1707.99,744.47 1718.38,744.467 1728.78,744.463 1739.18,744.461 1749.58,744.458 1759.98,744.455 1770.38,744.453 1780.78,744.451 1791.18,744.449 1801.58,744.448 1811.98,744.446 1822.38,744.445 1832.78,744.443 1843.18,744.442 1853.58,744.441 1863.98,744.44 1874.38,744.439 1884.78,744.438 1895.18,744.438 1905.58,744.437 1915.98,744.436 1926.38,744.436 1936.77,744.435 1947.17,744.435 1957.57,744.434 1967.97,744.434 1978.37,744.434 1988.77,744.433 1999.17,744.433 2009.57,744.433 2019.97,744.433 2030.37,744.432 2040.77,744.432 2051.17,744.432 2061.57,744.432 2071.97,744.432 2082.37,744.431 2092.77,744.431 2103.17,744.431 2113.57,744.431 2123.97,744.431 2134.37,744.431 2144.77,744.431 2155.16,744.431 2165.56,744.431 2175.96,744.431 2186.36,744.431 2196.76,744.431 2207.16,744.431 2217.56,744.43 2227.96,744.43 2238.36,744.43 2248.76,744.43 2259.16,744.43 2269.56,744.43 2279.96,744.43 2290.36,744.43 \"/>\n",
       "<path clip-path=\"url(#clip130)\" d=\"M2006.37 1438.47 L2279.27 1438.47 L2279.27 1282.95 L2006.37 1282.95  Z\" fill=\"#ffffff\" fill-rule=\"evenodd\" fill-opacity=\"1\"/>\n",
       "<polyline clip-path=\"url(#clip130)\" style=\"stroke:#000000; stroke-linecap:round; stroke-linejoin:round; stroke-width:4; stroke-opacity:1; fill:none\" points=\"2006.37,1438.47 2279.27,1438.47 2279.27,1282.95 2006.37,1282.95 2006.37,1438.47 \"/>\n",
       "<polyline clip-path=\"url(#clip130)\" style=\"stroke:#009af9; stroke-linecap:round; stroke-linejoin:round; stroke-width:4; stroke-opacity:1; fill:none\" points=\"2030.86,1334.79 2177.84,1334.79 \"/>\n",
       "<path clip-path=\"url(#clip130)\" d=\"M2216.18 1354.48 Q2214.38 1359.11 2212.66 1360.52 Q2210.95 1361.94 2208.08 1361.94 L2204.68 1361.94 L2204.68 1358.37 L2207.18 1358.37 Q2208.94 1358.37 2209.91 1357.54 Q2210.88 1356.7 2212.06 1353.6 L2212.83 1351.66 L2202.34 1326.15 L2206.85 1326.15 L2214.95 1346.43 L2223.06 1326.15 L2227.57 1326.15 L2216.18 1354.48 Z\" fill=\"#000000\" fill-rule=\"nonzero\" fill-opacity=\"1\" /><path clip-path=\"url(#clip130)\" d=\"M2234.86 1348.14 L2242.5 1348.14 L2242.5 1321.77 L2234.19 1323.44 L2234.19 1319.18 L2242.45 1317.51 L2247.13 1317.51 L2247.13 1348.14 L2254.77 1348.14 L2254.77 1352.07 L2234.86 1352.07 L2234.86 1348.14 Z\" fill=\"#000000\" fill-rule=\"nonzero\" fill-opacity=\"1\" /><polyline clip-path=\"url(#clip130)\" style=\"stroke:#e26f46; stroke-linecap:round; stroke-linejoin:round; stroke-width:4; stroke-opacity:1; fill:none\" points=\"2030.86,1386.63 2177.84,1386.63 \"/>\n",
       "<path clip-path=\"url(#clip130)\" d=\"M2216.18 1406.32 Q2214.38 1410.95 2212.66 1412.36 Q2210.95 1413.78 2208.08 1413.78 L2204.68 1413.78 L2204.68 1410.21 L2207.18 1410.21 Q2208.94 1410.21 2209.91 1409.38 Q2210.88 1408.54 2212.06 1405.44 L2212.83 1403.5 L2202.34 1377.99 L2206.85 1377.99 L2214.95 1398.27 L2223.06 1377.99 L2227.57 1377.99 L2216.18 1406.32 Z\" fill=\"#000000\" fill-rule=\"nonzero\" fill-opacity=\"1\" /><path clip-path=\"url(#clip130)\" d=\"M2238.08 1399.98 L2254.4 1399.98 L2254.4 1403.91 L2232.45 1403.91 L2232.45 1399.98 Q2235.12 1397.22 2239.7 1392.6 Q2244.31 1387.94 2245.49 1386.6 Q2247.73 1384.08 2248.61 1382.34 Q2249.51 1380.58 2249.51 1378.89 Q2249.51 1376.14 2247.57 1374.4 Q2245.65 1372.66 2242.55 1372.66 Q2240.35 1372.66 2237.89 1373.43 Q2235.46 1374.19 2232.69 1375.74 L2232.69 1371.02 Q2235.51 1369.89 2237.96 1369.31 Q2240.42 1368.73 2242.45 1368.73 Q2247.82 1368.73 2251.02 1371.41 Q2254.21 1374.1 2254.21 1378.59 Q2254.21 1380.72 2253.4 1382.64 Q2252.62 1384.54 2250.51 1387.13 Q2249.93 1387.8 2246.83 1391.02 Q2243.73 1394.22 2238.08 1399.98 Z\" fill=\"#000000\" fill-rule=\"nonzero\" fill-opacity=\"1\" /></svg>\n"
      ]
     },
     "execution_count": 15,
     "metadata": {},
     "output_type": "execute_result"
    }
   ],
   "source": [
    "plot(thist,xtraj[1,:])\n",
    "plot!(thist,xtraj[2,:])"
   ]
  },
  {
   "cell_type": "code",
   "execution_count": 16,
   "id": "552c6b11-4c32-40cc-a193-236e47fdb7fa",
   "metadata": {},
   "outputs": [
    {
     "data": {
      "image/svg+xml": [
       "<?xml version=\"1.0\" encoding=\"utf-8\"?>\n",
       "<svg xmlns=\"http://www.w3.org/2000/svg\" xmlns:xlink=\"http://www.w3.org/1999/xlink\" width=\"600\" height=\"400\" viewBox=\"0 0 2400 1600\">\n",
       "<defs>\n",
       "  <clipPath id=\"clip170\">\n",
       "    <rect x=\"0\" y=\"0\" width=\"2400\" height=\"1600\"/>\n",
       "  </clipPath>\n",
       "</defs>\n",
       "<path clip-path=\"url(#clip170)\" d=\"M0 1600 L2400 1600 L2400 0 L0 0  Z\" fill=\"#ffffff\" fill-rule=\"evenodd\" fill-opacity=\"1\"/>\n",
       "<defs>\n",
       "  <clipPath id=\"clip171\">\n",
       "    <rect x=\"480\" y=\"0\" width=\"1681\" height=\"1600\"/>\n",
       "  </clipPath>\n",
       "</defs>\n",
       "<path clip-path=\"url(#clip170)\" d=\"M178.867 1486.45 L2352.76 1486.45 L2352.76 47.2441 L178.867 47.2441  Z\" fill=\"#ffffff\" fill-rule=\"evenodd\" fill-opacity=\"1\"/>\n",
       "<defs>\n",
       "  <clipPath id=\"clip172\">\n",
       "    <rect x=\"178\" y=\"47\" width=\"2175\" height=\"1440\"/>\n",
       "  </clipPath>\n",
       "</defs>\n",
       "<polyline clip-path=\"url(#clip172)\" style=\"stroke:#000000; stroke-linecap:round; stroke-linejoin:round; stroke-width:2; stroke-opacity:0.1; fill:none\" points=\"240.392,1486.45 240.392,47.2441 \"/>\n",
       "<polyline clip-path=\"url(#clip172)\" style=\"stroke:#000000; stroke-linecap:round; stroke-linejoin:round; stroke-width:2; stroke-opacity:0.1; fill:none\" points=\"755.678,1486.45 755.678,47.2441 \"/>\n",
       "<polyline clip-path=\"url(#clip172)\" style=\"stroke:#000000; stroke-linecap:round; stroke-linejoin:round; stroke-width:2; stroke-opacity:0.1; fill:none\" points=\"1270.96,1486.45 1270.96,47.2441 \"/>\n",
       "<polyline clip-path=\"url(#clip172)\" style=\"stroke:#000000; stroke-linecap:round; stroke-linejoin:round; stroke-width:2; stroke-opacity:0.1; fill:none\" points=\"1786.25,1486.45 1786.25,47.2441 \"/>\n",
       "<polyline clip-path=\"url(#clip172)\" style=\"stroke:#000000; stroke-linecap:round; stroke-linejoin:round; stroke-width:2; stroke-opacity:0.1; fill:none\" points=\"2301.54,1486.45 2301.54,47.2441 \"/>\n",
       "<polyline clip-path=\"url(#clip170)\" style=\"stroke:#000000; stroke-linecap:round; stroke-linejoin:round; stroke-width:4; stroke-opacity:1; fill:none\" points=\"178.867,1486.45 2352.76,1486.45 \"/>\n",
       "<polyline clip-path=\"url(#clip170)\" style=\"stroke:#000000; stroke-linecap:round; stroke-linejoin:round; stroke-width:4; stroke-opacity:1; fill:none\" points=\"240.392,1486.45 240.392,1467.55 \"/>\n",
       "<polyline clip-path=\"url(#clip170)\" style=\"stroke:#000000; stroke-linecap:round; stroke-linejoin:round; stroke-width:4; stroke-opacity:1; fill:none\" points=\"755.678,1486.45 755.678,1467.55 \"/>\n",
       "<polyline clip-path=\"url(#clip170)\" style=\"stroke:#000000; stroke-linecap:round; stroke-linejoin:round; stroke-width:4; stroke-opacity:1; fill:none\" points=\"1270.96,1486.45 1270.96,1467.55 \"/>\n",
       "<polyline clip-path=\"url(#clip170)\" style=\"stroke:#000000; stroke-linecap:round; stroke-linejoin:round; stroke-width:4; stroke-opacity:1; fill:none\" points=\"1786.25,1486.45 1786.25,1467.55 \"/>\n",
       "<polyline clip-path=\"url(#clip170)\" style=\"stroke:#000000; stroke-linecap:round; stroke-linejoin:round; stroke-width:4; stroke-opacity:1; fill:none\" points=\"2301.54,1486.45 2301.54,1467.55 \"/>\n",
       "<path clip-path=\"url(#clip170)\" d=\"M217.776 1517.37 Q214.165 1517.37 212.336 1520.93 Q210.531 1524.47 210.531 1531.6 Q210.531 1538.71 212.336 1542.27 Q214.165 1545.82 217.776 1545.82 Q221.41 1545.82 223.216 1542.27 Q225.045 1538.71 225.045 1531.6 Q225.045 1524.47 223.216 1520.93 Q221.41 1517.37 217.776 1517.37 M217.776 1513.66 Q223.586 1513.66 226.642 1518.27 Q229.721 1522.85 229.721 1531.6 Q229.721 1540.33 226.642 1544.94 Q223.586 1549.52 217.776 1549.52 Q211.966 1549.52 208.887 1544.94 Q205.832 1540.33 205.832 1531.6 Q205.832 1522.85 208.887 1518.27 Q211.966 1513.66 217.776 1513.66 Z\" fill=\"#000000\" fill-rule=\"nonzero\" fill-opacity=\"1\" /><path clip-path=\"url(#clip170)\" d=\"M237.938 1542.97 L242.822 1542.97 L242.822 1548.85 L237.938 1548.85 L237.938 1542.97 Z\" fill=\"#000000\" fill-rule=\"nonzero\" fill-opacity=\"1\" /><path clip-path=\"url(#clip170)\" d=\"M263.007 1517.37 Q259.396 1517.37 257.568 1520.93 Q255.762 1524.47 255.762 1531.6 Q255.762 1538.71 257.568 1542.27 Q259.396 1545.82 263.007 1545.82 Q266.642 1545.82 268.447 1542.27 Q270.276 1538.71 270.276 1531.6 Q270.276 1524.47 268.447 1520.93 Q266.642 1517.37 263.007 1517.37 M263.007 1513.66 Q268.818 1513.66 271.873 1518.27 Q274.952 1522.85 274.952 1531.6 Q274.952 1540.33 271.873 1544.94 Q268.818 1549.52 263.007 1549.52 Q257.197 1549.52 254.119 1544.94 Q251.063 1540.33 251.063 1531.6 Q251.063 1522.85 254.119 1518.27 Q257.197 1513.66 263.007 1513.66 Z\" fill=\"#000000\" fill-rule=\"nonzero\" fill-opacity=\"1\" /><path clip-path=\"url(#clip170)\" d=\"M727.414 1544.91 L743.734 1544.91 L743.734 1548.85 L721.789 1548.85 L721.789 1544.91 Q724.451 1542.16 729.035 1537.53 Q733.641 1532.88 734.822 1531.53 Q737.067 1529.01 737.947 1527.27 Q738.849 1525.51 738.849 1523.82 Q738.849 1521.07 736.905 1519.33 Q734.984 1517.6 731.882 1517.6 Q729.683 1517.6 727.229 1518.36 Q724.799 1519.13 722.021 1520.68 L722.021 1515.95 Q724.845 1514.82 727.298 1514.24 Q729.752 1513.66 731.789 1513.66 Q737.16 1513.66 740.354 1516.35 Q743.548 1519.03 743.548 1523.52 Q743.548 1525.65 742.738 1527.57 Q741.951 1529.47 739.845 1532.07 Q739.266 1532.74 736.164 1535.95 Q733.062 1539.15 727.414 1544.91 Z\" fill=\"#000000\" fill-rule=\"nonzero\" fill-opacity=\"1\" /><path clip-path=\"url(#clip170)\" d=\"M753.548 1542.97 L758.433 1542.97 L758.433 1548.85 L753.548 1548.85 L753.548 1542.97 Z\" fill=\"#000000\" fill-rule=\"nonzero\" fill-opacity=\"1\" /><path clip-path=\"url(#clip170)\" d=\"M768.664 1514.29 L787.02 1514.29 L787.02 1518.22 L772.946 1518.22 L772.946 1526.7 Q773.965 1526.35 774.983 1526.19 Q776.002 1526 777.02 1526 Q782.807 1526 786.187 1529.17 Q789.567 1532.34 789.567 1537.76 Q789.567 1543.34 786.094 1546.44 Q782.622 1549.52 776.303 1549.52 Q774.127 1549.52 771.858 1549.15 Q769.613 1548.78 767.206 1548.04 L767.206 1543.34 Q769.289 1544.47 771.511 1545.03 Q773.733 1545.58 776.21 1545.58 Q780.215 1545.58 782.553 1543.48 Q784.891 1541.37 784.891 1537.76 Q784.891 1534.15 782.553 1532.04 Q780.215 1529.94 776.21 1529.94 Q774.335 1529.94 772.46 1530.35 Q770.608 1530.77 768.664 1531.65 L768.664 1514.29 Z\" fill=\"#000000\" fill-rule=\"nonzero\" fill-opacity=\"1\" /><path clip-path=\"url(#clip170)\" d=\"M1238.13 1514.29 L1256.49 1514.29 L1256.49 1518.22 L1242.41 1518.22 L1242.41 1526.7 Q1243.43 1526.35 1244.45 1526.19 Q1245.47 1526 1246.49 1526 Q1252.27 1526 1255.65 1529.17 Q1259.03 1532.34 1259.03 1537.76 Q1259.03 1543.34 1255.56 1546.44 Q1252.09 1549.52 1245.77 1549.52 Q1243.59 1549.52 1241.32 1549.15 Q1239.08 1548.78 1236.67 1548.04 L1236.67 1543.34 Q1238.75 1544.47 1240.98 1545.03 Q1243.2 1545.58 1245.67 1545.58 Q1249.68 1545.58 1252.02 1543.48 Q1254.36 1541.37 1254.36 1537.76 Q1254.36 1534.15 1252.02 1532.04 Q1249.68 1529.94 1245.67 1529.94 Q1243.8 1529.94 1241.92 1530.35 Q1240.07 1530.77 1238.13 1531.65 L1238.13 1514.29 Z\" fill=\"#000000\" fill-rule=\"nonzero\" fill-opacity=\"1\" /><path clip-path=\"url(#clip170)\" d=\"M1268.24 1542.97 L1273.13 1542.97 L1273.13 1548.85 L1268.24 1548.85 L1268.24 1542.97 Z\" fill=\"#000000\" fill-rule=\"nonzero\" fill-opacity=\"1\" /><path clip-path=\"url(#clip170)\" d=\"M1293.31 1517.37 Q1289.7 1517.37 1287.87 1520.93 Q1286.07 1524.47 1286.07 1531.6 Q1286.07 1538.71 1287.87 1542.27 Q1289.7 1545.82 1293.31 1545.82 Q1296.95 1545.82 1298.75 1542.27 Q1300.58 1538.71 1300.58 1531.6 Q1300.58 1524.47 1298.75 1520.93 Q1296.95 1517.37 1293.31 1517.37 M1293.31 1513.66 Q1299.12 1513.66 1302.18 1518.27 Q1305.26 1522.85 1305.26 1531.6 Q1305.26 1540.33 1302.18 1544.94 Q1299.12 1549.52 1293.31 1549.52 Q1287.5 1549.52 1284.42 1544.94 Q1281.37 1540.33 1281.37 1531.6 Q1281.37 1522.85 1284.42 1518.27 Q1287.5 1513.66 1293.31 1513.66 Z\" fill=\"#000000\" fill-rule=\"nonzero\" fill-opacity=\"1\" /><path clip-path=\"url(#clip170)\" d=\"M1752.57 1514.29 L1774.79 1514.29 L1774.79 1516.28 L1762.25 1548.85 L1757.36 1548.85 L1769.17 1518.22 L1752.57 1518.22 L1752.57 1514.29 Z\" fill=\"#000000\" fill-rule=\"nonzero\" fill-opacity=\"1\" /><path clip-path=\"url(#clip170)\" d=\"M1783.91 1542.97 L1788.8 1542.97 L1788.8 1548.85 L1783.91 1548.85 L1783.91 1542.97 Z\" fill=\"#000000\" fill-rule=\"nonzero\" fill-opacity=\"1\" /><path clip-path=\"url(#clip170)\" d=\"M1799.03 1514.29 L1817.38 1514.29 L1817.38 1518.22 L1803.31 1518.22 L1803.31 1526.7 Q1804.33 1526.35 1805.35 1526.19 Q1806.37 1526 1807.38 1526 Q1813.17 1526 1816.55 1529.17 Q1819.93 1532.34 1819.93 1537.76 Q1819.93 1543.34 1816.46 1546.44 Q1812.99 1549.52 1806.67 1549.52 Q1804.49 1549.52 1802.22 1549.15 Q1799.98 1548.78 1797.57 1548.04 L1797.57 1543.34 Q1799.65 1544.47 1801.88 1545.03 Q1804.1 1545.58 1806.57 1545.58 Q1810.58 1545.58 1812.92 1543.48 Q1815.25 1541.37 1815.25 1537.76 Q1815.25 1534.15 1812.92 1532.04 Q1810.58 1529.94 1806.57 1529.94 Q1804.7 1529.94 1802.82 1530.35 Q1800.97 1530.77 1799.03 1531.65 L1799.03 1514.29 Z\" fill=\"#000000\" fill-rule=\"nonzero\" fill-opacity=\"1\" /><path clip-path=\"url(#clip170)\" d=\"M2253.61 1544.91 L2261.25 1544.91 L2261.25 1518.55 L2252.94 1520.21 L2252.94 1515.95 L2261.2 1514.29 L2265.88 1514.29 L2265.88 1544.91 L2273.52 1544.91 L2273.52 1548.85 L2253.61 1548.85 L2253.61 1544.91 Z\" fill=\"#000000\" fill-rule=\"nonzero\" fill-opacity=\"1\" /><path clip-path=\"url(#clip170)\" d=\"M2292.96 1517.37 Q2289.35 1517.37 2287.52 1520.93 Q2285.71 1524.47 2285.71 1531.6 Q2285.71 1538.71 2287.52 1542.27 Q2289.35 1545.82 2292.96 1545.82 Q2296.59 1545.82 2298.4 1542.27 Q2300.23 1538.71 2300.23 1531.6 Q2300.23 1524.47 2298.4 1520.93 Q2296.59 1517.37 2292.96 1517.37 M2292.96 1513.66 Q2298.77 1513.66 2301.83 1518.27 Q2304.9 1522.85 2304.9 1531.6 Q2304.9 1540.33 2301.83 1544.94 Q2298.77 1549.52 2292.96 1549.52 Q2287.15 1549.52 2284.07 1544.94 Q2281.02 1540.33 2281.02 1531.6 Q2281.02 1522.85 2284.07 1518.27 Q2287.15 1513.66 2292.96 1513.66 Z\" fill=\"#000000\" fill-rule=\"nonzero\" fill-opacity=\"1\" /><path clip-path=\"url(#clip170)\" d=\"M2313.12 1542.97 L2318.01 1542.97 L2318.01 1548.85 L2313.12 1548.85 L2313.12 1542.97 Z\" fill=\"#000000\" fill-rule=\"nonzero\" fill-opacity=\"1\" /><path clip-path=\"url(#clip170)\" d=\"M2338.19 1517.37 Q2334.58 1517.37 2332.75 1520.93 Q2330.95 1524.47 2330.95 1531.6 Q2330.95 1538.71 2332.75 1542.27 Q2334.58 1545.82 2338.19 1545.82 Q2341.83 1545.82 2343.63 1542.27 Q2345.46 1538.71 2345.46 1531.6 Q2345.46 1524.47 2343.63 1520.93 Q2341.83 1517.37 2338.19 1517.37 M2338.19 1513.66 Q2344 1513.66 2347.06 1518.27 Q2350.14 1522.85 2350.14 1531.6 Q2350.14 1540.33 2347.06 1544.94 Q2344 1549.52 2338.19 1549.52 Q2332.38 1549.52 2329.3 1544.94 Q2326.25 1540.33 2326.25 1531.6 Q2326.25 1522.85 2329.3 1518.27 Q2332.38 1513.66 2338.19 1513.66 Z\" fill=\"#000000\" fill-rule=\"nonzero\" fill-opacity=\"1\" /><polyline clip-path=\"url(#clip172)\" style=\"stroke:#000000; stroke-linecap:round; stroke-linejoin:round; stroke-width:2; stroke-opacity:0.1; fill:none\" points=\"178.867,1462.16 2352.76,1462.16 \"/>\n",
       "<polyline clip-path=\"url(#clip172)\" style=\"stroke:#000000; stroke-linecap:round; stroke-linejoin:round; stroke-width:2; stroke-opacity:0.1; fill:none\" points=\"178.867,1215.23 2352.76,1215.23 \"/>\n",
       "<polyline clip-path=\"url(#clip172)\" style=\"stroke:#000000; stroke-linecap:round; stroke-linejoin:round; stroke-width:2; stroke-opacity:0.1; fill:none\" points=\"178.867,968.298 2352.76,968.298 \"/>\n",
       "<polyline clip-path=\"url(#clip172)\" style=\"stroke:#000000; stroke-linecap:round; stroke-linejoin:round; stroke-width:2; stroke-opacity:0.1; fill:none\" points=\"178.867,721.368 2352.76,721.368 \"/>\n",
       "<polyline clip-path=\"url(#clip172)\" style=\"stroke:#000000; stroke-linecap:round; stroke-linejoin:round; stroke-width:2; stroke-opacity:0.1; fill:none\" points=\"178.867,474.438 2352.76,474.438 \"/>\n",
       "<polyline clip-path=\"url(#clip172)\" style=\"stroke:#000000; stroke-linecap:round; stroke-linejoin:round; stroke-width:2; stroke-opacity:0.1; fill:none\" points=\"178.867,227.508 2352.76,227.508 \"/>\n",
       "<polyline clip-path=\"url(#clip170)\" style=\"stroke:#000000; stroke-linecap:round; stroke-linejoin:round; stroke-width:4; stroke-opacity:1; fill:none\" points=\"178.867,1486.45 178.867,47.2441 \"/>\n",
       "<polyline clip-path=\"url(#clip170)\" style=\"stroke:#000000; stroke-linecap:round; stroke-linejoin:round; stroke-width:4; stroke-opacity:1; fill:none\" points=\"178.867,1462.16 197.764,1462.16 \"/>\n",
       "<polyline clip-path=\"url(#clip170)\" style=\"stroke:#000000; stroke-linecap:round; stroke-linejoin:round; stroke-width:4; stroke-opacity:1; fill:none\" points=\"178.867,1215.23 197.764,1215.23 \"/>\n",
       "<polyline clip-path=\"url(#clip170)\" style=\"stroke:#000000; stroke-linecap:round; stroke-linejoin:round; stroke-width:4; stroke-opacity:1; fill:none\" points=\"178.867,968.298 197.764,968.298 \"/>\n",
       "<polyline clip-path=\"url(#clip170)\" style=\"stroke:#000000; stroke-linecap:round; stroke-linejoin:round; stroke-width:4; stroke-opacity:1; fill:none\" points=\"178.867,721.368 197.764,721.368 \"/>\n",
       "<polyline clip-path=\"url(#clip170)\" style=\"stroke:#000000; stroke-linecap:round; stroke-linejoin:round; stroke-width:4; stroke-opacity:1; fill:none\" points=\"178.867,474.438 197.764,474.438 \"/>\n",
       "<polyline clip-path=\"url(#clip170)\" style=\"stroke:#000000; stroke-linecap:round; stroke-linejoin:round; stroke-width:4; stroke-opacity:1; fill:none\" points=\"178.867,227.508 197.764,227.508 \"/>\n",
       "<path clip-path=\"url(#clip170)\" d=\"M50.9921 1462.61 L80.6679 1462.61 L80.6679 1466.55 L50.9921 1466.55 L50.9921 1462.61 Z\" fill=\"#000000\" fill-rule=\"nonzero\" fill-opacity=\"1\" /><path clip-path=\"url(#clip170)\" d=\"M104.927 1460.8 Q108.283 1461.52 110.158 1463.79 Q112.057 1466.06 112.057 1469.39 Q112.057 1474.51 108.538 1477.31 Q105.02 1480.11 98.5382 1480.11 Q96.3623 1480.11 94.0475 1479.67 Q91.7558 1479.25 89.3021 1478.4 L89.3021 1473.88 Q91.2465 1475.02 93.5613 1475.6 Q95.8761 1476.17 98.3993 1476.17 Q102.797 1476.17 105.089 1474.44 Q107.404 1472.7 107.404 1469.39 Q107.404 1466.34 105.251 1464.62 Q103.121 1462.89 99.3021 1462.89 L95.2743 1462.89 L95.2743 1459.05 L99.4872 1459.05 Q102.936 1459.05 104.765 1457.68 Q106.594 1456.29 106.594 1453.7 Q106.594 1451.04 104.696 1449.62 Q102.821 1448.19 99.3021 1448.19 Q97.3808 1448.19 95.1817 1448.61 Q92.9826 1449.02 90.3438 1449.9 L90.3438 1445.74 Q93.0058 1444.99 95.3206 1444.62 Q97.6585 1444.25 99.7187 1444.25 Q105.043 1444.25 108.145 1446.68 Q111.246 1449.09 111.246 1453.21 Q111.246 1456.08 109.603 1458.07 Q107.959 1460.04 104.927 1460.8 Z\" fill=\"#000000\" fill-rule=\"nonzero\" fill-opacity=\"1\" /><path clip-path=\"url(#clip170)\" d=\"M130.922 1447.96 Q127.311 1447.96 125.482 1451.52 Q123.677 1455.06 123.677 1462.19 Q123.677 1469.3 125.482 1472.86 Q127.311 1476.41 130.922 1476.41 Q134.556 1476.41 136.362 1472.86 Q138.191 1469.3 138.191 1462.19 Q138.191 1455.06 136.362 1451.52 Q134.556 1447.96 130.922 1447.96 M130.922 1444.25 Q136.732 1444.25 139.788 1448.86 Q142.867 1453.44 142.867 1462.19 Q142.867 1470.92 139.788 1475.53 Q136.732 1480.11 130.922 1480.11 Q125.112 1480.11 122.033 1475.53 Q118.978 1470.92 118.978 1462.19 Q118.978 1453.44 122.033 1448.86 Q125.112 1444.25 130.922 1444.25 Z\" fill=\"#000000\" fill-rule=\"nonzero\" fill-opacity=\"1\" /><path clip-path=\"url(#clip170)\" d=\"M50.9921 1215.68 L80.6679 1215.68 L80.6679 1219.62 L50.9921 1219.62 L50.9921 1215.68 Z\" fill=\"#000000\" fill-rule=\"nonzero\" fill-opacity=\"1\" /><path clip-path=\"url(#clip170)\" d=\"M94.7882 1228.57 L111.108 1228.57 L111.108 1232.51 L89.1632 1232.51 L89.1632 1228.57 Q91.8252 1225.82 96.4085 1221.19 Q101.015 1216.54 102.196 1215.19 Q104.441 1212.67 105.321 1210.93 Q106.223 1209.18 106.223 1207.49 Q106.223 1204.73 104.279 1202.99 Q102.358 1201.26 99.2558 1201.26 Q97.0567 1201.26 94.603 1202.02 Q92.1725 1202.79 89.3947 1204.34 L89.3947 1199.62 Q92.2188 1198.48 94.6724 1197.9 Q97.1261 1197.32 99.1632 1197.32 Q104.534 1197.32 107.728 1200.01 Q110.922 1202.69 110.922 1207.18 Q110.922 1209.31 110.112 1211.24 Q109.325 1213.13 107.219 1215.73 Q106.64 1216.4 103.538 1219.62 Q100.436 1222.81 94.7882 1228.57 Z\" fill=\"#000000\" fill-rule=\"nonzero\" fill-opacity=\"1\" /><path clip-path=\"url(#clip170)\" d=\"M130.922 1201.03 Q127.311 1201.03 125.482 1204.59 Q123.677 1208.13 123.677 1215.26 Q123.677 1222.37 125.482 1225.93 Q127.311 1229.48 130.922 1229.48 Q134.556 1229.48 136.362 1225.93 Q138.191 1222.37 138.191 1215.26 Q138.191 1208.13 136.362 1204.59 Q134.556 1201.03 130.922 1201.03 M130.922 1197.32 Q136.732 1197.32 139.788 1201.93 Q142.867 1206.51 142.867 1215.26 Q142.867 1223.99 139.788 1228.6 Q136.732 1233.18 130.922 1233.18 Q125.112 1233.18 122.033 1228.6 Q118.978 1223.99 118.978 1215.26 Q118.978 1206.51 122.033 1201.93 Q125.112 1197.32 130.922 1197.32 Z\" fill=\"#000000\" fill-rule=\"nonzero\" fill-opacity=\"1\" /><path clip-path=\"url(#clip170)\" d=\"M50.9921 968.75 L80.6679 968.75 L80.6679 972.685 L50.9921 972.685 L50.9921 968.75 Z\" fill=\"#000000\" fill-rule=\"nonzero\" fill-opacity=\"1\" /><path clip-path=\"url(#clip170)\" d=\"M91.5706 981.643 L99.2095 981.643 L99.2095 955.278 L90.8993 956.944 L90.8993 952.685 L99.1632 951.018 L103.839 951.018 L103.839 981.643 L111.478 981.643 L111.478 985.578 L91.5706 985.578 L91.5706 981.643 Z\" fill=\"#000000\" fill-rule=\"nonzero\" fill-opacity=\"1\" /><path clip-path=\"url(#clip170)\" d=\"M130.922 954.097 Q127.311 954.097 125.482 957.662 Q123.677 961.203 123.677 968.333 Q123.677 975.44 125.482 979.004 Q127.311 982.546 130.922 982.546 Q134.556 982.546 136.362 979.004 Q138.191 975.44 138.191 968.333 Q138.191 961.203 136.362 957.662 Q134.556 954.097 130.922 954.097 M130.922 950.393 Q136.732 950.393 139.788 955 Q142.867 959.583 142.867 968.333 Q142.867 977.06 139.788 981.666 Q136.732 986.25 130.922 986.25 Q125.112 986.25 122.033 981.666 Q118.978 977.06 118.978 968.333 Q118.978 959.583 122.033 955 Q125.112 950.393 130.922 950.393 Z\" fill=\"#000000\" fill-rule=\"nonzero\" fill-opacity=\"1\" /><path clip-path=\"url(#clip170)\" d=\"M130.922 707.167 Q127.311 707.167 125.482 710.732 Q123.677 714.273 123.677 721.403 Q123.677 728.509 125.482 732.074 Q127.311 735.616 130.922 735.616 Q134.556 735.616 136.362 732.074 Q138.191 728.509 138.191 721.403 Q138.191 714.273 136.362 710.732 Q134.556 707.167 130.922 707.167 M130.922 703.463 Q136.732 703.463 139.788 708.07 Q142.867 712.653 142.867 721.403 Q142.867 730.13 139.788 734.736 Q136.732 739.32 130.922 739.32 Q125.112 739.32 122.033 734.736 Q118.978 730.13 118.978 721.403 Q118.978 712.653 122.033 708.07 Q125.112 703.463 130.922 703.463 Z\" fill=\"#000000\" fill-rule=\"nonzero\" fill-opacity=\"1\" /><path clip-path=\"url(#clip170)\" d=\"M91.5706 487.783 L99.2095 487.783 L99.2095 461.417 L90.8993 463.084 L90.8993 458.825 L99.1632 457.158 L103.839 457.158 L103.839 487.783 L111.478 487.783 L111.478 491.718 L91.5706 491.718 L91.5706 487.783 Z\" fill=\"#000000\" fill-rule=\"nonzero\" fill-opacity=\"1\" /><path clip-path=\"url(#clip170)\" d=\"M130.922 460.237 Q127.311 460.237 125.482 463.802 Q123.677 467.343 123.677 474.473 Q123.677 481.579 125.482 485.144 Q127.311 488.686 130.922 488.686 Q134.556 488.686 136.362 485.144 Q138.191 481.579 138.191 474.473 Q138.191 467.343 136.362 463.802 Q134.556 460.237 130.922 460.237 M130.922 456.533 Q136.732 456.533 139.788 461.14 Q142.867 465.723 142.867 474.473 Q142.867 483.2 139.788 487.806 Q136.732 492.389 130.922 492.389 Q125.112 492.389 122.033 487.806 Q118.978 483.2 118.978 474.473 Q118.978 465.723 122.033 461.14 Q125.112 456.533 130.922 456.533 Z\" fill=\"#000000\" fill-rule=\"nonzero\" fill-opacity=\"1\" /><path clip-path=\"url(#clip170)\" d=\"M94.7882 240.853 L111.108 240.853 L111.108 244.788 L89.1632 244.788 L89.1632 240.853 Q91.8252 238.098 96.4085 233.469 Q101.015 228.816 102.196 227.473 Q104.441 224.95 105.321 223.214 Q106.223 221.455 106.223 219.765 Q106.223 217.01 104.279 215.274 Q102.358 213.538 99.2558 213.538 Q97.0567 213.538 94.603 214.302 Q92.1725 215.066 89.3947 216.617 L89.3947 211.895 Q92.2188 210.761 94.6724 210.182 Q97.1261 209.603 99.1632 209.603 Q104.534 209.603 107.728 212.288 Q110.922 214.973 110.922 219.464 Q110.922 221.594 110.112 223.515 Q109.325 225.413 107.219 228.006 Q106.64 228.677 103.538 231.895 Q100.436 235.089 94.7882 240.853 Z\" fill=\"#000000\" fill-rule=\"nonzero\" fill-opacity=\"1\" /><path clip-path=\"url(#clip170)\" d=\"M130.922 213.307 Q127.311 213.307 125.482 216.872 Q123.677 220.413 123.677 227.543 Q123.677 234.649 125.482 238.214 Q127.311 241.756 130.922 241.756 Q134.556 241.756 136.362 238.214 Q138.191 234.649 138.191 227.543 Q138.191 220.413 136.362 216.872 Q134.556 213.307 130.922 213.307 M130.922 209.603 Q136.732 209.603 139.788 214.21 Q142.867 218.793 142.867 227.543 Q142.867 236.27 139.788 240.876 Q136.732 245.459 130.922 245.459 Q125.112 245.459 122.033 240.876 Q118.978 236.27 118.978 227.543 Q118.978 218.793 122.033 214.21 Q125.112 209.603 130.922 209.603 Z\" fill=\"#000000\" fill-rule=\"nonzero\" fill-opacity=\"1\" /><polyline clip-path=\"url(#clip172)\" style=\"stroke:#009af9; stroke-linecap:round; stroke-linejoin:round; stroke-width:4; stroke-opacity:1; fill:none\" points=\"240.392,1445.72 250.698,1367.06 261.003,1307.07 271.309,1254.59 281.615,1201.77 291.92,1146.53 302.226,1090.24 312.532,1034.4 322.838,979.546 333.143,925.559 343.449,872.271 353.755,819.794 364.06,768.624 374.366,719.572 384.672,673.615 394.978,631.745 405.283,594.848 415.589,563.642 425.895,538.663 436.201,520.28 446.506,508.75 456.812,504.289 467.118,507.119 477.423,517.465 487.729,535.437 498.035,560.809 508.341,592.765 518.646,629.71 528.952,669.228 539.258,708.159 549.564,742.753 559.869,768.857 570.175,782.181 580.481,778.692 590.786,755.089 601.092,709.205 611.398,640.223 621.704,548.944 632.009,438.812 642.315,318.423 652.621,204.594 662.926,121.055 673.232,87.9763 683.538,110.582 693.844,180.236 704.149,283.334 714.455,406.826 724.761,539.19 735.067,670.352 745.372,792.199 755.678,899.202 765.984,988.475 776.289,1059.29 786.595,1112.35 796.901,1149.2 807.207,1171.61 817.512,1181.29 827.818,1179.77 838.124,1168.43 848.429,1148.75 858.735,1122.37 869.041,1091.09 879.347,1056.8 889.652,1021.23 899.958,985.879 910.264,951.933 920.57,920.234 930.875,891.328 941.181,865.502 951.487,842.83 961.792,823.22 972.098,806.461 982.404,792.267 992.71,780.321 1003.02,770.308 1013.32,761.932 1023.63,754.934 1033.93,749.089 1044.24,744.207 1054.54,740.131 1064.85,736.728 1075.16,733.889 1085.46,731.522 1095.77,729.552 1106.07,727.914 1116.38,726.556 1126.68,725.431 1136.99,724.503 1147.3,723.74 1157.6,723.116 1167.91,722.606 1178.21,722.193 1188.52,721.861 1198.82,721.596 1209.13,721.386 1219.44,721.223 1229.74,721.097 1240.05,721.003 1250.35,720.934 1260.66,720.886 1270.96,720.855 1281.27,720.838 1291.58,720.831 1301.88,720.833 1312.19,720.842 1322.49,720.855 1332.8,720.872 1343.1,720.892 1353.41,720.914 1363.72,720.937 1374.02,720.961 1384.33,720.984 1394.63,721.008 1404.94,721.031 1415.24,721.053 1425.55,721.075 1435.86,721.095 1446.16,721.115 1456.47,721.134 1466.77,721.152 1477.08,721.168 1487.38,721.184 1497.69,721.198 1508,721.212 1518.3,721.224 1528.61,721.236 1538.91,721.247 1549.22,721.257 1559.52,721.266 1569.83,721.275 1580.14,721.283 1590.44,721.29 1600.75,721.297 1611.05,721.303 1621.36,721.309 1631.66,721.314 1641.97,721.319 1652.28,721.323 1662.58,721.327 1672.89,721.331 1683.19,721.334 1693.5,721.337 1703.8,721.34 1714.11,721.343 1724.42,721.345 1734.72,721.347 1745.03,721.349 1755.33,721.351 1765.64,721.352 1775.94,721.354 1786.25,721.355 1796.56,721.356 1806.86,721.357 1817.17,721.358 1827.47,721.359 1837.78,721.36 1848.08,721.361 1858.39,721.362 1868.7,721.362 1879,721.363 1889.31,721.363 1899.61,721.364 1909.92,721.364 1920.22,721.365 1930.53,721.365 1940.84,721.365 1951.14,721.365 1961.45,721.366 1971.75,721.366 1982.06,721.366 1992.36,721.366 2002.67,721.367 2012.98,721.367 2023.28,721.367 2033.59,721.367 2043.89,721.367 2054.2,721.367 2064.5,721.367 2074.81,721.367 2085.12,721.367 2095.42,721.368 2105.73,721.368 2116.03,721.368 2126.34,721.368 2136.64,721.368 2146.95,721.368 2157.26,721.368 2167.56,721.368 2177.87,721.368 2188.17,721.368 2198.48,721.368 2208.78,721.368 2219.09,721.368 2229.4,721.368 2239.7,721.368 2250.01,721.368 2260.31,721.368 2270.62,721.368 2280.93,721.369 2291.23,721.369 \"/>\n",
       "<path clip-path=\"url(#clip170)\" d=\"M2010.47 198.898 L2280.29 198.898 L2280.29 95.2176 L2010.47 95.2176  Z\" fill=\"#ffffff\" fill-rule=\"evenodd\" fill-opacity=\"1\"/>\n",
       "<polyline clip-path=\"url(#clip170)\" style=\"stroke:#000000; stroke-linecap:round; stroke-linejoin:round; stroke-width:4; stroke-opacity:1; fill:none\" points=\"2010.47,198.898 2280.29,198.898 2280.29,95.2176 2010.47,95.2176 2010.47,198.898 \"/>\n",
       "<polyline clip-path=\"url(#clip170)\" style=\"stroke:#009af9; stroke-linecap:round; stroke-linejoin:round; stroke-width:4; stroke-opacity:1; fill:none\" points=\"2034.63,147.058 2179.55,147.058 \"/>\n",
       "<path clip-path=\"url(#clip170)\" d=\"M2217.55 166.745 Q2215.75 171.375 2214.03 172.787 Q2212.32 174.199 2209.45 174.199 L2206.05 174.199 L2206.05 170.634 L2208.55 170.634 Q2210.31 170.634 2211.28 169.8 Q2212.25 168.967 2213.43 165.865 L2214.19 163.921 L2203.71 138.412 L2208.22 138.412 L2216.32 158.689 L2224.43 138.412 L2228.94 138.412 L2217.55 166.745 Z\" fill=\"#000000\" fill-rule=\"nonzero\" fill-opacity=\"1\" /><path clip-path=\"url(#clip170)\" d=\"M2236.23 160.402 L2243.87 160.402 L2243.87 134.037 L2235.56 135.703 L2235.56 131.444 L2243.82 129.778 L2248.5 129.778 L2248.5 160.402 L2256.14 160.402 L2256.14 164.338 L2236.23 164.338 L2236.23 160.402 Z\" fill=\"#000000\" fill-rule=\"nonzero\" fill-opacity=\"1\" /></svg>\n"
      ]
     },
     "execution_count": 16,
     "metadata": {},
     "output_type": "execute_result"
    }
   ],
   "source": [
    "plot(thist[1:Nt-1],utraj)"
   ]
  },
  {
   "cell_type": "code",
   "execution_count": 17,
   "id": "b8ab14d6-9576-48a1-a08f-600d56f55944",
   "metadata": {},
   "outputs": [
    {
     "name": "stderr",
     "output_type": "stream",
     "text": [
      "\u001b[36m\u001b[1m┌ \u001b[22m\u001b[39m\u001b[36m\u001b[1mInfo: \u001b[22m\u001b[39mMeshCat server started. You can open the visualizer by visiting the following URL in your browser:\n",
      "\u001b[36m\u001b[1m└ \u001b[22m\u001b[39mhttp://127.0.0.1:8700\n"
     ]
    },
    {
     "data": {
      "text/html": [
       "    <div style=\"height: 500px; width: 100%; overflow-x: auto; overflow-y: hidden; resize: both\">\n",
       "    <iframe src=\"http://127.0.0.1:8700\" style=\"width: 100%; height: 100%; border: none\"></iframe>\n",
       "    </div>\n"
      ],
      "text/plain": [
       "MeshCat.DisplayedVisualizer(MeshCat.CoreVisualizer(MeshCat.SceneTrees.SceneNode(nothing, nothing, Dict{String, Vector{UInt8}}(), nothing, Dict{String, MeshCat.SceneTrees.SceneNode}()), Set{Any}(), ip\"127.0.0.1\", 8700))"
      ]
     },
     "execution_count": 17,
     "metadata": {},
     "output_type": "execute_result"
    }
   ],
   "source": [
    "using TrajOptPlots\n",
    "using MeshCat\n",
    "using StaticArrays\n",
    "\n",
    "vis = Visualizer()\n",
    "render(vis)"
   ]
  },
  {
   "cell_type": "code",
   "execution_count": 18,
   "id": "5a6d21a0-2bb4-4b15-be0d-762161e0ae71",
   "metadata": {},
   "outputs": [
    {
     "data": {
      "text/plain": [
       "MeshCat Visualizer with path /meshcat/robot/link1/joint at http://127.0.0.1:8700"
      ]
     },
     "execution_count": 18,
     "metadata": {},
     "output_type": "execute_result"
    }
   ],
   "source": [
    "TrajOptPlots.set_mesh!(vis, a)"
   ]
  },
  {
   "cell_type": "code",
   "execution_count": 19,
   "id": "a14d8b08-6ac6-4bd6-9cb5-55b43554750d",
   "metadata": {},
   "outputs": [],
   "source": [
    "X1 = [SVector{4}(x) for x in eachcol(xtraj)];\n",
    "visualize!(vis, a, thist[end], X1)"
   ]
  },
  {
   "cell_type": "markdown",
   "id": "a060be88-d2bd-48f5-b73b-e382a97a2ee7",
   "metadata": {},
   "source": [
    "## DDP Algorithm"
   ]
  },
  {
   "cell_type": "code",
   "execution_count": 10,
   "id": "62e02e49-6af4-4c57-959a-0fd85d287f2c",
   "metadata": {},
   "outputs": [
    {
     "data": {
      "text/plain": [
       "16-element Vector{Float64}:\n",
       " 0.0\n",
       " 0.0\n",
       " 0.0\n",
       " 0.0\n",
       " 0.0\n",
       " 0.0\n",
       " 0.0\n",
       " 0.0\n",
       " 0.0\n",
       " 0.0\n",
       " 0.0\n",
       " 0.0\n",
       " 0.0\n",
       " 0.0\n",
       " 0.0\n",
       " 0.0"
      ]
     },
     "execution_count": 10,
     "metadata": {},
     "output_type": "execute_result"
    }
   ],
   "source": [
    "comm_41 = I(4)\n",
    "\n",
    "comm_44 = [\n",
    "    1 0 0 0 0 0 0 0 0 0 0 0 0 0 0 0;\n",
    "    0 0 0 0 1 0 0 0 0 0 0 0 0 0 0 0;\n",
    "    0 0 0 0 0 0 0 0 1 0 0 0 0 0 0 0;\n",
    "    0 0 0 0 0 0 0 0 0 0 0 0 1 0 0 0;\n",
    "    0 1 0 0 0 0 0 0 0 0 0 0 0 0 0 0;\n",
    "    0 0 0 0 0 1 0 0 0 0 0 0 0 0 0 0;\n",
    "    0 0 0 0 0 0 0 0 0 1 0 0 0 0 0 0;\n",
    "    0 0 0 0 0 0 0 0 0 0 0 0 0 1 0 0;\n",
    "    0 0 1 0 0 0 0 0 0 0 0 0 0 0 0 0;\n",
    "    0 0 0 0 0 0 1 0 0 0 0 0 0 0 0 0;\n",
    "    0 0 0 0 0 0 0 0 0 0 1 0 0 0 0 0;\n",
    "    0 0 0 0 0 0 0 0 0 0 0 0 0 0 1 0;\n",
    "    0 0 0 1 0 0 0 0 0 0 0 0 0 0 0 0;\n",
    "    0 0 0 0 0 0 0 1 0 0 0 0 0 0 0 0;\n",
    "    0 0 0 0 0 0 0 0 0 0 0 1 0 0 0 0;\n",
    "    0 0 0 0 0 0 0 0 0 0 0 0 0 0 0 1;\n",
    "]\n",
    "A = randn(4,4)\n",
    "vec(A) .- comm_44*vec(A')"
   ]
  },
  {
   "cell_type": "code",
   "execution_count": 11,
   "id": "717fd29b-2634-4756-b8f9-d81bd60aa5b1",
   "metadata": {},
   "outputs": [
    {
     "data": {
      "text/plain": [
       "backward_pass_ddp! (generic function with 1 method)"
      ]
     },
     "execution_count": 11,
     "metadata": {},
     "output_type": "execute_result"
    }
   ],
   "source": [
    "function backward_pass_ddp!(p,P,d,K)\n",
    "\n",
    "    ΔJ = 0.0\n",
    "    p[:,end] .= Qn*(xtraj[:,end] - xgoal)\n",
    "    P[:,:,end] .= Qn\n",
    "\n",
    "    for k in (Nt-1):-1:1\n",
    "        ∇ₓl = Q*(xtraj[:,k] - xgoal)\n",
    "        ∇ᵤl = R*(utraj[k])\n",
    "\n",
    "        A = dfdx(xtraj[:,k], utraj[k])\n",
    "        B = dfdu(xtraj[:,k], utraj[k])\n",
    "        \n",
    "        gₓ = ∇ₓl + A'*p[:,k+1]\n",
    "        gᵤ = ∇ᵤl + B'*p[:,k+1]\n",
    "\n",
    "        # Full-Newton (DDP)\n",
    "        Ax = dAdx(xtraj[:,k], utraj[k])\n",
    "        Bx = dBdx(xtraj[:,k], utraj[k])\n",
    "        Au = dAdu(xtraj[:,k], utraj[k])\n",
    "        Bu = dBdu(xtraj[:,k], utraj[k])\n",
    "\n",
    "        Gxx = Q + A'*P[:,:,k+1]*A + kron(p[:,k+1]', I(Nx))*comm_44*Ax\n",
    "        Guu = R + B'*P[:,:,k+1]*B + (kron(p[:,k+1]', I(Nu))*comm_41*Bu)[1]\n",
    "        Gxu = A'*P[:,:,k+1]*B + kron(p[:,k+1]', I(Nx))*comm_44*Au\n",
    "        Gux = B'*P[:,:,k+1]*A + kron(p[:,k+1]', I(Nu))*comm_41*Bx\n",
    "\n",
    "        # Regularization\n",
    "        β = 0.1\n",
    "        while !isposdef(Symmetric([Gxx Gxu; Gux Guu]))\n",
    "            Gxx += β*A'*I*A\n",
    "            Guu += β*B'*I*B\n",
    "            Gux += β*B'*I*A\n",
    "            Gxu += β*A'*I*B\n",
    "            β *= 2\n",
    "        end\n",
    "\n",
    "        d[k] = Guu\\gᵤ\n",
    "        K[:,:,k] .= Guu\\Gux\n",
    "    \n",
    "        P[:,:,k] .= Gxx + K[:,:,k]'*Guu*K[:,:,k] - Gxu*K[:,:,k] - K[:,:,k]'*Gux\n",
    "        p[:,k] .= dropdims(gₓ - K[:,:,k]'*gᵤ + K[:,:,k]'*Guu*d[k] - Gxu*d[k], dims=2)\n",
    "    \n",
    "        ΔJ += gᵤ'*d[k]\n",
    "        \n",
    "    end\n",
    "\n",
    "    return ΔJ\n",
    "end"
   ]
  },
  {
   "cell_type": "code",
   "execution_count": 22,
   "id": "af5aa1ca-28a7-4d8e-89c9-54485f0ac12f",
   "metadata": {},
   "outputs": [],
   "source": [
    "#Initial guess\n",
    "x0 = [-pi/2; 0; 0; 0]\n",
    "xgoal = [pi/2; 0; 0; 0]\n",
    "xtraj = kron(ones(1,Nt), x0)\n",
    "utraj = randn(Nt-1);\n",
    "#f = jldopen(\"guess.jld2\", \"r\")\n",
    "#utraj = f[\"utraj\"];"
   ]
  },
  {
   "cell_type": "code",
   "execution_count": 23,
   "id": "9c8f17e0-7588-4c3c-aad0-f86238304346",
   "metadata": {},
   "outputs": [
    {
     "data": {
      "text/plain": [
       "1506.6469468828614"
      ]
     },
     "execution_count": 23,
     "metadata": {},
     "output_type": "execute_result"
    }
   ],
   "source": [
    "#Initial Rollout\n",
    "for k = 1:(Nt-1)\n",
    "    xtraj[:,k+1] .= dynamics_rk4(xtraj[:,k],utraj[k])\n",
    "end\n",
    "J = cost(xtraj,utraj)"
   ]
  },
  {
   "cell_type": "code",
   "execution_count": 24,
   "id": "935f5497-5018-4601-91d8-2513bd808559",
   "metadata": {},
   "outputs": [],
   "source": [
    "d = ones(Nt-1)\n",
    "xn = zeros(size(xtraj))\n",
    "un = zeros(size(utraj))\n",
    "iter = 0\n",
    "\n",
    "while maximum(abs.(d[:])) > 1e-3\n",
    "    p = zeros(Nx, Nt)\n",
    "    P = zeros(Nx, Nx, Nt)\n",
    "    d = ones(Nt-1)\n",
    "    K = zeros(Nu,Nx,Nt-1)\n",
    "\n",
    "    ΔJ = backward_pass_ilqr!(p,P,d,K)\n",
    "\n",
    "    # Line Search\n",
    "    xn[:,1] = x0\n",
    "    α = 1.0\n",
    "\n",
    "    for k in 1:(Nt-1)\n",
    "        un[k] = utraj[k] - α*d[k] - dot(K[:,:,k],xn[:,k]-xtraj[:,k])\n",
    "        xn[:,k+1] .= dynamics_rk4(xn[:,k], un[k])\n",
    "    end\n",
    "    Jn = cost(xn, un)\n",
    "    \n",
    "    while isnan(Jn) || Jn > (J - 1e-2*α*ΔJ)\n",
    "        α *= 0.5\n",
    "        for k in 1:(Nt-1)\n",
    "            un[k] = utraj[k] - α*d[k] - dot(K[:,:,k],xn[:,k]-xtraj[:,k])\n",
    "            xn[:,k+1] .= dynamics_rk4(xn[:,k], un[k])\n",
    "        end\n",
    "        Jn = cost(xn, un)\n",
    "    end\n",
    "\n",
    "    iter += 1\n",
    "    J = Jn\n",
    "    xtraj .= xn\n",
    "    utraj .= un\n",
    "end"
   ]
  },
  {
   "cell_type": "code",
   "execution_count": 25,
   "id": "300a9728-c530-4d72-b519-5f1be7b0d050",
   "metadata": {},
   "outputs": [
    {
     "data": {
      "text/plain": [
       "(330, 562.1228878135843)"
      ]
     },
     "execution_count": 25,
     "metadata": {},
     "output_type": "execute_result"
    }
   ],
   "source": [
    "iter, J"
   ]
  },
  {
   "cell_type": "code",
   "execution_count": 26,
   "id": "8dbcc922-d458-4c43-b537-1ce6c4edb8a6",
   "metadata": {},
   "outputs": [
    {
     "data": {
      "image/svg+xml": [
       "<?xml version=\"1.0\" encoding=\"utf-8\"?>\n",
       "<svg xmlns=\"http://www.w3.org/2000/svg\" xmlns:xlink=\"http://www.w3.org/1999/xlink\" width=\"600\" height=\"400\" viewBox=\"0 0 2400 1600\">\n",
       "<defs>\n",
       "  <clipPath id=\"clip210\">\n",
       "    <rect x=\"0\" y=\"0\" width=\"2400\" height=\"1600\"/>\n",
       "  </clipPath>\n",
       "</defs>\n",
       "<path clip-path=\"url(#clip210)\" d=\"M0 1600 L2400 1600 L2400 0 L0 0  Z\" fill=\"#ffffff\" fill-rule=\"evenodd\" fill-opacity=\"1\"/>\n",
       "<defs>\n",
       "  <clipPath id=\"clip211\">\n",
       "    <rect x=\"480\" y=\"0\" width=\"1681\" height=\"1600\"/>\n",
       "  </clipPath>\n",
       "</defs>\n",
       "<path clip-path=\"url(#clip210)\" d=\"M148.057 1486.45 L2352.76 1486.45 L2352.76 47.2441 L148.057 47.2441  Z\" fill=\"#ffffff\" fill-rule=\"evenodd\" fill-opacity=\"1\"/>\n",
       "<defs>\n",
       "  <clipPath id=\"clip212\">\n",
       "    <rect x=\"148\" y=\"47\" width=\"2206\" height=\"1440\"/>\n",
       "  </clipPath>\n",
       "</defs>\n",
       "<polyline clip-path=\"url(#clip212)\" style=\"stroke:#000000; stroke-linecap:round; stroke-linejoin:round; stroke-width:2; stroke-opacity:0.1; fill:none\" points=\"210.454,1486.45 210.454,47.2441 \"/>\n",
       "<polyline clip-path=\"url(#clip212)\" style=\"stroke:#000000; stroke-linecap:round; stroke-linejoin:round; stroke-width:2; stroke-opacity:0.1; fill:none\" points=\"730.43,1486.45 730.43,47.2441 \"/>\n",
       "<polyline clip-path=\"url(#clip212)\" style=\"stroke:#000000; stroke-linecap:round; stroke-linejoin:round; stroke-width:2; stroke-opacity:0.1; fill:none\" points=\"1250.41,1486.45 1250.41,47.2441 \"/>\n",
       "<polyline clip-path=\"url(#clip212)\" style=\"stroke:#000000; stroke-linecap:round; stroke-linejoin:round; stroke-width:2; stroke-opacity:0.1; fill:none\" points=\"1770.38,1486.45 1770.38,47.2441 \"/>\n",
       "<polyline clip-path=\"url(#clip212)\" style=\"stroke:#000000; stroke-linecap:round; stroke-linejoin:round; stroke-width:2; stroke-opacity:0.1; fill:none\" points=\"2290.36,1486.45 2290.36,47.2441 \"/>\n",
       "<polyline clip-path=\"url(#clip210)\" style=\"stroke:#000000; stroke-linecap:round; stroke-linejoin:round; stroke-width:4; stroke-opacity:1; fill:none\" points=\"148.057,1486.45 2352.76,1486.45 \"/>\n",
       "<polyline clip-path=\"url(#clip210)\" style=\"stroke:#000000; stroke-linecap:round; stroke-linejoin:round; stroke-width:4; stroke-opacity:1; fill:none\" points=\"210.454,1486.45 210.454,1467.55 \"/>\n",
       "<polyline clip-path=\"url(#clip210)\" style=\"stroke:#000000; stroke-linecap:round; stroke-linejoin:round; stroke-width:4; stroke-opacity:1; fill:none\" points=\"730.43,1486.45 730.43,1467.55 \"/>\n",
       "<polyline clip-path=\"url(#clip210)\" style=\"stroke:#000000; stroke-linecap:round; stroke-linejoin:round; stroke-width:4; stroke-opacity:1; fill:none\" points=\"1250.41,1486.45 1250.41,1467.55 \"/>\n",
       "<polyline clip-path=\"url(#clip210)\" style=\"stroke:#000000; stroke-linecap:round; stroke-linejoin:round; stroke-width:4; stroke-opacity:1; fill:none\" points=\"1770.38,1486.45 1770.38,1467.55 \"/>\n",
       "<polyline clip-path=\"url(#clip210)\" style=\"stroke:#000000; stroke-linecap:round; stroke-linejoin:round; stroke-width:4; stroke-opacity:1; fill:none\" points=\"2290.36,1486.45 2290.36,1467.55 \"/>\n",
       "<path clip-path=\"url(#clip210)\" d=\"M187.838 1517.37 Q184.227 1517.37 182.398 1520.93 Q180.593 1524.47 180.593 1531.6 Q180.593 1538.71 182.398 1542.27 Q184.227 1545.82 187.838 1545.82 Q191.472 1545.82 193.278 1542.27 Q195.107 1538.71 195.107 1531.6 Q195.107 1524.47 193.278 1520.93 Q191.472 1517.37 187.838 1517.37 M187.838 1513.66 Q193.648 1513.66 196.704 1518.27 Q199.783 1522.85 199.783 1531.6 Q199.783 1540.33 196.704 1544.94 Q193.648 1549.52 187.838 1549.52 Q182.028 1549.52 178.949 1544.94 Q175.894 1540.33 175.894 1531.6 Q175.894 1522.85 178.949 1518.27 Q182.028 1513.66 187.838 1513.66 Z\" fill=\"#000000\" fill-rule=\"nonzero\" fill-opacity=\"1\" /><path clip-path=\"url(#clip210)\" d=\"M208 1542.97 L212.884 1542.97 L212.884 1548.85 L208 1548.85 L208 1542.97 Z\" fill=\"#000000\" fill-rule=\"nonzero\" fill-opacity=\"1\" /><path clip-path=\"url(#clip210)\" d=\"M233.069 1517.37 Q229.458 1517.37 227.63 1520.93 Q225.824 1524.47 225.824 1531.6 Q225.824 1538.71 227.63 1542.27 Q229.458 1545.82 233.069 1545.82 Q236.704 1545.82 238.509 1542.27 Q240.338 1538.71 240.338 1531.6 Q240.338 1524.47 238.509 1520.93 Q236.704 1517.37 233.069 1517.37 M233.069 1513.66 Q238.88 1513.66 241.935 1518.27 Q245.014 1522.85 245.014 1531.6 Q245.014 1540.33 241.935 1544.94 Q238.88 1549.52 233.069 1549.52 Q227.259 1549.52 224.181 1544.94 Q221.125 1540.33 221.125 1531.6 Q221.125 1522.85 224.181 1518.27 Q227.259 1513.66 233.069 1513.66 Z\" fill=\"#000000\" fill-rule=\"nonzero\" fill-opacity=\"1\" /><path clip-path=\"url(#clip210)\" d=\"M702.166 1544.91 L718.486 1544.91 L718.486 1548.85 L696.541 1548.85 L696.541 1544.91 Q699.203 1542.16 703.787 1537.53 Q708.393 1532.88 709.574 1531.53 Q711.819 1529.01 712.699 1527.27 Q713.601 1525.51 713.601 1523.82 Q713.601 1521.07 711.657 1519.33 Q709.736 1517.6 706.634 1517.6 Q704.435 1517.6 701.981 1518.36 Q699.551 1519.13 696.773 1520.68 L696.773 1515.95 Q699.597 1514.82 702.051 1514.24 Q704.504 1513.66 706.541 1513.66 Q711.912 1513.66 715.106 1516.35 Q718.3 1519.03 718.3 1523.52 Q718.3 1525.65 717.49 1527.57 Q716.703 1529.47 714.597 1532.07 Q714.018 1532.74 710.916 1535.95 Q707.814 1539.15 702.166 1544.91 Z\" fill=\"#000000\" fill-rule=\"nonzero\" fill-opacity=\"1\" /><path clip-path=\"url(#clip210)\" d=\"M728.3 1542.97 L733.185 1542.97 L733.185 1548.85 L728.3 1548.85 L728.3 1542.97 Z\" fill=\"#000000\" fill-rule=\"nonzero\" fill-opacity=\"1\" /><path clip-path=\"url(#clip210)\" d=\"M743.416 1514.29 L761.772 1514.29 L761.772 1518.22 L747.698 1518.22 L747.698 1526.7 Q748.717 1526.35 749.735 1526.19 Q750.754 1526 751.772 1526 Q757.559 1526 760.939 1529.17 Q764.319 1532.34 764.319 1537.76 Q764.319 1543.34 760.847 1546.44 Q757.374 1549.52 751.055 1549.52 Q748.879 1549.52 746.61 1549.15 Q744.365 1548.78 741.958 1548.04 L741.958 1543.34 Q744.041 1544.47 746.263 1545.03 Q748.485 1545.58 750.962 1545.58 Q754.967 1545.58 757.305 1543.48 Q759.643 1541.37 759.643 1537.76 Q759.643 1534.15 757.305 1532.04 Q754.967 1529.94 750.962 1529.94 Q749.087 1529.94 747.212 1530.35 Q745.36 1530.77 743.416 1531.65 L743.416 1514.29 Z\" fill=\"#000000\" fill-rule=\"nonzero\" fill-opacity=\"1\" /><path clip-path=\"url(#clip210)\" d=\"M1217.57 1514.29 L1235.93 1514.29 L1235.93 1518.22 L1221.85 1518.22 L1221.85 1526.7 Q1222.87 1526.35 1223.89 1526.19 Q1224.91 1526 1225.93 1526 Q1231.71 1526 1235.09 1529.17 Q1238.47 1532.34 1238.47 1537.76 Q1238.47 1543.34 1235 1546.44 Q1231.53 1549.52 1225.21 1549.52 Q1223.03 1549.52 1220.77 1549.15 Q1218.52 1548.78 1216.11 1548.04 L1216.11 1543.34 Q1218.2 1544.47 1220.42 1545.03 Q1222.64 1545.58 1225.12 1545.58 Q1229.12 1545.58 1231.46 1543.48 Q1233.8 1541.37 1233.8 1537.76 Q1233.8 1534.15 1231.46 1532.04 Q1229.12 1529.94 1225.12 1529.94 Q1223.24 1529.94 1221.37 1530.35 Q1219.52 1530.77 1217.57 1531.65 L1217.57 1514.29 Z\" fill=\"#000000\" fill-rule=\"nonzero\" fill-opacity=\"1\" /><path clip-path=\"url(#clip210)\" d=\"M1247.69 1542.97 L1252.57 1542.97 L1252.57 1548.85 L1247.69 1548.85 L1247.69 1542.97 Z\" fill=\"#000000\" fill-rule=\"nonzero\" fill-opacity=\"1\" /><path clip-path=\"url(#clip210)\" d=\"M1272.76 1517.37 Q1269.14 1517.37 1267.32 1520.93 Q1265.51 1524.47 1265.51 1531.6 Q1265.51 1538.71 1267.32 1542.27 Q1269.14 1545.82 1272.76 1545.82 Q1276.39 1545.82 1278.2 1542.27 Q1280.02 1538.71 1280.02 1531.6 Q1280.02 1524.47 1278.2 1520.93 Q1276.39 1517.37 1272.76 1517.37 M1272.76 1513.66 Q1278.57 1513.66 1281.62 1518.27 Q1284.7 1522.85 1284.7 1531.6 Q1284.7 1540.33 1281.62 1544.94 Q1278.57 1549.52 1272.76 1549.52 Q1266.95 1549.52 1263.87 1544.94 Q1260.81 1540.33 1260.81 1531.6 Q1260.81 1522.85 1263.87 1518.27 Q1266.95 1513.66 1272.76 1513.66 Z\" fill=\"#000000\" fill-rule=\"nonzero\" fill-opacity=\"1\" /><path clip-path=\"url(#clip210)\" d=\"M1736.7 1514.29 L1758.92 1514.29 L1758.92 1516.28 L1746.38 1548.85 L1741.49 1548.85 L1753.3 1518.22 L1736.7 1518.22 L1736.7 1514.29 Z\" fill=\"#000000\" fill-rule=\"nonzero\" fill-opacity=\"1\" /><path clip-path=\"url(#clip210)\" d=\"M1768.04 1542.97 L1772.93 1542.97 L1772.93 1548.85 L1768.04 1548.85 L1768.04 1542.97 Z\" fill=\"#000000\" fill-rule=\"nonzero\" fill-opacity=\"1\" /><path clip-path=\"url(#clip210)\" d=\"M1783.16 1514.29 L1801.52 1514.29 L1801.52 1518.22 L1787.44 1518.22 L1787.44 1526.7 Q1788.46 1526.35 1789.48 1526.19 Q1790.5 1526 1791.52 1526 Q1797.3 1526 1800.68 1529.17 Q1804.06 1532.34 1804.06 1537.76 Q1804.06 1543.34 1800.59 1546.44 Q1797.12 1549.52 1790.8 1549.52 Q1788.62 1549.52 1786.35 1549.15 Q1784.11 1548.78 1781.7 1548.04 L1781.7 1543.34 Q1783.79 1544.47 1786.01 1545.03 Q1788.23 1545.58 1790.71 1545.58 Q1794.71 1545.58 1797.05 1543.48 Q1799.39 1541.37 1799.39 1537.76 Q1799.39 1534.15 1797.05 1532.04 Q1794.71 1529.94 1790.71 1529.94 Q1788.83 1529.94 1786.96 1530.35 Q1785.1 1530.77 1783.16 1531.65 L1783.16 1514.29 Z\" fill=\"#000000\" fill-rule=\"nonzero\" fill-opacity=\"1\" /><path clip-path=\"url(#clip210)\" d=\"M2242.43 1544.91 L2250.07 1544.91 L2250.07 1518.55 L2241.76 1520.21 L2241.76 1515.95 L2250.02 1514.29 L2254.7 1514.29 L2254.7 1544.91 L2262.34 1544.91 L2262.34 1548.85 L2242.43 1548.85 L2242.43 1544.91 Z\" fill=\"#000000\" fill-rule=\"nonzero\" fill-opacity=\"1\" /><path clip-path=\"url(#clip210)\" d=\"M2281.78 1517.37 Q2278.17 1517.37 2276.34 1520.93 Q2274.54 1524.47 2274.54 1531.6 Q2274.54 1538.71 2276.34 1542.27 Q2278.17 1545.82 2281.78 1545.82 Q2285.42 1545.82 2287.22 1542.27 Q2289.05 1538.71 2289.05 1531.6 Q2289.05 1524.47 2287.22 1520.93 Q2285.42 1517.37 2281.78 1517.37 M2281.78 1513.66 Q2287.59 1513.66 2290.65 1518.27 Q2293.73 1522.85 2293.73 1531.6 Q2293.73 1540.33 2290.65 1544.94 Q2287.59 1549.52 2281.78 1549.52 Q2275.97 1549.52 2272.89 1544.94 Q2269.84 1540.33 2269.84 1531.6 Q2269.84 1522.85 2272.89 1518.27 Q2275.97 1513.66 2281.78 1513.66 Z\" fill=\"#000000\" fill-rule=\"nonzero\" fill-opacity=\"1\" /><path clip-path=\"url(#clip210)\" d=\"M2301.94 1542.97 L2306.83 1542.97 L2306.83 1548.85 L2301.94 1548.85 L2301.94 1542.97 Z\" fill=\"#000000\" fill-rule=\"nonzero\" fill-opacity=\"1\" /><path clip-path=\"url(#clip210)\" d=\"M2327.01 1517.37 Q2323.4 1517.37 2321.57 1520.93 Q2319.77 1524.47 2319.77 1531.6 Q2319.77 1538.71 2321.57 1542.27 Q2323.4 1545.82 2327.01 1545.82 Q2330.65 1545.82 2332.45 1542.27 Q2334.28 1538.71 2334.28 1531.6 Q2334.28 1524.47 2332.45 1520.93 Q2330.65 1517.37 2327.01 1517.37 M2327.01 1513.66 Q2332.82 1513.66 2335.88 1518.27 Q2338.96 1522.85 2338.96 1531.6 Q2338.96 1540.33 2335.88 1544.94 Q2332.82 1549.52 2327.01 1549.52 Q2321.2 1549.52 2318.12 1544.94 Q2315.07 1540.33 2315.07 1531.6 Q2315.07 1522.85 2318.12 1518.27 Q2321.2 1513.66 2327.01 1513.66 Z\" fill=\"#000000\" fill-rule=\"nonzero\" fill-opacity=\"1\" /><polyline clip-path=\"url(#clip212)\" style=\"stroke:#000000; stroke-linecap:round; stroke-linejoin:round; stroke-width:2; stroke-opacity:0.1; fill:none\" points=\"148.057,1453.69 2352.76,1453.69 \"/>\n",
       "<polyline clip-path=\"url(#clip212)\" style=\"stroke:#000000; stroke-linecap:round; stroke-linejoin:round; stroke-width:2; stroke-opacity:0.1; fill:none\" points=\"148.057,1217.27 2352.76,1217.27 \"/>\n",
       "<polyline clip-path=\"url(#clip212)\" style=\"stroke:#000000; stroke-linecap:round; stroke-linejoin:round; stroke-width:2; stroke-opacity:0.1; fill:none\" points=\"148.057,980.85 2352.76,980.85 \"/>\n",
       "<polyline clip-path=\"url(#clip212)\" style=\"stroke:#000000; stroke-linecap:round; stroke-linejoin:round; stroke-width:2; stroke-opacity:0.1; fill:none\" points=\"148.057,744.43 2352.76,744.43 \"/>\n",
       "<polyline clip-path=\"url(#clip212)\" style=\"stroke:#000000; stroke-linecap:round; stroke-linejoin:round; stroke-width:2; stroke-opacity:0.1; fill:none\" points=\"148.057,508.011 2352.76,508.011 \"/>\n",
       "<polyline clip-path=\"url(#clip212)\" style=\"stroke:#000000; stroke-linecap:round; stroke-linejoin:round; stroke-width:2; stroke-opacity:0.1; fill:none\" points=\"148.057,271.591 2352.76,271.591 \"/>\n",
       "<polyline clip-path=\"url(#clip210)\" style=\"stroke:#000000; stroke-linecap:round; stroke-linejoin:round; stroke-width:4; stroke-opacity:1; fill:none\" points=\"148.057,1486.45 148.057,47.2441 \"/>\n",
       "<polyline clip-path=\"url(#clip210)\" style=\"stroke:#000000; stroke-linecap:round; stroke-linejoin:round; stroke-width:4; stroke-opacity:1; fill:none\" points=\"148.057,1453.69 166.954,1453.69 \"/>\n",
       "<polyline clip-path=\"url(#clip210)\" style=\"stroke:#000000; stroke-linecap:round; stroke-linejoin:round; stroke-width:4; stroke-opacity:1; fill:none\" points=\"148.057,1217.27 166.954,1217.27 \"/>\n",
       "<polyline clip-path=\"url(#clip210)\" style=\"stroke:#000000; stroke-linecap:round; stroke-linejoin:round; stroke-width:4; stroke-opacity:1; fill:none\" points=\"148.057,980.85 166.954,980.85 \"/>\n",
       "<polyline clip-path=\"url(#clip210)\" style=\"stroke:#000000; stroke-linecap:round; stroke-linejoin:round; stroke-width:4; stroke-opacity:1; fill:none\" points=\"148.057,744.43 166.954,744.43 \"/>\n",
       "<polyline clip-path=\"url(#clip210)\" style=\"stroke:#000000; stroke-linecap:round; stroke-linejoin:round; stroke-width:4; stroke-opacity:1; fill:none\" points=\"148.057,508.011 166.954,508.011 \"/>\n",
       "<polyline clip-path=\"url(#clip210)\" style=\"stroke:#000000; stroke-linecap:round; stroke-linejoin:round; stroke-width:4; stroke-opacity:1; fill:none\" points=\"148.057,271.591 166.954,271.591 \"/>\n",
       "<path clip-path=\"url(#clip210)\" d=\"M50.9921 1454.14 L80.6679 1454.14 L80.6679 1458.08 L50.9921 1458.08 L50.9921 1454.14 Z\" fill=\"#000000\" fill-rule=\"nonzero\" fill-opacity=\"1\" /><path clip-path=\"url(#clip210)\" d=\"M104.927 1452.33 Q108.283 1453.05 110.158 1455.32 Q112.057 1457.59 112.057 1460.92 Q112.057 1466.04 108.538 1468.84 Q105.02 1471.64 98.5382 1471.64 Q96.3623 1471.64 94.0475 1471.2 Q91.7558 1470.78 89.3021 1469.93 L89.3021 1465.41 Q91.2465 1466.55 93.5613 1467.13 Q95.8761 1467.71 98.3993 1467.71 Q102.797 1467.71 105.089 1465.97 Q107.404 1464.23 107.404 1460.92 Q107.404 1457.87 105.251 1456.15 Q103.121 1454.42 99.3021 1454.42 L95.2743 1454.42 L95.2743 1450.58 L99.4872 1450.58 Q102.936 1450.58 104.765 1449.21 Q106.594 1447.82 106.594 1445.23 Q106.594 1442.57 104.696 1441.15 Q102.821 1439.72 99.3021 1439.72 Q97.3808 1439.72 95.1817 1440.14 Q92.9826 1440.55 90.3438 1441.43 L90.3438 1437.27 Q93.0058 1436.52 95.3206 1436.15 Q97.6585 1435.78 99.7187 1435.78 Q105.043 1435.78 108.145 1438.21 Q111.246 1440.62 111.246 1444.74 Q111.246 1447.61 109.603 1449.6 Q107.959 1451.57 104.927 1452.33 Z\" fill=\"#000000\" fill-rule=\"nonzero\" fill-opacity=\"1\" /><path clip-path=\"url(#clip210)\" d=\"M51.9412 1217.72 L81.617 1217.72 L81.617 1221.66 L51.9412 1221.66 L51.9412 1217.72 Z\" fill=\"#000000\" fill-rule=\"nonzero\" fill-opacity=\"1\" /><path clip-path=\"url(#clip210)\" d=\"M95.7373 1230.61 L112.057 1230.61 L112.057 1234.55 L90.1123 1234.55 L90.1123 1230.61 Q92.7743 1227.86 97.3576 1223.23 Q101.964 1218.58 103.145 1217.23 Q105.39 1214.71 106.27 1212.98 Q107.172 1211.22 107.172 1209.53 Q107.172 1206.77 105.228 1205.04 Q103.307 1203.3 100.205 1203.3 Q98.0058 1203.3 95.5521 1204.06 Q93.1215 1204.83 90.3438 1206.38 L90.3438 1201.66 Q93.1678 1200.52 95.6215 1199.94 Q98.0752 1199.36 100.112 1199.36 Q105.483 1199.36 108.677 1202.05 Q111.871 1204.73 111.871 1209.23 Q111.871 1211.36 111.061 1213.28 Q110.274 1215.17 108.168 1217.77 Q107.589 1218.44 104.487 1221.66 Q101.385 1224.85 95.7373 1230.61 Z\" fill=\"#000000\" fill-rule=\"nonzero\" fill-opacity=\"1\" /><path clip-path=\"url(#clip210)\" d=\"M51.5708 981.301 L81.2466 981.301 L81.2466 985.236 L51.5708 985.236 L51.5708 981.301 Z\" fill=\"#000000\" fill-rule=\"nonzero\" fill-opacity=\"1\" /><path clip-path=\"url(#clip210)\" d=\"M92.1493 994.195 L99.7882 994.195 L99.7882 967.829 L91.478 969.496 L91.478 965.236 L99.7419 963.57 L104.418 963.57 L104.418 994.195 L112.057 994.195 L112.057 998.13 L92.1493 998.13 L92.1493 994.195 Z\" fill=\"#000000\" fill-rule=\"nonzero\" fill-opacity=\"1\" /><path clip-path=\"url(#clip210)\" d=\"M100.112 730.229 Q96.5011 730.229 94.6724 733.794 Q92.8669 737.335 92.8669 744.465 Q92.8669 751.571 94.6724 755.136 Q96.5011 758.678 100.112 758.678 Q103.746 758.678 105.552 755.136 Q107.381 751.571 107.381 744.465 Q107.381 737.335 105.552 733.794 Q103.746 730.229 100.112 730.229 M100.112 726.525 Q105.922 726.525 108.978 731.132 Q112.057 735.715 112.057 744.465 Q112.057 753.192 108.978 757.798 Q105.922 762.381 100.112 762.381 Q94.3021 762.381 91.2234 757.798 Q88.1679 753.192 88.1679 744.465 Q88.1679 735.715 91.2234 731.132 Q94.3021 726.525 100.112 726.525 Z\" fill=\"#000000\" fill-rule=\"nonzero\" fill-opacity=\"1\" /><path clip-path=\"url(#clip210)\" d=\"M92.1493 521.355 L99.7882 521.355 L99.7882 494.99 L91.478 496.656 L91.478 492.397 L99.7419 490.731 L104.418 490.731 L104.418 521.355 L112.057 521.355 L112.057 525.291 L92.1493 525.291 L92.1493 521.355 Z\" fill=\"#000000\" fill-rule=\"nonzero\" fill-opacity=\"1\" /><path clip-path=\"url(#clip210)\" d=\"M95.7373 284.936 L112.057 284.936 L112.057 288.871 L90.1123 288.871 L90.1123 284.936 Q92.7743 282.181 97.3576 277.552 Q101.964 272.899 103.145 271.556 Q105.39 269.033 106.27 267.297 Q107.172 265.538 107.172 263.848 Q107.172 261.093 105.228 259.357 Q103.307 257.621 100.205 257.621 Q98.0058 257.621 95.5521 258.385 Q93.1215 259.149 90.3438 260.7 L90.3438 255.978 Q93.1678 254.843 95.6215 254.265 Q98.0752 253.686 100.112 253.686 Q105.483 253.686 108.677 256.371 Q111.871 259.056 111.871 263.547 Q111.871 265.677 111.061 267.598 Q110.274 269.496 108.168 272.089 Q107.589 272.76 104.487 275.977 Q101.385 279.172 95.7373 284.936 Z\" fill=\"#000000\" fill-rule=\"nonzero\" fill-opacity=\"1\" /><polyline clip-path=\"url(#clip212)\" style=\"stroke:#009af9; stroke-linecap:round; stroke-linejoin:round; stroke-width:4; stroke-opacity:1; fill:none\" points=\"210.454,1115.8 220.853,1110.76 231.253,1096.95 241.652,1076.73 252.052,1052.59 262.451,1027.03 272.851,1002.06 283.25,979.047 293.65,958.789 304.049,941.742 314.449,928.151 324.849,918.132 335.248,911.708 345.648,908.829 356.047,909.402 366.447,913.316 376.846,920.453 387.246,930.695 397.645,943.902 408.045,959.897 418.444,978.438 428.844,999.204 439.243,1021.78 449.643,1045.69 460.042,1070.38 470.442,1095.32 480.841,1119.98 491.241,1143.95 501.64,1166.89 512.04,1188.54 522.44,1208.68 532.839,1227.1 543.239,1243.57 553.638,1257.85 564.038,1269.78 574.437,1279.32 584.837,1286.67 595.236,1292.35 605.636,1297.15 616.035,1302.03 626.435,1307.84 636.834,1314.81 647.234,1322.13 657.633,1327.97 668.033,1329.96 678.432,1325.96 688.832,1314.43 699.231,1294.71 709.631,1267.04 720.03,1232.43 730.43,1192.32 740.83,1148.19 751.229,1101.42 761.629,1053.15 772.028,1004.38 782.428,955.952 792.827,908.625 803.227,863.034 813.626,819.68 824.026,778.909 834.425,740.898 844.825,705.669 855.224,673.123 865.624,643.084 876.023,615.347 886.423,589.718 896.822,566.037 907.222,544.183 917.621,524.078 928.021,505.672 938.421,488.929 948.82,473.814 959.22,460.277 969.619,448.251 980.019,437.649 990.418,428.364 1000.82,420.282 1011.22,413.282 1021.62,407.245 1032.02,402.055 1042.42,397.607 1052.82,393.804 1063.21,390.559 1073.61,387.795 1084.01,385.444 1094.41,383.449 1104.81,381.756 1115.21,380.324 1125.61,379.112 1136.01,378.089 1146.41,377.227 1156.81,376.502 1167.21,375.892 1177.61,375.38 1188.01,374.952 1198.41,374.595 1208.81,374.297 1219.21,374.049 1229.61,373.844 1240.01,373.674 1250.41,373.534 1260.81,373.42 1271.21,373.326 1281.6,373.251 1292,373.19 1302.4,373.141 1312.8,373.102 1323.2,373.071 1333.6,373.048 1344,373.03 1354.4,373.017 1364.8,373.007 1375.2,373.001 1385.6,372.997 1396,372.995 1406.4,372.994 1416.8,372.995 1427.2,372.996 1437.6,372.998 1448,373.001 1458.4,373.004 1468.8,373.007 1479.2,373.01 1489.6,373.014 1499.99,373.017 1510.39,373.02 1520.79,373.023 1531.19,373.026 1541.59,373.029 1551.99,373.032 1562.39,373.034 1572.79,373.037 1583.19,373.039 1593.59,373.041 1603.99,373.043 1614.39,373.045 1624.79,373.047 1635.19,373.048 1645.59,373.049 1655.99,373.051 1666.39,373.052 1676.79,373.053 1687.19,373.054 1697.59,373.055 1707.99,373.056 1718.38,373.056 1728.78,373.057 1739.18,373.058 1749.58,373.058 1759.98,373.059 1770.38,373.059 1780.78,373.06 1791.18,373.06 1801.58,373.06 1811.98,373.061 1822.38,373.061 1832.78,373.061 1843.18,373.061 1853.58,373.061 1863.98,373.062 1874.38,373.062 1884.78,373.062 1895.18,373.062 1905.58,373.062 1915.98,373.062 1926.38,373.062 1936.77,373.062 1947.17,373.063 1957.57,373.063 1967.97,373.063 1978.37,373.063 1988.77,373.063 1999.17,373.063 2009.57,373.063 2019.97,373.063 2030.37,373.063 2040.77,373.063 2051.17,373.063 2061.57,373.063 2071.97,373.063 2082.37,373.063 2092.77,373.063 2103.17,373.063 2113.57,373.063 2123.97,373.063 2134.37,373.063 2144.77,373.063 2155.16,373.063 2165.56,373.063 2175.96,373.063 2186.36,373.063 2196.76,373.063 2207.16,373.063 2217.56,373.063 2227.96,373.063 2238.36,373.063 2248.76,373.063 2259.16,373.063 2269.56,373.063 2279.96,373.063 2290.36,373.063 \"/>\n",
       "<polyline clip-path=\"url(#clip212)\" style=\"stroke:#e26f46; stroke-linecap:round; stroke-linejoin:round; stroke-width:4; stroke-opacity:1; fill:none\" points=\"210.454,744.43 220.853,756.213 231.253,788.662 241.652,836.581 252.052,894.515 262.451,957.19 272.851,1020.44 283.25,1081.62 293.65,1139.3 304.049,1192.78 314.449,1241.72 324.849,1285.88 335.248,1325.1 345.648,1359.16 356.047,1387.87 366.447,1411.02 376.846,1428.45 387.246,1440.03 397.645,1445.72 408.045,1445.52 418.444,1439.55 428.844,1427.98 439.243,1411.04 449.643,1389.03 460.042,1362.29 470.442,1331.24 480.841,1296.34 491.241,1258.12 501.64,1217.17 512.04,1174.17 522.44,1129.84 532.839,1084.96 543.239,1040.33 553.638,996.667 564.038,954.512 574.437,913.992 584.837,874.639 595.236,835.277 605.636,794.041 616.035,748.628 626.435,696.862 636.834,637.617 647.234,571.681 657.633,501.738 668.033,431.296 678.432,363.559 688.832,300.996 699.231,245.366 709.631,197.822 720.03,158.966 730.43,128.917 740.83,107.419 751.229,93.9773 761.629,87.9763 772.028,88.7601 782.428,95.6813 792.827,108.119 803.227,125.477 813.626,147.166 824.026,172.593 834.425,201.149 844.825,232.213 855.224,265.168 865.624,299.411 876.023,334.363 886.423,369.475 896.822,404.23 907.222,438.145 917.621,470.778 928.021,501.738 938.421,530.704 948.82,557.438 959.22,581.794 969.619,603.723 980.019,623.258 990.418,640.502 1000.82,655.608 1011.22,668.756 1021.62,680.141 1032.02,689.956 1042.42,698.389 1052.82,705.613 1063.21,711.786 1073.61,717.049 1084.01,721.528 1094.41,725.332 1104.81,728.557 1115.21,731.287 1125.61,733.592 1136.01,735.536 1146.41,737.172 1156.81,738.545 1167.21,739.696 1177.61,740.657 1188.01,741.457 1198.41,742.122 1208.81,742.671 1219.21,743.124 1229.61,743.495 1240.01,743.798 1250.41,744.042 1260.81,744.239 1271.21,744.395 1281.6,744.518 1292,744.613 1302.4,744.686 1312.8,744.739 1323.2,744.777 1333.6,744.802 1344,744.817 1354.4,744.824 1364.8,744.824 1375.2,744.82 1385.6,744.811 1396,744.8 1406.4,744.786 1416.8,744.771 1427.2,744.754 1437.6,744.738 1448,744.721 1458.4,744.704 1468.8,744.687 1479.2,744.67 1489.6,744.654 1499.99,744.639 1510.39,744.625 1520.79,744.611 1531.19,744.598 1541.59,744.585 1551.99,744.573 1562.39,744.562 1572.79,744.552 1583.19,744.543 1593.59,744.534 1603.99,744.525 1614.39,744.518 1624.79,744.511 1635.19,744.504 1645.59,744.498 1655.99,744.492 1666.39,744.487 1676.79,744.482 1687.19,744.478 1697.59,744.474 1707.99,744.47 1718.38,744.467 1728.78,744.463 1739.18,744.461 1749.58,744.458 1759.98,744.455 1770.38,744.453 1780.78,744.451 1791.18,744.449 1801.58,744.448 1811.98,744.446 1822.38,744.445 1832.78,744.443 1843.18,744.442 1853.58,744.441 1863.98,744.44 1874.38,744.439 1884.78,744.438 1895.18,744.438 1905.58,744.437 1915.98,744.436 1926.38,744.436 1936.77,744.435 1947.17,744.435 1957.57,744.434 1967.97,744.434 1978.37,744.434 1988.77,744.433 1999.17,744.433 2009.57,744.433 2019.97,744.433 2030.37,744.432 2040.77,744.432 2051.17,744.432 2061.57,744.432 2071.97,744.432 2082.37,744.432 2092.77,744.431 2103.17,744.431 2113.57,744.431 2123.97,744.431 2134.37,744.431 2144.77,744.431 2155.16,744.431 2165.56,744.431 2175.96,744.431 2186.36,744.431 2196.76,744.431 2207.16,744.431 2217.56,744.43 2227.96,744.43 2238.36,744.43 2248.76,744.43 2259.16,744.43 2269.56,744.43 2279.96,744.43 2290.36,744.43 \"/>\n",
       "<path clip-path=\"url(#clip210)\" d=\"M2006.37 1438.47 L2279.27 1438.47 L2279.27 1282.95 L2006.37 1282.95  Z\" fill=\"#ffffff\" fill-rule=\"evenodd\" fill-opacity=\"1\"/>\n",
       "<polyline clip-path=\"url(#clip210)\" style=\"stroke:#000000; stroke-linecap:round; stroke-linejoin:round; stroke-width:4; stroke-opacity:1; fill:none\" points=\"2006.37,1438.47 2279.27,1438.47 2279.27,1282.95 2006.37,1282.95 2006.37,1438.47 \"/>\n",
       "<polyline clip-path=\"url(#clip210)\" style=\"stroke:#009af9; stroke-linecap:round; stroke-linejoin:round; stroke-width:4; stroke-opacity:1; fill:none\" points=\"2030.86,1334.79 2177.84,1334.79 \"/>\n",
       "<path clip-path=\"url(#clip210)\" d=\"M2216.18 1354.48 Q2214.38 1359.11 2212.66 1360.52 Q2210.95 1361.94 2208.08 1361.94 L2204.68 1361.94 L2204.68 1358.37 L2207.18 1358.37 Q2208.94 1358.37 2209.91 1357.54 Q2210.88 1356.7 2212.06 1353.6 L2212.83 1351.66 L2202.34 1326.15 L2206.85 1326.15 L2214.95 1346.43 L2223.06 1326.15 L2227.57 1326.15 L2216.18 1354.48 Z\" fill=\"#000000\" fill-rule=\"nonzero\" fill-opacity=\"1\" /><path clip-path=\"url(#clip210)\" d=\"M2234.86 1348.14 L2242.5 1348.14 L2242.5 1321.77 L2234.19 1323.44 L2234.19 1319.18 L2242.45 1317.51 L2247.13 1317.51 L2247.13 1348.14 L2254.77 1348.14 L2254.77 1352.07 L2234.86 1352.07 L2234.86 1348.14 Z\" fill=\"#000000\" fill-rule=\"nonzero\" fill-opacity=\"1\" /><polyline clip-path=\"url(#clip210)\" style=\"stroke:#e26f46; stroke-linecap:round; stroke-linejoin:round; stroke-width:4; stroke-opacity:1; fill:none\" points=\"2030.86,1386.63 2177.84,1386.63 \"/>\n",
       "<path clip-path=\"url(#clip210)\" d=\"M2216.18 1406.32 Q2214.38 1410.95 2212.66 1412.36 Q2210.95 1413.78 2208.08 1413.78 L2204.68 1413.78 L2204.68 1410.21 L2207.18 1410.21 Q2208.94 1410.21 2209.91 1409.38 Q2210.88 1408.54 2212.06 1405.44 L2212.83 1403.5 L2202.34 1377.99 L2206.85 1377.99 L2214.95 1398.27 L2223.06 1377.99 L2227.57 1377.99 L2216.18 1406.32 Z\" fill=\"#000000\" fill-rule=\"nonzero\" fill-opacity=\"1\" /><path clip-path=\"url(#clip210)\" d=\"M2238.08 1399.98 L2254.4 1399.98 L2254.4 1403.91 L2232.45 1403.91 L2232.45 1399.98 Q2235.12 1397.22 2239.7 1392.6 Q2244.31 1387.94 2245.49 1386.6 Q2247.73 1384.08 2248.61 1382.34 Q2249.51 1380.58 2249.51 1378.89 Q2249.51 1376.14 2247.57 1374.4 Q2245.65 1372.66 2242.55 1372.66 Q2240.35 1372.66 2237.89 1373.43 Q2235.46 1374.19 2232.69 1375.74 L2232.69 1371.02 Q2235.51 1369.89 2237.96 1369.31 Q2240.42 1368.73 2242.45 1368.73 Q2247.82 1368.73 2251.02 1371.41 Q2254.21 1374.1 2254.21 1378.59 Q2254.21 1380.72 2253.4 1382.64 Q2252.62 1384.54 2250.51 1387.13 Q2249.93 1387.8 2246.83 1391.02 Q2243.73 1394.22 2238.08 1399.98 Z\" fill=\"#000000\" fill-rule=\"nonzero\" fill-opacity=\"1\" /></svg>\n"
      ]
     },
     "execution_count": 26,
     "metadata": {},
     "output_type": "execute_result"
    }
   ],
   "source": [
    "plot(thist,xtraj[1,:])\n",
    "plot!(thist,xtraj[2,:])"
   ]
  },
  {
   "cell_type": "code",
   "execution_count": 27,
   "id": "8b7dd37e-6bae-40a8-9d01-ea6178f8e4b6",
   "metadata": {},
   "outputs": [
    {
     "data": {
      "image/svg+xml": [
       "<?xml version=\"1.0\" encoding=\"utf-8\"?>\n",
       "<svg xmlns=\"http://www.w3.org/2000/svg\" xmlns:xlink=\"http://www.w3.org/1999/xlink\" width=\"600\" height=\"400\" viewBox=\"0 0 2400 1600\">\n",
       "<defs>\n",
       "  <clipPath id=\"clip250\">\n",
       "    <rect x=\"0\" y=\"0\" width=\"2400\" height=\"1600\"/>\n",
       "  </clipPath>\n",
       "</defs>\n",
       "<path clip-path=\"url(#clip250)\" d=\"M0 1600 L2400 1600 L2400 0 L0 0  Z\" fill=\"#ffffff\" fill-rule=\"evenodd\" fill-opacity=\"1\"/>\n",
       "<defs>\n",
       "  <clipPath id=\"clip251\">\n",
       "    <rect x=\"480\" y=\"0\" width=\"1681\" height=\"1600\"/>\n",
       "  </clipPath>\n",
       "</defs>\n",
       "<path clip-path=\"url(#clip250)\" d=\"M178.867 1486.45 L2352.76 1486.45 L2352.76 47.2441 L178.867 47.2441  Z\" fill=\"#ffffff\" fill-rule=\"evenodd\" fill-opacity=\"1\"/>\n",
       "<defs>\n",
       "  <clipPath id=\"clip252\">\n",
       "    <rect x=\"178\" y=\"47\" width=\"2175\" height=\"1440\"/>\n",
       "  </clipPath>\n",
       "</defs>\n",
       "<polyline clip-path=\"url(#clip252)\" style=\"stroke:#000000; stroke-linecap:round; stroke-linejoin:round; stroke-width:2; stroke-opacity:0.1; fill:none\" points=\"240.392,1486.45 240.392,47.2441 \"/>\n",
       "<polyline clip-path=\"url(#clip252)\" style=\"stroke:#000000; stroke-linecap:round; stroke-linejoin:round; stroke-width:2; stroke-opacity:0.1; fill:none\" points=\"755.678,1486.45 755.678,47.2441 \"/>\n",
       "<polyline clip-path=\"url(#clip252)\" style=\"stroke:#000000; stroke-linecap:round; stroke-linejoin:round; stroke-width:2; stroke-opacity:0.1; fill:none\" points=\"1270.96,1486.45 1270.96,47.2441 \"/>\n",
       "<polyline clip-path=\"url(#clip252)\" style=\"stroke:#000000; stroke-linecap:round; stroke-linejoin:round; stroke-width:2; stroke-opacity:0.1; fill:none\" points=\"1786.25,1486.45 1786.25,47.2441 \"/>\n",
       "<polyline clip-path=\"url(#clip252)\" style=\"stroke:#000000; stroke-linecap:round; stroke-linejoin:round; stroke-width:2; stroke-opacity:0.1; fill:none\" points=\"2301.54,1486.45 2301.54,47.2441 \"/>\n",
       "<polyline clip-path=\"url(#clip250)\" style=\"stroke:#000000; stroke-linecap:round; stroke-linejoin:round; stroke-width:4; stroke-opacity:1; fill:none\" points=\"178.867,1486.45 2352.76,1486.45 \"/>\n",
       "<polyline clip-path=\"url(#clip250)\" style=\"stroke:#000000; stroke-linecap:round; stroke-linejoin:round; stroke-width:4; stroke-opacity:1; fill:none\" points=\"240.392,1486.45 240.392,1467.55 \"/>\n",
       "<polyline clip-path=\"url(#clip250)\" style=\"stroke:#000000; stroke-linecap:round; stroke-linejoin:round; stroke-width:4; stroke-opacity:1; fill:none\" points=\"755.678,1486.45 755.678,1467.55 \"/>\n",
       "<polyline clip-path=\"url(#clip250)\" style=\"stroke:#000000; stroke-linecap:round; stroke-linejoin:round; stroke-width:4; stroke-opacity:1; fill:none\" points=\"1270.96,1486.45 1270.96,1467.55 \"/>\n",
       "<polyline clip-path=\"url(#clip250)\" style=\"stroke:#000000; stroke-linecap:round; stroke-linejoin:round; stroke-width:4; stroke-opacity:1; fill:none\" points=\"1786.25,1486.45 1786.25,1467.55 \"/>\n",
       "<polyline clip-path=\"url(#clip250)\" style=\"stroke:#000000; stroke-linecap:round; stroke-linejoin:round; stroke-width:4; stroke-opacity:1; fill:none\" points=\"2301.54,1486.45 2301.54,1467.55 \"/>\n",
       "<path clip-path=\"url(#clip250)\" d=\"M217.776 1517.37 Q214.165 1517.37 212.336 1520.93 Q210.531 1524.47 210.531 1531.6 Q210.531 1538.71 212.336 1542.27 Q214.165 1545.82 217.776 1545.82 Q221.41 1545.82 223.216 1542.27 Q225.045 1538.71 225.045 1531.6 Q225.045 1524.47 223.216 1520.93 Q221.41 1517.37 217.776 1517.37 M217.776 1513.66 Q223.586 1513.66 226.642 1518.27 Q229.721 1522.85 229.721 1531.6 Q229.721 1540.33 226.642 1544.94 Q223.586 1549.52 217.776 1549.52 Q211.966 1549.52 208.887 1544.94 Q205.832 1540.33 205.832 1531.6 Q205.832 1522.85 208.887 1518.27 Q211.966 1513.66 217.776 1513.66 Z\" fill=\"#000000\" fill-rule=\"nonzero\" fill-opacity=\"1\" /><path clip-path=\"url(#clip250)\" d=\"M237.938 1542.97 L242.822 1542.97 L242.822 1548.85 L237.938 1548.85 L237.938 1542.97 Z\" fill=\"#000000\" fill-rule=\"nonzero\" fill-opacity=\"1\" /><path clip-path=\"url(#clip250)\" d=\"M263.007 1517.37 Q259.396 1517.37 257.568 1520.93 Q255.762 1524.47 255.762 1531.6 Q255.762 1538.71 257.568 1542.27 Q259.396 1545.82 263.007 1545.82 Q266.642 1545.82 268.447 1542.27 Q270.276 1538.71 270.276 1531.6 Q270.276 1524.47 268.447 1520.93 Q266.642 1517.37 263.007 1517.37 M263.007 1513.66 Q268.818 1513.66 271.873 1518.27 Q274.952 1522.85 274.952 1531.6 Q274.952 1540.33 271.873 1544.94 Q268.818 1549.52 263.007 1549.52 Q257.197 1549.52 254.119 1544.94 Q251.063 1540.33 251.063 1531.6 Q251.063 1522.85 254.119 1518.27 Q257.197 1513.66 263.007 1513.66 Z\" fill=\"#000000\" fill-rule=\"nonzero\" fill-opacity=\"1\" /><path clip-path=\"url(#clip250)\" d=\"M727.414 1544.91 L743.734 1544.91 L743.734 1548.85 L721.789 1548.85 L721.789 1544.91 Q724.451 1542.16 729.035 1537.53 Q733.641 1532.88 734.822 1531.53 Q737.067 1529.01 737.947 1527.27 Q738.849 1525.51 738.849 1523.82 Q738.849 1521.07 736.905 1519.33 Q734.984 1517.6 731.882 1517.6 Q729.683 1517.6 727.229 1518.36 Q724.799 1519.13 722.021 1520.68 L722.021 1515.95 Q724.845 1514.82 727.298 1514.24 Q729.752 1513.66 731.789 1513.66 Q737.16 1513.66 740.354 1516.35 Q743.548 1519.03 743.548 1523.52 Q743.548 1525.65 742.738 1527.57 Q741.951 1529.47 739.845 1532.07 Q739.266 1532.74 736.164 1535.95 Q733.062 1539.15 727.414 1544.91 Z\" fill=\"#000000\" fill-rule=\"nonzero\" fill-opacity=\"1\" /><path clip-path=\"url(#clip250)\" d=\"M753.548 1542.97 L758.433 1542.97 L758.433 1548.85 L753.548 1548.85 L753.548 1542.97 Z\" fill=\"#000000\" fill-rule=\"nonzero\" fill-opacity=\"1\" /><path clip-path=\"url(#clip250)\" d=\"M768.664 1514.29 L787.02 1514.29 L787.02 1518.22 L772.946 1518.22 L772.946 1526.7 Q773.965 1526.35 774.983 1526.19 Q776.002 1526 777.02 1526 Q782.807 1526 786.187 1529.17 Q789.567 1532.34 789.567 1537.76 Q789.567 1543.34 786.094 1546.44 Q782.622 1549.52 776.303 1549.52 Q774.127 1549.52 771.858 1549.15 Q769.613 1548.78 767.206 1548.04 L767.206 1543.34 Q769.289 1544.47 771.511 1545.03 Q773.733 1545.58 776.21 1545.58 Q780.215 1545.58 782.553 1543.48 Q784.891 1541.37 784.891 1537.76 Q784.891 1534.15 782.553 1532.04 Q780.215 1529.94 776.21 1529.94 Q774.335 1529.94 772.46 1530.35 Q770.608 1530.77 768.664 1531.65 L768.664 1514.29 Z\" fill=\"#000000\" fill-rule=\"nonzero\" fill-opacity=\"1\" /><path clip-path=\"url(#clip250)\" d=\"M1238.13 1514.29 L1256.49 1514.29 L1256.49 1518.22 L1242.41 1518.22 L1242.41 1526.7 Q1243.43 1526.35 1244.45 1526.19 Q1245.47 1526 1246.49 1526 Q1252.27 1526 1255.65 1529.17 Q1259.03 1532.34 1259.03 1537.76 Q1259.03 1543.34 1255.56 1546.44 Q1252.09 1549.52 1245.77 1549.52 Q1243.59 1549.52 1241.32 1549.15 Q1239.08 1548.78 1236.67 1548.04 L1236.67 1543.34 Q1238.75 1544.47 1240.98 1545.03 Q1243.2 1545.58 1245.67 1545.58 Q1249.68 1545.58 1252.02 1543.48 Q1254.36 1541.37 1254.36 1537.76 Q1254.36 1534.15 1252.02 1532.04 Q1249.68 1529.94 1245.67 1529.94 Q1243.8 1529.94 1241.92 1530.35 Q1240.07 1530.77 1238.13 1531.65 L1238.13 1514.29 Z\" fill=\"#000000\" fill-rule=\"nonzero\" fill-opacity=\"1\" /><path clip-path=\"url(#clip250)\" d=\"M1268.24 1542.97 L1273.13 1542.97 L1273.13 1548.85 L1268.24 1548.85 L1268.24 1542.97 Z\" fill=\"#000000\" fill-rule=\"nonzero\" fill-opacity=\"1\" /><path clip-path=\"url(#clip250)\" d=\"M1293.31 1517.37 Q1289.7 1517.37 1287.87 1520.93 Q1286.07 1524.47 1286.07 1531.6 Q1286.07 1538.71 1287.87 1542.27 Q1289.7 1545.82 1293.31 1545.82 Q1296.95 1545.82 1298.75 1542.27 Q1300.58 1538.71 1300.58 1531.6 Q1300.58 1524.47 1298.75 1520.93 Q1296.95 1517.37 1293.31 1517.37 M1293.31 1513.66 Q1299.12 1513.66 1302.18 1518.27 Q1305.26 1522.85 1305.26 1531.6 Q1305.26 1540.33 1302.18 1544.94 Q1299.12 1549.52 1293.31 1549.52 Q1287.5 1549.52 1284.42 1544.94 Q1281.37 1540.33 1281.37 1531.6 Q1281.37 1522.85 1284.42 1518.27 Q1287.5 1513.66 1293.31 1513.66 Z\" fill=\"#000000\" fill-rule=\"nonzero\" fill-opacity=\"1\" /><path clip-path=\"url(#clip250)\" d=\"M1752.57 1514.29 L1774.79 1514.29 L1774.79 1516.28 L1762.25 1548.85 L1757.36 1548.85 L1769.17 1518.22 L1752.57 1518.22 L1752.57 1514.29 Z\" fill=\"#000000\" fill-rule=\"nonzero\" fill-opacity=\"1\" /><path clip-path=\"url(#clip250)\" d=\"M1783.91 1542.97 L1788.8 1542.97 L1788.8 1548.85 L1783.91 1548.85 L1783.91 1542.97 Z\" fill=\"#000000\" fill-rule=\"nonzero\" fill-opacity=\"1\" /><path clip-path=\"url(#clip250)\" d=\"M1799.03 1514.29 L1817.38 1514.29 L1817.38 1518.22 L1803.31 1518.22 L1803.31 1526.7 Q1804.33 1526.35 1805.35 1526.19 Q1806.37 1526 1807.38 1526 Q1813.17 1526 1816.55 1529.17 Q1819.93 1532.34 1819.93 1537.76 Q1819.93 1543.34 1816.46 1546.44 Q1812.99 1549.52 1806.67 1549.52 Q1804.49 1549.52 1802.22 1549.15 Q1799.98 1548.78 1797.57 1548.04 L1797.57 1543.34 Q1799.65 1544.47 1801.88 1545.03 Q1804.1 1545.58 1806.57 1545.58 Q1810.58 1545.58 1812.92 1543.48 Q1815.25 1541.37 1815.25 1537.76 Q1815.25 1534.15 1812.92 1532.04 Q1810.58 1529.94 1806.57 1529.94 Q1804.7 1529.94 1802.82 1530.35 Q1800.97 1530.77 1799.03 1531.65 L1799.03 1514.29 Z\" fill=\"#000000\" fill-rule=\"nonzero\" fill-opacity=\"1\" /><path clip-path=\"url(#clip250)\" d=\"M2253.61 1544.91 L2261.25 1544.91 L2261.25 1518.55 L2252.94 1520.21 L2252.94 1515.95 L2261.2 1514.29 L2265.88 1514.29 L2265.88 1544.91 L2273.52 1544.91 L2273.52 1548.85 L2253.61 1548.85 L2253.61 1544.91 Z\" fill=\"#000000\" fill-rule=\"nonzero\" fill-opacity=\"1\" /><path clip-path=\"url(#clip250)\" d=\"M2292.96 1517.37 Q2289.35 1517.37 2287.52 1520.93 Q2285.71 1524.47 2285.71 1531.6 Q2285.71 1538.71 2287.52 1542.27 Q2289.35 1545.82 2292.96 1545.82 Q2296.59 1545.82 2298.4 1542.27 Q2300.23 1538.71 2300.23 1531.6 Q2300.23 1524.47 2298.4 1520.93 Q2296.59 1517.37 2292.96 1517.37 M2292.96 1513.66 Q2298.77 1513.66 2301.83 1518.27 Q2304.9 1522.85 2304.9 1531.6 Q2304.9 1540.33 2301.83 1544.94 Q2298.77 1549.52 2292.96 1549.52 Q2287.15 1549.52 2284.07 1544.94 Q2281.02 1540.33 2281.02 1531.6 Q2281.02 1522.85 2284.07 1518.27 Q2287.15 1513.66 2292.96 1513.66 Z\" fill=\"#000000\" fill-rule=\"nonzero\" fill-opacity=\"1\" /><path clip-path=\"url(#clip250)\" d=\"M2313.12 1542.97 L2318.01 1542.97 L2318.01 1548.85 L2313.12 1548.85 L2313.12 1542.97 Z\" fill=\"#000000\" fill-rule=\"nonzero\" fill-opacity=\"1\" /><path clip-path=\"url(#clip250)\" d=\"M2338.19 1517.37 Q2334.58 1517.37 2332.75 1520.93 Q2330.95 1524.47 2330.95 1531.6 Q2330.95 1538.71 2332.75 1542.27 Q2334.58 1545.82 2338.19 1545.82 Q2341.83 1545.82 2343.63 1542.27 Q2345.46 1538.71 2345.46 1531.6 Q2345.46 1524.47 2343.63 1520.93 Q2341.83 1517.37 2338.19 1517.37 M2338.19 1513.66 Q2344 1513.66 2347.06 1518.27 Q2350.14 1522.85 2350.14 1531.6 Q2350.14 1540.33 2347.06 1544.94 Q2344 1549.52 2338.19 1549.52 Q2332.38 1549.52 2329.3 1544.94 Q2326.25 1540.33 2326.25 1531.6 Q2326.25 1522.85 2329.3 1518.27 Q2332.38 1513.66 2338.19 1513.66 Z\" fill=\"#000000\" fill-rule=\"nonzero\" fill-opacity=\"1\" /><polyline clip-path=\"url(#clip252)\" style=\"stroke:#000000; stroke-linecap:round; stroke-linejoin:round; stroke-width:2; stroke-opacity:0.1; fill:none\" points=\"178.867,1462.16 2352.76,1462.16 \"/>\n",
       "<polyline clip-path=\"url(#clip252)\" style=\"stroke:#000000; stroke-linecap:round; stroke-linejoin:round; stroke-width:2; stroke-opacity:0.1; fill:none\" points=\"178.867,1215.23 2352.76,1215.23 \"/>\n",
       "<polyline clip-path=\"url(#clip252)\" style=\"stroke:#000000; stroke-linecap:round; stroke-linejoin:round; stroke-width:2; stroke-opacity:0.1; fill:none\" points=\"178.867,968.298 2352.76,968.298 \"/>\n",
       "<polyline clip-path=\"url(#clip252)\" style=\"stroke:#000000; stroke-linecap:round; stroke-linejoin:round; stroke-width:2; stroke-opacity:0.1; fill:none\" points=\"178.867,721.368 2352.76,721.368 \"/>\n",
       "<polyline clip-path=\"url(#clip252)\" style=\"stroke:#000000; stroke-linecap:round; stroke-linejoin:round; stroke-width:2; stroke-opacity:0.1; fill:none\" points=\"178.867,474.438 2352.76,474.438 \"/>\n",
       "<polyline clip-path=\"url(#clip252)\" style=\"stroke:#000000; stroke-linecap:round; stroke-linejoin:round; stroke-width:2; stroke-opacity:0.1; fill:none\" points=\"178.867,227.508 2352.76,227.508 \"/>\n",
       "<polyline clip-path=\"url(#clip250)\" style=\"stroke:#000000; stroke-linecap:round; stroke-linejoin:round; stroke-width:4; stroke-opacity:1; fill:none\" points=\"178.867,1486.45 178.867,47.2441 \"/>\n",
       "<polyline clip-path=\"url(#clip250)\" style=\"stroke:#000000; stroke-linecap:round; stroke-linejoin:round; stroke-width:4; stroke-opacity:1; fill:none\" points=\"178.867,1462.16 197.764,1462.16 \"/>\n",
       "<polyline clip-path=\"url(#clip250)\" style=\"stroke:#000000; stroke-linecap:round; stroke-linejoin:round; stroke-width:4; stroke-opacity:1; fill:none\" points=\"178.867,1215.23 197.764,1215.23 \"/>\n",
       "<polyline clip-path=\"url(#clip250)\" style=\"stroke:#000000; stroke-linecap:round; stroke-linejoin:round; stroke-width:4; stroke-opacity:1; fill:none\" points=\"178.867,968.298 197.764,968.298 \"/>\n",
       "<polyline clip-path=\"url(#clip250)\" style=\"stroke:#000000; stroke-linecap:round; stroke-linejoin:round; stroke-width:4; stroke-opacity:1; fill:none\" points=\"178.867,721.368 197.764,721.368 \"/>\n",
       "<polyline clip-path=\"url(#clip250)\" style=\"stroke:#000000; stroke-linecap:round; stroke-linejoin:round; stroke-width:4; stroke-opacity:1; fill:none\" points=\"178.867,474.438 197.764,474.438 \"/>\n",
       "<polyline clip-path=\"url(#clip250)\" style=\"stroke:#000000; stroke-linecap:round; stroke-linejoin:round; stroke-width:4; stroke-opacity:1; fill:none\" points=\"178.867,227.508 197.764,227.508 \"/>\n",
       "<path clip-path=\"url(#clip250)\" d=\"M50.9921 1462.61 L80.6679 1462.61 L80.6679 1466.54 L50.9921 1466.54 L50.9921 1462.61 Z\" fill=\"#000000\" fill-rule=\"nonzero\" fill-opacity=\"1\" /><path clip-path=\"url(#clip250)\" d=\"M104.927 1460.8 Q108.283 1461.52 110.158 1463.79 Q112.057 1466.06 112.057 1469.39 Q112.057 1474.51 108.538 1477.31 Q105.02 1480.11 98.5382 1480.11 Q96.3623 1480.11 94.0475 1479.67 Q91.7558 1479.25 89.3021 1478.4 L89.3021 1473.88 Q91.2465 1475.02 93.5613 1475.6 Q95.8761 1476.17 98.3993 1476.17 Q102.797 1476.17 105.089 1474.44 Q107.404 1472.7 107.404 1469.39 Q107.404 1466.34 105.251 1464.62 Q103.121 1462.89 99.3021 1462.89 L95.2743 1462.89 L95.2743 1459.04 L99.4872 1459.04 Q102.936 1459.04 104.765 1457.68 Q106.594 1456.29 106.594 1453.7 Q106.594 1451.04 104.696 1449.62 Q102.821 1448.19 99.3021 1448.19 Q97.3808 1448.19 95.1817 1448.61 Q92.9826 1449.02 90.3438 1449.9 L90.3438 1445.73 Q93.0058 1444.99 95.3206 1444.62 Q97.6585 1444.25 99.7187 1444.25 Q105.043 1444.25 108.145 1446.68 Q111.246 1449.09 111.246 1453.21 Q111.246 1456.08 109.603 1458.07 Q107.959 1460.04 104.927 1460.8 Z\" fill=\"#000000\" fill-rule=\"nonzero\" fill-opacity=\"1\" /><path clip-path=\"url(#clip250)\" d=\"M130.922 1447.96 Q127.311 1447.96 125.482 1451.52 Q123.677 1455.06 123.677 1462.19 Q123.677 1469.3 125.482 1472.86 Q127.311 1476.41 130.922 1476.41 Q134.556 1476.41 136.362 1472.86 Q138.191 1469.3 138.191 1462.19 Q138.191 1455.06 136.362 1451.52 Q134.556 1447.96 130.922 1447.96 M130.922 1444.25 Q136.732 1444.25 139.788 1448.86 Q142.867 1453.44 142.867 1462.19 Q142.867 1470.92 139.788 1475.53 Q136.732 1480.11 130.922 1480.11 Q125.112 1480.11 122.033 1475.53 Q118.978 1470.92 118.978 1462.19 Q118.978 1453.44 122.033 1448.86 Q125.112 1444.25 130.922 1444.25 Z\" fill=\"#000000\" fill-rule=\"nonzero\" fill-opacity=\"1\" /><path clip-path=\"url(#clip250)\" d=\"M50.9921 1215.68 L80.6679 1215.68 L80.6679 1219.61 L50.9921 1219.61 L50.9921 1215.68 Z\" fill=\"#000000\" fill-rule=\"nonzero\" fill-opacity=\"1\" /><path clip-path=\"url(#clip250)\" d=\"M94.7882 1228.57 L111.108 1228.57 L111.108 1232.51 L89.1632 1232.51 L89.1632 1228.57 Q91.8252 1225.82 96.4085 1221.19 Q101.015 1216.54 102.196 1215.19 Q104.441 1212.67 105.321 1210.93 Q106.223 1209.18 106.223 1207.49 Q106.223 1204.73 104.279 1202.99 Q102.358 1201.26 99.2558 1201.26 Q97.0567 1201.26 94.603 1202.02 Q92.1725 1202.79 89.3947 1204.34 L89.3947 1199.61 Q92.2188 1198.48 94.6724 1197.9 Q97.1261 1197.32 99.1632 1197.32 Q104.534 1197.32 107.728 1200.01 Q110.922 1202.69 110.922 1207.18 Q110.922 1209.31 110.112 1211.24 Q109.325 1213.13 107.219 1215.73 Q106.64 1216.4 103.538 1219.61 Q100.436 1222.81 94.7882 1228.57 Z\" fill=\"#000000\" fill-rule=\"nonzero\" fill-opacity=\"1\" /><path clip-path=\"url(#clip250)\" d=\"M130.922 1201.03 Q127.311 1201.03 125.482 1204.59 Q123.677 1208.13 123.677 1215.26 Q123.677 1222.37 125.482 1225.93 Q127.311 1229.48 130.922 1229.48 Q134.556 1229.48 136.362 1225.93 Q138.191 1222.37 138.191 1215.26 Q138.191 1208.13 136.362 1204.59 Q134.556 1201.03 130.922 1201.03 M130.922 1197.32 Q136.732 1197.32 139.788 1201.93 Q142.867 1206.51 142.867 1215.26 Q142.867 1223.99 139.788 1228.6 Q136.732 1233.18 130.922 1233.18 Q125.112 1233.18 122.033 1228.6 Q118.978 1223.99 118.978 1215.26 Q118.978 1206.51 122.033 1201.93 Q125.112 1197.32 130.922 1197.32 Z\" fill=\"#000000\" fill-rule=\"nonzero\" fill-opacity=\"1\" /><path clip-path=\"url(#clip250)\" d=\"M50.9921 968.75 L80.6679 968.75 L80.6679 972.685 L50.9921 972.685 L50.9921 968.75 Z\" fill=\"#000000\" fill-rule=\"nonzero\" fill-opacity=\"1\" /><path clip-path=\"url(#clip250)\" d=\"M91.5706 981.643 L99.2095 981.643 L99.2095 955.278 L90.8993 956.944 L90.8993 952.685 L99.1632 951.018 L103.839 951.018 L103.839 981.643 L111.478 981.643 L111.478 985.578 L91.5706 985.578 L91.5706 981.643 Z\" fill=\"#000000\" fill-rule=\"nonzero\" fill-opacity=\"1\" /><path clip-path=\"url(#clip250)\" d=\"M130.922 954.097 Q127.311 954.097 125.482 957.662 Q123.677 961.203 123.677 968.333 Q123.677 975.439 125.482 979.004 Q127.311 982.546 130.922 982.546 Q134.556 982.546 136.362 979.004 Q138.191 975.439 138.191 968.333 Q138.191 961.203 136.362 957.662 Q134.556 954.097 130.922 954.097 M130.922 950.393 Q136.732 950.393 139.788 955 Q142.867 959.583 142.867 968.333 Q142.867 977.06 139.788 981.666 Q136.732 986.25 130.922 986.25 Q125.112 986.25 122.033 981.666 Q118.978 977.06 118.978 968.333 Q118.978 959.583 122.033 955 Q125.112 950.393 130.922 950.393 Z\" fill=\"#000000\" fill-rule=\"nonzero\" fill-opacity=\"1\" /><path clip-path=\"url(#clip250)\" d=\"M130.922 707.167 Q127.311 707.167 125.482 710.732 Q123.677 714.273 123.677 721.403 Q123.677 728.509 125.482 732.074 Q127.311 735.616 130.922 735.616 Q134.556 735.616 136.362 732.074 Q138.191 728.509 138.191 721.403 Q138.191 714.273 136.362 710.732 Q134.556 707.167 130.922 707.167 M130.922 703.463 Q136.732 703.463 139.788 708.07 Q142.867 712.653 142.867 721.403 Q142.867 730.13 139.788 734.736 Q136.732 739.32 130.922 739.32 Q125.112 739.32 122.033 734.736 Q118.978 730.13 118.978 721.403 Q118.978 712.653 122.033 708.07 Q125.112 703.463 130.922 703.463 Z\" fill=\"#000000\" fill-rule=\"nonzero\" fill-opacity=\"1\" /><path clip-path=\"url(#clip250)\" d=\"M91.5706 487.783 L99.2095 487.783 L99.2095 461.417 L90.8993 463.084 L90.8993 458.825 L99.1632 457.158 L103.839 457.158 L103.839 487.783 L111.478 487.783 L111.478 491.718 L91.5706 491.718 L91.5706 487.783 Z\" fill=\"#000000\" fill-rule=\"nonzero\" fill-opacity=\"1\" /><path clip-path=\"url(#clip250)\" d=\"M130.922 460.237 Q127.311 460.237 125.482 463.802 Q123.677 467.343 123.677 474.473 Q123.677 481.579 125.482 485.144 Q127.311 488.686 130.922 488.686 Q134.556 488.686 136.362 485.144 Q138.191 481.579 138.191 474.473 Q138.191 467.343 136.362 463.802 Q134.556 460.237 130.922 460.237 M130.922 456.533 Q136.732 456.533 139.788 461.14 Q142.867 465.723 142.867 474.473 Q142.867 483.2 139.788 487.806 Q136.732 492.389 130.922 492.389 Q125.112 492.389 122.033 487.806 Q118.978 483.2 118.978 474.473 Q118.978 465.723 122.033 461.14 Q125.112 456.533 130.922 456.533 Z\" fill=\"#000000\" fill-rule=\"nonzero\" fill-opacity=\"1\" /><path clip-path=\"url(#clip250)\" d=\"M94.7882 240.853 L111.108 240.853 L111.108 244.788 L89.1632 244.788 L89.1632 240.853 Q91.8252 238.098 96.4085 233.469 Q101.015 228.816 102.196 227.473 Q104.441 224.95 105.321 223.214 Q106.223 221.455 106.223 219.765 Q106.223 217.01 104.279 215.274 Q102.358 213.538 99.2558 213.538 Q97.0567 213.538 94.603 214.302 Q92.1725 215.066 89.3947 216.617 L89.3947 211.895 Q92.2188 210.76 94.6724 210.182 Q97.1261 209.603 99.1632 209.603 Q104.534 209.603 107.728 212.288 Q110.922 214.973 110.922 219.464 Q110.922 221.594 110.112 223.515 Q109.325 225.413 107.219 228.006 Q106.64 228.677 103.538 231.895 Q100.436 235.089 94.7882 240.853 Z\" fill=\"#000000\" fill-rule=\"nonzero\" fill-opacity=\"1\" /><path clip-path=\"url(#clip250)\" d=\"M130.922 213.307 Q127.311 213.307 125.482 216.872 Q123.677 220.413 123.677 227.543 Q123.677 234.649 125.482 238.214 Q127.311 241.756 130.922 241.756 Q134.556 241.756 136.362 238.214 Q138.191 234.649 138.191 227.543 Q138.191 220.413 136.362 216.872 Q134.556 213.307 130.922 213.307 M130.922 209.603 Q136.732 209.603 139.788 214.21 Q142.867 218.793 142.867 227.543 Q142.867 236.27 139.788 240.876 Q136.732 245.459 130.922 245.459 Q125.112 245.459 122.033 240.876 Q118.978 236.27 118.978 227.543 Q118.978 218.793 122.033 214.21 Q125.112 209.603 130.922 209.603 Z\" fill=\"#000000\" fill-rule=\"nonzero\" fill-opacity=\"1\" /><polyline clip-path=\"url(#clip252)\" style=\"stroke:#009af9; stroke-linecap:round; stroke-linejoin:round; stroke-width:4; stroke-opacity:1; fill:none\" points=\"240.392,1445.72 250.698,1367.06 261.003,1307.07 271.309,1254.59 281.615,1201.77 291.92,1146.53 302.226,1090.24 312.532,1034.4 322.838,979.546 333.143,925.559 343.449,872.271 353.755,819.794 364.06,768.624 374.366,719.572 384.672,673.615 394.978,631.745 405.283,594.847 415.589,563.642 425.895,538.663 436.201,520.28 446.506,508.75 456.812,504.289 467.118,507.119 477.423,517.465 487.729,535.437 498.035,560.809 508.341,592.765 518.646,629.71 528.952,669.228 539.258,708.159 549.564,742.753 559.869,768.857 570.175,782.181 580.481,778.692 590.786,755.089 601.092,709.205 611.398,640.223 621.704,548.943 632.009,438.811 642.315,318.423 652.621,204.594 662.926,121.054 673.232,87.9763 683.538,110.583 693.844,180.236 704.149,283.334 714.455,406.826 724.761,539.19 735.067,670.352 745.372,792.2 755.678,899.202 765.984,988.475 776.289,1059.29 786.595,1112.35 796.901,1149.2 807.207,1171.61 817.512,1181.29 827.818,1179.77 838.124,1168.43 848.429,1148.75 858.735,1122.37 869.041,1091.09 879.347,1056.8 889.652,1021.22 899.958,985.878 910.264,951.933 920.57,920.234 930.875,891.328 941.181,865.502 951.487,842.83 961.792,823.22 972.098,806.461 982.404,792.267 992.71,780.321 1003.02,770.308 1013.32,761.932 1023.63,754.934 1033.93,749.089 1044.24,744.207 1054.54,740.131 1064.85,736.728 1075.16,733.889 1085.46,731.522 1095.77,729.552 1106.07,727.914 1116.38,726.556 1126.68,725.431 1136.99,724.503 1147.3,723.74 1157.6,723.116 1167.91,722.606 1178.21,722.193 1188.52,721.861 1198.82,721.596 1209.13,721.386 1219.44,721.223 1229.74,721.097 1240.05,721.003 1250.35,720.934 1260.66,720.886 1270.96,720.855 1281.27,720.838 1291.58,720.831 1301.88,720.833 1312.19,720.842 1322.49,720.855 1332.8,720.872 1343.1,720.892 1353.41,720.914 1363.72,720.937 1374.02,720.961 1384.33,720.984 1394.63,721.008 1404.94,721.031 1415.24,721.053 1425.55,721.075 1435.86,721.095 1446.16,721.115 1456.47,721.134 1466.77,721.151 1477.08,721.168 1487.38,721.184 1497.69,721.198 1508,721.212 1518.3,721.224 1528.61,721.236 1538.91,721.247 1549.22,721.257 1559.52,721.266 1569.83,721.275 1580.14,721.283 1590.44,721.29 1600.75,721.297 1611.05,721.303 1621.36,721.309 1631.66,721.314 1641.97,721.319 1652.28,721.323 1662.58,721.327 1672.89,721.331 1683.19,721.334 1693.5,721.337 1703.8,721.34 1714.11,721.342 1724.42,721.345 1734.72,721.347 1745.03,721.349 1755.33,721.351 1765.64,721.352 1775.94,721.354 1786.25,721.355 1796.56,721.356 1806.86,721.357 1817.17,721.358 1827.47,721.359 1837.78,721.36 1848.08,721.361 1858.39,721.361 1868.7,721.362 1879,721.363 1889.31,721.363 1899.61,721.364 1909.92,721.364 1920.22,721.364 1930.53,721.365 1940.84,721.365 1951.14,721.365 1961.45,721.366 1971.75,721.366 1982.06,721.366 1992.36,721.366 2002.67,721.366 2012.98,721.367 2023.28,721.367 2033.59,721.367 2043.89,721.367 2054.2,721.367 2064.5,721.367 2074.81,721.367 2085.12,721.367 2095.42,721.367 2105.73,721.368 2116.03,721.368 2126.34,721.368 2136.64,721.368 2146.95,721.368 2157.26,721.368 2167.56,721.368 2177.87,721.368 2188.17,721.368 2198.48,721.368 2208.78,721.368 2219.09,721.368 2229.4,721.368 2239.7,721.368 2250.01,721.368 2260.31,721.368 2270.62,721.368 2280.93,721.368 2291.23,721.369 \"/>\n",
       "<path clip-path=\"url(#clip250)\" d=\"M2010.47 198.898 L2280.29 198.898 L2280.29 95.2176 L2010.47 95.2176  Z\" fill=\"#ffffff\" fill-rule=\"evenodd\" fill-opacity=\"1\"/>\n",
       "<polyline clip-path=\"url(#clip250)\" style=\"stroke:#000000; stroke-linecap:round; stroke-linejoin:round; stroke-width:4; stroke-opacity:1; fill:none\" points=\"2010.47,198.898 2280.29,198.898 2280.29,95.2176 2010.47,95.2176 2010.47,198.898 \"/>\n",
       "<polyline clip-path=\"url(#clip250)\" style=\"stroke:#009af9; stroke-linecap:round; stroke-linejoin:round; stroke-width:4; stroke-opacity:1; fill:none\" points=\"2034.63,147.058 2179.55,147.058 \"/>\n",
       "<path clip-path=\"url(#clip250)\" d=\"M2217.55 166.745 Q2215.75 171.375 2214.03 172.787 Q2212.32 174.199 2209.45 174.199 L2206.05 174.199 L2206.05 170.634 L2208.55 170.634 Q2210.31 170.634 2211.28 169.8 Q2212.25 168.967 2213.43 165.865 L2214.19 163.921 L2203.71 138.412 L2208.22 138.412 L2216.32 158.689 L2224.43 138.412 L2228.94 138.412 L2217.55 166.745 Z\" fill=\"#000000\" fill-rule=\"nonzero\" fill-opacity=\"1\" /><path clip-path=\"url(#clip250)\" d=\"M2236.23 160.402 L2243.87 160.402 L2243.87 134.037 L2235.56 135.703 L2235.56 131.444 L2243.82 129.778 L2248.5 129.778 L2248.5 160.402 L2256.14 160.402 L2256.14 164.338 L2236.23 164.338 L2236.23 160.402 Z\" fill=\"#000000\" fill-rule=\"nonzero\" fill-opacity=\"1\" /></svg>\n"
      ]
     },
     "execution_count": 27,
     "metadata": {},
     "output_type": "execute_result"
    }
   ],
   "source": [
    "plot(thist[1:Nt-1],utraj)"
   ]
  },
  {
   "cell_type": "code",
   "execution_count": 28,
   "id": "27203f94-5334-4fa4-98d7-17ca8cdd4819",
   "metadata": {},
   "outputs": [
    {
     "name": "stderr",
     "output_type": "stream",
     "text": [
      "\u001b[36m\u001b[1m┌ \u001b[22m\u001b[39m\u001b[36m\u001b[1mInfo: \u001b[22m\u001b[39mMeshCat server started. You can open the visualizer by visiting the following URL in your browser:\n",
      "\u001b[36m\u001b[1m└ \u001b[22m\u001b[39mhttp://127.0.0.1:8701\n"
     ]
    },
    {
     "data": {
      "text/html": [
       "    <div style=\"height: 500px; width: 100%; overflow-x: auto; overflow-y: hidden; resize: both\">\n",
       "    <iframe src=\"http://127.0.0.1:8701\" style=\"width: 100%; height: 100%; border: none\"></iframe>\n",
       "    </div>\n"
      ],
      "text/plain": [
       "MeshCat.DisplayedVisualizer(MeshCat.CoreVisualizer(MeshCat.SceneTrees.SceneNode(nothing, nothing, Dict{String, Vector{UInt8}}(), nothing, Dict{String, MeshCat.SceneTrees.SceneNode}()), Set{Any}(), ip\"127.0.0.1\", 8701))"
      ]
     },
     "execution_count": 28,
     "metadata": {},
     "output_type": "execute_result"
    }
   ],
   "source": [
    "using TrajOptPlots\n",
    "using MeshCat\n",
    "using StaticArrays\n",
    "\n",
    "vis = Visualizer()\n",
    "render(vis)"
   ]
  },
  {
   "cell_type": "code",
   "execution_count": 29,
   "id": "df01d665-0b67-4cb1-9af5-a25c8bc2d8f7",
   "metadata": {},
   "outputs": [
    {
     "data": {
      "text/plain": [
       "MeshCat Visualizer with path /meshcat/robot/link1/joint at http://127.0.0.1:8701"
      ]
     },
     "execution_count": 29,
     "metadata": {},
     "output_type": "execute_result"
    }
   ],
   "source": [
    "TrajOptPlots.set_mesh!(vis, a)"
   ]
  },
  {
   "cell_type": "code",
   "execution_count": 30,
   "id": "fe705ae4-c48e-43b1-85de-1161050dd92b",
   "metadata": {},
   "outputs": [],
   "source": [
    "X1 = [SVector{4}(x) for x in eachcol(xtraj)];\n",
    "visualize!(vis, a, thist[end], X1)"
   ]
  },
  {
   "cell_type": "markdown",
   "id": "c21a3bc4-e81e-457d-8835-413b14d722c4",
   "metadata": {},
   "source": [
    "## Bigger Control Penalty and Longer Time"
   ]
  },
  {
   "cell_type": "code",
   "execution_count": 35,
   "id": "aebc11f4-a4eb-41f4-890b-3848e4758fdf",
   "metadata": {},
   "outputs": [],
   "source": [
    "Nx = 4     # number of state\n",
    "Nu = 1     # number of controls\n",
    "Tfinal = 10.0 # final time\n",
    "Nt = Int(Tfinal/h)+1    # number of time steps\n",
    "thist = Array(range(0,h*(Nt-1), step=h));"
   ]
  },
  {
   "cell_type": "code",
   "execution_count": 36,
   "id": "d45ab548-2890-4fec-ad2b-393ee4a71eb5",
   "metadata": {},
   "outputs": [],
   "source": [
    "# Cost weights\n",
    "Q = Diagonal([1.0*ones(2); 0.1*ones(2)]);\n",
    "R = 0.02;\n",
    "Qn = Array(100.0*I(Nx));"
   ]
  },
  {
   "cell_type": "code",
   "execution_count": 38,
   "id": "d3ffc036-13f8-47e5-b7a9-960d5d0708d3",
   "metadata": {},
   "outputs": [],
   "source": [
    "#Initial guess\n",
    "x0 = [-pi/2; 0; 0; 0]\n",
    "xgoal = [pi/2; 0; 0; 0]\n",
    "xtraj = kron(ones(1,Nt), x0)\n",
    "utraj = randn(Nt-1);\n",
    "\n",
    "#Initial Rollout\n",
    "for k = 1:(Nt-1)\n",
    "    xtraj[:,k+1] .= dynamics_rk4(xtraj[:,k],utraj[k])\n",
    "end\n",
    "J = cost(xtraj,utraj)\n",
    "\n",
    "d = ones(Nt-1)\n",
    "xn = zeros(size(xtraj))\n",
    "un = zeros(size(utraj))\n",
    "iter = 0\n",
    "\n",
    "while maximum(abs.(d[:])) > 1e-3\n",
    "    p = zeros(Nx, Nt)\n",
    "    P = zeros(Nx, Nx, Nt)\n",
    "    d = ones(Nt-1)\n",
    "    K = zeros(Nu,Nx,Nt-1)\n",
    "\n",
    "    ΔJ = backward_pass_ilqr!(p,P,d,K)\n",
    "    # ΔJ = backward_pass_ddp!(p,P,d,K)\n",
    "\n",
    "    # Line Search\n",
    "    xn[:,1] = x0\n",
    "    α = 1.0\n",
    "\n",
    "    for k in 1:(Nt-1)\n",
    "        un[k] = utraj[k] - α*d[k] - dot(K[:,:,k],xn[:,k]-xtraj[:,k])\n",
    "        xn[:,k+1] .= dynamics_rk4(xn[:,k], un[k])\n",
    "    end\n",
    "    Jn = cost(xn, un)\n",
    "    \n",
    "    while isnan(Jn) || Jn > (J - 1e-2*α*ΔJ)\n",
    "        α *= 0.5\n",
    "        for k in 1:(Nt-1)\n",
    "            un[k] = utraj[k] - α*d[k] - dot(K[:,:,k],xn[:,k]-xtraj[:,k])\n",
    "            xn[:,k+1] .= dynamics_rk4(xn[:,k], un[k])\n",
    "        end\n",
    "        Jn = cost(xn, un)\n",
    "    end\n",
    "\n",
    "    iter += 1\n",
    "    J = Jn\n",
    "    xtraj .= xn\n",
    "    utraj .= un\n",
    "end"
   ]
  },
  {
   "cell_type": "code",
   "execution_count": 39,
   "id": "9a963816-513b-4a81-a83c-d7333db93cd4",
   "metadata": {},
   "outputs": [
    {
     "data": {
      "image/svg+xml": [
       "<?xml version=\"1.0\" encoding=\"utf-8\"?>\n",
       "<svg xmlns=\"http://www.w3.org/2000/svg\" xmlns:xlink=\"http://www.w3.org/1999/xlink\" width=\"600\" height=\"400\" viewBox=\"0 0 2400 1600\">\n",
       "<defs>\n",
       "  <clipPath id=\"clip450\">\n",
       "    <rect x=\"0\" y=\"0\" width=\"2400\" height=\"1600\"/>\n",
       "  </clipPath>\n",
       "</defs>\n",
       "<path clip-path=\"url(#clip450)\" d=\"M0 1600 L2400 1600 L2400 0 L0 0  Z\" fill=\"#ffffff\" fill-rule=\"evenodd\" fill-opacity=\"1\"/>\n",
       "<defs>\n",
       "  <clipPath id=\"clip451\">\n",
       "    <rect x=\"480\" y=\"0\" width=\"1681\" height=\"1600\"/>\n",
       "  </clipPath>\n",
       "</defs>\n",
       "<path clip-path=\"url(#clip450)\" d=\"M193.936 1486.45 L2352.76 1486.45 L2352.76 47.2441 L193.936 47.2441  Z\" fill=\"#ffffff\" fill-rule=\"evenodd\" fill-opacity=\"1\"/>\n",
       "<defs>\n",
       "  <clipPath id=\"clip452\">\n",
       "    <rect x=\"193\" y=\"47\" width=\"2160\" height=\"1440\"/>\n",
       "  </clipPath>\n",
       "</defs>\n",
       "<polyline clip-path=\"url(#clip452)\" style=\"stroke:#000000; stroke-linecap:round; stroke-linejoin:round; stroke-width:2; stroke-opacity:0.1; fill:none\" points=\"255.035,1486.45 255.035,47.2441 \"/>\n",
       "<polyline clip-path=\"url(#clip452)\" style=\"stroke:#000000; stroke-linecap:round; stroke-linejoin:round; stroke-width:2; stroke-opacity:0.1; fill:none\" points=\"764.19,1486.45 764.19,47.2441 \"/>\n",
       "<polyline clip-path=\"url(#clip452)\" style=\"stroke:#000000; stroke-linecap:round; stroke-linejoin:round; stroke-width:2; stroke-opacity:0.1; fill:none\" points=\"1273.35,1486.45 1273.35,47.2441 \"/>\n",
       "<polyline clip-path=\"url(#clip452)\" style=\"stroke:#000000; stroke-linecap:round; stroke-linejoin:round; stroke-width:2; stroke-opacity:0.1; fill:none\" points=\"1782.5,1486.45 1782.5,47.2441 \"/>\n",
       "<polyline clip-path=\"url(#clip452)\" style=\"stroke:#000000; stroke-linecap:round; stroke-linejoin:round; stroke-width:2; stroke-opacity:0.1; fill:none\" points=\"2291.66,1486.45 2291.66,47.2441 \"/>\n",
       "<polyline clip-path=\"url(#clip450)\" style=\"stroke:#000000; stroke-linecap:round; stroke-linejoin:round; stroke-width:4; stroke-opacity:1; fill:none\" points=\"193.936,1486.45 2352.76,1486.45 \"/>\n",
       "<polyline clip-path=\"url(#clip450)\" style=\"stroke:#000000; stroke-linecap:round; stroke-linejoin:round; stroke-width:4; stroke-opacity:1; fill:none\" points=\"255.035,1486.45 255.035,1467.55 \"/>\n",
       "<polyline clip-path=\"url(#clip450)\" style=\"stroke:#000000; stroke-linecap:round; stroke-linejoin:round; stroke-width:4; stroke-opacity:1; fill:none\" points=\"764.19,1486.45 764.19,1467.55 \"/>\n",
       "<polyline clip-path=\"url(#clip450)\" style=\"stroke:#000000; stroke-linecap:round; stroke-linejoin:round; stroke-width:4; stroke-opacity:1; fill:none\" points=\"1273.35,1486.45 1273.35,1467.55 \"/>\n",
       "<polyline clip-path=\"url(#clip450)\" style=\"stroke:#000000; stroke-linecap:round; stroke-linejoin:round; stroke-width:4; stroke-opacity:1; fill:none\" points=\"1782.5,1486.45 1782.5,1467.55 \"/>\n",
       "<polyline clip-path=\"url(#clip450)\" style=\"stroke:#000000; stroke-linecap:round; stroke-linejoin:round; stroke-width:4; stroke-opacity:1; fill:none\" points=\"2291.66,1486.45 2291.66,1467.55 \"/>\n",
       "<path clip-path=\"url(#clip450)\" d=\"M232.419 1517.37 Q228.808 1517.37 226.979 1520.93 Q225.174 1524.47 225.174 1531.6 Q225.174 1538.71 226.979 1542.27 Q228.808 1545.82 232.419 1545.82 Q236.053 1545.82 237.859 1542.27 Q239.688 1538.71 239.688 1531.6 Q239.688 1524.47 237.859 1520.93 Q236.053 1517.37 232.419 1517.37 M232.419 1513.66 Q238.229 1513.66 241.285 1518.27 Q244.363 1522.85 244.363 1531.6 Q244.363 1540.33 241.285 1544.94 Q238.229 1549.52 232.419 1549.52 Q226.609 1549.52 223.53 1544.94 Q220.475 1540.33 220.475 1531.6 Q220.475 1522.85 223.53 1518.27 Q226.609 1513.66 232.419 1513.66 Z\" fill=\"#000000\" fill-rule=\"nonzero\" fill-opacity=\"1\" /><path clip-path=\"url(#clip450)\" d=\"M252.581 1542.97 L257.465 1542.97 L257.465 1548.85 L252.581 1548.85 L252.581 1542.97 Z\" fill=\"#000000\" fill-rule=\"nonzero\" fill-opacity=\"1\" /><path clip-path=\"url(#clip450)\" d=\"M277.65 1517.37 Q274.039 1517.37 272.211 1520.93 Q270.405 1524.47 270.405 1531.6 Q270.405 1538.71 272.211 1542.27 Q274.039 1545.82 277.65 1545.82 Q281.285 1545.82 283.09 1542.27 Q284.919 1538.71 284.919 1531.6 Q284.919 1524.47 283.09 1520.93 Q281.285 1517.37 277.65 1517.37 M277.65 1513.66 Q283.46 1513.66 286.516 1518.27 Q289.595 1522.85 289.595 1531.6 Q289.595 1540.33 286.516 1544.94 Q283.46 1549.52 277.65 1549.52 Q271.84 1549.52 268.761 1544.94 Q265.706 1540.33 265.706 1531.6 Q265.706 1522.85 268.761 1518.27 Q271.84 1513.66 277.65 1513.66 Z\" fill=\"#000000\" fill-rule=\"nonzero\" fill-opacity=\"1\" /><path clip-path=\"url(#clip450)\" d=\"M735.927 1544.91 L752.246 1544.91 L752.246 1548.85 L730.302 1548.85 L730.302 1544.91 Q732.964 1542.16 737.547 1537.53 Q742.153 1532.88 743.334 1531.53 Q745.579 1529.01 746.459 1527.27 Q747.362 1525.51 747.362 1523.82 Q747.362 1521.07 745.417 1519.33 Q743.496 1517.6 740.394 1517.6 Q738.195 1517.6 735.741 1518.36 Q733.311 1519.13 730.533 1520.68 L730.533 1515.95 Q733.357 1514.82 735.811 1514.24 Q738.265 1513.66 740.302 1513.66 Q745.672 1513.66 748.866 1516.35 Q752.061 1519.03 752.061 1523.52 Q752.061 1525.65 751.251 1527.57 Q750.464 1529.47 748.357 1532.07 Q747.778 1532.74 744.677 1535.95 Q741.575 1539.15 735.927 1544.91 Z\" fill=\"#000000\" fill-rule=\"nonzero\" fill-opacity=\"1\" /><path clip-path=\"url(#clip450)\" d=\"M762.061 1542.97 L766.945 1542.97 L766.945 1548.85 L762.061 1548.85 L762.061 1542.97 Z\" fill=\"#000000\" fill-rule=\"nonzero\" fill-opacity=\"1\" /><path clip-path=\"url(#clip450)\" d=\"M777.176 1514.29 L795.533 1514.29 L795.533 1518.22 L781.459 1518.22 L781.459 1526.7 Q782.477 1526.35 783.496 1526.19 Q784.514 1526 785.533 1526 Q791.32 1526 794.699 1529.17 Q798.079 1532.34 798.079 1537.76 Q798.079 1543.34 794.607 1546.44 Q791.135 1549.52 784.815 1549.52 Q782.639 1549.52 780.371 1549.15 Q778.125 1548.78 775.718 1548.04 L775.718 1543.34 Q777.801 1544.47 780.024 1545.03 Q782.246 1545.58 784.723 1545.58 Q788.727 1545.58 791.065 1543.48 Q793.403 1541.37 793.403 1537.76 Q793.403 1534.15 791.065 1532.04 Q788.727 1529.94 784.723 1529.94 Q782.848 1529.94 780.973 1530.35 Q779.121 1530.77 777.176 1531.65 L777.176 1514.29 Z\" fill=\"#000000\" fill-rule=\"nonzero\" fill-opacity=\"1\" /><path clip-path=\"url(#clip450)\" d=\"M1240.51 1514.29 L1258.87 1514.29 L1258.87 1518.22 L1244.79 1518.22 L1244.79 1526.7 Q1245.81 1526.35 1246.83 1526.19 Q1247.85 1526 1248.87 1526 Q1254.65 1526 1258.03 1529.17 Q1261.41 1532.34 1261.41 1537.76 Q1261.41 1543.34 1257.94 1546.44 Q1254.47 1549.52 1248.15 1549.52 Q1245.97 1549.52 1243.7 1549.15 Q1241.46 1548.78 1239.05 1548.04 L1239.05 1543.34 Q1241.14 1544.47 1243.36 1545.03 Q1245.58 1545.58 1248.06 1545.58 Q1252.06 1545.58 1254.4 1543.48 Q1256.74 1541.37 1256.74 1537.76 Q1256.74 1534.15 1254.4 1532.04 Q1252.06 1529.94 1248.06 1529.94 Q1246.18 1529.94 1244.31 1530.35 Q1242.45 1530.77 1240.51 1531.65 L1240.51 1514.29 Z\" fill=\"#000000\" fill-rule=\"nonzero\" fill-opacity=\"1\" /><path clip-path=\"url(#clip450)\" d=\"M1270.63 1542.97 L1275.51 1542.97 L1275.51 1548.85 L1270.63 1548.85 L1270.63 1542.97 Z\" fill=\"#000000\" fill-rule=\"nonzero\" fill-opacity=\"1\" /><path clip-path=\"url(#clip450)\" d=\"M1295.7 1517.37 Q1292.08 1517.37 1290.26 1520.93 Q1288.45 1524.47 1288.45 1531.6 Q1288.45 1538.71 1290.26 1542.27 Q1292.08 1545.82 1295.7 1545.82 Q1299.33 1545.82 1301.14 1542.27 Q1302.96 1538.71 1302.96 1531.6 Q1302.96 1524.47 1301.14 1520.93 Q1299.33 1517.37 1295.7 1517.37 M1295.7 1513.66 Q1301.51 1513.66 1304.56 1518.27 Q1307.64 1522.85 1307.64 1531.6 Q1307.64 1540.33 1304.56 1544.94 Q1301.51 1549.52 1295.7 1549.52 Q1289.89 1549.52 1286.81 1544.94 Q1283.75 1540.33 1283.75 1531.6 Q1283.75 1522.85 1286.81 1518.27 Q1289.89 1513.66 1295.7 1513.66 Z\" fill=\"#000000\" fill-rule=\"nonzero\" fill-opacity=\"1\" /><path clip-path=\"url(#clip450)\" d=\"M1748.82 1514.29 L1771.04 1514.29 L1771.04 1516.28 L1758.5 1548.85 L1753.61 1548.85 L1765.42 1518.22 L1748.82 1518.22 L1748.82 1514.29 Z\" fill=\"#000000\" fill-rule=\"nonzero\" fill-opacity=\"1\" /><path clip-path=\"url(#clip450)\" d=\"M1780.16 1542.97 L1785.05 1542.97 L1785.05 1548.85 L1780.16 1548.85 L1780.16 1542.97 Z\" fill=\"#000000\" fill-rule=\"nonzero\" fill-opacity=\"1\" /><path clip-path=\"url(#clip450)\" d=\"M1795.28 1514.29 L1813.64 1514.29 L1813.64 1518.22 L1799.56 1518.22 L1799.56 1526.7 Q1800.58 1526.35 1801.6 1526.19 Q1802.62 1526 1803.64 1526 Q1809.42 1526 1812.8 1529.17 Q1816.18 1532.34 1816.18 1537.76 Q1816.18 1543.34 1812.71 1546.44 Q1809.24 1549.52 1802.92 1549.52 Q1800.74 1549.52 1798.47 1549.15 Q1796.23 1548.78 1793.82 1548.04 L1793.82 1543.34 Q1795.9 1544.47 1798.13 1545.03 Q1800.35 1545.58 1802.83 1545.58 Q1806.83 1545.58 1809.17 1543.48 Q1811.51 1541.37 1811.51 1537.76 Q1811.51 1534.15 1809.17 1532.04 Q1806.83 1529.94 1802.83 1529.94 Q1800.95 1529.94 1799.08 1530.35 Q1797.22 1530.77 1795.28 1531.65 L1795.28 1514.29 Z\" fill=\"#000000\" fill-rule=\"nonzero\" fill-opacity=\"1\" /><path clip-path=\"url(#clip450)\" d=\"M2243.73 1544.91 L2251.37 1544.91 L2251.37 1518.55 L2243.06 1520.21 L2243.06 1515.95 L2251.32 1514.29 L2256 1514.29 L2256 1544.91 L2263.64 1544.91 L2263.64 1548.85 L2243.73 1548.85 L2243.73 1544.91 Z\" fill=\"#000000\" fill-rule=\"nonzero\" fill-opacity=\"1\" /><path clip-path=\"url(#clip450)\" d=\"M2283.08 1517.37 Q2279.47 1517.37 2277.64 1520.93 Q2275.84 1524.47 2275.84 1531.6 Q2275.84 1538.71 2277.64 1542.27 Q2279.47 1545.82 2283.08 1545.82 Q2286.72 1545.82 2288.52 1542.27 Q2290.35 1538.71 2290.35 1531.6 Q2290.35 1524.47 2288.52 1520.93 Q2286.72 1517.37 2283.08 1517.37 M2283.08 1513.66 Q2288.89 1513.66 2291.95 1518.27 Q2295.03 1522.85 2295.03 1531.6 Q2295.03 1540.33 2291.95 1544.94 Q2288.89 1549.52 2283.08 1549.52 Q2277.27 1549.52 2274.19 1544.94 Q2271.14 1540.33 2271.14 1531.6 Q2271.14 1522.85 2274.19 1518.27 Q2277.27 1513.66 2283.08 1513.66 Z\" fill=\"#000000\" fill-rule=\"nonzero\" fill-opacity=\"1\" /><path clip-path=\"url(#clip450)\" d=\"M2303.24 1542.97 L2308.13 1542.97 L2308.13 1548.85 L2303.24 1548.85 L2303.24 1542.97 Z\" fill=\"#000000\" fill-rule=\"nonzero\" fill-opacity=\"1\" /><path clip-path=\"url(#clip450)\" d=\"M2328.31 1517.37 Q2324.7 1517.37 2322.87 1520.93 Q2321.07 1524.47 2321.07 1531.6 Q2321.07 1538.71 2322.87 1542.27 Q2324.7 1545.82 2328.31 1545.82 Q2331.95 1545.82 2333.75 1542.27 Q2335.58 1538.71 2335.58 1531.6 Q2335.58 1524.47 2333.75 1520.93 Q2331.95 1517.37 2328.31 1517.37 M2328.31 1513.66 Q2334.12 1513.66 2337.18 1518.27 Q2340.26 1522.85 2340.26 1531.6 Q2340.26 1540.33 2337.18 1544.94 Q2334.12 1549.52 2328.31 1549.52 Q2322.5 1549.52 2319.42 1544.94 Q2316.37 1540.33 2316.37 1531.6 Q2316.37 1522.85 2319.42 1518.27 Q2322.5 1513.66 2328.31 1513.66 Z\" fill=\"#000000\" fill-rule=\"nonzero\" fill-opacity=\"1\" /><polyline clip-path=\"url(#clip452)\" style=\"stroke:#000000; stroke-linecap:round; stroke-linejoin:round; stroke-width:2; stroke-opacity:0.1; fill:none\" points=\"193.936,1484.15 2352.76,1484.15 \"/>\n",
       "<polyline clip-path=\"url(#clip452)\" style=\"stroke:#000000; stroke-linecap:round; stroke-linejoin:round; stroke-width:2; stroke-opacity:0.1; fill:none\" points=\"193.936,1256.03 2352.76,1256.03 \"/>\n",
       "<polyline clip-path=\"url(#clip452)\" style=\"stroke:#000000; stroke-linecap:round; stroke-linejoin:round; stroke-width:2; stroke-opacity:0.1; fill:none\" points=\"193.936,1027.9 2352.76,1027.9 \"/>\n",
       "<polyline clip-path=\"url(#clip452)\" style=\"stroke:#000000; stroke-linecap:round; stroke-linejoin:round; stroke-width:2; stroke-opacity:0.1; fill:none\" points=\"193.936,799.777 2352.76,799.777 \"/>\n",
       "<polyline clip-path=\"url(#clip452)\" style=\"stroke:#000000; stroke-linecap:round; stroke-linejoin:round; stroke-width:2; stroke-opacity:0.1; fill:none\" points=\"193.936,571.652 2352.76,571.652 \"/>\n",
       "<polyline clip-path=\"url(#clip452)\" style=\"stroke:#000000; stroke-linecap:round; stroke-linejoin:round; stroke-width:2; stroke-opacity:0.1; fill:none\" points=\"193.936,343.527 2352.76,343.527 \"/>\n",
       "<polyline clip-path=\"url(#clip452)\" style=\"stroke:#000000; stroke-linecap:round; stroke-linejoin:round; stroke-width:2; stroke-opacity:0.1; fill:none\" points=\"193.936,115.402 2352.76,115.402 \"/>\n",
       "<polyline clip-path=\"url(#clip450)\" style=\"stroke:#000000; stroke-linecap:round; stroke-linejoin:round; stroke-width:4; stroke-opacity:1; fill:none\" points=\"193.936,1486.45 193.936,47.2441 \"/>\n",
       "<polyline clip-path=\"url(#clip450)\" style=\"stroke:#000000; stroke-linecap:round; stroke-linejoin:round; stroke-width:4; stroke-opacity:1; fill:none\" points=\"193.936,1484.15 212.834,1484.15 \"/>\n",
       "<polyline clip-path=\"url(#clip450)\" style=\"stroke:#000000; stroke-linecap:round; stroke-linejoin:round; stroke-width:4; stroke-opacity:1; fill:none\" points=\"193.936,1256.03 212.834,1256.03 \"/>\n",
       "<polyline clip-path=\"url(#clip450)\" style=\"stroke:#000000; stroke-linecap:round; stroke-linejoin:round; stroke-width:4; stroke-opacity:1; fill:none\" points=\"193.936,1027.9 212.834,1027.9 \"/>\n",
       "<polyline clip-path=\"url(#clip450)\" style=\"stroke:#000000; stroke-linecap:round; stroke-linejoin:round; stroke-width:4; stroke-opacity:1; fill:none\" points=\"193.936,799.777 212.834,799.777 \"/>\n",
       "<polyline clip-path=\"url(#clip450)\" style=\"stroke:#000000; stroke-linecap:round; stroke-linejoin:round; stroke-width:4; stroke-opacity:1; fill:none\" points=\"193.936,571.652 212.834,571.652 \"/>\n",
       "<polyline clip-path=\"url(#clip450)\" style=\"stroke:#000000; stroke-linecap:round; stroke-linejoin:round; stroke-width:4; stroke-opacity:1; fill:none\" points=\"193.936,343.527 212.834,343.527 \"/>\n",
       "<polyline clip-path=\"url(#clip450)\" style=\"stroke:#000000; stroke-linecap:round; stroke-linejoin:round; stroke-width:4; stroke-opacity:1; fill:none\" points=\"193.936,115.402 212.834,115.402 \"/>\n",
       "<path clip-path=\"url(#clip450)\" d=\"M51.9875 1484.6 L81.6633 1484.6 L81.6633 1488.54 L51.9875 1488.54 L51.9875 1484.6 Z\" fill=\"#000000\" fill-rule=\"nonzero\" fill-opacity=\"1\" /><path clip-path=\"url(#clip450)\" d=\"M95.7836 1497.5 L112.103 1497.5 L112.103 1501.43 L90.1586 1501.43 L90.1586 1497.5 Q92.8206 1494.74 97.4039 1490.11 Q102.01 1485.46 103.191 1484.12 Q105.436 1481.59 106.316 1479.86 Q107.219 1478.1 107.219 1476.41 Q107.219 1473.65 105.274 1471.92 Q103.353 1470.18 100.251 1470.18 Q98.0521 1470.18 95.5984 1470.95 Q93.1678 1471.71 90.3901 1473.26 L90.3901 1468.54 Q93.2141 1467.4 95.6678 1466.83 Q98.1215 1466.25 100.159 1466.25 Q105.529 1466.25 108.723 1468.93 Q111.918 1471.62 111.918 1476.11 Q111.918 1478.24 111.108 1480.16 Q110.321 1482.06 108.214 1484.65 Q107.635 1485.32 104.534 1488.54 Q101.432 1491.73 95.7836 1497.5 Z\" fill=\"#000000\" fill-rule=\"nonzero\" fill-opacity=\"1\" /><path clip-path=\"url(#clip450)\" d=\"M121.918 1495.55 L126.802 1495.55 L126.802 1501.43 L121.918 1501.43 L121.918 1495.55 Z\" fill=\"#000000\" fill-rule=\"nonzero\" fill-opacity=\"1\" /><path clip-path=\"url(#clip450)\" d=\"M137.033 1466.87 L155.39 1466.87 L155.39 1470.81 L141.316 1470.81 L141.316 1479.28 Q142.334 1478.93 143.353 1478.77 Q144.371 1478.58 145.39 1478.58 Q151.177 1478.58 154.556 1481.76 Q157.936 1484.93 157.936 1490.34 Q157.936 1495.92 154.464 1499.02 Q150.992 1502.1 144.672 1502.1 Q142.496 1502.1 140.228 1501.73 Q137.982 1501.36 135.575 1500.62 L135.575 1495.92 Q137.658 1497.06 139.881 1497.61 Q142.103 1498.17 144.58 1498.17 Q148.584 1498.17 150.922 1496.06 Q153.26 1493.96 153.26 1490.34 Q153.26 1486.73 150.922 1484.63 Q148.584 1482.52 144.58 1482.52 Q142.705 1482.52 140.83 1482.94 Q138.978 1483.35 137.033 1484.23 L137.033 1466.87 Z\" fill=\"#000000\" fill-rule=\"nonzero\" fill-opacity=\"1\" /><path clip-path=\"url(#clip450)\" d=\"M50.9921 1256.48 L80.6679 1256.48 L80.6679 1260.41 L50.9921 1260.41 L50.9921 1256.48 Z\" fill=\"#000000\" fill-rule=\"nonzero\" fill-opacity=\"1\" /><path clip-path=\"url(#clip450)\" d=\"M94.7882 1269.37 L111.108 1269.37 L111.108 1273.31 L89.1632 1273.31 L89.1632 1269.37 Q91.8252 1266.62 96.4085 1261.99 Q101.015 1257.33 102.196 1255.99 Q104.441 1253.47 105.321 1251.73 Q106.223 1249.97 106.223 1248.28 Q106.223 1245.53 104.279 1243.79 Q102.358 1242.06 99.2558 1242.06 Q97.0567 1242.06 94.603 1242.82 Q92.1725 1243.58 89.3947 1245.14 L89.3947 1240.41 Q92.2188 1239.28 94.6724 1238.7 Q97.1261 1238.12 99.1632 1238.12 Q104.534 1238.12 107.728 1240.81 Q110.922 1243.49 110.922 1247.98 Q110.922 1250.11 110.112 1252.03 Q109.325 1253.93 107.219 1256.52 Q106.64 1257.2 103.538 1260.41 Q100.436 1263.61 94.7882 1269.37 Z\" fill=\"#000000\" fill-rule=\"nonzero\" fill-opacity=\"1\" /><path clip-path=\"url(#clip450)\" d=\"M120.922 1267.43 L125.807 1267.43 L125.807 1273.31 L120.922 1273.31 L120.922 1267.43 Z\" fill=\"#000000\" fill-rule=\"nonzero\" fill-opacity=\"1\" /><path clip-path=\"url(#clip450)\" d=\"M145.992 1241.83 Q142.381 1241.83 140.552 1245.39 Q138.746 1248.93 138.746 1256.06 Q138.746 1263.17 140.552 1266.73 Q142.381 1270.27 145.992 1270.27 Q149.626 1270.27 151.431 1266.73 Q153.26 1263.17 153.26 1256.06 Q153.26 1248.93 151.431 1245.39 Q149.626 1241.83 145.992 1241.83 M145.992 1238.12 Q151.802 1238.12 154.857 1242.73 Q157.936 1247.31 157.936 1256.06 Q157.936 1264.79 154.857 1269.4 Q151.802 1273.98 145.992 1273.98 Q140.181 1273.98 137.103 1269.4 Q134.047 1264.79 134.047 1256.06 Q134.047 1247.31 137.103 1242.73 Q140.181 1238.12 145.992 1238.12 Z\" fill=\"#000000\" fill-rule=\"nonzero\" fill-opacity=\"1\" /><path clip-path=\"url(#clip450)\" d=\"M51.9875 1028.35 L81.6633 1028.35 L81.6633 1032.29 L51.9875 1032.29 L51.9875 1028.35 Z\" fill=\"#000000\" fill-rule=\"nonzero\" fill-opacity=\"1\" /><path clip-path=\"url(#clip450)\" d=\"M92.566 1041.25 L100.205 1041.25 L100.205 1014.88 L91.8947 1016.55 L91.8947 1012.29 L100.159 1010.62 L104.834 1010.62 L104.834 1041.25 L112.473 1041.25 L112.473 1045.18 L92.566 1045.18 L92.566 1041.25 Z\" fill=\"#000000\" fill-rule=\"nonzero\" fill-opacity=\"1\" /><path clip-path=\"url(#clip450)\" d=\"M121.918 1039.3 L126.802 1039.3 L126.802 1045.18 L121.918 1045.18 L121.918 1039.3 Z\" fill=\"#000000\" fill-rule=\"nonzero\" fill-opacity=\"1\" /><path clip-path=\"url(#clip450)\" d=\"M137.033 1010.62 L155.39 1010.62 L155.39 1014.56 L141.316 1014.56 L141.316 1023.03 Q142.334 1022.68 143.353 1022.52 Q144.371 1022.33 145.39 1022.33 Q151.177 1022.33 154.556 1025.51 Q157.936 1028.68 157.936 1034.09 Q157.936 1039.67 154.464 1042.77 Q150.992 1045.85 144.672 1045.85 Q142.496 1045.85 140.228 1045.48 Q137.982 1045.11 135.575 1044.37 L135.575 1039.67 Q137.658 1040.81 139.881 1041.36 Q142.103 1041.92 144.58 1041.92 Q148.584 1041.92 150.922 1039.81 Q153.26 1037.71 153.26 1034.09 Q153.26 1030.48 150.922 1028.38 Q148.584 1026.27 144.58 1026.27 Q142.705 1026.27 140.83 1026.69 Q138.978 1027.1 137.033 1027.98 L137.033 1010.62 Z\" fill=\"#000000\" fill-rule=\"nonzero\" fill-opacity=\"1\" /><path clip-path=\"url(#clip450)\" d=\"M50.9921 800.228 L80.6679 800.228 L80.6679 804.164 L50.9921 804.164 L50.9921 800.228 Z\" fill=\"#000000\" fill-rule=\"nonzero\" fill-opacity=\"1\" /><path clip-path=\"url(#clip450)\" d=\"M91.5706 813.122 L99.2095 813.122 L99.2095 786.756 L90.8993 788.423 L90.8993 784.164 L99.1632 782.497 L103.839 782.497 L103.839 813.122 L111.478 813.122 L111.478 817.057 L91.5706 817.057 L91.5706 813.122 Z\" fill=\"#000000\" fill-rule=\"nonzero\" fill-opacity=\"1\" /><path clip-path=\"url(#clip450)\" d=\"M120.922 811.177 L125.807 811.177 L125.807 817.057 L120.922 817.057 L120.922 811.177 Z\" fill=\"#000000\" fill-rule=\"nonzero\" fill-opacity=\"1\" /><path clip-path=\"url(#clip450)\" d=\"M145.992 785.576 Q142.381 785.576 140.552 789.14 Q138.746 792.682 138.746 799.812 Q138.746 806.918 140.552 810.483 Q142.381 814.025 145.992 814.025 Q149.626 814.025 151.431 810.483 Q153.26 806.918 153.26 799.812 Q153.26 792.682 151.431 789.14 Q149.626 785.576 145.992 785.576 M145.992 781.872 Q151.802 781.872 154.857 786.478 Q157.936 791.062 157.936 799.812 Q157.936 808.539 154.857 813.145 Q151.802 817.728 145.992 817.728 Q140.181 817.728 137.103 813.145 Q134.047 808.539 134.047 799.812 Q134.047 791.062 137.103 786.478 Q140.181 781.872 145.992 781.872 Z\" fill=\"#000000\" fill-rule=\"nonzero\" fill-opacity=\"1\" /><path clip-path=\"url(#clip450)\" d=\"M51.9875 572.103 L81.6633 572.103 L81.6633 576.039 L51.9875 576.039 L51.9875 572.103 Z\" fill=\"#000000\" fill-rule=\"nonzero\" fill-opacity=\"1\" /><path clip-path=\"url(#clip450)\" d=\"M101.756 557.451 Q98.1447 557.451 96.316 561.015 Q94.5104 564.557 94.5104 571.687 Q94.5104 578.793 96.316 582.358 Q98.1447 585.9 101.756 585.9 Q105.39 585.9 107.196 582.358 Q109.024 578.793 109.024 571.687 Q109.024 564.557 107.196 561.015 Q105.39 557.451 101.756 557.451 M101.756 553.747 Q107.566 553.747 110.621 558.353 Q113.7 562.937 113.7 571.687 Q113.7 580.413 110.621 585.02 Q107.566 589.603 101.756 589.603 Q95.9456 589.603 92.8669 585.02 Q89.8114 580.413 89.8114 571.687 Q89.8114 562.937 92.8669 558.353 Q95.9456 553.747 101.756 553.747 Z\" fill=\"#000000\" fill-rule=\"nonzero\" fill-opacity=\"1\" /><path clip-path=\"url(#clip450)\" d=\"M121.918 583.052 L126.802 583.052 L126.802 588.932 L121.918 588.932 L121.918 583.052 Z\" fill=\"#000000\" fill-rule=\"nonzero\" fill-opacity=\"1\" /><path clip-path=\"url(#clip450)\" d=\"M137.033 554.372 L155.39 554.372 L155.39 558.307 L141.316 558.307 L141.316 566.779 Q142.334 566.432 143.353 566.27 Q144.371 566.085 145.39 566.085 Q151.177 566.085 154.556 569.256 Q157.936 572.427 157.936 577.844 Q157.936 583.423 154.464 586.525 Q150.992 589.603 144.672 589.603 Q142.496 589.603 140.228 589.233 Q137.982 588.863 135.575 588.122 L135.575 583.423 Q137.658 584.557 139.881 585.113 Q142.103 585.668 144.58 585.668 Q148.584 585.668 150.922 583.562 Q153.26 581.455 153.26 577.844 Q153.26 574.233 150.922 572.126 Q148.584 570.02 144.58 570.02 Q142.705 570.02 140.83 570.437 Q138.978 570.853 137.033 571.733 L137.033 554.372 Z\" fill=\"#000000\" fill-rule=\"nonzero\" fill-opacity=\"1\" /><path clip-path=\"url(#clip450)\" d=\"M100.76 329.326 Q97.1493 329.326 95.3206 332.89 Q93.515 336.432 93.515 343.562 Q93.515 350.668 95.3206 354.233 Q97.1493 357.775 100.76 357.775 Q104.395 357.775 106.2 354.233 Q108.029 350.668 108.029 343.562 Q108.029 336.432 106.2 332.89 Q104.395 329.326 100.76 329.326 M100.76 325.622 Q106.571 325.622 109.626 330.228 Q112.705 334.812 112.705 343.562 Q112.705 352.288 109.626 356.895 Q106.571 361.478 100.76 361.478 Q94.9502 361.478 91.8715 356.895 Q88.816 352.288 88.816 343.562 Q88.816 334.812 91.8715 330.228 Q94.9502 325.622 100.76 325.622 Z\" fill=\"#000000\" fill-rule=\"nonzero\" fill-opacity=\"1\" /><path clip-path=\"url(#clip450)\" d=\"M120.922 354.927 L125.807 354.927 L125.807 360.807 L120.922 360.807 L120.922 354.927 Z\" fill=\"#000000\" fill-rule=\"nonzero\" fill-opacity=\"1\" /><path clip-path=\"url(#clip450)\" d=\"M145.992 329.326 Q142.381 329.326 140.552 332.89 Q138.746 336.432 138.746 343.562 Q138.746 350.668 140.552 354.233 Q142.381 357.775 145.992 357.775 Q149.626 357.775 151.431 354.233 Q153.26 350.668 153.26 343.562 Q153.26 336.432 151.431 332.89 Q149.626 329.326 145.992 329.326 M145.992 325.622 Q151.802 325.622 154.857 330.228 Q157.936 334.812 157.936 343.562 Q157.936 352.288 154.857 356.895 Q151.802 361.478 145.992 361.478 Q140.181 361.478 137.103 356.895 Q134.047 352.288 134.047 343.562 Q134.047 334.812 137.103 330.228 Q140.181 325.622 145.992 325.622 Z\" fill=\"#000000\" fill-rule=\"nonzero\" fill-opacity=\"1\" /><path clip-path=\"url(#clip450)\" d=\"M101.756 101.201 Q98.1447 101.201 96.316 104.765 Q94.5104 108.307 94.5104 115.437 Q94.5104 122.543 96.316 126.108 Q98.1447 129.65 101.756 129.65 Q105.39 129.65 107.196 126.108 Q109.024 122.543 109.024 115.437 Q109.024 108.307 107.196 104.765 Q105.39 101.201 101.756 101.201 M101.756 97.4969 Q107.566 97.4969 110.621 102.103 Q113.7 106.687 113.7 115.437 Q113.7 124.163 110.621 128.77 Q107.566 133.353 101.756 133.353 Q95.9456 133.353 92.8669 128.77 Q89.8114 124.163 89.8114 115.437 Q89.8114 106.687 92.8669 102.103 Q95.9456 97.4969 101.756 97.4969 Z\" fill=\"#000000\" fill-rule=\"nonzero\" fill-opacity=\"1\" /><path clip-path=\"url(#clip450)\" d=\"M121.918 126.802 L126.802 126.802 L126.802 132.682 L121.918 132.682 L121.918 126.802 Z\" fill=\"#000000\" fill-rule=\"nonzero\" fill-opacity=\"1\" /><path clip-path=\"url(#clip450)\" d=\"M137.033 98.1219 L155.39 98.1219 L155.39 102.057 L141.316 102.057 L141.316 110.529 Q142.334 110.182 143.353 110.02 Q144.371 109.835 145.39 109.835 Q151.177 109.835 154.556 113.006 Q157.936 116.177 157.936 121.594 Q157.936 127.173 154.464 130.275 Q150.992 133.353 144.672 133.353 Q142.496 133.353 140.228 132.983 Q137.982 132.612 135.575 131.872 L135.575 127.173 Q137.658 128.307 139.881 128.862 Q142.103 129.418 144.58 129.418 Q148.584 129.418 150.922 127.312 Q153.26 125.205 153.26 121.594 Q153.26 117.983 150.922 115.876 Q148.584 113.77 144.58 113.77 Q142.705 113.77 140.83 114.187 Q138.978 114.603 137.033 115.483 L137.033 98.1219 Z\" fill=\"#000000\" fill-rule=\"nonzero\" fill-opacity=\"1\" /><polyline clip-path=\"url(#clip452)\" style=\"stroke:#009af9; stroke-linecap:round; stroke-linejoin:round; stroke-width:4; stroke-opacity:1; fill:none\" points=\"255.035,1060.2 265.218,1058.99 275.401,1055.58 285.584,1050.34 295.767,1043.63 305.95,1035.75 316.133,1026.98 326.316,1017.59 336.5,1007.77 346.683,997.731 356.866,987.637 367.049,977.634 377.232,967.854 387.415,958.412 397.598,949.413 407.781,940.955 417.964,933.129 428.148,926.017 438.331,919.698 448.514,914.243 458.697,909.715 468.88,906.171 479.063,903.656 489.246,902.203 499.429,901.835 509.612,902.562 519.796,904.379 529.979,907.269 540.162,911.199 550.345,916.124 560.528,921.984 570.711,928.707 580.894,936.208 591.077,944.387 601.261,953.137 611.444,962.336 621.627,971.854 631.81,981.55 641.993,991.278 652.176,1000.89 662.359,1010.22 672.542,1019.13 682.725,1027.46 692.909,1035.09 703.092,1041.89 713.275,1047.76 723.458,1052.63 733.641,1056.44 743.824,1059.17 754.007,1060.8 764.19,1061.35 774.373,1060.86 784.557,1059.37 794.74,1056.93 804.923,1053.62 815.106,1049.52 825.289,1044.69 835.472,1039.22 845.655,1033.2 855.838,1026.7 866.021,1019.81 876.205,1012.6 886.388,1005.14 896.571,997.518 906.754,989.779 916.937,981.982 927.12,974.172 937.303,966.38 947.486,958.63 957.669,950.93 967.853,943.283 978.036,935.681 988.219,928.116 998.402,920.582 1008.59,913.085 1018.77,905.648 1028.95,898.322 1039.13,891.187 1049.32,884.362 1059.5,877.997 1069.68,872.271 1079.87,867.383 1090.05,863.54 1100.23,860.941 1110.42,859.767 1120.6,860.169 1130.78,862.259 1140.97,866.107 1151.15,871.733 1161.33,879.113 1171.51,888.18 1181.7,898.825 1191.88,910.908 1202.06,924.26 1212.25,938.694 1222.43,954.006 1232.61,969.983 1242.8,986.407 1252.98,1003.06 1263.16,1019.71 1273.35,1036.12 1283.53,1052.07 1293.71,1067.31 1303.9,1081.59 1314.08,1094.66 1324.26,1106.28 1334.44,1116.22 1344.63,1124.29 1354.81,1130.35 1364.99,1134.31 1375.18,1136.16 1385.36,1135.93 1395.54,1133.71 1405.73,1129.66 1415.91,1123.92 1426.09,1116.68 1436.28,1108.13 1446.46,1098.45 1456.64,1087.8 1466.83,1076.35 1477.01,1064.24 1487.19,1051.6 1497.37,1038.55 1507.56,1025.22 1517.74,1011.72 1527.92,998.159 1538.11,984.631 1548.29,971.232 1558.47,958.035 1568.66,945.089 1578.84,932.414 1589.02,919.984 1599.21,907.727 1609.39,895.514 1619.57,883.164 1629.75,870.453 1639.94,857.139 1650.12,843.009 1660.3,827.951 1670.49,812.033 1680.67,795.574 1690.85,779.181 1701.04,763.7 1711.22,750.129 1721.4,739.489 1731.59,732.72 1741.77,730.598 1751.95,733.688 1762.14,742.312 1772.32,756.543 1782.5,776.214 1792.68,800.958 1802.87,830.249 1813.05,863.452 1823.23,899.868 1833.42,938.763 1843.6,979.379 1853.78,1020.95 1863.97,1062.74 1874.15,1104 1884.33,1144.08 1894.52,1182.41 1904.7,1218.52 1914.88,1252.08 1925.07,1282.85 1935.25,1310.69 1945.43,1335.47 1955.61,1357.12 1965.8,1375.47 1975.98,1390.37 1986.16,1401.55 1996.35,1408.76 2006.53,1411.76 2016.71,1410.36 2026.9,1404.51 2037.08,1394.28 2047.26,1379.86 2057.45,1361.49 2067.63,1339.37 2077.81,1313.65 2087.99,1284.32 2098.18,1251.3 2108.36,1214.43 2118.54,1173.61 2128.73,1128.84 2138.91,1080.27 2149.09,1028.25 2159.28,973.332 2169.46,916.174 2179.64,857.588 2189.83,798.502 2200.01,739.977 2210.19,683.212 2220.38,629.512 2230.56,580.207 2240.74,536.548 2250.92,499.619 2261.11,470.316 2271.29,449.391 2281.47,437.53 2291.66,435.453 \"/>\n",
       "<polyline clip-path=\"url(#clip452)\" style=\"stroke:#e26f46; stroke-linecap:round; stroke-linejoin:round; stroke-width:4; stroke-opacity:1; fill:none\" points=\"255.035,343.527 265.218,346.37 275.401,354.386 285.584,366.753 295.767,382.724 305.95,401.627 316.133,422.867 326.316,445.923 336.5,470.34 346.683,495.726 356.866,521.743 367.049,548.095 377.232,574.524 387.415,600.795 397.598,626.693 407.781,652.012 417.964,676.552 428.148,700.118 438.331,722.513 448.514,743.545 458.697,763.022 468.88,780.757 479.063,796.57 489.246,810.292 499.429,821.764 509.612,830.846 519.796,837.416 529.979,841.377 540.162,842.657 550.345,841.211 560.528,837.031 570.711,830.139 580.894,820.597 591.077,808.503 601.261,793.996 611.444,777.255 621.627,758.495 631.81,737.97 641.993,715.965 652.176,692.792 662.359,668.782 672.542,644.277 682.725,619.614 692.909,595.124 703.092,571.11 713.275,547.847 723.458,525.572 733.641,504.482 743.824,484.731 754.007,466.436 764.19,449.679 774.373,434.517 784.557,420.981 794.74,409.089 804.923,398.848 815.106,390.258 825.289,383.313 835.472,378.009 845.655,374.338 855.838,372.293 866.021,371.869 876.205,373.06 886.388,375.862 896.571,380.279 906.754,386.315 916.937,393.985 927.12,403.315 937.303,414.341 947.486,427.114 957.669,441.697 967.853,458.162 978.036,476.584 988.219,497.033 998.402,519.563 1008.59,544.19 1018.77,570.883 1028.95,599.541 1039.13,629.982 1049.32,661.937 1059.5,695.042 1069.68,728.855 1079.87,762.865 1090.05,796.512 1100.23,829.216 1110.42,860.392 1120.6,889.472 1130.78,915.922 1140.97,939.252 1151.15,959.028 1161.33,974.875 1171.51,986.485 1181.7,993.62 1191.88,996.115 1202.06,993.879 1212.25,986.897 1222.43,975.232 1232.61,959.024 1242.8,938.487 1252.98,913.913 1263.16,885.669 1273.35,854.192 1283.53,819.989 1293.71,783.625 1303.9,745.716 1314.08,706.903 1324.26,667.834 1334.44,629.123 1344.63,591.325 1354.81,554.898 1364.99,520.189 1375.18,487.422 1385.36,456.707 1395.54,428.059 1405.73,401.426 1415.91,376.719 1426.09,353.842 1436.28,332.712 1446.46,313.282 1456.64,295.545 1466.83,279.539 1477.01,265.339 1487.19,253.057 1497.37,242.822 1507.56,234.774 1517.74,229.056 1527.92,225.804 1538.11,225.151 1548.29,227.226 1558.47,232.166 1568.66,240.128 1578.84,251.31 1589.02,265.967 1599.21,284.43 1609.39,307.125 1619.57,334.572 1629.75,367.369 1639.94,406.146 1650.12,451.474 1660.3,503.731 1670.49,562.938 1680.67,628.619 1690.85,699.748 1701.04,774.83 1711.22,852.091 1721.4,929.696 1731.59,1005.92 1741.77,1079.21 1751.95,1148.26 1762.14,1211.92 1772.32,1269.24 1782.5,1319.42 1792.68,1361.82 1802.87,1395.93 1813.05,1421.4 1823.23,1438.02 1833.42,1445.72 1843.6,1444.54 1853.78,1434.68 1863.97,1416.43 1874.15,1390.2 1884.33,1356.5 1894.52,1315.95 1904.7,1269.2 1914.88,1216.98 1925.07,1160.06 1935.25,1099.22 1945.43,1035.27 1955.61,969.061 1965.8,901.464 1975.98,833.401 1986.16,765.8 1996.35,699.544 2006.53,635.389 2016.71,573.869 2026.9,515.235 2037.08,459.456 2047.26,406.303 2057.45,355.502 2067.63,306.921 2077.81,260.728 2087.99,217.498 2098.18,178.213 2108.36,144.178 2118.54,116.859 2128.73,97.7043 2138.91,87.9763 2149.09,88.6141 2159.28,100.137 2169.46,122.572 2179.64,155.396 2189.83,197.484 2200.01,247.087 2210.19,301.876 2220.38,359.095 2230.56,415.839 2240.74,469.366 2250.92,517.318 2261.11,557.769 2271.29,589.099 2281.47,609.77 2291.66,618.043 \"/>\n",
       "<path clip-path=\"url(#clip450)\" d=\"M265.897 1438.47 L534.209 1438.47 L534.209 1282.95 L265.897 1282.95  Z\" fill=\"#ffffff\" fill-rule=\"evenodd\" fill-opacity=\"1\"/>\n",
       "<polyline clip-path=\"url(#clip450)\" style=\"stroke:#000000; stroke-linecap:round; stroke-linejoin:round; stroke-width:4; stroke-opacity:1; fill:none\" points=\"265.897,1438.47 534.209,1438.47 534.209,1282.95 265.897,1282.95 265.897,1438.47 \"/>\n",
       "<polyline clip-path=\"url(#clip450)\" style=\"stroke:#009af9; stroke-linecap:round; stroke-linejoin:round; stroke-width:4; stroke-opacity:1; fill:none\" points=\"289.884,1334.79 433.805,1334.79 \"/>\n",
       "<path clip-path=\"url(#clip450)\" d=\"M471.634 1354.48 Q469.829 1359.11 468.116 1360.52 Q466.403 1361.94 463.532 1361.94 L460.13 1361.94 L460.13 1358.37 L462.63 1358.37 Q464.389 1358.37 465.361 1357.54 Q466.333 1356.7 467.514 1353.6 L468.278 1351.66 L457.792 1326.15 L462.306 1326.15 L470.407 1346.43 L478.509 1326.15 L483.023 1326.15 L471.634 1354.48 Z\" fill=\"#000000\" fill-rule=\"nonzero\" fill-opacity=\"1\" /><path clip-path=\"url(#clip450)\" d=\"M490.315 1348.14 L497.954 1348.14 L497.954 1321.77 L489.643 1323.44 L489.643 1319.18 L497.907 1317.51 L502.583 1317.51 L502.583 1348.14 L510.222 1348.14 L510.222 1352.07 L490.315 1352.07 L490.315 1348.14 Z\" fill=\"#000000\" fill-rule=\"nonzero\" fill-opacity=\"1\" /><polyline clip-path=\"url(#clip450)\" style=\"stroke:#e26f46; stroke-linecap:round; stroke-linejoin:round; stroke-width:4; stroke-opacity:1; fill:none\" points=\"289.884,1386.63 433.805,1386.63 \"/>\n",
       "<path clip-path=\"url(#clip450)\" d=\"M471.634 1406.32 Q469.829 1410.95 468.116 1412.36 Q466.403 1413.78 463.532 1413.78 L460.13 1413.78 L460.13 1410.21 L462.63 1410.21 Q464.389 1410.21 465.361 1409.38 Q466.333 1408.54 467.514 1405.44 L468.278 1403.5 L457.792 1377.99 L462.306 1377.99 L470.407 1398.27 L478.509 1377.99 L483.023 1377.99 L471.634 1406.32 Z\" fill=\"#000000\" fill-rule=\"nonzero\" fill-opacity=\"1\" /><path clip-path=\"url(#clip450)\" d=\"M493.532 1399.98 L509.852 1399.98 L509.852 1403.91 L487.907 1403.91 L487.907 1399.98 Q490.569 1397.22 495.153 1392.6 Q499.759 1387.94 500.94 1386.6 Q503.185 1384.08 504.065 1382.34 Q504.967 1380.58 504.967 1378.89 Q504.967 1376.14 503.023 1374.4 Q501.102 1372.66 498 1372.66 Q495.801 1372.66 493.347 1373.43 Q490.917 1374.19 488.139 1375.74 L488.139 1371.02 Q490.963 1369.89 493.417 1369.31 Q495.87 1368.73 497.907 1368.73 Q503.278 1368.73 506.472 1371.41 Q509.666 1374.1 509.666 1378.59 Q509.666 1380.72 508.856 1382.64 Q508.069 1384.54 505.963 1387.13 Q505.384 1387.8 502.282 1391.02 Q499.18 1394.22 493.532 1399.98 Z\" fill=\"#000000\" fill-rule=\"nonzero\" fill-opacity=\"1\" /></svg>\n"
      ]
     },
     "execution_count": 39,
     "metadata": {},
     "output_type": "execute_result"
    }
   ],
   "source": [
    "plot(thist,xtraj[1,:])\n",
    "plot!(thist,xtraj[2,:])"
   ]
  },
  {
   "cell_type": "code",
   "execution_count": 40,
   "id": "98c9e639-ce1b-438f-b5ca-ca80e7fda66a",
   "metadata": {},
   "outputs": [
    {
     "data": {
      "image/svg+xml": [
       "<?xml version=\"1.0\" encoding=\"utf-8\"?>\n",
       "<svg xmlns=\"http://www.w3.org/2000/svg\" xmlns:xlink=\"http://www.w3.org/1999/xlink\" width=\"600\" height=\"400\" viewBox=\"0 0 2400 1600\">\n",
       "<defs>\n",
       "  <clipPath id=\"clip490\">\n",
       "    <rect x=\"0\" y=\"0\" width=\"2400\" height=\"1600\"/>\n",
       "  </clipPath>\n",
       "</defs>\n",
       "<path clip-path=\"url(#clip490)\" d=\"M0 1600 L2400 1600 L2400 0 L0 0  Z\" fill=\"#ffffff\" fill-rule=\"evenodd\" fill-opacity=\"1\"/>\n",
       "<defs>\n",
       "  <clipPath id=\"clip491\">\n",
       "    <rect x=\"480\" y=\"0\" width=\"1681\" height=\"1600\"/>\n",
       "  </clipPath>\n",
       "</defs>\n",
       "<path clip-path=\"url(#clip490)\" d=\"M178.867 1486.45 L2352.76 1486.45 L2352.76 47.2441 L178.867 47.2441  Z\" fill=\"#ffffff\" fill-rule=\"evenodd\" fill-opacity=\"1\"/>\n",
       "<defs>\n",
       "  <clipPath id=\"clip492\">\n",
       "    <rect x=\"178\" y=\"47\" width=\"2175\" height=\"1440\"/>\n",
       "  </clipPath>\n",
       "</defs>\n",
       "<polyline clip-path=\"url(#clip492)\" style=\"stroke:#000000; stroke-linecap:round; stroke-linejoin:round; stroke-width:2; stroke-opacity:0.1; fill:none\" points=\"240.392,1486.45 240.392,47.2441 \"/>\n",
       "<polyline clip-path=\"url(#clip492)\" style=\"stroke:#000000; stroke-linecap:round; stroke-linejoin:round; stroke-width:2; stroke-opacity:0.1; fill:none\" points=\"755.678,1486.45 755.678,47.2441 \"/>\n",
       "<polyline clip-path=\"url(#clip492)\" style=\"stroke:#000000; stroke-linecap:round; stroke-linejoin:round; stroke-width:2; stroke-opacity:0.1; fill:none\" points=\"1270.96,1486.45 1270.96,47.2441 \"/>\n",
       "<polyline clip-path=\"url(#clip492)\" style=\"stroke:#000000; stroke-linecap:round; stroke-linejoin:round; stroke-width:2; stroke-opacity:0.1; fill:none\" points=\"1786.25,1486.45 1786.25,47.2441 \"/>\n",
       "<polyline clip-path=\"url(#clip492)\" style=\"stroke:#000000; stroke-linecap:round; stroke-linejoin:round; stroke-width:2; stroke-opacity:0.1; fill:none\" points=\"2301.54,1486.45 2301.54,47.2441 \"/>\n",
       "<polyline clip-path=\"url(#clip490)\" style=\"stroke:#000000; stroke-linecap:round; stroke-linejoin:round; stroke-width:4; stroke-opacity:1; fill:none\" points=\"178.867,1486.45 2352.76,1486.45 \"/>\n",
       "<polyline clip-path=\"url(#clip490)\" style=\"stroke:#000000; stroke-linecap:round; stroke-linejoin:round; stroke-width:4; stroke-opacity:1; fill:none\" points=\"240.392,1486.45 240.392,1467.55 \"/>\n",
       "<polyline clip-path=\"url(#clip490)\" style=\"stroke:#000000; stroke-linecap:round; stroke-linejoin:round; stroke-width:4; stroke-opacity:1; fill:none\" points=\"755.678,1486.45 755.678,1467.55 \"/>\n",
       "<polyline clip-path=\"url(#clip490)\" style=\"stroke:#000000; stroke-linecap:round; stroke-linejoin:round; stroke-width:4; stroke-opacity:1; fill:none\" points=\"1270.96,1486.45 1270.96,1467.55 \"/>\n",
       "<polyline clip-path=\"url(#clip490)\" style=\"stroke:#000000; stroke-linecap:round; stroke-linejoin:round; stroke-width:4; stroke-opacity:1; fill:none\" points=\"1786.25,1486.45 1786.25,1467.55 \"/>\n",
       "<polyline clip-path=\"url(#clip490)\" style=\"stroke:#000000; stroke-linecap:round; stroke-linejoin:round; stroke-width:4; stroke-opacity:1; fill:none\" points=\"2301.54,1486.45 2301.54,1467.55 \"/>\n",
       "<path clip-path=\"url(#clip490)\" d=\"M217.776 1517.37 Q214.165 1517.37 212.336 1520.93 Q210.531 1524.47 210.531 1531.6 Q210.531 1538.71 212.336 1542.27 Q214.165 1545.82 217.776 1545.82 Q221.41 1545.82 223.216 1542.27 Q225.045 1538.71 225.045 1531.6 Q225.045 1524.47 223.216 1520.93 Q221.41 1517.37 217.776 1517.37 M217.776 1513.66 Q223.586 1513.66 226.642 1518.27 Q229.721 1522.85 229.721 1531.6 Q229.721 1540.33 226.642 1544.94 Q223.586 1549.52 217.776 1549.52 Q211.966 1549.52 208.887 1544.94 Q205.832 1540.33 205.832 1531.6 Q205.832 1522.85 208.887 1518.27 Q211.966 1513.66 217.776 1513.66 Z\" fill=\"#000000\" fill-rule=\"nonzero\" fill-opacity=\"1\" /><path clip-path=\"url(#clip490)\" d=\"M237.938 1542.97 L242.822 1542.97 L242.822 1548.85 L237.938 1548.85 L237.938 1542.97 Z\" fill=\"#000000\" fill-rule=\"nonzero\" fill-opacity=\"1\" /><path clip-path=\"url(#clip490)\" d=\"M263.007 1517.37 Q259.396 1517.37 257.568 1520.93 Q255.762 1524.47 255.762 1531.6 Q255.762 1538.71 257.568 1542.27 Q259.396 1545.82 263.007 1545.82 Q266.642 1545.82 268.447 1542.27 Q270.276 1538.71 270.276 1531.6 Q270.276 1524.47 268.447 1520.93 Q266.642 1517.37 263.007 1517.37 M263.007 1513.66 Q268.818 1513.66 271.873 1518.27 Q274.952 1522.85 274.952 1531.6 Q274.952 1540.33 271.873 1544.94 Q268.818 1549.52 263.007 1549.52 Q257.197 1549.52 254.119 1544.94 Q251.063 1540.33 251.063 1531.6 Q251.063 1522.85 254.119 1518.27 Q257.197 1513.66 263.007 1513.66 Z\" fill=\"#000000\" fill-rule=\"nonzero\" fill-opacity=\"1\" /><path clip-path=\"url(#clip490)\" d=\"M727.414 1544.91 L743.734 1544.91 L743.734 1548.85 L721.789 1548.85 L721.789 1544.91 Q724.451 1542.16 729.035 1537.53 Q733.641 1532.88 734.822 1531.53 Q737.067 1529.01 737.947 1527.27 Q738.849 1525.51 738.849 1523.82 Q738.849 1521.07 736.905 1519.33 Q734.984 1517.6 731.882 1517.6 Q729.683 1517.6 727.229 1518.36 Q724.799 1519.13 722.021 1520.68 L722.021 1515.95 Q724.845 1514.82 727.298 1514.24 Q729.752 1513.66 731.789 1513.66 Q737.16 1513.66 740.354 1516.35 Q743.548 1519.03 743.548 1523.52 Q743.548 1525.65 742.738 1527.57 Q741.951 1529.47 739.845 1532.07 Q739.266 1532.74 736.164 1535.95 Q733.062 1539.15 727.414 1544.91 Z\" fill=\"#000000\" fill-rule=\"nonzero\" fill-opacity=\"1\" /><path clip-path=\"url(#clip490)\" d=\"M753.548 1542.97 L758.433 1542.97 L758.433 1548.85 L753.548 1548.85 L753.548 1542.97 Z\" fill=\"#000000\" fill-rule=\"nonzero\" fill-opacity=\"1\" /><path clip-path=\"url(#clip490)\" d=\"M768.664 1514.29 L787.02 1514.29 L787.02 1518.22 L772.946 1518.22 L772.946 1526.7 Q773.965 1526.35 774.983 1526.19 Q776.002 1526 777.02 1526 Q782.807 1526 786.187 1529.17 Q789.567 1532.34 789.567 1537.76 Q789.567 1543.34 786.094 1546.44 Q782.622 1549.52 776.303 1549.52 Q774.127 1549.52 771.858 1549.15 Q769.613 1548.78 767.206 1548.04 L767.206 1543.34 Q769.289 1544.47 771.511 1545.03 Q773.733 1545.58 776.21 1545.58 Q780.215 1545.58 782.553 1543.48 Q784.891 1541.37 784.891 1537.76 Q784.891 1534.15 782.553 1532.04 Q780.215 1529.94 776.21 1529.94 Q774.335 1529.94 772.46 1530.35 Q770.608 1530.77 768.664 1531.65 L768.664 1514.29 Z\" fill=\"#000000\" fill-rule=\"nonzero\" fill-opacity=\"1\" /><path clip-path=\"url(#clip490)\" d=\"M1238.13 1514.29 L1256.49 1514.29 L1256.49 1518.22 L1242.41 1518.22 L1242.41 1526.7 Q1243.43 1526.35 1244.45 1526.19 Q1245.47 1526 1246.49 1526 Q1252.27 1526 1255.65 1529.17 Q1259.03 1532.34 1259.03 1537.76 Q1259.03 1543.34 1255.56 1546.44 Q1252.09 1549.52 1245.77 1549.52 Q1243.59 1549.52 1241.32 1549.15 Q1239.08 1548.78 1236.67 1548.04 L1236.67 1543.34 Q1238.75 1544.47 1240.98 1545.03 Q1243.2 1545.58 1245.67 1545.58 Q1249.68 1545.58 1252.02 1543.48 Q1254.36 1541.37 1254.36 1537.76 Q1254.36 1534.15 1252.02 1532.04 Q1249.68 1529.94 1245.67 1529.94 Q1243.8 1529.94 1241.92 1530.35 Q1240.07 1530.77 1238.13 1531.65 L1238.13 1514.29 Z\" fill=\"#000000\" fill-rule=\"nonzero\" fill-opacity=\"1\" /><path clip-path=\"url(#clip490)\" d=\"M1268.24 1542.97 L1273.13 1542.97 L1273.13 1548.85 L1268.24 1548.85 L1268.24 1542.97 Z\" fill=\"#000000\" fill-rule=\"nonzero\" fill-opacity=\"1\" /><path clip-path=\"url(#clip490)\" d=\"M1293.31 1517.37 Q1289.7 1517.37 1287.87 1520.93 Q1286.07 1524.47 1286.07 1531.6 Q1286.07 1538.71 1287.87 1542.27 Q1289.7 1545.82 1293.31 1545.82 Q1296.95 1545.82 1298.75 1542.27 Q1300.58 1538.71 1300.58 1531.6 Q1300.58 1524.47 1298.75 1520.93 Q1296.95 1517.37 1293.31 1517.37 M1293.31 1513.66 Q1299.12 1513.66 1302.18 1518.27 Q1305.26 1522.85 1305.26 1531.6 Q1305.26 1540.33 1302.18 1544.94 Q1299.12 1549.52 1293.31 1549.52 Q1287.5 1549.52 1284.42 1544.94 Q1281.37 1540.33 1281.37 1531.6 Q1281.37 1522.85 1284.42 1518.27 Q1287.5 1513.66 1293.31 1513.66 Z\" fill=\"#000000\" fill-rule=\"nonzero\" fill-opacity=\"1\" /><path clip-path=\"url(#clip490)\" d=\"M1752.57 1514.29 L1774.79 1514.29 L1774.79 1516.28 L1762.25 1548.85 L1757.36 1548.85 L1769.17 1518.22 L1752.57 1518.22 L1752.57 1514.29 Z\" fill=\"#000000\" fill-rule=\"nonzero\" fill-opacity=\"1\" /><path clip-path=\"url(#clip490)\" d=\"M1783.91 1542.97 L1788.8 1542.97 L1788.8 1548.85 L1783.91 1548.85 L1783.91 1542.97 Z\" fill=\"#000000\" fill-rule=\"nonzero\" fill-opacity=\"1\" /><path clip-path=\"url(#clip490)\" d=\"M1799.03 1514.29 L1817.38 1514.29 L1817.38 1518.22 L1803.31 1518.22 L1803.31 1526.7 Q1804.33 1526.35 1805.35 1526.19 Q1806.37 1526 1807.38 1526 Q1813.17 1526 1816.55 1529.17 Q1819.93 1532.34 1819.93 1537.76 Q1819.93 1543.34 1816.46 1546.44 Q1812.99 1549.52 1806.67 1549.52 Q1804.49 1549.52 1802.22 1549.15 Q1799.98 1548.78 1797.57 1548.04 L1797.57 1543.34 Q1799.65 1544.47 1801.88 1545.03 Q1804.1 1545.58 1806.57 1545.58 Q1810.58 1545.58 1812.92 1543.48 Q1815.25 1541.37 1815.25 1537.76 Q1815.25 1534.15 1812.92 1532.04 Q1810.58 1529.94 1806.57 1529.94 Q1804.7 1529.94 1802.82 1530.35 Q1800.97 1530.77 1799.03 1531.65 L1799.03 1514.29 Z\" fill=\"#000000\" fill-rule=\"nonzero\" fill-opacity=\"1\" /><path clip-path=\"url(#clip490)\" d=\"M2253.61 1544.91 L2261.25 1544.91 L2261.25 1518.55 L2252.94 1520.21 L2252.94 1515.95 L2261.2 1514.29 L2265.88 1514.29 L2265.88 1544.91 L2273.52 1544.91 L2273.52 1548.85 L2253.61 1548.85 L2253.61 1544.91 Z\" fill=\"#000000\" fill-rule=\"nonzero\" fill-opacity=\"1\" /><path clip-path=\"url(#clip490)\" d=\"M2292.96 1517.37 Q2289.35 1517.37 2287.52 1520.93 Q2285.71 1524.47 2285.71 1531.6 Q2285.71 1538.71 2287.52 1542.27 Q2289.35 1545.82 2292.96 1545.82 Q2296.59 1545.82 2298.4 1542.27 Q2300.23 1538.71 2300.23 1531.6 Q2300.23 1524.47 2298.4 1520.93 Q2296.59 1517.37 2292.96 1517.37 M2292.96 1513.66 Q2298.77 1513.66 2301.83 1518.27 Q2304.9 1522.85 2304.9 1531.6 Q2304.9 1540.33 2301.83 1544.94 Q2298.77 1549.52 2292.96 1549.52 Q2287.15 1549.52 2284.07 1544.94 Q2281.02 1540.33 2281.02 1531.6 Q2281.02 1522.85 2284.07 1518.27 Q2287.15 1513.66 2292.96 1513.66 Z\" fill=\"#000000\" fill-rule=\"nonzero\" fill-opacity=\"1\" /><path clip-path=\"url(#clip490)\" d=\"M2313.12 1542.97 L2318.01 1542.97 L2318.01 1548.85 L2313.12 1548.85 L2313.12 1542.97 Z\" fill=\"#000000\" fill-rule=\"nonzero\" fill-opacity=\"1\" /><path clip-path=\"url(#clip490)\" d=\"M2338.19 1517.37 Q2334.58 1517.37 2332.75 1520.93 Q2330.95 1524.47 2330.95 1531.6 Q2330.95 1538.71 2332.75 1542.27 Q2334.58 1545.82 2338.19 1545.82 Q2341.83 1545.82 2343.63 1542.27 Q2345.46 1538.71 2345.46 1531.6 Q2345.46 1524.47 2343.63 1520.93 Q2341.83 1517.37 2338.19 1517.37 M2338.19 1513.66 Q2344 1513.66 2347.06 1518.27 Q2350.14 1522.85 2350.14 1531.6 Q2350.14 1540.33 2347.06 1544.94 Q2344 1549.52 2338.19 1549.52 Q2332.38 1549.52 2329.3 1544.94 Q2326.25 1540.33 2326.25 1531.6 Q2326.25 1522.85 2329.3 1518.27 Q2332.38 1513.66 2338.19 1513.66 Z\" fill=\"#000000\" fill-rule=\"nonzero\" fill-opacity=\"1\" /><polyline clip-path=\"url(#clip492)\" style=\"stroke:#000000; stroke-linecap:round; stroke-linejoin:round; stroke-width:2; stroke-opacity:0.1; fill:none\" points=\"178.867,1460.87 2352.76,1460.87 \"/>\n",
       "<polyline clip-path=\"url(#clip492)\" style=\"stroke:#000000; stroke-linecap:round; stroke-linejoin:round; stroke-width:2; stroke-opacity:0.1; fill:none\" points=\"178.867,1146.8 2352.76,1146.8 \"/>\n",
       "<polyline clip-path=\"url(#clip492)\" style=\"stroke:#000000; stroke-linecap:round; stroke-linejoin:round; stroke-width:2; stroke-opacity:0.1; fill:none\" points=\"178.867,832.729 2352.76,832.729 \"/>\n",
       "<polyline clip-path=\"url(#clip492)\" style=\"stroke:#000000; stroke-linecap:round; stroke-linejoin:round; stroke-width:2; stroke-opacity:0.1; fill:none\" points=\"178.867,518.658 2352.76,518.658 \"/>\n",
       "<polyline clip-path=\"url(#clip492)\" style=\"stroke:#000000; stroke-linecap:round; stroke-linejoin:round; stroke-width:2; stroke-opacity:0.1; fill:none\" points=\"178.867,204.587 2352.76,204.587 \"/>\n",
       "<polyline clip-path=\"url(#clip490)\" style=\"stroke:#000000; stroke-linecap:round; stroke-linejoin:round; stroke-width:4; stroke-opacity:1; fill:none\" points=\"178.867,1486.45 178.867,47.2441 \"/>\n",
       "<polyline clip-path=\"url(#clip490)\" style=\"stroke:#000000; stroke-linecap:round; stroke-linejoin:round; stroke-width:4; stroke-opacity:1; fill:none\" points=\"178.867,1460.87 197.764,1460.87 \"/>\n",
       "<polyline clip-path=\"url(#clip490)\" style=\"stroke:#000000; stroke-linecap:round; stroke-linejoin:round; stroke-width:4; stroke-opacity:1; fill:none\" points=\"178.867,1146.8 197.764,1146.8 \"/>\n",
       "<polyline clip-path=\"url(#clip490)\" style=\"stroke:#000000; stroke-linecap:round; stroke-linejoin:round; stroke-width:4; stroke-opacity:1; fill:none\" points=\"178.867,832.729 197.764,832.729 \"/>\n",
       "<polyline clip-path=\"url(#clip490)\" style=\"stroke:#000000; stroke-linecap:round; stroke-linejoin:round; stroke-width:4; stroke-opacity:1; fill:none\" points=\"178.867,518.658 197.764,518.658 \"/>\n",
       "<polyline clip-path=\"url(#clip490)\" style=\"stroke:#000000; stroke-linecap:round; stroke-linejoin:round; stroke-width:4; stroke-opacity:1; fill:none\" points=\"178.867,204.587 197.764,204.587 \"/>\n",
       "<path clip-path=\"url(#clip490)\" d=\"M51.9875 1461.32 L81.6633 1461.32 L81.6633 1465.26 L51.9875 1465.26 L51.9875 1461.32 Z\" fill=\"#000000\" fill-rule=\"nonzero\" fill-opacity=\"1\" /><path clip-path=\"url(#clip490)\" d=\"M92.566 1474.22 L100.205 1474.22 L100.205 1447.85 L91.8947 1449.52 L91.8947 1445.26 L100.159 1443.59 L104.834 1443.59 L104.834 1474.22 L112.473 1474.22 L112.473 1478.15 L92.566 1478.15 L92.566 1474.22 Z\" fill=\"#000000\" fill-rule=\"nonzero\" fill-opacity=\"1\" /><path clip-path=\"url(#clip490)\" d=\"M121.964 1443.59 L140.32 1443.59 L140.32 1447.53 L126.246 1447.53 L126.246 1456 Q127.265 1455.65 128.283 1455.49 Q129.302 1455.3 130.32 1455.3 Q136.107 1455.3 139.487 1458.48 Q142.867 1461.65 142.867 1467.06 Q142.867 1472.64 139.394 1475.74 Q135.922 1478.82 129.603 1478.82 Q127.427 1478.82 125.158 1478.45 Q122.913 1478.08 120.506 1477.34 L120.506 1472.64 Q122.589 1473.78 124.811 1474.33 Q127.033 1474.89 129.51 1474.89 Q133.515 1474.89 135.853 1472.78 Q138.191 1470.67 138.191 1467.06 Q138.191 1463.45 135.853 1461.35 Q133.515 1459.24 129.51 1459.24 Q127.635 1459.24 125.76 1459.66 Q123.908 1460.07 121.964 1460.95 L121.964 1443.59 Z\" fill=\"#000000\" fill-rule=\"nonzero\" fill-opacity=\"1\" /><path clip-path=\"url(#clip490)\" d=\"M50.9921 1147.25 L80.6679 1147.25 L80.6679 1151.19 L50.9921 1151.19 L50.9921 1147.25 Z\" fill=\"#000000\" fill-rule=\"nonzero\" fill-opacity=\"1\" /><path clip-path=\"url(#clip490)\" d=\"M91.5706 1160.15 L99.2095 1160.15 L99.2095 1133.78 L90.8993 1135.45 L90.8993 1131.19 L99.1632 1129.52 L103.839 1129.52 L103.839 1160.15 L111.478 1160.15 L111.478 1164.08 L91.5706 1164.08 L91.5706 1160.15 Z\" fill=\"#000000\" fill-rule=\"nonzero\" fill-opacity=\"1\" /><path clip-path=\"url(#clip490)\" d=\"M130.922 1132.6 Q127.311 1132.6 125.482 1136.16 Q123.677 1139.71 123.677 1146.83 Q123.677 1153.94 125.482 1157.51 Q127.311 1161.05 130.922 1161.05 Q134.556 1161.05 136.362 1157.51 Q138.191 1153.94 138.191 1146.83 Q138.191 1139.71 136.362 1136.16 Q134.556 1132.6 130.922 1132.6 M130.922 1128.9 Q136.732 1128.9 139.788 1133.5 Q142.867 1138.08 142.867 1146.83 Q142.867 1155.56 139.788 1160.17 Q136.732 1164.75 130.922 1164.75 Q125.112 1164.75 122.033 1160.17 Q118.978 1155.56 118.978 1146.83 Q118.978 1138.08 122.033 1133.5 Q125.112 1128.9 130.922 1128.9 Z\" fill=\"#000000\" fill-rule=\"nonzero\" fill-opacity=\"1\" /><path clip-path=\"url(#clip490)\" d=\"M82.1494 833.181 L111.825 833.181 L111.825 837.116 L82.1494 837.116 L82.1494 833.181 Z\" fill=\"#000000\" fill-rule=\"nonzero\" fill-opacity=\"1\" /><path clip-path=\"url(#clip490)\" d=\"M121.964 815.449 L140.32 815.449 L140.32 819.384 L126.246 819.384 L126.246 827.856 Q127.265 827.509 128.283 827.347 Q129.302 827.162 130.32 827.162 Q136.107 827.162 139.487 830.333 Q142.867 833.505 142.867 838.921 Q142.867 844.5 139.394 847.602 Q135.922 850.68 129.603 850.68 Q127.427 850.68 125.158 850.31 Q122.913 849.94 120.506 849.199 L120.506 844.5 Q122.589 845.634 124.811 846.19 Q127.033 846.745 129.51 846.745 Q133.515 846.745 135.853 844.639 Q138.191 842.532 138.191 838.921 Q138.191 835.31 135.853 833.204 Q133.515 831.097 129.51 831.097 Q127.635 831.097 125.76 831.514 Q123.908 831.931 121.964 832.81 L121.964 815.449 Z\" fill=\"#000000\" fill-rule=\"nonzero\" fill-opacity=\"1\" /><path clip-path=\"url(#clip490)\" d=\"M130.922 504.457 Q127.311 504.457 125.482 508.022 Q123.677 511.563 123.677 518.693 Q123.677 525.799 125.482 529.364 Q127.311 532.906 130.922 532.906 Q134.556 532.906 136.362 529.364 Q138.191 525.799 138.191 518.693 Q138.191 511.563 136.362 508.022 Q134.556 504.457 130.922 504.457 M130.922 500.753 Q136.732 500.753 139.788 505.36 Q142.867 509.943 142.867 518.693 Q142.867 527.42 139.788 532.026 Q136.732 536.609 130.922 536.609 Q125.112 536.609 122.033 532.026 Q118.978 527.42 118.978 518.693 Q118.978 509.943 122.033 505.36 Q125.112 500.753 130.922 500.753 Z\" fill=\"#000000\" fill-rule=\"nonzero\" fill-opacity=\"1\" /><path clip-path=\"url(#clip490)\" d=\"M121.964 187.307 L140.32 187.307 L140.32 191.242 L126.246 191.242 L126.246 199.714 Q127.265 199.367 128.283 199.205 Q129.302 199.02 130.32 199.02 Q136.107 199.02 139.487 202.191 Q142.867 205.362 142.867 210.779 Q142.867 216.358 139.394 219.46 Q135.922 222.538 129.603 222.538 Q127.427 222.538 125.158 222.168 Q122.913 221.798 120.506 221.057 L120.506 216.358 Q122.589 217.492 124.811 218.048 Q127.033 218.603 129.51 218.603 Q133.515 218.603 135.853 216.497 Q138.191 214.39 138.191 210.779 Q138.191 207.168 135.853 205.062 Q133.515 202.955 129.51 202.955 Q127.635 202.955 125.76 203.372 Q123.908 203.788 121.964 204.668 L121.964 187.307 Z\" fill=\"#000000\" fill-rule=\"nonzero\" fill-opacity=\"1\" /><polyline clip-path=\"url(#clip492)\" style=\"stroke:#009af9; stroke-linecap:round; stroke-linejoin:round; stroke-width:4; stroke-opacity:1; fill:none\" points=\"240.392,749.01 250.698,737.286 261.003,730.341 271.309,727.912 281.615,729.622 291.92,735.001 302.226,743.5 312.532,754.506 322.838,767.368 333.143,781.412 343.449,795.968 353.755,810.389 364.06,824.074 374.366,836.485 384.672,847.165 394.978,855.745 405.283,861.959 415.589,865.64 425.895,866.726 436.201,865.249 446.506,861.334 456.812,855.183 467.118,847.064 477.423,837.299 487.729,826.243 498.035,814.276 508.341,801.779 518.646,789.122 528.952,776.646 539.258,764.653 549.564,753.388 559.869,743.031 570.175,733.689 580.481,725.393 590.786,718.1 601.092,711.696 611.398,706.009 621.704,700.822 632.009,695.897 642.315,690.991 652.621,685.886 662.926,680.411 673.232,674.455 683.538,667.986 693.844,661.049 704.149,653.764 714.455,646.315 724.761,638.927 735.067,631.853 745.372,625.346 755.678,619.645 765.984,614.958 776.289,611.456 786.595,609.261 796.901,608.455 807.207,609.076 817.512,611.131 827.818,614.606 838.124,619.476 848.429,625.72 858.735,633.333 869.041,642.334 879.347,652.776 889.652,664.744 899.958,678.358 910.264,693.758 920.57,711.091 930.875,730.49 941.181,752.039 951.487,775.742 961.792,801.483 972.098,828.985 982.404,857.776 992.71,887.164 1003.02,916.241 1013.32,943.906 1023.63,968.927 1033.93,990.039 1044.24,1006.06 1054.54,1016 1064.85,1019.17 1075.16,1015.26 1085.46,1004.32 1095.77,986.773 1106.07,963.347 1116.38,935.022 1126.68,902.954 1136.99,868.404 1147.3,832.683 1157.6,797.087 1167.91,762.844 1178.21,731.066 1188.52,702.702 1198.82,678.497 1209.13,658.959 1219.44,644.337 1229.74,634.606 1240.05,629.47 1250.35,628.373 1260.66,630.523 1270.96,634.94 1281.27,640.509 1291.58,646.051 1301.88,650.416 1312.19,652.579 1322.49,651.737 1332.8,647.391 1343.1,639.397 1353.41,627.971 1363.72,613.649 1374.02,597.221 1384.33,579.635 1394.63,561.906 1404.94,545.034 1415.24,529.932 1425.55,517.372 1435.86,507.947 1446.16,502.048 1456.47,499.854 1466.77,501.346 1477.08,506.339 1487.38,514.526 1497.69,525.542 1508,539.038 1518.3,554.745 1528.61,572.55 1538.91,592.55 1549.22,615.092 1559.52,640.79 1569.83,670.523 1580.14,705.396 1590.44,746.663 1600.75,795.608 1611.05,853.34 1621.36,920.504 1631.66,996.874 1641.97,1080.84 1652.28,1168.92 1662.58,1255.53 1672.89,1333.4 1683.19,1394.85 1693.5,1433.5 1703.8,1445.72 1714.11,1430.84 1724.42,1390.52 1734.72,1327.72 1745.03,1245.89 1755.33,1148.65 1765.64,1039.71 1775.94,922.912 1786.25,802.177 1796.56,681.455 1806.86,564.548 1817.17,454.959 1827.47,355.777 1837.78,269.609 1848.08,198.545 1858.39,144.15 1868.7,107.43 1879,88.7921 1889.31,87.9763 1899.61,104.007 1909.92,135.183 1920.22,179.12 1930.53,232.849 1940.84,292.933 1951.14,355.582 1961.45,416.754 1971.75,472.28 1982.06,518.06 1992.36,550.397 2002.67,566.46 2012.98,564.83 2023.28,545.952 2033.59,512.369 2043.89,468.681 2054.2,421.206 2064.5,377.404 2074.81,345.007 2085.12,330.901 2095.42,339.941 2105.73,373.992 2116.03,431.549 2126.34,508.024 2136.64,596.567 2146.95,689.128 2157.26,777.483 2167.56,854.08 2177.87,912.633 2188.17,948.498 2198.48,958.942 2208.78,943.377 2219.09,903.489 2229.4,842.992 2239.7,766.702 2250.01,679.053 2260.31,582.629 2270.62,477.238 2280.93,359.619 2291.23,223.487 \"/>\n",
       "<path clip-path=\"url(#clip490)\" d=\"M251.33 198.898 L521.149 198.898 L521.149 95.2176 L251.33 95.2176  Z\" fill=\"#ffffff\" fill-rule=\"evenodd\" fill-opacity=\"1\"/>\n",
       "<polyline clip-path=\"url(#clip490)\" style=\"stroke:#000000; stroke-linecap:round; stroke-linejoin:round; stroke-width:4; stroke-opacity:1; fill:none\" points=\"251.33,198.898 521.149,198.898 521.149,95.2176 251.33,95.2176 251.33,198.898 \"/>\n",
       "<polyline clip-path=\"url(#clip490)\" style=\"stroke:#009af9; stroke-linecap:round; stroke-linejoin:round; stroke-width:4; stroke-opacity:1; fill:none\" points=\"275.484,147.058 420.41,147.058 \"/>\n",
       "<path clip-path=\"url(#clip490)\" d=\"M458.407 166.745 Q456.601 171.375 454.888 172.787 Q453.175 174.199 450.305 174.199 L446.902 174.199 L446.902 170.634 L449.402 170.634 Q451.161 170.634 452.134 169.8 Q453.106 168.967 454.286 165.865 L455.05 163.921 L444.564 138.412 L449.078 138.412 L457.18 158.689 L465.282 138.412 L469.796 138.412 L458.407 166.745 Z\" fill=\"#000000\" fill-rule=\"nonzero\" fill-opacity=\"1\" /><path clip-path=\"url(#clip490)\" d=\"M477.087 160.402 L484.726 160.402 L484.726 134.037 L476.416 135.703 L476.416 131.444 L484.68 129.778 L489.356 129.778 L489.356 160.402 L496.994 160.402 L496.994 164.338 L477.087 164.338 L477.087 160.402 Z\" fill=\"#000000\" fill-rule=\"nonzero\" fill-opacity=\"1\" /></svg>\n"
      ]
     },
     "execution_count": 40,
     "metadata": {},
     "output_type": "execute_result"
    }
   ],
   "source": [
    "plot(thist[1:Nt-1],utraj)"
   ]
  },
  {
   "cell_type": "code",
   "execution_count": 89,
   "id": "137d8d50-082d-4ed2-9513-a907c0baa237",
   "metadata": {},
   "outputs": [
    {
     "name": "stderr",
     "output_type": "stream",
     "text": [
      "\u001b[36m\u001b[1m┌ \u001b[22m\u001b[39m\u001b[36m\u001b[1mInfo: \u001b[22m\u001b[39mMeshCat server started. You can open the visualizer by visiting the following URL in your browser:\n",
      "\u001b[36m\u001b[1m└ \u001b[22m\u001b[39mhttp://127.0.0.1:8701\n"
     ]
    },
    {
     "data": {
      "text/html": [
       "    <div style=\"height: 500px; width: 100%; overflow-x: auto; overflow-y: hidden; resize: both\">\n",
       "    <iframe src=\"http://127.0.0.1:8701\" style=\"width: 100%; height: 100%; border: none\"></iframe>\n",
       "    </div>\n"
      ],
      "text/plain": [
       "MeshCat.DisplayedVisualizer(MeshCat.CoreVisualizer(MeshCat.SceneTrees.SceneNode(nothing, nothing, Dict{String, Vector{UInt8}}(), nothing, Dict{String, MeshCat.SceneTrees.SceneNode}()), Set{Any}(), ip\"127.0.0.1\", 8701))"
      ]
     },
     "execution_count": 89,
     "metadata": {},
     "output_type": "execute_result"
    }
   ],
   "source": [
    "using TrajOptPlots\n",
    "using MeshCat\n",
    "using StaticArrays\n",
    "\n",
    "vis = Visualizer()\n",
    "render(vis)"
   ]
  },
  {
   "cell_type": "code",
   "execution_count": 90,
   "id": "692c6fc6-6ad3-43e5-a651-44db8cd78c57",
   "metadata": {},
   "outputs": [
    {
     "data": {
      "text/plain": [
       "MeshCat Visualizer with path /meshcat/robot/link1/joint at http://127.0.0.1:8701"
      ]
     },
     "execution_count": 90,
     "metadata": {},
     "output_type": "execute_result"
    }
   ],
   "source": [
    "TrajOptPlots.set_mesh!(vis, a)"
   ]
  },
  {
   "cell_type": "code",
   "execution_count": 91,
   "id": "b4dedb28-1778-4c51-96e8-b27e387f268a",
   "metadata": {},
   "outputs": [],
   "source": [
    "X1 = [SVector{4}(x) for x in eachcol(xtraj)];\n",
    "visualize!(vis, a, thist[end], X1)"
   ]
  },
  {
   "cell_type": "markdown",
   "id": "b46ebf86-49d5-4b8b-a9ec-252e935ef947",
   "metadata": {},
   "source": [
    "## Change Initial guess"
   ]
  },
  {
   "cell_type": "code",
   "execution_count": 25,
   "id": "5567da80-b159-48a5-b00d-174ef332f4b5",
   "metadata": {},
   "outputs": [],
   "source": [
    "Nx = 4     # number of state\n",
    "Nu = 1     # number of controls\n",
    "Tfinal = 10.0 # final time\n",
    "Nt = Int(Tfinal/h)+1    # number of time steps\n",
    "thist = Array(range(0,h*(Nt-1), step=h));"
   ]
  },
  {
   "cell_type": "code",
   "execution_count": 26,
   "id": "a910a75c-0304-47ab-a976-c60d49d8ae22",
   "metadata": {},
   "outputs": [],
   "source": [
    "# Cost weights\n",
    "Q = Diagonal([1.0*ones(2); 0.1*ones(2)]);\n",
    "R = 0.01;\n",
    "Qn = Array(100.0*I(Nx));"
   ]
  },
  {
   "cell_type": "code",
   "execution_count": 29,
   "id": "963287a9-b62f-4470-ab52-ef0b79de10c1",
   "metadata": {},
   "outputs": [],
   "source": [
    "#Initial guess\n",
    "x0 = [-pi/2; 0; 0; 0]\n",
    "xgoal = [pi/2; 0; 0; 0]\n",
    "xtraj = kron(ones(1,Nt), x0)\n",
    "utraj = randn(Nt-1);\n",
    "f = jldopen(\"guess.jld2\", \"r\")\n",
    "utraj = f[\"utraj\"];\n",
    "\n",
    "#Initial Rollout\n",
    "for k = 1:(Nt-1)\n",
    "    xtraj[:,k+1] .= dynamics_rk4(xtraj[:,k],utraj[k])\n",
    "end\n",
    "J = cost(xtraj,utraj)\n",
    "\n",
    "d = ones(Nt-1)\n",
    "xn = zeros(size(xtraj))\n",
    "un = zeros(size(utraj))\n",
    "iter = 0\n",
    "\n",
    "while maximum(abs.(d[:])) > 1e-3\n",
    "    p = zeros(Nx, Nt)\n",
    "    P = zeros(Nx, Nx, Nt)\n",
    "    d = ones(Nt-1)\n",
    "    K = zeros(Nu,Nx,Nt-1)\n",
    "\n",
    "    ΔJ = backward_pass_ilqr!(p,P,d,K)\n",
    "\n",
    "    # Line Search\n",
    "    xn[:,1] = x0\n",
    "    α = 1.0\n",
    "\n",
    "    for k in 1:(Nt-1)\n",
    "        un[k] = utraj[k] - α*d[k] - dot(K[:,:,k],xn[:,k]-xtraj[:,k])\n",
    "        xn[:,k+1] .= dynamics_rk4(xn[:,k], un[k])\n",
    "    end\n",
    "    Jn = cost(xn, un)\n",
    "    \n",
    "    while isnan(Jn) || Jn > (J - 1e-2*α*ΔJ)\n",
    "        α *= 0.5\n",
    "        for k in 1:(Nt-1)\n",
    "            un[k] = utraj[k] - α*d[k] - dot(K[:,:,k],xn[:,k]-xtraj[:,k])\n",
    "            xn[:,k+1] .= dynamics_rk4(xn[:,k], un[k])\n",
    "        end\n",
    "        Jn = cost(xn, un)\n",
    "    end\n",
    "\n",
    "    iter += 1\n",
    "    J = Jn\n",
    "    xtraj .= xn\n",
    "    utraj .= un\n",
    "end"
   ]
  },
  {
   "cell_type": "code",
   "execution_count": 30,
   "id": "0aa704b7-69f9-4592-b4f3-f6261d9d608d",
   "metadata": {},
   "outputs": [
    {
     "data": {
      "image/svg+xml": [
       "<?xml version=\"1.0\" encoding=\"utf-8\"?>\n",
       "<svg xmlns=\"http://www.w3.org/2000/svg\" xmlns:xlink=\"http://www.w3.org/1999/xlink\" width=\"600\" height=\"400\" viewBox=\"0 0 2400 1600\">\n",
       "<defs>\n",
       "  <clipPath id=\"clip370\">\n",
       "    <rect x=\"0\" y=\"0\" width=\"2400\" height=\"1600\"/>\n",
       "  </clipPath>\n",
       "</defs>\n",
       "<path clip-path=\"url(#clip370)\" d=\"M0 1600 L2400 1600 L2400 0 L0 0  Z\" fill=\"#ffffff\" fill-rule=\"evenodd\" fill-opacity=\"1\"/>\n",
       "<defs>\n",
       "  <clipPath id=\"clip371\">\n",
       "    <rect x=\"480\" y=\"0\" width=\"1681\" height=\"1600\"/>\n",
       "  </clipPath>\n",
       "</defs>\n",
       "<path clip-path=\"url(#clip370)\" d=\"M148.057 1486.45 L2352.76 1486.45 L2352.76 47.2441 L148.057 47.2441  Z\" fill=\"#ffffff\" fill-rule=\"evenodd\" fill-opacity=\"1\"/>\n",
       "<defs>\n",
       "  <clipPath id=\"clip372\">\n",
       "    <rect x=\"148\" y=\"47\" width=\"2206\" height=\"1440\"/>\n",
       "  </clipPath>\n",
       "</defs>\n",
       "<polyline clip-path=\"url(#clip372)\" style=\"stroke:#000000; stroke-linecap:round; stroke-linejoin:round; stroke-width:2; stroke-opacity:0.1; fill:none\" points=\"210.454,1486.45 210.454,47.2441 \"/>\n",
       "<polyline clip-path=\"url(#clip372)\" style=\"stroke:#000000; stroke-linecap:round; stroke-linejoin:round; stroke-width:2; stroke-opacity:0.1; fill:none\" points=\"730.43,1486.45 730.43,47.2441 \"/>\n",
       "<polyline clip-path=\"url(#clip372)\" style=\"stroke:#000000; stroke-linecap:round; stroke-linejoin:round; stroke-width:2; stroke-opacity:0.1; fill:none\" points=\"1250.41,1486.45 1250.41,47.2441 \"/>\n",
       "<polyline clip-path=\"url(#clip372)\" style=\"stroke:#000000; stroke-linecap:round; stroke-linejoin:round; stroke-width:2; stroke-opacity:0.1; fill:none\" points=\"1770.38,1486.45 1770.38,47.2441 \"/>\n",
       "<polyline clip-path=\"url(#clip372)\" style=\"stroke:#000000; stroke-linecap:round; stroke-linejoin:round; stroke-width:2; stroke-opacity:0.1; fill:none\" points=\"2290.36,1486.45 2290.36,47.2441 \"/>\n",
       "<polyline clip-path=\"url(#clip370)\" style=\"stroke:#000000; stroke-linecap:round; stroke-linejoin:round; stroke-width:4; stroke-opacity:1; fill:none\" points=\"148.057,1486.45 2352.76,1486.45 \"/>\n",
       "<polyline clip-path=\"url(#clip370)\" style=\"stroke:#000000; stroke-linecap:round; stroke-linejoin:round; stroke-width:4; stroke-opacity:1; fill:none\" points=\"210.454,1486.45 210.454,1467.55 \"/>\n",
       "<polyline clip-path=\"url(#clip370)\" style=\"stroke:#000000; stroke-linecap:round; stroke-linejoin:round; stroke-width:4; stroke-opacity:1; fill:none\" points=\"730.43,1486.45 730.43,1467.55 \"/>\n",
       "<polyline clip-path=\"url(#clip370)\" style=\"stroke:#000000; stroke-linecap:round; stroke-linejoin:round; stroke-width:4; stroke-opacity:1; fill:none\" points=\"1250.41,1486.45 1250.41,1467.55 \"/>\n",
       "<polyline clip-path=\"url(#clip370)\" style=\"stroke:#000000; stroke-linecap:round; stroke-linejoin:round; stroke-width:4; stroke-opacity:1; fill:none\" points=\"1770.38,1486.45 1770.38,1467.55 \"/>\n",
       "<polyline clip-path=\"url(#clip370)\" style=\"stroke:#000000; stroke-linecap:round; stroke-linejoin:round; stroke-width:4; stroke-opacity:1; fill:none\" points=\"2290.36,1486.45 2290.36,1467.55 \"/>\n",
       "<path clip-path=\"url(#clip370)\" d=\"M187.838 1517.37 Q184.227 1517.37 182.398 1520.93 Q180.593 1524.47 180.593 1531.6 Q180.593 1538.71 182.398 1542.27 Q184.227 1545.82 187.838 1545.82 Q191.472 1545.82 193.278 1542.27 Q195.107 1538.71 195.107 1531.6 Q195.107 1524.47 193.278 1520.93 Q191.472 1517.37 187.838 1517.37 M187.838 1513.66 Q193.648 1513.66 196.704 1518.27 Q199.783 1522.85 199.783 1531.6 Q199.783 1540.33 196.704 1544.94 Q193.648 1549.52 187.838 1549.52 Q182.028 1549.52 178.949 1544.94 Q175.894 1540.33 175.894 1531.6 Q175.894 1522.85 178.949 1518.27 Q182.028 1513.66 187.838 1513.66 Z\" fill=\"#000000\" fill-rule=\"nonzero\" fill-opacity=\"1\" /><path clip-path=\"url(#clip370)\" d=\"M208 1542.97 L212.884 1542.97 L212.884 1548.85 L208 1548.85 L208 1542.97 Z\" fill=\"#000000\" fill-rule=\"nonzero\" fill-opacity=\"1\" /><path clip-path=\"url(#clip370)\" d=\"M233.069 1517.37 Q229.458 1517.37 227.63 1520.93 Q225.824 1524.47 225.824 1531.6 Q225.824 1538.71 227.63 1542.27 Q229.458 1545.82 233.069 1545.82 Q236.704 1545.82 238.509 1542.27 Q240.338 1538.71 240.338 1531.6 Q240.338 1524.47 238.509 1520.93 Q236.704 1517.37 233.069 1517.37 M233.069 1513.66 Q238.88 1513.66 241.935 1518.27 Q245.014 1522.85 245.014 1531.6 Q245.014 1540.33 241.935 1544.94 Q238.88 1549.52 233.069 1549.52 Q227.259 1549.52 224.181 1544.94 Q221.125 1540.33 221.125 1531.6 Q221.125 1522.85 224.181 1518.27 Q227.259 1513.66 233.069 1513.66 Z\" fill=\"#000000\" fill-rule=\"nonzero\" fill-opacity=\"1\" /><path clip-path=\"url(#clip370)\" d=\"M702.166 1544.91 L718.486 1544.91 L718.486 1548.85 L696.541 1548.85 L696.541 1544.91 Q699.203 1542.16 703.787 1537.53 Q708.393 1532.88 709.574 1531.53 Q711.819 1529.01 712.699 1527.27 Q713.601 1525.51 713.601 1523.82 Q713.601 1521.07 711.657 1519.33 Q709.736 1517.6 706.634 1517.6 Q704.435 1517.6 701.981 1518.36 Q699.551 1519.13 696.773 1520.68 L696.773 1515.95 Q699.597 1514.82 702.051 1514.24 Q704.504 1513.66 706.541 1513.66 Q711.912 1513.66 715.106 1516.35 Q718.3 1519.03 718.3 1523.52 Q718.3 1525.65 717.49 1527.57 Q716.703 1529.47 714.597 1532.07 Q714.018 1532.74 710.916 1535.95 Q707.814 1539.15 702.166 1544.91 Z\" fill=\"#000000\" fill-rule=\"nonzero\" fill-opacity=\"1\" /><path clip-path=\"url(#clip370)\" d=\"M728.3 1542.97 L733.185 1542.97 L733.185 1548.85 L728.3 1548.85 L728.3 1542.97 Z\" fill=\"#000000\" fill-rule=\"nonzero\" fill-opacity=\"1\" /><path clip-path=\"url(#clip370)\" d=\"M743.416 1514.29 L761.772 1514.29 L761.772 1518.22 L747.698 1518.22 L747.698 1526.7 Q748.717 1526.35 749.735 1526.19 Q750.754 1526 751.772 1526 Q757.559 1526 760.939 1529.17 Q764.319 1532.34 764.319 1537.76 Q764.319 1543.34 760.847 1546.44 Q757.374 1549.52 751.055 1549.52 Q748.879 1549.52 746.61 1549.15 Q744.365 1548.78 741.958 1548.04 L741.958 1543.34 Q744.041 1544.47 746.263 1545.03 Q748.485 1545.58 750.962 1545.58 Q754.967 1545.58 757.305 1543.48 Q759.643 1541.37 759.643 1537.76 Q759.643 1534.15 757.305 1532.04 Q754.967 1529.94 750.962 1529.94 Q749.087 1529.94 747.212 1530.35 Q745.36 1530.77 743.416 1531.65 L743.416 1514.29 Z\" fill=\"#000000\" fill-rule=\"nonzero\" fill-opacity=\"1\" /><path clip-path=\"url(#clip370)\" d=\"M1217.57 1514.29 L1235.93 1514.29 L1235.93 1518.22 L1221.85 1518.22 L1221.85 1526.7 Q1222.87 1526.35 1223.89 1526.19 Q1224.91 1526 1225.93 1526 Q1231.71 1526 1235.09 1529.17 Q1238.47 1532.34 1238.47 1537.76 Q1238.47 1543.34 1235 1546.44 Q1231.53 1549.52 1225.21 1549.52 Q1223.03 1549.52 1220.77 1549.15 Q1218.52 1548.78 1216.11 1548.04 L1216.11 1543.34 Q1218.2 1544.47 1220.42 1545.03 Q1222.64 1545.58 1225.12 1545.58 Q1229.12 1545.58 1231.46 1543.48 Q1233.8 1541.37 1233.8 1537.76 Q1233.8 1534.15 1231.46 1532.04 Q1229.12 1529.94 1225.12 1529.94 Q1223.24 1529.94 1221.37 1530.35 Q1219.52 1530.77 1217.57 1531.65 L1217.57 1514.29 Z\" fill=\"#000000\" fill-rule=\"nonzero\" fill-opacity=\"1\" /><path clip-path=\"url(#clip370)\" d=\"M1247.69 1542.97 L1252.57 1542.97 L1252.57 1548.85 L1247.69 1548.85 L1247.69 1542.97 Z\" fill=\"#000000\" fill-rule=\"nonzero\" fill-opacity=\"1\" /><path clip-path=\"url(#clip370)\" d=\"M1272.76 1517.37 Q1269.14 1517.37 1267.32 1520.93 Q1265.51 1524.47 1265.51 1531.6 Q1265.51 1538.71 1267.32 1542.27 Q1269.14 1545.82 1272.76 1545.82 Q1276.39 1545.82 1278.2 1542.27 Q1280.02 1538.71 1280.02 1531.6 Q1280.02 1524.47 1278.2 1520.93 Q1276.39 1517.37 1272.76 1517.37 M1272.76 1513.66 Q1278.57 1513.66 1281.62 1518.27 Q1284.7 1522.85 1284.7 1531.6 Q1284.7 1540.33 1281.62 1544.94 Q1278.57 1549.52 1272.76 1549.52 Q1266.95 1549.52 1263.87 1544.94 Q1260.81 1540.33 1260.81 1531.6 Q1260.81 1522.85 1263.87 1518.27 Q1266.95 1513.66 1272.76 1513.66 Z\" fill=\"#000000\" fill-rule=\"nonzero\" fill-opacity=\"1\" /><path clip-path=\"url(#clip370)\" d=\"M1736.7 1514.29 L1758.92 1514.29 L1758.92 1516.28 L1746.38 1548.85 L1741.49 1548.85 L1753.3 1518.22 L1736.7 1518.22 L1736.7 1514.29 Z\" fill=\"#000000\" fill-rule=\"nonzero\" fill-opacity=\"1\" /><path clip-path=\"url(#clip370)\" d=\"M1768.04 1542.97 L1772.93 1542.97 L1772.93 1548.85 L1768.04 1548.85 L1768.04 1542.97 Z\" fill=\"#000000\" fill-rule=\"nonzero\" fill-opacity=\"1\" /><path clip-path=\"url(#clip370)\" d=\"M1783.16 1514.29 L1801.52 1514.29 L1801.52 1518.22 L1787.44 1518.22 L1787.44 1526.7 Q1788.46 1526.35 1789.48 1526.19 Q1790.5 1526 1791.52 1526 Q1797.3 1526 1800.68 1529.17 Q1804.06 1532.34 1804.06 1537.76 Q1804.06 1543.34 1800.59 1546.44 Q1797.12 1549.52 1790.8 1549.52 Q1788.62 1549.52 1786.35 1549.15 Q1784.11 1548.78 1781.7 1548.04 L1781.7 1543.34 Q1783.79 1544.47 1786.01 1545.03 Q1788.23 1545.58 1790.71 1545.58 Q1794.71 1545.58 1797.05 1543.48 Q1799.39 1541.37 1799.39 1537.76 Q1799.39 1534.15 1797.05 1532.04 Q1794.71 1529.94 1790.71 1529.94 Q1788.83 1529.94 1786.96 1530.35 Q1785.1 1530.77 1783.16 1531.65 L1783.16 1514.29 Z\" fill=\"#000000\" fill-rule=\"nonzero\" fill-opacity=\"1\" /><path clip-path=\"url(#clip370)\" d=\"M2242.43 1544.91 L2250.07 1544.91 L2250.07 1518.55 L2241.76 1520.21 L2241.76 1515.95 L2250.02 1514.29 L2254.7 1514.29 L2254.7 1544.91 L2262.34 1544.91 L2262.34 1548.85 L2242.43 1548.85 L2242.43 1544.91 Z\" fill=\"#000000\" fill-rule=\"nonzero\" fill-opacity=\"1\" /><path clip-path=\"url(#clip370)\" d=\"M2281.78 1517.37 Q2278.17 1517.37 2276.34 1520.93 Q2274.54 1524.47 2274.54 1531.6 Q2274.54 1538.71 2276.34 1542.27 Q2278.17 1545.82 2281.78 1545.82 Q2285.42 1545.82 2287.22 1542.27 Q2289.05 1538.71 2289.05 1531.6 Q2289.05 1524.47 2287.22 1520.93 Q2285.42 1517.37 2281.78 1517.37 M2281.78 1513.66 Q2287.59 1513.66 2290.65 1518.27 Q2293.73 1522.85 2293.73 1531.6 Q2293.73 1540.33 2290.65 1544.94 Q2287.59 1549.52 2281.78 1549.52 Q2275.97 1549.52 2272.89 1544.94 Q2269.84 1540.33 2269.84 1531.6 Q2269.84 1522.85 2272.89 1518.27 Q2275.97 1513.66 2281.78 1513.66 Z\" fill=\"#000000\" fill-rule=\"nonzero\" fill-opacity=\"1\" /><path clip-path=\"url(#clip370)\" d=\"M2301.94 1542.97 L2306.83 1542.97 L2306.83 1548.85 L2301.94 1548.85 L2301.94 1542.97 Z\" fill=\"#000000\" fill-rule=\"nonzero\" fill-opacity=\"1\" /><path clip-path=\"url(#clip370)\" d=\"M2327.01 1517.37 Q2323.4 1517.37 2321.57 1520.93 Q2319.77 1524.47 2319.77 1531.6 Q2319.77 1538.71 2321.57 1542.27 Q2323.4 1545.82 2327.01 1545.82 Q2330.65 1545.82 2332.45 1542.27 Q2334.28 1538.71 2334.28 1531.6 Q2334.28 1524.47 2332.45 1520.93 Q2330.65 1517.37 2327.01 1517.37 M2327.01 1513.66 Q2332.82 1513.66 2335.88 1518.27 Q2338.96 1522.85 2338.96 1531.6 Q2338.96 1540.33 2335.88 1544.94 Q2332.82 1549.52 2327.01 1549.52 Q2321.2 1549.52 2318.12 1544.94 Q2315.07 1540.33 2315.07 1531.6 Q2315.07 1522.85 2318.12 1518.27 Q2321.2 1513.66 2327.01 1513.66 Z\" fill=\"#000000\" fill-rule=\"nonzero\" fill-opacity=\"1\" /><polyline clip-path=\"url(#clip372)\" style=\"stroke:#000000; stroke-linecap:round; stroke-linejoin:round; stroke-width:2; stroke-opacity:0.1; fill:none\" points=\"148.057,1415.03 2352.76,1415.03 \"/>\n",
       "<polyline clip-path=\"url(#clip372)\" style=\"stroke:#000000; stroke-linecap:round; stroke-linejoin:round; stroke-width:2; stroke-opacity:0.1; fill:none\" points=\"148.057,1140.59 2352.76,1140.59 \"/>\n",
       "<polyline clip-path=\"url(#clip372)\" style=\"stroke:#000000; stroke-linecap:round; stroke-linejoin:round; stroke-width:2; stroke-opacity:0.1; fill:none\" points=\"148.057,866.149 2352.76,866.149 \"/>\n",
       "<polyline clip-path=\"url(#clip372)\" style=\"stroke:#000000; stroke-linecap:round; stroke-linejoin:round; stroke-width:2; stroke-opacity:0.1; fill:none\" points=\"148.057,591.706 2352.76,591.706 \"/>\n",
       "<polyline clip-path=\"url(#clip372)\" style=\"stroke:#000000; stroke-linecap:round; stroke-linejoin:round; stroke-width:2; stroke-opacity:0.1; fill:none\" points=\"148.057,317.263 2352.76,317.263 \"/>\n",
       "<polyline clip-path=\"url(#clip370)\" style=\"stroke:#000000; stroke-linecap:round; stroke-linejoin:round; stroke-width:4; stroke-opacity:1; fill:none\" points=\"148.057,1486.45 148.057,47.2441 \"/>\n",
       "<polyline clip-path=\"url(#clip370)\" style=\"stroke:#000000; stroke-linecap:round; stroke-linejoin:round; stroke-width:4; stroke-opacity:1; fill:none\" points=\"148.057,1415.03 166.954,1415.03 \"/>\n",
       "<polyline clip-path=\"url(#clip370)\" style=\"stroke:#000000; stroke-linecap:round; stroke-linejoin:round; stroke-width:4; stroke-opacity:1; fill:none\" points=\"148.057,1140.59 166.954,1140.59 \"/>\n",
       "<polyline clip-path=\"url(#clip370)\" style=\"stroke:#000000; stroke-linecap:round; stroke-linejoin:round; stroke-width:4; stroke-opacity:1; fill:none\" points=\"148.057,866.149 166.954,866.149 \"/>\n",
       "<polyline clip-path=\"url(#clip370)\" style=\"stroke:#000000; stroke-linecap:round; stroke-linejoin:round; stroke-width:4; stroke-opacity:1; fill:none\" points=\"148.057,591.706 166.954,591.706 \"/>\n",
       "<polyline clip-path=\"url(#clip370)\" style=\"stroke:#000000; stroke-linecap:round; stroke-linejoin:round; stroke-width:4; stroke-opacity:1; fill:none\" points=\"148.057,317.263 166.954,317.263 \"/>\n",
       "<path clip-path=\"url(#clip370)\" d=\"M50.9921 1415.49 L80.6679 1415.49 L80.6679 1419.42 L50.9921 1419.42 L50.9921 1415.49 Z\" fill=\"#000000\" fill-rule=\"nonzero\" fill-opacity=\"1\" /><path clip-path=\"url(#clip370)\" d=\"M104.927 1413.68 Q108.283 1414.4 110.158 1416.67 Q112.057 1418.94 112.057 1422.27 Q112.057 1427.38 108.538 1430.19 Q105.02 1432.99 98.5382 1432.99 Q96.3623 1432.99 94.0475 1432.55 Q91.7558 1432.13 89.3021 1431.27 L89.3021 1426.76 Q91.2465 1427.89 93.5613 1428.47 Q95.8761 1429.05 98.3993 1429.05 Q102.797 1429.05 105.089 1427.31 Q107.404 1425.58 107.404 1422.27 Q107.404 1419.21 105.251 1417.5 Q103.121 1415.76 99.3021 1415.76 L95.2743 1415.76 L95.2743 1411.92 L99.4872 1411.92 Q102.936 1411.92 104.765 1410.56 Q106.594 1409.17 106.594 1406.57 Q106.594 1403.91 104.696 1402.5 Q102.821 1401.06 99.3021 1401.06 Q97.3808 1401.06 95.1817 1401.48 Q92.9826 1401.9 90.3438 1402.78 L90.3438 1398.61 Q93.0058 1397.87 95.3206 1397.5 Q97.6585 1397.13 99.7187 1397.13 Q105.043 1397.13 108.145 1399.56 Q111.246 1401.97 111.246 1406.09 Q111.246 1408.96 109.603 1410.95 Q107.959 1412.92 104.927 1413.68 Z\" fill=\"#000000\" fill-rule=\"nonzero\" fill-opacity=\"1\" /><path clip-path=\"url(#clip370)\" d=\"M51.9412 1141.04 L81.617 1141.04 L81.617 1144.98 L51.9412 1144.98 L51.9412 1141.04 Z\" fill=\"#000000\" fill-rule=\"nonzero\" fill-opacity=\"1\" /><path clip-path=\"url(#clip370)\" d=\"M95.7373 1153.94 L112.057 1153.94 L112.057 1157.87 L90.1123 1157.87 L90.1123 1153.94 Q92.7743 1151.18 97.3576 1146.55 Q101.964 1141.9 103.145 1140.56 Q105.39 1138.03 106.27 1136.3 Q107.172 1134.54 107.172 1132.85 Q107.172 1130.09 105.228 1128.36 Q103.307 1126.62 100.205 1126.62 Q98.0058 1126.62 95.5521 1127.39 Q93.1215 1128.15 90.3438 1129.7 L90.3438 1124.98 Q93.1678 1123.84 95.6215 1123.27 Q98.0752 1122.69 100.112 1122.69 Q105.483 1122.69 108.677 1125.37 Q111.871 1128.06 111.871 1132.55 Q111.871 1134.68 111.061 1136.6 Q110.274 1138.5 108.168 1141.09 Q107.589 1141.76 104.487 1144.98 Q101.385 1148.17 95.7373 1153.94 Z\" fill=\"#000000\" fill-rule=\"nonzero\" fill-opacity=\"1\" /><path clip-path=\"url(#clip370)\" d=\"M51.5708 866.6 L81.2466 866.6 L81.2466 870.535 L51.5708 870.535 L51.5708 866.6 Z\" fill=\"#000000\" fill-rule=\"nonzero\" fill-opacity=\"1\" /><path clip-path=\"url(#clip370)\" d=\"M92.1493 879.494 L99.7882 879.494 L99.7882 853.128 L91.478 854.795 L91.478 850.536 L99.7419 848.869 L104.418 848.869 L104.418 879.494 L112.057 879.494 L112.057 883.429 L92.1493 883.429 L92.1493 879.494 Z\" fill=\"#000000\" fill-rule=\"nonzero\" fill-opacity=\"1\" /><path clip-path=\"url(#clip370)\" d=\"M100.112 577.505 Q96.5011 577.505 94.6724 581.069 Q92.8669 584.611 92.8669 591.741 Q92.8669 598.847 94.6724 602.412 Q96.5011 605.954 100.112 605.954 Q103.746 605.954 105.552 602.412 Q107.381 598.847 107.381 591.741 Q107.381 584.611 105.552 581.069 Q103.746 577.505 100.112 577.505 M100.112 573.801 Q105.922 573.801 108.978 578.407 Q112.057 582.991 112.057 591.741 Q112.057 600.468 108.978 605.074 Q105.922 609.657 100.112 609.657 Q94.3021 609.657 91.2234 605.074 Q88.1679 600.468 88.1679 591.741 Q88.1679 582.991 91.2234 578.407 Q94.3021 573.801 100.112 573.801 Z\" fill=\"#000000\" fill-rule=\"nonzero\" fill-opacity=\"1\" /><path clip-path=\"url(#clip370)\" d=\"M92.1493 330.608 L99.7882 330.608 L99.7882 304.242 L91.478 305.909 L91.478 301.65 L99.7419 299.983 L104.418 299.983 L104.418 330.608 L112.057 330.608 L112.057 334.543 L92.1493 334.543 L92.1493 330.608 Z\" fill=\"#000000\" fill-rule=\"nonzero\" fill-opacity=\"1\" /><polyline clip-path=\"url(#clip372)\" style=\"stroke:#009af9; stroke-linecap:round; stroke-linejoin:round; stroke-width:4; stroke-opacity:1; fill:none\" points=\"210.454,1022.8 220.853,1016.93 231.253,1000.78 241.652,977.005 252.052,948.509 262.451,918.211 272.851,888.523 283.25,861.079 293.65,836.859 304.049,816.422 314.449,800.08 324.849,787.981 335.248,780.153 345.648,776.531 356.047,777 366.447,781.435 376.846,789.725 387.246,801.781 397.645,817.509 408.045,836.781 418.444,859.399 428.844,885.058 439.243,913.328 449.643,943.65 460.042,975.358 470.442,1007.73 480.841,1040.05 491.241,1071.73 501.64,1102.32 512.04,1131.52 522.44,1159.17 532.839,1185.09 543.239,1209.05 553.638,1230.62 564.038,1249.21 574.437,1264.03 584.837,1274.23 595.236,1279.01 605.636,1277.74 616.035,1269.87 626.435,1254.92 636.834,1232.33 647.234,1201.48 657.633,1161.83 668.033,1113.18 678.432,1056.27 688.832,992.883 699.231,925.382 709.631,855.856 720.03,785.839 730.43,716.519 740.83,648.998 751.229,584.366 761.629,523.59 772.028,467.361 782.428,416.024 792.827,369.603 803.227,327.885 813.626,290.52 824.026,257.105 834.425,227.243 844.825,200.597 855.224,176.913 865.624,156.042 876.023,137.932 886.423,122.608 896.822,110.12 907.222,100.497 917.621,93.7012 928.021,89.6025 938.421,87.9763 948.82,88.5214 959.22,90.8857 969.619,94.694 980.019,99.5713 990.418,105.162 1000.82,111.143 1011.22,117.234 1021.62,123.206 1032.02,128.881 1042.42,134.136 1052.82,138.892 1063.21,143.114 1073.61,146.8 1084.01,149.97 1094.41,152.659 1104.81,154.913 1115.21,156.78 1125.61,158.309 1136.01,159.546 1146.41,160.534 1156.81,161.311 1167.21,161.911 1177.61,162.364 1188.01,162.695 1198.41,162.926 1208.81,163.077 1219.21,163.162 1229.61,163.194 1240.01,163.186 1250.41,163.145 1260.81,163.08 1271.21,162.997 1281.6,162.901 1292,162.796 1302.4,162.685 1312.8,162.571 1323.2,162.456 1333.6,162.343 1344,162.231 1354.4,162.123 1364.8,162.019 1375.2,161.919 1385.6,161.824 1396,161.734 1406.4,161.649 1416.8,161.569 1427.2,161.494 1437.6,161.424 1448,161.359 1458.4,161.298 1468.8,161.242 1479.2,161.19 1489.6,161.141 1499.99,161.097 1510.39,161.055 1520.79,161.017 1531.19,160.983 1541.59,160.95 1551.99,160.921 1562.39,160.894 1572.79,160.869 1583.19,160.846 1593.59,160.826 1603.99,160.806 1614.39,160.789 1624.79,160.773 1635.19,160.759 1645.59,160.745 1655.99,160.733 1666.39,160.722 1676.79,160.712 1687.19,160.703 1697.59,160.695 1707.99,160.687 1718.38,160.68 1728.78,160.674 1739.18,160.668 1749.58,160.663 1759.98,160.658 1770.38,160.654 1780.78,160.65 1791.18,160.647 1801.58,160.643 1811.98,160.641 1822.38,160.638 1832.78,160.635 1843.18,160.633 1853.58,160.631 1863.98,160.63 1874.38,160.628 1884.78,160.626 1895.18,160.625 1905.58,160.624 1915.98,160.623 1926.38,160.622 1936.77,160.621 1947.17,160.62 1957.57,160.619 1967.97,160.619 1978.37,160.618 1988.77,160.617 1999.17,160.617 2009.57,160.616 2019.97,160.616 2030.37,160.616 2040.77,160.615 2051.17,160.615 2061.57,160.615 2071.97,160.615 2082.37,160.614 2092.77,160.614 2103.17,160.614 2113.57,160.614 2123.97,160.614 2134.37,160.614 2144.77,160.613 2155.16,160.613 2165.56,160.613 2175.96,160.613 2186.36,160.613 2196.76,160.613 2207.16,160.613 2217.56,160.613 2227.96,160.613 2238.36,160.613 2248.76,160.613 2259.16,160.613 2269.56,160.613 2279.96,160.613 2290.36,160.613 \"/>\n",
       "<polyline clip-path=\"url(#clip372)\" style=\"stroke:#e26f46; stroke-linecap:round; stroke-linejoin:round; stroke-width:4; stroke-opacity:1; fill:none\" points=\"210.454,591.706 220.853,605.444 231.253,643.399 241.652,699.715 252.052,768.117 262.451,842.422 272.851,917.692 283.25,990.771 293.65,1059.96 304.049,1124.44 314.449,1183.8 324.849,1237.77 335.248,1286.13 345.648,1328.62 356.047,1364.95 366.447,1394.84 376.846,1418.04 387.246,1434.33 397.645,1443.57 408.045,1445.72 418.444,1440.82 428.844,1429.02 439.243,1410.54 449.643,1385.64 460.042,1354.65 470.442,1317.92 480.841,1275.86 491.241,1228.94 501.64,1177.72 512.04,1122.83 522.44,1064.97 532.839,1005.02 543.239,944.036 553.638,883.336 564.038,824.557 574.437,769.562 584.837,720.247 595.236,678.32 605.636,645.205 616.035,622.168 626.435,610.548 636.834,611.949 647.234,628.24 657.633,661.183 668.033,711.488 678.432,777.492 688.832,854.607 699.231,936.669 709.631,1018.09 720.03,1094.96 730.43,1164.99 740.83,1227.02 751.229,1280.65 761.629,1325.94 772.028,1363.16 782.428,1392.6 792.827,1414.55 803.227,1429.26 813.626,1436.98 824.026,1438 834.425,1432.68 844.825,1421.42 855.224,1404.73 865.624,1383.12 876.023,1357.18 886.423,1327.5 896.822,1294.68 907.222,1259.31 917.621,1221.98 928.021,1183.25 938.421,1143.67 948.82,1103.75 959.22,1063.96 969.619,1024.78 980.019,986.606 990.418,949.836 1000.82,914.805 1011.22,881.796 1021.62,851.025 1032.02,822.633 1042.42,796.684 1052.82,773.17 1063.21,752.021 1073.61,733.115 1084.01,716.303 1094.41,701.41 1104.81,688.259 1115.21,676.672 1125.61,666.479 1136.01,657.521 1146.41,649.655 1156.81,642.75 1167.21,636.687 1177.61,631.365 1188.01,626.691 1198.41,622.585 1208.81,618.977 1219.21,615.804 1229.61,613.013 1240.01,610.556 1250.41,608.392 1260.81,606.485 1271.21,604.803 1281.6,603.319 1292,602.01 1302.4,600.852 1312.8,599.83 1323.2,598.925 1333.6,598.125 1344,597.416 1354.4,596.788 1364.8,596.232 1375.2,595.738 1385.6,595.3 1396,594.911 1406.4,594.566 1416.8,594.258 1427.2,593.985 1437.6,593.742 1448,593.526 1458.4,593.333 1468.8,593.161 1479.2,593.008 1489.6,592.872 1499.99,592.75 1510.39,592.641 1520.79,592.544 1531.19,592.457 1541.59,592.379 1551.99,592.31 1562.39,592.248 1572.79,592.192 1583.19,592.142 1593.59,592.098 1603.99,592.058 1614.39,592.022 1624.79,591.99 1635.19,591.961 1645.59,591.936 1655.99,591.912 1666.39,591.892 1676.79,591.873 1687.19,591.856 1697.59,591.841 1707.99,591.828 1718.38,591.816 1728.78,591.805 1739.18,591.795 1749.58,591.786 1759.98,591.778 1770.38,591.771 1780.78,591.765 1791.18,591.759 1801.58,591.754 1811.98,591.749 1822.38,591.745 1832.78,591.741 1843.18,591.737 1853.58,591.734 1863.98,591.732 1874.38,591.729 1884.78,591.727 1895.18,591.725 1905.58,591.723 1915.98,591.721 1926.38,591.72 1936.77,591.718 1947.17,591.717 1957.57,591.716 1967.97,591.715 1978.37,591.714 1988.77,591.713 1999.17,591.713 2009.57,591.712 2019.97,591.711 2030.37,591.711 2040.77,591.71 2051.17,591.71 2061.57,591.71 2071.97,591.709 2082.37,591.709 2092.77,591.709 2103.17,591.708 2113.57,591.708 2123.97,591.708 2134.37,591.708 2144.77,591.708 2155.16,591.707 2165.56,591.707 2175.96,591.707 2186.36,591.707 2196.76,591.707 2207.16,591.707 2217.56,591.707 2227.96,591.707 2238.36,591.707 2248.76,591.706 2259.16,591.706 2269.56,591.706 2279.96,591.706 2290.36,591.706 \"/>\n",
       "<path clip-path=\"url(#clip370)\" d=\"M221.547 250.738 L494.447 250.738 L494.447 95.2176 L221.547 95.2176  Z\" fill=\"#ffffff\" fill-rule=\"evenodd\" fill-opacity=\"1\"/>\n",
       "<polyline clip-path=\"url(#clip370)\" style=\"stroke:#000000; stroke-linecap:round; stroke-linejoin:round; stroke-width:4; stroke-opacity:1; fill:none\" points=\"221.547,250.738 494.447,250.738 494.447,95.2176 221.547,95.2176 221.547,250.738 \"/>\n",
       "<polyline clip-path=\"url(#clip370)\" style=\"stroke:#009af9; stroke-linecap:round; stroke-linejoin:round; stroke-width:4; stroke-opacity:1; fill:none\" points=\"246.043,147.058 393.023,147.058 \"/>\n",
       "<path clip-path=\"url(#clip370)\" d=\"M431.362 166.745 Q429.557 171.375 427.844 172.787 Q426.131 174.199 423.261 174.199 L419.858 174.199 L419.858 170.634 L422.358 170.634 Q424.117 170.634 425.089 169.8 Q426.061 168.967 427.242 165.865 L428.006 163.921 L417.52 138.412 L422.034 138.412 L430.136 158.689 L438.237 138.412 L442.751 138.412 L431.362 166.745 Z\" fill=\"#000000\" fill-rule=\"nonzero\" fill-opacity=\"1\" /><path clip-path=\"url(#clip370)\" d=\"M450.043 160.402 L457.682 160.402 L457.682 134.037 L449.372 135.703 L449.372 131.444 L457.635 129.778 L462.311 129.778 L462.311 160.402 L469.95 160.402 L469.95 164.338 L450.043 164.338 L450.043 160.402 Z\" fill=\"#000000\" fill-rule=\"nonzero\" fill-opacity=\"1\" /><polyline clip-path=\"url(#clip370)\" style=\"stroke:#e26f46; stroke-linecap:round; stroke-linejoin:round; stroke-width:4; stroke-opacity:1; fill:none\" points=\"246.043,198.898 393.023,198.898 \"/>\n",
       "<path clip-path=\"url(#clip370)\" d=\"M431.362 218.585 Q429.557 223.215 427.844 224.627 Q426.131 226.039 423.261 226.039 L419.858 226.039 L419.858 222.474 L422.358 222.474 Q424.117 222.474 425.089 221.64 Q426.061 220.807 427.242 217.705 L428.006 215.761 L417.52 190.252 L422.034 190.252 L430.136 210.529 L438.237 190.252 L442.751 190.252 L431.362 218.585 Z\" fill=\"#000000\" fill-rule=\"nonzero\" fill-opacity=\"1\" /><path clip-path=\"url(#clip370)\" d=\"M453.26 212.242 L469.58 212.242 L469.58 216.178 L447.635 216.178 L447.635 212.242 Q450.297 209.488 454.881 204.858 Q459.487 200.205 460.668 198.863 Q462.913 196.34 463.793 194.604 Q464.696 192.844 464.696 191.155 Q464.696 188.4 462.751 186.664 Q460.83 184.928 457.728 184.928 Q455.529 184.928 453.075 185.692 Q450.645 186.455 447.867 188.006 L447.867 183.284 Q450.691 182.15 453.145 181.571 Q455.598 180.993 457.635 180.993 Q463.006 180.993 466.2 183.678 Q469.395 186.363 469.395 190.854 Q469.395 192.983 468.584 194.905 Q467.797 196.803 465.691 199.395 Q465.112 200.067 462.01 203.284 Q458.909 206.479 453.26 212.242 Z\" fill=\"#000000\" fill-rule=\"nonzero\" fill-opacity=\"1\" /></svg>\n"
      ]
     },
     "execution_count": 30,
     "metadata": {},
     "output_type": "execute_result"
    }
   ],
   "source": [
    "plot(thist,xtraj[1,:])\n",
    "plot!(thist,xtraj[2,:])"
   ]
  },
  {
   "cell_type": "code",
   "execution_count": 31,
   "id": "1bb2cdd7-6eae-40ab-b632-c177cdded80d",
   "metadata": {},
   "outputs": [
    {
     "data": {
      "image/svg+xml": [
       "<?xml version=\"1.0\" encoding=\"utf-8\"?>\n",
       "<svg xmlns=\"http://www.w3.org/2000/svg\" xmlns:xlink=\"http://www.w3.org/1999/xlink\" width=\"600\" height=\"400\" viewBox=\"0 0 2400 1600\">\n",
       "<defs>\n",
       "  <clipPath id=\"clip410\">\n",
       "    <rect x=\"0\" y=\"0\" width=\"2400\" height=\"1600\"/>\n",
       "  </clipPath>\n",
       "</defs>\n",
       "<path clip-path=\"url(#clip410)\" d=\"M0 1600 L2400 1600 L2400 0 L0 0  Z\" fill=\"#ffffff\" fill-rule=\"evenodd\" fill-opacity=\"1\"/>\n",
       "<defs>\n",
       "  <clipPath id=\"clip411\">\n",
       "    <rect x=\"480\" y=\"0\" width=\"1681\" height=\"1600\"/>\n",
       "  </clipPath>\n",
       "</defs>\n",
       "<path clip-path=\"url(#clip410)\" d=\"M178.867 1486.45 L2352.76 1486.45 L2352.76 47.2441 L178.867 47.2441  Z\" fill=\"#ffffff\" fill-rule=\"evenodd\" fill-opacity=\"1\"/>\n",
       "<defs>\n",
       "  <clipPath id=\"clip412\">\n",
       "    <rect x=\"178\" y=\"47\" width=\"2175\" height=\"1440\"/>\n",
       "  </clipPath>\n",
       "</defs>\n",
       "<polyline clip-path=\"url(#clip412)\" style=\"stroke:#000000; stroke-linecap:round; stroke-linejoin:round; stroke-width:2; stroke-opacity:0.1; fill:none\" points=\"240.392,1486.45 240.392,47.2441 \"/>\n",
       "<polyline clip-path=\"url(#clip412)\" style=\"stroke:#000000; stroke-linecap:round; stroke-linejoin:round; stroke-width:2; stroke-opacity:0.1; fill:none\" points=\"755.678,1486.45 755.678,47.2441 \"/>\n",
       "<polyline clip-path=\"url(#clip412)\" style=\"stroke:#000000; stroke-linecap:round; stroke-linejoin:round; stroke-width:2; stroke-opacity:0.1; fill:none\" points=\"1270.96,1486.45 1270.96,47.2441 \"/>\n",
       "<polyline clip-path=\"url(#clip412)\" style=\"stroke:#000000; stroke-linecap:round; stroke-linejoin:round; stroke-width:2; stroke-opacity:0.1; fill:none\" points=\"1786.25,1486.45 1786.25,47.2441 \"/>\n",
       "<polyline clip-path=\"url(#clip412)\" style=\"stroke:#000000; stroke-linecap:round; stroke-linejoin:round; stroke-width:2; stroke-opacity:0.1; fill:none\" points=\"2301.54,1486.45 2301.54,47.2441 \"/>\n",
       "<polyline clip-path=\"url(#clip410)\" style=\"stroke:#000000; stroke-linecap:round; stroke-linejoin:round; stroke-width:4; stroke-opacity:1; fill:none\" points=\"178.867,1486.45 2352.76,1486.45 \"/>\n",
       "<polyline clip-path=\"url(#clip410)\" style=\"stroke:#000000; stroke-linecap:round; stroke-linejoin:round; stroke-width:4; stroke-opacity:1; fill:none\" points=\"240.392,1486.45 240.392,1467.55 \"/>\n",
       "<polyline clip-path=\"url(#clip410)\" style=\"stroke:#000000; stroke-linecap:round; stroke-linejoin:round; stroke-width:4; stroke-opacity:1; fill:none\" points=\"755.678,1486.45 755.678,1467.55 \"/>\n",
       "<polyline clip-path=\"url(#clip410)\" style=\"stroke:#000000; stroke-linecap:round; stroke-linejoin:round; stroke-width:4; stroke-opacity:1; fill:none\" points=\"1270.96,1486.45 1270.96,1467.55 \"/>\n",
       "<polyline clip-path=\"url(#clip410)\" style=\"stroke:#000000; stroke-linecap:round; stroke-linejoin:round; stroke-width:4; stroke-opacity:1; fill:none\" points=\"1786.25,1486.45 1786.25,1467.55 \"/>\n",
       "<polyline clip-path=\"url(#clip410)\" style=\"stroke:#000000; stroke-linecap:round; stroke-linejoin:round; stroke-width:4; stroke-opacity:1; fill:none\" points=\"2301.54,1486.45 2301.54,1467.55 \"/>\n",
       "<path clip-path=\"url(#clip410)\" d=\"M217.776 1517.37 Q214.165 1517.37 212.336 1520.93 Q210.531 1524.47 210.531 1531.6 Q210.531 1538.71 212.336 1542.27 Q214.165 1545.82 217.776 1545.82 Q221.41 1545.82 223.216 1542.27 Q225.045 1538.71 225.045 1531.6 Q225.045 1524.47 223.216 1520.93 Q221.41 1517.37 217.776 1517.37 M217.776 1513.66 Q223.586 1513.66 226.642 1518.27 Q229.721 1522.85 229.721 1531.6 Q229.721 1540.33 226.642 1544.94 Q223.586 1549.52 217.776 1549.52 Q211.966 1549.52 208.887 1544.94 Q205.832 1540.33 205.832 1531.6 Q205.832 1522.85 208.887 1518.27 Q211.966 1513.66 217.776 1513.66 Z\" fill=\"#000000\" fill-rule=\"nonzero\" fill-opacity=\"1\" /><path clip-path=\"url(#clip410)\" d=\"M237.938 1542.97 L242.822 1542.97 L242.822 1548.85 L237.938 1548.85 L237.938 1542.97 Z\" fill=\"#000000\" fill-rule=\"nonzero\" fill-opacity=\"1\" /><path clip-path=\"url(#clip410)\" d=\"M263.007 1517.37 Q259.396 1517.37 257.568 1520.93 Q255.762 1524.47 255.762 1531.6 Q255.762 1538.71 257.568 1542.27 Q259.396 1545.82 263.007 1545.82 Q266.642 1545.82 268.447 1542.27 Q270.276 1538.71 270.276 1531.6 Q270.276 1524.47 268.447 1520.93 Q266.642 1517.37 263.007 1517.37 M263.007 1513.66 Q268.818 1513.66 271.873 1518.27 Q274.952 1522.85 274.952 1531.6 Q274.952 1540.33 271.873 1544.94 Q268.818 1549.52 263.007 1549.52 Q257.197 1549.52 254.119 1544.94 Q251.063 1540.33 251.063 1531.6 Q251.063 1522.85 254.119 1518.27 Q257.197 1513.66 263.007 1513.66 Z\" fill=\"#000000\" fill-rule=\"nonzero\" fill-opacity=\"1\" /><path clip-path=\"url(#clip410)\" d=\"M727.414 1544.91 L743.734 1544.91 L743.734 1548.85 L721.789 1548.85 L721.789 1544.91 Q724.451 1542.16 729.035 1537.53 Q733.641 1532.88 734.822 1531.53 Q737.067 1529.01 737.947 1527.27 Q738.849 1525.51 738.849 1523.82 Q738.849 1521.07 736.905 1519.33 Q734.984 1517.6 731.882 1517.6 Q729.683 1517.6 727.229 1518.36 Q724.799 1519.13 722.021 1520.68 L722.021 1515.95 Q724.845 1514.82 727.298 1514.24 Q729.752 1513.66 731.789 1513.66 Q737.16 1513.66 740.354 1516.35 Q743.548 1519.03 743.548 1523.52 Q743.548 1525.65 742.738 1527.57 Q741.951 1529.47 739.845 1532.07 Q739.266 1532.74 736.164 1535.95 Q733.062 1539.15 727.414 1544.91 Z\" fill=\"#000000\" fill-rule=\"nonzero\" fill-opacity=\"1\" /><path clip-path=\"url(#clip410)\" d=\"M753.548 1542.97 L758.433 1542.97 L758.433 1548.85 L753.548 1548.85 L753.548 1542.97 Z\" fill=\"#000000\" fill-rule=\"nonzero\" fill-opacity=\"1\" /><path clip-path=\"url(#clip410)\" d=\"M768.664 1514.29 L787.02 1514.29 L787.02 1518.22 L772.946 1518.22 L772.946 1526.7 Q773.965 1526.35 774.983 1526.19 Q776.002 1526 777.02 1526 Q782.807 1526 786.187 1529.17 Q789.567 1532.34 789.567 1537.76 Q789.567 1543.34 786.094 1546.44 Q782.622 1549.52 776.303 1549.52 Q774.127 1549.52 771.858 1549.15 Q769.613 1548.78 767.206 1548.04 L767.206 1543.34 Q769.289 1544.47 771.511 1545.03 Q773.733 1545.58 776.21 1545.58 Q780.215 1545.58 782.553 1543.48 Q784.891 1541.37 784.891 1537.76 Q784.891 1534.15 782.553 1532.04 Q780.215 1529.94 776.21 1529.94 Q774.335 1529.94 772.46 1530.35 Q770.608 1530.77 768.664 1531.65 L768.664 1514.29 Z\" fill=\"#000000\" fill-rule=\"nonzero\" fill-opacity=\"1\" /><path clip-path=\"url(#clip410)\" d=\"M1238.13 1514.29 L1256.49 1514.29 L1256.49 1518.22 L1242.41 1518.22 L1242.41 1526.7 Q1243.43 1526.35 1244.45 1526.19 Q1245.47 1526 1246.49 1526 Q1252.27 1526 1255.65 1529.17 Q1259.03 1532.34 1259.03 1537.76 Q1259.03 1543.34 1255.56 1546.44 Q1252.09 1549.52 1245.77 1549.52 Q1243.59 1549.52 1241.32 1549.15 Q1239.08 1548.78 1236.67 1548.04 L1236.67 1543.34 Q1238.75 1544.47 1240.98 1545.03 Q1243.2 1545.58 1245.67 1545.58 Q1249.68 1545.58 1252.02 1543.48 Q1254.36 1541.37 1254.36 1537.76 Q1254.36 1534.15 1252.02 1532.04 Q1249.68 1529.94 1245.67 1529.94 Q1243.8 1529.94 1241.92 1530.35 Q1240.07 1530.77 1238.13 1531.65 L1238.13 1514.29 Z\" fill=\"#000000\" fill-rule=\"nonzero\" fill-opacity=\"1\" /><path clip-path=\"url(#clip410)\" d=\"M1268.24 1542.97 L1273.13 1542.97 L1273.13 1548.85 L1268.24 1548.85 L1268.24 1542.97 Z\" fill=\"#000000\" fill-rule=\"nonzero\" fill-opacity=\"1\" /><path clip-path=\"url(#clip410)\" d=\"M1293.31 1517.37 Q1289.7 1517.37 1287.87 1520.93 Q1286.07 1524.47 1286.07 1531.6 Q1286.07 1538.71 1287.87 1542.27 Q1289.7 1545.82 1293.31 1545.82 Q1296.95 1545.82 1298.75 1542.27 Q1300.58 1538.71 1300.58 1531.6 Q1300.58 1524.47 1298.75 1520.93 Q1296.95 1517.37 1293.31 1517.37 M1293.31 1513.66 Q1299.12 1513.66 1302.18 1518.27 Q1305.26 1522.85 1305.26 1531.6 Q1305.26 1540.33 1302.18 1544.94 Q1299.12 1549.52 1293.31 1549.52 Q1287.5 1549.52 1284.42 1544.94 Q1281.37 1540.33 1281.37 1531.6 Q1281.37 1522.85 1284.42 1518.27 Q1287.5 1513.66 1293.31 1513.66 Z\" fill=\"#000000\" fill-rule=\"nonzero\" fill-opacity=\"1\" /><path clip-path=\"url(#clip410)\" d=\"M1752.57 1514.29 L1774.79 1514.29 L1774.79 1516.28 L1762.25 1548.85 L1757.36 1548.85 L1769.17 1518.22 L1752.57 1518.22 L1752.57 1514.29 Z\" fill=\"#000000\" fill-rule=\"nonzero\" fill-opacity=\"1\" /><path clip-path=\"url(#clip410)\" d=\"M1783.91 1542.97 L1788.8 1542.97 L1788.8 1548.85 L1783.91 1548.85 L1783.91 1542.97 Z\" fill=\"#000000\" fill-rule=\"nonzero\" fill-opacity=\"1\" /><path clip-path=\"url(#clip410)\" d=\"M1799.03 1514.29 L1817.38 1514.29 L1817.38 1518.22 L1803.31 1518.22 L1803.31 1526.7 Q1804.33 1526.35 1805.35 1526.19 Q1806.37 1526 1807.38 1526 Q1813.17 1526 1816.55 1529.17 Q1819.93 1532.34 1819.93 1537.76 Q1819.93 1543.34 1816.46 1546.44 Q1812.99 1549.52 1806.67 1549.52 Q1804.49 1549.52 1802.22 1549.15 Q1799.98 1548.78 1797.57 1548.04 L1797.57 1543.34 Q1799.65 1544.47 1801.88 1545.03 Q1804.1 1545.58 1806.57 1545.58 Q1810.58 1545.58 1812.92 1543.48 Q1815.25 1541.37 1815.25 1537.76 Q1815.25 1534.15 1812.92 1532.04 Q1810.58 1529.94 1806.57 1529.94 Q1804.7 1529.94 1802.82 1530.35 Q1800.97 1530.77 1799.03 1531.65 L1799.03 1514.29 Z\" fill=\"#000000\" fill-rule=\"nonzero\" fill-opacity=\"1\" /><path clip-path=\"url(#clip410)\" d=\"M2253.61 1544.91 L2261.25 1544.91 L2261.25 1518.55 L2252.94 1520.21 L2252.94 1515.95 L2261.2 1514.29 L2265.88 1514.29 L2265.88 1544.91 L2273.52 1544.91 L2273.52 1548.85 L2253.61 1548.85 L2253.61 1544.91 Z\" fill=\"#000000\" fill-rule=\"nonzero\" fill-opacity=\"1\" /><path clip-path=\"url(#clip410)\" d=\"M2292.96 1517.37 Q2289.35 1517.37 2287.52 1520.93 Q2285.71 1524.47 2285.71 1531.6 Q2285.71 1538.71 2287.52 1542.27 Q2289.35 1545.82 2292.96 1545.82 Q2296.59 1545.82 2298.4 1542.27 Q2300.23 1538.71 2300.23 1531.6 Q2300.23 1524.47 2298.4 1520.93 Q2296.59 1517.37 2292.96 1517.37 M2292.96 1513.66 Q2298.77 1513.66 2301.83 1518.27 Q2304.9 1522.85 2304.9 1531.6 Q2304.9 1540.33 2301.83 1544.94 Q2298.77 1549.52 2292.96 1549.52 Q2287.15 1549.52 2284.07 1544.94 Q2281.02 1540.33 2281.02 1531.6 Q2281.02 1522.85 2284.07 1518.27 Q2287.15 1513.66 2292.96 1513.66 Z\" fill=\"#000000\" fill-rule=\"nonzero\" fill-opacity=\"1\" /><path clip-path=\"url(#clip410)\" d=\"M2313.12 1542.97 L2318.01 1542.97 L2318.01 1548.85 L2313.12 1548.85 L2313.12 1542.97 Z\" fill=\"#000000\" fill-rule=\"nonzero\" fill-opacity=\"1\" /><path clip-path=\"url(#clip410)\" d=\"M2338.19 1517.37 Q2334.58 1517.37 2332.75 1520.93 Q2330.95 1524.47 2330.95 1531.6 Q2330.95 1538.71 2332.75 1542.27 Q2334.58 1545.82 2338.19 1545.82 Q2341.83 1545.82 2343.63 1542.27 Q2345.46 1538.71 2345.46 1531.6 Q2345.46 1524.47 2343.63 1520.93 Q2341.83 1517.37 2338.19 1517.37 M2338.19 1513.66 Q2344 1513.66 2347.06 1518.27 Q2350.14 1522.85 2350.14 1531.6 Q2350.14 1540.33 2347.06 1544.94 Q2344 1549.52 2338.19 1549.52 Q2332.38 1549.52 2329.3 1544.94 Q2326.25 1540.33 2326.25 1531.6 Q2326.25 1522.85 2329.3 1518.27 Q2332.38 1513.66 2338.19 1513.66 Z\" fill=\"#000000\" fill-rule=\"nonzero\" fill-opacity=\"1\" /><polyline clip-path=\"url(#clip412)\" style=\"stroke:#000000; stroke-linecap:round; stroke-linejoin:round; stroke-width:2; stroke-opacity:0.1; fill:none\" points=\"178.867,1403.5 2352.76,1403.5 \"/>\n",
       "<polyline clip-path=\"url(#clip412)\" style=\"stroke:#000000; stroke-linecap:round; stroke-linejoin:round; stroke-width:2; stroke-opacity:0.1; fill:none\" points=\"178.867,1092.96 2352.76,1092.96 \"/>\n",
       "<polyline clip-path=\"url(#clip412)\" style=\"stroke:#000000; stroke-linecap:round; stroke-linejoin:round; stroke-width:2; stroke-opacity:0.1; fill:none\" points=\"178.867,782.425 2352.76,782.425 \"/>\n",
       "<polyline clip-path=\"url(#clip412)\" style=\"stroke:#000000; stroke-linecap:round; stroke-linejoin:round; stroke-width:2; stroke-opacity:0.1; fill:none\" points=\"178.867,471.889 2352.76,471.889 \"/>\n",
       "<polyline clip-path=\"url(#clip412)\" style=\"stroke:#000000; stroke-linecap:round; stroke-linejoin:round; stroke-width:2; stroke-opacity:0.1; fill:none\" points=\"178.867,161.352 2352.76,161.352 \"/>\n",
       "<polyline clip-path=\"url(#clip410)\" style=\"stroke:#000000; stroke-linecap:round; stroke-linejoin:round; stroke-width:4; stroke-opacity:1; fill:none\" points=\"178.867,1486.45 178.867,47.2441 \"/>\n",
       "<polyline clip-path=\"url(#clip410)\" style=\"stroke:#000000; stroke-linecap:round; stroke-linejoin:round; stroke-width:4; stroke-opacity:1; fill:none\" points=\"178.867,1403.5 197.764,1403.5 \"/>\n",
       "<polyline clip-path=\"url(#clip410)\" style=\"stroke:#000000; stroke-linecap:round; stroke-linejoin:round; stroke-width:4; stroke-opacity:1; fill:none\" points=\"178.867,1092.96 197.764,1092.96 \"/>\n",
       "<polyline clip-path=\"url(#clip410)\" style=\"stroke:#000000; stroke-linecap:round; stroke-linejoin:round; stroke-width:4; stroke-opacity:1; fill:none\" points=\"178.867,782.425 197.764,782.425 \"/>\n",
       "<polyline clip-path=\"url(#clip410)\" style=\"stroke:#000000; stroke-linecap:round; stroke-linejoin:round; stroke-width:4; stroke-opacity:1; fill:none\" points=\"178.867,471.889 197.764,471.889 \"/>\n",
       "<polyline clip-path=\"url(#clip410)\" style=\"stroke:#000000; stroke-linecap:round; stroke-linejoin:round; stroke-width:4; stroke-opacity:1; fill:none\" points=\"178.867,161.352 197.764,161.352 \"/>\n",
       "<path clip-path=\"url(#clip410)\" d=\"M50.9921 1403.95 L80.6679 1403.95 L80.6679 1407.88 L50.9921 1407.88 L50.9921 1403.95 Z\" fill=\"#000000\" fill-rule=\"nonzero\" fill-opacity=\"1\" /><path clip-path=\"url(#clip410)\" d=\"M104.927 1402.14 Q108.283 1402.86 110.158 1405.13 Q112.057 1407.4 112.057 1410.73 Q112.057 1415.85 108.538 1418.65 Q105.02 1421.45 98.5382 1421.45 Q96.3623 1421.45 94.0475 1421.01 Q91.7558 1420.59 89.3021 1419.74 L89.3021 1415.22 Q91.2465 1416.36 93.5613 1416.93 Q95.8761 1417.51 98.3993 1417.51 Q102.797 1417.51 105.089 1415.78 Q107.404 1414.04 107.404 1410.73 Q107.404 1407.68 105.251 1405.96 Q103.121 1404.23 99.3021 1404.23 L95.2743 1404.23 L95.2743 1400.38 L99.4872 1400.38 Q102.936 1400.38 104.765 1399.02 Q106.594 1397.63 106.594 1395.04 Q106.594 1392.37 104.696 1390.96 Q102.821 1389.53 99.3021 1389.53 Q97.3808 1389.53 95.1817 1389.94 Q92.9826 1390.36 90.3438 1391.24 L90.3438 1387.07 Q93.0058 1386.33 95.3206 1385.96 Q97.6585 1385.59 99.7187 1385.59 Q105.043 1385.59 108.145 1388.02 Q111.246 1390.43 111.246 1394.55 Q111.246 1397.42 109.603 1399.41 Q107.959 1401.38 104.927 1402.14 Z\" fill=\"#000000\" fill-rule=\"nonzero\" fill-opacity=\"1\" /><path clip-path=\"url(#clip410)\" d=\"M130.922 1389.3 Q127.311 1389.3 125.482 1392.86 Q123.677 1396.4 123.677 1403.53 Q123.677 1410.64 125.482 1414.2 Q127.311 1417.75 130.922 1417.75 Q134.556 1417.75 136.362 1414.2 Q138.191 1410.64 138.191 1403.53 Q138.191 1396.4 136.362 1392.86 Q134.556 1389.3 130.922 1389.3 M130.922 1385.59 Q136.732 1385.59 139.788 1390.2 Q142.867 1394.78 142.867 1403.53 Q142.867 1412.26 139.788 1416.87 Q136.732 1421.45 130.922 1421.45 Q125.112 1421.45 122.033 1416.87 Q118.978 1412.26 118.978 1403.53 Q118.978 1394.78 122.033 1390.2 Q125.112 1385.59 130.922 1385.59 Z\" fill=\"#000000\" fill-rule=\"nonzero\" fill-opacity=\"1\" /><path clip-path=\"url(#clip410)\" d=\"M50.9921 1093.41 L80.6679 1093.41 L80.6679 1097.35 L50.9921 1097.35 L50.9921 1093.41 Z\" fill=\"#000000\" fill-rule=\"nonzero\" fill-opacity=\"1\" /><path clip-path=\"url(#clip410)\" d=\"M94.7882 1106.31 L111.108 1106.31 L111.108 1110.24 L89.1632 1110.24 L89.1632 1106.31 Q91.8252 1103.55 96.4085 1098.92 Q101.015 1094.27 102.196 1092.93 Q104.441 1090.4 105.321 1088.67 Q106.223 1086.91 106.223 1085.22 Q106.223 1082.46 104.279 1080.73 Q102.358 1078.99 99.2558 1078.99 Q97.0567 1078.99 94.603 1079.76 Q92.1725 1080.52 89.3947 1082.07 L89.3947 1077.35 Q92.2188 1076.21 94.6724 1075.63 Q97.1261 1075.06 99.1632 1075.06 Q104.534 1075.06 107.728 1077.74 Q110.922 1080.43 110.922 1084.92 Q110.922 1087.05 110.112 1088.97 Q109.325 1090.87 107.219 1093.46 Q106.64 1094.13 103.538 1097.35 Q100.436 1100.54 94.7882 1106.31 Z\" fill=\"#000000\" fill-rule=\"nonzero\" fill-opacity=\"1\" /><path clip-path=\"url(#clip410)\" d=\"M130.922 1078.76 Q127.311 1078.76 125.482 1082.32 Q123.677 1085.87 123.677 1093 Q123.677 1100.1 125.482 1103.67 Q127.311 1107.21 130.922 1107.21 Q134.556 1107.21 136.362 1103.67 Q138.191 1100.1 138.191 1093 Q138.191 1085.87 136.362 1082.32 Q134.556 1078.76 130.922 1078.76 M130.922 1075.06 Q136.732 1075.06 139.788 1079.66 Q142.867 1084.25 142.867 1093 Q142.867 1101.72 139.788 1106.33 Q136.732 1110.91 130.922 1110.91 Q125.112 1110.91 122.033 1106.33 Q118.978 1101.72 118.978 1093 Q118.978 1084.25 122.033 1079.66 Q125.112 1075.06 130.922 1075.06 Z\" fill=\"#000000\" fill-rule=\"nonzero\" fill-opacity=\"1\" /><path clip-path=\"url(#clip410)\" d=\"M50.9921 782.876 L80.6679 782.876 L80.6679 786.811 L50.9921 786.811 L50.9921 782.876 Z\" fill=\"#000000\" fill-rule=\"nonzero\" fill-opacity=\"1\" /><path clip-path=\"url(#clip410)\" d=\"M91.5706 795.77 L99.2095 795.77 L99.2095 769.404 L90.8993 771.071 L90.8993 766.812 L99.1632 765.145 L103.839 765.145 L103.839 795.77 L111.478 795.77 L111.478 799.705 L91.5706 799.705 L91.5706 795.77 Z\" fill=\"#000000\" fill-rule=\"nonzero\" fill-opacity=\"1\" /><path clip-path=\"url(#clip410)\" d=\"M130.922 768.224 Q127.311 768.224 125.482 771.788 Q123.677 775.33 123.677 782.46 Q123.677 789.566 125.482 793.131 Q127.311 796.673 130.922 796.673 Q134.556 796.673 136.362 793.131 Q138.191 789.566 138.191 782.46 Q138.191 775.33 136.362 771.788 Q134.556 768.224 130.922 768.224 M130.922 764.52 Q136.732 764.52 139.788 769.126 Q142.867 773.71 142.867 782.46 Q142.867 791.186 139.788 795.793 Q136.732 800.376 130.922 800.376 Q125.112 800.376 122.033 795.793 Q118.978 791.186 118.978 782.46 Q118.978 773.71 122.033 769.126 Q125.112 764.52 130.922 764.52 Z\" fill=\"#000000\" fill-rule=\"nonzero\" fill-opacity=\"1\" /><path clip-path=\"url(#clip410)\" d=\"M130.922 457.687 Q127.311 457.687 125.482 461.252 Q123.677 464.794 123.677 471.923 Q123.677 479.03 125.482 482.595 Q127.311 486.136 130.922 486.136 Q134.556 486.136 136.362 482.595 Q138.191 479.03 138.191 471.923 Q138.191 464.794 136.362 461.252 Q134.556 457.687 130.922 457.687 M130.922 453.984 Q136.732 453.984 139.788 458.59 Q142.867 463.173 142.867 471.923 Q142.867 480.65 139.788 485.257 Q136.732 489.84 130.922 489.84 Q125.112 489.84 122.033 485.257 Q118.978 480.65 118.978 471.923 Q118.978 463.173 122.033 458.59 Q125.112 453.984 130.922 453.984 Z\" fill=\"#000000\" fill-rule=\"nonzero\" fill-opacity=\"1\" /><path clip-path=\"url(#clip410)\" d=\"M91.5706 174.697 L99.2095 174.697 L99.2095 148.332 L90.8993 149.998 L90.8993 145.739 L99.1632 144.072 L103.839 144.072 L103.839 174.697 L111.478 174.697 L111.478 178.632 L91.5706 178.632 L91.5706 174.697 Z\" fill=\"#000000\" fill-rule=\"nonzero\" fill-opacity=\"1\" /><path clip-path=\"url(#clip410)\" d=\"M130.922 147.151 Q127.311 147.151 125.482 150.716 Q123.677 154.257 123.677 161.387 Q123.677 168.494 125.482 172.058 Q127.311 175.6 130.922 175.6 Q134.556 175.6 136.362 172.058 Q138.191 168.494 138.191 161.387 Q138.191 154.257 136.362 150.716 Q134.556 147.151 130.922 147.151 M130.922 143.447 Q136.732 143.447 139.788 148.054 Q142.867 152.637 142.867 161.387 Q142.867 170.114 139.788 174.72 Q136.732 179.304 130.922 179.304 Q125.112 179.304 122.033 174.72 Q118.978 170.114 118.978 161.387 Q118.978 152.637 122.033 148.054 Q125.112 143.447 130.922 143.447 Z\" fill=\"#000000\" fill-rule=\"nonzero\" fill-opacity=\"1\" /><polyline clip-path=\"url(#clip412)\" style=\"stroke:#009af9; stroke-linecap:round; stroke-linejoin:round; stroke-width:4; stroke-opacity:1; fill:none\" points=\"240.392,1386.82 250.698,1295.76 261.003,1227.49 271.309,1167.17 281.615,1104.24 291.92,1036.11 302.226,965.035 312.532,893.463 322.838,822.33 333.143,751.549 343.449,680.844 353.755,610.265 364.06,540.372 374.366,472.168 384.672,406.919 394.978,345.948 405.283,290.488 415.589,241.584 425.895,200.048 436.201,166.449 446.506,141.149 456.812,124.402 467.118,116.486 477.423,117.842 487.729,129.088 498.035,150.83 508.341,183.282 518.646,225.834 528.952,276.817 539.258,333.566 549.564,392.732 559.869,450.679 570.175,503.932 580.481,549.805 590.786,587.323 601.092,618.245 611.398,647.489 621.704,682.385 632.009,731.053 642.315,800.691 652.621,896.042 662.926,1017.49 673.232,1157.83 683.538,1297.81 693.844,1404.91 704.149,1445.72 714.455,1408.35 724.761,1307.75 735.067,1169.62 745.372,1016.77 755.678,865.392 765.984,725.526 776.289,601.991 786.595,495.675 796.901,405.251 807.207,328.728 817.512,264.379 827.818,211.018 838.124,167.903 848.429,134.53 858.735,110.447 869.041,95.1384 879.347,87.9763 889.652,88.2185 899.958,95.0244 910.264,107.472 920.57,124.572 930.875,145.285 941.181,168.551 951.487,193.34 961.792,218.705 972.098,243.822 982.404,268.023 992.71,290.807 1003.02,311.831 1013.32,330.905 1023.63,347.97 1033.93,363.073 1044.24,376.339 1054.54,387.945 1064.85,398.083 1075.16,406.949 1085.46,414.717 1095.77,421.54 1106.07,427.547 1116.38,432.844 1126.68,437.52 1136.99,441.648 1147.3,445.292 1157.6,448.507 1167.91,451.342 1178.21,453.839 1188.52,456.036 1198.82,457.968 1209.13,459.666 1219.44,461.158 1229.74,462.466 1240.05,463.615 1250.35,464.622 1260.66,465.505 1270.96,466.279 1281.27,466.958 1291.58,467.553 1301.88,468.075 1312.19,468.533 1322.49,468.935 1332.8,469.287 1343.1,469.596 1353.41,469.868 1363.72,470.106 1374.02,470.316 1384.33,470.5 1394.63,470.662 1404.94,470.805 1415.24,470.931 1425.55,471.041 1435.86,471.139 1446.16,471.224 1456.47,471.3 1466.77,471.367 1477.08,471.426 1487.38,471.478 1497.69,471.524 1508,471.565 1518.3,471.601 1528.61,471.633 1538.91,471.661 1549.22,471.686 1559.52,471.709 1569.83,471.728 1580.14,471.746 1590.44,471.761 1600.75,471.775 1611.05,471.787 1621.36,471.798 1631.66,471.808 1641.97,471.817 1652.28,471.824 1662.58,471.831 1672.89,471.837 1683.19,471.843 1693.5,471.848 1703.8,471.852 1714.11,471.856 1724.42,471.859 1734.72,471.862 1745.03,471.865 1755.33,471.867 1765.64,471.87 1775.94,471.872 1786.25,471.873 1796.56,471.875 1806.86,471.876 1817.17,471.878 1827.47,471.879 1837.78,471.88 1848.08,471.881 1858.39,471.881 1868.7,471.882 1879,471.883 1889.31,471.883 1899.61,471.884 1909.92,471.884 1920.22,471.885 1930.53,471.885 1940.84,471.886 1951.14,471.886 1961.45,471.886 1971.75,471.886 1982.06,471.887 1992.36,471.887 2002.67,471.887 2012.98,471.887 2023.28,471.887 2033.59,471.887 2043.89,471.888 2054.2,471.888 2064.5,471.888 2074.81,471.888 2085.12,471.888 2095.42,471.888 2105.73,471.888 2116.03,471.888 2126.34,471.888 2136.64,471.888 2146.95,471.888 2157.26,471.888 2167.56,471.888 2177.87,471.888 2188.17,471.888 2198.48,471.889 2208.78,471.889 2219.09,471.889 2229.4,471.889 2239.7,471.889 2250.01,471.889 2260.31,471.889 2270.62,471.889 2280.93,471.889 2291.23,471.889 \"/>\n",
       "<path clip-path=\"url(#clip410)\" d=\"M2010.47 198.898 L2280.29 198.898 L2280.29 95.2176 L2010.47 95.2176  Z\" fill=\"#ffffff\" fill-rule=\"evenodd\" fill-opacity=\"1\"/>\n",
       "<polyline clip-path=\"url(#clip410)\" style=\"stroke:#000000; stroke-linecap:round; stroke-linejoin:round; stroke-width:4; stroke-opacity:1; fill:none\" points=\"2010.47,198.898 2280.29,198.898 2280.29,95.2176 2010.47,95.2176 2010.47,198.898 \"/>\n",
       "<polyline clip-path=\"url(#clip410)\" style=\"stroke:#009af9; stroke-linecap:round; stroke-linejoin:round; stroke-width:4; stroke-opacity:1; fill:none\" points=\"2034.63,147.058 2179.55,147.058 \"/>\n",
       "<path clip-path=\"url(#clip410)\" d=\"M2217.55 166.745 Q2215.75 171.375 2214.03 172.787 Q2212.32 174.199 2209.45 174.199 L2206.05 174.199 L2206.05 170.634 L2208.55 170.634 Q2210.31 170.634 2211.28 169.8 Q2212.25 168.967 2213.43 165.865 L2214.19 163.921 L2203.71 138.412 L2208.22 138.412 L2216.32 158.689 L2224.43 138.412 L2228.94 138.412 L2217.55 166.745 Z\" fill=\"#000000\" fill-rule=\"nonzero\" fill-opacity=\"1\" /><path clip-path=\"url(#clip410)\" d=\"M2236.23 160.402 L2243.87 160.402 L2243.87 134.037 L2235.56 135.703 L2235.56 131.444 L2243.82 129.778 L2248.5 129.778 L2248.5 160.402 L2256.14 160.402 L2256.14 164.338 L2236.23 164.338 L2236.23 160.402 Z\" fill=\"#000000\" fill-rule=\"nonzero\" fill-opacity=\"1\" /></svg>\n"
      ]
     },
     "execution_count": 31,
     "metadata": {},
     "output_type": "execute_result"
    }
   ],
   "source": [
    "plot(thist[1:Nt-1],utraj)"
   ]
  },
  {
   "cell_type": "code",
   "execution_count": 32,
   "id": "3656e46c-22bf-49b9-92b8-45cfaf238291",
   "metadata": {},
   "outputs": [
    {
     "name": "stderr",
     "output_type": "stream",
     "text": [
      "\u001b[36m\u001b[1m┌ \u001b[22m\u001b[39m\u001b[36m\u001b[1mInfo: \u001b[22m\u001b[39mMeshCat server started. You can open the visualizer by visiting the following URL in your browser:\n",
      "\u001b[36m\u001b[1m└ \u001b[22m\u001b[39mhttp://127.0.0.1:8702\n"
     ]
    },
    {
     "data": {
      "text/html": [
       "    <div style=\"height: 500px; width: 100%; overflow-x: auto; overflow-y: hidden; resize: both\">\n",
       "    <iframe src=\"http://127.0.0.1:8702\" style=\"width: 100%; height: 100%; border: none\"></iframe>\n",
       "    </div>\n"
      ],
      "text/plain": [
       "MeshCat.DisplayedVisualizer(MeshCat.CoreVisualizer(MeshCat.SceneTrees.SceneNode(nothing, nothing, Dict{String, Vector{UInt8}}(), nothing, Dict{String, MeshCat.SceneTrees.SceneNode}()), Set{Any}(), ip\"127.0.0.1\", 8702))"
      ]
     },
     "execution_count": 32,
     "metadata": {},
     "output_type": "execute_result"
    }
   ],
   "source": [
    "using TrajOptPlots\n",
    "using MeshCat\n",
    "using StaticArrays\n",
    "\n",
    "vis = Visualizer()\n",
    "render(vis)"
   ]
  },
  {
   "cell_type": "code",
   "execution_count": 33,
   "id": "b6d19085-a177-4183-a2b3-d850f248916d",
   "metadata": {},
   "outputs": [
    {
     "data": {
      "text/plain": [
       "MeshCat Visualizer with path /meshcat/robot/link1/joint at http://127.0.0.1:8702"
      ]
     },
     "execution_count": 33,
     "metadata": {},
     "output_type": "execute_result"
    }
   ],
   "source": [
    "TrajOptPlots.set_mesh!(vis, a)"
   ]
  },
  {
   "cell_type": "code",
   "execution_count": 34,
   "id": "de9197f3-d8c3-4232-8ccf-9521671026d0",
   "metadata": {},
   "outputs": [],
   "source": [
    "X1 = [SVector{4}(x) for x in eachcol(xtraj)];\n",
    "visualize!(vis, a, thist[end], X1)"
   ]
  },
  {
   "cell_type": "code",
   "execution_count": null,
   "id": "ad9918a8-9821-4a10-bf4c-8ee57f288a23",
   "metadata": {},
   "outputs": [],
   "source": []
  }
 ],
 "metadata": {
  "kernelspec": {
   "display_name": "Julia 1.6.7",
   "language": "julia",
   "name": "julia-1.6"
  },
  "language_info": {
   "file_extension": ".jl",
   "mimetype": "application/julia",
   "name": "julia",
   "version": "1.6.7"
  }
 },
 "nbformat": 4,
 "nbformat_minor": 5
}
