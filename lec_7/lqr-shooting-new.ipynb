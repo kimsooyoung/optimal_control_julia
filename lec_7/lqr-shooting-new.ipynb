{
 "cells": [
  {
   "cell_type": "code",
   "execution_count": 1,
   "id": "cf6b5267-6e7b-43b0-b9d1-3d95f6d42a08",
   "metadata": {},
   "outputs": [
    {
     "name": "stderr",
     "output_type": "stream",
     "text": [
      "\u001b[32m\u001b[1m  Activating\u001b[22m\u001b[39m environment at `C:\\Users\\tge13\\Documents\\optimal_control_julia\\lec_7\\Project.toml`\n",
      "\u001b[32m\u001b[1mPrecompiling\u001b[22m\u001b[39m project...\n",
      "\u001b[32m  ✓ \u001b[39m\u001b[90mOrdinaryDiffEq\u001b[39m\n",
      "\u001b[32m  ✓ \u001b[39m\u001b[90mDelayDiffEq\u001b[39m\n",
      "\u001b[32m  ✓ \u001b[39mControlSystems\n",
      "  3 dependencies successfully precompiled in 515 seconds (141 already precompiled)\n"
     ]
    }
   ],
   "source": [
    "import Pkg; Pkg.activate(@__DIR__); Pkg.instantiate()"
   ]
  },
  {
   "cell_type": "code",
   "execution_count": null,
   "id": "f7447b26-f7da-4c06-ad0d-90c3b20c9005",
   "metadata": {
    "scrolled": true
   },
   "outputs": [],
   "source": [
    "using LinearAlgebra\n",
    "using Plots"
   ]
  },
  {
   "cell_type": "markdown",
   "id": "3a51a838-bf36-4042-81a2-e879814661f7",
   "metadata": {},
   "source": [
    "## Define Dynamics"
   ]
  },
  {
   "cell_type": "code",
   "execution_count": null,
   "id": "ddebee6d-9011-45af-8c44-9dc46d43b06c",
   "metadata": {},
   "outputs": [],
   "source": [
    "h = 0.1   # time step\n",
    "A = [ 1 h; 0 1 ]\n",
    "B = [ 0.5*h*h; h ]"
   ]
  },
  {
   "cell_type": "code",
   "execution_count": null,
   "id": "2b75d05c-de31-404e-ae86-77e77decd043",
   "metadata": {},
   "outputs": [],
   "source": [
    "n = 2     # number of state\n",
    "m = 1     # number of controls\n",
    "Tfinal = 5.0 # final time #try larger values\n",
    "N = Int(Tfinal/h) + 1\n",
    "t_hist = Array(range(0, h*(N-1), step=h))"
   ]
  },
  {
   "cell_type": "markdown",
   "id": "eceba360-6ccc-42a2-8418-a89377a83ee8",
   "metadata": {},
   "source": [
    "## Initial state and LQR variables"
   ]
  },
  {
   "cell_type": "code",
   "execution_count": 2,
   "id": "0327b36b-f90e-4d36-90e2-28b245f14490",
   "metadata": {},
   "outputs": [
    {
     "ename": "LoadError",
     "evalue": "UndefVarError: I not defined",
     "output_type": "error",
     "traceback": [
      "UndefVarError: I not defined",
      "",
      "Stacktrace:",
      " [1] top-level scope",
      "   @ In[2]:2"
     ]
    }
   ],
   "source": [
    "x0 = [ 1.0; 0 ]\n",
    "Q = 1.0 * I(2)\n",
    "R = 0.1\n",
    "Qn = 1.0 * I(2)\n",
    "\n",
    "# Julia repeat() ref : https://www.geeksforgeeks.org/creating-array-with-repeated-elements-in-julia-repeat-method/\n",
    "repeat(x0, N)"
   ]
  }
 ],
 "metadata": {
  "kernelspec": {
   "display_name": "Julia 1.6.7",
   "language": "julia",
   "name": "julia-1.6"
  },
  "language_info": {
   "file_extension": ".jl",
   "mimetype": "application/julia",
   "name": "julia",
   "version": "1.6.7"
  }
 },
 "nbformat": 4,
 "nbformat_minor": 5
}
