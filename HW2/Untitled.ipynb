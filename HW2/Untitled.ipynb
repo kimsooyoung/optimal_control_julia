{
 "cells": [
  {
   "cell_type": "code",
   "execution_count": 1,
   "id": "c664f3e0-5a8b-443b-aa84-7555e0f6090c",
   "metadata": {},
   "outputs": [],
   "source": [
    "using LinearAlgebra, Plots\n",
    "import ForwardDiff as FD\n",
    "using Test\n",
    "import Convex as cvx \n",
    "import ECOS\n",
    "using Random\n",
    "\n",
    "using JLD2\n"
   ]
  },
  {
   "cell_type": "code",
   "execution_count": 2,
   "id": "a61eb51d-7227-4872-891c-ee11b77966ef",
   "metadata": {},
   "outputs": [
    {
     "data": {
      "text/plain": [
       "6×6 Matrix{Float64}:\n",
       " 1.0  0.0  0.1  0.0  0.005  0.0\n",
       " 0.0  1.0  0.0  0.1  0.0    0.005\n",
       " 0.0  0.0  1.0  0.0  0.1    0.0\n",
       " 0.0  0.0  0.0  1.0  0.0    0.1\n",
       " 0.0  0.0  0.0  0.0  1.0    0.0\n",
       " 0.0  0.0  0.0  0.0  0.0    1.0"
      ]
     },
     "execution_count": 2,
     "metadata": {},
     "output_type": "execute_result"
    }
   ],
   "source": [
    "Ac = [0 0 1 0;\n",
    "      0 0 0 1;\n",
    "      0 0 0 0;\n",
    "      0 0 0 0.]\n",
    "Bc = [0 0;\n",
    "      0 0;\n",
    "      1 0;\n",
    "      0 1]\n",
    "nx, nu = size(Bc)\n",
    "dt = 0.1\n",
    "big_A = exp(Array([ Ac Bc; zeros(nu, nx) zeros(nu, nu) ]*dt))"
   ]
  },
  {
   "cell_type": "code",
   "execution_count": 3,
   "id": "7c1d3335-ec5d-4c29-b43d-4ca464145a97",
   "metadata": {},
   "outputs": [
    {
     "data": {
      "text/plain": [
       "([1.0 0.0 0.1 0.0; 0.0 1.0 0.0 0.1; 0.0 0.0 1.0 0.0; 0.0 0.0 0.0 1.0], [0.005000000000000001 0.0; 0.0 0.005000000000000001; 0.1 0.0; 0.0 0.1])"
      ]
     },
     "execution_count": 3,
     "metadata": {},
     "output_type": "execute_result"
    }
   ],
   "source": [
    "big_A[1:nx,1:nx], big_A[1:nx,nx+1:end]"
   ]
  },
  {
   "cell_type": "code",
   "execution_count": 4,
   "id": "9a51a7f6-6643-4324-aabf-03c6689774c5",
   "metadata": {},
   "outputs": [
    {
     "data": {
      "text/plain": [
       "4-element Vector{Float64}:\n",
       " 1.2950000000000002\n",
       " 2.385\n",
       " 2.9\n",
       " 3.7"
      ]
     },
     "execution_count": 4,
     "metadata": {},
     "output_type": "execute_result"
    }
   ],
   "source": [
    "A = big_A[1:nx,1:nx]\n",
    "B = big_A[1:nx,nx+1:end]\n",
    "x = [1.,2.,3.,4.]\n",
    "u = [-1.,-3.]\n",
    "\n",
    "A*x + B*u"
   ]
  },
  {
   "cell_type": "code",
   "execution_count": 5,
   "id": "2e0e6524-7283-48bf-96cb-b11484e08a0a",
   "metadata": {},
   "outputs": [
    {
     "data": {
      "text/plain": [
       "2×2 Matrix{Int64}:\n",
       " 1  1\n",
       " 0  3"
      ]
     },
     "execution_count": 5,
     "metadata": {},
     "output_type": "execute_result"
    }
   ],
   "source": [
    "a = [1 1; 0 3]"
   ]
  },
  {
   "cell_type": "code",
   "execution_count": 6,
   "id": "ded887e3-b544-41a0-acaa-8ebf10ae01de",
   "metadata": {},
   "outputs": [
    {
     "data": {
      "text/plain": [
       "2×2 Matrix{Float64}:\n",
       " 2.71828   8.68363\n",
       " 0.0      20.0855"
      ]
     },
     "execution_count": 6,
     "metadata": {},
     "output_type": "execute_result"
    }
   ],
   "source": [
    "exp(a)"
   ]
  },
  {
   "cell_type": "code",
   "execution_count": 7,
   "id": "a4705de4-a7dd-4078-b6c7-5b24245000f7",
   "metadata": {},
   "outputs": [
    {
     "data": {
      "text/plain": [
       "49-element Vector{Matrix{Float64}}:\n",
       " [0.0 0.0 0.0 0.0; 0.0 0.0 0.0 0.0]\n",
       " [0.0 0.0 0.0 0.0; 0.0 0.0 0.0 0.0]\n",
       " [0.0 0.0 0.0 0.0; 0.0 0.0 0.0 0.0]\n",
       " [0.0 0.0 0.0 0.0; 0.0 0.0 0.0 0.0]\n",
       " [0.0 0.0 0.0 0.0; 0.0 0.0 0.0 0.0]\n",
       " [0.0 0.0 0.0 0.0; 0.0 0.0 0.0 0.0]\n",
       " [0.0 0.0 0.0 0.0; 0.0 0.0 0.0 0.0]\n",
       " [0.0 0.0 0.0 0.0; 0.0 0.0 0.0 0.0]\n",
       " [0.0 0.0 0.0 0.0; 0.0 0.0 0.0 0.0]\n",
       " [0.0 0.0 0.0 0.0; 0.0 0.0 0.0 0.0]\n",
       " [0.0 0.0 0.0 0.0; 0.0 0.0 0.0 0.0]\n",
       " [0.0 0.0 0.0 0.0; 0.0 0.0 0.0 0.0]\n",
       " [0.0 0.0 0.0 0.0; 0.0 0.0 0.0 0.0]\n",
       " ⋮\n",
       " [0.0 0.0 0.0 0.0; 0.0 0.0 0.0 0.0]\n",
       " [0.0 0.0 0.0 0.0; 0.0 0.0 0.0 0.0]\n",
       " [0.0 0.0 0.0 0.0; 0.0 0.0 0.0 0.0]\n",
       " [0.0 0.0 0.0 0.0; 0.0 0.0 0.0 0.0]\n",
       " [0.0 0.0 0.0 0.0; 0.0 0.0 0.0 0.0]\n",
       " [0.0 0.0 0.0 0.0; 0.0 0.0 0.0 0.0]\n",
       " [0.0 0.0 0.0 0.0; 0.0 0.0 0.0 0.0]\n",
       " [0.0 0.0 0.0 0.0; 0.0 0.0 0.0 0.0]\n",
       " [0.0 0.0 0.0 0.0; 0.0 0.0 0.0 0.0]\n",
       " [0.0 0.0 0.0 0.0; 0.0 0.0 0.0 0.0]\n",
       " [0.0 0.0 0.0 0.0; 0.0 0.0 0.0 0.0]\n",
       " [0.0 0.0 0.0 0.0; 0.0 0.0 0.0 0.0]"
      ]
     },
     "execution_count": 7,
     "metadata": {},
     "output_type": "execute_result"
    }
   ],
   "source": [
    "N = 50\n",
    "\n",
    "P = [zeros(nx,nx) for i = 1:N]\n",
    "K = [zeros(nu,nx) for i = 1:N-1]"
   ]
  },
  {
   "cell_type": "code",
   "execution_count": 8,
   "id": "7bcb73aa-0a94-4d9a-a5b1-c1e73b05b10e",
   "metadata": {},
   "outputs": [
    {
     "data": {
      "text/plain": [
       "4×4 Matrix{Float64}:\n",
       " 0.0  0.0  0.0  0.0\n",
       " 0.0  0.0  0.0  0.0\n",
       " 0.0  0.0  0.0  0.0\n",
       " 0.0  0.0  0.0  0.0"
      ]
     },
     "execution_count": 8,
     "metadata": {},
     "output_type": "execute_result"
    }
   ],
   "source": [
    "P[1]"
   ]
  },
  {
   "cell_type": "code",
   "execution_count": 9,
   "id": "416c62ec-5946-4824-b698-3bcc6f61876f",
   "metadata": {},
   "outputs": [
    {
     "data": {
      "text/plain": [
       "2×4 Matrix{Float64}:\n",
       " 0.0  0.0  0.0  0.0\n",
       " 0.0  0.0  0.0  0.0"
      ]
     },
     "execution_count": 9,
     "metadata": {},
     "output_type": "execute_result"
    }
   ],
   "source": [
    "K[1]"
   ]
  },
  {
   "cell_type": "code",
   "execution_count": 10,
   "id": "42c9f6ae-7ec9-4218-83b1-92df0f5c32a6",
   "metadata": {},
   "outputs": [
    {
     "data": {
      "text/plain": [
       "3×3 Diagonal{Float64, Vector{Float64}}:\n",
       " 1.0   ⋅    ⋅ \n",
       "  ⋅   1.0   ⋅ \n",
       "  ⋅    ⋅   0.1"
      ]
     },
     "execution_count": 10,
     "metadata": {},
     "output_type": "execute_result"
    }
   ],
   "source": [
    "Diagonal([1, 1, 0.1])"
   ]
  },
  {
   "cell_type": "code",
   "execution_count": 11,
   "id": "119cb7fc-7942-45a8-993a-86b0dc5b99e2",
   "metadata": {},
   "outputs": [
    {
     "data": {
      "text/plain": [
       "4-element Vector{Float64}:\n",
       " 0.0\n",
       " 0.0\n",
       " 0.0\n",
       " 0.0"
      ]
     },
     "execution_count": 11,
     "metadata": {},
     "output_type": "execute_result"
    }
   ],
   "source": [
    "a = [1,2,3,4]\n",
    "zeros(size(a))"
   ]
  },
  {
   "cell_type": "code",
   "execution_count": 12,
   "id": "3d594b35-d86f-423f-a183-3c93f1b4b01e",
   "metadata": {},
   "outputs": [
    {
     "data": {
      "text/plain": [
       "80-element Vector{Vector{Float64}}:\n",
       " [9.614479393105134]\n",
       " [8.631907099555065]\n",
       " [7.163824036935998]\n",
       " [5.3194237041436585]\n",
       " [3.312840338330581]\n",
       " [1.3757541505590203]\n",
       " [-0.37110577872350353]\n",
       " [-1.9703092314911446]\n",
       " [-3.590540062424266]\n",
       " [-5.4564102362369455]\n",
       " [-7.770700703834757]\n",
       " [-10.58137439976232]\n",
       " [-13.463578877058694]\n",
       " ⋮\n",
       " [-0.12945045705361616]\n",
       " [-0.1238189904856583]\n",
       " [-0.118094129571512]\n",
       " [-0.11231025852461198]\n",
       " [-0.10649123239483113]\n",
       " [-0.10064909458259305]\n",
       " [-0.09478238383443159]\n",
       " [-0.08887392614234986]\n",
       " [-0.08288798121751102]\n",
       " [-0.07676658134364998]\n",
       " [-0.07042486104086818]\n",
       " [-0.06374512741830562]"
      ]
     },
     "execution_count": 12,
     "metadata": {},
     "output_type": "execute_result"
    }
   ],
   "source": [
    "# optimized trajectory we are going to try and track\n",
    "DATA = load(joinpath(@__DIR__,\"swingup.jld2\"))\n",
    "Xbar = DATA[\"X\"]\n",
    "Ubar = DATA[\"U\"]"
   ]
  },
  {
   "cell_type": "code",
   "execution_count": 13,
   "id": "e6f3a4eb-9d2a-4cc0-be61-818049b2e8b3",
   "metadata": {},
   "outputs": [
    {
     "data": {
      "text/plain": [
       "1-element Vector{Float64}:\n",
       " 9.614479393105134"
      ]
     },
     "execution_count": 13,
     "metadata": {},
     "output_type": "execute_result"
    }
   ],
   "source": [
    "Ubar[1]"
   ]
  },
  {
   "cell_type": "code",
   "execution_count": 14,
   "id": "6a99bc79-d54e-4f79-98dc-2a93b511a701",
   "metadata": {},
   "outputs": [
    {
     "data": {
      "text/plain": [
       "80"
      ]
     },
     "execution_count": 14,
     "metadata": {},
     "output_type": "execute_result"
    }
   ],
   "source": [
    "length(Ubar)"
   ]
  },
  {
   "cell_type": "code",
   "execution_count": null,
   "id": "41140e0a-9abb-40eb-816e-ef6a7ec65ad9",
   "metadata": {},
   "outputs": [],
   "source": []
  }
 ],
 "metadata": {
  "kernelspec": {
   "display_name": "Julia 1.6.7",
   "language": "julia",
   "name": "julia-1.6"
  },
  "language_info": {
   "file_extension": ".jl",
   "mimetype": "application/julia",
   "name": "julia",
   "version": "1.6.7"
  }
 },
 "nbformat": 4,
 "nbformat_minor": 5
}
