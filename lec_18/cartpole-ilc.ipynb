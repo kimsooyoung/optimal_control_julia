{
 "cells": [
  {
   "cell_type": "code",
   "execution_count": 1,
   "metadata": {},
   "outputs": [
    {
     "name": "stderr",
     "output_type": "stream",
     "text": [
      "\u001b[32m\u001b[1m  Activating\u001b[22m\u001b[39m environment at `C:\\Users\\tge13\\Documents\\optimal_control_julia\\lec_18\\Project.toml`\n"
     ]
    }
   ],
   "source": [
    "import Pkg; Pkg.activate(@__DIR__); Pkg.instantiate()"
   ]
  },
  {
   "cell_type": "code",
   "execution_count": 2,
   "metadata": {},
   "outputs": [],
   "source": [
    "using TrajectoryOptimization\n",
    "using RobotDynamics\n",
    "const RD = RobotDynamics\n",
    "import RobotZoo.Cartpole\n",
    "using StaticArrays\n",
    "using SparseArrays\n",
    "using LinearAlgebra\n",
    "using ForwardDiff\n",
    "using PyPlot\n",
    "using OSQP"
   ]
  },
  {
   "cell_type": "code",
   "execution_count": 3,
   "metadata": {},
   "outputs": [],
   "source": [
    "model = Cartpole()\n",
    "n,m = size(model);"
   ]
  },
  {
   "cell_type": "code",
   "execution_count": 4,
   "metadata": {},
   "outputs": [
    {
     "data": {
      "text/plain": [
       "0.05"
      ]
     },
     "execution_count": 4,
     "metadata": {},
     "output_type": "execute_result"
    }
   ],
   "source": [
    "N = 101\n",
    "Tf = 5.\n",
    "h = Tf/(N-1)"
   ]
  },
  {
   "cell_type": "code",
   "execution_count": 5,
   "metadata": {},
   "outputs": [],
   "source": [
    "x0 = @SVector zeros(n)\n",
    "xf = @SVector [0, pi, 0, 0];  # i.e. swing up"
   ]
  },
  {
   "cell_type": "code",
   "execution_count": 6,
   "metadata": {},
   "outputs": [],
   "source": [
    "# Set up\n",
    "Q = 1.0*Diagonal(@SVector ones(n))\n",
    "Qf = 100.0*Diagonal(@SVector ones(n))\n",
    "R = 0.1*Diagonal(@SVector ones(m))\n",
    "obj = LQRObjective(Q,R,Qf,xf,N);"
   ]
  },
  {
   "cell_type": "code",
   "execution_count": 7,
   "metadata": {},
   "outputs": [],
   "source": [
    "# Create Empty ConstraintList\n",
    "conSet = ConstraintList(n,m,N)\n",
    "\n",
    "# Control Bounds\n",
    "u_bnd = 5.0\n",
    "bnd = BoundConstraint(n,m, u_min=-u_bnd, u_max=u_bnd)\n",
    "add_constraint!(conSet, bnd, 1:N-1)\n",
    "\n",
    "# Goal Constraint\n",
    "goal = GoalConstraint(xf)\n",
    "add_constraint!(conSet, goal, (N-5):N)"
   ]
  },
  {
   "cell_type": "code",
   "execution_count": 8,
   "metadata": {},
   "outputs": [],
   "source": [
    "# prob = Problem(model, obj, xf, Tf, x0=x0, constraints=conSet);\n",
    "prob = Problem(model, obj, x0, Tf, xf=xf, constraints=conSet);"
   ]
  },
  {
   "cell_type": "code",
   "execution_count": 9,
   "metadata": {},
   "outputs": [],
   "source": [
    "u0 = @SVector fill(0.0,m)\n",
    "U0 = [u0 for k = 1:N-1]\n",
    "initial_controls!(prob, U0)\n",
    "rollout!(prob);"
   ]
  },
  {
   "cell_type": "code",
   "execution_count": 10,
   "metadata": {
    "scrolled": true
   },
   "outputs": [],
   "source": [
    "using Altro"
   ]
  },
  {
   "cell_type": "code",
   "execution_count": 11,
   "metadata": {},
   "outputs": [
    {
     "name": "stdout",
     "output_type": "stream",
     "text": [
      "\u001b[32;1m\n",
      "SOLVE COMPLETED\n",
      "\u001b[0m solved using the \u001b[0m\u001b[36;1mALTRO\u001b[0m Solver,\n",
      " part of the Altro.jl package developed by the REx Lab at Stanford and Carnegie Mellon Universities\n",
      "\u001b[34;1m\n",
      "  Solve Statistics\n",
      "\u001b[0m    Total Iterations: 205\n",
      "\u001b[0m    Solve Time: 1740.4397 (ms)\n",
      "\u001b[34;1m\n",
      "  Covergence\n",
      "\u001b[0m    Terminal Cost: 928.317996972354\n",
      "\u001b[0m    Terminal dJ: \u001b[31m0.04853163702932761\n",
      "\u001b[0m    Terminal gradient: \u001b[32m9.07219858099095e-6\n",
      "\u001b[0m    Terminal constraint violation: \u001b[32m4.63767647396196e-7\n",
      "\u001b[0m    Solve Status: \u001b[1m\u001b[32mSOLVE_SUCCEEDED\n",
      "\u001b[0m"
     ]
    }
   ],
   "source": [
    "opts = SolverOptions(\n",
    "    cost_tolerance_intermediate=1e-3,\n",
    "    penalty_scaling=10.,\n",
    "    penalty_initial=1.0\n",
    ")\n",
    "\n",
    "altro = ALTROSolver(prob, opts)\n",
    "set_options!(altro, show_summary=true)\n",
    "solve!(altro);"
   ]
  },
  {
   "cell_type": "code",
   "execution_count": 12,
   "metadata": {},
   "outputs": [],
   "source": [
    "# Extract the solution\n",
    "Xopt = states(altro);\n",
    "Uopt = controls(altro);\n",
    "\n",
    "xnom = zeros(n,N)\n",
    "for k = 1:N\n",
    "    xnom[:,k] .= Xopt[k]\n",
    "end\n",
    "\n",
    "unom = zeros(m,N-1)\n",
    "utraj = zeros(m,N-1)\n",
    "for k = 1:N-1\n",
    "    unom[:,k] .= Uopt[k]\n",
    "    utraj[:,k] .= Uopt[k]\n",
    "end"
   ]
  },
  {
   "cell_type": "code",
   "execution_count": 13,
   "metadata": {},
   "outputs": [
    {
     "data": {
      "text/plain": [
       "true_dynamics_rk4 (generic function with 1 method)"
      ]
     },
     "execution_count": 13,
     "metadata": {},
     "output_type": "execute_result"
    }
   ],
   "source": [
    "function dynamics_rk4(x, u)\n",
    "    #RK4 integration with zero-order hold on u\n",
    "    f1 = RD.dynamics(model, x, u)\n",
    "    f2 = RD.dynamics(model, x + 0.5*h*f1, u)\n",
    "    f3 = RD.dynamics(model, x + 0.5*h*f2, u)\n",
    "    f4 = RD.dynamics(model, x + h*f3, u)\n",
    "    return x + (h/6.0)*(f1 + 2*f2 + 2*f3 + f4)\n",
    "end\n",
    "\n",
    "#True model with friction\n",
    "function true_dynamics(model::Cartpole, x, u)\n",
    "    #Perturb masses of cart + pole\n",
    "    mc = model.mc + 0.02\n",
    "    mp = model.mp - 0.01\n",
    "    \n",
    "    #Perturb length of pendulum\n",
    "    l = model.l + 0.005\n",
    "    g = model.g\n",
    "\n",
    "    q = x[ @SVector [1,2] ]\n",
    "    qd = x[ @SVector [3,4] ]\n",
    "\n",
    "    s = sin(q[2])\n",
    "    c = cos(q[2])\n",
    "\n",
    "    H = @SMatrix [mc+mp mp*l*c; mp*l*c mp*l^2]\n",
    "    C = @SMatrix [0 -mp*qd[2]*l*s; 0 0]\n",
    "    G = @SVector [0, mp*g*l*s]\n",
    "    B = @SVector [1, 0]\n",
    "    \n",
    "    F = [0.01; 0.01].*tanh.(5.0*qd) #nonlinear friction (≈Coulomb/stiction)\n",
    "\n",
    "    qdd = -H\\(C*qd + F + G - B*u[1])\n",
    "    return [qd; qdd]\n",
    "end\n",
    "\n",
    "function true_dynamics_rk4(x,u)\n",
    "    #RK4 integration with zero-order hold on u\n",
    "    f1 = true_dynamics(model, x, u)\n",
    "    f2 = true_dynamics(model, x + 0.5*h*f1, u)\n",
    "    f3 = true_dynamics(model, x + 0.5*h*f2, u)\n",
    "    f4 = true_dynamics(model, x + h*f3, u)\n",
    "    return x + (h/6.0)*(f1 + 2*f2 + 2*f3 + f4)\n",
    "end"
   ]
  },
  {
   "cell_type": "code",
   "execution_count": 14,
   "metadata": {},
   "outputs": [],
   "source": [
    "#Compute A and B matrices using nominal dynamics + trajectory\n",
    "A = zeros(n,n,N-1)\n",
    "B = zeros(n,m,N-1)\n",
    "for k = 1:(N-1)\n",
    "    A[:,:,k] .= ForwardDiff.jacobian(x->dynamics_rk4(x,Uopt[k]),Xopt[k])\n",
    "    B[:,:,k] .= ForwardDiff.jacobian(u->dynamics_rk4(Xopt[k],u),Uopt[k])\n",
    "end"
   ]
  },
  {
   "cell_type": "code",
   "execution_count": 15,
   "metadata": {},
   "outputs": [],
   "source": [
    "#Compute LQR Tracking Controller\n",
    "P = zeros(n,n,N)\n",
    "K = zeros(m,n,N-1)\n",
    "P[:,:,N] = Qf\n",
    "for k = (N-1):-1:1\n",
    "    K[:,:,k] .= (R + B[:,:,k]'*P[:,:,k+1]*B[:,:,k])\\(B[:,:,k]'*P[:,:,k+1]*A[:,:,k])\n",
    "    P[:,:,k] .= Q + K[:,:,k]'*R*K[:,:,k] + (A[:,:,k]-B[:,:,k]*K[:,:,k])'*P[:,:,k+1]*(A[:,:,k]-B[:,:,k]*K[:,:,k])\n",
    "end"
   ]
  },
  {
   "cell_type": "code",
   "execution_count": 16,
   "metadata": {},
   "outputs": [],
   "source": [
    "#Rollout with true dynamics\n",
    "xtraj = zeros(n,N)\n",
    "for k = 1:(N-1)\n",
    "    utraj[:,k] .= unom[:,k] - K[:,:,k]*(xtraj[:,k]-xnom[:,k]) #with LQR tracking controller\n",
    "    utraj[:,k] .= min.(u_bnd, max.(-u_bnd, utraj[:,k])) #clip values within torque limits\n",
    "    xtraj[:,k+1] .= true_dynamics_rk4(xtraj[:,k], utraj[:,k])\n",
    "end"
   ]
  },
  {
   "cell_type": "code",
   "execution_count": 17,
   "metadata": {},
   "outputs": [
    {
     "data": {
      "image/png": "[encoded data removed]",
      "text/plain": [
       "Figure(PyObject <Figure size 640x480 with 1 Axes>)"
      ]
     },
     "metadata": {},
     "output_type": "display_data"
    },
    {
     "data": {
      "text/plain": [
       "1-element Vector{PyCall.PyObject}:\n",
       " PyObject <matplotlib.lines.Line2D object at 0x0000000075A772B0>"
      ]
     },
     "execution_count": 17,
     "metadata": {},
     "output_type": "execute_result"
    }
   ],
   "source": [
    "plot(xtraj[1,:])\n",
    "plot(xnom[1,:])"
   ]
  },
  {
   "cell_type": "code",
   "execution_count": 18,
   "metadata": {},
   "outputs": [
    {
     "data": {
      "image/png": "[encoded data removed]",
      "text/plain": [
       "Figure(PyObject <Figure size 640x480 with 1 Axes>)"
      ]
     },
     "metadata": {},
     "output_type": "display_data"
    },
    {
     "data": {
      "text/plain": [
       "1-element Vector{PyCall.PyObject}:\n",
       " PyObject <matplotlib.lines.Line2D object at 0x000000000226E050>"
      ]
     },
     "execution_count": 18,
     "metadata": {},
     "output_type": "execute_result"
    }
   ],
   "source": [
    "plot(xtraj[2,:])\n",
    "plot(xnom[2,:])"
   ]
  },
  {
   "cell_type": "code",
   "execution_count": 19,
   "metadata": {},
   "outputs": [
    {
     "data": {
      "image/png": "[encoded data removed]",
      "text/plain": [
       "Figure(PyObject <Figure size 640x480 with 1 Axes>)"
      ]
     },
     "metadata": {},
     "output_type": "display_data"
    },
    {
     "data": {
      "text/plain": [
       "1-element Vector{PyCall.PyObject}:\n",
       " PyObject <matplotlib.lines.Line2D object at 0x00000000020A3790>"
      ]
     },
     "execution_count": 19,
     "metadata": {},
     "output_type": "execute_result"
    }
   ],
   "source": [
    "plot(utraj[1,:])\n",
    "plot(Uopt[:])"
   ]
  },
  {
   "cell_type": "code",
   "execution_count": 20,
   "metadata": {},
   "outputs": [
    {
     "name": "stdout",
     "output_type": "stream",
     "text": [
      "-----------------------------------------------------------------\n",
      "           OSQP v0.6.2  -  Operator Splitting QP Solver\n",
      "              (c) Bartolomeo Stellato,  Goran Banjac\n",
      "        University of Oxford  -  Stanford University 2021\n",
      "-----------------------------------------------------------------\n",
      "problem:  variables n = 500, constraints m = 500\n",
      "          nnz(P) + nnz(A) = 2489\n",
      "settings: linear system solver = qdldl,\n",
      "          eps_abs = 1.0e-006, eps_rel = 1.0e-006,\n",
      "          eps_prim_inf = 1.0e-006, eps_dual_inf = 1.0e-006,\n",
      "          rho = 1.00e-001 (adaptive),\n",
      "          sigma = 1.00e-006, alpha = 1.60, max_iter = 4000\n",
      "          check_termination: on (interval 25),\n",
      "          scaling: on, scaled_termination: off\n",
      "          warm start: on, polish: on, time_limit: off\n",
      "\n",
      "iter  objective    pri res    dua res    rho        time\n",
      "   1 -1.0283e+001  2.02e-001  2.47e+001  1.00e-001  3.86e-004s\n",
      " 100 -1.3324e+001  4.30e-007  2.25e-006  1.00e-001  1.41e-003s\n",
      "plsh -1.3324e+001  1.11e-016  2.36e-015  ---------  1.64e-003s\n",
      "\n",
      "status:               solved\n",
      "solution polish:      successful\n",
      "number of iterations: 100\n",
      "optimal objective:    -13.3238\n",
      "run time:             1.64e-003s\n",
      "optimal rho estimate: 1.42e-001\n",
      "\n"
     ]
    }
   ],
   "source": [
    "#Build matrices for ILC QP\n",
    "Nh = N\n",
    "#Cost\n",
    "Qilc = sparse(Diagonal([0.01; 0; 1.0; 0]))\n",
    "Rilc = sparse(Diagonal([.1]))\n",
    "H = blockdiag(kron(I(Nh-2), blockdiag(Rilc, Qilc)), Rilc, sparse(Qf))\n",
    "q = zeros((n+m)*(Nh-1))\n",
    "for k = 1:(Nh-2)\n",
    "    q[(k-1)*(m+n) .+ (1:(m+n))] .= [0.0; Qilc*(xtraj[:,k+1]-Xopt[k+1])]\n",
    "end\n",
    "q[(Nh-2)*(m+n) .+ (1:(m+n))] .= [0.0; Qf*(xtraj[:,Nh]-Xopt[Nh])]\n",
    "\n",
    "#Constraints\n",
    "U = kron(I(Nh-1), [I zeros(m,n)]) #Matrix that picks out all u\n",
    "X = kron(I(Nh-1), [zeros(n,m) I]) #Matrix that picks out all x\n",
    "D = spzeros(n*(Nh-1), (n+m)*(Nh-1)) #dynamics constraints\n",
    "\n",
    "D[1:n,1:m] .= B[:,:,1]\n",
    "D[1:n,(m+1):(m+n)] .= -I(n)\n",
    "for k = 1:(Nh-2)\n",
    "    D[(k*n).+(1:n), (m+(k-1)*(n+m)).+(1:(2*n+m))] .= [A[:,:,k+1] B[:,:,k+1] -I]\n",
    "end\n",
    "\n",
    "lb = [zeros(n*(Nh-1)); -u_bnd.-utraj[1:(Nh-1)]]\n",
    "ub = [zeros(n*(Nh-1)); u_bnd.-utraj[1:(Nh-1)]]\n",
    "\n",
    "qp = OSQP.Model()\n",
    "OSQP.setup!(qp, P=H, q=q, A=[D; U], l=lb, u=ub, eps_abs=1e-6, eps_rel=1e-6, eps_prim_inf = 1.0e-6, eps_dual_inf = 1.0e-6, polish=1)\n",
    "results = OSQP.solve!(qp)\n",
    "ztraj = results.x;"
   ]
  },
  {
   "cell_type": "code",
   "execution_count": 21,
   "metadata": {},
   "outputs": [
    {
     "data": {
      "text/plain": [
       "100-element view(::Vector{Float64}, 1:100) with eltype Float64:\n",
       " -0.30355209209618556\n",
       " -0.20819194665351784\n",
       " -0.13887623407225938\n",
       " -0.08930898716509966\n",
       " -0.055018270755171544\n",
       " -0.03289774095990575\n",
       " -0.020824014344449443\n",
       " -0.017341641834779778\n",
       " -0.02140227579181321\n",
       " -0.032149968802474865\n",
       " -0.04874888689740328\n",
       " -0.07025162448679219\n",
       " -0.09550661995914281\n",
       "  ⋮\n",
       "  3.9947343189131077\n",
       "  3.7563536484419426\n",
       "  3.4815498643019414\n",
       "  3.403811193221636\n",
       "  1.6484612101080045\n",
       " -2.3930288826744586\n",
       " -5.0\n",
       " -1.9660276257863245\n",
       " -2.7365504260425313\n",
       " -2.9701352101054024\n",
       " -2.748384721176663\n",
       " -2.083753345925393"
      ]
     },
     "execution_count": 21,
     "metadata": {},
     "output_type": "execute_result"
    }
   ],
   "source": [
    "Δu = U*ztraj\n",
    "utraj[1:(Nh-1)] .= utraj[1:(Nh-1)]+Δu"
   ]
  },
  {
   "cell_type": "code",
   "execution_count": null,
   "metadata": {},
   "outputs": [],
   "source": []
  }
 ],
 "metadata": {
  "kernelspec": {
   "display_name": "Julia 1.6.7",
   "language": "julia",
   "name": "julia-1.6"
  },
  "language_info": {
   "file_extension": ".jl",
   "mimetype": "application/julia",
   "name": "julia",
   "version": "1.6.7"
  }
 },
 "nbformat": 4,
 "nbformat_minor": 4
}
