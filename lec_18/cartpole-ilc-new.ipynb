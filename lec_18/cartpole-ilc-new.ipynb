{
 "cells": [
  {
   "cell_type": "code",
   "execution_count": 1,
   "id": "59e8a000-283f-48bb-b724-be05d144f1e1",
   "metadata": {},
   "outputs": [
    {
     "name": "stderr",
     "output_type": "stream",
     "text": [
      "\u001b[32m\u001b[1m  Activating\u001b[22m\u001b[39m environment at `C:\\Users\\tge13\\Documents\\optimal_control_julia\\lec_18\\Project.toml`\n"
     ]
    }
   ],
   "source": [
    "import Pkg; Pkg.activate(@__DIR__); Pkg.instantiate()"
   ]
  },
  {
   "cell_type": "code",
   "execution_count": 2,
   "id": "29a94bfd-da45-49a5-9ebf-899da911d895",
   "metadata": {},
   "outputs": [],
   "source": [
    "using TrajectoryOptimization\n",
    "using RobotDynamics\n",
    "const RD = RobotDynamics\n",
    "import RobotZoo.Cartpole\n",
    "using StaticArrays\n",
    "using SparseArrays\n",
    "using LinearAlgebra\n",
    "using ForwardDiff\n",
    "using PyPlot\n",
    "using OSQP"
   ]
  },
  {
   "cell_type": "markdown",
   "id": "db1b3243-d498-442c-a9c4-99c93557288b",
   "metadata": {},
   "source": [
    "## We're gonna use Cartpole dynamics"
   ]
  },
  {
   "cell_type": "code",
   "execution_count": 3,
   "id": "852fa6e5-16f3-4f99-b9dd-b58d58d45743",
   "metadata": {},
   "outputs": [],
   "source": [
    "model = Cartpole()\n",
    "n,m = size(model);"
   ]
  },
  {
   "cell_type": "code",
   "execution_count": 4,
   "id": "cff09989-bfd8-4f9b-84d5-d0c40515b19f",
   "metadata": {},
   "outputs": [
    {
     "data": {
      "text/plain": [
       "0.05"
      ]
     },
     "execution_count": 4,
     "metadata": {},
     "output_type": "execute_result"
    }
   ],
   "source": [
    "N = 101\n",
    "Tf = 5.\n",
    "h = Tf/(N-1)"
   ]
  },
  {
   "cell_type": "markdown",
   "id": "50126d1a-7987-4d69-ba51-a86b1f3f3e42",
   "metadata": {},
   "source": [
    "## Set up for Altro"
   ]
  },
  {
   "cell_type": "code",
   "execution_count": 5,
   "id": "bcd8df45-f300-41d0-b527-adabcd01344b",
   "metadata": {},
   "outputs": [],
   "source": [
    "x0 = @SVector zeros(n)\n",
    "xf = @SVector [0, pi, 0, 0];  # i.e. swing up"
   ]
  },
  {
   "cell_type": "code",
   "execution_count": 6,
   "id": "0d357438-a125-4a66-bb07-1bf763063489",
   "metadata": {},
   "outputs": [],
   "source": [
    "Q = 1.0*Diagonal(@SVector ones(n))\n",
    "Qf = 100.0*Diagonal(@SVector ones(n))\n",
    "R = 0.1*Diagonal(@SVector ones(m))\n",
    "obj = LQRObjective(Q,R,Qf,xf,N);"
   ]
  },
  {
   "cell_type": "code",
   "execution_count": 7,
   "id": "87dcaaa2-a6a7-42b7-83e2-02af0e12f285",
   "metadata": {},
   "outputs": [],
   "source": [
    "# Create Empty ConstraintList\n",
    "conSet = ConstraintList(n,m,N)\n",
    "\n",
    "# Control Bounds\n",
    "u_bnd = 5.0\n",
    "bnd = BoundConstraint(n,m, u_min=-u_bnd, u_max=u_bnd)\n",
    "add_constraint!(conSet, bnd, 1:N-1)\n",
    "\n",
    "# Goal Constraint\n",
    "goal = GoalConstraint(xf)\n",
    "add_constraint!(conSet, goal, (N-5):N)"
   ]
  },
  {
   "cell_type": "code",
   "execution_count": 8,
   "id": "937871ec-6ffc-471e-9452-47790e604cb3",
   "metadata": {},
   "outputs": [],
   "source": [
    "prob = Problem(model, obj, x0, Tf, xf=xf, constraints=conSet);"
   ]
  },
  {
   "cell_type": "code",
   "execution_count": 9,
   "id": "98839b57-be47-4d24-b67f-0f67b9a8bfa3",
   "metadata": {},
   "outputs": [],
   "source": [
    "u0 = @SVector fill(0.0,m)\n",
    "U0 = [u0 for k = 1:N-1]\n",
    "initial_controls!(prob, U0)\n",
    "rollout!(prob);"
   ]
  },
  {
   "cell_type": "code",
   "execution_count": null,
   "id": "7b2c6e25-ed44-4c37-bd2d-3dff88642d16",
   "metadata": {},
   "outputs": [],
   "source": []
  }
 ],
 "metadata": {
  "kernelspec": {
   "display_name": "Julia 1.6.7",
   "language": "julia",
   "name": "julia-1.6"
  },
  "language_info": {
   "file_extension": ".jl",
   "mimetype": "application/julia",
   "name": "julia",
   "version": "1.6.7"
  }
 },
 "nbformat": 4,
 "nbformat_minor": 5
}
