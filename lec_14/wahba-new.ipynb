{
 "cells": [
  {
   "cell_type": "code",
   "execution_count": 1,
   "id": "9da20ee6-be86-4b92-90f3-cd67008cb01c",
   "metadata": {},
   "outputs": [
    {
     "name": "stderr",
     "output_type": "stream",
     "text": [
      "\u001b[32m\u001b[1m  Activating\u001b[22m\u001b[39m environment at `C:\\Users\\tge13\\Documents\\optimal_control_julia\\lec_14\\Project.toml`\n"
     ]
    }
   ],
   "source": [
    "import Pkg; Pkg.activate(@__DIR__); Pkg.instantiate()"
   ]
  },
  {
   "cell_type": "code",
   "execution_count": 2,
   "id": "1d1f605a-ed11-4675-b2fb-4ccfe6a38376",
   "metadata": {},
   "outputs": [],
   "source": [
    "using LinearAlgebra\n",
    "using ForwardDiff"
   ]
  },
  {
   "cell_type": "markdown",
   "id": "e99cde9a-4908-40a8-8364-891138fc8b47",
   "metadata": {},
   "source": [
    "## Skew-Symmetrix Mat"
   ]
  },
  {
   "cell_type": "code",
   "execution_count": 3,
   "id": "becb77e6-59cb-461c-bf21-9262ec6ab3a7",
   "metadata": {},
   "outputs": [
    {
     "data": {
      "text/plain": [
       "hat (generic function with 1 method)"
      ]
     },
     "execution_count": 3,
     "metadata": {},
     "output_type": "execute_result"
    }
   ],
   "source": [
    "function hat(v)\n",
    "    return [\n",
    "        0 -v[3] v[2];\n",
    "        v[3] 0 -v[1];\n",
    "        -v[2] v[1] 0\n",
    "    ]\n",
    "end"
   ]
  },
  {
   "cell_type": "markdown",
   "id": "6141c15c-0260-47fd-b941-d3c628a2dfcb",
   "metadata": {},
   "source": [
    "## Quaternion Multiplication Mat"
   ]
  },
  {
   "cell_type": "code",
   "execution_count": null,
   "id": "172a44ea-0942-4890-82d6-b271f0cd009b",
   "metadata": {},
   "outputs": [],
   "source": [
    "function L(q)\n",
    "    s = q[1]\n",
    "    v = q[2:4]\n",
    "    return [\n",
    "        s -v';\n",
    "        v s*I+hat(v)\n",
    "    ]\n",
    "end\n",
    "\n",
    "function R(q)\n",
    "    s = q[1]\n",
    "    v = q[2:4]\n",
    "    return [\n",
    "        s -v';\n",
    "        v s*I-hat(v)\n",
    "    ]\n",
    "end"
   ]
  },
  {
   "cell_type": "markdown",
   "id": "267e6008-6ef0-48f3-a885-b8079e418c54",
   "metadata": {},
   "source": [
    "## Helper Mat"
   ]
  },
  {
   "cell_type": "code",
   "execution_count": null,
   "id": "aba7e4f6-2f22-46d8-b3f4-e6373a00119b",
   "metadata": {},
   "outputs": [],
   "source": [
    "T = Diagonal([1, -1, -1, -1])\n",
    "H = [zeros(3)'; I(3)]\n",
    "\n",
    "function G(q)\n",
    "    return L(q)*H\n",
    "end\n",
    "\n",
    "function Q(q)\n",
    "    return H'*(R(q)'*L(q))*H\n",
    "end"
   ]
  },
  {
   "cell_type": "code",
   "execution_count": 12,
   "id": "c888583b-cc42-4848-8a4f-c942206d0cd5",
   "metadata": {},
   "outputs": [],
   "source": [
    "q_true = randn(4)\n",
    "q_true = q_true/norm(q_true)\n",
    "\n",
    "vN = randn(3, 10)\n",
    "for k in 1:10\n",
    "    vN[:,k] .= vN[:,k]/norm(vN[:,k])\n",
    "end"
   ]
  },
  {
   "cell_type": "code",
   "execution_count": 13,
   "id": "f82b2d59-d006-422f-8995-ff5f268787e0",
   "metadata": {},
   "outputs": [
    {
     "data": {
      "text/plain": [
       "3×10 Matrix{Float64}:\n",
       " -0.910386   0.345562  -0.782959  …   0.017407  0.498702   -0.665686\n",
       "  0.37988    0.330592   0.366995     -0.398513  0.0625587   0.695516\n",
       "  0.163978  -0.878234  -0.502284     -0.916997  0.864513    0.270406"
      ]
     },
     "execution_count": 13,
     "metadata": {},
     "output_type": "execute_result"
    }
   ],
   "source": [
    "Q_true = Q(q_true)\n",
    "vB = Q_true'*vN"
   ]
  },
  {
   "cell_type": "code",
   "execution_count": 27,
   "id": "3850e314-16f5-4053-89f0-987ead36ebe4",
   "metadata": {},
   "outputs": [
    {
     "data": {
      "text/plain": [
       "residual (generic function with 1 method)"
      ]
     },
     "execution_count": 27,
     "metadata": {},
     "output_type": "execute_result"
    }
   ],
   "source": [
    "function residual(q)\n",
    "    # caution! residual return is not a matrix but a vector\n",
    "    r = vN - Q(q)*vB\n",
    "    return r[:]\n",
    "end"
   ]
  },
  {
   "cell_type": "code",
   "execution_count": 41,
   "id": "0643282f-a311-41ce-8ad3-eb4528dc0ab5",
   "metadata": {},
   "outputs": [
    {
     "data": {
      "text/plain": [
       "4-element Vector{Float64}:\n",
       " -0.1461099099841532\n",
       "  0.291198557543388\n",
       "  0.9009763720212778\n",
       " -0.28652551605127335"
      ]
     },
     "execution_count": 41,
     "metadata": {},
     "output_type": "execute_result"
    }
   ],
   "source": [
    "#Random initial guess\n",
    "q = randn(4)\n",
    "q = q/norm(q)"
   ]
  },
  {
   "cell_type": "markdown",
   "id": "1c25b323-0d12-4ea2-a0fa-e015697c519d",
   "metadata": {},
   "source": [
    "## Gradient Gauss-Newton"
   ]
  },
  {
   "cell_type": "code",
   "execution_count": 42,
   "id": "9c063ac3-ab84-4c2b-b6e2-c2fae5e8ea28",
   "metadata": {},
   "outputs": [],
   "source": [
    "ϕ = ones(3)\n",
    "iter = 0\n",
    "# @show maximum(abs.(ϕ))\n",
    "\n",
    "while maximum(abs.(ϕ)) > 1e-8\n",
    "    r = residual(q)\n",
    "    dr = ForwardDiff.jacobian(residual, q)\n",
    "    ∇r = dr*G(q)\n",
    "    ϕ = -(∇r'*∇r)\\(∇r'*r)\n",
    "    q = L(q)*[ sqrt(1-ϕ'*ϕ); ϕ]\n",
    "    iter += 1\n",
    "end"
   ]
  },
  {
   "cell_type": "code",
   "execution_count": 43,
   "id": "d7e1871b-6b5e-4ae2-9e69-d3fbbb9e2f11",
   "metadata": {},
   "outputs": [
    {
     "data": {
      "text/plain": [
       "8"
      ]
     },
     "execution_count": 43,
     "metadata": {},
     "output_type": "execute_result"
    }
   ],
   "source": [
    "iter"
   ]
  },
  {
   "cell_type": "code",
   "execution_count": 44,
   "id": "cd3a2745-1383-44a7-8c09-bedabd373f26",
   "metadata": {},
   "outputs": [
    {
     "data": {
      "text/plain": [
       "4-element Vector{Float64}:\n",
       " -1.1102230246251565e-16\n",
       "  0.0\n",
       "  0.0\n",
       "  5.551115123125783e-17"
      ]
     },
     "execution_count": 44,
     "metadata": {},
     "output_type": "execute_result"
    }
   ],
   "source": [
    "q - q_true"
   ]
  },
  {
   "cell_type": "code",
   "execution_count": 45,
   "id": "b3c87f15-70df-48bd-a582-f9e0467aa810",
   "metadata": {},
   "outputs": [
    {
     "data": {
      "text/plain": [
       "4-element Vector{Float64}:\n",
       "  1.7430418567535715\n",
       " -0.3787926392115736\n",
       "  0.5833684596292392\n",
       " -0.6913772214891098"
      ]
     },
     "execution_count": 45,
     "metadata": {},
     "output_type": "execute_result"
    }
   ],
   "source": [
    "q + q_true"
   ]
  },
  {
   "cell_type": "code",
   "execution_count": null,
   "id": "7c661fcb-472d-473b-855e-bf3576b5b2cd",
   "metadata": {},
   "outputs": [],
   "source": []
  }
 ],
 "metadata": {
  "kernelspec": {
   "display_name": "Julia 1.6.7",
   "language": "julia",
   "name": "julia-1.6"
  },
  "language_info": {
   "file_extension": ".jl",
   "mimetype": "application/julia",
   "name": "julia",
   "version": "1.6.7"
  }
 },
 "nbformat": 4,
 "nbformat_minor": 5
}
