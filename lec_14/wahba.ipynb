{
 "cells": [
  {
   "cell_type": "code",
   "execution_count": 3,
   "metadata": {},
   "outputs": [
    {
     "name": "stderr",
     "output_type": "stream",
     "text": [
      "\u001b[32m\u001b[1m  Activating\u001b[22m\u001b[39m environment at `C:\\Users\\tge13\\Documents\\optimal_control_julia\\lec_14\\Project.toml`\n"
     ]
    }
   ],
   "source": [
    "import Pkg; Pkg.activate(@__DIR__); Pkg.instantiate()"
   ]
  },
  {
   "cell_type": "code",
   "execution_count": 4,
   "metadata": {},
   "outputs": [],
   "source": [
    "using LinearAlgebra\n",
    "using ForwardDiff"
   ]
  },
  {
   "cell_type": "code",
   "execution_count": 5,
   "metadata": {},
   "outputs": [
    {
     "data": {
      "text/plain": [
       "hat (generic function with 1 method)"
      ]
     },
     "execution_count": 5,
     "metadata": {},
     "output_type": "execute_result"
    }
   ],
   "source": [
    "function hat(v)\n",
    "    return [0 -v[3] v[2];\n",
    "            v[3] 0 -v[1];\n",
    "            -v[2] v[1] 0]\n",
    "end"
   ]
  },
  {
   "cell_type": "code",
   "execution_count": 6,
   "metadata": {},
   "outputs": [
    {
     "data": {
      "text/plain": [
       "L (generic function with 1 method)"
      ]
     },
     "execution_count": 6,
     "metadata": {},
     "output_type": "execute_result"
    }
   ],
   "source": [
    "function L(q)\n",
    "    s = q[1]\n",
    "    v = q[2:4]\n",
    "    L = [s    -v';\n",
    "         v  s*I+hat(v)]\n",
    "    return L\n",
    "end"
   ]
  },
  {
   "cell_type": "code",
   "execution_count": 7,
   "metadata": {},
   "outputs": [
    {
     "data": {
      "text/plain": [
       "R (generic function with 1 method)"
      ]
     },
     "execution_count": 7,
     "metadata": {},
     "output_type": "execute_result"
    }
   ],
   "source": [
    "function R(q)\n",
    "    s = q[1]\n",
    "    v = q[2:4]\n",
    "    R = [s    -v';\n",
    "         v  s*I-hat(v)]\n",
    "    return R\n",
    "end"
   ]
  },
  {
   "cell_type": "code",
   "execution_count": 8,
   "metadata": {},
   "outputs": [],
   "source": [
    "T = Diagonal([1; -ones(3)])\n",
    "H = [zeros(1,3); I];"
   ]
  },
  {
   "cell_type": "code",
   "execution_count": 9,
   "metadata": {},
   "outputs": [
    {
     "data": {
      "text/plain": [
       "Q (generic function with 1 method)"
      ]
     },
     "execution_count": 9,
     "metadata": {},
     "output_type": "execute_result"
    }
   ],
   "source": [
    "function G(q)\n",
    "    G = L(q)*H\n",
    "end\n",
    "\n",
    "function Q(q)\n",
    "    return H'*(R(q)'*L(q))*H\n",
    "end"
   ]
  },
  {
   "cell_type": "code",
   "execution_count": 10,
   "metadata": {},
   "outputs": [
    {
     "data": {
      "text/plain": [
       "3×3 Matrix{Float64}:\n",
       " -0.589061   -0.123251    0.798634\n",
       " -0.0994094   0.991846    0.0797464\n",
       " -0.80195    -0.0324162  -0.59651"
      ]
     },
     "execution_count": 10,
     "metadata": {},
     "output_type": "execute_result"
    }
   ],
   "source": [
    "#Generate a random quaternion\n",
    "qtrue = randn(4)\n",
    "qtrue = qtrue/norm(qtrue)\n",
    "\n",
    "Qtrue = Q(qtrue) #Generate equivalent rotation matrix"
   ]
  },
  {
   "cell_type": "code",
   "execution_count": 11,
   "metadata": {},
   "outputs": [
    {
     "data": {
      "text/plain": [
       "3×10 Matrix{Float64}:\n",
       " -0.811372  -0.0285818  -0.935613  …   0.217415  0.673059   0.306185\n",
       "  0.155662   0.504753    0.326008      0.929509  0.357006  -0.304588\n",
       "  0.563423   0.862791    0.135451     -0.297898  0.647718  -0.901929"
      ]
     },
     "execution_count": 11,
     "metadata": {},
     "output_type": "execute_result"
    }
   ],
   "source": [
    "#Generate data\n",
    "vN = randn(3,10) #Generate some random world-frame vectors\n",
    "\n",
    "#normalize\n",
    "for k = 1:10\n",
    "    vN[:,k] .= vN[:,k]./norm(vN[:,k])\n",
    "end\n",
    "\n",
    "vB = Qtrue'*vN #generate body-frame vectors"
   ]
  },
  {
   "cell_type": "code",
   "execution_count": 12,
   "metadata": {},
   "outputs": [
    {
     "data": {
      "text/plain": [
       "residual (generic function with 1 method)"
      ]
     },
     "execution_count": 12,
     "metadata": {},
     "output_type": "execute_result"
    }
   ],
   "source": [
    "function residual(q)\n",
    "    r = vN - Q(q)*vB\n",
    "    return r[:]\n",
    "end"
   ]
  },
  {
   "cell_type": "code",
   "execution_count": 13,
   "metadata": {},
   "outputs": [
    {
     "data": {
      "text/plain": [
       "4-element Vector{Float64}:\n",
       "  0.2582648374636437\n",
       " -0.6482285781773407\n",
       "  0.09281694601754631\n",
       "  0.710270370138046"
      ]
     },
     "execution_count": 13,
     "metadata": {},
     "output_type": "execute_result"
    }
   ],
   "source": [
    "#Random initial guess\n",
    "q = randn(4)\n",
    "q = q/norm(q)"
   ]
  },
  {
   "cell_type": "code",
   "execution_count": 20,
   "metadata": {},
   "outputs": [
    {
     "name": "stdout",
     "output_type": "stream",
     "text": [
      "(size(r), size(dr), size(∇r)) = ((30,), (30, 4), (30, 3))\n"
     ]
    }
   ],
   "source": [
    "#Gauss-Newton Method\n",
    "ϕ = ones(3)\n",
    "iter = 0\n",
    "while maximum(abs.(ϕ)) > 1e-8\n",
    "    r = residual(q)\n",
    "    dr = ForwardDiff.jacobian(residual, q)\n",
    "    ∇r = dr*G(q)\n",
    "    @show size(r), size(dr), size(∇r)\n",
    "    ϕ = -(∇r'*∇r)\\(∇r'*r) #3-parameter update computed with gauss-newton\n",
    "    q = L(q)*[sqrt(1-ϕ'*ϕ); ϕ] #multiplicative update applied to q\n",
    "    iter += 1\n",
    "end"
   ]
  },
  {
   "cell_type": "code",
   "execution_count": 15,
   "metadata": {},
   "outputs": [
    {
     "data": {
      "text/plain": [
       "7"
      ]
     },
     "execution_count": 15,
     "metadata": {},
     "output_type": "execute_result"
    }
   ],
   "source": [
    "iter"
   ]
  },
  {
   "cell_type": "code",
   "execution_count": 16,
   "metadata": {},
   "outputs": [
    {
     "data": {
      "text/plain": [
       "4-element Vector{Float64}:\n",
       "  5.551115123125783e-17\n",
       " -2.0816681711721685e-17\n",
       " -1.1102230246251565e-16\n",
       "  5.204170427930421e-18"
      ]
     },
     "execution_count": 16,
     "metadata": {},
     "output_type": "execute_result"
    }
   ],
   "source": [
    "q-qtrue"
   ]
  },
  {
   "cell_type": "code",
   "execution_count": 17,
   "metadata": {},
   "outputs": [
    {
     "data": {
      "text/plain": [
       "4-element Vector{Float64}:\n",
       "  0.8979276124895488\n",
       " -0.12491273472708439\n",
       "  1.7825312873840287\n",
       "  0.026552230204964604"
      ]
     },
     "execution_count": 17,
     "metadata": {},
     "output_type": "execute_result"
    }
   ],
   "source": [
    "q+qtrue"
   ]
  },
  {
   "cell_type": "code",
   "execution_count": null,
   "metadata": {},
   "outputs": [],
   "source": []
  }
 ],
 "metadata": {
  "kernelspec": {
   "display_name": "Julia 1.6.7",
   "language": "julia",
   "name": "julia-1.6"
  },
  "language_info": {
   "file_extension": ".jl",
   "mimetype": "application/julia",
   "name": "julia",
   "version": "1.6.7"
  }
 },
 "nbformat": 4,
 "nbformat_minor": 4
}
