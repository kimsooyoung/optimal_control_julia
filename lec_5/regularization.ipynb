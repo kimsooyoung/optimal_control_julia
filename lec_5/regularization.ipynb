{
 "cells": [
  {
   "cell_type": "code",
   "execution_count": 1,
   "metadata": {},
   "outputs": [
    {
     "name": "stderr",
     "output_type": "stream",
     "text": [
      "\u001b[32m\u001b[1m  Activating\u001b[22m\u001b[39m environment at `~/Documents/optimal_control_julia/lec_5/Project.toml`\n"
     ]
    }
   ],
   "source": [
    "import Pkg; Pkg.activate(@__DIR__); Pkg.instantiate()"
   ]
  },
  {
   "cell_type": "code",
   "execution_count": 6,
   "metadata": {},
   "outputs": [],
   "source": [
    "using LinearAlgebra\n",
    "using ForwardDiff\n",
    "using PyPlot"
   ]
  },
  {
   "cell_type": "code",
   "execution_count": 12,
   "metadata": {},
   "outputs": [
    {
     "data": {
      "text/plain": [
       "∇2f (generic function with 1 method)"
      ]
     },
     "execution_count": 12,
     "metadata": {},
     "output_type": "execute_result"
    }
   ],
   "source": [
    "Q = Diagonal([0.5; 1])\n",
    "\n",
    "function plot_f(x, y)\n",
    "    return 0.5 * ([x; y] - [1; 0])' * Q * ([x; y] - [1; 0])\n",
    "end\n",
    "\n",
    "function f(x)\n",
    "    return 0.5*(x-[1; 0])'*Q*(x-[1; 0])\n",
    "end\n",
    "\n",
    "function ∇f(x)\n",
    "    return Q*(x-[1; 0])\n",
    "end\n",
    "\n",
    "function ∇2f(x)\n",
    "    return Q\n",
    "end"
   ]
  },
  {
   "cell_type": "code",
   "execution_count": 13,
   "metadata": {},
   "outputs": [
    {
     "data": {
      "text/plain": [
       "∂c (generic function with 1 method)"
      ]
     },
     "execution_count": 13,
     "metadata": {},
     "output_type": "execute_result"
    }
   ],
   "source": [
    "function c(x)\n",
    "    return x[1]^2 + 2*x[1] - x[2]\n",
    "end\n",
    "function ∂c(x)\n",
    "    return [2*x[1]+2 -1]\n",
    "end"
   ]
  },
  {
   "cell_type": "code",
   "execution_count": 14,
   "metadata": {},
   "outputs": [
    {
     "ename": "LoadError",
     "evalue": "ArgumentError: hasproperty of NULL PyObject",
     "output_type": "error",
     "traceback": [
      "ArgumentError: hasproperty of NULL PyObject",
      "",
      "Stacktrace:",
      " [1] pyhasproperty(o::PyCall.PyObject, s::String)",
      "   @ PyCall ~/.julia/packages/PyCall/1gn3u/src/PyCall.jl:371",
      " [2] hasproperty",
      "   @ ~/.julia/packages/PyCall/1gn3u/src/PyCall.jl:377 [inlined]",
      " [3] contour(::Matrix{Float64}, ::Vararg{Matrix{Float64}, N} where N; kws::Base.Iterators.Pairs{Union{}, Union{}, Tuple{}, NamedTuple{(), Tuple{}}})",
      "   @ PyPlot ~/.julia/packages/PyPlot/2MlrT/src/PyPlot.jl:191",
      " [4] contour",
      "   @ ~/.julia/packages/PyPlot/2MlrT/src/PyPlot.jl:191 [inlined]",
      " [5] plot_landscape()",
      "   @ Main ./In[14]:11",
      " [6] top-level scope",
      "   @ In[14]:16"
     ]
    }
   ],
   "source": [
    "function plot_landscape()\n",
    "    Nsamp = 20\n",
    "    Xsamp = kron(ones(Nsamp),LinRange(-4,4,Nsamp)')\n",
    "    Ysamp = kron(ones(Nsamp)',LinRange(-4,4,Nsamp))\n",
    "    Zsamp = zeros(Nsamp,Nsamp)\n",
    "    for j = 1:Nsamp\n",
    "        for k = 1:Nsamp\n",
    "            Zsamp[j,k] = f([Xsamp[j,k]; Ysamp[j,k]])\n",
    "        end\n",
    "    end\n",
    "    contour(Xsamp,Ysamp,Zsamp)\n",
    "\n",
    "    xc = LinRange(-3.2,1.2,Nsamp)\n",
    "    plot(xc,xc.^2+2.0.*xc,\"y\")\n",
    "end\n",
    "plot_landscape()"
   ]
  },
  {
   "cell_type": "code",
   "execution_count": 10,
   "metadata": {},
   "outputs": [
    {
     "data": {
      "text/plain": [
       "newton_step (generic function with 1 method)"
      ]
     },
     "execution_count": 10,
     "metadata": {},
     "output_type": "execute_result"
    }
   ],
   "source": [
    "function newton_step(x,λ)\n",
    "    H = ∇2f(x) + ForwardDiff.jacobian(xn -> ∂c(xn)'*λ, x)\n",
    "    C = ∂c(x)\n",
    "    K = [H C'; C 0]\n",
    "    Δz = K\\[-∇f(x)-C'*λ; -c(x)]\n",
    "    Δx = Δz[1:2]\n",
    "    Δλ = Δz[3]\n",
    "    return Δx, Δλ\n",
    "end"
   ]
  },
  {
   "cell_type": "code",
   "execution_count": 11,
   "metadata": {},
   "outputs": [
    {
     "ename": "LoadError",
     "evalue": "ArgumentError: hasproperty of NULL PyObject",
     "output_type": "error",
     "traceback": [
      "ArgumentError: hasproperty of NULL PyObject",
      "",
      "Stacktrace:",
      " [1] pyhasproperty(o::PyCall.PyObject, s::String)",
      "   @ PyCall ~/.julia/packages/PyCall/1gn3u/src/PyCall.jl:371",
      " [2] hasproperty",
      "   @ ~/.julia/packages/PyCall/1gn3u/src/PyCall.jl:377 [inlined]",
      " [3] contour(::Matrix{Float64}, ::Vararg{Matrix{Float64}, N} where N; kws::Base.Iterators.Pairs{Union{}, Union{}, Tuple{}, NamedTuple{(), Tuple{}}})",
      "   @ PyPlot ~/.julia/packages/PyPlot/2MlrT/src/PyPlot.jl:191",
      " [4] contour",
      "   @ ~/.julia/packages/PyPlot/2MlrT/src/PyPlot.jl:191 [inlined]",
      " [5] plot_landscape()",
      "   @ Main ./In[9]:11",
      " [6] top-level scope",
      "   @ In[11]:3"
     ]
    }
   ],
   "source": [
    "xguess = [-3; 2]\n",
    "λguess = [0.0]\n",
    "plot_landscape()\n",
    "plot(xguess[1], xguess[2], \"rx\")"
   ]
  },
  {
   "cell_type": "code",
   "execution_count": null,
   "metadata": {},
   "outputs": [],
   "source": [
    "Δx, Δλ = newton_step(xguess[:,end],λguess[end])\n",
    "xguess = [xguess xguess[:,end]+Δx]\n",
    "λguess = [λguess λguess[end]+Δλ]\n",
    "plot_landscape()\n",
    "plot(xguess[1,:], xguess[2,:], \"rx\")"
   ]
  },
  {
   "cell_type": "code",
   "execution_count": 15,
   "metadata": {},
   "outputs": [
    {
     "data": {
      "text/plain": [
       "3-element Vector{Float64}:\n",
       " -3.86822694886782\n",
       "  0.9697783285570296\n",
       "  4.39844862031079"
      ]
     },
     "execution_count": 15,
     "metadata": {},
     "output_type": "execute_result"
    }
   ],
   "source": [
    "H = ∇2f(xguess[:,end]) + ForwardDiff.jacobian(xn -> ∂c(xn)'*λguess[end], xguess[:,end])\n",
    "C = ∂c(xguess[:,end])\n",
    "K = [H C'; C 0]\n",
    "eigvals(K)"
   ]
  },
  {
   "cell_type": "code",
   "execution_count": null,
   "metadata": {},
   "outputs": [],
   "source": [
    "function regularized_newton_step(x,λ)\n",
    "    β = 1.0\n",
    "    H = ∇2f(x) + ForwardDiff.jacobian(xn -> ∂c(xn)'*λ, x)\n",
    "    C = ∂c(x)\n",
    "    K = [H C'; C 0]\n",
    "    e = eigvals(K)\n",
    "    while !(sum(e .> 0) == length(x) && sum(e .< 0) == length(λ))\n",
    "        K = K + Diagonal([β*ones(length(x)); -β*ones(length(λ))])\n",
    "        e = eigvals(K)\n",
    "    end\n",
    "    Δz = K\\[-∇f(x)-C'*λ; -c(x)]\n",
    "    Δx = Δz[1:2]\n",
    "    Δλ = Δz[3]\n",
    "    return Δx, Δλ\n",
    "end"
   ]
  },
  {
   "cell_type": "code",
   "execution_count": null,
   "metadata": {},
   "outputs": [],
   "source": [
    "xguess = [-3; 2]\n",
    "λguess = [0.0]\n",
    "plot_landscape()\n",
    "plot(xguess[1], xguess[2], \"rx\")"
   ]
  },
  {
   "cell_type": "code",
   "execution_count": null,
   "metadata": {},
   "outputs": [],
   "source": [
    "Δx, Δλ = regularized_newton_step(xguess[:,end],λguess[end])\n",
    "xguess = [xguess xguess[:,end]+Δx]\n",
    "λguess = [λguess λguess[end]+Δλ]\n",
    "plot_landscape()\n",
    "plot(xguess[1,:], xguess[2,:], \"rx\")"
   ]
  },
  {
   "cell_type": "code",
   "execution_count": null,
   "metadata": {},
   "outputs": [],
   "source": []
  }
 ],
 "metadata": {
  "kernelspec": {
   "display_name": "Julia 1.6.7",
   "language": "julia",
   "name": "julia-1.6"
  },
  "language_info": {
   "file_extension": ".jl",
   "mimetype": "application/julia",
   "name": "julia",
   "version": "1.6.7"
  }
 },
 "nbformat": 4,
 "nbformat_minor": 4
}
