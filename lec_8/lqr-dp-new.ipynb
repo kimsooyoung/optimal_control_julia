{
 "cells": [
  {
   "cell_type": "code",
   "execution_count": 1,
   "id": "20e6095e-eb6a-423f-84f6-13140c524f56",
   "metadata": {
    "scrolled": true
   },
   "outputs": [
    {
     "name": "stderr",
     "output_type": "stream",
     "text": [
      "\u001b[32m\u001b[1m  Activating\u001b[22m\u001b[39m environment at `C:\\Users\\tge13\\Documents\\optimal_control_julia\\lec_8\\Project.toml`\n",
      "\u001b[32m\u001b[1m    Updating\u001b[22m\u001b[39m registry at `C:\\Users\\tge13\\.julia\\registries\\General`\n",
      "\u001b[32m\u001b[1m    Updating\u001b[22m\u001b[39m git-repo `https://github.com/JuliaRegistries/General.git`\n",
      "\u001b[32m\u001b[1m   Installed\u001b[22m\u001b[39m StrideArraysCore ─ v0.5.3\n",
      "\u001b[32m\u001b[1m    Updating\u001b[22m\u001b[39m `C:\\Users\\tge13\\Documents\\optimal_control_julia\\lec_8\\Project.toml`\n",
      " \u001b[90m [a6e380b2] \u001b[39m\u001b[92m+ ControlSystems v1.10.0\u001b[39m\n",
      " \u001b[90m [91a5bcdd] \u001b[39m\u001b[92m+ Plots v1.40.3\u001b[39m\n",
      "\u001b[32m\u001b[1m    Updating\u001b[22m\u001b[39m `C:\\Users\\tge13\\Documents\\optimal_control_julia\\lec_8\\Manifest.toml`\n",
      " \u001b[90m [47edcb42] \u001b[39m\u001b[92m+ ADTypes v0.2.7\u001b[39m\n",
      " \u001b[90m [621f4979] \u001b[39m\u001b[92m+ AbstractFFTs v1.5.0\u001b[39m\n",
      " \u001b[90m [79e6a3ab] \u001b[39m\u001b[92m+ Adapt v3.7.2\u001b[39m\n",
      " \u001b[90m [ec485272] \u001b[39m\u001b[92m+ ArnoldiMethod v0.4.0\u001b[39m\n",
      " \u001b[90m [4fba245c] \u001b[39m\u001b[92m+ ArrayInterface v7.5.1\u001b[39m\n",
      " \u001b[90m [d1d4a3ce] \u001b[39m\u001b[92m+ BitFlags v0.1.8\u001b[39m\n",
      " \u001b[90m [62783981] \u001b[39m\u001b[92m+ BitTwiddlingConvenienceFunctions v0.1.5\u001b[39m\n",
      " \u001b[90m [2a0fbf3d] \u001b[39m\u001b[92m+ CPUSummary v0.2.4\u001b[39m\n",
      " \u001b[90m [49dc2e85] \u001b[39m\u001b[92m+ Calculus v0.5.1\u001b[39m\n",
      " \u001b[90m [d360d2e6] \u001b[39m\u001b[92m+ ChainRulesCore v1.23.0\u001b[39m\n",
      " \u001b[90m [9e997f8a] \u001b[39m\u001b[92m+ ChangesOfVariables v0.1.8\u001b[39m\n",
      " \u001b[90m [fb6a15b2] \u001b[39m\u001b[92m+ CloseOpenIntervals v0.1.12\u001b[39m\n",
      " \u001b[90m [944b1d66] \u001b[39m\u001b[92m+ CodecZlib v0.7.4\u001b[39m\n",
      " \u001b[90m [35d6a980] \u001b[39m\u001b[92m+ ColorSchemes v3.24.0\u001b[39m\n",
      " \u001b[90m [3da002f7] \u001b[39m\u001b[92m+ ColorTypes v0.11.5\u001b[39m\n",
      " \u001b[90m [c3611d14] \u001b[39m\u001b[92m+ ColorVectorSpace v0.10.0\u001b[39m\n",
      " \u001b[90m [5ae59095] \u001b[39m\u001b[92m+ Colors v0.12.10\u001b[39m\n",
      " \u001b[90m [38540f10] \u001b[39m\u001b[92m+ CommonSolve v0.2.4\u001b[39m\n",
      " \u001b[90m [bbf7d656] \u001b[39m\u001b[92m+ CommonSubexpressions v0.3.0\u001b[39m\n",
      " \u001b[90m [34da2185] \u001b[39m\u001b[92m+ Compat v4.14.0\u001b[39m\n",
      " \u001b[90m [2569d6c7] \u001b[39m\u001b[92m+ ConcreteStructs v0.2.3\u001b[39m\n",
      " \u001b[90m [f0e56b4a] \u001b[39m\u001b[92m+ ConcurrentUtilities v2.4.1\u001b[39m\n",
      " \u001b[90m [187b0558] \u001b[39m\u001b[92m+ ConstructionBase v1.5.5\u001b[39m\n",
      " \u001b[90m [d38c429a] \u001b[39m\u001b[92m+ Contour v0.6.3\u001b[39m\n",
      " \u001b[90m [a6e380b2] \u001b[39m\u001b[92m+ ControlSystems v1.10.0\u001b[39m\n",
      " \u001b[90m [aaaaaaaa] \u001b[39m\u001b[92m+ ControlSystemsBase v1.10.2\u001b[39m\n",
      " \u001b[90m [adafc99b] \u001b[39m\u001b[92m+ CpuId v0.3.0\u001b[39m\n",
      " \u001b[90m [717857b8] \u001b[39m\u001b[92m+ DSP v0.7.9\u001b[39m\n",
      " \u001b[90m [9a962f9c] \u001b[39m\u001b[92m+ DataAPI v1.16.0\u001b[39m\n",
      " \u001b[90m [864edb3b] \u001b[39m\u001b[92m+ DataStructures v0.18.18\u001b[39m\n",
      " \u001b[90m [e2d170a0] \u001b[39m\u001b[92m+ DataValueInterfaces v1.0.0\u001b[39m\n",
      " \u001b[90m [bcd4f6db] \u001b[39m\u001b[92m+ DelayDiffEq v5.44.0\u001b[39m\n",
      " \u001b[90m [b429d917] \u001b[39m\u001b[92m+ DensityInterface v0.4.0\u001b[39m\n",
      " \u001b[90m [2b5f629d] \u001b[39m\u001b[92m+ DiffEqBase v6.136.0\u001b[39m\n",
      " \u001b[90m [459566f4] \u001b[39m\u001b[92m+ DiffEqCallbacks v2.35.0\u001b[39m\n",
      " \u001b[90m [163ba53b] \u001b[39m\u001b[92m+ DiffResults v1.1.0\u001b[39m\n",
      " \u001b[90m [b552c78f] \u001b[39m\u001b[92m+ DiffRules v1.15.1\u001b[39m\n",
      " \u001b[90m [b4f34e82] \u001b[39m\u001b[92m+ Distances v0.10.11\u001b[39m\n",
      " \u001b[90m [31c24e10] \u001b[39m\u001b[92m+ Distributions v0.25.107\u001b[39m\n",
      " \u001b[90m [ffbed154] \u001b[39m\u001b[92m+ DocStringExtensions v0.9.3\u001b[39m\n",
      " \u001b[90m [fa6b7ba4] \u001b[39m\u001b[92m+ DualNumbers v0.6.8\u001b[39m\n",
      " \u001b[90m [4e289a0a] \u001b[39m\u001b[92m+ EnumX v1.0.4\u001b[39m\n",
      " \u001b[90m [f151be2c] \u001b[39m\u001b[92m+ EnzymeCore v0.6.6\u001b[39m\n",
      " \u001b[90m [460bff9d] \u001b[39m\u001b[92m+ ExceptionUnwrapping v0.1.10\u001b[39m\n",
      " \u001b[90m [d4d017d3] \u001b[39m\u001b[92m+ ExponentialUtilities v1.25.0\u001b[39m\n",
      " \u001b[90m [e2ba6199] \u001b[39m\u001b[92m+ ExprTools v0.1.10\u001b[39m\n",
      " \u001b[90m [c87230d0] \u001b[39m\u001b[92m+ FFMPEG v0.4.1\u001b[39m\n",
      " \u001b[90m [7a1cc6ca] \u001b[39m\u001b[92m+ FFTW v1.8.0\u001b[39m\n",
      " \u001b[90m [7034ab61] \u001b[39m\u001b[92m+ FastBroadcast v0.2.8\u001b[39m\n",
      " \u001b[90m [9aa1b823] \u001b[39m\u001b[92m+ FastClosures v0.3.2\u001b[39m\n",
      " \u001b[90m [29a986be] \u001b[39m\u001b[92m+ FastLapackInterface v2.0.2\u001b[39m\n",
      " \u001b[90m [1a297f60] \u001b[39m\u001b[92m+ FillArrays v1.10.0\u001b[39m\n",
      " \u001b[90m [6a86dc24] \u001b[39m\u001b[92m+ FiniteDiff v2.22.0\u001b[39m\n",
      " \u001b[90m [53c48c17] \u001b[39m\u001b[92m+ FixedPointNumbers v0.8.4\u001b[39m\n",
      " \u001b[90m [1fa38f19] \u001b[39m\u001b[92m+ Format v1.3.7\u001b[39m\n",
      " \u001b[90m [f6369f11] \u001b[39m\u001b[92m+ ForwardDiff v0.10.36\u001b[39m\n",
      " \u001b[90m [069b7b12] \u001b[39m\u001b[92m+ FunctionWrappers v1.1.3\u001b[39m\n",
      " \u001b[90m [77dc65aa] \u001b[39m\u001b[92m+ FunctionWrappersWrappers v0.1.3\u001b[39m\n",
      " \u001b[90m [d9f16b24] \u001b[39m\u001b[92m+ Functors v0.4.10\u001b[39m\n",
      " \u001b[90m [46192b85] \u001b[39m\u001b[92m+ GPUArraysCore v0.1.5\u001b[39m\n",
      " \u001b[90m [28b8d3ca] \u001b[39m\u001b[92m+ GR v0.73.3\u001b[39m\n",
      " \u001b[90m [c145ed77] \u001b[39m\u001b[92m+ GenericSchur v0.5.4\u001b[39m\n",
      " \u001b[90m [86223c79] \u001b[39m\u001b[92m+ Graphs v1.10.0\u001b[39m\n",
      " \u001b[90m [42e2da0e] \u001b[39m\u001b[92m+ Grisu v1.0.2\u001b[39m\n",
      " \u001b[90m [cd3eb016] \u001b[39m\u001b[92m+ HTTP v1.10.5\u001b[39m\n",
      " \u001b[90m [3e5b6fbb] \u001b[39m\u001b[92m+ HostCPUFeatures v0.1.16\u001b[39m\n",
      " \u001b[90m [e91730f6] \u001b[39m\u001b[92m+ Hungarian v0.7.0\u001b[39m\n",
      " \u001b[90m [34004b35] \u001b[39m\u001b[92m+ HypergeometricFunctions v0.3.23\u001b[39m\n",
      " \u001b[90m [615f187c] \u001b[39m\u001b[92m+ IfElse v0.1.1\u001b[39m\n",
      " \u001b[90m [d25df0c9] \u001b[39m\u001b[92m+ Inflate v0.1.4\u001b[39m\n",
      " \u001b[90m [3587e190] \u001b[39m\u001b[92m+ InverseFunctions v0.1.13\u001b[39m\n",
      " \u001b[90m [92d709cd] \u001b[39m\u001b[92m+ IrrationalConstants v0.2.2\u001b[39m\n",
      " \u001b[90m [c8e1da08] \u001b[39m\u001b[92m+ IterTools v1.4.0\u001b[39m\n",
      " \u001b[90m [82899510] \u001b[39m\u001b[92m+ IteratorInterfaceExtensions v1.0.0\u001b[39m\n",
      " \u001b[90m [1019f520] \u001b[39m\u001b[92m+ JLFzf v0.1.7\u001b[39m\n",
      " \u001b[90m [692b3bcd] \u001b[39m\u001b[92m+ JLLWrappers v1.5.0\u001b[39m\n",
      " \u001b[90m [682c06a0] \u001b[39m\u001b[92m+ JSON v0.21.4\u001b[39m\n",
      " \u001b[90m [ef3ab10e] \u001b[39m\u001b[92m+ KLU v0.4.1\u001b[39m\n",
      " \u001b[90m [ba0b0d4f] \u001b[39m\u001b[92m+ Krylov v0.9.5\u001b[39m\n",
      " \u001b[90m [b964fa9f] \u001b[39m\u001b[92m+ LaTeXStrings v1.3.1\u001b[39m\n",
      " \u001b[90m [23fbe1c1] \u001b[39m\u001b[92m+ Latexify v0.16.2\u001b[39m\n",
      " \u001b[90m [10f19ff3] \u001b[39m\u001b[92m+ LayoutPointers v0.1.15\u001b[39m\n",
      " \u001b[90m [50d2b5c4] \u001b[39m\u001b[92m+ Lazy v0.15.1\u001b[39m\n",
      " \u001b[90m [d3d80556] \u001b[39m\u001b[92m+ LineSearches v7.2.0\u001b[39m\n",
      " \u001b[90m [7a12625a] \u001b[39m\u001b[92m+ LinearMaps v3.11.2\u001b[39m\n",
      " \u001b[90m [7ed4a6bd] \u001b[39m\u001b[92m+ LinearSolve v2.14.1\u001b[39m\n",
      " \u001b[90m [2ab3a3ac] \u001b[39m\u001b[92m+ LogExpFunctions v0.3.27\u001b[39m\n",
      " \u001b[90m [e6f89c97] \u001b[39m\u001b[92m+ LoggingExtras v1.0.3\u001b[39m\n",
      " \u001b[90m [bdcacae8] \u001b[39m\u001b[92m+ LoopVectorization v0.12.169\u001b[39m\n",
      " \u001b[90m [1914dd2f] \u001b[39m\u001b[92m+ MacroTools v0.5.13\u001b[39m\n",
      " \u001b[90m [20f20a25] \u001b[39m\u001b[92m+ MakieCore v0.7.3\u001b[39m\n",
      " \u001b[90m [d125e4d3] \u001b[39m\u001b[92m+ ManualMemory v0.1.8\u001b[39m\n",
      " \u001b[90m [99c1a7ee] \u001b[39m\u001b[92m+ MatrixEquations v2.3.2\u001b[39m\n",
      " \u001b[90m [48965c70] \u001b[39m\u001b[92m+ MatrixPencils v1.7.13\u001b[39m\n",
      " \u001b[90m [739be429] \u001b[39m\u001b[92m+ MbedTLS v1.1.9\u001b[39m\n",
      " \u001b[90m [442fdcdd] \u001b[39m\u001b[92m+ Measures v0.3.2\u001b[39m\n",
      " \u001b[90m [e1d29d7a] \u001b[39m\u001b[92m+ Missings v1.2.0\u001b[39m\n",
      " \u001b[90m [46d2c3a1] \u001b[39m\u001b[92m+ MuladdMacro v0.2.4\u001b[39m\n",
      " \u001b[90m [d41bc354] \u001b[39m\u001b[92m+ NLSolversBase v7.8.3\u001b[39m\n",
      " \u001b[90m [2774e3e8] \u001b[39m\u001b[92m+ NLsolve v4.5.1\u001b[39m\n",
      " \u001b[90m [77ba4419] \u001b[39m\u001b[92m+ NaNMath v1.0.2\u001b[39m\n",
      " \u001b[90m [8913a72c] \u001b[39m\u001b[92m+ NonlinearSolve v1.10.1\u001b[39m\n",
      " \u001b[90m [510215fc] \u001b[39m\u001b[92m+ Observables v0.5.5\u001b[39m\n",
      " \u001b[90m [6fe1bfb0] \u001b[39m\u001b[92m+ OffsetArrays v1.13.0\u001b[39m\n",
      " \u001b[90m [4d8831e6] \u001b[39m\u001b[92m+ OpenSSL v1.4.2\u001b[39m\n",
      " \u001b[90m [bac558e1] \u001b[39m\u001b[92m+ OrderedCollections v1.6.3\u001b[39m\n",
      " \u001b[90m [1dea7af3] \u001b[39m\u001b[92m+ OrdinaryDiffEq v6.58.2\u001b[39m\n",
      " \u001b[90m [90014a1f] \u001b[39m\u001b[92m+ PDMats v0.11.31\u001b[39m\n",
      " \u001b[90m [65ce6f38] \u001b[39m\u001b[92m+ PackageExtensionCompat v1.0.2\u001b[39m\n",
      " \u001b[90m [d96e819e] \u001b[39m\u001b[92m+ Parameters v0.12.3\u001b[39m\n",
      " \u001b[90m [69de0a69] \u001b[39m\u001b[92m+ Parsers v2.8.1\u001b[39m\n",
      " \u001b[90m [b98c9c47] \u001b[39m\u001b[92m+ Pipe v1.3.0\u001b[39m\n",
      " \u001b[90m [ccf2f8ad] \u001b[39m\u001b[92m+ PlotThemes v3.1.0\u001b[39m\n",
      " \u001b[90m [995b91a9] \u001b[39m\u001b[92m+ PlotUtils v1.4.1\u001b[39m\n",
      " \u001b[90m [91a5bcdd] \u001b[39m\u001b[92m+ Plots v1.40.3\u001b[39m\n",
      " \u001b[90m [f517fe37] \u001b[39m\u001b[92m+ Polyester v0.7.12\u001b[39m\n",
      " \u001b[90m [1d0040c9] \u001b[39m\u001b[92m+ PolyesterWeave v0.2.1\u001b[39m\n",
      " \u001b[90m [f27b6e38] \u001b[39m\u001b[92m+ Polynomials v4.0.6\u001b[39m\n",
      " \u001b[90m [d236fae5] \u001b[39m\u001b[92m+ PreallocationTools v0.4.12\u001b[39m\n",
      " \u001b[90m [aea7be01] \u001b[39m\u001b[92m+ PrecompileTools v1.2.1\u001b[39m\n",
      " \u001b[90m [21216c6a] \u001b[39m\u001b[92m+ Preferences v1.4.3\u001b[39m\n",
      " \u001b[90m [1fd47b50] \u001b[39m\u001b[92m+ QuadGK v2.9.4\u001b[39m\n",
      " \u001b[90m [3cdcf5f2] \u001b[39m\u001b[92m+ RecipesBase v1.3.4\u001b[39m\n",
      " \u001b[90m [01d81517] \u001b[39m\u001b[92m+ RecipesPipeline v0.6.12\u001b[39m\n",
      " \u001b[90m [731186ca] \u001b[39m\u001b[92m+ RecursiveArrayTools v2.38.10\u001b[39m\n",
      " \u001b[90m [f2c3362d] \u001b[39m\u001b[92m+ RecursiveFactorization v0.2.21\u001b[39m\n",
      " \u001b[90m [189a3867] \u001b[39m\u001b[92m+ Reexport v1.2.2\u001b[39m\n",
      " \u001b[90m [05181044] \u001b[39m\u001b[92m+ RelocatableFolders v1.0.1\u001b[39m\n",
      " \u001b[90m [ae029012] \u001b[39m\u001b[92m+ Requires v1.3.0\u001b[39m\n",
      " \u001b[90m [79098fc4] \u001b[39m\u001b[92m+ Rmath v0.7.1\u001b[39m\n",
      " \u001b[90m [7e49a35a] \u001b[39m\u001b[92m+ RuntimeGeneratedFunctions v0.5.12\u001b[39m\n",
      " \u001b[90m [94e857df] \u001b[39m\u001b[92m+ SIMDTypes v0.1.0\u001b[39m\n",
      " \u001b[90m [476501e8] \u001b[39m\u001b[92m+ SLEEFPirates v0.6.42\u001b[39m\n",
      " \u001b[90m [0bca4576] \u001b[39m\u001b[92m+ SciMLBase v2.6.0\u001b[39m\n",
      " \u001b[90m [e9a6253c] \u001b[39m\u001b[92m+ SciMLNLSolve v0.1.9\u001b[39m\n",
      " \u001b[90m [c0aeaf25] \u001b[39m\u001b[92m+ SciMLOperators v0.3.7\u001b[39m\n",
      " \u001b[90m [6c6a2e73] \u001b[39m\u001b[92m+ Scratch v1.2.1\u001b[39m\n",
      " \u001b[90m [efcf1570] \u001b[39m\u001b[92m+ Setfield v1.1.1\u001b[39m\n",
      " \u001b[90m [992d4aef] \u001b[39m\u001b[92m+ Showoff v1.0.3\u001b[39m\n",
      " \u001b[90m [777ac1f9] \u001b[39m\u001b[92m+ SimpleBufferStream v1.1.0\u001b[39m\n",
      " \u001b[90m [727e6d20] \u001b[39m\u001b[92m+ SimpleNonlinearSolve v0.1.23\u001b[39m\n",
      " \u001b[90m [699a6c99] \u001b[39m\u001b[92m+ SimpleTraits v0.9.4\u001b[39m\n",
      " \u001b[90m [ce78b400] \u001b[39m\u001b[92m+ SimpleUnPack v1.1.0\u001b[39m\n",
      " \u001b[90m [a2af1166] \u001b[39m\u001b[92m+ SortingAlgorithms v1.2.1\u001b[39m\n",
      " \u001b[90m [47a9eef4] \u001b[39m\u001b[92m+ SparseDiffTools v2.17.0\u001b[39m\n",
      " \u001b[90m [e56a9233] \u001b[39m\u001b[92m+ Sparspak v0.3.9\u001b[39m\n",
      " \u001b[90m [276daf66] \u001b[39m\u001b[92m+ SpecialFunctions v2.3.1\u001b[39m\n",
      " \u001b[90m [aedffcd0] \u001b[39m\u001b[92m+ Static v0.8.9\u001b[39m\n",
      " \u001b[90m [0d7ed370] \u001b[39m\u001b[92m+ StaticArrayInterface v1.5.0\u001b[39m\n",
      " \u001b[90m [90137ffa] \u001b[39m\u001b[92m+ StaticArrays v1.9.3\u001b[39m\n",
      " \u001b[90m [1e83bf80] \u001b[39m\u001b[92m+ StaticArraysCore v1.4.2\u001b[39m\n",
      " \u001b[90m [82ae8749] \u001b[39m\u001b[92m+ StatsAPI v1.7.0\u001b[39m\n",
      " \u001b[90m [2913bbd2] \u001b[39m\u001b[92m+ StatsBase v0.34.3\u001b[39m\n",
      " \u001b[90m [4c63d2b9] \u001b[39m\u001b[92m+ StatsFuns v1.3.1\u001b[39m\n",
      " \u001b[90m [7792a7ef] \u001b[39m\u001b[92m+ StrideArraysCore v0.5.3\u001b[39m\n",
      " \u001b[90m [2efcf032] \u001b[39m\u001b[92m+ SymbolicIndexingInterface v0.2.2\u001b[39m\n",
      " \u001b[90m [3783bdb8] \u001b[39m\u001b[92m+ TableTraits v1.0.1\u001b[39m\n",
      " \u001b[90m [bd369af6] \u001b[39m\u001b[92m+ Tables v1.11.1\u001b[39m\n",
      " \u001b[90m [62fd8b95] \u001b[39m\u001b[92m+ TensorCore v0.1.1\u001b[39m\n",
      " \u001b[90m [8290d209] \u001b[39m\u001b[92m+ ThreadingUtilities v0.5.2\u001b[39m\n",
      " \u001b[90m [3bb67fe8] \u001b[39m\u001b[92m+ TranscodingStreams v0.10.7\u001b[39m\n",
      " \u001b[90m [d5829a12] \u001b[39m\u001b[92m+ TriangularSolve v0.1.20\u001b[39m\n",
      " \u001b[90m [410a4b4d] \u001b[39m\u001b[92m+ Tricks v0.1.8\u001b[39m\n",
      " \u001b[90m [781d530d] \u001b[39m\u001b[92m+ TruncatedStacktraces v1.4.0\u001b[39m\n",
      " \u001b[90m [5c2747f8] \u001b[39m\u001b[92m+ URIs v1.5.1\u001b[39m\n",
      " \u001b[90m [3a884ed6] \u001b[39m\u001b[92m+ UnPack v1.0.2\u001b[39m\n",
      " \u001b[90m [1cfade01] \u001b[39m\u001b[92m+ UnicodeFun v0.4.1\u001b[39m\n",
      " \u001b[90m [1986cc42] \u001b[39m\u001b[92m+ Unitful v1.19.0\u001b[39m\n",
      " \u001b[90m [45397f5d] \u001b[39m\u001b[92m+ UnitfulLatexify v1.6.3\u001b[39m\n",
      " \u001b[90m [41fe7b60] \u001b[39m\u001b[92m+ Unzip v0.1.2\u001b[39m\n",
      " \u001b[90m [3d5dd08c] \u001b[39m\u001b[92m+ VectorizationBase v0.21.65\u001b[39m\n",
      " \u001b[90m [19fa3120] \u001b[39m\u001b[92m+ VertexSafeGraphs v0.2.0\u001b[39m\n",
      " \u001b[90m [700de1a5] \u001b[39m\u001b[92m+ ZygoteRules v0.2.5\u001b[39m\n",
      " \u001b[90m [6e34b625] \u001b[39m\u001b[92m+ Bzip2_jll v1.0.8+1\u001b[39m\n",
      " \u001b[90m [83423d85] \u001b[39m\u001b[92m+ Cairo_jll v1.18.0+1\u001b[39m\n",
      " \u001b[90m [2702e6a9] \u001b[39m\u001b[92m+ EpollShim_jll v0.0.20230411+0\u001b[39m\n",
      " \u001b[90m [2e619515] \u001b[39m\u001b[92m+ Expat_jll v2.5.0+0\u001b[39m\n",
      " \u001b[90m [b22a6f82] \u001b[39m\u001b[92m+ FFMPEG_jll v4.4.4+1\u001b[39m\n",
      " \u001b[90m [f5851436] \u001b[39m\u001b[92m+ FFTW_jll v3.3.10+0\u001b[39m\n",
      " \u001b[90m [a3f928ae] \u001b[39m\u001b[92m+ Fontconfig_jll v2.13.93+0\u001b[39m\n",
      " \u001b[90m [d7e528f0] \u001b[39m\u001b[92m+ FreeType2_jll v2.13.1+0\u001b[39m\n",
      " \u001b[90m [559328eb] \u001b[39m\u001b[92m+ FriBidi_jll v1.0.10+0\u001b[39m\n",
      " \u001b[90m [0656b61e] \u001b[39m\u001b[92m+ GLFW_jll v3.3.9+0\u001b[39m\n",
      " \u001b[90m [d2c73de3] \u001b[39m\u001b[92m+ GR_jll v0.73.3+0\u001b[39m\n",
      " \u001b[90m [78b55507] \u001b[39m\u001b[92m+ Gettext_jll v0.21.0+0\u001b[39m\n",
      " \u001b[90m [7746bdde] \u001b[39m\u001b[92m+ Glib_jll v2.80.0+0\u001b[39m\n",
      " \u001b[90m [3b182d85] \u001b[39m\u001b[92m+ Graphite2_jll v1.3.14+0\u001b[39m\n",
      " \u001b[90m [2e76f6c2] \u001b[39m\u001b[92m+ HarfBuzz_jll v2.8.1+1\u001b[39m\n",
      " \u001b[90m [1d5cc7b8] \u001b[39m\u001b[92m+ IntelOpenMP_jll v2024.0.2+0\u001b[39m\n",
      " \u001b[90m [aacddb02] \u001b[39m\u001b[92m+ JpegTurbo_jll v3.0.2+0\u001b[39m\n",
      " \u001b[90m [c1c5ebd0] \u001b[39m\u001b[92m+ LAME_jll v3.100.1+0\u001b[39m\n",
      " \u001b[90m [88015f11] \u001b[39m\u001b[92m+ LERC_jll v3.0.0+1\u001b[39m\n",
      " \u001b[90m [1d63c593] \u001b[39m\u001b[92m+ LLVMOpenMP_jll v15.0.7+0\u001b[39m\n",
      " \u001b[90m [dd4b983a] \u001b[39m\u001b[92m+ LZO_jll v2.10.1+0\u001b[39m\n",
      " \u001b[90m [e9f186c6] \u001b[39m\u001b[92m+ Libffi_jll v3.2.2+1\u001b[39m\n",
      " \u001b[90m [d4300ac3] \u001b[39m\u001b[92m+ Libgcrypt_jll v1.8.7+0\u001b[39m\n",
      " \u001b[90m [7e76a0d4] \u001b[39m\u001b[92m+ Libglvnd_jll v1.6.0+0\u001b[39m\n",
      " \u001b[90m [7add5ba3] \u001b[39m\u001b[92m+ Libgpg_error_jll v1.42.0+0\u001b[39m\n",
      " \u001b[90m [94ce4f54] \u001b[39m\u001b[92m+ Libiconv_jll v1.17.0+0\u001b[39m\n",
      " \u001b[90m [4b2f31a3] \u001b[39m\u001b[92m+ Libmount_jll v2.39.3+0\u001b[39m\n",
      " \u001b[90m [89763e89] \u001b[39m\u001b[92m+ Libtiff_jll v4.5.1+1\u001b[39m\n",
      " \u001b[90m [38a345b3] \u001b[39m\u001b[92m+ Libuuid_jll v2.39.3+1\u001b[39m\n",
      " \u001b[90m [856f044c] \u001b[39m\u001b[92m+ MKL_jll v2024.0.0+0\u001b[39m\n",
      " \u001b[90m [e7412a2a] \u001b[39m\u001b[92m+ Ogg_jll v1.3.5+1\u001b[39m\n",
      " \u001b[90m [458c3c95] \u001b[39m\u001b[92m+ OpenSSL_jll v3.0.13+1\u001b[39m\n",
      " \u001b[90m [efe28fd5] \u001b[39m\u001b[92m+ OpenSpecFun_jll v0.5.5+0\u001b[39m\n",
      " \u001b[90m [91d4177d] \u001b[39m\u001b[92m+ Opus_jll v1.3.2+0\u001b[39m\n",
      " \u001b[90m [30392449] \u001b[39m\u001b[92m+ Pixman_jll v0.42.2+0\u001b[39m\n",
      " \u001b[90m [c0090381] \u001b[39m\u001b[92m+ Qt6Base_jll v6.5.3+1\u001b[39m\n",
      " \u001b[90m [f50d1b31] \u001b[39m\u001b[92m+ Rmath_jll v0.4.0+0\u001b[39m\n",
      " \u001b[90m [a44049a8] \u001b[39m\u001b[92m+ Vulkan_Loader_jll v1.3.243+0\u001b[39m\n",
      " \u001b[90m [a2964d1f] \u001b[39m\u001b[92m+ Wayland_jll v1.21.0+1\u001b[39m\n",
      " \u001b[90m [2381bf8a] \u001b[39m\u001b[92m+ Wayland_protocols_jll v1.31.0+0\u001b[39m\n",
      " \u001b[90m [02c8fc9c] \u001b[39m\u001b[92m+ XML2_jll v2.12.6+0\u001b[39m\n",
      " \u001b[90m [aed1982a] \u001b[39m\u001b[92m+ XSLT_jll v1.1.34+0\u001b[39m\n",
      " \u001b[90m [ffd25f8a] \u001b[39m\u001b[92m+ XZ_jll v5.4.6+0\u001b[39m\n",
      " \u001b[90m [f67eecfb] \u001b[39m\u001b[92m+ Xorg_libICE_jll v1.0.10+1\u001b[39m\n",
      " \u001b[90m [c834827a] \u001b[39m\u001b[92m+ Xorg_libSM_jll v1.2.3+0\u001b[39m\n",
      " \u001b[90m [4f6342f7] \u001b[39m\u001b[92m+ Xorg_libX11_jll v1.8.6+0\u001b[39m\n",
      " \u001b[90m [0c0b7dd1] \u001b[39m\u001b[92m+ Xorg_libXau_jll v1.0.11+0\u001b[39m\n",
      " \u001b[90m [935fb764] \u001b[39m\u001b[92m+ Xorg_libXcursor_jll v1.2.0+4\u001b[39m\n",
      " \u001b[90m [a3789734] \u001b[39m\u001b[92m+ Xorg_libXdmcp_jll v1.1.4+0\u001b[39m\n",
      " \u001b[90m [1082639a] \u001b[39m\u001b[92m+ Xorg_libXext_jll v1.3.4+4\u001b[39m\n",
      " \u001b[90m [d091e8ba] \u001b[39m\u001b[92m+ Xorg_libXfixes_jll v5.0.3+4\u001b[39m\n",
      " \u001b[90m [a51aa0fd] \u001b[39m\u001b[92m+ Xorg_libXi_jll v1.7.10+4\u001b[39m\n",
      " \u001b[90m [d1454406] \u001b[39m\u001b[92m+ Xorg_libXinerama_jll v1.1.4+4\u001b[39m\n",
      " \u001b[90m [ec84b674] \u001b[39m\u001b[92m+ Xorg_libXrandr_jll v1.5.2+4\u001b[39m\n",
      " \u001b[90m [ea2f1a96] \u001b[39m\u001b[92m+ Xorg_libXrender_jll v0.9.10+4\u001b[39m\n",
      " \u001b[90m [14d82f49] \u001b[39m\u001b[92m+ Xorg_libpthread_stubs_jll v0.1.1+0\u001b[39m\n",
      " \u001b[90m [c7cfdc94] \u001b[39m\u001b[92m+ Xorg_libxcb_jll v1.15.0+0\u001b[39m\n",
      " \u001b[90m [cc61e674] \u001b[39m\u001b[92m+ Xorg_libxkbfile_jll v1.1.2+0\u001b[39m\n",
      " \u001b[90m [e920d4aa] \u001b[39m\u001b[92m+ Xorg_xcb_util_cursor_jll v0.1.4+0\u001b[39m\n",
      " \u001b[90m [12413925] \u001b[39m\u001b[92m+ Xorg_xcb_util_image_jll v0.4.0+1\u001b[39m\n",
      " \u001b[90m [2def613f] \u001b[39m\u001b[92m+ Xorg_xcb_util_jll v0.4.0+1\u001b[39m\n",
      " \u001b[90m [975044d2] \u001b[39m\u001b[92m+ Xorg_xcb_util_keysyms_jll v0.4.0+1\u001b[39m\n",
      " \u001b[90m [0d47668e] \u001b[39m\u001b[92m+ Xorg_xcb_util_renderutil_jll v0.3.9+1\u001b[39m\n",
      " \u001b[90m [c22f9ab0] \u001b[39m\u001b[92m+ Xorg_xcb_util_wm_jll v0.4.1+1\u001b[39m\n",
      " \u001b[90m [35661453] \u001b[39m\u001b[92m+ Xorg_xkbcomp_jll v1.4.6+0\u001b[39m\n",
      " \u001b[90m [33bec58e] \u001b[39m\u001b[92m+ Xorg_xkeyboard_config_jll v2.39.0+0\u001b[39m\n",
      " \u001b[90m [c5fb5394] \u001b[39m\u001b[92m+ Xorg_xtrans_jll v1.5.0+0\u001b[39m\n",
      " \u001b[90m [3161d3a3] \u001b[39m\u001b[92m+ Zstd_jll v1.5.6+0\u001b[39m\n",
      " \u001b[90m [35ca27e7] \u001b[39m\u001b[92m+ eudev_jll v3.2.9+0\u001b[39m\n",
      " \u001b[90m [214eeab7] \u001b[39m\u001b[92m+ fzf_jll v0.43.0+0\u001b[39m\n",
      " \u001b[90m [1a1c6b14] \u001b[39m\u001b[92m+ gperf_jll v3.1.1+0\u001b[39m\n",
      " \u001b[90m [a4ae2306] \u001b[39m\u001b[92m+ libaom_jll v3.4.0+0\u001b[39m\n",
      " \u001b[90m [0ac62f75] \u001b[39m\u001b[92m+ libass_jll v0.15.1+0\u001b[39m\n",
      " \u001b[90m [8e850b90] \u001b[39m\u001b[92m+ libblastrampoline_jll v3.1.0+2\u001b[39m\n",
      " \u001b[90m [2db6ffa8] \u001b[39m\u001b[92m+ libevdev_jll v1.11.0+0\u001b[39m\n",
      " \u001b[90m [f638f0a6] \u001b[39m\u001b[92m+ libfdk_aac_jll v2.0.2+0\u001b[39m\n",
      " \u001b[90m [36db933b] \u001b[39m\u001b[92m+ libinput_jll v1.18.0+0\u001b[39m\n",
      " \u001b[90m [b53b4c65] \u001b[39m\u001b[92m+ libpng_jll v1.6.43+1\u001b[39m\n",
      " \u001b[90m [f27f6e37] \u001b[39m\u001b[92m+ libvorbis_jll v1.3.7+1\u001b[39m\n",
      " \u001b[90m [009596ad] \u001b[39m\u001b[92m+ mtdev_jll v1.1.6+0\u001b[39m\n",
      " \u001b[90m [1270edf5] \u001b[39m\u001b[92m+ x264_jll v2021.5.5+0\u001b[39m\n",
      " \u001b[90m [dfaa095f] \u001b[39m\u001b[92m+ x265_jll v3.5.0+0\u001b[39m\n",
      " \u001b[90m [d8fb68d0] \u001b[39m\u001b[92m+ xkbcommon_jll v1.4.1+1\u001b[39m\n",
      " \u001b[90m [0dad84c5] \u001b[39m\u001b[92m+ ArgTools\u001b[39m\n",
      " \u001b[90m [56f22d72] \u001b[39m\u001b[92m+ Artifacts\u001b[39m\n",
      " \u001b[90m [2a0f44e3] \u001b[39m\u001b[92m+ Base64\u001b[39m\n",
      " \u001b[90m [ade2ca70] \u001b[39m\u001b[92m+ Dates\u001b[39m\n",
      " \u001b[90m [8bb1440f] \u001b[39m\u001b[92m+ DelimitedFiles\u001b[39m\n",
      " \u001b[90m [8ba89e20] \u001b[39m\u001b[92m+ Distributed\u001b[39m\n",
      " \u001b[90m [f43a241f] \u001b[39m\u001b[92m+ Downloads\u001b[39m\n",
      " \u001b[90m [9fa8497b] \u001b[39m\u001b[92m+ Future\u001b[39m\n",
      " \u001b[90m [b77e0a4c] \u001b[39m\u001b[92m+ InteractiveUtils\u001b[39m\n",
      " \u001b[90m [4af54fe1] \u001b[39m\u001b[92m+ LazyArtifacts\u001b[39m\n",
      " \u001b[90m [b27032c2] \u001b[39m\u001b[92m+ LibCURL\u001b[39m\n",
      " \u001b[90m [76f85450] \u001b[39m\u001b[92m+ LibGit2\u001b[39m\n",
      " \u001b[90m [8f399da3] \u001b[39m\u001b[92m+ Libdl\u001b[39m\n",
      " \u001b[90m [37e2e46d] \u001b[39m\u001b[92m+ LinearAlgebra\u001b[39m\n",
      " \u001b[90m [56ddb016] \u001b[39m\u001b[92m+ Logging\u001b[39m\n",
      " \u001b[90m [d6f4376e] \u001b[39m\u001b[92m+ Markdown\u001b[39m\n",
      " \u001b[90m [a63ad114] \u001b[39m\u001b[92m+ Mmap\u001b[39m\n",
      " \u001b[90m [ca575930] \u001b[39m\u001b[92m+ NetworkOptions\u001b[39m\n",
      " \u001b[90m [44cfe95a] \u001b[39m\u001b[92m+ Pkg\u001b[39m\n",
      " \u001b[90m [de0858da] \u001b[39m\u001b[92m+ Printf\u001b[39m\n",
      " \u001b[90m [3fa0cd96] \u001b[39m\u001b[92m+ REPL\u001b[39m\n",
      " \u001b[90m [9a3f8284] \u001b[39m\u001b[92m+ Random\u001b[39m\n",
      " \u001b[90m [ea8e919c] \u001b[39m\u001b[92m+ SHA\u001b[39m\n",
      " \u001b[90m [9e88b42a] \u001b[39m\u001b[92m+ Serialization\u001b[39m\n",
      " \u001b[90m [1a1011a3] \u001b[39m\u001b[92m+ SharedArrays\u001b[39m\n",
      " \u001b[90m [6462fe0b] \u001b[39m\u001b[92m+ Sockets\u001b[39m\n",
      " \u001b[90m [2f01184e] \u001b[39m\u001b[92m+ SparseArrays\u001b[39m\n",
      " \u001b[90m [10745b16] \u001b[39m\u001b[92m+ Statistics\u001b[39m\n",
      " \u001b[90m [4607b0f0] \u001b[39m\u001b[92m+ SuiteSparse\u001b[39m\n",
      " \u001b[90m [fa267f1f] \u001b[39m\u001b[92m+ TOML\u001b[39m\n",
      " \u001b[90m [a4e569a6] \u001b[39m\u001b[92m+ Tar\u001b[39m\n",
      " \u001b[90m [8dfed614] \u001b[39m\u001b[92m+ Test\u001b[39m\n",
      " \u001b[90m [cf7118a7] \u001b[39m\u001b[92m+ UUIDs\u001b[39m\n",
      " \u001b[90m [4ec0a83e] \u001b[39m\u001b[92m+ Unicode\u001b[39m\n",
      " \u001b[90m [e66e0078] \u001b[39m\u001b[92m+ CompilerSupportLibraries_jll\u001b[39m\n",
      " \u001b[90m [deac9b47] \u001b[39m\u001b[92m+ LibCURL_jll\u001b[39m\n",
      " \u001b[90m [29816b5a] \u001b[39m\u001b[92m+ LibSSH2_jll\u001b[39m\n",
      " \u001b[90m [c8ffd9c3] \u001b[39m\u001b[92m+ MbedTLS_jll\u001b[39m\n",
      " \u001b[90m [14a3606d] \u001b[39m\u001b[92m+ MozillaCACerts_jll\u001b[39m\n",
      " \u001b[90m [4536629a] \u001b[39m\u001b[92m+ OpenBLAS_jll\u001b[39m\n",
      " \u001b[90m [05823500] \u001b[39m\u001b[92m+ OpenLibm_jll\u001b[39m\n",
      " \u001b[90m [efcefdf7] \u001b[39m\u001b[92m+ PCRE2_jll\u001b[39m\n",
      " \u001b[90m [bea87d4a] \u001b[39m\u001b[92m+ SuiteSparse_jll\u001b[39m\n",
      " \u001b[90m [83775a58] \u001b[39m\u001b[92m+ Zlib_jll\u001b[39m\n",
      " \u001b[90m [8e850ede] \u001b[39m\u001b[92m+ nghttp2_jll\u001b[39m\n",
      " \u001b[90m [3f19e933] \u001b[39m\u001b[92m+ p7zip_jll\u001b[39m\n"
     ]
    }
   ],
   "source": [
    "import Pkg; Pkg.activate(@__DIR__); Pkg.instantiate()"
   ]
  },
  {
   "cell_type": "code",
   "execution_count": 2,
   "id": "ad0a9dfb-f37c-4064-8bb3-b85c1c5c1e18",
   "metadata": {
    "scrolled": true
   },
   "outputs": [
    {
     "name": "stderr",
     "output_type": "stream",
     "text": [
      "\u001b[36m\u001b[1m[ \u001b[22m\u001b[39m\u001b[36m\u001b[1mInfo: \u001b[22m\u001b[39mPrecompiling Plots [91a5bcdd-55d7-5caf-9e0b-520d859cae80]\n",
      "\u001b[36m\u001b[1m[ \u001b[22m\u001b[39m\u001b[36m\u001b[1mInfo: \u001b[22m\u001b[39mPrecompiling ControlSystems [a6e380b2-a6ca-5380-bf3e-84a91bcd477e]\n"
     ]
    }
   ],
   "source": [
    "using LinearAlgebra\n",
    "using Plots\n",
    "using SparseArrays\n",
    "using ControlSystems\n",
    "using ForwardDiff"
   ]
  },
  {
   "cell_type": "code",
   "execution_count": 3,
   "id": "2d403cd9-0514-42dd-9f0b-3758345825b4",
   "metadata": {},
   "outputs": [
    {
     "data": {
      "text/plain": [
       "2-element Vector{Float64}:\n",
       " 0.005000000000000001\n",
       " 0.1"
      ]
     },
     "execution_count": 3,
     "metadata": {},
     "output_type": "execute_result"
    }
   ],
   "source": [
    "# Discrete dynamics\n",
    "h = 0.1   # time step\n",
    "A = [1 h; 0 1]\n",
    "B = [0.5*h*h; h]"
   ]
  },
  {
   "cell_type": "code",
   "execution_count": 4,
   "id": "8706582d-26e0-4160-ad80-e9278a4a33cb",
   "metadata": {},
   "outputs": [
    {
     "data": {
      "text/plain": [
       "2"
      ]
     },
     "execution_count": 4,
     "metadata": {},
     "output_type": "execute_result"
    }
   ],
   "source": [
    "#Controllability\n",
    "# Since dim(x) = 2, we only need two step multiplicataions\n",
    "rank([B A*B])"
   ]
  },
  {
   "cell_type": "code",
   "execution_count": 5,
   "id": "d5e54bd3-06b1-48d7-8097-a59b40225a39",
   "metadata": {},
   "outputs": [],
   "source": [
    "n = 2     # number of state\n",
    "m = 1     # number of controls\n",
    "Tfinal = 10.0 # final time\n",
    "N = Int(Tfinal/h)+1    # number of time steps\n",
    "thist = Array(range(0,h*(N-1), step=h));"
   ]
  },
  {
   "cell_type": "code",
   "execution_count": 6,
   "id": "e16199f3-8de6-4929-805c-52cfc9b75de9",
   "metadata": {},
   "outputs": [
    {
     "data": {
      "text/plain": [
       "2-element Vector{Float64}:\n",
       " 1.0\n",
       " 0.0"
      ]
     },
     "execution_count": 6,
     "metadata": {},
     "output_type": "execute_result"
    }
   ],
   "source": [
    "# Initial conditions\n",
    "x0 = [1.0; 0]"
   ]
  },
  {
   "cell_type": "code",
   "execution_count": 7,
   "id": "217f5f97-a4dc-4e6c-ae05-c4ebf05c2389",
   "metadata": {},
   "outputs": [
    {
     "data": {
      "text/plain": [
       "2×2 Matrix{Float64}:\n",
       " 1.0  0.0\n",
       " 0.0  1.0"
      ]
     },
     "execution_count": 7,
     "metadata": {},
     "output_type": "execute_result"
    }
   ],
   "source": [
    "# Cost weights\n",
    "# Warp Array for Matrix conversion\n",
    "Q = Array(1.0 * I(n))\n",
    "R = Array(0.1 * I(m))\n",
    "Qn = Array(1.0 * I(n))"
   ]
  },
  {
   "cell_type": "code",
   "execution_count": 8,
   "id": "1b9b1300-a3dd-4d1a-9ac9-06e248300efb",
   "metadata": {},
   "outputs": [
    {
     "data": {
      "text/plain": [
       "J (generic function with 1 method)"
      ]
     },
     "execution_count": 8,
     "metadata": {},
     "output_type": "execute_result"
    }
   ],
   "source": [
    "#Cost function\n",
    "function J(xhist, uhist)\n",
    "    J = 0.5 * xhist[:,end]' * Qn * xhist[:,end]\n",
    "    for k in 1:(size(xhist,2)-1)\n",
    "        J = J + 0.5 * xhist[:,k]' * Q * xhist[:,k] + 0.5 * (uhist[k]' * R * uhist[k])[1]\n",
    "    end\n",
    "    return J\n",
    "end\n"
   ]
  },
  {
   "cell_type": "code",
   "execution_count": 9,
   "id": "5eb51dca-ee19-47fc-933a-99c164d747ba",
   "metadata": {},
   "outputs": [
    {
     "data": {
      "text/plain": [
       "V (generic function with 1 method)"
      ]
     },
     "execution_count": 9,
     "metadata": {},
     "output_type": "execute_result"
    }
   ],
   "source": [
    "#Cost-to-go Function\n",
    "function Vinf(x)\n",
    "    return 0.5*x'Pinf*x\n",
    "end\n",
    "\n",
    "function V(k, x)\n",
    "    return 0.5*x'*P[:,:,k]*x\n",
    "end"
   ]
  },
  {
   "cell_type": "markdown",
   "id": "20f170a6-ce35-457b-b9c0-e5c6e985f68c",
   "metadata": {},
   "source": [
    "## QP Solution"
   ]
  },
  {
   "cell_type": "code",
   "execution_count": 10,
   "id": "1202bfb8-a035-49cc-acc3-b7a4d576f489",
   "metadata": {},
   "outputs": [],
   "source": [
    "H = blockdiag(sparse(R), kron(I(N-2), blockdiag(sparse(Q),sparse(R))), sparse(Qn))\n",
    "\n",
    "C = kron(I(N-1), [B -I(n)])\n",
    "for k in 1:(N-2)\n",
    "    C[(k*n).+(1:n), (k*(n+m)-n).+(1:n)] .= A\n",
    "end\n",
    "d = [ -A*x0; zeros(size(C, 1) - n)];"
   ]
  },
  {
   "cell_type": "code",
   "execution_count": 11,
   "id": "b4f4bd7e-340c-497f-9440-217ff7841127",
   "metadata": {},
   "outputs": [
    {
     "data": {
      "text/plain": [
       "2×101 Matrix{Float64}:\n",
       " 1.0   0.987071   0.952905   0.905422   0.850265  …   6.95272e-5   6.6895e-5\n",
       " 0.0  -0.25857   -0.42476   -0.52489   -0.578262     -2.7416e-5   -2.52277e-5"
      ]
     },
     "execution_count": 11,
     "metadata": {},
     "output_type": "execute_result"
    }
   ],
   "source": [
    "# Solve the linear system\n",
    "y = [ H C'; C zeros(size(C,1),size(C,1)) ] \\ [ zeros(size(H,1)); d ]\n",
    "\n",
    "# parse state x and λ\n",
    "state = y[1:size(H,1)]\n",
    "λ = y[size(H,1)+1:end]\n",
    "\n",
    "# reshape state into [ u; x ] form\n",
    "state = reshape(state, (n+m), (N-1))\n",
    "uhist_qp = state[m,:]\n",
    "xhist_qp = state[m+1:end,:]\n",
    "\n",
    "# add initial state\n",
    "xhist_qp = [ x0 xhist_qp ]"
   ]
  },
  {
   "cell_type": "markdown",
   "id": "388f10fe-adb1-4d22-ada8-a21b1932c8ad",
   "metadata": {},
   "source": [
    "## Riccati Solution"
   ]
  },
  {
   "cell_type": "code",
   "execution_count": 12,
   "id": "eec6d11a-432c-455b-9406-b0e9d1b11a27",
   "metadata": {},
   "outputs": [],
   "source": [
    "P_ric = zeros(n, n, N)\n",
    "K_ric = zeros(m, n, (N-1))\n",
    "\n",
    "P_ric[:,:,end] .= Qn\n",
    "\n",
    "# Backward Rollout\n",
    "for k in (N-1):-1:1\n",
    "    K_ric[:,:,k] .= (R .+B'*P_ric[:,:,k+1]*B)\\(B'*P_ric[:,:,k+1]*A)\n",
    "    P_ric[:,:,k] .= Q + A'*P_ric[:,:,k+1]*(A-B*K_ric[:,:,k])\n",
    "end\n",
    "\n",
    "xhist_ric = zeros(n, N)\n",
    "xhist_ric[:,1] = x0\n",
    "uhist_ric = zeros(m, N-1)\n",
    "\n",
    "# Forward Rollout\n",
    "for k in 1:(N-1)\n",
    "    uhist_ric[:,k] .= -K_ric[:,:,k] * xhist_ric[:,k]\n",
    "    xhist_ric[:,k+1] .= A*xhist_ric[:,k] + B*uhist_ric[k]\n",
    "end"
   ]
  },
  {
   "cell_type": "markdown",
   "id": "bb52f45f-3661-417e-8e91-84cb5a319b23",
   "metadata": {},
   "source": [
    "## Dynamic Programming Solution"
   ]
  },
  {
   "cell_type": "code",
   "execution_count": 13,
   "id": "012d9ce8-4b13-42cd-9287-0c50bcc74404",
   "metadata": {},
   "outputs": [],
   "source": [
    "P = zeros(n,n,N)\n",
    "K = zeros(m,n,N-1)\n",
    "\n",
    "P[:,:,end] .= Qn\n",
    "\n",
    "# Backward Recursion\n",
    "for k in (N-1):-1:1\n",
    "    K[:,:,k] .= (R .+ B'*P[:,:,k+1]*B) \\ (B'*P[:,:,k+1]*A)\n",
    "    P[:,:,k] .= Q + K[:,:,k]'*R*K[:,:,k] + (A-B*K[:,:,k])'*P[:,:,k+1]*(A-B*K[:,:,k])\n",
    "end\n",
    "\n",
    "# Forward Rollout\n",
    "xhist_dp = zeros(n, N)\n",
    "uhist_dp = zeros(m, N-1)\n",
    "xhist_dp[:,1] = x0\n",
    "\n",
    "for k in 1:(N-1)\n",
    "    uhist_dp[:,k] .= -K[:,:,k] * xhist_dp[:,k]\n",
    "    xhist_dp[:,k+1] .= A*xhist_dp[:,k] + B*uhist_dp[k]\n",
    "end"
   ]
  },
  {
   "cell_type": "markdown",
   "id": "b0d3f46d-893f-425d-a2ab-c8affe5ad564",
   "metadata": {},
   "source": [
    "## Plotting"
   ]
  },
  {
   "cell_type": "code",
   "execution_count": 14,
   "id": "e98e4bab-bca9-49fd-909a-1ae37b9134f9",
   "metadata": {},
   "outputs": [
    {
     "data": {
      "image/svg+xml": [
       "<?xml version=\"1.0\" encoding=\"utf-8\"?>\n",
       "<svg xmlns=\"http://www.w3.org/2000/svg\" xmlns:xlink=\"http://www.w3.org/1999/xlink\" width=\"600\" height=\"400\" viewBox=\"0 0 2400 1600\">\n",
       "<defs>\n",
       "  <clipPath id=\"clip160\">\n",
       "    <rect x=\"0\" y=\"0\" width=\"2400\" height=\"1600\"/>\n",
       "  </clipPath>\n",
       "</defs>\n",
       "<path clip-path=\"url(#clip160)\" d=\"M0 1600 L2400 1600 L2400 0 L0 0  Z\" fill=\"#ffffff\" fill-rule=\"evenodd\" fill-opacity=\"1\"/>\n",
       "<defs>\n",
       "  <clipPath id=\"clip161\">\n",
       "    <rect x=\"480\" y=\"0\" width=\"1681\" height=\"1600\"/>\n",
       "  </clipPath>\n",
       "</defs>\n",
       "<path clip-path=\"url(#clip160)\" d=\"M192.941 1423.18 L2352.76 1423.18 L2352.76 47.2441 L192.941 47.2441  Z\" fill=\"#ffffff\" fill-rule=\"evenodd\" fill-opacity=\"1\"/>\n",
       "<defs>\n",
       "  <clipPath id=\"clip162\">\n",
       "    <rect x=\"192\" y=\"47\" width=\"2161\" height=\"1377\"/>\n",
       "  </clipPath>\n",
       "</defs>\n",
       "<polyline clip-path=\"url(#clip162)\" style=\"stroke:#000000; stroke-linecap:round; stroke-linejoin:round; stroke-width:2; stroke-opacity:0.1; fill:none\" points=\"254.067,1423.18 254.067,47.2441 \"/>\n",
       "<polyline clip-path=\"url(#clip162)\" style=\"stroke:#000000; stroke-linecap:round; stroke-linejoin:round; stroke-width:2; stroke-opacity:0.1; fill:none\" points=\"763.458,1423.18 763.458,47.2441 \"/>\n",
       "<polyline clip-path=\"url(#clip162)\" style=\"stroke:#000000; stroke-linecap:round; stroke-linejoin:round; stroke-width:2; stroke-opacity:0.1; fill:none\" points=\"1272.85,1423.18 1272.85,47.2441 \"/>\n",
       "<polyline clip-path=\"url(#clip162)\" style=\"stroke:#000000; stroke-linecap:round; stroke-linejoin:round; stroke-width:2; stroke-opacity:0.1; fill:none\" points=\"1782.24,1423.18 1782.24,47.2441 \"/>\n",
       "<polyline clip-path=\"url(#clip162)\" style=\"stroke:#000000; stroke-linecap:round; stroke-linejoin:round; stroke-width:2; stroke-opacity:0.1; fill:none\" points=\"2291.63,1423.18 2291.63,47.2441 \"/>\n",
       "<polyline clip-path=\"url(#clip160)\" style=\"stroke:#000000; stroke-linecap:round; stroke-linejoin:round; stroke-width:4; stroke-opacity:1; fill:none\" points=\"192.941,1423.18 2352.76,1423.18 \"/>\n",
       "<polyline clip-path=\"url(#clip160)\" style=\"stroke:#000000; stroke-linecap:round; stroke-linejoin:round; stroke-width:4; stroke-opacity:1; fill:none\" points=\"254.067,1423.18 254.067,1404.28 \"/>\n",
       "<polyline clip-path=\"url(#clip160)\" style=\"stroke:#000000; stroke-linecap:round; stroke-linejoin:round; stroke-width:4; stroke-opacity:1; fill:none\" points=\"763.458,1423.18 763.458,1404.28 \"/>\n",
       "<polyline clip-path=\"url(#clip160)\" style=\"stroke:#000000; stroke-linecap:round; stroke-linejoin:round; stroke-width:4; stroke-opacity:1; fill:none\" points=\"1272.85,1423.18 1272.85,1404.28 \"/>\n",
       "<polyline clip-path=\"url(#clip160)\" style=\"stroke:#000000; stroke-linecap:round; stroke-linejoin:round; stroke-width:4; stroke-opacity:1; fill:none\" points=\"1782.24,1423.18 1782.24,1404.28 \"/>\n",
       "<polyline clip-path=\"url(#clip160)\" style=\"stroke:#000000; stroke-linecap:round; stroke-linejoin:round; stroke-width:4; stroke-opacity:1; fill:none\" points=\"2291.63,1423.18 2291.63,1404.28 \"/>\n",
       "<path clip-path=\"url(#clip160)\" d=\"M231.452 1454.1 Q227.841 1454.1 226.012 1457.66 Q224.207 1461.2 224.207 1468.33 Q224.207 1475.44 226.012 1479.01 Q227.841 1482.55 231.452 1482.55 Q235.086 1482.55 236.892 1479.01 Q238.72 1475.44 238.72 1468.33 Q238.72 1461.2 236.892 1457.66 Q235.086 1454.1 231.452 1454.1 M231.452 1450.39 Q237.262 1450.39 240.318 1455 Q243.396 1459.58 243.396 1468.33 Q243.396 1477.06 240.318 1481.67 Q237.262 1486.25 231.452 1486.25 Q225.642 1486.25 222.563 1481.67 Q219.507 1477.06 219.507 1468.33 Q219.507 1459.58 222.563 1455 Q225.642 1450.39 231.452 1450.39 Z\" fill=\"#000000\" fill-rule=\"nonzero\" fill-opacity=\"1\" /><path clip-path=\"url(#clip160)\" d=\"M251.614 1479.7 L256.498 1479.7 L256.498 1485.58 L251.614 1485.58 L251.614 1479.7 Z\" fill=\"#000000\" fill-rule=\"nonzero\" fill-opacity=\"1\" /><path clip-path=\"url(#clip160)\" d=\"M276.683 1454.1 Q273.072 1454.1 271.243 1457.66 Q269.438 1461.2 269.438 1468.33 Q269.438 1475.44 271.243 1479.01 Q273.072 1482.55 276.683 1482.55 Q280.317 1482.55 282.123 1479.01 Q283.952 1475.44 283.952 1468.33 Q283.952 1461.2 282.123 1457.66 Q280.317 1454.1 276.683 1454.1 M276.683 1450.39 Q282.493 1450.39 285.549 1455 Q288.627 1459.58 288.627 1468.33 Q288.627 1477.06 285.549 1481.67 Q282.493 1486.25 276.683 1486.25 Q270.873 1486.25 267.794 1481.67 Q264.739 1477.06 264.739 1468.33 Q264.739 1459.58 267.794 1455 Q270.873 1450.39 276.683 1450.39 Z\" fill=\"#000000\" fill-rule=\"nonzero\" fill-opacity=\"1\" /><path clip-path=\"url(#clip160)\" d=\"M735.194 1481.64 L751.513 1481.64 L751.513 1485.58 L729.569 1485.58 L729.569 1481.64 Q732.231 1478.89 736.814 1474.26 Q741.421 1469.61 742.602 1468.27 Q744.847 1465.74 745.726 1464.01 Q746.629 1462.25 746.629 1460.56 Q746.629 1457.8 744.685 1456.07 Q742.764 1454.33 739.662 1454.33 Q737.463 1454.33 735.009 1455.09 Q732.578 1455.86 729.801 1457.41 L729.801 1452.69 Q732.625 1451.55 735.078 1450.97 Q737.532 1450.39 739.569 1450.39 Q744.939 1450.39 748.134 1453.08 Q751.328 1455.77 751.328 1460.26 Q751.328 1462.39 750.518 1464.31 Q749.731 1466.2 747.625 1468.8 Q747.046 1469.47 743.944 1472.69 Q740.842 1475.88 735.194 1481.64 Z\" fill=\"#000000\" fill-rule=\"nonzero\" fill-opacity=\"1\" /><path clip-path=\"url(#clip160)\" d=\"M761.328 1479.7 L766.212 1479.7 L766.212 1485.58 L761.328 1485.58 L761.328 1479.7 Z\" fill=\"#000000\" fill-rule=\"nonzero\" fill-opacity=\"1\" /><path clip-path=\"url(#clip160)\" d=\"M776.444 1451.02 L794.8 1451.02 L794.8 1454.96 L780.726 1454.96 L780.726 1463.43 Q781.745 1463.08 782.763 1462.92 Q783.782 1462.73 784.8 1462.73 Q790.587 1462.73 793.967 1465.9 Q797.347 1469.08 797.347 1474.49 Q797.347 1480.07 793.874 1483.17 Q790.402 1486.25 784.083 1486.25 Q781.907 1486.25 779.638 1485.88 Q777.393 1485.51 774.986 1484.77 L774.986 1480.07 Q777.069 1481.2 779.291 1481.76 Q781.513 1482.32 783.99 1482.32 Q787.995 1482.32 790.333 1480.21 Q792.671 1478.1 792.671 1474.49 Q792.671 1470.88 790.333 1468.77 Q787.995 1466.67 783.99 1466.67 Q782.115 1466.67 780.24 1467.08 Q778.388 1467.5 776.444 1468.38 L776.444 1451.02 Z\" fill=\"#000000\" fill-rule=\"nonzero\" fill-opacity=\"1\" /><path clip-path=\"url(#clip160)\" d=\"M1240.01 1451.02 L1258.37 1451.02 L1258.37 1454.96 L1244.3 1454.96 L1244.3 1463.43 Q1245.31 1463.08 1246.33 1462.92 Q1247.35 1462.73 1248.37 1462.73 Q1254.16 1462.73 1257.54 1465.9 Q1260.92 1469.08 1260.92 1474.49 Q1260.92 1480.07 1257.44 1483.17 Q1253.97 1486.25 1247.65 1486.25 Q1245.48 1486.25 1243.21 1485.88 Q1240.96 1485.51 1238.55 1484.77 L1238.55 1480.07 Q1240.64 1481.2 1242.86 1481.76 Q1245.08 1482.32 1247.56 1482.32 Q1251.56 1482.32 1253.9 1480.21 Q1256.24 1478.1 1256.24 1474.49 Q1256.24 1470.88 1253.9 1468.77 Q1251.56 1466.67 1247.56 1466.67 Q1245.68 1466.67 1243.81 1467.08 Q1241.96 1467.5 1240.01 1468.38 L1240.01 1451.02 Z\" fill=\"#000000\" fill-rule=\"nonzero\" fill-opacity=\"1\" /><path clip-path=\"url(#clip160)\" d=\"M1270.13 1479.7 L1275.01 1479.7 L1275.01 1485.58 L1270.13 1485.58 L1270.13 1479.7 Z\" fill=\"#000000\" fill-rule=\"nonzero\" fill-opacity=\"1\" /><path clip-path=\"url(#clip160)\" d=\"M1295.2 1454.1 Q1291.59 1454.1 1289.76 1457.66 Q1287.95 1461.2 1287.95 1468.33 Q1287.95 1475.44 1289.76 1479.01 Q1291.59 1482.55 1295.2 1482.55 Q1298.83 1482.55 1300.64 1479.01 Q1302.47 1475.44 1302.47 1468.33 Q1302.47 1461.2 1300.64 1457.66 Q1298.83 1454.1 1295.2 1454.1 M1295.2 1450.39 Q1301.01 1450.39 1304.06 1455 Q1307.14 1459.58 1307.14 1468.33 Q1307.14 1477.06 1304.06 1481.67 Q1301.01 1486.25 1295.2 1486.25 Q1289.39 1486.25 1286.31 1481.67 Q1283.25 1477.06 1283.25 1468.33 Q1283.25 1459.58 1286.31 1455 Q1289.39 1450.39 1295.2 1450.39 Z\" fill=\"#000000\" fill-rule=\"nonzero\" fill-opacity=\"1\" /><path clip-path=\"url(#clip160)\" d=\"M1748.56 1451.02 L1770.78 1451.02 L1770.78 1453.01 L1758.23 1485.58 L1753.35 1485.58 L1765.16 1454.96 L1748.56 1454.96 L1748.56 1451.02 Z\" fill=\"#000000\" fill-rule=\"nonzero\" fill-opacity=\"1\" /><path clip-path=\"url(#clip160)\" d=\"M1779.9 1479.7 L1784.78 1479.7 L1784.78 1485.58 L1779.9 1485.58 L1779.9 1479.7 Z\" fill=\"#000000\" fill-rule=\"nonzero\" fill-opacity=\"1\" /><path clip-path=\"url(#clip160)\" d=\"M1795.02 1451.02 L1813.37 1451.02 L1813.37 1454.96 L1799.3 1454.96 L1799.3 1463.43 Q1800.32 1463.08 1801.34 1462.92 Q1802.35 1462.73 1803.37 1462.73 Q1809.16 1462.73 1812.54 1465.9 Q1815.92 1469.08 1815.92 1474.49 Q1815.92 1480.07 1812.45 1483.17 Q1808.97 1486.25 1802.66 1486.25 Q1800.48 1486.25 1798.21 1485.88 Q1795.97 1485.51 1793.56 1484.77 L1793.56 1480.07 Q1795.64 1481.2 1797.86 1481.76 Q1800.09 1482.32 1802.56 1482.32 Q1806.57 1482.32 1808.91 1480.21 Q1811.24 1478.1 1811.24 1474.49 Q1811.24 1470.88 1808.91 1468.77 Q1806.57 1466.67 1802.56 1466.67 Q1800.69 1466.67 1798.81 1467.08 Q1796.96 1467.5 1795.02 1468.38 L1795.02 1451.02 Z\" fill=\"#000000\" fill-rule=\"nonzero\" fill-opacity=\"1\" /><path clip-path=\"url(#clip160)\" d=\"M2243.7 1481.64 L2251.34 1481.64 L2251.34 1455.28 L2243.03 1456.95 L2243.03 1452.69 L2251.29 1451.02 L2255.97 1451.02 L2255.97 1481.64 L2263.61 1481.64 L2263.61 1485.58 L2243.7 1485.58 L2243.7 1481.64 Z\" fill=\"#000000\" fill-rule=\"nonzero\" fill-opacity=\"1\" /><path clip-path=\"url(#clip160)\" d=\"M2283.05 1454.1 Q2279.44 1454.1 2277.61 1457.66 Q2275.81 1461.2 2275.81 1468.33 Q2275.81 1475.44 2277.61 1479.01 Q2279.44 1482.55 2283.05 1482.55 Q2286.69 1482.55 2288.49 1479.01 Q2290.32 1475.44 2290.32 1468.33 Q2290.32 1461.2 2288.49 1457.66 Q2286.69 1454.1 2283.05 1454.1 M2283.05 1450.39 Q2288.86 1450.39 2291.92 1455 Q2295 1459.58 2295 1468.33 Q2295 1477.06 2291.92 1481.67 Q2288.86 1486.25 2283.05 1486.25 Q2277.24 1486.25 2274.16 1481.67 Q2271.11 1477.06 2271.11 1468.33 Q2271.11 1459.58 2274.16 1455 Q2277.24 1450.39 2283.05 1450.39 Z\" fill=\"#000000\" fill-rule=\"nonzero\" fill-opacity=\"1\" /><path clip-path=\"url(#clip160)\" d=\"M2303.21 1479.7 L2308.1 1479.7 L2308.1 1485.58 L2303.21 1485.58 L2303.21 1479.7 Z\" fill=\"#000000\" fill-rule=\"nonzero\" fill-opacity=\"1\" /><path clip-path=\"url(#clip160)\" d=\"M2328.28 1454.1 Q2324.67 1454.1 2322.84 1457.66 Q2321.04 1461.2 2321.04 1468.33 Q2321.04 1475.44 2322.84 1479.01 Q2324.67 1482.55 2328.28 1482.55 Q2331.92 1482.55 2333.72 1479.01 Q2335.55 1475.44 2335.55 1468.33 Q2335.55 1461.2 2333.72 1457.66 Q2331.92 1454.1 2328.28 1454.1 M2328.28 1450.39 Q2334.09 1450.39 2337.15 1455 Q2340.23 1459.58 2340.23 1468.33 Q2340.23 1477.06 2337.15 1481.67 Q2334.09 1486.25 2328.28 1486.25 Q2322.47 1486.25 2319.4 1481.67 Q2316.34 1477.06 2316.34 1468.33 Q2316.34 1459.58 2319.4 1455 Q2322.47 1450.39 2328.28 1450.39 Z\" fill=\"#000000\" fill-rule=\"nonzero\" fill-opacity=\"1\" /><path clip-path=\"url(#clip160)\" d=\"M1212.01 1522.27 L1212.01 1532.4 L1224.07 1532.4 L1224.07 1536.95 L1212.01 1536.95 L1212.01 1556.3 Q1212.01 1560.66 1213.19 1561.9 Q1214.4 1563.14 1218.06 1563.14 L1224.07 1563.14 L1224.07 1568.04 L1218.06 1568.04 Q1211.28 1568.04 1208.7 1565.53 Q1206.12 1562.98 1206.12 1556.3 L1206.12 1536.95 L1201.82 1536.95 L1201.82 1532.4 L1206.12 1532.4 L1206.12 1522.27 L1212.01 1522.27 Z\" fill=\"#000000\" fill-rule=\"nonzero\" fill-opacity=\"1\" /><path clip-path=\"url(#clip160)\" d=\"M1231.77 1532.4 L1237.63 1532.4 L1237.63 1568.04 L1231.77 1568.04 L1231.77 1532.4 M1231.77 1518.52 L1237.63 1518.52 L1237.63 1525.93 L1231.77 1525.93 L1231.77 1518.52 Z\" fill=\"#000000\" fill-rule=\"nonzero\" fill-opacity=\"1\" /><path clip-path=\"url(#clip160)\" d=\"M1277.64 1539.24 Q1279.83 1535.29 1282.89 1533.41 Q1285.95 1531.54 1290.08 1531.54 Q1295.65 1531.54 1298.68 1535.45 Q1301.7 1539.33 1301.7 1546.53 L1301.7 1568.04 L1295.81 1568.04 L1295.81 1546.72 Q1295.81 1541.59 1294 1539.11 Q1292.18 1536.63 1288.46 1536.63 Q1283.91 1536.63 1281.27 1539.65 Q1278.63 1542.68 1278.63 1547.9 L1278.63 1568.04 L1272.74 1568.04 L1272.74 1546.72 Q1272.74 1541.56 1270.92 1539.11 Q1269.11 1536.63 1265.32 1536.63 Q1260.83 1536.63 1258.19 1539.68 Q1255.55 1542.71 1255.55 1547.9 L1255.55 1568.04 L1249.66 1568.04 L1249.66 1532.4 L1255.55 1532.4 L1255.55 1537.93 Q1257.55 1534.66 1260.36 1533.1 Q1263.16 1531.54 1267.01 1531.54 Q1270.89 1531.54 1273.6 1533.51 Q1276.33 1535.48 1277.64 1539.24 Z\" fill=\"#000000\" fill-rule=\"nonzero\" fill-opacity=\"1\" /><path clip-path=\"url(#clip160)\" d=\"M1343.87 1548.76 L1343.87 1551.62 L1316.95 1551.62 Q1317.33 1557.67 1320.58 1560.85 Q1323.85 1564 1329.68 1564 Q1333.05 1564 1336.2 1563.17 Q1339.39 1562.35 1342.51 1560.69 L1342.51 1566.23 Q1339.35 1567.57 1336.04 1568.27 Q1332.73 1568.97 1329.33 1568.97 Q1320.8 1568.97 1315.8 1564 Q1310.84 1559.04 1310.84 1550.57 Q1310.84 1541.82 1315.55 1536.69 Q1320.29 1531.54 1328.31 1531.54 Q1335.5 1531.54 1339.67 1536.18 Q1343.87 1540.8 1343.87 1548.76 M1338.02 1547.04 Q1337.95 1542.23 1335.31 1539.37 Q1332.7 1536.5 1328.37 1536.5 Q1323.47 1536.5 1320.51 1539.27 Q1317.58 1542.04 1317.14 1547.07 L1338.02 1547.04 Z\" fill=\"#000000\" fill-rule=\"nonzero\" fill-opacity=\"1\" /><polyline clip-path=\"url(#clip162)\" style=\"stroke:#000000; stroke-linecap:round; stroke-linejoin:round; stroke-width:2; stroke-opacity:0.1; fill:none\" points=\"192.941,1303.88 2352.76,1303.88 \"/>\n",
       "<polyline clip-path=\"url(#clip162)\" style=\"stroke:#000000; stroke-linecap:round; stroke-linejoin:round; stroke-width:2; stroke-opacity:0.1; fill:none\" points=\"192.941,897.979 2352.76,897.979 \"/>\n",
       "<polyline clip-path=\"url(#clip162)\" style=\"stroke:#000000; stroke-linecap:round; stroke-linejoin:round; stroke-width:2; stroke-opacity:0.1; fill:none\" points=\"192.941,492.082 2352.76,492.082 \"/>\n",
       "<polyline clip-path=\"url(#clip162)\" style=\"stroke:#000000; stroke-linecap:round; stroke-linejoin:round; stroke-width:2; stroke-opacity:0.1; fill:none\" points=\"192.941,86.1857 2352.76,86.1857 \"/>\n",
       "<polyline clip-path=\"url(#clip160)\" style=\"stroke:#000000; stroke-linecap:round; stroke-linejoin:round; stroke-width:4; stroke-opacity:1; fill:none\" points=\"192.941,1423.18 192.941,47.2441 \"/>\n",
       "<polyline clip-path=\"url(#clip160)\" style=\"stroke:#000000; stroke-linecap:round; stroke-linejoin:round; stroke-width:4; stroke-opacity:1; fill:none\" points=\"192.941,1303.88 211.838,1303.88 \"/>\n",
       "<polyline clip-path=\"url(#clip160)\" style=\"stroke:#000000; stroke-linecap:round; stroke-linejoin:round; stroke-width:4; stroke-opacity:1; fill:none\" points=\"192.941,897.979 211.838,897.979 \"/>\n",
       "<polyline clip-path=\"url(#clip160)\" style=\"stroke:#000000; stroke-linecap:round; stroke-linejoin:round; stroke-width:4; stroke-opacity:1; fill:none\" points=\"192.941,492.082 211.838,492.082 \"/>\n",
       "<polyline clip-path=\"url(#clip160)\" style=\"stroke:#000000; stroke-linecap:round; stroke-linejoin:round; stroke-width:4; stroke-opacity:1; fill:none\" points=\"192.941,86.1857 211.838,86.1857 \"/>\n",
       "<path clip-path=\"url(#clip160)\" d=\"M50.9921 1304.33 L80.6679 1304.33 L80.6679 1308.26 L50.9921 1308.26 L50.9921 1304.33 Z\" fill=\"#000000\" fill-rule=\"nonzero\" fill-opacity=\"1\" /><path clip-path=\"url(#clip160)\" d=\"M100.76 1289.67 Q97.1493 1289.67 95.3206 1293.24 Q93.515 1296.78 93.515 1303.91 Q93.515 1311.02 95.3206 1314.58 Q97.1493 1318.12 100.76 1318.12 Q104.395 1318.12 106.2 1314.58 Q108.029 1311.02 108.029 1303.91 Q108.029 1296.78 106.2 1293.24 Q104.395 1289.67 100.76 1289.67 M100.76 1285.97 Q106.571 1285.97 109.626 1290.58 Q112.705 1295.16 112.705 1303.91 Q112.705 1312.64 109.626 1317.24 Q106.571 1321.83 100.76 1321.83 Q94.9502 1321.83 91.8715 1317.24 Q88.816 1312.64 88.816 1303.91 Q88.816 1295.16 91.8715 1290.58 Q94.9502 1285.97 100.76 1285.97 Z\" fill=\"#000000\" fill-rule=\"nonzero\" fill-opacity=\"1\" /><path clip-path=\"url(#clip160)\" d=\"M120.922 1315.28 L125.807 1315.28 L125.807 1321.16 L120.922 1321.16 L120.922 1315.28 Z\" fill=\"#000000\" fill-rule=\"nonzero\" fill-opacity=\"1\" /><path clip-path=\"url(#clip160)\" d=\"M136.038 1286.6 L154.394 1286.6 L154.394 1290.53 L140.32 1290.53 L140.32 1299 Q141.339 1298.66 142.357 1298.49 Q143.376 1298.31 144.394 1298.31 Q150.181 1298.31 153.561 1301.48 Q156.941 1304.65 156.941 1310.07 Q156.941 1315.65 153.468 1318.75 Q149.996 1321.83 143.677 1321.83 Q141.501 1321.83 139.232 1321.46 Q136.987 1321.09 134.58 1320.35 L134.58 1315.65 Q136.663 1316.78 138.885 1317.34 Q141.107 1317.89 143.584 1317.89 Q147.589 1317.89 149.927 1315.78 Q152.265 1313.68 152.265 1310.07 Q152.265 1306.46 149.927 1304.35 Q147.589 1302.24 143.584 1302.24 Q141.709 1302.24 139.834 1302.66 Q137.982 1303.08 136.038 1303.96 L136.038 1286.6 Z\" fill=\"#000000\" fill-rule=\"nonzero\" fill-opacity=\"1\" /><path clip-path=\"url(#clip160)\" d=\"M99.765 883.777 Q96.1539 883.777 94.3252 887.342 Q92.5197 890.884 92.5197 898.013 Q92.5197 905.12 94.3252 908.685 Q96.1539 912.226 99.765 912.226 Q103.399 912.226 105.205 908.685 Q107.033 905.12 107.033 898.013 Q107.033 890.884 105.205 887.342 Q103.399 883.777 99.765 883.777 M99.765 880.074 Q105.575 880.074 108.631 884.68 Q111.709 889.263 111.709 898.013 Q111.709 906.74 108.631 911.347 Q105.575 915.93 99.765 915.93 Q93.9549 915.93 90.8762 911.347 Q87.8206 906.74 87.8206 898.013 Q87.8206 889.263 90.8762 884.68 Q93.9549 880.074 99.765 880.074 Z\" fill=\"#000000\" fill-rule=\"nonzero\" fill-opacity=\"1\" /><path clip-path=\"url(#clip160)\" d=\"M119.927 909.379 L124.811 909.379 L124.811 915.259 L119.927 915.259 L119.927 909.379 Z\" fill=\"#000000\" fill-rule=\"nonzero\" fill-opacity=\"1\" /><path clip-path=\"url(#clip160)\" d=\"M144.996 883.777 Q141.385 883.777 139.556 887.342 Q137.751 890.884 137.751 898.013 Q137.751 905.12 139.556 908.685 Q141.385 912.226 144.996 912.226 Q148.63 912.226 150.436 908.685 Q152.265 905.12 152.265 898.013 Q152.265 890.884 150.436 887.342 Q148.63 883.777 144.996 883.777 M144.996 880.074 Q150.806 880.074 153.862 884.68 Q156.941 889.263 156.941 898.013 Q156.941 906.74 153.862 911.347 Q150.806 915.93 144.996 915.93 Q139.186 915.93 136.107 911.347 Q133.052 906.74 133.052 898.013 Q133.052 889.263 136.107 884.68 Q139.186 880.074 144.996 880.074 Z\" fill=\"#000000\" fill-rule=\"nonzero\" fill-opacity=\"1\" /><path clip-path=\"url(#clip160)\" d=\"M100.76 477.881 Q97.1493 477.881 95.3206 481.446 Q93.515 484.987 93.515 492.117 Q93.515 499.223 95.3206 502.788 Q97.1493 506.33 100.76 506.33 Q104.395 506.33 106.2 502.788 Q108.029 499.223 108.029 492.117 Q108.029 484.987 106.2 481.446 Q104.395 477.881 100.76 477.881 M100.76 474.177 Q106.571 474.177 109.626 478.784 Q112.705 483.367 112.705 492.117 Q112.705 500.844 109.626 505.45 Q106.571 510.033 100.76 510.033 Q94.9502 510.033 91.8715 505.45 Q88.816 500.844 88.816 492.117 Q88.816 483.367 91.8715 478.784 Q94.9502 474.177 100.76 474.177 Z\" fill=\"#000000\" fill-rule=\"nonzero\" fill-opacity=\"1\" /><path clip-path=\"url(#clip160)\" d=\"M120.922 503.483 L125.807 503.483 L125.807 509.362 L120.922 509.362 L120.922 503.483 Z\" fill=\"#000000\" fill-rule=\"nonzero\" fill-opacity=\"1\" /><path clip-path=\"url(#clip160)\" d=\"M136.038 474.802 L154.394 474.802 L154.394 478.737 L140.32 478.737 L140.32 487.21 Q141.339 486.862 142.357 486.7 Q143.376 486.515 144.394 486.515 Q150.181 486.515 153.561 489.686 Q156.941 492.858 156.941 498.274 Q156.941 503.853 153.468 506.955 Q149.996 510.033 143.677 510.033 Q141.501 510.033 139.232 509.663 Q136.987 509.293 134.58 508.552 L134.58 503.853 Q136.663 504.987 138.885 505.543 Q141.107 506.098 143.584 506.098 Q147.589 506.098 149.927 503.992 Q152.265 501.885 152.265 498.274 Q152.265 494.663 149.927 492.557 Q147.589 490.45 143.584 490.45 Q141.709 490.45 139.834 490.867 Q137.982 491.284 136.038 492.163 L136.038 474.802 Z\" fill=\"#000000\" fill-rule=\"nonzero\" fill-opacity=\"1\" /><path clip-path=\"url(#clip160)\" d=\"M90.5752 99.5305 L98.2141 99.5305 L98.2141 73.1649 L89.904 74.8316 L89.904 70.5723 L98.1678 68.9057 L102.844 68.9057 L102.844 99.5305 L110.483 99.5305 L110.483 103.466 L90.5752 103.466 L90.5752 99.5305 Z\" fill=\"#000000\" fill-rule=\"nonzero\" fill-opacity=\"1\" /><path clip-path=\"url(#clip160)\" d=\"M119.927 97.5861 L124.811 97.5861 L124.811 103.466 L119.927 103.466 L119.927 97.5861 Z\" fill=\"#000000\" fill-rule=\"nonzero\" fill-opacity=\"1\" /><path clip-path=\"url(#clip160)\" d=\"M144.996 71.9844 Q141.385 71.9844 139.556 75.5492 Q137.751 79.0908 137.751 86.2204 Q137.751 93.3268 139.556 96.8916 Q141.385 100.433 144.996 100.433 Q148.63 100.433 150.436 96.8916 Q152.265 93.3268 152.265 86.2204 Q152.265 79.0908 150.436 75.5492 Q148.63 71.9844 144.996 71.9844 M144.996 68.2807 Q150.806 68.2807 153.862 72.8871 Q156.941 77.4704 156.941 86.2204 Q156.941 94.9472 153.862 99.5537 Q150.806 104.137 144.996 104.137 Q139.186 104.137 136.107 99.5537 Q133.052 94.9472 133.052 86.2204 Q133.052 77.4704 136.107 72.8871 Q139.186 68.2807 144.996 68.2807 Z\" fill=\"#000000\" fill-rule=\"nonzero\" fill-opacity=\"1\" /><polyline clip-path=\"url(#clip162)\" style=\"stroke:#009af9; stroke-linecap:round; stroke-linejoin:round; stroke-width:4; stroke-opacity:1; fill:none\" points=\"254.067,86.1857 274.443,96.6809 294.819,124.417 315.194,162.963 335.57,207.74 355.946,255.524 376.321,304.084 396.697,351.907 417.072,398 437.448,441.745 457.824,482.79 478.199,520.967 498.575,556.24 518.95,588.659 539.326,618.332 559.702,645.402 580.077,670.032 600.453,692.392 620.829,712.658 641.204,731 661.58,747.58 681.955,762.554 702.331,776.068 722.707,788.255 743.082,799.24 763.458,809.137 783.833,818.052 804.209,826.079 824.585,833.304 844.96,839.808 865.336,845.66 885.712,850.925 906.087,855.662 926.463,859.924 946.838,863.757 967.214,867.204 987.59,870.305 1007.97,873.094 1028.34,875.602 1048.72,877.857 1069.09,879.885 1089.47,881.709 1109.84,883.349 1130.22,884.824 1150.59,886.15 1170.97,887.343 1191.35,888.415 1211.72,889.379 1232.1,890.246 1252.47,891.026 1272.85,891.727 1293.22,892.357 1313.6,892.924 1333.98,893.433 1354.35,893.892 1374.73,894.304 1395.1,894.674 1415.48,895.007 1435.85,895.307 1456.23,895.576 1476.6,895.818 1496.98,896.036 1517.36,896.232 1537.73,896.408 1558.11,896.566 1578.48,896.708 1598.86,896.836 1619.23,896.951 1639.61,897.055 1659.98,897.148 1680.36,897.231 1700.74,897.306 1721.11,897.374 1741.49,897.435 1761.86,897.489 1782.24,897.538 1802.61,897.582 1822.99,897.621 1843.37,897.657 1863.74,897.689 1884.12,897.717 1904.49,897.743 1924.87,897.766 1945.24,897.786 1965.62,897.805 1985.99,897.821 2006.37,897.836 2026.75,897.849 2047.12,897.86 2067.5,897.87 2087.87,897.88 2108.25,897.887 2128.62,897.894 2149,897.9 2169.38,897.906 2189.75,897.91 2210.13,897.914 2230.5,897.917 2250.88,897.92 2271.25,897.922 2291.63,897.924 \"/>\n",
       "<polyline clip-path=\"url(#clip162)\" style=\"stroke:#e26f46; stroke-linecap:round; stroke-linejoin:round; stroke-width:4; stroke-opacity:1; fill:none\" points=\"254.067,897.979 274.443,1107.88 294.819,1242.8 315.194,1324.08 335.57,1367.41 355.946,1384.24 376.321,1382.92 396.697,1369.5 417.072,1348.33 437.448,1322.53 457.824,1294.31 478.199,1265.19 498.575,1236.23 518.95,1208.12 539.326,1181.3 559.702,1156.05 580.077,1132.49 600.453,1110.68 620.829,1090.6 641.204,1072.19 661.58,1055.38 681.955,1040.07 702.331,1026.16 722.707,1013.54 743.082,1002.12 763.458,991.79 783.833,982.459 804.209,974.035 824.585,966.437 844.96,959.587 865.336,953.414 885.712,947.853 906.087,942.846 926.463,938.338 946.838,934.28 967.214,930.629 987.59,927.343 1007.97,924.387 1028.34,921.728 1048.72,919.336 1069.09,917.185 1089.47,915.25 1109.84,913.509 1130.22,911.944 1150.59,910.537 1170.97,909.271 1191.35,908.133 1211.72,907.109 1232.1,906.189 1252.47,905.361 1272.85,904.617 1293.22,903.947 1313.6,903.346 1333.98,902.804 1354.35,902.318 1374.73,901.88 1395.1,901.487 1415.48,901.133 1435.85,900.815 1456.23,900.529 1476.6,900.272 1496.98,900.04 1517.36,899.832 1537.73,899.645 1558.11,899.477 1578.48,899.326 1598.86,899.19 1619.23,899.068 1639.61,898.958 1659.98,898.859 1680.36,898.77 1700.74,898.69 1721.11,898.618 1741.49,898.553 1761.86,898.495 1782.24,898.442 1802.61,898.395 1822.99,898.352 1843.37,898.314 1863.74,898.28 1884.12,898.249 1904.49,898.221 1924.87,898.195 1945.24,898.173 1965.62,898.152 1985.99,898.133 2006.37,898.116 2026.75,898.101 2047.12,898.087 2067.5,898.075 2087.87,898.063 2108.25,898.053 2128.62,898.043 2149,898.035 2169.38,898.027 2189.75,898.02 2210.13,898.014 2230.5,898.008 2250.88,898.004 2271.25,898.001 2291.63,897.999 \"/>\n",
       "<polyline clip-path=\"url(#clip162)\" style=\"stroke:#3da44d; stroke-linecap:round; stroke-linejoin:round; stroke-width:4; stroke-opacity:1; fill:none\" points=\"254.067,86.1857 274.443,96.6809 294.819,124.417 315.194,162.963 335.57,207.74 355.946,255.524 376.321,304.084 396.697,351.907 417.072,398 437.448,441.745 457.824,482.79 478.199,520.967 498.575,556.24 518.95,588.659 539.326,618.332 559.702,645.402 580.077,670.032 600.453,692.392 620.829,712.658 641.204,731 661.58,747.58 681.955,762.554 702.331,776.068 722.707,788.255 743.082,799.24 763.458,809.137 783.833,818.052 804.209,826.079 824.585,833.304 844.96,839.808 865.336,845.66 885.712,850.925 906.087,855.662 926.463,859.924 946.838,863.757 967.214,867.204 987.59,870.305 1007.97,873.094 1028.34,875.602 1048.72,877.857 1069.09,879.885 1089.47,881.709 1109.84,883.349 1130.22,884.824 1150.59,886.15 1170.97,887.343 1191.35,888.415 1211.72,889.379 1232.1,890.246 1252.47,891.026 1272.85,891.727 1293.22,892.357 1313.6,892.924 1333.98,893.433 1354.35,893.892 1374.73,894.304 1395.1,894.674 1415.48,895.007 1435.85,895.307 1456.23,895.576 1476.6,895.818 1496.98,896.036 1517.36,896.232 1537.73,896.408 1558.11,896.566 1578.48,896.708 1598.86,896.836 1619.23,896.951 1639.61,897.055 1659.98,897.148 1680.36,897.231 1700.74,897.306 1721.11,897.374 1741.49,897.435 1761.86,897.489 1782.24,897.538 1802.61,897.582 1822.99,897.621 1843.37,897.657 1863.74,897.689 1884.12,897.717 1904.49,897.743 1924.87,897.766 1945.24,897.786 1965.62,897.805 1985.99,897.821 2006.37,897.836 2026.75,897.849 2047.12,897.86 2067.5,897.87 2087.87,897.88 2108.25,897.887 2128.62,897.894 2149,897.9 2169.38,897.906 2189.75,897.91 2210.13,897.914 2230.5,897.917 2250.88,897.92 2271.25,897.922 2291.63,897.924 \"/>\n",
       "<polyline clip-path=\"url(#clip162)\" style=\"stroke:#c271d2; stroke-linecap:round; stroke-linejoin:round; stroke-width:4; stroke-opacity:1; fill:none\" points=\"254.067,897.979 274.443,1107.88 294.819,1242.8 315.194,1324.08 335.57,1367.41 355.946,1384.24 376.321,1382.92 396.697,1369.5 417.072,1348.33 437.448,1322.53 457.824,1294.31 478.199,1265.19 498.575,1236.23 518.95,1208.12 539.326,1181.3 559.702,1156.05 580.077,1132.49 600.453,1110.68 620.829,1090.6 641.204,1072.19 661.58,1055.38 681.955,1040.07 702.331,1026.16 722.707,1013.54 743.082,1002.12 763.458,991.79 783.833,982.459 804.209,974.035 824.585,966.437 844.96,959.587 865.336,953.414 885.712,947.853 906.087,942.846 926.463,938.338 946.838,934.28 967.214,930.629 987.59,927.343 1007.97,924.387 1028.34,921.728 1048.72,919.336 1069.09,917.185 1089.47,915.25 1109.84,913.509 1130.22,911.944 1150.59,910.537 1170.97,909.271 1191.35,908.133 1211.72,907.109 1232.1,906.189 1252.47,905.361 1272.85,904.617 1293.22,903.947 1313.6,903.346 1333.98,902.804 1354.35,902.318 1374.73,901.88 1395.1,901.487 1415.48,901.133 1435.85,900.815 1456.23,900.529 1476.6,900.272 1496.98,900.04 1517.36,899.832 1537.73,899.645 1558.11,899.477 1578.48,899.326 1598.86,899.19 1619.23,899.068 1639.61,898.958 1659.98,898.859 1680.36,898.77 1700.74,898.69 1721.11,898.618 1741.49,898.553 1761.86,898.495 1782.24,898.442 1802.61,898.395 1822.99,898.352 1843.37,898.314 1863.74,898.28 1884.12,898.249 1904.49,898.221 1924.87,898.195 1945.24,898.173 1965.62,898.152 1985.99,898.133 2006.37,898.116 2026.75,898.101 2047.12,898.087 2067.5,898.075 2087.87,898.063 2108.25,898.053 2128.62,898.043 2149,898.035 2169.38,898.027 2189.75,898.02 2210.13,898.014 2230.5,898.008 2250.88,898.004 2271.25,898.001 2291.63,897.999 \"/>\n",
       "<polyline clip-path=\"url(#clip162)\" style=\"stroke:#ac8d18; stroke-linecap:round; stroke-linejoin:round; stroke-width:4; stroke-opacity:1; fill:none\" points=\"254.067,86.1857 274.443,96.6809 294.819,124.417 315.194,162.963 335.57,207.74 355.946,255.524 376.321,304.084 396.697,351.907 417.072,398 437.448,441.745 457.824,482.79 478.199,520.967 498.575,556.24 518.95,588.659 539.326,618.332 559.702,645.402 580.077,670.032 600.453,692.392 620.829,712.658 641.204,731 661.58,747.58 681.955,762.554 702.331,776.068 722.707,788.255 743.082,799.24 763.458,809.137 783.833,818.052 804.209,826.079 824.585,833.304 844.96,839.808 865.336,845.66 885.712,850.925 906.087,855.662 926.463,859.924 946.838,863.757 967.214,867.204 987.59,870.305 1007.97,873.094 1028.34,875.602 1048.72,877.857 1069.09,879.885 1089.47,881.709 1109.84,883.349 1130.22,884.824 1150.59,886.15 1170.97,887.343 1191.35,888.415 1211.72,889.379 1232.1,890.246 1252.47,891.026 1272.85,891.727 1293.22,892.357 1313.6,892.924 1333.98,893.433 1354.35,893.892 1374.73,894.304 1395.1,894.674 1415.48,895.007 1435.85,895.307 1456.23,895.576 1476.6,895.818 1496.98,896.036 1517.36,896.232 1537.73,896.408 1558.11,896.566 1578.48,896.708 1598.86,896.836 1619.23,896.951 1639.61,897.055 1659.98,897.148 1680.36,897.231 1700.74,897.306 1721.11,897.374 1741.49,897.435 1761.86,897.489 1782.24,897.538 1802.61,897.582 1822.99,897.621 1843.37,897.657 1863.74,897.689 1884.12,897.717 1904.49,897.743 1924.87,897.766 1945.24,897.786 1965.62,897.805 1985.99,897.821 2006.37,897.836 2026.75,897.849 2047.12,897.86 2067.5,897.87 2087.87,897.88 2108.25,897.887 2128.62,897.894 2149,897.9 2169.38,897.906 2189.75,897.91 2210.13,897.914 2230.5,897.917 2250.88,897.92 2271.25,897.922 2291.63,897.924 \"/>\n",
       "<polyline clip-path=\"url(#clip162)\" style=\"stroke:#00a9ad; stroke-linecap:round; stroke-linejoin:round; stroke-width:4; stroke-opacity:1; fill:none\" points=\"254.067,897.979 274.443,1107.88 294.819,1242.8 315.194,1324.08 335.57,1367.41 355.946,1384.24 376.321,1382.92 396.697,1369.5 417.072,1348.33 437.448,1322.53 457.824,1294.31 478.199,1265.19 498.575,1236.23 518.95,1208.12 539.326,1181.3 559.702,1156.05 580.077,1132.49 600.453,1110.68 620.829,1090.6 641.204,1072.19 661.58,1055.38 681.955,1040.07 702.331,1026.16 722.707,1013.54 743.082,1002.12 763.458,991.79 783.833,982.459 804.209,974.035 824.585,966.437 844.96,959.587 865.336,953.414 885.712,947.853 906.087,942.846 926.463,938.338 946.838,934.28 967.214,930.629 987.59,927.343 1007.97,924.387 1028.34,921.728 1048.72,919.336 1069.09,917.185 1089.47,915.25 1109.84,913.509 1130.22,911.944 1150.59,910.537 1170.97,909.271 1191.35,908.133 1211.72,907.109 1232.1,906.189 1252.47,905.361 1272.85,904.617 1293.22,903.947 1313.6,903.346 1333.98,902.804 1354.35,902.318 1374.73,901.88 1395.1,901.487 1415.48,901.133 1435.85,900.815 1456.23,900.529 1476.6,900.272 1496.98,900.04 1517.36,899.832 1537.73,899.645 1558.11,899.477 1578.48,899.326 1598.86,899.19 1619.23,899.068 1639.61,898.958 1659.98,898.859 1680.36,898.77 1700.74,898.69 1721.11,898.618 1741.49,898.553 1761.86,898.495 1782.24,898.442 1802.61,898.395 1822.99,898.352 1843.37,898.314 1863.74,898.28 1884.12,898.249 1904.49,898.221 1924.87,898.195 1945.24,898.173 1965.62,898.152 1985.99,898.133 2006.37,898.116 2026.75,898.101 2047.12,898.087 2067.5,898.075 2087.87,898.063 2108.25,898.053 2128.62,898.043 2149,898.035 2169.38,898.027 2189.75,898.02 2210.13,898.014 2230.5,898.008 2250.88,898.004 2271.25,898.001 2291.63,897.999 \"/>\n",
       "<path clip-path=\"url(#clip160)\" d=\"M1798.32 455.989 L2280.76 455.989 L2280.76 93.1086 L1798.32 93.1086  Z\" fill=\"#ffffff\" fill-rule=\"evenodd\" fill-opacity=\"1\"/>\n",
       "<polyline clip-path=\"url(#clip160)\" style=\"stroke:#000000; stroke-linecap:round; stroke-linejoin:round; stroke-width:4; stroke-opacity:1; fill:none\" points=\"1798.32,455.989 2280.76,455.989 2280.76,93.1086 1798.32,93.1086 1798.32,455.989 \"/>\n",
       "<polyline clip-path=\"url(#clip160)\" style=\"stroke:#009af9; stroke-linecap:round; stroke-linejoin:round; stroke-width:4; stroke-opacity:1; fill:none\" points=\"1822.32,144.949 1966.31,144.949 \"/>\n",
       "<path clip-path=\"url(#clip160)\" d=\"M1994.98 131.511 L1994.98 158.386 L2000.63 158.386 Q2007.78 158.386 2011.09 155.145 Q2014.43 151.905 2014.43 144.914 Q2014.43 137.969 2011.09 134.752 Q2007.78 131.511 2000.63 131.511 L1994.98 131.511 M1990.31 127.669 L1999.91 127.669 Q2009.96 127.669 2014.66 131.858 Q2019.36 136.025 2019.36 144.914 Q2019.36 153.849 2014.64 158.039 Q2009.91 162.229 1999.91 162.229 L1990.31 162.229 L1990.31 127.669 Z\" fill=\"#000000\" fill-rule=\"nonzero\" fill-opacity=\"1\" /><path clip-path=\"url(#clip160)\" d=\"M2031.49 131.511 L2031.49 144.497 L2037.37 144.497 Q2040.63 144.497 2042.41 142.807 Q2044.2 141.118 2044.2 137.993 Q2044.2 134.891 2042.41 133.201 Q2040.63 131.511 2037.37 131.511 L2031.49 131.511 M2026.81 127.669 L2037.37 127.669 Q2043.18 127.669 2046.14 130.307 Q2049.13 132.923 2049.13 137.993 Q2049.13 143.108 2046.14 145.724 Q2043.18 148.34 2037.37 148.34 L2031.49 148.34 L2031.49 162.229 L2026.81 162.229 L2026.81 127.669 Z\" fill=\"#000000\" fill-rule=\"nonzero\" fill-opacity=\"1\" /><path clip-path=\"url(#clip160)\" d=\"M2074.4 158.34 L2074.4 172.09 L2070.12 172.09 L2070.12 136.303 L2074.4 136.303 L2074.4 140.238 Q2075.75 137.923 2077.78 136.812 Q2079.84 135.678 2082.69 135.678 Q2087.41 135.678 2090.35 139.428 Q2093.32 143.178 2093.32 149.289 Q2093.32 155.4 2090.35 159.15 Q2087.41 162.9 2082.69 162.9 Q2079.84 162.9 2077.78 161.789 Q2075.75 160.655 2074.4 158.34 M2088.89 149.289 Q2088.89 144.59 2086.95 141.928 Q2085.03 139.243 2081.65 139.243 Q2078.27 139.243 2076.33 141.928 Q2074.4 144.59 2074.4 149.289 Q2074.4 153.988 2076.33 156.673 Q2078.27 159.335 2081.65 159.335 Q2085.03 159.335 2086.95 156.673 Q2088.89 153.988 2088.89 149.289 Z\" fill=\"#000000\" fill-rule=\"nonzero\" fill-opacity=\"1\" /><path clip-path=\"url(#clip160)\" d=\"M2110.42 139.289 Q2107 139.289 2105.01 141.974 Q2103.01 144.636 2103.01 149.289 Q2103.01 153.942 2104.98 156.627 Q2106.97 159.289 2110.42 159.289 Q2113.83 159.289 2115.82 156.604 Q2117.81 153.918 2117.81 149.289 Q2117.81 144.682 2115.82 141.997 Q2113.83 139.289 2110.42 139.289 M2110.42 135.678 Q2115.98 135.678 2119.15 139.289 Q2122.32 142.9 2122.32 149.289 Q2122.32 155.655 2119.15 159.289 Q2115.98 162.9 2110.42 162.9 Q2104.84 162.9 2101.67 159.289 Q2098.52 155.655 2098.52 149.289 Q2098.52 142.9 2101.67 139.289 Q2104.84 135.678 2110.42 135.678 Z\" fill=\"#000000\" fill-rule=\"nonzero\" fill-opacity=\"1\" /><path clip-path=\"url(#clip160)\" d=\"M2145.91 137.067 L2145.91 141.094 Q2144.1 140.169 2142.16 139.706 Q2140.21 139.243 2138.13 139.243 Q2134.96 139.243 2133.36 140.215 Q2131.79 141.187 2131.79 143.131 Q2131.79 144.613 2132.92 145.469 Q2134.06 146.303 2137.48 147.067 L2138.94 147.391 Q2143.48 148.363 2145.38 150.145 Q2147.3 151.905 2147.3 155.076 Q2147.3 158.687 2144.43 160.793 Q2141.58 162.9 2136.58 162.9 Q2134.5 162.9 2132.23 162.483 Q2129.98 162.09 2127.48 161.28 L2127.48 156.881 Q2129.84 158.108 2132.14 158.733 Q2134.43 159.335 2136.67 159.335 Q2139.68 159.335 2141.3 158.317 Q2142.92 157.275 2142.92 155.4 Q2142.92 153.664 2141.74 152.738 Q2140.58 151.812 2136.63 150.956 L2135.14 150.608 Q2131.19 149.775 2129.43 148.062 Q2127.67 146.326 2127.67 143.317 Q2127.67 139.659 2130.26 137.669 Q2132.85 135.678 2137.62 135.678 Q2139.98 135.678 2142.07 136.025 Q2144.15 136.372 2145.91 137.067 Z\" fill=\"#000000\" fill-rule=\"nonzero\" fill-opacity=\"1\" /><path clip-path=\"url(#clip160)\" d=\"M2154.08 136.303 L2158.34 136.303 L2158.34 162.229 L2154.08 162.229 L2154.08 136.303 M2154.08 126.21 L2158.34 126.21 L2158.34 131.604 L2154.08 131.604 L2154.08 126.21 Z\" fill=\"#000000\" fill-rule=\"nonzero\" fill-opacity=\"1\" /><path clip-path=\"url(#clip160)\" d=\"M2171.46 128.942 L2171.46 136.303 L2180.24 136.303 L2180.24 139.613 L2171.46 139.613 L2171.46 153.687 Q2171.46 156.858 2172.32 157.761 Q2173.2 158.664 2175.86 158.664 L2180.24 158.664 L2180.24 162.229 L2175.86 162.229 Q2170.93 162.229 2169.06 160.4 Q2167.18 158.548 2167.18 153.687 L2167.18 139.613 L2164.06 139.613 L2164.06 136.303 L2167.18 136.303 L2167.18 128.942 L2171.46 128.942 Z\" fill=\"#000000\" fill-rule=\"nonzero\" fill-opacity=\"1\" /><path clip-path=\"url(#clip160)\" d=\"M2185.84 136.303 L2190.1 136.303 L2190.1 162.229 L2185.84 162.229 L2185.84 136.303 M2185.84 126.21 L2190.1 126.21 L2190.1 131.604 L2185.84 131.604 L2185.84 126.21 Z\" fill=\"#000000\" fill-rule=\"nonzero\" fill-opacity=\"1\" /><path clip-path=\"url(#clip160)\" d=\"M2209.06 139.289 Q2205.63 139.289 2203.64 141.974 Q2201.65 144.636 2201.65 149.289 Q2201.65 153.942 2203.62 156.627 Q2205.61 159.289 2209.06 159.289 Q2212.46 159.289 2214.45 156.604 Q2216.44 153.918 2216.44 149.289 Q2216.44 144.682 2214.45 141.997 Q2212.46 139.289 2209.06 139.289 M2209.06 135.678 Q2214.61 135.678 2217.78 139.289 Q2220.95 142.9 2220.95 149.289 Q2220.95 155.655 2217.78 159.289 Q2214.61 162.9 2209.06 162.9 Q2203.48 162.9 2200.31 159.289 Q2197.16 155.655 2197.16 149.289 Q2197.16 142.9 2200.31 139.289 Q2203.48 135.678 2209.06 135.678 Z\" fill=\"#000000\" fill-rule=\"nonzero\" fill-opacity=\"1\" /><path clip-path=\"url(#clip160)\" d=\"M2249.57 146.581 L2249.57 162.229 L2245.31 162.229 L2245.31 146.719 Q2245.31 143.039 2243.87 141.21 Q2242.44 139.382 2239.57 139.382 Q2236.12 139.382 2234.13 141.581 Q2232.13 143.78 2232.13 147.576 L2232.13 162.229 L2227.85 162.229 L2227.85 136.303 L2232.13 136.303 L2232.13 140.331 Q2233.66 137.993 2235.72 136.835 Q2237.81 135.678 2240.51 135.678 Q2244.98 135.678 2247.27 138.456 Q2249.57 141.21 2249.57 146.581 Z\" fill=\"#000000\" fill-rule=\"nonzero\" fill-opacity=\"1\" /><polyline clip-path=\"url(#clip160)\" style=\"stroke:#e26f46; stroke-linecap:round; stroke-linejoin:round; stroke-width:4; stroke-opacity:1; fill:none\" points=\"1822.32,196.789 1966.31,196.789 \"/>\n",
       "<path clip-path=\"url(#clip160)\" d=\"M1994.98 183.351 L1994.98 210.226 L2000.63 210.226 Q2007.78 210.226 2011.09 206.985 Q2014.43 203.745 2014.43 196.754 Q2014.43 189.809 2011.09 186.592 Q2007.78 183.351 2000.63 183.351 L1994.98 183.351 M1990.31 179.509 L1999.91 179.509 Q2009.96 179.509 2014.66 183.698 Q2019.36 187.865 2019.36 196.754 Q2019.36 205.689 2014.64 209.879 Q2009.91 214.069 1999.91 214.069 L1990.31 214.069 L1990.31 179.509 Z\" fill=\"#000000\" fill-rule=\"nonzero\" fill-opacity=\"1\" /><path clip-path=\"url(#clip160)\" d=\"M2031.49 183.351 L2031.49 196.337 L2037.37 196.337 Q2040.63 196.337 2042.41 194.647 Q2044.2 192.958 2044.2 189.833 Q2044.2 186.731 2042.41 185.041 Q2040.63 183.351 2037.37 183.351 L2031.49 183.351 M2026.81 179.509 L2037.37 179.509 Q2043.18 179.509 2046.14 182.147 Q2049.13 184.763 2049.13 189.833 Q2049.13 194.948 2046.14 197.564 Q2043.18 200.18 2037.37 200.18 L2031.49 200.18 L2031.49 214.069 L2026.81 214.069 L2026.81 179.509 Z\" fill=\"#000000\" fill-rule=\"nonzero\" fill-opacity=\"1\" /><path clip-path=\"url(#clip160)\" d=\"M2067.23 188.143 L2071.74 188.143 L2079.84 209.902 L2087.95 188.143 L2092.46 188.143 L2082.74 214.069 L2076.95 214.069 L2067.23 188.143 Z\" fill=\"#000000\" fill-rule=\"nonzero\" fill-opacity=\"1\" /><path clip-path=\"url(#clip160)\" d=\"M2120.51 200.041 L2120.51 202.124 L2100.93 202.124 Q2101.21 206.522 2103.57 208.837 Q2105.95 211.129 2110.19 211.129 Q2112.64 211.129 2114.94 210.527 Q2117.25 209.925 2119.52 208.721 L2119.52 212.749 Q2117.23 213.721 2114.82 214.231 Q2112.41 214.74 2109.94 214.74 Q2103.73 214.74 2100.1 211.129 Q2096.49 207.518 2096.49 201.36 Q2096.49 194.995 2099.91 191.268 Q2103.36 187.518 2109.2 187.518 Q2114.43 187.518 2117.46 190.897 Q2120.51 194.254 2120.51 200.041 M2116.26 198.791 Q2116.21 195.296 2114.29 193.212 Q2112.39 191.129 2109.24 191.129 Q2105.68 191.129 2103.52 193.143 Q2101.39 195.157 2101.07 198.814 L2116.26 198.791 Z\" fill=\"#000000\" fill-rule=\"nonzero\" fill-opacity=\"1\" /><path clip-path=\"url(#clip160)\" d=\"M2127.51 178.05 L2131.76 178.05 L2131.76 214.069 L2127.51 214.069 L2127.51 178.05 Z\" fill=\"#000000\" fill-rule=\"nonzero\" fill-opacity=\"1\" /><path clip-path=\"url(#clip160)\" d=\"M2150.72 191.129 Q2147.3 191.129 2145.31 193.814 Q2143.32 196.476 2143.32 201.129 Q2143.32 205.782 2145.28 208.467 Q2147.27 211.129 2150.72 211.129 Q2154.13 211.129 2156.12 208.444 Q2158.11 205.758 2158.11 201.129 Q2158.11 196.522 2156.12 193.837 Q2154.13 191.129 2150.72 191.129 M2150.72 187.518 Q2156.28 187.518 2159.45 191.129 Q2162.62 194.74 2162.62 201.129 Q2162.62 207.495 2159.45 211.129 Q2156.28 214.74 2150.72 214.74 Q2145.14 214.74 2141.97 211.129 Q2138.82 207.495 2138.82 201.129 Q2138.82 194.74 2141.97 191.129 Q2145.14 187.518 2150.72 187.518 Z\" fill=\"#000000\" fill-rule=\"nonzero\" fill-opacity=\"1\" /><path clip-path=\"url(#clip160)\" d=\"M2188.34 189.138 L2188.34 193.12 Q2186.53 192.124 2184.7 191.638 Q2182.9 191.129 2181.05 191.129 Q2176.9 191.129 2174.61 193.768 Q2172.32 196.384 2172.32 201.129 Q2172.32 205.874 2174.61 208.513 Q2176.9 211.129 2181.05 211.129 Q2182.9 211.129 2184.7 210.643 Q2186.53 210.133 2188.34 209.138 L2188.34 213.073 Q2186.56 213.907 2184.63 214.323 Q2182.74 214.74 2180.58 214.74 Q2174.73 214.74 2171.28 211.059 Q2167.83 207.379 2167.83 201.129 Q2167.83 194.786 2171.3 191.152 Q2174.8 187.518 2180.86 187.518 Q2182.83 187.518 2184.7 187.935 Q2186.58 188.328 2188.34 189.138 Z\" fill=\"#000000\" fill-rule=\"nonzero\" fill-opacity=\"1\" /><path clip-path=\"url(#clip160)\" d=\"M2195.75 188.143 L2200.01 188.143 L2200.01 214.069 L2195.75 214.069 L2195.75 188.143 M2195.75 178.05 L2200.01 178.05 L2200.01 183.444 L2195.75 183.444 L2195.75 178.05 Z\" fill=\"#000000\" fill-rule=\"nonzero\" fill-opacity=\"1\" /><path clip-path=\"url(#clip160)\" d=\"M2213.13 180.782 L2213.13 188.143 L2221.9 188.143 L2221.9 191.453 L2213.13 191.453 L2213.13 205.527 Q2213.13 208.698 2213.99 209.601 Q2214.87 210.504 2217.53 210.504 L2221.9 210.504 L2221.9 214.069 L2217.53 214.069 Q2212.6 214.069 2210.72 212.24 Q2208.85 210.388 2208.85 205.527 L2208.85 191.453 L2205.72 191.453 L2205.72 188.143 L2208.85 188.143 L2208.85 180.782 L2213.13 180.782 Z\" fill=\"#000000\" fill-rule=\"nonzero\" fill-opacity=\"1\" /><path clip-path=\"url(#clip160)\" d=\"M2238.29 216.476 Q2236.49 221.106 2234.77 222.518 Q2233.06 223.93 2230.19 223.93 L2226.79 223.93 L2226.79 220.365 L2229.29 220.365 Q2231.05 220.365 2232.02 219.532 Q2232.99 218.698 2234.17 215.596 L2234.94 213.652 L2224.45 188.143 L2228.96 188.143 L2237.07 208.421 L2245.17 188.143 L2249.68 188.143 L2238.29 216.476 Z\" fill=\"#000000\" fill-rule=\"nonzero\" fill-opacity=\"1\" /><polyline clip-path=\"url(#clip160)\" style=\"stroke:#3da44d; stroke-linecap:round; stroke-linejoin:round; stroke-width:4; stroke-opacity:1; fill:none\" points=\"1822.32,248.629 1966.31,248.629 \"/>\n",
       "<path clip-path=\"url(#clip160)\" d=\"M2006.33 234.52 Q2001.23 234.52 1998.22 238.316 Q1995.24 242.112 1995.24 248.663 Q1995.24 255.191 1998.22 258.987 Q2001.23 262.784 2006.33 262.784 Q2011.42 262.784 2014.38 258.987 Q2017.37 255.191 2017.37 248.663 Q2017.37 242.112 2014.38 238.316 Q2011.42 234.52 2006.33 234.52 M2012.88 265.284 L2019.03 272.02 L2013.39 272.02 L2008.27 266.487 Q2007.51 266.534 2007.09 266.557 Q2006.7 266.58 2006.33 266.58 Q1999.03 266.58 1994.66 261.719 Q1990.31 256.835 1990.31 248.663 Q1990.31 240.469 1994.66 235.608 Q1999.03 230.724 2006.33 230.724 Q2013.59 230.724 2017.95 235.608 Q2022.3 240.469 2022.3 248.663 Q2022.3 254.682 2019.87 258.964 Q2017.46 263.247 2012.88 265.284 Z\" fill=\"#000000\" fill-rule=\"nonzero\" fill-opacity=\"1\" /><path clip-path=\"url(#clip160)\" d=\"M2034.29 235.191 L2034.29 248.177 L2040.17 248.177 Q2043.43 248.177 2045.21 246.487 Q2047 244.798 2047 241.673 Q2047 238.571 2045.21 236.881 Q2043.43 235.191 2040.17 235.191 L2034.29 235.191 M2029.61 231.349 L2040.17 231.349 Q2045.98 231.349 2048.94 233.987 Q2051.93 236.603 2051.93 241.673 Q2051.93 246.788 2048.94 249.404 Q2045.98 252.02 2040.17 252.02 L2034.29 252.02 L2034.29 265.909 L2029.61 265.909 L2029.61 231.349 Z\" fill=\"#000000\" fill-rule=\"nonzero\" fill-opacity=\"1\" /><path clip-path=\"url(#clip160)\" d=\"M2077.2 262.02 L2077.2 275.77 L2072.92 275.77 L2072.92 239.983 L2077.2 239.983 L2077.2 243.918 Q2078.55 241.603 2080.58 240.492 Q2082.64 239.358 2085.49 239.358 Q2090.21 239.358 2093.15 243.108 Q2096.12 246.858 2096.12 252.969 Q2096.12 259.08 2093.15 262.83 Q2090.21 266.58 2085.49 266.58 Q2082.64 266.58 2080.58 265.469 Q2078.55 264.335 2077.2 262.02 M2091.7 252.969 Q2091.7 248.27 2089.75 245.608 Q2087.83 242.923 2084.45 242.923 Q2081.07 242.923 2079.13 245.608 Q2077.2 248.27 2077.2 252.969 Q2077.2 257.668 2079.13 260.353 Q2081.07 263.015 2084.45 263.015 Q2087.83 263.015 2089.75 260.353 Q2091.7 257.668 2091.7 252.969 Z\" fill=\"#000000\" fill-rule=\"nonzero\" fill-opacity=\"1\" /><path clip-path=\"url(#clip160)\" d=\"M2113.22 242.969 Q2109.8 242.969 2107.81 245.654 Q2105.82 248.316 2105.82 252.969 Q2105.82 257.622 2107.78 260.307 Q2109.77 262.969 2113.22 262.969 Q2116.63 262.969 2118.62 260.284 Q2120.61 257.598 2120.61 252.969 Q2120.61 248.362 2118.62 245.677 Q2116.63 242.969 2113.22 242.969 M2113.22 239.358 Q2118.78 239.358 2121.95 242.969 Q2125.12 246.58 2125.12 252.969 Q2125.12 259.335 2121.95 262.969 Q2118.78 266.58 2113.22 266.58 Q2107.64 266.58 2104.47 262.969 Q2101.33 259.335 2101.33 252.969 Q2101.33 246.58 2104.47 242.969 Q2107.64 239.358 2113.22 239.358 Z\" fill=\"#000000\" fill-rule=\"nonzero\" fill-opacity=\"1\" /><path clip-path=\"url(#clip160)\" d=\"M2148.71 240.747 L2148.71 244.774 Q2146.9 243.849 2144.96 243.386 Q2143.01 242.923 2140.93 242.923 Q2137.76 242.923 2136.16 243.895 Q2134.59 244.867 2134.59 246.811 Q2134.59 248.293 2135.72 249.149 Q2136.86 249.983 2140.28 250.747 L2141.74 251.071 Q2146.28 252.043 2148.18 253.825 Q2150.1 255.585 2150.1 258.756 Q2150.1 262.367 2147.23 264.473 Q2144.38 266.58 2139.38 266.58 Q2137.3 266.58 2135.03 266.163 Q2132.78 265.77 2130.28 264.96 L2130.28 260.561 Q2132.64 261.788 2134.94 262.413 Q2137.23 263.015 2139.47 263.015 Q2142.48 263.015 2144.1 261.997 Q2145.72 260.955 2145.72 259.08 Q2145.72 257.344 2144.54 256.418 Q2143.39 255.492 2139.43 254.636 L2137.95 254.288 Q2133.99 253.455 2132.23 251.742 Q2130.47 250.006 2130.47 246.997 Q2130.47 243.339 2133.06 241.349 Q2135.65 239.358 2140.42 239.358 Q2142.78 239.358 2144.87 239.705 Q2146.95 240.052 2148.71 240.747 Z\" fill=\"#000000\" fill-rule=\"nonzero\" fill-opacity=\"1\" /><path clip-path=\"url(#clip160)\" d=\"M2156.88 239.983 L2161.14 239.983 L2161.14 265.909 L2156.88 265.909 L2156.88 239.983 M2156.88 229.89 L2161.14 229.89 L2161.14 235.284 L2156.88 235.284 L2156.88 229.89 Z\" fill=\"#000000\" fill-rule=\"nonzero\" fill-opacity=\"1\" /><path clip-path=\"url(#clip160)\" d=\"M2174.26 232.622 L2174.26 239.983 L2183.04 239.983 L2183.04 243.293 L2174.26 243.293 L2174.26 257.367 Q2174.26 260.538 2175.12 261.441 Q2176 262.344 2178.66 262.344 L2183.04 262.344 L2183.04 265.909 L2178.66 265.909 Q2173.73 265.909 2171.86 264.08 Q2169.98 262.228 2169.98 257.367 L2169.98 243.293 L2166.86 243.293 L2166.86 239.983 L2169.98 239.983 L2169.98 232.622 L2174.26 232.622 Z\" fill=\"#000000\" fill-rule=\"nonzero\" fill-opacity=\"1\" /><path clip-path=\"url(#clip160)\" d=\"M2188.64 239.983 L2192.9 239.983 L2192.9 265.909 L2188.64 265.909 L2188.64 239.983 M2188.64 229.89 L2192.9 229.89 L2192.9 235.284 L2188.64 235.284 L2188.64 229.89 Z\" fill=\"#000000\" fill-rule=\"nonzero\" fill-opacity=\"1\" /><path clip-path=\"url(#clip160)\" d=\"M2211.86 242.969 Q2208.43 242.969 2206.44 245.654 Q2204.45 248.316 2204.45 252.969 Q2204.45 257.622 2206.42 260.307 Q2208.41 262.969 2211.86 262.969 Q2215.26 262.969 2217.25 260.284 Q2219.24 257.598 2219.24 252.969 Q2219.24 248.362 2217.25 245.677 Q2215.26 242.969 2211.86 242.969 M2211.86 239.358 Q2217.41 239.358 2220.58 242.969 Q2223.76 246.58 2223.76 252.969 Q2223.76 259.335 2220.58 262.969 Q2217.41 266.58 2211.86 266.58 Q2206.28 266.58 2203.11 262.969 Q2199.96 259.335 2199.96 252.969 Q2199.96 246.58 2203.11 242.969 Q2206.28 239.358 2211.86 239.358 Z\" fill=\"#000000\" fill-rule=\"nonzero\" fill-opacity=\"1\" /><path clip-path=\"url(#clip160)\" d=\"M2252.37 250.261 L2252.37 265.909 L2248.11 265.909 L2248.11 250.399 Q2248.11 246.719 2246.67 244.89 Q2245.24 243.062 2242.37 243.062 Q2238.92 243.062 2236.93 245.261 Q2234.94 247.46 2234.94 251.256 L2234.94 265.909 L2230.65 265.909 L2230.65 239.983 L2234.94 239.983 L2234.94 244.011 Q2236.46 241.673 2238.52 240.515 Q2240.61 239.358 2243.32 239.358 Q2247.78 239.358 2250.07 242.136 Q2252.37 244.89 2252.37 250.261 Z\" fill=\"#000000\" fill-rule=\"nonzero\" fill-opacity=\"1\" /><polyline clip-path=\"url(#clip160)\" style=\"stroke:#c271d2; stroke-linecap:round; stroke-linejoin:round; stroke-width:4; stroke-opacity:1; fill:none\" points=\"1822.32,300.469 1966.31,300.469 \"/>\n",
       "<path clip-path=\"url(#clip160)\" d=\"M2006.33 286.36 Q2001.23 286.36 1998.22 290.156 Q1995.24 293.952 1995.24 300.503 Q1995.24 307.031 1998.22 310.827 Q2001.23 314.624 2006.33 314.624 Q2011.42 314.624 2014.38 310.827 Q2017.37 307.031 2017.37 300.503 Q2017.37 293.952 2014.38 290.156 Q2011.42 286.36 2006.33 286.36 M2012.88 317.124 L2019.03 323.86 L2013.39 323.86 L2008.27 318.327 Q2007.51 318.374 2007.09 318.397 Q2006.7 318.42 2006.33 318.42 Q1999.03 318.42 1994.66 313.559 Q1990.31 308.675 1990.31 300.503 Q1990.31 292.309 1994.66 287.448 Q1999.03 282.564 2006.33 282.564 Q2013.59 282.564 2017.95 287.448 Q2022.3 292.309 2022.3 300.503 Q2022.3 306.522 2019.87 310.804 Q2017.46 315.087 2012.88 317.124 Z\" fill=\"#000000\" fill-rule=\"nonzero\" fill-opacity=\"1\" /><path clip-path=\"url(#clip160)\" d=\"M2034.29 287.031 L2034.29 300.017 L2040.17 300.017 Q2043.43 300.017 2045.21 298.327 Q2047 296.638 2047 293.513 Q2047 290.411 2045.21 288.721 Q2043.43 287.031 2040.17 287.031 L2034.29 287.031 M2029.61 283.189 L2040.17 283.189 Q2045.98 283.189 2048.94 285.827 Q2051.93 288.443 2051.93 293.513 Q2051.93 298.628 2048.94 301.244 Q2045.98 303.86 2040.17 303.86 L2034.29 303.86 L2034.29 317.749 L2029.61 317.749 L2029.61 283.189 Z\" fill=\"#000000\" fill-rule=\"nonzero\" fill-opacity=\"1\" /><path clip-path=\"url(#clip160)\" d=\"M2070.03 291.823 L2074.54 291.823 L2082.64 313.582 L2090.75 291.823 L2095.26 291.823 L2085.54 317.749 L2079.75 317.749 L2070.03 291.823 Z\" fill=\"#000000\" fill-rule=\"nonzero\" fill-opacity=\"1\" /><path clip-path=\"url(#clip160)\" d=\"M2123.32 303.721 L2123.32 305.804 L2103.73 305.804 Q2104.01 310.202 2106.37 312.517 Q2108.76 314.809 2112.99 314.809 Q2115.45 314.809 2117.74 314.207 Q2120.05 313.605 2122.32 312.401 L2122.32 316.429 Q2120.03 317.401 2117.62 317.911 Q2115.21 318.42 2112.74 318.42 Q2106.53 318.42 2102.9 314.809 Q2099.29 311.198 2099.29 305.04 Q2099.29 298.675 2102.71 294.948 Q2106.16 291.198 2112 291.198 Q2117.23 291.198 2120.26 294.577 Q2123.32 297.934 2123.32 303.721 M2119.06 302.471 Q2119.01 298.976 2117.09 296.892 Q2115.19 294.809 2112.04 294.809 Q2108.48 294.809 2106.33 296.823 Q2104.2 298.837 2103.87 302.494 L2119.06 302.471 Z\" fill=\"#000000\" fill-rule=\"nonzero\" fill-opacity=\"1\" /><path clip-path=\"url(#clip160)\" d=\"M2130.31 281.73 L2134.57 281.73 L2134.57 317.749 L2130.31 317.749 L2130.31 281.73 Z\" fill=\"#000000\" fill-rule=\"nonzero\" fill-opacity=\"1\" /><path clip-path=\"url(#clip160)\" d=\"M2153.52 294.809 Q2150.1 294.809 2148.11 297.494 Q2146.12 300.156 2146.12 304.809 Q2146.12 309.462 2148.08 312.147 Q2150.07 314.809 2153.52 314.809 Q2156.93 314.809 2158.92 312.124 Q2160.91 309.438 2160.91 304.809 Q2160.91 300.202 2158.92 297.517 Q2156.93 294.809 2153.52 294.809 M2153.52 291.198 Q2159.08 291.198 2162.25 294.809 Q2165.42 298.42 2165.42 304.809 Q2165.42 311.175 2162.25 314.809 Q2159.08 318.42 2153.52 318.42 Q2147.95 318.42 2144.77 314.809 Q2141.63 311.175 2141.63 304.809 Q2141.63 298.42 2144.77 294.809 Q2147.95 291.198 2153.52 291.198 Z\" fill=\"#000000\" fill-rule=\"nonzero\" fill-opacity=\"1\" /><path clip-path=\"url(#clip160)\" d=\"M2191.14 292.818 L2191.14 296.8 Q2189.33 295.804 2187.51 295.318 Q2185.7 294.809 2183.85 294.809 Q2179.7 294.809 2177.41 297.448 Q2175.12 300.064 2175.12 304.809 Q2175.12 309.554 2177.41 312.193 Q2179.7 314.809 2183.85 314.809 Q2185.7 314.809 2187.51 314.323 Q2189.33 313.813 2191.14 312.818 L2191.14 316.753 Q2189.36 317.587 2187.44 318.003 Q2185.54 318.42 2183.38 318.42 Q2177.53 318.42 2174.08 314.739 Q2170.63 311.059 2170.63 304.809 Q2170.63 298.466 2174.1 294.832 Q2177.6 291.198 2183.66 291.198 Q2185.63 291.198 2187.51 291.615 Q2189.38 292.008 2191.14 292.818 Z\" fill=\"#000000\" fill-rule=\"nonzero\" fill-opacity=\"1\" /><path clip-path=\"url(#clip160)\" d=\"M2198.55 291.823 L2202.81 291.823 L2202.81 317.749 L2198.55 317.749 L2198.55 291.823 M2198.55 281.73 L2202.81 281.73 L2202.81 287.124 L2198.55 287.124 L2198.55 281.73 Z\" fill=\"#000000\" fill-rule=\"nonzero\" fill-opacity=\"1\" /><path clip-path=\"url(#clip160)\" d=\"M2215.93 284.462 L2215.93 291.823 L2224.7 291.823 L2224.7 295.133 L2215.93 295.133 L2215.93 309.207 Q2215.93 312.378 2216.79 313.281 Q2217.67 314.184 2220.33 314.184 L2224.7 314.184 L2224.7 317.749 L2220.33 317.749 Q2215.4 317.749 2213.52 315.92 Q2211.65 314.068 2211.65 309.207 L2211.65 295.133 L2208.52 295.133 L2208.52 291.823 L2211.65 291.823 L2211.65 284.462 L2215.93 284.462 Z\" fill=\"#000000\" fill-rule=\"nonzero\" fill-opacity=\"1\" /><path clip-path=\"url(#clip160)\" d=\"M2241.09 320.156 Q2239.29 324.786 2237.57 326.198 Q2235.86 327.61 2232.99 327.61 L2229.59 327.61 L2229.59 324.045 L2232.09 324.045 Q2233.85 324.045 2234.82 323.212 Q2235.79 322.378 2236.97 319.276 L2237.74 317.332 L2227.25 291.823 L2231.76 291.823 L2239.87 312.101 L2247.97 291.823 L2252.48 291.823 L2241.09 320.156 Z\" fill=\"#000000\" fill-rule=\"nonzero\" fill-opacity=\"1\" /><polyline clip-path=\"url(#clip160)\" style=\"stroke:#ac8d18; stroke-linecap:round; stroke-linejoin:round; stroke-width:4; stroke-opacity:1; fill:none\" points=\"1822.32,352.309 1966.31,352.309 \"/>\n",
       "<path clip-path=\"url(#clip160)\" d=\"M2006.7 353.385 Q2008.2 353.894 2009.61 355.561 Q2011.05 357.228 2012.48 360.144 L2017.23 369.589 L2012.21 369.589 L2007.78 360.723 Q2006.07 357.251 2004.45 356.116 Q2002.85 354.982 2000.08 354.982 L1994.98 354.982 L1994.98 369.589 L1990.31 369.589 L1990.31 335.029 L2000.86 335.029 Q2006.79 335.029 2009.71 337.505 Q2012.62 339.982 2012.62 344.982 Q2012.62 348.246 2011.09 350.399 Q2009.59 352.552 2006.7 353.385 M1994.98 338.871 L1994.98 351.14 L2000.86 351.14 Q2004.24 351.14 2005.96 349.589 Q2007.69 348.015 2007.69 344.982 Q2007.69 341.95 2005.96 340.422 Q2004.24 338.871 2000.86 338.871 L1994.98 338.871 Z\" fill=\"#000000\" fill-rule=\"nonzero\" fill-opacity=\"1\" /><path clip-path=\"url(#clip160)\" d=\"M2023.06 343.663 L2027.32 343.663 L2027.32 369.589 L2023.06 369.589 L2023.06 343.663 M2023.06 333.57 L2027.32 333.57 L2027.32 338.964 L2023.06 338.964 L2023.06 333.57 Z\" fill=\"#000000\" fill-rule=\"nonzero\" fill-opacity=\"1\" /><path clip-path=\"url(#clip160)\" d=\"M2054.89 344.658 L2054.89 348.64 Q2053.08 347.644 2051.26 347.158 Q2049.45 346.649 2047.6 346.649 Q2043.46 346.649 2041.16 349.288 Q2038.87 351.904 2038.87 356.649 Q2038.87 361.394 2041.16 364.033 Q2043.46 366.649 2047.6 366.649 Q2049.45 366.649 2051.26 366.163 Q2053.08 365.653 2054.89 364.658 L2054.89 368.593 Q2053.11 369.427 2051.19 369.843 Q2049.29 370.26 2047.14 370.26 Q2041.28 370.26 2037.83 366.579 Q2034.38 362.899 2034.38 356.649 Q2034.38 350.306 2037.85 346.672 Q2041.35 343.038 2047.41 343.038 Q2049.38 343.038 2051.26 343.455 Q2053.13 343.848 2054.89 344.658 Z\" fill=\"#000000\" fill-rule=\"nonzero\" fill-opacity=\"1\" /><path clip-path=\"url(#clip160)\" d=\"M2081.49 365.7 L2081.49 379.45 L2077.2 379.45 L2077.2 343.663 L2081.49 343.663 L2081.49 347.598 Q2082.83 345.283 2084.87 344.172 Q2086.93 343.038 2089.77 343.038 Q2094.5 343.038 2097.44 346.788 Q2100.4 350.538 2100.4 356.649 Q2100.4 362.76 2097.44 366.51 Q2094.5 370.26 2089.77 370.26 Q2086.93 370.26 2084.87 369.149 Q2082.83 368.015 2081.49 365.7 M2095.98 356.649 Q2095.98 351.95 2094.03 349.288 Q2092.11 346.603 2088.73 346.603 Q2085.35 346.603 2083.41 349.288 Q2081.49 351.95 2081.49 356.649 Q2081.49 361.348 2083.41 364.033 Q2085.35 366.695 2088.73 366.695 Q2092.11 366.695 2094.03 364.033 Q2095.98 361.348 2095.98 356.649 Z\" fill=\"#000000\" fill-rule=\"nonzero\" fill-opacity=\"1\" /><path clip-path=\"url(#clip160)\" d=\"M2117.51 346.649 Q2114.08 346.649 2112.09 349.334 Q2110.1 351.996 2110.1 356.649 Q2110.1 361.302 2112.07 363.987 Q2114.06 366.649 2117.51 366.649 Q2120.91 366.649 2122.9 363.964 Q2124.89 361.278 2124.89 356.649 Q2124.89 352.042 2122.9 349.357 Q2120.91 346.649 2117.51 346.649 M2117.51 343.038 Q2123.06 343.038 2126.23 346.649 Q2129.4 350.26 2129.4 356.649 Q2129.4 363.015 2126.23 366.649 Q2123.06 370.26 2117.51 370.26 Q2111.93 370.26 2108.76 366.649 Q2105.61 363.015 2105.61 356.649 Q2105.61 350.26 2108.76 346.649 Q2111.93 343.038 2117.51 343.038 Z\" fill=\"#000000\" fill-rule=\"nonzero\" fill-opacity=\"1\" /><path clip-path=\"url(#clip160)\" d=\"M2152.99 344.427 L2152.99 348.454 Q2151.19 347.529 2149.24 347.066 Q2147.3 346.603 2145.21 346.603 Q2142.04 346.603 2140.45 347.575 Q2138.87 348.547 2138.87 350.491 Q2138.87 351.973 2140.01 352.829 Q2141.14 353.663 2144.57 354.427 L2146.02 354.751 Q2150.56 355.723 2152.46 357.505 Q2154.38 359.265 2154.38 362.436 Q2154.38 366.047 2151.51 368.153 Q2148.66 370.26 2143.66 370.26 Q2141.58 370.26 2139.31 369.843 Q2137.07 369.45 2134.57 368.64 L2134.57 364.241 Q2136.93 365.468 2139.22 366.093 Q2141.51 366.695 2143.76 366.695 Q2146.76 366.695 2148.39 365.677 Q2150.01 364.635 2150.01 362.76 Q2150.01 361.024 2148.82 360.098 Q2147.67 359.172 2143.71 358.316 L2142.23 357.968 Q2138.27 357.135 2136.51 355.422 Q2134.75 353.686 2134.75 350.677 Q2134.75 347.019 2137.34 345.029 Q2139.94 343.038 2144.7 343.038 Q2147.07 343.038 2149.15 343.385 Q2151.23 343.732 2152.99 344.427 Z\" fill=\"#000000\" fill-rule=\"nonzero\" fill-opacity=\"1\" /><path clip-path=\"url(#clip160)\" d=\"M2161.16 343.663 L2165.42 343.663 L2165.42 369.589 L2161.16 369.589 L2161.16 343.663 M2161.16 333.57 L2165.42 333.57 L2165.42 338.964 L2161.16 338.964 L2161.16 333.57 Z\" fill=\"#000000\" fill-rule=\"nonzero\" fill-opacity=\"1\" /><path clip-path=\"url(#clip160)\" d=\"M2178.55 336.302 L2178.55 343.663 L2187.32 343.663 L2187.32 346.973 L2178.55 346.973 L2178.55 361.047 Q2178.55 364.218 2179.4 365.121 Q2180.28 366.024 2182.95 366.024 L2187.32 366.024 L2187.32 369.589 L2182.95 369.589 Q2178.01 369.589 2176.14 367.76 Q2174.26 365.908 2174.26 361.047 L2174.26 346.973 L2171.14 346.973 L2171.14 343.663 L2174.26 343.663 L2174.26 336.302 L2178.55 336.302 Z\" fill=\"#000000\" fill-rule=\"nonzero\" fill-opacity=\"1\" /><path clip-path=\"url(#clip160)\" d=\"M2192.92 343.663 L2197.18 343.663 L2197.18 369.589 L2192.92 369.589 L2192.92 343.663 M2192.92 333.57 L2197.18 333.57 L2197.18 338.964 L2192.92 338.964 L2192.92 333.57 Z\" fill=\"#000000\" fill-rule=\"nonzero\" fill-opacity=\"1\" /><path clip-path=\"url(#clip160)\" d=\"M2216.14 346.649 Q2212.71 346.649 2210.72 349.334 Q2208.73 351.996 2208.73 356.649 Q2208.73 361.302 2210.7 363.987 Q2212.69 366.649 2216.14 366.649 Q2219.54 366.649 2221.53 363.964 Q2223.52 361.278 2223.52 356.649 Q2223.52 352.042 2221.53 349.357 Q2219.54 346.649 2216.14 346.649 M2216.14 343.038 Q2221.69 343.038 2224.87 346.649 Q2228.04 350.26 2228.04 356.649 Q2228.04 363.015 2224.87 366.649 Q2221.69 370.26 2216.14 370.26 Q2210.56 370.26 2207.39 366.649 Q2204.24 363.015 2204.24 356.649 Q2204.24 350.26 2207.39 346.649 Q2210.56 343.038 2216.14 343.038 Z\" fill=\"#000000\" fill-rule=\"nonzero\" fill-opacity=\"1\" /><path clip-path=\"url(#clip160)\" d=\"M2256.65 353.941 L2256.65 369.589 L2252.39 369.589 L2252.39 354.079 Q2252.39 350.399 2250.95 348.57 Q2249.52 346.742 2246.65 346.742 Q2243.2 346.742 2241.21 348.941 Q2239.22 351.14 2239.22 354.936 L2239.22 369.589 L2234.94 369.589 L2234.94 343.663 L2239.22 343.663 L2239.22 347.691 Q2240.75 345.353 2242.81 344.195 Q2244.89 343.038 2247.6 343.038 Q2252.07 343.038 2254.36 345.816 Q2256.65 348.57 2256.65 353.941 Z\" fill=\"#000000\" fill-rule=\"nonzero\" fill-opacity=\"1\" /><polyline clip-path=\"url(#clip160)\" style=\"stroke:#00a9ad; stroke-linecap:round; stroke-linejoin:round; stroke-width:4; stroke-opacity:1; fill:none\" points=\"1822.32,404.149 1966.31,404.149 \"/>\n",
       "<path clip-path=\"url(#clip160)\" d=\"M2006.7 405.225 Q2008.2 405.734 2009.61 407.401 Q2011.05 409.068 2012.48 411.984 L2017.23 421.429 L2012.21 421.429 L2007.78 412.563 Q2006.07 409.091 2004.45 407.956 Q2002.85 406.822 2000.08 406.822 L1994.98 406.822 L1994.98 421.429 L1990.31 421.429 L1990.31 386.869 L2000.86 386.869 Q2006.79 386.869 2009.71 389.345 Q2012.62 391.822 2012.62 396.822 Q2012.62 400.086 2011.09 402.239 Q2009.59 404.392 2006.7 405.225 M1994.98 390.711 L1994.98 402.98 L2000.86 402.98 Q2004.24 402.98 2005.96 401.429 Q2007.69 399.855 2007.69 396.822 Q2007.69 393.79 2005.96 392.262 Q2004.24 390.711 2000.86 390.711 L1994.98 390.711 Z\" fill=\"#000000\" fill-rule=\"nonzero\" fill-opacity=\"1\" /><path clip-path=\"url(#clip160)\" d=\"M2023.06 395.503 L2027.32 395.503 L2027.32 421.429 L2023.06 421.429 L2023.06 395.503 M2023.06 385.41 L2027.32 385.41 L2027.32 390.804 L2023.06 390.804 L2023.06 385.41 Z\" fill=\"#000000\" fill-rule=\"nonzero\" fill-opacity=\"1\" /><path clip-path=\"url(#clip160)\" d=\"M2054.89 396.498 L2054.89 400.48 Q2053.08 399.484 2051.26 398.998 Q2049.45 398.489 2047.6 398.489 Q2043.46 398.489 2041.16 401.128 Q2038.87 403.744 2038.87 408.489 Q2038.87 413.234 2041.16 415.873 Q2043.46 418.489 2047.6 418.489 Q2049.45 418.489 2051.26 418.003 Q2053.08 417.493 2054.89 416.498 L2054.89 420.433 Q2053.11 421.267 2051.19 421.683 Q2049.29 422.1 2047.14 422.1 Q2041.28 422.1 2037.83 418.419 Q2034.38 414.739 2034.38 408.489 Q2034.38 402.146 2037.85 398.512 Q2041.35 394.878 2047.41 394.878 Q2049.38 394.878 2051.26 395.295 Q2053.13 395.688 2054.89 396.498 Z\" fill=\"#000000\" fill-rule=\"nonzero\" fill-opacity=\"1\" /><path clip-path=\"url(#clip160)\" d=\"M2074.31 395.503 L2078.83 395.503 L2086.93 417.262 L2095.03 395.503 L2099.54 395.503 L2089.82 421.429 L2084.03 421.429 L2074.31 395.503 Z\" fill=\"#000000\" fill-rule=\"nonzero\" fill-opacity=\"1\" /><path clip-path=\"url(#clip160)\" d=\"M2127.6 407.401 L2127.6 409.484 L2108.01 409.484 Q2108.29 413.882 2110.65 416.197 Q2113.04 418.489 2117.27 418.489 Q2119.73 418.489 2122.02 417.887 Q2124.33 417.285 2126.6 416.081 L2126.6 420.109 Q2124.31 421.081 2121.9 421.591 Q2119.5 422.1 2117.02 422.1 Q2110.82 422.1 2107.18 418.489 Q2103.57 414.878 2103.57 408.72 Q2103.57 402.355 2107 398.628 Q2110.45 394.878 2116.28 394.878 Q2121.51 394.878 2124.54 398.257 Q2127.6 401.614 2127.6 407.401 M2123.34 406.151 Q2123.29 402.656 2121.37 400.572 Q2119.47 398.489 2116.33 398.489 Q2112.76 398.489 2110.61 400.503 Q2108.48 402.517 2108.15 406.174 L2123.34 406.151 Z\" fill=\"#000000\" fill-rule=\"nonzero\" fill-opacity=\"1\" /><path clip-path=\"url(#clip160)\" d=\"M2134.59 385.41 L2138.85 385.41 L2138.85 421.429 L2134.59 421.429 L2134.59 385.41 Z\" fill=\"#000000\" fill-rule=\"nonzero\" fill-opacity=\"1\" /><path clip-path=\"url(#clip160)\" d=\"M2157.81 398.489 Q2154.38 398.489 2152.39 401.174 Q2150.4 403.836 2150.4 408.489 Q2150.4 413.142 2152.37 415.827 Q2154.36 418.489 2157.81 418.489 Q2161.21 418.489 2163.2 415.804 Q2165.19 413.118 2165.19 408.489 Q2165.19 403.882 2163.2 401.197 Q2161.21 398.489 2157.81 398.489 M2157.81 394.878 Q2163.36 394.878 2166.53 398.489 Q2169.7 402.1 2169.7 408.489 Q2169.7 414.855 2166.53 418.489 Q2163.36 422.1 2157.81 422.1 Q2152.23 422.1 2149.06 418.489 Q2145.91 414.855 2145.91 408.489 Q2145.91 402.1 2149.06 398.489 Q2152.23 394.878 2157.81 394.878 Z\" fill=\"#000000\" fill-rule=\"nonzero\" fill-opacity=\"1\" /><path clip-path=\"url(#clip160)\" d=\"M2195.42 396.498 L2195.42 400.48 Q2193.62 399.484 2191.79 398.998 Q2189.98 398.489 2188.13 398.489 Q2183.99 398.489 2181.7 401.128 Q2179.4 403.744 2179.4 408.489 Q2179.4 413.234 2181.7 415.873 Q2183.99 418.489 2188.13 418.489 Q2189.98 418.489 2191.79 418.003 Q2193.62 417.493 2195.42 416.498 L2195.42 420.433 Q2193.64 421.267 2191.72 421.683 Q2189.82 422.1 2187.67 422.1 Q2181.81 422.1 2178.36 418.419 Q2174.91 414.739 2174.91 408.489 Q2174.91 402.146 2178.38 398.512 Q2181.88 394.878 2187.95 394.878 Q2189.91 394.878 2191.79 395.295 Q2193.66 395.688 2195.42 396.498 Z\" fill=\"#000000\" fill-rule=\"nonzero\" fill-opacity=\"1\" /><path clip-path=\"url(#clip160)\" d=\"M2202.83 395.503 L2207.09 395.503 L2207.09 421.429 L2202.83 421.429 L2202.83 395.503 M2202.83 385.41 L2207.09 385.41 L2207.09 390.804 L2202.83 390.804 L2202.83 385.41 Z\" fill=\"#000000\" fill-rule=\"nonzero\" fill-opacity=\"1\" /><path clip-path=\"url(#clip160)\" d=\"M2220.21 388.142 L2220.21 395.503 L2228.99 395.503 L2228.99 398.813 L2220.21 398.813 L2220.21 412.887 Q2220.21 416.058 2221.07 416.961 Q2221.95 417.864 2224.61 417.864 L2228.99 417.864 L2228.99 421.429 L2224.61 421.429 Q2219.68 421.429 2217.81 419.6 Q2215.93 417.748 2215.93 412.887 L2215.93 398.813 L2212.81 398.813 L2212.81 395.503 L2215.93 395.503 L2215.93 388.142 L2220.21 388.142 Z\" fill=\"#000000\" fill-rule=\"nonzero\" fill-opacity=\"1\" /><path clip-path=\"url(#clip160)\" d=\"M2245.38 423.836 Q2243.57 428.466 2241.86 429.878 Q2240.14 431.29 2237.27 431.29 L2233.87 431.29 L2233.87 427.725 L2236.37 427.725 Q2238.13 427.725 2239.1 426.892 Q2240.07 426.058 2241.25 422.956 L2242.02 421.012 L2231.53 395.503 L2236.05 395.503 L2244.15 415.781 L2252.25 395.503 L2256.76 395.503 L2245.38 423.836 Z\" fill=\"#000000\" fill-rule=\"nonzero\" fill-opacity=\"1\" /></svg>\n"
      ]
     },
     "execution_count": 14,
     "metadata": {},
     "output_type": "execute_result"
    }
   ],
   "source": [
    "# Plot x1 vs. x2, u vs. t, x vs. t, etc.\n",
    "times = range(0,h*(N-1), step=h)\n",
    "plot(times,xhist_dp[1,:], label=\"DP position\")\n",
    "plot!(times,xhist_dp[2,:], label=\"DP velocity\")\n",
    "plot!(times,xhist_qp[1,:], label=\"QP position\")\n",
    "plot!(times,xhist_qp[2,:], label=\"QP velocity\")\n",
    "plot!(times,xhist_ric[1,:], label=\"Ric position\")\n",
    "plot!(times,xhist_ric[2,:], label=\"Ric velocity\")\n",
    "xlabel!(\"time\")"
   ]
  },
  {
   "cell_type": "code",
   "execution_count": 15,
   "id": "8be1c543-e839-4ff6-8fde-684bedeee671",
   "metadata": {},
   "outputs": [
    {
     "data": {
      "image/svg+xml": [
       "<?xml version=\"1.0\" encoding=\"utf-8\"?>\n",
       "<svg xmlns=\"http://www.w3.org/2000/svg\" xmlns:xlink=\"http://www.w3.org/1999/xlink\" width=\"600\" height=\"400\" viewBox=\"0 0 2400 1600\">\n",
       "<defs>\n",
       "  <clipPath id=\"clip200\">\n",
       "    <rect x=\"0\" y=\"0\" width=\"2400\" height=\"1600\"/>\n",
       "  </clipPath>\n",
       "</defs>\n",
       "<path clip-path=\"url(#clip200)\" d=\"M0 1600 L2400 1600 L2400 0 L0 0  Z\" fill=\"#ffffff\" fill-rule=\"evenodd\" fill-opacity=\"1\"/>\n",
       "<defs>\n",
       "  <clipPath id=\"clip201\">\n",
       "    <rect x=\"480\" y=\"0\" width=\"1681\" height=\"1600\"/>\n",
       "  </clipPath>\n",
       "</defs>\n",
       "<path clip-path=\"url(#clip200)\" d=\"M193.936 1423.18 L2352.76 1423.18 L2352.76 47.2441 L193.936 47.2441  Z\" fill=\"#ffffff\" fill-rule=\"evenodd\" fill-opacity=\"1\"/>\n",
       "<defs>\n",
       "  <clipPath id=\"clip202\">\n",
       "    <rect x=\"193\" y=\"47\" width=\"2160\" height=\"1377\"/>\n",
       "  </clipPath>\n",
       "</defs>\n",
       "<polyline clip-path=\"url(#clip202)\" style=\"stroke:#000000; stroke-linecap:round; stroke-linejoin:round; stroke-width:2; stroke-opacity:0.1; fill:none\" points=\"255.035,1423.18 255.035,47.2441 \"/>\n",
       "<polyline clip-path=\"url(#clip202)\" style=\"stroke:#000000; stroke-linecap:round; stroke-linejoin:round; stroke-width:2; stroke-opacity:0.1; fill:none\" points=\"769.333,1423.18 769.333,47.2441 \"/>\n",
       "<polyline clip-path=\"url(#clip202)\" style=\"stroke:#000000; stroke-linecap:round; stroke-linejoin:round; stroke-width:2; stroke-opacity:0.1; fill:none\" points=\"1283.63,1423.18 1283.63,47.2441 \"/>\n",
       "<polyline clip-path=\"url(#clip202)\" style=\"stroke:#000000; stroke-linecap:round; stroke-linejoin:round; stroke-width:2; stroke-opacity:0.1; fill:none\" points=\"1797.93,1423.18 1797.93,47.2441 \"/>\n",
       "<polyline clip-path=\"url(#clip202)\" style=\"stroke:#000000; stroke-linecap:round; stroke-linejoin:round; stroke-width:2; stroke-opacity:0.1; fill:none\" points=\"2312.23,1423.18 2312.23,47.2441 \"/>\n",
       "<polyline clip-path=\"url(#clip200)\" style=\"stroke:#000000; stroke-linecap:round; stroke-linejoin:round; stroke-width:4; stroke-opacity:1; fill:none\" points=\"193.936,1423.18 2352.76,1423.18 \"/>\n",
       "<polyline clip-path=\"url(#clip200)\" style=\"stroke:#000000; stroke-linecap:round; stroke-linejoin:round; stroke-width:4; stroke-opacity:1; fill:none\" points=\"255.035,1423.18 255.035,1404.28 \"/>\n",
       "<polyline clip-path=\"url(#clip200)\" style=\"stroke:#000000; stroke-linecap:round; stroke-linejoin:round; stroke-width:4; stroke-opacity:1; fill:none\" points=\"769.333,1423.18 769.333,1404.28 \"/>\n",
       "<polyline clip-path=\"url(#clip200)\" style=\"stroke:#000000; stroke-linecap:round; stroke-linejoin:round; stroke-width:4; stroke-opacity:1; fill:none\" points=\"1283.63,1423.18 1283.63,1404.28 \"/>\n",
       "<polyline clip-path=\"url(#clip200)\" style=\"stroke:#000000; stroke-linecap:round; stroke-linejoin:round; stroke-width:4; stroke-opacity:1; fill:none\" points=\"1797.93,1423.18 1797.93,1404.28 \"/>\n",
       "<polyline clip-path=\"url(#clip200)\" style=\"stroke:#000000; stroke-linecap:round; stroke-linejoin:round; stroke-width:4; stroke-opacity:1; fill:none\" points=\"2312.23,1423.18 2312.23,1404.28 \"/>\n",
       "<path clip-path=\"url(#clip200)\" d=\"M232.419 1454.1 Q228.808 1454.1 226.979 1457.66 Q225.174 1461.2 225.174 1468.33 Q225.174 1475.44 226.979 1479.01 Q228.808 1482.55 232.419 1482.55 Q236.053 1482.55 237.859 1479.01 Q239.688 1475.44 239.688 1468.33 Q239.688 1461.2 237.859 1457.66 Q236.053 1454.1 232.419 1454.1 M232.419 1450.39 Q238.229 1450.39 241.285 1455 Q244.363 1459.58 244.363 1468.33 Q244.363 1477.06 241.285 1481.67 Q238.229 1486.25 232.419 1486.25 Q226.609 1486.25 223.53 1481.67 Q220.475 1477.06 220.475 1468.33 Q220.475 1459.58 223.53 1455 Q226.609 1450.39 232.419 1450.39 Z\" fill=\"#000000\" fill-rule=\"nonzero\" fill-opacity=\"1\" /><path clip-path=\"url(#clip200)\" d=\"M252.581 1479.7 L257.465 1479.7 L257.465 1485.58 L252.581 1485.58 L252.581 1479.7 Z\" fill=\"#000000\" fill-rule=\"nonzero\" fill-opacity=\"1\" /><path clip-path=\"url(#clip200)\" d=\"M277.65 1454.1 Q274.039 1454.1 272.211 1457.66 Q270.405 1461.2 270.405 1468.33 Q270.405 1475.44 272.211 1479.01 Q274.039 1482.55 277.65 1482.55 Q281.285 1482.55 283.09 1479.01 Q284.919 1475.44 284.919 1468.33 Q284.919 1461.2 283.09 1457.66 Q281.285 1454.1 277.65 1454.1 M277.65 1450.39 Q283.46 1450.39 286.516 1455 Q289.595 1459.58 289.595 1468.33 Q289.595 1477.06 286.516 1481.67 Q283.46 1486.25 277.65 1486.25 Q271.84 1486.25 268.761 1481.67 Q265.706 1477.06 265.706 1468.33 Q265.706 1459.58 268.761 1455 Q271.84 1450.39 277.65 1450.39 Z\" fill=\"#000000\" fill-rule=\"nonzero\" fill-opacity=\"1\" /><path clip-path=\"url(#clip200)\" d=\"M741.07 1481.64 L757.389 1481.64 L757.389 1485.58 L735.445 1485.58 L735.445 1481.64 Q738.107 1478.89 742.69 1474.26 Q747.296 1469.61 748.477 1468.27 Q750.722 1465.74 751.602 1464.01 Q752.505 1462.25 752.505 1460.56 Q752.505 1457.8 750.56 1456.07 Q748.639 1454.33 745.537 1454.33 Q743.338 1454.33 740.884 1455.09 Q738.454 1455.86 735.676 1457.41 L735.676 1452.69 Q738.5 1451.55 740.954 1450.97 Q743.408 1450.39 745.445 1450.39 Q750.815 1450.39 754.009 1453.08 Q757.204 1455.77 757.204 1460.26 Q757.204 1462.39 756.394 1464.31 Q755.607 1466.2 753.5 1468.8 Q752.921 1469.47 749.82 1472.69 Q746.718 1475.88 741.07 1481.64 Z\" fill=\"#000000\" fill-rule=\"nonzero\" fill-opacity=\"1\" /><path clip-path=\"url(#clip200)\" d=\"M767.204 1479.7 L772.088 1479.7 L772.088 1485.58 L767.204 1485.58 L767.204 1479.7 Z\" fill=\"#000000\" fill-rule=\"nonzero\" fill-opacity=\"1\" /><path clip-path=\"url(#clip200)\" d=\"M782.319 1451.02 L800.676 1451.02 L800.676 1454.96 L786.602 1454.96 L786.602 1463.43 Q787.62 1463.08 788.639 1462.92 Q789.657 1462.73 790.676 1462.73 Q796.463 1462.73 799.842 1465.9 Q803.222 1469.08 803.222 1474.49 Q803.222 1480.07 799.75 1483.17 Q796.278 1486.25 789.958 1486.25 Q787.782 1486.25 785.514 1485.88 Q783.268 1485.51 780.861 1484.77 L780.861 1480.07 Q782.944 1481.2 785.167 1481.76 Q787.389 1482.32 789.866 1482.32 Q793.87 1482.32 796.208 1480.21 Q798.546 1478.1 798.546 1474.49 Q798.546 1470.88 796.208 1468.77 Q793.87 1466.67 789.866 1466.67 Q787.991 1466.67 786.116 1467.08 Q784.264 1467.5 782.319 1468.38 L782.319 1451.02 Z\" fill=\"#000000\" fill-rule=\"nonzero\" fill-opacity=\"1\" /><path clip-path=\"url(#clip200)\" d=\"M1250.8 1451.02 L1269.15 1451.02 L1269.15 1454.96 L1255.08 1454.96 L1255.08 1463.43 Q1256.1 1463.08 1257.12 1462.92 Q1258.13 1462.73 1259.15 1462.73 Q1264.94 1462.73 1268.32 1465.9 Q1271.7 1469.08 1271.7 1474.49 Q1271.7 1480.07 1268.23 1483.17 Q1264.75 1486.25 1258.44 1486.25 Q1256.26 1486.25 1253.99 1485.88 Q1251.75 1485.51 1249.34 1484.77 L1249.34 1480.07 Q1251.42 1481.2 1253.64 1481.76 Q1255.87 1482.32 1258.34 1482.32 Q1262.35 1482.32 1264.69 1480.21 Q1267.02 1478.1 1267.02 1474.49 Q1267.02 1470.88 1264.69 1468.77 Q1262.35 1466.67 1258.34 1466.67 Q1256.47 1466.67 1254.59 1467.08 Q1252.74 1467.5 1250.8 1468.38 L1250.8 1451.02 Z\" fill=\"#000000\" fill-rule=\"nonzero\" fill-opacity=\"1\" /><path clip-path=\"url(#clip200)\" d=\"M1280.91 1479.7 L1285.8 1479.7 L1285.8 1485.58 L1280.91 1485.58 L1280.91 1479.7 Z\" fill=\"#000000\" fill-rule=\"nonzero\" fill-opacity=\"1\" /><path clip-path=\"url(#clip200)\" d=\"M1305.98 1454.1 Q1302.37 1454.1 1300.54 1457.66 Q1298.74 1461.2 1298.74 1468.33 Q1298.74 1475.44 1300.54 1479.01 Q1302.37 1482.55 1305.98 1482.55 Q1309.62 1482.55 1311.42 1479.01 Q1313.25 1475.44 1313.25 1468.33 Q1313.25 1461.2 1311.42 1457.66 Q1309.62 1454.1 1305.98 1454.1 M1305.98 1450.39 Q1311.79 1450.39 1314.85 1455 Q1317.93 1459.58 1317.93 1468.33 Q1317.93 1477.06 1314.85 1481.67 Q1311.79 1486.25 1305.98 1486.25 Q1300.17 1486.25 1297.09 1481.67 Q1294.04 1477.06 1294.04 1468.33 Q1294.04 1459.58 1297.09 1455 Q1300.17 1450.39 1305.98 1450.39 Z\" fill=\"#000000\" fill-rule=\"nonzero\" fill-opacity=\"1\" /><path clip-path=\"url(#clip200)\" d=\"M1764.25 1451.02 L1786.47 1451.02 L1786.47 1453.01 L1773.93 1485.58 L1769.04 1485.58 L1780.85 1454.96 L1764.25 1454.96 L1764.25 1451.02 Z\" fill=\"#000000\" fill-rule=\"nonzero\" fill-opacity=\"1\" /><path clip-path=\"url(#clip200)\" d=\"M1795.59 1479.7 L1800.48 1479.7 L1800.48 1485.58 L1795.59 1485.58 L1795.59 1479.7 Z\" fill=\"#000000\" fill-rule=\"nonzero\" fill-opacity=\"1\" /><path clip-path=\"url(#clip200)\" d=\"M1810.71 1451.02 L1829.06 1451.02 L1829.06 1454.96 L1814.99 1454.96 L1814.99 1463.43 Q1816.01 1463.08 1817.03 1462.92 Q1818.05 1462.73 1819.06 1462.73 Q1824.85 1462.73 1828.23 1465.9 Q1831.61 1469.08 1831.61 1474.49 Q1831.61 1480.07 1828.14 1483.17 Q1824.67 1486.25 1818.35 1486.25 Q1816.17 1486.25 1813.9 1485.88 Q1811.66 1485.51 1809.25 1484.77 L1809.25 1480.07 Q1811.33 1481.2 1813.56 1481.76 Q1815.78 1482.32 1818.25 1482.32 Q1822.26 1482.32 1824.6 1480.21 Q1826.94 1478.1 1826.94 1474.49 Q1826.94 1470.88 1824.6 1468.77 Q1822.26 1466.67 1818.25 1466.67 Q1816.38 1466.67 1814.5 1467.08 Q1812.65 1467.5 1810.71 1468.38 L1810.71 1451.02 Z\" fill=\"#000000\" fill-rule=\"nonzero\" fill-opacity=\"1\" /><path clip-path=\"url(#clip200)\" d=\"M2264.3 1481.64 L2271.94 1481.64 L2271.94 1455.28 L2263.63 1456.95 L2263.63 1452.69 L2271.89 1451.02 L2276.57 1451.02 L2276.57 1481.64 L2284.21 1481.64 L2284.21 1485.58 L2264.3 1485.58 L2264.3 1481.64 Z\" fill=\"#000000\" fill-rule=\"nonzero\" fill-opacity=\"1\" /><path clip-path=\"url(#clip200)\" d=\"M2303.65 1454.1 Q2300.04 1454.1 2298.21 1457.66 Q2296.41 1461.2 2296.41 1468.33 Q2296.41 1475.44 2298.21 1479.01 Q2300.04 1482.55 2303.65 1482.55 Q2307.29 1482.55 2309.09 1479.01 Q2310.92 1475.44 2310.92 1468.33 Q2310.92 1461.2 2309.09 1457.66 Q2307.29 1454.1 2303.65 1454.1 M2303.65 1450.39 Q2309.46 1450.39 2312.52 1455 Q2315.6 1459.58 2315.6 1468.33 Q2315.6 1477.06 2312.52 1481.67 Q2309.46 1486.25 2303.65 1486.25 Q2297.84 1486.25 2294.76 1481.67 Q2291.71 1477.06 2291.71 1468.33 Q2291.71 1459.58 2294.76 1455 Q2297.84 1450.39 2303.65 1450.39 Z\" fill=\"#000000\" fill-rule=\"nonzero\" fill-opacity=\"1\" /><path clip-path=\"url(#clip200)\" d=\"M2323.81 1479.7 L2328.7 1479.7 L2328.7 1485.58 L2323.81 1485.58 L2323.81 1479.7 Z\" fill=\"#000000\" fill-rule=\"nonzero\" fill-opacity=\"1\" /><path clip-path=\"url(#clip200)\" d=\"M2348.88 1454.1 Q2345.27 1454.1 2343.44 1457.66 Q2341.64 1461.2 2341.64 1468.33 Q2341.64 1475.44 2343.44 1479.01 Q2345.27 1482.55 2348.88 1482.55 Q2352.52 1482.55 2354.32 1479.01 Q2356.15 1475.44 2356.15 1468.33 Q2356.15 1461.2 2354.32 1457.66 Q2352.52 1454.1 2348.88 1454.1 M2348.88 1450.39 Q2354.69 1450.39 2357.75 1455 Q2360.83 1459.58 2360.83 1468.33 Q2360.83 1477.06 2357.75 1481.67 Q2354.69 1486.25 2348.88 1486.25 Q2343.07 1486.25 2340 1481.67 Q2336.94 1477.06 2336.94 1468.33 Q2336.94 1459.58 2340 1455 Q2343.07 1450.39 2348.88 1450.39 Z\" fill=\"#000000\" fill-rule=\"nonzero\" fill-opacity=\"1\" /><path clip-path=\"url(#clip200)\" d=\"M1195.22 1520.52 L1235.42 1520.52 L1235.42 1525.93 L1218.55 1525.93 L1218.55 1568.04 L1212.09 1568.04 L1212.09 1525.93 L1195.22 1525.93 L1195.22 1520.52 Z\" fill=\"#000000\" fill-rule=\"nonzero\" fill-opacity=\"1\" /><path clip-path=\"url(#clip200)\" d=\"M1239.37 1532.4 L1245.23 1532.4 L1245.23 1568.04 L1239.37 1568.04 L1239.37 1532.4 M1239.37 1518.52 L1245.23 1518.52 L1245.23 1525.93 L1239.37 1525.93 L1239.37 1518.52 Z\" fill=\"#000000\" fill-rule=\"nonzero\" fill-opacity=\"1\" /><path clip-path=\"url(#clip200)\" d=\"M1285.23 1539.24 Q1287.43 1535.29 1290.49 1533.41 Q1293.54 1531.54 1297.68 1531.54 Q1303.25 1531.54 1306.27 1535.45 Q1309.3 1539.33 1309.3 1546.53 L1309.3 1568.04 L1303.41 1568.04 L1303.41 1546.72 Q1303.41 1541.59 1301.59 1539.11 Q1299.78 1536.63 1296.06 1536.63 Q1291.5 1536.63 1288.86 1539.65 Q1286.22 1542.68 1286.22 1547.9 L1286.22 1568.04 L1280.33 1568.04 L1280.33 1546.72 Q1280.33 1541.56 1278.52 1539.11 Q1276.7 1536.63 1272.92 1536.63 Q1268.43 1536.63 1265.79 1539.68 Q1263.14 1542.71 1263.14 1547.9 L1263.14 1568.04 L1257.26 1568.04 L1257.26 1532.4 L1263.14 1532.4 L1263.14 1537.93 Q1265.15 1534.66 1267.95 1533.1 Q1270.75 1531.54 1274.6 1531.54 Q1278.49 1531.54 1281.19 1533.51 Q1283.93 1535.48 1285.23 1539.24 Z\" fill=\"#000000\" fill-rule=\"nonzero\" fill-opacity=\"1\" /><path clip-path=\"url(#clip200)\" d=\"M1351.47 1548.76 L1351.47 1551.62 L1324.54 1551.62 Q1324.92 1557.67 1328.17 1560.85 Q1331.45 1564 1337.27 1564 Q1340.65 1564 1343.8 1563.17 Q1346.98 1562.35 1350.1 1560.69 L1350.1 1566.23 Q1346.95 1567.57 1343.64 1568.27 Q1340.33 1568.97 1336.92 1568.97 Q1328.39 1568.97 1323.4 1564 Q1318.43 1559.04 1318.43 1550.57 Q1318.43 1541.82 1323.14 1536.69 Q1327.88 1531.54 1335.9 1531.54 Q1343.1 1531.54 1347.27 1536.18 Q1351.47 1540.8 1351.47 1548.76 M1345.61 1547.04 Q1345.55 1542.23 1342.91 1539.37 Q1340.3 1536.5 1335.97 1536.5 Q1331.07 1536.5 1328.11 1539.27 Q1325.18 1542.04 1324.73 1547.07 L1345.61 1547.04 Z\" fill=\"#000000\" fill-rule=\"nonzero\" fill-opacity=\"1\" /><polyline clip-path=\"url(#clip202)\" style=\"stroke:#000000; stroke-linecap:round; stroke-linejoin:round; stroke-width:2; stroke-opacity:0.1; fill:none\" points=\"193.936,1346.46 2352.76,1346.46 \"/>\n",
       "<polyline clip-path=\"url(#clip202)\" style=\"stroke:#000000; stroke-linecap:round; stroke-linejoin:round; stroke-width:2; stroke-opacity:0.1; fill:none\" points=\"193.936,1126.03 2352.76,1126.03 \"/>\n",
       "<polyline clip-path=\"url(#clip202)\" style=\"stroke:#000000; stroke-linecap:round; stroke-linejoin:round; stroke-width:2; stroke-opacity:0.1; fill:none\" points=\"193.936,905.601 2352.76,905.601 \"/>\n",
       "<polyline clip-path=\"url(#clip202)\" style=\"stroke:#000000; stroke-linecap:round; stroke-linejoin:round; stroke-width:2; stroke-opacity:0.1; fill:none\" points=\"193.936,685.173 2352.76,685.173 \"/>\n",
       "<polyline clip-path=\"url(#clip202)\" style=\"stroke:#000000; stroke-linecap:round; stroke-linejoin:round; stroke-width:2; stroke-opacity:0.1; fill:none\" points=\"193.936,464.745 2352.76,464.745 \"/>\n",
       "<polyline clip-path=\"url(#clip202)\" style=\"stroke:#000000; stroke-linecap:round; stroke-linejoin:round; stroke-width:2; stroke-opacity:0.1; fill:none\" points=\"193.936,244.317 2352.76,244.317 \"/>\n",
       "<polyline clip-path=\"url(#clip200)\" style=\"stroke:#000000; stroke-linecap:round; stroke-linejoin:round; stroke-width:4; stroke-opacity:1; fill:none\" points=\"193.936,1423.18 193.936,47.2441 \"/>\n",
       "<polyline clip-path=\"url(#clip200)\" style=\"stroke:#000000; stroke-linecap:round; stroke-linejoin:round; stroke-width:4; stroke-opacity:1; fill:none\" points=\"193.936,1346.46 212.834,1346.46 \"/>\n",
       "<polyline clip-path=\"url(#clip200)\" style=\"stroke:#000000; stroke-linecap:round; stroke-linejoin:round; stroke-width:4; stroke-opacity:1; fill:none\" points=\"193.936,1126.03 212.834,1126.03 \"/>\n",
       "<polyline clip-path=\"url(#clip200)\" style=\"stroke:#000000; stroke-linecap:round; stroke-linejoin:round; stroke-width:4; stroke-opacity:1; fill:none\" points=\"193.936,905.601 212.834,905.601 \"/>\n",
       "<polyline clip-path=\"url(#clip200)\" style=\"stroke:#000000; stroke-linecap:round; stroke-linejoin:round; stroke-width:4; stroke-opacity:1; fill:none\" points=\"193.936,685.173 212.834,685.173 \"/>\n",
       "<polyline clip-path=\"url(#clip200)\" style=\"stroke:#000000; stroke-linecap:round; stroke-linejoin:round; stroke-width:4; stroke-opacity:1; fill:none\" points=\"193.936,464.745 212.834,464.745 \"/>\n",
       "<polyline clip-path=\"url(#clip200)\" style=\"stroke:#000000; stroke-linecap:round; stroke-linejoin:round; stroke-width:4; stroke-opacity:1; fill:none\" points=\"193.936,244.317 212.834,244.317 \"/>\n",
       "<path clip-path=\"url(#clip200)\" d=\"M51.9875 1346.91 L81.6633 1346.91 L81.6633 1350.84 L51.9875 1350.84 L51.9875 1346.91 Z\" fill=\"#000000\" fill-rule=\"nonzero\" fill-opacity=\"1\" /><path clip-path=\"url(#clip200)\" d=\"M95.7836 1359.8 L112.103 1359.8 L112.103 1363.74 L90.1586 1363.74 L90.1586 1359.8 Q92.8206 1357.05 97.4039 1352.42 Q102.01 1347.76 103.191 1346.42 Q105.436 1343.9 106.316 1342.16 Q107.219 1340.4 107.219 1338.71 Q107.219 1335.96 105.274 1334.22 Q103.353 1332.49 100.251 1332.49 Q98.0521 1332.49 95.5984 1333.25 Q93.1678 1334.01 90.3901 1335.57 L90.3901 1330.84 Q93.2141 1329.71 95.6678 1329.13 Q98.1215 1328.55 100.159 1328.55 Q105.529 1328.55 108.723 1331.24 Q111.918 1333.92 111.918 1338.41 Q111.918 1340.54 111.108 1342.46 Q110.321 1344.36 108.214 1346.95 Q107.635 1347.63 104.534 1350.84 Q101.432 1354.04 95.7836 1359.8 Z\" fill=\"#000000\" fill-rule=\"nonzero\" fill-opacity=\"1\" /><path clip-path=\"url(#clip200)\" d=\"M121.918 1357.86 L126.802 1357.86 L126.802 1363.74 L121.918 1363.74 L121.918 1357.86 Z\" fill=\"#000000\" fill-rule=\"nonzero\" fill-opacity=\"1\" /><path clip-path=\"url(#clip200)\" d=\"M137.033 1329.18 L155.39 1329.18 L155.39 1333.11 L141.316 1333.11 L141.316 1341.58 Q142.334 1341.24 143.353 1341.07 Q144.371 1340.89 145.39 1340.89 Q151.177 1340.89 154.556 1344.06 Q157.936 1347.23 157.936 1352.65 Q157.936 1358.23 154.464 1361.33 Q150.992 1364.41 144.672 1364.41 Q142.496 1364.41 140.228 1364.04 Q137.982 1363.67 135.575 1362.93 L135.575 1358.23 Q137.658 1359.36 139.881 1359.92 Q142.103 1360.47 144.58 1360.47 Q148.584 1360.47 150.922 1358.37 Q153.26 1356.26 153.26 1352.65 Q153.26 1349.04 150.922 1346.93 Q148.584 1344.82 144.58 1344.82 Q142.705 1344.82 140.83 1345.24 Q138.978 1345.66 137.033 1346.54 L137.033 1329.18 Z\" fill=\"#000000\" fill-rule=\"nonzero\" fill-opacity=\"1\" /><path clip-path=\"url(#clip200)\" d=\"M50.9921 1126.48 L80.6679 1126.48 L80.6679 1130.42 L50.9921 1130.42 L50.9921 1126.48 Z\" fill=\"#000000\" fill-rule=\"nonzero\" fill-opacity=\"1\" /><path clip-path=\"url(#clip200)\" d=\"M94.7882 1139.37 L111.108 1139.37 L111.108 1143.31 L89.1632 1143.31 L89.1632 1139.37 Q91.8252 1136.62 96.4085 1131.99 Q101.015 1127.34 102.196 1125.99 Q104.441 1123.47 105.321 1121.73 Q106.223 1119.98 106.223 1118.29 Q106.223 1115.53 104.279 1113.79 Q102.358 1112.06 99.2558 1112.06 Q97.0567 1112.06 94.603 1112.82 Q92.1725 1113.59 89.3947 1115.14 L89.3947 1110.42 Q92.2188 1109.28 94.6724 1108.7 Q97.1261 1108.12 99.1632 1108.12 Q104.534 1108.12 107.728 1110.81 Q110.922 1113.49 110.922 1117.98 Q110.922 1120.11 110.112 1122.04 Q109.325 1123.93 107.219 1126.53 Q106.64 1127.2 103.538 1130.42 Q100.436 1133.61 94.7882 1139.37 Z\" fill=\"#000000\" fill-rule=\"nonzero\" fill-opacity=\"1\" /><path clip-path=\"url(#clip200)\" d=\"M120.922 1137.43 L125.807 1137.43 L125.807 1143.31 L120.922 1143.31 L120.922 1137.43 Z\" fill=\"#000000\" fill-rule=\"nonzero\" fill-opacity=\"1\" /><path clip-path=\"url(#clip200)\" d=\"M145.992 1111.83 Q142.381 1111.83 140.552 1115.39 Q138.746 1118.93 138.746 1126.06 Q138.746 1133.17 140.552 1136.73 Q142.381 1140.28 145.992 1140.28 Q149.626 1140.28 151.431 1136.73 Q153.26 1133.17 153.26 1126.06 Q153.26 1118.93 151.431 1115.39 Q149.626 1111.83 145.992 1111.83 M145.992 1108.12 Q151.802 1108.12 154.857 1112.73 Q157.936 1117.31 157.936 1126.06 Q157.936 1134.79 154.857 1139.4 Q151.802 1143.98 145.992 1143.98 Q140.181 1143.98 137.103 1139.4 Q134.047 1134.79 134.047 1126.06 Q134.047 1117.31 137.103 1112.73 Q140.181 1108.12 145.992 1108.12 Z\" fill=\"#000000\" fill-rule=\"nonzero\" fill-opacity=\"1\" /><path clip-path=\"url(#clip200)\" d=\"M51.9875 906.052 L81.6633 906.052 L81.6633 909.987 L51.9875 909.987 L51.9875 906.052 Z\" fill=\"#000000\" fill-rule=\"nonzero\" fill-opacity=\"1\" /><path clip-path=\"url(#clip200)\" d=\"M92.566 918.946 L100.205 918.946 L100.205 892.58 L91.8947 894.247 L91.8947 889.987 L100.159 888.321 L104.834 888.321 L104.834 918.946 L112.473 918.946 L112.473 922.881 L92.566 922.881 L92.566 918.946 Z\" fill=\"#000000\" fill-rule=\"nonzero\" fill-opacity=\"1\" /><path clip-path=\"url(#clip200)\" d=\"M121.918 917.001 L126.802 917.001 L126.802 922.881 L121.918 922.881 L121.918 917.001 Z\" fill=\"#000000\" fill-rule=\"nonzero\" fill-opacity=\"1\" /><path clip-path=\"url(#clip200)\" d=\"M137.033 888.321 L155.39 888.321 L155.39 892.256 L141.316 892.256 L141.316 900.728 Q142.334 900.381 143.353 900.219 Q144.371 900.034 145.39 900.034 Q151.177 900.034 154.556 903.205 Q157.936 906.376 157.936 911.793 Q157.936 917.372 154.464 920.473 Q150.992 923.552 144.672 923.552 Q142.496 923.552 140.228 923.182 Q137.982 922.811 135.575 922.071 L135.575 917.372 Q137.658 918.506 139.881 919.061 Q142.103 919.617 144.58 919.617 Q148.584 919.617 150.922 917.51 Q153.26 915.404 153.26 911.793 Q153.26 908.182 150.922 906.075 Q148.584 903.969 144.58 903.969 Q142.705 903.969 140.83 904.385 Q138.978 904.802 137.033 905.682 L137.033 888.321 Z\" fill=\"#000000\" fill-rule=\"nonzero\" fill-opacity=\"1\" /><path clip-path=\"url(#clip200)\" d=\"M50.9921 685.624 L80.6679 685.624 L80.6679 689.559 L50.9921 689.559 L50.9921 685.624 Z\" fill=\"#000000\" fill-rule=\"nonzero\" fill-opacity=\"1\" /><path clip-path=\"url(#clip200)\" d=\"M91.5706 698.518 L99.2095 698.518 L99.2095 672.152 L90.8993 673.819 L90.8993 669.56 L99.1632 667.893 L103.839 667.893 L103.839 698.518 L111.478 698.518 L111.478 702.453 L91.5706 702.453 L91.5706 698.518 Z\" fill=\"#000000\" fill-rule=\"nonzero\" fill-opacity=\"1\" /><path clip-path=\"url(#clip200)\" d=\"M120.922 696.573 L125.807 696.573 L125.807 702.453 L120.922 702.453 L120.922 696.573 Z\" fill=\"#000000\" fill-rule=\"nonzero\" fill-opacity=\"1\" /><path clip-path=\"url(#clip200)\" d=\"M145.992 670.972 Q142.381 670.972 140.552 674.536 Q138.746 678.078 138.746 685.208 Q138.746 692.314 140.552 695.879 Q142.381 699.42 145.992 699.42 Q149.626 699.42 151.431 695.879 Q153.26 692.314 153.26 685.208 Q153.26 678.078 151.431 674.536 Q149.626 670.972 145.992 670.972 M145.992 667.268 Q151.802 667.268 154.857 671.874 Q157.936 676.458 157.936 685.208 Q157.936 693.934 154.857 698.541 Q151.802 703.124 145.992 703.124 Q140.181 703.124 137.103 698.541 Q134.047 693.934 134.047 685.208 Q134.047 676.458 137.103 671.874 Q140.181 667.268 145.992 667.268 Z\" fill=\"#000000\" fill-rule=\"nonzero\" fill-opacity=\"1\" /><path clip-path=\"url(#clip200)\" d=\"M51.9875 465.196 L81.6633 465.196 L81.6633 469.132 L51.9875 469.132 L51.9875 465.196 Z\" fill=\"#000000\" fill-rule=\"nonzero\" fill-opacity=\"1\" /><path clip-path=\"url(#clip200)\" d=\"M101.756 450.544 Q98.1447 450.544 96.316 454.108 Q94.5104 457.65 94.5104 464.78 Q94.5104 471.886 96.316 475.451 Q98.1447 478.993 101.756 478.993 Q105.39 478.993 107.196 475.451 Q109.024 471.886 109.024 464.78 Q109.024 457.65 107.196 454.108 Q105.39 450.544 101.756 450.544 M101.756 446.84 Q107.566 446.84 110.621 451.446 Q113.7 456.03 113.7 464.78 Q113.7 473.507 110.621 478.113 Q107.566 482.696 101.756 482.696 Q95.9456 482.696 92.8669 478.113 Q89.8114 473.507 89.8114 464.78 Q89.8114 456.03 92.8669 451.446 Q95.9456 446.84 101.756 446.84 Z\" fill=\"#000000\" fill-rule=\"nonzero\" fill-opacity=\"1\" /><path clip-path=\"url(#clip200)\" d=\"M121.918 476.145 L126.802 476.145 L126.802 482.025 L121.918 482.025 L121.918 476.145 Z\" fill=\"#000000\" fill-rule=\"nonzero\" fill-opacity=\"1\" /><path clip-path=\"url(#clip200)\" d=\"M137.033 447.465 L155.39 447.465 L155.39 451.4 L141.316 451.4 L141.316 459.872 Q142.334 459.525 143.353 459.363 Q144.371 459.178 145.39 459.178 Q151.177 459.178 154.556 462.349 Q157.936 465.52 157.936 470.937 Q157.936 476.516 154.464 479.618 Q150.992 482.696 144.672 482.696 Q142.496 482.696 140.228 482.326 Q137.982 481.956 135.575 481.215 L135.575 476.516 Q137.658 477.65 139.881 478.206 Q142.103 478.761 144.58 478.761 Q148.584 478.761 150.922 476.655 Q153.26 474.548 153.26 470.937 Q153.26 467.326 150.922 465.22 Q148.584 463.113 144.58 463.113 Q142.705 463.113 140.83 463.53 Q138.978 463.946 137.033 464.826 L137.033 447.465 Z\" fill=\"#000000\" fill-rule=\"nonzero\" fill-opacity=\"1\" /><path clip-path=\"url(#clip200)\" d=\"M100.76 230.116 Q97.1493 230.116 95.3206 233.681 Q93.515 237.222 93.515 244.352 Q93.515 251.458 95.3206 255.023 Q97.1493 258.565 100.76 258.565 Q104.395 258.565 106.2 255.023 Q108.029 251.458 108.029 244.352 Q108.029 237.222 106.2 233.681 Q104.395 230.116 100.76 230.116 M100.76 226.412 Q106.571 226.412 109.626 231.019 Q112.705 235.602 112.705 244.352 Q112.705 253.079 109.626 257.685 Q106.571 262.268 100.76 262.268 Q94.9502 262.268 91.8715 257.685 Q88.816 253.079 88.816 244.352 Q88.816 235.602 91.8715 231.019 Q94.9502 226.412 100.76 226.412 Z\" fill=\"#000000\" fill-rule=\"nonzero\" fill-opacity=\"1\" /><path clip-path=\"url(#clip200)\" d=\"M120.922 255.718 L125.807 255.718 L125.807 261.597 L120.922 261.597 L120.922 255.718 Z\" fill=\"#000000\" fill-rule=\"nonzero\" fill-opacity=\"1\" /><path clip-path=\"url(#clip200)\" d=\"M145.992 230.116 Q142.381 230.116 140.552 233.681 Q138.746 237.222 138.746 244.352 Q138.746 251.458 140.552 255.023 Q142.381 258.565 145.992 258.565 Q149.626 258.565 151.431 255.023 Q153.26 251.458 153.26 244.352 Q153.26 237.222 151.431 233.681 Q149.626 230.116 145.992 230.116 M145.992 226.412 Q151.802 226.412 154.857 231.019 Q157.936 235.602 157.936 244.352 Q157.936 253.079 154.857 257.685 Q151.802 262.268 145.992 262.268 Q140.181 262.268 137.103 257.685 Q134.047 253.079 134.047 244.352 Q134.047 235.602 137.103 231.019 Q140.181 226.412 145.992 226.412 Z\" fill=\"#000000\" fill-rule=\"nonzero\" fill-opacity=\"1\" /><polyline clip-path=\"url(#clip202)\" style=\"stroke:#009af9; stroke-linecap:round; stroke-linejoin:round; stroke-width:4; stroke-opacity:1; fill:none\" points=\"255.035,1384.24 275.607,976.976 296.179,685.743 316.751,479.614 337.322,335.716 357.894,237.144 378.466,171.426 399.038,129.373 419.61,104.229 440.182,91.0402 460.754,86.1857 481.326,87.0288 501.898,91.6596 522.47,98.7029 543.042,107.177 563.614,116.389 584.186,125.856 604.758,135.248 625.33,144.348 645.902,153.017 666.474,161.173 687.046,168.776 707.617,175.813 728.189,182.289 748.761,188.223 769.333,193.64 789.905,198.573 810.477,203.053 831.049,207.116 851.621,210.794 872.193,214.12 892.765,217.124 913.337,219.836 933.909,222.282 954.481,224.487 975.053,226.475 995.625,228.264 1016.2,229.876 1036.77,231.327 1057.34,232.633 1077.91,233.809 1098.48,234.866 1119.06,235.817 1139.63,236.673 1160.2,237.443 1180.77,238.136 1201.34,238.758 1221.92,239.318 1242.49,239.822 1263.06,240.275 1283.63,240.683 1304.2,241.049 1324.78,241.378 1345.35,241.675 1365.92,241.941 1386.49,242.181 1407.06,242.396 1427.64,242.59 1448.21,242.764 1468.78,242.92 1489.35,243.061 1509.92,243.188 1530.5,243.301 1551.07,243.404 1571.64,243.496 1592.21,243.579 1612.78,243.653 1633.35,243.72 1653.93,243.78 1674.5,243.834 1695.07,243.882 1715.64,243.926 1736.21,243.965 1756.79,244.001 1777.36,244.032 1797.93,244.061 1818.5,244.086 1839.07,244.109 1859.65,244.13 1880.22,244.148 1900.79,244.165 1921.36,244.18 1941.93,244.193 1962.51,244.205 1983.08,244.216 2003.65,244.225 2024.22,244.234 2044.79,244.242 2065.37,244.249 2085.94,244.255 2106.51,244.26 2127.08,244.266 2147.65,244.27 2168.23,244.275 2188.8,244.279 2209.37,244.284 2229.94,244.288 2250.51,244.294 2271.09,244.3 2291.66,244.307 \"/>\n",
       "<polyline clip-path=\"url(#clip202)\" style=\"stroke:#e26f46; stroke-linecap:round; stroke-linejoin:round; stroke-width:4; stroke-opacity:1; fill:none\" points=\"255.035,1384.24 275.607,976.976 296.179,685.743 316.751,479.614 337.322,335.716 357.894,237.144 378.466,171.426 399.038,129.373 419.61,104.229 440.182,91.0402 460.754,86.1857 481.326,87.0288 501.898,91.6596 522.47,98.7029 543.042,107.177 563.614,116.389 584.186,125.856 604.758,135.248 625.33,144.348 645.902,153.017 666.474,161.173 687.046,168.776 707.617,175.813 728.189,182.289 748.761,188.223 769.333,193.64 789.905,198.573 810.477,203.053 831.049,207.116 851.621,210.794 872.193,214.12 892.765,217.124 913.337,219.836 933.909,222.282 954.481,224.487 975.053,226.475 995.625,228.264 1016.2,229.876 1036.77,231.327 1057.34,232.633 1077.91,233.809 1098.48,234.866 1119.06,235.817 1139.63,236.673 1160.2,237.443 1180.77,238.136 1201.34,238.758 1221.92,239.318 1242.49,239.822 1263.06,240.275 1283.63,240.683 1304.2,241.049 1324.78,241.378 1345.35,241.675 1365.92,241.941 1386.49,242.181 1407.06,242.396 1427.64,242.59 1448.21,242.764 1468.78,242.92 1489.35,243.061 1509.92,243.188 1530.5,243.301 1551.07,243.404 1571.64,243.496 1592.21,243.579 1612.78,243.653 1633.35,243.72 1653.93,243.78 1674.5,243.834 1695.07,243.882 1715.64,243.926 1736.21,243.965 1756.79,244.001 1777.36,244.032 1797.93,244.061 1818.5,244.086 1839.07,244.109 1859.65,244.13 1880.22,244.148 1900.79,244.165 1921.36,244.18 1941.93,244.193 1962.51,244.205 1983.08,244.216 2003.65,244.225 2024.22,244.234 2044.79,244.242 2065.37,244.249 2085.94,244.255 2106.51,244.26 2127.08,244.266 2147.65,244.27 2168.23,244.275 2188.8,244.279 2209.37,244.284 2229.94,244.288 2250.51,244.294 2271.09,244.3 2291.66,244.307 \"/>\n",
       "<polyline clip-path=\"url(#clip202)\" style=\"stroke:#3da44d; stroke-linecap:round; stroke-linejoin:round; stroke-width:4; stroke-opacity:1; fill:none\" points=\"255.035,1384.24 275.607,976.976 296.179,685.743 316.751,479.614 337.322,335.716 357.894,237.144 378.466,171.426 399.038,129.373 419.61,104.229 440.182,91.0402 460.754,86.1857 481.326,87.0288 501.898,91.6596 522.47,98.7029 543.042,107.177 563.614,116.389 584.186,125.856 604.758,135.248 625.33,144.348 645.902,153.017 666.474,161.173 687.046,168.776 707.617,175.813 728.189,182.289 748.761,188.223 769.333,193.64 789.905,198.573 810.477,203.053 831.049,207.116 851.621,210.794 872.193,214.12 892.765,217.124 913.337,219.836 933.909,222.282 954.481,224.487 975.053,226.475 995.625,228.264 1016.2,229.876 1036.77,231.327 1057.34,232.633 1077.91,233.809 1098.48,234.866 1119.06,235.817 1139.63,236.673 1160.2,237.443 1180.77,238.136 1201.34,238.758 1221.92,239.318 1242.49,239.822 1263.06,240.275 1283.63,240.683 1304.2,241.049 1324.78,241.378 1345.35,241.675 1365.92,241.941 1386.49,242.181 1407.06,242.396 1427.64,242.59 1448.21,242.764 1468.78,242.92 1489.35,243.061 1509.92,243.188 1530.5,243.301 1551.07,243.404 1571.64,243.496 1592.21,243.579 1612.78,243.653 1633.35,243.72 1653.93,243.78 1674.5,243.834 1695.07,243.882 1715.64,243.926 1736.21,243.965 1756.79,244.001 1777.36,244.032 1797.93,244.061 1818.5,244.086 1839.07,244.109 1859.65,244.13 1880.22,244.148 1900.79,244.165 1921.36,244.18 1941.93,244.193 1962.51,244.205 1983.08,244.216 2003.65,244.225 2024.22,244.234 2044.79,244.242 2065.37,244.249 2085.94,244.255 2106.51,244.26 2127.08,244.266 2147.65,244.27 2168.23,244.275 2188.8,244.279 2209.37,244.284 2229.94,244.288 2250.51,244.294 2271.09,244.3 2291.66,244.307 \"/>\n",
       "<path clip-path=\"url(#clip200)\" d=\"M1822.44 1377.32 L2280.8 1377.32 L2280.8 1169.96 L1822.44 1169.96  Z\" fill=\"#ffffff\" fill-rule=\"evenodd\" fill-opacity=\"1\"/>\n",
       "<polyline clip-path=\"url(#clip200)\" style=\"stroke:#000000; stroke-linecap:round; stroke-linejoin:round; stroke-width:4; stroke-opacity:1; fill:none\" points=\"1822.44,1377.32 2280.8,1377.32 2280.8,1169.96 1822.44,1169.96 1822.44,1377.32 \"/>\n",
       "<polyline clip-path=\"url(#clip200)\" style=\"stroke:#009af9; stroke-linecap:round; stroke-linejoin:round; stroke-width:4; stroke-opacity:1; fill:none\" points=\"1846.42,1221.8 1990.35,1221.8 \"/>\n",
       "<path clip-path=\"url(#clip200)\" d=\"M2019.01 1208.36 L2019.01 1235.23 L2024.66 1235.23 Q2031.81 1235.23 2035.12 1231.99 Q2038.45 1228.75 2038.45 1221.76 Q2038.45 1214.82 2035.12 1211.6 Q2031.81 1208.36 2024.66 1208.36 L2019.01 1208.36 M2014.33 1204.52 L2023.94 1204.52 Q2033.99 1204.52 2038.68 1208.71 Q2043.38 1212.87 2043.38 1221.76 Q2043.38 1230.7 2038.66 1234.89 Q2033.94 1239.08 2023.94 1239.08 L2014.33 1239.08 L2014.33 1204.52 Z\" fill=\"#000000\" fill-rule=\"nonzero\" fill-opacity=\"1\" /><path clip-path=\"url(#clip200)\" d=\"M2055.51 1208.36 L2055.51 1221.34 L2061.39 1221.34 Q2064.66 1221.34 2066.44 1219.65 Q2068.22 1217.96 2068.22 1214.84 Q2068.22 1211.74 2066.44 1210.05 Q2064.66 1208.36 2061.39 1208.36 L2055.51 1208.36 M2050.84 1204.52 L2061.39 1204.52 Q2067.2 1204.52 2070.17 1207.15 Q2073.15 1209.77 2073.15 1214.84 Q2073.15 1219.96 2070.17 1222.57 Q2067.2 1225.19 2061.39 1225.19 L2055.51 1225.19 L2055.51 1239.08 L2050.84 1239.08 L2050.84 1204.52 Z\" fill=\"#000000\" fill-rule=\"nonzero\" fill-opacity=\"1\" /><path clip-path=\"url(#clip200)\" d=\"M2112.97 1214.14 L2112.97 1218.13 Q2111.16 1217.13 2109.33 1216.64 Q2107.53 1216.14 2105.67 1216.14 Q2101.53 1216.14 2099.24 1218.77 Q2096.95 1221.39 2096.95 1226.14 Q2096.95 1230.88 2099.24 1233.52 Q2101.53 1236.14 2105.67 1236.14 Q2107.53 1236.14 2109.33 1235.65 Q2111.16 1235.14 2112.97 1234.14 L2112.97 1238.08 Q2111.18 1238.91 2109.26 1239.33 Q2107.36 1239.75 2105.21 1239.75 Q2099.36 1239.75 2095.91 1236.07 Q2092.46 1232.39 2092.46 1226.14 Q2092.46 1219.79 2095.93 1216.16 Q2099.42 1212.52 2105.49 1212.52 Q2107.46 1212.52 2109.33 1212.94 Q2111.21 1213.33 2112.97 1214.14 Z\" fill=\"#000000\" fill-rule=\"nonzero\" fill-opacity=\"1\" /><path clip-path=\"url(#clip200)\" d=\"M2130.42 1216.14 Q2126.99 1216.14 2125 1218.82 Q2123.01 1221.48 2123.01 1226.14 Q2123.01 1230.79 2124.98 1233.47 Q2126.97 1236.14 2130.42 1236.14 Q2133.82 1236.14 2135.81 1233.45 Q2137.8 1230.77 2137.8 1226.14 Q2137.8 1221.53 2135.81 1218.84 Q2133.82 1216.14 2130.42 1216.14 M2130.42 1212.52 Q2135.98 1212.52 2139.15 1216.14 Q2142.32 1219.75 2142.32 1226.14 Q2142.32 1232.5 2139.15 1236.14 Q2135.98 1239.75 2130.42 1239.75 Q2124.84 1239.75 2121.67 1236.14 Q2118.52 1232.5 2118.52 1226.14 Q2118.52 1219.75 2121.67 1216.14 Q2124.84 1212.52 2130.42 1212.52 Z\" fill=\"#000000\" fill-rule=\"nonzero\" fill-opacity=\"1\" /><path clip-path=\"url(#clip200)\" d=\"M2170.93 1223.43 L2170.93 1239.08 L2166.67 1239.08 L2166.67 1223.57 Q2166.67 1219.89 2165.23 1218.06 Q2163.8 1216.23 2160.93 1216.23 Q2157.48 1216.23 2155.49 1218.43 Q2153.5 1220.63 2153.5 1224.42 L2153.5 1239.08 L2149.22 1239.08 L2149.22 1213.15 L2153.5 1213.15 L2153.5 1217.18 Q2155.03 1214.84 2157.09 1213.68 Q2159.17 1212.52 2161.88 1212.52 Q2166.35 1212.52 2168.64 1215.3 Q2170.93 1218.06 2170.93 1223.43 Z\" fill=\"#000000\" fill-rule=\"nonzero\" fill-opacity=\"1\" /><path clip-path=\"url(#clip200)\" d=\"M2183.64 1205.79 L2183.64 1213.15 L2192.41 1213.15 L2192.41 1216.46 L2183.64 1216.46 L2183.64 1230.53 Q2183.64 1233.7 2184.49 1234.61 Q2185.37 1235.51 2188.04 1235.51 L2192.41 1235.51 L2192.41 1239.08 L2188.04 1239.08 Q2183.11 1239.08 2181.23 1237.25 Q2179.36 1235.39 2179.36 1230.53 L2179.36 1216.46 L2176.23 1216.46 L2176.23 1213.15 L2179.36 1213.15 L2179.36 1205.79 L2183.64 1205.79 Z\" fill=\"#000000\" fill-rule=\"nonzero\" fill-opacity=\"1\" /><path clip-path=\"url(#clip200)\" d=\"M2213.04 1217.13 Q2212.32 1216.71 2211.46 1216.53 Q2210.63 1216.32 2209.61 1216.32 Q2206 1216.32 2204.05 1218.68 Q2202.13 1221.02 2202.13 1225.42 L2202.13 1239.08 L2197.85 1239.08 L2197.85 1213.15 L2202.13 1213.15 L2202.13 1217.18 Q2203.48 1214.82 2205.63 1213.68 Q2207.78 1212.52 2210.86 1212.52 Q2211.3 1212.52 2211.83 1212.59 Q2212.36 1212.64 2213.01 1212.76 L2213.04 1217.13 Z\" fill=\"#000000\" fill-rule=\"nonzero\" fill-opacity=\"1\" /><path clip-path=\"url(#clip200)\" d=\"M2226.51 1216.14 Q2223.08 1216.14 2221.09 1218.82 Q2219.1 1221.48 2219.1 1226.14 Q2219.1 1230.79 2221.07 1233.47 Q2223.06 1236.14 2226.51 1236.14 Q2229.91 1236.14 2231.9 1233.45 Q2233.89 1230.77 2233.89 1226.14 Q2233.89 1221.53 2231.9 1218.84 Q2229.91 1216.14 2226.51 1216.14 M2226.51 1212.52 Q2232.06 1212.52 2235.23 1216.14 Q2238.41 1219.75 2238.41 1226.14 Q2238.41 1232.5 2235.23 1236.14 Q2232.06 1239.75 2226.51 1239.75 Q2220.93 1239.75 2217.76 1236.14 Q2214.61 1232.5 2214.61 1226.14 Q2214.61 1219.75 2217.76 1216.14 Q2220.93 1212.52 2226.51 1212.52 Z\" fill=\"#000000\" fill-rule=\"nonzero\" fill-opacity=\"1\" /><path clip-path=\"url(#clip200)\" d=\"M2245.47 1203.06 L2249.73 1203.06 L2249.73 1239.08 L2245.47 1239.08 L2245.47 1203.06 Z\" fill=\"#000000\" fill-rule=\"nonzero\" fill-opacity=\"1\" /><polyline clip-path=\"url(#clip200)\" style=\"stroke:#e26f46; stroke-linecap:round; stroke-linejoin:round; stroke-width:4; stroke-opacity:1; fill:none\" points=\"1846.42,1273.64 1990.35,1273.64 \"/>\n",
       "<path clip-path=\"url(#clip200)\" d=\"M2030.72 1274.71 Q2032.23 1275.22 2033.64 1276.89 Q2035.07 1278.55 2036.51 1281.47 L2041.25 1290.92 L2036.23 1290.92 L2031.81 1282.05 Q2030.1 1278.58 2028.48 1277.44 Q2026.88 1276.31 2024.1 1276.31 L2019.01 1276.31 L2019.01 1290.92 L2014.33 1290.92 L2014.33 1256.36 L2024.89 1256.36 Q2030.81 1256.36 2033.73 1258.83 Q2036.65 1261.31 2036.65 1266.31 Q2036.65 1269.57 2035.12 1271.73 Q2033.62 1273.88 2030.72 1274.71 M2019.01 1260.2 L2019.01 1272.47 L2024.89 1272.47 Q2028.27 1272.47 2029.98 1270.92 Q2031.72 1269.34 2031.72 1266.31 Q2031.72 1263.28 2029.98 1261.75 Q2028.27 1260.2 2024.89 1260.2 L2019.01 1260.2 Z\" fill=\"#000000\" fill-rule=\"nonzero\" fill-opacity=\"1\" /><path clip-path=\"url(#clip200)\" d=\"M2047.09 1264.99 L2051.35 1264.99 L2051.35 1290.92 L2047.09 1290.92 L2047.09 1264.99 M2047.09 1254.9 L2051.35 1254.9 L2051.35 1260.29 L2047.09 1260.29 L2047.09 1254.9 Z\" fill=\"#000000\" fill-rule=\"nonzero\" fill-opacity=\"1\" /><path clip-path=\"url(#clip200)\" d=\"M2078.92 1265.98 L2078.92 1269.97 Q2077.11 1268.97 2075.28 1268.48 Q2073.48 1267.98 2071.62 1267.98 Q2067.48 1267.98 2065.19 1270.61 Q2062.9 1273.23 2062.9 1277.98 Q2062.9 1282.72 2065.19 1285.36 Q2067.48 1287.98 2071.62 1287.98 Q2073.48 1287.98 2075.28 1287.49 Q2077.11 1286.98 2078.92 1285.98 L2078.92 1289.92 Q2077.13 1290.75 2075.21 1291.17 Q2073.31 1291.59 2071.16 1291.59 Q2065.3 1291.59 2061.86 1287.91 Q2058.41 1284.23 2058.41 1277.98 Q2058.41 1271.63 2061.88 1268 Q2065.37 1264.36 2071.44 1264.36 Q2073.41 1264.36 2075.28 1264.78 Q2077.16 1265.17 2078.92 1265.98 Z\" fill=\"#000000\" fill-rule=\"nonzero\" fill-opacity=\"1\" /><path clip-path=\"url(#clip200)\" d=\"M2120.05 1265.98 L2120.05 1269.97 Q2118.24 1268.97 2116.42 1268.48 Q2114.61 1267.98 2112.76 1267.98 Q2108.61 1267.98 2106.32 1270.61 Q2104.03 1273.23 2104.03 1277.98 Q2104.03 1282.72 2106.32 1285.36 Q2108.61 1287.98 2112.76 1287.98 Q2114.61 1287.98 2116.42 1287.49 Q2118.24 1286.98 2120.05 1285.98 L2120.05 1289.92 Q2118.27 1290.75 2116.35 1291.17 Q2114.45 1291.59 2112.3 1291.59 Q2106.44 1291.59 2102.99 1287.91 Q2099.54 1284.23 2099.54 1277.98 Q2099.54 1271.63 2103.01 1268 Q2106.51 1264.36 2112.57 1264.36 Q2114.54 1264.36 2116.42 1264.78 Q2118.29 1265.17 2120.05 1265.98 Z\" fill=\"#000000\" fill-rule=\"nonzero\" fill-opacity=\"1\" /><path clip-path=\"url(#clip200)\" d=\"M2137.5 1267.98 Q2134.08 1267.98 2132.09 1270.66 Q2130.1 1273.32 2130.1 1277.98 Q2130.1 1282.63 2132.06 1285.31 Q2134.05 1287.98 2137.5 1287.98 Q2140.91 1287.98 2142.9 1285.29 Q2144.89 1282.61 2144.89 1277.98 Q2144.89 1273.37 2142.9 1270.68 Q2140.91 1267.98 2137.5 1267.98 M2137.5 1264.36 Q2143.06 1264.36 2146.23 1267.98 Q2149.4 1271.59 2149.4 1277.98 Q2149.4 1284.34 2146.23 1287.98 Q2143.06 1291.59 2137.5 1291.59 Q2131.92 1291.59 2128.75 1287.98 Q2125.61 1284.34 2125.61 1277.98 Q2125.61 1271.59 2128.75 1267.98 Q2131.92 1264.36 2137.5 1264.36 Z\" fill=\"#000000\" fill-rule=\"nonzero\" fill-opacity=\"1\" /><path clip-path=\"url(#clip200)\" d=\"M2178.01 1275.27 L2178.01 1290.92 L2173.75 1290.92 L2173.75 1275.41 Q2173.75 1271.73 2172.32 1269.9 Q2170.88 1268.07 2168.01 1268.07 Q2164.56 1268.07 2162.57 1270.27 Q2160.58 1272.47 2160.58 1276.26 L2160.58 1290.92 L2156.3 1290.92 L2156.3 1264.99 L2160.58 1264.99 L2160.58 1269.02 Q2162.11 1266.68 2164.17 1265.52 Q2166.25 1264.36 2168.96 1264.36 Q2173.43 1264.36 2175.72 1267.14 Q2178.01 1269.9 2178.01 1275.27 Z\" fill=\"#000000\" fill-rule=\"nonzero\" fill-opacity=\"1\" /><path clip-path=\"url(#clip200)\" d=\"M2190.72 1257.63 L2190.72 1264.99 L2199.49 1264.99 L2199.49 1268.3 L2190.72 1268.3 L2190.72 1282.37 Q2190.72 1285.54 2191.58 1286.45 Q2192.46 1287.35 2195.12 1287.35 L2199.49 1287.35 L2199.49 1290.92 L2195.12 1290.92 Q2190.19 1290.92 2188.31 1289.09 Q2186.44 1287.23 2186.44 1282.37 L2186.44 1268.3 L2183.31 1268.3 L2183.31 1264.99 L2186.44 1264.99 L2186.44 1257.63 L2190.72 1257.63 Z\" fill=\"#000000\" fill-rule=\"nonzero\" fill-opacity=\"1\" /><path clip-path=\"url(#clip200)\" d=\"M2220.12 1268.97 Q2219.4 1268.55 2218.54 1268.37 Q2217.71 1268.16 2216.69 1268.16 Q2213.08 1268.16 2211.14 1270.52 Q2209.22 1272.86 2209.22 1277.26 L2209.22 1290.92 L2204.93 1290.92 L2204.93 1264.99 L2209.22 1264.99 L2209.22 1269.02 Q2210.56 1266.66 2212.71 1265.52 Q2214.86 1264.36 2217.94 1264.36 Q2218.38 1264.36 2218.92 1264.43 Q2219.45 1264.48 2220.1 1264.6 L2220.12 1268.97 Z\" fill=\"#000000\" fill-rule=\"nonzero\" fill-opacity=\"1\" /><path clip-path=\"url(#clip200)\" d=\"M2233.59 1267.98 Q2230.16 1267.98 2228.17 1270.66 Q2226.18 1273.32 2226.18 1277.98 Q2226.18 1282.63 2228.15 1285.31 Q2230.14 1287.98 2233.59 1287.98 Q2236.99 1287.98 2238.98 1285.29 Q2240.98 1282.61 2240.98 1277.98 Q2240.98 1273.37 2238.98 1270.68 Q2236.99 1267.98 2233.59 1267.98 M2233.59 1264.36 Q2239.15 1264.36 2242.32 1267.98 Q2245.49 1271.59 2245.49 1277.98 Q2245.49 1284.34 2242.32 1287.98 Q2239.15 1291.59 2233.59 1291.59 Q2228.01 1291.59 2224.84 1287.98 Q2221.69 1284.34 2221.69 1277.98 Q2221.69 1271.59 2224.84 1267.98 Q2228.01 1264.36 2233.59 1264.36 Z\" fill=\"#000000\" fill-rule=\"nonzero\" fill-opacity=\"1\" /><path clip-path=\"url(#clip200)\" d=\"M2252.55 1254.9 L2256.81 1254.9 L2256.81 1290.92 L2252.55 1290.92 L2252.55 1254.9 Z\" fill=\"#000000\" fill-rule=\"nonzero\" fill-opacity=\"1\" /><polyline clip-path=\"url(#clip200)\" style=\"stroke:#3da44d; stroke-linecap:round; stroke-linejoin:round; stroke-width:4; stroke-opacity:1; fill:none\" points=\"1846.42,1325.48 1990.35,1325.48 \"/>\n",
       "<path clip-path=\"url(#clip200)\" d=\"M2030.35 1311.37 Q2025.26 1311.37 2022.25 1315.16 Q2019.26 1318.96 2019.26 1325.51 Q2019.26 1332.04 2022.25 1335.83 Q2025.26 1339.63 2030.35 1339.63 Q2035.44 1339.63 2038.41 1335.83 Q2041.39 1332.04 2041.39 1325.51 Q2041.39 1318.96 2038.41 1315.16 Q2035.44 1311.37 2030.35 1311.37 M2036.9 1342.13 L2043.06 1348.87 L2037.41 1348.87 L2032.3 1343.33 Q2031.53 1343.38 2031.12 1343.4 Q2030.72 1343.43 2030.35 1343.43 Q2023.06 1343.43 2018.68 1338.57 Q2014.33 1333.68 2014.33 1325.51 Q2014.33 1317.32 2018.68 1312.45 Q2023.06 1307.57 2030.35 1307.57 Q2037.62 1307.57 2041.97 1312.45 Q2046.32 1317.32 2046.32 1325.51 Q2046.32 1331.53 2043.89 1335.81 Q2041.49 1340.09 2036.9 1342.13 Z\" fill=\"#000000\" fill-rule=\"nonzero\" fill-opacity=\"1\" /><path clip-path=\"url(#clip200)\" d=\"M2058.31 1312.04 L2058.31 1325.02 L2064.19 1325.02 Q2067.46 1325.02 2069.24 1323.33 Q2071.02 1321.64 2071.02 1318.52 Q2071.02 1315.42 2069.24 1313.73 Q2067.46 1312.04 2064.19 1312.04 L2058.31 1312.04 M2053.64 1308.2 L2064.19 1308.2 Q2070 1308.2 2072.97 1310.83 Q2075.95 1313.45 2075.95 1318.52 Q2075.95 1323.64 2072.97 1326.25 Q2070 1328.87 2064.19 1328.87 L2058.31 1328.87 L2058.31 1342.76 L2053.64 1342.76 L2053.64 1308.2 Z\" fill=\"#000000\" fill-rule=\"nonzero\" fill-opacity=\"1\" /><path clip-path=\"url(#clip200)\" d=\"M2115.77 1317.82 L2115.77 1321.81 Q2113.96 1320.81 2112.13 1320.32 Q2110.33 1319.82 2108.48 1319.82 Q2104.33 1319.82 2102.04 1322.45 Q2099.75 1325.07 2099.75 1329.82 Q2099.75 1334.56 2102.04 1337.2 Q2104.33 1339.82 2108.48 1339.82 Q2110.33 1339.82 2112.13 1339.33 Q2113.96 1338.82 2115.77 1337.82 L2115.77 1341.76 Q2113.99 1342.59 2112.06 1343.01 Q2110.17 1343.43 2108.01 1343.43 Q2102.16 1343.43 2098.71 1339.75 Q2095.26 1336.07 2095.26 1329.82 Q2095.26 1323.47 2098.73 1319.84 Q2102.23 1316.2 2108.29 1316.2 Q2110.26 1316.2 2112.13 1316.62 Q2114.01 1317.01 2115.77 1317.82 Z\" fill=\"#000000\" fill-rule=\"nonzero\" fill-opacity=\"1\" /><path clip-path=\"url(#clip200)\" d=\"M2133.22 1319.82 Q2129.8 1319.82 2127.8 1322.5 Q2125.81 1325.16 2125.81 1329.82 Q2125.81 1334.47 2127.78 1337.15 Q2129.77 1339.82 2133.22 1339.82 Q2136.62 1339.82 2138.61 1337.13 Q2140.61 1334.45 2140.61 1329.82 Q2140.61 1325.21 2138.61 1322.52 Q2136.62 1319.82 2133.22 1319.82 M2133.22 1316.2 Q2138.78 1316.2 2141.95 1319.82 Q2145.12 1323.43 2145.12 1329.82 Q2145.12 1336.18 2141.95 1339.82 Q2138.78 1343.43 2133.22 1343.43 Q2127.64 1343.43 2124.47 1339.82 Q2121.32 1336.18 2121.32 1329.82 Q2121.32 1323.43 2124.47 1319.82 Q2127.64 1316.2 2133.22 1316.2 Z\" fill=\"#000000\" fill-rule=\"nonzero\" fill-opacity=\"1\" /><path clip-path=\"url(#clip200)\" d=\"M2173.73 1327.11 L2173.73 1342.76 L2169.47 1342.76 L2169.47 1327.25 Q2169.47 1323.57 2168.04 1321.74 Q2166.6 1319.91 2163.73 1319.91 Q2160.28 1319.91 2158.29 1322.11 Q2156.3 1324.31 2156.3 1328.1 L2156.3 1342.76 L2152.02 1342.76 L2152.02 1316.83 L2156.3 1316.83 L2156.3 1320.86 Q2157.83 1318.52 2159.89 1317.36 Q2161.97 1316.2 2164.68 1316.2 Q2169.15 1316.2 2171.44 1318.98 Q2173.73 1321.74 2173.73 1327.11 Z\" fill=\"#000000\" fill-rule=\"nonzero\" fill-opacity=\"1\" /><path clip-path=\"url(#clip200)\" d=\"M2186.44 1309.47 L2186.44 1316.83 L2195.21 1316.83 L2195.21 1320.14 L2186.44 1320.14 L2186.44 1334.21 Q2186.44 1337.38 2187.29 1338.29 Q2188.17 1339.19 2190.84 1339.19 L2195.21 1339.19 L2195.21 1342.76 L2190.84 1342.76 Q2185.91 1342.76 2184.03 1340.93 Q2182.16 1339.07 2182.16 1334.21 L2182.16 1320.14 L2179.03 1320.14 L2179.03 1316.83 L2182.16 1316.83 L2182.16 1309.47 L2186.44 1309.47 Z\" fill=\"#000000\" fill-rule=\"nonzero\" fill-opacity=\"1\" /><path clip-path=\"url(#clip200)\" d=\"M2215.84 1320.81 Q2215.12 1320.39 2214.26 1320.21 Q2213.43 1320 2212.41 1320 Q2208.8 1320 2206.85 1322.36 Q2204.93 1324.7 2204.93 1329.1 L2204.93 1342.76 L2200.65 1342.76 L2200.65 1316.83 L2204.93 1316.83 L2204.93 1320.86 Q2206.28 1318.5 2208.43 1317.36 Q2210.58 1316.2 2213.66 1316.2 Q2214.1 1316.2 2214.63 1316.27 Q2215.17 1316.32 2215.81 1316.44 L2215.84 1320.81 Z\" fill=\"#000000\" fill-rule=\"nonzero\" fill-opacity=\"1\" /><path clip-path=\"url(#clip200)\" d=\"M2229.31 1319.82 Q2225.88 1319.82 2223.89 1322.5 Q2221.9 1325.16 2221.9 1329.82 Q2221.9 1334.47 2223.87 1337.15 Q2225.86 1339.82 2229.31 1339.82 Q2232.71 1339.82 2234.7 1337.13 Q2236.69 1334.45 2236.69 1329.82 Q2236.69 1325.21 2234.7 1322.52 Q2232.71 1319.82 2229.31 1319.82 M2229.31 1316.2 Q2234.86 1316.2 2238.04 1319.82 Q2241.21 1323.43 2241.21 1329.82 Q2241.21 1336.18 2238.04 1339.82 Q2234.86 1343.43 2229.31 1343.43 Q2223.73 1343.43 2220.56 1339.82 Q2217.41 1336.18 2217.41 1329.82 Q2217.41 1323.43 2220.56 1319.82 Q2223.73 1316.2 2229.31 1316.2 Z\" fill=\"#000000\" fill-rule=\"nonzero\" fill-opacity=\"1\" /><path clip-path=\"url(#clip200)\" d=\"M2248.27 1306.74 L2252.53 1306.74 L2252.53 1342.76 L2248.27 1342.76 L2248.27 1306.74 Z\" fill=\"#000000\" fill-rule=\"nonzero\" fill-opacity=\"1\" /></svg>\n"
      ]
     },
     "execution_count": 15,
     "metadata": {},
     "output_type": "execute_result"
    }
   ],
   "source": [
    "plot(times[1:end-1], uhist_dp[1,:], label=\"DP control\")\n",
    "plot!(times[1:end-1], uhist_ric[1,:], label=\"Ric control\")\n",
    "plot!(times[1:end-1], uhist_qp, label=\"QP control\")\n",
    "xlabel!(\"Time\")"
   ]
  },
  {
   "cell_type": "code",
   "execution_count": 16,
   "id": "f3616d66-ce12-4a62-8616-5c39b6e62858",
   "metadata": {},
   "outputs": [
    {
     "data": {
      "image/svg+xml": [
       "<?xml version=\"1.0\" encoding=\"utf-8\"?>\n",
       "<svg xmlns=\"http://www.w3.org/2000/svg\" xmlns:xlink=\"http://www.w3.org/1999/xlink\" width=\"600\" height=\"400\" viewBox=\"0 0 2400 1600\">\n",
       "<defs>\n",
       "  <clipPath id=\"clip240\">\n",
       "    <rect x=\"0\" y=\"0\" width=\"2400\" height=\"1600\"/>\n",
       "  </clipPath>\n",
       "</defs>\n",
       "<path clip-path=\"url(#clip240)\" d=\"M0 1600 L2400 1600 L2400 0 L0 0  Z\" fill=\"#ffffff\" fill-rule=\"evenodd\" fill-opacity=\"1\"/>\n",
       "<defs>\n",
       "  <clipPath id=\"clip241\">\n",
       "    <rect x=\"480\" y=\"0\" width=\"1681\" height=\"1600\"/>\n",
       "  </clipPath>\n",
       "</defs>\n",
       "<path clip-path=\"url(#clip240)\" d=\"M110.881 1486.45 L2352.76 1486.45 L2352.76 47.2441 L110.881 47.2441  Z\" fill=\"#ffffff\" fill-rule=\"evenodd\" fill-opacity=\"1\"/>\n",
       "<defs>\n",
       "  <clipPath id=\"clip242\">\n",
       "    <rect x=\"110\" y=\"47\" width=\"2243\" height=\"1440\"/>\n",
       "  </clipPath>\n",
       "</defs>\n",
       "<polyline clip-path=\"url(#clip242)\" style=\"stroke:#000000; stroke-linecap:round; stroke-linejoin:round; stroke-width:2; stroke-opacity:0.1; fill:none\" points=\"152.967,1486.45 152.967,47.2441 \"/>\n",
       "<polyline clip-path=\"url(#clip242)\" style=\"stroke:#000000; stroke-linecap:round; stroke-linejoin:round; stroke-width:2; stroke-opacity:0.1; fill:none\" points=\"687.052,1486.45 687.052,47.2441 \"/>\n",
       "<polyline clip-path=\"url(#clip242)\" style=\"stroke:#000000; stroke-linecap:round; stroke-linejoin:round; stroke-width:2; stroke-opacity:0.1; fill:none\" points=\"1221.14,1486.45 1221.14,47.2441 \"/>\n",
       "<polyline clip-path=\"url(#clip242)\" style=\"stroke:#000000; stroke-linecap:round; stroke-linejoin:round; stroke-width:2; stroke-opacity:0.1; fill:none\" points=\"1755.22,1486.45 1755.22,47.2441 \"/>\n",
       "<polyline clip-path=\"url(#clip242)\" style=\"stroke:#000000; stroke-linecap:round; stroke-linejoin:round; stroke-width:2; stroke-opacity:0.1; fill:none\" points=\"2289.31,1486.45 2289.31,47.2441 \"/>\n",
       "<polyline clip-path=\"url(#clip240)\" style=\"stroke:#000000; stroke-linecap:round; stroke-linejoin:round; stroke-width:4; stroke-opacity:1; fill:none\" points=\"110.881,1486.45 2352.76,1486.45 \"/>\n",
       "<polyline clip-path=\"url(#clip240)\" style=\"stroke:#000000; stroke-linecap:round; stroke-linejoin:round; stroke-width:4; stroke-opacity:1; fill:none\" points=\"152.967,1486.45 152.967,1467.55 \"/>\n",
       "<polyline clip-path=\"url(#clip240)\" style=\"stroke:#000000; stroke-linecap:round; stroke-linejoin:round; stroke-width:4; stroke-opacity:1; fill:none\" points=\"687.052,1486.45 687.052,1467.55 \"/>\n",
       "<polyline clip-path=\"url(#clip240)\" style=\"stroke:#000000; stroke-linecap:round; stroke-linejoin:round; stroke-width:4; stroke-opacity:1; fill:none\" points=\"1221.14,1486.45 1221.14,1467.55 \"/>\n",
       "<polyline clip-path=\"url(#clip240)\" style=\"stroke:#000000; stroke-linecap:round; stroke-linejoin:round; stroke-width:4; stroke-opacity:1; fill:none\" points=\"1755.22,1486.45 1755.22,1467.55 \"/>\n",
       "<polyline clip-path=\"url(#clip240)\" style=\"stroke:#000000; stroke-linecap:round; stroke-linejoin:round; stroke-width:4; stroke-opacity:1; fill:none\" points=\"2289.31,1486.45 2289.31,1467.55 \"/>\n",
       "<path clip-path=\"url(#clip240)\" d=\"M152.967 1517.37 Q149.356 1517.37 147.527 1520.93 Q145.721 1524.47 145.721 1531.6 Q145.721 1538.71 147.527 1542.27 Q149.356 1545.82 152.967 1545.82 Q156.601 1545.82 158.407 1542.27 Q160.235 1538.71 160.235 1531.6 Q160.235 1524.47 158.407 1520.93 Q156.601 1517.37 152.967 1517.37 M152.967 1513.66 Q158.777 1513.66 161.832 1518.27 Q164.911 1522.85 164.911 1531.6 Q164.911 1540.33 161.832 1544.94 Q158.777 1549.52 152.967 1549.52 Q147.157 1549.52 144.078 1544.94 Q141.022 1540.33 141.022 1531.6 Q141.022 1522.85 144.078 1518.27 Q147.157 1513.66 152.967 1513.66 Z\" fill=\"#000000\" fill-rule=\"nonzero\" fill-opacity=\"1\" /><path clip-path=\"url(#clip240)\" d=\"M666.323 1544.91 L682.642 1544.91 L682.642 1548.85 L660.698 1548.85 L660.698 1544.91 Q663.36 1542.16 667.943 1537.53 Q672.55 1532.88 673.73 1531.53 Q675.975 1529.01 676.855 1527.27 Q677.758 1525.51 677.758 1523.82 Q677.758 1521.07 675.813 1519.33 Q673.892 1517.6 670.79 1517.6 Q668.591 1517.6 666.137 1518.36 Q663.707 1519.13 660.929 1520.68 L660.929 1515.95 Q663.753 1514.82 666.207 1514.24 Q668.661 1513.66 670.698 1513.66 Q676.068 1513.66 679.262 1516.35 Q682.457 1519.03 682.457 1523.52 Q682.457 1525.65 681.647 1527.57 Q680.86 1529.47 678.753 1532.07 Q678.174 1532.74 675.073 1535.95 Q671.971 1539.15 666.323 1544.91 Z\" fill=\"#000000\" fill-rule=\"nonzero\" fill-opacity=\"1\" /><path clip-path=\"url(#clip240)\" d=\"M692.503 1514.29 L710.859 1514.29 L710.859 1518.22 L696.785 1518.22 L696.785 1526.7 Q697.804 1526.35 698.823 1526.19 Q699.841 1526 700.86 1526 Q706.647 1526 710.026 1529.17 Q713.406 1532.34 713.406 1537.76 Q713.406 1543.34 709.934 1546.44 Q706.461 1549.52 700.142 1549.52 Q697.966 1549.52 695.698 1549.15 Q693.452 1548.78 691.045 1548.04 L691.045 1543.34 Q693.128 1544.47 695.35 1545.03 Q697.573 1545.58 700.049 1545.58 Q704.054 1545.58 706.392 1543.48 Q708.73 1541.37 708.73 1537.76 Q708.73 1534.15 706.392 1532.04 Q704.054 1529.94 700.049 1529.94 Q698.174 1529.94 696.299 1530.35 Q694.448 1530.77 692.503 1531.65 L692.503 1514.29 Z\" fill=\"#000000\" fill-rule=\"nonzero\" fill-opacity=\"1\" /><path clip-path=\"url(#clip240)\" d=\"M1195.84 1514.29 L1214.19 1514.29 L1214.19 1518.22 L1200.12 1518.22 L1200.12 1526.7 Q1201.14 1526.35 1202.16 1526.19 Q1203.17 1526 1204.19 1526 Q1209.98 1526 1213.36 1529.17 Q1216.74 1532.34 1216.74 1537.76 Q1216.74 1543.34 1213.27 1546.44 Q1209.79 1549.52 1203.47 1549.52 Q1201.3 1549.52 1199.03 1549.15 Q1196.78 1548.78 1194.38 1548.04 L1194.38 1543.34 Q1196.46 1544.47 1198.68 1545.03 Q1200.91 1545.58 1203.38 1545.58 Q1207.39 1545.58 1209.72 1543.48 Q1212.06 1541.37 1212.06 1537.76 Q1212.06 1534.15 1209.72 1532.04 Q1207.39 1529.94 1203.38 1529.94 Q1201.51 1529.94 1199.63 1530.35 Q1197.78 1530.77 1195.84 1531.65 L1195.84 1514.29 Z\" fill=\"#000000\" fill-rule=\"nonzero\" fill-opacity=\"1\" /><path clip-path=\"url(#clip240)\" d=\"M1235.95 1517.37 Q1232.34 1517.37 1230.51 1520.93 Q1228.71 1524.47 1228.71 1531.6 Q1228.71 1538.71 1230.51 1542.27 Q1232.34 1545.82 1235.95 1545.82 Q1239.59 1545.82 1241.39 1542.27 Q1243.22 1538.71 1243.22 1531.6 Q1243.22 1524.47 1241.39 1520.93 Q1239.59 1517.37 1235.95 1517.37 M1235.95 1513.66 Q1241.76 1513.66 1244.82 1518.27 Q1247.9 1522.85 1247.9 1531.6 Q1247.9 1540.33 1244.82 1544.94 Q1241.76 1549.52 1235.95 1549.52 Q1230.14 1549.52 1227.06 1544.94 Q1224.01 1540.33 1224.01 1531.6 Q1224.01 1522.85 1227.06 1518.27 Q1230.14 1513.66 1235.95 1513.66 Z\" fill=\"#000000\" fill-rule=\"nonzero\" fill-opacity=\"1\" /><path clip-path=\"url(#clip240)\" d=\"M1729.08 1514.29 L1751.3 1514.29 L1751.3 1516.28 L1738.75 1548.85 L1733.87 1548.85 L1745.67 1518.22 L1729.08 1518.22 L1729.08 1514.29 Z\" fill=\"#000000\" fill-rule=\"nonzero\" fill-opacity=\"1\" /><path clip-path=\"url(#clip240)\" d=\"M1760.46 1514.29 L1778.82 1514.29 L1778.82 1518.22 L1764.75 1518.22 L1764.75 1526.7 Q1765.77 1526.35 1766.78 1526.19 Q1767.8 1526 1768.82 1526 Q1774.61 1526 1777.99 1529.17 Q1781.37 1532.34 1781.37 1537.76 Q1781.37 1543.34 1777.9 1546.44 Q1774.42 1549.52 1768.1 1549.52 Q1765.93 1549.52 1763.66 1549.15 Q1761.41 1548.78 1759.01 1548.04 L1759.01 1543.34 Q1761.09 1544.47 1763.31 1545.03 Q1765.53 1545.58 1768.01 1545.58 Q1772.02 1545.58 1774.35 1543.48 Q1776.69 1541.37 1776.69 1537.76 Q1776.69 1534.15 1774.35 1532.04 Q1772.02 1529.94 1768.01 1529.94 Q1766.14 1529.94 1764.26 1530.35 Q1762.41 1530.77 1760.46 1531.65 L1760.46 1514.29 Z\" fill=\"#000000\" fill-rule=\"nonzero\" fill-opacity=\"1\" /><path clip-path=\"url(#clip240)\" d=\"M2248.91 1544.91 L2256.55 1544.91 L2256.55 1518.55 L2248.24 1520.21 L2248.24 1515.95 L2256.51 1514.29 L2261.18 1514.29 L2261.18 1544.91 L2268.82 1544.91 L2268.82 1548.85 L2248.91 1548.85 L2248.91 1544.91 Z\" fill=\"#000000\" fill-rule=\"nonzero\" fill-opacity=\"1\" /><path clip-path=\"url(#clip240)\" d=\"M2288.26 1517.37 Q2284.65 1517.37 2282.83 1520.93 Q2281.02 1524.47 2281.02 1531.6 Q2281.02 1538.71 2282.83 1542.27 Q2284.65 1545.82 2288.26 1545.82 Q2291.9 1545.82 2293.7 1542.27 Q2295.53 1538.71 2295.53 1531.6 Q2295.53 1524.47 2293.7 1520.93 Q2291.9 1517.37 2288.26 1517.37 M2288.26 1513.66 Q2294.08 1513.66 2297.13 1518.27 Q2300.21 1522.85 2300.21 1531.6 Q2300.21 1540.33 2297.13 1544.94 Q2294.08 1549.52 2288.26 1549.52 Q2282.45 1549.52 2279.38 1544.94 Q2276.32 1540.33 2276.32 1531.6 Q2276.32 1522.85 2279.38 1518.27 Q2282.45 1513.66 2288.26 1513.66 Z\" fill=\"#000000\" fill-rule=\"nonzero\" fill-opacity=\"1\" /><path clip-path=\"url(#clip240)\" d=\"M2318.43 1517.37 Q2314.82 1517.37 2312.99 1520.93 Q2311.18 1524.47 2311.18 1531.6 Q2311.18 1538.71 2312.99 1542.27 Q2314.82 1545.82 2318.43 1545.82 Q2322.06 1545.82 2323.87 1542.27 Q2325.7 1538.71 2325.7 1531.6 Q2325.7 1524.47 2323.87 1520.93 Q2322.06 1517.37 2318.43 1517.37 M2318.43 1513.66 Q2324.24 1513.66 2327.29 1518.27 Q2330.37 1522.85 2330.37 1531.6 Q2330.37 1540.33 2327.29 1544.94 Q2324.24 1549.52 2318.43 1549.52 Q2312.62 1549.52 2309.54 1544.94 Q2306.48 1540.33 2306.48 1531.6 Q2306.48 1522.85 2309.54 1518.27 Q2312.62 1513.66 2318.43 1513.66 Z\" fill=\"#000000\" fill-rule=\"nonzero\" fill-opacity=\"1\" /><polyline clip-path=\"url(#clip242)\" style=\"stroke:#000000; stroke-linecap:round; stroke-linejoin:round; stroke-width:2; stroke-opacity:0.1; fill:none\" points=\"110.881,1463.87 2352.76,1463.87 \"/>\n",
       "<polyline clip-path=\"url(#clip242)\" style=\"stroke:#000000; stroke-linecap:round; stroke-linejoin:round; stroke-width:2; stroke-opacity:0.1; fill:none\" points=\"110.881,1064.3 2352.76,1064.3 \"/>\n",
       "<polyline clip-path=\"url(#clip242)\" style=\"stroke:#000000; stroke-linecap:round; stroke-linejoin:round; stroke-width:2; stroke-opacity:0.1; fill:none\" points=\"110.881,664.732 2352.76,664.732 \"/>\n",
       "<polyline clip-path=\"url(#clip242)\" style=\"stroke:#000000; stroke-linecap:round; stroke-linejoin:round; stroke-width:2; stroke-opacity:0.1; fill:none\" points=\"110.881,265.16 2352.76,265.16 \"/>\n",
       "<polyline clip-path=\"url(#clip240)\" style=\"stroke:#000000; stroke-linecap:round; stroke-linejoin:round; stroke-width:4; stroke-opacity:1; fill:none\" points=\"110.881,1486.45 110.881,47.2441 \"/>\n",
       "<polyline clip-path=\"url(#clip240)\" style=\"stroke:#000000; stroke-linecap:round; stroke-linejoin:round; stroke-width:4; stroke-opacity:1; fill:none\" points=\"110.881,1463.87 129.779,1463.87 \"/>\n",
       "<polyline clip-path=\"url(#clip240)\" style=\"stroke:#000000; stroke-linecap:round; stroke-linejoin:round; stroke-width:4; stroke-opacity:1; fill:none\" points=\"110.881,1064.3 129.779,1064.3 \"/>\n",
       "<polyline clip-path=\"url(#clip240)\" style=\"stroke:#000000; stroke-linecap:round; stroke-linejoin:round; stroke-width:4; stroke-opacity:1; fill:none\" points=\"110.881,664.732 129.779,664.732 \"/>\n",
       "<polyline clip-path=\"url(#clip240)\" style=\"stroke:#000000; stroke-linecap:round; stroke-linejoin:round; stroke-width:4; stroke-opacity:1; fill:none\" points=\"110.881,265.16 129.779,265.16 \"/>\n",
       "<path clip-path=\"url(#clip240)\" d=\"M62.9365 1449.67 Q59.3254 1449.67 57.4967 1453.24 Q55.6912 1456.78 55.6912 1463.91 Q55.6912 1471.02 57.4967 1474.58 Q59.3254 1478.12 62.9365 1478.12 Q66.5707 1478.12 68.3763 1474.58 Q70.205 1471.02 70.205 1463.91 Q70.205 1456.78 68.3763 1453.24 Q66.5707 1449.67 62.9365 1449.67 M62.9365 1445.97 Q68.7467 1445.97 71.8022 1450.58 Q74.8809 1455.16 74.8809 1463.91 Q74.8809 1472.64 71.8022 1477.24 Q68.7467 1481.83 62.9365 1481.83 Q57.1264 1481.83 54.0477 1477.24 Q50.9921 1472.64 50.9921 1463.91 Q50.9921 1455.16 54.0477 1450.58 Q57.1264 1445.97 62.9365 1445.97 Z\" fill=\"#000000\" fill-rule=\"nonzero\" fill-opacity=\"1\" /><path clip-path=\"url(#clip240)\" d=\"M54.9736 1077.65 L62.6124 1077.65 L62.6124 1051.28 L54.3023 1052.95 L54.3023 1048.69 L62.5661 1047.02 L67.242 1047.02 L67.242 1077.65 L74.8809 1077.65 L74.8809 1081.58 L54.9736 1081.58 L54.9736 1077.65 Z\" fill=\"#000000\" fill-rule=\"nonzero\" fill-opacity=\"1\" /><path clip-path=\"url(#clip240)\" d=\"M58.5615 678.076 L74.8809 678.076 L74.8809 682.012 L52.9366 682.012 L52.9366 678.076 Q55.5986 675.322 60.1819 670.692 Q64.7883 666.039 65.9689 664.697 Q68.2143 662.174 69.0939 660.438 Q69.9967 658.678 69.9967 656.989 Q69.9967 654.234 68.0522 652.498 Q66.1309 650.762 63.0291 650.762 Q60.83 650.762 58.3763 651.526 Q55.9458 652.29 53.168 653.84 L53.168 649.118 Q55.9921 647.984 58.4458 647.405 Q60.8995 646.827 62.9365 646.827 Q68.3068 646.827 71.5013 649.512 Q74.6957 652.197 74.6957 656.688 Q74.6957 658.817 73.8855 660.739 Q73.0985 662.637 70.992 665.229 Q70.4133 665.901 67.3115 669.118 Q64.2096 672.313 58.5615 678.076 Z\" fill=\"#000000\" fill-rule=\"nonzero\" fill-opacity=\"1\" /><path clip-path=\"url(#clip240)\" d=\"M67.7513 263.806 Q71.1078 264.524 72.9827 266.792 Q74.8809 269.061 74.8809 272.394 Q74.8809 277.51 71.3624 280.311 Q67.8439 283.112 61.3624 283.112 Q59.1865 283.112 56.8717 282.672 Q54.5801 282.255 52.1264 281.399 L52.1264 276.885 Q54.0708 278.019 56.3856 278.598 Q58.7004 279.177 61.2236 279.177 Q65.6217 279.177 67.9133 277.44 Q70.2281 275.704 70.2281 272.394 Q70.2281 269.339 68.0754 267.626 Q65.9457 265.89 62.1263 265.89 L58.0986 265.89 L58.0986 262.047 L62.3115 262.047 Q65.7606 262.047 67.5893 260.681 Q69.418 259.292 69.418 256.7 Q69.418 254.038 67.5198 252.626 Q65.6448 251.191 62.1263 251.191 Q60.205 251.191 58.006 251.607 Q55.8069 252.024 53.168 252.904 L53.168 248.737 Q55.8301 247.996 58.1449 247.626 Q60.4828 247.255 62.543 247.255 Q67.867 247.255 70.9689 249.686 Q74.0707 252.093 74.0707 256.214 Q74.0707 259.084 72.4272 261.075 Q70.7837 263.042 67.7513 263.806 Z\" fill=\"#000000\" fill-rule=\"nonzero\" fill-opacity=\"1\" /><polyline clip-path=\"url(#clip242)\" style=\"stroke:#009af9; stroke-linecap:round; stroke-linejoin:round; stroke-width:4; stroke-opacity:1; fill:none\" points=\"174.33,430.702 195.694,430.702 217.057,430.702 238.42,430.702 259.784,430.702 281.147,430.702 302.511,430.702 323.874,430.702 345.237,430.702 366.601,430.702 387.964,430.702 409.328,430.702 430.691,430.702 452.054,430.702 473.418,430.702 494.781,430.703 516.145,430.703 537.508,430.703 558.871,430.703 580.235,430.703 601.598,430.703 622.962,430.703 644.325,430.703 665.688,430.703 687.052,430.703 708.415,430.703 729.779,430.703 751.142,430.703 772.505,430.703 793.869,430.704 815.232,430.704 836.596,430.704 857.959,430.705 879.322,430.705 900.686,430.706 922.049,430.707 943.413,430.708 964.776,430.709 986.139,430.711 1007.5,430.713 1028.87,430.716 1050.23,430.719 1071.59,430.723 1092.96,430.728 1114.32,430.733 1135.68,430.741 1157.05,430.75 1178.41,430.761 1199.77,430.775 1221.14,430.792 1242.5,430.813 1263.86,430.84 1285.23,430.872 1306.59,430.912 1327.95,430.962 1349.32,431.024 1370.68,431.1 1392.04,431.194 1413.41,431.31 1434.77,431.454 1456.13,431.632 1477.5,431.852 1498.86,432.123 1520.22,432.459 1541.59,432.875 1562.95,433.388 1584.31,434.022 1605.68,434.806 1627.04,435.774 1648.4,436.969 1669.77,438.444 1691.13,440.263 1712.49,442.506 1733.86,445.27 1755.22,448.672 1776.59,452.854 1797.95,457.991 1819.31,464.289 1840.68,471.995 1862.04,481.403 1883.4,492.855 1904.77,506.749 1926.13,523.534 1947.49,543.711 1968.86,567.822 1990.22,596.43 2011.58,630.089 2032.95,669.306 2054.31,714.483 2075.67,765.852 2097.04,823.413 2118.4,886.872 2139.76,955.612 2161.13,1028.69 2182.49,1104.86 2203.85,1182.58 2225.22,1259.83 2246.58,1333.54 2267.94,1398.44 2289.31,1445.72 \"/>\n",
       "<polyline clip-path=\"url(#clip242)\" style=\"stroke:#e26f46; stroke-linecap:round; stroke-linejoin:round; stroke-width:4; stroke-opacity:1; fill:none\" points=\"174.33,87.9763 195.694,87.9763 217.057,87.9763 238.42,87.9763 259.784,87.9763 281.147,87.9763 302.511,87.9763 323.874,87.9763 345.237,87.9763 366.601,87.9763 387.964,87.9763 409.328,87.9763 430.691,87.9763 452.054,87.9763 473.418,87.9763 494.781,87.9763 516.145,87.9763 537.508,87.9763 558.871,87.9763 580.235,87.9763 601.598,87.9763 622.962,87.9764 644.325,87.9764 665.688,87.9764 687.052,87.9764 708.415,87.9765 729.779,87.9765 751.142,87.9766 772.505,87.9766 793.869,87.9767 815.232,87.9768 836.596,87.9769 857.959,87.9771 879.322,87.9773 900.686,87.9775 922.049,87.9778 943.413,87.9782 964.776,87.9787 986.139,87.9792 1007.5,87.9799 1028.87,87.9808 1050.23,87.9818 1071.59,87.9832 1092.96,87.9848 1114.32,87.9868 1135.68,87.9893 1157.05,87.9924 1178.41,87.9962 1199.77,88.0009 1221.14,88.0068 1242.5,88.014 1263.86,88.0229 1285.23,88.034 1306.59,88.0477 1327.95,88.0646 1349.32,88.0855 1370.68,88.1113 1392.04,88.1433 1413.41,88.1828 1434.77,88.2317 1456.13,88.2921 1477.5,88.3668 1498.86,88.4592 1520.22,88.5734 1541.59,88.7145 1562.95,88.8888 1584.31,89.1042 1605.68,89.3703 1627.04,89.6988 1648.4,90.1043 1669.77,90.6045 1691.13,91.2213 1712.49,91.9814 1733.86,92.9171 1755.22,94.068 1776.59,95.4817 1797.95,97.2158 1819.31,99.3389 1840.68,101.933 1862.04,105.093 1883.4,108.931 1904.77,113.576 1926.13,119.17 1947.49,125.872 1968.86,133.853 1990.22,143.288 2011.58,154.356 2032.95,167.231 2054.31,182.087 2075.67,199.118 2097.04,218.593 2118.4,240.982 2139.76,267.222 2161.13,299.185 2182.49,340.522 2203.85,397.98 2225.22,483.188 2246.58,614.102 2267.94,813.418 2289.31,1098.89 \"/>\n",
       "<polyline clip-path=\"url(#clip242)\" style=\"stroke:#3da44d; stroke-linecap:round; stroke-linejoin:round; stroke-width:4; stroke-opacity:1; fill:none\" points=\"174.33,430.702 195.694,430.702 217.057,430.702 238.42,430.702 259.784,430.702 281.147,430.702 302.511,430.702 323.874,430.702 345.237,430.702 366.601,430.702 387.964,430.702 409.328,430.702 430.691,430.702 452.054,430.702 473.418,430.702 494.781,430.703 516.145,430.703 537.508,430.703 558.871,430.703 580.235,430.703 601.598,430.703 622.962,430.703 644.325,430.703 665.688,430.703 687.052,430.703 708.415,430.703 729.779,430.703 751.142,430.703 772.505,430.703 793.869,430.704 815.232,430.704 836.596,430.704 857.959,430.705 879.322,430.705 900.686,430.706 922.049,430.707 943.413,430.708 964.776,430.709 986.139,430.711 1007.5,430.713 1028.87,430.716 1050.23,430.719 1071.59,430.723 1092.96,430.728 1114.32,430.733 1135.68,430.741 1157.05,430.75 1178.41,430.761 1199.77,430.775 1221.14,430.792 1242.5,430.813 1263.86,430.84 1285.23,430.872 1306.59,430.912 1327.95,430.962 1349.32,431.024 1370.68,431.1 1392.04,431.194 1413.41,431.31 1434.77,431.454 1456.13,431.632 1477.5,431.852 1498.86,432.123 1520.22,432.459 1541.59,432.875 1562.95,433.388 1584.31,434.022 1605.68,434.806 1627.04,435.774 1648.4,436.969 1669.77,438.444 1691.13,440.263 1712.49,442.506 1733.86,445.27 1755.22,448.672 1776.59,452.854 1797.95,457.991 1819.31,464.289 1840.68,471.995 1862.04,481.403 1883.4,492.855 1904.77,506.749 1926.13,523.534 1947.49,543.711 1968.86,567.822 1990.22,596.43 2011.58,630.089 2032.95,669.306 2054.31,714.483 2075.67,765.852 2097.04,823.413 2118.4,886.872 2139.76,955.612 2161.13,1028.69 2182.49,1104.86 2203.85,1182.58 2225.22,1259.83 2246.58,1333.54 2267.94,1398.44 2289.31,1445.72 \"/>\n",
       "<polyline clip-path=\"url(#clip242)\" style=\"stroke:#c271d2; stroke-linecap:round; stroke-linejoin:round; stroke-width:4; stroke-opacity:1; fill:none\" points=\"174.33,87.9763 195.694,87.9763 217.057,87.9763 238.42,87.9763 259.784,87.9763 281.147,87.9763 302.511,87.9763 323.874,87.9763 345.237,87.9763 366.601,87.9763 387.964,87.9763 409.328,87.9763 430.691,87.9763 452.054,87.9763 473.418,87.9763 494.781,87.9763 516.145,87.9763 537.508,87.9763 558.871,87.9763 580.235,87.9763 601.598,87.9763 622.962,87.9764 644.325,87.9764 665.688,87.9764 687.052,87.9764 708.415,87.9765 729.779,87.9765 751.142,87.9766 772.505,87.9766 793.869,87.9767 815.232,87.9768 836.596,87.9769 857.959,87.9771 879.322,87.9773 900.686,87.9775 922.049,87.9778 943.413,87.9782 964.776,87.9787 986.139,87.9792 1007.5,87.9799 1028.87,87.9808 1050.23,87.9818 1071.59,87.9832 1092.96,87.9848 1114.32,87.9868 1135.68,87.9893 1157.05,87.9924 1178.41,87.9962 1199.77,88.0009 1221.14,88.0068 1242.5,88.014 1263.86,88.0229 1285.23,88.034 1306.59,88.0477 1327.95,88.0646 1349.32,88.0855 1370.68,88.1113 1392.04,88.1433 1413.41,88.1828 1434.77,88.2317 1456.13,88.2921 1477.5,88.3668 1498.86,88.4592 1520.22,88.5734 1541.59,88.7145 1562.95,88.8888 1584.31,89.1042 1605.68,89.3703 1627.04,89.6988 1648.4,90.1043 1669.77,90.6045 1691.13,91.2213 1712.49,91.9814 1733.86,92.9171 1755.22,94.068 1776.59,95.4817 1797.95,97.2158 1819.31,99.3389 1840.68,101.933 1862.04,105.093 1883.4,108.931 1904.77,113.576 1926.13,119.17 1947.49,125.872 1968.86,133.853 1990.22,143.288 2011.58,154.356 2032.95,167.231 2054.31,182.087 2075.67,199.118 2097.04,218.593 2118.4,240.982 2139.76,267.222 2161.13,299.185 2182.49,340.522 2203.85,397.98 2225.22,483.188 2246.58,614.102 2267.94,813.418 2289.31,1098.89 \"/>\n",
       "<path clip-path=\"url(#clip240)\" d=\"M185.61 1438.47 L549.264 1438.47 L549.264 1179.27 L185.61 1179.27  Z\" fill=\"#ffffff\" fill-rule=\"evenodd\" fill-opacity=\"1\"/>\n",
       "<polyline clip-path=\"url(#clip240)\" style=\"stroke:#000000; stroke-linecap:round; stroke-linejoin:round; stroke-width:4; stroke-opacity:1; fill:none\" points=\"185.61,1438.47 549.264,1438.47 549.264,1179.27 185.61,1179.27 185.61,1438.47 \"/>\n",
       "<polyline clip-path=\"url(#clip240)\" style=\"stroke:#009af9; stroke-linecap:round; stroke-linejoin:round; stroke-width:4; stroke-opacity:1; fill:none\" points=\"210.52,1231.11 359.978,1231.11 \"/>\n",
       "<path clip-path=\"url(#clip240)\" d=\"M389.564 1217.68 L389.564 1244.55 L395.212 1244.55 Q402.365 1244.55 405.675 1241.31 Q409.008 1238.07 409.008 1231.08 Q409.008 1224.14 405.675 1220.92 Q402.365 1217.68 395.212 1217.68 L389.564 1217.68 M384.888 1213.83 L394.494 1213.83 Q404.541 1213.83 409.24 1218.02 Q413.939 1222.19 413.939 1231.08 Q413.939 1240.01 409.216 1244.2 Q404.494 1248.39 394.494 1248.39 L384.888 1248.39 L384.888 1213.83 Z\" fill=\"#000000\" fill-rule=\"nonzero\" fill-opacity=\"1\" /><path clip-path=\"url(#clip240)\" d=\"M426.068 1217.68 L426.068 1230.66 L431.948 1230.66 Q435.212 1230.66 436.994 1228.97 Q438.776 1227.28 438.776 1224.16 Q438.776 1221.06 436.994 1219.37 Q435.212 1217.68 431.948 1217.68 L426.068 1217.68 M421.392 1213.83 L431.948 1213.83 Q437.758 1213.83 440.721 1216.47 Q443.707 1219.09 443.707 1224.16 Q443.707 1229.27 440.721 1231.89 Q437.758 1234.51 431.948 1234.51 L426.068 1234.51 L426.068 1248.39 L421.392 1248.39 L421.392 1213.83 Z\" fill=\"#000000\" fill-rule=\"nonzero\" fill-opacity=\"1\" /><path clip-path=\"url(#clip240)\" d=\"M465.049 1213.83 L469.725 1213.83 L469.725 1228.44 L485.235 1213.83 L491.253 1213.83 L474.1 1229.95 L492.48 1248.39 L486.322 1248.39 L469.725 1231.75 L469.725 1248.39 L465.049 1248.39 L465.049 1213.83 Z\" fill=\"#000000\" fill-rule=\"nonzero\" fill-opacity=\"1\" /><path clip-path=\"url(#clip240)\" d=\"M497.364 1244.46 L505.003 1244.46 L505.003 1218.09 L496.693 1219.76 L496.693 1215.5 L504.957 1213.83 L509.633 1213.83 L509.633 1244.46 L517.271 1244.46 L517.271 1248.39 L497.364 1248.39 L497.364 1244.46 Z\" fill=\"#000000\" fill-rule=\"nonzero\" fill-opacity=\"1\" /><polyline clip-path=\"url(#clip240)\" style=\"stroke:#e26f46; stroke-linecap:round; stroke-linejoin:round; stroke-width:4; stroke-opacity:1; fill:none\" points=\"210.52,1282.95 359.978,1282.95 \"/>\n",
       "<path clip-path=\"url(#clip240)\" d=\"M389.564 1269.52 L389.564 1296.39 L395.212 1296.39 Q402.365 1296.39 405.675 1293.15 Q409.008 1289.91 409.008 1282.92 Q409.008 1275.98 405.675 1272.76 Q402.365 1269.52 395.212 1269.52 L389.564 1269.52 M384.888 1265.67 L394.494 1265.67 Q404.541 1265.67 409.24 1269.86 Q413.939 1274.03 413.939 1282.92 Q413.939 1291.85 409.216 1296.04 Q404.494 1300.23 394.494 1300.23 L384.888 1300.23 L384.888 1265.67 Z\" fill=\"#000000\" fill-rule=\"nonzero\" fill-opacity=\"1\" /><path clip-path=\"url(#clip240)\" d=\"M426.068 1269.52 L426.068 1282.5 L431.948 1282.5 Q435.212 1282.5 436.994 1280.81 Q438.776 1279.12 438.776 1276 Q438.776 1272.9 436.994 1271.21 Q435.212 1269.52 431.948 1269.52 L426.068 1269.52 M421.392 1265.67 L431.948 1265.67 Q437.758 1265.67 440.721 1268.31 Q443.707 1270.93 443.707 1276 Q443.707 1281.11 440.721 1283.73 Q437.758 1286.35 431.948 1286.35 L426.068 1286.35 L426.068 1300.23 L421.392 1300.23 L421.392 1265.67 Z\" fill=\"#000000\" fill-rule=\"nonzero\" fill-opacity=\"1\" /><path clip-path=\"url(#clip240)\" d=\"M465.049 1265.67 L469.725 1265.67 L469.725 1280.28 L485.235 1265.67 L491.253 1265.67 L474.1 1281.79 L492.48 1300.23 L486.322 1300.23 L469.725 1283.59 L469.725 1300.23 L465.049 1300.23 L465.049 1265.67 Z\" fill=\"#000000\" fill-rule=\"nonzero\" fill-opacity=\"1\" /><path clip-path=\"url(#clip240)\" d=\"M500.582 1296.3 L516.901 1296.3 L516.901 1300.23 L494.957 1300.23 L494.957 1296.3 Q497.619 1293.54 502.202 1288.92 Q506.808 1284.26 507.989 1282.92 Q510.234 1280.4 511.114 1278.66 Q512.017 1276.9 512.017 1275.21 Q512.017 1272.46 510.072 1270.72 Q508.151 1268.98 505.049 1268.98 Q502.85 1268.98 500.396 1269.75 Q497.966 1270.51 495.188 1272.06 L495.188 1267.34 Q498.012 1266.21 500.466 1265.63 Q502.92 1265.05 504.957 1265.05 Q510.327 1265.05 513.521 1267.73 Q516.716 1270.42 516.716 1274.91 Q516.716 1277.04 515.906 1278.96 Q515.119 1280.86 513.012 1283.45 Q512.433 1284.12 509.332 1287.34 Q506.23 1290.54 500.582 1296.3 Z\" fill=\"#000000\" fill-rule=\"nonzero\" fill-opacity=\"1\" /><polyline clip-path=\"url(#clip240)\" style=\"stroke:#3da44d; stroke-linecap:round; stroke-linejoin:round; stroke-width:4; stroke-opacity:1; fill:none\" points=\"210.52,1334.79 359.978,1334.79 \"/>\n",
       "<path clip-path=\"url(#clip240)\" d=\"M401.277 1335.87 Q402.781 1336.38 404.193 1338.05 Q405.628 1339.71 407.064 1342.63 L411.809 1352.07 L406.786 1352.07 L402.365 1343.21 Q400.652 1339.74 399.031 1338.6 Q397.434 1337.47 394.656 1337.47 L389.564 1337.47 L389.564 1352.07 L384.888 1352.07 L384.888 1317.51 L395.443 1317.51 Q401.369 1317.51 404.286 1319.99 Q407.203 1322.47 407.203 1327.47 Q407.203 1330.73 405.675 1332.88 Q404.17 1335.04 401.277 1335.87 M389.564 1321.36 L389.564 1333.63 L395.443 1333.63 Q398.823 1333.63 400.536 1332.07 Q402.272 1330.5 402.272 1327.47 Q402.272 1324.44 400.536 1322.91 Q398.823 1321.36 395.443 1321.36 L389.564 1321.36 Z\" fill=\"#000000\" fill-rule=\"nonzero\" fill-opacity=\"1\" /><path clip-path=\"url(#clip240)\" d=\"M417.642 1326.15 L421.902 1326.15 L421.902 1352.07 L417.642 1352.07 L417.642 1326.15 M417.642 1316.06 L421.902 1316.06 L421.902 1321.45 L417.642 1321.45 L417.642 1316.06 Z\" fill=\"#000000\" fill-rule=\"nonzero\" fill-opacity=\"1\" /><path clip-path=\"url(#clip240)\" d=\"M449.471 1327.14 L449.471 1331.13 Q447.665 1330.13 445.837 1329.64 Q444.031 1329.13 442.179 1329.13 Q438.036 1329.13 435.744 1331.77 Q433.452 1334.39 433.452 1339.13 Q433.452 1343.88 435.744 1346.52 Q438.036 1349.13 442.179 1349.13 Q444.031 1349.13 445.837 1348.65 Q447.665 1348.14 449.471 1347.14 L449.471 1351.08 Q447.688 1351.91 445.767 1352.33 Q443.869 1352.75 441.716 1352.75 Q435.86 1352.75 432.411 1349.07 Q428.962 1345.38 428.962 1339.13 Q428.962 1332.79 432.434 1329.16 Q435.929 1325.52 441.994 1325.52 Q443.962 1325.52 445.837 1325.94 Q447.712 1326.33 449.471 1327.14 Z\" fill=\"#000000\" fill-rule=\"nonzero\" fill-opacity=\"1\" /><path clip-path=\"url(#clip240)\" d=\"M472.133 1317.51 L476.809 1317.51 L476.809 1332.12 L492.318 1317.51 L498.336 1317.51 L481.184 1333.63 L499.563 1352.07 L493.406 1352.07 L476.809 1335.43 L476.809 1352.07 L472.133 1352.07 L472.133 1317.51 Z\" fill=\"#000000\" fill-rule=\"nonzero\" fill-opacity=\"1\" /><path clip-path=\"url(#clip240)\" d=\"M504.447 1348.14 L512.086 1348.14 L512.086 1321.77 L503.776 1323.44 L503.776 1319.18 L512.04 1317.51 L516.716 1317.51 L516.716 1348.14 L524.355 1348.14 L524.355 1352.07 L504.447 1352.07 L504.447 1348.14 Z\" fill=\"#000000\" fill-rule=\"nonzero\" fill-opacity=\"1\" /><polyline clip-path=\"url(#clip240)\" style=\"stroke:#c271d2; stroke-linecap:round; stroke-linejoin:round; stroke-width:4; stroke-opacity:1; fill:none\" points=\"210.52,1386.63 359.978,1386.63 \"/>\n",
       "<path clip-path=\"url(#clip240)\" d=\"M401.277 1387.71 Q402.781 1388.22 404.193 1389.89 Q405.628 1391.55 407.064 1394.47 L411.809 1403.91 L406.786 1403.91 L402.365 1395.05 Q400.652 1391.58 399.031 1390.44 Q397.434 1389.31 394.656 1389.31 L389.564 1389.31 L389.564 1403.91 L384.888 1403.91 L384.888 1369.35 L395.443 1369.35 Q401.369 1369.35 404.286 1371.83 Q407.203 1374.31 407.203 1379.31 Q407.203 1382.57 405.675 1384.72 Q404.17 1386.88 401.277 1387.71 M389.564 1373.2 L389.564 1385.47 L395.443 1385.47 Q398.823 1385.47 400.536 1383.91 Q402.272 1382.34 402.272 1379.31 Q402.272 1376.28 400.536 1374.75 Q398.823 1373.2 395.443 1373.2 L389.564 1373.2 Z\" fill=\"#000000\" fill-rule=\"nonzero\" fill-opacity=\"1\" /><path clip-path=\"url(#clip240)\" d=\"M417.642 1377.99 L421.902 1377.99 L421.902 1403.91 L417.642 1403.91 L417.642 1377.99 M417.642 1367.9 L421.902 1367.9 L421.902 1373.29 L417.642 1373.29 L417.642 1367.9 Z\" fill=\"#000000\" fill-rule=\"nonzero\" fill-opacity=\"1\" /><path clip-path=\"url(#clip240)\" d=\"M449.471 1378.98 L449.471 1382.97 Q447.665 1381.97 445.837 1381.48 Q444.031 1380.97 442.179 1380.97 Q438.036 1380.97 435.744 1383.61 Q433.452 1386.23 433.452 1390.97 Q433.452 1395.72 435.744 1398.36 Q438.036 1400.97 442.179 1400.97 Q444.031 1400.97 445.837 1400.49 Q447.665 1399.98 449.471 1398.98 L449.471 1402.92 Q447.688 1403.75 445.767 1404.17 Q443.869 1404.59 441.716 1404.59 Q435.86 1404.59 432.411 1400.91 Q428.962 1397.22 428.962 1390.97 Q428.962 1384.63 432.434 1381 Q435.929 1377.36 441.994 1377.36 Q443.962 1377.36 445.837 1377.78 Q447.712 1378.17 449.471 1378.98 Z\" fill=\"#000000\" fill-rule=\"nonzero\" fill-opacity=\"1\" /><path clip-path=\"url(#clip240)\" d=\"M472.133 1369.35 L476.809 1369.35 L476.809 1383.96 L492.318 1369.35 L498.336 1369.35 L481.184 1385.47 L499.563 1403.91 L493.406 1403.91 L476.809 1387.27 L476.809 1403.91 L472.133 1403.91 L472.133 1369.35 Z\" fill=\"#000000\" fill-rule=\"nonzero\" fill-opacity=\"1\" /><path clip-path=\"url(#clip240)\" d=\"M507.665 1399.98 L523.984 1399.98 L523.984 1403.91 L502.04 1403.91 L502.04 1399.98 Q504.702 1397.22 509.285 1392.6 Q513.892 1387.94 515.072 1386.6 Q517.318 1384.08 518.197 1382.34 Q519.1 1380.58 519.1 1378.89 Q519.1 1376.14 517.156 1374.4 Q515.234 1372.66 512.133 1372.66 Q509.933 1372.66 507.48 1373.43 Q505.049 1374.19 502.271 1375.74 L502.271 1371.02 Q505.096 1369.89 507.549 1369.31 Q510.003 1368.73 512.04 1368.73 Q517.41 1368.73 520.605 1371.41 Q523.799 1374.1 523.799 1378.59 Q523.799 1380.72 522.989 1382.64 Q522.202 1384.54 520.095 1387.13 Q519.517 1387.8 516.415 1391.02 Q513.313 1394.22 507.665 1399.98 Z\" fill=\"#000000\" fill-rule=\"nonzero\" fill-opacity=\"1\" /></svg>\n"
      ]
     },
     "execution_count": 16,
     "metadata": {},
     "output_type": "execute_result"
    }
   ],
   "source": [
    "plot(K[1,1,:], label=\"DP K1\")\n",
    "plot!(K[1,2,:], label=\"DP K2\")\n",
    "plot!(K_ric[1,1,:], label=\"Ric K1\")\n",
    "plot!(K_ric[1,2,:], label=\"Ric K2\")"
   ]
  },
  {
   "cell_type": "code",
   "execution_count": 17,
   "id": "557383f2-03b1-4cb0-9573-56ff527e086f",
   "metadata": {},
   "outputs": [
    {
     "data": {
      "image/svg+xml": [
       "<?xml version=\"1.0\" encoding=\"utf-8\"?>\n",
       "<svg xmlns=\"http://www.w3.org/2000/svg\" xmlns:xlink=\"http://www.w3.org/1999/xlink\" width=\"600\" height=\"400\" viewBox=\"0 0 2400 1600\">\n",
       "<defs>\n",
       "  <clipPath id=\"clip280\">\n",
       "    <rect x=\"0\" y=\"0\" width=\"2400\" height=\"1600\"/>\n",
       "  </clipPath>\n",
       "</defs>\n",
       "<path clip-path=\"url(#clip280)\" d=\"M0 1600 L2400 1600 L2400 0 L0 0  Z\" fill=\"#ffffff\" fill-rule=\"evenodd\" fill-opacity=\"1\"/>\n",
       "<defs>\n",
       "  <clipPath id=\"clip281\">\n",
       "    <rect x=\"480\" y=\"0\" width=\"1681\" height=\"1600\"/>\n",
       "  </clipPath>\n",
       "</defs>\n",
       "<path clip-path=\"url(#clip280)\" d=\"M138.959 1486.45 L2352.76 1486.45 L2352.76 47.2441 L138.959 47.2441  Z\" fill=\"#ffffff\" fill-rule=\"evenodd\" fill-opacity=\"1\"/>\n",
       "<defs>\n",
       "  <clipPath id=\"clip282\">\n",
       "    <rect x=\"138\" y=\"47\" width=\"2215\" height=\"1440\"/>\n",
       "  </clipPath>\n",
       "</defs>\n",
       "<polyline clip-path=\"url(#clip282)\" style=\"stroke:#000000; stroke-linecap:round; stroke-linejoin:round; stroke-width:2; stroke-opacity:0.1; fill:none\" points=\"180.729,1486.45 180.729,47.2441 \"/>\n",
       "<polyline clip-path=\"url(#clip282)\" style=\"stroke:#000000; stroke-linecap:round; stroke-linejoin:round; stroke-width:2; stroke-opacity:0.1; fill:none\" points=\"702.851,1486.45 702.851,47.2441 \"/>\n",
       "<polyline clip-path=\"url(#clip282)\" style=\"stroke:#000000; stroke-linecap:round; stroke-linejoin:round; stroke-width:2; stroke-opacity:0.1; fill:none\" points=\"1224.97,1486.45 1224.97,47.2441 \"/>\n",
       "<polyline clip-path=\"url(#clip282)\" style=\"stroke:#000000; stroke-linecap:round; stroke-linejoin:round; stroke-width:2; stroke-opacity:0.1; fill:none\" points=\"1747.09,1486.45 1747.09,47.2441 \"/>\n",
       "<polyline clip-path=\"url(#clip282)\" style=\"stroke:#000000; stroke-linecap:round; stroke-linejoin:round; stroke-width:2; stroke-opacity:0.1; fill:none\" points=\"2269.22,1486.45 2269.22,47.2441 \"/>\n",
       "<polyline clip-path=\"url(#clip280)\" style=\"stroke:#000000; stroke-linecap:round; stroke-linejoin:round; stroke-width:4; stroke-opacity:1; fill:none\" points=\"138.959,1486.45 2352.76,1486.45 \"/>\n",
       "<polyline clip-path=\"url(#clip280)\" style=\"stroke:#000000; stroke-linecap:round; stroke-linejoin:round; stroke-width:4; stroke-opacity:1; fill:none\" points=\"180.729,1486.45 180.729,1467.55 \"/>\n",
       "<polyline clip-path=\"url(#clip280)\" style=\"stroke:#000000; stroke-linecap:round; stroke-linejoin:round; stroke-width:4; stroke-opacity:1; fill:none\" points=\"702.851,1486.45 702.851,1467.55 \"/>\n",
       "<polyline clip-path=\"url(#clip280)\" style=\"stroke:#000000; stroke-linecap:round; stroke-linejoin:round; stroke-width:4; stroke-opacity:1; fill:none\" points=\"1224.97,1486.45 1224.97,1467.55 \"/>\n",
       "<polyline clip-path=\"url(#clip280)\" style=\"stroke:#000000; stroke-linecap:round; stroke-linejoin:round; stroke-width:4; stroke-opacity:1; fill:none\" points=\"1747.09,1486.45 1747.09,1467.55 \"/>\n",
       "<polyline clip-path=\"url(#clip280)\" style=\"stroke:#000000; stroke-linecap:round; stroke-linejoin:round; stroke-width:4; stroke-opacity:1; fill:none\" points=\"2269.22,1486.45 2269.22,1467.55 \"/>\n",
       "<path clip-path=\"url(#clip280)\" d=\"M180.729 1517.37 Q177.118 1517.37 175.289 1520.93 Q173.484 1524.47 173.484 1531.6 Q173.484 1538.71 175.289 1542.27 Q177.118 1545.82 180.729 1545.82 Q184.363 1545.82 186.169 1542.27 Q187.998 1538.71 187.998 1531.6 Q187.998 1524.47 186.169 1520.93 Q184.363 1517.37 180.729 1517.37 M180.729 1513.66 Q186.539 1513.66 189.595 1518.27 Q192.674 1522.85 192.674 1531.6 Q192.674 1540.33 189.595 1544.94 Q186.539 1549.52 180.729 1549.52 Q174.919 1549.52 171.84 1544.94 Q168.785 1540.33 168.785 1531.6 Q168.785 1522.85 171.84 1518.27 Q174.919 1513.66 180.729 1513.66 Z\" fill=\"#000000\" fill-rule=\"nonzero\" fill-opacity=\"1\" /><path clip-path=\"url(#clip280)\" d=\"M682.122 1544.91 L698.441 1544.91 L698.441 1548.85 L676.497 1548.85 L676.497 1544.91 Q679.159 1542.16 683.742 1537.53 Q688.349 1532.88 689.529 1531.53 Q691.775 1529.01 692.654 1527.27 Q693.557 1525.51 693.557 1523.82 Q693.557 1521.07 691.613 1519.33 Q689.691 1517.6 686.59 1517.6 Q684.39 1517.6 681.937 1518.36 Q679.506 1519.13 676.728 1520.68 L676.728 1515.95 Q679.553 1514.82 682.006 1514.24 Q684.46 1513.66 686.497 1513.66 Q691.867 1513.66 695.062 1516.35 Q698.256 1519.03 698.256 1523.52 Q698.256 1525.65 697.446 1527.57 Q696.659 1529.47 694.552 1532.07 Q693.974 1532.74 690.872 1535.95 Q687.77 1539.15 682.122 1544.91 Z\" fill=\"#000000\" fill-rule=\"nonzero\" fill-opacity=\"1\" /><path clip-path=\"url(#clip280)\" d=\"M708.302 1514.29 L726.659 1514.29 L726.659 1518.22 L712.585 1518.22 L712.585 1526.7 Q713.603 1526.35 714.622 1526.19 Q715.64 1526 716.659 1526 Q722.446 1526 725.825 1529.17 Q729.205 1532.34 729.205 1537.76 Q729.205 1543.34 725.733 1546.44 Q722.261 1549.52 715.941 1549.52 Q713.765 1549.52 711.497 1549.15 Q709.251 1548.78 706.844 1548.04 L706.844 1543.34 Q708.927 1544.47 711.15 1545.03 Q713.372 1545.58 715.849 1545.58 Q719.853 1545.58 722.191 1543.48 Q724.529 1541.37 724.529 1537.76 Q724.529 1534.15 722.191 1532.04 Q719.853 1529.94 715.849 1529.94 Q713.974 1529.94 712.099 1530.35 Q710.247 1530.77 708.302 1531.65 L708.302 1514.29 Z\" fill=\"#000000\" fill-rule=\"nonzero\" fill-opacity=\"1\" /><path clip-path=\"url(#clip280)\" d=\"M1199.67 1514.29 L1218.03 1514.29 L1218.03 1518.22 L1203.95 1518.22 L1203.95 1526.7 Q1204.97 1526.35 1205.99 1526.19 Q1207.01 1526 1208.03 1526 Q1213.82 1526 1217.2 1529.17 Q1220.57 1532.34 1220.57 1537.76 Q1220.57 1543.34 1217.1 1546.44 Q1213.63 1549.52 1207.31 1549.52 Q1205.13 1549.52 1202.87 1549.15 Q1200.62 1548.78 1198.21 1548.04 L1198.21 1543.34 Q1200.3 1544.47 1202.52 1545.03 Q1204.74 1545.58 1207.22 1545.58 Q1211.22 1545.58 1213.56 1543.48 Q1215.9 1541.37 1215.9 1537.76 Q1215.9 1534.15 1213.56 1532.04 Q1211.22 1529.94 1207.22 1529.94 Q1205.34 1529.94 1203.47 1530.35 Q1201.62 1530.77 1199.67 1531.65 L1199.67 1514.29 Z\" fill=\"#000000\" fill-rule=\"nonzero\" fill-opacity=\"1\" /><path clip-path=\"url(#clip280)\" d=\"M1239.79 1517.37 Q1236.18 1517.37 1234.35 1520.93 Q1232.54 1524.47 1232.54 1531.6 Q1232.54 1538.71 1234.35 1542.27 Q1236.18 1545.82 1239.79 1545.82 Q1243.42 1545.82 1245.23 1542.27 Q1247.06 1538.71 1247.06 1531.6 Q1247.06 1524.47 1245.23 1520.93 Q1243.42 1517.37 1239.79 1517.37 M1239.79 1513.66 Q1245.6 1513.66 1248.65 1518.27 Q1251.73 1522.85 1251.73 1531.6 Q1251.73 1540.33 1248.65 1544.94 Q1245.6 1549.52 1239.79 1549.52 Q1233.98 1549.52 1230.9 1544.94 Q1227.84 1540.33 1227.84 1531.6 Q1227.84 1522.85 1230.9 1518.27 Q1233.98 1513.66 1239.79 1513.66 Z\" fill=\"#000000\" fill-rule=\"nonzero\" fill-opacity=\"1\" /><path clip-path=\"url(#clip280)\" d=\"M1720.95 1514.29 L1743.17 1514.29 L1743.17 1516.28 L1730.62 1548.85 L1725.74 1548.85 L1737.55 1518.22 L1720.95 1518.22 L1720.95 1514.29 Z\" fill=\"#000000\" fill-rule=\"nonzero\" fill-opacity=\"1\" /><path clip-path=\"url(#clip280)\" d=\"M1752.34 1514.29 L1770.69 1514.29 L1770.69 1518.22 L1756.62 1518.22 L1756.62 1526.7 Q1757.64 1526.35 1758.66 1526.19 Q1759.68 1526 1760.69 1526 Q1766.48 1526 1769.86 1529.17 Q1773.24 1532.34 1773.24 1537.76 Q1773.24 1543.34 1769.77 1546.44 Q1766.3 1549.52 1759.98 1549.52 Q1757.8 1549.52 1755.53 1549.15 Q1753.29 1548.78 1750.88 1548.04 L1750.88 1543.34 Q1752.96 1544.47 1755.18 1545.03 Q1757.41 1545.58 1759.88 1545.58 Q1763.89 1545.58 1766.23 1543.48 Q1768.56 1541.37 1768.56 1537.76 Q1768.56 1534.15 1766.23 1532.04 Q1763.89 1529.94 1759.88 1529.94 Q1758.01 1529.94 1756.13 1530.35 Q1754.28 1530.77 1752.34 1531.65 L1752.34 1514.29 Z\" fill=\"#000000\" fill-rule=\"nonzero\" fill-opacity=\"1\" /><path clip-path=\"url(#clip280)\" d=\"M2228.82 1544.91 L2236.46 1544.91 L2236.46 1518.55 L2228.15 1520.21 L2228.15 1515.95 L2236.42 1514.29 L2241.09 1514.29 L2241.09 1544.91 L2248.73 1544.91 L2248.73 1548.85 L2228.82 1548.85 L2228.82 1544.91 Z\" fill=\"#000000\" fill-rule=\"nonzero\" fill-opacity=\"1\" /><path clip-path=\"url(#clip280)\" d=\"M2268.17 1517.37 Q2264.56 1517.37 2262.73 1520.93 Q2260.93 1524.47 2260.93 1531.6 Q2260.93 1538.71 2262.73 1542.27 Q2264.56 1545.82 2268.17 1545.82 Q2271.81 1545.82 2273.61 1542.27 Q2275.44 1538.71 2275.44 1531.6 Q2275.44 1524.47 2273.61 1520.93 Q2271.81 1517.37 2268.17 1517.37 M2268.17 1513.66 Q2273.98 1513.66 2277.04 1518.27 Q2280.12 1522.85 2280.12 1531.6 Q2280.12 1540.33 2277.04 1544.94 Q2273.98 1549.52 2268.17 1549.52 Q2262.36 1549.52 2259.29 1544.94 Q2256.23 1540.33 2256.23 1531.6 Q2256.23 1522.85 2259.29 1518.27 Q2262.36 1513.66 2268.17 1513.66 Z\" fill=\"#000000\" fill-rule=\"nonzero\" fill-opacity=\"1\" /><path clip-path=\"url(#clip280)\" d=\"M2298.34 1517.37 Q2294.73 1517.37 2292.9 1520.93 Q2291.09 1524.47 2291.09 1531.6 Q2291.09 1538.71 2292.9 1542.27 Q2294.73 1545.82 2298.34 1545.82 Q2301.97 1545.82 2303.78 1542.27 Q2305.61 1538.71 2305.61 1531.6 Q2305.61 1524.47 2303.78 1520.93 Q2301.97 1517.37 2298.34 1517.37 M2298.34 1513.66 Q2304.15 1513.66 2307.2 1518.27 Q2310.28 1522.85 2310.28 1531.6 Q2310.28 1540.33 2307.2 1544.94 Q2304.15 1549.52 2298.34 1549.52 Q2292.53 1549.52 2289.45 1544.94 Q2286.39 1540.33 2286.39 1531.6 Q2286.39 1522.85 2289.45 1518.27 Q2292.53 1513.66 2298.34 1513.66 Z\" fill=\"#000000\" fill-rule=\"nonzero\" fill-opacity=\"1\" /><polyline clip-path=\"url(#clip282)\" style=\"stroke:#000000; stroke-linecap:round; stroke-linejoin:round; stroke-width:2; stroke-opacity:0.1; fill:none\" points=\"138.959,1445.72 2352.76,1445.72 \"/>\n",
       "<polyline clip-path=\"url(#clip282)\" style=\"stroke:#000000; stroke-linecap:round; stroke-linejoin:round; stroke-width:2; stroke-opacity:0.1; fill:none\" points=\"138.959,1241.81 2352.76,1241.81 \"/>\n",
       "<polyline clip-path=\"url(#clip282)\" style=\"stroke:#000000; stroke-linecap:round; stroke-linejoin:round; stroke-width:2; stroke-opacity:0.1; fill:none\" points=\"138.959,1037.9 2352.76,1037.9 \"/>\n",
       "<polyline clip-path=\"url(#clip282)\" style=\"stroke:#000000; stroke-linecap:round; stroke-linejoin:round; stroke-width:2; stroke-opacity:0.1; fill:none\" points=\"138.959,833.994 2352.76,833.994 \"/>\n",
       "<polyline clip-path=\"url(#clip282)\" style=\"stroke:#000000; stroke-linecap:round; stroke-linejoin:round; stroke-width:2; stroke-opacity:0.1; fill:none\" points=\"138.959,630.087 2352.76,630.087 \"/>\n",
       "<polyline clip-path=\"url(#clip282)\" style=\"stroke:#000000; stroke-linecap:round; stroke-linejoin:round; stroke-width:2; stroke-opacity:0.1; fill:none\" points=\"138.959,426.179 2352.76,426.179 \"/>\n",
       "<polyline clip-path=\"url(#clip282)\" style=\"stroke:#000000; stroke-linecap:round; stroke-linejoin:round; stroke-width:2; stroke-opacity:0.1; fill:none\" points=\"138.959,222.272 2352.76,222.272 \"/>\n",
       "<polyline clip-path=\"url(#clip280)\" style=\"stroke:#000000; stroke-linecap:round; stroke-linejoin:round; stroke-width:4; stroke-opacity:1; fill:none\" points=\"138.959,1486.45 138.959,47.2441 \"/>\n",
       "<polyline clip-path=\"url(#clip280)\" style=\"stroke:#000000; stroke-linecap:round; stroke-linejoin:round; stroke-width:4; stroke-opacity:1; fill:none\" points=\"138.959,1445.72 157.857,1445.72 \"/>\n",
       "<polyline clip-path=\"url(#clip280)\" style=\"stroke:#000000; stroke-linecap:round; stroke-linejoin:round; stroke-width:4; stroke-opacity:1; fill:none\" points=\"138.959,1241.81 157.857,1241.81 \"/>\n",
       "<polyline clip-path=\"url(#clip280)\" style=\"stroke:#000000; stroke-linecap:round; stroke-linejoin:round; stroke-width:4; stroke-opacity:1; fill:none\" points=\"138.959,1037.9 157.857,1037.9 \"/>\n",
       "<polyline clip-path=\"url(#clip280)\" style=\"stroke:#000000; stroke-linecap:round; stroke-linejoin:round; stroke-width:4; stroke-opacity:1; fill:none\" points=\"138.959,833.994 157.857,833.994 \"/>\n",
       "<polyline clip-path=\"url(#clip280)\" style=\"stroke:#000000; stroke-linecap:round; stroke-linejoin:round; stroke-width:4; stroke-opacity:1; fill:none\" points=\"138.959,630.087 157.857,630.087 \"/>\n",
       "<polyline clip-path=\"url(#clip280)\" style=\"stroke:#000000; stroke-linecap:round; stroke-linejoin:round; stroke-width:4; stroke-opacity:1; fill:none\" points=\"138.959,426.179 157.857,426.179 \"/>\n",
       "<polyline clip-path=\"url(#clip280)\" style=\"stroke:#000000; stroke-linecap:round; stroke-linejoin:round; stroke-width:4; stroke-opacity:1; fill:none\" points=\"138.959,222.272 157.857,222.272 \"/>\n",
       "<path clip-path=\"url(#clip280)\" d=\"M91.0151 1431.51 Q87.404 1431.51 85.5753 1435.08 Q83.7697 1438.62 83.7697 1445.75 Q83.7697 1452.86 85.5753 1456.42 Q87.404 1459.96 91.0151 1459.96 Q94.6493 1459.96 96.4548 1456.42 Q98.2835 1452.86 98.2835 1445.75 Q98.2835 1438.62 96.4548 1435.08 Q94.6493 1431.51 91.0151 1431.51 M91.0151 1427.81 Q96.8252 1427.81 99.8808 1432.42 Q102.959 1437 102.959 1445.75 Q102.959 1454.48 99.8808 1459.08 Q96.8252 1463.67 91.0151 1463.67 Q85.2049 1463.67 82.1262 1459.08 Q79.0707 1454.48 79.0707 1445.75 Q79.0707 1437 82.1262 1432.42 Q85.2049 1427.81 91.0151 1427.81 Z\" fill=\"#000000\" fill-rule=\"nonzero\" fill-opacity=\"1\" /><path clip-path=\"url(#clip280)\" d=\"M86.6401 1255.15 L102.959 1255.15 L102.959 1259.09 L81.0151 1259.09 L81.0151 1255.15 Q83.6771 1252.4 88.2604 1247.77 Q92.8669 1243.12 94.0475 1241.77 Q96.2928 1239.25 97.1724 1237.51 Q98.0752 1235.76 98.0752 1234.07 Q98.0752 1231.31 96.1308 1229.57 Q94.2095 1227.84 91.1077 1227.84 Q88.9086 1227.84 86.4549 1228.6 Q84.0244 1229.37 81.2466 1230.92 L81.2466 1226.2 Q84.0707 1225.06 86.5243 1224.48 Q88.978 1223.9 91.0151 1223.9 Q96.3854 1223.9 99.5798 1226.59 Q102.774 1229.27 102.774 1233.76 Q102.774 1235.89 101.964 1237.82 Q101.177 1239.71 99.0706 1242.31 Q98.4919 1242.98 95.39 1246.19 Q92.2882 1249.39 86.6401 1255.15 Z\" fill=\"#000000\" fill-rule=\"nonzero\" fill-opacity=\"1\" /><path clip-path=\"url(#clip280)\" d=\"M93.3762 1024.7 L81.5707 1043.14 L93.3762 1043.14 L93.3762 1024.7 M92.1493 1020.62 L98.0289 1020.62 L98.0289 1043.14 L102.959 1043.14 L102.959 1047.03 L98.0289 1047.03 L98.0289 1055.18 L93.3762 1055.18 L93.3762 1047.03 L77.7744 1047.03 L77.7744 1042.52 L92.1493 1020.62 Z\" fill=\"#000000\" fill-rule=\"nonzero\" fill-opacity=\"1\" /><path clip-path=\"url(#clip280)\" d=\"M91.4317 832.13 Q88.2836 832.13 86.4318 834.283 Q84.6031 836.436 84.6031 840.186 Q84.6031 843.913 86.4318 846.089 Q88.2836 848.242 91.4317 848.242 Q94.5799 848.242 96.4085 846.089 Q98.2604 843.913 98.2604 840.186 Q98.2604 836.436 96.4085 834.283 Q94.5799 832.13 91.4317 832.13 M100.714 817.478 L100.714 821.737 Q98.9548 820.904 97.1493 820.464 Q95.3669 820.024 93.6076 820.024 Q88.978 820.024 86.5243 823.149 Q84.0938 826.274 83.7466 832.593 Q85.1123 830.58 87.1725 829.515 Q89.2327 828.427 91.7095 828.427 Q96.9178 828.427 99.927 831.598 Q102.959 834.746 102.959 840.186 Q102.959 845.51 99.8113 848.728 Q96.6632 851.945 91.4317 851.945 Q85.4364 851.945 82.2651 847.362 Q79.0938 842.755 79.0938 834.029 Q79.0938 825.834 82.9827 820.973 Q86.8716 816.089 93.4225 816.089 Q95.1817 816.089 96.9641 816.436 Q98.7696 816.783 100.714 817.478 Z\" fill=\"#000000\" fill-rule=\"nonzero\" fill-opacity=\"1\" /><path clip-path=\"url(#clip280)\" d=\"M91.1077 630.955 Q87.7743 630.955 85.8531 632.737 Q83.9549 634.519 83.9549 637.644 Q83.9549 640.769 85.8531 642.552 Q87.7743 644.334 91.1077 644.334 Q94.441 644.334 96.3623 642.552 Q98.2835 640.746 98.2835 637.644 Q98.2835 634.519 96.3623 632.737 Q94.4641 630.955 91.1077 630.955 M86.4318 628.964 Q83.4225 628.223 81.7327 626.163 Q80.066 624.103 80.066 621.14 Q80.066 616.996 83.0058 614.589 Q85.9688 612.182 91.1077 612.182 Q96.2697 612.182 99.2095 614.589 Q102.149 616.996 102.149 621.14 Q102.149 624.103 100.459 626.163 Q98.7928 628.223 95.8067 628.964 Q99.1863 629.751 101.061 632.043 Q102.959 634.334 102.959 637.644 Q102.959 642.668 99.8808 645.353 Q96.8252 648.038 91.1077 648.038 Q85.3901 648.038 82.3114 645.353 Q79.2559 642.668 79.2559 637.644 Q79.2559 634.334 81.154 632.043 Q83.0521 629.751 86.4318 628.964 M84.7188 621.58 Q84.7188 624.265 86.3855 625.77 Q88.0753 627.274 91.1077 627.274 Q94.1169 627.274 95.8067 625.77 Q97.5197 624.265 97.5197 621.58 Q97.5197 618.895 95.8067 617.39 Q94.1169 615.885 91.1077 615.885 Q88.0753 615.885 86.3855 617.39 Q84.7188 618.895 84.7188 621.58 Z\" fill=\"#000000\" fill-rule=\"nonzero\" fill-opacity=\"1\" /><path clip-path=\"url(#clip280)\" d=\"M51.6634 439.524 L59.3023 439.524 L59.3023 413.159 L50.9921 414.825 L50.9921 410.566 L59.256 408.899 L63.9319 408.899 L63.9319 439.524 L71.5707 439.524 L71.5707 443.459 L51.6634 443.459 L51.6634 439.524 Z\" fill=\"#000000\" fill-rule=\"nonzero\" fill-opacity=\"1\" /><path clip-path=\"url(#clip280)\" d=\"M91.0151 411.978 Q87.404 411.978 85.5753 415.543 Q83.7697 419.084 83.7697 426.214 Q83.7697 433.321 85.5753 436.885 Q87.404 440.427 91.0151 440.427 Q94.6493 440.427 96.4548 436.885 Q98.2835 433.321 98.2835 426.214 Q98.2835 419.084 96.4548 415.543 Q94.6493 411.978 91.0151 411.978 M91.0151 408.274 Q96.8252 408.274 99.8808 412.881 Q102.959 417.464 102.959 426.214 Q102.959 434.941 99.8808 439.547 Q96.8252 444.131 91.0151 444.131 Q85.2049 444.131 82.1262 439.547 Q79.0707 434.941 79.0707 426.214 Q79.0707 417.464 82.1262 412.881 Q85.2049 408.274 91.0151 408.274 Z\" fill=\"#000000\" fill-rule=\"nonzero\" fill-opacity=\"1\" /><path clip-path=\"url(#clip280)\" d=\"M53.2606 235.617 L60.8995 235.617 L60.8995 209.251 L52.5893 210.918 L52.5893 206.659 L60.8532 204.992 L65.5291 204.992 L65.5291 235.617 L73.1679 235.617 L73.1679 239.552 L53.2606 239.552 L53.2606 235.617 Z\" fill=\"#000000\" fill-rule=\"nonzero\" fill-opacity=\"1\" /><path clip-path=\"url(#clip280)\" d=\"M86.6401 235.617 L102.959 235.617 L102.959 239.552 L81.0151 239.552 L81.0151 235.617 Q83.6771 232.862 88.2604 228.233 Q92.8669 223.58 94.0475 222.237 Q96.2928 219.714 97.1724 217.978 Q98.0752 216.219 98.0752 214.529 Q98.0752 211.774 96.1308 210.038 Q94.2095 208.302 91.1077 208.302 Q88.9086 208.302 86.4549 209.066 Q84.0244 209.83 81.2466 211.381 L81.2466 206.659 Q84.0707 205.524 86.5243 204.946 Q88.978 204.367 91.0151 204.367 Q96.3854 204.367 99.5798 207.052 Q102.774 209.737 102.774 214.228 Q102.774 216.358 101.964 218.279 Q101.177 220.177 99.0706 222.77 Q98.4919 223.441 95.39 226.659 Q92.2882 229.853 86.6401 235.617 Z\" fill=\"#000000\" fill-rule=\"nonzero\" fill-opacity=\"1\" /><polyline clip-path=\"url(#clip282)\" style=\"stroke:#009af9; stroke-linecap:round; stroke-linejoin:round; stroke-width:4; stroke-opacity:1; fill:none\" points=\"201.614,87.9763 222.499,87.9763 243.384,87.9763 264.269,87.9763 285.154,87.9763 306.038,87.9763 326.923,87.9763 347.808,87.9763 368.693,87.9763 389.578,87.9763 410.463,87.9763 431.348,87.9763 452.233,87.9763 473.117,87.9763 494.002,87.9763 514.887,87.9763 535.772,87.9763 556.657,87.9764 577.542,87.9764 598.427,87.9764 619.312,87.9764 640.196,87.9765 661.081,87.9765 681.966,87.9766 702.851,87.9767 723.736,87.9768 744.621,87.9769 765.506,87.977 786.39,87.9772 807.275,87.9774 828.16,87.9777 849.045,87.978 869.93,87.9784 890.815,87.9789 911.7,87.9795 932.585,87.9803 953.469,87.9813 974.354,87.9824 995.239,87.9839 1016.12,87.9857 1037.01,87.9879 1057.89,87.9907 1078.78,87.9941 1099.66,87.9983 1120.55,88.0036 1141.43,88.01 1162.32,88.018 1183.2,88.0279 1204.09,88.0401 1224.97,88.0553 1245.86,88.074 1266.74,88.0971 1287.63,88.1257 1308.51,88.1611 1329.4,88.2049 1350.28,88.259 1371.17,88.3259 1392.05,88.4087 1412.94,88.5111 1433.82,88.6377 1454.71,88.7942 1475.59,88.9878 1496.48,89.2272 1517.36,89.5231 1538.25,89.8889 1559.13,90.3412 1580.02,90.9001 1600.9,91.5907 1621.79,92.444 1642.67,93.498 1663.56,94.7994 1684.44,96.4057 1705.32,98.3874 1726.21,100.831 1747.09,103.842 1767.98,107.548 1788.86,112.107 1809.75,117.705 1830.63,124.571 1851.52,132.974 1872.4,143.235 1893.29,155.73 1914.17,170.895 1935.06,189.224 1955.94,211.272 1976.83,237.642 1997.71,268.97 2018.6,305.897 2039.48,349.033 2060.37,398.906 2081.25,455.911 2102.14,520.25 2123.02,591.882 2143.91,670.499 2164.79,755.513 2185.68,846.088 2206.56,941.183 2227.45,1039.63 2248.33,1140.2 2269.22,1241.83 2290.1,1343.76 \"/>\n",
       "<polyline clip-path=\"url(#clip282)\" style=\"stroke:#e26f46; stroke-linecap:round; stroke-linejoin:round; stroke-width:4; stroke-opacity:1; fill:none\" points=\"201.614,1119.3 222.499,1119.3 243.384,1119.3 264.269,1119.3 285.154,1119.3 306.038,1119.3 326.923,1119.3 347.808,1119.3 368.693,1119.3 389.578,1119.3 410.463,1119.3 431.348,1119.3 452.233,1119.3 473.117,1119.3 494.002,1119.3 514.887,1119.3 535.772,1119.3 556.657,1119.3 577.542,1119.3 598.427,1119.3 619.312,1119.3 640.196,1119.3 661.081,1119.3 681.966,1119.3 702.851,1119.3 723.736,1119.3 744.621,1119.31 765.506,1119.31 786.39,1119.31 807.275,1119.31 828.16,1119.31 849.045,1119.31 869.93,1119.31 890.815,1119.31 911.7,1119.31 932.585,1119.31 953.469,1119.31 974.354,1119.31 995.239,1119.31 1016.12,1119.31 1037.01,1119.31 1057.89,1119.31 1078.78,1119.31 1099.66,1119.31 1120.55,1119.31 1141.43,1119.32 1162.32,1119.32 1183.2,1119.32 1204.09,1119.33 1224.97,1119.33 1245.86,1119.34 1266.74,1119.35 1287.63,1119.36 1308.51,1119.37 1329.4,1119.38 1350.28,1119.4 1371.17,1119.42 1392.05,1119.45 1412.94,1119.49 1433.82,1119.53 1454.71,1119.58 1475.59,1119.65 1496.48,1119.73 1517.36,1119.83 1538.25,1119.95 1559.13,1120.11 1580.02,1120.3 1600.9,1120.53 1621.79,1120.82 1642.67,1121.18 1663.56,1121.62 1684.44,1122.17 1705.32,1122.84 1726.21,1123.66 1747.09,1124.68 1767.98,1125.94 1788.86,1127.47 1809.75,1129.36 1830.63,1131.67 1851.52,1134.49 1872.4,1137.93 1893.29,1142.1 1914.17,1147.14 1935.06,1153.2 1955.94,1160.46 1976.83,1169.07 1997.71,1179.23 2018.6,1191.08 2039.48,1204.77 2060.37,1220.37 2081.25,1237.9 2102.14,1257.31 2123.02,1278.43 2143.91,1301.01 2164.79,1324.7 2185.68,1349.06 2206.56,1373.52 2227.45,1397.25 2248.33,1418.84 2269.22,1435.99 2290.1,1445.72 \"/>\n",
       "<polyline clip-path=\"url(#clip282)\" style=\"stroke:#3da44d; stroke-linecap:round; stroke-linejoin:round; stroke-width:4; stroke-opacity:1; fill:none\" points=\"201.614,976.371 222.499,976.371 243.384,976.371 264.269,976.371 285.154,976.371 306.038,976.371 326.923,976.371 347.808,976.371 368.693,976.371 389.578,976.371 410.463,976.371 431.348,976.371 452.233,976.371 473.117,976.371 494.002,976.371 514.887,976.371 535.772,976.371 556.657,976.371 577.542,976.371 598.427,976.371 619.312,976.371 640.196,976.371 661.081,976.371 681.966,976.371 702.851,976.371 723.736,976.371 744.621,976.371 765.506,976.371 786.39,976.371 807.275,976.371 828.16,976.371 849.045,976.371 869.93,976.371 890.815,976.371 911.7,976.371 932.585,976.371 953.469,976.371 974.354,976.371 995.239,976.372 1016.12,976.372 1037.01,976.372 1057.89,976.372 1078.78,976.373 1099.66,976.373 1120.55,976.374 1141.43,976.375 1162.32,976.376 1183.2,976.377 1204.09,976.378 1224.97,976.38 1245.86,976.382 1266.74,976.385 1287.63,976.388 1308.51,976.392 1329.4,976.397 1350.28,976.403 1371.17,976.411 1392.05,976.421 1412.94,976.432 1433.82,976.447 1454.71,976.465 1475.59,976.488 1496.48,976.515 1517.36,976.549 1538.25,976.592 1559.13,976.644 1580.02,976.708 1600.9,976.788 1621.79,976.886 1642.67,977.007 1663.56,977.157 1684.44,977.342 1705.32,977.569 1726.21,977.849 1747.09,978.194 1767.98,978.617 1788.86,979.137 1809.75,979.773 1830.63,980.55 1851.52,981.498 1872.4,982.649 1893.29,984.042 1914.17,985.722 1935.06,987.735 1955.94,990.134 1976.83,992.972 1997.71,996.304 2018.6,1000.18 2039.48,1004.66 2060.37,1009.78 2081.25,1015.63 2102.14,1022.31 2123.02,1030.06 2143.91,1039.35 2164.79,1051.08 2185.68,1066.96 2206.56,1089.92 2227.45,1124.51 2248.33,1176.45 2269.22,1250.15 2290.1,1343.76 \"/>\n",
       "<polyline clip-path=\"url(#clip282)\" style=\"stroke:#c271d2; stroke-linecap:round; stroke-linejoin:round; stroke-width:4; stroke-opacity:1; fill:none\" points=\"201.614,87.9763 222.499,87.9763 243.384,87.9763 264.269,87.9763 285.154,87.9763 306.038,87.9763 326.923,87.9763 347.808,87.9763 368.693,87.9763 389.578,87.9763 410.463,87.9763 431.348,87.9763 452.233,87.9763 473.117,87.9763 494.002,87.9763 514.887,87.9763 535.772,87.9763 556.657,87.9764 577.542,87.9764 598.427,87.9764 619.312,87.9764 640.196,87.9765 661.081,87.9765 681.966,87.9766 702.851,87.9767 723.736,87.9768 744.621,87.9769 765.506,87.977 786.39,87.9772 807.275,87.9774 828.16,87.9777 849.045,87.978 869.93,87.9784 890.815,87.9789 911.7,87.9795 932.585,87.9803 953.469,87.9813 974.354,87.9824 995.239,87.9839 1016.12,87.9857 1037.01,87.9879 1057.89,87.9907 1078.78,87.9941 1099.66,87.9983 1120.55,88.0036 1141.43,88.01 1162.32,88.018 1183.2,88.0279 1204.09,88.0401 1224.97,88.0553 1245.86,88.074 1266.74,88.0971 1287.63,88.1257 1308.51,88.1611 1329.4,88.2049 1350.28,88.259 1371.17,88.3259 1392.05,88.4087 1412.94,88.5111 1433.82,88.6377 1454.71,88.7942 1475.59,88.9878 1496.48,89.2272 1517.36,89.5231 1538.25,89.8889 1559.13,90.3412 1580.02,90.9001 1600.9,91.5907 1621.79,92.444 1642.67,93.498 1663.56,94.7994 1684.44,96.4057 1705.32,98.3874 1726.21,100.831 1747.09,103.842 1767.98,107.548 1788.86,112.107 1809.75,117.705 1830.63,124.571 1851.52,132.974 1872.4,143.235 1893.29,155.73 1914.17,170.895 1935.06,189.224 1955.94,211.272 1976.83,237.642 1997.71,268.97 2018.6,305.897 2039.48,349.033 2060.37,398.906 2081.25,455.911 2102.14,520.25 2123.02,591.882 2143.91,670.499 2164.79,755.513 2185.68,846.088 2206.56,941.183 2227.45,1039.63 2248.33,1140.2 2269.22,1241.83 2290.1,1343.76 \"/>\n",
       "<polyline clip-path=\"url(#clip282)\" style=\"stroke:#ac8d18; stroke-linecap:round; stroke-linejoin:round; stroke-width:4; stroke-opacity:1; fill:none\" points=\"201.614,1119.3 222.499,1119.3 243.384,1119.3 264.269,1119.3 285.154,1119.3 306.038,1119.3 326.923,1119.3 347.808,1119.3 368.693,1119.3 389.578,1119.3 410.463,1119.3 431.348,1119.3 452.233,1119.3 473.117,1119.3 494.002,1119.3 514.887,1119.3 535.772,1119.3 556.657,1119.3 577.542,1119.3 598.427,1119.3 619.312,1119.3 640.196,1119.3 661.081,1119.3 681.966,1119.3 702.851,1119.3 723.736,1119.3 744.621,1119.31 765.506,1119.31 786.39,1119.31 807.275,1119.31 828.16,1119.31 849.045,1119.31 869.93,1119.31 890.815,1119.31 911.7,1119.31 932.585,1119.31 953.469,1119.31 974.354,1119.31 995.239,1119.31 1016.12,1119.31 1037.01,1119.31 1057.89,1119.31 1078.78,1119.31 1099.66,1119.31 1120.55,1119.31 1141.43,1119.32 1162.32,1119.32 1183.2,1119.32 1204.09,1119.33 1224.97,1119.33 1245.86,1119.34 1266.74,1119.35 1287.63,1119.36 1308.51,1119.37 1329.4,1119.38 1350.28,1119.4 1371.17,1119.42 1392.05,1119.45 1412.94,1119.49 1433.82,1119.53 1454.71,1119.58 1475.59,1119.65 1496.48,1119.73 1517.36,1119.83 1538.25,1119.95 1559.13,1120.11 1580.02,1120.3 1600.9,1120.53 1621.79,1120.82 1642.67,1121.18 1663.56,1121.62 1684.44,1122.17 1705.32,1122.84 1726.21,1123.66 1747.09,1124.68 1767.98,1125.94 1788.86,1127.47 1809.75,1129.36 1830.63,1131.67 1851.52,1134.49 1872.4,1137.93 1893.29,1142.1 1914.17,1147.14 1935.06,1153.2 1955.94,1160.46 1976.83,1169.07 1997.71,1179.23 2018.6,1191.08 2039.48,1204.77 2060.37,1220.37 2081.25,1237.9 2102.14,1257.31 2123.02,1278.43 2143.91,1301.01 2164.79,1324.7 2185.68,1349.06 2206.56,1373.52 2227.45,1397.25 2248.33,1418.84 2269.22,1435.99 2290.1,1445.72 \"/>\n",
       "<polyline clip-path=\"url(#clip282)\" style=\"stroke:#00a9ad; stroke-linecap:round; stroke-linejoin:round; stroke-width:4; stroke-opacity:1; fill:none\" points=\"201.614,976.371 222.499,976.371 243.384,976.371 264.269,976.371 285.154,976.371 306.038,976.371 326.923,976.371 347.808,976.371 368.693,976.371 389.578,976.371 410.463,976.371 431.348,976.371 452.233,976.371 473.117,976.371 494.002,976.371 514.887,976.371 535.772,976.371 556.657,976.371 577.542,976.371 598.427,976.371 619.312,976.371 640.196,976.371 661.081,976.371 681.966,976.371 702.851,976.371 723.736,976.371 744.621,976.371 765.506,976.371 786.39,976.371 807.275,976.371 828.16,976.371 849.045,976.371 869.93,976.371 890.815,976.371 911.7,976.371 932.585,976.371 953.469,976.371 974.354,976.371 995.239,976.372 1016.12,976.372 1037.01,976.372 1057.89,976.372 1078.78,976.373 1099.66,976.373 1120.55,976.374 1141.43,976.375 1162.32,976.376 1183.2,976.377 1204.09,976.378 1224.97,976.38 1245.86,976.382 1266.74,976.385 1287.63,976.388 1308.51,976.392 1329.4,976.397 1350.28,976.403 1371.17,976.411 1392.05,976.421 1412.94,976.432 1433.82,976.447 1454.71,976.465 1475.59,976.488 1496.48,976.515 1517.36,976.549 1538.25,976.592 1559.13,976.644 1580.02,976.708 1600.9,976.788 1621.79,976.886 1642.67,977.007 1663.56,977.157 1684.44,977.342 1705.32,977.569 1726.21,977.849 1747.09,978.194 1767.98,978.617 1788.86,979.137 1809.75,979.773 1830.63,980.55 1851.52,981.498 1872.4,982.649 1893.29,984.042 1914.17,985.722 1935.06,987.735 1955.94,990.134 1976.83,992.972 1997.71,996.304 2018.6,1000.18 2039.48,1004.66 2060.37,1009.78 2081.25,1015.63 2102.14,1022.31 2123.02,1030.06 2143.91,1039.35 2164.79,1051.08 2185.68,1066.96 2206.56,1089.92 2227.45,1124.51 2248.33,1176.45 2269.22,1250.15 2290.1,1343.76 \"/>\n",
       "<path clip-path=\"url(#clip280)\" d=\"M212.753 1438.47 L571.678 1438.47 L571.678 1075.59 L212.753 1075.59  Z\" fill=\"#ffffff\" fill-rule=\"evenodd\" fill-opacity=\"1\"/>\n",
       "<polyline clip-path=\"url(#clip280)\" style=\"stroke:#000000; stroke-linecap:round; stroke-linejoin:round; stroke-width:4; stroke-opacity:1; fill:none\" points=\"212.753,1438.47 571.678,1438.47 571.678,1075.59 212.753,1075.59 212.753,1438.47 \"/>\n",
       "<polyline clip-path=\"url(#clip280)\" style=\"stroke:#009af9; stroke-linecap:round; stroke-linejoin:round; stroke-width:4; stroke-opacity:1; fill:none\" points=\"237.35,1127.43 384.937,1127.43 \"/>\n",
       "<path clip-path=\"url(#clip280)\" d=\"M414.21 1114 L414.21 1140.87 L419.859 1140.87 Q427.011 1140.87 430.321 1137.63 Q433.655 1134.39 433.655 1127.4 Q433.655 1120.46 430.321 1117.24 Q427.011 1114 419.859 1114 L414.21 1114 M409.535 1110.15 L419.141 1110.15 Q429.187 1110.15 433.886 1114.34 Q438.585 1118.51 438.585 1127.4 Q438.585 1136.33 433.863 1140.52 Q429.141 1144.71 419.141 1144.71 L409.535 1144.71 L409.535 1110.15 Z\" fill=\"#000000\" fill-rule=\"nonzero\" fill-opacity=\"1\" /><path clip-path=\"url(#clip280)\" d=\"M450.715 1114 L450.715 1126.98 L456.594 1126.98 Q459.858 1126.98 461.641 1125.29 Q463.423 1123.6 463.423 1120.48 Q463.423 1117.38 461.641 1115.69 Q459.858 1114 456.594 1114 L450.715 1114 M446.039 1110.15 L456.594 1110.15 Q462.405 1110.15 465.368 1112.79 Q468.354 1115.41 468.354 1120.48 Q468.354 1125.59 465.368 1128.21 Q462.405 1130.83 456.594 1130.83 L450.715 1130.83 L450.715 1144.71 L446.039 1144.71 L446.039 1110.15 Z\" fill=\"#000000\" fill-rule=\"nonzero\" fill-opacity=\"1\" /><path clip-path=\"url(#clip280)\" d=\"M494.372 1114 L494.372 1126.98 L500.252 1126.98 Q503.516 1126.98 505.298 1125.29 Q507.08 1123.6 507.08 1120.48 Q507.08 1117.38 505.298 1115.69 Q503.516 1114 500.252 1114 L494.372 1114 M489.696 1110.15 L500.252 1110.15 Q506.062 1110.15 509.025 1112.79 Q512.011 1115.41 512.011 1120.48 Q512.011 1125.59 509.025 1128.21 Q506.062 1130.83 500.252 1130.83 L494.372 1130.83 L494.372 1144.71 L489.696 1144.71 L489.696 1110.15 Z\" fill=\"#000000\" fill-rule=\"nonzero\" fill-opacity=\"1\" /><path clip-path=\"url(#clip280)\" d=\"M519.511 1140.78 L527.15 1140.78 L527.15 1114.41 L518.84 1116.08 L518.84 1111.82 L527.103 1110.15 L531.779 1110.15 L531.779 1140.78 L539.418 1140.78 L539.418 1144.71 L519.511 1144.71 L519.511 1140.78 Z\" fill=\"#000000\" fill-rule=\"nonzero\" fill-opacity=\"1\" /><polyline clip-path=\"url(#clip280)\" style=\"stroke:#e26f46; stroke-linecap:round; stroke-linejoin:round; stroke-width:4; stroke-opacity:1; fill:none\" points=\"237.35,1179.27 384.937,1179.27 \"/>\n",
       "<path clip-path=\"url(#clip280)\" d=\"M414.21 1165.84 L414.21 1192.71 L419.859 1192.71 Q427.011 1192.71 430.321 1189.47 Q433.655 1186.23 433.655 1179.24 Q433.655 1172.3 430.321 1169.08 Q427.011 1165.84 419.859 1165.84 L414.21 1165.84 M409.535 1161.99 L419.141 1161.99 Q429.187 1161.99 433.886 1166.18 Q438.585 1170.35 438.585 1179.24 Q438.585 1188.17 433.863 1192.36 Q429.141 1196.55 419.141 1196.55 L409.535 1196.55 L409.535 1161.99 Z\" fill=\"#000000\" fill-rule=\"nonzero\" fill-opacity=\"1\" /><path clip-path=\"url(#clip280)\" d=\"M450.715 1165.84 L450.715 1178.82 L456.594 1178.82 Q459.858 1178.82 461.641 1177.13 Q463.423 1175.44 463.423 1172.32 Q463.423 1169.22 461.641 1167.53 Q459.858 1165.84 456.594 1165.84 L450.715 1165.84 M446.039 1161.99 L456.594 1161.99 Q462.405 1161.99 465.368 1164.63 Q468.354 1167.25 468.354 1172.32 Q468.354 1177.43 465.368 1180.05 Q462.405 1182.67 456.594 1182.67 L450.715 1182.67 L450.715 1196.55 L446.039 1196.55 L446.039 1161.99 Z\" fill=\"#000000\" fill-rule=\"nonzero\" fill-opacity=\"1\" /><path clip-path=\"url(#clip280)\" d=\"M494.372 1165.84 L494.372 1178.82 L500.252 1178.82 Q503.516 1178.82 505.298 1177.13 Q507.08 1175.44 507.08 1172.32 Q507.08 1169.22 505.298 1167.53 Q503.516 1165.84 500.252 1165.84 L494.372 1165.84 M489.696 1161.99 L500.252 1161.99 Q506.062 1161.99 509.025 1164.63 Q512.011 1167.25 512.011 1172.32 Q512.011 1177.43 509.025 1180.05 Q506.062 1182.67 500.252 1182.67 L494.372 1182.67 L494.372 1196.55 L489.696 1196.55 L489.696 1161.99 Z\" fill=\"#000000\" fill-rule=\"nonzero\" fill-opacity=\"1\" /><path clip-path=\"url(#clip280)\" d=\"M522.728 1192.62 L539.048 1192.62 L539.048 1196.55 L517.103 1196.55 L517.103 1192.62 Q519.765 1189.86 524.349 1185.24 Q528.955 1180.58 530.136 1179.24 Q532.381 1176.72 533.261 1174.98 Q534.164 1173.22 534.164 1171.53 Q534.164 1168.78 532.219 1167.04 Q530.298 1165.3 527.196 1165.3 Q524.997 1165.3 522.543 1166.07 Q520.113 1166.83 517.335 1168.38 L517.335 1163.66 Q520.159 1162.53 522.613 1161.95 Q525.066 1161.37 527.103 1161.37 Q532.474 1161.37 535.668 1164.05 Q538.863 1166.74 538.863 1171.23 Q538.863 1173.36 538.052 1175.28 Q537.265 1177.18 535.159 1179.77 Q534.58 1180.44 531.478 1183.66 Q528.377 1186.86 522.728 1192.62 Z\" fill=\"#000000\" fill-rule=\"nonzero\" fill-opacity=\"1\" /><polyline clip-path=\"url(#clip280)\" style=\"stroke:#3da44d; stroke-linecap:round; stroke-linejoin:round; stroke-width:4; stroke-opacity:1; fill:none\" points=\"237.35,1231.11 384.937,1231.11 \"/>\n",
       "<path clip-path=\"url(#clip280)\" d=\"M414.21 1217.68 L414.21 1244.55 L419.859 1244.55 Q427.011 1244.55 430.321 1241.31 Q433.655 1238.07 433.655 1231.08 Q433.655 1224.14 430.321 1220.92 Q427.011 1217.68 419.859 1217.68 L414.21 1217.68 M409.535 1213.83 L419.141 1213.83 Q429.187 1213.83 433.886 1218.02 Q438.585 1222.19 438.585 1231.08 Q438.585 1240.01 433.863 1244.2 Q429.141 1248.39 419.141 1248.39 L409.535 1248.39 L409.535 1213.83 Z\" fill=\"#000000\" fill-rule=\"nonzero\" fill-opacity=\"1\" /><path clip-path=\"url(#clip280)\" d=\"M450.715 1217.68 L450.715 1230.66 L456.594 1230.66 Q459.858 1230.66 461.641 1228.97 Q463.423 1227.28 463.423 1224.16 Q463.423 1221.06 461.641 1219.37 Q459.858 1217.68 456.594 1217.68 L450.715 1217.68 M446.039 1213.83 L456.594 1213.83 Q462.405 1213.83 465.368 1216.47 Q468.354 1219.09 468.354 1224.16 Q468.354 1229.27 465.368 1231.89 Q462.405 1234.51 456.594 1234.51 L450.715 1234.51 L450.715 1248.39 L446.039 1248.39 L446.039 1213.83 Z\" fill=\"#000000\" fill-rule=\"nonzero\" fill-opacity=\"1\" /><path clip-path=\"url(#clip280)\" d=\"M494.372 1217.68 L494.372 1230.66 L500.252 1230.66 Q503.516 1230.66 505.298 1228.97 Q507.08 1227.28 507.08 1224.16 Q507.08 1221.06 505.298 1219.37 Q503.516 1217.68 500.252 1217.68 L494.372 1217.68 M489.696 1213.83 L500.252 1213.83 Q506.062 1213.83 509.025 1216.47 Q512.011 1219.09 512.011 1224.16 Q512.011 1229.27 509.025 1231.89 Q506.062 1234.51 500.252 1234.51 L494.372 1234.51 L494.372 1248.39 L489.696 1248.39 L489.696 1213.83 Z\" fill=\"#000000\" fill-rule=\"nonzero\" fill-opacity=\"1\" /><path clip-path=\"url(#clip280)\" d=\"M532.867 1229.76 Q536.224 1230.48 538.099 1232.75 Q539.997 1235.01 539.997 1238.35 Q539.997 1243.46 536.478 1246.26 Q532.96 1249.07 526.478 1249.07 Q524.302 1249.07 521.988 1248.63 Q519.696 1248.21 517.242 1247.35 L517.242 1242.84 Q519.187 1243.97 521.502 1244.55 Q523.816 1245.13 526.339 1245.13 Q530.738 1245.13 533.029 1243.39 Q535.344 1241.66 535.344 1238.35 Q535.344 1235.29 533.191 1233.58 Q531.062 1231.84 527.242 1231.84 L523.215 1231.84 L523.215 1228 L527.427 1228 Q530.877 1228 532.705 1226.64 Q534.534 1225.25 534.534 1222.65 Q534.534 1219.99 532.636 1218.58 Q530.761 1217.14 527.242 1217.14 Q525.321 1217.14 523.122 1217.56 Q520.923 1217.98 518.284 1218.86 L518.284 1214.69 Q520.946 1213.95 523.261 1213.58 Q525.599 1213.21 527.659 1213.21 Q532.983 1213.21 536.085 1215.64 Q539.187 1218.05 539.187 1222.17 Q539.187 1225.04 537.543 1227.03 Q535.9 1229 532.867 1229.76 Z\" fill=\"#000000\" fill-rule=\"nonzero\" fill-opacity=\"1\" /><polyline clip-path=\"url(#clip280)\" style=\"stroke:#c271d2; stroke-linecap:round; stroke-linejoin:round; stroke-width:4; stroke-opacity:1; fill:none\" points=\"237.35,1282.95 384.937,1282.95 \"/>\n",
       "<path clip-path=\"url(#clip280)\" d=\"M425.923 1284.03 Q427.428 1284.54 428.84 1286.21 Q430.275 1287.87 431.71 1290.79 L436.456 1300.23 L431.433 1300.23 L427.011 1291.37 Q425.298 1287.9 423.678 1286.76 Q422.081 1285.63 419.303 1285.63 L414.21 1285.63 L414.21 1300.23 L409.535 1300.23 L409.535 1265.67 L420.09 1265.67 Q426.016 1265.67 428.933 1268.15 Q431.849 1270.63 431.849 1275.63 Q431.849 1278.89 430.321 1281.04 Q428.817 1283.2 425.923 1284.03 M414.21 1269.52 L414.21 1281.79 L420.09 1281.79 Q423.47 1281.79 425.183 1280.23 Q426.919 1278.66 426.919 1275.63 Q426.919 1272.6 425.183 1271.07 Q423.47 1269.52 420.09 1269.52 L414.21 1269.52 Z\" fill=\"#000000\" fill-rule=\"nonzero\" fill-opacity=\"1\" /><path clip-path=\"url(#clip280)\" d=\"M442.289 1274.31 L446.548 1274.31 L446.548 1300.23 L442.289 1300.23 L442.289 1274.31 M442.289 1264.22 L446.548 1264.22 L446.548 1269.61 L442.289 1269.61 L442.289 1264.22 Z\" fill=\"#000000\" fill-rule=\"nonzero\" fill-opacity=\"1\" /><path clip-path=\"url(#clip280)\" d=\"M474.118 1275.3 L474.118 1279.29 Q472.312 1278.29 470.483 1277.8 Q468.678 1277.29 466.826 1277.29 Q462.682 1277.29 460.391 1279.93 Q458.099 1282.55 458.099 1287.29 Q458.099 1292.04 460.391 1294.68 Q462.682 1297.29 466.826 1297.29 Q468.678 1297.29 470.483 1296.81 Q472.312 1296.3 474.118 1295.3 L474.118 1299.24 Q472.335 1300.07 470.414 1300.49 Q468.516 1300.91 466.363 1300.91 Q460.507 1300.91 457.057 1297.23 Q453.608 1293.54 453.608 1287.29 Q453.608 1280.95 457.081 1277.32 Q460.576 1273.68 466.641 1273.68 Q468.608 1273.68 470.483 1274.1 Q472.358 1274.49 474.118 1275.3 Z\" fill=\"#000000\" fill-rule=\"nonzero\" fill-opacity=\"1\" /><path clip-path=\"url(#clip280)\" d=\"M501.455 1269.52 L501.455 1282.5 L507.335 1282.5 Q510.599 1282.5 512.381 1280.81 Q514.164 1279.12 514.164 1276 Q514.164 1272.9 512.381 1271.21 Q510.599 1269.52 507.335 1269.52 L501.455 1269.52 M496.779 1265.67 L507.335 1265.67 Q513.145 1265.67 516.108 1268.31 Q519.094 1270.93 519.094 1276 Q519.094 1281.11 516.108 1283.73 Q513.145 1286.35 507.335 1286.35 L501.455 1286.35 L501.455 1300.23 L496.779 1300.23 L496.779 1265.67 Z\" fill=\"#000000\" fill-rule=\"nonzero\" fill-opacity=\"1\" /><path clip-path=\"url(#clip280)\" d=\"M526.594 1296.3 L534.233 1296.3 L534.233 1269.93 L525.923 1271.6 L525.923 1267.34 L534.187 1265.67 L538.863 1265.67 L538.863 1296.3 L546.501 1296.3 L546.501 1300.23 L526.594 1300.23 L526.594 1296.3 Z\" fill=\"#000000\" fill-rule=\"nonzero\" fill-opacity=\"1\" /><polyline clip-path=\"url(#clip280)\" style=\"stroke:#ac8d18; stroke-linecap:round; stroke-linejoin:round; stroke-width:4; stroke-opacity:1; fill:none\" points=\"237.35,1334.79 384.937,1334.79 \"/>\n",
       "<path clip-path=\"url(#clip280)\" d=\"M425.923 1335.87 Q427.428 1336.38 428.84 1338.05 Q430.275 1339.71 431.71 1342.63 L436.456 1352.07 L431.433 1352.07 L427.011 1343.21 Q425.298 1339.74 423.678 1338.6 Q422.081 1337.47 419.303 1337.47 L414.21 1337.47 L414.21 1352.07 L409.535 1352.07 L409.535 1317.51 L420.09 1317.51 Q426.016 1317.51 428.933 1319.99 Q431.849 1322.47 431.849 1327.47 Q431.849 1330.73 430.321 1332.88 Q428.817 1335.04 425.923 1335.87 M414.21 1321.36 L414.21 1333.63 L420.09 1333.63 Q423.47 1333.63 425.183 1332.07 Q426.919 1330.5 426.919 1327.47 Q426.919 1324.44 425.183 1322.91 Q423.47 1321.36 420.09 1321.36 L414.21 1321.36 Z\" fill=\"#000000\" fill-rule=\"nonzero\" fill-opacity=\"1\" /><path clip-path=\"url(#clip280)\" d=\"M442.289 1326.15 L446.548 1326.15 L446.548 1352.07 L442.289 1352.07 L442.289 1326.15 M442.289 1316.06 L446.548 1316.06 L446.548 1321.45 L442.289 1321.45 L442.289 1316.06 Z\" fill=\"#000000\" fill-rule=\"nonzero\" fill-opacity=\"1\" /><path clip-path=\"url(#clip280)\" d=\"M474.118 1327.14 L474.118 1331.13 Q472.312 1330.13 470.483 1329.64 Q468.678 1329.13 466.826 1329.13 Q462.682 1329.13 460.391 1331.77 Q458.099 1334.39 458.099 1339.13 Q458.099 1343.88 460.391 1346.52 Q462.682 1349.13 466.826 1349.13 Q468.678 1349.13 470.483 1348.65 Q472.312 1348.14 474.118 1347.14 L474.118 1351.08 Q472.335 1351.91 470.414 1352.33 Q468.516 1352.75 466.363 1352.75 Q460.507 1352.75 457.057 1349.07 Q453.608 1345.38 453.608 1339.13 Q453.608 1332.79 457.081 1329.16 Q460.576 1325.52 466.641 1325.52 Q468.608 1325.52 470.483 1325.94 Q472.358 1326.33 474.118 1327.14 Z\" fill=\"#000000\" fill-rule=\"nonzero\" fill-opacity=\"1\" /><path clip-path=\"url(#clip280)\" d=\"M501.455 1321.36 L501.455 1334.34 L507.335 1334.34 Q510.599 1334.34 512.381 1332.65 Q514.164 1330.96 514.164 1327.84 Q514.164 1324.74 512.381 1323.05 Q510.599 1321.36 507.335 1321.36 L501.455 1321.36 M496.779 1317.51 L507.335 1317.51 Q513.145 1317.51 516.108 1320.15 Q519.094 1322.77 519.094 1327.84 Q519.094 1332.95 516.108 1335.57 Q513.145 1338.19 507.335 1338.19 L501.455 1338.19 L501.455 1352.07 L496.779 1352.07 L496.779 1317.51 Z\" fill=\"#000000\" fill-rule=\"nonzero\" fill-opacity=\"1\" /><path clip-path=\"url(#clip280)\" d=\"M529.812 1348.14 L546.131 1348.14 L546.131 1352.07 L524.187 1352.07 L524.187 1348.14 Q526.849 1345.38 531.432 1340.76 Q536.039 1336.1 537.219 1334.76 Q539.464 1332.24 540.344 1330.5 Q541.247 1328.74 541.247 1327.05 Q541.247 1324.3 539.302 1322.56 Q537.381 1320.82 534.279 1320.82 Q532.08 1320.82 529.627 1321.59 Q527.196 1322.35 524.418 1323.9 L524.418 1319.18 Q527.242 1318.05 529.696 1317.47 Q532.15 1316.89 534.187 1316.89 Q539.557 1316.89 542.751 1319.57 Q545.946 1322.26 545.946 1326.75 Q545.946 1328.88 545.136 1330.8 Q544.349 1332.7 542.242 1335.29 Q541.663 1335.96 538.562 1339.18 Q535.46 1342.38 529.812 1348.14 Z\" fill=\"#000000\" fill-rule=\"nonzero\" fill-opacity=\"1\" /><polyline clip-path=\"url(#clip280)\" style=\"stroke:#00a9ad; stroke-linecap:round; stroke-linejoin:round; stroke-width:4; stroke-opacity:1; fill:none\" points=\"237.35,1386.63 384.937,1386.63 \"/>\n",
       "<path clip-path=\"url(#clip280)\" d=\"M425.923 1387.71 Q427.428 1388.22 428.84 1389.89 Q430.275 1391.55 431.71 1394.47 L436.456 1403.91 L431.433 1403.91 L427.011 1395.05 Q425.298 1391.58 423.678 1390.44 Q422.081 1389.31 419.303 1389.31 L414.21 1389.31 L414.21 1403.91 L409.535 1403.91 L409.535 1369.35 L420.09 1369.35 Q426.016 1369.35 428.933 1371.83 Q431.849 1374.31 431.849 1379.31 Q431.849 1382.57 430.321 1384.72 Q428.817 1386.88 425.923 1387.71 M414.21 1373.2 L414.21 1385.47 L420.09 1385.47 Q423.47 1385.47 425.183 1383.91 Q426.919 1382.34 426.919 1379.31 Q426.919 1376.28 425.183 1374.75 Q423.47 1373.2 420.09 1373.2 L414.21 1373.2 Z\" fill=\"#000000\" fill-rule=\"nonzero\" fill-opacity=\"1\" /><path clip-path=\"url(#clip280)\" d=\"M442.289 1377.99 L446.548 1377.99 L446.548 1403.91 L442.289 1403.91 L442.289 1377.99 M442.289 1367.9 L446.548 1367.9 L446.548 1373.29 L442.289 1373.29 L442.289 1367.9 Z\" fill=\"#000000\" fill-rule=\"nonzero\" fill-opacity=\"1\" /><path clip-path=\"url(#clip280)\" d=\"M474.118 1378.98 L474.118 1382.97 Q472.312 1381.97 470.483 1381.48 Q468.678 1380.97 466.826 1380.97 Q462.682 1380.97 460.391 1383.61 Q458.099 1386.23 458.099 1390.97 Q458.099 1395.72 460.391 1398.36 Q462.682 1400.97 466.826 1400.97 Q468.678 1400.97 470.483 1400.49 Q472.312 1399.98 474.118 1398.98 L474.118 1402.92 Q472.335 1403.75 470.414 1404.17 Q468.516 1404.59 466.363 1404.59 Q460.507 1404.59 457.057 1400.91 Q453.608 1397.22 453.608 1390.97 Q453.608 1384.63 457.081 1381 Q460.576 1377.36 466.641 1377.36 Q468.608 1377.36 470.483 1377.78 Q472.358 1378.17 474.118 1378.98 Z\" fill=\"#000000\" fill-rule=\"nonzero\" fill-opacity=\"1\" /><path clip-path=\"url(#clip280)\" d=\"M501.455 1373.2 L501.455 1386.18 L507.335 1386.18 Q510.599 1386.18 512.381 1384.49 Q514.164 1382.8 514.164 1379.68 Q514.164 1376.58 512.381 1374.89 Q510.599 1373.2 507.335 1373.2 L501.455 1373.2 M496.779 1369.35 L507.335 1369.35 Q513.145 1369.35 516.108 1371.99 Q519.094 1374.61 519.094 1379.68 Q519.094 1384.79 516.108 1387.41 Q513.145 1390.03 507.335 1390.03 L501.455 1390.03 L501.455 1403.91 L496.779 1403.91 L496.779 1369.35 Z\" fill=\"#000000\" fill-rule=\"nonzero\" fill-opacity=\"1\" /><path clip-path=\"url(#clip280)\" d=\"M539.951 1385.28 Q543.307 1386 545.182 1388.27 Q547.08 1390.53 547.08 1393.87 Q547.08 1398.98 543.562 1401.78 Q540.043 1404.59 533.562 1404.59 Q531.386 1404.59 529.071 1404.15 Q526.779 1403.73 524.326 1402.87 L524.326 1398.36 Q526.27 1399.49 528.585 1400.07 Q530.9 1400.65 533.423 1400.65 Q537.821 1400.65 540.113 1398.91 Q542.427 1397.18 542.427 1393.87 Q542.427 1390.81 540.275 1389.1 Q538.145 1387.36 534.326 1387.36 L530.298 1387.36 L530.298 1383.52 L534.511 1383.52 Q537.96 1383.52 539.788 1382.16 Q541.617 1380.77 541.617 1378.17 Q541.617 1375.51 539.719 1374.1 Q537.844 1372.66 534.326 1372.66 Q532.404 1372.66 530.205 1373.08 Q528.006 1373.5 525.367 1374.38 L525.367 1370.21 Q528.029 1369.47 530.344 1369.1 Q532.682 1368.73 534.742 1368.73 Q540.066 1368.73 543.168 1371.16 Q546.27 1373.57 546.27 1377.69 Q546.27 1380.56 544.626 1382.55 Q542.983 1384.52 539.951 1385.28 Z\" fill=\"#000000\" fill-rule=\"nonzero\" fill-opacity=\"1\" /></svg>\n"
      ]
     },
     "execution_count": 17,
     "metadata": {},
     "output_type": "execute_result"
    }
   ],
   "source": [
    "plot(P[1,1,:], label=\"DP P1\")\n",
    "plot!(P[2,1,:], label=\"DP P2\")\n",
    "plot!(P[2,2,:], label=\"DP P3\")\n",
    "\n",
    "plot!(P_ric[1,1,:], label=\"Ric P1\")\n",
    "plot!(P_ric[2,1,:], label=\"Ric P2\")\n",
    "plot!(P_ric[2,2,:], label=\"Ric P3\")"
   ]
  },
  {
   "cell_type": "code",
   "execution_count": 18,
   "id": "aecdb6aa-24f5-40ab-b5d5-fad5e6f75a8a",
   "metadata": {
    "scrolled": true
   },
   "outputs": [
    {
     "name": "stdout",
     "output_type": "stream",
     "text": [
      "P[:, :, 1] = [13.317224417922606 3.201562110826671; 3.2015621108266714 4.603514021099032]\n",
      "K[:, :, 1] = [2.585700889930541 3.4434359155576986]\n"
     ]
    },
    {
     "data": {
      "text/plain": [
       "1×2 Matrix{Float64}:\n",
       " 2.5857  3.44344"
      ]
     },
     "execution_count": 18,
     "metadata": {},
     "output_type": "execute_result"
    }
   ],
   "source": [
    "@show P[:,:,1] K[:,:,1]"
   ]
  },
  {
   "cell_type": "markdown",
   "id": "8b9b6cb1-d35d-4bc7-911f-6e4c43758871",
   "metadata": {},
   "source": [
    "## Compare costs"
   ]
  },
  {
   "cell_type": "code",
   "execution_count": 19,
   "id": "e34fe88a-50bc-49c7-b39b-641156b60814",
   "metadata": {},
   "outputs": [
    {
     "name": "stdout",
     "output_type": "stream",
     "text": [
      "J(xhist_dp, uhist_dp) = 6.658612208961312\n",
      "J(xhist_ric, uhist_ric) = 6.658612208961312\n",
      "J(xhist_qp, uhist_qp) = 6.658612208961312\n"
     ]
    },
    {
     "data": {
      "text/plain": [
       "6.658612208961312"
      ]
     },
     "execution_count": 19,
     "metadata": {},
     "output_type": "execute_result"
    }
   ],
   "source": [
    "@show J(xhist_dp, uhist_dp) J(xhist_ric, uhist_ric) J(xhist_qp, uhist_qp) "
   ]
  },
  {
   "cell_type": "markdown",
   "id": "673a592d-3977-471b-b2f9-8790ff0c3b41",
   "metadata": {},
   "source": [
    "## Compare K_inf and P_inf matrix"
   ]
  },
  {
   "cell_type": "code",
   "execution_count": 20,
   "id": "c5ddba0a-dce8-403e-98cf-70e9cfe82a97",
   "metadata": {},
   "outputs": [
    {
     "name": "stdout",
     "output_type": "stream",
     "text": [
      "K[:, :, 1] = [2.585700889930541 3.4434359155576986]\n",
      "Kinf = [2.5857008966598443 3.4434359178453318]\n"
     ]
    },
    {
     "data": {
      "text/plain": [
       "1×2 Matrix{Float64}:\n",
       " 2.5857  3.44344"
      ]
     },
     "execution_count": 20,
     "metadata": {},
     "output_type": "execute_result"
    }
   ],
   "source": [
    "Kinf = dlqr(A, B, Q, R)\n",
    "@show K[:,:,1] Kinf"
   ]
  },
  {
   "cell_type": "code",
   "execution_count": 21,
   "id": "3367f657-e7e1-482b-8d59-acc07ab8065d",
   "metadata": {},
   "outputs": [
    {
     "name": "stdout",
     "output_type": "stream",
     "text": [
      "P[:, :, 1] = [13.317224417922606 3.201562110826671; 3.2015621108266714 4.603514021099032]\n",
      "Pinf = [13.317224441131074 3.2015621187164105; 3.2015621187164105 4.603514023781153]\n"
     ]
    },
    {
     "data": {
      "text/plain": [
       "2×2 Matrix{Float64}:\n",
       " 13.3172   3.20156\n",
       "  3.20156  4.60351"
      ]
     },
     "execution_count": 21,
     "metadata": {},
     "output_type": "execute_result"
    }
   ],
   "source": [
    "Pinf = dare(A, B, Q, R)\n",
    "@show P[:,:,1] Pinf"
   ]
  },
  {
   "cell_type": "markdown",
   "id": "31ca4619-dcfb-488c-b474-3b5e25e15baf",
   "metadata": {},
   "source": [
    "## Forward rollout starting at random x_k"
   ]
  },
  {
   "cell_type": "code",
   "execution_count": 22,
   "id": "0d8ab412-dd09-4954-84a4-342b1005a448",
   "metadata": {},
   "outputs": [
    {
     "data": {
      "text/plain": [
       "rollout (generic function with 1 method)"
      ]
     },
     "execution_count": 22,
     "metadata": {},
     "output_type": "execute_result"
    }
   ],
   "source": [
    "function rollout(k,x)\n",
    "    xsub = zeros(n, N+1-k)\n",
    "    usub = zeros(m, N-k)\n",
    "    xsub[:,1] .= x\n",
    "\n",
    "    for i in 1:(N-k)\n",
    "        # @show k+i\n",
    "        usub[:,i] .= - K[:,:,k+i-1] * xsub[:,i]\n",
    "        xsub[:,i+1] .= A*xsub[:,i] + B*usub[i]\n",
    "    end\n",
    "\n",
    "    return xsub,usub\n",
    "end"
   ]
  },
  {
   "cell_type": "code",
   "execution_count": 23,
   "id": "9089de71-22c1-4b8d-a55d-4363ede714b1",
   "metadata": {},
   "outputs": [
    {
     "data": {
      "text/plain": [
       "([0.008565027630146473 0.007701497232424686 … 6.952721258612016e-5 6.689502637287264e-5; -0.0090937170650696 -0.008176890889366142 … -2.741601026646724e-5 -2.5227713998483276e-5], [0.009168261757034585 0.008244198746429749 … 3.913310967971362e-5 2.188296267983964e-5])"
      ]
     },
     "execution_count": 23,
     "metadata": {},
     "output_type": "execute_result"
    }
   ],
   "source": [
    "#Generate a sub-trajectory starting at xk\n",
    "k = 50\n",
    "xsub, usub = rollout(k, xhist_dp[:,k])"
   ]
  },
  {
   "cell_type": "markdown",
   "id": "05c2b40c-5217-41f5-a4a0-e23769c74bd1",
   "metadata": {},
   "source": [
    "## Compare DP traj and Rollout traj"
   ]
  },
  {
   "cell_type": "code",
   "execution_count": 24,
   "id": "f2c5eca2-38ab-49cd-abe7-cb608b7f7b1f",
   "metadata": {},
   "outputs": [
    {
     "data": {
      "text/plain": [
       "2×52 Matrix{Float64}:\n",
       " 0.0  0.0  0.0  0.0  0.0  0.0  0.0  0.0  …  0.0  0.0  0.0  0.0  0.0  0.0  0.0\n",
       " 0.0  0.0  0.0  0.0  0.0  0.0  0.0  0.0     0.0  0.0  0.0  0.0  0.0  0.0  0.0"
      ]
     },
     "execution_count": 24,
     "metadata": {},
     "output_type": "execute_result"
    }
   ],
   "source": [
    "xsub - xhist_dp[:,k:end]"
   ]
  },
  {
   "cell_type": "code",
   "execution_count": 25,
   "id": "a4b400ed-05e5-4981-88fe-cb186b1b5af1",
   "metadata": {},
   "outputs": [
    {
     "data": {
      "text/plain": [
       "1×51 Matrix{Float64}:\n",
       " 0.0  0.0  0.0  0.0  0.0  0.0  0.0  0.0  …  0.0  0.0  0.0  0.0  0.0  0.0  0.0"
      ]
     },
     "execution_count": 25,
     "metadata": {},
     "output_type": "execute_result"
    }
   ],
   "source": [
    "usub - uhist_dp[:,k:end]"
   ]
  },
  {
   "cell_type": "markdown",
   "id": "dce6c62c-d2f1-4dab-840d-3ea730d4a02f",
   "metadata": {},
   "source": [
    "## Compare multipliers from QP to Cost-to-go gradient from DP"
   ]
  },
  {
   "cell_type": "code",
   "execution_count": 26,
   "id": "80ba6151-232d-4e37-85e0-4e61b30078a6",
   "metadata": {},
   "outputs": [
    {
     "data": {
      "text/plain": [
       "2-element Vector{Float64}:\n",
       "  0.08494405503397162\n",
       " -0.014443027451912923"
      ]
     },
     "execution_count": 26,
     "metadata": {},
     "output_type": "execute_result"
    }
   ],
   "source": [
    "λhist_qp = reshape(λ,n,N-1)\n",
    "λhist_qp[:, k-1]"
   ]
  },
  {
   "cell_type": "code",
   "execution_count": 27,
   "id": "a07069dc-266f-4682-91dd-1ee07cf42d13",
   "metadata": {},
   "outputs": [
    {
     "data": {
      "text/plain": [
       "2-element Vector{Float64}:\n",
       "  0.08494405503397173\n",
       " -0.014443027451912924"
      ]
     },
     "execution_count": 27,
     "metadata": {},
     "output_type": "execute_result"
    }
   ],
   "source": [
    "ForwardDiff.gradient(x -> V(k, x), xhist_dp[:,k])"
   ]
  },
  {
   "cell_type": "code",
   "execution_count": 28,
   "id": "75029925-b216-4f8e-9547-698e5c13123f",
   "metadata": {},
   "outputs": [
    {
     "data": {
      "text/plain": [
       "2-element Vector{Float64}:\n",
       "  0.08494829522129775\n",
       " -0.014441586030909547"
      ]
     },
     "execution_count": 28,
     "metadata": {},
     "output_type": "execute_result"
    }
   ],
   "source": [
    "#Also compare to infinite horizon\n",
    "ForwardDiff.gradient(x -> Vinf(x), xhist_dp[:,k])"
   ]
  },
  {
   "cell_type": "code",
   "execution_count": 29,
   "id": "cf74ebe1-39a7-4b46-8e38-3cc1f1f8a83b",
   "metadata": {},
   "outputs": [
    {
     "data": {
      "text/plain": [
       "2-element Vector{Float64}:\n",
       "  0.08495071325879087\n",
       " -0.014440725739652514"
      ]
     },
     "execution_count": 29,
     "metadata": {},
     "output_type": "execute_result"
    }
   ],
   "source": [
    "#Let's try finite diffing the cost w.r.t. the state\n",
    "x1p, u1p = rollout(k,xhist_dp[:,k]+[1e-6; 0])\n",
    "x2p, u2p = rollout(k,xhist_dp[:,k]+[0; 1e-6])\n",
    "λfd = [J(x1p,u1p) - J(xhist_dp[:,k:end],uhist_dp[:,k:end]), J(x2p,u2p) - J(xhist_dp[:,k:end],uhist_dp[:,k:end])]./1e-6"
   ]
  },
  {
   "cell_type": "code",
   "execution_count": null,
   "id": "67fa6db7-f6d9-4813-9439-f9ddc298c442",
   "metadata": {},
   "outputs": [],
   "source": []
  }
 ],
 "metadata": {
  "kernelspec": {
   "display_name": "Julia 1.6.7",
   "language": "julia",
   "name": "julia-1.6"
  },
  "language_info": {
   "file_extension": ".jl",
   "mimetype": "application/julia",
   "name": "julia",
   "version": "1.6.7"
  }
 },
 "nbformat": 4,
 "nbformat_minor": 5
}
