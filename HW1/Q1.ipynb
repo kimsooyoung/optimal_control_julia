{
 "cells": [
  {
   "cell_type": "code",
   "execution_count": 1,
   "id": "4f1c849b",
   "metadata": {},
   "outputs": [
    {
     "name": "stderr",
     "output_type": "stream",
     "text": [
      "\u001b[32m\u001b[1m  Activating\u001b[22m\u001b[39m environment at `~/devel/HW1_S23/Project.toml`\n"
     ]
    }
   ],
   "source": [
    "import Pkg\n",
    "Pkg.activate(@__DIR__)\n",
    "Pkg.instantiate()\n",
    "using LinearAlgebra, Plots\n",
    "import ForwardDiff as FD\n",
    "import MeshCat as mc\n",
    "using Test"
   ]
  },
  {
   "cell_type": "markdown",
   "id": "8fac1d43",
   "metadata": {},
   "source": [
    "## Julia Warmup\n",
    "Just like Python, Julia lets you do the following:"
   ]
  },
  {
   "cell_type": "code",
   "execution_count": null,
   "id": "071b99c1",
   "metadata": {},
   "outputs": [],
   "source": [
    "let  \n",
    "    x = [1,2,3]\n",
    "    @show x \n",
    "    y = x # NEVER DO THIS, EDITING ONE WILL NOW EDIT BOTH \n",
    "    \n",
    "    y[3] = 100 # this will now modify both y and x \n",
    "    x[1] = 300 # this will now modify both y and x \n",
    "    \n",
    "    @show y \n",
    "    @show x \n",
    "end"
   ]
  },
  {
   "cell_type": "code",
   "execution_count": null,
   "id": "4ee6024c",
   "metadata": {},
   "outputs": [],
   "source": [
    "# to avoid this, here are two alternatives \n",
    "let  \n",
    "    x = [1,2,3]\n",
    "    @show x \n",
    "    \n",
    "    y1 = 1*x         # this is fine \n",
    "    y2 = deepcopy(x) # this is also fine \n",
    "    \n",
    "    x[2] = 200 # only edits x \n",
    "    y1[1] = 400 # only edits y1 \n",
    "    y2[3] = 100 # only edits y2 \n",
    "    \n",
    "    @show x\n",
    "    @show y1 \n",
    "    @show y2 \n",
    "end"
   ]
  },
  {
   "cell_type": "markdown",
   "id": "b134b81b",
   "metadata": {},
   "source": [
    "### Optional function arguments \n",
    "We can have optional keyword arguments for functions in Julia, like the following:"
   ]
  },
  {
   "cell_type": "code",
   "execution_count": null,
   "id": "6471e571",
   "metadata": {},
   "outputs": [],
   "source": [
    "## optional arguments in functions \n",
    "\n",
    "# we can have functions with optional arguments after a ; that have default values \n",
    "let \n",
    "    function f1(a, b; c=4, d=5)\n",
    "        @show a,b,c,d\n",
    "    end\n",
    "    \n",
    "    f1(1,2)               # this means c and d will take on default value \n",
    "    f1(1,2;c = 100,d = 2) # specify c and d \n",
    "    f1(1,2;d = -30)       # or we can only specify one of them \n",
    "end"
   ]
  },
  {
   "cell_type": "markdown",
   "id": "fe1bdb6a",
   "metadata": {},
   "source": [
    "## Q1: Integration (25 pts)\n",
    "In this question we are going to integrate the equations of motion for a double pendulum using multiple explicit and implicit integrators. We will write a generic simulation function for each of the two categories (explicit and implicit), and compare 6 different integrators. \n",
    "\n",
    "The continuous time dynamics of the cartpole are written as a function:\n",
    "\n",
    "$$\\dot{x} = f(x)$$\n",
    "\n",
    "In the code you will see `xdot = dynamics(params, x)`. "
   ]
  },
  {
   "cell_type": "markdown",
   "id": "ca3ff0fc",
   "metadata": {},
   "source": [
    "### Part A (10 pts): Explicit Integration\n",
    "Here we are going to implement the following explicit integrators: \n",
    "\n",
    "- Forward Euler (explicit)\n",
    "- Midpoint (explicit)\n",
    "- RK4 (explicit)"
   ]
  },
  {
   "cell_type": "code",
   "execution_count": null,
   "id": "550fa4ff",
   "metadata": {},
   "outputs": [],
   "source": [
    "# these two functions are given, no TODO's here \n",
    "function double_pendulum_dynamics(params::NamedTuple, x::Vector)\n",
    "    # continuous time dynamics for a double pendulum given state x,\n",
    "    # also known as the \"equations of motion\". \n",
    "    # returns the time derivative of the state, ẋ (dx/dt)\n",
    "\n",
    "    # the state is the following:\n",
    "    θ1,θ̇1,θ2,θ̇2 = x\n",
    "\n",
    "    # system parameters\n",
    "    m1, m2, L1, L2, g = params.m1, params.m2, params.L1, params.L2, params.g\n",
    "\n",
    "    # dynamics\n",
    "    c = cos(θ1-θ2)\n",
    "    s = sin(θ1-θ2)\n",
    "\n",
    "    ẋ = [\n",
    "        θ̇1;\n",
    "        ( m2*g*sin(θ2)*c - m2*s*(L1*c*θ̇1^2 + L2*θ̇2^2) - (m1+m2)*g*sin(θ1) ) / ( L1 *(m1+m2*s^2) );\n",
    "        θ̇2;\n",
    "        ((m1+m2)*(L1*θ̇1^2*s - g*sin(θ2) + g*sin(θ1)*c) + m2*L2*θ̇2^2*s*c) / (L2 * (m1 + m2*s^2));\n",
    "        ]\n",
    "\n",
    "    return ẋ\n",
    "end\n",
    "function double_pendulum_energy(params::NamedTuple, x::Vector)::Real\n",
    "    # calculate the total energy (kinetic + potential) of a double pendulum given a state x \n",
    "\n",
    "\n",
    "    # the state is the following:\n",
    "    θ1,θ̇1,θ2,θ̇2 = x\n",
    "\n",
    "    # system parameters\n",
    "    m1, m2, L1, L2, g = params.m1, params.m2, params.L1, params.L2, params.g\n",
    "\n",
    "    # cartesian positions/velocities of the masses\n",
    "    r1 = [L1*sin(θ1), 0, -params.L1*cos(θ1) + 2]\n",
    "    r2 = r1 + [params.L2*sin(θ2), 0, -params.L2*cos(θ2)]\n",
    "    v1 = [L1*θ̇1*cos(θ1), 0, L1*θ̇1*sin(θ1)]\n",
    "    v2 = v1 + [L2*θ̇2*cos(θ2), 0, L2*θ̇2*sin(θ2)]\n",
    "\n",
    "    # energy calculation\n",
    "    kinetic = 0.5*(m1*v1'*v1 + m2*v2'*v2)\n",
    "    potential = m1*g*r1[3] + m2*g*r2[3]\n",
    "    return kinetic + potential\n",
    "end"
   ]
  },
  {
   "cell_type": "markdown",
   "id": "259fa366",
   "metadata": {},
   "source": [
    "Now we are going to simulate this double pendulum by integrating the equations of motion with the simplest explicit integrator, the Forward Euler method:\n",
    "\n",
    "$$x_{k+1} = x_k + \\Delta t \\cdot f({x}_k) \\quad \\quad \\text{Forward Euler (explicit)}$$"
   ]
  },
  {
   "cell_type": "code",
   "execution_count": null,
   "id": "cf8561b2",
   "metadata": {},
   "outputs": [],
   "source": [
    "\"\"\"\n",
    "    x_{k+1} = forward_euler(params, dynamics, x_k, dt)\n",
    "\n",
    "Given `ẋ = dynamics(params, x)`, take in the current state `x` and integrate it forward `dt`\n",
    "using Forward Euler method. \n",
    "\"\"\"\n",
    "function forward_euler(params::NamedTuple, dynamics::Function, x::Vector, dt::Real)::Vector\n",
    "    # ẋ = dynamics(params, x)\n",
    "    # TODO: implement forward euler \n",
    "    error(\"forward euler not implemented\")\n",
    "    return 0*x\n",
    "end"
   ]
  },
  {
   "cell_type": "code",
   "execution_count": null,
   "id": "8dbc5118",
   "metadata": {},
   "outputs": [],
   "source": [
    "include(joinpath(@__DIR__, \"animation.jl\"))\n",
    "\n",
    "@testset \"forward euler\" begin\n",
    "\n",
    "    # parameters for the simulation\n",
    "    params = (\n",
    "        m1 = 1.0,\n",
    "        m2 = 1.0,\n",
    "        L1 = 1.0,\n",
    "        L2 = 1.0,\n",
    "        g = 9.8\n",
    "    )\n",
    "\n",
    "    # initial condition\n",
    "    x0 = [pi/1.6; 0; pi/1.8; 0]\n",
    "\n",
    "    # time step size (s)\n",
    "    dt = 0.01\n",
    "    tf = 30.0 \n",
    "    t_vec = 0:dt:tf\n",
    "    N = length(t_vec)\n",
    "    \n",
    "    # store the trajectory in a vector of vectors\n",
    "    X = [zeros(4) for i = 1:N]\n",
    "    X[1] = 1*x0 \n",
    "\n",
    "    # TODO: simulate the double pendulum with `forward_euler` \n",
    "    # X[k] = `x_k`, so X[k+1] = forward_euler(params, double_pendulum_dynamics, X[k], dt)\n",
    "\n",
    "    # calculate energy \n",
    "    E = [double_pendulum_energy(params,x) for x in X]\n",
    "\n",
    "    @test norm(X[end]) > 1e-10   # make sure all X's were updated\n",
    "    @test 2 < (E[end]/E[1]) < 3  # energy should be increasing\n",
    "\n",
    "    # plot state history, energy history, and animate it\n",
    "    display(plot(t_vec, hcat(X...)',xlabel = \"time (s)\", label = [\"θ₁\" \"θ̇₁ dot\" \"θ₂\" \"θ̇₂ dot\"]))\n",
    "    display(plot(t_vec, E, xlabel = \"time (s)\", ylabel = \"energy (J)\"))\n",
    "    meshcat_animate(params,X,dt,N)\n",
    "    \n",
    "    \n",
    "end"
   ]
  },
  {
   "cell_type": "markdown",
   "id": "f6cb6fe2",
   "metadata": {},
   "source": [
    "Now let's implement the next two integrators:\n",
    "\n",
    "**Midpoint:**\n",
    "$$ \\begin{align} x_m &= x_k + \\frac{\\Delta t}{2} \\cdot f(x_k) \\\\\n",
    "              x_{k+1} &= x_k + \\Delta t \\cdot f({x}_m)\\end{align}$$\n",
    "\n",
    "**RK4:**\n",
    "$$\\begin{align}k_1 &= \\Delta t \\cdot f({x}_k) \\\\\n",
    "k_2 &= \\Delta t \\cdot f(x_k + k_1/2)  \\\\ \n",
    "k_3 &= \\Delta t \\cdot f(x_k + k_2/2)  \\\\ \n",
    "k_4 &= \\Delta t \\cdot f(x_k + k_3)  \\\\\n",
    "x_{k+1} &= x_k + (1/6)\\cdot (k_1 + 2k_2 + 2k_3 + k_4)\\end{align} $$"
   ]
  },
  {
   "cell_type": "code",
   "execution_count": null,
   "id": "14d1eaf9",
   "metadata": {},
   "outputs": [],
   "source": [
    "function midpoint(params::NamedTuple, dynamics::Function, x::Vector, dt::Real)::Vector\n",
    "    # TODO: implement explicit midpoint\n",
    "    error(\"midpoint not implemented\")\n",
    "    return 0*x\n",
    "end\n",
    "function rk4(params::NamedTuple, dynamics::Function, x::Vector, dt::Real)::Vector\n",
    "    # TODO: implement RK4\n",
    "    error(\"rk4 not implemented\")\n",
    "    return 0*x\n",
    "end"
   ]
  },
  {
   "cell_type": "code",
   "execution_count": null,
   "id": "bad5c252",
   "metadata": {},
   "outputs": [],
   "source": [
    "function simulate_explicit(params::NamedTuple,dynamics::Function,integrator::Function,x0::Vector,dt::Real,tf::Real)\n",
    "    # TOOD: update this function to simulate dynamics forward\n",
    "    # with the given explicit integrator \n",
    "    \n",
    "    \n",
    "    # take in \n",
    "    t_vec = 0:dt:tf\n",
    "    N = length(t_vec)\n",
    "    X = [zeros(length(x0)) for i = 1:N]\n",
    "    X[1] = x0\n",
    "    \n",
    "    # TODO: simulate X forward\n",
    "    \n",
    "    # return state history X and energy E \n",
    "    E = [double_pendulum_energy(params,x) for x in X]\n",
    "    return X, E\n",
    "end"
   ]
  },
  {
   "cell_type": "code",
   "execution_count": null,
   "id": "c21ed686",
   "metadata": {},
   "outputs": [],
   "source": [
    "# initial condition\n",
    "const x0 = [pi/1.6; 0; pi/1.8; 0]\n",
    "\n",
    "const params = (\n",
    "    m1 = 1.0,\n",
    "    m2 = 1.0,\n",
    "    L1 = 1.0,\n",
    "    L2 = 1.0,\n",
    "    g = 9.8\n",
    ")"
   ]
  },
  {
   "cell_type": "markdown",
   "id": "4c01cb5a",
   "metadata": {},
   "source": [
    "### Part B (10 pts): Implicit Integrators\n",
    "\n",
    "Explicit integrators work by calling a function with $x_k$ and $\\Delta t$ as arguments, and returning $x_{k+1}$ like this:\n",
    "\n",
    "$$x_{k+1} = f_{explicit}(x_k,\\Delta t)$$\n",
    "\n",
    "Implicit integrators on the other hand have the following relationship between the state at $x_k$ and $x_{k+1}$:\n",
    "\n",
    "$$f_{implicit}(x_k, x_{k+1}, \\Delta t) = 0$$\n",
    "\n",
    "This means that if we want to get $x_{k+1}$ from $x_k$, we have to solve for a $x_{k+1}$ that satisfies the above equation. This is a rootfinding problem in $x_{k+1}$ (our unknown), so we juse have to use Newton's method.\n",
    "\n",
    "Here are the three implicit integrators we are looking at, the first being Backward Euler (1st order):\n",
    "\n",
    "$$f(x_k,x_{k+1},\\Delta t) = x_k + \\Delta t \\cdot \\dot{x}_{k+1} - x_{k+1} = 0 \\quad \\quad \\text{Backward Euler}$$\n",
    "\n",
    "Implicit Midpoint (2nd order)\n",
    "$$ \\begin{align} x_{k+1/2} &= \\frac{1}{2}(x_k + x_{k+1})\\\\ f(x_k,x_{k+1},\\Delta t) &= x_k + {\\Delta t} \\cdot \\dot{x}_{k+1/2} - x_{k+1} = 0\\quad \\quad \\text{Implicit Midpoint} \\end{align} $$\n",
    "\n",
    "Hermite Simpson (3rd order)\n",
    "$$ \\begin{align} x_{k+1/2} &= \\frac{1}{2}(x_k + x_{k+1}) + \\frac{\\Delta t}{8}(\\dot{x}_k - \\dot{x}_{k+1})\\\\ f(x_k,x_{k+1},\\Delta t) &= x_k + \\frac{\\Delta t}{6} \\cdot (\\dot{x}_k + 4\\dot{x}_{k+1/2} + \\dot{x}_{k+1}) - x_{k+1}= 0\\quad \\quad \\text{Hermite-Simpson} \\end{align} $$\n",
    "\n",
    "When you implement these integrators, you will update the functions such that they take in a dynamics function, $x_k$ and $x_{k+1}$, and return the residuals described above. We are NOT solving these yet, we are simply returning the residuals for each implicit integrator that we want to be 0.\n",
    "<!-- $$ f(x_k,x_{k+1},\\Delta t) = x_k + \\frac{\\Delta t}{2} \\cdot \\dot{x}_{k+1/2} - x_{k+1} - x_{k+1}= 0 \\quad \\quad \\text{Hermite-Simpson}$$ -->"
   ]
  },
  {
   "cell_type": "code",
   "execution_count": null,
   "id": "c5882be6",
   "metadata": {},
   "outputs": [],
   "source": [
    "# since these are explicit integrators, these function will return the residuals described above\n",
    "# NOTE: we are NOT solving anything here, simply return the residuals \n",
    "function backward_euler(params::NamedTuple, dynamics::Function, x1::Vector, x2::Vector, dt::Real)::Vector\n",
    "    error(\"backward euler not implemented\")\n",
    "end\n",
    "function implicit_midpoint(params::NamedTuple, dynamics::Function, x1::Vector, x2::Vector, dt::Real)::Vector\n",
    "    error(\"implicit midpoint not implemented\")\n",
    "end\n",
    "function hermite_simpson(params::NamedTuple, dynamics::Function, x1::Vector, x2::Vector, dt::Real)::Vector\n",
    "    error(\"hermite simpson not implemented\")\n",
    "end"
   ]
  },
  {
   "cell_type": "code",
   "execution_count": null,
   "id": "396bb874",
   "metadata": {},
   "outputs": [],
   "source": [
    "# TODO\n",
    "# this function takes in a dynamics function, implicit integrator function, and x1 \n",
    "# and uses Newton's method to solve for an x2 that satsifies the implicit integration equations\n",
    "# that we wrote about in the functions above\n",
    "function implicit_integrator_solve(params::NamedTuple, dynamics::Function, implicit_integrator::Function, x1::Vector, dt::Real;tol = 1e-13, max_iters = 10)::Vector\n",
    "\n",
    "    # initialize guess\n",
    "    x2 = 1*x1\n",
    "\n",
    "    # TODO: use Newton's method to solve for x2 such that residual for the integrator is 0\n",
    "    # DO NOT USE A WHILE LOOP \n",
    "    for i = 1:max_iters\n",
    "\n",
    "        \n",
    "        # TODO: return x2 when the norm of the residual is below tol \n",
    "\n",
    "        \n",
    "    end\n",
    "    error(\"implicit integrator solve failed\")\n",
    "end    "
   ]
  },
  {
   "cell_type": "code",
   "execution_count": null,
   "id": "1a0212fa",
   "metadata": {},
   "outputs": [],
   "source": [
    "@testset \"implicit integrator check\" begin \n",
    "    \n",
    "    dt = 1e-1\n",
    "    x1 = [.1,.2,.3,.4]\n",
    "    \n",
    "    for integrator in [backward_euler, implicit_midpoint, hermite_simpson]\n",
    "        println(\"-----testing $integrator ------\")\n",
    "        x2 = implicit_integrator_solve(params, double_pendulum_dynamics, integrator, x1, dt)\n",
    "        @test norm(integrator(params, double_pendulum_dynamics, x1, x2, dt)) < 1e-10\n",
    "    end\n",
    "    \n",
    "end"
   ]
  },
  {
   "cell_type": "code",
   "execution_count": null,
   "id": "fbc65354",
   "metadata": {},
   "outputs": [],
   "source": [
    "function simulate_implicit(params::NamedTuple,dynamics::Function,implicit_integrator::Function,x0::Vector,dt::Real,tf::Real; tol = 1e-13)\n",
    "    t_vec = 0:dt:tf\n",
    "    N = length(t_vec)\n",
    "    X = [zeros(length(x0)) for i = 1:N]\n",
    "    X[1] = x0\n",
    "    \n",
    "    # TODO: do a forward simulation with the selected implicit integrator \n",
    "    # hint: use your `implicit_integrator_solve` function\n",
    "\n",
    "    E = [double_pendulum_energy(params,x) for x in X]\n",
    "    @assert length(X)==N\n",
    "    @assert length(E)==N\n",
    "    return X, E\n",
    "end"
   ]
  },
  {
   "cell_type": "code",
   "execution_count": null,
   "id": "dae5babb",
   "metadata": {},
   "outputs": [],
   "source": [
    "function max_err_E(E)\n",
    "    E0 = E[1]\n",
    "    err = abs.(E .- E0)\n",
    "    return maximum(err)\n",
    "end\n",
    "function get_explicit_energy_error(integrator::Function, dts::Vector)\n",
    "    [max_err_E(simulate_explicit(params,double_pendulum_dynamics,integrator,x0,dt,tf)[2]) for dt in dts]\n",
    "end\n",
    "function get_implicit_energy_error(integrator::Function, dts::Vector)\n",
    "    [max_err_E(simulate_implicit(params,double_pendulum_dynamics,integrator,x0,dt,tf)[2]) for dt in dts]\n",
    "end\n",
    "\n",
    "\n",
    "const tf = 2.0\n",
    "let \n",
    "    # here we compare everything \n",
    "    dts = [1e-3,1e-2,1e-1]\n",
    "    explicit_integrators = [forward_euler, midpoint, rk4]\n",
    "    implicit_integrators = [backward_euler, implicit_midpoint, hermite_simpson]\n",
    "\n",
    "    explicit_data = [get_explicit_energy_error(integrator, dts) for integrator in explicit_integrators]\n",
    "    implicit_data = [get_implicit_energy_error(integrator, dts) for integrator in implicit_integrators]\n",
    "\n",
    "    plot(dts, hcat(explicit_data...),label = [\"Forward Euler\" \"Midpoint\" \"RK4\"],xaxis=:log10,yaxis=:log10, xlabel = \"Δt (s)\", ylabel = \"Energy Error\")\n",
    "    plot!(dts, hcat(implicit_data...),ls = :dash, label = [\"Backward Euler\" \"Implicit Midpoint\" \"Hermite Simpson\"])\n",
    "    plot!(legend=:bottomright)\n",
    "end\n",
    "    "
   ]
  },
  {
   "cell_type": "markdown",
   "id": "f0c27472",
   "metadata": {},
   "source": [
    "What we can see above is the maximum energy error for each of the integration methods. In general, the implicit methods of the same order are slightly better than the explicit ones. "
   ]
  },
  {
   "cell_type": "code",
   "execution_count": null,
   "id": "246ffc84",
   "metadata": {},
   "outputs": [],
   "source": [
    "@testset \"energy behavior\" begin \n",
    "    \n",
    "    # simulate with all integrators\n",
    "    dt = 0.01\n",
    "    t_vec = 0:dt:tf\n",
    "    E1 = simulate_explicit(params,double_pendulum_dynamics,forward_euler,x0,dt,tf)[2]\n",
    "    E2 = simulate_implicit(params,double_pendulum_dynamics,backward_euler,x0,dt,tf)[2]\n",
    "    E3 = simulate_implicit(params,double_pendulum_dynamics,implicit_midpoint,x0,dt,tf)[2]\n",
    "    E4 = simulate_implicit(params,double_pendulum_dynamics,hermite_simpson,x0,dt,tf)[2]\n",
    "    E5 = simulate_explicit(params,double_pendulum_dynamics,midpoint,x0,dt,tf)[2]\n",
    "    E6 = simulate_explicit(params,double_pendulum_dynamics,rk4,x0,dt,tf)[2]\n",
    "    \n",
    "    # plot forward/backward euler and implicit midpoint \n",
    "    plot(t_vec,E1, label = \"Forward Euler (explicit)\")\n",
    "    plot!(t_vec,E2, label = \"Backward Euler (implicit)\")\n",
    "    display(plot!(t_vec,E3, label = \"Implicit Midpoint\",xlabel = \"Time (s)\", ylabel=\"Energy (J)\"))\n",
    "\n",
    "    # test energy behavior\n",
    "    E0 = E1[1]\n",
    "    \n",
    "    @test 2.5  < (E1[end] - E0) < 3.0\n",
    "    @test -3.0 < (E2[end] - E0) < -2.5  \n",
    "    @test abs(E3[end] - E0) < 1e-2\n",
    "    @test abs(E0 - E4[end]) < 1e-4\n",
    "    @test abs(E0 - E5[end]) < 1e-1 \n",
    "    @test abs(E0 - E6[end]) < 1e-4\n",
    "end\n"
   ]
  },
  {
   "cell_type": "markdown",
   "id": "b79025ef",
   "metadata": {},
   "source": [
    "Another important takeaway from these integrators is that explicit Euler results in unstable behavior (as shown here by the growing energy), and implicit Euler results in artificial damping (losing energy). Implicit midpoint however maintains the correct energy. Even though the solution from implicit midpoint will vary from the initial energy, it does not move secularly one way or the other. "
   ]
  },
  {
   "cell_type": "markdown",
   "id": "b24fc409",
   "metadata": {},
   "source": [
    "## Part C (5 pts): One sentence short answer\n",
    "\n",
    "1. Describe the energy behavior of each integrator. Are there any that are clearly unstable?"
   ]
  },
  {
   "cell_type": "markdown",
   "id": "61d7f8f0",
   "metadata": {},
   "source": [
    "**Put ONE SENTENCE answer here**"
   ]
  }
 ],
 "metadata": {
  "kernelspec": {
   "display_name": "Julia 1.6.7",
   "language": "julia",
   "name": "julia-1.6"
  },
  "language_info": {
   "file_extension": ".jl",
   "mimetype": "application/julia",
   "name": "julia",
   "version": "1.6.7"
  }
 },
 "nbformat": 4,
 "nbformat_minor": 5
}
