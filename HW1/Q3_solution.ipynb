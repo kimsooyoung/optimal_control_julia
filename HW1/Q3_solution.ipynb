{
 "cells": [
  {
   "cell_type": "code",
   "execution_count": 1,
   "id": "d5ac3f7e",
   "metadata": {
    "scrolled": true
   },
   "outputs": [
    {
     "name": "stderr",
     "output_type": "stream",
     "text": [
      "\u001b[32m\u001b[1m  Activating\u001b[22m\u001b[39m environment at `C:\\Users\\tge13\\Documents\\optimal_control_julia\\HW1\\Project.toml`\n"
     ]
    }
   ],
   "source": [
    "import Pkg\n",
    "Pkg.activate(@__DIR__)\n",
    "Pkg.instantiate()\n",
    "using LinearAlgebra, Plots\n",
    "import ForwardDiff as FD\n",
    "using Printf\n",
    "using JLD2"
   ]
  },
  {
   "cell_type": "markdown",
   "id": "7142245b",
   "metadata": {},
   "source": [
    "# Q2 (30 pts): Augmented Lagrangian Quadratic Program Solver\n",
    "\n",
    "## Part (A): QP Solver (10 pts)\n",
    "Here we are going to use the augmented lagrangian method described [here in a video](https://www.youtube.com/watch?v=0x0JD5uO_ZQ), with [the corresponding pdf here](https://github.com/Optimal-Control-16-745/lecture-notebooks-2022/blob/main/misc/AL_tutorial.pdf) to solve the following problem:\n",
    "\n",
    "$$\\begin{align}\n",
    "\\min_x \\quad & \\frac{1}{2}x^TQx + q^Tx \\\\ \n",
    "\\mbox{s.t.}\\quad &  Ax -b = 0 \\\\ \n",
    "&  Gx - h \\leq 0 \n",
    "\\end{align}$$\n",
    "where the cost function is described by $Q \\in \\mathbb{R}^{n \\times n}$, $q \\in \\mathbb{R}^n$, an equality constraint is described by $A \\in \\mathbb{R}^{m \\times n}$ and $b \\in \\mathbb{R}^m$, and an inequality constraint is described by $G \\in \\mathbb{R}^{p \\times n}$ and $h \\in \\mathbb{R}^p$.\n",
    "\n",
    "\n",
    "By introducing a dual variable $\\lambda \\in \\mathbb{R}^m$ for the equality constraint, and $\\mu \\in \\mathbb{R}^p$ for the inequality constraint, we have the following KKT conditions for optimality:\n",
    "\n",
    "$$\\begin{align}\n",
    "Qx + q + A^T\\lambda + G^T \\mu &= 0 \\quad \\quad \\text{stationarity}\\\\ \n",
    "Ax-b&= 0 \\quad \\quad \\text{primal feasibility} \\\\ \n",
    "Gx-h&\\leq 0 \\quad \\quad \\text{primal feasibility} \\\\ \n",
    "\\mu &\\geq 0 \\quad \\quad \\text{dual feasibility} \\\\ \n",
    "\\mu \\circ (Gx - h) &= 0 \\quad \\quad \\text{complementarity}\n",
    "  \\end{align}$$\n",
    "> where $\\circ$ is element-wise multiplication.  "
   ]
  },
  {
   "cell_type": "code",
   "execution_count": 2,
   "id": "eb56e743-ec33-43be-ab1c-f50c26f264ee",
   "metadata": {},
   "outputs": [
    {
     "name": "stdout",
     "output_type": "stream",
     "text": [
      "G = [0.1 0.0; 0.0 0.1]\n",
      "h = [0.2, 0.2]\n",
      "x_res = [-0.1, 0.0]\n",
      "size(x_res) = (2,)\n",
      "x_res[i] = -0.1\n",
      "x_res[i] = 0.0\n"
     ]
    },
    {
     "data": {
      "text/plain": [
       "0.1"
      ]
     },
     "execution_count": 2,
     "metadata": {},
     "output_type": "execute_result"
    }
   ],
   "source": [
    "function h_ineq(x::Vector)::Vector\n",
    "    G = 0.1*I(size(x,1))\n",
    "    h = 0.2*ones(size(x))\n",
    "    @show G h\n",
    "\n",
    "    return G*x - h\n",
    "end\n",
    "\n",
    "x = [1, 2]\n",
    "x_res = h_ineq(x)\n",
    "@show x_res size(x_res)\n",
    "\n",
    "for i in 1:size(x_res, 1)\n",
    "    @show x_res[i]\n",
    "end\n",
    "\n",
    "I_temp = 0.1 * I(size(x_res, 1))\n",
    "I_temp[1,1]\n",
    "norm(x_res)"
   ]
  },
  {
   "cell_type": "code",
   "execution_count": 92,
   "id": "e9a03604",
   "metadata": {},
   "outputs": [
    {
     "name": "stdout",
     "output_type": "stream",
     "text": [
      "iter   |∇Lₓ|      |∇ALₓ|     max(h)     |c|        compl     ρ\n",
      "----------------------------------------------------------------\n",
      "  1   4.46e+00   5.60e+01   1.55e+00   1.31e+00   0.00e+00  1e+00\n",
      "  2   4.92e+00   4.83e+00   5.51e-01   1.27e+00   0.00e+00  1e+00\n",
      "  3   4.52e-15   4.88e-15   5.51e-01   1.27e+00   4.59e-01  1e+01\n",
      "  4   4.97e+00   4.92e+01   2.56e-02   3.07e-01   4.94e-02  1e+01\n",
      "  5   6.16e+00   5.55e-14   2.56e-02   3.07e-01   1.05e-02  1e+02\n",
      "  6   4.79e+00   8.87e+01   6.84e-03   1.35e-02   4.55e-04  1e+02\n",
      "  7   5.52e-01   3.75e-13   6.84e-03   1.35e-02   7.94e-03  1e+03\n",
      "  8   5.38e-01   4.28e+01   6.84e-02   1.55e-04   1.40e-04  1e+03\n",
      "  9   5.30e-01   2.13e+02   3.64e-05   1.62e-04   1.17e-04  1e+03\n",
      " 10   4.05e-12   4.05e-12   3.64e-05   1.62e-04   1.06e-04  1e+04\n",
      " 11   5.21e-04   5.30e+00  -5.61e-09   2.05e-08   1.14e-08  1e+04\n",
      " 12   5.02e-11   5.02e-11  -5.61e-09   2.05e-08   1.14e-08  1e+05\n",
      " 13   1.04e-07   5.21e-03  -1.58e-13   3.92e-13   1.88e-13  1e+05\n"
     ]
    },
    {
     "data": {
      "text/plain": [
       "([-0.3262308057134027, 0.24943797997188863, -0.4322676644050709, -1.4172246971241347, -1.3994527400876544, 0.6099582408523683, -0.07312202122159435, 1.3031477521999633, 0.53890347910655, -0.7225813651685942], [-0.1283519306975316, -2.837624168587431, -0.8320804891433002], [0.036352958372010136, 0.0, 0.0, 1.0594445124091236, 0.0])"
      ]
     },
     "execution_count": 92,
     "metadata": {},
     "output_type": "execute_result"
    }
   ],
   "source": [
    "# TODO: read below\n",
    "# NOTE: DO NOT USE A WHILE LOOP ANYWHERE\n",
    "\"\"\"\n",
    "The data for the QP is stored in `qp` the following way:\n",
    "    @load joinpath(@__DIR__, \"qp_data.jld2\") qp \n",
    "\n",
    "which is a NamedTuple, where\n",
    "    Q, q, A, b, G, h = qp.Q, qp.q, qp.A, qp.b, qp.G, qp.h\n",
    "\n",
    "contains all of the problem data you will need for the QP.\n",
    "\n",
    "Your job is to make the following function \n",
    "    \n",
    "    x, λ, μ = solve_qp(qp; verbose = true, max_iters = 100, tol = 1e-8)\n",
    "\n",
    "You can use (or not use) any of the additional functions:\n",
    "You can use (or not use) any of the additional functions:\n",
    "You can use (or not use) any of the additional functions:\n",
    "You can use (or not use) any of the additional functions:\n",
    "\n",
    "as long as solve_qp works. \n",
    "\"\"\"\n",
    "function cost(qp::NamedTuple, x::Vector)::Real\n",
    "    0.5*x'*qp.Q*x + dot(qp.q,x)\n",
    "end\n",
    "function c_eq(qp::NamedTuple, x::Vector)::Vector\n",
    "    qp.A*x - qp.b \n",
    "end\n",
    "function h_ineq(qp::NamedTuple, x::Vector)::Vector\n",
    "    qp.G*x - qp.h\n",
    "end\n",
    "\n",
    "function kkt_conditions(qp::NamedTuple, x::Vector, λ::Vector, μ::Vector)::Vector\n",
    "\n",
    "    stationary = qp.Q*x + qp.q + qp.A'*λ + qp.G'*μ\n",
    "    primal = c_eq(qp, x)\n",
    "    complementary = h_ineq(qp, x) .* μ\n",
    "    \n",
    "    return [\n",
    "        stationary;\n",
    "        primal;\n",
    "        complementary;\n",
    "    ]\n",
    "end\n",
    "        \n",
    "function mask_matrix(qp::NamedTuple, x::Vector, μ::Vector, ρ::Real)::Matrix\n",
    "\n",
    "    H = h_ineq(qp, x)\n",
    "    Iρ = zeros(size(μ, 1), size(μ, 1))\n",
    "    \n",
    "    for i in 1:size(μ, 1)\n",
    "        if ((H[i] < 0) && (μ[i] == 0))\n",
    "            Iρ[i,i] = 0\n",
    "        else\n",
    "            Iρ[i,i] = ρ\n",
    "        end\n",
    "    end\n",
    "\n",
    "    return Iρ\n",
    "end\n",
    "\n",
    "function augmented_lagrangian(qp::NamedTuple, x::Vector, λ::Vector, μ::Vector, ρ::Real)::Real\n",
    "    \n",
    "    C = c_eq(qp, x)\n",
    "    H = h_ineq(qp, x)\n",
    "    Iρ = mask_matrix(qp, x, μ, ρ)\n",
    "\n",
    "    L = cost(qp, x) + λ'*C + μ'*H + 0.5*ρ*C'*C + 0.5*H'*Iρ*H\n",
    "\n",
    "    return L\n",
    "end\n",
    "\n",
    "function logging(qp::NamedTuple, main_iter::Int, AL_gradient::Vector, x::Vector, λ::Vector, μ::Vector, ρ::Real)\n",
    "    # TODO: stationarity norm\n",
    "    # ∇L = FD.gradient(_x -> augmented_lagrangian(qp, _x, λ, μ, ρ), x)\n",
    "    ∇L = qp.Q*x + qp.q + qp.A'*λ + qp.G'*μ\n",
    "    stationarity_norm = norm(∇L)\n",
    "    @printf(\"%3d  % 7.2e  % 7.2e  % 7.2e  % 7.2e  % 7.2e  %5.0e\\n\",\n",
    "          main_iter, stationarity_norm, norm(AL_gradient), maximum(h_ineq(qp,x)),\n",
    "          norm(c_eq(qp,x),Inf), abs(dot(μ,h_ineq(qp,x))), ρ)\n",
    "end\n",
    "function solve_qp(qp; verbose = true, max_iters = 100, tol = 1e-8)\n",
    "    x = zeros(length(qp.q))\n",
    "    λ = zeros(length(qp.b))\n",
    "    μ = zeros(length(qp.h))\n",
    "    ρ = 1.0\n",
    "    ϕ = 10.0\n",
    "    \n",
    "    if verbose\n",
    "        @printf \"iter   |∇Lₓ|      |∇ALₓ|     max(h)     |c|        compl     ρ\\n\"\n",
    "        @printf \"----------------------------------------------------------------\\n\"\n",
    "    end\n",
    "    \n",
    "    for main_iter = 1:max_iters \n",
    "        # NOTE: when you do your dual update for μ, you should compute\n",
    "        # your element-wise maximum with `max.(a,b)`, not `max(a,b)`\n",
    "        \n",
    "        ∇L = FD.gradient(_x -> augmented_lagrangian(qp, _x, λ, μ, ρ), x)\n",
    "        if norm(∇L) > 1e-6\n",
    "            ∇²L = FD.hessian(_x -> augmented_lagrangian(qp, _x, λ, μ, ρ), x)\n",
    "            x = x - ∇²L\\∇L\n",
    "        else\n",
    "            λ = λ + ρ*c_eq(qp, x)\n",
    "            μ = max.(0, μ+ρ*h_ineq(qp, x))\n",
    "            ρ = ρ * ϕ\n",
    "        end\n",
    "        \n",
    "        if verbose\n",
    "            logging(qp, main_iter, ∇L, x, λ, μ, ρ)\n",
    "        end\n",
    "\n",
    "        # TODO: convergence criteria based on tol \n",
    "        # if norm(kkt_conditions(qp, x, λ, μ)) < tol\n",
    "\n",
    "        # For Part C\n",
    "        if (maximum(h_ineq(qp, x)) < tol) && ( norm(c_eq(qp, x), Inf) < tol )\n",
    "            return x, λ, μ\n",
    "        end\n",
    "    end\n",
    "    error(\"qp solver did not converge\")\n",
    "end\n",
    "\n",
    "let \n",
    "    # example solving qp \n",
    "    @load joinpath(@__DIR__, \"qp_data.jld2\") qp \n",
    "    x, λ, μ = solve_qp(qp; verbose = true, tol = 1e-8)\n",
    "end"
   ]
  },
  {
   "cell_type": "markdown",
   "id": "8a78f0be",
   "metadata": {},
   "source": [
    "### QP Solver test"
   ]
  },
  {
   "cell_type": "code",
   "execution_count": 93,
   "id": "48825c31",
   "metadata": {},
   "outputs": [
    {
     "name": "stdout",
     "output_type": "stream",
     "text": [
      "iter   |∇Lₓ|      |∇ALₓ|     max(h)     |c|        compl     ρ\n",
      "----------------------------------------------------------------\n",
      "  1   4.46e+00   5.60e+01   1.55e+00   1.31e+00   0.00e+00  1e+00\n",
      "  2   4.92e+00   4.83e+00   5.51e-01   1.27e+00   0.00e+00  1e+00\n",
      "  3   4.52e-15   4.88e-15   5.51e-01   1.27e+00   4.59e-01  1e+01\n",
      "  4   4.97e+00   4.92e+01   2.56e-02   3.07e-01   4.94e-02  1e+01\n",
      "  5   6.16e+00   5.55e-14   2.56e-02   3.07e-01   1.05e-02  1e+02\n",
      "  6   4.79e+00   8.87e+01   6.84e-03   1.35e-02   4.55e-04  1e+02\n",
      "  7   5.52e-01   3.75e-13   6.84e-03   1.35e-02   7.94e-03  1e+03\n",
      "  8   5.38e-01   4.28e+01   6.84e-02   1.55e-04   1.40e-04  1e+03\n",
      "  9   5.30e-01   2.13e+02   3.64e-05   1.62e-04   1.17e-04  1e+03\n",
      " 10   4.05e-12   4.05e-12   3.64e-05   1.62e-04   1.06e-04  1e+04\n",
      " 11   5.21e-04   5.30e+00  -5.61e-09   2.05e-08   1.14e-08  1e+04\n",
      "\u001b[0m\u001b[1mTest Summary: | \u001b[22m\u001b[32m\u001b[1mPass  \u001b[22m\u001b[39m\u001b[36m\u001b[1mTotal\u001b[22m\u001b[39m\n",
      "qp solver     | \u001b[32m   3  \u001b[39m\u001b[36m    3\u001b[39m\n"
     ]
    },
    {
     "data": {
      "text/plain": [
       "Test.DefaultTestSet(\"qp solver\", Any[], 3, false, false)"
      ]
     },
     "execution_count": 93,
     "metadata": {},
     "output_type": "execute_result"
    }
   ],
   "source": [
    "# 10 points \n",
    "using Test \n",
    "@testset \"qp solver\" begin \n",
    "    @load joinpath(@__DIR__, \"qp_data.jld2\") qp \n",
    "    x, λ, μ = solve_qp(qp; verbose = true, max_iters = 100, tol = 1e-6)\n",
    "    \n",
    "    @load joinpath(@__DIR__, \"qp_solutions.jld2\") qp_solutions\n",
    "    @test norm(x - qp_solutions.x,Inf)<1e-3;\n",
    "    @test norm(λ - qp_solutions.λ,Inf)<1e-3;\n",
    "    @test norm(μ - qp_solutions.μ,Inf)<1e-3;\n",
    "end"
   ]
  },
  {
   "cell_type": "markdown",
   "id": "18d469b3",
   "metadata": {},
   "source": [
    "# Simulating a Falling Brick with QPs\n",
    "In this question we'll be simulating a brick falling and sliding on ice in 2D. You will show that this problem can be formulated as a QP, which you will solve using an Augmented Lagrangian method.\n",
    "\n",
    "## The Dynamics\n",
    "The dynamics of the brick can be written in continuous time as\n",
    "$$ M \\dot{v}  + M g = J^T \\mu \\\\ \\text{ where } M = mI_{2\\times 2}, \\; g = \\begin{bmatrix} 0 \\\\ 9.81 \\end{bmatrix},\\; J = \\begin{bmatrix} 0 & 1 \\end{bmatrix} $$\n",
    "and $\\mu \\in \\mathbb{R}$ is the normal force. The velocity $v \\in \\mathbb{R}^2$ and position $q \\in \\mathbb{R}^2$ are composed of the horizontal and vertical components.\n",
    "\n",
    "We can discretize the dynamics with backward Euler:\n",
    "$$ \\begin{bmatrix} v_{k+1} \\\\ q_{k+1} \\end{bmatrix} = \\begin{bmatrix} v_k \\\\ q_k \\end{bmatrix}\n",
    "+ \\Delta t \\cdot \\begin{bmatrix} \\frac{1}{m} J^T \\mu_{k+1} - g \\\\ v_{k+1} \\end{bmatrix}$$\n",
    "\n",
    "We also have the following contact constraints:\n",
    "$$ \\begin{align}\n",
    "J q_{k+1} &\\geq 0 &&\\text{(don't fall through the ice)} \\\\\n",
    "\\mu_{k+1} &\\geq 0 &&\\text{(normal forces only push, not pull)} \\\\\n",
    "\\mu_{k+1} J q_{k+1} &= 0 &&\\text{(no force at a distance)}\n",
    "\\end{align} $$"
   ]
  },
  {
   "cell_type": "markdown",
   "id": "82898d8b",
   "metadata": {},
   "source": [
    "## Part (B): QP formulation for Falling Brick (5 pts)\n",
    "Show that these discrete-time dynamics are equivalent to the following QP by writing down the KKT conditions.\n",
    "\n",
    "$$ \\begin{align}\n",
    "    &\\text{minimize}_{v_{k+1}} && \\frac{1}{2} v_{k+1}^T M v_{k+1} + [M (\\Delta t \\cdot g - v_k)]^Tv_{k+1} \\\\\n",
    "    &\\text{subject to} && -J(q_k + \\Delta t \\cdot v_{k+1}) \\leq 0 \\\\\n",
    "\\end{align} $$"
   ]
  },
  {
   "cell_type": "markdown",
   "id": "1bcacf03",
   "metadata": {},
   "source": [
    "**TASK**: Write down the KKT conditions for the optimization problem above, and show that it's equivalent to the dynamics problem stated previously. Use LaTeX markdown.\n",
    "\n",
    "**PUT ANSWER HERE:**"
   ]
  },
  {
   "cell_type": "markdown",
   "id": "d8348c7f",
   "metadata": {},
   "source": [
    "## Part (C): Brick Simulation (5 pts)"
   ]
  },
  {
   "cell_type": "code",
   "execution_count": 94,
   "id": "0852af00",
   "metadata": {},
   "outputs": [
    {
     "data": {
      "text/plain": [
       "brick_simulation_qp (generic function with 1 method)"
      ]
     },
     "execution_count": 94,
     "metadata": {},
     "output_type": "execute_result"
    }
   ],
   "source": [
    "function brick_simulation_qp(q, v; mass = 1.0, Δt = 0.01)\n",
    "    \n",
    "    # TODO: fill in the QP problem data for a simulation step \n",
    "    # fill in Q, q, G, h, but leave A, b the same \n",
    "    # this is because there are no equality constraints in this qp \n",
    "    M = [mass 0.0; 0.0 mass]\n",
    "    g = [0, 9.81]\n",
    "    J = [0 1]\n",
    "\n",
    "    qp = (\n",
    "        Q = M,\n",
    "        q = M*(Δt*g - v),\n",
    "        A = zeros(0,2), # don't edit this\n",
    "        b = zeros(0),   # don't edit this \n",
    "        G = -J*Δt,\n",
    "        h = J*q\n",
    "    )\n",
    "    \n",
    "    return qp \n",
    "end"
   ]
  },
  {
   "cell_type": "code",
   "execution_count": 95,
   "id": "5e8e5cbb",
   "metadata": {},
   "outputs": [
    {
     "name": "stdout",
     "output_type": "stream",
     "text": [
      "\u001b[0m\u001b[1mTest Summary: | \u001b[22m\u001b[32m\u001b[1mPass  \u001b[22m\u001b[39m\u001b[36m\u001b[1mTotal\u001b[22m\u001b[39m\n",
      "brick qp      | \u001b[32m  10  \u001b[39m\u001b[36m   10\u001b[39m\n"
     ]
    },
    {
     "data": {
      "text/plain": [
       "Test.DefaultTestSet(\"brick qp\", Any[], 10, false, false)"
      ]
     },
     "execution_count": 95,
     "metadata": {},
     "output_type": "execute_result"
    }
   ],
   "source": [
    "@testset \"brick qp\" begin \n",
    "    \n",
    "    q = [1,3.0]\n",
    "    v = [2,-3.0]\n",
    "    \n",
    "    qp = brick_simulation_qp(q,v)\n",
    "    \n",
    "    # check all the types to make sure they're right\n",
    "    qp.Q::Matrix{Float64}\n",
    "    qp.q::Vector{Float64}\n",
    "    qp.A::Matrix{Float64}\n",
    "    qp.b::Vector{Float64}\n",
    "    qp.G::Matrix{Float64}\n",
    "    qp.h::Vector{Float64}\n",
    "    \n",
    "    @test size(qp.Q) == (2,2)\n",
    "    @test size(qp.q) == (2,)\n",
    "    @test size(qp.A) == (0,2)\n",
    "    @test size(qp.b) == (0,)\n",
    "    @test size(qp.G) == (1,2)\n",
    "    @test size(qp.h) == (1,)\n",
    "    \n",
    "    @test abs(tr(qp.Q) - 2) < 1e-10\n",
    "    @test norm(qp.q - [-2.0, 3.0981]) < 1e-10 \n",
    "    @test norm(qp.G - [0 -.01]) < 1e-10 \n",
    "    @test abs(qp.h[1] -3) < 1e-10\n",
    "    \n",
    "end"
   ]
  },
  {
   "cell_type": "code",
   "execution_count": 96,
   "id": "42288ee1",
   "metadata": {},
   "outputs": [
    {
     "name": "stdout",
     "output_type": "stream",
     "text": [
      "#= In[96]:31 =# @test(abs(maximum(ys) - 2) < 0.1) = Test Passed\n",
      "#= In[96]:32 =# @test(minimum(ys) > -0.01) = Test Passed\n",
      "#= In[96]:33 =# @test(abs(xs[end] - 3) < 0.01) = Test Passed\n",
      "#= In[96]:36 =# @test(maximum(xdot) < 1.0001) = Test Passed\n",
      "#= In[96]:37 =# @test(minimum(xdot) > 0.9999) = Test Passed\n",
      "#= In[96]:38 =# @test(ys[110] > 0.01) = Test Passed\n",
      "#= In[96]:39 =# @test(abs(ys[111]) < 0.01) = Test Passed\n",
      "#= In[96]:40 =# @test(abs(ys[112]) < 0.01) = Test Passed\n"
     ]
    },
    {
     "data": {
      "image/svg+xml": [
       "<?xml version=\"1.0\" encoding=\"utf-8\"?>\n",
       "<svg xmlns=\"http://www.w3.org/2000/svg\" xmlns:xlink=\"http://www.w3.org/1999/xlink\" width=\"600\" height=\"400\" viewBox=\"0 0 2400 1600\">\n",
       "<defs>\n",
       "  <clipPath id=\"clip330\">\n",
       "    <rect x=\"0\" y=\"0\" width=\"2400\" height=\"1600\"/>\n",
       "  </clipPath>\n",
       "</defs>\n",
       "<path clip-path=\"url(#clip330)\" d=\"M0 1600 L2400 1600 L2400 0 L0 0  Z\" fill=\"#ffffff\" fill-rule=\"evenodd\" fill-opacity=\"1\"/>\n",
       "<defs>\n",
       "  <clipPath id=\"clip331\">\n",
       "    <rect x=\"480\" y=\"0\" width=\"1681\" height=\"1600\"/>\n",
       "  </clipPath>\n",
       "</defs>\n",
       "<path clip-path=\"url(#clip330)\" d=\"M219.38 1423.18 L2352.76 1423.18 L2352.76 47.2441 L219.38 47.2441  Z\" fill=\"#ffffff\" fill-rule=\"evenodd\" fill-opacity=\"1\"/>\n",
       "<defs>\n",
       "  <clipPath id=\"clip332\">\n",
       "    <rect x=\"219\" y=\"47\" width=\"2134\" height=\"1377\"/>\n",
       "  </clipPath>\n",
       "</defs>\n",
       "<polyline clip-path=\"url(#clip332)\" style=\"stroke:#000000; stroke-linecap:round; stroke-linejoin:round; stroke-width:2; stroke-opacity:0.1; fill:none\" points=\"279.759,1423.18 279.759,47.2441 \"/>\n",
       "<polyline clip-path=\"url(#clip332)\" style=\"stroke:#000000; stroke-linecap:round; stroke-linejoin:round; stroke-width:2; stroke-opacity:0.1; fill:none\" points=\"950.632,1423.18 950.632,47.2441 \"/>\n",
       "<polyline clip-path=\"url(#clip332)\" style=\"stroke:#000000; stroke-linecap:round; stroke-linejoin:round; stroke-width:2; stroke-opacity:0.1; fill:none\" points=\"1621.5,1423.18 1621.5,47.2441 \"/>\n",
       "<polyline clip-path=\"url(#clip332)\" style=\"stroke:#000000; stroke-linecap:round; stroke-linejoin:round; stroke-width:2; stroke-opacity:0.1; fill:none\" points=\"2292.38,1423.18 2292.38,47.2441 \"/>\n",
       "<polyline clip-path=\"url(#clip330)\" style=\"stroke:#000000; stroke-linecap:round; stroke-linejoin:round; stroke-width:4; stroke-opacity:1; fill:none\" points=\"219.38,1423.18 2352.76,1423.18 \"/>\n",
       "<polyline clip-path=\"url(#clip330)\" style=\"stroke:#000000; stroke-linecap:round; stroke-linejoin:round; stroke-width:4; stroke-opacity:1; fill:none\" points=\"279.759,1423.18 279.759,1404.28 \"/>\n",
       "<polyline clip-path=\"url(#clip330)\" style=\"stroke:#000000; stroke-linecap:round; stroke-linejoin:round; stroke-width:4; stroke-opacity:1; fill:none\" points=\"950.632,1423.18 950.632,1404.28 \"/>\n",
       "<polyline clip-path=\"url(#clip330)\" style=\"stroke:#000000; stroke-linecap:round; stroke-linejoin:round; stroke-width:4; stroke-opacity:1; fill:none\" points=\"1621.5,1423.18 1621.5,1404.28 \"/>\n",
       "<polyline clip-path=\"url(#clip330)\" style=\"stroke:#000000; stroke-linecap:round; stroke-linejoin:round; stroke-width:4; stroke-opacity:1; fill:none\" points=\"2292.38,1423.18 2292.38,1404.28 \"/>\n",
       "<path clip-path=\"url(#clip330)\" d=\"M279.759 1454.1 Q276.148 1454.1 274.319 1457.66 Q272.513 1461.2 272.513 1468.33 Q272.513 1475.44 274.319 1479.01 Q276.148 1482.55 279.759 1482.55 Q283.393 1482.55 285.199 1479.01 Q287.027 1475.44 287.027 1468.33 Q287.027 1461.2 285.199 1457.66 Q283.393 1454.1 279.759 1454.1 M279.759 1450.39 Q285.569 1450.39 288.624 1455 Q291.703 1459.58 291.703 1468.33 Q291.703 1477.06 288.624 1481.67 Q285.569 1486.25 279.759 1486.25 Q273.949 1486.25 270.87 1481.67 Q267.814 1477.06 267.814 1468.33 Q267.814 1459.58 270.87 1455 Q273.949 1450.39 279.759 1450.39 Z\" fill=\"#000000\" fill-rule=\"nonzero\" fill-opacity=\"1\" /><path clip-path=\"url(#clip330)\" d=\"M941.014 1481.64 L948.652 1481.64 L948.652 1455.28 L940.342 1456.95 L940.342 1452.69 L948.606 1451.02 L953.282 1451.02 L953.282 1481.64 L960.921 1481.64 L960.921 1485.58 L941.014 1485.58 L941.014 1481.64 Z\" fill=\"#000000\" fill-rule=\"nonzero\" fill-opacity=\"1\" /><path clip-path=\"url(#clip330)\" d=\"M1616.16 1481.64 L1632.48 1481.64 L1632.48 1485.58 L1610.53 1485.58 L1610.53 1481.64 Q1613.19 1478.89 1617.78 1474.26 Q1622.38 1469.61 1623.56 1468.27 Q1625.81 1465.74 1626.69 1464.01 Q1627.59 1462.25 1627.59 1460.56 Q1627.59 1457.8 1625.65 1456.07 Q1623.73 1454.33 1620.62 1454.33 Q1618.43 1454.33 1615.97 1455.09 Q1613.54 1455.86 1610.76 1457.41 L1610.76 1452.69 Q1613.59 1451.55 1616.04 1450.97 Q1618.5 1450.39 1620.53 1450.39 Q1625.9 1450.39 1629.1 1453.08 Q1632.29 1455.77 1632.29 1460.26 Q1632.29 1462.39 1631.48 1464.31 Q1630.69 1466.2 1628.59 1468.8 Q1628.01 1469.47 1624.91 1472.69 Q1621.81 1475.88 1616.16 1481.64 Z\" fill=\"#000000\" fill-rule=\"nonzero\" fill-opacity=\"1\" /><path clip-path=\"url(#clip330)\" d=\"M2296.63 1466.95 Q2299.98 1467.66 2301.86 1469.93 Q2303.75 1472.2 2303.75 1475.53 Q2303.75 1480.65 2300.24 1483.45 Q2296.72 1486.25 2290.24 1486.25 Q2288.06 1486.25 2285.75 1485.81 Q2283.45 1485.39 2281 1484.54 L2281 1480.02 Q2282.94 1481.16 2285.26 1481.74 Q2287.57 1482.32 2290.1 1482.32 Q2294.5 1482.32 2296.79 1480.58 Q2299.1 1478.84 2299.1 1475.53 Q2299.1 1472.48 2296.95 1470.77 Q2294.82 1469.03 2291 1469.03 L2286.97 1469.03 L2286.97 1465.19 L2291.19 1465.19 Q2294.63 1465.19 2296.46 1463.82 Q2298.29 1462.43 2298.29 1459.84 Q2298.29 1457.18 2296.39 1455.77 Q2294.52 1454.33 2291 1454.33 Q2289.08 1454.33 2286.88 1454.75 Q2284.68 1455.16 2282.04 1456.04 L2282.04 1451.88 Q2284.7 1451.14 2287.02 1450.77 Q2289.36 1450.39 2291.42 1450.39 Q2296.74 1450.39 2299.84 1452.83 Q2302.94 1455.23 2302.94 1459.35 Q2302.94 1462.22 2301.3 1464.21 Q2299.66 1466.18 2296.63 1466.95 Z\" fill=\"#000000\" fill-rule=\"nonzero\" fill-opacity=\"1\" /><path clip-path=\"url(#clip330)\" d=\"M1236.88 1532.4 L1223.99 1549.74 L1237.55 1568.04 L1230.64 1568.04 L1220.26 1554.04 L1209.89 1568.04 L1202.98 1568.04 L1216.83 1549.39 L1204.16 1532.4 L1211.06 1532.4 L1220.52 1545.1 L1229.97 1532.4 L1236.88 1532.4 Z\" fill=\"#000000\" fill-rule=\"nonzero\" fill-opacity=\"1\" /><path clip-path=\"url(#clip330)\" d=\"M1280.61 1518.58 Q1276.34 1525.9 1274.28 1533.06 Q1272.21 1540.23 1272.21 1547.58 Q1272.21 1554.93 1274.28 1562.16 Q1276.38 1569.35 1280.61 1576.64 L1275.52 1576.64 Q1270.74 1569.16 1268.36 1561.93 Q1266 1554.71 1266 1547.58 Q1266 1540.48 1268.36 1533.29 Q1270.71 1526.09 1275.52 1518.58 L1280.61 1518.58 Z\" fill=\"#000000\" fill-rule=\"nonzero\" fill-opacity=\"1\" /><path clip-path=\"url(#clip330)\" d=\"M1319.73 1539.24 Q1321.92 1535.29 1324.98 1533.41 Q1328.03 1531.54 1332.17 1531.54 Q1337.74 1531.54 1340.77 1535.45 Q1343.79 1539.33 1343.79 1546.53 L1343.79 1568.04 L1337.9 1568.04 L1337.9 1546.72 Q1337.9 1541.59 1336.09 1539.11 Q1334.27 1536.63 1330.55 1536.63 Q1326 1536.63 1323.36 1539.65 Q1320.71 1542.68 1320.71 1547.9 L1320.71 1568.04 L1314.83 1568.04 L1314.83 1546.72 Q1314.83 1541.56 1313.01 1539.11 Q1311.2 1536.63 1307.41 1536.63 Q1302.92 1536.63 1300.28 1539.68 Q1297.64 1542.71 1297.64 1547.9 L1297.64 1568.04 L1291.75 1568.04 L1291.75 1532.4 L1297.64 1532.4 L1297.64 1537.93 Q1299.64 1534.66 1302.44 1533.1 Q1305.24 1531.54 1309.1 1531.54 Q1312.98 1531.54 1315.68 1533.51 Q1318.42 1535.48 1319.73 1539.24 Z\" fill=\"#000000\" fill-rule=\"nonzero\" fill-opacity=\"1\" /><path clip-path=\"url(#clip330)\" d=\"M1354.55 1518.58 L1359.64 1518.58 Q1364.41 1526.09 1366.77 1533.29 Q1369.16 1540.48 1369.16 1547.58 Q1369.16 1554.71 1366.77 1561.93 Q1364.41 1569.16 1359.64 1576.64 L1354.55 1576.64 Q1358.78 1569.35 1360.85 1562.16 Q1362.95 1554.93 1362.95 1547.58 Q1362.95 1540.23 1360.85 1533.06 Q1358.78 1525.9 1354.55 1518.58 Z\" fill=\"#000000\" fill-rule=\"nonzero\" fill-opacity=\"1\" /><polyline clip-path=\"url(#clip332)\" style=\"stroke:#000000; stroke-linecap:round; stroke-linejoin:round; stroke-width:2; stroke-opacity:0.1; fill:none\" points=\"219.38,1384.21 2352.76,1384.21 \"/>\n",
       "<polyline clip-path=\"url(#clip332)\" style=\"stroke:#000000; stroke-linecap:round; stroke-linejoin:round; stroke-width:2; stroke-opacity:0.1; fill:none\" points=\"219.38,1061.26 2352.76,1061.26 \"/>\n",
       "<polyline clip-path=\"url(#clip332)\" style=\"stroke:#000000; stroke-linecap:round; stroke-linejoin:round; stroke-width:2; stroke-opacity:0.1; fill:none\" points=\"219.38,738.319 2352.76,738.319 \"/>\n",
       "<polyline clip-path=\"url(#clip332)\" style=\"stroke:#000000; stroke-linecap:round; stroke-linejoin:round; stroke-width:2; stroke-opacity:0.1; fill:none\" points=\"219.38,415.374 2352.76,415.374 \"/>\n",
       "<polyline clip-path=\"url(#clip332)\" style=\"stroke:#000000; stroke-linecap:round; stroke-linejoin:round; stroke-width:2; stroke-opacity:0.1; fill:none\" points=\"219.38,92.4282 2352.76,92.4282 \"/>\n",
       "<polyline clip-path=\"url(#clip330)\" style=\"stroke:#000000; stroke-linecap:round; stroke-linejoin:round; stroke-width:4; stroke-opacity:1; fill:none\" points=\"219.38,1423.18 219.38,47.2441 \"/>\n",
       "<polyline clip-path=\"url(#clip330)\" style=\"stroke:#000000; stroke-linecap:round; stroke-linejoin:round; stroke-width:4; stroke-opacity:1; fill:none\" points=\"219.38,1384.21 238.278,1384.21 \"/>\n",
       "<polyline clip-path=\"url(#clip330)\" style=\"stroke:#000000; stroke-linecap:round; stroke-linejoin:round; stroke-width:4; stroke-opacity:1; fill:none\" points=\"219.38,1061.26 238.278,1061.26 \"/>\n",
       "<polyline clip-path=\"url(#clip330)\" style=\"stroke:#000000; stroke-linecap:round; stroke-linejoin:round; stroke-width:4; stroke-opacity:1; fill:none\" points=\"219.38,738.319 238.278,738.319 \"/>\n",
       "<polyline clip-path=\"url(#clip330)\" style=\"stroke:#000000; stroke-linecap:round; stroke-linejoin:round; stroke-width:4; stroke-opacity:1; fill:none\" points=\"219.38,415.374 238.278,415.374 \"/>\n",
       "<polyline clip-path=\"url(#clip330)\" style=\"stroke:#000000; stroke-linecap:round; stroke-linejoin:round; stroke-width:4; stroke-opacity:1; fill:none\" points=\"219.38,92.4282 238.278,92.4282 \"/>\n",
       "<path clip-path=\"url(#clip330)\" d=\"M126.205 1370.01 Q122.593 1370.01 120.765 1373.57 Q118.959 1377.12 118.959 1384.25 Q118.959 1391.35 120.765 1394.92 Q122.593 1398.46 126.205 1398.46 Q129.839 1398.46 131.644 1394.92 Q133.473 1391.35 133.473 1384.25 Q133.473 1377.12 131.644 1373.57 Q129.839 1370.01 126.205 1370.01 M126.205 1366.31 Q132.015 1366.31 135.07 1370.91 Q138.149 1375.5 138.149 1384.25 Q138.149 1392.97 135.07 1397.58 Q132.015 1402.16 126.205 1402.16 Q120.394 1402.16 117.316 1397.58 Q114.26 1392.97 114.26 1384.25 Q114.26 1375.5 117.316 1370.91 Q120.394 1366.31 126.205 1366.31 Z\" fill=\"#000000\" fill-rule=\"nonzero\" fill-opacity=\"1\" /><path clip-path=\"url(#clip330)\" d=\"M146.366 1395.61 L151.251 1395.61 L151.251 1401.49 L146.366 1401.49 L146.366 1395.61 Z\" fill=\"#000000\" fill-rule=\"nonzero\" fill-opacity=\"1\" /><path clip-path=\"url(#clip330)\" d=\"M171.436 1370.01 Q167.825 1370.01 165.996 1373.57 Q164.19 1377.12 164.19 1384.25 Q164.19 1391.35 165.996 1394.92 Q167.825 1398.46 171.436 1398.46 Q175.07 1398.46 176.876 1394.92 Q178.704 1391.35 178.704 1384.25 Q178.704 1377.12 176.876 1373.57 Q175.07 1370.01 171.436 1370.01 M171.436 1366.31 Q177.246 1366.31 180.301 1370.91 Q183.38 1375.5 183.38 1384.25 Q183.38 1392.97 180.301 1397.58 Q177.246 1402.16 171.436 1402.16 Q165.626 1402.16 162.547 1397.58 Q159.491 1392.97 159.491 1384.25 Q159.491 1375.5 162.547 1370.91 Q165.626 1366.31 171.436 1366.31 Z\" fill=\"#000000\" fill-rule=\"nonzero\" fill-opacity=\"1\" /><path clip-path=\"url(#clip330)\" d=\"M127.2 1047.06 Q123.589 1047.06 121.76 1050.63 Q119.955 1054.17 119.955 1061.3 Q119.955 1068.41 121.76 1071.97 Q123.589 1075.51 127.2 1075.51 Q130.834 1075.51 132.64 1071.97 Q134.468 1068.41 134.468 1061.3 Q134.468 1054.17 132.64 1050.63 Q130.834 1047.06 127.2 1047.06 M127.2 1043.36 Q133.01 1043.36 136.066 1047.97 Q139.144 1052.55 139.144 1061.3 Q139.144 1070.03 136.066 1074.63 Q133.01 1079.22 127.2 1079.22 Q121.39 1079.22 118.311 1074.63 Q115.256 1070.03 115.256 1061.3 Q115.256 1052.55 118.311 1047.97 Q121.39 1043.36 127.2 1043.36 Z\" fill=\"#000000\" fill-rule=\"nonzero\" fill-opacity=\"1\" /><path clip-path=\"url(#clip330)\" d=\"M147.362 1072.67 L152.246 1072.67 L152.246 1078.54 L147.362 1078.54 L147.362 1072.67 Z\" fill=\"#000000\" fill-rule=\"nonzero\" fill-opacity=\"1\" /><path clip-path=\"url(#clip330)\" d=\"M162.477 1043.98 L180.834 1043.98 L180.834 1047.92 L166.76 1047.92 L166.76 1056.39 Q167.778 1056.05 168.797 1055.88 Q169.815 1055.7 170.834 1055.7 Q176.621 1055.7 180.001 1058.87 Q183.38 1062.04 183.38 1067.46 Q183.38 1073.04 179.908 1076.14 Q176.436 1079.22 170.116 1079.22 Q167.94 1079.22 165.672 1078.85 Q163.427 1078.48 161.019 1077.73 L161.019 1073.04 Q163.102 1074.17 165.325 1074.73 Q167.547 1075.28 170.024 1075.28 Q174.028 1075.28 176.366 1073.17 Q178.704 1071.07 178.704 1067.46 Q178.704 1063.85 176.366 1061.74 Q174.028 1059.63 170.024 1059.63 Q168.149 1059.63 166.274 1060.05 Q164.422 1060.47 162.477 1061.35 L162.477 1043.98 Z\" fill=\"#000000\" fill-rule=\"nonzero\" fill-opacity=\"1\" /><path clip-path=\"url(#clip330)\" d=\"M117.015 751.664 L124.654 751.664 L124.654 725.299 L116.343 726.965 L116.343 722.706 L124.607 721.039 L129.283 721.039 L129.283 751.664 L136.922 751.664 L136.922 755.599 L117.015 755.599 L117.015 751.664 Z\" fill=\"#000000\" fill-rule=\"nonzero\" fill-opacity=\"1\" /><path clip-path=\"url(#clip330)\" d=\"M146.366 749.72 L151.251 749.72 L151.251 755.599 L146.366 755.599 L146.366 749.72 Z\" fill=\"#000000\" fill-rule=\"nonzero\" fill-opacity=\"1\" /><path clip-path=\"url(#clip330)\" d=\"M171.436 724.118 Q167.825 724.118 165.996 727.683 Q164.19 731.224 164.19 738.354 Q164.19 745.461 165.996 749.025 Q167.825 752.567 171.436 752.567 Q175.07 752.567 176.876 749.025 Q178.704 745.461 178.704 738.354 Q178.704 731.224 176.876 727.683 Q175.07 724.118 171.436 724.118 M171.436 720.414 Q177.246 720.414 180.301 725.021 Q183.38 729.604 183.38 738.354 Q183.38 747.081 180.301 751.687 Q177.246 756.271 171.436 756.271 Q165.626 756.271 162.547 751.687 Q159.491 747.081 159.491 738.354 Q159.491 729.604 162.547 725.021 Q165.626 720.414 171.436 720.414 Z\" fill=\"#000000\" fill-rule=\"nonzero\" fill-opacity=\"1\" /><path clip-path=\"url(#clip330)\" d=\"M118.01 428.719 L125.649 428.719 L125.649 402.353 L117.339 404.02 L117.339 399.76 L125.603 398.094 L130.279 398.094 L130.279 428.719 L137.917 428.719 L137.917 432.654 L118.01 432.654 L118.01 428.719 Z\" fill=\"#000000\" fill-rule=\"nonzero\" fill-opacity=\"1\" /><path clip-path=\"url(#clip330)\" d=\"M147.362 426.774 L152.246 426.774 L152.246 432.654 L147.362 432.654 L147.362 426.774 Z\" fill=\"#000000\" fill-rule=\"nonzero\" fill-opacity=\"1\" /><path clip-path=\"url(#clip330)\" d=\"M162.477 398.094 L180.834 398.094 L180.834 402.029 L166.76 402.029 L166.76 410.501 Q167.778 410.154 168.797 409.992 Q169.815 409.807 170.834 409.807 Q176.621 409.807 180.001 412.978 Q183.38 416.149 183.38 421.566 Q183.38 427.145 179.908 430.246 Q176.436 433.325 170.116 433.325 Q167.94 433.325 165.672 432.955 Q163.427 432.584 161.019 431.844 L161.019 427.145 Q163.102 428.279 165.325 428.834 Q167.547 429.39 170.024 429.39 Q174.028 429.39 176.366 427.283 Q178.704 425.177 178.704 421.566 Q178.704 417.955 176.366 415.848 Q174.028 413.742 170.024 413.742 Q168.149 413.742 166.274 414.159 Q164.422 414.575 162.477 415.455 L162.477 398.094 Z\" fill=\"#000000\" fill-rule=\"nonzero\" fill-opacity=\"1\" /><path clip-path=\"url(#clip330)\" d=\"M120.232 105.773 L136.552 105.773 L136.552 109.708 L114.607 109.708 L114.607 105.773 Q117.269 103.018 121.853 98.3888 Q126.459 93.7361 127.64 92.3935 Q129.885 89.8704 130.765 88.1343 Q131.667 86.375 131.667 84.6852 Q131.667 81.9306 129.723 80.1945 Q127.802 78.4584 124.7 78.4584 Q122.501 78.4584 120.047 79.2223 Q117.617 79.9861 114.839 81.5371 L114.839 76.8149 Q117.663 75.6806 120.117 75.1019 Q122.57 74.5232 124.607 74.5232 Q129.978 74.5232 133.172 77.2084 Q136.367 79.8936 136.367 84.3843 Q136.367 86.5139 135.556 88.4352 Q134.769 90.3333 132.663 92.9259 Q132.084 93.5972 128.982 96.8148 Q125.88 100.009 120.232 105.773 Z\" fill=\"#000000\" fill-rule=\"nonzero\" fill-opacity=\"1\" /><path clip-path=\"url(#clip330)\" d=\"M146.366 103.829 L151.251 103.829 L151.251 109.708 L146.366 109.708 L146.366 103.829 Z\" fill=\"#000000\" fill-rule=\"nonzero\" fill-opacity=\"1\" /><path clip-path=\"url(#clip330)\" d=\"M171.436 78.2269 Q167.825 78.2269 165.996 81.7917 Q164.19 85.3333 164.19 92.4629 Q164.19 99.5694 165.996 103.134 Q167.825 106.676 171.436 106.676 Q175.07 106.676 176.876 103.134 Q178.704 99.5694 178.704 92.4629 Q178.704 85.3333 176.876 81.7917 Q175.07 78.2269 171.436 78.2269 M171.436 74.5232 Q177.246 74.5232 180.301 79.1297 Q183.38 83.713 183.38 92.4629 Q183.38 101.19 180.301 105.796 Q177.246 110.38 171.436 110.38 Q165.626 110.38 162.547 105.796 Q159.491 101.19 159.491 92.4629 Q159.491 83.713 162.547 79.1297 Q165.626 74.5232 171.436 74.5232 Z\" fill=\"#000000\" fill-rule=\"nonzero\" fill-opacity=\"1\" /><path clip-path=\"url(#clip330)\" d=\"M67.3143 799.235 Q73.68 801.718 75.6216 804.073 Q77.5631 806.428 77.5631 810.375 L77.5631 815.054 L72.6615 815.054 L72.6615 811.616 Q72.6615 809.197 71.5157 807.861 Q70.3699 806.524 66.1048 804.901 L63.4312 803.85 L28.3562 818.269 L28.3562 812.062 L56.238 800.922 L28.3562 789.782 L28.3562 783.575 L67.3143 799.235 Z\" fill=\"#000000\" fill-rule=\"nonzero\" fill-opacity=\"1\" /><path clip-path=\"url(#clip330)\" d=\"M14.5426 740.702 Q21.8632 744.967 29.0246 747.036 Q36.186 749.105 43.5384 749.105 Q50.8908 749.105 58.1159 747.036 Q65.3091 744.936 72.5979 740.702 L72.5979 745.795 Q65.1182 750.569 57.8931 752.956 Q50.668 755.312 43.5384 755.312 Q36.4406 755.312 29.2474 752.956 Q22.0542 750.601 14.5426 745.795 L14.5426 740.702 Z\" fill=\"#000000\" fill-rule=\"nonzero\" fill-opacity=\"1\" /><path clip-path=\"url(#clip330)\" d=\"M35.1993 701.585 Q31.2526 699.389 29.3747 696.333 Q27.4968 693.278 27.4968 689.14 Q27.4968 683.57 31.4117 680.546 Q35.2948 677.523 42.4881 677.523 L64.0042 677.523 L64.0042 683.411 L42.679 683.411 Q37.5546 683.411 35.072 685.225 Q32.5894 687.039 32.5894 690.763 Q32.5894 695.315 35.6131 697.957 Q38.6368 700.598 43.8567 700.598 L64.0042 700.598 L64.0042 706.487 L42.679 706.487 Q37.5228 706.487 35.072 708.301 Q32.5894 710.115 32.5894 713.903 Q32.5894 718.391 35.6449 721.032 Q38.6686 723.674 43.8567 723.674 L64.0042 723.674 L64.0042 729.562 L28.3562 729.562 L28.3562 723.674 L33.8944 723.674 Q30.616 721.669 29.0564 718.868 Q27.4968 716.067 27.4968 712.216 Q27.4968 708.333 29.4702 705.627 Q31.4436 702.89 35.1993 701.585 Z\" fill=\"#000000\" fill-rule=\"nonzero\" fill-opacity=\"1\" /><path clip-path=\"url(#clip330)\" d=\"M14.5426 666.765 L14.5426 661.672 Q22.0542 656.898 29.2474 654.543 Q36.4406 652.155 43.5384 652.155 Q50.668 652.155 57.8931 654.543 Q65.1182 656.898 72.5979 661.672 L72.5979 666.765 Q65.3091 662.532 58.1159 660.463 Q50.8908 658.362 43.5384 658.362 Q36.186 658.362 29.0246 660.463 Q21.8632 662.532 14.5426 666.765 Z\" fill=\"#000000\" fill-rule=\"nonzero\" fill-opacity=\"1\" /><polyline clip-path=\"url(#clip332)\" style=\"stroke:#009af9; stroke-linecap:round; stroke-linejoin:round; stroke-width:4; stroke-opacity:1; fill:none\" points=\"279.759,738.319 286.467,709.888 293.176,682.09 299.885,654.926 306.594,628.395 313.302,602.498 320.011,577.235 326.72,552.605 333.429,528.609 340.137,505.246 346.846,482.517 353.555,460.422 360.263,438.96 366.972,418.132 373.681,397.938 380.39,378.377 387.098,359.45 393.807,341.156 400.516,323.496 407.225,306.47 413.933,290.077 420.642,274.318 427.351,259.193 434.059,244.701 440.768,230.843 447.477,217.618 454.186,205.027 460.894,193.07 467.603,181.746 474.312,171.056 481.021,160.999 487.729,151.576 494.438,142.787 501.147,134.631 507.855,127.109 514.564,120.221 521.273,113.966 527.982,108.345 534.69,103.357 541.399,99.0034 548.108,95.283 554.817,92.1963 561.525,89.7432 568.234,87.9238 574.943,86.7379 581.652,86.1857 588.36,86.2671 595.069,86.9821 601.778,88.3307 608.486,90.3129 615.195,92.9288 621.904,96.1783 628.613,100.061 635.321,104.578 642.03,109.728 648.739,115.512 655.448,121.93 662.156,128.981 668.865,136.666 675.574,144.984 682.282,153.936 688.991,163.522 695.7,173.741 702.409,184.594 709.117,196.081 715.826,208.201 722.535,220.955 729.244,234.342 735.952,248.363 742.661,263.018 749.37,278.306 756.078,294.228 762.787,310.783 769.496,327.972 776.205,345.795 782.913,364.252 789.622,383.341 796.331,403.065 803.04,423.422 809.748,444.413 816.457,466.037 823.166,488.296 829.874,511.187 836.583,534.713 843.292,558.871 850.001,583.664 856.709,609.09 863.418,635.15 870.127,661.843 876.836,689.17 883.544,717.131 890.253,745.725 896.962,774.953 903.67,804.814 910.379,835.31 917.088,866.438 923.797,898.201 930.505,930.597 937.214,963.626 943.923,997.289 950.632,1031.59 957.34,1066.52 964.049,1102.08 970.758,1138.28 977.467,1175.11 984.175,1212.57 990.884,1250.67 997.593,1289.41 1004.3,1328.77 1011.01,1368.77 1017.72,1384.22 1024.43,1384.22 1031.14,1384.24 1037.85,1384.24 1044.55,1384.24 1051.26,1384.24 1057.97,1384.24 1064.68,1384.24 1071.39,1384.24 1078.1,1384.24 1084.81,1384.24 1091.51,1384.24 1098.22,1384.24 1104.93,1384.24 1111.64,1384.24 1118.35,1384.24 1125.06,1384.24 1131.77,1384.24 1138.48,1384.24 1145.18,1384.24 1151.89,1384.24 1158.6,1384.24 1165.31,1384.24 1172.02,1384.24 1178.73,1384.24 1185.44,1384.24 1192.15,1384.24 1198.85,1384.24 1205.56,1384.24 1212.27,1384.24 1218.98,1384.24 1225.69,1384.24 1232.4,1384.24 1239.11,1384.24 1245.82,1384.24 1252.52,1384.24 1259.23,1384.24 1265.94,1384.24 1272.65,1384.24 1279.36,1384.24 1286.07,1384.24 1292.78,1384.24 1299.49,1384.24 1306.19,1384.24 1312.9,1384.24 1319.61,1384.24 1326.32,1384.24 1333.03,1384.24 1339.74,1384.24 1346.45,1384.24 1353.16,1384.24 1359.86,1384.24 1366.57,1384.24 1373.28,1384.24 1379.99,1384.24 1386.7,1384.24 1393.41,1384.24 1400.12,1384.24 1406.83,1384.24 1413.53,1384.24 1420.24,1384.24 1426.95,1384.24 1433.66,1384.24 1440.37,1384.24 1447.08,1384.24 1453.79,1384.24 1460.49,1384.24 1467.2,1384.24 1473.91,1384.24 1480.62,1384.24 1487.33,1384.24 1494.04,1384.24 1500.75,1384.24 1507.46,1384.24 1514.16,1384.24 1520.87,1384.24 1527.58,1384.24 1534.29,1384.24 1541,1384.24 1547.71,1384.24 1554.42,1384.24 1561.13,1384.24 1567.83,1384.24 1574.54,1384.24 1581.25,1384.24 1587.96,1384.24 1594.67,1384.24 1601.38,1384.24 1608.09,1384.24 1614.8,1384.24 1621.5,1384.24 1628.21,1384.24 1634.92,1384.24 1641.63,1384.24 1648.34,1384.24 1655.05,1384.24 1661.76,1384.24 1668.47,1384.24 1675.17,1384.24 1681.88,1384.24 1688.59,1384.24 1695.3,1384.24 1702.01,1384.24 1708.72,1384.24 1715.43,1384.24 1722.14,1384.24 1728.84,1384.24 1735.55,1384.24 1742.26,1384.24 1748.97,1384.24 1755.68,1384.24 1762.39,1384.24 1769.1,1384.24 1775.81,1384.24 1782.51,1384.24 1789.22,1384.24 1795.93,1384.24 1802.64,1384.24 1809.35,1384.24 1816.06,1384.24 1822.77,1384.24 1829.48,1384.24 1836.18,1384.24 1842.89,1384.24 1849.6,1384.24 1856.31,1384.24 1863.02,1384.24 1869.73,1384.24 1876.44,1384.24 1883.14,1384.24 1889.85,1384.24 1896.56,1384.24 1903.27,1384.24 1909.98,1384.24 1916.69,1384.24 1923.4,1384.24 1930.11,1384.24 1936.81,1384.24 1943.52,1384.24 1950.23,1384.24 1956.94,1384.24 1963.65,1384.24 1970.36,1384.24 1977.07,1384.24 1983.78,1384.24 1990.48,1384.24 1997.19,1384.24 2003.9,1384.24 2010.61,1384.24 2017.32,1384.24 2024.03,1384.24 2030.74,1384.24 2037.45,1384.24 2044.15,1384.24 2050.86,1384.24 2057.57,1384.24 2064.28,1384.24 2070.99,1384.24 2077.7,1384.24 2084.41,1384.24 2091.12,1384.24 2097.82,1384.24 2104.53,1384.24 2111.24,1384.24 2117.95,1384.24 2124.66,1384.24 2131.37,1384.24 2138.08,1384.24 2144.79,1384.24 2151.49,1384.24 2158.2,1384.24 2164.91,1384.24 2171.62,1384.24 2178.33,1384.24 2185.04,1384.24 2191.75,1384.24 2198.46,1384.24 2205.16,1384.24 2211.87,1384.24 2218.58,1384.24 2225.29,1384.24 2232,1384.24 2238.71,1384.24 2245.42,1384.24 2252.12,1384.24 2258.83,1384.24 2265.54,1384.24 2272.25,1384.24 2278.96,1384.24 2285.67,1384.24 2292.38,1384.24 \"/>\n",
       "<path clip-path=\"url(#clip330)\" d=\"M2015.88 196.789 L2281.64 196.789 L2281.64 93.1086 L2015.88 93.1086  Z\" fill=\"#ffffff\" fill-rule=\"evenodd\" fill-opacity=\"1\"/>\n",
       "<polyline clip-path=\"url(#clip330)\" style=\"stroke:#000000; stroke-linecap:round; stroke-linejoin:round; stroke-width:4; stroke-opacity:1; fill:none\" points=\"2015.88,196.789 2281.64,196.789 2281.64,93.1086 2015.88,93.1086 2015.88,196.789 \"/>\n",
       "<polyline clip-path=\"url(#clip330)\" style=\"stroke:#009af9; stroke-linecap:round; stroke-linejoin:round; stroke-width:4; stroke-opacity:1; fill:none\" points=\"2039.58,144.949 2181.8,144.949 \"/>\n",
       "<path clip-path=\"url(#clip330)\" d=\"M2219.35 164.636 Q2217.55 169.266 2215.83 170.678 Q2214.12 172.09 2211.25 172.09 L2207.85 172.09 L2207.85 168.525 L2210.35 168.525 Q2212.11 168.525 2213.08 167.692 Q2214.05 166.858 2215.23 163.756 L2215.99 161.812 L2205.51 136.303 L2210.02 136.303 L2218.12 156.581 L2226.23 136.303 L2230.74 136.303 L2219.35 164.636 Z\" fill=\"#000000\" fill-rule=\"nonzero\" fill-opacity=\"1\" /><path clip-path=\"url(#clip330)\" d=\"M2238.03 158.293 L2245.67 158.293 L2245.67 131.928 L2237.36 133.595 L2237.36 129.335 L2245.62 127.669 L2250.3 127.669 L2250.3 158.293 L2257.94 158.293 L2257.94 162.229 L2238.03 162.229 L2238.03 158.293 Z\" fill=\"#000000\" fill-rule=\"nonzero\" fill-opacity=\"1\" /></svg>\n"
      ]
     },
     "metadata": {},
     "output_type": "display_data"
    },
    {
     "name": "stderr",
     "output_type": "stream",
     "text": [
      "\u001b[36m\u001b[1m┌ \u001b[22m\u001b[39m\u001b[36m\u001b[1mInfo: \u001b[22m\u001b[39mMeshCat server started. You can open the visualizer by visiting the following URL in your browser:\n",
      "\u001b[36m\u001b[1m└ \u001b[22m\u001b[39mhttp://127.0.0.1:8700\n"
     ]
    },
    {
     "data": {
      "text/html": [
       "    <div style=\"height: 500px; width: 100%; overflow-x: auto; overflow-y: hidden; resize: both\">\n",
       "    <iframe src=\"http://127.0.0.1:8700\" style=\"width: 100%; height: 100%; border: none\"></iframe>\n",
       "    </div>\n"
      ],
      "text/plain": [
       "MeshCat.DisplayedVisualizer(MeshCat.CoreVisualizer(MeshCat.SceneTrees.SceneNode(nothing, nothing, Dict{String, Vector{UInt8}}(), UInt8[0x83, 0xa7, 0x6f, 0x70, 0x74, 0x69, 0x6f, 0x6e, 0x73, 0x82  …  0x5f, 0x61, 0x6e, 0x69, 0x6d, 0x61, 0x74, 0x69, 0x6f, 0x6e], Dict{String, MeshCat.SceneTrees.SceneNode}(\"meshcat\" => MeshCat.SceneTrees.SceneNode(nothing, nothing, Dict{String, Vector{UInt8}}(), nothing, Dict{String, MeshCat.SceneTrees.SceneNode}(\"brick\" => MeshCat.SceneTrees.SceneNode(UInt8[0x83, 0xa6, 0x6f, 0x62, 0x6a, 0x65, 0x63, 0x74, 0x84, 0xaa  …  0x68, 0x63, 0x61, 0x74, 0x2f, 0x62, 0x72, 0x69, 0x63, 0x6b], nothing, Dict{String, Vector{UInt8}}(), nothing, Dict{String, MeshCat.SceneTrees.SceneNode}()))))), Set{Any}(), ip\"127.0.0.1\", 8700))"
      ]
     },
     "execution_count": 96,
     "metadata": {},
     "output_type": "execute_result"
    }
   ],
   "source": [
    "include(joinpath(@__DIR__, \"animate_brick.jl\"))\n",
    "let \n",
    "    \n",
    "    dt = 0.01 \n",
    "    T = 3.0 \n",
    "    \n",
    "    t_vec = 0:dt:T\n",
    "    N = length(t_vec)\n",
    "    \n",
    "    qs = [zeros(2) for i = 1:N]\n",
    "    vs = [zeros(2) for i = 1:N]\n",
    "    \n",
    "    qs[1] = [0, 1.0]\n",
    "    vs[1] = [1, 4.5]\n",
    "    \n",
    "    # TODO: simulate the brick by forming and solving a qp \n",
    "    # at each timestep. Your QP should solve for vs[k+1], and\n",
    "    # you should use this to update qs[k+1]\n",
    "    \n",
    "    # qp = brick_simulation_qp(qs[1], vs[1])\n",
    "    for k in 1:(N-1)\n",
    "        qp = brick_simulation_qp(qs[k], vs[k])\n",
    "        x, λ, μ = solve_qp(qp; verbose = false, max_iters = 100, tol = 1e-4)\n",
    "        vs[k+1] = x\n",
    "        qs[k+1] = qs[k] + dt*x        \n",
    "    end\n",
    "    \n",
    "    xs = [q[1] for q in qs]\n",
    "    ys = [q[2] for q in qs]\n",
    "    \n",
    "    @show @test abs(maximum(ys)-2)<1e-1\n",
    "    @show @test minimum(ys) > -1e-2\n",
    "    @show @test abs(xs[end] - 3) < 1e-2\n",
    "    \n",
    "    xdot = diff(xs)/dt\n",
    "    @show @test maximum(xdot) < 1.0001\n",
    "    @show @test minimum(xdot) > 0.9999\n",
    "    @show @test ys[110] > 1e-2\n",
    "    @show @test abs(ys[111]) < 1e-2\n",
    "    @show @test abs(ys[112]) < 1e-2\n",
    "    \n",
    "    display(plot(xs, ys, ylabel = \"y (m)\", xlabel = \"x (m)\"))\n",
    "    \n",
    "    animate_brick(qs)\n",
    "end"
   ]
  },
  {
   "cell_type": "markdown",
   "id": "8e1db279",
   "metadata": {},
   "source": [
    "# Part D (5 pts): Solve a QP\n",
    "\n",
    "Use your QP solver to solve the following optimization problem:\n",
    "\n",
    "\n",
    "$$\n",
    "\\begin{align} \n",
    "\\min_{y\\in\\mathbb{R}^2,a\\in\\mathbb{R},b\\in\\mathbb{R}} \\quad & \\frac{1}{2}y^T \\begin{bmatrix} 1 & .3 \\\\ .3 & 1 \\end{bmatrix} y + a^2 + 2b^2  + \\begin{bmatrix} -2 & 3.4 \\end{bmatrix} y + 2a + 4b \\\\ \n",
    "\\text{st} \\quad & a + b = 1 \\\\ \n",
    "& \\begin{bmatrix}-1 & 2.3 \\end{bmatrix} y + a - 2b =3 \\\\\n",
    "& -0.5 \\leq y \\leq 1 \\\\ \n",
    "& -1 \\leq a \\leq 1 \\\\ \n",
    "& -1 \\leq b \\leq 1\n",
    "\\end{align}\n",
    "$$\n",
    "\n",
    "You should be able to put this into our standard QP form that we used above, and solve."
   ]
  },
  {
   "cell_type": "code",
   "execution_count": 109,
   "id": "488cfbf0",
   "metadata": {},
   "outputs": [
    {
     "name": "stdout",
     "output_type": "stream",
     "text": [
      "\u001b[0m\u001b[1mTest Summary: | \u001b[22m\u001b[32m\u001b[1mPass  \u001b[22m\u001b[39m\u001b[36m\u001b[1mTotal\u001b[22m\u001b[39m\n",
      "part D        | \u001b[32m   3  \u001b[39m\u001b[36m    3\u001b[39m\n"
     ]
    },
    {
     "data": {
      "text/plain": [
       "Test.DefaultTestSet(\"part D\", Any[], 3, false, false)"
      ]
     },
     "execution_count": 109,
     "metadata": {},
     "output_type": "execute_result"
    }
   ],
   "source": [
    "@testset \"part D\" begin\n",
    "\n",
    "    y = randn(2)\n",
    "    a = randn()\n",
    "    b = randn()\n",
    "\n",
    "    Q = [\n",
    "        1 0.3 0 0;\n",
    "        0.3 1 0 0;\n",
    "        0 0 1 0;\n",
    "        0 0 0 4\n",
    "    ]\n",
    "    q = [ -2, 3.4, 2, 4 ]\n",
    "    \n",
    "    A = [\n",
    "        0 0 1 1;\n",
    "        -1 2.3 1 -2\n",
    "    ]\n",
    "    b = [1,3]\n",
    "\n",
    "    G = [\n",
    "        1 1 0 0;\n",
    "        -1 -1 0 0;\n",
    "        0 0 1 0;\n",
    "        0 0 -1 0;\n",
    "        0 0 0 1;\n",
    "        0 0 0 -1\n",
    "    ]\n",
    "    h = [1, 0.5, 1, 1, 1, 1]\n",
    "\n",
    "    qp = (\n",
    "        Q = Q,\n",
    "        q = q,\n",
    "        A = A, # don't edit this\n",
    "        b = b,   # don't edit this \n",
    "        G = G,\n",
    "        h = h\n",
    "    )\n",
    "    \n",
    "    x, λ, μ = solve_qp(qp; verbose = false, max_iters = 100, tol = 1e-4)\n",
    "\n",
    "    y = x[1:2]\n",
    "    a = x[3]\n",
    "    b = x[4]\n",
    "    \n",
    "    @test norm(y - [-0.080823; 0.834424]) < 1e-3 \n",
    "    @test abs(a - 1) < 1e-3 \n",
    "    @test abs(b) < 1e-3 \n",
    "end"
   ]
  },
  {
   "cell_type": "markdown",
   "id": "ba575e34",
   "metadata": {},
   "source": [
    "## Part E (5 pts): One sentence short answer\n",
    "\n",
    "1. For our Augmented Lagrangian solver, if our initial guess for $x$ is feasible (meaning it satisfies the constraints), will it stay feasible through each iteration? \n",
    "\n",
    "> (Not sure) I think It'll depends on the penalty term, if the penalty parameter is too small and penalty becomes weak, I think cost can be overshoot and $x$ can moves to infeasible area.\n",
    "\n",
    "2. Does the Augmented Lagrangian function for this problem always have continuous first derivatives?\n",
    "\n",
    "> Yes, All terms in ∇AL function are continuous (continous func + continous func => continous func)\n",
    "\n",
    "![image](https://github.com/kimsooyoung/optimal_control_julia/assets/12381733/53a99fb3-711d-4f7e-8ef9-bac950ff9417)\n",
    "![image](https://github.com/kimsooyoung/optimal_control_julia/assets/12381733/6b3b3007-05f2-4f60-91a1-311b2d2fc79b)\n",
    "![image](https://github.com/kimsooyoung/optimal_control_julia/assets/12381733/21a70957-320d-4957-83d6-8837854a2ae0)\n",
    "\n",
    "3. Is the QP in part D always convex?\n",
    "\n",
    "> Yes, Bcs Hessian of cost function matrix is posdef"
   ]
  },
  {
   "cell_type": "code",
   "execution_count": 112,
   "id": "e4c7b5a6",
   "metadata": {},
   "outputs": [
    {
     "data": {
      "text/plain": [
       "true"
      ]
     },
     "execution_count": 112,
     "metadata": {},
     "output_type": "execute_result"
    }
   ],
   "source": [
    "Q = [\n",
    "    1 0.3 0 0;\n",
    "    0.3 1 0 0;\n",
    "    0 0 1 0;\n",
    "    0 0 0 4\n",
    "]\n",
    "isposdef(Q)"
   ]
  },
  {
   "cell_type": "code",
   "execution_count": null,
   "id": "924d444d-0886-4b0a-8440-23fcc7cbdf56",
   "metadata": {},
   "outputs": [],
   "source": []
  }
 ],
 "metadata": {
  "kernelspec": {
   "display_name": "Julia 1.6.7",
   "language": "julia",
   "name": "julia-1.6"
  },
  "language_info": {
   "file_extension": ".jl",
   "mimetype": "application/julia",
   "name": "julia",
   "version": "1.6.7"
  }
 },
 "nbformat": 4,
 "nbformat_minor": 5
}
