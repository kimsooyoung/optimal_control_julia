{
 "cells": [
  {
   "cell_type": "markdown",
   "id": "99ce54b9",
   "metadata": {},
   "source": [
    "Fill out project proposal form: [https://forms.gle/mqdpazLZ2ZnapAeCA](https://forms.gle/mqdpazLZ2ZnapAeCA)"
   ]
  }
 ],
 "metadata": {
  "kernelspec": {
   "display_name": "Julia 1.6.7",
   "language": "julia",
   "name": "julia-1.6"
  },
  "language_info": {
   "file_extension": ".jl",
   "mimetype": "application/julia",
   "name": "julia",
   "version": "1.6.7"
  }
 },
 "nbformat": 4,
 "nbformat_minor": 5
}
