{
 "cells": [
  {
   "cell_type": "code",
   "execution_count": null,
   "id": "3db5e24d-abda-41aa-b86f-27f87a337ca2",
   "metadata": {},
   "outputs": [],
   "source": [
    "import Pkg; Pkg.activate(@__DIR__); Pkg.instantiate()"
   ]
  },
  {
   "cell_type": "code",
   "execution_count": null,
   "id": "770f67ff-58c2-4155-8654-2e0c0d26a20b",
   "metadata": {},
   "outputs": [],
   "source": [
    "using LinearAlgebra\n",
    "using Plots\n",
    "using SparseArrays\n",
    "using ForwardDiff\n",
    "using ControlSystems\n",
    "using OSQP"
   ]
  },
  {
   "cell_type": "code",
   "execution_count": null,
   "id": "19977bb3-4fab-4179-9a92-48f1d4604afb",
   "metadata": {},
   "outputs": [],
   "source": [
    "#Model parameters\n",
    "g = 9.81 #m/s^2\n",
    "m = 1.0 #kg \n",
    "ℓ = 0.3 #meters\n",
    "J = 0.2*m*ℓ*ℓ\n",
    "\n",
    "#Thrust limits\n",
    "umin = [0.2*m*g; 0.2*m*g]\n",
    "umax = [0.6*m*g; 0.6*m*g]\n",
    "\n",
    "h = 0.05 #time step (20 Hz)"
   ]
  },
  {
   "cell_type": "code",
   "execution_count": null,
   "id": "5ded8256-4f60-4270-ac9b-f01a3ea27dc4",
   "metadata": {},
   "outputs": [],
   "source": [
    "#Planar Quadrotor Dynamics\n",
    "function quad_dynamics(x,u)\n",
    "    θ = x[3]\n",
    "    \n",
    "    ẍ = (1/m)*(u[1] + u[2])*sin(θ)\n",
    "    ÿ = (1/m)*(u[1] + u[2])*cos(θ) - g\n",
    "    θ̈ = (1/J)*(ℓ/2)*(u[2] - u[1])\n",
    "    \n",
    "    return [x[4:6]; ẍ; ÿ; θ̈]\n",
    "end"
   ]
  },
  {
   "cell_type": "code",
   "execution_count": null,
   "id": "869e9ea9-9a28-4d6f-be58-e3130a02283b",
   "metadata": {},
   "outputs": [],
   "source": [
    "function quad_dynamics_rk4(x,u)\n",
    "    \n",
    "    f1 = quad_dynamics(x, u)\n",
    "    f2 = quad_dynamics(x + 0.5*h*f1, u)\n",
    "    f3 = quad_dynamics(x + 0.5*h*f2, u)\n",
    "    f4 = quad_dynamics(x + h*f3, u)\n",
    "\n",
    "    return x + (h/6)*(f1+2*f2+2*f3+f4)\n",
    "end"
   ]
  },
  {
   "cell_type": "code",
   "execution_count": null,
   "id": "69cb8068-bf6b-4b77-9478-5b3dd165d1f9",
   "metadata": {},
   "outputs": [],
   "source": [
    "#Linearized dynamics for hovering\n",
    "x_hover = [ 0; 0; 0; 0; 0; 0 ]\n",
    "u_hover = [ 0.5*m*g; 0.5*m*g ]\n",
    "A = ForwardDiff.jacobian(x -> quad_dynamics(x, u_hover), x_hover)\n",
    "B = ForwardDiff.jacobian(u -> quad_dynamics(x_hover, u), u_hover)\n",
    "quad_dynamics_rk4(x_hover, u_hover)"
   ]
  },
  {
   "cell_type": "code",
   "execution_count": null,
   "id": "426f6f87-a308-4cfb-9f47-981568615943",
   "metadata": {},
   "outputs": [],
   "source": [
    "Nx = 6     # number of state\n",
    "Nu = 2     # number of controls\n",
    "Tfinal = 10.0 # final time\n",
    "Nt = Int(Tfinal/h)+1    # number of time steps\n",
    "thist = Array(range(0,h*(Nt-1), step=h));"
   ]
  },
  {
   "cell_type": "code",
   "execution_count": 1,
   "id": "82affb1f-7dee-42fe-9e07-7d4153e06877",
   "metadata": {},
   "outputs": [
    {
     "ename": "LoadError",
     "evalue": "UndefVarError: I not defined",
     "output_type": "error",
     "traceback": [
      "UndefVarError: I not defined",
      "",
      "Stacktrace:",
      " [1] top-level scope",
      "   @ In[1]:2"
     ]
    }
   ],
   "source": [
    "# Cost weights\n",
    "Q = Array(1.0*I(Nx))\n",
    "R = Array(0.01*I(Nu))\n",
    "Qn = Array(1.0*I(Nx))"
   ]
  },
  {
   "cell_type": "code",
   "execution_count": 2,
   "id": "95458714-e464-4cad-bef9-11554244a826",
   "metadata": {},
   "outputs": [
    {
     "data": {
      "text/plain": [
       "cost (generic function with 1 method)"
      ]
     },
     "execution_count": 2,
     "metadata": {},
     "output_type": "execute_result"
    }
   ],
   "source": [
    "#Cost function\n",
    "function cost(xhist,uhist)\n",
    "    J = 0.5 * (xhist[:,end])' * Qn * (xhist[:,end])\n",
    "\n",
    "    for k in 1:(size(xhist, 2)-1)\n",
    "        J = J + 0.5 * (xhist[:,k])' * Q * (xhist[:,k]) + 0.5 * (uhist[:,k])' * R * (uhist[:,k])[1]\n",
    "    end\n",
    "\n",
    "    return J\n",
    "end"
   ]
  },
  {
   "cell_type": "markdown",
   "id": "ad402237-15e4-4f67-98cb-524f9e144607",
   "metadata": {},
   "source": [
    "## LQR Hover Controller"
   ]
  },
  {
   "cell_type": "code",
   "execution_count": 3,
   "id": "581c8094-3a96-4fc7-b198-36b2eef35bc8",
   "metadata": {},
   "outputs": [
    {
     "ename": "LoadError",
     "evalue": "UndefVarError: dlqr not defined",
     "output_type": "error",
     "traceback": [
      "UndefVarError: dlqr not defined",
      "",
      "Stacktrace:",
      " [1] top-level scope",
      "   @ In[3]:1"
     ]
    }
   ],
   "source": [
    "K = dlqr(A, B, Q, R)\n",
    "P = dare(A, B, Q, R)\n",
    "\n",
    "function lqr_controller(t,x,K,xref)\n",
    "    return u_hover - K*(x - xref)\n",
    "end"
   ]
  },
  {
   "cell_type": "markdown",
   "id": "5f290a19-cf02-4e66-9fa1-c2a24c016b8d",
   "metadata": {},
   "source": [
    "## MPC Controller"
   ]
  },
  {
   "cell_type": "code",
   "execution_count": 4,
   "id": "6893f1c0-1f3a-4aa5-800f-d8c53e2d3796",
   "metadata": {},
   "outputs": [
    {
     "data": {
      "text/plain": [
       "2"
      ]
     },
     "execution_count": 4,
     "metadata": {},
     "output_type": "execute_result"
    }
   ],
   "source": [
    "Nh = 20 #one second horizon at 20Hz\n",
    "Nx = 6\n",
    "Nu = 2"
   ]
  },
  {
   "cell_type": "markdown",
   "id": "b7460829-0852-4b39-a445-ee8439e3b31e",
   "metadata": {},
   "source": [
    "### Case1. $z^T = [ u, x, u, x, u, x, ... , u_{N-1}, x_n ]$"
   ]
  },
  {
   "cell_type": "code",
   "execution_count": 5,
   "id": "0d24c9ab-70bf-4f63-9a8e-14d5b4751587",
   "metadata": {},
   "outputs": [
    {
     "ename": "LoadError",
     "evalue": "UndefVarError: Diagonal not defined",
     "output_type": "error",
     "traceback": [
      "UndefVarError: Diagonal not defined",
      "",
      "Stacktrace:",
      " [1] top-level scope",
      "   @ In[5]:1"
     ]
    }
   ],
   "source": [
    "U = kron(Diagonal(I,Nh), [I zeros(Nu,Nx)]) #Matrix that picks out all u\n",
    "Θ = kron(Diagonal(I,Nh), [0 0 0 0 1 0 0 0]) #Matrix that picks out all x3 (θ)\n",
    "H = sparse([kron(Diagonal(I,Nh-1),[R zeros(Nu,Nx); zeros(Nx,Nu) Q]) zeros((Nx+Nu)*(Nh-1), Nx+Nu); zeros(Nx+Nu,(Nx+Nu)*(Nh-1)) [R zeros(Nu,Nx); zeros(Nx,Nu) P]])\n",
    "b = zeros(Nh*(Nx+Nu))\n",
    "C = sparse([[B -I zeros(Nx,(Nh-1)*(Nu+Nx))]; zeros(Nx*(Nh-1),Nu) [kron(Diagonal(I,Nh-1), [A B]) zeros((Nh-1)*Nx,Nx)] + [zeros((Nh-1)*Nx,Nx) kron(Diagonal(I,Nh-1),[zeros(Nx,Nu) Diagonal(-I,Nx)])]])\n",
    "\n",
    "#Dynamics + Thrust limit constraints\n",
    "#D = [C; U]\n",
    "#lb = [zeros(Nx*Nh); kron(ones(Nh),umin-u_hover)]\n",
    "#ub = [zeros(Nx*Nh); kron(ones(Nh),umax-u_hover)]\n",
    "\n",
    "#Dynamics + thrust limit + bound constraint on θ to keep the system within small-angle approximation\n",
    "D = [C; U; Θ]\n",
    "lb = [zeros(Nx*Nh); kron(ones(Nh),umin-u_hover); -0.2*ones(Nh)]\n",
    "ub = [zeros(Nx*Nh); kron(ones(Nh),umax-u_hover); 0.2*ones(Nh)]\n",
    "\n",
    "prob = OSQP.Model()\n",
    "OSQP.setup!(prob; P=H, q=b, A=D, l=lb, u=ub, verbose=false, eps_abs=1e-8, eps_rel=1e-8, polish=1);"
   ]
  },
  {
   "cell_type": "code",
   "execution_count": 6,
   "id": "4c8fc827-ddcf-4055-82b6-9d430d56d787",
   "metadata": {},
   "outputs": [
    {
     "data": {
      "text/plain": [
       "mpc_controller_case1 (generic function with 1 method)"
      ]
     },
     "execution_count": 6,
     "metadata": {},
     "output_type": "execute_result"
    }
   ],
   "source": [
    "function mpc_controller_case1(t,x,xref)\n",
    "    \n",
    "    #Update QP problem\n",
    "    lb[1:6] .= -A*x\n",
    "    ub[1:6] .= -A*x\n",
    "    \n",
    "    for j = 1:(Nh-1)\n",
    "        b[(Nu+(j-1)*(Nx+Nu)).+(1:Nx)] .= -Q*xref\n",
    "    end\n",
    "    b[(Nu+(Nh-1)*(Nx+Nu)).+(1:Nx)] .= -P*xref\n",
    "    \n",
    "    OSQP.update!(prob, q=b, l=lb, u=ub)\n",
    "\n",
    "    #Solve QP\n",
    "    results = OSQP.solve!(prob)\n",
    "    Δu = results.x[1:Nu]\n",
    "\n",
    "    return u_hover + Δu\n",
    "end"
   ]
  },
  {
   "cell_type": "markdown",
   "id": "0eee426e-722c-4d48-8855-7c5626b67c84",
   "metadata": {},
   "source": [
    "### Case2. $z^T = [ x, x, x, ... ,x_N, u, u, u ... , u_{N-1} ]$"
   ]
  },
  {
   "cell_type": "code",
   "execution_count": 67,
   "id": "db96de4c-c53f-4cb7-acad-0acad3299ac7",
   "metadata": {},
   "outputs": [],
   "source": [
    "H = blockdiag( sparse(kron(Diagonal(I,Nh), Q)), sparse(Qn), sparse(kron(Diagonal(I,Nh), R)) )\n",
    "b = zeros(Nh*(Nx+Nu)+Nx)\n",
    "\n",
    "C_left = sparse(kron(Diagonal(I,Nh+1), -I(Nx)) + [zeros(Nx, Nx*(Nh)) zeros(Nx, Nx); kron(Diagonal(I,Nh), A) zeros(Nx*(Nh), Nx)])\n",
    "C_right = [ zeros(Nx, Nu*Nh); kron(Diagonal(I, Nh), B) ]\n",
    "C = [C_left C_right]\n",
    "U = [zeros(Nu*Nh, Nx*(Nh+1)) kron(Diagonal(I, Nh), I(2))]\n",
    "\n",
    "D = [C; U]\n",
    "lb = [zeros(Nx*(Nh+1)); kron(ones(Nh), umin-u_hover)]\n",
    "ub = [zeros(Nx*(Nh+1)); kron(ones(Nh), umax-u_hover)]\n",
    "\n",
    "prob = OSQP.Model()\n",
    "OSQP.setup!(prob; P=H, q=b, A=D, l=lb, u=ub, verbose=false, eps_abs=1e-8, eps_rel=1e-8, polish=1);"
   ]
  },
  {
   "cell_type": "code",
   "execution_count": 69,
   "id": "48d6f91f-8f57-4bc7-90b6-e84e7c7dac53",
   "metadata": {},
   "outputs": [
    {
     "data": {
      "text/plain": [
       "mpc_controller_case2 (generic function with 1 method)"
      ]
     },
     "execution_count": 69,
     "metadata": {},
     "output_type": "execute_result"
    }
   ],
   "source": [
    "function mpc_controller_case2(t,x,xref)\n",
    "    \n",
    "    #Update QP problem\n",
    "    lb[1:Nx] .= -A*x\n",
    "    ub[1:Nx] .= -A*x\n",
    "    \n",
    "    for j = 1:Nh\n",
    "        b[((Nx)*(j-1)).+(1:Nx)] .= -Q*xref\n",
    "    end\n",
    "    b[(Nh*Nx).+(1:Nx)] .= -P*xref\n",
    "    \n",
    "    OSQP.update!(prob, q=b, l=lb, u=ub)\n",
    "\n",
    "    #Solve QP\n",
    "    results = OSQP.solve!(prob)\n",
    "    Δu = results.x[((Nh+1)*Nx).+(1:Nu)]\n",
    "\n",
    "    return u_hover + Δu\n",
    "end"
   ]
  },
  {
   "cell_type": "markdown",
   "id": "0e4e894d-1532-4d18-99f6-ff1bf81d7f64",
   "metadata": {},
   "source": [
    "## MPC Simulation"
   ]
  },
  {
   "cell_type": "code",
   "execution_count": 71,
   "id": "b01b7f74-14d3-4cf6-abc8-59db39ffc1b7",
   "metadata": {},
   "outputs": [
    {
     "data": {
      "text/plain": [
       "closed_loop (generic function with 1 method)"
      ]
     },
     "execution_count": 71,
     "metadata": {},
     "output_type": "execute_result"
    }
   ],
   "source": [
    "function closed_loop(x0,controller,N)\n",
    "    xhist = zeros(length(x0),N)\n",
    "    u0 = controller(1,x0)\n",
    "    uhist = zeros(length(u0),N-1)\n",
    "    uhist[:,1] .= u0\n",
    "    xhist[:,1] .= x0\n",
    "    for k = 1:(N-1)\n",
    "        uk = controller(k,xhist[:,k])\n",
    "        uhist[:,k] = max.(min.(umax, uk), umin) #enforce control limits\n",
    "        xhist[:,k+1] .= quad_dynamics_rk4(xhist[:,k],uhist[:,k])\n",
    "    end\n",
    "    return xhist, uhist\n",
    "end"
   ]
  },
  {
   "cell_type": "code",
   "execution_count": 72,
   "id": "c1cd21ed-3510-4c8a-b279-7c9c22bf06f8",
   "metadata": {},
   "outputs": [],
   "source": [
    "x_ref = [0.0; 1.0; 0; 0; 0; 0]\n",
    "x0 = [10.0; 2.0; 0.0; 0; 0; 0]\n",
    "xhist1, uhist1 = closed_loop(x0, (t,x)->lqr_controller(t,x,K,x_ref), Nt);\n",
    "xhist2, uhist2 = closed_loop(x0, (t,x)->mpc_controller_case1(t,x,x_ref), Nt);"
   ]
  },
  {
   "cell_type": "code",
   "execution_count": 73,
   "id": "ae176d7d-8f3c-488e-896a-1ca91828b6c3",
   "metadata": {},
   "outputs": [
    {
     "data": {
      "image/svg+xml": [
       "<?xml version=\"1.0\" encoding=\"utf-8\"?>\n",
       "<svg xmlns=\"http://www.w3.org/2000/svg\" xmlns:xlink=\"http://www.w3.org/1999/xlink\" width=\"600\" height=\"400\" viewBox=\"0 0 2400 1600\">\n",
       "<defs>\n",
       "  <clipPath id=\"clip930\">\n",
       "    <rect x=\"0\" y=\"0\" width=\"2400\" height=\"1600\"/>\n",
       "  </clipPath>\n",
       "</defs>\n",
       "<path clip-path=\"url(#clip930)\" d=\"M0 1600 L2400 1600 L2400 0 L0 0  Z\" fill=\"#ffffff\" fill-rule=\"evenodd\" fill-opacity=\"1\"/>\n",
       "<defs>\n",
       "  <clipPath id=\"clip931\">\n",
       "    <rect x=\"480\" y=\"0\" width=\"1681\" height=\"1600\"/>\n",
       "  </clipPath>\n",
       "</defs>\n",
       "<path clip-path=\"url(#clip930)\" d=\"M214.353 1423.18 L2352.76 1423.18 L2352.76 47.2441 L214.353 47.2441  Z\" fill=\"#ffffff\" fill-rule=\"evenodd\" fill-opacity=\"1\"/>\n",
       "<defs>\n",
       "  <clipPath id=\"clip932\">\n",
       "    <rect x=\"214\" y=\"47\" width=\"2139\" height=\"1377\"/>\n",
       "  </clipPath>\n",
       "</defs>\n",
       "<polyline clip-path=\"url(#clip932)\" style=\"stroke:#000000; stroke-linecap:round; stroke-linejoin:round; stroke-width:2; stroke-opacity:0.1; fill:none\" points=\"274.873,1423.18 274.873,47.2441 \"/>\n",
       "<polyline clip-path=\"url(#clip932)\" style=\"stroke:#000000; stroke-linecap:round; stroke-linejoin:round; stroke-width:2; stroke-opacity:0.1; fill:none\" points=\"779.214,1423.18 779.214,47.2441 \"/>\n",
       "<polyline clip-path=\"url(#clip932)\" style=\"stroke:#000000; stroke-linecap:round; stroke-linejoin:round; stroke-width:2; stroke-opacity:0.1; fill:none\" points=\"1283.55,1423.18 1283.55,47.2441 \"/>\n",
       "<polyline clip-path=\"url(#clip932)\" style=\"stroke:#000000; stroke-linecap:round; stroke-linejoin:round; stroke-width:2; stroke-opacity:0.1; fill:none\" points=\"1787.89,1423.18 1787.89,47.2441 \"/>\n",
       "<polyline clip-path=\"url(#clip932)\" style=\"stroke:#000000; stroke-linecap:round; stroke-linejoin:round; stroke-width:2; stroke-opacity:0.1; fill:none\" points=\"2292.24,1423.18 2292.24,47.2441 \"/>\n",
       "<polyline clip-path=\"url(#clip930)\" style=\"stroke:#000000; stroke-linecap:round; stroke-linejoin:round; stroke-width:4; stroke-opacity:1; fill:none\" points=\"214.353,1423.18 2352.76,1423.18 \"/>\n",
       "<polyline clip-path=\"url(#clip930)\" style=\"stroke:#000000; stroke-linecap:round; stroke-linejoin:round; stroke-width:4; stroke-opacity:1; fill:none\" points=\"274.873,1423.18 274.873,1404.28 \"/>\n",
       "<polyline clip-path=\"url(#clip930)\" style=\"stroke:#000000; stroke-linecap:round; stroke-linejoin:round; stroke-width:4; stroke-opacity:1; fill:none\" points=\"779.214,1423.18 779.214,1404.28 \"/>\n",
       "<polyline clip-path=\"url(#clip930)\" style=\"stroke:#000000; stroke-linecap:round; stroke-linejoin:round; stroke-width:4; stroke-opacity:1; fill:none\" points=\"1283.55,1423.18 1283.55,1404.28 \"/>\n",
       "<polyline clip-path=\"url(#clip930)\" style=\"stroke:#000000; stroke-linecap:round; stroke-linejoin:round; stroke-width:4; stroke-opacity:1; fill:none\" points=\"1787.89,1423.18 1787.89,1404.28 \"/>\n",
       "<polyline clip-path=\"url(#clip930)\" style=\"stroke:#000000; stroke-linecap:round; stroke-linejoin:round; stroke-width:4; stroke-opacity:1; fill:none\" points=\"2292.24,1423.18 2292.24,1404.28 \"/>\n",
       "<path clip-path=\"url(#clip930)\" d=\"M252.258 1454.1 Q248.647 1454.1 246.818 1457.66 Q245.012 1461.2 245.012 1468.33 Q245.012 1475.44 246.818 1479.01 Q248.647 1482.55 252.258 1482.55 Q255.892 1482.55 257.698 1479.01 Q259.526 1475.44 259.526 1468.33 Q259.526 1461.2 257.698 1457.66 Q255.892 1454.1 252.258 1454.1 M252.258 1450.39 Q258.068 1450.39 261.123 1455 Q264.202 1459.58 264.202 1468.33 Q264.202 1477.06 261.123 1481.67 Q258.068 1486.25 252.258 1486.25 Q246.448 1486.25 243.369 1481.67 Q240.313 1477.06 240.313 1468.33 Q240.313 1459.58 243.369 1455 Q246.448 1450.39 252.258 1450.39 Z\" fill=\"#000000\" fill-rule=\"nonzero\" fill-opacity=\"1\" /><path clip-path=\"url(#clip930)\" d=\"M272.42 1479.7 L277.304 1479.7 L277.304 1485.58 L272.42 1485.58 L272.42 1479.7 Z\" fill=\"#000000\" fill-rule=\"nonzero\" fill-opacity=\"1\" /><path clip-path=\"url(#clip930)\" d=\"M297.489 1454.1 Q293.878 1454.1 292.049 1457.66 Q290.244 1461.2 290.244 1468.33 Q290.244 1475.44 292.049 1479.01 Q293.878 1482.55 297.489 1482.55 Q301.123 1482.55 302.929 1479.01 Q304.758 1475.44 304.758 1468.33 Q304.758 1461.2 302.929 1457.66 Q301.123 1454.1 297.489 1454.1 M297.489 1450.39 Q303.299 1450.39 306.355 1455 Q309.433 1459.58 309.433 1468.33 Q309.433 1477.06 306.355 1481.67 Q303.299 1486.25 297.489 1486.25 Q291.679 1486.25 288.6 1481.67 Q285.545 1477.06 285.545 1468.33 Q285.545 1459.58 288.6 1455 Q291.679 1450.39 297.489 1450.39 Z\" fill=\"#000000\" fill-rule=\"nonzero\" fill-opacity=\"1\" /><path clip-path=\"url(#clip930)\" d=\"M750.95 1481.64 L767.269 1481.64 L767.269 1485.58 L745.325 1485.58 L745.325 1481.64 Q747.987 1478.89 752.57 1474.26 Q757.177 1469.61 758.357 1468.27 Q760.603 1465.74 761.482 1464.01 Q762.385 1462.25 762.385 1460.56 Q762.385 1457.8 760.441 1456.07 Q758.519 1454.33 755.418 1454.33 Q753.219 1454.33 750.765 1455.09 Q748.334 1455.86 745.557 1457.41 L745.557 1452.69 Q748.381 1451.55 750.834 1450.97 Q753.288 1450.39 755.325 1450.39 Q760.695 1450.39 763.89 1453.08 Q767.084 1455.77 767.084 1460.26 Q767.084 1462.39 766.274 1464.31 Q765.487 1466.2 763.381 1468.8 Q762.802 1469.47 759.7 1472.69 Q756.598 1475.88 750.95 1481.64 Z\" fill=\"#000000\" fill-rule=\"nonzero\" fill-opacity=\"1\" /><path clip-path=\"url(#clip930)\" d=\"M777.084 1479.7 L781.968 1479.7 L781.968 1485.58 L777.084 1485.58 L777.084 1479.7 Z\" fill=\"#000000\" fill-rule=\"nonzero\" fill-opacity=\"1\" /><path clip-path=\"url(#clip930)\" d=\"M792.2 1451.02 L810.556 1451.02 L810.556 1454.96 L796.482 1454.96 L796.482 1463.43 Q797.501 1463.08 798.519 1462.92 Q799.538 1462.73 800.556 1462.73 Q806.343 1462.73 809.723 1465.9 Q813.103 1469.08 813.103 1474.49 Q813.103 1480.07 809.63 1483.17 Q806.158 1486.25 799.839 1486.25 Q797.663 1486.25 795.394 1485.88 Q793.149 1485.51 790.742 1484.77 L790.742 1480.07 Q792.825 1481.2 795.047 1481.76 Q797.269 1482.32 799.746 1482.32 Q803.751 1482.32 806.089 1480.21 Q808.427 1478.1 808.427 1474.49 Q808.427 1470.88 806.089 1468.77 Q803.751 1466.67 799.746 1466.67 Q797.871 1466.67 795.996 1467.08 Q794.144 1467.5 792.2 1468.38 L792.2 1451.02 Z\" fill=\"#000000\" fill-rule=\"nonzero\" fill-opacity=\"1\" /><path clip-path=\"url(#clip930)\" d=\"M1250.72 1451.02 L1269.08 1451.02 L1269.08 1454.96 L1255 1454.96 L1255 1463.43 Q1256.02 1463.08 1257.04 1462.92 Q1258.06 1462.73 1259.08 1462.73 Q1264.86 1462.73 1268.24 1465.9 Q1271.62 1469.08 1271.62 1474.49 Q1271.62 1480.07 1268.15 1483.17 Q1264.68 1486.25 1258.36 1486.25 Q1256.18 1486.25 1253.91 1485.88 Q1251.67 1485.51 1249.26 1484.77 L1249.26 1480.07 Q1251.34 1481.2 1253.57 1481.76 Q1255.79 1482.32 1258.27 1482.32 Q1262.27 1482.32 1264.61 1480.21 Q1266.95 1478.1 1266.95 1474.49 Q1266.95 1470.88 1264.61 1468.77 Q1262.27 1466.67 1258.27 1466.67 Q1256.39 1466.67 1254.52 1467.08 Q1252.66 1467.5 1250.72 1468.38 L1250.72 1451.02 Z\" fill=\"#000000\" fill-rule=\"nonzero\" fill-opacity=\"1\" /><path clip-path=\"url(#clip930)\" d=\"M1280.83 1479.7 L1285.72 1479.7 L1285.72 1485.58 L1280.83 1485.58 L1280.83 1479.7 Z\" fill=\"#000000\" fill-rule=\"nonzero\" fill-opacity=\"1\" /><path clip-path=\"url(#clip930)\" d=\"M1305.9 1454.1 Q1302.29 1454.1 1300.46 1457.66 Q1298.66 1461.2 1298.66 1468.33 Q1298.66 1475.44 1300.46 1479.01 Q1302.29 1482.55 1305.9 1482.55 Q1309.54 1482.55 1311.34 1479.01 Q1313.17 1475.44 1313.17 1468.33 Q1313.17 1461.2 1311.34 1457.66 Q1309.54 1454.1 1305.9 1454.1 M1305.9 1450.39 Q1311.71 1450.39 1314.77 1455 Q1317.85 1459.58 1317.85 1468.33 Q1317.85 1477.06 1314.77 1481.67 Q1311.71 1486.25 1305.9 1486.25 Q1300.09 1486.25 1297.01 1481.67 Q1293.96 1477.06 1293.96 1468.33 Q1293.96 1459.58 1297.01 1455 Q1300.09 1450.39 1305.9 1450.39 Z\" fill=\"#000000\" fill-rule=\"nonzero\" fill-opacity=\"1\" /><path clip-path=\"url(#clip930)\" d=\"M1754.21 1451.02 L1776.44 1451.02 L1776.44 1453.01 L1763.89 1485.58 L1759.01 1485.58 L1770.81 1454.96 L1754.21 1454.96 L1754.21 1451.02 Z\" fill=\"#000000\" fill-rule=\"nonzero\" fill-opacity=\"1\" /><path clip-path=\"url(#clip930)\" d=\"M1785.56 1479.7 L1790.44 1479.7 L1790.44 1485.58 L1785.56 1485.58 L1785.56 1479.7 Z\" fill=\"#000000\" fill-rule=\"nonzero\" fill-opacity=\"1\" /><path clip-path=\"url(#clip930)\" d=\"M1800.67 1451.02 L1819.03 1451.02 L1819.03 1454.96 L1804.95 1454.96 L1804.95 1463.43 Q1805.97 1463.08 1806.99 1462.92 Q1808.01 1462.73 1809.03 1462.73 Q1814.82 1462.73 1818.2 1465.9 Q1821.58 1469.08 1821.58 1474.49 Q1821.58 1480.07 1818.1 1483.17 Q1814.63 1486.25 1808.31 1486.25 Q1806.14 1486.25 1803.87 1485.88 Q1801.62 1485.51 1799.21 1484.77 L1799.21 1480.07 Q1801.3 1481.2 1803.52 1481.76 Q1805.74 1482.32 1808.22 1482.32 Q1812.22 1482.32 1814.56 1480.21 Q1816.9 1478.1 1816.9 1474.49 Q1816.9 1470.88 1814.56 1468.77 Q1812.22 1466.67 1808.22 1466.67 Q1806.34 1466.67 1804.47 1467.08 Q1802.62 1467.5 1800.67 1468.38 L1800.67 1451.02 Z\" fill=\"#000000\" fill-rule=\"nonzero\" fill-opacity=\"1\" /><path clip-path=\"url(#clip930)\" d=\"M2244.31 1481.64 L2251.95 1481.64 L2251.95 1455.28 L2243.64 1456.95 L2243.64 1452.69 L2251.9 1451.02 L2256.58 1451.02 L2256.58 1481.64 L2264.21 1481.64 L2264.21 1485.58 L2244.31 1485.58 L2244.31 1481.64 Z\" fill=\"#000000\" fill-rule=\"nonzero\" fill-opacity=\"1\" /><path clip-path=\"url(#clip930)\" d=\"M2283.66 1454.1 Q2280.05 1454.1 2278.22 1457.66 Q2276.41 1461.2 2276.41 1468.33 Q2276.41 1475.44 2278.22 1479.01 Q2280.05 1482.55 2283.66 1482.55 Q2287.29 1482.55 2289.1 1479.01 Q2290.93 1475.44 2290.93 1468.33 Q2290.93 1461.2 2289.1 1457.66 Q2287.29 1454.1 2283.66 1454.1 M2283.66 1450.39 Q2289.47 1450.39 2292.52 1455 Q2295.6 1459.58 2295.6 1468.33 Q2295.6 1477.06 2292.52 1481.67 Q2289.47 1486.25 2283.66 1486.25 Q2277.85 1486.25 2274.77 1481.67 Q2271.71 1477.06 2271.71 1468.33 Q2271.71 1459.58 2274.77 1455 Q2277.85 1450.39 2283.66 1450.39 Z\" fill=\"#000000\" fill-rule=\"nonzero\" fill-opacity=\"1\" /><path clip-path=\"url(#clip930)\" d=\"M2303.82 1479.7 L2308.7 1479.7 L2308.7 1485.58 L2303.82 1485.58 L2303.82 1479.7 Z\" fill=\"#000000\" fill-rule=\"nonzero\" fill-opacity=\"1\" /><path clip-path=\"url(#clip930)\" d=\"M2328.89 1454.1 Q2325.28 1454.1 2323.45 1457.66 Q2321.64 1461.2 2321.64 1468.33 Q2321.64 1475.44 2323.45 1479.01 Q2325.28 1482.55 2328.89 1482.55 Q2332.52 1482.55 2334.33 1479.01 Q2336.16 1475.44 2336.16 1468.33 Q2336.16 1461.2 2334.33 1457.66 Q2332.52 1454.1 2328.89 1454.1 M2328.89 1450.39 Q2334.7 1450.39 2337.76 1455 Q2340.83 1459.58 2340.83 1468.33 Q2340.83 1477.06 2337.76 1481.67 Q2334.7 1486.25 2328.89 1486.25 Q2323.08 1486.25 2320 1481.67 Q2316.95 1477.06 2316.95 1468.33 Q2316.95 1459.58 2320 1455 Q2323.08 1450.39 2328.89 1450.39 Z\" fill=\"#000000\" fill-rule=\"nonzero\" fill-opacity=\"1\" /><path clip-path=\"url(#clip930)\" d=\"M1222.71 1522.27 L1222.71 1532.4 L1234.78 1532.4 L1234.78 1536.95 L1222.71 1536.95 L1222.71 1556.3 Q1222.71 1560.66 1223.89 1561.9 Q1225.1 1563.14 1228.76 1563.14 L1234.78 1563.14 L1234.78 1568.04 L1228.76 1568.04 Q1221.98 1568.04 1219.4 1565.53 Q1216.83 1562.98 1216.83 1556.3 L1216.83 1536.95 L1212.53 1536.95 L1212.53 1532.4 L1216.83 1532.4 L1216.83 1522.27 L1222.71 1522.27 Z\" fill=\"#000000\" fill-rule=\"nonzero\" fill-opacity=\"1\" /><path clip-path=\"url(#clip930)\" d=\"M1242.48 1532.4 L1248.34 1532.4 L1248.34 1568.04 L1242.48 1568.04 L1242.48 1532.4 M1242.48 1518.52 L1248.34 1518.52 L1248.34 1525.93 L1242.48 1525.93 L1242.48 1518.52 Z\" fill=\"#000000\" fill-rule=\"nonzero\" fill-opacity=\"1\" /><path clip-path=\"url(#clip930)\" d=\"M1288.34 1539.24 Q1290.54 1535.29 1293.6 1533.41 Q1296.65 1531.54 1300.79 1531.54 Q1306.36 1531.54 1309.38 1535.45 Q1312.41 1539.33 1312.41 1546.53 L1312.41 1568.04 L1306.52 1568.04 L1306.52 1546.72 Q1306.52 1541.59 1304.7 1539.11 Q1302.89 1536.63 1299.17 1536.63 Q1294.61 1536.63 1291.97 1539.65 Q1289.33 1542.68 1289.33 1547.9 L1289.33 1568.04 L1283.44 1568.04 L1283.44 1546.72 Q1283.44 1541.56 1281.63 1539.11 Q1279.81 1536.63 1276.03 1536.63 Q1271.54 1536.63 1268.9 1539.68 Q1266.26 1542.71 1266.26 1547.9 L1266.26 1568.04 L1260.37 1568.04 L1260.37 1532.4 L1266.26 1532.4 L1266.26 1537.93 Q1268.26 1534.66 1271.06 1533.1 Q1273.86 1531.54 1277.71 1531.54 Q1281.6 1531.54 1284.3 1533.51 Q1287.04 1535.48 1288.34 1539.24 Z\" fill=\"#000000\" fill-rule=\"nonzero\" fill-opacity=\"1\" /><path clip-path=\"url(#clip930)\" d=\"M1354.58 1548.76 L1354.58 1551.62 L1327.65 1551.62 Q1328.03 1557.67 1331.28 1560.85 Q1334.56 1564 1340.38 1564 Q1343.76 1564 1346.91 1563.17 Q1350.09 1562.35 1353.21 1560.69 L1353.21 1566.23 Q1350.06 1567.57 1346.75 1568.27 Q1343.44 1568.97 1340.03 1568.97 Q1331.5 1568.97 1326.51 1564 Q1321.54 1559.04 1321.54 1550.57 Q1321.54 1541.82 1326.25 1536.69 Q1330.99 1531.54 1339.02 1531.54 Q1346.21 1531.54 1350.38 1536.18 Q1354.58 1540.8 1354.58 1548.76 M1348.72 1547.04 Q1348.66 1542.23 1346.02 1539.37 Q1343.41 1536.5 1339.08 1536.5 Q1334.18 1536.5 1331.22 1539.27 Q1328.29 1542.04 1327.84 1547.07 L1348.72 1547.04 Z\" fill=\"#000000\" fill-rule=\"nonzero\" fill-opacity=\"1\" /><polyline clip-path=\"url(#clip932)\" style=\"stroke:#000000; stroke-linecap:round; stroke-linejoin:round; stroke-width:2; stroke-opacity:0.1; fill:none\" points=\"214.353,1384.24 2352.76,1384.24 \"/>\n",
       "<polyline clip-path=\"url(#clip932)\" style=\"stroke:#000000; stroke-linecap:round; stroke-linejoin:round; stroke-width:2; stroke-opacity:0.1; fill:none\" points=\"214.353,1059.73 2352.76,1059.73 \"/>\n",
       "<polyline clip-path=\"url(#clip932)\" style=\"stroke:#000000; stroke-linecap:round; stroke-linejoin:round; stroke-width:2; stroke-opacity:0.1; fill:none\" points=\"214.353,735.212 2352.76,735.212 \"/>\n",
       "<polyline clip-path=\"url(#clip932)\" style=\"stroke:#000000; stroke-linecap:round; stroke-linejoin:round; stroke-width:2; stroke-opacity:0.1; fill:none\" points=\"214.353,410.699 2352.76,410.699 \"/>\n",
       "<polyline clip-path=\"url(#clip932)\" style=\"stroke:#000000; stroke-linecap:round; stroke-linejoin:round; stroke-width:2; stroke-opacity:0.1; fill:none\" points=\"214.353,86.1857 2352.76,86.1857 \"/>\n",
       "<polyline clip-path=\"url(#clip930)\" style=\"stroke:#000000; stroke-linecap:round; stroke-linejoin:round; stroke-width:4; stroke-opacity:1; fill:none\" points=\"214.353,1423.18 214.353,47.2441 \"/>\n",
       "<polyline clip-path=\"url(#clip930)\" style=\"stroke:#000000; stroke-linecap:round; stroke-linejoin:round; stroke-width:4; stroke-opacity:1; fill:none\" points=\"214.353,1384.24 233.25,1384.24 \"/>\n",
       "<polyline clip-path=\"url(#clip930)\" style=\"stroke:#000000; stroke-linecap:round; stroke-linejoin:round; stroke-width:4; stroke-opacity:1; fill:none\" points=\"214.353,1059.73 233.25,1059.73 \"/>\n",
       "<polyline clip-path=\"url(#clip930)\" style=\"stroke:#000000; stroke-linecap:round; stroke-linejoin:round; stroke-width:4; stroke-opacity:1; fill:none\" points=\"214.353,735.212 233.25,735.212 \"/>\n",
       "<polyline clip-path=\"url(#clip930)\" style=\"stroke:#000000; stroke-linecap:round; stroke-linejoin:round; stroke-width:4; stroke-opacity:1; fill:none\" points=\"214.353,410.699 233.25,410.699 \"/>\n",
       "<polyline clip-path=\"url(#clip930)\" style=\"stroke:#000000; stroke-linecap:round; stroke-linejoin:round; stroke-width:4; stroke-opacity:1; fill:none\" points=\"214.353,86.1857 233.25,86.1857 \"/>\n",
       "<path clip-path=\"url(#clip930)\" d=\"M51.6634 1397.58 L59.3023 1397.58 L59.3023 1371.22 L50.9921 1372.88 L50.9921 1368.62 L59.256 1366.96 L63.9319 1366.96 L63.9319 1397.58 L71.5707 1397.58 L71.5707 1401.52 L51.6634 1401.52 L51.6634 1397.58 Z\" fill=\"#000000\" fill-rule=\"nonzero\" fill-opacity=\"1\" /><path clip-path=\"url(#clip930)\" d=\"M91.0151 1370.04 Q87.404 1370.04 85.5753 1373.6 Q83.7697 1377.14 83.7697 1384.27 Q83.7697 1391.38 85.5753 1394.94 Q87.404 1398.49 91.0151 1398.49 Q94.6493 1398.49 96.4548 1394.94 Q98.2835 1391.38 98.2835 1384.27 Q98.2835 1377.14 96.4548 1373.6 Q94.6493 1370.04 91.0151 1370.04 M91.0151 1366.33 Q96.8252 1366.33 99.8808 1370.94 Q102.959 1375.52 102.959 1384.27 Q102.959 1393 99.8808 1397.61 Q96.8252 1402.19 91.0151 1402.19 Q85.2049 1402.19 82.1262 1397.61 Q79.0707 1393 79.0707 1384.27 Q79.0707 1375.52 82.1262 1370.94 Q85.2049 1366.33 91.0151 1366.33 Z\" fill=\"#000000\" fill-rule=\"nonzero\" fill-opacity=\"1\" /><path clip-path=\"url(#clip930)\" d=\"M111.177 1395.64 L116.061 1395.64 L116.061 1401.52 L111.177 1401.52 L111.177 1395.64 Z\" fill=\"#000000\" fill-rule=\"nonzero\" fill-opacity=\"1\" /><path clip-path=\"url(#clip930)\" d=\"M136.246 1370.04 Q132.635 1370.04 130.807 1373.6 Q129.001 1377.14 129.001 1384.27 Q129.001 1391.38 130.807 1394.94 Q132.635 1398.49 136.246 1398.49 Q139.881 1398.49 141.686 1394.94 Q143.515 1391.38 143.515 1384.27 Q143.515 1377.14 141.686 1373.6 Q139.881 1370.04 136.246 1370.04 M136.246 1366.33 Q142.056 1366.33 145.112 1370.94 Q148.191 1375.52 148.191 1384.27 Q148.191 1393 145.112 1397.61 Q142.056 1402.19 136.246 1402.19 Q130.436 1402.19 127.357 1397.61 Q124.302 1393 124.302 1384.27 Q124.302 1375.52 127.357 1370.94 Q130.436 1366.33 136.246 1366.33 Z\" fill=\"#000000\" fill-rule=\"nonzero\" fill-opacity=\"1\" /><path clip-path=\"url(#clip930)\" d=\"M166.408 1370.04 Q162.797 1370.04 160.968 1373.6 Q159.163 1377.14 159.163 1384.27 Q159.163 1391.38 160.968 1394.94 Q162.797 1398.49 166.408 1398.49 Q170.042 1398.49 171.848 1394.94 Q173.677 1391.38 173.677 1384.27 Q173.677 1377.14 171.848 1373.6 Q170.042 1370.04 166.408 1370.04 M166.408 1366.33 Q172.218 1366.33 175.274 1370.94 Q178.353 1375.52 178.353 1384.27 Q178.353 1393 175.274 1397.61 Q172.218 1402.19 166.408 1402.19 Q160.598 1402.19 157.519 1397.61 Q154.464 1393 154.464 1384.27 Q154.464 1375.52 157.519 1370.94 Q160.598 1366.33 166.408 1366.33 Z\" fill=\"#000000\" fill-rule=\"nonzero\" fill-opacity=\"1\" /><path clip-path=\"url(#clip930)\" d=\"M52.6588 1073.07 L60.2976 1073.07 L60.2976 1046.7 L51.9875 1048.37 L51.9875 1044.11 L60.2513 1042.45 L64.9272 1042.45 L64.9272 1073.07 L72.5661 1073.07 L72.5661 1077.01 L52.6588 1077.01 L52.6588 1073.07 Z\" fill=\"#000000\" fill-rule=\"nonzero\" fill-opacity=\"1\" /><path clip-path=\"url(#clip930)\" d=\"M92.0104 1045.52 Q88.3993 1045.52 86.5706 1049.09 Q84.7651 1052.63 84.7651 1059.76 Q84.7651 1066.87 86.5706 1070.43 Q88.3993 1073.97 92.0104 1073.97 Q95.6447 1073.97 97.4502 1070.43 Q99.2789 1066.87 99.2789 1059.76 Q99.2789 1052.63 97.4502 1049.09 Q95.6447 1045.52 92.0104 1045.52 M92.0104 1041.82 Q97.8206 1041.82 100.876 1046.43 Q103.955 1051.01 103.955 1059.76 Q103.955 1068.49 100.876 1073.09 Q97.8206 1077.68 92.0104 1077.68 Q86.2003 1077.68 83.1216 1073.09 Q80.066 1068.49 80.066 1059.76 Q80.066 1051.01 83.1216 1046.43 Q86.2003 1041.82 92.0104 1041.82 Z\" fill=\"#000000\" fill-rule=\"nonzero\" fill-opacity=\"1\" /><path clip-path=\"url(#clip930)\" d=\"M112.172 1071.13 L117.057 1071.13 L117.057 1077.01 L112.172 1077.01 L112.172 1071.13 Z\" fill=\"#000000\" fill-rule=\"nonzero\" fill-opacity=\"1\" /><path clip-path=\"url(#clip930)\" d=\"M131.269 1073.07 L147.589 1073.07 L147.589 1077.01 L125.645 1077.01 L125.645 1073.07 Q128.307 1070.32 132.89 1065.69 Q137.496 1061.03 138.677 1059.69 Q140.922 1057.17 141.802 1055.43 Q142.705 1053.67 142.705 1051.98 Q142.705 1049.23 140.76 1047.49 Q138.839 1045.76 135.737 1045.76 Q133.538 1045.76 131.084 1046.52 Q128.654 1047.28 125.876 1048.83 L125.876 1044.11 Q128.7 1042.98 131.154 1042.4 Q133.607 1041.82 135.644 1041.82 Q141.015 1041.82 144.209 1044.51 Q147.404 1047.19 147.404 1051.68 Q147.404 1053.81 146.593 1055.73 Q145.806 1057.63 143.7 1060.22 Q143.121 1060.89 140.019 1064.11 Q136.918 1067.31 131.269 1073.07 Z\" fill=\"#000000\" fill-rule=\"nonzero\" fill-opacity=\"1\" /><path clip-path=\"url(#clip930)\" d=\"M157.45 1042.45 L175.806 1042.45 L175.806 1046.38 L161.732 1046.38 L161.732 1054.85 Q162.751 1054.51 163.769 1054.34 Q164.788 1054.16 165.806 1054.16 Q171.593 1054.16 174.973 1057.33 Q178.353 1060.5 178.353 1065.92 Q178.353 1071.5 174.88 1074.6 Q171.408 1077.68 165.089 1077.68 Q162.913 1077.68 160.644 1077.31 Q158.399 1076.94 155.992 1076.19 L155.992 1071.5 Q158.075 1072.63 160.297 1073.19 Q162.519 1073.74 164.996 1073.74 Q169.001 1073.74 171.339 1071.63 Q173.677 1069.53 173.677 1065.92 Q173.677 1062.31 171.339 1060.2 Q169.001 1058.09 164.996 1058.09 Q163.121 1058.09 161.246 1058.51 Q159.394 1058.93 157.45 1059.81 L157.45 1042.45 Z\" fill=\"#000000\" fill-rule=\"nonzero\" fill-opacity=\"1\" /><path clip-path=\"url(#clip930)\" d=\"M51.6634 748.557 L59.3023 748.557 L59.3023 722.191 L50.9921 723.858 L50.9921 719.599 L59.256 717.932 L63.9319 717.932 L63.9319 748.557 L71.5707 748.557 L71.5707 752.492 L51.6634 752.492 L51.6634 748.557 Z\" fill=\"#000000\" fill-rule=\"nonzero\" fill-opacity=\"1\" /><path clip-path=\"url(#clip930)\" d=\"M91.0151 721.011 Q87.404 721.011 85.5753 724.575 Q83.7697 728.117 83.7697 735.247 Q83.7697 742.353 85.5753 745.918 Q87.404 749.46 91.0151 749.46 Q94.6493 749.46 96.4548 745.918 Q98.2835 742.353 98.2835 735.247 Q98.2835 728.117 96.4548 724.575 Q94.6493 721.011 91.0151 721.011 M91.0151 717.307 Q96.8252 717.307 99.8808 721.913 Q102.959 726.497 102.959 735.247 Q102.959 743.973 99.8808 748.58 Q96.8252 753.163 91.0151 753.163 Q85.2049 753.163 82.1262 748.58 Q79.0707 743.973 79.0707 735.247 Q79.0707 726.497 82.1262 721.913 Q85.2049 717.307 91.0151 717.307 Z\" fill=\"#000000\" fill-rule=\"nonzero\" fill-opacity=\"1\" /><path clip-path=\"url(#clip930)\" d=\"M111.177 746.612 L116.061 746.612 L116.061 752.492 L111.177 752.492 L111.177 746.612 Z\" fill=\"#000000\" fill-rule=\"nonzero\" fill-opacity=\"1\" /><path clip-path=\"url(#clip930)\" d=\"M126.293 717.932 L144.649 717.932 L144.649 721.867 L130.575 721.867 L130.575 730.339 Q131.594 729.992 132.612 729.83 Q133.631 729.645 134.649 729.645 Q140.436 729.645 143.816 732.816 Q147.195 735.987 147.195 741.404 Q147.195 746.983 143.723 750.085 Q140.251 753.163 133.931 753.163 Q131.756 753.163 129.487 752.793 Q127.242 752.423 124.834 751.682 L124.834 746.983 Q126.918 748.117 129.14 748.673 Q131.362 749.228 133.839 749.228 Q137.844 749.228 140.181 747.122 Q142.519 745.015 142.519 741.404 Q142.519 737.793 140.181 735.687 Q137.844 733.58 133.839 733.58 Q131.964 733.58 130.089 733.997 Q128.237 734.413 126.293 735.293 L126.293 717.932 Z\" fill=\"#000000\" fill-rule=\"nonzero\" fill-opacity=\"1\" /><path clip-path=\"url(#clip930)\" d=\"M166.408 721.011 Q162.797 721.011 160.968 724.575 Q159.163 728.117 159.163 735.247 Q159.163 742.353 160.968 745.918 Q162.797 749.46 166.408 749.46 Q170.042 749.46 171.848 745.918 Q173.677 742.353 173.677 735.247 Q173.677 728.117 171.848 724.575 Q170.042 721.011 166.408 721.011 M166.408 717.307 Q172.218 717.307 175.274 721.913 Q178.353 726.497 178.353 735.247 Q178.353 743.973 175.274 748.58 Q172.218 753.163 166.408 753.163 Q160.598 753.163 157.519 748.58 Q154.464 743.973 154.464 735.247 Q154.464 726.497 157.519 721.913 Q160.598 717.307 166.408 717.307 Z\" fill=\"#000000\" fill-rule=\"nonzero\" fill-opacity=\"1\" /><path clip-path=\"url(#clip930)\" d=\"M52.6588 424.044 L60.2976 424.044 L60.2976 397.678 L51.9875 399.345 L51.9875 395.085 L60.2513 393.419 L64.9272 393.419 L64.9272 424.044 L72.5661 424.044 L72.5661 427.979 L52.6588 427.979 L52.6588 424.044 Z\" fill=\"#000000\" fill-rule=\"nonzero\" fill-opacity=\"1\" /><path clip-path=\"url(#clip930)\" d=\"M92.0104 396.498 Q88.3993 396.498 86.5706 400.062 Q84.7651 403.604 84.7651 410.734 Q84.7651 417.84 86.5706 421.405 Q88.3993 424.946 92.0104 424.946 Q95.6447 424.946 97.4502 421.405 Q99.2789 417.84 99.2789 410.734 Q99.2789 403.604 97.4502 400.062 Q95.6447 396.498 92.0104 396.498 M92.0104 392.794 Q97.8206 392.794 100.876 397.4 Q103.955 401.984 103.955 410.734 Q103.955 419.46 100.876 424.067 Q97.8206 428.65 92.0104 428.65 Q86.2003 428.65 83.1216 424.067 Q80.066 419.46 80.066 410.734 Q80.066 401.984 83.1216 397.4 Q86.2003 392.794 92.0104 392.794 Z\" fill=\"#000000\" fill-rule=\"nonzero\" fill-opacity=\"1\" /><path clip-path=\"url(#clip930)\" d=\"M112.172 422.099 L117.057 422.099 L117.057 427.979 L112.172 427.979 L112.172 422.099 Z\" fill=\"#000000\" fill-rule=\"nonzero\" fill-opacity=\"1\" /><path clip-path=\"url(#clip930)\" d=\"M126.061 393.419 L148.283 393.419 L148.283 395.41 L135.737 427.979 L130.853 427.979 L142.658 397.354 L126.061 397.354 L126.061 393.419 Z\" fill=\"#000000\" fill-rule=\"nonzero\" fill-opacity=\"1\" /><path clip-path=\"url(#clip930)\" d=\"M157.45 393.419 L175.806 393.419 L175.806 397.354 L161.732 397.354 L161.732 405.826 Q162.751 405.479 163.769 405.317 Q164.788 405.132 165.806 405.132 Q171.593 405.132 174.973 408.303 Q178.353 411.474 178.353 416.891 Q178.353 422.47 174.88 425.571 Q171.408 428.65 165.089 428.65 Q162.913 428.65 160.644 428.28 Q158.399 427.909 155.992 427.169 L155.992 422.47 Q158.075 423.604 160.297 424.159 Q162.519 424.715 164.996 424.715 Q169.001 424.715 171.339 422.608 Q173.677 420.502 173.677 416.891 Q173.677 413.28 171.339 411.173 Q169.001 409.067 164.996 409.067 Q163.121 409.067 161.246 409.484 Q159.394 409.9 157.45 410.78 L157.45 393.419 Z\" fill=\"#000000\" fill-rule=\"nonzero\" fill-opacity=\"1\" /><path clip-path=\"url(#clip930)\" d=\"M51.6634 99.5305 L59.3023 99.5305 L59.3023 73.1649 L50.9921 74.8316 L50.9921 70.5723 L59.256 68.9057 L63.9319 68.9057 L63.9319 99.5305 L71.5707 99.5305 L71.5707 103.466 L51.6634 103.466 L51.6634 99.5305 Z\" fill=\"#000000\" fill-rule=\"nonzero\" fill-opacity=\"1\" /><path clip-path=\"url(#clip930)\" d=\"M81.8253 99.5305 L89.4641 99.5305 L89.4641 73.1649 L81.154 74.8316 L81.154 70.5723 L89.4178 68.9057 L94.0937 68.9057 L94.0937 99.5305 L101.733 99.5305 L101.733 103.466 L81.8253 103.466 L81.8253 99.5305 Z\" fill=\"#000000\" fill-rule=\"nonzero\" fill-opacity=\"1\" /><path clip-path=\"url(#clip930)\" d=\"M111.177 97.5861 L116.061 97.5861 L116.061 103.466 L111.177 103.466 L111.177 97.5861 Z\" fill=\"#000000\" fill-rule=\"nonzero\" fill-opacity=\"1\" /><path clip-path=\"url(#clip930)\" d=\"M136.246 71.9844 Q132.635 71.9844 130.807 75.5492 Q129.001 79.0908 129.001 86.2204 Q129.001 93.3268 130.807 96.8916 Q132.635 100.433 136.246 100.433 Q139.881 100.433 141.686 96.8916 Q143.515 93.3268 143.515 86.2204 Q143.515 79.0908 141.686 75.5492 Q139.881 71.9844 136.246 71.9844 M136.246 68.2807 Q142.056 68.2807 145.112 72.8871 Q148.191 77.4704 148.191 86.2204 Q148.191 94.9472 145.112 99.5537 Q142.056 104.137 136.246 104.137 Q130.436 104.137 127.357 99.5537 Q124.302 94.9472 124.302 86.2204 Q124.302 77.4704 127.357 72.8871 Q130.436 68.2807 136.246 68.2807 Z\" fill=\"#000000\" fill-rule=\"nonzero\" fill-opacity=\"1\" /><path clip-path=\"url(#clip930)\" d=\"M166.408 71.9844 Q162.797 71.9844 160.968 75.5492 Q159.163 79.0908 159.163 86.2204 Q159.163 93.3268 160.968 96.8916 Q162.797 100.433 166.408 100.433 Q170.042 100.433 171.848 96.8916 Q173.677 93.3268 173.677 86.2204 Q173.677 79.0908 171.848 75.5492 Q170.042 71.9844 166.408 71.9844 M166.408 68.2807 Q172.218 68.2807 175.274 72.8871 Q178.353 77.4704 178.353 86.2204 Q178.353 94.9472 175.274 99.5537 Q172.218 104.137 166.408 104.137 Q160.598 104.137 157.519 99.5537 Q154.464 94.9472 154.464 86.2204 Q154.464 77.4704 157.519 72.8871 Q160.598 68.2807 166.408 68.2807 Z\" fill=\"#000000\" fill-rule=\"nonzero\" fill-opacity=\"1\" /><polyline clip-path=\"url(#clip932)\" style=\"stroke:#009af9; stroke-linecap:round; stroke-linejoin:round; stroke-width:4; stroke-opacity:1; fill:none\" points=\"274.873,1384.24 284.96,1384.24 295.047,1384.24 305.134,1384.24 315.221,1384.24 325.307,1384.24 335.394,1384.24 345.481,1384.24 355.568,1384.24 365.655,1384.24 375.741,1384.24 385.828,1384.24 395.915,1384.24 406.002,1384.24 416.089,1384.24 426.176,1384.24 436.262,1384.24 446.349,1384.24 456.436,1384.24 466.523,1384.24 476.61,1384.24 486.696,1384.24 496.783,1384.24 506.87,1384.24 516.957,1384.24 527.044,1384.24 537.13,1384.24 547.217,1384.24 557.304,1384.24 567.391,1384.24 577.478,1384.24 587.564,1384.24 597.651,1384.24 607.738,1384.24 617.825,1384.24 627.912,1384.24 637.999,1384.24 648.085,1384.24 658.172,1384.24 668.259,1384.24 678.346,1384.24 688.433,1384.24 698.519,1384.24 708.606,1384.24 718.693,1384.24 728.78,1384.24 738.867,1384.24 748.953,1384.24 759.04,1384.24 769.127,1384.24 779.214,1384.24 789.301,1384.24 799.387,1384.24 809.474,1384.24 819.561,1384.24 829.648,1384.24 839.735,1384.24 849.821,1384.24 859.908,1384.24 869.995,1384.24 880.082,1384.24 890.169,1384.24 900.256,1384.24 910.342,1384.24 920.429,1384.24 930.516,1384.24 940.603,1384.24 950.69,1384.24 960.776,1384.24 970.863,1384.24 980.95,1384.24 991.037,1384.24 1001.12,1384.24 1011.21,1384.24 1021.3,1384.24 1031.38,1384.24 1041.47,1384.24 1051.56,1384.24 1061.64,1384.24 1071.73,1384.24 1081.82,1384.24 1091.9,1384.24 1101.99,1384.24 1112.08,1384.24 1122.17,1384.24 1132.25,1384.24 1142.34,1384.24 1152.43,1384.24 1162.51,1384.24 1172.6,1384.24 1182.69,1384.24 1192.77,1384.24 1202.86,1384.24 1212.95,1384.24 1223.03,1384.24 1233.12,1384.24 1243.21,1384.24 1253.29,1384.24 1263.38,1384.24 1273.47,1384.24 1283.55,1384.24 1293.64,1384.24 1303.73,1384.24 1313.81,1384.24 1323.9,1384.24 1333.99,1384.24 1344.08,1384.24 1354.16,1384.24 1364.25,1384.24 1374.34,1384.24 1384.42,1384.24 1394.51,1384.24 1404.6,1384.24 1414.68,1384.24 1424.77,1384.24 1434.86,1384.24 1444.94,1384.24 1455.03,1384.24 1465.12,1384.24 1475.2,1384.24 1485.29,1384.24 1495.38,1384.24 1505.46,1384.24 1515.55,1384.24 1525.64,1384.24 1535.72,1384.24 1545.81,1384.24 1555.9,1384.24 1565.98,1384.24 1576.07,1384.24 1586.16,1384.24 1596.25,1384.24 1606.33,1384.24 1616.42,1384.24 1626.51,1384.24 1636.59,1384.24 1646.68,1384.24 1656.77,1384.24 1666.85,1384.24 1676.94,1384.24 1687.03,1384.24 1697.11,1384.24 1707.2,1384.24 1717.29,1384.24 1727.37,1384.24 1737.46,1384.24 1747.55,1384.24 1757.63,1384.24 1767.72,1384.24 1777.81,1384.24 1787.89,1384.24 1797.98,1384.24 1808.07,1384.24 1818.16,1384.24 1828.24,1384.24 1838.33,1384.24 1848.42,1384.24 1858.5,1384.24 1868.59,1384.24 1878.68,1384.24 1888.76,1384.24 1898.85,1384.24 1908.94,1384.24 1919.02,1384.24 1929.11,1384.24 1939.2,1384.24 1949.28,1384.24 1959.37,1384.24 1969.46,1384.24 1979.54,1384.24 1989.63,1384.24 1999.72,1384.24 2009.8,1384.24 2019.89,1384.24 2029.98,1384.24 2040.06,1384.24 2050.15,1384.24 2060.24,1384.24 2070.33,1384.24 2080.41,1384.24 2090.5,1384.24 2100.59,1384.24 2110.67,1384.24 2120.76,1384.24 2130.85,1384.24 2140.93,1384.24 2151.02,1384.24 2161.11,1384.24 2171.19,1384.24 2181.28,1384.24 2191.37,1384.24 2201.45,1384.24 2211.54,1384.24 2221.63,1384.24 2231.71,1384.24 2241.8,1384.24 2251.89,1384.24 2261.97,1384.24 2272.06,1384.24 2282.15,1384.24 2292.24,1384.24 \"/>\n",
       "<polyline clip-path=\"url(#clip932)\" style=\"stroke:#e26f46; stroke-linecap:round; stroke-linejoin:round; stroke-width:4; stroke-opacity:1; fill:none\" points=\"274.873,1384.24 284.96,1384.24 295.047,1384.24 305.134,1384.24 315.221,1384.24 325.307,1384.24 335.394,1384.24 345.481,1384.24 355.568,1384.24 365.655,1384.24 375.741,1384.24 385.828,1384.24 395.915,1384.24 406.002,1384.24 416.089,1384.24 426.176,1384.24 436.262,1384.24 446.349,1384.24 456.436,1384.24 466.523,1384.24 476.61,1384.24 486.696,1384.24 496.783,1384.24 506.87,1384.24 516.957,1384.24 527.044,1384.24 537.13,1384.24 547.217,1384.24 557.304,1384.24 567.391,1384.24 577.478,1384.24 587.564,1384.24 597.651,1384.24 607.738,1384.24 617.825,1384.24 627.912,1384.24 637.999,1384.24 648.085,1384.24 658.172,1384.24 668.259,1384.24 678.346,1384.24 688.433,1384.24 698.519,1384.24 708.606,1384.24 718.693,1384.24 728.78,1384.24 738.867,1384.24 748.953,1384.24 759.04,1384.24 769.127,1384.24 779.214,1384.24 789.301,1384.24 799.387,1384.24 809.474,1384.24 819.561,1384.24 829.648,1384.24 839.735,1384.24 849.821,1384.24 859.908,1384.24 869.995,1384.24 880.082,1384.24 890.169,1384.24 900.256,1384.24 910.342,1384.24 920.429,1384.24 930.516,1384.24 940.603,1384.24 950.69,1384.24 960.776,1384.24 970.863,1384.24 980.95,1384.24 991.037,1384.24 1001.12,1384.24 1011.21,1384.24 1021.3,1384.24 1031.38,1384.24 1041.47,1384.24 1051.56,1384.24 1061.64,1384.24 1071.73,1384.24 1081.82,1384.24 1091.9,1384.24 1101.99,1384.24 1112.08,1384.24 1122.17,1384.24 1132.25,1384.24 1142.34,1384.24 1152.43,1384.24 1162.51,1384.24 1172.6,1384.24 1182.69,1384.24 1192.77,1384.24 1202.86,1384.24 1212.95,1384.24 1223.03,1384.24 1233.12,1384.24 1243.21,1384.24 1253.29,1384.24 1263.38,1384.24 1273.47,1384.24 1283.55,1384.24 1293.64,1384.24 1303.73,1384.24 1313.81,1384.24 1323.9,1384.24 1333.99,1384.24 1344.08,1384.24 1354.16,1384.24 1364.25,1384.24 1374.34,1384.24 1384.42,1384.24 1394.51,1384.24 1404.6,1384.24 1414.68,1384.24 1424.77,1384.24 1434.86,1384.24 1444.94,1384.24 1455.03,1384.24 1465.12,1384.24 1475.2,1384.24 1485.29,1384.24 1495.38,1384.24 1505.46,1384.24 1515.55,1384.24 1525.64,1384.24 1535.72,1384.24 1545.81,1384.24 1555.9,1384.24 1565.98,1384.24 1576.07,1384.24 1586.16,1384.24 1596.25,1384.24 1606.33,1384.24 1616.42,1384.24 1626.51,1384.24 1636.59,1384.24 1646.68,1384.24 1656.77,1384.24 1666.85,1384.24 1676.94,1384.24 1687.03,1384.24 1697.11,1384.24 1707.2,1384.24 1717.29,1384.24 1727.37,1384.24 1737.46,1384.24 1747.55,1384.24 1757.63,1384.24 1767.72,1384.24 1777.81,1384.24 1787.89,1384.24 1797.98,1384.24 1808.07,1384.24 1818.16,1384.24 1828.24,1384.24 1838.33,1384.24 1848.42,1384.24 1858.5,1384.24 1868.59,1384.24 1878.68,1384.24 1888.76,1384.24 1898.85,1384.24 1908.94,1384.24 1919.02,1384.24 1929.11,1384.24 1939.2,1384.24 1949.28,1384.24 1959.37,1384.24 1969.46,1384.24 1979.54,1384.24 1989.63,1384.24 1999.72,1384.24 2009.8,1384.24 2019.89,1384.24 2029.98,1384.24 2040.06,1384.24 2050.15,1384.24 2060.24,1384.24 2070.33,1384.24 2080.41,1384.24 2090.5,1384.24 2100.59,1384.24 2110.67,1384.24 2120.76,1384.24 2130.85,1384.24 2140.93,1384.24 2151.02,1384.24 2161.11,1384.24 2171.19,1384.24 2181.28,1384.24 2191.37,1384.24 2201.45,1384.24 2211.54,1384.24 2221.63,1384.24 2231.71,1384.24 2241.8,1384.24 2251.89,1384.24 2261.97,1384.24 2272.06,1384.24 2282.15,1384.24 2292.24,1384.24 \"/>\n",
       "<path clip-path=\"url(#clip930)\" d=\"M1925.85 248.629 L2281.48 248.629 L2281.48 93.1086 L1925.85 93.1086  Z\" fill=\"#ffffff\" fill-rule=\"evenodd\" fill-opacity=\"1\"/>\n",
       "<polyline clip-path=\"url(#clip930)\" style=\"stroke:#000000; stroke-linecap:round; stroke-linejoin:round; stroke-width:4; stroke-opacity:1; fill:none\" points=\"1925.85,248.629 2281.48,248.629 2281.48,93.1086 1925.85,93.1086 1925.85,248.629 \"/>\n",
       "<polyline clip-path=\"url(#clip930)\" style=\"stroke:#009af9; stroke-linecap:round; stroke-linejoin:round; stroke-width:4; stroke-opacity:1; fill:none\" points=\"1949.61,144.949 2092.17,144.949 \"/>\n",
       "<path clip-path=\"url(#clip930)\" d=\"M2140.59 136.303 L2131.21 148.919 L2141.07 162.229 L2136.05 162.229 L2128.5 152.043 L2120.96 162.229 L2115.93 162.229 L2126 148.664 L2116.79 136.303 L2121.81 136.303 L2128.69 145.539 L2135.56 136.303 L2140.59 136.303 Z\" fill=\"#000000\" fill-rule=\"nonzero\" fill-opacity=\"1\" /><path clip-path=\"url(#clip930)\" d=\"M2162.35 127.669 L2167.02 127.669 L2167.02 158.293 L2183.85 158.293 L2183.85 162.229 L2162.35 162.229 L2162.35 127.669 Z\" fill=\"#000000\" fill-rule=\"nonzero\" fill-opacity=\"1\" /><path clip-path=\"url(#clip930)\" d=\"M2202.79 130.84 Q2197.69 130.84 2194.68 134.636 Q2191.7 138.432 2191.7 144.983 Q2191.7 151.511 2194.68 155.307 Q2197.69 159.104 2202.79 159.104 Q2207.88 159.104 2210.84 155.307 Q2213.83 151.511 2213.83 144.983 Q2213.83 138.432 2210.84 134.636 Q2207.88 130.84 2202.79 130.84 M2209.34 161.604 L2215.49 168.34 L2209.85 168.34 L2204.73 162.807 Q2203.97 162.854 2203.55 162.877 Q2203.16 162.9 2202.79 162.9 Q2195.49 162.9 2191.12 158.039 Q2186.77 153.155 2186.77 144.983 Q2186.77 136.789 2191.12 131.928 Q2195.49 127.044 2202.79 127.044 Q2210.05 127.044 2214.41 131.928 Q2218.76 136.789 2218.76 144.983 Q2218.76 151.002 2216.33 155.284 Q2213.92 159.567 2209.34 161.604 Z\" fill=\"#000000\" fill-rule=\"nonzero\" fill-opacity=\"1\" /><path clip-path=\"url(#clip930)\" d=\"M2242.46 146.025 Q2243.97 146.534 2245.38 148.201 Q2246.81 149.868 2248.25 152.784 L2252.99 162.229 L2247.97 162.229 L2243.55 153.363 Q2241.84 149.891 2240.22 148.756 Q2238.62 147.622 2235.84 147.622 L2230.75 147.622 L2230.75 162.229 L2226.07 162.229 L2226.07 127.669 L2236.63 127.669 Q2242.55 127.669 2245.47 130.145 Q2248.39 132.622 2248.39 137.622 Q2248.39 140.886 2246.86 143.039 Q2245.35 145.192 2242.46 146.025 M2230.75 131.511 L2230.75 143.78 L2236.63 143.78 Q2240.01 143.78 2241.72 142.229 Q2243.46 140.655 2243.46 137.622 Q2243.46 134.59 2241.72 133.062 Q2240.01 131.511 2236.63 131.511 L2230.75 131.511 Z\" fill=\"#000000\" fill-rule=\"nonzero\" fill-opacity=\"1\" /><polyline clip-path=\"url(#clip930)\" style=\"stroke:#e26f46; stroke-linecap:round; stroke-linejoin:round; stroke-width:4; stroke-opacity:1; fill:none\" points=\"1949.61,196.789 2092.17,196.789 \"/>\n",
       "<path clip-path=\"url(#clip930)\" d=\"M2140.59 188.143 L2131.21 200.759 L2141.07 214.069 L2136.05 214.069 L2128.5 203.883 L2120.96 214.069 L2115.93 214.069 L2126 200.504 L2116.79 188.143 L2121.81 188.143 L2128.69 197.379 L2135.56 188.143 L2140.59 188.143 Z\" fill=\"#000000\" fill-rule=\"nonzero\" fill-opacity=\"1\" /><path clip-path=\"url(#clip930)\" d=\"M2162.35 179.509 L2169.31 179.509 L2178.13 203.027 L2187 179.509 L2193.97 179.509 L2193.97 214.069 L2189.41 214.069 L2189.41 183.722 L2180.49 207.425 L2175.79 207.425 L2166.88 183.722 L2166.88 214.069 L2162.35 214.069 L2162.35 179.509 Z\" fill=\"#000000\" fill-rule=\"nonzero\" fill-opacity=\"1\" /><path clip-path=\"url(#clip930)\" d=\"M2207.92 183.351 L2207.92 196.337 L2213.8 196.337 Q2217.07 196.337 2218.85 194.647 Q2220.63 192.958 2220.63 189.833 Q2220.63 186.731 2218.85 185.041 Q2217.07 183.351 2213.8 183.351 L2207.92 183.351 M2203.25 179.509 L2213.8 179.509 Q2219.61 179.509 2222.58 182.147 Q2225.56 184.763 2225.56 189.833 Q2225.56 194.948 2222.58 197.564 Q2219.61 200.18 2213.8 200.18 L2207.92 200.18 L2207.92 214.069 L2203.25 214.069 L2203.25 179.509 Z\" fill=\"#000000\" fill-rule=\"nonzero\" fill-opacity=\"1\" /><path clip-path=\"url(#clip930)\" d=\"M2257.72 182.171 L2257.72 187.101 Q2255.35 184.902 2252.67 183.814 Q2250.01 182.726 2247 182.726 Q2241.07 182.726 2237.92 186.36 Q2234.78 189.972 2234.78 196.823 Q2234.78 203.652 2237.92 207.286 Q2241.07 210.897 2247 210.897 Q2250.01 210.897 2252.67 209.809 Q2255.35 208.721 2257.72 206.522 L2257.72 211.407 Q2255.26 213.073 2252.51 213.907 Q2249.78 214.74 2246.72 214.74 Q2238.87 214.74 2234.36 209.948 Q2229.85 205.133 2229.85 196.823 Q2229.85 188.49 2234.36 183.698 Q2238.87 178.884 2246.72 178.884 Q2249.82 178.884 2252.55 179.717 Q2255.31 180.527 2257.72 182.171 Z\" fill=\"#000000\" fill-rule=\"nonzero\" fill-opacity=\"1\" /></svg>\n"
      ]
     },
     "execution_count": 73,
     "metadata": {},
     "output_type": "execute_result"
    }
   ],
   "source": [
    "plot(thist,xhist1[1,:], label=\"x LQR\")\n",
    "plot!(thist,xhist2[1,:], label=\"x MPC\")\n",
    "xlabel!(\"time\")"
   ]
  },
  {
   "cell_type": "code",
   "execution_count": null,
   "id": "5af0ba0c-4238-4b72-8812-b74cc4e846d0",
   "metadata": {},
   "outputs": [],
   "source": []
  }
 ],
 "metadata": {
  "kernelspec": {
   "display_name": "Julia 1.6.7",
   "language": "julia",
   "name": "julia-1.6"
  },
  "language_info": {
   "file_extension": ".jl",
   "mimetype": "application/julia",
   "name": "julia",
   "version": "1.6.7"
  }
 },
 "nbformat": 4,
 "nbformat_minor": 5
}
