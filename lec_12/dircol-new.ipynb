{
 "cells": [
  {
   "cell_type": "code",
   "execution_count": 1,
   "id": "2bbd1f3c-fb8e-4255-a6c4-b8c59a76c869",
   "metadata": {},
   "outputs": [
    {
     "name": "stderr",
     "output_type": "stream",
     "text": [
      "\u001b[32m\u001b[1m  Activating\u001b[22m\u001b[39m environment at `C:\\Users\\tge13\\Documents\\optimal_control_julia\\lec_12\\Project.toml`\n"
     ]
    }
   ],
   "source": [
    "import Pkg; Pkg.activate(@__DIR__); Pkg.instantiate()"
   ]
  },
  {
   "cell_type": "code",
   "execution_count": 2,
   "id": "e548d135-1826-4cfb-a094-46115e3fe0e0",
   "metadata": {},
   "outputs": [],
   "source": [
    "using LinearAlgebra\n",
    "using Plots\n",
    "using ForwardDiff\n",
    "using RobotZoo\n",
    "const RZ = RobotZoo\n",
    "using RobotDynamics\n",
    "using Ipopt\n",
    "using MathOptInterface\n",
    "using JLD2\n",
    "const MOI = MathOptInterface;"
   ]
  },
  {
   "cell_type": "code",
   "execution_count": 3,
   "id": "1c9a0a7f-dcd4-4b18-a51e-0f08c46c94b3",
   "metadata": {},
   "outputs": [
    {
     "data": {
      "text/plain": [
       "0.1"
      ]
     },
     "execution_count": 3,
     "metadata": {},
     "output_type": "execute_result"
    }
   ],
   "source": [
    "#Pendulum Dynamics\n",
    "a = RobotZoo.Acrobot()\n",
    "h = 0.1 #10 Hz"
   ]
  },
  {
   "cell_type": "code",
   "execution_count": 4,
   "id": "55a8af00-290c-4a9b-9185-a9bf3a5f4671",
   "metadata": {},
   "outputs": [
    {
     "data": {
      "text/plain": [
       "208"
      ]
     },
     "execution_count": 4,
     "metadata": {},
     "output_type": "execute_result"
    }
   ],
   "source": [
    "Nx = 4     # number of state\n",
    "Nu = 1     # number of controls\n",
    "Tfinal = 5.0 # final time\n",
    "Nt = Int(Tfinal/h)+1   # number of time steps\n",
    "thist = Array(range(0,h*(Nt-1), step=h));\n",
    "\n",
    "n_nlp = (Nx+Nu)*Nt # number of decision variables\n",
    "m_nlp = Nx*(Nt+1)"
   ]
  },
  {
   "cell_type": "markdown",
   "id": "4d9fd2d2-6b08-4fc9-b612-e11d791ccadb",
   "metadata": {},
   "source": [
    "## DIRCOL Residual"
   ]
  },
  {
   "cell_type": "code",
   "execution_count": 5,
   "id": "062e0713-5c01-4684-9162-2b6d18326dcb",
   "metadata": {},
   "outputs": [
    {
     "data": {
      "text/plain": [
       "dircol_dynamics (generic function with 1 method)"
      ]
     },
     "execution_count": 5,
     "metadata": {},
     "output_type": "execute_result"
    }
   ],
   "source": [
    "function dircol_dynamics(x1,u1,x2,u2)\n",
    "    #Hermite-Simpson integration with first-order hold on u\n",
    "    f1 = RZ.dynamics(a, x1, u1)\n",
    "    f2 = RZ.dynamics(a, x2, u2)\n",
    "    xm = 0.5*(x1+x2) + (h/8.0)*(f1-f2)\n",
    "    um = 0.5*(u1+u2)\n",
    "    fm = RZ.dynamics(a, xm, um)\n",
    "    ẋm = (3/(2.0*h))*(x1-x2) + (0.25)*(f1+f2)\n",
    "    return fm + ẋm\n",
    "end"
   ]
  },
  {
   "cell_type": "code",
   "execution_count": 6,
   "id": "e6f3fab2-ddac-41a0-a135-c4caa5158a83",
   "metadata": {},
   "outputs": [],
   "source": [
    "# Cost weights\n",
    "Q = Diagonal([1.0*ones(2); 1.0*ones(2)]);\n",
    "R = 0.1;"
   ]
  },
  {
   "cell_type": "code",
   "execution_count": 7,
   "id": "ff3d0868-e4ce-4d77-879d-e34ece901ec7",
   "metadata": {},
   "outputs": [
    {
     "data": {
      "text/plain": [
       "cost (generic function with 1 method)"
      ]
     },
     "execution_count": 7,
     "metadata": {},
     "output_type": "execute_result"
    }
   ],
   "source": [
    "function cost(ztraj)\n",
    "    J = 0\n",
    "    z_reshape = reshape(ztraj, Nx+Nu, Nt)\n",
    "    for k in 1:Nt\n",
    "        xtraj = z_reshape[1:Nx,k]\n",
    "        utraj = z_reshape[Nx+1:end,k]\n",
    "        J += 0.5*(xtraj-xgoal)'*Q*(xtraj-xgoal) + 0.5*utraj'*R*utraj\n",
    "    end\n",
    "\n",
    "    return J\n",
    "end"
   ]
  },
  {
   "cell_type": "markdown",
   "id": "832cc1c3-2d37-4426-9aee-b4220817bf67",
   "metadata": {},
   "source": [
    "## Fill in dynamics constriants"
   ]
  },
  {
   "cell_type": "code",
   "execution_count": 8,
   "id": "dea57864-3daf-4593-9e95-20f476d8d78a",
   "metadata": {},
   "outputs": [
    {
     "data": {
      "text/plain": [
       "dynamics_constraint! (generic function with 1 method)"
      ]
     },
     "execution_count": 8,
     "metadata": {},
     "output_type": "execute_result"
    }
   ],
   "source": [
    "function dynamics_constraint!(c,ztraj)\n",
    "    d = reshape(c, Nx, Nt-1)\n",
    "    z = reshape(ztraj, Nx+Nu, Nt)\n",
    "\n",
    "    for k in 1:(Nt-1)\n",
    "        x1 = z[1:Nx,k]\n",
    "        u1 = z[Nx+1:end,k]\n",
    "        x2 = z[1:Nx,k+1]\n",
    "        u2 = z[Nx+1:end,k+1]\n",
    "\n",
    "        d[:,k] = dircol_dynamics(x1,u1,x2,u2)\n",
    "    end\n",
    "\n",
    "    return nothing\n",
    "end"
   ]
  },
  {
   "cell_type": "code",
   "execution_count": 9,
   "id": "dbc8e591-c823-4af7-bf77-2d14be019e73",
   "metadata": {},
   "outputs": [
    {
     "data": {
      "text/plain": [
       "con! (generic function with 1 method)"
      ]
     },
     "execution_count": 9,
     "metadata": {},
     "output_type": "execute_result"
    }
   ],
   "source": [
    "function con!(c,ztraj)\n",
    "    z = reshape(ztraj, Nx+Nu, Nt)\n",
    "    c[1:Nx, 1] .= (z[1:Nx,1] - x0)\n",
    "    @views dynamics_constraint!(c[(Nx+1):(end-Nx)],ztraj)\n",
    "    c[(end-Nx+1):end] .= (z[1:Nx,end] - xgoal)\n",
    "end"
   ]
  },
  {
   "cell_type": "markdown",
   "id": "09a1aa47-eb14-4d70-8abd-07baab2303e5",
   "metadata": {},
   "source": [
    "## Define Variables & Constraints - ProbMOI and IPOPT Format"
   ]
  },
  {
   "cell_type": "code",
   "execution_count": 10,
   "id": "afb1eabb-ef9e-4e16-b300-a823c8412992",
   "metadata": {},
   "outputs": [
    {
     "data": {
      "text/plain": [
       "solve (generic function with 1 method)"
      ]
     },
     "execution_count": 10,
     "metadata": {},
     "output_type": "execute_result"
    }
   ],
   "source": [
    "struct ProblemMOI <: MOI.AbstractNLPEvaluator\n",
    "    n_nlp::Int\n",
    "    m_nlp::Int\n",
    "    idx_ineq\n",
    "    obj_grad::Bool\n",
    "    con_jac::Bool\n",
    "    sparsity_jac\n",
    "    sparsity_hess\n",
    "    primal_bounds\n",
    "    constraint_bounds\n",
    "    hessian_lagrangian::Bool\n",
    "end\n",
    "\n",
    "function ProblemMOI(n_nlp,m_nlp;\n",
    "        idx_ineq=(1:0),\n",
    "        obj_grad=true,\n",
    "        con_jac=true,\n",
    "        sparsity_jac=sparsity_jacobian(n_nlp,m_nlp),\n",
    "        sparsity_hess=sparsity_hessian(n_nlp,m_nlp),\n",
    "        primal_bounds=primal_bounds(n_nlp),\n",
    "        constraint_bounds=constraint_bounds(m_nlp,idx_ineq=idx_ineq),\n",
    "        hessian_lagrangian=false)\n",
    "\n",
    "    ProblemMOI(n_nlp,m_nlp,\n",
    "        idx_ineq,\n",
    "        obj_grad,\n",
    "        con_jac,\n",
    "        sparsity_jac,\n",
    "        sparsity_hess,\n",
    "        primal_bounds,\n",
    "        constraint_bounds,\n",
    "        hessian_lagrangian)\n",
    "end\n",
    "\n",
    "function primal_bounds(n)\n",
    "    x_l = -Inf*ones(n)\n",
    "    x_u = Inf*ones(n)\n",
    "    return x_l, x_u\n",
    "end\n",
    "\n",
    "function constraint_bounds(m; idx_ineq=(1:0))\n",
    "    c_l = zeros(m)\n",
    "    c_l[idx_ineq] .= -Inf\n",
    "\n",
    "    c_u = zeros(m)\n",
    "    return c_l, c_u\n",
    "end\n",
    "\n",
    "function row_col!(row,col,r,c)\n",
    "    for cc in c\n",
    "        for rr in r\n",
    "            push!(row,convert(Int,rr))\n",
    "            push!(col,convert(Int,cc))\n",
    "        end\n",
    "    end\n",
    "    return row, col\n",
    "end\n",
    "\n",
    "function sparsity_jacobian(n,m)\n",
    "\n",
    "    row = []\n",
    "    col = []\n",
    "\n",
    "    r = 1:m\n",
    "    c = 1:n\n",
    "\n",
    "    row_col!(row,col,r,c)\n",
    "\n",
    "    return collect(zip(row,col))\n",
    "end\n",
    "\n",
    "function sparsity_hessian(n,m)\n",
    "\n",
    "    row = []\n",
    "    col = []\n",
    "\n",
    "    r = 1:m\n",
    "    c = 1:n\n",
    "\n",
    "    row_col!(row,col,r,c)\n",
    "\n",
    "    return collect(zip(row,col))\n",
    "end\n",
    "\n",
    "function MOI.eval_objective(prob::MOI.AbstractNLPEvaluator, x)\n",
    "    cost(x)\n",
    "end\n",
    "\n",
    "function MOI.eval_objective_gradient(prob::MOI.AbstractNLPEvaluator, grad_f, x)\n",
    "    ForwardDiff.gradient!(grad_f,cost,x)\n",
    "    return nothing\n",
    "end\n",
    "\n",
    "function MOI.eval_constraint(prob::MOI.AbstractNLPEvaluator,g,x)\n",
    "    con!(g,x)\n",
    "    return nothing\n",
    "end\n",
    "\n",
    "function MOI.eval_constraint_jacobian(prob::MOI.AbstractNLPEvaluator, jac, x)\n",
    "    ForwardDiff.jacobian!(reshape(jac,prob.m_nlp,prob.n_nlp), con!, zeros(prob.m_nlp), x)\n",
    "    return nothing\n",
    "end\n",
    "\n",
    "function MOI.features_available(prob::MOI.AbstractNLPEvaluator)\n",
    "    return [:Grad, :Jac]\n",
    "end\n",
    "\n",
    "MOI.initialize(prob::MOI.AbstractNLPEvaluator, features) = nothing\n",
    "MOI.jacobian_structure(prob::MOI.AbstractNLPEvaluator) = prob.sparsity_jac\n",
    "\n",
    "function solve(x0,prob::MOI.AbstractNLPEvaluator;\n",
    "        tol=1.0e-6,c_tol=1.0e-6,max_iter=10000)\n",
    "    x_l, x_u = prob.primal_bounds\n",
    "    c_l, c_u = prob.constraint_bounds\n",
    "\n",
    "    nlp_bounds = MOI.NLPBoundsPair.(c_l,c_u)\n",
    "    block_data = MOI.NLPBlockData(nlp_bounds,prob,true)\n",
    "\n",
    "    solver = Ipopt.Optimizer()\n",
    "    solver.options[\"max_iter\"] = max_iter\n",
    "    solver.options[\"tol\"] = tol\n",
    "    solver.options[\"constr_viol_tol\"] = c_tol\n",
    "\n",
    "    x = MOI.add_variables(solver,prob.n_nlp)\n",
    "\n",
    "    for i = 1:prob.n_nlp\n",
    "        MOI.add_constraint(solver, x[i], MOI.LessThan(x_u[i]))\n",
    "        MOI.add_constraint(solver, x[i], MOI.GreaterThan(x_l[i]))\n",
    "        MOI.set(solver, MOI.VariablePrimalStart(), x[i], x0[i])\n",
    "    end\n",
    "\n",
    "    # Solve the problem\n",
    "    MOI.set(solver, MOI.NLPBlock(), block_data)\n",
    "    MOI.set(solver, MOI.ObjectiveSense(), MOI.MIN_SENSE)\n",
    "    MOI.optimize!(solver)\n",
    "\n",
    "    # Get the solution\n",
    "    res = MOI.get(solver, MOI.VariablePrimal(), x)\n",
    "\n",
    "    return res\n",
    "end"
   ]
  },
  {
   "cell_type": "code",
   "execution_count": 11,
   "id": "f9934b22-164c-4ed4-9961-ecd0aa857af2",
   "metadata": {
    "scrolled": true
   },
   "outputs": [
    {
     "data": {
      "text/plain": [
       "4-element Vector{Float64}:\n",
       " 1.5707963267948966\n",
       " 0.0\n",
       " 0.0\n",
       " 0.0"
      ]
     },
     "execution_count": 11,
     "metadata": {},
     "output_type": "execute_result"
    }
   ],
   "source": [
    "#Initial and goal states\n",
    "x0 = [-pi/2; 0; 0; 0]\n",
    "xgoal = [pi/2; 0; 0; 0]"
   ]
  },
  {
   "cell_type": "markdown",
   "id": "86f2c7a6-f352-4dfa-95bd-705ceecc55c6",
   "metadata": {},
   "source": [
    "## Load Pre-trained trajectories"
   ]
  },
  {
   "cell_type": "code",
   "execution_count": 12,
   "id": "8474cf9b-df16-47be-9211-8cf0433f5356",
   "metadata": {},
   "outputs": [
    {
     "data": {
      "text/plain": [
       "1×51 Matrix{Float64}:\n",
       " 0.127166  0.598139  1.02962  1.38087  1.66891  …  0.297042  2.13363  1.93323"
      ]
     },
     "execution_count": 12,
     "metadata": {},
     "output_type": "execute_result"
    }
   ],
   "source": [
    "f = jldopen(\"dircol_traj.jld2\", \"r\")\n",
    "xtraj_opt = f[\"xtraj\"]\n",
    "utraj_opt = f[\"utraj\"]"
   ]
  },
  {
   "cell_type": "markdown",
   "id": "ce355892-d22e-4304-a967-ca9365171e3b",
   "metadata": {},
   "source": [
    "## Case1 - Fully Random Initial Guess"
   ]
  },
  {
   "cell_type": "code",
   "execution_count": 13,
   "id": "a6607c72-430c-4624-afa1-2ee1287739bf",
   "metadata": {},
   "outputs": [
    {
     "data": {
      "text/plain": [
       "5×51 Matrix{Float64}:\n",
       " -1.5708  -1.5708  -1.5708  -1.5708  …  -1.5708  -1.5708  -1.5708  -1.5708\n",
       "  0.0      0.0      0.0      0.0         0.0      0.0      0.0      0.0\n",
       "  0.0      0.0      0.0      0.0         0.0      0.0      0.0      0.0\n",
       "  0.0      0.0      0.0      0.0         0.0      0.0      0.0      0.0\n",
       "  0.0      0.0      0.0      0.0         0.0      0.0      0.0      0.0"
      ]
     },
     "execution_count": 13,
     "metadata": {},
     "output_type": "execute_result"
    }
   ],
   "source": [
    "xguess = kron(ones(Nt)', x0)\n",
    "uguess = zeros(Nt)'\n",
    "z0 = reshape([xguess; uguess], Nx+Nu, Nt)"
   ]
  },
  {
   "cell_type": "code",
   "execution_count": 17,
   "id": "430c34fc-fe0b-4cb4-99a6-f3969d041061",
   "metadata": {},
   "outputs": [
    {
     "name": "stdout",
     "output_type": "stream",
     "text": [
      "\n",
      "******************************************************************************\n",
      "This program contains Ipopt, a library for large-scale nonlinear optimization.\n",
      " Ipopt is released as open source code under the Eclipse Public License (EPL).\n",
      "         For more information visit https://github.com/coin-or/Ipopt\n",
      "******************************************************************************\n",
      "\n",
      "This is Ipopt version 3.13.4, running with linear solver mumps.\n",
      "NOTE: Other linear solvers might be more efficient (see Ipopt documentation).\n",
      "\n",
      "Number of nonzeros in equality constraint Jacobian...:    53040\n",
      "Number of nonzeros in inequality constraint Jacobian.:        0\n",
      "Number of nonzeros in Lagrangian Hessian.............:        0\n",
      "\n",
      "Total number of variables............................:      255\n",
      "                     variables with only lower bounds:        0\n",
      "                variables with lower and upper bounds:        0\n",
      "                     variables with only upper bounds:        0\n",
      "Total number of equality constraints.................:      208\n",
      "Total number of inequality constraints...............:        0\n",
      "        inequality constraints with only lower bounds:        0\n",
      "   inequality constraints with lower and upper bounds:        0\n",
      "        inequality constraints with only upper bounds:        0\n",
      "\n",
      "iter    objective    inf_pr   inf_du lg(mu)  ||d||  lg(rg) alpha_du alpha_pr  ls\n",
      "   0  2.6740282e+02 5.92e+00 2.30e-01   0.0 0.00e+00    -  0.00e+00 0.00e+00   0\n",
      "   1  4.2093986e+02 6.25e+00 4.88e+01 -11.0 4.08e+01    -  1.00e+00 1.25e-01h  4\n",
      "   2  5.2799906e+02 5.53e+00 1.10e+02 -11.0 1.97e+01    -  1.00e+00 1.25e-01h  4\n",
      "   3  7.3640850e+02 4.08e+00 2.33e+02 -11.0 1.89e+01    -  1.00e+00 2.50e-01h  3\n",
      "   4  9.1554290e+02 3.05e+00 2.94e+02 -11.0 2.19e+01    -  1.00e+00 2.50e-01h  3\n",
      "   5  1.0055652e+03 3.14e+00 2.51e+02 -11.0 1.33e+01    -  1.00e+00 2.50e-01h  3\n",
      "   6  9.7927587e+02 8.64e+00 2.99e+02 -11.0 1.38e+01    -  1.00e+00 2.50e-01f  3\n",
      "   7  9.8090398e+02 7.29e+00 3.11e+02 -11.0 1.24e+01    -  1.00e+00 1.25e-01h  4\n",
      "   8  9.6236608e+02 8.17e+00 3.06e+02 -11.0 1.53e+01    -  1.00e+00 1.25e-01f  4\n",
      "   9  9.4191903e+02 8.00e+00 3.04e+02 -11.0 1.57e+01    -  1.00e+00 1.25e-01f  4\n",
      "iter    objective    inf_pr   inf_du lg(mu)  ||d||  lg(rg) alpha_du alpha_pr  ls\n",
      "  10  9.2561957e+02 9.64e+00 2.95e+02 -11.0 1.69e+01    -  1.00e+00 1.25e-01f  4\n",
      "  11  1.4793768e+03 1.38e+02 1.04e+02 -11.0 1.92e+01    -  1.00e+00 1.00e+00w  1\n",
      "  12  1.1125020e+03 7.36e+01 1.30e+02 -11.0 9.74e+00    -  1.00e+00 1.00e+00w  1\n",
      "  13  3.0705280e+04 1.17e+03 3.41e+03 -11.0 1.80e+02    -  1.00e+00 1.00e+00w  1\n",
      "  14  9.1801183e+02 8.78e+00 2.80e+02 -11.0 1.32e+02    -  1.00e+00 1.25e-01f  3\n",
      "  15  9.2139471e+02 7.23e+00 2.59e+02 -11.0 2.50e+01    -  1.00e+00 1.25e-01h  4\n",
      "  16  9.3251496e+02 8.28e+00 2.06e+02 -11.0 3.60e+01    -  1.00e+00 2.50e-01h  3\n",
      "  17  9.4359385e+02 6.96e+00 1.88e+02 -11.0 3.29e+01    -  1.00e+00 1.25e-01h  4\n",
      "  18  9.4311681e+02 5.82e+00 1.90e+02 -11.0 1.23e+02    -  1.00e+00 3.12e-02f  6\n",
      "  19  9.7426946e+02 4.73e+00 1.69e+02 -11.0 2.17e+01    -  1.00e+00 1.25e-01h  4\n",
      "iter    objective    inf_pr   inf_du lg(mu)  ||d||  lg(rg) alpha_du alpha_pr  ls\n",
      "  20  1.3419043e+03 1.51e+00 1.04e+02 -11.0 2.01e+01    -  1.00e+00 1.00e+00H  1\n",
      "  21  1.1356162e+03 9.52e+00 7.06e+01 -11.0 1.18e+01    -  1.00e+00 1.00e+00F  1\n",
      "  22  1.0876839e+03 4.98e+00 8.58e+01 -11.0 2.13e+01    -  1.00e+00 1.00e+00F  1\n",
      "  23  1.0604914e+03 4.18e+00 4.59e+01 -11.0 1.20e+01    -  1.00e+00 1.00e+00F  1\n",
      "  24  1.0136026e+03 8.94e+00 4.14e+01 -11.0 2.36e+01    -  1.00e+00 2.50e-01f  3\n",
      "  25  9.8130434e+02 7.35e+00 4.75e+01 -11.0 2.98e+01    -  1.00e+00 1.25e-01f  4\n",
      "  26  9.1391502e+02 1.22e+01 6.51e+01 -11.0 1.00e+02    -  1.00e+00 1.25e-01f  4\n",
      "  27  8.7848151e+02 8.99e+00 7.27e+01 -11.0 4.95e+01    -  1.00e+00 2.50e-01f  3\n",
      "  28  8.7694247e+02 1.09e+01 8.14e+01 -11.0 1.08e+02    -  1.00e+00 1.25e-01f  4\n",
      "  29  8.4059132e+02 1.45e+01 9.21e+01 -11.0 7.50e+01    -  1.00e+00 1.25e-01f  4\n",
      "iter    objective    inf_pr   inf_du lg(mu)  ||d||  lg(rg) alpha_du alpha_pr  ls\n",
      "  30  8.1308489e+02 1.13e+01 9.18e+01 -11.0 5.12e+01    -  1.00e+00 1.25e-01f  4\n",
      "  31  7.8695297e+02 6.42e-01 2.45e+01 -11.0 5.49e+00    -  1.00e+00 1.00e+00f  1\n",
      "  32  7.5351018e+02 4.47e-01 2.64e+00 -11.0 1.66e+00    -  1.00e+00 1.00e+00f  1\n",
      "  33  7.0897519e+02 2.29e+00 1.06e+01 -11.0 6.11e+00    -  1.00e+00 1.00e+00f  1\n",
      "  34  7.0903489e+02 1.17e-01 1.91e+00 -11.0 2.72e+00    -  1.00e+00 1.00e+00h  1\n",
      "  35  7.0858160e+02 4.41e-01 4.19e+00 -11.0 1.59e+00    -  1.00e+00 1.00e+00f  1\n",
      "  36  7.0872870e+02 3.00e-01 3.45e+00 -11.0 2.70e+00    -  1.00e+00 1.00e+00h  1\n",
      "  37  7.0613090e+02 1.46e-01 9.11e+00 -11.0 3.16e+00    -  1.00e+00 1.00e+00F  1\n",
      "  38  7.0625900e+02 1.30e-01 5.73e+00 -11.0 1.73e+00    -  1.00e+00 1.00e+00h  1\n",
      "  39  7.0626629e+02 4.94e-02 7.58e-01 -11.0 9.15e-01    -  1.00e+00 1.00e+00h  1\n",
      "iter    objective    inf_pr   inf_du lg(mu)  ||d||  lg(rg) alpha_du alpha_pr  ls\n",
      "  40  7.0606084e+02 7.48e-03 3.44e-01 -11.0 2.43e-01    -  1.00e+00 1.00e+00h  1\n",
      "  41  7.0608311e+02 4.08e-03 1.79e+00 -11.0 7.20e-01    -  1.00e+00 1.00e+00H  1\n",
      "  42  7.0601144e+02 2.55e-03 1.99e-01 -11.0 6.43e-01    -  1.00e+00 1.00e+00H  1\n",
      "  43  7.0603214e+02 2.75e-05 6.34e-01 -11.0 1.73e-01    -  1.00e+00 1.00e+00H  1\n",
      "  44  7.0602489e+02 1.78e-05 2.96e-02 -11.0 1.33e-01    -  1.00e+00 1.00e+00H  1\n",
      "  45  7.0602623e+02 1.23e-06 7.29e-02 -11.0 7.30e-02    -  1.00e+00 1.00e+00H  1\n",
      "  46  7.0602481e+02 4.20e-05 2.71e-03 -11.0 5.48e-02    -  1.00e+00 1.00e+00h  1\n",
      "  47  7.0602477e+02 8.53e-08 7.96e-05 -11.0 7.81e-04    -  1.00e+00 1.00e+00h  1\n",
      "  48  7.0602477e+02 3.07e-12 9.12e-06 -11.0 6.30e-04    -  1.00e+00 1.00e+00H  1\n",
      "  49  7.0602477e+02 1.54e-14 4.87e-06 -11.0 1.30e-04    -  1.00e+00 1.00e+00H  1\n",
      "iter    objective    inf_pr   inf_du lg(mu)  ||d||  lg(rg) alpha_du alpha_pr  ls\n",
      "  50  7.0602477e+02 4.27e-11 2.74e-06 -11.0 5.22e-05    -  1.00e+00 1.00e+00h  1\n",
      "  51  7.0602477e+02 8.35e-12 8.84e-07 -11.0 2.76e-05    -  1.00e+00 1.00e+00h  1\n",
      "\n",
      "Number of Iterations....: 51\n",
      "\n",
      "                                   (scaled)                 (unscaled)\n",
      "Objective...............:   7.0602477170173472e+02    7.0602477170173472e+02\n",
      "Dual infeasibility......:   8.8438876666430133e-07    8.8438876666430133e-07\n",
      "Constraint violation....:   8.3510975912304275e-12    8.3510975912304275e-12\n",
      "Complementarity.........:   0.0000000000000000e+00    0.0000000000000000e+00\n",
      "Overall NLP error.......:   8.8438876666430133e-07    8.8438876666430133e-07\n",
      "\n",
      "\n",
      "Number of objective function evaluations             = 162\n",
      "Number of objective gradient evaluations             = 52\n",
      "Number of equality constraint evaluations            = 162\n",
      "Number of inequality constraint evaluations          = 0\n",
      "Number of equality constraint Jacobian evaluations   = 52\n",
      "Number of inequality constraint Jacobian evaluations = 0\n",
      "Number of Lagrangian Hessian evaluations             = 0\n",
      "Total CPU secs in IPOPT (w/o function evaluations)   =      3.546\n",
      "Total CPU secs in NLP function evaluations           =      1.018\n",
      "\n",
      "EXIT: Optimal Solution Found.\n"
     ]
    }
   ],
   "source": [
    "prob = ProblemMOI(n_nlp,m_nlp)\n",
    "\n",
    "# solve\n",
    "z_sol = solve(z0,prob)\n",
    "\n",
    "# reshape\n",
    "ztraj = reshape(z_sol,Nx+Nu,Nt)\n",
    "xtraj = ztraj[1:Nx,:]\n",
    "utraj = ztraj[(Nx+1):(Nx+Nu),:];"
   ]
  },
  {
   "cell_type": "code",
   "execution_count": 18,
   "id": "7da300f3-f7db-4340-9060-baf92a3b29ea",
   "metadata": {},
   "outputs": [
    {
     "data": {
      "image/svg+xml": [
       "<?xml version=\"1.0\" encoding=\"utf-8\"?>\n",
       "<svg xmlns=\"http://www.w3.org/2000/svg\" xmlns:xlink=\"http://www.w3.org/1999/xlink\" width=\"600\" height=\"400\" viewBox=\"0 0 2400 1600\">\n",
       "<defs>\n",
       "  <clipPath id=\"clip860\">\n",
       "    <rect x=\"0\" y=\"0\" width=\"2400\" height=\"1600\"/>\n",
       "  </clipPath>\n",
       "</defs>\n",
       "<path clip-path=\"url(#clip860)\" d=\"M0 1600 L2400 1600 L2400 0 L0 0  Z\" fill=\"#ffffff\" fill-rule=\"evenodd\" fill-opacity=\"1\"/>\n",
       "<defs>\n",
       "  <clipPath id=\"clip861\">\n",
       "    <rect x=\"480\" y=\"0\" width=\"1681\" height=\"1600\"/>\n",
       "  </clipPath>\n",
       "</defs>\n",
       "<path clip-path=\"url(#clip860)\" d=\"M148.057 1486.45 L2352.76 1486.45 L2352.76 47.2441 L148.057 47.2441  Z\" fill=\"#ffffff\" fill-rule=\"evenodd\" fill-opacity=\"1\"/>\n",
       "<defs>\n",
       "  <clipPath id=\"clip862\">\n",
       "    <rect x=\"148\" y=\"47\" width=\"2206\" height=\"1440\"/>\n",
       "  </clipPath>\n",
       "</defs>\n",
       "<polyline clip-path=\"url(#clip862)\" style=\"stroke:#000000; stroke-linecap:round; stroke-linejoin:round; stroke-width:2; stroke-opacity:0.1; fill:none\" points=\"210.454,1486.45 210.454,47.2441 \"/>\n",
       "<polyline clip-path=\"url(#clip862)\" style=\"stroke:#000000; stroke-linecap:round; stroke-linejoin:round; stroke-width:2; stroke-opacity:0.1; fill:none\" points=\"626.435,1486.45 626.435,47.2441 \"/>\n",
       "<polyline clip-path=\"url(#clip862)\" style=\"stroke:#000000; stroke-linecap:round; stroke-linejoin:round; stroke-width:2; stroke-opacity:0.1; fill:none\" points=\"1042.42,1486.45 1042.42,47.2441 \"/>\n",
       "<polyline clip-path=\"url(#clip862)\" style=\"stroke:#000000; stroke-linecap:round; stroke-linejoin:round; stroke-width:2; stroke-opacity:0.1; fill:none\" points=\"1458.4,1486.45 1458.4,47.2441 \"/>\n",
       "<polyline clip-path=\"url(#clip862)\" style=\"stroke:#000000; stroke-linecap:round; stroke-linejoin:round; stroke-width:2; stroke-opacity:0.1; fill:none\" points=\"1874.38,1486.45 1874.38,47.2441 \"/>\n",
       "<polyline clip-path=\"url(#clip862)\" style=\"stroke:#000000; stroke-linecap:round; stroke-linejoin:round; stroke-width:2; stroke-opacity:0.1; fill:none\" points=\"2290.36,1486.45 2290.36,47.2441 \"/>\n",
       "<polyline clip-path=\"url(#clip860)\" style=\"stroke:#000000; stroke-linecap:round; stroke-linejoin:round; stroke-width:4; stroke-opacity:1; fill:none\" points=\"148.057,1486.45 2352.76,1486.45 \"/>\n",
       "<polyline clip-path=\"url(#clip860)\" style=\"stroke:#000000; stroke-linecap:round; stroke-linejoin:round; stroke-width:4; stroke-opacity:1; fill:none\" points=\"210.454,1486.45 210.454,1467.55 \"/>\n",
       "<polyline clip-path=\"url(#clip860)\" style=\"stroke:#000000; stroke-linecap:round; stroke-linejoin:round; stroke-width:4; stroke-opacity:1; fill:none\" points=\"626.435,1486.45 626.435,1467.55 \"/>\n",
       "<polyline clip-path=\"url(#clip860)\" style=\"stroke:#000000; stroke-linecap:round; stroke-linejoin:round; stroke-width:4; stroke-opacity:1; fill:none\" points=\"1042.42,1486.45 1042.42,1467.55 \"/>\n",
       "<polyline clip-path=\"url(#clip860)\" style=\"stroke:#000000; stroke-linecap:round; stroke-linejoin:round; stroke-width:4; stroke-opacity:1; fill:none\" points=\"1458.4,1486.45 1458.4,1467.55 \"/>\n",
       "<polyline clip-path=\"url(#clip860)\" style=\"stroke:#000000; stroke-linecap:round; stroke-linejoin:round; stroke-width:4; stroke-opacity:1; fill:none\" points=\"1874.38,1486.45 1874.38,1467.55 \"/>\n",
       "<polyline clip-path=\"url(#clip860)\" style=\"stroke:#000000; stroke-linecap:round; stroke-linejoin:round; stroke-width:4; stroke-opacity:1; fill:none\" points=\"2290.36,1486.45 2290.36,1467.55 \"/>\n",
       "<path clip-path=\"url(#clip860)\" d=\"M210.454 1517.37 Q206.843 1517.37 205.014 1520.93 Q203.208 1524.47 203.208 1531.6 Q203.208 1538.71 205.014 1542.27 Q206.843 1545.82 210.454 1545.82 Q214.088 1545.82 215.894 1542.27 Q217.722 1538.71 217.722 1531.6 Q217.722 1524.47 215.894 1520.93 Q214.088 1517.37 210.454 1517.37 M210.454 1513.66 Q216.264 1513.66 219.319 1518.27 Q222.398 1522.85 222.398 1531.6 Q222.398 1540.33 219.319 1544.94 Q216.264 1549.52 210.454 1549.52 Q204.644 1549.52 201.565 1544.94 Q198.509 1540.33 198.509 1531.6 Q198.509 1522.85 201.565 1518.27 Q204.644 1513.66 210.454 1513.66 Z\" fill=\"#000000\" fill-rule=\"nonzero\" fill-opacity=\"1\" /><path clip-path=\"url(#clip860)\" d=\"M616.817 1544.91 L624.456 1544.91 L624.456 1518.55 L616.145 1520.21 L616.145 1515.95 L624.409 1514.29 L629.085 1514.29 L629.085 1544.91 L636.724 1544.91 L636.724 1548.85 L616.817 1548.85 L616.817 1544.91 Z\" fill=\"#000000\" fill-rule=\"nonzero\" fill-opacity=\"1\" /><path clip-path=\"url(#clip860)\" d=\"M1037.07 1544.91 L1053.39 1544.91 L1053.39 1548.85 L1031.44 1548.85 L1031.44 1544.91 Q1034.11 1542.16 1038.69 1537.53 Q1043.3 1532.88 1044.48 1531.53 Q1046.72 1529.01 1047.6 1527.27 Q1048.5 1525.51 1048.5 1523.82 Q1048.5 1521.07 1046.56 1519.33 Q1044.64 1517.6 1041.54 1517.6 Q1039.34 1517.6 1036.88 1518.36 Q1034.45 1519.13 1031.68 1520.68 L1031.68 1515.95 Q1034.5 1514.82 1036.95 1514.24 Q1039.41 1513.66 1041.44 1513.66 Q1046.81 1513.66 1050.01 1516.35 Q1053.2 1519.03 1053.2 1523.52 Q1053.2 1525.65 1052.39 1527.57 Q1051.61 1529.47 1049.5 1532.07 Q1048.92 1532.74 1045.82 1535.95 Q1042.72 1539.15 1037.07 1544.91 Z\" fill=\"#000000\" fill-rule=\"nonzero\" fill-opacity=\"1\" /><path clip-path=\"url(#clip860)\" d=\"M1462.64 1530.21 Q1466 1530.93 1467.88 1533.2 Q1469.77 1535.47 1469.77 1538.8 Q1469.77 1543.92 1466.26 1546.72 Q1462.74 1549.52 1456.26 1549.52 Q1454.08 1549.52 1451.76 1549.08 Q1449.47 1548.66 1447.02 1547.81 L1447.02 1543.29 Q1448.96 1544.43 1451.28 1545.01 Q1453.59 1545.58 1456.12 1545.58 Q1460.51 1545.58 1462.81 1543.85 Q1465.12 1542.11 1465.12 1538.8 Q1465.12 1535.75 1462.97 1534.03 Q1460.84 1532.3 1457.02 1532.3 L1452.99 1532.3 L1452.99 1528.45 L1457.2 1528.45 Q1460.65 1528.45 1462.48 1527.09 Q1464.31 1525.7 1464.31 1523.11 Q1464.31 1520.45 1462.41 1519.03 Q1460.54 1517.6 1457.02 1517.6 Q1455.1 1517.6 1452.9 1518.01 Q1450.7 1518.43 1448.06 1519.31 L1448.06 1515.14 Q1450.72 1514.4 1453.04 1514.03 Q1455.38 1513.66 1457.44 1513.66 Q1462.76 1513.66 1465.86 1516.09 Q1468.96 1518.5 1468.96 1522.62 Q1468.96 1525.49 1467.32 1527.48 Q1465.68 1529.45 1462.64 1530.21 Z\" fill=\"#000000\" fill-rule=\"nonzero\" fill-opacity=\"1\" /><path clip-path=\"url(#clip860)\" d=\"M1877.39 1518.36 L1865.58 1536.81 L1877.39 1536.81 L1877.39 1518.36 M1876.16 1514.29 L1882.04 1514.29 L1882.04 1536.81 L1886.97 1536.81 L1886.97 1540.7 L1882.04 1540.7 L1882.04 1548.85 L1877.39 1548.85 L1877.39 1540.7 L1861.79 1540.7 L1861.79 1536.19 L1876.16 1514.29 Z\" fill=\"#000000\" fill-rule=\"nonzero\" fill-opacity=\"1\" /><path clip-path=\"url(#clip860)\" d=\"M2280.64 1514.29 L2298.99 1514.29 L2298.99 1518.22 L2284.92 1518.22 L2284.92 1526.7 Q2285.94 1526.35 2286.96 1526.19 Q2287.97 1526 2288.99 1526 Q2294.78 1526 2298.16 1529.17 Q2301.54 1532.34 2301.54 1537.76 Q2301.54 1543.34 2298.07 1546.44 Q2294.59 1549.52 2288.28 1549.52 Q2286.1 1549.52 2283.83 1549.15 Q2281.59 1548.78 2279.18 1548.04 L2279.18 1543.34 Q2281.26 1544.47 2283.48 1545.03 Q2285.71 1545.58 2288.18 1545.58 Q2292.19 1545.58 2294.53 1543.48 Q2296.86 1541.37 2296.86 1537.76 Q2296.86 1534.15 2294.53 1532.04 Q2292.19 1529.94 2288.18 1529.94 Q2286.31 1529.94 2284.43 1530.35 Q2282.58 1530.77 2280.64 1531.65 L2280.64 1514.29 Z\" fill=\"#000000\" fill-rule=\"nonzero\" fill-opacity=\"1\" /><polyline clip-path=\"url(#clip862)\" style=\"stroke:#000000; stroke-linecap:round; stroke-linejoin:round; stroke-width:2; stroke-opacity:0.1; fill:none\" points=\"148.057,1441.64 2352.76,1441.64 \"/>\n",
       "<polyline clip-path=\"url(#clip862)\" style=\"stroke:#000000; stroke-linecap:round; stroke-linejoin:round; stroke-width:2; stroke-opacity:0.1; fill:none\" points=\"148.057,1191.57 2352.76,1191.57 \"/>\n",
       "<polyline clip-path=\"url(#clip862)\" style=\"stroke:#000000; stroke-linecap:round; stroke-linejoin:round; stroke-width:2; stroke-opacity:0.1; fill:none\" points=\"148.057,941.507 2352.76,941.507 \"/>\n",
       "<polyline clip-path=\"url(#clip862)\" style=\"stroke:#000000; stroke-linecap:round; stroke-linejoin:round; stroke-width:2; stroke-opacity:0.1; fill:none\" points=\"148.057,691.441 2352.76,691.441 \"/>\n",
       "<polyline clip-path=\"url(#clip862)\" style=\"stroke:#000000; stroke-linecap:round; stroke-linejoin:round; stroke-width:2; stroke-opacity:0.1; fill:none\" points=\"148.057,441.375 2352.76,441.375 \"/>\n",
       "<polyline clip-path=\"url(#clip862)\" style=\"stroke:#000000; stroke-linecap:round; stroke-linejoin:round; stroke-width:2; stroke-opacity:0.1; fill:none\" points=\"148.057,191.309 2352.76,191.309 \"/>\n",
       "<polyline clip-path=\"url(#clip860)\" style=\"stroke:#000000; stroke-linecap:round; stroke-linejoin:round; stroke-width:4; stroke-opacity:1; fill:none\" points=\"148.057,1486.45 148.057,47.2441 \"/>\n",
       "<polyline clip-path=\"url(#clip860)\" style=\"stroke:#000000; stroke-linecap:round; stroke-linejoin:round; stroke-width:4; stroke-opacity:1; fill:none\" points=\"148.057,1441.64 166.954,1441.64 \"/>\n",
       "<polyline clip-path=\"url(#clip860)\" style=\"stroke:#000000; stroke-linecap:round; stroke-linejoin:round; stroke-width:4; stroke-opacity:1; fill:none\" points=\"148.057,1191.57 166.954,1191.57 \"/>\n",
       "<polyline clip-path=\"url(#clip860)\" style=\"stroke:#000000; stroke-linecap:round; stroke-linejoin:round; stroke-width:4; stroke-opacity:1; fill:none\" points=\"148.057,941.507 166.954,941.507 \"/>\n",
       "<polyline clip-path=\"url(#clip860)\" style=\"stroke:#000000; stroke-linecap:round; stroke-linejoin:round; stroke-width:4; stroke-opacity:1; fill:none\" points=\"148.057,691.441 166.954,691.441 \"/>\n",
       "<polyline clip-path=\"url(#clip860)\" style=\"stroke:#000000; stroke-linecap:round; stroke-linejoin:round; stroke-width:4; stroke-opacity:1; fill:none\" points=\"148.057,441.375 166.954,441.375 \"/>\n",
       "<polyline clip-path=\"url(#clip860)\" style=\"stroke:#000000; stroke-linecap:round; stroke-linejoin:round; stroke-width:4; stroke-opacity:1; fill:none\" points=\"148.057,191.309 166.954,191.309 \"/>\n",
       "<path clip-path=\"url(#clip860)\" d=\"M50.9921 1442.09 L80.6679 1442.09 L80.6679 1446.03 L50.9921 1446.03 L50.9921 1442.09 Z\" fill=\"#000000\" fill-rule=\"nonzero\" fill-opacity=\"1\" /><path clip-path=\"url(#clip860)\" d=\"M104.927 1440.28 Q108.283 1441 110.158 1443.27 Q112.057 1445.54 112.057 1448.87 Q112.057 1453.99 108.538 1456.79 Q105.02 1459.59 98.5382 1459.59 Q96.3623 1459.59 94.0475 1459.15 Q91.7558 1458.73 89.3021 1457.88 L89.3021 1453.36 Q91.2465 1454.5 93.5613 1455.08 Q95.8761 1455.65 98.3993 1455.65 Q102.797 1455.65 105.089 1453.92 Q107.404 1452.18 107.404 1448.87 Q107.404 1445.82 105.251 1444.1 Q103.121 1442.37 99.3021 1442.37 L95.2743 1442.37 L95.2743 1438.53 L99.4872 1438.53 Q102.936 1438.53 104.765 1437.16 Q106.594 1435.77 106.594 1433.18 Q106.594 1430.52 104.696 1429.1 Q102.821 1427.67 99.3021 1427.67 Q97.3808 1427.67 95.1817 1428.09 Q92.9826 1428.5 90.3438 1429.38 L90.3438 1425.22 Q93.0058 1424.47 95.3206 1424.1 Q97.6585 1423.73 99.7187 1423.73 Q105.043 1423.73 108.145 1426.16 Q111.246 1428.57 111.246 1432.69 Q111.246 1435.56 109.603 1437.55 Q107.959 1439.52 104.927 1440.28 Z\" fill=\"#000000\" fill-rule=\"nonzero\" fill-opacity=\"1\" /><path clip-path=\"url(#clip860)\" d=\"M51.9412 1192.02 L81.617 1192.02 L81.617 1195.96 L51.9412 1195.96 L51.9412 1192.02 Z\" fill=\"#000000\" fill-rule=\"nonzero\" fill-opacity=\"1\" /><path clip-path=\"url(#clip860)\" d=\"M95.7373 1204.92 L112.057 1204.92 L112.057 1208.85 L90.1123 1208.85 L90.1123 1204.92 Q92.7743 1202.16 97.3576 1197.53 Q101.964 1192.88 103.145 1191.54 Q105.39 1189.01 106.27 1187.28 Q107.172 1185.52 107.172 1183.83 Q107.172 1181.08 105.228 1179.34 Q103.307 1177.6 100.205 1177.6 Q98.0058 1177.6 95.5521 1178.37 Q93.1215 1179.13 90.3438 1180.68 L90.3438 1175.96 Q93.1678 1174.83 95.6215 1174.25 Q98.0752 1173.67 100.112 1173.67 Q105.483 1173.67 108.677 1176.35 Q111.871 1179.04 111.871 1183.53 Q111.871 1185.66 111.061 1187.58 Q110.274 1189.48 108.168 1192.07 Q107.589 1192.74 104.487 1195.96 Q101.385 1199.15 95.7373 1204.92 Z\" fill=\"#000000\" fill-rule=\"nonzero\" fill-opacity=\"1\" /><path clip-path=\"url(#clip860)\" d=\"M51.5708 941.958 L81.2466 941.958 L81.2466 945.893 L51.5708 945.893 L51.5708 941.958 Z\" fill=\"#000000\" fill-rule=\"nonzero\" fill-opacity=\"1\" /><path clip-path=\"url(#clip860)\" d=\"M92.1493 954.852 L99.7882 954.852 L99.7882 928.486 L91.478 930.153 L91.478 925.893 L99.7419 924.227 L104.418 924.227 L104.418 954.852 L112.057 954.852 L112.057 958.787 L92.1493 958.787 L92.1493 954.852 Z\" fill=\"#000000\" fill-rule=\"nonzero\" fill-opacity=\"1\" /><path clip-path=\"url(#clip860)\" d=\"M100.112 677.24 Q96.5011 677.24 94.6724 680.804 Q92.8669 684.346 92.8669 691.476 Q92.8669 698.582 94.6724 702.147 Q96.5011 705.689 100.112 705.689 Q103.746 705.689 105.552 702.147 Q107.381 698.582 107.381 691.476 Q107.381 684.346 105.552 680.804 Q103.746 677.24 100.112 677.24 M100.112 673.536 Q105.922 673.536 108.978 678.142 Q112.057 682.726 112.057 691.476 Q112.057 700.202 108.978 704.809 Q105.922 709.392 100.112 709.392 Q94.3021 709.392 91.2234 704.809 Q88.1679 700.202 88.1679 691.476 Q88.1679 682.726 91.2234 678.142 Q94.3021 673.536 100.112 673.536 Z\" fill=\"#000000\" fill-rule=\"nonzero\" fill-opacity=\"1\" /><path clip-path=\"url(#clip860)\" d=\"M92.1493 454.72 L99.7882 454.72 L99.7882 428.354 L91.478 430.021 L91.478 425.762 L99.7419 424.095 L104.418 424.095 L104.418 454.72 L112.057 454.72 L112.057 458.655 L92.1493 458.655 L92.1493 454.72 Z\" fill=\"#000000\" fill-rule=\"nonzero\" fill-opacity=\"1\" /><path clip-path=\"url(#clip860)\" d=\"M95.7373 204.654 L112.057 204.654 L112.057 208.589 L90.1123 208.589 L90.1123 204.654 Q92.7743 201.899 97.3576 197.27 Q101.964 192.617 103.145 191.274 Q105.39 188.751 106.27 187.015 Q107.172 185.256 107.172 183.566 Q107.172 180.811 105.228 179.075 Q103.307 177.339 100.205 177.339 Q98.0058 177.339 95.5521 178.103 Q93.1215 178.867 90.3438 180.418 L90.3438 175.696 Q93.1678 174.562 95.6215 173.983 Q98.0752 173.404 100.112 173.404 Q105.483 173.404 108.677 176.089 Q111.871 178.774 111.871 183.265 Q111.871 185.395 111.061 187.316 Q110.274 189.214 108.168 191.807 Q107.589 192.478 104.487 195.696 Q101.385 198.89 95.7373 204.654 Z\" fill=\"#000000\" fill-rule=\"nonzero\" fill-opacity=\"1\" /><polyline clip-path=\"url(#clip862)\" style=\"stroke:#009af9; stroke-linecap:round; stroke-linejoin:round; stroke-width:4; stroke-opacity:1; fill:none\" points=\"210.454,1084.24 252.052,1078.55 293.65,1059.02 335.248,1028.31 376.846,991.973 418.444,955.952 460.042,924.842 501.64,901.525 543.239,887.612 584.837,883.761 626.435,889.893 668.033,905.499 709.631,929.878 751.229,962.131 792.827,1000.92 834.425,1044.2 876.023,1089.22 917.621,1132.81 959.22,1172.04 1000.82,1204.92 1042.42,1230.69 1084.01,1249.62 1125.61,1262.7 1167.21,1271.55 1208.81,1278.66 1250.41,1287.21 1292,1297.71 1333.6,1301.62 1375.2,1284.63 1416.8,1237.71 1458.4,1162.18 1499.99,1067.82 1541.59,966.576 1583.19,868.056 1624.79,778.377 1666.39,700.38 1707.99,634.38 1749.58,579.177 1791.18,532.992 1832.78,494.076 1874.38,460.963 1915.98,432.515 1957.57,407.856 1999.17,386.289 2040.77,367.235 2082.37,350.215 2123.97,334.883 2165.56,321.158 2207.16,309.475 2248.76,301.29 2290.36,298.638 \"/>\n",
       "<polyline clip-path=\"url(#clip862)\" style=\"stroke:#e26f46; stroke-linecap:round; stroke-linejoin:round; stroke-width:4; stroke-opacity:1; fill:none\" points=\"210.454,691.441 252.052,704.793 293.65,751.033 335.248,825.048 376.846,915.636 418.444,1011.27 460.042,1103.73 501.64,1188.56 543.239,1263.44 584.837,1326.88 626.435,1377.65 668.033,1414.78 709.631,1437.56 751.229,1445.72 792.827,1439.5 834.425,1419.61 876.023,1387.18 917.621,1343.65 959.22,1290.73 1000.82,1230.25 1042.42,1163.88 1084.01,1092.69 1125.61,1016.72 1167.21,934.322 1208.81,841.249 1250.41,730.506 1292,598.212 1333.6,455.559 1375.2,323.456 1416.8,216.962 1458.4,142.937 1499.99,101.478 1541.59,87.9763 1583.19,96.1501 1624.79,120.056 1666.39,154.738 1707.99,196.256 1749.58,241.588 1791.18,288.503 1832.78,335.397 1874.38,381.155 1915.98,425.04 1957.57,466.634 1999.17,505.797 2040.77,542.607 2082.37,577.259 2123.97,609.861 2165.56,640.078 2207.16,666.472 2248.76,685.288 2290.36,691.441 \"/>\n",
       "<polyline clip-path=\"url(#clip862)\" style=\"stroke:#3da44d; stroke-linecap:round; stroke-linejoin:round; stroke-width:4; stroke-opacity:1; fill:none\" points=\"210.454,1084.24 252.052,1084.44 293.65,1085.41 335.248,1087.49 376.846,1090.78 418.444,1095.13 460.042,1100.25 501.64,1105.72 543.239,1111.09 584.837,1115.9 626.435,1119.73 668.033,1122.24 709.631,1123.18 751.229,1122.39 792.827,1119.82 834.425,1115.52 876.023,1109.66 917.621,1102.5 959.22,1094.39 1000.82,1085.67 1042.42,1076.66 1084.01,1067.63 1125.61,1058.9 1167.21,1050.79 1208.81,1043.73 1250.41,1038.13 1292,1034.37 1333.6,1032.77 1375.2,1033.54 1416.8,1036.76 1458.4,1042.35 1499.99,1050.05 1541.59,1059.46 1583.19,1070.04 1624.79,1081.16 1666.39,1092.14 1707.99,1102.26 1749.58,1110.86 1791.18,1117.45 1832.78,1121.71 1874.38,1123.38 1915.98,1122.28 1957.57,1118.29 1999.17,1111.44 2040.77,1101.92 2082.37,1090.12 2123.97,1076.75 2165.56,1062.96 2207.16,1050.5 2248.76,1041.71 2290.36,1038.77 \"/>\n",
       "<path clip-path=\"url(#clip860)\" d=\"M221.547 302.578 L495.025 302.578 L495.025 95.2176 L221.547 95.2176  Z\" fill=\"#ffffff\" fill-rule=\"evenodd\" fill-opacity=\"1\"/>\n",
       "<polyline clip-path=\"url(#clip860)\" style=\"stroke:#000000; stroke-linecap:round; stroke-linejoin:round; stroke-width:4; stroke-opacity:1; fill:none\" points=\"221.547,302.578 495.025,302.578 495.025,95.2176 221.547,95.2176 221.547,302.578 \"/>\n",
       "<polyline clip-path=\"url(#clip860)\" style=\"stroke:#009af9; stroke-linecap:round; stroke-linejoin:round; stroke-width:4; stroke-opacity:1; fill:none\" points=\"246.043,147.058 393.023,147.058 \"/>\n",
       "<path clip-path=\"url(#clip860)\" d=\"M431.362 166.745 Q429.557 171.375 427.844 172.787 Q426.131 174.199 423.261 174.199 L419.858 174.199 L419.858 170.634 L422.358 170.634 Q424.117 170.634 425.089 169.8 Q426.061 168.967 427.242 165.865 L428.006 163.921 L417.52 138.412 L422.034 138.412 L430.136 158.689 L438.237 138.412 L442.751 138.412 L431.362 166.745 Z\" fill=\"#000000\" fill-rule=\"nonzero\" fill-opacity=\"1\" /><path clip-path=\"url(#clip860)\" d=\"M450.043 160.402 L457.682 160.402 L457.682 134.037 L449.372 135.703 L449.372 131.444 L457.635 129.778 L462.311 129.778 L462.311 160.402 L469.95 160.402 L469.95 164.338 L450.043 164.338 L450.043 160.402 Z\" fill=\"#000000\" fill-rule=\"nonzero\" fill-opacity=\"1\" /><polyline clip-path=\"url(#clip860)\" style=\"stroke:#e26f46; stroke-linecap:round; stroke-linejoin:round; stroke-width:4; stroke-opacity:1; fill:none\" points=\"246.043,198.898 393.023,198.898 \"/>\n",
       "<path clip-path=\"url(#clip860)\" d=\"M431.362 218.585 Q429.557 223.215 427.844 224.627 Q426.131 226.039 423.261 226.039 L419.858 226.039 L419.858 222.474 L422.358 222.474 Q424.117 222.474 425.089 221.64 Q426.061 220.807 427.242 217.705 L428.006 215.761 L417.52 190.252 L422.034 190.252 L430.136 210.529 L438.237 190.252 L442.751 190.252 L431.362 218.585 Z\" fill=\"#000000\" fill-rule=\"nonzero\" fill-opacity=\"1\" /><path clip-path=\"url(#clip860)\" d=\"M453.26 212.242 L469.58 212.242 L469.58 216.178 L447.635 216.178 L447.635 212.242 Q450.297 209.488 454.881 204.858 Q459.487 200.205 460.668 198.863 Q462.913 196.34 463.793 194.604 Q464.696 192.844 464.696 191.155 Q464.696 188.4 462.751 186.664 Q460.83 184.928 457.728 184.928 Q455.529 184.928 453.075 185.692 Q450.645 186.455 447.867 188.006 L447.867 183.284 Q450.691 182.15 453.145 181.571 Q455.598 180.993 457.635 180.993 Q463.006 180.993 466.2 183.678 Q469.395 186.363 469.395 190.854 Q469.395 192.983 468.584 194.905 Q467.797 196.803 465.691 199.395 Q465.112 200.067 462.01 203.284 Q458.909 206.479 453.26 212.242 Z\" fill=\"#000000\" fill-rule=\"nonzero\" fill-opacity=\"1\" /><polyline clip-path=\"url(#clip860)\" style=\"stroke:#3da44d; stroke-linecap:round; stroke-linejoin:round; stroke-width:4; stroke-opacity:1; fill:none\" points=\"246.043,250.738 393.023,250.738 \"/>\n",
       "<path clip-path=\"url(#clip860)\" d=\"M431.362 270.425 Q429.557 275.055 427.844 276.467 Q426.131 277.879 423.261 277.879 L419.858 277.879 L419.858 274.314 L422.358 274.314 Q424.117 274.314 425.089 273.48 Q426.061 272.647 427.242 269.545 L428.006 267.601 L417.52 242.092 L422.034 242.092 L430.136 262.369 L438.237 242.092 L442.751 242.092 L431.362 270.425 Z\" fill=\"#000000\" fill-rule=\"nonzero\" fill-opacity=\"1\" /><path clip-path=\"url(#clip860)\" d=\"M463.399 249.383 Q466.756 250.101 468.631 252.369 Q470.529 254.638 470.529 257.971 Q470.529 263.087 467.01 265.888 Q463.492 268.689 457.01 268.689 Q454.834 268.689 452.52 268.249 Q450.228 267.832 447.774 266.976 L447.774 262.462 Q449.719 263.596 452.034 264.175 Q454.348 264.754 456.872 264.754 Q461.27 264.754 463.561 263.018 Q465.876 261.281 465.876 257.971 Q465.876 254.916 463.723 253.203 Q461.594 251.467 457.774 251.467 L453.747 251.467 L453.747 247.624 L457.959 247.624 Q461.409 247.624 463.237 246.258 Q465.066 244.87 465.066 242.277 Q465.066 239.615 463.168 238.203 Q461.293 236.768 457.774 236.768 Q455.853 236.768 453.654 237.184 Q451.455 237.601 448.816 238.481 L448.816 234.314 Q451.478 233.573 453.793 233.203 Q456.131 232.833 458.191 232.833 Q463.515 232.833 466.617 235.263 Q469.719 237.67 469.719 241.791 Q469.719 244.661 468.075 246.652 Q466.432 248.62 463.399 249.383 Z\" fill=\"#000000\" fill-rule=\"nonzero\" fill-opacity=\"1\" /></svg>\n"
      ]
     },
     "execution_count": 18,
     "metadata": {},
     "output_type": "execute_result"
    }
   ],
   "source": [
    "plot(thist,xtraj[1,:], label=[\"θ₁\"])\n",
    "plot!(thist,xguess[1,:], label=[\"θ₁ guess\"])\n",
    "plot!(thist,xtraj[2,:], label=[\"ω₁\"])"
   ]
  },
  {
   "cell_type": "code",
   "execution_count": 19,
   "id": "1c6a65ed-1f95-47cd-93fd-baf3c3c4ada4",
   "metadata": {},
   "outputs": [
    {
     "data": {
      "image/svg+xml": [
       "<?xml version=\"1.0\" encoding=\"utf-8\"?>\n",
       "<svg xmlns=\"http://www.w3.org/2000/svg\" xmlns:xlink=\"http://www.w3.org/1999/xlink\" width=\"600\" height=\"400\" viewBox=\"0 0 2400 1600\">\n",
       "<defs>\n",
       "  <clipPath id=\"clip900\">\n",
       "    <rect x=\"0\" y=\"0\" width=\"2400\" height=\"1600\"/>\n",
       "  </clipPath>\n",
       "</defs>\n",
       "<path clip-path=\"url(#clip900)\" d=\"M0 1600 L2400 1600 L2400 0 L0 0  Z\" fill=\"#ffffff\" fill-rule=\"evenodd\" fill-opacity=\"1\"/>\n",
       "<defs>\n",
       "  <clipPath id=\"clip901\">\n",
       "    <rect x=\"480\" y=\"0\" width=\"1681\" height=\"1600\"/>\n",
       "  </clipPath>\n",
       "</defs>\n",
       "<path clip-path=\"url(#clip900)\" d=\"M149.191 1486.45 L2352.76 1486.45 L2352.76 47.2441 L149.191 47.2441  Z\" fill=\"#ffffff\" fill-rule=\"evenodd\" fill-opacity=\"1\"/>\n",
       "<defs>\n",
       "  <clipPath id=\"clip902\">\n",
       "    <rect x=\"149\" y=\"47\" width=\"2205\" height=\"1440\"/>\n",
       "  </clipPath>\n",
       "</defs>\n",
       "<polyline clip-path=\"url(#clip902)\" style=\"stroke:#000000; stroke-linecap:round; stroke-linejoin:round; stroke-width:2; stroke-opacity:0.1; fill:none\" points=\"211.556,1486.45 211.556,47.2441 \"/>\n",
       "<polyline clip-path=\"url(#clip902)\" style=\"stroke:#000000; stroke-linecap:round; stroke-linejoin:round; stroke-width:2; stroke-opacity:0.1; fill:none\" points=\"627.323,1486.45 627.323,47.2441 \"/>\n",
       "<polyline clip-path=\"url(#clip902)\" style=\"stroke:#000000; stroke-linecap:round; stroke-linejoin:round; stroke-width:2; stroke-opacity:0.1; fill:none\" points=\"1043.09,1486.45 1043.09,47.2441 \"/>\n",
       "<polyline clip-path=\"url(#clip902)\" style=\"stroke:#000000; stroke-linecap:round; stroke-linejoin:round; stroke-width:2; stroke-opacity:0.1; fill:none\" points=\"1458.86,1486.45 1458.86,47.2441 \"/>\n",
       "<polyline clip-path=\"url(#clip902)\" style=\"stroke:#000000; stroke-linecap:round; stroke-linejoin:round; stroke-width:2; stroke-opacity:0.1; fill:none\" points=\"1874.62,1486.45 1874.62,47.2441 \"/>\n",
       "<polyline clip-path=\"url(#clip902)\" style=\"stroke:#000000; stroke-linecap:round; stroke-linejoin:round; stroke-width:2; stroke-opacity:0.1; fill:none\" points=\"2290.39,1486.45 2290.39,47.2441 \"/>\n",
       "<polyline clip-path=\"url(#clip900)\" style=\"stroke:#000000; stroke-linecap:round; stroke-linejoin:round; stroke-width:4; stroke-opacity:1; fill:none\" points=\"149.191,1486.45 2352.76,1486.45 \"/>\n",
       "<polyline clip-path=\"url(#clip900)\" style=\"stroke:#000000; stroke-linecap:round; stroke-linejoin:round; stroke-width:4; stroke-opacity:1; fill:none\" points=\"211.556,1486.45 211.556,1467.55 \"/>\n",
       "<polyline clip-path=\"url(#clip900)\" style=\"stroke:#000000; stroke-linecap:round; stroke-linejoin:round; stroke-width:4; stroke-opacity:1; fill:none\" points=\"627.323,1486.45 627.323,1467.55 \"/>\n",
       "<polyline clip-path=\"url(#clip900)\" style=\"stroke:#000000; stroke-linecap:round; stroke-linejoin:round; stroke-width:4; stroke-opacity:1; fill:none\" points=\"1043.09,1486.45 1043.09,1467.55 \"/>\n",
       "<polyline clip-path=\"url(#clip900)\" style=\"stroke:#000000; stroke-linecap:round; stroke-linejoin:round; stroke-width:4; stroke-opacity:1; fill:none\" points=\"1458.86,1486.45 1458.86,1467.55 \"/>\n",
       "<polyline clip-path=\"url(#clip900)\" style=\"stroke:#000000; stroke-linecap:round; stroke-linejoin:round; stroke-width:4; stroke-opacity:1; fill:none\" points=\"1874.62,1486.45 1874.62,1467.55 \"/>\n",
       "<polyline clip-path=\"url(#clip900)\" style=\"stroke:#000000; stroke-linecap:round; stroke-linejoin:round; stroke-width:4; stroke-opacity:1; fill:none\" points=\"2290.39,1486.45 2290.39,1467.55 \"/>\n",
       "<path clip-path=\"url(#clip900)\" d=\"M211.556 1517.37 Q207.945 1517.37 206.116 1520.93 Q204.311 1524.47 204.311 1531.6 Q204.311 1538.71 206.116 1542.27 Q207.945 1545.82 211.556 1545.82 Q215.19 1545.82 216.996 1542.27 Q218.824 1538.71 218.824 1531.6 Q218.824 1524.47 216.996 1520.93 Q215.19 1517.37 211.556 1517.37 M211.556 1513.66 Q217.366 1513.66 220.422 1518.27 Q223.5 1522.85 223.5 1531.6 Q223.5 1540.33 220.422 1544.94 Q217.366 1549.52 211.556 1549.52 Q205.746 1549.52 202.667 1544.94 Q199.612 1540.33 199.612 1531.6 Q199.612 1522.85 202.667 1518.27 Q205.746 1513.66 211.556 1513.66 Z\" fill=\"#000000\" fill-rule=\"nonzero\" fill-opacity=\"1\" /><path clip-path=\"url(#clip900)\" d=\"M617.705 1544.91 L625.344 1544.91 L625.344 1518.55 L617.034 1520.21 L617.034 1515.95 L625.297 1514.29 L629.973 1514.29 L629.973 1544.91 L637.612 1544.91 L637.612 1548.85 L617.705 1548.85 L617.705 1544.91 Z\" fill=\"#000000\" fill-rule=\"nonzero\" fill-opacity=\"1\" /><path clip-path=\"url(#clip900)\" d=\"M1037.74 1544.91 L1054.06 1544.91 L1054.06 1548.85 L1032.12 1548.85 L1032.12 1544.91 Q1034.78 1542.16 1039.36 1537.53 Q1043.97 1532.88 1045.15 1531.53 Q1047.4 1529.01 1048.28 1527.27 Q1049.18 1525.51 1049.18 1523.82 Q1049.18 1521.07 1047.23 1519.33 Q1045.31 1517.6 1042.21 1517.6 Q1040.01 1517.6 1037.56 1518.36 Q1035.13 1519.13 1032.35 1520.68 L1032.35 1515.95 Q1035.17 1514.82 1037.63 1514.24 Q1040.08 1513.66 1042.12 1513.66 Q1047.49 1513.66 1050.68 1516.35 Q1053.88 1519.03 1053.88 1523.52 Q1053.88 1525.65 1053.07 1527.57 Q1052.28 1529.47 1050.17 1532.07 Q1049.59 1532.74 1046.49 1535.95 Q1043.39 1539.15 1037.74 1544.91 Z\" fill=\"#000000\" fill-rule=\"nonzero\" fill-opacity=\"1\" /><path clip-path=\"url(#clip900)\" d=\"M1463.1 1530.21 Q1466.46 1530.93 1468.34 1533.2 Q1470.23 1535.47 1470.23 1538.8 Q1470.23 1543.92 1466.72 1546.72 Q1463.2 1549.52 1456.72 1549.52 Q1454.54 1549.52 1452.22 1549.08 Q1449.93 1548.66 1447.48 1547.81 L1447.48 1543.29 Q1449.42 1544.43 1451.74 1545.01 Q1454.05 1545.58 1456.58 1545.58 Q1460.97 1545.58 1463.27 1543.85 Q1465.58 1542.11 1465.58 1538.8 Q1465.58 1535.75 1463.43 1534.03 Q1461.3 1532.3 1457.48 1532.3 L1453.45 1532.3 L1453.45 1528.45 L1457.66 1528.45 Q1461.11 1528.45 1462.94 1527.09 Q1464.77 1525.7 1464.77 1523.11 Q1464.77 1520.45 1462.87 1519.03 Q1461 1517.6 1457.48 1517.6 Q1455.56 1517.6 1453.36 1518.01 Q1451.16 1518.43 1448.52 1519.31 L1448.52 1515.14 Q1451.18 1514.4 1453.5 1514.03 Q1455.84 1513.66 1457.9 1513.66 Q1463.22 1513.66 1466.32 1516.09 Q1469.42 1518.5 1469.42 1522.62 Q1469.42 1525.49 1467.78 1527.48 Q1466.14 1529.45 1463.1 1530.21 Z\" fill=\"#000000\" fill-rule=\"nonzero\" fill-opacity=\"1\" /><path clip-path=\"url(#clip900)\" d=\"M1877.63 1518.36 L1865.83 1536.81 L1877.63 1536.81 L1877.63 1518.36 M1876.41 1514.29 L1882.29 1514.29 L1882.29 1536.81 L1887.22 1536.81 L1887.22 1540.7 L1882.29 1540.7 L1882.29 1548.85 L1877.63 1548.85 L1877.63 1540.7 L1862.03 1540.7 L1862.03 1536.19 L1876.41 1514.29 Z\" fill=\"#000000\" fill-rule=\"nonzero\" fill-opacity=\"1\" /><path clip-path=\"url(#clip900)\" d=\"M2280.67 1514.29 L2299.03 1514.29 L2299.03 1518.22 L2284.95 1518.22 L2284.95 1526.7 Q2285.97 1526.35 2286.99 1526.19 Q2288.01 1526 2289.03 1526 Q2294.81 1526 2298.19 1529.17 Q2301.57 1532.34 2301.57 1537.76 Q2301.57 1543.34 2298.1 1546.44 Q2294.63 1549.52 2288.31 1549.52 Q2286.13 1549.52 2283.86 1549.15 Q2281.62 1548.78 2279.21 1548.04 L2279.21 1543.34 Q2281.29 1544.47 2283.52 1545.03 Q2285.74 1545.58 2288.21 1545.58 Q2292.22 1545.58 2294.56 1543.48 Q2296.9 1541.37 2296.9 1537.76 Q2296.9 1534.15 2294.56 1532.04 Q2292.22 1529.94 2288.21 1529.94 Q2286.34 1529.94 2284.46 1530.35 Q2282.61 1530.77 2280.67 1531.65 L2280.67 1514.29 Z\" fill=\"#000000\" fill-rule=\"nonzero\" fill-opacity=\"1\" /><polyline clip-path=\"url(#clip902)\" style=\"stroke:#000000; stroke-linecap:round; stroke-linejoin:round; stroke-width:2; stroke-opacity:0.1; fill:none\" points=\"149.191,1474.37 2352.76,1474.37 \"/>\n",
       "<polyline clip-path=\"url(#clip902)\" style=\"stroke:#000000; stroke-linecap:round; stroke-linejoin:round; stroke-width:2; stroke-opacity:0.1; fill:none\" points=\"149.191,1186.61 2352.76,1186.61 \"/>\n",
       "<polyline clip-path=\"url(#clip902)\" style=\"stroke:#000000; stroke-linecap:round; stroke-linejoin:round; stroke-width:2; stroke-opacity:0.1; fill:none\" points=\"149.191,898.862 2352.76,898.862 \"/>\n",
       "<polyline clip-path=\"url(#clip902)\" style=\"stroke:#000000; stroke-linecap:round; stroke-linejoin:round; stroke-width:2; stroke-opacity:0.1; fill:none\" points=\"149.191,611.11 2352.76,611.11 \"/>\n",
       "<polyline clip-path=\"url(#clip902)\" style=\"stroke:#000000; stroke-linecap:round; stroke-linejoin:round; stroke-width:2; stroke-opacity:0.1; fill:none\" points=\"149.191,323.358 2352.76,323.358 \"/>\n",
       "<polyline clip-path=\"url(#clip900)\" style=\"stroke:#000000; stroke-linecap:round; stroke-linejoin:round; stroke-width:4; stroke-opacity:1; fill:none\" points=\"149.191,1486.45 149.191,47.2441 \"/>\n",
       "<polyline clip-path=\"url(#clip900)\" style=\"stroke:#000000; stroke-linecap:round; stroke-linejoin:round; stroke-width:4; stroke-opacity:1; fill:none\" points=\"149.191,1474.37 168.089,1474.37 \"/>\n",
       "<polyline clip-path=\"url(#clip900)\" style=\"stroke:#000000; stroke-linecap:round; stroke-linejoin:round; stroke-width:4; stroke-opacity:1; fill:none\" points=\"149.191,1186.61 168.089,1186.61 \"/>\n",
       "<polyline clip-path=\"url(#clip900)\" style=\"stroke:#000000; stroke-linecap:round; stroke-linejoin:round; stroke-width:4; stroke-opacity:1; fill:none\" points=\"149.191,898.862 168.089,898.862 \"/>\n",
       "<polyline clip-path=\"url(#clip900)\" style=\"stroke:#000000; stroke-linecap:round; stroke-linejoin:round; stroke-width:4; stroke-opacity:1; fill:none\" points=\"149.191,611.11 168.089,611.11 \"/>\n",
       "<polyline clip-path=\"url(#clip900)\" style=\"stroke:#000000; stroke-linecap:round; stroke-linejoin:round; stroke-width:4; stroke-opacity:1; fill:none\" points=\"149.191,323.358 168.089,323.358 \"/>\n",
       "<path clip-path=\"url(#clip900)\" d=\"M50.9921 1474.82 L80.6679 1474.82 L80.6679 1478.75 L50.9921 1478.75 L50.9921 1474.82 Z\" fill=\"#000000\" fill-rule=\"nonzero\" fill-opacity=\"1\" /><path clip-path=\"url(#clip900)\" d=\"M103.608 1461.16 L91.8021 1479.61 L103.608 1479.61 L103.608 1461.16 M102.381 1457.09 L108.26 1457.09 L108.26 1479.61 L113.191 1479.61 L113.191 1483.5 L108.26 1483.5 L108.26 1491.65 L103.608 1491.65 L103.608 1483.5 L88.0058 1483.5 L88.0058 1478.99 L102.381 1457.09 Z\" fill=\"#000000\" fill-rule=\"nonzero\" fill-opacity=\"1\" /><path clip-path=\"url(#clip900)\" d=\"M53.0754 1187.07 L82.7512 1187.07 L82.7512 1191 L53.0754 1191 L53.0754 1187.07 Z\" fill=\"#000000\" fill-rule=\"nonzero\" fill-opacity=\"1\" /><path clip-path=\"url(#clip900)\" d=\"M96.8715 1199.96 L113.191 1199.96 L113.191 1203.89 L91.2465 1203.89 L91.2465 1199.96 Q93.9086 1197.21 98.4919 1192.58 Q103.098 1187.92 104.279 1186.58 Q106.524 1184.06 107.404 1182.32 Q108.307 1180.56 108.307 1178.87 Q108.307 1176.12 106.362 1174.38 Q104.441 1172.65 101.339 1172.65 Q99.14 1172.65 96.6863 1173.41 Q94.2558 1174.17 91.478 1175.72 L91.478 1171 Q94.3021 1169.87 96.7558 1169.29 Q99.2095 1168.71 101.246 1168.71 Q106.617 1168.71 109.811 1171.4 Q113.006 1174.08 113.006 1178.57 Q113.006 1180.7 112.196 1182.62 Q111.408 1184.52 109.302 1187.11 Q108.723 1187.78 105.621 1191 Q102.52 1194.2 96.8715 1199.96 Z\" fill=\"#000000\" fill-rule=\"nonzero\" fill-opacity=\"1\" /><path clip-path=\"url(#clip900)\" d=\"M101.246 884.661 Q97.6354 884.661 95.8067 888.226 Q94.0012 891.768 94.0012 898.897 Q94.0012 906.004 95.8067 909.568 Q97.6354 913.11 101.246 913.11 Q104.881 913.11 106.686 909.568 Q108.515 906.004 108.515 898.897 Q108.515 891.768 106.686 888.226 Q104.881 884.661 101.246 884.661 M101.246 880.957 Q107.057 880.957 110.112 885.564 Q113.191 890.147 113.191 898.897 Q113.191 907.624 110.112 912.23 Q107.057 916.814 101.246 916.814 Q95.4363 916.814 92.3576 912.23 Q89.3021 907.624 89.3021 898.897 Q89.3021 890.147 92.3576 885.564 Q95.4363 880.957 101.246 880.957 Z\" fill=\"#000000\" fill-rule=\"nonzero\" fill-opacity=\"1\" /><path clip-path=\"url(#clip900)\" d=\"M96.8715 624.455 L113.191 624.455 L113.191 628.39 L91.2465 628.39 L91.2465 624.455 Q93.9086 621.7 98.4919 617.071 Q103.098 612.418 104.279 611.075 Q106.524 608.552 107.404 606.816 Q108.307 605.057 108.307 603.367 Q108.307 600.612 106.362 598.876 Q104.441 597.14 101.339 597.14 Q99.14 597.14 96.6863 597.904 Q94.2558 598.668 91.478 600.219 L91.478 595.497 Q94.3021 594.362 96.7558 593.784 Q99.2095 593.205 101.246 593.205 Q106.617 593.205 109.811 595.89 Q113.006 598.575 113.006 603.066 Q113.006 605.196 112.196 607.117 Q111.408 609.015 109.302 611.608 Q108.723 612.279 105.621 615.497 Q102.52 618.691 96.8715 624.455 Z\" fill=\"#000000\" fill-rule=\"nonzero\" fill-opacity=\"1\" /><path clip-path=\"url(#clip900)\" d=\"M103.608 310.152 L91.8021 328.601 L103.608 328.601 L103.608 310.152 M102.381 306.078 L108.26 306.078 L108.26 328.601 L113.191 328.601 L113.191 332.49 L108.26 332.49 L108.26 340.638 L103.608 340.638 L103.608 332.49 L88.0058 332.49 L88.0058 327.976 L102.381 306.078 Z\" fill=\"#000000\" fill-rule=\"nonzero\" fill-opacity=\"1\" /><polyline clip-path=\"url(#clip902)\" style=\"stroke:#009af9; stroke-linecap:round; stroke-linejoin:round; stroke-width:4; stroke-opacity:1; fill:none\" points=\"211.556,898.862 253.133,827.299 294.709,749.6 336.286,700.032 377.863,685.428 419.439,702.254 461.016,740.238 502.593,790.716 544.17,847.534 585.746,905.778 627.323,962.008 668.9,1014.63 710.476,1062.8 752.053,1104.8 793.63,1137.28 835.206,1155.86 876.783,1156.85 918.36,1139.56 959.936,1107.61 1001.51,1067.75 1043.09,1026.81 1084.67,989.719 1126.24,960.01 1167.82,941.834 1209.4,940.896 1250.97,956.647 1292.55,953.806 1334.13,874.115 1375.7,718.909 1417.28,540.165 1458.86,398.367 1500.43,325.317 1542.01,316.615 1583.59,353.276 1625.16,415.181 1666.74,485.259 1708.32,551.782 1749.89,608.975 1791.47,655.617 1833.05,692.894 1874.62,722.717 1916.2,746.826 1957.78,766.485 1999.35,782.515 2040.93,795.491 2082.51,806.025 2124.08,815.161 2165.66,824.97 2207.24,839.561 2248.81,866.981 2290.39,898.862 \"/>\n",
       "<polyline clip-path=\"url(#clip902)\" style=\"stroke:#e26f46; stroke-linecap:round; stroke-linejoin:round; stroke-width:4; stroke-opacity:1; fill:none\" points=\"211.556,898.862 253.133,1067.17 294.709,1254.48 336.286,1384.27 377.863,1444.49 419.439,1445.72 461.016,1411.79 502.593,1359.97 544.17,1298 585.746,1228.48 627.323,1152.57 668.9,1071.66 710.476,987.874 752.053,903.968 793.63,822.861 835.206,747.128 876.783,678.816 918.36,619.637 959.936,570.879 1001.51,532.564 1043.09,502.547 1084.67,476.201 1126.24,445.974 1167.82,399.787 1209.4,320.04 1250.97,197.735 1292.55,87.9763 1334.13,89.8071 1375.7,202.595 1417.28,376.579 1458.86,569.487 1500.43,746.578 1542.01,889.638 1583.59,996.4 1625.16,1071.64 1666.74,1121.37 1708.32,1151.18 1749.89,1166.02 1791.47,1170 1833.05,1166.27 1874.62,1157.28 1916.2,1145.02 1957.78,1131.19 1999.35,1117.26 2040.93,1104.26 2082.51,1092.37 2124.08,1080.29 2165.66,1063.95 2207.24,1034.25 2248.81,972.635 2290.39,898.862 \"/>\n",
       "<path clip-path=\"url(#clip900)\" d=\"M2006.52 250.738 L2279.3 250.738 L2279.3 95.2176 L2006.52 95.2176  Z\" fill=\"#ffffff\" fill-rule=\"evenodd\" fill-opacity=\"1\"/>\n",
       "<polyline clip-path=\"url(#clip900)\" style=\"stroke:#000000; stroke-linecap:round; stroke-linejoin:round; stroke-width:4; stroke-opacity:1; fill:none\" points=\"2006.52,250.738 2279.3,250.738 2279.3,95.2176 2006.52,95.2176 2006.52,250.738 \"/>\n",
       "<polyline clip-path=\"url(#clip900)\" style=\"stroke:#009af9; stroke-linecap:round; stroke-linejoin:round; stroke-width:4; stroke-opacity:1; fill:none\" points=\"2031,147.058 2177.91,147.058 \"/>\n",
       "<path clip-path=\"url(#clip900)\" d=\"M2216.23 166.745 Q2214.43 171.375 2212.71 172.787 Q2211 174.199 2208.13 174.199 L2204.73 174.199 L2204.73 170.634 L2207.23 170.634 Q2208.99 170.634 2209.96 169.8 Q2210.93 168.967 2212.11 165.865 L2212.88 163.921 L2202.39 138.412 L2206.9 138.412 L2215.01 158.689 L2223.11 138.412 L2227.62 138.412 L2216.23 166.745 Z\" fill=\"#000000\" fill-rule=\"nonzero\" fill-opacity=\"1\" /><path clip-path=\"url(#clip900)\" d=\"M2234.91 160.402 L2242.55 160.402 L2242.55 134.037 L2234.24 135.703 L2234.24 131.444 L2242.5 129.778 L2247.18 129.778 L2247.18 160.402 L2254.82 160.402 L2254.82 164.338 L2234.91 164.338 L2234.91 160.402 Z\" fill=\"#000000\" fill-rule=\"nonzero\" fill-opacity=\"1\" /><polyline clip-path=\"url(#clip900)\" style=\"stroke:#e26f46; stroke-linecap:round; stroke-linejoin:round; stroke-width:4; stroke-opacity:1; fill:none\" points=\"2031,198.898 2177.91,198.898 \"/>\n",
       "<path clip-path=\"url(#clip900)\" d=\"M2216.23 218.585 Q2214.43 223.215 2212.71 224.627 Q2211 226.039 2208.13 226.039 L2204.73 226.039 L2204.73 222.474 L2207.23 222.474 Q2208.99 222.474 2209.96 221.64 Q2210.93 220.807 2212.11 217.705 L2212.88 215.761 L2202.39 190.252 L2206.9 190.252 L2215.01 210.529 L2223.11 190.252 L2227.62 190.252 L2216.23 218.585 Z\" fill=\"#000000\" fill-rule=\"nonzero\" fill-opacity=\"1\" /><path clip-path=\"url(#clip900)\" d=\"M2238.13 212.242 L2254.45 212.242 L2254.45 216.178 L2232.5 216.178 L2232.5 212.242 Q2235.17 209.488 2239.75 204.858 Q2244.36 200.205 2245.54 198.863 Q2247.78 196.34 2248.66 194.604 Q2249.57 192.844 2249.57 191.155 Q2249.57 188.4 2247.62 186.664 Q2245.7 184.928 2242.6 184.928 Q2240.4 184.928 2237.94 185.692 Q2235.51 186.455 2232.74 188.006 L2232.74 183.284 Q2235.56 182.15 2238.01 181.571 Q2240.47 180.993 2242.5 180.993 Q2247.88 180.993 2251.07 183.678 Q2254.26 186.363 2254.26 190.854 Q2254.26 192.983 2253.45 194.905 Q2252.67 196.803 2250.56 199.395 Q2249.98 200.067 2246.88 203.284 Q2243.78 206.479 2238.13 212.242 Z\" fill=\"#000000\" fill-rule=\"nonzero\" fill-opacity=\"1\" /></svg>\n"
      ]
     },
     "execution_count": 19,
     "metadata": {},
     "output_type": "execute_result"
    }
   ],
   "source": [
    "plot(thist,xtraj[3,:])\n",
    "plot!(thist,xtraj[4,:])"
   ]
  },
  {
   "cell_type": "code",
   "execution_count": 20,
   "id": "1af16e64-9849-4e01-8962-1852f9e318f8",
   "metadata": {
    "scrolled": true
   },
   "outputs": [
    {
     "data": {
      "image/svg+xml": [
       "<?xml version=\"1.0\" encoding=\"utf-8\"?>\n",
       "<svg xmlns=\"http://www.w3.org/2000/svg\" xmlns:xlink=\"http://www.w3.org/1999/xlink\" width=\"600\" height=\"400\" viewBox=\"0 0 2400 1600\">\n",
       "<defs>\n",
       "  <clipPath id=\"clip940\">\n",
       "    <rect x=\"0\" y=\"0\" width=\"2400\" height=\"1600\"/>\n",
       "  </clipPath>\n",
       "</defs>\n",
       "<path clip-path=\"url(#clip940)\" d=\"M0 1600 L2400 1600 L2400 0 L0 0  Z\" fill=\"#ffffff\" fill-rule=\"evenodd\" fill-opacity=\"1\"/>\n",
       "<defs>\n",
       "  <clipPath id=\"clip941\">\n",
       "    <rect x=\"480\" y=\"0\" width=\"1681\" height=\"1600\"/>\n",
       "  </clipPath>\n",
       "</defs>\n",
       "<path clip-path=\"url(#clip940)\" d=\"M178.867 1486.45 L2352.76 1486.45 L2352.76 47.2441 L178.867 47.2441  Z\" fill=\"#ffffff\" fill-rule=\"evenodd\" fill-opacity=\"1\"/>\n",
       "<defs>\n",
       "  <clipPath id=\"clip942\">\n",
       "    <rect x=\"178\" y=\"47\" width=\"2175\" height=\"1440\"/>\n",
       "  </clipPath>\n",
       "</defs>\n",
       "<polyline clip-path=\"url(#clip942)\" style=\"stroke:#000000; stroke-linecap:round; stroke-linejoin:round; stroke-width:2; stroke-opacity:0.1; fill:none\" points=\"240.392,1486.45 240.392,47.2441 \"/>\n",
       "<polyline clip-path=\"url(#clip942)\" style=\"stroke:#000000; stroke-linecap:round; stroke-linejoin:round; stroke-width:2; stroke-opacity:0.1; fill:none\" points=\"650.56,1486.45 650.56,47.2441 \"/>\n",
       "<polyline clip-path=\"url(#clip942)\" style=\"stroke:#000000; stroke-linecap:round; stroke-linejoin:round; stroke-width:2; stroke-opacity:0.1; fill:none\" points=\"1060.73,1486.45 1060.73,47.2441 \"/>\n",
       "<polyline clip-path=\"url(#clip942)\" style=\"stroke:#000000; stroke-linecap:round; stroke-linejoin:round; stroke-width:2; stroke-opacity:0.1; fill:none\" points=\"1470.9,1486.45 1470.9,47.2441 \"/>\n",
       "<polyline clip-path=\"url(#clip942)\" style=\"stroke:#000000; stroke-linecap:round; stroke-linejoin:round; stroke-width:2; stroke-opacity:0.1; fill:none\" points=\"1881.06,1486.45 1881.06,47.2441 \"/>\n",
       "<polyline clip-path=\"url(#clip942)\" style=\"stroke:#000000; stroke-linecap:round; stroke-linejoin:round; stroke-width:2; stroke-opacity:0.1; fill:none\" points=\"2291.23,1486.45 2291.23,47.2441 \"/>\n",
       "<polyline clip-path=\"url(#clip940)\" style=\"stroke:#000000; stroke-linecap:round; stroke-linejoin:round; stroke-width:4; stroke-opacity:1; fill:none\" points=\"178.867,1486.45 2352.76,1486.45 \"/>\n",
       "<polyline clip-path=\"url(#clip940)\" style=\"stroke:#000000; stroke-linecap:round; stroke-linejoin:round; stroke-width:4; stroke-opacity:1; fill:none\" points=\"240.392,1486.45 240.392,1467.55 \"/>\n",
       "<polyline clip-path=\"url(#clip940)\" style=\"stroke:#000000; stroke-linecap:round; stroke-linejoin:round; stroke-width:4; stroke-opacity:1; fill:none\" points=\"650.56,1486.45 650.56,1467.55 \"/>\n",
       "<polyline clip-path=\"url(#clip940)\" style=\"stroke:#000000; stroke-linecap:round; stroke-linejoin:round; stroke-width:4; stroke-opacity:1; fill:none\" points=\"1060.73,1486.45 1060.73,1467.55 \"/>\n",
       "<polyline clip-path=\"url(#clip940)\" style=\"stroke:#000000; stroke-linecap:round; stroke-linejoin:round; stroke-width:4; stroke-opacity:1; fill:none\" points=\"1470.9,1486.45 1470.9,1467.55 \"/>\n",
       "<polyline clip-path=\"url(#clip940)\" style=\"stroke:#000000; stroke-linecap:round; stroke-linejoin:round; stroke-width:4; stroke-opacity:1; fill:none\" points=\"1881.06,1486.45 1881.06,1467.55 \"/>\n",
       "<polyline clip-path=\"url(#clip940)\" style=\"stroke:#000000; stroke-linecap:round; stroke-linejoin:round; stroke-width:4; stroke-opacity:1; fill:none\" points=\"2291.23,1486.45 2291.23,1467.55 \"/>\n",
       "<path clip-path=\"url(#clip940)\" d=\"M240.392 1517.37 Q236.781 1517.37 234.952 1520.93 Q233.146 1524.47 233.146 1531.6 Q233.146 1538.71 234.952 1542.27 Q236.781 1545.82 240.392 1545.82 Q244.026 1545.82 245.832 1542.27 Q247.66 1538.71 247.66 1531.6 Q247.66 1524.47 245.832 1520.93 Q244.026 1517.37 240.392 1517.37 M240.392 1513.66 Q246.202 1513.66 249.257 1518.27 Q252.336 1522.85 252.336 1531.6 Q252.336 1540.33 249.257 1544.94 Q246.202 1549.52 240.392 1549.52 Q234.582 1549.52 231.503 1544.94 Q228.447 1540.33 228.447 1531.6 Q228.447 1522.85 231.503 1518.27 Q234.582 1513.66 240.392 1513.66 Z\" fill=\"#000000\" fill-rule=\"nonzero\" fill-opacity=\"1\" /><path clip-path=\"url(#clip940)\" d=\"M640.942 1544.91 L648.58 1544.91 L648.58 1518.55 L640.27 1520.21 L640.27 1515.95 L648.534 1514.29 L653.21 1514.29 L653.21 1544.91 L660.849 1544.91 L660.849 1548.85 L640.942 1548.85 L640.942 1544.91 Z\" fill=\"#000000\" fill-rule=\"nonzero\" fill-opacity=\"1\" /><path clip-path=\"url(#clip940)\" d=\"M1055.38 1544.91 L1071.7 1544.91 L1071.7 1548.85 L1049.76 1548.85 L1049.76 1544.91 Q1052.42 1542.16 1057 1537.53 Q1061.61 1532.88 1062.79 1531.53 Q1065.03 1529.01 1065.91 1527.27 Q1066.82 1525.51 1066.82 1523.82 Q1066.82 1521.07 1064.87 1519.33 Q1062.95 1517.6 1059.85 1517.6 Q1057.65 1517.6 1055.19 1518.36 Q1052.76 1519.13 1049.99 1520.68 L1049.99 1515.95 Q1052.81 1514.82 1055.26 1514.24 Q1057.72 1513.66 1059.76 1513.66 Q1065.13 1513.66 1068.32 1516.35 Q1071.51 1519.03 1071.51 1523.52 Q1071.51 1525.65 1070.7 1527.57 Q1069.92 1529.47 1067.81 1532.07 Q1067.23 1532.74 1064.13 1535.95 Q1061.03 1539.15 1055.38 1544.91 Z\" fill=\"#000000\" fill-rule=\"nonzero\" fill-opacity=\"1\" /><path clip-path=\"url(#clip940)\" d=\"M1475.14 1530.21 Q1478.5 1530.93 1480.37 1533.2 Q1482.27 1535.47 1482.27 1538.8 Q1482.27 1543.92 1478.75 1546.72 Q1475.24 1549.52 1468.75 1549.52 Q1466.58 1549.52 1464.26 1549.08 Q1461.97 1548.66 1459.52 1547.81 L1459.52 1543.29 Q1461.46 1544.43 1463.78 1545.01 Q1466.09 1545.58 1468.62 1545.58 Q1473.01 1545.58 1475.3 1543.85 Q1477.62 1542.11 1477.62 1538.8 Q1477.62 1535.75 1475.47 1534.03 Q1473.34 1532.3 1469.52 1532.3 L1465.49 1532.3 L1465.49 1528.45 L1469.7 1528.45 Q1473.15 1528.45 1474.98 1527.09 Q1476.81 1525.7 1476.81 1523.11 Q1476.81 1520.45 1474.91 1519.03 Q1473.04 1517.6 1469.52 1517.6 Q1467.6 1517.6 1465.4 1518.01 Q1463.2 1518.43 1460.56 1519.31 L1460.56 1515.14 Q1463.22 1514.4 1465.54 1514.03 Q1467.87 1513.66 1469.93 1513.66 Q1475.26 1513.66 1478.36 1516.09 Q1481.46 1518.5 1481.46 1522.62 Q1481.46 1525.49 1479.82 1527.48 Q1478.18 1529.45 1475.14 1530.21 Z\" fill=\"#000000\" fill-rule=\"nonzero\" fill-opacity=\"1\" /><path clip-path=\"url(#clip940)\" d=\"M1884.07 1518.36 L1872.27 1536.81 L1884.07 1536.81 L1884.07 1518.36 M1882.85 1514.29 L1888.72 1514.29 L1888.72 1536.81 L1893.66 1536.81 L1893.66 1540.7 L1888.72 1540.7 L1888.72 1548.85 L1884.07 1548.85 L1884.07 1540.7 L1868.47 1540.7 L1868.47 1536.19 L1882.85 1514.29 Z\" fill=\"#000000\" fill-rule=\"nonzero\" fill-opacity=\"1\" /><path clip-path=\"url(#clip940)\" d=\"M2281.51 1514.29 L2299.86 1514.29 L2299.86 1518.22 L2285.79 1518.22 L2285.79 1526.7 Q2286.81 1526.35 2287.83 1526.19 Q2288.85 1526 2289.87 1526 Q2295.65 1526 2299.03 1529.17 Q2302.41 1532.34 2302.41 1537.76 Q2302.41 1543.34 2298.94 1546.44 Q2295.47 1549.52 2289.15 1549.52 Q2286.97 1549.52 2284.7 1549.15 Q2282.46 1548.78 2280.05 1548.04 L2280.05 1543.34 Q2282.13 1544.47 2284.36 1545.03 Q2286.58 1545.58 2289.05 1545.58 Q2293.06 1545.58 2295.4 1543.48 Q2297.74 1541.37 2297.74 1537.76 Q2297.74 1534.15 2295.4 1532.04 Q2293.06 1529.94 2289.05 1529.94 Q2287.18 1529.94 2285.3 1530.35 Q2283.45 1530.77 2281.51 1531.65 L2281.51 1514.29 Z\" fill=\"#000000\" fill-rule=\"nonzero\" fill-opacity=\"1\" /><polyline clip-path=\"url(#clip942)\" style=\"stroke:#000000; stroke-linecap:round; stroke-linejoin:round; stroke-width:2; stroke-opacity:0.1; fill:none\" points=\"178.867,1258.79 2352.76,1258.79 \"/>\n",
       "<polyline clip-path=\"url(#clip942)\" style=\"stroke:#000000; stroke-linecap:round; stroke-linejoin:round; stroke-width:2; stroke-opacity:0.1; fill:none\" points=\"178.867,867.251 2352.76,867.251 \"/>\n",
       "<polyline clip-path=\"url(#clip942)\" style=\"stroke:#000000; stroke-linecap:round; stroke-linejoin:round; stroke-width:2; stroke-opacity:0.1; fill:none\" points=\"178.867,475.711 2352.76,475.711 \"/>\n",
       "<polyline clip-path=\"url(#clip942)\" style=\"stroke:#000000; stroke-linecap:round; stroke-linejoin:round; stroke-width:2; stroke-opacity:0.1; fill:none\" points=\"178.867,84.1704 2352.76,84.1704 \"/>\n",
       "<polyline clip-path=\"url(#clip940)\" style=\"stroke:#000000; stroke-linecap:round; stroke-linejoin:round; stroke-width:4; stroke-opacity:1; fill:none\" points=\"178.867,1486.45 178.867,47.2441 \"/>\n",
       "<polyline clip-path=\"url(#clip940)\" style=\"stroke:#000000; stroke-linecap:round; stroke-linejoin:round; stroke-width:4; stroke-opacity:1; fill:none\" points=\"178.867,1258.79 197.764,1258.79 \"/>\n",
       "<polyline clip-path=\"url(#clip940)\" style=\"stroke:#000000; stroke-linecap:round; stroke-linejoin:round; stroke-width:4; stroke-opacity:1; fill:none\" points=\"178.867,867.251 197.764,867.251 \"/>\n",
       "<polyline clip-path=\"url(#clip940)\" style=\"stroke:#000000; stroke-linecap:round; stroke-linejoin:round; stroke-width:4; stroke-opacity:1; fill:none\" points=\"178.867,475.711 197.764,475.711 \"/>\n",
       "<polyline clip-path=\"url(#clip940)\" style=\"stroke:#000000; stroke-linecap:round; stroke-linejoin:round; stroke-width:4; stroke-opacity:1; fill:none\" points=\"178.867,84.1704 197.764,84.1704 \"/>\n",
       "<path clip-path=\"url(#clip940)\" d=\"M50.9921 1259.24 L80.6679 1259.24 L80.6679 1263.18 L50.9921 1263.18 L50.9921 1259.24 Z\" fill=\"#000000\" fill-rule=\"nonzero\" fill-opacity=\"1\" /><path clip-path=\"url(#clip940)\" d=\"M91.5706 1272.14 L99.2095 1272.14 L99.2095 1245.77 L90.8993 1247.44 L90.8993 1243.18 L99.1632 1241.51 L103.839 1241.51 L103.839 1272.14 L111.478 1272.14 L111.478 1276.07 L91.5706 1276.07 L91.5706 1272.14 Z\" fill=\"#000000\" fill-rule=\"nonzero\" fill-opacity=\"1\" /><path clip-path=\"url(#clip940)\" d=\"M130.922 1244.59 Q127.311 1244.59 125.482 1248.16 Q123.677 1251.7 123.677 1258.83 Q123.677 1265.93 125.482 1269.5 Q127.311 1273.04 130.922 1273.04 Q134.556 1273.04 136.362 1269.5 Q138.191 1265.93 138.191 1258.83 Q138.191 1251.7 136.362 1248.16 Q134.556 1244.59 130.922 1244.59 M130.922 1240.89 Q136.732 1240.89 139.788 1245.49 Q142.867 1250.08 142.867 1258.83 Q142.867 1267.55 139.788 1272.16 Q136.732 1276.74 130.922 1276.74 Q125.112 1276.74 122.033 1272.16 Q118.978 1267.55 118.978 1258.83 Q118.978 1250.08 122.033 1245.49 Q125.112 1240.89 130.922 1240.89 Z\" fill=\"#000000\" fill-rule=\"nonzero\" fill-opacity=\"1\" /><path clip-path=\"url(#clip940)\" d=\"M130.922 853.05 Q127.311 853.05 125.482 856.615 Q123.677 860.156 123.677 867.286 Q123.677 874.392 125.482 877.957 Q127.311 881.499 130.922 881.499 Q134.556 881.499 136.362 877.957 Q138.191 874.392 138.191 867.286 Q138.191 860.156 136.362 856.615 Q134.556 853.05 130.922 853.05 M130.922 849.346 Q136.732 849.346 139.788 853.953 Q142.867 858.536 142.867 867.286 Q142.867 876.013 139.788 880.619 Q136.732 885.203 130.922 885.203 Q125.112 885.203 122.033 880.619 Q118.978 876.013 118.978 867.286 Q118.978 858.536 122.033 853.953 Q125.112 849.346 130.922 849.346 Z\" fill=\"#000000\" fill-rule=\"nonzero\" fill-opacity=\"1\" /><path clip-path=\"url(#clip940)\" d=\"M91.5706 489.056 L99.2095 489.056 L99.2095 462.69 L90.8993 464.357 L90.8993 460.097 L99.1632 458.431 L103.839 458.431 L103.839 489.056 L111.478 489.056 L111.478 492.991 L91.5706 492.991 L91.5706 489.056 Z\" fill=\"#000000\" fill-rule=\"nonzero\" fill-opacity=\"1\" /><path clip-path=\"url(#clip940)\" d=\"M130.922 461.509 Q127.311 461.509 125.482 465.074 Q123.677 468.616 123.677 475.746 Q123.677 482.852 125.482 486.417 Q127.311 489.958 130.922 489.958 Q134.556 489.958 136.362 486.417 Q138.191 482.852 138.191 475.746 Q138.191 468.616 136.362 465.074 Q134.556 461.509 130.922 461.509 M130.922 457.806 Q136.732 457.806 139.788 462.412 Q142.867 466.996 142.867 475.746 Q142.867 484.472 139.788 489.079 Q136.732 493.662 130.922 493.662 Q125.112 493.662 122.033 489.079 Q118.978 484.472 118.978 475.746 Q118.978 466.996 122.033 462.412 Q125.112 457.806 130.922 457.806 Z\" fill=\"#000000\" fill-rule=\"nonzero\" fill-opacity=\"1\" /><path clip-path=\"url(#clip940)\" d=\"M94.7882 97.5152 L111.108 97.5152 L111.108 101.45 L89.1632 101.45 L89.1632 97.5152 Q91.8252 94.7606 96.4085 90.131 Q101.015 85.4782 102.196 84.1357 Q104.441 81.6125 105.321 79.8764 Q106.223 78.1172 106.223 76.4274 Q106.223 73.6727 104.279 71.9366 Q102.358 70.2005 99.2558 70.2005 Q97.0567 70.2005 94.603 70.9644 Q92.1725 71.7283 89.3947 73.2792 L89.3947 68.557 Q92.2188 67.4228 94.6724 66.8441 Q97.1261 66.2654 99.1632 66.2654 Q104.534 66.2654 107.728 68.9505 Q110.922 71.6357 110.922 76.1264 Q110.922 78.2561 110.112 80.1773 Q109.325 82.0755 107.219 84.6681 Q106.64 85.3394 103.538 88.5569 Q100.436 91.7514 94.7882 97.5152 Z\" fill=\"#000000\" fill-rule=\"nonzero\" fill-opacity=\"1\" /><path clip-path=\"url(#clip940)\" d=\"M130.922 69.9691 Q127.311 69.9691 125.482 73.5339 Q123.677 77.0755 123.677 84.2051 Q123.677 91.3115 125.482 94.8763 Q127.311 98.418 130.922 98.418 Q134.556 98.418 136.362 94.8763 Q138.191 91.3115 138.191 84.2051 Q138.191 77.0755 136.362 73.5339 Q134.556 69.9691 130.922 69.9691 M130.922 66.2654 Q136.732 66.2654 139.788 70.8718 Q142.867 75.4551 142.867 84.2051 Q142.867 92.9319 139.788 97.5384 Q136.732 102.122 130.922 102.122 Q125.112 102.122 122.033 97.5384 Q118.978 92.9319 118.978 84.2051 Q118.978 75.4551 122.033 70.8718 Q125.112 66.2654 130.922 66.2654 Z\" fill=\"#000000\" fill-rule=\"nonzero\" fill-opacity=\"1\" /><polyline clip-path=\"url(#clip942)\" style=\"stroke:#009af9; stroke-linecap:round; stroke-linejoin:round; stroke-width:4; stroke-opacity:1; fill:none\" points=\"240.392,1103.57 281.409,1344.18 322.425,1376.8 363.442,1423.59 404.459,1445.72 445.476,1426.85 486.492,1374.98 527.509,1302.61 568.526,1217.38 609.543,1123.63 650.56,1025.29 691.576,926.956 732.593,833.803 773.61,750.986 814.627,683.037 855.643,633.495 896.66,604.951 937.677,599.085 978.694,615.772 1019.71,651.214 1060.73,696.528 1101.74,737.506 1142.76,754.561 1183.78,722.117 1224.79,610.117 1265.81,405.41 1306.83,181.937 1347.84,87.9763 1388.86,176.079 1429.88,384.648 1470.9,639.931 1511.91,883.74 1552.93,1081.56 1593.95,1221.85 1634.96,1306.73 1675.98,1344.62 1717,1346.8 1758.01,1325.1 1799.03,1289.78 1840.05,1248.36 1881.06,1205.64 1922.08,1164.28 1963.1,1125.46 2004.11,1089.31 2045.13,1055.05 2086.15,1020.8 2127.16,982.784 2168.18,933.776 2209.2,860.005 2250.21,735.18 2291.23,739.589 \"/>\n",
       "<path clip-path=\"url(#clip940)\" d=\"M2010.47 198.898 L2280.29 198.898 L2280.29 95.2176 L2010.47 95.2176  Z\" fill=\"#ffffff\" fill-rule=\"evenodd\" fill-opacity=\"1\"/>\n",
       "<polyline clip-path=\"url(#clip940)\" style=\"stroke:#000000; stroke-linecap:round; stroke-linejoin:round; stroke-width:4; stroke-opacity:1; fill:none\" points=\"2010.47,198.898 2280.29,198.898 2280.29,95.2176 2010.47,95.2176 2010.47,198.898 \"/>\n",
       "<polyline clip-path=\"url(#clip940)\" style=\"stroke:#009af9; stroke-linecap:round; stroke-linejoin:round; stroke-width:4; stroke-opacity:1; fill:none\" points=\"2034.63,147.058 2179.55,147.058 \"/>\n",
       "<path clip-path=\"url(#clip940)\" d=\"M2217.55 166.745 Q2215.75 171.375 2214.03 172.787 Q2212.32 174.199 2209.45 174.199 L2206.05 174.199 L2206.05 170.634 L2208.55 170.634 Q2210.31 170.634 2211.28 169.8 Q2212.25 168.967 2213.43 165.865 L2214.19 163.921 L2203.71 138.412 L2208.22 138.412 L2216.32 158.689 L2224.43 138.412 L2228.94 138.412 L2217.55 166.745 Z\" fill=\"#000000\" fill-rule=\"nonzero\" fill-opacity=\"1\" /><path clip-path=\"url(#clip940)\" d=\"M2236.23 160.402 L2243.87 160.402 L2243.87 134.037 L2235.56 135.703 L2235.56 131.444 L2243.82 129.778 L2248.5 129.778 L2248.5 160.402 L2256.14 160.402 L2256.14 164.338 L2236.23 164.338 L2236.23 160.402 Z\" fill=\"#000000\" fill-rule=\"nonzero\" fill-opacity=\"1\" /></svg>\n"
      ]
     },
     "execution_count": 20,
     "metadata": {},
     "output_type": "execute_result"
    }
   ],
   "source": [
    "plot(thist,utraj[1,:])"
   ]
  },
  {
   "cell_type": "code",
   "execution_count": 21,
   "id": "581e3d39-d182-492e-aff0-fbd441ef8006",
   "metadata": {},
   "outputs": [
    {
     "name": "stderr",
     "output_type": "stream",
     "text": [
      "\u001b[36m\u001b[1m┌ \u001b[22m\u001b[39m\u001b[36m\u001b[1mInfo: \u001b[22m\u001b[39mMeshCat server started. You can open the visualizer by visiting the following URL in your browser:\n",
      "\u001b[36m\u001b[1m└ \u001b[22m\u001b[39mhttp://127.0.0.1:8700\n"
     ]
    },
    {
     "data": {
      "text/html": [
       "    <div style=\"height: 500px; width: 100%; overflow-x: auto; overflow-y: hidden; resize: both\">\n",
       "    <iframe src=\"http://127.0.0.1:8700\" style=\"width: 100%; height: 100%; border: none\"></iframe>\n",
       "    </div>\n"
      ],
      "text/plain": [
       "MeshCat.DisplayedVisualizer(MeshCat.CoreVisualizer(MeshCat.SceneTrees.SceneNode(nothing, nothing, Dict{String, Vector{UInt8}}(), nothing, Dict{String, MeshCat.SceneTrees.SceneNode}()), Set{Any}(), ip\"127.0.0.1\", 8700))"
      ]
     },
     "execution_count": 21,
     "metadata": {},
     "output_type": "execute_result"
    }
   ],
   "source": [
    "using TrajOptPlots\n",
    "using MeshCat\n",
    "using StaticArrays\n",
    "\n",
    "vis = Visualizer()\n",
    "render(vis)"
   ]
  },
  {
   "cell_type": "code",
   "execution_count": 22,
   "id": "fc175615-4a67-4be5-bd7d-600b7bd1846f",
   "metadata": {},
   "outputs": [
    {
     "data": {
      "text/plain": [
       "MeshCat Visualizer with path /meshcat/robot/link1/joint at http://127.0.0.1:8700"
      ]
     },
     "execution_count": 22,
     "metadata": {},
     "output_type": "execute_result"
    }
   ],
   "source": [
    "TrajOptPlots.set_mesh!(vis, a)"
   ]
  },
  {
   "cell_type": "code",
   "execution_count": 23,
   "id": "71374f09-41e3-4f2e-8552-15f97dc13e32",
   "metadata": {},
   "outputs": [],
   "source": [
    "X1 = [SVector{4}(x) for x in eachcol(xtraj)];\n",
    "visualize!(vis, a, thist[end], X1)"
   ]
  },
  {
   "cell_type": "markdown",
   "id": "3e883d36-670a-42e6-b9c6-4409fe381781",
   "metadata": {},
   "source": [
    "## Case2 - Warm Start with Pre-trained Traj + Noise"
   ]
  },
  {
   "cell_type": "code",
   "execution_count": 14,
   "id": "2d862604-3367-4d6c-bf5b-9206ea054b18",
   "metadata": {},
   "outputs": [
    {
     "data": {
      "text/plain": [
       "5×51 Matrix{Float64}:\n",
       " -1.75573  -1.66394  -1.55227  -1.57471  …  -1.41021  -1.35497  -1.50593\n",
       "  0.0       0.0       0.0       0.0          0.0       0.0       0.0\n",
       "  0.0       0.0       0.0       0.0          0.0       0.0       0.0\n",
       "  0.0       0.0       0.0       0.0          0.0       0.0       0.0\n",
       "  0.0       0.0       0.0       0.0          0.0       0.0       0.0"
      ]
     },
     "execution_count": 14,
     "metadata": {},
     "output_type": "execute_result"
    }
   ],
   "source": [
    "xguess = kron(ones(Nt)', x0)\n",
    "xguess[1,:] .= xtraj_opt[1,:] + 0.1*randn(Nt)\n",
    "z0 = reshape([xguess; uguess], Nx+Nu, Nt)"
   ]
  },
  {
   "cell_type": "code",
   "execution_count": 15,
   "id": "c457fdd3-e3f6-4a6f-83e8-0337696a259c",
   "metadata": {},
   "outputs": [
    {
     "name": "stdout",
     "output_type": "stream",
     "text": [
      "\n",
      "******************************************************************************\n",
      "This program contains Ipopt, a library for large-scale nonlinear optimization.\n",
      " Ipopt is released as open source code under the Eclipse Public License (EPL).\n",
      "         For more information visit https://github.com/coin-or/Ipopt\n",
      "******************************************************************************\n",
      "\n",
      "This is Ipopt version 3.13.4, running with linear solver mumps.\n",
      "NOTE: Other linear solvers might be more efficient (see Ipopt documentation).\n",
      "\n",
      "Number of nonzeros in equality constraint Jacobian...:    53040\n",
      "Number of nonzeros in inequality constraint Jacobian.:        0\n",
      "Number of nonzeros in Lagrangian Hessian.............:        0\n",
      "\n",
      "Total number of variables............................:      255\n",
      "                     variables with only lower bounds:        0\n",
      "                variables with lower and upper bounds:        0\n",
      "                     variables with only upper bounds:        0\n",
      "Total number of equality constraints.................:      208\n",
      "Total number of inequality constraints...............:        0\n",
      "        inequality constraints with only lower bounds:        0\n",
      "   inequality constraints with lower and upper bounds:        0\n",
      "        inequality constraints with only upper bounds:        0\n",
      "\n",
      "iter    objective    inf_pr   inf_du lg(mu)  ||d||  lg(rg) alpha_du alpha_pr  ls\n",
      "   0  2.5580631e+02 6.14e+00 2.12e-01   0.0 0.00e+00    -  0.00e+00 0.00e+00   0\n",
      "   1  3.7566765e+02 5.37e+00 3.93e+01 -11.0 4.57e+01    -  1.00e+00 1.25e-01h  4\n",
      "   2  4.4529824e+02 5.04e+00 6.50e+01 -11.0 2.63e+01    -  1.00e+00 6.25e-02h  5\n",
      "   3  5.6196461e+02 4.41e+00 1.32e+02 -11.0 2.02e+01    -  1.00e+00 1.25e-01h  4\n",
      "   4  7.6494523e+02 4.83e+00 2.74e+02 -11.0 1.76e+01    -  1.00e+00 2.50e-01h  3\n",
      "   5  9.3278417e+02 3.45e+00 3.28e+02 -11.0 2.07e+01    -  1.00e+00 2.50e-01h  3\n",
      "   6  1.0111976e+03 2.56e+00 3.01e+02 -11.0 1.25e+01    -  1.00e+00 2.50e-01h  3\n",
      "   7  9.7534457e+02 6.49e+00 3.38e+02 -11.0 1.30e+01    -  1.00e+00 2.50e-01f  3\n",
      "   8  9.7769502e+02 5.72e+00 3.42e+02 -11.0 1.25e+01    -  1.00e+00 1.25e-01h  4\n",
      "   9  9.6057196e+02 6.86e+00 3.35e+02 -11.0 1.49e+01    -  1.00e+00 1.25e-01f  4\n",
      "iter    objective    inf_pr   inf_du lg(mu)  ||d||  lg(rg) alpha_du alpha_pr  ls\n",
      "  10  9.3254523e+02 1.05e+01 3.35e+02 -11.0 2.16e+01    -  1.00e+00 1.25e-01f  4\n",
      "  11  2.0919472e+03 2.19e+02 1.35e+02 -11.0 1.97e+01    -  1.00e+00 1.00e+00w  1\n",
      "  12  3.2622235e+03 2.76e+02 1.33e+03 -11.0 3.74e+01    -  1.00e+00 1.00e+00w  1\n",
      "  13  7.8917988e+03 5.16e+02 1.87e+03 -11.0 7.49e+01    -  1.00e+00 1.00e+00w  1\n",
      "  14  9.1570012e+02 1.57e+01 3.24e+02 -11.0 5.17e+01    -  1.00e+00 1.25e-01f  3\n",
      "  15  9.3155350e+02 1.05e+01 2.75e+02 -11.0 2.24e+01    -  1.00e+00 2.50e-01h  3\n",
      "  16  9.6669105e+02 1.03e+01 2.47e+02 -11.0 2.90e+01    -  1.00e+00 2.50e-01h  3\n",
      "  17  9.9735716e+02 9.50e+00 2.13e+02 -11.0 1.72e+01    -  1.00e+00 2.50e-01h  3\n",
      "  18  1.2021959e+03 1.06e+01 2.87e+02 -11.0 1.11e+01    -  1.00e+00 1.00e+00H  1\n",
      "  19  1.0364330e+03 6.56e+00 1.49e+01 -11.0 4.08e+00    -  1.00e+00 1.00e+00f  1\n",
      "iter    objective    inf_pr   inf_du lg(mu)  ||d||  lg(rg) alpha_du alpha_pr  ls\n",
      "  20  7.7169843e+02 6.14e+00 3.32e+01 -11.0 1.85e+01    -  1.00e+00 1.00e+00F  1\n",
      "  21  7.6317057e+02 3.43e+00 1.81e+01 -11.0 8.37e+00    -  1.00e+00 1.00e+00f  1\n",
      "  22  7.4332686e+02 1.93e+00 1.34e+01 -11.0 1.10e+01    -  1.00e+00 1.00e+00f  1\n",
      "  23  7.3052783e+02 1.61e+01 2.48e+01 -11.0 4.29e+00    -  1.00e+00 1.00e+00f  1\n",
      "  24  7.2621029e+02 1.15e+01 2.50e+01 -11.0 1.28e+01    -  1.00e+00 2.50e-01f  3\n",
      "  25  7.0698478e+02 9.04e-01 9.66e+00 -11.0 4.08e+00    -  1.00e+00 1.00e+00f  1\n",
      "  26  7.0744110e+02 2.51e-01 5.89e+00 -11.0 2.45e+00    -  1.00e+00 1.00e+00h  1\n",
      "  27  7.0609814e+02 9.91e-03 1.48e+00 -11.0 8.89e-01    -  1.00e+00 1.00e+00h  1\n",
      "  28  7.0607450e+02 4.77e-03 7.90e-01 -11.0 3.06e-01    -  1.00e+00 1.00e+00h  1\n",
      "  29  7.0602737e+02 1.95e-04 5.44e-01 -11.0 3.98e-01    -  1.00e+00 1.00e+00H  1\n",
      "iter    objective    inf_pr   inf_du lg(mu)  ||d||  lg(rg) alpha_du alpha_pr  ls\n",
      "  30  7.0603083e+02 1.61e-05 6.83e-01 -11.0 4.29e-01    -  1.00e+00 1.00e+00H  1\n",
      "  31  7.0602743e+02 1.21e-05 2.88e-01 -11.0 1.73e-01    -  1.00e+00 1.00e+00H  1\n",
      "  32  7.0602577e+02 1.18e-05 1.59e-01 -11.0 8.28e-02    -  1.00e+00 1.00e+00H  1\n",
      "  33  7.0602464e+02 4.41e-04 2.15e-02 -11.0 2.50e-02    -  1.00e+00 1.00e+00h  1\n",
      "  34  7.0602477e+02 6.50e-07 5.03e-03 -11.0 2.55e-03    -  1.00e+00 1.00e+00h  1\n",
      "  35  7.0602477e+02 1.01e-08 3.71e-05 -11.0 9.54e-04    -  1.00e+00 1.00e+00h  1\n",
      "  36  7.0602477e+02 7.72e-09 1.75e-05 -11.0 4.50e-04    -  1.00e+00 1.00e+00h  1\n",
      "  37  7.0602477e+02 1.29e-09 4.81e-06 -11.0 1.40e-04    -  1.00e+00 1.00e+00h  1\n",
      "  38  7.0602477e+02 5.13e-11 3.34e-07 -11.0 5.18e-05    -  1.00e+00 1.00e+00h  1\n",
      "\n",
      "Number of Iterations....: 38\n",
      "\n",
      "                                   (scaled)                 (unscaled)\n",
      "Objective...............:   7.0602477170178236e+02    7.0602477170178236e+02\n",
      "Dual infeasibility......:   3.3444739466759188e-07    3.3444739466759188e-07\n",
      "Constraint violation....:   5.1274262613532073e-11    5.1274262613532073e-11\n",
      "Complementarity.........:   0.0000000000000000e+00    0.0000000000000000e+00\n",
      "Overall NLP error.......:   3.3444739466759188e-07    3.3444739466759188e-07\n",
      "\n",
      "\n",
      "Number of objective function evaluations             = 101\n",
      "Number of objective gradient evaluations             = 39\n",
      "Number of equality constraint evaluations            = 101\n",
      "Number of inequality constraint evaluations          = 0\n",
      "Number of equality constraint Jacobian evaluations   = 39\n",
      "Number of inequality constraint Jacobian evaluations = 0\n",
      "Number of Lagrangian Hessian evaluations             = 0\n",
      "Total CPU secs in IPOPT (w/o function evaluations)   =      3.352\n",
      "Total CPU secs in NLP function evaluations           =      0.896\n",
      "\n",
      "EXIT: Optimal Solution Found.\n"
     ]
    }
   ],
   "source": [
    "prob = ProblemMOI(n_nlp,m_nlp)\n",
    "\n",
    "# solve\n",
    "z_sol = solve(z0,prob)\n",
    "\n",
    "# reshape\n",
    "ztraj = reshape(z_sol,Nx+Nu,Nt)\n",
    "xtraj = ztraj[1:Nx,:]\n",
    "utraj = ztraj[(Nx+1):(Nx+Nu),:];"
   ]
  },
  {
   "cell_type": "code",
   "execution_count": 28,
   "id": "bc5ac84c-ad58-4c99-b43b-f8bdf55af3e5",
   "metadata": {},
   "outputs": [
    {
     "data": {
      "image/svg+xml": [
       "<?xml version=\"1.0\" encoding=\"utf-8\"?>\n",
       "<svg xmlns=\"http://www.w3.org/2000/svg\" xmlns:xlink=\"http://www.w3.org/1999/xlink\" width=\"600\" height=\"400\" viewBox=\"0 0 2400 1600\">\n",
       "<defs>\n",
       "  <clipPath id=\"clip740\">\n",
       "    <rect x=\"0\" y=\"0\" width=\"2400\" height=\"1600\"/>\n",
       "  </clipPath>\n",
       "</defs>\n",
       "<path clip-path=\"url(#clip740)\" d=\"M0 1600 L2400 1600 L2400 0 L0 0  Z\" fill=\"#ffffff\" fill-rule=\"evenodd\" fill-opacity=\"1\"/>\n",
       "<defs>\n",
       "  <clipPath id=\"clip741\">\n",
       "    <rect x=\"480\" y=\"0\" width=\"1681\" height=\"1600\"/>\n",
       "  </clipPath>\n",
       "</defs>\n",
       "<path clip-path=\"url(#clip740)\" d=\"M148.057 1486.45 L2352.76 1486.45 L2352.76 47.2441 L148.057 47.2441  Z\" fill=\"#ffffff\" fill-rule=\"evenodd\" fill-opacity=\"1\"/>\n",
       "<defs>\n",
       "  <clipPath id=\"clip742\">\n",
       "    <rect x=\"148\" y=\"47\" width=\"2206\" height=\"1440\"/>\n",
       "  </clipPath>\n",
       "</defs>\n",
       "<polyline clip-path=\"url(#clip742)\" style=\"stroke:#000000; stroke-linecap:round; stroke-linejoin:round; stroke-width:2; stroke-opacity:0.1; fill:none\" points=\"210.454,1486.45 210.454,47.2441 \"/>\n",
       "<polyline clip-path=\"url(#clip742)\" style=\"stroke:#000000; stroke-linecap:round; stroke-linejoin:round; stroke-width:2; stroke-opacity:0.1; fill:none\" points=\"626.435,1486.45 626.435,47.2441 \"/>\n",
       "<polyline clip-path=\"url(#clip742)\" style=\"stroke:#000000; stroke-linecap:round; stroke-linejoin:round; stroke-width:2; stroke-opacity:0.1; fill:none\" points=\"1042.42,1486.45 1042.42,47.2441 \"/>\n",
       "<polyline clip-path=\"url(#clip742)\" style=\"stroke:#000000; stroke-linecap:round; stroke-linejoin:round; stroke-width:2; stroke-opacity:0.1; fill:none\" points=\"1458.4,1486.45 1458.4,47.2441 \"/>\n",
       "<polyline clip-path=\"url(#clip742)\" style=\"stroke:#000000; stroke-linecap:round; stroke-linejoin:round; stroke-width:2; stroke-opacity:0.1; fill:none\" points=\"1874.38,1486.45 1874.38,47.2441 \"/>\n",
       "<polyline clip-path=\"url(#clip742)\" style=\"stroke:#000000; stroke-linecap:round; stroke-linejoin:round; stroke-width:2; stroke-opacity:0.1; fill:none\" points=\"2290.36,1486.45 2290.36,47.2441 \"/>\n",
       "<polyline clip-path=\"url(#clip740)\" style=\"stroke:#000000; stroke-linecap:round; stroke-linejoin:round; stroke-width:4; stroke-opacity:1; fill:none\" points=\"148.057,1486.45 2352.76,1486.45 \"/>\n",
       "<polyline clip-path=\"url(#clip740)\" style=\"stroke:#000000; stroke-linecap:round; stroke-linejoin:round; stroke-width:4; stroke-opacity:1; fill:none\" points=\"210.454,1486.45 210.454,1467.55 \"/>\n",
       "<polyline clip-path=\"url(#clip740)\" style=\"stroke:#000000; stroke-linecap:round; stroke-linejoin:round; stroke-width:4; stroke-opacity:1; fill:none\" points=\"626.435,1486.45 626.435,1467.55 \"/>\n",
       "<polyline clip-path=\"url(#clip740)\" style=\"stroke:#000000; stroke-linecap:round; stroke-linejoin:round; stroke-width:4; stroke-opacity:1; fill:none\" points=\"1042.42,1486.45 1042.42,1467.55 \"/>\n",
       "<polyline clip-path=\"url(#clip740)\" style=\"stroke:#000000; stroke-linecap:round; stroke-linejoin:round; stroke-width:4; stroke-opacity:1; fill:none\" points=\"1458.4,1486.45 1458.4,1467.55 \"/>\n",
       "<polyline clip-path=\"url(#clip740)\" style=\"stroke:#000000; stroke-linecap:round; stroke-linejoin:round; stroke-width:4; stroke-opacity:1; fill:none\" points=\"1874.38,1486.45 1874.38,1467.55 \"/>\n",
       "<polyline clip-path=\"url(#clip740)\" style=\"stroke:#000000; stroke-linecap:round; stroke-linejoin:round; stroke-width:4; stroke-opacity:1; fill:none\" points=\"2290.36,1486.45 2290.36,1467.55 \"/>\n",
       "<path clip-path=\"url(#clip740)\" d=\"M210.454 1517.37 Q206.843 1517.37 205.014 1520.93 Q203.208 1524.47 203.208 1531.6 Q203.208 1538.71 205.014 1542.27 Q206.843 1545.82 210.454 1545.82 Q214.088 1545.82 215.894 1542.27 Q217.722 1538.71 217.722 1531.6 Q217.722 1524.47 215.894 1520.93 Q214.088 1517.37 210.454 1517.37 M210.454 1513.66 Q216.264 1513.66 219.319 1518.27 Q222.398 1522.85 222.398 1531.6 Q222.398 1540.33 219.319 1544.94 Q216.264 1549.52 210.454 1549.52 Q204.644 1549.52 201.565 1544.94 Q198.509 1540.33 198.509 1531.6 Q198.509 1522.85 201.565 1518.27 Q204.644 1513.66 210.454 1513.66 Z\" fill=\"#000000\" fill-rule=\"nonzero\" fill-opacity=\"1\" /><path clip-path=\"url(#clip740)\" d=\"M616.817 1544.91 L624.456 1544.91 L624.456 1518.55 L616.145 1520.21 L616.145 1515.95 L624.409 1514.29 L629.085 1514.29 L629.085 1544.91 L636.724 1544.91 L636.724 1548.85 L616.817 1548.85 L616.817 1544.91 Z\" fill=\"#000000\" fill-rule=\"nonzero\" fill-opacity=\"1\" /><path clip-path=\"url(#clip740)\" d=\"M1037.07 1544.91 L1053.39 1544.91 L1053.39 1548.85 L1031.44 1548.85 L1031.44 1544.91 Q1034.11 1542.16 1038.69 1537.53 Q1043.3 1532.88 1044.48 1531.53 Q1046.72 1529.01 1047.6 1527.27 Q1048.5 1525.51 1048.5 1523.82 Q1048.5 1521.07 1046.56 1519.33 Q1044.64 1517.6 1041.54 1517.6 Q1039.34 1517.6 1036.88 1518.36 Q1034.45 1519.13 1031.68 1520.68 L1031.68 1515.95 Q1034.5 1514.82 1036.95 1514.24 Q1039.41 1513.66 1041.44 1513.66 Q1046.81 1513.66 1050.01 1516.35 Q1053.2 1519.03 1053.2 1523.52 Q1053.2 1525.65 1052.39 1527.57 Q1051.61 1529.47 1049.5 1532.07 Q1048.92 1532.74 1045.82 1535.95 Q1042.72 1539.15 1037.07 1544.91 Z\" fill=\"#000000\" fill-rule=\"nonzero\" fill-opacity=\"1\" /><path clip-path=\"url(#clip740)\" d=\"M1462.64 1530.21 Q1466 1530.93 1467.88 1533.2 Q1469.77 1535.47 1469.77 1538.8 Q1469.77 1543.92 1466.26 1546.72 Q1462.74 1549.52 1456.26 1549.52 Q1454.08 1549.52 1451.76 1549.08 Q1449.47 1548.66 1447.02 1547.81 L1447.02 1543.29 Q1448.96 1544.43 1451.28 1545.01 Q1453.59 1545.58 1456.12 1545.58 Q1460.51 1545.58 1462.81 1543.85 Q1465.12 1542.11 1465.12 1538.8 Q1465.12 1535.75 1462.97 1534.03 Q1460.84 1532.3 1457.02 1532.3 L1452.99 1532.3 L1452.99 1528.45 L1457.2 1528.45 Q1460.65 1528.45 1462.48 1527.09 Q1464.31 1525.7 1464.31 1523.11 Q1464.31 1520.45 1462.41 1519.03 Q1460.54 1517.6 1457.02 1517.6 Q1455.1 1517.6 1452.9 1518.01 Q1450.7 1518.43 1448.06 1519.31 L1448.06 1515.14 Q1450.72 1514.4 1453.04 1514.03 Q1455.38 1513.66 1457.44 1513.66 Q1462.76 1513.66 1465.86 1516.09 Q1468.96 1518.5 1468.96 1522.62 Q1468.96 1525.49 1467.32 1527.48 Q1465.68 1529.45 1462.64 1530.21 Z\" fill=\"#000000\" fill-rule=\"nonzero\" fill-opacity=\"1\" /><path clip-path=\"url(#clip740)\" d=\"M1877.39 1518.36 L1865.58 1536.81 L1877.39 1536.81 L1877.39 1518.36 M1876.16 1514.29 L1882.04 1514.29 L1882.04 1536.81 L1886.97 1536.81 L1886.97 1540.7 L1882.04 1540.7 L1882.04 1548.85 L1877.39 1548.85 L1877.39 1540.7 L1861.79 1540.7 L1861.79 1536.19 L1876.16 1514.29 Z\" fill=\"#000000\" fill-rule=\"nonzero\" fill-opacity=\"1\" /><path clip-path=\"url(#clip740)\" d=\"M2280.64 1514.29 L2298.99 1514.29 L2298.99 1518.22 L2284.92 1518.22 L2284.92 1526.7 Q2285.94 1526.35 2286.96 1526.19 Q2287.97 1526 2288.99 1526 Q2294.78 1526 2298.16 1529.17 Q2301.54 1532.34 2301.54 1537.76 Q2301.54 1543.34 2298.07 1546.44 Q2294.59 1549.52 2288.28 1549.52 Q2286.1 1549.52 2283.83 1549.15 Q2281.59 1548.78 2279.18 1548.04 L2279.18 1543.34 Q2281.26 1544.47 2283.48 1545.03 Q2285.71 1545.58 2288.18 1545.58 Q2292.19 1545.58 2294.53 1543.48 Q2296.86 1541.37 2296.86 1537.76 Q2296.86 1534.15 2294.53 1532.04 Q2292.19 1529.94 2288.18 1529.94 Q2286.31 1529.94 2284.43 1530.35 Q2282.58 1530.77 2280.64 1531.65 L2280.64 1514.29 Z\" fill=\"#000000\" fill-rule=\"nonzero\" fill-opacity=\"1\" /><polyline clip-path=\"url(#clip742)\" style=\"stroke:#000000; stroke-linecap:round; stroke-linejoin:round; stroke-width:2; stroke-opacity:0.1; fill:none\" points=\"148.057,1441.64 2352.76,1441.64 \"/>\n",
       "<polyline clip-path=\"url(#clip742)\" style=\"stroke:#000000; stroke-linecap:round; stroke-linejoin:round; stroke-width:2; stroke-opacity:0.1; fill:none\" points=\"148.057,1191.57 2352.76,1191.57 \"/>\n",
       "<polyline clip-path=\"url(#clip742)\" style=\"stroke:#000000; stroke-linecap:round; stroke-linejoin:round; stroke-width:2; stroke-opacity:0.1; fill:none\" points=\"148.057,941.507 2352.76,941.507 \"/>\n",
       "<polyline clip-path=\"url(#clip742)\" style=\"stroke:#000000; stroke-linecap:round; stroke-linejoin:round; stroke-width:2; stroke-opacity:0.1; fill:none\" points=\"148.057,691.441 2352.76,691.441 \"/>\n",
       "<polyline clip-path=\"url(#clip742)\" style=\"stroke:#000000; stroke-linecap:round; stroke-linejoin:round; stroke-width:2; stroke-opacity:0.1; fill:none\" points=\"148.057,441.375 2352.76,441.375 \"/>\n",
       "<polyline clip-path=\"url(#clip742)\" style=\"stroke:#000000; stroke-linecap:round; stroke-linejoin:round; stroke-width:2; stroke-opacity:0.1; fill:none\" points=\"148.057,191.309 2352.76,191.309 \"/>\n",
       "<polyline clip-path=\"url(#clip740)\" style=\"stroke:#000000; stroke-linecap:round; stroke-linejoin:round; stroke-width:4; stroke-opacity:1; fill:none\" points=\"148.057,1486.45 148.057,47.2441 \"/>\n",
       "<polyline clip-path=\"url(#clip740)\" style=\"stroke:#000000; stroke-linecap:round; stroke-linejoin:round; stroke-width:4; stroke-opacity:1; fill:none\" points=\"148.057,1441.64 166.954,1441.64 \"/>\n",
       "<polyline clip-path=\"url(#clip740)\" style=\"stroke:#000000; stroke-linecap:round; stroke-linejoin:round; stroke-width:4; stroke-opacity:1; fill:none\" points=\"148.057,1191.57 166.954,1191.57 \"/>\n",
       "<polyline clip-path=\"url(#clip740)\" style=\"stroke:#000000; stroke-linecap:round; stroke-linejoin:round; stroke-width:4; stroke-opacity:1; fill:none\" points=\"148.057,941.507 166.954,941.507 \"/>\n",
       "<polyline clip-path=\"url(#clip740)\" style=\"stroke:#000000; stroke-linecap:round; stroke-linejoin:round; stroke-width:4; stroke-opacity:1; fill:none\" points=\"148.057,691.441 166.954,691.441 \"/>\n",
       "<polyline clip-path=\"url(#clip740)\" style=\"stroke:#000000; stroke-linecap:round; stroke-linejoin:round; stroke-width:4; stroke-opacity:1; fill:none\" points=\"148.057,441.375 166.954,441.375 \"/>\n",
       "<polyline clip-path=\"url(#clip740)\" style=\"stroke:#000000; stroke-linecap:round; stroke-linejoin:round; stroke-width:4; stroke-opacity:1; fill:none\" points=\"148.057,191.309 166.954,191.309 \"/>\n",
       "<path clip-path=\"url(#clip740)\" d=\"M50.9921 1442.09 L80.6679 1442.09 L80.6679 1446.03 L50.9921 1446.03 L50.9921 1442.09 Z\" fill=\"#000000\" fill-rule=\"nonzero\" fill-opacity=\"1\" /><path clip-path=\"url(#clip740)\" d=\"M104.927 1440.28 Q108.283 1441 110.158 1443.27 Q112.057 1445.54 112.057 1448.87 Q112.057 1453.99 108.538 1456.79 Q105.02 1459.59 98.5382 1459.59 Q96.3623 1459.59 94.0475 1459.15 Q91.7558 1458.73 89.3021 1457.88 L89.3021 1453.36 Q91.2465 1454.5 93.5613 1455.08 Q95.8761 1455.65 98.3993 1455.65 Q102.797 1455.65 105.089 1453.92 Q107.404 1452.18 107.404 1448.87 Q107.404 1445.82 105.251 1444.1 Q103.121 1442.37 99.3021 1442.37 L95.2743 1442.37 L95.2743 1438.53 L99.4872 1438.53 Q102.936 1438.53 104.765 1437.16 Q106.594 1435.77 106.594 1433.18 Q106.594 1430.52 104.696 1429.1 Q102.821 1427.67 99.3021 1427.67 Q97.3808 1427.67 95.1817 1428.09 Q92.9826 1428.5 90.3438 1429.38 L90.3438 1425.22 Q93.0058 1424.47 95.3206 1424.1 Q97.6585 1423.73 99.7187 1423.73 Q105.043 1423.73 108.145 1426.16 Q111.246 1428.57 111.246 1432.69 Q111.246 1435.56 109.603 1437.55 Q107.959 1439.52 104.927 1440.28 Z\" fill=\"#000000\" fill-rule=\"nonzero\" fill-opacity=\"1\" /><path clip-path=\"url(#clip740)\" d=\"M51.9412 1192.02 L81.617 1192.02 L81.617 1195.96 L51.9412 1195.96 L51.9412 1192.02 Z\" fill=\"#000000\" fill-rule=\"nonzero\" fill-opacity=\"1\" /><path clip-path=\"url(#clip740)\" d=\"M95.7373 1204.92 L112.057 1204.92 L112.057 1208.85 L90.1123 1208.85 L90.1123 1204.92 Q92.7743 1202.16 97.3576 1197.53 Q101.964 1192.88 103.145 1191.54 Q105.39 1189.01 106.27 1187.28 Q107.172 1185.52 107.172 1183.83 Q107.172 1181.08 105.228 1179.34 Q103.307 1177.6 100.205 1177.6 Q98.0058 1177.6 95.5521 1178.37 Q93.1215 1179.13 90.3438 1180.68 L90.3438 1175.96 Q93.1678 1174.83 95.6215 1174.25 Q98.0752 1173.67 100.112 1173.67 Q105.483 1173.67 108.677 1176.35 Q111.871 1179.04 111.871 1183.53 Q111.871 1185.66 111.061 1187.58 Q110.274 1189.48 108.168 1192.07 Q107.589 1192.74 104.487 1195.96 Q101.385 1199.15 95.7373 1204.92 Z\" fill=\"#000000\" fill-rule=\"nonzero\" fill-opacity=\"1\" /><path clip-path=\"url(#clip740)\" d=\"M51.5708 941.958 L81.2466 941.958 L81.2466 945.893 L51.5708 945.893 L51.5708 941.958 Z\" fill=\"#000000\" fill-rule=\"nonzero\" fill-opacity=\"1\" /><path clip-path=\"url(#clip740)\" d=\"M92.1493 954.852 L99.7882 954.852 L99.7882 928.486 L91.478 930.153 L91.478 925.894 L99.7419 924.227 L104.418 924.227 L104.418 954.852 L112.057 954.852 L112.057 958.787 L92.1493 958.787 L92.1493 954.852 Z\" fill=\"#000000\" fill-rule=\"nonzero\" fill-opacity=\"1\" /><path clip-path=\"url(#clip740)\" d=\"M100.112 677.24 Q96.5011 677.24 94.6724 680.804 Q92.8669 684.346 92.8669 691.476 Q92.8669 698.582 94.6724 702.147 Q96.5011 705.689 100.112 705.689 Q103.746 705.689 105.552 702.147 Q107.381 698.582 107.381 691.476 Q107.381 684.346 105.552 680.804 Q103.746 677.24 100.112 677.24 M100.112 673.536 Q105.922 673.536 108.978 678.142 Q112.057 682.726 112.057 691.476 Q112.057 700.202 108.978 704.809 Q105.922 709.392 100.112 709.392 Q94.3021 709.392 91.2234 704.809 Q88.1679 700.202 88.1679 691.476 Q88.1679 682.726 91.2234 678.142 Q94.3021 673.536 100.112 673.536 Z\" fill=\"#000000\" fill-rule=\"nonzero\" fill-opacity=\"1\" /><path clip-path=\"url(#clip740)\" d=\"M92.1493 454.72 L99.7882 454.72 L99.7882 428.354 L91.478 430.021 L91.478 425.762 L99.7419 424.095 L104.418 424.095 L104.418 454.72 L112.057 454.72 L112.057 458.655 L92.1493 458.655 L92.1493 454.72 Z\" fill=\"#000000\" fill-rule=\"nonzero\" fill-opacity=\"1\" /><path clip-path=\"url(#clip740)\" d=\"M95.7373 204.654 L112.057 204.654 L112.057 208.589 L90.1123 208.589 L90.1123 204.654 Q92.7743 201.899 97.3576 197.27 Q101.964 192.617 103.145 191.274 Q105.39 188.751 106.27 187.015 Q107.172 185.256 107.172 183.566 Q107.172 180.812 105.228 179.075 Q103.307 177.339 100.205 177.339 Q98.0058 177.339 95.5521 178.103 Q93.1215 178.867 90.3438 180.418 L90.3438 175.696 Q93.1678 174.562 95.6215 173.983 Q98.0752 173.404 100.112 173.404 Q105.483 173.404 108.677 176.089 Q111.871 178.774 111.871 183.265 Q111.871 185.395 111.061 187.316 Q110.274 189.214 108.168 191.807 Q107.589 192.478 104.487 195.696 Q101.385 198.89 95.7373 204.654 Z\" fill=\"#000000\" fill-rule=\"nonzero\" fill-opacity=\"1\" /><polyline clip-path=\"url(#clip742)\" style=\"stroke:#009af9; stroke-linecap:round; stroke-linejoin:round; stroke-width:4; stroke-opacity:1; fill:none\" points=\"210.454,1084.24 252.052,1078.55 293.65,1059.02 335.248,1028.31 376.846,991.973 418.444,955.952 460.042,924.842 501.64,901.525 543.239,887.612 584.837,883.761 626.435,889.893 668.033,905.499 709.631,929.878 751.229,962.131 792.827,1000.92 834.425,1044.2 876.023,1089.22 917.621,1132.81 959.22,1172.04 1000.82,1204.92 1042.42,1230.69 1084.01,1249.62 1125.61,1262.7 1167.21,1271.55 1208.81,1278.66 1250.41,1287.21 1292,1297.71 1333.6,1301.62 1375.2,1284.63 1416.8,1237.71 1458.4,1162.18 1499.99,1067.82 1541.59,966.576 1583.19,868.056 1624.79,778.377 1666.39,700.38 1707.99,634.38 1749.58,579.177 1791.18,532.992 1832.78,494.076 1874.38,460.963 1915.98,432.515 1957.57,407.856 1999.17,386.289 2040.77,367.235 2082.37,350.215 2123.97,334.883 2165.56,321.158 2207.16,309.475 2248.76,301.29 2290.36,298.638 \"/>\n",
       "<polyline clip-path=\"url(#clip742)\" style=\"stroke:#e26f46; stroke-linecap:round; stroke-linejoin:round; stroke-width:4; stroke-opacity:1; fill:none\" points=\"210.454,1130.49 252.052,1107.53 293.65,1079.61 335.248,1085.22 376.846,1032.3 418.444,1075.55 460.042,1090.43 501.64,1137.38 543.239,1086.08 584.837,1130.64 626.435,1153.93 668.033,1085.27 709.631,1138.8 751.229,1146.09 792.827,1107.4 834.425,1134.14 876.023,1113.88 917.621,1118.52 959.22,1087.72 1000.82,1081.7 1042.42,1118.21 1084.01,1078.66 1125.61,1035.99 1167.21,1100.5 1208.81,1008.89 1250.41,1047.69 1292,1026.99 1333.6,1056.87 1375.2,1039.33 1416.8,1060.4 1458.4,1061.38 1499.99,1080.58 1541.59,1040.64 1583.19,1063.57 1624.79,1078.87 1666.39,1117.71 1707.99,1049.08 1749.58,1130.57 1791.18,1090.5 1832.78,1119.32 1874.38,1109.81 1915.98,1092.18 1957.57,1194.98 1999.17,1102.82 2040.77,1160.79 2082.37,1128.69 2123.97,1036.35 2165.56,1076.89 2207.16,1044.09 2248.76,1030.27 2290.36,1068.02 \"/>\n",
       "<polyline clip-path=\"url(#clip742)\" style=\"stroke:#3da44d; stroke-linecap:round; stroke-linejoin:round; stroke-width:4; stroke-opacity:1; fill:none\" points=\"210.454,691.441 252.052,704.793 293.65,751.033 335.248,825.048 376.846,915.636 418.444,1011.27 460.042,1103.73 501.64,1188.56 543.239,1263.44 584.837,1326.88 626.435,1377.65 668.033,1414.78 709.631,1437.55 751.229,1445.72 792.827,1439.5 834.425,1419.61 876.023,1387.18 917.621,1343.65 959.22,1290.73 1000.82,1230.25 1042.42,1163.88 1084.01,1092.69 1125.61,1016.72 1167.21,934.322 1208.81,841.249 1250.41,730.506 1292,598.212 1333.6,455.56 1375.2,323.456 1416.8,216.962 1458.4,142.937 1499.99,101.478 1541.59,87.9763 1583.19,96.1501 1624.79,120.056 1666.39,154.738 1707.99,196.256 1749.58,241.588 1791.18,288.503 1832.78,335.397 1874.38,381.155 1915.98,425.04 1957.57,466.634 1999.17,505.797 2040.77,542.607 2082.37,577.259 2123.97,609.861 2165.56,640.078 2207.16,666.473 2248.76,685.288 2290.36,691.441 \"/>\n",
       "<path clip-path=\"url(#clip740)\" d=\"M221.547 302.578 L716.251 302.578 L716.251 95.2176 L221.547 95.2176  Z\" fill=\"#ffffff\" fill-rule=\"evenodd\" fill-opacity=\"1\"/>\n",
       "<polyline clip-path=\"url(#clip740)\" style=\"stroke:#000000; stroke-linecap:round; stroke-linejoin:round; stroke-width:4; stroke-opacity:1; fill:none\" points=\"221.547,302.578 716.251,302.578 716.251,95.2176 221.547,95.2176 221.547,302.578 \"/>\n",
       "<polyline clip-path=\"url(#clip740)\" style=\"stroke:#009af9; stroke-linecap:round; stroke-linejoin:round; stroke-width:4; stroke-opacity:1; fill:none\" points=\"246.043,147.058 393.023,147.058 \"/>\n",
       "<path clip-path=\"url(#clip740)\" d=\"M417.52 128.319 L427.335 128.319 L427.335 131.629 L421.779 131.629 L421.779 167.277 L427.335 167.277 L427.335 170.588 L417.52 170.588 L417.52 128.319 Z\" fill=\"#000000\" fill-rule=\"nonzero\" fill-opacity=\"1\" /><path clip-path=\"url(#clip740)\" d=\"M440.436 129.778 L440.436 142.625 L436.501 142.625 L436.501 129.778 L440.436 129.778 M449.186 129.778 L449.186 142.625 L445.251 142.625 L445.251 129.778 L449.186 129.778 Z\" fill=\"#000000\" fill-rule=\"nonzero\" fill-opacity=\"1\" /><path clip-path=\"url(#clip740)\" d=\"M475.621 147.902 L460.876 147.902 Q461.223 154.824 462.821 157.764 Q464.811 161.375 468.26 161.375 Q471.733 161.375 473.654 157.74 Q475.344 154.546 475.621 147.902 M475.552 143.967 Q474.904 137.393 473.654 135.078 Q471.663 131.421 468.26 131.421 Q464.719 131.421 462.844 135.032 Q461.362 137.949 460.922 143.967 L475.552 143.967 M468.26 127.949 Q473.816 127.949 476.987 132.856 Q480.158 137.74 480.158 146.398 Q480.158 155.032 476.987 159.939 Q473.816 164.87 468.26 164.87 Q462.682 164.87 459.534 159.939 Q456.362 155.032 456.362 146.398 Q456.362 137.74 459.534 132.856 Q462.682 127.949 468.26 127.949 Z\" fill=\"#000000\" fill-rule=\"nonzero\" fill-opacity=\"1\" /><path clip-path=\"url(#clip740)\" d=\"M486.362 161.791 L491.084 161.791 L491.084 147.648 L485.922 148.597 L485.922 145.912 L491.246 145.009 L494.418 145.009 L494.418 161.791 L499.163 161.791 L499.163 164.338 L486.362 164.338 L486.362 161.791 Z\" fill=\"#000000\" fill-rule=\"nonzero\" fill-opacity=\"1\" /><path clip-path=\"url(#clip740)\" d=\"M510.251 129.778 L510.251 142.625 L506.316 142.625 L506.316 129.778 L510.251 129.778 M519.001 129.778 L519.001 142.625 L515.066 142.625 L515.066 129.778 L519.001 129.778 Z\" fill=\"#000000\" fill-rule=\"nonzero\" fill-opacity=\"1\" /><path clip-path=\"url(#clip740)\" d=\"M537.982 128.319 L537.982 170.588 L528.167 170.588 L528.167 167.277 L533.7 167.277 L533.7 131.629 L528.167 131.629 L528.167 128.319 L537.982 128.319 Z\" fill=\"#000000\" fill-rule=\"nonzero\" fill-opacity=\"1\" /><polyline clip-path=\"url(#clip740)\" style=\"stroke:#e26f46; stroke-linecap:round; stroke-linejoin:round; stroke-width:4; stroke-opacity:1; fill:none\" points=\"246.043,198.898 393.023,198.898 \"/>\n",
       "<path clip-path=\"url(#clip740)\" d=\"M417.52 180.159 L427.335 180.159 L427.335 183.469 L421.779 183.469 L421.779 219.117 L427.335 219.117 L427.335 222.428 L417.52 222.428 L417.52 180.159 Z\" fill=\"#000000\" fill-rule=\"nonzero\" fill-opacity=\"1\" /><path clip-path=\"url(#clip740)\" d=\"M440.436 181.618 L440.436 194.465 L436.501 194.465 L436.501 181.618 L440.436 181.618 M449.186 181.618 L449.186 194.465 L445.251 194.465 L445.251 181.618 L449.186 181.618 Z\" fill=\"#000000\" fill-rule=\"nonzero\" fill-opacity=\"1\" /><path clip-path=\"url(#clip740)\" d=\"M475.621 199.742 L460.876 199.742 Q461.223 206.664 462.821 209.604 Q464.811 213.215 468.26 213.215 Q471.733 213.215 473.654 209.58 Q475.344 206.386 475.621 199.742 M475.552 195.807 Q474.904 189.233 473.654 186.918 Q471.663 183.261 468.26 183.261 Q464.719 183.261 462.844 186.872 Q461.362 189.789 460.922 195.807 L475.552 195.807 M468.26 179.789 Q473.816 179.789 476.987 184.696 Q480.158 189.58 480.158 198.238 Q480.158 206.872 476.987 211.779 Q473.816 216.71 468.26 216.71 Q462.682 216.71 459.534 211.779 Q456.362 206.872 456.362 198.238 Q456.362 189.58 459.534 184.696 Q462.682 179.789 468.26 179.789 Z\" fill=\"#000000\" fill-rule=\"nonzero\" fill-opacity=\"1\" /><path clip-path=\"url(#clip740)\" d=\"M486.362 213.631 L491.084 213.631 L491.084 199.488 L485.922 200.437 L485.922 197.752 L491.246 196.849 L494.418 196.849 L494.418 213.631 L499.163 213.631 L499.163 216.178 L486.362 216.178 L486.362 213.631 Z\" fill=\"#000000\" fill-rule=\"nonzero\" fill-opacity=\"1\" /><path clip-path=\"url(#clip740)\" d=\"M538.353 202.914 Q538.353 198.284 536.431 195.738 Q534.533 193.192 531.084 193.192 Q527.658 193.192 525.737 195.738 Q523.839 198.284 523.839 202.914 Q523.839 207.52 525.737 210.066 Q527.658 212.613 531.084 212.613 Q534.533 212.613 536.431 210.066 Q538.353 207.52 538.353 202.914 M542.612 212.96 Q542.612 219.58 539.672 222.798 Q536.732 226.039 530.667 226.039 Q528.422 226.039 526.431 225.691 Q524.441 225.367 522.566 224.673 L522.566 220.529 Q524.441 221.548 526.269 222.034 Q528.098 222.52 529.996 222.52 Q534.186 222.52 536.269 220.321 Q538.353 218.145 538.353 213.724 L538.353 211.617 Q537.033 213.909 534.973 215.043 Q532.913 216.178 530.042 216.178 Q525.274 216.178 522.357 212.543 Q519.441 208.909 519.441 202.914 Q519.441 196.895 522.357 193.261 Q525.274 189.627 530.042 189.627 Q532.913 189.627 534.973 190.761 Q537.033 191.895 538.353 194.187 L538.353 190.252 L542.612 190.252 L542.612 212.96 Z\" fill=\"#000000\" fill-rule=\"nonzero\" fill-opacity=\"1\" /><path clip-path=\"url(#clip740)\" d=\"M550.945 205.946 L550.945 190.252 L555.204 190.252 L555.204 205.784 Q555.204 209.465 556.639 211.316 Q558.075 213.145 560.945 213.145 Q564.394 213.145 566.385 210.946 Q568.399 208.747 568.399 204.951 L568.399 190.252 L572.658 190.252 L572.658 216.178 L568.399 216.178 L568.399 212.196 Q566.848 214.557 564.788 215.715 Q562.751 216.849 560.042 216.849 Q555.575 216.849 553.26 214.071 Q550.945 211.293 550.945 205.946 M561.663 189.627 L561.663 189.627 Z\" fill=\"#000000\" fill-rule=\"nonzero\" fill-opacity=\"1\" /><path clip-path=\"url(#clip740)\" d=\"M603.607 202.15 L603.607 204.233 L584.024 204.233 Q584.301 208.631 586.662 210.946 Q589.047 213.238 593.283 213.238 Q595.736 213.238 598.028 212.636 Q600.343 212.034 602.611 210.83 L602.611 214.858 Q600.32 215.83 597.912 216.34 Q595.505 216.849 593.028 216.849 Q586.825 216.849 583.19 213.238 Q579.579 209.627 579.579 203.469 Q579.579 197.104 583.005 193.377 Q586.454 189.627 592.287 189.627 Q597.519 189.627 600.551 193.006 Q603.607 196.363 603.607 202.15 M599.348 200.9 Q599.301 197.405 597.38 195.321 Q595.482 193.238 592.334 193.238 Q588.769 193.238 586.616 195.252 Q584.487 197.266 584.162 200.923 L599.348 200.9 Z\" fill=\"#000000\" fill-rule=\"nonzero\" fill-opacity=\"1\" /><path clip-path=\"url(#clip740)\" d=\"M627.125 191.016 L627.125 195.043 Q625.32 194.117 623.375 193.655 Q621.431 193.192 619.347 193.192 Q616.176 193.192 614.579 194.164 Q613.005 195.136 613.005 197.08 Q613.005 198.562 614.139 199.418 Q615.273 200.252 618.699 201.016 L620.158 201.34 Q624.695 202.312 626.593 204.094 Q628.514 205.854 628.514 209.025 Q628.514 212.636 625.644 214.742 Q622.797 216.849 617.797 216.849 Q615.713 216.849 613.445 216.432 Q611.199 216.039 608.699 215.228 L608.699 210.83 Q611.06 212.057 613.352 212.682 Q615.644 213.284 617.889 213.284 Q620.898 213.284 622.519 212.266 Q624.139 211.224 624.139 209.349 Q624.139 207.613 622.959 206.687 Q621.801 205.761 617.843 204.904 L616.361 204.557 Q612.403 203.724 610.644 202.011 Q608.885 200.275 608.885 197.266 Q608.885 193.608 611.477 191.618 Q614.07 189.627 618.838 189.627 Q621.199 189.627 623.283 189.974 Q625.366 190.321 627.125 191.016 Z\" fill=\"#000000\" fill-rule=\"nonzero\" fill-opacity=\"1\" /><path clip-path=\"url(#clip740)\" d=\"M651.824 191.016 L651.824 195.043 Q650.019 194.117 648.074 193.655 Q646.13 193.192 644.046 193.192 Q640.875 193.192 639.278 194.164 Q637.704 195.136 637.704 197.08 Q637.704 198.562 638.838 199.418 Q639.972 200.252 643.398 201.016 L644.857 201.34 Q649.394 202.312 651.292 204.094 Q653.213 205.854 653.213 209.025 Q653.213 212.636 650.343 214.742 Q647.495 216.849 642.496 216.849 Q640.412 216.849 638.144 216.432 Q635.898 216.039 633.398 215.228 L633.398 210.83 Q635.759 212.057 638.051 212.682 Q640.343 213.284 642.588 213.284 Q645.597 213.284 647.218 212.266 Q648.838 211.224 648.838 209.349 Q648.838 207.613 647.658 206.687 Q646.5 205.761 642.542 204.904 L641.06 204.557 Q637.102 203.724 635.343 202.011 Q633.584 200.275 633.584 197.266 Q633.584 193.608 636.176 191.618 Q638.769 189.627 643.537 189.627 Q645.898 189.627 647.982 189.974 Q650.065 190.321 651.824 191.016 Z\" fill=\"#000000\" fill-rule=\"nonzero\" fill-opacity=\"1\" /><path clip-path=\"url(#clip740)\" d=\"M664.023 181.618 L664.023 194.465 L660.088 194.465 L660.088 181.618 L664.023 181.618 M672.773 181.618 L672.773 194.465 L668.838 194.465 L668.838 181.618 L672.773 181.618 Z\" fill=\"#000000\" fill-rule=\"nonzero\" fill-opacity=\"1\" /><path clip-path=\"url(#clip740)\" d=\"M691.755 180.159 L691.755 222.428 L681.94 222.428 L681.94 219.117 L687.472 219.117 L687.472 183.469 L681.94 183.469 L681.94 180.159 L691.755 180.159 Z\" fill=\"#000000\" fill-rule=\"nonzero\" fill-opacity=\"1\" /><polyline clip-path=\"url(#clip740)\" style=\"stroke:#3da44d; stroke-linecap:round; stroke-linejoin:round; stroke-width:4; stroke-opacity:1; fill:none\" points=\"246.043,250.738 393.023,250.738 \"/>\n",
       "<path clip-path=\"url(#clip740)\" d=\"M417.52 231.999 L427.335 231.999 L427.335 235.309 L421.779 235.309 L421.779 270.957 L427.335 270.957 L427.335 274.268 L417.52 274.268 L417.52 231.999 Z\" fill=\"#000000\" fill-rule=\"nonzero\" fill-opacity=\"1\" /><path clip-path=\"url(#clip740)\" d=\"M440.436 233.458 L440.436 246.305 L436.501 246.305 L436.501 233.458 L440.436 233.458 M449.186 233.458 L449.186 246.305 L445.251 246.305 L445.251 233.458 L449.186 233.458 Z\" fill=\"#000000\" fill-rule=\"nonzero\" fill-opacity=\"1\" /><path clip-path=\"url(#clip740)\" d=\"M466.478 268.689 Q456.872 268.689 456.872 254.939 Q456.872 249.499 460.459 242.092 L465.043 242.092 Q461.733 249.499 461.733 255.055 Q461.733 265.078 466.871 265.078 Q471.57 265.078 471.57 252.624 L475.506 252.624 Q475.506 265.078 480.205 265.078 Q485.344 265.078 485.344 255.055 Q485.344 249.499 482.033 242.092 L486.617 242.092 Q490.205 249.499 490.205 254.939 Q490.205 268.689 480.598 268.689 Q474.302 268.689 473.538 261.768 Q472.589 268.689 466.478 268.689 Z\" fill=\"#000000\" fill-rule=\"nonzero\" fill-opacity=\"1\" /><path clip-path=\"url(#clip740)\" d=\"M497.056 265.471 L501.779 265.471 L501.779 251.328 L496.617 252.277 L496.617 249.592 L501.941 248.689 L505.112 248.689 L505.112 265.471 L509.857 265.471 L509.857 268.018 L497.056 268.018 L497.056 265.471 Z\" fill=\"#000000\" fill-rule=\"nonzero\" fill-opacity=\"1\" /><path clip-path=\"url(#clip740)\" d=\"M520.945 233.458 L520.945 246.305 L517.01 246.305 L517.01 233.458 L520.945 233.458 M529.695 233.458 L529.695 246.305 L525.76 246.305 L525.76 233.458 L529.695 233.458 Z\" fill=\"#000000\" fill-rule=\"nonzero\" fill-opacity=\"1\" /><path clip-path=\"url(#clip740)\" d=\"M548.677 231.999 L548.677 274.268 L538.862 274.268 L538.862 270.957 L544.394 270.957 L544.394 235.309 L538.862 235.309 L538.862 231.999 L548.677 231.999 Z\" fill=\"#000000\" fill-rule=\"nonzero\" fill-opacity=\"1\" /></svg>\n"
      ]
     },
     "execution_count": 28,
     "metadata": {},
     "output_type": "execute_result"
    }
   ],
   "source": [
    "plot(thist,xtraj[1,:], label=[\"θ₁\"])\n",
    "plot!(thist,xguess[1,:], label=[\"θ₁ guess\"])\n",
    "plot!(thist,xtraj[2,:], label=[\"ω₁\"])"
   ]
  },
  {
   "cell_type": "code",
   "execution_count": 29,
   "id": "da5e0989-cbb9-4258-ba07-283d9ae1d47b",
   "metadata": {},
   "outputs": [
    {
     "data": {
      "image/svg+xml": [
       "<?xml version=\"1.0\" encoding=\"utf-8\"?>\n",
       "<svg xmlns=\"http://www.w3.org/2000/svg\" xmlns:xlink=\"http://www.w3.org/1999/xlink\" width=\"600\" height=\"400\" viewBox=\"0 0 2400 1600\">\n",
       "<defs>\n",
       "  <clipPath id=\"clip780\">\n",
       "    <rect x=\"0\" y=\"0\" width=\"2400\" height=\"1600\"/>\n",
       "  </clipPath>\n",
       "</defs>\n",
       "<path clip-path=\"url(#clip780)\" d=\"M0 1600 L2400 1600 L2400 0 L0 0  Z\" fill=\"#ffffff\" fill-rule=\"evenodd\" fill-opacity=\"1\"/>\n",
       "<defs>\n",
       "  <clipPath id=\"clip781\">\n",
       "    <rect x=\"480\" y=\"0\" width=\"1681\" height=\"1600\"/>\n",
       "  </clipPath>\n",
       "</defs>\n",
       "<path clip-path=\"url(#clip780)\" d=\"M149.191 1486.45 L2352.76 1486.45 L2352.76 47.2441 L149.191 47.2441  Z\" fill=\"#ffffff\" fill-rule=\"evenodd\" fill-opacity=\"1\"/>\n",
       "<defs>\n",
       "  <clipPath id=\"clip782\">\n",
       "    <rect x=\"149\" y=\"47\" width=\"2205\" height=\"1440\"/>\n",
       "  </clipPath>\n",
       "</defs>\n",
       "<polyline clip-path=\"url(#clip782)\" style=\"stroke:#000000; stroke-linecap:round; stroke-linejoin:round; stroke-width:2; stroke-opacity:0.1; fill:none\" points=\"211.556,1486.45 211.556,47.2441 \"/>\n",
       "<polyline clip-path=\"url(#clip782)\" style=\"stroke:#000000; stroke-linecap:round; stroke-linejoin:round; stroke-width:2; stroke-opacity:0.1; fill:none\" points=\"627.323,1486.45 627.323,47.2441 \"/>\n",
       "<polyline clip-path=\"url(#clip782)\" style=\"stroke:#000000; stroke-linecap:round; stroke-linejoin:round; stroke-width:2; stroke-opacity:0.1; fill:none\" points=\"1043.09,1486.45 1043.09,47.2441 \"/>\n",
       "<polyline clip-path=\"url(#clip782)\" style=\"stroke:#000000; stroke-linecap:round; stroke-linejoin:round; stroke-width:2; stroke-opacity:0.1; fill:none\" points=\"1458.86,1486.45 1458.86,47.2441 \"/>\n",
       "<polyline clip-path=\"url(#clip782)\" style=\"stroke:#000000; stroke-linecap:round; stroke-linejoin:round; stroke-width:2; stroke-opacity:0.1; fill:none\" points=\"1874.62,1486.45 1874.62,47.2441 \"/>\n",
       "<polyline clip-path=\"url(#clip782)\" style=\"stroke:#000000; stroke-linecap:round; stroke-linejoin:round; stroke-width:2; stroke-opacity:0.1; fill:none\" points=\"2290.39,1486.45 2290.39,47.2441 \"/>\n",
       "<polyline clip-path=\"url(#clip780)\" style=\"stroke:#000000; stroke-linecap:round; stroke-linejoin:round; stroke-width:4; stroke-opacity:1; fill:none\" points=\"149.191,1486.45 2352.76,1486.45 \"/>\n",
       "<polyline clip-path=\"url(#clip780)\" style=\"stroke:#000000; stroke-linecap:round; stroke-linejoin:round; stroke-width:4; stroke-opacity:1; fill:none\" points=\"211.556,1486.45 211.556,1467.55 \"/>\n",
       "<polyline clip-path=\"url(#clip780)\" style=\"stroke:#000000; stroke-linecap:round; stroke-linejoin:round; stroke-width:4; stroke-opacity:1; fill:none\" points=\"627.323,1486.45 627.323,1467.55 \"/>\n",
       "<polyline clip-path=\"url(#clip780)\" style=\"stroke:#000000; stroke-linecap:round; stroke-linejoin:round; stroke-width:4; stroke-opacity:1; fill:none\" points=\"1043.09,1486.45 1043.09,1467.55 \"/>\n",
       "<polyline clip-path=\"url(#clip780)\" style=\"stroke:#000000; stroke-linecap:round; stroke-linejoin:round; stroke-width:4; stroke-opacity:1; fill:none\" points=\"1458.86,1486.45 1458.86,1467.55 \"/>\n",
       "<polyline clip-path=\"url(#clip780)\" style=\"stroke:#000000; stroke-linecap:round; stroke-linejoin:round; stroke-width:4; stroke-opacity:1; fill:none\" points=\"1874.62,1486.45 1874.62,1467.55 \"/>\n",
       "<polyline clip-path=\"url(#clip780)\" style=\"stroke:#000000; stroke-linecap:round; stroke-linejoin:round; stroke-width:4; stroke-opacity:1; fill:none\" points=\"2290.39,1486.45 2290.39,1467.55 \"/>\n",
       "<path clip-path=\"url(#clip780)\" d=\"M211.556 1517.37 Q207.945 1517.37 206.116 1520.93 Q204.311 1524.47 204.311 1531.6 Q204.311 1538.71 206.116 1542.27 Q207.945 1545.82 211.556 1545.82 Q215.19 1545.82 216.996 1542.27 Q218.824 1538.71 218.824 1531.6 Q218.824 1524.47 216.996 1520.93 Q215.19 1517.37 211.556 1517.37 M211.556 1513.66 Q217.366 1513.66 220.422 1518.27 Q223.5 1522.85 223.5 1531.6 Q223.5 1540.33 220.422 1544.94 Q217.366 1549.52 211.556 1549.52 Q205.746 1549.52 202.667 1544.94 Q199.612 1540.33 199.612 1531.6 Q199.612 1522.85 202.667 1518.27 Q205.746 1513.66 211.556 1513.66 Z\" fill=\"#000000\" fill-rule=\"nonzero\" fill-opacity=\"1\" /><path clip-path=\"url(#clip780)\" d=\"M617.705 1544.91 L625.344 1544.91 L625.344 1518.55 L617.034 1520.21 L617.034 1515.95 L625.297 1514.29 L629.973 1514.29 L629.973 1544.91 L637.612 1544.91 L637.612 1548.85 L617.705 1548.85 L617.705 1544.91 Z\" fill=\"#000000\" fill-rule=\"nonzero\" fill-opacity=\"1\" /><path clip-path=\"url(#clip780)\" d=\"M1037.74 1544.91 L1054.06 1544.91 L1054.06 1548.85 L1032.12 1548.85 L1032.12 1544.91 Q1034.78 1542.16 1039.36 1537.53 Q1043.97 1532.88 1045.15 1531.53 Q1047.4 1529.01 1048.28 1527.27 Q1049.18 1525.51 1049.18 1523.82 Q1049.18 1521.07 1047.23 1519.33 Q1045.31 1517.6 1042.21 1517.6 Q1040.01 1517.6 1037.56 1518.36 Q1035.13 1519.13 1032.35 1520.68 L1032.35 1515.95 Q1035.17 1514.82 1037.63 1514.24 Q1040.08 1513.66 1042.12 1513.66 Q1047.49 1513.66 1050.68 1516.35 Q1053.88 1519.03 1053.88 1523.52 Q1053.88 1525.65 1053.07 1527.57 Q1052.28 1529.47 1050.17 1532.07 Q1049.59 1532.74 1046.49 1535.95 Q1043.39 1539.15 1037.74 1544.91 Z\" fill=\"#000000\" fill-rule=\"nonzero\" fill-opacity=\"1\" /><path clip-path=\"url(#clip780)\" d=\"M1463.1 1530.21 Q1466.46 1530.93 1468.34 1533.2 Q1470.23 1535.47 1470.23 1538.8 Q1470.23 1543.92 1466.72 1546.72 Q1463.2 1549.52 1456.72 1549.52 Q1454.54 1549.52 1452.22 1549.08 Q1449.93 1548.66 1447.48 1547.81 L1447.48 1543.29 Q1449.42 1544.43 1451.74 1545.01 Q1454.05 1545.58 1456.58 1545.58 Q1460.97 1545.58 1463.27 1543.85 Q1465.58 1542.11 1465.58 1538.8 Q1465.58 1535.75 1463.43 1534.03 Q1461.3 1532.3 1457.48 1532.3 L1453.45 1532.3 L1453.45 1528.45 L1457.66 1528.45 Q1461.11 1528.45 1462.94 1527.09 Q1464.77 1525.7 1464.77 1523.11 Q1464.77 1520.45 1462.87 1519.03 Q1461 1517.6 1457.48 1517.6 Q1455.56 1517.6 1453.36 1518.01 Q1451.16 1518.43 1448.52 1519.31 L1448.52 1515.14 Q1451.18 1514.4 1453.5 1514.03 Q1455.84 1513.66 1457.9 1513.66 Q1463.22 1513.66 1466.32 1516.09 Q1469.42 1518.5 1469.42 1522.62 Q1469.42 1525.49 1467.78 1527.48 Q1466.14 1529.45 1463.1 1530.21 Z\" fill=\"#000000\" fill-rule=\"nonzero\" fill-opacity=\"1\" /><path clip-path=\"url(#clip780)\" d=\"M1877.63 1518.36 L1865.83 1536.81 L1877.63 1536.81 L1877.63 1518.36 M1876.41 1514.29 L1882.29 1514.29 L1882.29 1536.81 L1887.22 1536.81 L1887.22 1540.7 L1882.29 1540.7 L1882.29 1548.85 L1877.63 1548.85 L1877.63 1540.7 L1862.03 1540.7 L1862.03 1536.19 L1876.41 1514.29 Z\" fill=\"#000000\" fill-rule=\"nonzero\" fill-opacity=\"1\" /><path clip-path=\"url(#clip780)\" d=\"M2280.67 1514.29 L2299.03 1514.29 L2299.03 1518.22 L2284.95 1518.22 L2284.95 1526.7 Q2285.97 1526.35 2286.99 1526.19 Q2288.01 1526 2289.03 1526 Q2294.81 1526 2298.19 1529.17 Q2301.57 1532.34 2301.57 1537.76 Q2301.57 1543.34 2298.1 1546.44 Q2294.63 1549.52 2288.31 1549.52 Q2286.13 1549.52 2283.86 1549.15 Q2281.62 1548.78 2279.21 1548.04 L2279.21 1543.34 Q2281.29 1544.47 2283.52 1545.03 Q2285.74 1545.58 2288.21 1545.58 Q2292.22 1545.58 2294.56 1543.48 Q2296.9 1541.37 2296.9 1537.76 Q2296.9 1534.15 2294.56 1532.04 Q2292.22 1529.94 2288.21 1529.94 Q2286.34 1529.94 2284.46 1530.35 Q2282.61 1530.77 2280.67 1531.65 L2280.67 1514.29 Z\" fill=\"#000000\" fill-rule=\"nonzero\" fill-opacity=\"1\" /><polyline clip-path=\"url(#clip782)\" style=\"stroke:#000000; stroke-linecap:round; stroke-linejoin:round; stroke-width:2; stroke-opacity:0.1; fill:none\" points=\"149.191,1474.37 2352.76,1474.37 \"/>\n",
       "<polyline clip-path=\"url(#clip782)\" style=\"stroke:#000000; stroke-linecap:round; stroke-linejoin:round; stroke-width:2; stroke-opacity:0.1; fill:none\" points=\"149.191,1186.61 2352.76,1186.61 \"/>\n",
       "<polyline clip-path=\"url(#clip782)\" style=\"stroke:#000000; stroke-linecap:round; stroke-linejoin:round; stroke-width:2; stroke-opacity:0.1; fill:none\" points=\"149.191,898.862 2352.76,898.862 \"/>\n",
       "<polyline clip-path=\"url(#clip782)\" style=\"stroke:#000000; stroke-linecap:round; stroke-linejoin:round; stroke-width:2; stroke-opacity:0.1; fill:none\" points=\"149.191,611.11 2352.76,611.11 \"/>\n",
       "<polyline clip-path=\"url(#clip782)\" style=\"stroke:#000000; stroke-linecap:round; stroke-linejoin:round; stroke-width:2; stroke-opacity:0.1; fill:none\" points=\"149.191,323.358 2352.76,323.358 \"/>\n",
       "<polyline clip-path=\"url(#clip780)\" style=\"stroke:#000000; stroke-linecap:round; stroke-linejoin:round; stroke-width:4; stroke-opacity:1; fill:none\" points=\"149.191,1486.45 149.191,47.2441 \"/>\n",
       "<polyline clip-path=\"url(#clip780)\" style=\"stroke:#000000; stroke-linecap:round; stroke-linejoin:round; stroke-width:4; stroke-opacity:1; fill:none\" points=\"149.191,1474.37 168.089,1474.37 \"/>\n",
       "<polyline clip-path=\"url(#clip780)\" style=\"stroke:#000000; stroke-linecap:round; stroke-linejoin:round; stroke-width:4; stroke-opacity:1; fill:none\" points=\"149.191,1186.61 168.089,1186.61 \"/>\n",
       "<polyline clip-path=\"url(#clip780)\" style=\"stroke:#000000; stroke-linecap:round; stroke-linejoin:round; stroke-width:4; stroke-opacity:1; fill:none\" points=\"149.191,898.862 168.089,898.862 \"/>\n",
       "<polyline clip-path=\"url(#clip780)\" style=\"stroke:#000000; stroke-linecap:round; stroke-linejoin:round; stroke-width:4; stroke-opacity:1; fill:none\" points=\"149.191,611.11 168.089,611.11 \"/>\n",
       "<polyline clip-path=\"url(#clip780)\" style=\"stroke:#000000; stroke-linecap:round; stroke-linejoin:round; stroke-width:4; stroke-opacity:1; fill:none\" points=\"149.191,323.358 168.089,323.358 \"/>\n",
       "<path clip-path=\"url(#clip780)\" d=\"M50.9921 1474.82 L80.6679 1474.82 L80.6679 1478.75 L50.9921 1478.75 L50.9921 1474.82 Z\" fill=\"#000000\" fill-rule=\"nonzero\" fill-opacity=\"1\" /><path clip-path=\"url(#clip780)\" d=\"M103.608 1461.16 L91.8021 1479.61 L103.608 1479.61 L103.608 1461.16 M102.381 1457.09 L108.26 1457.09 L108.26 1479.61 L113.191 1479.61 L113.191 1483.5 L108.26 1483.5 L108.26 1491.65 L103.608 1491.65 L103.608 1483.5 L88.0058 1483.5 L88.0058 1478.99 L102.381 1457.09 Z\" fill=\"#000000\" fill-rule=\"nonzero\" fill-opacity=\"1\" /><path clip-path=\"url(#clip780)\" d=\"M53.0754 1187.07 L82.7512 1187.07 L82.7512 1191 L53.0754 1191 L53.0754 1187.07 Z\" fill=\"#000000\" fill-rule=\"nonzero\" fill-opacity=\"1\" /><path clip-path=\"url(#clip780)\" d=\"M96.8715 1199.96 L113.191 1199.96 L113.191 1203.89 L91.2465 1203.89 L91.2465 1199.96 Q93.9086 1197.21 98.4919 1192.58 Q103.098 1187.92 104.279 1186.58 Q106.524 1184.06 107.404 1182.32 Q108.307 1180.56 108.307 1178.87 Q108.307 1176.12 106.362 1174.38 Q104.441 1172.65 101.339 1172.65 Q99.14 1172.65 96.6863 1173.41 Q94.2558 1174.17 91.478 1175.72 L91.478 1171 Q94.3021 1169.87 96.7558 1169.29 Q99.2095 1168.71 101.246 1168.71 Q106.617 1168.71 109.811 1171.4 Q113.006 1174.08 113.006 1178.57 Q113.006 1180.7 112.196 1182.62 Q111.408 1184.52 109.302 1187.11 Q108.723 1187.78 105.621 1191 Q102.52 1194.2 96.8715 1199.96 Z\" fill=\"#000000\" fill-rule=\"nonzero\" fill-opacity=\"1\" /><path clip-path=\"url(#clip780)\" d=\"M101.246 884.661 Q97.6354 884.661 95.8067 888.226 Q94.0012 891.768 94.0012 898.897 Q94.0012 906.004 95.8067 909.568 Q97.6354 913.11 101.246 913.11 Q104.881 913.11 106.686 909.568 Q108.515 906.004 108.515 898.897 Q108.515 891.768 106.686 888.226 Q104.881 884.661 101.246 884.661 M101.246 880.957 Q107.057 880.957 110.112 885.564 Q113.191 890.147 113.191 898.897 Q113.191 907.624 110.112 912.23 Q107.057 916.814 101.246 916.814 Q95.4363 916.814 92.3576 912.23 Q89.3021 907.624 89.3021 898.897 Q89.3021 890.147 92.3576 885.564 Q95.4363 880.957 101.246 880.957 Z\" fill=\"#000000\" fill-rule=\"nonzero\" fill-opacity=\"1\" /><path clip-path=\"url(#clip780)\" d=\"M96.8715 624.455 L113.191 624.455 L113.191 628.39 L91.2465 628.39 L91.2465 624.455 Q93.9086 621.7 98.4919 617.071 Q103.098 612.418 104.279 611.075 Q106.524 608.552 107.404 606.816 Q108.307 605.057 108.307 603.367 Q108.307 600.612 106.362 598.876 Q104.441 597.14 101.339 597.14 Q99.14 597.14 96.6863 597.904 Q94.2558 598.668 91.478 600.219 L91.478 595.497 Q94.3021 594.362 96.7558 593.784 Q99.2095 593.205 101.246 593.205 Q106.617 593.205 109.811 595.89 Q113.006 598.575 113.006 603.066 Q113.006 605.196 112.196 607.117 Q111.408 609.015 109.302 611.608 Q108.723 612.279 105.621 615.497 Q102.52 618.691 96.8715 624.455 Z\" fill=\"#000000\" fill-rule=\"nonzero\" fill-opacity=\"1\" /><path clip-path=\"url(#clip780)\" d=\"M103.608 310.152 L91.8021 328.601 L103.608 328.601 L103.608 310.152 M102.381 306.078 L108.26 306.078 L108.26 328.601 L113.191 328.601 L113.191 332.489 L108.26 332.489 L108.26 340.638 L103.608 340.638 L103.608 332.489 L88.0058 332.489 L88.0058 327.976 L102.381 306.078 Z\" fill=\"#000000\" fill-rule=\"nonzero\" fill-opacity=\"1\" /><polyline clip-path=\"url(#clip782)\" style=\"stroke:#009af9; stroke-linecap:round; stroke-linejoin:round; stroke-width:4; stroke-opacity:1; fill:none\" points=\"211.556,898.862 253.133,827.299 294.709,749.6 336.286,700.032 377.863,685.428 419.439,702.254 461.016,740.238 502.593,790.716 544.17,847.534 585.746,905.778 627.323,962.008 668.9,1014.63 710.476,1062.8 752.053,1104.8 793.63,1137.28 835.206,1155.86 876.783,1156.85 918.36,1139.56 959.936,1107.61 1001.51,1067.75 1043.09,1026.81 1084.67,989.719 1126.24,960.011 1167.82,941.834 1209.4,940.896 1250.97,956.647 1292.55,953.806 1334.13,874.115 1375.7,718.909 1417.28,540.165 1458.86,398.367 1500.43,325.317 1542.01,316.614 1583.59,353.276 1625.16,415.181 1666.74,485.259 1708.32,551.782 1749.89,608.975 1791.47,655.617 1833.05,692.894 1874.62,722.717 1916.2,746.826 1957.78,766.485 1999.35,782.515 2040.93,795.491 2082.51,806.025 2124.08,815.161 2165.66,824.97 2207.24,839.561 2248.81,866.981 2290.39,898.862 \"/>\n",
       "<polyline clip-path=\"url(#clip782)\" style=\"stroke:#e26f46; stroke-linecap:round; stroke-linejoin:round; stroke-width:4; stroke-opacity:1; fill:none\" points=\"211.556,898.862 253.133,1067.17 294.709,1254.48 336.286,1384.27 377.863,1444.49 419.439,1445.72 461.016,1411.79 502.593,1359.97 544.17,1298 585.746,1228.48 627.323,1152.57 668.9,1071.66 710.476,987.874 752.053,903.969 793.63,822.861 835.206,747.128 876.783,678.816 918.36,619.637 959.936,570.879 1001.51,532.564 1043.09,502.547 1084.67,476.201 1126.24,445.974 1167.82,399.787 1209.4,320.04 1250.97,197.735 1292.55,87.9763 1334.13,89.807 1375.7,202.595 1417.28,376.578 1458.86,569.486 1500.43,746.578 1542.01,889.637 1583.59,996.4 1625.16,1071.64 1666.74,1121.37 1708.32,1151.18 1749.89,1166.03 1791.47,1170 1833.05,1166.27 1874.62,1157.28 1916.2,1145.02 1957.78,1131.19 1999.35,1117.26 2040.93,1104.26 2082.51,1092.37 2124.08,1080.29 2165.66,1063.95 2207.24,1034.25 2248.81,972.635 2290.39,898.862 \"/>\n",
       "<path clip-path=\"url(#clip780)\" d=\"M1927.79 250.738 L2279.3 250.738 L2279.3 95.2176 L1927.79 95.2176  Z\" fill=\"#ffffff\" fill-rule=\"evenodd\" fill-opacity=\"1\"/>\n",
       "<polyline clip-path=\"url(#clip780)\" style=\"stroke:#000000; stroke-linecap:round; stroke-linejoin:round; stroke-width:4; stroke-opacity:1; fill:none\" points=\"1927.79,250.738 2279.3,250.738 2279.3,95.2176 1927.79,95.2176 1927.79,250.738 \"/>\n",
       "<polyline clip-path=\"url(#clip780)\" style=\"stroke:#009af9; stroke-linecap:round; stroke-linejoin:round; stroke-width:4; stroke-opacity:1; fill:none\" points=\"1952.27,147.058 2099.18,147.058 \"/>\n",
       "<path clip-path=\"url(#clip780)\" d=\"M2123.66 128.319 L2133.48 128.319 L2133.48 131.629 L2127.92 131.629 L2127.92 167.277 L2133.48 167.277 L2133.48 170.588 L2123.66 170.588 L2123.66 128.319 Z\" fill=\"#000000\" fill-rule=\"nonzero\" fill-opacity=\"1\" /><path clip-path=\"url(#clip780)\" d=\"M2146.58 129.778 L2146.58 142.625 L2142.64 142.625 L2142.64 129.778 L2146.58 129.778 M2155.33 129.778 L2155.33 142.625 L2151.39 142.625 L2151.39 129.778 L2155.33 129.778 Z\" fill=\"#000000\" fill-rule=\"nonzero\" fill-opacity=\"1\" /><path clip-path=\"url(#clip780)\" d=\"M2181.76 147.902 L2167.02 147.902 Q2167.37 154.824 2168.96 157.764 Q2170.95 161.375 2174.4 161.375 Q2177.88 161.375 2179.8 157.74 Q2181.49 154.546 2181.76 147.902 M2181.7 143.967 Q2181.05 137.393 2179.8 135.078 Q2177.81 131.421 2174.4 131.421 Q2170.86 131.421 2168.99 135.032 Q2167.51 137.949 2167.07 143.967 L2181.7 143.967 M2174.4 127.949 Q2179.96 127.949 2183.13 132.856 Q2186.3 137.74 2186.3 146.398 Q2186.3 155.032 2183.13 159.939 Q2179.96 164.87 2174.4 164.87 Q2168.82 164.87 2165.68 159.939 Q2162.51 155.032 2162.51 146.398 Q2162.51 137.74 2165.68 132.856 Q2168.82 127.949 2174.4 127.949 Z\" fill=\"#000000\" fill-rule=\"nonzero\" fill-opacity=\"1\" /><path clip-path=\"url(#clip780)\" d=\"M2195.1 161.699 L2204.91 161.699 L2204.91 164.338 L2191.07 164.338 L2191.07 161.791 Q2191.86 161.074 2193.32 159.777 Q2201.28 152.717 2201.28 150.541 Q2201.28 149.014 2200.07 148.088 Q2198.87 147.139 2196.9 147.139 Q2195.7 147.139 2194.29 147.555 Q2192.88 147.949 2191.21 148.759 L2191.21 145.912 Q2192.99 145.264 2194.52 144.94 Q2196.07 144.615 2197.39 144.615 Q2200.75 144.615 2202.76 146.143 Q2204.77 147.671 2204.77 150.171 Q2204.77 153.389 2197.11 159.963 Q2195.82 161.074 2195.1 161.699 Z\" fill=\"#000000\" fill-rule=\"nonzero\" fill-opacity=\"1\" /><path clip-path=\"url(#clip780)\" d=\"M2216.39 129.778 L2216.39 142.625 L2212.46 142.625 L2212.46 129.778 L2216.39 129.778 M2225.14 129.778 L2225.14 142.625 L2221.21 142.625 L2221.21 129.778 L2225.14 129.778 Z\" fill=\"#000000\" fill-rule=\"nonzero\" fill-opacity=\"1\" /><path clip-path=\"url(#clip780)\" d=\"M2244.13 128.319 L2244.13 170.588 L2234.31 170.588 L2234.31 167.277 L2239.84 167.277 L2239.84 131.629 L2234.31 131.629 L2234.31 128.319 L2244.13 128.319 Z\" fill=\"#000000\" fill-rule=\"nonzero\" fill-opacity=\"1\" /><polyline clip-path=\"url(#clip780)\" style=\"stroke:#e26f46; stroke-linecap:round; stroke-linejoin:round; stroke-width:4; stroke-opacity:1; fill:none\" points=\"1952.27,198.898 2099.18,198.898 \"/>\n",
       "<path clip-path=\"url(#clip780)\" d=\"M2123.66 180.159 L2133.48 180.159 L2133.48 183.469 L2127.92 183.469 L2127.92 219.117 L2133.48 219.117 L2133.48 222.428 L2123.66 222.428 L2123.66 180.159 Z\" fill=\"#000000\" fill-rule=\"nonzero\" fill-opacity=\"1\" /><path clip-path=\"url(#clip780)\" d=\"M2146.58 181.618 L2146.58 194.465 L2142.64 194.465 L2142.64 181.618 L2146.58 181.618 M2155.33 181.618 L2155.33 194.465 L2151.39 194.465 L2151.39 181.618 L2155.33 181.618 Z\" fill=\"#000000\" fill-rule=\"nonzero\" fill-opacity=\"1\" /><path clip-path=\"url(#clip780)\" d=\"M2172.62 216.849 Q2163.01 216.849 2163.01 203.099 Q2163.01 197.659 2166.6 190.252 L2171.19 190.252 Q2167.88 197.659 2167.88 203.215 Q2167.88 213.238 2173.01 213.238 Q2177.71 213.238 2177.71 200.784 L2181.65 200.784 Q2181.65 213.238 2186.35 213.238 Q2191.49 213.238 2191.49 203.215 Q2191.49 197.659 2188.18 190.252 L2192.76 190.252 Q2196.35 197.659 2196.35 203.099 Q2196.35 216.849 2186.74 216.849 Q2180.45 216.849 2179.68 209.928 Q2178.73 216.849 2172.62 216.849 Z\" fill=\"#000000\" fill-rule=\"nonzero\" fill-opacity=\"1\" /><path clip-path=\"url(#clip780)\" d=\"M2205.79 213.539 L2215.61 213.539 L2215.61 216.178 L2201.76 216.178 L2201.76 213.631 Q2202.55 212.914 2204.01 211.617 Q2211.97 204.557 2211.97 202.381 Q2211.97 200.854 2210.77 199.928 Q2209.57 198.979 2207.6 198.979 Q2206.39 198.979 2204.98 199.395 Q2203.57 199.789 2201.9 200.599 L2201.9 197.752 Q2203.69 197.104 2205.21 196.78 Q2206.76 196.455 2208.08 196.455 Q2211.44 196.455 2213.45 197.983 Q2215.47 199.511 2215.47 202.011 Q2215.47 205.229 2207.81 211.803 Q2206.51 212.914 2205.79 213.539 Z\" fill=\"#000000\" fill-rule=\"nonzero\" fill-opacity=\"1\" /><path clip-path=\"url(#clip780)\" d=\"M2227.09 181.618 L2227.09 194.465 L2223.15 194.465 L2223.15 181.618 L2227.09 181.618 M2235.84 181.618 L2235.84 194.465 L2231.9 194.465 L2231.9 181.618 L2235.84 181.618 Z\" fill=\"#000000\" fill-rule=\"nonzero\" fill-opacity=\"1\" /><path clip-path=\"url(#clip780)\" d=\"M2254.82 180.159 L2254.82 222.428 L2245 222.428 L2245 219.117 L2250.54 219.117 L2250.54 183.469 L2245 183.469 L2245 180.159 L2254.82 180.159 Z\" fill=\"#000000\" fill-rule=\"nonzero\" fill-opacity=\"1\" /></svg>\n"
      ]
     },
     "execution_count": 29,
     "metadata": {},
     "output_type": "execute_result"
    }
   ],
   "source": [
    "plot(thist,xtraj[3,:], label=[\"θ₂\"])\n",
    "plot!(thist,xtraj[4,:], label=[\"ω₂\"])"
   ]
  },
  {
   "cell_type": "code",
   "execution_count": 30,
   "id": "12e05ab3-b151-4fe0-be13-f25255ac5b8b",
   "metadata": {},
   "outputs": [
    {
     "data": {
      "image/svg+xml": [
       "<?xml version=\"1.0\" encoding=\"utf-8\"?>\n",
       "<svg xmlns=\"http://www.w3.org/2000/svg\" xmlns:xlink=\"http://www.w3.org/1999/xlink\" width=\"600\" height=\"400\" viewBox=\"0 0 2400 1600\">\n",
       "<defs>\n",
       "  <clipPath id=\"clip820\">\n",
       "    <rect x=\"0\" y=\"0\" width=\"2400\" height=\"1600\"/>\n",
       "  </clipPath>\n",
       "</defs>\n",
       "<path clip-path=\"url(#clip820)\" d=\"M0 1600 L2400 1600 L2400 0 L0 0  Z\" fill=\"#ffffff\" fill-rule=\"evenodd\" fill-opacity=\"1\"/>\n",
       "<defs>\n",
       "  <clipPath id=\"clip821\">\n",
       "    <rect x=\"480\" y=\"0\" width=\"1681\" height=\"1600\"/>\n",
       "  </clipPath>\n",
       "</defs>\n",
       "<path clip-path=\"url(#clip820)\" d=\"M178.867 1486.45 L2352.76 1486.45 L2352.76 47.2441 L178.867 47.2441  Z\" fill=\"#ffffff\" fill-rule=\"evenodd\" fill-opacity=\"1\"/>\n",
       "<defs>\n",
       "  <clipPath id=\"clip822\">\n",
       "    <rect x=\"178\" y=\"47\" width=\"2175\" height=\"1440\"/>\n",
       "  </clipPath>\n",
       "</defs>\n",
       "<polyline clip-path=\"url(#clip822)\" style=\"stroke:#000000; stroke-linecap:round; stroke-linejoin:round; stroke-width:2; stroke-opacity:0.1; fill:none\" points=\"240.392,1486.45 240.392,47.2441 \"/>\n",
       "<polyline clip-path=\"url(#clip822)\" style=\"stroke:#000000; stroke-linecap:round; stroke-linejoin:round; stroke-width:2; stroke-opacity:0.1; fill:none\" points=\"650.56,1486.45 650.56,47.2441 \"/>\n",
       "<polyline clip-path=\"url(#clip822)\" style=\"stroke:#000000; stroke-linecap:round; stroke-linejoin:round; stroke-width:2; stroke-opacity:0.1; fill:none\" points=\"1060.73,1486.45 1060.73,47.2441 \"/>\n",
       "<polyline clip-path=\"url(#clip822)\" style=\"stroke:#000000; stroke-linecap:round; stroke-linejoin:round; stroke-width:2; stroke-opacity:0.1; fill:none\" points=\"1470.9,1486.45 1470.9,47.2441 \"/>\n",
       "<polyline clip-path=\"url(#clip822)\" style=\"stroke:#000000; stroke-linecap:round; stroke-linejoin:round; stroke-width:2; stroke-opacity:0.1; fill:none\" points=\"1881.06,1486.45 1881.06,47.2441 \"/>\n",
       "<polyline clip-path=\"url(#clip822)\" style=\"stroke:#000000; stroke-linecap:round; stroke-linejoin:round; stroke-width:2; stroke-opacity:0.1; fill:none\" points=\"2291.23,1486.45 2291.23,47.2441 \"/>\n",
       "<polyline clip-path=\"url(#clip820)\" style=\"stroke:#000000; stroke-linecap:round; stroke-linejoin:round; stroke-width:4; stroke-opacity:1; fill:none\" points=\"178.867,1486.45 2352.76,1486.45 \"/>\n",
       "<polyline clip-path=\"url(#clip820)\" style=\"stroke:#000000; stroke-linecap:round; stroke-linejoin:round; stroke-width:4; stroke-opacity:1; fill:none\" points=\"240.392,1486.45 240.392,1467.55 \"/>\n",
       "<polyline clip-path=\"url(#clip820)\" style=\"stroke:#000000; stroke-linecap:round; stroke-linejoin:round; stroke-width:4; stroke-opacity:1; fill:none\" points=\"650.56,1486.45 650.56,1467.55 \"/>\n",
       "<polyline clip-path=\"url(#clip820)\" style=\"stroke:#000000; stroke-linecap:round; stroke-linejoin:round; stroke-width:4; stroke-opacity:1; fill:none\" points=\"1060.73,1486.45 1060.73,1467.55 \"/>\n",
       "<polyline clip-path=\"url(#clip820)\" style=\"stroke:#000000; stroke-linecap:round; stroke-linejoin:round; stroke-width:4; stroke-opacity:1; fill:none\" points=\"1470.9,1486.45 1470.9,1467.55 \"/>\n",
       "<polyline clip-path=\"url(#clip820)\" style=\"stroke:#000000; stroke-linecap:round; stroke-linejoin:round; stroke-width:4; stroke-opacity:1; fill:none\" points=\"1881.06,1486.45 1881.06,1467.55 \"/>\n",
       "<polyline clip-path=\"url(#clip820)\" style=\"stroke:#000000; stroke-linecap:round; stroke-linejoin:round; stroke-width:4; stroke-opacity:1; fill:none\" points=\"2291.23,1486.45 2291.23,1467.55 \"/>\n",
       "<path clip-path=\"url(#clip820)\" d=\"M240.392 1517.37 Q236.781 1517.37 234.952 1520.93 Q233.146 1524.47 233.146 1531.6 Q233.146 1538.71 234.952 1542.27 Q236.781 1545.82 240.392 1545.82 Q244.026 1545.82 245.832 1542.27 Q247.66 1538.71 247.66 1531.6 Q247.66 1524.47 245.832 1520.93 Q244.026 1517.37 240.392 1517.37 M240.392 1513.66 Q246.202 1513.66 249.257 1518.27 Q252.336 1522.85 252.336 1531.6 Q252.336 1540.33 249.257 1544.94 Q246.202 1549.52 240.392 1549.52 Q234.582 1549.52 231.503 1544.94 Q228.447 1540.33 228.447 1531.6 Q228.447 1522.85 231.503 1518.27 Q234.582 1513.66 240.392 1513.66 Z\" fill=\"#000000\" fill-rule=\"nonzero\" fill-opacity=\"1\" /><path clip-path=\"url(#clip820)\" d=\"M640.942 1544.91 L648.58 1544.91 L648.58 1518.55 L640.27 1520.21 L640.27 1515.95 L648.534 1514.29 L653.21 1514.29 L653.21 1544.91 L660.849 1544.91 L660.849 1548.85 L640.942 1548.85 L640.942 1544.91 Z\" fill=\"#000000\" fill-rule=\"nonzero\" fill-opacity=\"1\" /><path clip-path=\"url(#clip820)\" d=\"M1055.38 1544.91 L1071.7 1544.91 L1071.7 1548.85 L1049.76 1548.85 L1049.76 1544.91 Q1052.42 1542.16 1057 1537.53 Q1061.61 1532.88 1062.79 1531.53 Q1065.03 1529.01 1065.91 1527.27 Q1066.82 1525.51 1066.82 1523.82 Q1066.82 1521.07 1064.87 1519.33 Q1062.95 1517.6 1059.85 1517.6 Q1057.65 1517.6 1055.19 1518.36 Q1052.76 1519.13 1049.99 1520.68 L1049.99 1515.95 Q1052.81 1514.82 1055.26 1514.24 Q1057.72 1513.66 1059.76 1513.66 Q1065.13 1513.66 1068.32 1516.35 Q1071.51 1519.03 1071.51 1523.52 Q1071.51 1525.65 1070.7 1527.57 Q1069.92 1529.47 1067.81 1532.07 Q1067.23 1532.74 1064.13 1535.95 Q1061.03 1539.15 1055.38 1544.91 Z\" fill=\"#000000\" fill-rule=\"nonzero\" fill-opacity=\"1\" /><path clip-path=\"url(#clip820)\" d=\"M1475.14 1530.21 Q1478.5 1530.93 1480.37 1533.2 Q1482.27 1535.47 1482.27 1538.8 Q1482.27 1543.92 1478.75 1546.72 Q1475.24 1549.52 1468.75 1549.52 Q1466.58 1549.52 1464.26 1549.08 Q1461.97 1548.66 1459.52 1547.81 L1459.52 1543.29 Q1461.46 1544.43 1463.78 1545.01 Q1466.09 1545.58 1468.62 1545.58 Q1473.01 1545.58 1475.3 1543.85 Q1477.62 1542.11 1477.62 1538.8 Q1477.62 1535.75 1475.47 1534.03 Q1473.34 1532.3 1469.52 1532.3 L1465.49 1532.3 L1465.49 1528.45 L1469.7 1528.45 Q1473.15 1528.45 1474.98 1527.09 Q1476.81 1525.7 1476.81 1523.11 Q1476.81 1520.45 1474.91 1519.03 Q1473.04 1517.6 1469.52 1517.6 Q1467.6 1517.6 1465.4 1518.01 Q1463.2 1518.43 1460.56 1519.31 L1460.56 1515.14 Q1463.22 1514.4 1465.54 1514.03 Q1467.87 1513.66 1469.93 1513.66 Q1475.26 1513.66 1478.36 1516.09 Q1481.46 1518.5 1481.46 1522.62 Q1481.46 1525.49 1479.82 1527.48 Q1478.18 1529.45 1475.14 1530.21 Z\" fill=\"#000000\" fill-rule=\"nonzero\" fill-opacity=\"1\" /><path clip-path=\"url(#clip820)\" d=\"M1884.07 1518.36 L1872.27 1536.81 L1884.07 1536.81 L1884.07 1518.36 M1882.85 1514.29 L1888.72 1514.29 L1888.72 1536.81 L1893.66 1536.81 L1893.66 1540.7 L1888.72 1540.7 L1888.72 1548.85 L1884.07 1548.85 L1884.07 1540.7 L1868.47 1540.7 L1868.47 1536.19 L1882.85 1514.29 Z\" fill=\"#000000\" fill-rule=\"nonzero\" fill-opacity=\"1\" /><path clip-path=\"url(#clip820)\" d=\"M2281.51 1514.29 L2299.86 1514.29 L2299.86 1518.22 L2285.79 1518.22 L2285.79 1526.7 Q2286.81 1526.35 2287.83 1526.19 Q2288.85 1526 2289.87 1526 Q2295.65 1526 2299.03 1529.17 Q2302.41 1532.34 2302.41 1537.76 Q2302.41 1543.34 2298.94 1546.44 Q2295.47 1549.52 2289.15 1549.52 Q2286.97 1549.52 2284.7 1549.15 Q2282.46 1548.78 2280.05 1548.04 L2280.05 1543.34 Q2282.13 1544.47 2284.36 1545.03 Q2286.58 1545.58 2289.05 1545.58 Q2293.06 1545.58 2295.4 1543.48 Q2297.74 1541.37 2297.74 1537.76 Q2297.74 1534.15 2295.4 1532.04 Q2293.06 1529.94 2289.05 1529.94 Q2287.18 1529.94 2285.3 1530.35 Q2283.45 1530.77 2281.51 1531.65 L2281.51 1514.29 Z\" fill=\"#000000\" fill-rule=\"nonzero\" fill-opacity=\"1\" /><polyline clip-path=\"url(#clip822)\" style=\"stroke:#000000; stroke-linecap:round; stroke-linejoin:round; stroke-width:2; stroke-opacity:0.1; fill:none\" points=\"178.867,1258.79 2352.76,1258.79 \"/>\n",
       "<polyline clip-path=\"url(#clip822)\" style=\"stroke:#000000; stroke-linecap:round; stroke-linejoin:round; stroke-width:2; stroke-opacity:0.1; fill:none\" points=\"178.867,867.251 2352.76,867.251 \"/>\n",
       "<polyline clip-path=\"url(#clip822)\" style=\"stroke:#000000; stroke-linecap:round; stroke-linejoin:round; stroke-width:2; stroke-opacity:0.1; fill:none\" points=\"178.867,475.711 2352.76,475.711 \"/>\n",
       "<polyline clip-path=\"url(#clip822)\" style=\"stroke:#000000; stroke-linecap:round; stroke-linejoin:round; stroke-width:2; stroke-opacity:0.1; fill:none\" points=\"178.867,84.1705 2352.76,84.1705 \"/>\n",
       "<polyline clip-path=\"url(#clip820)\" style=\"stroke:#000000; stroke-linecap:round; stroke-linejoin:round; stroke-width:4; stroke-opacity:1; fill:none\" points=\"178.867,1486.45 178.867,47.2441 \"/>\n",
       "<polyline clip-path=\"url(#clip820)\" style=\"stroke:#000000; stroke-linecap:round; stroke-linejoin:round; stroke-width:4; stroke-opacity:1; fill:none\" points=\"178.867,1258.79 197.764,1258.79 \"/>\n",
       "<polyline clip-path=\"url(#clip820)\" style=\"stroke:#000000; stroke-linecap:round; stroke-linejoin:round; stroke-width:4; stroke-opacity:1; fill:none\" points=\"178.867,867.251 197.764,867.251 \"/>\n",
       "<polyline clip-path=\"url(#clip820)\" style=\"stroke:#000000; stroke-linecap:round; stroke-linejoin:round; stroke-width:4; stroke-opacity:1; fill:none\" points=\"178.867,475.711 197.764,475.711 \"/>\n",
       "<polyline clip-path=\"url(#clip820)\" style=\"stroke:#000000; stroke-linecap:round; stroke-linejoin:round; stroke-width:4; stroke-opacity:1; fill:none\" points=\"178.867,84.1705 197.764,84.1705 \"/>\n",
       "<path clip-path=\"url(#clip820)\" d=\"M50.9921 1259.24 L80.6679 1259.24 L80.6679 1263.18 L50.9921 1263.18 L50.9921 1259.24 Z\" fill=\"#000000\" fill-rule=\"nonzero\" fill-opacity=\"1\" /><path clip-path=\"url(#clip820)\" d=\"M91.5706 1272.14 L99.2095 1272.14 L99.2095 1245.77 L90.8993 1247.44 L90.8993 1243.18 L99.1632 1241.51 L103.839 1241.51 L103.839 1272.14 L111.478 1272.14 L111.478 1276.07 L91.5706 1276.07 L91.5706 1272.14 Z\" fill=\"#000000\" fill-rule=\"nonzero\" fill-opacity=\"1\" /><path clip-path=\"url(#clip820)\" d=\"M130.922 1244.59 Q127.311 1244.59 125.482 1248.16 Q123.677 1251.7 123.677 1258.83 Q123.677 1265.93 125.482 1269.5 Q127.311 1273.04 130.922 1273.04 Q134.556 1273.04 136.362 1269.5 Q138.191 1265.93 138.191 1258.83 Q138.191 1251.7 136.362 1248.16 Q134.556 1244.59 130.922 1244.59 M130.922 1240.89 Q136.732 1240.89 139.788 1245.49 Q142.867 1250.08 142.867 1258.83 Q142.867 1267.55 139.788 1272.16 Q136.732 1276.74 130.922 1276.74 Q125.112 1276.74 122.033 1272.16 Q118.978 1267.55 118.978 1258.83 Q118.978 1250.08 122.033 1245.49 Q125.112 1240.89 130.922 1240.89 Z\" fill=\"#000000\" fill-rule=\"nonzero\" fill-opacity=\"1\" /><path clip-path=\"url(#clip820)\" d=\"M130.922 853.05 Q127.311 853.05 125.482 856.615 Q123.677 860.156 123.677 867.286 Q123.677 874.393 125.482 877.957 Q127.311 881.499 130.922 881.499 Q134.556 881.499 136.362 877.957 Q138.191 874.393 138.191 867.286 Q138.191 860.156 136.362 856.615 Q134.556 853.05 130.922 853.05 M130.922 849.346 Q136.732 849.346 139.788 853.953 Q142.867 858.536 142.867 867.286 Q142.867 876.013 139.788 880.619 Q136.732 885.203 130.922 885.203 Q125.112 885.203 122.033 880.619 Q118.978 876.013 118.978 867.286 Q118.978 858.536 122.033 853.953 Q125.112 849.346 130.922 849.346 Z\" fill=\"#000000\" fill-rule=\"nonzero\" fill-opacity=\"1\" /><path clip-path=\"url(#clip820)\" d=\"M91.5706 489.056 L99.2095 489.056 L99.2095 462.69 L90.8993 464.357 L90.8993 460.098 L99.1632 458.431 L103.839 458.431 L103.839 489.056 L111.478 489.056 L111.478 492.991 L91.5706 492.991 L91.5706 489.056 Z\" fill=\"#000000\" fill-rule=\"nonzero\" fill-opacity=\"1\" /><path clip-path=\"url(#clip820)\" d=\"M130.922 461.51 Q127.311 461.51 125.482 465.074 Q123.677 468.616 123.677 475.746 Q123.677 482.852 125.482 486.417 Q127.311 489.959 130.922 489.959 Q134.556 489.959 136.362 486.417 Q138.191 482.852 138.191 475.746 Q138.191 468.616 136.362 465.074 Q134.556 461.51 130.922 461.51 M130.922 457.806 Q136.732 457.806 139.788 462.412 Q142.867 466.996 142.867 475.746 Q142.867 484.472 139.788 489.079 Q136.732 493.662 130.922 493.662 Q125.112 493.662 122.033 489.079 Q118.978 484.472 118.978 475.746 Q118.978 466.996 122.033 462.412 Q125.112 457.806 130.922 457.806 Z\" fill=\"#000000\" fill-rule=\"nonzero\" fill-opacity=\"1\" /><path clip-path=\"url(#clip820)\" d=\"M94.7882 97.5154 L111.108 97.5154 L111.108 101.451 L89.1632 101.451 L89.1632 97.5154 Q91.8252 94.7608 96.4085 90.1311 Q101.015 85.4784 102.196 84.1358 Q104.441 81.6127 105.321 79.8766 Q106.223 78.1173 106.223 76.4275 Q106.223 73.6729 104.279 71.9368 Q102.358 70.2007 99.2558 70.2007 Q97.0567 70.2007 94.603 70.9646 Q92.1725 71.7285 89.3947 73.2794 L89.3947 68.5572 Q92.2188 67.4229 94.6724 66.8442 Q97.1261 66.2655 99.1632 66.2655 Q104.534 66.2655 107.728 68.9507 Q110.922 71.6359 110.922 76.1266 Q110.922 78.2562 110.112 80.1775 Q109.325 82.0756 107.219 84.6682 Q106.64 85.3395 103.538 88.5571 Q100.436 91.7515 94.7882 97.5154 Z\" fill=\"#000000\" fill-rule=\"nonzero\" fill-opacity=\"1\" /><path clip-path=\"url(#clip820)\" d=\"M130.922 69.9692 Q127.311 69.9692 125.482 73.534 Q123.677 77.0757 123.677 84.2053 Q123.677 91.3117 125.482 94.8765 Q127.311 98.4181 130.922 98.4181 Q134.556 98.4181 136.362 94.8765 Q138.191 91.3117 138.191 84.2053 Q138.191 77.0757 136.362 73.534 Q134.556 69.9692 130.922 69.9692 M130.922 66.2655 Q136.732 66.2655 139.788 70.872 Q142.867 75.4553 142.867 84.2053 Q142.867 92.9321 139.788 97.5385 Q136.732 102.122 130.922 102.122 Q125.112 102.122 122.033 97.5385 Q118.978 92.9321 118.978 84.2053 Q118.978 75.4553 122.033 70.872 Q125.112 66.2655 130.922 66.2655 Z\" fill=\"#000000\" fill-rule=\"nonzero\" fill-opacity=\"1\" /><polyline clip-path=\"url(#clip822)\" style=\"stroke:#009af9; stroke-linecap:round; stroke-linejoin:round; stroke-width:4; stroke-opacity:1; fill:none\" points=\"240.392,1103.57 281.409,1344.18 322.425,1376.8 363.442,1423.59 404.459,1445.72 445.476,1426.85 486.492,1374.98 527.509,1302.61 568.526,1217.38 609.543,1123.63 650.56,1025.29 691.576,926.957 732.593,833.804 773.61,750.986 814.627,683.037 855.643,633.496 896.66,604.951 937.677,599.086 978.694,615.772 1019.71,651.214 1060.73,696.528 1101.74,737.506 1142.76,754.561 1183.78,722.118 1224.79,610.118 1265.81,405.41 1306.83,181.937 1347.84,87.9763 1388.86,176.078 1429.88,384.648 1470.9,639.931 1511.91,883.74 1552.93,1081.56 1593.95,1221.85 1634.96,1306.73 1675.98,1344.62 1717,1346.8 1758.01,1325.11 1799.03,1289.78 1840.05,1248.36 1881.06,1205.64 1922.08,1164.28 1963.1,1125.46 2004.11,1089.31 2045.13,1055.05 2086.15,1020.8 2127.16,982.784 2168.18,933.776 2209.2,860.005 2250.21,735.18 2291.23,739.589 \"/>\n",
       "<path clip-path=\"url(#clip820)\" d=\"M1960.4 198.898 L2280.29 198.898 L2280.29 95.2176 L1960.4 95.2176  Z\" fill=\"#ffffff\" fill-rule=\"evenodd\" fill-opacity=\"1\"/>\n",
       "<polyline clip-path=\"url(#clip820)\" style=\"stroke:#000000; stroke-linecap:round; stroke-linejoin:round; stroke-width:4; stroke-opacity:1; fill:none\" points=\"1960.4,198.898 2280.29,198.898 2280.29,95.2176 1960.4,95.2176 1960.4,198.898 \"/>\n",
       "<polyline clip-path=\"url(#clip820)\" style=\"stroke:#009af9; stroke-linecap:round; stroke-linejoin:round; stroke-width:4; stroke-opacity:1; fill:none\" points=\"1984.56,147.058 2129.48,147.058 \"/>\n",
       "<path clip-path=\"url(#clip820)\" d=\"M2153.64 128.319 L2163.45 128.319 L2163.45 131.629 L2157.9 131.629 L2157.9 167.277 L2163.45 167.277 L2163.45 170.588 L2153.64 170.588 L2153.64 128.319 Z\" fill=\"#000000\" fill-rule=\"nonzero\" fill-opacity=\"1\" /><path clip-path=\"url(#clip820)\" d=\"M2176.56 129.778 L2176.56 142.625 L2172.62 142.625 L2172.62 129.778 L2176.56 129.778 M2185.31 129.778 L2185.31 142.625 L2181.37 142.625 L2181.37 129.778 L2185.31 129.778 Z\" fill=\"#000000\" fill-rule=\"nonzero\" fill-opacity=\"1\" /><path clip-path=\"url(#clip820)\" d=\"M2193.89 154.106 L2193.89 138.412 L2198.15 138.412 L2198.15 153.944 Q2198.15 157.625 2199.59 159.476 Q2201.02 161.305 2203.89 161.305 Q2207.34 161.305 2209.33 159.106 Q2211.35 156.907 2211.35 153.111 L2211.35 138.412 L2215.61 138.412 L2215.61 164.338 L2211.35 164.338 L2211.35 160.356 Q2209.8 162.717 2207.74 163.875 Q2205.7 165.009 2202.99 165.009 Q2198.52 165.009 2196.21 162.231 Q2193.89 159.453 2193.89 154.106 M2204.61 137.787 L2204.61 137.787 Z\" fill=\"#000000\" fill-rule=\"nonzero\" fill-opacity=\"1\" /><path clip-path=\"url(#clip820)\" d=\"M2228.41 129.778 L2228.41 142.625 L2224.47 142.625 L2224.47 129.778 L2228.41 129.778 M2237.16 129.778 L2237.16 142.625 L2233.22 142.625 L2233.22 129.778 L2237.16 129.778 Z\" fill=\"#000000\" fill-rule=\"nonzero\" fill-opacity=\"1\" /><path clip-path=\"url(#clip820)\" d=\"M2256.14 128.319 L2256.14 170.588 L2246.32 170.588 L2246.32 167.277 L2251.86 167.277 L2251.86 131.629 L2246.32 131.629 L2246.32 128.319 L2256.14 128.319 Z\" fill=\"#000000\" fill-rule=\"nonzero\" fill-opacity=\"1\" /></svg>\n"
      ]
     },
     "execution_count": 30,
     "metadata": {},
     "output_type": "execute_result"
    }
   ],
   "source": [
    "plot(thist,utraj[1,:], label=[\"u\"])"
   ]
  },
  {
   "cell_type": "code",
   "execution_count": 19,
   "id": "4ff93f88-eef1-4e75-8b4f-75dedf5df828",
   "metadata": {},
   "outputs": [
    {
     "name": "stderr",
     "output_type": "stream",
     "text": [
      "\u001b[36m\u001b[1m┌ \u001b[22m\u001b[39m\u001b[36m\u001b[1mInfo: \u001b[22m\u001b[39mMeshCat server started. You can open the visualizer by visiting the following URL in your browser:\n",
      "\u001b[36m\u001b[1m└ \u001b[22m\u001b[39mhttp://127.0.0.1:8700\n"
     ]
    },
    {
     "data": {
      "text/html": [
       "    <div style=\"height: 500px; width: 100%; overflow-x: auto; overflow-y: hidden; resize: both\">\n",
       "    <iframe src=\"http://127.0.0.1:8700\" style=\"width: 100%; height: 100%; border: none\"></iframe>\n",
       "    </div>\n"
      ],
      "text/plain": [
       "MeshCat.DisplayedVisualizer(MeshCat.CoreVisualizer(MeshCat.SceneTrees.SceneNode(nothing, nothing, Dict{String, Vector{UInt8}}(), nothing, Dict{String, MeshCat.SceneTrees.SceneNode}()), Set{Any}(), ip\"127.0.0.1\", 8700))"
      ]
     },
     "execution_count": 19,
     "metadata": {},
     "output_type": "execute_result"
    }
   ],
   "source": [
    "using TrajOptPlots\n",
    "using MeshCat\n",
    "using StaticArrays\n",
    "\n",
    "vis = Visualizer()\n",
    "render(vis)"
   ]
  },
  {
   "cell_type": "code",
   "execution_count": 20,
   "id": "96c9bc77-c5fc-444e-8b83-de0fca314e96",
   "metadata": {},
   "outputs": [
    {
     "data": {
      "text/plain": [
       "MeshCat Visualizer with path /meshcat/robot/link1/joint at http://127.0.0.1:8700"
      ]
     },
     "execution_count": 20,
     "metadata": {},
     "output_type": "execute_result"
    }
   ],
   "source": [
    "TrajOptPlots.set_mesh!(vis, a)"
   ]
  },
  {
   "cell_type": "code",
   "execution_count": 21,
   "id": "a1961699-c8f2-4edb-9c5a-4d3bcd39d659",
   "metadata": {},
   "outputs": [],
   "source": [
    "X1 = [SVector{4}(x) for x in eachcol(xtraj)];\n",
    "visualize!(vis, a, thist[end], X1)"
   ]
  },
  {
   "cell_type": "code",
   "execution_count": null,
   "id": "3be3817a-945d-42cd-95dc-4509fe5d5370",
   "metadata": {},
   "outputs": [],
   "source": []
  }
 ],
 "metadata": {
  "kernelspec": {
   "display_name": "Julia 1.6.7",
   "language": "julia",
   "name": "julia-1.6"
  },
  "language_info": {
   "file_extension": ".jl",
   "mimetype": "application/julia",
   "name": "julia",
   "version": "1.6.7"
  }
 },
 "nbformat": 4,
 "nbformat_minor": 5
}
