{
 "cells": [
  {
   "cell_type": "code",
   "execution_count": 1,
   "id": "2bbd1f3c-fb8e-4255-a6c4-b8c59a76c869",
   "metadata": {},
   "outputs": [
    {
     "name": "stderr",
     "output_type": "stream",
     "text": [
      "\u001b[32m\u001b[1m  Activating\u001b[22m\u001b[39m environment at `C:\\Users\\tge13\\Documents\\optimal_control_julia\\lec_12\\Project.toml`\n"
     ]
    }
   ],
   "source": [
    "import Pkg; Pkg.activate(@__DIR__); Pkg.instantiate()"
   ]
  },
  {
   "cell_type": "code",
   "execution_count": 2,
   "id": "e548d135-1826-4cfb-a094-46115e3fe0e0",
   "metadata": {},
   "outputs": [],
   "source": [
    "using LinearAlgebra\n",
    "using Plots\n",
    "using ForwardDiff\n",
    "using RobotZoo\n",
    "const RZ = RobotZoo\n",
    "using RobotDynamics\n",
    "using Ipopt\n",
    "using MathOptInterface\n",
    "const MOI = MathOptInterface;"
   ]
  },
  {
   "cell_type": "code",
   "execution_count": 3,
   "id": "1c9a0a7f-dcd4-4b18-a51e-0f08c46c94b3",
   "metadata": {},
   "outputs": [
    {
     "data": {
      "text/plain": [
       "0.1"
      ]
     },
     "execution_count": 3,
     "metadata": {},
     "output_type": "execute_result"
    }
   ],
   "source": [
    "#Pendulum Dynamics\n",
    "a = RobotZoo.Acrobot()\n",
    "h = 0.1 #10 Hz"
   ]
  },
  {
   "cell_type": "code",
   "execution_count": 4,
   "id": "55a8af00-290c-4a9b-9185-a9bf3a5f4671",
   "metadata": {},
   "outputs": [
    {
     "data": {
      "text/plain": [
       "208"
      ]
     },
     "execution_count": 4,
     "metadata": {},
     "output_type": "execute_result"
    }
   ],
   "source": [
    "Nx = 4     # number of state\n",
    "Nu = 1     # number of controls\n",
    "Tfinal = 5.0 # final time\n",
    "Nt = Int(Tfinal/h)+1   # number of time steps\n",
    "thist = Array(range(0,h*(Nt-1), step=h));\n",
    "\n",
    "n_nlp = (Nx+Nu)*Nt # number of decision variables\n",
    "m_nlp = Nx*(Nt+1)"
   ]
  },
  {
   "cell_type": "code",
   "execution_count": 5,
   "id": "062e0713-5c01-4684-9162-2b6d18326dcb",
   "metadata": {},
   "outputs": [
    {
     "data": {
      "text/plain": [
       "dircol_dynamics (generic function with 1 method)"
      ]
     },
     "execution_count": 5,
     "metadata": {},
     "output_type": "execute_result"
    }
   ],
   "source": [
    "function dircol_dynamics(x1,u1,x2,u2)\n",
    "    #Hermite-Simpson integration with first-order hold on u\n",
    "    f1 = RZ.dynamics(a, x1, u1)\n",
    "    f2 = RZ.dynamics(a, x2, u2)\n",
    "    xm = 0.5*(x1+x2) + (h/8.0)*(f1-f2)\n",
    "    um = 0.5*(u1+u2)\n",
    "    fm = RZ.dynamics(a, xm, um)\n",
    "    ẋm = (3/(2.0*h))*(x1-x2) + (0.25)*(f1+f2)\n",
    "    return fm + ẋm\n",
    "end\n",
    "\n",
    "# function dircol_dynamics(x1,u1,x2,u2)\n",
    "#     #Hermite-Simpson integration with first-order hold on u\n",
    "#     f1 = RZ.dynamics(a, x1, u1)\n",
    "#     f2 = RZ.dynamics(a, x2, u2)\n",
    "#     xm = 0.5*(x1 + x2) + (h/8.0)*(f1 - f2)\n",
    "#     um = 0.5*(u1 + u2)\n",
    "#     fm = RZ.dynamics(a, xm, um)\n",
    "\n",
    "#     ẋm = (-3/(2.0*h))*(x1 - x2) - 0.25*(f1 + f2)\n",
    "#     return fm - ẋm\n",
    "# end"
   ]
  },
  {
   "cell_type": "code",
   "execution_count": 6,
   "id": "e6f3fab2-ddac-41a0-a135-c4caa5158a83",
   "metadata": {},
   "outputs": [],
   "source": [
    "# Cost weights\n",
    "Q = Diagonal([1.0*ones(2); 1.0*ones(2)]);\n",
    "R = 0.1;"
   ]
  },
  {
   "cell_type": "code",
   "execution_count": 7,
   "id": "ff3d0868-e4ce-4d77-879d-e34ece901ec7",
   "metadata": {},
   "outputs": [
    {
     "data": {
      "text/plain": [
       "cost (generic function with 1 method)"
      ]
     },
     "execution_count": 7,
     "metadata": {},
     "output_type": "execute_result"
    }
   ],
   "source": [
    "function cost(ztraj)\n",
    "    J = 0\n",
    "    z_reshape = reshape(ztraj, Nx+Nu, Nt)\n",
    "    for k in 1:Nt\n",
    "        xtraj = z_reshape[1:Nx,k]\n",
    "        utraj = z_reshape[Nx+1:end,k]\n",
    "        J += 0.5*(xtraj-xgoal)'*Q*(xtraj-xgoal) + 0.5*utraj'*R*utraj\n",
    "    end\n",
    "\n",
    "    return J\n",
    "end\n",
    "\n",
    "# function stage_cost(x,u)\n",
    "#     return 0.5*((x-xgoal)'*Q*(x-xgoal)) + 0.5*u'*R*u\n",
    "# end\n",
    "# function cost(ztraj)\n",
    "#     z = reshape(ztraj,Nx+Nu,Nt)\n",
    "#     J = 0.0\n",
    "#     for k = 1:Nt\n",
    "#         J += stage_cost(z[1:Nx,k],z[(Nx+1):(Nx+Nu),k])\n",
    "#     end\n",
    "#     return J\n",
    "# end"
   ]
  },
  {
   "cell_type": "code",
   "execution_count": 8,
   "id": "dea57864-3daf-4593-9e95-20f476d8d78a",
   "metadata": {},
   "outputs": [
    {
     "data": {
      "text/plain": [
       "dynamics_constraint! (generic function with 1 method)"
      ]
     },
     "execution_count": 8,
     "metadata": {},
     "output_type": "execute_result"
    }
   ],
   "source": [
    "function dynamics_constraint!(c,ztraj)\n",
    "    d = reshape(c, Nx, Nt-1)\n",
    "    z = reshape(ztraj, Nx+Nu, Nt)\n",
    "\n",
    "    for k in 1:(Nt-1)\n",
    "        x1 = z[1:Nx,k]\n",
    "        u1 = z[Nx+1:end,k]\n",
    "        x2 = z[1:Nx,k+1]\n",
    "        u2 = z[Nx+1:end,k+1]\n",
    "\n",
    "        d[:,k] = dircol_dynamics(x1,u1,x2,u2)\n",
    "    end\n",
    "\n",
    "    return nothing\n",
    "end\n",
    "\n",
    "# function dynamics_constraint!(c,ztraj)\n",
    "#     d = reshape(c,Nx,Nt-1)\n",
    "#     z = reshape(ztraj,Nx+Nu,Nt)\n",
    "#     for k = 1:(Nt-1)\n",
    "#         x1 = z[1:Nx,k]\n",
    "#         u1 = z[(Nx+1):(Nx+Nu),k]\n",
    "#         x2 = z[1:Nx,k+1]\n",
    "#         u2 = z[(Nx+1):(Nx+Nu),k+1]\n",
    "#         d[:,k] = dircol_dynamics(x1,u1,x2,u2)\n",
    "#     end\n",
    "#     return nothing\n",
    "# end"
   ]
  },
  {
   "cell_type": "code",
   "execution_count": 9,
   "id": "dbc8e591-c823-4af7-bf77-2d14be019e73",
   "metadata": {},
   "outputs": [
    {
     "data": {
      "text/plain": [
       "con! (generic function with 1 method)"
      ]
     },
     "execution_count": 9,
     "metadata": {},
     "output_type": "execute_result"
    }
   ],
   "source": [
    "function con!(c,ztraj)\n",
    "    z = reshape(ztraj, Nx+Nu, Nt)\n",
    "    c[1:Nx, 1] .= (z[1:Nx,1] - x0)\n",
    "    @views dynamics_constraint!(c[(Nx+1):(end-Nx)],ztraj)\n",
    "    c[(end-Nx+1):end] .= (z[1:Nx,end] - xgoal)\n",
    "end"
   ]
  },
  {
   "cell_type": "code",
   "execution_count": 10,
   "id": "afb1eabb-ef9e-4e16-b300-a823c8412992",
   "metadata": {},
   "outputs": [
    {
     "data": {
      "text/plain": [
       "solve (generic function with 1 method)"
      ]
     },
     "execution_count": 10,
     "metadata": {},
     "output_type": "execute_result"
    }
   ],
   "source": [
    "struct ProblemMOI <: MOI.AbstractNLPEvaluator\n",
    "    n_nlp::Int\n",
    "    m_nlp::Int\n",
    "    idx_ineq\n",
    "    obj_grad::Bool\n",
    "    con_jac::Bool\n",
    "    sparsity_jac\n",
    "    sparsity_hess\n",
    "    primal_bounds\n",
    "    constraint_bounds\n",
    "    hessian_lagrangian::Bool\n",
    "end\n",
    "\n",
    "function ProblemMOI(n_nlp,m_nlp;\n",
    "        idx_ineq=(1:0),\n",
    "        obj_grad=true,\n",
    "        con_jac=true,\n",
    "        sparsity_jac=sparsity_jacobian(n_nlp,m_nlp),\n",
    "        sparsity_hess=sparsity_hessian(n_nlp,m_nlp),\n",
    "        primal_bounds=primal_bounds(n_nlp),\n",
    "        constraint_bounds=constraint_bounds(m_nlp,idx_ineq=idx_ineq),\n",
    "        hessian_lagrangian=false)\n",
    "\n",
    "    ProblemMOI(n_nlp,m_nlp,\n",
    "        idx_ineq,\n",
    "        obj_grad,\n",
    "        con_jac,\n",
    "        sparsity_jac,\n",
    "        sparsity_hess,\n",
    "        primal_bounds,\n",
    "        constraint_bounds,\n",
    "        hessian_lagrangian)\n",
    "end\n",
    "\n",
    "function primal_bounds(n)\n",
    "    x_l = -Inf*ones(n)\n",
    "    x_u = Inf*ones(n)\n",
    "    return x_l, x_u\n",
    "end\n",
    "\n",
    "function constraint_bounds(m; idx_ineq=(1:0))\n",
    "    c_l = zeros(m)\n",
    "    c_l[idx_ineq] .= -Inf\n",
    "\n",
    "    c_u = zeros(m)\n",
    "    return c_l, c_u\n",
    "end\n",
    "\n",
    "function row_col!(row,col,r,c)\n",
    "    for cc in c\n",
    "        for rr in r\n",
    "            push!(row,convert(Int,rr))\n",
    "            push!(col,convert(Int,cc))\n",
    "        end\n",
    "    end\n",
    "    return row, col\n",
    "end\n",
    "\n",
    "function sparsity_jacobian(n,m)\n",
    "\n",
    "    row = []\n",
    "    col = []\n",
    "\n",
    "    r = 1:m\n",
    "    c = 1:n\n",
    "\n",
    "    row_col!(row,col,r,c)\n",
    "\n",
    "    return collect(zip(row,col))\n",
    "end\n",
    "\n",
    "function sparsity_hessian(n,m)\n",
    "\n",
    "    row = []\n",
    "    col = []\n",
    "\n",
    "    r = 1:m\n",
    "    c = 1:n\n",
    "\n",
    "    row_col!(row,col,r,c)\n",
    "\n",
    "    return collect(zip(row,col))\n",
    "end\n",
    "\n",
    "function MOI.eval_objective(prob::MOI.AbstractNLPEvaluator, x)\n",
    "    cost(x)\n",
    "end\n",
    "\n",
    "function MOI.eval_objective_gradient(prob::MOI.AbstractNLPEvaluator, grad_f, x)\n",
    "    ForwardDiff.gradient!(grad_f,cost,x)\n",
    "    return nothing\n",
    "end\n",
    "\n",
    "function MOI.eval_constraint(prob::MOI.AbstractNLPEvaluator,g,x)\n",
    "    con!(g,x)\n",
    "    return nothing\n",
    "end\n",
    "\n",
    "function MOI.eval_constraint_jacobian(prob::MOI.AbstractNLPEvaluator, jac, x)\n",
    "    ForwardDiff.jacobian!(reshape(jac,prob.m_nlp,prob.n_nlp), con!, zeros(prob.m_nlp), x)\n",
    "    return nothing\n",
    "end\n",
    "\n",
    "function MOI.features_available(prob::MOI.AbstractNLPEvaluator)\n",
    "    return [:Grad, :Jac]\n",
    "end\n",
    "\n",
    "MOI.initialize(prob::MOI.AbstractNLPEvaluator, features) = nothing\n",
    "MOI.jacobian_structure(prob::MOI.AbstractNLPEvaluator) = prob.sparsity_jac\n",
    "\n",
    "function solve(x0,prob::MOI.AbstractNLPEvaluator;\n",
    "        tol=1.0e-6,c_tol=1.0e-6,max_iter=1000)\n",
    "    x_l, x_u = prob.primal_bounds\n",
    "    c_l, c_u = prob.constraint_bounds\n",
    "\n",
    "    nlp_bounds = MOI.NLPBoundsPair.(c_l,c_u)\n",
    "    block_data = MOI.NLPBlockData(nlp_bounds,prob,true)\n",
    "\n",
    "    solver = Ipopt.Optimizer()\n",
    "    solver.options[\"max_iter\"] = max_iter\n",
    "    solver.options[\"tol\"] = tol\n",
    "    solver.options[\"constr_viol_tol\"] = c_tol\n",
    "\n",
    "    x = MOI.add_variables(solver,prob.n_nlp)\n",
    "\n",
    "    for i = 1:prob.n_nlp\n",
    "        MOI.add_constraint(solver, x[i], MOI.LessThan(x_u[i]))\n",
    "        MOI.add_constraint(solver, x[i], MOI.GreaterThan(x_l[i]))\n",
    "        MOI.set(solver, MOI.VariablePrimalStart(), x[i], x0[i])\n",
    "    end\n",
    "\n",
    "    # Solve the problem\n",
    "    MOI.set(solver, MOI.NLPBlock(), block_data)\n",
    "    MOI.set(solver, MOI.ObjectiveSense(), MOI.MIN_SENSE)\n",
    "    MOI.optimize!(solver)\n",
    "\n",
    "    # Get the solution\n",
    "    res = MOI.get(solver, MOI.VariablePrimal(), x)\n",
    "\n",
    "    return res\n",
    "end"
   ]
  },
  {
   "cell_type": "code",
   "execution_count": 11,
   "id": "f9934b22-164c-4ed4-9961-ecd0aa857af2",
   "metadata": {},
   "outputs": [
    {
     "data": {
      "text/plain": [
       "4-element Vector{Float64}:\n",
       " 1.5707963267948966\n",
       " 0.0\n",
       " 0.0\n",
       " 0.0"
      ]
     },
     "execution_count": 11,
     "metadata": {},
     "output_type": "execute_result"
    }
   ],
   "source": [
    "#Initial and goal states\n",
    "x0 = [-pi/2; 0; 0; 0]\n",
    "xgoal = [pi/2; 0; 0; 0]"
   ]
  },
  {
   "cell_type": "code",
   "execution_count": 12,
   "id": "a6607c72-430c-4624-afa1-2ee1287739bf",
   "metadata": {},
   "outputs": [
    {
     "data": {
      "text/plain": [
       "5×51 Matrix{Float64}:\n",
       " -1.5708  -1.5708  -1.5708  -1.5708  …  -1.5708  -1.5708  -1.5708  -1.5708\n",
       "  0.0      0.0      0.0      0.0         0.0      0.0      0.0      0.0\n",
       "  0.0      0.0      0.0      0.0         0.0      0.0      0.0      0.0\n",
       "  0.0      0.0      0.0      0.0         0.0      0.0      0.0      0.0\n",
       "  0.0      0.0      0.0      0.0         0.0      0.0      0.0      0.0"
      ]
     },
     "execution_count": 12,
     "metadata": {},
     "output_type": "execute_result"
    }
   ],
   "source": [
    "xguess = kron(ones(Nt)', x0)\n",
    "# xguess[1,:] .= xtraj[1,:] + 0.1*randn(Nt)\n",
    "uguess = zeros(Nt)'\n",
    "z0 = reshape([xguess; uguess], Nx+Nu, Nt)"
   ]
  },
  {
   "cell_type": "code",
   "execution_count": null,
   "id": "430c34fc-fe0b-4cb4-99a6-f3969d041061",
   "metadata": {},
   "outputs": [],
   "source": [
    "prob = ProblemMOI(n_nlp,m_nlp)\n",
    "\n",
    "# solve\n",
    "z_sol = solve(z0,prob)\n",
    "\n",
    "# reshape\n",
    "ztraj = reshape(z_sol,Nx+Nu,Nt)\n",
    "xtraj = ztraj[1:Nx,:]\n",
    "utraj = ztraj[(Nx+1):(Nx+Nu),:];"
   ]
  },
  {
   "cell_type": "code",
   "execution_count": 15,
   "id": "7da300f3-f7db-4340-9060-baf92a3b29ea",
   "metadata": {},
   "outputs": [
    {
     "data": {
      "image/svg+xml": [
       "<?xml version=\"1.0\" encoding=\"utf-8\"?>\n",
       "<svg xmlns=\"http://www.w3.org/2000/svg\" xmlns:xlink=\"http://www.w3.org/1999/xlink\" width=\"600\" height=\"400\" viewBox=\"0 0 2400 1600\">\n",
       "<defs>\n",
       "  <clipPath id=\"clip280\">\n",
       "    <rect x=\"0\" y=\"0\" width=\"2400\" height=\"1600\"/>\n",
       "  </clipPath>\n",
       "</defs>\n",
       "<path clip-path=\"url(#clip280)\" d=\"M0 1600 L2400 1600 L2400 0 L0 0  Z\" fill=\"#ffffff\" fill-rule=\"evenodd\" fill-opacity=\"1\"/>\n",
       "<defs>\n",
       "  <clipPath id=\"clip281\">\n",
       "    <rect x=\"480\" y=\"0\" width=\"1681\" height=\"1600\"/>\n",
       "  </clipPath>\n",
       "</defs>\n",
       "<path clip-path=\"url(#clip280)\" d=\"M149.191 1486.45 L2352.76 1486.45 L2352.76 47.2441 L149.191 47.2441  Z\" fill=\"#ffffff\" fill-rule=\"evenodd\" fill-opacity=\"1\"/>\n",
       "<defs>\n",
       "  <clipPath id=\"clip282\">\n",
       "    <rect x=\"149\" y=\"47\" width=\"2205\" height=\"1440\"/>\n",
       "  </clipPath>\n",
       "</defs>\n",
       "<polyline clip-path=\"url(#clip282)\" style=\"stroke:#000000; stroke-linecap:round; stroke-linejoin:round; stroke-width:2; stroke-opacity:0.1; fill:none\" points=\"211.556,1486.45 211.556,47.2441 \"/>\n",
       "<polyline clip-path=\"url(#clip282)\" style=\"stroke:#000000; stroke-linecap:round; stroke-linejoin:round; stroke-width:2; stroke-opacity:0.1; fill:none\" points=\"627.323,1486.45 627.323,47.2441 \"/>\n",
       "<polyline clip-path=\"url(#clip282)\" style=\"stroke:#000000; stroke-linecap:round; stroke-linejoin:round; stroke-width:2; stroke-opacity:0.1; fill:none\" points=\"1043.09,1486.45 1043.09,47.2441 \"/>\n",
       "<polyline clip-path=\"url(#clip282)\" style=\"stroke:#000000; stroke-linecap:round; stroke-linejoin:round; stroke-width:2; stroke-opacity:0.1; fill:none\" points=\"1458.86,1486.45 1458.86,47.2441 \"/>\n",
       "<polyline clip-path=\"url(#clip282)\" style=\"stroke:#000000; stroke-linecap:round; stroke-linejoin:round; stroke-width:2; stroke-opacity:0.1; fill:none\" points=\"1874.62,1486.45 1874.62,47.2441 \"/>\n",
       "<polyline clip-path=\"url(#clip282)\" style=\"stroke:#000000; stroke-linecap:round; stroke-linejoin:round; stroke-width:2; stroke-opacity:0.1; fill:none\" points=\"2290.39,1486.45 2290.39,47.2441 \"/>\n",
       "<polyline clip-path=\"url(#clip280)\" style=\"stroke:#000000; stroke-linecap:round; stroke-linejoin:round; stroke-width:4; stroke-opacity:1; fill:none\" points=\"149.191,1486.45 2352.76,1486.45 \"/>\n",
       "<polyline clip-path=\"url(#clip280)\" style=\"stroke:#000000; stroke-linecap:round; stroke-linejoin:round; stroke-width:4; stroke-opacity:1; fill:none\" points=\"211.556,1486.45 211.556,1467.55 \"/>\n",
       "<polyline clip-path=\"url(#clip280)\" style=\"stroke:#000000; stroke-linecap:round; stroke-linejoin:round; stroke-width:4; stroke-opacity:1; fill:none\" points=\"627.323,1486.45 627.323,1467.55 \"/>\n",
       "<polyline clip-path=\"url(#clip280)\" style=\"stroke:#000000; stroke-linecap:round; stroke-linejoin:round; stroke-width:4; stroke-opacity:1; fill:none\" points=\"1043.09,1486.45 1043.09,1467.55 \"/>\n",
       "<polyline clip-path=\"url(#clip280)\" style=\"stroke:#000000; stroke-linecap:round; stroke-linejoin:round; stroke-width:4; stroke-opacity:1; fill:none\" points=\"1458.86,1486.45 1458.86,1467.55 \"/>\n",
       "<polyline clip-path=\"url(#clip280)\" style=\"stroke:#000000; stroke-linecap:round; stroke-linejoin:round; stroke-width:4; stroke-opacity:1; fill:none\" points=\"1874.62,1486.45 1874.62,1467.55 \"/>\n",
       "<polyline clip-path=\"url(#clip280)\" style=\"stroke:#000000; stroke-linecap:round; stroke-linejoin:round; stroke-width:4; stroke-opacity:1; fill:none\" points=\"2290.39,1486.45 2290.39,1467.55 \"/>\n",
       "<path clip-path=\"url(#clip280)\" d=\"M211.556 1517.37 Q207.945 1517.37 206.116 1520.93 Q204.311 1524.47 204.311 1531.6 Q204.311 1538.71 206.116 1542.27 Q207.945 1545.82 211.556 1545.82 Q215.19 1545.82 216.996 1542.27 Q218.824 1538.71 218.824 1531.6 Q218.824 1524.47 216.996 1520.93 Q215.19 1517.37 211.556 1517.37 M211.556 1513.66 Q217.366 1513.66 220.422 1518.27 Q223.5 1522.85 223.5 1531.6 Q223.5 1540.33 220.422 1544.94 Q217.366 1549.52 211.556 1549.52 Q205.746 1549.52 202.667 1544.94 Q199.612 1540.33 199.612 1531.6 Q199.612 1522.85 202.667 1518.27 Q205.746 1513.66 211.556 1513.66 Z\" fill=\"#000000\" fill-rule=\"nonzero\" fill-opacity=\"1\" /><path clip-path=\"url(#clip280)\" d=\"M617.705 1544.91 L625.344 1544.91 L625.344 1518.55 L617.034 1520.21 L617.034 1515.95 L625.297 1514.29 L629.973 1514.29 L629.973 1544.91 L637.612 1544.91 L637.612 1548.85 L617.705 1548.85 L617.705 1544.91 Z\" fill=\"#000000\" fill-rule=\"nonzero\" fill-opacity=\"1\" /><path clip-path=\"url(#clip280)\" d=\"M1037.74 1544.91 L1054.06 1544.91 L1054.06 1548.85 L1032.12 1548.85 L1032.12 1544.91 Q1034.78 1542.16 1039.36 1537.53 Q1043.97 1532.88 1045.15 1531.53 Q1047.4 1529.01 1048.28 1527.27 Q1049.18 1525.51 1049.18 1523.82 Q1049.18 1521.07 1047.23 1519.33 Q1045.31 1517.6 1042.21 1517.6 Q1040.01 1517.6 1037.56 1518.36 Q1035.13 1519.13 1032.35 1520.68 L1032.35 1515.95 Q1035.17 1514.82 1037.63 1514.24 Q1040.08 1513.66 1042.12 1513.66 Q1047.49 1513.66 1050.68 1516.35 Q1053.88 1519.03 1053.88 1523.52 Q1053.88 1525.65 1053.07 1527.57 Q1052.28 1529.47 1050.17 1532.07 Q1049.59 1532.74 1046.49 1535.95 Q1043.39 1539.15 1037.74 1544.91 Z\" fill=\"#000000\" fill-rule=\"nonzero\" fill-opacity=\"1\" /><path clip-path=\"url(#clip280)\" d=\"M1463.1 1530.21 Q1466.46 1530.93 1468.34 1533.2 Q1470.23 1535.47 1470.23 1538.8 Q1470.23 1543.92 1466.72 1546.72 Q1463.2 1549.52 1456.72 1549.52 Q1454.54 1549.52 1452.22 1549.08 Q1449.93 1548.66 1447.48 1547.81 L1447.48 1543.29 Q1449.42 1544.43 1451.74 1545.01 Q1454.05 1545.58 1456.58 1545.58 Q1460.97 1545.58 1463.27 1543.85 Q1465.58 1542.11 1465.58 1538.8 Q1465.58 1535.75 1463.43 1534.03 Q1461.3 1532.3 1457.48 1532.3 L1453.45 1532.3 L1453.45 1528.45 L1457.66 1528.45 Q1461.11 1528.45 1462.94 1527.09 Q1464.77 1525.7 1464.77 1523.11 Q1464.77 1520.45 1462.87 1519.03 Q1461 1517.6 1457.48 1517.6 Q1455.56 1517.6 1453.36 1518.01 Q1451.16 1518.43 1448.52 1519.31 L1448.52 1515.14 Q1451.18 1514.4 1453.5 1514.03 Q1455.84 1513.66 1457.9 1513.66 Q1463.22 1513.66 1466.32 1516.09 Q1469.42 1518.5 1469.42 1522.62 Q1469.42 1525.49 1467.78 1527.48 Q1466.14 1529.45 1463.1 1530.21 Z\" fill=\"#000000\" fill-rule=\"nonzero\" fill-opacity=\"1\" /><path clip-path=\"url(#clip280)\" d=\"M1877.63 1518.36 L1865.83 1536.81 L1877.63 1536.81 L1877.63 1518.36 M1876.41 1514.29 L1882.29 1514.29 L1882.29 1536.81 L1887.22 1536.81 L1887.22 1540.7 L1882.29 1540.7 L1882.29 1548.85 L1877.63 1548.85 L1877.63 1540.7 L1862.03 1540.7 L1862.03 1536.19 L1876.41 1514.29 Z\" fill=\"#000000\" fill-rule=\"nonzero\" fill-opacity=\"1\" /><path clip-path=\"url(#clip280)\" d=\"M2280.67 1514.29 L2299.03 1514.29 L2299.03 1518.22 L2284.95 1518.22 L2284.95 1526.7 Q2285.97 1526.35 2286.99 1526.19 Q2288.01 1526 2289.03 1526 Q2294.81 1526 2298.19 1529.17 Q2301.57 1532.34 2301.57 1537.76 Q2301.57 1543.34 2298.1 1546.44 Q2294.63 1549.52 2288.31 1549.52 Q2286.13 1549.52 2283.86 1549.15 Q2281.62 1548.78 2279.21 1548.04 L2279.21 1543.34 Q2281.29 1544.47 2283.52 1545.03 Q2285.74 1545.58 2288.21 1545.58 Q2292.22 1545.58 2294.56 1543.48 Q2296.9 1541.37 2296.9 1537.76 Q2296.9 1534.15 2294.56 1532.04 Q2292.22 1529.94 2288.21 1529.94 Q2286.34 1529.94 2284.46 1530.35 Q2282.61 1530.77 2280.67 1531.65 L2280.67 1514.29 Z\" fill=\"#000000\" fill-rule=\"nonzero\" fill-opacity=\"1\" /><polyline clip-path=\"url(#clip282)\" style=\"stroke:#000000; stroke-linecap:round; stroke-linejoin:round; stroke-width:2; stroke-opacity:0.1; fill:none\" points=\"149.191,1371.7 2352.76,1371.7 \"/>\n",
       "<polyline clip-path=\"url(#clip282)\" style=\"stroke:#000000; stroke-linecap:round; stroke-linejoin:round; stroke-width:2; stroke-opacity:0.1; fill:none\" points=\"149.191,1070.86 2352.76,1070.86 \"/>\n",
       "<polyline clip-path=\"url(#clip282)\" style=\"stroke:#000000; stroke-linecap:round; stroke-linejoin:round; stroke-width:2; stroke-opacity:0.1; fill:none\" points=\"149.191,770.02 2352.76,770.02 \"/>\n",
       "<polyline clip-path=\"url(#clip282)\" style=\"stroke:#000000; stroke-linecap:round; stroke-linejoin:round; stroke-width:2; stroke-opacity:0.1; fill:none\" points=\"149.191,469.18 2352.76,469.18 \"/>\n",
       "<polyline clip-path=\"url(#clip282)\" style=\"stroke:#000000; stroke-linecap:round; stroke-linejoin:round; stroke-width:2; stroke-opacity:0.1; fill:none\" points=\"149.191,168.34 2352.76,168.34 \"/>\n",
       "<polyline clip-path=\"url(#clip280)\" style=\"stroke:#000000; stroke-linecap:round; stroke-linejoin:round; stroke-width:4; stroke-opacity:1; fill:none\" points=\"149.191,1486.45 149.191,47.2441 \"/>\n",
       "<polyline clip-path=\"url(#clip280)\" style=\"stroke:#000000; stroke-linecap:round; stroke-linejoin:round; stroke-width:4; stroke-opacity:1; fill:none\" points=\"149.191,1371.7 168.089,1371.7 \"/>\n",
       "<polyline clip-path=\"url(#clip280)\" style=\"stroke:#000000; stroke-linecap:round; stroke-linejoin:round; stroke-width:4; stroke-opacity:1; fill:none\" points=\"149.191,1070.86 168.089,1070.86 \"/>\n",
       "<polyline clip-path=\"url(#clip280)\" style=\"stroke:#000000; stroke-linecap:round; stroke-linejoin:round; stroke-width:4; stroke-opacity:1; fill:none\" points=\"149.191,770.02 168.089,770.02 \"/>\n",
       "<polyline clip-path=\"url(#clip280)\" style=\"stroke:#000000; stroke-linecap:round; stroke-linejoin:round; stroke-width:4; stroke-opacity:1; fill:none\" points=\"149.191,469.18 168.089,469.18 \"/>\n",
       "<polyline clip-path=\"url(#clip280)\" style=\"stroke:#000000; stroke-linecap:round; stroke-linejoin:round; stroke-width:4; stroke-opacity:1; fill:none\" points=\"149.191,168.34 168.089,168.34 \"/>\n",
       "<path clip-path=\"url(#clip280)\" d=\"M50.9921 1372.15 L80.6679 1372.15 L80.6679 1376.09 L50.9921 1376.09 L50.9921 1372.15 Z\" fill=\"#000000\" fill-rule=\"nonzero\" fill-opacity=\"1\" /><path clip-path=\"url(#clip280)\" d=\"M103.608 1358.49 L91.8021 1376.94 L103.608 1376.94 L103.608 1358.49 M102.381 1354.42 L108.26 1354.42 L108.26 1376.94 L113.191 1376.94 L113.191 1380.83 L108.26 1380.83 L108.26 1388.98 L103.608 1388.98 L103.608 1380.83 L88.0058 1380.83 L88.0058 1376.32 L102.381 1354.42 Z\" fill=\"#000000\" fill-rule=\"nonzero\" fill-opacity=\"1\" /><path clip-path=\"url(#clip280)\" d=\"M53.0754 1071.31 L82.7512 1071.31 L82.7512 1075.25 L53.0754 1075.25 L53.0754 1071.31 Z\" fill=\"#000000\" fill-rule=\"nonzero\" fill-opacity=\"1\" /><path clip-path=\"url(#clip280)\" d=\"M96.8715 1084.21 L113.191 1084.21 L113.191 1088.14 L91.2465 1088.14 L91.2465 1084.21 Q93.9086 1081.45 98.4919 1076.82 Q103.098 1072.17 104.279 1070.83 Q106.524 1068.3 107.404 1066.57 Q108.307 1064.81 108.307 1063.12 Q108.307 1060.36 106.362 1058.63 Q104.441 1056.89 101.339 1056.89 Q99.14 1056.89 96.6863 1057.65 Q94.2558 1058.42 91.478 1059.97 L91.478 1055.25 Q94.3021 1054.11 96.7558 1053.53 Q99.2095 1052.96 101.246 1052.96 Q106.617 1052.96 109.811 1055.64 Q113.006 1058.33 113.006 1062.82 Q113.006 1064.95 112.196 1066.87 Q111.408 1068.77 109.302 1071.36 Q108.723 1072.03 105.621 1075.25 Q102.52 1078.44 96.8715 1084.21 Z\" fill=\"#000000\" fill-rule=\"nonzero\" fill-opacity=\"1\" /><path clip-path=\"url(#clip280)\" d=\"M101.246 755.819 Q97.6354 755.819 95.8067 759.384 Q94.0012 762.925 94.0012 770.055 Q94.0012 777.161 95.8067 780.726 Q97.6354 784.268 101.246 784.268 Q104.881 784.268 106.686 780.726 Q108.515 777.161 108.515 770.055 Q108.515 762.925 106.686 759.384 Q104.881 755.819 101.246 755.819 M101.246 752.115 Q107.057 752.115 110.112 756.722 Q113.191 761.305 113.191 770.055 Q113.191 778.782 110.112 783.388 Q107.057 787.971 101.246 787.971 Q95.4363 787.971 92.3576 783.388 Q89.3021 778.782 89.3021 770.055 Q89.3021 761.305 92.3576 756.722 Q95.4363 752.115 101.246 752.115 Z\" fill=\"#000000\" fill-rule=\"nonzero\" fill-opacity=\"1\" /><path clip-path=\"url(#clip280)\" d=\"M96.8715 482.525 L113.191 482.525 L113.191 486.46 L91.2465 486.46 L91.2465 482.525 Q93.9086 479.77 98.4919 475.14 Q103.098 470.488 104.279 469.145 Q106.524 466.622 107.404 464.886 Q108.307 463.127 108.307 461.437 Q108.307 458.682 106.362 456.946 Q104.441 455.21 101.339 455.21 Q99.14 455.21 96.6863 455.974 Q94.2558 456.738 91.478 458.289 L91.478 453.567 Q94.3021 452.432 96.7558 451.854 Q99.2095 451.275 101.246 451.275 Q106.617 451.275 109.811 453.96 Q113.006 456.645 113.006 461.136 Q113.006 463.266 112.196 465.187 Q111.408 467.085 109.302 469.678 Q108.723 470.349 105.621 473.566 Q102.52 476.761 96.8715 482.525 Z\" fill=\"#000000\" fill-rule=\"nonzero\" fill-opacity=\"1\" /><path clip-path=\"url(#clip280)\" d=\"M103.608 155.134 L91.8021 173.583 L103.608 173.583 L103.608 155.134 M102.381 151.06 L108.26 151.06 L108.26 173.583 L113.191 173.583 L113.191 177.471 L108.26 177.471 L108.26 185.62 L103.608 185.62 L103.608 177.471 L88.0058 177.471 L88.0058 172.958 L102.381 151.06 Z\" fill=\"#000000\" fill-rule=\"nonzero\" fill-opacity=\"1\" /><polyline clip-path=\"url(#clip282)\" style=\"stroke:#009af9; stroke-linecap:round; stroke-linejoin:round; stroke-width:4; stroke-opacity:1; fill:none\" points=\"211.556,1006.3 253.133,991.149 294.709,1001.63 336.286,991.565 377.863,1001.3 419.439,991.828 461.016,1001.12 502.593,991.955 544.17,1001.06 585.746,991.979 627.323,1001.08 668.9,991.931 710.476,1001.16 752.053,991.839 793.63,1001.27 835.206,991.721 876.783,1001.41 918.36,991.582 959.936,1001.56 1001.51,991.405 1043.09,1001.77 1084.67,991.151 1126.24,1002.09 1167.82,990.741 1209.4,1002.62 1250.97,990.052 1292.55,1003.52 1334.13,988.904 1375.7,1004.01 1417.28,935.502 1458.86,983.123 1500.43,961.459 1542.01,1028.65 1583.59,971.967 1625.16,1015.27 1666.74,988.058 1708.32,1000.12 1749.89,1004.7 1791.47,984.41 1833.05,1020.29 1874.62,970.618 1916.2,990.584 1957.78,938.008 1999.35,1066.87 2040.93,963.904 2082.51,1047.72 2124.08,938.523 2165.66,1098.44 2207.24,830.926 2248.81,1249.89 2290.39,533.741 \"/>\n",
       "<polyline clip-path=\"url(#clip282)\" style=\"stroke:#e26f46; stroke-linecap:round; stroke-linejoin:round; stroke-width:4; stroke-opacity:1; fill:none\" points=\"211.556,770.02 253.133,815.726 294.709,783.9 336.286,814.281 377.863,785.323 419.439,812.843 461.016,786.703 502.593,811.453 544.17,788.035 585.746,810.124 627.323,789.298 668.9,808.886 710.476,790.456 752.053,807.783 793.63,791.453 835.206,806.88 876.783,792.214 918.36,806.267 959.936,792.632 1001.51,806.066 1043.09,792.564 1084.67,806.444 1126.24,791.814 1167.82,807.63 1209.4,790.114 1250.97,809.949 1292.55,787.084 1334.13,813.838 1375.7,785.171 1417.28,986.163 1458.86,1319.19 1500.43,697.782 1542.01,887.834 1583.59,715.495 1625.16,872.94 1666.74,727.654 1708.32,854.194 1749.89,744.519 1791.47,833.057 1833.05,765.675 1874.62,807.286 1916.2,923.115 1957.78,1445.72 1999.35,351.107 2040.93,1074.08 2082.51,533.158 2124.08,1036.16 2165.66,480.9 2207.24,87.9763 2248.81,1365.67 2290.39,770.02 \"/>\n",
       "<polyline clip-path=\"url(#clip282)\" style=\"stroke:#3da44d; stroke-linecap:round; stroke-linejoin:round; stroke-width:4; stroke-opacity:1; fill:none\" points=\"211.556,1006.3 253.133,1006.3 294.709,1006.3 336.286,1006.3 377.863,1006.3 419.439,1006.3 461.016,1006.3 502.593,1006.3 544.17,1006.3 585.746,1006.3 627.323,1006.3 668.9,1006.3 710.476,1006.3 752.053,1006.3 793.63,1006.3 835.206,1006.3 876.783,1006.3 918.36,1006.3 959.936,1006.3 1001.51,1006.3 1043.09,1006.3 1084.67,1006.3 1126.24,1006.3 1167.82,1006.3 1209.4,1006.3 1250.97,1006.3 1292.55,1006.3 1334.13,1006.3 1375.7,1006.3 1417.28,1006.3 1458.86,1006.3 1500.43,1006.3 1542.01,1006.3 1583.59,1006.3 1625.16,1006.3 1666.74,1006.3 1708.32,1006.3 1749.89,1006.3 1791.47,1006.3 1833.05,1006.3 1874.62,1006.3 1916.2,1006.3 1957.78,1006.3 1999.35,1006.3 2040.93,1006.3 2082.51,1006.3 2124.08,1006.3 2165.66,1006.3 2207.24,1006.3 2248.81,1006.3 2290.39,1006.3 \"/>\n",
       "<path clip-path=\"url(#clip280)\" d=\"M222.643 302.578 L496.009 302.578 L496.009 95.2176 L222.643 95.2176  Z\" fill=\"#ffffff\" fill-rule=\"evenodd\" fill-opacity=\"1\"/>\n",
       "<polyline clip-path=\"url(#clip280)\" style=\"stroke:#000000; stroke-linecap:round; stroke-linejoin:round; stroke-width:4; stroke-opacity:1; fill:none\" points=\"222.643,302.578 496.009,302.578 496.009,95.2176 222.643,95.2176 222.643,302.578 \"/>\n",
       "<polyline clip-path=\"url(#clip280)\" style=\"stroke:#009af9; stroke-linecap:round; stroke-linejoin:round; stroke-width:4; stroke-opacity:1; fill:none\" points=\"247.127,147.058 394.031,147.058 \"/>\n",
       "<path clip-path=\"url(#clip280)\" d=\"M432.358 166.745 Q430.552 171.375 428.84 172.787 Q427.127 174.199 424.256 174.199 L420.853 174.199 L420.853 170.634 L423.353 170.634 Q425.113 170.634 426.085 169.8 Q427.057 168.967 428.238 165.865 L429.002 163.921 L418.515 138.412 L423.029 138.412 L431.131 158.689 L439.233 138.412 L443.747 138.412 L432.358 166.745 Z\" fill=\"#000000\" fill-rule=\"nonzero\" fill-opacity=\"1\" /><path clip-path=\"url(#clip280)\" d=\"M451.038 160.402 L458.677 160.402 L458.677 134.037 L450.367 135.703 L450.367 131.444 L458.631 129.778 L463.307 129.778 L463.307 160.402 L470.946 160.402 L470.946 164.338 L451.038 164.338 L451.038 160.402 Z\" fill=\"#000000\" fill-rule=\"nonzero\" fill-opacity=\"1\" /><polyline clip-path=\"url(#clip280)\" style=\"stroke:#e26f46; stroke-linecap:round; stroke-linejoin:round; stroke-width:4; stroke-opacity:1; fill:none\" points=\"247.127,198.898 394.031,198.898 \"/>\n",
       "<path clip-path=\"url(#clip280)\" d=\"M432.358 218.585 Q430.552 223.215 428.84 224.627 Q427.127 226.039 424.256 226.039 L420.853 226.039 L420.853 222.474 L423.353 222.474 Q425.113 222.474 426.085 221.64 Q427.057 220.807 428.238 217.705 L429.002 215.761 L418.515 190.252 L423.029 190.252 L431.131 210.529 L439.233 190.252 L443.747 190.252 L432.358 218.585 Z\" fill=\"#000000\" fill-rule=\"nonzero\" fill-opacity=\"1\" /><path clip-path=\"url(#clip280)\" d=\"M454.256 212.242 L470.575 212.242 L470.575 216.178 L448.631 216.178 L448.631 212.242 Q451.293 209.488 455.876 204.858 Q460.483 200.205 461.663 198.863 Q463.909 196.34 464.788 194.604 Q465.691 192.844 465.691 191.155 Q465.691 188.4 463.747 186.664 Q461.825 184.928 458.724 184.928 Q456.525 184.928 454.071 185.692 Q451.64 186.455 448.863 188.006 L448.863 183.284 Q451.687 182.15 454.14 181.571 Q456.594 180.993 458.631 180.993 Q464.001 180.993 467.196 183.678 Q470.39 186.363 470.39 190.854 Q470.39 192.983 469.58 194.905 Q468.793 196.803 466.687 199.395 Q466.108 200.067 463.006 203.284 Q459.904 206.479 454.256 212.242 Z\" fill=\"#000000\" fill-rule=\"nonzero\" fill-opacity=\"1\" /><polyline clip-path=\"url(#clip280)\" style=\"stroke:#3da44d; stroke-linecap:round; stroke-linejoin:round; stroke-width:4; stroke-opacity:1; fill:none\" points=\"247.127,250.738 394.031,250.738 \"/>\n",
       "<path clip-path=\"url(#clip280)\" d=\"M432.358 270.425 Q430.552 275.055 428.84 276.467 Q427.127 277.879 424.256 277.879 L420.853 277.879 L420.853 274.314 L423.353 274.314 Q425.113 274.314 426.085 273.48 Q427.057 272.647 428.238 269.545 L429.002 267.601 L418.515 242.092 L423.029 242.092 L431.131 262.369 L439.233 242.092 L443.747 242.092 L432.358 270.425 Z\" fill=\"#000000\" fill-rule=\"nonzero\" fill-opacity=\"1\" /><path clip-path=\"url(#clip280)\" d=\"M464.395 249.383 Q467.751 250.101 469.626 252.369 Q471.524 254.638 471.524 257.971 Q471.524 263.087 468.006 265.888 Q464.487 268.689 458.006 268.689 Q455.83 268.689 453.515 268.249 Q451.224 267.832 448.77 266.976 L448.77 262.462 Q450.714 263.596 453.029 264.175 Q455.344 264.754 457.867 264.754 Q462.265 264.754 464.557 263.018 Q466.872 261.281 466.872 257.971 Q466.872 254.916 464.719 253.203 Q462.589 251.467 458.77 251.467 L454.742 251.467 L454.742 247.624 L458.955 247.624 Q462.404 247.624 464.233 246.258 Q466.062 244.87 466.062 242.277 Q466.062 239.615 464.163 238.203 Q462.288 236.768 458.77 236.768 Q456.849 236.768 454.65 237.184 Q452.45 237.601 449.812 238.481 L449.812 234.314 Q452.474 233.573 454.788 233.203 Q457.126 232.833 459.187 232.833 Q464.511 232.833 467.612 235.263 Q470.714 237.67 470.714 241.791 Q470.714 244.661 469.071 246.652 Q467.427 248.62 464.395 249.383 Z\" fill=\"#000000\" fill-rule=\"nonzero\" fill-opacity=\"1\" /></svg>\n"
      ]
     },
     "execution_count": 15,
     "metadata": {},
     "output_type": "execute_result"
    }
   ],
   "source": [
    "plot(thist,xtraj[1,:])\n",
    "plot!(thist,xtraj[2,:])\n",
    "plot!(thist,xguess[1,:])"
   ]
  },
  {
   "cell_type": "code",
   "execution_count": 15,
   "id": "1c6a65ed-1f95-47cd-93fd-baf3c3c4ada4",
   "metadata": {},
   "outputs": [
    {
     "data": {
      "image/svg+xml": [
       "<?xml version=\"1.0\" encoding=\"utf-8\"?>\n",
       "<svg xmlns=\"http://www.w3.org/2000/svg\" xmlns:xlink=\"http://www.w3.org/1999/xlink\" width=\"600\" height=\"400\" viewBox=\"0 0 2400 1600\">\n",
       "<defs>\n",
       "  <clipPath id=\"clip240\">\n",
       "    <rect x=\"0\" y=\"0\" width=\"2400\" height=\"1600\"/>\n",
       "  </clipPath>\n",
       "</defs>\n",
       "<path clip-path=\"url(#clip240)\" d=\"M0 1600 L2400 1600 L2400 0 L0 0  Z\" fill=\"#ffffff\" fill-rule=\"evenodd\" fill-opacity=\"1\"/>\n",
       "<defs>\n",
       "  <clipPath id=\"clip241\">\n",
       "    <rect x=\"480\" y=\"0\" width=\"1681\" height=\"1600\"/>\n",
       "  </clipPath>\n",
       "</defs>\n",
       "<path clip-path=\"url(#clip240)\" d=\"M148.057 1486.45 L2352.76 1486.45 L2352.76 47.2441 L148.057 47.2441  Z\" fill=\"#ffffff\" fill-rule=\"evenodd\" fill-opacity=\"1\"/>\n",
       "<defs>\n",
       "  <clipPath id=\"clip242\">\n",
       "    <rect x=\"148\" y=\"47\" width=\"2206\" height=\"1440\"/>\n",
       "  </clipPath>\n",
       "</defs>\n",
       "<polyline clip-path=\"url(#clip242)\" style=\"stroke:#000000; stroke-linecap:round; stroke-linejoin:round; stroke-width:2; stroke-opacity:0.1; fill:none\" points=\"210.454,1486.45 210.454,47.2441 \"/>\n",
       "<polyline clip-path=\"url(#clip242)\" style=\"stroke:#000000; stroke-linecap:round; stroke-linejoin:round; stroke-width:2; stroke-opacity:0.1; fill:none\" points=\"626.435,1486.45 626.435,47.2441 \"/>\n",
       "<polyline clip-path=\"url(#clip242)\" style=\"stroke:#000000; stroke-linecap:round; stroke-linejoin:round; stroke-width:2; stroke-opacity:0.1; fill:none\" points=\"1042.42,1486.45 1042.42,47.2441 \"/>\n",
       "<polyline clip-path=\"url(#clip242)\" style=\"stroke:#000000; stroke-linecap:round; stroke-linejoin:round; stroke-width:2; stroke-opacity:0.1; fill:none\" points=\"1458.4,1486.45 1458.4,47.2441 \"/>\n",
       "<polyline clip-path=\"url(#clip242)\" style=\"stroke:#000000; stroke-linecap:round; stroke-linejoin:round; stroke-width:2; stroke-opacity:0.1; fill:none\" points=\"1874.38,1486.45 1874.38,47.2441 \"/>\n",
       "<polyline clip-path=\"url(#clip242)\" style=\"stroke:#000000; stroke-linecap:round; stroke-linejoin:round; stroke-width:2; stroke-opacity:0.1; fill:none\" points=\"2290.36,1486.45 2290.36,47.2441 \"/>\n",
       "<polyline clip-path=\"url(#clip240)\" style=\"stroke:#000000; stroke-linecap:round; stroke-linejoin:round; stroke-width:4; stroke-opacity:1; fill:none\" points=\"148.057,1486.45 2352.76,1486.45 \"/>\n",
       "<polyline clip-path=\"url(#clip240)\" style=\"stroke:#000000; stroke-linecap:round; stroke-linejoin:round; stroke-width:4; stroke-opacity:1; fill:none\" points=\"210.454,1486.45 210.454,1467.55 \"/>\n",
       "<polyline clip-path=\"url(#clip240)\" style=\"stroke:#000000; stroke-linecap:round; stroke-linejoin:round; stroke-width:4; stroke-opacity:1; fill:none\" points=\"626.435,1486.45 626.435,1467.55 \"/>\n",
       "<polyline clip-path=\"url(#clip240)\" style=\"stroke:#000000; stroke-linecap:round; stroke-linejoin:round; stroke-width:4; stroke-opacity:1; fill:none\" points=\"1042.42,1486.45 1042.42,1467.55 \"/>\n",
       "<polyline clip-path=\"url(#clip240)\" style=\"stroke:#000000; stroke-linecap:round; stroke-linejoin:round; stroke-width:4; stroke-opacity:1; fill:none\" points=\"1458.4,1486.45 1458.4,1467.55 \"/>\n",
       "<polyline clip-path=\"url(#clip240)\" style=\"stroke:#000000; stroke-linecap:round; stroke-linejoin:round; stroke-width:4; stroke-opacity:1; fill:none\" points=\"1874.38,1486.45 1874.38,1467.55 \"/>\n",
       "<polyline clip-path=\"url(#clip240)\" style=\"stroke:#000000; stroke-linecap:round; stroke-linejoin:round; stroke-width:4; stroke-opacity:1; fill:none\" points=\"2290.36,1486.45 2290.36,1467.55 \"/>\n",
       "<path clip-path=\"url(#clip240)\" d=\"M210.454 1517.37 Q206.843 1517.37 205.014 1520.93 Q203.208 1524.47 203.208 1531.6 Q203.208 1538.71 205.014 1542.27 Q206.843 1545.82 210.454 1545.82 Q214.088 1545.82 215.894 1542.27 Q217.722 1538.71 217.722 1531.6 Q217.722 1524.47 215.894 1520.93 Q214.088 1517.37 210.454 1517.37 M210.454 1513.66 Q216.264 1513.66 219.319 1518.27 Q222.398 1522.85 222.398 1531.6 Q222.398 1540.33 219.319 1544.94 Q216.264 1549.52 210.454 1549.52 Q204.644 1549.52 201.565 1544.94 Q198.509 1540.33 198.509 1531.6 Q198.509 1522.85 201.565 1518.27 Q204.644 1513.66 210.454 1513.66 Z\" fill=\"#000000\" fill-rule=\"nonzero\" fill-opacity=\"1\" /><path clip-path=\"url(#clip240)\" d=\"M616.817 1544.91 L624.456 1544.91 L624.456 1518.55 L616.145 1520.21 L616.145 1515.95 L624.409 1514.29 L629.085 1514.29 L629.085 1544.91 L636.724 1544.91 L636.724 1548.85 L616.817 1548.85 L616.817 1544.91 Z\" fill=\"#000000\" fill-rule=\"nonzero\" fill-opacity=\"1\" /><path clip-path=\"url(#clip240)\" d=\"M1037.07 1544.91 L1053.39 1544.91 L1053.39 1548.85 L1031.44 1548.85 L1031.44 1544.91 Q1034.11 1542.16 1038.69 1537.53 Q1043.3 1532.88 1044.48 1531.53 Q1046.72 1529.01 1047.6 1527.27 Q1048.5 1525.51 1048.5 1523.82 Q1048.5 1521.07 1046.56 1519.33 Q1044.64 1517.6 1041.54 1517.6 Q1039.34 1517.6 1036.88 1518.36 Q1034.45 1519.13 1031.68 1520.68 L1031.68 1515.95 Q1034.5 1514.82 1036.95 1514.24 Q1039.41 1513.66 1041.44 1513.66 Q1046.81 1513.66 1050.01 1516.35 Q1053.2 1519.03 1053.2 1523.52 Q1053.2 1525.65 1052.39 1527.57 Q1051.61 1529.47 1049.5 1532.07 Q1048.92 1532.74 1045.82 1535.95 Q1042.72 1539.15 1037.07 1544.91 Z\" fill=\"#000000\" fill-rule=\"nonzero\" fill-opacity=\"1\" /><path clip-path=\"url(#clip240)\" d=\"M1462.64 1530.21 Q1466 1530.93 1467.88 1533.2 Q1469.77 1535.47 1469.77 1538.8 Q1469.77 1543.92 1466.26 1546.72 Q1462.74 1549.52 1456.26 1549.52 Q1454.08 1549.52 1451.76 1549.08 Q1449.47 1548.66 1447.02 1547.81 L1447.02 1543.29 Q1448.96 1544.43 1451.28 1545.01 Q1453.59 1545.58 1456.12 1545.58 Q1460.51 1545.58 1462.81 1543.85 Q1465.12 1542.11 1465.12 1538.8 Q1465.12 1535.75 1462.97 1534.03 Q1460.84 1532.3 1457.02 1532.3 L1452.99 1532.3 L1452.99 1528.45 L1457.2 1528.45 Q1460.65 1528.45 1462.48 1527.09 Q1464.31 1525.7 1464.31 1523.11 Q1464.31 1520.45 1462.41 1519.03 Q1460.54 1517.6 1457.02 1517.6 Q1455.1 1517.6 1452.9 1518.01 Q1450.7 1518.43 1448.06 1519.31 L1448.06 1515.14 Q1450.72 1514.4 1453.04 1514.03 Q1455.38 1513.66 1457.44 1513.66 Q1462.76 1513.66 1465.86 1516.09 Q1468.96 1518.5 1468.96 1522.62 Q1468.96 1525.49 1467.32 1527.48 Q1465.68 1529.45 1462.64 1530.21 Z\" fill=\"#000000\" fill-rule=\"nonzero\" fill-opacity=\"1\" /><path clip-path=\"url(#clip240)\" d=\"M1877.39 1518.36 L1865.58 1536.81 L1877.39 1536.81 L1877.39 1518.36 M1876.16 1514.29 L1882.04 1514.29 L1882.04 1536.81 L1886.97 1536.81 L1886.97 1540.7 L1882.04 1540.7 L1882.04 1548.85 L1877.39 1548.85 L1877.39 1540.7 L1861.79 1540.7 L1861.79 1536.19 L1876.16 1514.29 Z\" fill=\"#000000\" fill-rule=\"nonzero\" fill-opacity=\"1\" /><path clip-path=\"url(#clip240)\" d=\"M2280.64 1514.29 L2298.99 1514.29 L2298.99 1518.22 L2284.92 1518.22 L2284.92 1526.7 Q2285.94 1526.35 2286.96 1526.19 Q2287.97 1526 2288.99 1526 Q2294.78 1526 2298.16 1529.17 Q2301.54 1532.34 2301.54 1537.76 Q2301.54 1543.34 2298.07 1546.44 Q2294.59 1549.52 2288.28 1549.52 Q2286.1 1549.52 2283.83 1549.15 Q2281.59 1548.78 2279.18 1548.04 L2279.18 1543.34 Q2281.26 1544.47 2283.48 1545.03 Q2285.71 1545.58 2288.18 1545.58 Q2292.19 1545.58 2294.53 1543.48 Q2296.86 1541.37 2296.86 1537.76 Q2296.86 1534.15 2294.53 1532.04 Q2292.19 1529.94 2288.18 1529.94 Q2286.31 1529.94 2284.43 1530.35 Q2282.58 1530.77 2280.64 1531.65 L2280.64 1514.29 Z\" fill=\"#000000\" fill-rule=\"nonzero\" fill-opacity=\"1\" /><polyline clip-path=\"url(#clip242)\" style=\"stroke:#000000; stroke-linecap:round; stroke-linejoin:round; stroke-width:2; stroke-opacity:0.1; fill:none\" points=\"148.057,1467.25 2352.76,1467.25 \"/>\n",
       "<polyline clip-path=\"url(#clip242)\" style=\"stroke:#000000; stroke-linecap:round; stroke-linejoin:round; stroke-width:2; stroke-opacity:0.1; fill:none\" points=\"148.057,1242.95 2352.76,1242.95 \"/>\n",
       "<polyline clip-path=\"url(#clip242)\" style=\"stroke:#000000; stroke-linecap:round; stroke-linejoin:round; stroke-width:2; stroke-opacity:0.1; fill:none\" points=\"148.057,1018.64 2352.76,1018.64 \"/>\n",
       "<polyline clip-path=\"url(#clip242)\" style=\"stroke:#000000; stroke-linecap:round; stroke-linejoin:round; stroke-width:2; stroke-opacity:0.1; fill:none\" points=\"148.057,794.337 2352.76,794.337 \"/>\n",
       "<polyline clip-path=\"url(#clip242)\" style=\"stroke:#000000; stroke-linecap:round; stroke-linejoin:round; stroke-width:2; stroke-opacity:0.1; fill:none\" points=\"148.057,570.031 2352.76,570.031 \"/>\n",
       "<polyline clip-path=\"url(#clip242)\" style=\"stroke:#000000; stroke-linecap:round; stroke-linejoin:round; stroke-width:2; stroke-opacity:0.1; fill:none\" points=\"148.057,345.726 2352.76,345.726 \"/>\n",
       "<polyline clip-path=\"url(#clip242)\" style=\"stroke:#000000; stroke-linecap:round; stroke-linejoin:round; stroke-width:2; stroke-opacity:0.1; fill:none\" points=\"148.057,121.421 2352.76,121.421 \"/>\n",
       "<polyline clip-path=\"url(#clip240)\" style=\"stroke:#000000; stroke-linecap:round; stroke-linejoin:round; stroke-width:4; stroke-opacity:1; fill:none\" points=\"148.057,1486.45 148.057,47.2441 \"/>\n",
       "<polyline clip-path=\"url(#clip240)\" style=\"stroke:#000000; stroke-linecap:round; stroke-linejoin:round; stroke-width:4; stroke-opacity:1; fill:none\" points=\"148.057,1467.25 166.954,1467.25 \"/>\n",
       "<polyline clip-path=\"url(#clip240)\" style=\"stroke:#000000; stroke-linecap:round; stroke-linejoin:round; stroke-width:4; stroke-opacity:1; fill:none\" points=\"148.057,1242.95 166.954,1242.95 \"/>\n",
       "<polyline clip-path=\"url(#clip240)\" style=\"stroke:#000000; stroke-linecap:round; stroke-linejoin:round; stroke-width:4; stroke-opacity:1; fill:none\" points=\"148.057,1018.64 166.954,1018.64 \"/>\n",
       "<polyline clip-path=\"url(#clip240)\" style=\"stroke:#000000; stroke-linecap:round; stroke-linejoin:round; stroke-width:4; stroke-opacity:1; fill:none\" points=\"148.057,794.337 166.954,794.337 \"/>\n",
       "<polyline clip-path=\"url(#clip240)\" style=\"stroke:#000000; stroke-linecap:round; stroke-linejoin:round; stroke-width:4; stroke-opacity:1; fill:none\" points=\"148.057,570.031 166.954,570.031 \"/>\n",
       "<polyline clip-path=\"url(#clip240)\" style=\"stroke:#000000; stroke-linecap:round; stroke-linejoin:round; stroke-width:4; stroke-opacity:1; fill:none\" points=\"148.057,345.726 166.954,345.726 \"/>\n",
       "<polyline clip-path=\"url(#clip240)\" style=\"stroke:#000000; stroke-linecap:round; stroke-linejoin:round; stroke-width:4; stroke-opacity:1; fill:none\" points=\"148.057,121.421 166.954,121.421 \"/>\n",
       "<path clip-path=\"url(#clip240)\" d=\"M50.9921 1467.7 L80.6679 1467.7 L80.6679 1471.64 L50.9921 1471.64 L50.9921 1467.7 Z\" fill=\"#000000\" fill-rule=\"nonzero\" fill-opacity=\"1\" /><path clip-path=\"url(#clip240)\" d=\"M104.927 1465.9 Q108.283 1466.62 110.158 1468.88 Q112.057 1471.15 112.057 1474.49 Q112.057 1479.6 108.538 1482.4 Q105.02 1485.2 98.5382 1485.2 Q96.3623 1485.2 94.0475 1484.76 Q91.7558 1484.35 89.3021 1483.49 L89.3021 1478.98 Q91.2465 1480.11 93.5613 1480.69 Q95.8761 1481.27 98.3993 1481.27 Q102.797 1481.27 105.089 1479.53 Q107.404 1477.8 107.404 1474.49 Q107.404 1471.43 105.251 1469.72 Q103.121 1467.98 99.3021 1467.98 L95.2743 1467.98 L95.2743 1464.14 L99.4872 1464.14 Q102.936 1464.14 104.765 1462.77 Q106.594 1461.38 106.594 1458.79 Q106.594 1456.13 104.696 1454.72 Q102.821 1453.28 99.3021 1453.28 Q97.3808 1453.28 95.1817 1453.7 Q92.9826 1454.12 90.3438 1454.99 L90.3438 1450.83 Q93.0058 1450.09 95.3206 1449.72 Q97.6585 1449.35 99.7187 1449.35 Q105.043 1449.35 108.145 1451.78 Q111.246 1454.18 111.246 1458.31 Q111.246 1461.18 109.603 1463.17 Q107.959 1465.13 104.927 1465.9 Z\" fill=\"#000000\" fill-rule=\"nonzero\" fill-opacity=\"1\" /><path clip-path=\"url(#clip240)\" d=\"M51.9412 1243.4 L81.617 1243.4 L81.617 1247.33 L51.9412 1247.33 L51.9412 1243.4 Z\" fill=\"#000000\" fill-rule=\"nonzero\" fill-opacity=\"1\" /><path clip-path=\"url(#clip240)\" d=\"M95.7373 1256.29 L112.057 1256.29 L112.057 1260.23 L90.1123 1260.23 L90.1123 1256.29 Q92.7743 1253.54 97.3576 1248.91 Q101.964 1244.25 103.145 1242.91 Q105.39 1240.39 106.27 1238.65 Q107.172 1236.89 107.172 1235.2 Q107.172 1232.45 105.228 1230.71 Q103.307 1228.98 100.205 1228.98 Q98.0058 1228.98 95.5521 1229.74 Q93.1215 1230.5 90.3438 1232.06 L90.3438 1227.33 Q93.1678 1226.2 95.6215 1225.62 Q98.0752 1225.04 100.112 1225.04 Q105.483 1225.04 108.677 1227.73 Q111.871 1230.41 111.871 1234.9 Q111.871 1237.03 111.061 1238.95 Q110.274 1240.85 108.168 1243.44 Q107.589 1244.12 104.487 1247.33 Q101.385 1250.53 95.7373 1256.29 Z\" fill=\"#000000\" fill-rule=\"nonzero\" fill-opacity=\"1\" /><path clip-path=\"url(#clip240)\" d=\"M51.5708 1019.09 L81.2466 1019.09 L81.2466 1023.03 L51.5708 1023.03 L51.5708 1019.09 Z\" fill=\"#000000\" fill-rule=\"nonzero\" fill-opacity=\"1\" /><path clip-path=\"url(#clip240)\" d=\"M92.1493 1031.99 L99.7882 1031.99 L99.7882 1005.62 L91.478 1007.29 L91.478 1003.03 L99.7419 1001.36 L104.418 1001.36 L104.418 1031.99 L112.057 1031.99 L112.057 1035.92 L92.1493 1035.92 L92.1493 1031.99 Z\" fill=\"#000000\" fill-rule=\"nonzero\" fill-opacity=\"1\" /><path clip-path=\"url(#clip240)\" d=\"M100.112 780.135 Q96.5011 780.135 94.6724 783.7 Q92.8669 787.242 92.8669 794.371 Q92.8669 801.478 94.6724 805.042 Q96.5011 808.584 100.112 808.584 Q103.746 808.584 105.552 805.042 Q107.381 801.478 107.381 794.371 Q107.381 787.242 105.552 783.7 Q103.746 780.135 100.112 780.135 M100.112 776.432 Q105.922 776.432 108.978 781.038 Q112.057 785.621 112.057 794.371 Q112.057 803.098 108.978 807.704 Q105.922 812.288 100.112 812.288 Q94.3021 812.288 91.2234 807.704 Q88.1679 803.098 88.1679 794.371 Q88.1679 785.621 91.2234 781.038 Q94.3021 776.432 100.112 776.432 Z\" fill=\"#000000\" fill-rule=\"nonzero\" fill-opacity=\"1\" /><path clip-path=\"url(#clip240)\" d=\"M92.1493 583.376 L99.7882 583.376 L99.7882 557.011 L91.478 558.677 L91.478 554.418 L99.7419 552.751 L104.418 552.751 L104.418 583.376 L112.057 583.376 L112.057 587.311 L92.1493 587.311 L92.1493 583.376 Z\" fill=\"#000000\" fill-rule=\"nonzero\" fill-opacity=\"1\" /><path clip-path=\"url(#clip240)\" d=\"M95.7373 359.071 L112.057 359.071 L112.057 363.006 L90.1123 363.006 L90.1123 359.071 Q92.7743 356.317 97.3576 351.687 Q101.964 347.034 103.145 345.692 Q105.39 343.168 106.27 341.432 Q107.172 339.673 107.172 337.983 Q107.172 335.229 105.228 333.493 Q103.307 331.756 100.205 331.756 Q98.0058 331.756 95.5521 332.52 Q93.1215 333.284 90.3438 334.835 L90.3438 330.113 Q93.1678 328.979 95.6215 328.4 Q98.0752 327.821 100.112 327.821 Q105.483 327.821 108.677 330.506 Q111.871 333.192 111.871 337.682 Q111.871 339.812 111.061 341.733 Q110.274 343.631 108.168 346.224 Q107.589 346.895 104.487 350.113 Q101.385 353.307 95.7373 359.071 Z\" fill=\"#000000\" fill-rule=\"nonzero\" fill-opacity=\"1\" /><path clip-path=\"url(#clip240)\" d=\"M104.927 120.067 Q108.283 120.785 110.158 123.053 Q112.057 125.322 112.057 128.655 Q112.057 133.771 108.538 136.572 Q105.02 139.373 98.5382 139.373 Q96.3623 139.373 94.0475 138.933 Q91.7558 138.516 89.3021 137.66 L89.3021 133.146 Q91.2465 134.28 93.5613 134.859 Q95.8761 135.437 98.3993 135.437 Q102.797 135.437 105.089 133.701 Q107.404 131.965 107.404 128.655 Q107.404 125.599 105.251 123.886 Q103.121 122.15 99.3021 122.15 L95.2743 122.15 L95.2743 118.308 L99.4872 118.308 Q102.936 118.308 104.765 116.942 Q106.594 115.553 106.594 112.961 Q106.594 110.299 104.696 108.887 Q102.821 107.451 99.3021 107.451 Q97.3808 107.451 95.1817 107.868 Q92.9826 108.285 90.3438 109.164 L90.3438 104.998 Q93.0058 104.257 95.3206 103.887 Q97.6585 103.516 99.7187 103.516 Q105.043 103.516 108.145 105.947 Q111.246 108.354 111.246 112.475 Q111.246 115.345 109.603 117.336 Q107.959 119.303 104.927 120.067 Z\" fill=\"#000000\" fill-rule=\"nonzero\" fill-opacity=\"1\" /><polyline clip-path=\"url(#clip242)\" style=\"stroke:#009af9; stroke-linecap:round; stroke-linejoin:round; stroke-width:4; stroke-opacity:1; fill:none\" points=\"210.454,794.337 252.052,793.934 293.65,793.988 335.248,795.353 376.846,792.75 418.444,796.398 460.042,791.912 501.64,797.018 543.239,791.517 584.837,797.181 626.435,791.589 668.033,796.872 709.631,792.135 751.229,796.09 792.827,793.149 834.425,794.845 876.023,794.623 917.621,793.141 959.22,796.56 1000.82,790.961 1042.42,798.998 1084.01,788.241 1125.61,802.036 1167.21,784.837 1208.81,805.871 1250.41,780.483 1292,810.857 1333.6,774.725 1375.2,817.272 1416.8,751.794 1458.4,854.567 1499.99,717.014 1541.59,904.382 1583.19,654.307 1624.79,961.432 1666.39,604.547 1707.99,1003.38 1749.58,570.553 1791.18,1029 1832.78,553.04 1874.38,1038.7 1915.98,539.154 1957.57,1049.33 1999.17,556.677 2040.77,1038.45 2082.37,518.918 2123.97,1103.12 2165.56,463.228 2207.16,1110.82 2248.76,559.092 2290.36,794.337 \"/>\n",
       "<polyline clip-path=\"url(#clip242)\" style=\"stroke:#e26f46; stroke-linecap:round; stroke-linejoin:round; stroke-width:4; stroke-opacity:1; fill:none\" points=\"210.454,794.337 252.052,798.348 293.65,789.906 335.248,799.245 376.846,788.885 418.444,800.353 460.042,787.719 501.64,801.556 543.239,786.502 584.837,802.773 626.435,785.299 668.033,803.956 709.631,784.137 751.229,805.107 792.827,782.981 834.425,806.298 876.023,781.714 917.621,807.699 959.22,780.106 1000.82,809.612 1042.42,777.768 1084.01,812.525 1125.61,774.099 1167.21,817.176 1208.81,768.196 1250.41,824.658 1292,758.741 1333.6,836.558 1375.2,744.717 1416.8,904.62 1458.4,791.757 1499.99,634.356 1541.59,950.456 1583.19,644.849 1624.79,934.282 1666.39,664.162 1707.99,911.403 1749.58,691.449 1791.18,879.95 1832.78,728.019 1874.38,837.498 1915.98,813.897 1957.57,927.492 1999.17,356.142 2040.77,1368.89 2082.37,171.986 2123.97,1445.72 2165.56,87.9763 2207.16,1303.23 2248.76,697.803 2290.36,794.337 \"/>\n",
       "<path clip-path=\"url(#clip240)\" d=\"M221.547 250.738 L494.447 250.738 L494.447 95.2176 L221.547 95.2176  Z\" fill=\"#ffffff\" fill-rule=\"evenodd\" fill-opacity=\"1\"/>\n",
       "<polyline clip-path=\"url(#clip240)\" style=\"stroke:#000000; stroke-linecap:round; stroke-linejoin:round; stroke-width:4; stroke-opacity:1; fill:none\" points=\"221.547,250.738 494.447,250.738 494.447,95.2176 221.547,95.2176 221.547,250.738 \"/>\n",
       "<polyline clip-path=\"url(#clip240)\" style=\"stroke:#009af9; stroke-linecap:round; stroke-linejoin:round; stroke-width:4; stroke-opacity:1; fill:none\" points=\"246.043,147.058 393.023,147.058 \"/>\n",
       "<path clip-path=\"url(#clip240)\" d=\"M431.362 166.745 Q429.557 171.375 427.844 172.787 Q426.131 174.199 423.261 174.199 L419.858 174.199 L419.858 170.634 L422.358 170.634 Q424.117 170.634 425.089 169.8 Q426.061 168.967 427.242 165.865 L428.006 163.921 L417.52 138.412 L422.034 138.412 L430.136 158.689 L438.237 138.412 L442.751 138.412 L431.362 166.745 Z\" fill=\"#000000\" fill-rule=\"nonzero\" fill-opacity=\"1\" /><path clip-path=\"url(#clip240)\" d=\"M450.043 160.402 L457.682 160.402 L457.682 134.037 L449.372 135.703 L449.372 131.444 L457.635 129.778 L462.311 129.778 L462.311 160.402 L469.95 160.402 L469.95 164.338 L450.043 164.338 L450.043 160.402 Z\" fill=\"#000000\" fill-rule=\"nonzero\" fill-opacity=\"1\" /><polyline clip-path=\"url(#clip240)\" style=\"stroke:#e26f46; stroke-linecap:round; stroke-linejoin:round; stroke-width:4; stroke-opacity:1; fill:none\" points=\"246.043,198.898 393.023,198.898 \"/>\n",
       "<path clip-path=\"url(#clip240)\" d=\"M431.362 218.585 Q429.557 223.215 427.844 224.627 Q426.131 226.039 423.261 226.039 L419.858 226.039 L419.858 222.474 L422.358 222.474 Q424.117 222.474 425.089 221.64 Q426.061 220.807 427.242 217.705 L428.006 215.761 L417.52 190.252 L422.034 190.252 L430.136 210.529 L438.237 190.252 L442.751 190.252 L431.362 218.585 Z\" fill=\"#000000\" fill-rule=\"nonzero\" fill-opacity=\"1\" /><path clip-path=\"url(#clip240)\" d=\"M453.26 212.242 L469.58 212.242 L469.58 216.178 L447.635 216.178 L447.635 212.242 Q450.297 209.488 454.881 204.858 Q459.487 200.205 460.668 198.863 Q462.913 196.34 463.793 194.604 Q464.696 192.844 464.696 191.155 Q464.696 188.4 462.751 186.664 Q460.83 184.928 457.728 184.928 Q455.529 184.928 453.075 185.692 Q450.645 186.455 447.867 188.006 L447.867 183.284 Q450.691 182.15 453.145 181.571 Q455.598 180.993 457.635 180.993 Q463.006 180.993 466.2 183.678 Q469.395 186.363 469.395 190.854 Q469.395 192.983 468.584 194.905 Q467.797 196.803 465.691 199.395 Q465.112 200.067 462.01 203.284 Q458.909 206.479 453.26 212.242 Z\" fill=\"#000000\" fill-rule=\"nonzero\" fill-opacity=\"1\" /></svg>\n"
      ]
     },
     "execution_count": 15,
     "metadata": {},
     "output_type": "execute_result"
    }
   ],
   "source": [
    "plot(thist,xtraj[3,:])\n",
    "plot!(thist,xtraj[4,:])"
   ]
  },
  {
   "cell_type": "code",
   "execution_count": 16,
   "id": "1af16e64-9849-4e01-8962-1852f9e318f8",
   "metadata": {
    "scrolled": true
   },
   "outputs": [
    {
     "data": {
      "image/svg+xml": [
       "<?xml version=\"1.0\" encoding=\"utf-8\"?>\n",
       "<svg xmlns=\"http://www.w3.org/2000/svg\" xmlns:xlink=\"http://www.w3.org/1999/xlink\" width=\"600\" height=\"400\" viewBox=\"0 0 2400 1600\">\n",
       "<defs>\n",
       "  <clipPath id=\"clip280\">\n",
       "    <rect x=\"0\" y=\"0\" width=\"2400\" height=\"1600\"/>\n",
       "  </clipPath>\n",
       "</defs>\n",
       "<path clip-path=\"url(#clip280)\" d=\"M0 1600 L2400 1600 L2400 0 L0 0  Z\" fill=\"#ffffff\" fill-rule=\"evenodd\" fill-opacity=\"1\"/>\n",
       "<defs>\n",
       "  <clipPath id=\"clip281\">\n",
       "    <rect x=\"480\" y=\"0\" width=\"1681\" height=\"1600\"/>\n",
       "  </clipPath>\n",
       "</defs>\n",
       "<path clip-path=\"url(#clip280)\" d=\"M178.867 1486.45 L2352.76 1486.45 L2352.76 47.2441 L178.867 47.2441  Z\" fill=\"#ffffff\" fill-rule=\"evenodd\" fill-opacity=\"1\"/>\n",
       "<defs>\n",
       "  <clipPath id=\"clip282\">\n",
       "    <rect x=\"178\" y=\"47\" width=\"2175\" height=\"1440\"/>\n",
       "  </clipPath>\n",
       "</defs>\n",
       "<polyline clip-path=\"url(#clip282)\" style=\"stroke:#000000; stroke-linecap:round; stroke-linejoin:round; stroke-width:2; stroke-opacity:0.1; fill:none\" points=\"240.392,1486.45 240.392,47.2441 \"/>\n",
       "<polyline clip-path=\"url(#clip282)\" style=\"stroke:#000000; stroke-linecap:round; stroke-linejoin:round; stroke-width:2; stroke-opacity:0.1; fill:none\" points=\"650.56,1486.45 650.56,47.2441 \"/>\n",
       "<polyline clip-path=\"url(#clip282)\" style=\"stroke:#000000; stroke-linecap:round; stroke-linejoin:round; stroke-width:2; stroke-opacity:0.1; fill:none\" points=\"1060.73,1486.45 1060.73,47.2441 \"/>\n",
       "<polyline clip-path=\"url(#clip282)\" style=\"stroke:#000000; stroke-linecap:round; stroke-linejoin:round; stroke-width:2; stroke-opacity:0.1; fill:none\" points=\"1470.9,1486.45 1470.9,47.2441 \"/>\n",
       "<polyline clip-path=\"url(#clip282)\" style=\"stroke:#000000; stroke-linecap:round; stroke-linejoin:round; stroke-width:2; stroke-opacity:0.1; fill:none\" points=\"1881.06,1486.45 1881.06,47.2441 \"/>\n",
       "<polyline clip-path=\"url(#clip282)\" style=\"stroke:#000000; stroke-linecap:round; stroke-linejoin:round; stroke-width:2; stroke-opacity:0.1; fill:none\" points=\"2291.23,1486.45 2291.23,47.2441 \"/>\n",
       "<polyline clip-path=\"url(#clip280)\" style=\"stroke:#000000; stroke-linecap:round; stroke-linejoin:round; stroke-width:4; stroke-opacity:1; fill:none\" points=\"178.867,1486.45 2352.76,1486.45 \"/>\n",
       "<polyline clip-path=\"url(#clip280)\" style=\"stroke:#000000; stroke-linecap:round; stroke-linejoin:round; stroke-width:4; stroke-opacity:1; fill:none\" points=\"240.392,1486.45 240.392,1467.55 \"/>\n",
       "<polyline clip-path=\"url(#clip280)\" style=\"stroke:#000000; stroke-linecap:round; stroke-linejoin:round; stroke-width:4; stroke-opacity:1; fill:none\" points=\"650.56,1486.45 650.56,1467.55 \"/>\n",
       "<polyline clip-path=\"url(#clip280)\" style=\"stroke:#000000; stroke-linecap:round; stroke-linejoin:round; stroke-width:4; stroke-opacity:1; fill:none\" points=\"1060.73,1486.45 1060.73,1467.55 \"/>\n",
       "<polyline clip-path=\"url(#clip280)\" style=\"stroke:#000000; stroke-linecap:round; stroke-linejoin:round; stroke-width:4; stroke-opacity:1; fill:none\" points=\"1470.9,1486.45 1470.9,1467.55 \"/>\n",
       "<polyline clip-path=\"url(#clip280)\" style=\"stroke:#000000; stroke-linecap:round; stroke-linejoin:round; stroke-width:4; stroke-opacity:1; fill:none\" points=\"1881.06,1486.45 1881.06,1467.55 \"/>\n",
       "<polyline clip-path=\"url(#clip280)\" style=\"stroke:#000000; stroke-linecap:round; stroke-linejoin:round; stroke-width:4; stroke-opacity:1; fill:none\" points=\"2291.23,1486.45 2291.23,1467.55 \"/>\n",
       "<path clip-path=\"url(#clip280)\" d=\"M240.392 1517.37 Q236.781 1517.37 234.952 1520.93 Q233.146 1524.47 233.146 1531.6 Q233.146 1538.71 234.952 1542.27 Q236.781 1545.82 240.392 1545.82 Q244.026 1545.82 245.832 1542.27 Q247.66 1538.71 247.66 1531.6 Q247.66 1524.47 245.832 1520.93 Q244.026 1517.37 240.392 1517.37 M240.392 1513.66 Q246.202 1513.66 249.257 1518.27 Q252.336 1522.85 252.336 1531.6 Q252.336 1540.33 249.257 1544.94 Q246.202 1549.52 240.392 1549.52 Q234.582 1549.52 231.503 1544.94 Q228.447 1540.33 228.447 1531.6 Q228.447 1522.85 231.503 1518.27 Q234.582 1513.66 240.392 1513.66 Z\" fill=\"#000000\" fill-rule=\"nonzero\" fill-opacity=\"1\" /><path clip-path=\"url(#clip280)\" d=\"M640.942 1544.91 L648.58 1544.91 L648.58 1518.55 L640.27 1520.21 L640.27 1515.95 L648.534 1514.29 L653.21 1514.29 L653.21 1544.91 L660.849 1544.91 L660.849 1548.85 L640.942 1548.85 L640.942 1544.91 Z\" fill=\"#000000\" fill-rule=\"nonzero\" fill-opacity=\"1\" /><path clip-path=\"url(#clip280)\" d=\"M1055.38 1544.91 L1071.7 1544.91 L1071.7 1548.85 L1049.76 1548.85 L1049.76 1544.91 Q1052.42 1542.16 1057 1537.53 Q1061.61 1532.88 1062.79 1531.53 Q1065.03 1529.01 1065.91 1527.27 Q1066.82 1525.51 1066.82 1523.82 Q1066.82 1521.07 1064.87 1519.33 Q1062.95 1517.6 1059.85 1517.6 Q1057.65 1517.6 1055.19 1518.36 Q1052.76 1519.13 1049.99 1520.68 L1049.99 1515.95 Q1052.81 1514.82 1055.26 1514.24 Q1057.72 1513.66 1059.76 1513.66 Q1065.13 1513.66 1068.32 1516.35 Q1071.51 1519.03 1071.51 1523.52 Q1071.51 1525.65 1070.7 1527.57 Q1069.92 1529.47 1067.81 1532.07 Q1067.23 1532.74 1064.13 1535.95 Q1061.03 1539.15 1055.38 1544.91 Z\" fill=\"#000000\" fill-rule=\"nonzero\" fill-opacity=\"1\" /><path clip-path=\"url(#clip280)\" d=\"M1475.14 1530.21 Q1478.5 1530.93 1480.37 1533.2 Q1482.27 1535.47 1482.27 1538.8 Q1482.27 1543.92 1478.75 1546.72 Q1475.24 1549.52 1468.75 1549.52 Q1466.58 1549.52 1464.26 1549.08 Q1461.97 1548.66 1459.52 1547.81 L1459.52 1543.29 Q1461.46 1544.43 1463.78 1545.01 Q1466.09 1545.58 1468.62 1545.58 Q1473.01 1545.58 1475.3 1543.85 Q1477.62 1542.11 1477.62 1538.8 Q1477.62 1535.75 1475.47 1534.03 Q1473.34 1532.3 1469.52 1532.3 L1465.49 1532.3 L1465.49 1528.45 L1469.7 1528.45 Q1473.15 1528.45 1474.98 1527.09 Q1476.81 1525.7 1476.81 1523.11 Q1476.81 1520.45 1474.91 1519.03 Q1473.04 1517.6 1469.52 1517.6 Q1467.6 1517.6 1465.4 1518.01 Q1463.2 1518.43 1460.56 1519.31 L1460.56 1515.14 Q1463.22 1514.4 1465.54 1514.03 Q1467.87 1513.66 1469.93 1513.66 Q1475.26 1513.66 1478.36 1516.09 Q1481.46 1518.5 1481.46 1522.62 Q1481.46 1525.49 1479.82 1527.48 Q1478.18 1529.45 1475.14 1530.21 Z\" fill=\"#000000\" fill-rule=\"nonzero\" fill-opacity=\"1\" /><path clip-path=\"url(#clip280)\" d=\"M1884.07 1518.36 L1872.27 1536.81 L1884.07 1536.81 L1884.07 1518.36 M1882.85 1514.29 L1888.72 1514.29 L1888.72 1536.81 L1893.66 1536.81 L1893.66 1540.7 L1888.72 1540.7 L1888.72 1548.85 L1884.07 1548.85 L1884.07 1540.7 L1868.47 1540.7 L1868.47 1536.19 L1882.85 1514.29 Z\" fill=\"#000000\" fill-rule=\"nonzero\" fill-opacity=\"1\" /><path clip-path=\"url(#clip280)\" d=\"M2281.51 1514.29 L2299.86 1514.29 L2299.86 1518.22 L2285.79 1518.22 L2285.79 1526.7 Q2286.81 1526.35 2287.83 1526.19 Q2288.85 1526 2289.87 1526 Q2295.65 1526 2299.03 1529.17 Q2302.41 1532.34 2302.41 1537.76 Q2302.41 1543.34 2298.94 1546.44 Q2295.47 1549.52 2289.15 1549.52 Q2286.97 1549.52 2284.7 1549.15 Q2282.46 1548.78 2280.05 1548.04 L2280.05 1543.34 Q2282.13 1544.47 2284.36 1545.03 Q2286.58 1545.58 2289.05 1545.58 Q2293.06 1545.58 2295.4 1543.48 Q2297.74 1541.37 2297.74 1537.76 Q2297.74 1534.15 2295.4 1532.04 Q2293.06 1529.94 2289.05 1529.94 Q2287.18 1529.94 2285.3 1530.35 Q2283.45 1530.77 2281.51 1531.65 L2281.51 1514.29 Z\" fill=\"#000000\" fill-rule=\"nonzero\" fill-opacity=\"1\" /><polyline clip-path=\"url(#clip282)\" style=\"stroke:#000000; stroke-linecap:round; stroke-linejoin:round; stroke-width:2; stroke-opacity:0.1; fill:none\" points=\"178.867,1381.61 2352.76,1381.61 \"/>\n",
       "<polyline clip-path=\"url(#clip282)\" style=\"stroke:#000000; stroke-linecap:round; stroke-linejoin:round; stroke-width:2; stroke-opacity:0.1; fill:none\" points=\"178.867,1129.36 2352.76,1129.36 \"/>\n",
       "<polyline clip-path=\"url(#clip282)\" style=\"stroke:#000000; stroke-linecap:round; stroke-linejoin:round; stroke-width:2; stroke-opacity:0.1; fill:none\" points=\"178.867,877.116 2352.76,877.116 \"/>\n",
       "<polyline clip-path=\"url(#clip282)\" style=\"stroke:#000000; stroke-linecap:round; stroke-linejoin:round; stroke-width:2; stroke-opacity:0.1; fill:none\" points=\"178.867,624.871 2352.76,624.871 \"/>\n",
       "<polyline clip-path=\"url(#clip282)\" style=\"stroke:#000000; stroke-linecap:round; stroke-linejoin:round; stroke-width:2; stroke-opacity:0.1; fill:none\" points=\"178.867,372.626 2352.76,372.626 \"/>\n",
       "<polyline clip-path=\"url(#clip282)\" style=\"stroke:#000000; stroke-linecap:round; stroke-linejoin:round; stroke-width:2; stroke-opacity:0.1; fill:none\" points=\"178.867,120.38 2352.76,120.38 \"/>\n",
       "<polyline clip-path=\"url(#clip280)\" style=\"stroke:#000000; stroke-linecap:round; stroke-linejoin:round; stroke-width:4; stroke-opacity:1; fill:none\" points=\"178.867,1486.45 178.867,47.2441 \"/>\n",
       "<polyline clip-path=\"url(#clip280)\" style=\"stroke:#000000; stroke-linecap:round; stroke-linejoin:round; stroke-width:4; stroke-opacity:1; fill:none\" points=\"178.867,1381.61 197.764,1381.61 \"/>\n",
       "<polyline clip-path=\"url(#clip280)\" style=\"stroke:#000000; stroke-linecap:round; stroke-linejoin:round; stroke-width:4; stroke-opacity:1; fill:none\" points=\"178.867,1129.36 197.764,1129.36 \"/>\n",
       "<polyline clip-path=\"url(#clip280)\" style=\"stroke:#000000; stroke-linecap:round; stroke-linejoin:round; stroke-width:4; stroke-opacity:1; fill:none\" points=\"178.867,877.116 197.764,877.116 \"/>\n",
       "<polyline clip-path=\"url(#clip280)\" style=\"stroke:#000000; stroke-linecap:round; stroke-linejoin:round; stroke-width:4; stroke-opacity:1; fill:none\" points=\"178.867,624.871 197.764,624.871 \"/>\n",
       "<polyline clip-path=\"url(#clip280)\" style=\"stroke:#000000; stroke-linecap:round; stroke-linejoin:round; stroke-width:4; stroke-opacity:1; fill:none\" points=\"178.867,372.626 197.764,372.626 \"/>\n",
       "<polyline clip-path=\"url(#clip280)\" style=\"stroke:#000000; stroke-linecap:round; stroke-linejoin:round; stroke-width:4; stroke-opacity:1; fill:none\" points=\"178.867,120.38 197.764,120.38 \"/>\n",
       "<path clip-path=\"url(#clip280)\" d=\"M51.9875 1382.06 L81.6633 1382.06 L81.6633 1385.99 L51.9875 1385.99 L51.9875 1382.06 Z\" fill=\"#000000\" fill-rule=\"nonzero\" fill-opacity=\"1\" /><path clip-path=\"url(#clip280)\" d=\"M92.566 1394.95 L100.205 1394.95 L100.205 1368.59 L91.8947 1370.25 L91.8947 1365.99 L100.159 1364.33 L104.834 1364.33 L104.834 1394.95 L112.473 1394.95 L112.473 1398.89 L92.566 1398.89 L92.566 1394.95 Z\" fill=\"#000000\" fill-rule=\"nonzero\" fill-opacity=\"1\" /><path clip-path=\"url(#clip280)\" d=\"M121.964 1364.33 L140.32 1364.33 L140.32 1368.26 L126.246 1368.26 L126.246 1376.73 Q127.265 1376.39 128.283 1376.23 Q129.302 1376.04 130.32 1376.04 Q136.107 1376.04 139.487 1379.21 Q142.867 1382.38 142.867 1387.8 Q142.867 1393.38 139.394 1396.48 Q135.922 1399.56 129.603 1399.56 Q127.427 1399.56 125.158 1399.19 Q122.913 1398.82 120.506 1398.08 L120.506 1393.38 Q122.589 1394.51 124.811 1395.07 Q127.033 1395.62 129.51 1395.62 Q133.515 1395.62 135.853 1393.52 Q138.191 1391.41 138.191 1387.8 Q138.191 1384.19 135.853 1382.08 Q133.515 1379.98 129.51 1379.98 Q127.635 1379.98 125.76 1380.39 Q123.908 1380.81 121.964 1381.69 L121.964 1364.33 Z\" fill=\"#000000\" fill-rule=\"nonzero\" fill-opacity=\"1\" /><path clip-path=\"url(#clip280)\" d=\"M50.9921 1129.81 L80.6679 1129.81 L80.6679 1133.75 L50.9921 1133.75 L50.9921 1129.81 Z\" fill=\"#000000\" fill-rule=\"nonzero\" fill-opacity=\"1\" /><path clip-path=\"url(#clip280)\" d=\"M91.5706 1142.71 L99.2095 1142.71 L99.2095 1116.34 L90.8993 1118.01 L90.8993 1113.75 L99.1632 1112.08 L103.839 1112.08 L103.839 1142.71 L111.478 1142.71 L111.478 1146.64 L91.5706 1146.64 L91.5706 1142.71 Z\" fill=\"#000000\" fill-rule=\"nonzero\" fill-opacity=\"1\" /><path clip-path=\"url(#clip280)\" d=\"M130.922 1115.16 Q127.311 1115.16 125.482 1118.73 Q123.677 1122.27 123.677 1129.4 Q123.677 1136.5 125.482 1140.07 Q127.311 1143.61 130.922 1143.61 Q134.556 1143.61 136.362 1140.07 Q138.191 1136.5 138.191 1129.4 Q138.191 1122.27 136.362 1118.73 Q134.556 1115.16 130.922 1115.16 M130.922 1111.46 Q136.732 1111.46 139.788 1116.06 Q142.867 1120.65 142.867 1129.4 Q142.867 1138.12 139.788 1142.73 Q136.732 1147.31 130.922 1147.31 Q125.112 1147.31 122.033 1142.73 Q118.978 1138.12 118.978 1129.4 Q118.978 1120.65 122.033 1116.06 Q125.112 1111.46 130.922 1111.46 Z\" fill=\"#000000\" fill-rule=\"nonzero\" fill-opacity=\"1\" /><path clip-path=\"url(#clip280)\" d=\"M82.1494 877.568 L111.825 877.568 L111.825 881.503 L82.1494 881.503 L82.1494 877.568 Z\" fill=\"#000000\" fill-rule=\"nonzero\" fill-opacity=\"1\" /><path clip-path=\"url(#clip280)\" d=\"M121.964 859.836 L140.32 859.836 L140.32 863.772 L126.246 863.772 L126.246 872.244 Q127.265 871.897 128.283 871.735 Q129.302 871.549 130.32 871.549 Q136.107 871.549 139.487 874.721 Q142.867 877.892 142.867 883.309 Q142.867 888.887 139.394 891.989 Q135.922 895.068 129.603 895.068 Q127.427 895.068 125.158 894.697 Q122.913 894.327 120.506 893.586 L120.506 888.887 Q122.589 890.021 124.811 890.577 Q127.033 891.133 129.51 891.133 Q133.515 891.133 135.853 889.026 Q138.191 886.92 138.191 883.309 Q138.191 879.697 135.853 877.591 Q133.515 875.484 129.51 875.484 Q127.635 875.484 125.76 875.901 Q123.908 876.318 121.964 877.197 L121.964 859.836 Z\" fill=\"#000000\" fill-rule=\"nonzero\" fill-opacity=\"1\" /><path clip-path=\"url(#clip280)\" d=\"M130.922 610.67 Q127.311 610.67 125.482 614.234 Q123.677 617.776 123.677 624.906 Q123.677 632.012 125.482 635.577 Q127.311 639.119 130.922 639.119 Q134.556 639.119 136.362 635.577 Q138.191 632.012 138.191 624.906 Q138.191 617.776 136.362 614.234 Q134.556 610.67 130.922 610.67 M130.922 606.966 Q136.732 606.966 139.788 611.572 Q142.867 616.156 142.867 624.906 Q142.867 633.633 139.788 638.239 Q136.732 642.822 130.922 642.822 Q125.112 642.822 122.033 638.239 Q118.978 633.633 118.978 624.906 Q118.978 616.156 122.033 611.572 Q125.112 606.966 130.922 606.966 Z\" fill=\"#000000\" fill-rule=\"nonzero\" fill-opacity=\"1\" /><path clip-path=\"url(#clip280)\" d=\"M121.964 355.346 L140.32 355.346 L140.32 359.281 L126.246 359.281 L126.246 367.753 Q127.265 367.406 128.283 367.244 Q129.302 367.058 130.32 367.058 Q136.107 367.058 139.487 370.23 Q142.867 373.401 142.867 378.818 Q142.867 384.396 139.394 387.498 Q135.922 390.577 129.603 390.577 Q127.427 390.577 125.158 390.207 Q122.913 389.836 120.506 389.095 L120.506 384.396 Q122.589 385.531 124.811 386.086 Q127.033 386.642 129.51 386.642 Q133.515 386.642 135.853 384.535 Q138.191 382.429 138.191 378.818 Q138.191 375.207 135.853 373.1 Q133.515 370.994 129.51 370.994 Q127.635 370.994 125.76 371.41 Q123.908 371.827 121.964 372.707 L121.964 355.346 Z\" fill=\"#000000\" fill-rule=\"nonzero\" fill-opacity=\"1\" /><path clip-path=\"url(#clip280)\" d=\"M91.5706 133.725 L99.2095 133.725 L99.2095 107.359 L90.8993 109.026 L90.8993 104.767 L99.1632 103.1 L103.839 103.1 L103.839 133.725 L111.478 133.725 L111.478 137.66 L91.5706 137.66 L91.5706 133.725 Z\" fill=\"#000000\" fill-rule=\"nonzero\" fill-opacity=\"1\" /><path clip-path=\"url(#clip280)\" d=\"M130.922 106.179 Q127.311 106.179 125.482 109.744 Q123.677 113.285 123.677 120.415 Q123.677 127.521 125.482 131.086 Q127.311 134.628 130.922 134.628 Q134.556 134.628 136.362 131.086 Q138.191 127.521 138.191 120.415 Q138.191 113.285 136.362 109.744 Q134.556 106.179 130.922 106.179 M130.922 102.475 Q136.732 102.475 139.788 107.082 Q142.867 111.665 142.867 120.415 Q142.867 129.142 139.788 133.748 Q136.732 138.331 130.922 138.331 Q125.112 138.331 122.033 133.748 Q118.978 129.142 118.978 120.415 Q118.978 111.665 122.033 107.082 Q125.112 102.475 130.922 102.475 Z\" fill=\"#000000\" fill-rule=\"nonzero\" fill-opacity=\"1\" /><polyline clip-path=\"url(#clip282)\" style=\"stroke:#009af9; stroke-linecap:round; stroke-linejoin:round; stroke-width:4; stroke-opacity:1; fill:none\" points=\"240.392,673.112 281.409,679.642 322.425,697.484 363.442,681.6 404.459,695.657 445.476,683.386 486.492,693.921 527.509,685.073 568.526,692.28 609.543,686.668 650.56,690.717 691.576,688.205 732.593,689.182 773.61,689.756 814.627,687.576 855.643,691.454 896.66,685.728 937.677,693.518 978.694,683.364 1019.71,696.283 1060.73,680.072 1101.74,700.253 1142.76,675.245 1183.78,706.164 1224.79,667.996 1265.81,715.091 1306.83,657.044 1347.84,728.55 1388.86,647.293 1429.88,1099.69 1470.9,767.174 1511.91,844.62 1552.93,518.034 1593.95,826.714 1634.96,548.067 1675.98,798.335 1717,567.601 1758.01,783.86 1799.03,574.326 1840.05,785.729 1881.06,560.244 1922.08,1115.32 1963.1,605.747 2004.11,764.449 2045.13,451.243 2086.15,775.299 2127.16,610.408 2168.18,504.93 2209.2,1085.22 2250.21,87.9763 2291.23,1445.72 \"/>\n",
       "<path clip-path=\"url(#clip280)\" d=\"M251.33 198.898 L521.149 198.898 L521.149 95.2176 L251.33 95.2176  Z\" fill=\"#ffffff\" fill-rule=\"evenodd\" fill-opacity=\"1\"/>\n",
       "<polyline clip-path=\"url(#clip280)\" style=\"stroke:#000000; stroke-linecap:round; stroke-linejoin:round; stroke-width:4; stroke-opacity:1; fill:none\" points=\"251.33,198.898 521.149,198.898 521.149,95.2176 251.33,95.2176 251.33,198.898 \"/>\n",
       "<polyline clip-path=\"url(#clip280)\" style=\"stroke:#009af9; stroke-linecap:round; stroke-linejoin:round; stroke-width:4; stroke-opacity:1; fill:none\" points=\"275.484,147.058 420.41,147.058 \"/>\n",
       "<path clip-path=\"url(#clip280)\" d=\"M458.407 166.745 Q456.601 171.375 454.888 172.787 Q453.175 174.199 450.305 174.199 L446.902 174.199 L446.902 170.634 L449.402 170.634 Q451.161 170.634 452.134 169.8 Q453.106 168.967 454.286 165.865 L455.05 163.921 L444.564 138.412 L449.078 138.412 L457.18 158.689 L465.282 138.412 L469.796 138.412 L458.407 166.745 Z\" fill=\"#000000\" fill-rule=\"nonzero\" fill-opacity=\"1\" /><path clip-path=\"url(#clip280)\" d=\"M477.087 160.402 L484.726 160.402 L484.726 134.037 L476.416 135.703 L476.416 131.444 L484.68 129.778 L489.356 129.778 L489.356 160.402 L496.994 160.402 L496.994 164.338 L477.087 164.338 L477.087 160.402 Z\" fill=\"#000000\" fill-rule=\"nonzero\" fill-opacity=\"1\" /></svg>\n"
      ]
     },
     "execution_count": 16,
     "metadata": {},
     "output_type": "execute_result"
    }
   ],
   "source": [
    "plot(thist,utraj[1,:])"
   ]
  },
  {
   "cell_type": "code",
   "execution_count": 19,
   "id": "f3fff6cf-43ca-4161-9bbf-3b2d1e1f669f",
   "metadata": {},
   "outputs": [
    {
     "name": "stderr",
     "output_type": "stream",
     "text": [
      "\u001b[32m\u001b[1m    Building\u001b[22m\u001b[39m WebIO ──→ `C:\\Users\\tge13\\.julia\\scratchspaces\\44cfe95a-1eb2-52ea-b672-e2afdf69b78f\\0eef0765186f7452e52236fa42ca8c9b3c11c6e3\\build.log`\n",
      "\u001b[32m\u001b[1m    Building\u001b[22m\u001b[39m Blink ──→ `C:\\Users\\tge13\\.julia\\scratchspaces\\44cfe95a-1eb2-52ea-b672-e2afdf69b78f\\08d0b679fd7caa49e2bca9214b131289e19808c0\\build.log`\n",
      "\u001b[32m\u001b[1m    Building\u001b[22m\u001b[39m MeshCat → `C:\\Users\\tge13\\.julia\\scratchspaces\\44cfe95a-1eb2-52ea-b672-e2afdf69b78f\\ca4a1e45f5d2a2148c599804a6619da7708ede69\\build.log`\n"
     ]
    }
   ],
   "source": [
    "import Pkg; Pkg.build(\"MeshCat\")"
   ]
  },
  {
   "cell_type": "code",
   "execution_count": 20,
   "id": "581e3d39-d182-492e-aff0-fbd441ef8006",
   "metadata": {},
   "outputs": [
    {
     "name": "stderr",
     "output_type": "stream",
     "text": [
      "\u001b[36m\u001b[1m[ \u001b[22m\u001b[39m\u001b[36m\u001b[1mInfo: \u001b[22m\u001b[39mPrecompiling TrajOptPlots [7770976a-8dee-4930-bf39-a1782fd21ce6]\n",
      "\u001b[36m\u001b[1m┌ \u001b[22m\u001b[39m\u001b[36m\u001b[1mInfo: \u001b[22m\u001b[39mMeshCat server started. You can open the visualizer by visiting the following URL in your browser:\n",
      "\u001b[36m\u001b[1m└ \u001b[22m\u001b[39mhttp://127.0.0.1:8700\n"
     ]
    },
    {
     "data": {
      "text/html": [
       "    <div style=\"height: 500px; width: 100%; overflow-x: auto; overflow-y: hidden; resize: both\">\n",
       "    <iframe src=\"http://127.0.0.1:8700\" style=\"width: 100%; height: 100%; border: none\"></iframe>\n",
       "    </div>\n"
      ],
      "text/plain": [
       "MeshCat.DisplayedVisualizer(MeshCat.CoreVisualizer(MeshCat.SceneTrees.SceneNode(nothing, nothing, Dict{String, Vector{UInt8}}(), nothing, Dict{String, MeshCat.SceneTrees.SceneNode}()), Set{Any}(), ip\"127.0.0.1\", 8700))"
      ]
     },
     "execution_count": 20,
     "metadata": {},
     "output_type": "execute_result"
    }
   ],
   "source": [
    "using TrajOptPlots\n",
    "using MeshCat\n",
    "using StaticArrays\n",
    "\n",
    "vis = Visualizer()\n",
    "render(vis)"
   ]
  },
  {
   "cell_type": "code",
   "execution_count": 21,
   "id": "fc175615-4a67-4be5-bd7d-600b7bd1846f",
   "metadata": {},
   "outputs": [
    {
     "data": {
      "text/plain": [
       "MeshCat Visualizer with path /meshcat/robot/link1/joint at http://127.0.0.1:8700"
      ]
     },
     "execution_count": 21,
     "metadata": {},
     "output_type": "execute_result"
    }
   ],
   "source": [
    "TrajOptPlots.set_mesh!(vis, a)"
   ]
  },
  {
   "cell_type": "code",
   "execution_count": 22,
   "id": "71374f09-41e3-4f2e-8552-15f97dc13e32",
   "metadata": {},
   "outputs": [],
   "source": [
    "X1 = [SVector{4}(x) for x in eachcol(xtraj)];\n",
    "visualize!(vis, a, thist[end], X1)"
   ]
  },
  {
   "cell_type": "code",
   "execution_count": null,
   "id": "9e9083d6-276c-43e2-9a6d-d4b988a8f7e2",
   "metadata": {},
   "outputs": [],
   "source": []
  }
 ],
 "metadata": {
  "kernelspec": {
   "display_name": "Julia 1.6.7",
   "language": "julia",
   "name": "julia-1.6"
  },
  "language_info": {
   "file_extension": ".jl",
   "mimetype": "application/julia",
   "name": "julia",
   "version": "1.6.7"
  }
 },
 "nbformat": 4,
 "nbformat_minor": 5
}
