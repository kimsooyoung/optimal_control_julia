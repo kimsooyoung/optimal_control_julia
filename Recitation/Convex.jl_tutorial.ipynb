{
 "cells": [
  {
   "cell_type": "code",
   "execution_count": 5,
   "id": "c0d29247",
   "metadata": {
    "scrolled": true
   },
   "outputs": [
    {
     "name": "stderr",
     "output_type": "stream",
     "text": [
      "\u001b[32m\u001b[1m  Activating\u001b[22m\u001b[39m environment at `C:\\Users\\tge13\\Documents\\optimal_control_julia\\Recitation\\Project.toml`\n"
     ]
    },
    {
     "data": {
      "text/plain": [
       "MersenneTwister(1)"
      ]
     },
     "execution_count": 5,
     "metadata": {},
     "output_type": "execute_result"
    }
   ],
   "source": [
    "import Pkg\n",
    "Pkg.activate(@__DIR__)\n",
    "Pkg.instantiate()\n",
    "using LinearAlgebra, Plots\n",
    "import ForwardDiff as FD\n",
    "using Test\n",
    "import Convex as cvx \n",
    "import ECOS\n",
    "using Random\n",
    "Random.seed!(1)"
   ]
  },
  {
   "cell_type": "markdown",
   "id": "4a25e2dc",
   "metadata": {},
   "source": [
    "# Convex.jl tutorial\n",
    "\n",
    "This is convex modeling tool in Julia that let's us write out problems in a simple way, and then Convex.jl transforms them and sends them off to be solved (we're using [ECOS](https://github.com/embotech/ecos) as our solver today). If you want examples/inspiration for this technology, there are a few like this:\n",
    "\n",
    "- Python: [CVXPY](https://www.cvxpy.org/) or [CVXOPT](http://cvxopt.org/) (cvxpy is probably what you want)\n",
    "- Matlab: [CVX](http://cvxr.com/cvx/) or [YALMIP](https://yalmip.github.io/) (I like CVX better)\n",
    "- R: [CVXR](https://cvxr.rbind.io/)\n",
    "\n",
    "For Convex.jl the [repo is here](https://github.com/jump-dev/Convex.jl), and the [docs are here](https://jump.dev/Convex.jl/stable/)\n",
    "\n",
    "These tools are just used for formulating your problem and verifying that it is Convex. The problem itself is solved by one of many available solvers, many common ones are:\n",
    "\n",
    "- OSQP\n",
    "- ECOS \n",
    "- CPLEX \n",
    "- Mosek \n",
    "- Gurobi\n",
    "- COSMO \n",
    "- SeDuMi \n",
    "- SDPT3 \n",
    "- GLPK \n",
    "- Hypatia "
   ]
  },
  {
   "cell_type": "markdown",
   "id": "84eefc5a",
   "metadata": {},
   "source": [
    "## Least Squares \n",
    "For overdetermined systems (more equations than variables, \"skinny\" matrix A)\n",
    "$$ \\begin{align} \\min_{x} \\quad & \\|Ax - b\\|^2_2\n",
    " \\end{align}$$"
   ]
  },
  {
   "cell_type": "code",
   "execution_count": 7,
   "id": "e9213570",
   "metadata": {},
   "outputs": [
    {
     "name": "stdout",
     "output_type": "stream",
     "text": [
      "\u001b[0m\u001b[1mTest Summary:  | \u001b[22m\u001b[32m\u001b[1mPass  \u001b[22m\u001b[39m\u001b[36m\u001b[1mTotal\u001b[22m\u001b[39m\n",
      "overdetermined | \u001b[32m   1  \u001b[39m\u001b[36m    1\u001b[39m\n",
      "\n",
      "ECOS 2.0.8 - (C) embotech GmbH, Zurich Switzerland, 2012-15. Web: www.embotech.com/ECOS\n",
      "\n",
      "It     pcost       dcost      gap   pres   dres    k/t    mu     step   sigma     IR    |   BT\n",
      " 0  +0.000e+000  -1.322e+000  +7e+000  5e-001  6e-002  1e+000  2e+000    ---    ---    1  1  - |  -  - \n",
      " 1  -8.414e-002  -2.498e-001  +1e+000  9e-002  9e-003  2e-001  4e-001  0.7930  2e-002   1  1  1 |  0  0\n",
      " 2  +6.991e-001  +1.012e+000  +1e+000  9e-001  4e-002  3e+000  3e-001  0.5543  6e-001   2  2  2 |  0  0\n",
      " 3  +2.161e+000  +2.412e+000  +2e-001  1e-001  6e-003  6e-001  5e-002  0.8494  1e-002   2  1  1 |  0  0\n",
      " 4  +6.859e-001  +1.938e+000  +1e-001  3e-001  9e-003  2e+000  4e-002  0.4696  5e-001   2  2  2 |  0  0\n",
      " 5  +2.934e+000  +2.803e+000  +1e-001  6e-002  3e-003  4e-002  3e-002  0.5767  6e-001   2  2  2 |  0  0\n",
      " 6  +4.186e+000  +4.179e+000  +1e-002  1e-002  5e-004  2e-002  3e-003  0.8948  4e-003   2  2  2 |  0  0\n",
      " 7  +4.628e+000  +4.647e+000  +2e-003  4e-003  1e-004  3e-002  7e-004  0.8782  8e-002   2  2  2 |  0  0\n",
      " 8  +4.709e+000  +4.713e+000  +5e-004  7e-004  3e-005  5e-003  1e-004  0.8152  2e-002   2  1  2 |  0  0\n",
      " 9  +4.744e+000  +4.744e+000  +2e-005  2e-005  1e-006  1e-004  5e-006  0.9723  1e-002   2  2  2 |  0  0\n",
      "10  +4.745e+000  +4.745e+000  +1e-006  1e-006  5e-008  7e-006  3e-007  0.9503  3e-004   3  1  1 |  0  0\n",
      "11  +4.745e+000  +4.745e+000  +3e-008  4e-008  2e-009  5e-007  9e-009  0.9829  2e-002   2  1  1 |  0  0\n",
      "12  +4.745e+000  +4.745e+000  +4e-010  6e-010  2e-011  8e-009  1e-010  0.9858  1e-004   2  1  1 |  0  0\n",
      "\n",
      "OPTIMAL (within feastol=6.2e-010, reltol=9.1e-011, abstol=4.3e-010).\n",
      "Runtime: 0.000423 seconds.\n",
      "\n"
     ]
    },
    {
     "data": {
      "text/plain": [
       "Test.DefaultTestSet(\"overdetermined\", Any[], 1, false, false)"
      ]
     },
     "execution_count": 7,
     "metadata": {},
     "output_type": "execute_result"
    }
   ],
   "source": [
    "@testset \"overdetermined\" begin \n",
    "    # overdetermined\n",
    "    A = randn(10,5)\n",
    "    b = randn(10)\n",
    "    x = cvx.Variable(5)\n",
    "    \n",
    "    prob = cvx.minimize(cvx.sumsquares(A*x - b)) # sumsquares(y) = dot(y,y) = norm(y)^2\n",
    "    cvx.solve!(prob, ECOS.Optimizer; silent_solver = false)\n",
    "    \n",
    "    xcvx = x.value::Matrix # This will always be a matrix\n",
    "    xcvx = vec(x.value) # convert to vector easily \n",
    "    \n",
    "    # compare with pseudoinverse\n",
    "    @test norm(xcvx - (A'*A\\(A'*b))) < 1e-4\n",
    "\n",
    "end"
   ]
  },
  {
   "cell_type": "markdown",
   "id": "4523e464",
   "metadata": {},
   "source": [
    "For underdetermined systems (more variables than equations, \"fat\" matrix A)\n",
    "$$ \\begin{align} \\min_{x} \\quad & \\|x\\|^2_2 \\\\ \n",
    " \\text{st} \\quad & A x = b \n",
    " \\end{align}$$"
   ]
  },
  {
   "cell_type": "code",
   "execution_count": 8,
   "id": "76000841",
   "metadata": {},
   "outputs": [
    {
     "name": "stdout",
     "output_type": "stream",
     "text": [
      "\u001b[0m\u001b[1mTest Summary:   | \u001b[22m\u001b[32m\u001b[1mPass  \u001b[22m\u001b[39m\u001b[36m\u001b[1mTotal\u001b[22m\u001b[39m\n",
      "underdetermined | \u001b[32m   1  \u001b[39m\u001b[36m    1\u001b[39m\n",
      "\n",
      "ECOS 2.0.8 - (C) embotech GmbH, Zurich Switzerland, 2012-15. Web: www.embotech.com/ECOS\n",
      "\n",
      "It     pcost       dcost      gap   pres   dres    k/t    mu     step   sigma     IR    |   BT\n",
      " 0  +0.000e+000  -1.322e+000  +7e+000  3e-001  7e-002  1e+000  2e+000    ---    ---    1  1  - |  -  - \n",
      " 1  -6.948e-002  -2.844e-001  +2e+000  8e-002  1e-002  3e-001  5e-001  0.7428  2e-002   1  1  1 |  0  0\n",
      " 2  +8.012e-001  +9.778e-001  +1e+000  5e-001  3e-002  2e+000  4e-001  0.7082  5e-001   2  2  2 |  0  0\n",
      " 3  +1.660e+000  +2.051e+000  +1e-001  6e-002  3e-003  5e-001  4e-002  0.9860  9e-002   2  1  1 |  0  0\n",
      " 4  +2.893e+000  +3.067e+000  +2e-002  1e-002  7e-004  2e-001  7e-003  0.8954  9e-002   2  2  2 |  0  0\n",
      " 5  +3.168e+000  +3.279e+000  +1e-002  1e-002  4e-004  1e-001  3e-003  0.6701  3e-001   2  2  2 |  0  0\n",
      " 6  +3.468e+000  +3.471e+000  +4e-004  3e-004  2e-005  4e-003  1e-004  0.9676  5e-003   3  1  2 |  0  0\n",
      " 7  +3.481e+000  +3.481e+000  +3e-005  2e-005  1e-006  2e-004  9e-006  0.9890  6e-002   2  1  2 |  0  0\n",
      " 8  +3.482e+000  +3.482e+000  +8e-007  6e-007  3e-008  7e-006  3e-007  0.9731  1e-004   2  1  1 |  0  0\n",
      " 9  +3.482e+000  +3.482e+000  +6e-008  5e-008  2e-009  5e-007  2e-008  0.9331  5e-003   3  1  1 |  0  0\n",
      "10  +3.482e+000  +3.482e+000  +7e-010  6e-010  2e-011  7e-009  2e-010  0.9890  2e-003   2  1  1 |  0  0\n",
      "\n",
      "OPTIMAL (within feastol=6.0e-010, reltol=2.1e-010, abstol=7.2e-010).\n",
      "Runtime: 0.000398 seconds.\n",
      "\n"
     ]
    },
    {
     "data": {
      "text/plain": [
       "Test.DefaultTestSet(\"underdetermined\", Any[], 1, false, false)"
      ]
     },
     "execution_count": 8,
     "metadata": {},
     "output_type": "execute_result"
    }
   ],
   "source": [
    "@testset \"underdetermined\" begin \n",
    "    \n",
    "    # overdetermined\n",
    "    A = randn(5,10)\n",
    "    b = randn(5)\n",
    "    x = cvx.Variable(10)\n",
    "    prob = cvx.minimize(cvx.sumsquares(x))\n",
    "    \n",
    "    # add constraint \n",
    "    prob.constraints += (A*x == b)\n",
    "    cvx.solve!(prob, ECOS.Optimizer; silent_solver = false)\n",
    "    \n",
    "    xcvx = x.value::Matrix # This will always be a matrix\n",
    "    xcvx = vec(x.value) # convert to vector easily \n",
    "    \n",
    "    # compare with pseudoinverse\n",
    "    @test norm(xcvx - A'*((A*A')\\b)) < 1e-4\n",
    "\n",
    "\n",
    "end"
   ]
  },
  {
   "cell_type": "markdown",
   "id": "81106200",
   "metadata": {},
   "source": [
    "## Equality constrained QP \n",
    "\n",
    "$$ \\begin{align} \\min_{x} \\quad & \\frac{1}{2} x^TQx + q^Tx \\\\ \n",
    " \\text{st} \\quad & A x = b \n",
    " \\end{align}$$"
   ]
  },
  {
   "cell_type": "code",
   "execution_count": 9,
   "id": "46ecd904",
   "metadata": {},
   "outputs": [
    {
     "name": "stdout",
     "output_type": "stream",
     "text": [
      "\n",
      "ECOS 2.0.8 - (C) embotech GmbH, Zurich Switzerland, 2012-15. Web: www.embotech.com/ECOS\n",
      "\n",
      "It     pcost       dcost      gap   pres   dres    k/t    mu     step   sigma     IR    |   BT\n",
      " 0  +2.158e-001  -3.037e+001  +1e+002  4e-001  3e-001  1e+000  3e+001    ---    ---    1  3  - |  -  - \n",
      " 1  -3.434e-001  -1.277e+000  +6e+000  2e-002  1e-002  5e-001  2e+000  0.9552  3e-002   2  2  2 |  0  0\n",
      " 2  -8.480e-001  -9.915e-001  +1e+000  4e-003  3e-003  3e-001  4e-001  0.8503  9e-002   2  2  2 |  0  0\n",
      " 3  -7.309e-001  -7.334e-001  +2e-002  6e-005  6e-005  4e-003  7e-003  0.9890  6e-003   2  2  2 |  0  0\n",
      " 4  -7.289e-001  -7.289e-001  +4e-004  1e-006  1e-006  7e-005  1e-004  0.9830  1e-004   2  1  2 |  0  0\n",
      " 5  -7.289e-001  -7.289e-001  +1e-005  3e-008  3e-008  2e-006  4e-006  0.9679  1e-004   2  1  1 |  0  0\n",
      " 6  -7.289e-001  -7.289e-001  +7e-007  2e-009  2e-009  1e-007  2e-007  0.9430  5e-004   2  1  2 |  0  0\n",
      " 7  -7.289e-001  -7.289e-001  +7e-008  2e-010  2e-010  1e-008  2e-008  0.8932  9e-004   1  2  2 |  0  0\n",
      " 8  -7.289e-001  -7.289e-001  +4e-009  8e-011  1e-011  8e-010  1e-009  0.9586  1e-002   2  2  1 |  0  0\n",
      "\n",
      "OPTIMAL (within feastol=8.2e-011, reltol=5.3e-009, abstol=3.9e-009).\n",
      "Runtime: 0.000498 seconds.\n",
      "\n"
     ]
    },
    {
     "data": {
      "text/plain": [
       "10-element Vector{Float64}:\n",
       "  0.09724791988540883\n",
       "  0.14884341933094689\n",
       "  0.486029001884842\n",
       "  0.2993175404625137\n",
       " -0.10688033138119367\n",
       "  0.042081037457645\n",
       " -0.18140105032590428\n",
       "  0.33902248303505256\n",
       "  0.12993335881553258\n",
       " -0.24211938043804496"
      ]
     },
     "execution_count": 9,
     "metadata": {},
     "output_type": "execute_result"
    }
   ],
   "source": [
    "let \n",
    "    \n",
    "    n = 10 \n",
    "    Q = randn(n,n); Q = Q'*Q + I # create PSD matrix \n",
    "    q = randn(n)\n",
    "    \n",
    "    A = randn(3,n)\n",
    "    b = randn(3)\n",
    "    \n",
    "    x = cvx.Variable(n)\n",
    "    \n",
    "    # NOTE: quadform(x,Q) = x'*Q*x \n",
    "    cost = 0.5*cvx.quadform(x,Q) + dot(q,x) \n",
    "    \n",
    "    prob = cvx.minimize(cost)\n",
    "    \n",
    "    prob.constraints += (A*x == b)\n",
    "    \n",
    "    cvx.solve!(prob, ECOS.Optimizer; silent_solver = false)\n",
    "    \n",
    "    xcvx = x.value::Matrix # This will always be a matrix\n",
    "    xcvx = vec(x.value) # convert to vector easily \n",
    "    \n",
    "    \n",
    "end\n",
    " "
   ]
  },
  {
   "cell_type": "markdown",
   "id": "076ed79c",
   "metadata": {},
   "source": [
    "## Letting Convex.jl do the parsing \n",
    "\n",
    "$$ \\begin{align} \\min_{x} \\quad & \\|Ax - b\\|_1 \\\\ \n",
    " \\text{st} \\quad &\\|x\\|_2 \\leq 3\n",
    " \\end{align}$$\n",
    " \n",
    " This problem is not in any sort of \"standard form\", but it is convex. We will let Convex.jl will convert this into a standard form \"canonicalizing it\", and send it ECOS to solve. "
   ]
  },
  {
   "cell_type": "code",
   "execution_count": 11,
   "id": "c5b9665e",
   "metadata": {},
   "outputs": [
    {
     "name": "stdout",
     "output_type": "stream",
     "text": [
      "\n",
      "ECOS 2.0.8 - (C) embotech GmbH, Zurich Switzerland, 2012-15. Web: www.embotech.com/ECOS\n",
      "\n",
      "It     pcost       dcost      gap   pres   dres    k/t    mu     step   sigma     IR    |   BT\n",
      " 0  -6.624e-017  -3.000e+000  +7e+001  5e-001  6e-001  1e+000  3e+000    ---    ---    1  1  - |  -  - \n",
      " 1  +3.068e+000  +3.075e+000  +2e+001  9e-002  1e-001  9e-001  1e+000  0.7371  1e-001   1  1  1 |  0  0\n",
      " 2  +3.538e+000  +3.570e+000  +4e+000  1e-002  2e-002  2e-001  2e-001  0.8309  3e-002   1  1  1 |  0  0\n",
      " 3  +3.721e+000  +3.726e+000  +1e+000  3e-003  5e-003  4e-002  6e-002  0.7498  4e-002   1  1  1 |  0  0\n",
      " 4  +3.748e+000  +3.749e+000  +3e-001  8e-004  1e-003  1e-002  1e-002  0.7684  3e-002   1  1  1 |  0  0\n",
      " 5  +3.750e+000  +3.750e+000  +3e-002  9e-005  1e-004  1e-003  2e-003  0.8951  1e-002   1  1  1 |  0  0\n",
      " 6  +3.752e+000  +3.752e+000  +4e-004  1e-006  2e-006  1e-005  2e-005  0.9888  9e-004   1  1  1 |  0  0\n",
      " 7  +3.752e+000  +3.752e+000  +5e-006  1e-008  2e-008  1e-007  2e-007  0.9890  1e-004   2  1  1 |  0  0\n",
      " 8  +3.752e+000  +3.752e+000  +6e-008  2e-010  3e-010  2e-009  3e-009  0.9869  1e-004   3  1  1 |  0  0\n",
      " 9  +3.752e+000  +3.752e+000  +1e-009  3e-012  5e-012  4e-011  6e-011  0.9796  1e-004   2  1  1 |  0  0\n",
      "\n",
      "OPTIMAL (within feastol=5.2e-012, reltol=3.3e-010, abstol=1.2e-009).\n",
      "Runtime: 0.000429 seconds.\n",
      "\n"
     ]
    },
    {
     "data": {
      "text/plain": [
       "5-element Vector{Float64}:\n",
       " -0.36080949680926394\n",
       " -0.15765605380844844\n",
       "  2.2850051467000836\n",
       "  1.8971902884098404\n",
       "  0.1561459735384751"
      ]
     },
     "execution_count": 11,
     "metadata": {},
     "output_type": "execute_result"
    }
   ],
   "source": [
    "let \n",
    "    A = randn(10,5)\n",
    "    b = randn(10)\n",
    "    x = cvx.Variable(5)\n",
    "    \n",
    "    prob = cvx.minimize(norm(A*x - b, 1)) \n",
    "    prob.constraints += (norm(x,2) <= 3)\n",
    "\n",
    "    cvx.solve!(prob, ECOS.Optimizer; silent_solver = false)\n",
    "    \n",
    "    xcvx = x.value::Matrix # This will always be a matrix\n",
    "    xcvx = vec(x.value) # convert to vector easily \n",
    "end"
   ]
  },
  {
   "cell_type": "markdown",
   "id": "e172aedc",
   "metadata": {},
   "source": [
    "## Convex Trajectory Optimization\n",
    "$$ \\begin{align} \\min_{x_{1:N},u_{1:N-1}} \\quad & \\sum_{i=1}^{N-1} \\bigg[ \\|x_i - x_g\\|_2^2 + \\|u_i\\|_1 \\bigg] + \\frac{1}{2}x_N^TQ_fx_N & \\\\ \n",
    " \\text{st} \\quad & x_1 = x_{\\text{IC}} \\\\ \n",
    " & x_{i+1} = A x_i + Bu_i \\quad &\\text{for } i = 1,2,\\ldots,N-1 \\\\ \n",
    " & x_N = x_g \\\\ \n",
    " & \\|u_i\\|_2 \\leq 3 \\quad &\\text{for } i = 1,2,\\ldots,N-1\\\\ \n",
    " & x_{min} \\leq x_i \\leq x_{max} \\quad &\\text{for } i = 1,2,\\ldots,N-1\\\\ \n",
    " \\end{align}$$"
   ]
  },
  {
   "cell_type": "code",
   "execution_count": 12,
   "id": "dc09a0a5",
   "metadata": {},
   "outputs": [
    {
     "name": "stdout",
     "output_type": "stream",
     "text": [
      "\n",
      "ECOS 2.0.8 - (C) embotech GmbH, Zurich Switzerland, 2012-15. Web: www.embotech.com/ECOS\n",
      "\n",
      "It     pcost       dcost      gap   pres   dres    k/t    mu     step   sigma     IR    |   BT\n",
      " 0  +0.000e+000  -3.764e+003  +4e+003  5e-002  5e-001  1e+000  1e+001    ---    ---    1  2  - |  -  - \n",
      " 1  +2.537e+001  -1.220e+003  +2e+003  2e-002  2e-001  7e-001  5e+000  0.6798  4e-002   1  1  1 |  0  0\n",
      " 2  +4.617e+001  -1.174e+003  +1e+003  1e-002  1e-001  1e+000  4e+000  0.1542  7e-001   2  2  2 |  0  0\n",
      " 3  +6.477e+001  -1.018e+003  +1e+003  1e-002  9e-002  1e+000  4e+000  0.2635  5e-001   2  2  2 |  0  0\n",
      " 4  +1.155e+002  -4.757e+002  +7e+002  7e-003  4e-002  2e+000  2e+000  0.9890  5e-001   2  1  1 |  0  0\n",
      " 5  +7.424e+001  -2.548e+002  +4e+002  4e-003  2e-002  1e+000  1e+000  0.5153  2e-001   2  1  2 |  0  0\n",
      " 6  +6.184e+001  -1.468e+002  +2e+002  2e-003  1e-002  8e-001  7e-001  0.6133  4e-001   2  2  2 |  0  0\n",
      " 7  +3.503e+001  -2.912e+000  +5e+001  5e-004  2e-003  1e-001  1e-001  0.8228  1e-002   2  1  2 |  0  0\n",
      " 8  +3.481e+001  +7.032e+000  +3e+001  3e-004  1e-003  1e-001  1e-001  0.4844  4e-001   2  2  2 |  0  0\n",
      " 9  +3.243e+001  +2.884e+001  +4e+000  4e-005  1e-004  1e-002  1e-002  0.8725  2e-003   3  1  1 |  0  0\n",
      "10  +3.221e+001  +3.174e+001  +6e-001  6e-006  2e-005  2e-003  2e-003  0.8879  2e-002   2  1  1 |  0  0\n",
      "11  +3.217e+001  +3.213e+001  +6e-002  6e-007  2e-006  2e-004  2e-004  0.9109  1e-002   2  1  1 |  0  0\n",
      "12  +3.217e+001  +3.216e+001  +1e-002  1e-007  4e-007  3e-005  4e-005  0.9297  1e-001   2  1  1 |  0  0\n",
      "13  +3.217e+001  +3.216e+001  +7e-003  7e-008  2e-007  2e-005  2e-005  0.5756  3e-001   3  1  1 |  0  0\n",
      "14  +3.217e+001  +3.217e+001  +1e-003  1e-008  4e-008  3e-006  4e-006  0.8401  3e-002   2  1  1 |  0  0\n",
      "15  +3.217e+001  +3.217e+001  +2e-004  2e-009  7e-009  6e-007  6e-007  0.9147  9e-002   3  1  1 |  0  0\n",
      "16  +3.217e+001  +3.217e+001  +6e-006  6e-011  2e-010  2e-008  2e-008  0.9758  3e-003   3  1  1 |  0  0\n",
      "17  +3.217e+001  +3.217e+001  +6e-007  6e-012  2e-011  2e-009  2e-009  0.9125  9e-003   2  1  1 |  0  0\n",
      "18  +3.217e+001  +3.217e+001  +9e-008  1e-012  3e-012  2e-010  3e-010  0.8466  3e-003   2  1  1 |  0  0\n",
      "\n",
      "OPTIMAL (within feastol=2.8e-012, reltol=2.7e-009, abstol=8.7e-008).\n",
      "Runtime: 0.011125 seconds.\n",
      "\n"
     ]
    },
    {
     "data": {
      "text/plain": [
       "2×19 Matrix{Float64}:\n",
       " -0.37863      0.271062   0.0825298    …  0.373864  0.425099  0.319573\n",
       "  3.25575e-11  0.0725429  4.77322e-10     0.224899  0.360333  0.521957"
      ]
     },
     "execution_count": 12,
     "metadata": {},
     "output_type": "execute_result"
    }
   ],
   "source": [
    "function controllable(A,B)\n",
    "    n = size(A,1)\n",
    "    C = hcat([A^i*B for i = 0:(n-1)]...)\n",
    "    return rank(C) == n \n",
    "end\n",
    "\n",
    "let \n",
    "    \n",
    "    # create linear system\n",
    "    nx = 4 \n",
    "    nu = 2 \n",
    "    A = randn(nx,nx);\n",
    "    B = randn(nx,nu);\n",
    "    @assert controllable(A,B)\n",
    "    \n",
    "    # time steps \n",
    "    N = 20 \n",
    "    x_ic = randn(nx)\n",
    "    x_g = randn(nx)\n",
    "    \n",
    "    # terminal cost \n",
    "    Qf = randn(nx,nx); Qf = Qf'*Qf + I # make PSD Qf \n",
    "    \n",
    "    # create cvx variables x_k = X[:,k], u_k = U[:,k]\n",
    "    X = cvx.Variable(nx, N)\n",
    "    U = cvx.Variable(nu, N - 1)\n",
    "    \n",
    "    # create cost \n",
    "    cost = 0 \n",
    "    \n",
    "    # stage cost \n",
    "    for k = 1:(N-1)\n",
    "        xk = X[:,k]\n",
    "        uk = U[:,k]\n",
    "        cost += cvx.sumsquares(xk - x_g)\n",
    "        cost += norm(uk, 1)\n",
    "    end\n",
    "    \n",
    "    # terminal cost\n",
    "    xn = X[:,N]\n",
    "    cost += 0.5*cvx.quadform(xn, Qf)\n",
    "    \n",
    "    # initialize cvx problem \n",
    "    prob = cvx.minimize(cost)\n",
    "    \n",
    "    # initial condition constraint \n",
    "    prob.constraints += X[:,1] == x_ic \n",
    "    \n",
    "    for k = 1:(N-1)\n",
    "        # dynamics constraints \n",
    "        prob.constraints += (X[:,k+1] == A*X[:,k] + B*U[:,k])\n",
    "    end\n",
    "    \n",
    "    # goal constraint \n",
    "    prob.constraints += X[:,N] == x_g\n",
    "    \n",
    "    # norm(u)<3 \n",
    "    for k = 1:(N-1)\n",
    "        uk = U[:,k]\n",
    "        prob.constraints += norm(uk,2) <= 3 \n",
    "    end\n",
    "    \n",
    "    x_min = -20*ones(nx)\n",
    "    x_max =  20*ones(nx)\n",
    "    for k = 1:N\n",
    "        xk = X[:,k]\n",
    "        prob.constraints += xk <= x_max \n",
    "        prob.constraints += xk >= x_min \n",
    "    end\n",
    "    \n",
    "    # solve problem (silent solver tells us the output)\n",
    "    cvx.solve!(prob, ECOS.Optimizer; silent_solver = false)\n",
    "    \n",
    "    if prob.status != cvx.MathOptInterface.OPTIMAL\n",
    "        error(\"Convex.jl problem failed to solve for some reason\")\n",
    "    end\n",
    "        \n",
    "    # convert the solution matrices into vectors of vectors \n",
    "    X = X.value::Matrix\n",
    "    U = U.value::Matrix\n",
    "end"
   ]
  },
  {
   "cell_type": "code",
   "execution_count": null,
   "id": "5d3883b6-2c90-4809-930e-8cf31cdd9cf7",
   "metadata": {},
   "outputs": [],
   "source": []
  }
 ],
 "metadata": {
  "kernelspec": {
   "display_name": "Julia 1.6.7",
   "language": "julia",
   "name": "julia-1.6"
  },
  "language_info": {
   "file_extension": ".jl",
   "mimetype": "application/julia",
   "name": "julia",
   "version": "1.6.7"
  }
 },
 "nbformat": 4,
 "nbformat_minor": 5
}
