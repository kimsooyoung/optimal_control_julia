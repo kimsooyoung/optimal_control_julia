{
 "cells": [
  {
   "cell_type": "code",
   "execution_count": 1,
   "id": "308447b1-1976-4989-a2a1-fa1a756977fe",
   "metadata": {},
   "outputs": [
    {
     "name": "stderr",
     "output_type": "stream",
     "text": [
      "\u001b[32m\u001b[1m  Activating\u001b[22m\u001b[39m environment at `C:\\Users\\tge13\\Documents\\optimal_control_julia\\lec_15\\Project.toml`\n"
     ]
    }
   ],
   "source": [
    "import Pkg; Pkg.activate(@__DIR__); Pkg.instantiate()"
   ]
  },
  {
   "cell_type": "code",
   "execution_count": 2,
   "id": "a12d5080-2baf-44ef-b9e3-7750fdeeba50",
   "metadata": {},
   "outputs": [],
   "source": [
    "using LinearAlgebra\n",
    "using ForwardDiff\n",
    "using BlockDiagonals\n",
    "using ControlSystems"
   ]
  },
  {
   "cell_type": "code",
   "execution_count": 3,
   "id": "1b031dc2-1515-499b-8a26-65e867aa754c",
   "metadata": {},
   "outputs": [
    {
     "data": {
      "text/plain": [
       "L (generic function with 1 method)"
      ]
     },
     "execution_count": 3,
     "metadata": {},
     "output_type": "execute_result"
    }
   ],
   "source": [
    "function hat(q)\n",
    "    return [\n",
    "        0 -q[3] q[2];\n",
    "        q[3] 0 -q[1];\n",
    "        -q[2] q[1] 0\n",
    "    ]\n",
    "end\n",
    "\n",
    "function L(q)\n",
    "    s = q[1]\n",
    "    v = q[2:4]\n",
    "    return [\n",
    "        s -v';\n",
    "        v s*I+hat(v)\n",
    "    ]\n",
    "end"
   ]
  },
  {
   "cell_type": "code",
   "execution_count": 4,
   "id": "646ee17c-56ae-482c-8546-fb25a3e43afb",
   "metadata": {},
   "outputs": [
    {
     "data": {
      "text/plain": [
       "4×3 SparseArrays.SparseMatrixCSC{Float64, Int64} with 3 stored entries:\n",
       "  ⋅    ⋅    ⋅ \n",
       " 1.0   ⋅    ⋅ \n",
       "  ⋅   1.0   ⋅ \n",
       "  ⋅    ⋅   1.0"
      ]
     },
     "execution_count": 4,
     "metadata": {},
     "output_type": "execute_result"
    }
   ],
   "source": [
    "T = Diagonal([1, -1, -1, -1])\n",
    "H = [ zeros(3)'; I(3) ]"
   ]
  },
  {
   "cell_type": "code",
   "execution_count": 5,
   "id": "c00cf292-a245-4134-9bc0-d09d875a6f8a",
   "metadata": {},
   "outputs": [
    {
     "data": {
      "text/plain": [
       "qtorp (generic function with 1 method)"
      ]
     },
     "execution_count": 5,
     "metadata": {},
     "output_type": "execute_result"
    }
   ],
   "source": [
    "function G(q)\n",
    "    return L(q)*H\n",
    "end\n",
    "\n",
    "function qtoQ(q)\n",
    "    return H'*T*L(q)*T*L(q)*H\n",
    "end\n",
    "function rptoq(ϕ)\n",
    "    return (1/sqrt(1+ϕ'*ϕ))*[\n",
    "        1;\n",
    "        ϕ\n",
    "    ]\n",
    "end\n",
    "function qtorp(q)\n",
    "    return q[2:4] / q[1]\n",
    "end"
   ]
  },
  {
   "cell_type": "markdown",
   "id": "47c0160a-42fd-44d8-a975-94d71d5ec756",
   "metadata": {},
   "source": [
    "## Compensation Matrix for Quaternion conversion "
   ]
  },
  {
   "cell_type": "code",
   "execution_count": 6,
   "id": "b3ec137f-9d2a-4150-9951-d78354c93e2e",
   "metadata": {},
   "outputs": [
    {
     "data": {
      "text/plain": [
       "E (generic function with 1 method)"
      ]
     },
     "execution_count": 6,
     "metadata": {},
     "output_type": "execute_result"
    }
   ],
   "source": [
    "function E(q)\n",
    "    # multiply 1.0 to resolve BlockDiagonal Err\n",
    "    return BlockDiagonal([ 1.0*I(3), G(q0), 1.0*I(6) ])\n",
    "end"
   ]
  },
  {
   "cell_type": "markdown",
   "id": "33f74516-e02a-4387-9f12-b70be3cb16ce",
   "metadata": {},
   "source": [
    "## Quadrotor Parameters"
   ]
  },
  {
   "cell_type": "code",
   "execution_count": 7,
   "id": "df086f9b-76d2-4a59-8723-ba3b864c3df9",
   "metadata": {},
   "outputs": [],
   "source": [
    "#Quadrotor parameters\n",
    "m = 0.5\n",
    "ℓ = 0.1750\n",
    "J = Diagonal([0.0023, 0.0023, 0.004])\n",
    "g = 9.81\n",
    "kt=1.0\n",
    "km=0.0245\n",
    "\n",
    "h = 0.05 #20 Hz\n",
    "\n",
    "Nx = 13     # number of states (quaternion)\n",
    "Nx̃ = 12     # number of states (linearized)\n",
    "Nu = 4     # number of controls\n",
    "Tfinal = 5.0 # final time\n",
    "Nt = Int(Tfinal/h)+1    # number of time steps\n",
    "thist = Array(range(0,h*(Nt-1), step=h));"
   ]
  },
  {
   "cell_type": "markdown",
   "id": "219a54bc-2cc7-46e9-8f82-d9a715b99142",
   "metadata": {},
   "source": [
    "## Quadrotor Dynamics"
   ]
  },
  {
   "cell_type": "code",
   "execution_count": 8,
   "id": "9e2e6700-c3ed-4bd1-98fc-ecb67b3cbff1",
   "metadata": {},
   "outputs": [
    {
     "data": {
      "text/plain": [
       "quad_dynamics (generic function with 1 method)"
      ]
     },
     "execution_count": 8,
     "metadata": {},
     "output_type": "execute_result"
    }
   ],
   "source": [
    "function quad_dynamics(x,u)\n",
    "    r = x[1:3]\n",
    "    q = x[4:7] / norm(x[4:7])\n",
    "    v = x[8:10]\n",
    "    w = x[11:13]\n",
    "    Q = qtoQ(q)\n",
    "\n",
    "    ṙ = Q*v\n",
    "    q̇ = 0.5*L(q)*H*w\n",
    "    v̇ = Q'*[0;0;-g] + (1/m)*[zeros(2,4); kt kt kt kt]*u - hat(w)*v\n",
    "    ẇ = J\\(-hat(w)*J*w + [0 ℓ*kt 0 -ℓ*kt; -ℓ*kt 0 ℓ*kt 0; km -km km -km]*u)\n",
    "\n",
    "    return [ ṙ; q̇; v̇; ẇ ]\n",
    "end"
   ]
  },
  {
   "cell_type": "code",
   "execution_count": 9,
   "id": "aec588e2-6e0f-4b6b-80fb-9bcbcb4cdded",
   "metadata": {},
   "outputs": [
    {
     "data": {
      "text/plain": [
       "quad_dynamics_rk4 (generic function with 1 method)"
      ]
     },
     "execution_count": 9,
     "metadata": {},
     "output_type": "execute_result"
    }
   ],
   "source": [
    "function quad_dynamics_rk4(x,u)\n",
    "    #RK4 integration with zero-order hold on u\n",
    "    f1 = quad_dynamics(x, u)\n",
    "    f2 = quad_dynamics(x + 0.5*h*f1, u)\n",
    "    f3 = quad_dynamics(x + 0.5*h*f2, u)\n",
    "    f4 = quad_dynamics(x + h*f3, u)\n",
    "    xn = x + (h/6.0)*(f1 + 2*f2 + 2*f3 + f4)\n",
    "    xn[4:7] .= xn[4:7]/norm(xn[4:7]) #re-normalize quaternion\n",
    "    return xn\n",
    "end"
   ]
  },
  {
   "cell_type": "markdown",
   "id": "9fde5d89-81a2-4850-8aff-6d905f28515b",
   "metadata": {},
   "source": [
    "# **Prepare Simulation**"
   ]
  },
  {
   "cell_type": "code",
   "execution_count": 10,
   "id": "8ec003cf-9eb0-4670-8663-5a833d83b46f",
   "metadata": {},
   "outputs": [],
   "source": [
    "#Initial Conditions\n",
    "uhover = (m*g/4)*ones(4)\n",
    "r0 = [0.0; 0; 1.0]\n",
    "q0 = [1.0; 0; 0; 0]\n",
    "v0 = zeros(3)\n",
    "ω0 = zeros(3)\n",
    "x0 = [r0; q0; v0; ω0];\n",
    "\n",
    "# Cost weights\n",
    "Q = Array(I(Nx̃));\n",
    "R = Array(.1*I(Nu));"
   ]
  },
  {
   "cell_type": "markdown",
   "id": "33a51321-287c-4288-8f49-aed734b139a6",
   "metadata": {},
   "source": [
    "## Linearize dynamics about hover"
   ]
  },
  {
   "cell_type": "code",
   "execution_count": 11,
   "id": "bf3e68fe-9a02-4200-800b-33c9c0b896fc",
   "metadata": {},
   "outputs": [],
   "source": [
    "A = ForwardDiff.jacobian(_x -> quad_dynamics_rk4(_x, uhover), x0)\n",
    "B = ForwardDiff.jacobian(_u -> quad_dynamics_rk4(x0, _u), uhover);"
   ]
  },
  {
   "cell_type": "markdown",
   "id": "942c1a82-242e-41c9-8a27-d06a6a1b6799",
   "metadata": {},
   "source": [
    "## Check the rank and controllablity of A "
   ]
  },
  {
   "cell_type": "code",
   "execution_count": 12,
   "id": "d4123cb1-d1b1-45fb-a3bd-5947e687d34e",
   "metadata": {},
   "outputs": [
    {
     "data": {
      "text/plain": [
       "12"
      ]
     },
     "execution_count": 12,
     "metadata": {},
     "output_type": "execute_result"
    }
   ],
   "source": [
    "rank(A)#The naive A matrix will always be rank deficient due to the unit-norm constraint on the quaternion"
   ]
  },
  {
   "cell_type": "code",
   "execution_count": 13,
   "id": "8f73cc8f-2981-47ad-b111-34b962faccb1",
   "metadata": {},
   "outputs": [
    {
     "data": {
      "text/plain": [
       "12"
      ]
     },
     "execution_count": 13,
     "metadata": {},
     "output_type": "execute_result"
    }
   ],
   "source": [
    "#Controlability Matrix\n",
    "C = B\n",
    "for k = 1:(Nx-1)\n",
    "    C = [C A*C[:,end-(Nu-1):end]]\n",
    "end\n",
    "rank(C) #The naive linearized system will always be uncontrollable"
   ]
  },
  {
   "cell_type": "markdown",
   "id": "8dc60180-b9ce-4431-8eee-fce85c3177f7",
   "metadata": {},
   "source": [
    "## Reduced system (Transform Quaternion into RP) & Check the rank and controllability again"
   ]
  },
  {
   "cell_type": "code",
   "execution_count": 14,
   "id": "2df904c8-48e6-49f5-953e-6b94b467d870",
   "metadata": {},
   "outputs": [],
   "source": [
    "# Array parsing required for dlqr input\n",
    "Ã = Array(E(q0)' * A * E(q0))\n",
    "B̃ = Array(E(q0)' * B);"
   ]
  },
  {
   "cell_type": "code",
   "execution_count": 15,
   "id": "390e1968-246a-402e-ba1b-806dc309a88e",
   "metadata": {},
   "outputs": [
    {
     "data": {
      "text/plain": [
       "12"
      ]
     },
     "execution_count": 15,
     "metadata": {},
     "output_type": "execute_result"
    }
   ],
   "source": [
    "#Controlability Matrix\n",
    "C = B̃\n",
    "for k = 1:(Nx-1)\n",
    "    C = [C Ã*C[:,end-(Nu-1):end]]\n",
    "end\n",
    "rank(C) #Reduced system is controllable"
   ]
  },
  {
   "cell_type": "code",
   "execution_count": 16,
   "id": "ea460aaa-c3b0-4ad3-89eb-f46d476285e9",
   "metadata": {},
   "outputs": [
    {
     "data": {
      "text/plain": [
       "4×12 Matrix{Float64}:\n",
       " -0.114603     -4.57809e-14  1.1308   7.39451e-14  …  -0.147816      0.681679\n",
       " -9.67035e-14  -0.114603     1.1308   1.39421         -8.87894e-15  -0.681679\n",
       "  0.114603     -6.63817e-14  1.1308   1.74249e-13      0.147816      0.681679\n",
       " -2.35249e-14   0.114603     1.1308  -1.39421          3.70839e-15  -0.681679"
      ]
     },
     "execution_count": 16,
     "metadata": {},
     "output_type": "execute_result"
    }
   ],
   "source": [
    "K = dlqr(Ã, B̃, Q, R)"
   ]
  },
  {
   "cell_type": "code",
   "execution_count": 17,
   "id": "8b87a85c-7415-40ed-a098-bad319593eaf",
   "metadata": {},
   "outputs": [
    {
     "data": {
      "text/plain": [
       "controller (generic function with 1 method)"
      ]
     },
     "execution_count": 17,
     "metadata": {},
     "output_type": "execute_result"
    }
   ],
   "source": [
    "#Feedback controller\n",
    "function controller(x)\n",
    "    q0 = x0[4:7]\n",
    "    q = x[4:7]\n",
    "    ϕ = qtorp(L(q0)'*q)\n",
    "\n",
    "    Δx = [\n",
    "        x[1:3] - r0;\n",
    "        ϕ;\n",
    "        x[8:10] - v0;\n",
    "        x[11:13] - ω0\n",
    "    ]\n",
    "\n",
    "    u = uhover - K*Δx\n",
    "end"
   ]
  },
  {
   "cell_type": "markdown",
   "id": "2fd64210-b9b6-44f1-9232-a74686c65391",
   "metadata": {},
   "source": [
    "## Simulation"
   ]
  },
  {
   "cell_type": "code",
   "execution_count": 22,
   "id": "2b50efc1-f4a5-4aa7-8a2f-f013fe6943a7",
   "metadata": {},
   "outputs": [],
   "source": [
    "xhist = zeros(Nx, Nt)\n",
    "uhist = zeros(Nu, Nt)\n",
    "xhist[:,1] = [r0+randn(3); L(q0)*rptoq(0.5*randn(3)); v0; ω0]\n",
    "for k in 1:(Nt-1)\n",
    "    uhist[:,k] = controller(xhist[:,k])\n",
    "    xhist[:,k+1] = quad_dynamics_rk4(xhist[:,k],uhist[:,k])\n",
    "end"
   ]
  },
  {
   "cell_type": "code",
   "execution_count": 23,
   "id": "a4a2d18c-9edc-4846-9715-efa9a912c9d5",
   "metadata": {},
   "outputs": [
    {
     "name": "stderr",
     "output_type": "stream",
     "text": [
      "\u001b[36m\u001b[1m┌ \u001b[22m\u001b[39m\u001b[36m\u001b[1mInfo: \u001b[22m\u001b[39mMeshCat server started. You can open the visualizer by visiting the following URL in your browser:\n",
      "\u001b[36m\u001b[1m└ \u001b[22m\u001b[39mhttp://127.0.0.1:8702\n"
     ]
    },
    {
     "data": {
      "text/html": [
       "    <div style=\"height: 500px; width: 100%; overflow-x: auto; overflow-y: hidden; resize: both\">\n",
       "    <iframe src=\"http://127.0.0.1:8702\" style=\"width: 100%; height: 100%; border: none\"></iframe>\n",
       "    </div>\n"
      ],
      "text/plain": [
       "MeshCat.DisplayedVisualizer(MeshCat.CoreVisualizer(MeshCat.SceneTrees.SceneNode(nothing, nothing, Dict{String, Vector{UInt8}}(), nothing, Dict{String, MeshCat.SceneTrees.SceneNode}()), Set{Any}(), ip\"127.0.0.1\", 8702))"
      ]
     },
     "execution_count": 23,
     "metadata": {},
     "output_type": "execute_result"
    }
   ],
   "source": [
    "#Set up visualization\n",
    "using TrajOptPlots\n",
    "using MeshCat\n",
    "using StaticArrays\n",
    "using RobotZoo:Quadrotor\n",
    "\n",
    "vis = Visualizer()\n",
    "render(vis)"
   ]
  },
  {
   "cell_type": "code",
   "execution_count": 24,
   "id": "df03b171-1ecb-4d4a-b08d-ad3e265ef8d8",
   "metadata": {},
   "outputs": [
    {
     "data": {
      "text/plain": [
       "false"
      ]
     },
     "execution_count": 24,
     "metadata": {},
     "output_type": "execute_result"
    }
   ],
   "source": [
    "model = Quadrotor()\n",
    "TrajOptPlots.set_mesh!(vis, model)"
   ]
  },
  {
   "cell_type": "code",
   "execution_count": 25,
   "id": "f8f434b3-c3a8-40bc-9c7a-dab168c84285",
   "metadata": {},
   "outputs": [],
   "source": [
    "X1 = [SVector{13}(x) for x in eachcol(xhist)];\n",
    "visualize!(vis, model, thist[end], X1)"
   ]
  },
  {
   "cell_type": "markdown",
   "id": "17bfdb8f-2c90-4172-837b-035cccaa56f1",
   "metadata": {},
   "source": [
    "## Let's try another initial guess"
   ]
  },
  {
   "cell_type": "code",
   "execution_count": 26,
   "id": "7179b893-6731-461a-a2c3-ccbc0c1ddb96",
   "metadata": {},
   "outputs": [],
   "source": [
    "xhist = zeros(Nx, Nt)\n",
    "uhist = zeros(Nu, Nt)\n",
    "xhist[:,1] = [r0+randn(3); L(q0)*rptoq(0.7*randn(3)); v0; ω0]\n",
    "for k in 1:(Nt-1)\n",
    "    uhist[:,k] = controller(xhist[:,k])\n",
    "    xhist[:,k+1] = quad_dynamics_rk4(xhist[:,k],uhist[:,k])\n",
    "end"
   ]
  },
  {
   "cell_type": "code",
   "execution_count": 27,
   "id": "1e04efc7-9b20-4a02-aca8-c4420e9f85b4",
   "metadata": {},
   "outputs": [
    {
     "name": "stderr",
     "output_type": "stream",
     "text": [
      "\u001b[36m\u001b[1m┌ \u001b[22m\u001b[39m\u001b[36m\u001b[1mInfo: \u001b[22m\u001b[39mMeshCat server started. You can open the visualizer by visiting the following URL in your browser:\n",
      "\u001b[36m\u001b[1m└ \u001b[22m\u001b[39mhttp://127.0.0.1:8703\n"
     ]
    },
    {
     "data": {
      "text/html": [
       "    <div style=\"height: 500px; width: 100%; overflow-x: auto; overflow-y: hidden; resize: both\">\n",
       "    <iframe src=\"http://127.0.0.1:8703\" style=\"width: 100%; height: 100%; border: none\"></iframe>\n",
       "    </div>\n"
      ],
      "text/plain": [
       "MeshCat.DisplayedVisualizer(MeshCat.CoreVisualizer(MeshCat.SceneTrees.SceneNode(nothing, nothing, Dict{String, Vector{UInt8}}(), nothing, Dict{String, MeshCat.SceneTrees.SceneNode}()), Set{Any}(), ip\"127.0.0.1\", 8703))"
      ]
     },
     "execution_count": 27,
     "metadata": {},
     "output_type": "execute_result"
    }
   ],
   "source": [
    "#Set up visualization\n",
    "using TrajOptPlots\n",
    "using MeshCat\n",
    "using StaticArrays\n",
    "using RobotZoo:Quadrotor\n",
    "\n",
    "vis = Visualizer()\n",
    "render(vis)"
   ]
  },
  {
   "cell_type": "code",
   "execution_count": 28,
   "id": "e2a2191a-02d6-422a-9d6c-74430ad5beb4",
   "metadata": {},
   "outputs": [],
   "source": [
    "model = Quadrotor()\n",
    "TrajOptPlots.set_mesh!(vis, model)\n",
    "X1 = [SVector{13}(x) for x in eachcol(xhist)];\n",
    "visualize!(vis, model, thist[end], X1)"
   ]
  },
  {
   "cell_type": "markdown",
   "id": "a9a7c3dc-9f04-40f1-980a-e362a3f7d045",
   "metadata": {},
   "source": [
    "## LQR works well in even harsh inital guess"
   ]
  },
  {
   "cell_type": "code",
   "execution_count": 29,
   "id": "1925725d-6f3d-47bc-9a92-c9aa79ca509f",
   "metadata": {},
   "outputs": [],
   "source": [
    "xhist = zeros(Nx, Nt)\n",
    "uhist = zeros(Nu, Nt)\n",
    "xhist[:,1] = [r0+randn(3); L(q0)*rptoq([1; 0; 0]); v0; ω0]\n",
    "for k in 1:(Nt-1)\n",
    "    uhist[:,k] = controller(xhist[:,k])\n",
    "    xhist[:,k+1] = quad_dynamics_rk4(xhist[:,k],uhist[:,k])\n",
    "end"
   ]
  },
  {
   "cell_type": "code",
   "execution_count": 32,
   "id": "02077d74-054b-44f2-93ec-127c8faaaff5",
   "metadata": {},
   "outputs": [
    {
     "name": "stderr",
     "output_type": "stream",
     "text": [
      "\u001b[36m\u001b[1m┌ \u001b[22m\u001b[39m\u001b[36m\u001b[1mInfo: \u001b[22m\u001b[39mMeshCat server started. You can open the visualizer by visiting the following URL in your browser:\n",
      "\u001b[36m\u001b[1m└ \u001b[22m\u001b[39mhttp://127.0.0.1:8706\n"
     ]
    },
    {
     "data": {
      "text/html": [
       "    <div style=\"height: 500px; width: 100%; overflow-x: auto; overflow-y: hidden; resize: both\">\n",
       "    <iframe src=\"http://127.0.0.1:8706\" style=\"width: 100%; height: 100%; border: none\"></iframe>\n",
       "    </div>\n"
      ],
      "text/plain": [
       "MeshCat.DisplayedVisualizer(MeshCat.CoreVisualizer(MeshCat.SceneTrees.SceneNode(nothing, nothing, Dict{String, Vector{UInt8}}(), nothing, Dict{String, MeshCat.SceneTrees.SceneNode}()), Set{Any}(), ip\"127.0.0.1\", 8706))"
      ]
     },
     "execution_count": 32,
     "metadata": {},
     "output_type": "execute_result"
    }
   ],
   "source": [
    "#Set up visualization\n",
    "using TrajOptPlots\n",
    "using MeshCat\n",
    "using StaticArrays\n",
    "using RobotZoo:Quadrotor\n",
    "\n",
    "vis = Visualizer()\n",
    "render(vis)"
   ]
  },
  {
   "cell_type": "code",
   "execution_count": 33,
   "id": "59d08719-a6a3-4744-9e46-128d574d8f55",
   "metadata": {},
   "outputs": [],
   "source": [
    "model = Quadrotor()\n",
    "TrajOptPlots.set_mesh!(vis, model)\n",
    "X1 = [SVector{13}(x) for x in eachcol(xhist)];\n",
    "visualize!(vis, model, thist[end], X1)"
   ]
  },
  {
   "cell_type": "code",
   "execution_count": null,
   "id": "7174e725-7376-4860-88f5-75b0330d3226",
   "metadata": {},
   "outputs": [],
   "source": []
  }
 ],
 "metadata": {
  "kernelspec": {
   "display_name": "Julia 1.6.7",
   "language": "julia",
   "name": "julia-1.6"
  },
  "language_info": {
   "file_extension": ".jl",
   "mimetype": "application/julia",
   "name": "julia",
   "version": "1.6.7"
  }
 },
 "nbformat": 4,
 "nbformat_minor": 5
}
