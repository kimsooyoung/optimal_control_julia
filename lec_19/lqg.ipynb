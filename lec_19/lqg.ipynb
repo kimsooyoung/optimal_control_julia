{
 "cells": [
  {
   "cell_type": "code",
   "execution_count": 1,
   "id": "f8a3bd70-079d-42e5-925f-0328a8657725",
   "metadata": {},
   "outputs": [
    {
     "name": "stderr",
     "output_type": "stream",
     "text": [
      "\u001b[32m\u001b[1m  Activating\u001b[22m\u001b[39m environment at `C:\\Users\\tge13\\Documents\\optimal_control_julia\\lec_19\\Project.toml`\n"
     ]
    }
   ],
   "source": [
    "import Pkg; Pkg.activate(@__DIR__); Pkg.instantiate()"
   ]
  },
  {
   "cell_type": "code",
   "execution_count": 2,
   "id": "bc71ef22-6de2-4f40-98ce-3d933dfc7106",
   "metadata": {},
   "outputs": [],
   "source": [
    "using LinearAlgebra\n",
    "using PyPlot\n",
    "using SparseArrays\n",
    "using ControlSystems\n",
    "using ForwardDiff"
   ]
  },
  {
   "cell_type": "code",
   "execution_count": 3,
   "id": "7e13e806-4bac-4fa0-ab63-679aaa53643b",
   "metadata": {},
   "outputs": [
    {
     "data": {
      "text/plain": [
       "1×2 Matrix{Float64}:\n",
       " 1.0  0.0"
      ]
     },
     "execution_count": 3,
     "metadata": {},
     "output_type": "execute_result"
    }
   ],
   "source": [
    "# Discrete dynamics\n",
    "h = 0.1   # time step\n",
    "A = [1 h; 0 1]\n",
    "B = [0.5*h*h; h]\n",
    "C = [1.0 0]"
   ]
  },
  {
   "cell_type": "code",
   "execution_count": 4,
   "id": "5e3da132-9212-49a2-9d85-8199beae0eab",
   "metadata": {},
   "outputs": [
    {
     "data": {
      "text/plain": [
       "0.1"
      ]
     },
     "execution_count": 4,
     "metadata": {},
     "output_type": "execute_result"
    }
   ],
   "source": [
    "# Noise Covariances\n",
    "W = B*0.1*B' #Corresponds to white noise force input to dynamics\n",
    "V = 0.1 #Noise on position measurements"
   ]
  },
  {
   "cell_type": "code",
   "execution_count": 5,
   "id": "87a50558-c7a0-435e-83ab-c982ceba8bf9",
   "metadata": {},
   "outputs": [],
   "source": [
    "n = 2     # number of state\n",
    "m = 1     # number of controls\n",
    "Tfinal = 10.0 # final time\n",
    "N = Int(Tfinal/h)+1    # number of time steps\n",
    "thist = Array(range(0,h*(N-1), step=h));"
   ]
  },
  {
   "cell_type": "code",
   "execution_count": 6,
   "id": "55ec4049-4cdb-47ca-b37d-9e402f18ad34",
   "metadata": {},
   "outputs": [
    {
     "data": {
      "text/plain": [
       "2×2 Matrix{Float64}:\n",
       " 1.0  0.0\n",
       " 0.0  1.0"
      ]
     },
     "execution_count": 6,
     "metadata": {},
     "output_type": "execute_result"
    }
   ],
   "source": [
    "# LQR Cost weights\n",
    "Q = Array(1.0*I(n))\n",
    "R = Array(0.1*I(m))\n",
    "Qn = Q"
   ]
  },
  {
   "cell_type": "code",
   "execution_count": 7,
   "id": "41cbec2b-233b-47ad-9ff1-f16bc7a4207c",
   "metadata": {},
   "outputs": [
    {
     "data": {
      "text/plain": [
       "J (generic function with 1 method)"
      ]
     },
     "execution_count": 7,
     "metadata": {},
     "output_type": "execute_result"
    }
   ],
   "source": [
    "#Cost function\n",
    "function J(xhist,uhist)\n",
    "    cost = 0.5*xhist[:,end]'*Qn*xhist[:,end]\n",
    "    for k = 1:(size(xhist,2)-1)\n",
    "        cost = cost + 0.5*xhist[:,k]'*Q*xhist[:,k] + 0.5*(uhist[k]'*R*uhist[k])[1]\n",
    "    end\n",
    "    return cost\n",
    "end"
   ]
  },
  {
   "cell_type": "code",
   "execution_count": 8,
   "id": "05bafaba-dd76-4f86-8a16-b9cb07f0cb97",
   "metadata": {},
   "outputs": [
    {
     "data": {
      "text/plain": [
       "1×2 Matrix{Float64}:\n",
       " 2.5857  3.44344"
      ]
     },
     "execution_count": 8,
     "metadata": {},
     "output_type": "execute_result"
    }
   ],
   "source": [
    "#Infinite-Horizon LQR Gain and cost-to-go\n",
    "P = dare(A,B,Q,R)\n",
    "K = dlqr(A,B,Q,R)"
   ]
  },
  {
   "cell_type": "code",
   "execution_count": 9,
   "id": "0ce5e70f-c45d-486b-9a99-3cd4c534132f",
   "metadata": {},
   "outputs": [
    {
     "data": {
      "text/plain": [
       "2-element Vector{Float64}:\n",
       " 0.0\n",
       " 0.0"
      ]
     },
     "execution_count": 9,
     "metadata": {},
     "output_type": "execute_result"
    }
   ],
   "source": [
    "# Initial conditions\n",
    "x0 = [1.0; 0] #True state\n",
    "\n",
    "#Filter state\n",
    "Σ0 = Array(1.0*I(2))\n",
    "x̂0 = [0.0; 0.0]"
   ]
  },
  {
   "cell_type": "code",
   "execution_count": 10,
   "id": "3a91498c-c9f3-44ee-b183-b332fe6c8ffc",
   "metadata": {},
   "outputs": [],
   "source": [
    "# Ground Truth\n",
    "xhist = zeros(n,N)\n",
    "xhist[:,1] .= x0;\n",
    "\n",
    "uhist = zeros(N)\n",
    "yhist = zeros(N)\n",
    "x̂hist = zeros(n,N)\n",
    "Σhist = zeros(n,n,N);"
   ]
  },
  {
   "cell_type": "code",
   "execution_count": 11,
   "id": "dbd85ccc-42e1-4b60-86e8-0797301744a5",
   "metadata": {},
   "outputs": [
    {
     "data": {
      "text/plain": [
       "2-element view(::Matrix{Float64}, :, 2) with eltype Float64:\n",
       "  0.9867745732681198\n",
       " -0.2645085346468284"
      ]
     },
     "execution_count": 11,
     "metadata": {},
     "output_type": "execute_result"
    }
   ],
   "source": [
    "#Initial Time Step\n",
    "\n",
    "#Generate Measurement\n",
    "yhist[1] = (C*xhist[:,1])[1] + sqrt(V)*randn()\n",
    "\n",
    "z = yhist[1] - (C*x̂0)[1] #Innovation\n",
    "S = (C*Σ0*C')[1] + V #Innovation Covariance\n",
    "\n",
    "L = Σ0*C'*inv(S) #Kalman Gain\n",
    "\n",
    "x̂hist[:,1] = x̂0 + L*z\n",
    "Σhist[:,:,1] .= (I-L*C)*Σ0*(I-L*C)' + L*V*L'\n",
    "\n",
    "uhist[1] = -(K*x̂hist[:,1])[1] #Control input\n",
    "\n",
    "xhist[:,2] .= A*xhist[:,1] + B*uhist[1] + sqrt(W)*randn(n) #Simulate with stochastic dynamics"
   ]
  },
  {
   "cell_type": "code",
   "execution_count": 12,
   "id": "6dae90a3-948a-40de-9708-cd5f51c1bd46",
   "metadata": {},
   "outputs": [],
   "source": [
    "for k = 2:(N-1)\n",
    "    \n",
    "    #Generate measurement\n",
    "    yhist[k] = (C*xhist[:,k])[1] + sqrt(V)*randn()\n",
    "\n",
    "    #KF Update\n",
    "    x̃ = A*x̂hist[:,k-1] + B*uhist[k-1] #State Prediction\n",
    "    Σ̃ = A*Σhist[:,:,k-1]*A' + W #Covariance Prediction\n",
    "\n",
    "    z = yhist[k] - (C*x̃)[1] #Innovation\n",
    "    S = (C*Σ̃*C')[1] + V #Innovation Covariance\n",
    "\n",
    "    L = Σ̃*C'*inv(S) #Kalman Gain\n",
    "\n",
    "    x̂hist[:,k] = x̃ + L*z\n",
    "    Σhist[:,:,k] = (I-L*C)*Σ̃*(I-L*C)' + L*V*L'\n",
    "\n",
    "    #LQR Controller\n",
    "    uhist[k] = -(K*x̂hist[:,k])[1]\n",
    "    \n",
    "    #Run this on the stochastic dynamics\n",
    "    xhist[:,k+1] .= A*xhist[:,k] + B*uhist[k] + sqrt(W)*randn(n)\n",
    "end"
   ]
  },
  {
   "cell_type": "code",
   "execution_count": 13,
   "id": "b80c5056-0361-4be0-9cc8-f89094aecbb6",
   "metadata": {},
   "outputs": [
    {
     "data": {
      "image/png": "[encoded data removed]",
      "text/plain": [
       "Figure(PyObject <Figure size 640x480 with 1 Axes>)"
      ]
     },
     "metadata": {},
     "output_type": "display_data"
    },
    {
     "data": {
      "text/plain": [
       "1-element Vector{PyCall.PyObject}:\n",
       " PyObject <matplotlib.lines.Line2D object at 0x000000006A16BD30>"
      ]
     },
     "execution_count": 13,
     "metadata": {},
     "output_type": "execute_result"
    }
   ],
   "source": [
    "plot(xhist[1,:])\n",
    "plot(x̂hist[1,:])"
   ]
  },
  {
   "cell_type": "code",
   "execution_count": 14,
   "id": "6fe7606d-3ba8-48a0-84c7-26890e2d393e",
   "metadata": {},
   "outputs": [
    {
     "data": {
      "image/png": "[encoded data removed]",
      "text/plain": [
       "Figure(PyObject <Figure size 640x480 with 1 Axes>)"
      ]
     },
     "metadata": {},
     "output_type": "display_data"
    },
    {
     "data": {
      "text/plain": [
       "1-element Vector{PyCall.PyObject}:\n",
       " PyObject <matplotlib.lines.Line2D object at 0x0000000001CB3F70>"
      ]
     },
     "execution_count": 14,
     "metadata": {},
     "output_type": "execute_result"
    }
   ],
   "source": [
    "#Covariance and Kalman gain converge to steady-state values in the LTI case\n",
    "#(just like LQR gain + cost-to-go Hessian)\n",
    "plot(Σhist[1,1,1:N-1])\n",
    "plot(Σhist[2,2,1:N-1])\n",
    "plot(Σhist[1,2,1:N-1])"
   ]
  },
  {
   "cell_type": "code",
   "execution_count": 15,
   "id": "76692abb-efbe-41f2-a89a-d7e17f1ae7e0",
   "metadata": {},
   "outputs": [
    {
     "data": {
      "text/plain": [
       "2×1 Matrix{Float64}:\n",
       " 0.13185116517964043\n",
       " 0.09317476869888432"
      ]
     },
     "execution_count": 15,
     "metadata": {},
     "output_type": "execute_result"
    }
   ],
   "source": [
    "L"
   ]
  },
  {
   "cell_type": "code",
   "execution_count": null,
   "id": "935bb70c-c2c1-43fe-bb41-94cb6b216ae4",
   "metadata": {},
   "outputs": [],
   "source": []
  }
 ],
 "metadata": {
  "kernelspec": {
   "display_name": "Julia 1.6.7",
   "language": "julia",
   "name": "julia-1.6"
  },
  "language_info": {
   "file_extension": ".jl",
   "mimetype": "application/julia",
   "name": "julia",
   "version": "1.6.7"
  }
 },
 "nbformat": 4,
 "nbformat_minor": 5
}
